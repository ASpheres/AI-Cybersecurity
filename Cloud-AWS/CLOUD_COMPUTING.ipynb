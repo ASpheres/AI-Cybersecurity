{
 "cells": [
  {
   "cell_type": "markdown",
   "id": "8dc287b4",
   "metadata": {
    "slideshow": {
     "slide_type": "slide"
    }
   },
   "source": [
    "<a href=\"https://asphere.fr/\">\n",
    "    <img src=\"logo2.png\" width=\"500\" height=\"400\" style=\"display: block; margin: 0 auto;\">\n",
    "</a>\n",
    "<h1 style=\"text-align: center; font-family: 'Times New Roman', Times,serif ; color: purple; margin-right: 25px; margin-left: 70px;\">INTRODUCTION TO CLOUD COMPUTING</h1>\n",
    "<h4 style=\"text-align: center; font-family: 'Times New Roman', Times,serif ; color: black; margin-right: 25px; margin-left: 70px;\">AWS</h4>\n",
    "<h5 style=\"text-align: center; font-family: 'Times New Roman', Times,serif ; color: black; margin-right: 25px; margin-left: 70px;\">DURATION: Three Days (21 Hrs)</h5>\n",
    "<h4 style=\"text-align: center; font-family: 'Times New Roman', Times,serif ; color: black; margin-right: 25px; margin-left: 70px;\">OBJECTIVES</h4>\n",
    "<a href=\"https://asphere.fr/\">\n",
    "    <img src=\"introduction-to-cloud-computing-1.png\" width=\"100\" height=\"100\" style=\"float: right; margin-right: 25px; margin-left: 70px;\">\n",
    "</a>\n",
    "<h5 style=\"text-align: center; font-family: 'Times New Roman', Times,serif ; color: purple; margin-right: 90px; margin-left: 225px;\">Writing Shell scripts: awk, sed, egrep</h5>"
   ]
  },
  {
   "cell_type": "markdown",
   "id": "ae24e6a1",
   "metadata": {
    "slideshow": {
     "slide_type": "subslide"
    }
   },
   "source": [
    "<h3 style='color:red; font-weight:bold; text-align:center; font-family: \"Times New Roman\", Times, serif;'>OVERVIEW</h3>\n",
    "\n",
    "<p align='justify' style='margin: 10px 20px; line-height:1.5; font-family: \"Times New Roman\", Times, serif; font-size:16px;'>\n",
    "  This course provides an introduction to cloud computing and Amazon Web Services (AWS), one of the most popular cloud platforms in the world. It covers various AWS services, including EC2, S3, Lambda, DynamoDB, and MongoDB, and explores how to use these services to build scalable and secure applications.<br><br>The course starts with the basics of AWS, including setting up an AWS account and accessing the management console. It then provides an overview of different AWS services, such as EC2, S3, Lambda, DynamoDB, and MongoDB, and explains how they can be used to store and manage data, process and transform data, and deploy web applications.<br><br>In the storage and data management section, the course covers creating an S3 bucket and storing files in it, configuring S3 bucket policies for secure access control, creating a DynamoDB table and adding data to it, and querying and managing data in DynamoDB.\n",
    "</p><br>\n",
    "\n",
    "<p align='justify' style='margin: 10px 20px; line-height:1.5; font-family: \"Times New Roman\", Times, serif; font-size:16px;'>\n",
    "  The serverless computing section covers creating a Lambda function and triggering it with various events, using Lambda to process and transform data, and integrating Lambda with S3 and DynamoDB. The section also covers debugging and troubleshooting Lambda functions.<br><br>The section on deploying web applications with EC2 covers launching an EC2 instance with the appropriate software and configuration, cloning a GitHub repository and running a Flask web application on EC2, configuring Elastic IP and port forwarding for URL redirection, and securing EC2 instances with security groups and IAM roles.<br><br>The section on using MongoDB on EC2 covers installing and configuring MongoDB on an EC2 instance, connecting to MongoDB from an EC2 instance and manipulating data, and securing MongoDB with access control and authentication.\n",
    "</p><br>\n",
    "\n",
    "<p align='justify' style='margin: 10px 20px; line-height:1.5; font-family: \"Times New Roman\", Times, serif; font-size:16px; color: purple'>\n",
    "  Finally, the course covers infrastructure as code with Ansible and Terraform, which are tools for automating infrastructure management. It covers writing Ansible playbooks for deploying applications and configuring servers, creating and deploying Terraform templates for AWS resources, and managing and monitoring infrastructure changes with version control.\n",
    "</p>"
   ]
  },
  {
   "cell_type": "markdown",
   "id": "6e5db5b4",
   "metadata": {
    "slideshow": {
     "slide_type": "slide"
    }
   },
   "source": [
    "<h2 style='color:red; font-weight:bold; text-align:center; font-family: \"Times New Roman\", Times, serif; font-size:22px;'>INTRODUCTION TO CLOUD COMPUTING<br>WITH AWS</h2><br>\n",
    "\n",
    "<p align='justify' style='margin: 10px 20px; line-height:1.5; font-family: \"Times New Roman\", Times, serif; font-size:16px; color: purple'>\n",
    "    <strong> Introduction to AWS</strong> \n",
    "    \n",
    "  <ul style='font-family: \"Times New Roman\", Times, serif; font-weight:light; font-size:16px;'>\n",
    "      <li><b>Introduction to cloud computing and AWS  </b></li>\n",
    "      <li><b>Setting up an AWS account and accessing the management console  </b></li>\n",
    "      <li><b>Creating a second user account and an IAM user with appropriate permissions  </b></li>\n",
    "      <li><b>Overview of EC2, S3, Lambda, DynamoDB, and MongoDB   </b></li>\n",
    "      <li><b>Launching an EC2 instance and connecting to it  </b></li>\n",
    "      \n",
    "    \n",
    "    \n",
    "  </ul>\n",
    "</p><br>\n",
    "\n",
    "<img src=\"1_4l674BGwa6MCmwcMIhIYNg.png\" width=\"150\" height=\"250\" style=\"float: left; margin-right: 20px; margin-left: 20px;\">\n",
    "<p align='justify' style='margin: 10px 20px; line-height:1.5; font-family: \"Times New Roman\", Times, serif; font-size:16px; color: purple'>\n",
    "  Cloud computing is a model for delivering on-demand computing services over the internet, including servers, storage, databases, and software. It allows businesses and individuals to access computing resources without having to manage the underlying infrastructure.\n",
    "\n",
    "</p><br>\n",
    "<p align='justify' style='margin: 10px 20px; line-height:1.5; font-family: \"Times New Roman\", Times, serif; font-size:16px;'>\n",
    "  This provides several benefits, including increased efficiency, scalability, cost savings, and flexibility.\n",
    "\n",
    "</p>\n",
    "<p align='justify' style='margin: 10px 20px; line-height:1.5; font-family: \"Times New Roman\", Times, serif; font-size:16px;'>\n",
    "  Cloud computing services are typically provided by third-party providers and can be accessed from anywhere with an internet connection. Users only pay for the computing resources they use, which can help to reduce costs and increase efficiency.\n",
    "\n",
    "\n",
    "\n",
    "</p>"
   ]
  },
  {
   "cell_type": "markdown",
   "id": "64e0694c",
   "metadata": {
    "slideshow": {
     "slide_type": "subslide"
    }
   },
   "source": [
    "<p align='justify' style='margin: 10px 20px; line-height:1.5; font-family: \"Times New Roman\", Times, serif; font-size:16px; color: purple'>\n",
    "    <strong> There are three primary types of cloud computing services:</strong> \n",
    "    \n",
    "  <ul style='font-family: \"Times New Roman\", Times, serif; font-weight:light; font-size:16px;'>\n",
    "      <li><b>Infrastructure as a Service (IaaS): </b>Provides access to virtualized computing resources, such as servers, storage, and networking.</li><br>\n",
    "      <li><b>Platform as a Service (PaaS): </b> Provides a platform for developing and deploying applications, including an operating system, programming language, and other software tools.</li><br>\n",
    "      <li><b>Software as a Service (SaaS):  </b>Provides fully functional applications that can be accessed over the internet, including email, customer relationship management (CRM), and productivity software.</li>\n",
    "      \n",
    "      \n",
    "    \n",
    "    \n",
    "  </ul>\n",
    "</p>"
   ]
  },
  {
   "cell_type": "markdown",
   "id": "a59d676d",
   "metadata": {
    "slideshow": {
     "slide_type": "subslide"
    }
   },
   "source": [
    "<h3 style='color:red; font-weight:bold; text-align:center; font-family: \"Times New Roman\", Times, serif; font-size:20px;'>Introduction to AWS</h3><br>\n",
    "<img src=\"maxresdefault.jpg\" width=\"150\" height=\"250\" style=\"float: left; margin-right: 20px; margin-left: 20px;\">\n",
    "<p align='justify' style='margin: 10px 20px; line-height:1.5; font-family: \"Times New Roman\", Times, serif; font-size:16px; color: purple'>\n",
    "  Amazon Web Services (AWS) is a popular cloud computing service provider that offers a wide range of services and solutions for businesses and individuals. It provides a global infrastructure of data centers and edge locations, making it easier for users to choose the regions where their data is stored and processed.\n",
    "\n",
    "</p><br>\n",
    "\n",
    "<p align='justify' style='margin: 10px 20px; line-height:1.5; font-family: \"Times New Roman\", Times, serif; font-size:16px; color: purple'>\n",
    "    <strong> AWS offers several services that are useful for businesses, including</strong> \n",
    "    \n",
    "  <ul style='font-family: \"Times New Roman\", Times, serif; font-weight:light; font-size:16px;'>\n",
    "      <li>Compute services, such as EC2 and Lambda, that provide virtual servers and computing power on demand.</li><br>\n",
    "      <li>Storage services, such as S3 and EBS, that provide scalable and reliable data storage.</li><br>\n",
    "      <li>Database services, such as RDS and DynamoDB, that provide managed and scalable database solutions.</li><br>\n",
    "      <li>Analytics services, such as Redshift and Athena, that provide data warehousing and data querying capabilities.</li><br>\n",
    "      <li>Machine learning services, such as SageMaker and Rekognition, that provide AI and machine learning capabilities.</li><br>\n",
    "  </ul>\n",
    "</p>\n",
    "<p align='justify' style='margin: 10px 20px; line-height:1.5; font-family: \"Times New Roman\", Times, serif; font-size:16px; color: purple'>\n",
    "  AWS offers several advantages, including its ease of use, scalability, and cost efficiency. By using AWS, businesses can reduce the cost of maintaining and managing their own infrastructure, while gaining access to a wide range of computing services and tools.\n",
    "</p>"
   ]
  },
  {
   "cell_type": "markdown",
   "id": "fdaa028b",
   "metadata": {
    "slideshow": {
     "slide_type": "subslide"
    }
   },
   "source": [
    "<h3 style='color:red; font-weight:bold; text-align:center; font-family: \"Times New Roman\", Times, serif; font-size:20px;'>Setting up an AWS account and accessing the management console  </h3><br>\n",
    "<img src=\"create-aws-account.jpg\" width=\"150\" height=\"200\" style=\"float: left; margin-right: 20px; margin-left: 20px;\">\n",
    "<p align='justify' style='margin: 20px; line-height:1.5; font-family: \"Times New Roman\", Times, serif; font-size:16px; color: black'>\n",
    "  To use AWS services, you need to create an account on the AWS website. The steps to set up an account are straightforward and can be completed in just a few minutes.\n",
    "\n",
    "</p><br><br><br>\n",
    "\n",
    "<p align='justify' style='margin: 10px 20px; line-height:1.5; font-family: \"Times New Roman\", Times, serif; font-size:16px; color: purple'>\n",
    "    <strong> To sign up for an AWS account, follow these steps:</strong><br>\n",
    "    \n",
    "  <ul style='font-family: \"Times New Roman\", Times, serif; font-weight:light; font-size:16px;'>\n",
    "      <li>Go to the AWS website and click the \"Create an AWS Account\" button.</li>\n",
    "      \n",
    "  </ul>\n",
    "</p>\n",
    "\n",
    "<img src=\"account_main.png\" width=\"900\" height=\"700\" style=\"float: center; margin-center: 50px; ; margin-left: 25px; margin-right: 5px\">"
   ]
  },
  {
   "cell_type": "markdown",
   "id": "c84decfa",
   "metadata": {
    "slideshow": {
     "slide_type": "subslide"
    }
   },
   "source": [
    "<p align='justify' style='margin: 10px 20px; line-height:1.5; font-family: \"Times New Roman\", Times, serif; font-size:16px; color: purple'>\n",
    "    \n",
    "    \n",
    "  <ul style='font-family: \"Times New Roman\", Times, serif; font-weight:light; font-size:16px; color: purple'>\n",
    "      <li>Enter your email address and choose a name for your account </li>\n",
    "      \n",
    "  </ul>\n",
    "</p>\n",
    "\n",
    "<img src=\"acoount3.png\" width=\"900\" height=\"700\" style=\"float: center; margin-center: 50px; ; margin-left: 25px; margin-right: 5px\">"
   ]
  },
  {
   "cell_type": "markdown",
   "id": "2e412fa9",
   "metadata": {
    "slideshow": {
     "slide_type": "subslide"
    }
   },
   "source": [
    "<p align='justify' style='margin: 10px 20px; line-height:1.5; font-family: \"Times New Roman\", Times, serif; font-size:16px; color: purple'>\n",
    "    \n",
    "    \n",
    "  <ul style='font-family: \"Times New Roman\", Times, serif; font-weight:light; font-size:16px; color: purple'>\n",
    "      <li>Enter the verification code received in your email</li>\n",
    "      \n",
    "  </ul>\n",
    "</p>\n",
    "\n",
    "<img src=\"2023-02-22_20-53WednesdayFebFebruary.png\" width=\"900\" height=\"700\" style=\"float: center; margin-center: 50px; ; margin-left: 25px; margin-right: 5px\">"
   ]
  },
  {
   "cell_type": "markdown",
   "id": "4d4b43a2",
   "metadata": {
    "slideshow": {
     "slide_type": "subslide"
    }
   },
   "source": [
    "<p align='justify' style='margin: 10px 20px; line-height:1.5; font-family: \"Times New Roman\", Times, serif; font-size:16px; color: purple'>\n",
    "    \n",
    "    \n",
    "  <ul style='font-family: \"Times New Roman\", Times, serif; font-weight:light; font-size:16px; color: purple'>\n",
    "      <li>Choose a secure password for your account </li>\n",
    "      \n",
    "  </ul>\n",
    "</p>\n",
    "\n",
    "<img src=\"2023-02-22_21-02WednesdayFebFebruary.png\" width=\"900\" height=\"700\" style=\"float: center; margin-center: 50px; ; margin-left: 25px; margin-right: 5px\">"
   ]
  },
  {
   "cell_type": "markdown",
   "id": "75874f26",
   "metadata": {
    "slideshow": {
     "slide_type": "subslide"
    }
   },
   "source": [
    "<p align='justify' style='margin: 10px 20px; line-height:1.5; font-family: \"Times New Roman\", Times, serif; font-size:16px; color: purple'>\n",
    "    \n",
    "    \n",
    "  <ul style='font-family: \"Times New Roman\", Times, serif; font-weight:light; font-size:16px; color: purple'>\n",
    "      <li>Enter your contact Information and press continue</li>\n",
    "      \n",
    "  </ul>\n",
    "</p>\n",
    "\n",
    "<img src=\"2023-02-23_14-38.png\" width=\"900\" height=\"700\" style=\"float: center; margin-center: 50px; ; margin-left: 25px; margin-right: 5px\">"
   ]
  },
  {
   "cell_type": "markdown",
   "id": "a7762d2b",
   "metadata": {
    "slideshow": {
     "slide_type": "subslide"
    }
   },
   "source": [
    "<p align='justify' style='margin: 10px 20px; line-height:1.5; font-family: \"Times New Roman\", Times, serif; font-size:16px; color: purple'>\n",
    "    \n",
    "    \n",
    "  <ul style='font-family: \"Times New Roman\", Times, serif; font-weight:light; font-size:16px; color: purple'>\n",
    "      <li>Enter your billing information, including your credit card information. AWS requires a valid credit card to verify your identity and prevent abuse of the free tier.</li>\n",
    "      \n",
    "  </ul>\n",
    "</p>\n",
    "\n",
    "<img src=\"2023-02-23_14-42.png\" width=\"900\" height=\"700\" style=\"float: center; margin-center: 50px; ; margin-left: 25px; margin-right: 5px\">"
   ]
  },
  {
   "cell_type": "markdown",
   "id": "73943b8d",
   "metadata": {
    "slideshow": {
     "slide_type": "subslide"
    }
   },
   "source": [
    "<p align='justify' style='margin: 10px 20px; line-height:1.5; font-family: \"Times New Roman\", Times, serif; font-size:16px; color: purple'>\n",
    "    \n",
    "    \n",
    "  <ul style='font-family: \"Times New Roman\", Times, serif; font-weight:light; font-size:16px; color: purple'>\n",
    "      <li>To verify your identity, AWS will ask you to enter a valid phone number. AWS will then call you with a verification code that you must enter on the website to complete the verification process.</li>\n",
    "      \n",
    "  </ul>\n",
    "</p>\n",
    "\n",
    "<img src=\"2023-02-23_14-46.png\" width=\"900\" height=\"700\" style=\"float: center; margin-center: 50px; ; margin-left: 25px; margin-right: 5px\">"
   ]
  },
  {
   "cell_type": "markdown",
   "id": "7851db99",
   "metadata": {
    "slideshow": {
     "slide_type": "subslide"
    }
   },
   "source": [
    "<p align='justify' style='margin: 10px 20px; line-height:1.5; font-family: \"Times New Roman\", Times, serif; font-size:16px; color: purple'>\n",
    "    \n",
    "    \n",
    "  <ul style='font-family: \"Times New Roman\", Times, serif; font-weight:light; font-size:16px; color: purple'>\n",
    "      <li>By following these steps, you can quickly and easily set up an AWS account and start using the AWS Management Console. if everything was successful, you will see the screen below </li>\n",
    "      \n",
    "  </ul>\n",
    "</p>\n",
    "\n",
    "<img src=\"2023-02-23_14-54.png\" width=\"900\" height=\"700\" style=\"float: center; margin-center: 50px; ; margin-left: 25px; margin-right: 5px\"><br>\n",
    "<p align='justify' style='margin: 10px 20px; line-height:1.5; font-family: \"Times New Roman\", Times, serif; font-size:16px; color: purple'>\n",
    "  You can click on Go to Management Console to login to your new account \n",
    "</p>"
   ]
  },
  {
   "cell_type": "markdown",
   "id": "5123e5bf",
   "metadata": {
    "slideshow": {
     "slide_type": "subslide"
    }
   },
   "source": [
    "<h3 style='color:red; font-weight:bold; text-align:center; font-family: \"Times New Roman\", Times, serif; font-size:20px;'>Creating a second user account and an IAM user with appropriate permissions </h3><br>\n",
    "<img src=\"1_FUF48HA-fSoBHK8tuPC1Eg.png\" width=\"150\" height=\"200\" style=\"float: left; margin-right: 20px; margin-left: 20px;\">\n",
    "<p align='justify' style='margin: 20px; line-height:1.5; font-family: \"Times New Roman\", Times, serif; font-size:16px; color: black'>\n",
    "  Creating a second user account and an IAM user with appropriate permissions is an important step in maintaining security and control over your AWS resources. The root user account has full access to all AWS services and resources, which can pose a security risk if the account is compromised. <br><br><strong style = \"color: purple\">Therefore, it is best practice to create a separate user account with equal permissions as the root user, and to create an IAM user with permissions only for specific AWS services or resources.</strong>\n",
    "\n",
    "</p><br>\n",
    "<p align='justify' style='margin: 20px; line-height:1.5; font-family: \"Times New Roman\", Times, serif; font-size:16px; color: black'>\n",
    "  By creating a separate user account, you can grant specific permissions to users that need access to your AWS resources, while maintaining control over who has access to your AWS account. This is especially important in scenarios where multiple people need access to your AWS account, as it allows you to manage their permissions and access levels.<br><br><br><strong>Follow the steps below to create an IAM account with necessary permissions as the root user</strong>\n",
    "\n",
    "</p>"
   ]
  },
  {
   "cell_type": "markdown",
   "id": "36a02357",
   "metadata": {
    "slideshow": {
     "slide_type": "subslide"
    }
   },
   "source": [
    "<p align='justify' style='margin: 10px 20px; line-height:1.5; font-family: \"Times New Roman\", Times, serif; font-size:16px; color: purple'>\n",
    "    \n",
    "    \n",
    "  <ul style='font-family: \"Times New Roman\", Times, serif; font-weight:light; font-size:16px; color: purple'>\n",
    "      <li>Log in to your AWS account using the root account credentials and search IAM in the search button.</li>\n",
    "      \n",
    "  </ul>\n",
    "</p><br>\n",
    "<img src=\"2023-02-24_13-21.png\" width=\"900\" height=\"700\" style=\"float: center; margin-center: 50px; ; margin-left: 25px; margin-right: 5px\"><br>"
   ]
  },
  {
   "cell_type": "markdown",
   "id": "2d481754",
   "metadata": {
    "slideshow": {
     "slide_type": "subslide"
    }
   },
   "source": [
    "<p align='justify' style='margin: 10px 20px; line-height:1.5; font-family: \"Times New Roman\", Times, serif; font-size:16px; color: purple'>\n",
    "    \n",
    "    \n",
    "  <ul style='font-family: \"Times New Roman\", Times, serif; font-weight:light; font-size:16px; color: purple'>\n",
    "      <li>Add MFA for root user and click on the \"User groups\" tab in the left-hand sidebar.</li>\n",
    "      \n",
    "  </ul>\n",
    "</p><br>\n",
    "<img src=\"2023-02-24_16-27.png\" width=\"900\" height=\"700\" style=\"float: center; margin-center: 50px; ; margin-left: 25px; margin-right: 5px\"><br>"
   ]
  },
  {
   "cell_type": "markdown",
   "id": "183dba51",
   "metadata": {
    "slideshow": {
     "slide_type": "subslide"
    }
   },
   "source": [
    "<p align='justify' style='margin: 10px 20px; line-height:1.5; font-family: \"Times New Roman\", Times, serif; font-size:16px; color: purple'>\n",
    "    \n",
    "    \n",
    "  <ul style='font-family: \"Times New Roman\", Times, serif; font-weight:light; font-size:16px; color: purple'>\n",
    "      <li>Click on the \"Create group\" button.</li>\n",
    "      \n",
    "  </ul>\n",
    "</p><br>\n",
    "<img src=\"2023-02-24_16-30.png\" width=\"900\" height=\"700\" style=\"float: center; margin-center: 50px; ; margin-left: 25px; margin-right: 5px\"><br>"
   ]
  },
  {
   "cell_type": "markdown",
   "id": "5d7f0feb",
   "metadata": {
    "slideshow": {
     "slide_type": "subslide"
    }
   },
   "source": [
    "<p align='justify' style='margin: 10px 20px; line-height:1.5; font-family: \"Times New Roman\", Times, serif; font-size:16px; color: purple'>\n",
    "    \n",
    "    \n",
    "  <ul style='font-family: \"Times New Roman\", Times, serif; font-weight:light; font-size:16px; color: purple'>\n",
    "      <li>Under create group, select a name for the group, the group will help us to manage access to individual users, for example, if we want to create a user for a specific task, we will add the user to the group with the same access as the user need for their task</li>\n",
    "      \n",
    "  </ul>\n",
    "</p><br>\n",
    "<img src=\"2023-02-24_16-41.png\" width=\"900\" height=\"700\" style=\"float: center; margin-center: 50px; ; margin-left: 25px; margin-right: 5px\">"
   ]
  },
  {
   "cell_type": "markdown",
   "id": "f13311f2",
   "metadata": {
    "slideshow": {
     "slide_type": "subslide"
    }
   },
   "source": [
    "<p align='justify' style='margin: 10px 20px; line-height:1.5; font-family: \"Times New Roman\", Times, serif; font-size:16px; color: purple'>\n",
    "    \n",
    "    \n",
    "  <ul style='font-family: \"Times New Roman\", Times, serif; font-weight:light; font-size:16px; color: purple'>\n",
    "      <li>After choosing a name for the group, we will select appropriate permissions for the group, we will select Administrator access for this group, users added to this group can perform administrator tasks </li>\n",
    "      \n",
    "  </ul>\n",
    "</p><br>\n",
    "<img src=\"2023-02-24_17-09.png\" width=\"900\" height=\"700\" style=\"float: center; margin-center: 50px; ; margin-left: 25px; margin-right: 5px\">"
   ]
  },
  {
   "cell_type": "markdown",
   "id": "1984f327",
   "metadata": {
    "slideshow": {
     "slide_type": "subslide"
    }
   },
   "source": [
    "<p align='justify' style='margin: 10px 20px; line-height:1.5; font-family: \"Times New Roman\", Times, serif; font-size:16px; color: purple'>\n",
    "    \n",
    "    \n",
    "  <ul style='font-family: \"Times New Roman\", Times, serif; font-weight:light; font-size:16px; color: purple'>\n",
    "      <li>After creating a group, we will go ahead and create a user and add the user to the group. click on the \"User groups\" tab in the left-hand sidebar.  </li>\n",
    "      \n",
    "  </ul>\n",
    "</p><br>\n",
    "<img src=\"2023-02-24_17-20.png\" width=\"900\" height=\"700\" style=\"float: center; margin-center: 50px; ; margin-left: 25px; margin-right: 5px\"><br>"
   ]
  },
  {
   "cell_type": "markdown",
   "id": "82feed15",
   "metadata": {
    "slideshow": {
     "slide_type": "subslide"
    }
   },
   "source": [
    "<p align='justify' style='margin: 10px 20px; line-height:1.5; font-family: \"Times New Roman\", Times, serif; font-size:16px; color: purple'>\n",
    "    \n",
    "    \n",
    "  <ul style='font-family: \"Times New Roman\", Times, serif; font-weight:light; font-size:16px; color: purple'>\n",
    "      <li>Under add users, select a name for the user and check \"provide user access to the AWS Management Console\"</li>\n",
    "      \n",
    "  </ul>\n",
    "</p><br>\n",
    "<img src=\"2023-02-24_17-29.png\" width=\"900\" height=\"700\" style=\"float: center; margin-center: 50px; ; margin-left: 25px; margin-right: 5px\">"
   ]
  },
  {
   "cell_type": "markdown",
   "id": "9b1c19f7",
   "metadata": {
    "slideshow": {
     "slide_type": "subslide"
    }
   },
   "source": [
    "<p align='justify' style='margin: 10px 20px; line-height:1.5; font-family: \"Times New Roman\", Times, serif; font-size:16px; color: purple'>\n",
    "    \n",
    "    \n",
    "  <ul style='font-family: \"Times New Roman\", Times, serif; font-weight:light; font-size:16px; color: purple'>\n",
    "      <li>You can autogenerate the password for the user or choose a custom password for the user, this password will be used to login to the users account</li>\n",
    "      \n",
    "  </ul>\n",
    "</p><br>\n",
    "<img src=\"2023-02-24_17-32.png\" width=\"900\" height=\"700\" style=\"float: center; margin-center: 50px; ; margin-left: 25px; margin-right: 5px\">"
   ]
  },
  {
   "cell_type": "markdown",
   "id": "683a79e9",
   "metadata": {
    "slideshow": {
     "slide_type": "subslide"
    }
   },
   "source": [
    "<p align='justify' style='margin: 10px 20px; line-height:1.5; font-family: \"Times New Roman\", Times, serif; font-size:16px; color: purple'>\n",
    "    \n",
    "    \n",
    "  <ul style='font-family: \"Times New Roman\", Times, serif; font-weight:light; font-size:16px; color: purple'>\n",
    "      <li>Under permissions, we will select add user to a group and add the user to the group we created</li>\n",
    "      \n",
    "  </ul>\n",
    "</p><br>\n",
    "<img src=\"2023-02-24_17-39.png\" width=\"900\" height=\"700\" style=\"float: center; margin-center: 50px; ; margin-left: 25px; margin-right: 5px\">"
   ]
  },
  {
   "cell_type": "markdown",
   "id": "483f965c",
   "metadata": {
    "slideshow": {
     "slide_type": "subslide"
    }
   },
   "source": [
    "<p align='justify' style='margin: 10px 20px; line-height:1.5; font-family: \"Times New Roman\", Times, serif; font-size:16px; color: purple'>\n",
    "    \n",
    "    \n",
    "  <ul style='font-family: \"Times New Roman\", Times, serif; font-weight:light; font-size:16px; color: purple'>\n",
    "      <li>Review your information and select create user to create the user,after successfully creating the user, you can send the login information or download it for future reference </li>\n",
    "      \n",
    "  </ul>\n",
    "</p><br>\n",
    "<img src=\"2023-02-24_17-54.png\" width=\"900\" height=\"700\" style=\"float: center; margin-center: 50px; ; margin-left: 25px; margin-right: 5px\">"
   ]
  },
  {
   "cell_type": "markdown",
   "id": "a14eaf56",
   "metadata": {
    "slideshow": {
     "slide_type": "subslide"
    }
   },
   "source": [
    "<p align='justify' style='margin: 20px; line-height:1.5; font-family: \"Times New Roman\", Times, serif; font-size:16px; color: black'>\n",
    "  After creating the user and adding the user to the administrator group, we can sign out and sign back in with the new user credentials. this time we will not login as root but rather as IAM user. We will enter the password selected for the user on the next\n",
    "</p>\n",
    "<img src=\"2023-02-24_18-19.png\" width=\"900\" height=\"700\" style=\"float: center; margin-center: 50px; ; margin-left: 25px; margin-right: 5px\">"
   ]
  },
  {
   "cell_type": "markdown",
   "id": "8fa1716b",
   "metadata": {
    "slideshow": {
     "slide_type": "subslide"
    }
   },
   "source": [
    "<p align='justify' style='margin: 20px; line-height:1.5; font-family: \"Times New Roman\", Times, serif; font-size:16px; color: purple'>\n",
    "  After logging in, we can go ahead and create a new group and users for the services we want to use, in my case i want to launch EC2 instance, create S3 bucket etc, i will create a group and add a user to the group and select the necessary permissions required for this user. follow the steps above to create the group and the user \n",
    "</p><br><br>\n",
    "<img src=\"2023-02-24_19-21.png\" width=\"900\" height=\"700\" style=\"float: center; margin-center: 50px; ; margin-left: 25px; margin-right: 5px\">"
   ]
  },
  {
   "cell_type": "markdown",
   "id": "6a3d2e2d",
   "metadata": {
    "slideshow": {
     "slide_type": "subslide"
    }
   },
   "source": [
    "<h3 style='color:red; font-weight:bold; text-align:center; font-family: \"Times New Roman\", Times, serif; font-size:20px;'>Overview of EC2, S3, Lambda, DynamoDB, and MongoDB </h3><br>\n",
    "<img src=\"aws-s3-sync-backup.jpg\" width=\"150\" height=\"200\" style=\"float: left; margin-right: 20px; margin-left: 20px;\">\n",
    "<p align='justify' style='margin: 20px; line-height:1.5; font-family: \"Times New Roman\", Times, serif; font-size:16px; color: black'>\n",
    "  Amazon Web Services (AWS) provides a wide range of cloud computing services for businesses and individuals. Some of the most popular services are EC2, S3, Lambda, DynamoDB, and MongoDB as already mentioned above. Here's an overview of each of these services:\n",
    "\n",
    "</p><br><br>\n",
    "\n",
    "<h4 style='color:purple; font-weight:bold; text-align:center; font-family: \"Times New Roman\", Times, serif; font-size:18px;'>Overview of EC2, S3, Lambda, DynamoDB, and MongoDB </h4><br>\n",
    "<p align='justify' style='margin: 10px 20px; line-height:1.5; font-family: \"Times New Roman\", Times, serif; font-size:16px; color: black'>\n",
    "  Amazon Elastic Compute Cloud (EC2) provides scalable compute capacity in the cloud. It allows you to quickly and easily create virtual servers, called instances, and run applications on them. EC2 instances are available in a variety of configurations, from small, low-cost instances to high-performance instances optimized for compute, memory, storage, or networking.\n",
    "\n",
    "</p>"
   ]
  },
  {
   "cell_type": "markdown",
   "id": "bb96cd2e",
   "metadata": {
    "slideshow": {
     "slide_type": "subslide"
    }
   },
   "source": [
    "<h4 style='color:purple; font-weight:bold; text-align:center; font-family: \"Times New Roman\", Times, serif; font-size:18px;'>Amazon S3</h4><br>\n",
    "<img src=\"Daco_5156607.png\" width=\"120\" height=\"120\" style=\"float: right; margin-right: 120px; margin-left: 120px;\"><br>\n",
    "<p align='justify' style='margin: 10px 20px; line-height:1.5; font-family: \"Times New Roman\", Times, serif; font-size:16px; color: black'>\n",
    "  Amazon Simple Storage Service (S3) is an object storage service that offers industry-leading scalability, data availability, security, and performance. It allows you to store and retrieve any amount of data from anywhere on the web. With S3, you can store and retrieve data in various formats, such as videos, images, and documents.\n",
    "\n",
    "</p><br><br>\n",
    "<h4 style='color:purple; font-weight:bold; text-align:center; font-family: \"Times New Roman\", Times, serif; font-size:18px;'>Amazon Lambda</h4><br>\n",
    "<img src=\"download_lambda.png\" width=\"150\" height=\"200\" style=\"float: left; margin-right: 20px; margin-left: 20px;\">\n",
    "<p align='justify' style='margin: 10px 20px; line-height:1.5; font-family: \"Times New Roman\", Times, serif; font-size:16px; color: black'>\n",
    "  Amazon Lambda is a serverless computing service that lets you run code without provisioning or managing servers. With Lambda, you can run your code in response to events, such as changes to data in an S3 bucket or a new record in a DynamoDB table. Lambda takes care of the infrastructure, scaling, and availability, so you can focus on your code.\n",
    "\n",
    "</p>"
   ]
  },
  {
   "cell_type": "markdown",
   "id": "59fe304c",
   "metadata": {
    "slideshow": {
     "slide_type": "subslide"
    }
   },
   "source": [
    "<h4 style='color:purple; font-weight:bold; text-align:center; font-family: \"Times New Roman\", Times, serif; font-size:18px;'>Amazon DynamoDB</h4><br>\n",
    "<img src=\"DybamoDB-logo.png\" width=\"120\" height=\"120\" style=\"float: right; margin-right: 120px; margin-left: 120px;\"><br>\n",
    "<p align='justify' style='margin: 10px 20px; line-height:1.5; font-family: \"Times New Roman\", Times, serif; font-size:16px; color: black'>\n",
    "  Amazon DynamoDB is a fully managed NoSQL database service that provides fast and predictable performance with seamless scalability. It offers low latency and high throughput for your applications, allowing you to store and retrieve any amount of data. DynamoDB automatically scales tables up and down to meet the demand of your application, and it provides built-in security and backup features.\n",
    "\n",
    "</p><br><br><br>\n",
    "\n",
    "<h4 style='color:purple; font-weight:bold; text-align:center; font-family: \"Times New Roman\", Times, serif; font-size:18px;'>MongoDB</h4><br>\n",
    "<img src=\"Mongo-db-logo.png\" width=\"150\" height=\"200\" style=\"float: left; margin-right: 20px; margin-left: 20px;\">\n",
    "<p align='justify' style='margin: 10px 20px; line-height:1.5; font-family: \"Times New Roman\", Times, serif; font-size:16px; color: black'>\n",
    "  MongoDB is an open-source document database that provides high performance, high availability, and easy scalability. It offers a flexible data model that lets you store data in a structured or unstructured format. MongoDB supports rich queries, indexes, and aggregation, making it a popular choice for modern, data-driven applications.\n",
    "\n",
    "</p><br><br>\n",
    "\n",
    "<p align='justify' style='margin: 10px 20px; line-height:1.5; font-family: \"Times New Roman\", Times, serif; font-size:16px; color: purple'>\n",
    "  By understanding these services and how they work, you can leverage the power of AWS to build scalable and resilient applications. \n",
    "</p>"
   ]
  },
  {
   "cell_type": "markdown",
   "id": "2c5c6a0c",
   "metadata": {
    "slideshow": {
     "slide_type": "subslide"
    }
   },
   "source": [
    "<h3 style='color:red; font-weight:bold; text-align:center; font-family: \"Times New Roman\", Times, serif; font-size:20px;'>Launching an EC2 instance and connecting to it </h3><br>\n",
    "<img src=\"1_fGJoI02YVT04SHMz5OrxMw.jpeg\" width=\"150\" height=\"200\" style=\"float: left; margin-right: 20px; margin-left: 20px;\">\n",
    "<p align='justify' style='margin: 20px; line-height:1.5; font-family: \"Times New Roman\", Times, serif; font-size:16px; color: black'>\n",
    "  Amazon Elastic Compute Cloud (EC2) provides scalable compute capacity in the cloud. It allows you to quickly and easily create virtual servers, called instances, and run applications on them. Here are the steps to launch an EC2 instance and connect to it:<br><br><br><b style = \"color: purple\">Follow the steps and screenshot below to launch an EC2 Instance and Connect to it</b>\n",
    "\n",
    "</p><br>\n",
    "\n",
    "<h4 style='color:purple; font-weight:bold; text-align:center; font-family: \"Times New Roman\", Times, serif; font-size:18px;'>Sign in to the AWS Management Console</h4><br>\n",
    "<p align='justify' style='margin: 10px 20px; line-height:1.5; font-family: \"Times New Roman\", Times, serif; font-size:16px; color: black'>\n",
    "  To get started, sign in to the AWS Management Console. If you don't have an AWS account yet, you'll need to sign up for one following the steps above\n",
    "</p>"
   ]
  },
  {
   "cell_type": "markdown",
   "id": "3274221a",
   "metadata": {
    "slideshow": {
     "slide_type": "subslide"
    }
   },
   "source": [
    "<h4 style='color:purple; font-weight:bold; text-align:center; font-family: \"Times New Roman\", Times, serif; font-size:18px;'>Launch an EC2 Instance</h4><br>\n",
    "<p align='justify' style='margin: 10px 20px; line-height:1.5; font-family: \"Times New Roman\", Times, serif; font-size:16px; color: black'>\n",
    "  Once you're signed in to the AWS Management Console, you can launch an EC2 instance. Here's how to do it:\n",
    "</p><br><br>\n",
    "\n",
    "<p align='justify' style='margin: 10px 20px; line-height:1.5; font-family: \"Times New Roman\", Times, serif; font-size:16px; color: purple'>\n",
    "    \n",
    "    \n",
    "  <ul style='font-family: \"Times New Roman\", Times, serif; font-weight:light; font-size:16px; color: black'>\n",
    "      <li><strong>Click on \"Services\" in the top menu bar and select \"EC2\". </li>\n",
    "      \n",
    "  </ul>\n",
    "</p><br>\n",
    "<img src=\"2023-02-23_16-25.png\" width=\"900\" height=\"700\" style=\"float: center; margin-center: 50px; ; margin-left: 25px; margin-right: 5px\">"
   ]
  },
  {
   "cell_type": "markdown",
   "id": "01fee69f",
   "metadata": {
    "slideshow": {
     "slide_type": "subslide"
    }
   },
   "source": [
    "<p align='justify' style='margin: 10px 20px; line-height:1.5; font-family: \"Times New Roman\", Times, serif; font-size:16px; color: purple'>\n",
    "    \n",
    "    \n",
    "  <ul style='font-family: \"Times New Roman\", Times, serif; font-weight:light; font-size:16px; color: black'>\n",
    "      <li><strong style = \"color: purple\">Click on \"Launch Instance\".</strong> </li>\n",
    "      \n",
    "  </ul>\n",
    "</p><br>\n",
    "<img src=\"2023-02-23_16-30.png\" width=\"900\" height=\"700\" style=\"float: center; margin-center: 50px; ; margin-left: 25px; margin-right: 5px\">"
   ]
  },
  {
   "cell_type": "markdown",
   "id": "7b771968",
   "metadata": {
    "slideshow": {
     "slide_type": "subslide"
    }
   },
   "source": [
    "<p align='justify' style='margin: 10px 20px; line-height:1.5; font-family: \"Times New Roman\", Times, serif; font-size:16px; color: purple'>\n",
    "    \n",
    "    \n",
    "  <ul style='font-family: \"Times New Roman\", Times, serif; font-weight:light; font-size:16px; color: black'>\n",
    "      <li><strong style = \"color: purple\">Choose a name for your instance and select an Amazon Machine Image (AMI), which is a pre-configured virtual machine image that includes an operating system and any additional software you need.</strong> </li>\n",
    "      \n",
    "  </ul>\n",
    "</p><br>\n",
    "<img src=\"2023-02-23_16-43.png\" width=\"900\" height=\"700\" style=\"float: center; margin-center: 50px; ; margin-left: 25px; margin-right: 5px\">"
   ]
  },
  {
   "cell_type": "markdown",
   "id": "28889b1f",
   "metadata": {
    "slideshow": {
     "slide_type": "subslide"
    }
   },
   "source": [
    "<p align='justify' style='margin: 10px 20px; line-height:1.5; font-family: \"Times New Roman\", Times, serif; font-size:16px; color: purple'>\n",
    "    \n",
    "    \n",
    "  <ul style='font-family: \"Times New Roman\", Times, serif; font-weight:light; font-size:16px; color: black'>\n",
    "      <li><strong style = \"color: purple\">Choose an instance type, which determines the amount of CPU, memory, storage, and networking capacity of the instance.</strong> </li>\n",
    "      \n",
    "  </ul>\n",
    "</p><br>\n",
    "<img src=\"2023-02-23_16-53.png\" width=\"900\" height=\"700\" style=\"float: center; margin-center: 50px; ; margin-left: 25px; margin-right: 5px\">"
   ]
  },
  {
   "cell_type": "markdown",
   "id": "674bddc2",
   "metadata": {
    "slideshow": {
     "slide_type": "subslide"
    }
   },
   "source": [
    "<p align='justify' style='margin: 10px 20px; line-height:1.5; font-family: \"Times New Roman\", Times, serif; font-size:16px; color: purple'>\n",
    "    \n",
    "    \n",
    "  <ul style='font-family: \"Times New Roman\", Times, serif; font-weight:light; font-size:16px; color: black'>\n",
    "      <li><strong style = \"color: purple\">Create new key pair: </strong> When you launch an EC2 instance, you can choose to create a new key pair or select an existing one. If you choose to create a new key pair, you will need to download and save the private key file to your computer. This key file will be used to connect to the instance later on. Keep the private key file secure and do not share it with anyone.</li>\n",
    "      \n",
    "  </ul>\n",
    "</p><br>\n",
    "<img src=\"2023-02-23_17-02.png\" width=\"900\" height=\"700\" style=\"float: center; margin-center: 50px; ; margin-left: 25px; margin-right: 5px\">"
   ]
  },
  {
   "cell_type": "markdown",
   "id": "dae0b61c",
   "metadata": {
    "slideshow": {
     "slide_type": "subslide"
    }
   },
   "source": [
    "<p align='justify' style='margin: 10px 20px; line-height:1.5; font-family: \"Times New Roman\", Times, serif; font-size:16px; color: purple'>\n",
    "    \n",
    "    \n",
    "  <ul style='font-family: \"Times New Roman\", Times, serif; font-weight:light; font-size:16px; color: black'>\n",
    "      <li><strong style = \"color: purple\">Configure instance details, such as the number of instances to launch, the network settings, and the security group.</strong> </li>\n",
    "      \n",
    "  </ul>\n",
    "</p><br>\n",
    "<img src=\"2023-02-23_17-18.png\" width=\"900\" height=\"700\" style=\"float: center; margin-center: 50px; ; margin-left: 25px; margin-right: 5px\">"
   ]
  },
  {
   "cell_type": "markdown",
   "id": "e5d75c8a",
   "metadata": {
    "slideshow": {
     "slide_type": "subslide"
    }
   },
   "source": [
    "<p align='justify' style='margin: 10px 20px; line-height:1.5; font-family: \"Times New Roman\", Times, serif; font-size:16px; color: purple'>\n",
    "    \n",
    "    \n",
    "  <ul style='font-family: \"Times New Roman\", Times, serif; font-weight:light; font-size:16px; color: black'>\n",
    "      <li><strong style = \"color: purple\">Add storage, which determines the amount and type of storage for the instance.</strong> </li>\n",
    "      \n",
    "  </ul>\n",
    "</p><br>\n",
    "<img src=\"2023-02-23_17-21.png\" width=\"900\" height=\"700\" style=\"float: center; margin-center: 50px; ; margin-left: 25px; margin-right: 5px\">"
   ]
  },
  {
   "cell_type": "markdown",
   "id": "9612003b",
   "metadata": {
    "slideshow": {
     "slide_type": "subslide"
    }
   },
   "source": [
    "<p align='justify' style='margin: 10px 20px; line-height:1.5; font-family: \"Times New Roman\", Times, serif; font-size:16px; color: purple'>\n",
    "    \n",
    "    \n",
    "  <ul style='font-family: \"Times New Roman\", Times, serif; font-weight:light; font-size:16px; color: black'>\n",
    "      <li><strong style = \"color: purple\">Configure any additional options, such as user data or tags.</strong> </li>\n",
    "      <li><strong style = \"color: purple\">Review the instance details and click \"Launch\".\n",
    "</strong> </li>\n",
    "      \n",
    "  </ul>\n",
    "</p>\n",
    "<img src=\"2023-02-23_17-32.png\" width=\"900\" height=\"700\" style=\"float: center; margin-center: 50px; ; margin-left: 25px; margin-right: 5px\">"
   ]
  },
  {
   "cell_type": "markdown",
   "id": "774c9709",
   "metadata": {
    "slideshow": {
     "slide_type": "subslide"
    }
   },
   "source": [
    "<h4 style='color:purple; font-weight:bold; text-align:center; font-family: \"Times New Roman\", Times, serif; font-size:18px;'>Connect to the Instance</h4><br>\n",
    "<p align='justify' style='margin: 20px; line-height:1.5; font-family: \"Times New Roman\", Times, serif; font-size:16px; color: black'>\n",
    "  Once you've launched an EC2 instance, you can connect to it using a remote desktop client or SSH. Here's how to do it:\n",
    "\n",
    "</p><br>\n",
    "<p align='justify' style='margin: 10px 20px; line-height:1.5; font-family: \"Times New Roman\", Times, serif; font-size:16px; color: purple'>\n",
    "    \n",
    "    \n",
    "  <ul style='font-family: \"Times New Roman\", Times, serif; font-weight:light; font-size:16px; color: black'>\n",
    "      <li><strong style = \"color: purple\">Select the instance you want to connect to in the EC2 Dashboard, and click on \"Connect\".</strong> </li>\n",
    "      \n",
    "  </ul>\n",
    "</p><br>\n",
    "<img src=\"2023-02-23_17-43.png\" width=\"900\" height=\"700\" style=\"float: center; margin-center: 50px; ; margin-left: 25px; margin-right: 5px\">"
   ]
  },
  {
   "cell_type": "markdown",
   "id": "ff40b7a1",
   "metadata": {
    "slideshow": {
     "slide_type": "subslide"
    }
   },
   "source": [
    "<p align='justify' style='margin: 10px 20px; line-height:1.5; font-family: \"Times New Roman\", Times, serif; font-size:16px; color: purple'>\n",
    "    \n",
    "    \n",
    "  <ul style='font-family: \"Times New Roman\", Times, serif; font-weight:light; font-size:16px; color: black'>\n",
    "      <li><strong style = \"color: purple\">Choose how you want to connect, i will select ssh.</strong> </li>\n",
    "      \n",
    "  </ul>\n",
    "</p><br>\n",
    "<img src=\"2023-02-23_17-49.png\" width=\"900\" height=\"700\" style=\"float: center; margin-center: 50px; ; margin-left: 25px; margin-right: 5px\"><br><br>\n",
    "\n",
    "<p align='justify' style='margin: 20px; line-height:1.5; font-family: \"Times New Roman\", Times, serif; font-size:16px; color: purple'>\n",
    "  Follow the instructions under the connection method you choose to connect, you can follow the steps below using ssh\n",
    "</p>"
   ]
  },
  {
   "cell_type": "markdown",
   "id": "b4a162c9",
   "metadata": {
    "slideshow": {
     "slide_type": "subslide"
    }
   },
   "source": [
    "<p align='justify' style='margin: 10px 20px; line-height:1.5; font-family: \"Times New Roman\", Times, serif; font-size:16px; color: purple'>\n",
    "    \n",
    "    \n",
    "  <ul style='font-family: \"Times New Roman\", Times, serif; font-weight:light; font-size:16px; color: black'>\n",
    "      <li>Open your SSH client. If you are using a Mac or Linux computer, you can use the Terminal application. If you are using a Windows computer, you can use a program like PuTTY or Git Bash. i am using Linux so i will use the terminal </li>\n",
    "      \n",
    "  </ul>\n",
    "</p><br>\n",
    "<img src=\"2023-02-23_18-01.png\" width=\"900\" height=\"700\" style=\"float: center; margin-center: 50px; ; margin-left: 25px; margin-right: 5px\">"
   ]
  },
  {
   "cell_type": "markdown",
   "id": "9b455ff9",
   "metadata": {
    "slideshow": {
     "slide_type": "subslide"
    }
   },
   "source": [
    "<p align='justify' style='margin: 10px 20px; line-height:1.5; font-family: \"Times New Roman\", Times, serif; font-size:16px; color: purple'>\n",
    "    \n",
    "    \n",
    "  <ul style='font-family: \"Times New Roman\", Times, serif; font-weight:light; font-size:16px; color: purple'>\n",
    "      <li>Change the permissions of the key file to ensure that it is not publicly viewable. To do this, open your terminal or command prompt and navigate to the directory where the key file is saved. Then, run the following command:</li>\n",
    "      \n",
    "  </ul>\n",
    "</p><br>\n",
    "<img src=\"2023-02-23_18-08.png\" width=\"900\" height=\"700\" style=\"float: center; margin-center: 50px; ; margin-left: 25px; margin-right: 5px\"><br><br>\n",
    "\n",
    "\n",
    "<p align='justify' style='margin: 10px 20px; line-height:1.5; font-family: \"Times New Roman\", Times, serif; font-size:16px; color: purple'>\n",
    "    \n",
    "    \n",
    "  <ul style='font-family: \"Times New Roman\", Times, serif; font-weight:light; font-size:16px; color: purple'>\n",
    "      <li>Connect to your instance using its Public DNS. To connect to the instance, run the following command in your terminal or command prompt:</li>\n",
    "      \n",
    "  </ul>\n",
    "</p><br>\n",
    "<img src=\"2023-02-23_18-22.png\" width=\"900\" height=\"700\" style=\"float: center; margin-center: 50px; ; margin-left: 25px; margin-right: 5px\"><br>\n",
    "\n",
    "<p align='justify' style='margin: 20px; line-height:1.5; font-family: \"Times New Roman\", Times, serif; font-size:16px; color: purple'>\n",
    "  This command uses the -i option to specify the private key file, and the ec2-user username to connect to the instance. If prompted to continue connecting, type yes. Replace \"/path/to/your/private_key.pem\" with the actual path to your private key file, and replace \"public_dns\" with the Public DNS of your instance.\n",
    "</p>"
   ]
  },
  {
   "cell_type": "markdown",
   "id": "0781cf01",
   "metadata": {
    "slideshow": {
     "slide_type": "subslide"
    }
   },
   "source": [
    "<p align='justify' style='margin: 10px 20px; line-height:1.5; font-family: \"Times New Roman\", Times, serif; font-size:16px; color: purple'>\n",
    "    \n",
    "    \n",
    "  <ul style='font-family: \"Times New Roman\", Times, serif; font-weight:light; font-size:16px; color: purple'>\n",
    "      <li>Once connected, you should see a command prompt that looks something like this:</li>\n",
    "      \n",
    "  </ul>\n",
    "</p><br><br>\n",
    "<img src=\"2023-02-23_18-27.png\" width=\"900\" height=\"700\" style=\"float: center; margin-center: 50px; ; margin-left: 25px; margin-right: 5px\">"
   ]
  },
  {
   "cell_type": "markdown",
   "id": "9cde3ef5",
   "metadata": {
    "slideshow": {
     "slide_type": "slide"
    }
   },
   "source": [
    "<h2 style='color:red; font-weight:bold; text-align:center; font-family: \"Times New Roman\", Times, serif; font-size:22px;'>STORAGE AND DATA MANAGEMENT WITH S3 AND DYNAMO DB</h2><br> \n",
    "<p align='justify' style='margin: 10px 20px; line-height:1.5; font-family: \"Times New Roman\", Times, serif; font-size:16px; color: purple'>\n",
    "    \n",
    "    \n",
    "  <ul style='font-family: \"Times New Roman\", Times, serif; font-weight:light; font-size:16px;'>\n",
    "      <li><b>Creating an S3 bucket and storing files in it   </b></li>\n",
    "      <li><b>Configuring S3 bucket policies for secure access control  </b></li>\n",
    "      <li><b>Creating a DynamoDB table and adding data to it  </b></li>\n",
    "      <li><b>Querying and managing data in DynamoDB    </b></li>\n",
    "      \n",
    "    \n",
    "    \n",
    "  </ul>\n",
    "</p><br>\n",
    "\n",
    "<img src=\"s3dynamohead.png\" width=\"150\" height=\"250\" style=\"float: left; margin-right: 20px; margin-left: 20px;\">\n",
    "<p align='justify' style='margin: 10px 20px; line-height:1.5; font-family: \"Times New Roman\", Times, serif; font-size:16px; color: purple'>\n",
    "  Amazon Simple Storage Service (S3) is an object storage service that offers industry-leading scalability, data availability, security, and performance. It allows you to store and retrieve any amount of data from anywhere on the web. Here are the steps to create an S3 bucket and store files in it:\n",
    "\n",
    "</p><br><br>\n",
    "\n",
    "<h3 style='color:red; font-weight:bold; text-align:center; font-family: \"Times New Roman\", Times, serif; font-size:20px;'> Create an S3 Bucket</h3><br>\n",
    "<p align='justify' style='margin: 10px 20px; line-height:1.5; font-family: \"Times New Roman\", Times, serif; font-size:16px; color: purple'>\n",
    "  Once you're signed in to the AWS Management Console, you can create an S3 bucket. Here's how to do it:\n",
    "\n",
    "</p>"
   ]
  },
  {
   "cell_type": "markdown",
   "id": "5be749d5",
   "metadata": {
    "slideshow": {
     "slide_type": "subslide"
    }
   },
   "source": [
    "<p align='justify' style='margin: 10px 20px; line-height:1.5; font-family: \"Times New Roman\", Times, serif; font-size:16px; color: purple'>\n",
    "    \n",
    "    \n",
    "  <ul style='font-family: \"Times New Roman\", Times, serif; font-weight:light; font-size:16px;'>\n",
    "      <li><b>Click on \"Services\" in the top menu bar and select \"S3\" </b></li>\n",
    "      \n",
    "      \n",
    "    \n",
    "    \n",
    "  </ul>\n",
    "</p><br>\n",
    "<img src=\"2023-02-24_07-20.png\" width=\"900\" height=\"700\" style=\"float: center; margin-center: 50px; ; margin-left: 25px; margin-right: 5px\"><br><br>\n",
    "\n",
    "<p align='justify' style='margin: 10px 20px; line-height:1.5; font-family: \"Times New Roman\", Times, serif; font-size:16px; color: purple'>\n",
    "  Once you're signed in to the AWS Management Console, you can create an S3 bucket. Here's how to do it:\n",
    "\n",
    "</p>"
   ]
  },
  {
   "cell_type": "markdown",
   "id": "c0e360a5",
   "metadata": {
    "slideshow": {
     "slide_type": "subslide"
    }
   },
   "source": [
    "<p align='justify' style='margin: 10px 20px; line-height:1.5; font-family: \"Times New Roman\", Times, serif; font-size:16px; color: purple'>\n",
    "    \n",
    "    \n",
    "  <ul style='font-family: \"Times New Roman\", Times, serif; font-weight:light; font-size:16px;'>\n",
    "      <li><b style = \"color: purple\">Click on \"Create bucket\". </b></li>\n",
    "      \n",
    "      \n",
    "    \n",
    "    \n",
    "  </ul>\n",
    "</p><br>\n",
    "<img src=\"2023-02-24_07-40.png\" width=\"900\" height=\"700\" style=\"float: center; margin-center: 50px; ; margin-left: 25px; margin-right: 5px\">"
   ]
  },
  {
   "cell_type": "markdown",
   "id": "e554805b",
   "metadata": {
    "slideshow": {
     "slide_type": "subslide"
    }
   },
   "source": [
    "<p align='justify' style='margin: 10px 20px; line-height:1.5; font-family: \"Times New Roman\", Times, serif; font-size:16px; color: purple'>\n",
    "    \n",
    "    \n",
    "  <ul style='font-family: \"Times New Roman\", Times, serif; font-weight:light; font-size:16px;'>\n",
    "      <li><b style = \"color: purple\">Enter a unique name for the bucket and choose a region to store the data. </b></li>\n",
    "      \n",
    "      \n",
    "    \n",
    "    \n",
    "  </ul>\n",
    "</p><br>\n",
    "<img src=\"2023-02-24_08-09.png\" width=\"900\" height=\"700\" style=\"float: center; margin-center: 50px; ; margin-left: 25px; margin-right: 5px\">"
   ]
  },
  {
   "cell_type": "markdown",
   "id": "52e3d2b4",
   "metadata": {
    "slideshow": {
     "slide_type": "subslide"
    }
   },
   "source": [
    "<p align='justify' style='margin: 10px 20px; line-height:1.5; font-family: \"Times New Roman\", Times, serif; font-size:16px; color: purple'>\n",
    "    \n",
    "    \n",
    "  <ul style='font-family: \"Times New Roman\", Times, serif; font-weight:light; font-size:16px;'>\n",
    "      <li><b style = \"color: purple\">Configure the settings for the bucket, such as versioning, logging, and encryption.</b></li>\n",
    "      \n",
    "    \n",
    "      \n",
    "    \n",
    "  </ul>\n",
    "</p><br>\n",
    "<img src=\"2023-02-24_07-52.png\" width=\"900\" height=\"700\" style=\"float: center; margin-center: 50px; ; margin-left: 25px; margin-right: 5px\"><br><br>\n",
    "<p align='justify' style='margin: 10px 20px; line-height:1.5; font-family: \"Times New Roman\", Times, serif; font-size:16px; color: red'>\n",
    "  Enabling versioning can be useful for maintaining multiple versions of an object in the bucket, which can be helpful for disaster recovery or audit purposes. However, enabling versioning can also increase storage costs. If you anticipate needing to maintain multiple versions of objects in your bucket, enabling versioning may be a good idea. If not, it may not be necessary.\n",
    "\n",
    "</p>"
   ]
  },
  {
   "cell_type": "markdown",
   "id": "42b2de3e",
   "metadata": {
    "slideshow": {
     "slide_type": "subslide"
    }
   },
   "source": [
    "<p align='justify' style='margin: 10px 20px; line-height:1.5; font-family: \"Times New Roman\", Times, serif; font-size:16px; color: purple'>\n",
    "    \n",
    "    \n",
    "  <ul style='font-family: \"Times New Roman\", Times, serif; font-weight:light; font-size:16px;'>\n",
    "      <li><b style = \"color: purple\">Tags: </b> You can use tags to organize and label your S3 buckets based on criteria that are meaningful to you. For example, you could tag a bucket with a \"project\" tag to group all the buckets associated with a particular project together.\n",
    "\n",
    "</li>\n",
    "      \n",
    "    \n",
    "      \n",
    "    \n",
    "  </ul>\n",
    "</p><br><br>\n",
    "<img src=\"2023-02-24_07-58.png\" width=\"900\" height=\"700\" style=\"float: center; margin-center: 50px; ; margin-left: 25px; margin-right: 5px\">"
   ]
  },
  {
   "cell_type": "markdown",
   "id": "83e8147f",
   "metadata": {
    "slideshow": {
     "slide_type": "subslide"
    }
   },
   "source": [
    "<p align='justify' style='margin: 10px 20px; line-height:1.5; font-family: \"Times New Roman\", Times, serif; font-size:16px; color: purple'>\n",
    "    \n",
    "    \n",
    "  <ul style='font-family: \"Times New Roman\", Times, serif; font-weight:light; font-size:16px;'>\n",
    "      <li><b style = \"color: purple\">Review the bucket details and click \"Create bucket\".</b>\n",
    "\n",
    "</li>\n",
    "      \n",
    "    \n",
    "      \n",
    "    \n",
    "  </ul>\n",
    "</p><br><br>\n",
    "<img src=\"2023-02-24_08-06.png\" width=\"900\" height=\"700\" style=\"float: center; margin-center: 50px; ; margin-left: 25px; margin-right: 5px\">"
   ]
  },
  {
   "cell_type": "markdown",
   "id": "11394dc7",
   "metadata": {
    "slideshow": {
     "slide_type": "subslide"
    }
   },
   "source": [
    "<p align='justify' style='margin: 10px 20px; line-height:1.5; font-family: \"Times New Roman\", Times, serif; font-size:16px; color: purple'>\n",
    "    \n",
    "    \n",
    "  <ul style='font-family: \"Times New Roman\", Times, serif; font-weight:light; font-size:16px;'>\n",
    "      <li><b style = \"color: purple\">After successfully creating your buckect, you should see the screen below</b>\n",
    "\n",
    "</li>\n",
    "      \n",
    "    \n",
    "      \n",
    "    \n",
    "  </ul>\n",
    "</p><br><br>\n",
    "<img src=\"2023-02-24_08-11.png\" width=\"900\" height=\"700\" style=\"float: center; margin-center: 50px; ; margin-left: 25px; margin-right: 5px\">"
   ]
  },
  {
   "cell_type": "markdown",
   "id": "a8afc009",
   "metadata": {
    "slideshow": {
     "slide_type": "subslide"
    }
   },
   "source": [
    "<h4 style='color:red; font-weight:bold; text-align:center; font-family: \"Times New Roman\", Times, serif; font-size:18px; color: purple'> Store Files in the Bucket</h4><br>\n",
    "<p align='justify' style='margin: 10px 20px; line-height:1.5; font-family: \"Times New Roman\", Times, serif; font-size:16px; color: black'>\n",
    "  Once you've created an S3 bucket, you can store files in it using the S3 console or the AWS Command Line Interface (CLI). Here's how to do it using the S3 console:<br><br><br><strong style = \"color: purple\">Using the S3 Console</strong>\n",
    "\n",
    "</p><br>\n",
    "<p align='justify' style='margin: 10px 20px; line-height:1.5; font-family: \"Times New Roman\", Times, serif; font-size:16px; color: purple'>\n",
    "    \n",
    "    \n",
    "  <ul style='font-family: \"Times New Roman\", Times, serif; font-weight:light; font-size:16px;'>\n",
    "      <li><b style = \"color: black\">Select the bucket you want to store files in.</b>\n",
    "\n",
    "</li>\n",
    "      \n",
    "    \n",
    "      \n",
    "    \n",
    "  </ul>\n",
    "</p><br>\n",
    "<img src=\"2023-02-24_08-23.png\" width=\"900\" height=\"700\" style=\"float: center; margin-center: 50px; ; margin-left: 25px; margin-right: 5px\">"
   ]
  },
  {
   "cell_type": "markdown",
   "id": "5267c73a",
   "metadata": {
    "slideshow": {
     "slide_type": "subslide"
    }
   },
   "source": [
    "<p align='justify' style='margin: 10px 20px; line-height:1.5; font-family: \"Times New Roman\", Times, serif; font-size:16px; color: purple'>\n",
    "    \n",
    "    \n",
    "  <ul style='font-family: \"Times New Roman\", Times, serif; font-weight:light; font-size:16px;'>\n",
    "      <li><b style = \"color: purple\">Click on \"Upload\" and select the files you want to upload.</b>\n",
    "\n",
    "</li>\n",
    "      \n",
    "    \n",
    "      \n",
    "    \n",
    "  </ul>\n",
    "</p><br>\n",
    "<img src=\"2023-02-24_08-27.png\" width=\"900\" height=\"700\" style=\"float: center; margin-center: 50px; ; margin-left: 25px; margin-right: 5px\">"
   ]
  },
  {
   "cell_type": "markdown",
   "id": "2d23b61b",
   "metadata": {
    "slideshow": {
     "slide_type": "subslide"
    }
   },
   "source": [
    "<p align='justify' style='margin: 10px 20px; line-height:1.5; font-family: \"Times New Roman\", Times, serif; font-size:16px; color: purple'>\n",
    "    \n",
    "    \n",
    "  <ul style='font-family: \"Times New Roman\", Times, serif; font-weight:light; font-size:16px;'>\n",
    "      <li><b style = \"color: purple\">Click on add files or folder to add your files to the bucket</b>\n",
    "\n",
    "</li>\n",
    "      \n",
    "    \n",
    "      \n",
    "    \n",
    "  </ul>\n",
    "</p><br>\n",
    "<img src=\"2023-02-24_08-29.png\" width=\"900\" height=\"700\" style=\"float: center; margin-center: 50px; ; margin-left: 25px; margin-right: 5px\">"
   ]
  },
  {
   "cell_type": "markdown",
   "id": "cf70666f",
   "metadata": {
    "slideshow": {
     "slide_type": "subslide"
    }
   },
   "source": [
    "<p align='justify' style='margin: 10px 20px; line-height:1.5; font-family: \"Times New Roman\", Times, serif; font-size:16px; color: purple'>\n",
    "    \n",
    "    \n",
    "  <ul style='font-family: \"Times New Roman\", Times, serif; font-weight:light; font-size:16px;'>\n",
    "      <li><b style = \"color: purple\">Configure the settings for the files, such as the storage class, permissions, and metadata.</b>\n",
    "\n",
    "</li>\n",
    "      \n",
    "    \n",
    "      \n",
    "    \n",
    "  </ul>\n",
    "</p><br>\n",
    "<img src=\"2023-02-24_08-34.png\" width=\"900\" height=\"700\" style=\"float: center; margin-center: 50px; ; margin-left: 25px; margin-right: 5px\">"
   ]
  },
  {
   "cell_type": "markdown",
   "id": "024517f8",
   "metadata": {
    "slideshow": {
     "slide_type": "subslide"
    }
   },
   "source": [
    "<p align='justify' style='margin: 10px 20px; line-height:1.5; font-family: \"Times New Roman\", Times, serif; font-size:16px; color: purple'>\n",
    "    \n",
    "    \n",
    "  <ul style='font-family: \"Times New Roman\", Times, serif; font-weight:light; font-size:16px;'>\n",
    "      <li><b style = \"color: purple\">Review the file details and click \"Upload\".</b>\n",
    "\n",
    "</li>\n",
    "      \n",
    "    \n",
    "      \n",
    "    \n",
    "  </ul>\n",
    "</p><br>\n",
    "<img src=\"2023-02-24_08-37.png\" width=\"900\" height=\"700\" style=\"float: center; margin-center: 50px; ; margin-left: 25px; margin-right: 5px\">"
   ]
  },
  {
   "cell_type": "markdown",
   "id": "a8fc861d",
   "metadata": {
    "slideshow": {
     "slide_type": "subslide"
    }
   },
   "source": [
    "<h3 style='color:red; font-weight:bold; text-align:center; font-family: \"Times New Roman\", Times, serif; font-size:20px;'> Configuring S3 Bucket Policies for Secure Access Control</h3><br>\n",
    "<img src=\"553702-636196363807306119-16x9.jpg\" width=\"150\" height=\"250\" style=\"float: left; margin-right: 20px; margin-left: 20px;\">\n",
    "<p align='justify' style='margin: 10px 20px; line-height:1.5; font-family: \"Times New Roman\", Times, serif; font-size:16px; color: black'>\n",
    "  Amazon Simple Storage Service (S3) offers several mechanisms for securing access to your data stored in S3 buckets, including Access Control Lists (ACLs), Bucket Policies, and Identity and Access Management (IAM) policies. Bucket Policies provide a more granular way to define permissions to your bucket resources. Here are the steps to configure an S3 bucket policy for secure access control:\n",
    "\n",
    "</p><br>\n",
    "<p align='justify' style='margin: 10px 20px; line-height:1.5; font-family: \"Times New Roman\", Times, serif; font-size:16px; color: black'>\n",
    "  Once you've created an S3 bucket, you can configure a bucket policy to provide secure access control. Here's how to do it:\n",
    "\n",
    "</p>"
   ]
  },
  {
   "cell_type": "markdown",
   "id": "004444b4",
   "metadata": {
    "slideshow": {
     "slide_type": "subslide"
    }
   },
   "source": [
    "<p align='justify' style='margin: 10px 20px; line-height:1.5; font-family: \"Times New Roman\", Times, serif; font-size:16px; color: purple'>\n",
    "    \n",
    "    \n",
    "  <ul style='font-family: \"Times New Roman\", Times, serif; font-weight:light; font-size:16px;'>\n",
    "      <li><b style = \"color: purple\">Open the S3 bucket you created and click on the \"Permissions\" tab.</b>\n",
    "\n",
    "</li>\n",
    "      \n",
    "    \n",
    "      \n",
    "    \n",
    "  </ul>\n",
    "</p><br>\n",
    "<img src=\"2023-02-24_10-23.png\" width=\"900\" height=\"700\" style=\"float: center; margin-center: 50px; ; margin-left: 25px; margin-right: 5px\">"
   ]
  },
  {
   "cell_type": "markdown",
   "id": "ee948d1c",
   "metadata": {
    "slideshow": {
     "slide_type": "subslide"
    }
   },
   "source": [
    "<p align='justify' style='margin: 10px 20px; line-height:1.5; font-family: \"Times New Roman\", Times, serif; font-size:16px; color: purple'>\n",
    "    \n",
    "    \n",
    "  <ul style='font-family: \"Times New Roman\", Times, serif; font-weight:light; font-size:16px;'>\n",
    "      <li><b style = \"color: purple\">Click on \"Bucket Policy\" and enter a policy in JSON format that defines the access control rules for your bucket.</b>\n",
    "\n",
    "</li>\n",
    "      \n",
    "    \n",
    "      \n",
    "    \n",
    "  </ul>\n",
    "</p><br>\n",
    "<img src=\"2023-02-24_10-32.png\" width=\"900\" height=\"700\" style=\"float: center; margin-center: 50px; ; margin-left: 25px; margin-right: 5px\"><br><br>\n",
    "\n",
    "<p align='justify' style='margin: 10px 20px; line-height:1.5; font-family: \"Times New Roman\", Times, serif; font-size:16px; color: purple'>\n",
    "    \n",
    "    \n",
    "  <ul style='font-family: \"Times New Roman\", Times, serif; font-weight:light; font-size:16px;'>\n",
    "      <li>Define the \"Principal\", which represents the AWS account, IAM user, IAM role, or AWS service that you want to allow or deny access to your bucket resources.</li>\n",
    "      <li>Define the \"Action\", which represents the S3 API action that you want to allow or deny access to.</li>\n",
    "      <li>Define the \"Resource\", which represents the bucket resources that you want to allow or deny access to.</li>\n",
    "      <li>Define any additional conditions, such as IP address or time-based restrictions, for the policy.</li>\n",
    "      <li>Review the policy and click \"Save\".</li>\n",
    "      \n",
    "    \n",
    "      \n",
    "    \n",
    "  </ul>\n",
    "</p><br><br>\n",
    "<p align='justify' style='margin: 10px 20px; line-height:1.5; font-family: \"Times New Roman\", Times, serif; font-size:16px; color: purple'>\n",
    "  Here's an example S3 bucket policy that allows read-only access to a specific IAM user:\n",
    "\n",
    "</p>"
   ]
  },
  {
   "cell_type": "code",
   "execution_count": null,
   "id": "75a76122",
   "metadata": {
    "slideshow": {
     "slide_type": "subslide"
    }
   },
   "outputs": [],
   "source": [
    "{\n",
    "  \"Version\": \"2012-10-17\",\n",
    "  \"Statement\": [\n",
    "    {\n",
    "      \"Effect\": \"Allow\",\n",
    "      \"Principal\": {\n",
    "        \"AWS\": \"arn:aws:iam::123456789012:user/username\"\n",
    "      },\n",
    "      \"Action\": [\n",
    "        \"s3:GetObject\",\n",
    "        \"s3:ListBucket\"\n",
    "      ],\n",
    "      \"Resource\": [\n",
    "        \"arn:aws:s3:::example-bucket/*\",\n",
    "        \"arn:aws:s3:::example-bucket\"\n",
    "      ]\n",
    "    }\n",
    "  ]\n",
    "}\n"
   ]
  },
  {
   "cell_type": "markdown",
   "id": "1ff25750",
   "metadata": {
    "slideshow": {
     "slide_type": "subslide"
    }
   },
   "source": [
    "<h3 style='color:red; font-weight:bold; text-align:center; font-family: \"Times New Roman\", Times, serif; font-size:20px;'> Creating a DynamoDB Table and Adding Data to It</h3><br>\n",
    "<img src=\"1_kerzrD2QLsl5a28j9E6_rg.jpeg\" width=\"150\" height=\"250\" style=\"float: left; margin-right: 20px; margin-left: 20px;\">\n",
    "<p align='justify' style='margin: 10px 20px; line-height:1.5; font-family: \"Times New Roman\", Times, serif; font-size:16px; color: black'>\n",
    "  Amazon DynamoDB is a fast and flexible NoSQL database service for all applications that need consistent, single-digit millisecond latency at any scale. It is a fully managed database and supports both document and key-value store models. Here are the steps to create a DynamoDB table and add data to it:\n",
    "</p><br>\n",
    "<p align='justify' style='margin: 10px 20px; line-height:1.5; font-family: \"Times New Roman\", Times, serif; font-size:16px; color: black'>\n",
    "  Once you're signed in to the AWS Management Console, you can create a DynamoDB table. <br><br><br><strong style = \"color: purple\">Here's how to do it: </strong>\n",
    "\n",
    "</p>"
   ]
  },
  {
   "cell_type": "markdown",
   "id": "9f10e072",
   "metadata": {
    "slideshow": {
     "slide_type": "subslide"
    }
   },
   "source": [
    "<p align='justify' style='margin: 10px 20px; line-height:1.5; font-family: \"Times New Roman\", Times, serif; font-size:16px; color: purple'>\n",
    "    \n",
    "    \n",
    "  <ul style='font-family: \"Times New Roman\", Times, serif; font-weight:light; font-size:16px;'>\n",
    "      <li><b style = \"color: purple\">Click on \"Services\" in the top menu bar and select \"DynamoDB\". after that click on create table</b>\n",
    "\n",
    "</li>\n",
    "      \n",
    "    \n",
    "      \n",
    "    \n",
    "  </ul>\n",
    "</p><br>\n",
    "<img src=\"2023-02-24_20-27_1.png\" width=\"900\" height=\"700\" style=\"float: center; margin-center: 50px; ; margin-left: 25px; margin-right: 5px\">"
   ]
  },
  {
   "cell_type": "markdown",
   "id": "bb978f65",
   "metadata": {
    "slideshow": {
     "slide_type": "subslide"
    }
   },
   "source": [
    "<p align='justify' style='margin: 10px 20px; line-height:1.5; font-family: \"Times New Roman\", Times, serif; font-size:16px; color: purple'>\n",
    "    \n",
    "    \n",
    "  <ul style='font-family: \"Times New Roman\", Times, serif; font-weight:light; font-size:16px;'>\n",
    "      <li><b style = \"color: purple\">Enter a unique name for the table and a primary key for the items in the table.</b>\n",
    "\n",
    "</li>\n",
    "      \n",
    "    \n",
    "      \n",
    "    \n",
    "  </ul>\n",
    "</p><br>\n",
    "<img src=\"2023-02-24_20-55.png\" width=\"900\" height=\"700\" style=\"float: center; margin-center: 50px; ; margin-left: 25px; margin-right: 5px\">"
   ]
  },
  {
   "cell_type": "markdown",
   "id": "a5eeead6",
   "metadata": {
    "slideshow": {
     "slide_type": "subslide"
    }
   },
   "source": [
    "<p align='justify' style='margin: 10px 20px; line-height:1.5; font-family: \"Times New Roman\", Times, serif; font-size:16px; color: purple'>\n",
    "    \n",
    "    \n",
    "  <ul style='font-family: \"Times New Roman\", Times, serif; font-weight:light; font-size:16px;'>\n",
    "      <li><b style = \"color: purple\">Configure the settings for the table, such as the read and write capacity units and the DynamoDB streams.<br><br><br>Review the table details and click \"Create\".\n",
    "</b>\n",
    "\n",
    "</li>\n",
    "      \n",
    "    \n",
    "      \n",
    "    \n",
    "  </ul>\n",
    "</p><br>\n",
    "<h4 style='color:red; font-weight:bold; text-align:center; font-family: \"Times New Roman\", Times, serif; font-size:18px; color: purple'> Add Data to the Table</h4><br>\n",
    "<p align='justify' style='margin: 10px 20px; line-height:1.5; font-family: \"Times New Roman\", Times, serif; font-size:16px; color: black'>\n",
    "  Once you've created a DynamoDB table, you can add data to it using the AWS Management Console or the AWS SDKs. <br><br><b>Here's how to do it using the AWS Management Console:</b>\n",
    "\n",
    "</p>"
   ]
  },
  {
   "cell_type": "markdown",
   "id": "f6e369f7",
   "metadata": {
    "slideshow": {
     "slide_type": "subslide"
    }
   },
   "source": [
    "<p align='justify' style='margin: 10px 20px; line-height:1.5; font-family: \"Times New Roman\", Times, serif; font-size:16px; color: purple'>\n",
    "    \n",
    "    \n",
    "  <ul style='font-family: \"Times New Roman\", Times, serif; font-weight:light; font-size:16px;'>\n",
    "      <li><b style = \"color: purple\">Select the table you want to add data to and click on explore table items\n",
    "</b>\n",
    "\n",
    "</li>\n",
    "      \n",
    "    \n",
    "      \n",
    "    \n",
    "  </ul>\n",
    "</p><br>\n",
    "\n",
    "<img src=\"2023-02-24_21-19.png\" width=\"900\" height=\"700\" style=\"float: center; margin-center: 50px; ; margin-left: 25px; margin-right: 5px\">"
   ]
  },
  {
   "cell_type": "markdown",
   "id": "53249681",
   "metadata": {
    "slideshow": {
     "slide_type": "subslide"
    }
   },
   "source": [
    "<p align='justify' style='margin: 10px 20px; line-height:1.5; font-family: \"Times New Roman\", Times, serif; font-size:16px; color: purple'>\n",
    "    \n",
    "    \n",
    "  <ul style='font-family: \"Times New Roman\", Times, serif; font-weight:light; font-size:16px;'>\n",
    "      <li><b style = \"color: purple\">Click on \"Create item\".</b>\n",
    "\n",
    "</li>\n",
    "      \n",
    "    \n",
    "      \n",
    "    \n",
    "  </ul>\n",
    "</p><br>\n",
    "\n",
    "<img src=\"2023-02-24_21-23.png\" width=\"900\" height=\"700\" style=\"float: center; margin-center: 50px; ; margin-left: 25px; margin-right: 5px\">"
   ]
  },
  {
   "cell_type": "markdown",
   "id": "0a0851ca",
   "metadata": {
    "slideshow": {
     "slide_type": "subslide"
    }
   },
   "source": [
    "<p align='justify' style='margin: 10px 20px; line-height:1.5; font-family: \"Times New Roman\", Times, serif; font-size:16px; color: purple'>\n",
    "    \n",
    "    \n",
    "  <ul style='font-family: \"Times New Roman\", Times, serif; font-weight:light; font-size:16px;'>\n",
    "      <li><b style = \"color: purple\">Enter the attribute values for the item in the JSON format.</b>\n",
    "\n",
    "</li>\n",
    "      \n",
    "    \n",
    "      \n",
    "    \n",
    "  </ul>\n",
    "</p><br>\n",
    "\n",
    "<img src=\"2023-02-24_21-58.png\" width=\"900\" height=\"700\" style=\"float: center; margin-center: 50px; ; margin-left: 25px; margin-right: 5px\"><br><br>\n",
    "<p align='justify' style='margin: 10px 20px; line-height:1.5; font-family: \"Times New Roman\", Times, serif; font-size:16px; color: black'>\n",
    "  Here is an example code you can modify to create an item \n",
    "\n",
    "</p>"
   ]
  },
  {
   "cell_type": "code",
   "execution_count": null,
   "id": "eee63074",
   "metadata": {
    "slideshow": {
     "slide_type": "subslide"
    }
   },
   "outputs": [],
   "source": [
    "{\n",
    "  \"TableName\": \"my-table-name\",\n",
    "  \"Item\": {\n",
    "    \"placehole\": {\"S\": \"placeholder value\"},\n",
    "    \"placehole_db\": {\"S\": \"placeholder value\"},\n",
    "    \"id\": {\"S\": \"1234\"},\n",
    "    \"name\": {\"S\": \"John Doe\"},\n",
    "    \"age\": {\"N\": \"30\"},\n",
    "    \"email\": {\"S\": \"johndoe@example.com\"},\n",
    "    \"address\": {\"M\": {\n",
    "        \"street\": {\"S\": \"123 Main St.\"},\n",
    "        \"city\": {\"S\": \"Anytown\"},\n",
    "        \"state\": {\"S\": \"CA\"},\n",
    "        \"zip\": {\"N\": \"12345\"}\n",
    "      }\n",
    "    }\n",
    "  }\n",
    "}"
   ]
  },
  {
   "cell_type": "markdown",
   "id": "2b44c682",
   "metadata": {
    "slideshow": {
     "slide_type": "subslide"
    }
   },
   "source": [
    "<p align='justify' style='margin: 10px 20px; line-height:1.5; font-family: \"Times New Roman\", Times, serif; font-size:16px; color: black'>\n",
    "  Alternatively, you can use the AWS SDKs to add data to a DynamoDB table. Here's an example code snippet in Python:\n",
    "\n",
    "</p>"
   ]
  },
  {
   "cell_type": "code",
   "execution_count": null,
   "id": "af2de047",
   "metadata": {
    "slideshow": {
     "slide_type": "subslide"
    }
   },
   "outputs": [],
   "source": [
    "import boto3\n",
    "\n",
    "dynamodb = boto3.resource('dynamodb')\n",
    "\n",
    "table = dynamodb.Table('my-table')\n",
    "\n",
    "response = table.put_item(\n",
    "   Item={\n",
    "        'id': '123',\n",
    "        'name': 'John Doe',\n",
    "        'email': 'johndoe@example.com'\n",
    "    }\n",
    ")\n",
    "\n",
    "print(response)"
   ]
  },
  {
   "cell_type": "markdown",
   "id": "34ecee24",
   "metadata": {
    "slideshow": {
     "slide_type": "subslide"
    }
   },
   "source": [
    "<h4 style='color:red; font-weight:bold; text-align:center; font-family: \"Times New Roman\", Times, serif; font-size:18px; color: purple'> Querying and Managing Data in DynamoDB</h4><br>\n",
    "<p align='justify' style='margin: 10px 20px; line-height:1.5; font-family: \"Times New Roman\", Times, serif; font-size:16px; color: black'>\n",
    "  Amazon DynamoDB is a fast and flexible NoSQL database service for all applications that need consistent, single-digit millisecond latency at any scale. It is a fully managed database and supports both document and key-value store models. <br><br><br>DynamoDB provides several ways to query data, including Query, Scan, and GetItem APIs. Here's how to query data in DynamoDB using the Query API:\n",
    "\n",
    "</p>"
   ]
  },
  {
   "cell_type": "markdown",
   "id": "1867f9b8",
   "metadata": {
    "slideshow": {
     "slide_type": "subslide"
    }
   },
   "source": [
    "<p align='justify' style='margin: 10px 20px; line-height:1.5; font-family: \"Times New Roman\", Times, serif; font-size:16px; color: purple'>\n",
    "    \n",
    "    \n",
    "  <ul style='font-family: \"Times New Roman\", Times, serif; font-weight:light; font-size:16px;'>\n",
    "      <li><b style = \"color: purple\">In the AWS Management Console, select the table you want to query and click on explore tables once again, Under explore tables select \"query\" </b>\n",
    "\n",
    "</li>\n",
    "      \n",
    "    \n",
    "      \n",
    "    \n",
    "  </ul>\n",
    "</p><br>\n",
    "<img src=\"2023-02-24_22-24.png\" width=\"900\" height=\"700\" style=\"float: center; margin-center: 50px; ; margin-left: 25px; margin-right: 5px\">"
   ]
  },
  {
   "cell_type": "markdown",
   "id": "62a21b9e",
   "metadata": {
    "slideshow": {
     "slide_type": "subslide"
    }
   },
   "source": [
    "<p align='justify' style='margin: 10px 20px; line-height:1.5; font-family: \"Times New Roman\", Times, serif; font-size:16px; color: purple'>\n",
    "    \n",
    "    \n",
    "  <ul style='font-family: \"Times New Roman\", Times, serif; font-weight:light; font-size:16px;'>\n",
    "      <li><b style = \"color: purple\">Enter the query criteria, such as the partition key, sort key, and other attributes.</b>\n",
    "\n",
    "</li>\n",
    "      \n",
    "    \n",
    "      \n",
    "    \n",
    "  </ul>\n",
    "</p><br>\n",
    "<img src=\"2023-02-24_22-31.png\" width=\"900\" height=\"700\" style=\"float: center; margin-center: 50px; ; margin-left: 25px; margin-right: 5px\">"
   ]
  },
  {
   "cell_type": "markdown",
   "id": "72dcb6e8",
   "metadata": {
    "slideshow": {
     "slide_type": "subslide"
    }
   },
   "source": [
    "<p align='justify' style='margin: 10px 20px; line-height:1.5; font-family: \"Times New Roman\", Times, serif; font-size:16px; color: purple'>\n",
    "  Review the query results and click \"Execute\".\n",
    "\n",
    "</p><br><br>\n",
    "\n",
    "<p align='justify' style='margin: 10px 20px; line-height:1.5; font-family: \"Times New Roman\", Times, serif; font-size:16px; color: black'>\n",
    "  Alternatively, you can use the AWS SDKs to query data in DynamoDB. Here's an example code snippet in Python:\n",
    "\n",
    "</p>"
   ]
  },
  {
   "cell_type": "code",
   "execution_count": null,
   "id": "2a949686",
   "metadata": {
    "slideshow": {
     "slide_type": "subslide"
    }
   },
   "outputs": [],
   "source": [
    "import boto3\n",
    "\n",
    "dynamodb = boto3.resource('dynamodb')\n",
    "\n",
    "table = dynamodb.Table('my-table')\n",
    "\n",
    "response = table.query(\n",
    "    KeyConditionExpression=Key('id').eq('123')\n",
    ")\n",
    "\n",
    "items = response['Items']\n",
    "print(items)"
   ]
  },
  {
   "cell_type": "markdown",
   "id": "98438ab3",
   "metadata": {
    "slideshow": {
     "slide_type": "slide"
    }
   },
   "source": [
    "<h2 style='color:red; font-weight:bold; text-align:center; font-family: \"Times New Roman\", Times, serif; font-size:22px;'>SERVERLESS COMPUTING WITH LAMBDA</h2><br>\n",
    "<p align='justify' style='margin: 10px 20px; line-height:1.5; font-family: \"Times New Roman\", Times, serif; font-size:16px; color: purple'>\n",
    "    <strong>Creating a Lambda function and triggering it with various events </strong> \n",
    "    \n",
    "  <ul style='font-family: \"Times New Roman\", Times, serif; font-weight:light; font-size:16px;'>\n",
    "      <li><b>Using Lambda to process and transform data  </b></li>\n",
    "      <li><b>Integrating Lambda with S3 and DynamoDB  </b></li>\n",
    "      <li><b>Debugging and troubleshooting Lambda functions  </b></li>\n",
    "      \n",
    "      \n",
    "    \n",
    "    \n",
    "  </ul>\n",
    "</p><br>\n",
    "\n",
    "<img src=\"download.jpeg\" width=\"150\" height=\"250\" style=\"float: left; margin-right: 20px; margin-left: 20px;\">\n",
    "<p align='justify' style='margin: 10px 20px; line-height:1.5; font-family: \"Times New Roman\", Times, serif; font-size:16px; color: purple'>\n",
    "  AWS Lambda is a compute service that lets you run code without provisioning or managing servers. It is a fully managed service that supports multiple programming languages and allows you to build and run applications and services without the need to worry about the infrastructure.\n",
    "\n",
    "</p><br><br>\n",
    "<h2 style='color:red; font-weight:bold; text-align:center; font-family: \"Times New Roman\", Times, serif; font-size:20px;'>Creating a Lambda function and triggering it with various events</h2><br>\n",
    "\n",
    "<p align='justify' style='margin: 10px 20px; line-height:1.5; font-family: \"Times New Roman\", Times, serif; font-size:16px; color: purple'>\n",
    "  Once you're signed in to the AWS Management Console, you can create a Lambda function:\n",
    "\n",
    "</p>"
   ]
  },
  {
   "cell_type": "markdown",
   "id": "5c1cac6b",
   "metadata": {
    "slideshow": {
     "slide_type": "subslide"
    }
   },
   "source": [
    "<p align='justify' style='margin: 10px 20px; line-height:1.5; font-family: \"Times New Roman\", Times, serif; font-size:16px; color: purple'>\n",
    "    \n",
    "    \n",
    "  <ul style='font-family: \"Times New Roman\", Times, serif; font-weight:light; font-size:16px;'>\n",
    "      <li><b style = \"color: purple\">Click on the \"Services\" dropdown in the top navigation bar and select \"Lambda\".</b>\n",
    "          <li><b style = \"color: purple\">Click on the \"Create function\" button and select the \"Author from scratch\" option.</b>\n",
    "\n",
    "</li>\n",
    "      \n",
    "    \n",
    "      \n",
    "    \n",
    "  </ul>\n",
    "</p><br>\n",
    "<img src=\"2023-02-24_22-55.png\" width=\"900\" height=\"700\" style=\"float: center; margin-center: 50px; ; margin-left: 25px; margin-right: 5px\">"
   ]
  },
  {
   "cell_type": "markdown",
   "id": "9d168299",
   "metadata": {
    "slideshow": {
     "slide_type": "subslide"
    }
   },
   "source": [
    "<p align='justify' style='margin: 10px 20px; line-height:1.5; font-family: \"Times New Roman\", Times, serif; font-size:16px; color: purple'>\n",
    "    \n",
    "    \n",
    "  <ul style='font-family: \"Times New Roman\", Times, serif; font-weight:light; font-size:16px;'>\n",
    "      <li><b style = \"color: purple\">Give your function a name, choose a runtime, and select the execution role.<br>Click on the \"Create function\" button to create your function.</b></li>\n",
    "      \n",
    "    \n",
    "      \n",
    "    \n",
    "  </ul>\n",
    "</p><br>\n",
    "<img src=\"2023-02-24_22-59.png\" width=\"900\" height=\"700\" style=\"float: center; margin-center: 50px; ; margin-left: 25px; margin-right: 5px\">"
   ]
  },
  {
   "cell_type": "markdown",
   "id": "1cc97c81",
   "metadata": {
    "slideshow": {
     "slide_type": "subslide"
    }
   },
   "source": [
    "<h4 style='color:red; font-weight:bold; text-align:center; font-family: \"Times New Roman\", Times, serif; font-size:18px; color: purple'>  Configure a Trigger</h4><br>\n",
    "<p align='justify' style='margin: 10px 20px; line-height:1.5; font-family: \"Times New Roman\", Times, serif; font-size:16px; color: black'>\n",
    "  Once you've created your function, you can configure a trigger to invoke it. Lambda supports various trigger types, such as API Gateway, S3, CloudWatch, and more. Here's how to configure a trigger for your Lambda function:\n",
    "\n",
    "</p><br>\n",
    "\n",
    "<p align='justify' style='margin: 10px 20px; line-height:1.5; font-family: \"Times New Roman\", Times, serif; font-size:16px; color: purple'>\n",
    "    \n",
    "    \n",
    "  <ul style='font-family: \"Times New Roman\", Times, serif; font-weight:light; font-size:16px;'>\n",
    "      <li><b style = \"color: purple\">Click on the \"Add trigger\" button in the Designer section of your Lambda function.</b></li>\n",
    "      \n",
    "    \n",
    "      \n",
    "    \n",
    "  </ul>\n",
    "</p><br>\n",
    "<img src=\"2023-02-24_23-18.png\" width=\"900\" height=\"700\" style=\"float: center; margin-center: 50px; ; margin-left: 25px; margin-right: 5px\">"
   ]
  },
  {
   "cell_type": "markdown",
   "id": "13c44688",
   "metadata": {
    "slideshow": {
     "slide_type": "subslide"
    }
   },
   "source": [
    "<p align='justify' style='margin: 10px 20px; line-height:1.5; font-family: \"Times New Roman\", Times, serif; font-size:16px; color: purple'>\n",
    "    \n",
    "    \n",
    "  <ul style='font-family: \"Times New Roman\", Times, serif; font-weight:light; font-size:16px;'>\n",
    "      <li><b style = \"color: purple\">Select the type of trigger you want to use, such as S3, and configure its settings.<br><br>Click on the \"Add\" button to configure the trigger for the function.\n",
    "</b></li>\n",
    "      \n",
    "    \n",
    "      \n",
    "    \n",
    "  </ul>\n",
    "</p><br>\n",
    "<img src=\"2023-02-24_23-21.png\" width=\"900\" height=\"700\" style=\"float: center; margin-center: 50px; ; margin-left: 25px; margin-right: 5px\">"
   ]
  },
  {
   "cell_type": "markdown",
   "id": "1e51356a",
   "metadata": {
    "slideshow": {
     "slide_type": "subslide"
    }
   },
   "source": [
    "<h4 style='color:red; font-weight:bold; text-align:center; font-family: \"Times New Roman\", Times, serif; font-size:18px; color: purple'> Write and Test Your Lambda Function</h4><br>\n",
    "<p align='justify' style='margin: 10px 20px; line-height:1.5; font-family: \"Times New Roman\", Times, serif; font-size:16px; color: black'>\n",
    "  Now that you've created your function and configured a trigger, you can write your Lambda function code and test it. Here's an example code snippet in Python that prints a message when the function is invoked:\n",
    "\n",
    "</p>"
   ]
  },
  {
   "cell_type": "code",
   "execution_count": null,
   "id": "dc4e31a1",
   "metadata": {
    "slideshow": {
     "slide_type": "subslide"
    }
   },
   "outputs": [],
   "source": [
    "import json\n",
    "\n",
    "def lambda_handler(event, context):\n",
    "    # Print a message when the function is invoked\n",
    "    print(\"Hello from Lambda!\")\n",
    "    \n",
    "    # Return a response\n",
    "    response = {\n",
    "        \"statusCode\": 200,\n",
    "        \"body\": json.dumps({\"message\": \"Hello from Lambda!\"})\n",
    "    }\n",
    "    \n",
    "    return response"
   ]
  },
  {
   "cell_type": "markdown",
   "id": "ec1b0985",
   "metadata": {
    "slideshow": {
     "slide_type": "subslide"
    }
   },
   "source": [
    "<p align='justify' style='margin: 10px 20px; line-height:1.5; font-family: \"Times New Roman\", Times, serif; font-size:16px; color: black'>\n",
    "  After you've written your Lambda function code and configured a trigger, you can monitor and manage your function using the AWS Management Console or the AWS CLI. You can view the function logs to see the results of your function execution, set up alerts and alarms to monitor function performance and errors, and configure the function settings to optimize its performance and cost.\n",
    "\n",
    "</p><br><br>\n",
    "<h4 style='color:red; font-weight:bold; text-align:center; font-family: \"Times New Roman\", Times, serif; font-size:18px; color: purple'>Integrating Lambda with S3 and DynamoDB</h4><br>\n",
    "<p align='justify' style='margin: 10px 20px; line-height:1.5; font-family: \"Times New Roman\", Times, serif; font-size:16px; color: black'>\n",
    "  AWS Lambda can be easily integrated with other AWS services to build powerful and scalable applications. Two of the most commonly integrated services are Amazon S3 and DynamoDB.in the example above, we used S3, we will follow the same steps to integrate Lambda with DynamoDB\n",
    "\n",
    "</p>"
   ]
  },
  {
   "cell_type": "markdown",
   "id": "4163a806",
   "metadata": {
    "slideshow": {
     "slide_type": "subslide"
    }
   },
   "source": [
    "<p align='justify' style='margin: 10px 20px; line-height:1.5; font-family: \"Times New Roman\", Times, serif; font-size:16px; color: purple'>\n",
    "    \n",
    "    \n",
    "  <ul style='font-family: \"Times New Roman\", Times, serif; font-weight:light; font-size:16px;'>\n",
    "      <li><b style = \"color: purple\">Select the type of trigger you want to use, in this case, we will select DynamoDb , and configure its settings.<br><br>Click on the \"Add\" button to configure the trigger for the function.\n",
    "          </b></li>\n",
    "      \n",
    " </ul>\n",
    "      \n",
    "</p><br>\n",
    "<img src=\"2023-02-25_05-30.png\" width=\"900\" height=\"700\" style=\"float: center; margin-center: 50px; ; margin-left: 25px; margin-right: 5px\">"
   ]
  },
  {
   "cell_type": "markdown",
   "id": "c8fe016a",
   "metadata": {
    "slideshow": {
     "slide_type": "slide"
    }
   },
   "source": [
    "<h2 style='color:red; font-weight:bold; text-align:center; font-family: \"Times New Roman\", Times, serif; font-size:22px;'>DEPLOYING WEB APPLICATIONS WITH EC2</h2><br>\n",
    "<p align='justify' style='margin: 10px 20px; line-height:1.5; font-family: \"Times New Roman\", Times, serif; font-size:16px; color: purple'>\n",
    "    <strong>Deploying Web Applications with EC2</strong> \n",
    "    \n",
    "  <ul style='font-family: \"Times New Roman\", Times, serif; font-weight:light; font-size:16px;'>\n",
    "      <li><b>Cloning a GitHub repository and running a Flask web application on EC2  </b></li>\n",
    "      <li><b>Configuring Elastic IP and port forwarding for URL redirection </b></li>\n",
    "      <li><b>Securing EC2 instances with security groups and IAM roles  </b></li>\n",
    "      \n",
    "      \n",
    "    \n",
    "    \n",
    "  </ul>\n",
    "  \n",
    "</p><br><br>\n",
    "<img src=\"images.jpeg\" width=\"150\" height=\"250\" style=\"float: left; margin-right: 20px; margin-left: 20px;\">\n",
    "<p align='justify' style='margin: 10px 20px; line-height:1.6; font-family: \"Times New Roman\", Times, serif; font-size:16px; color: black'>\n",
    "  Deploying web applications with EC2 is a common use case for Amazon Web Services. Launching an EC2 instance with the appropriate software and configuration is an important step in deploying web applications on AWS.\n",
    "\n",
    "</p>"
   ]
  },
  {
   "cell_type": "markdown",
   "id": "fc688f1e",
   "metadata": {
    "slideshow": {
     "slide_type": "subslide"
    }
   },
   "source": [
    "<p align='justify' style='margin: 10px 20px; line-height:1.6; font-family: \"Times New Roman\", Times, serif; font-size:16px; color: purple'>\n",
    "  We have already seen how we can launch EC2 instance and connect to it via ssh, here we will see how to clone a GitHub repository and run a Flask web application on EC2, configuring elastic IP and port forwarding for URL redirection and securing EC2 instances with security groups and IAM roles\n",
    "\n",
    "</p><br><br>\n",
    "<img src=\"2023-02-25_06-40.png\" width=\"900\" height=\"700\" style=\"float: center; margin-center: 50px; ; margin-left: 25px; margin-right: 5px\">"
   ]
  },
  {
   "cell_type": "markdown",
   "id": "d03f0a61",
   "metadata": {
    "slideshow": {
     "slide_type": "subslide"
    }
   },
   "source": [
    "<h2 style='color:red; font-weight:bold; text-align:center; font-family: \"Times New Roman\", Times, serif; font-size:20px;'>Cloning a GitHub repository and running a Flask web application on EC2 </h2><br>\n",
    "<img src=\"1_5HSQUQ4EU3oDUEvKTKBKjA.png\" width=\"150\" height=\"250\" style=\"float: left; margin-right: 20px; margin-left: 20px;\">\n",
    "<p align='justify' style='margin: 10px 20px; line-height:1.5; font-family: \"Times New Roman\", Times, serif; font-size:16px; color: purple'>\n",
    "  Cloning a GitHub Repository and Running a Flask Web Application on EC2\n",
    "Flask is a popular Python web framework that allows you to build web applications quickly and easily. You can host your Flask application on an EC2 instance by cloning the application's GitHub repository and running it on the instance.\n",
    "\n",
    "</p><br><br><br>\n",
    "<p align='justify' style='margin: 10px 20px; line-height:1.6; font-family: \"Times New Roman\", Times, serif; font-size:16px; color: black'>\n",
    "  To clone a GitHub repository and run a Flask web application on an EC2 instance, you can follow these steps:\n",
    "\n",
    "</p>"
   ]
  },
  {
   "cell_type": "markdown",
   "id": "e0f2edd2",
   "metadata": {
    "slideshow": {
     "slide_type": "subslide"
    }
   },
   "source": [
    "<p align='justify' style='margin: 10px 20px; line-height:1.5; font-family: \"Times New Roman\", Times, serif; font-size:16px; color: purple'>\n",
    "    \n",
    "    \n",
    "  <ul style='font-family: \"Times New Roman\", Times, serif; font-weight:light; font-size:16px;'>\n",
    "      <li><b style = \"color: purple\">Once you've connected to the instance, you can clone the GitHub repository that contains your Flask web application:\n",
    "          </b></li>\n",
    "      \n",
    " </ul>\n",
    "      \n",
    "</p><br>\n",
    "<p align='justify' style='margin: 10px 20px; line-height:1.6; font-family: \"Times New Roman\", Times, serif; font-size:16px; color: black'>\n",
    "    Run the following command to install Git on the instance: <br><br><i>sudo yum install git</i>\n",
    "\n",
    "</p><br>\n",
    "<img src=\"2023-02-25_07-05.png\" width=\"900\" height=\"700\" style=\"float: center; margin-center: 50px; ; margin-left: 25px; margin-right: 5px\"><br><br>\n",
    "<p align='justify' style='margin: 10px 20px; line-height:1.6; font-family: \"Times New Roman\", Times, serif; font-size:16px; color: black'>\n",
    "    Run the following command to clone the GitHub repository: git clone <br><br><i>git clone https://github.com/your_username/your_repository.git</i><br><br><strong style = \"color: red\">Replace \"your_username\" with your GitHub username and \"your_repository\" with the name of your repository.</strong>\n",
    "\n",
    "</p>"
   ]
  },
  {
   "cell_type": "markdown",
   "id": "30e2d883",
   "metadata": {
    "slideshow": {
     "slide_type": "subslide"
    }
   },
   "source": [
    "<p align='justify' style='margin: 10px 20px; line-height:1.5; font-family: \"Times New Roman\", Times, serif; font-size:16px; color: purple'>\n",
    "    \n",
    "    \n",
    "  <ul style='font-family: \"Times New Roman\", Times, serif; font-weight:light; font-size:16px;'>\n",
    "      <li><b style = \"color: purple\">Install the Required Software:\n",
    "          </b> <br><br>After you've cloned the repository, you'll need to install the required software to run the Flask web application:<br><br><br>Run the following command to install Python and pip: <b><i>sudo yum install python3-pip</i></b><br>Run the following command to install the required Python packages: <b><i>sudo pip3 install -r requirements.txt</i><.b><br><br><br><strong style = \"color: red\">Replace \"requirements.txt\" with the name of the requirements file for your application.</strong></li>\n",
    "      \n",
    " </ul>\n",
    "      \n",
    "</p>"
   ]
  },
  {
   "cell_type": "markdown",
   "id": "6e3b2f7b",
   "metadata": {
    "slideshow": {
     "slide_type": "subslide"
    }
   },
   "source": [
    "<p align='justify' style='margin: 10px 20px; line-height:1.5; font-family: \"Times New Roman\", Times, serif; font-size:16px; color: purple'>\n",
    "    \n",
    "    \n",
    "  <ul style='font-family: \"Times New Roman\", Times, serif; font-weight:light; font-size:16px;'>\n",
    "      <li><b style = \"color: purple\">Run the Flask Web Application</b><br><br>Once you've installed the required software, you can run the Flask web application:<br><br><br>Run the following command to start the Flask development server: <i>python3 app.py</i><br><br><br><b style = \"color:red\">\n",
    "This will start the server and you can access the application by navigating to the public IP address of the instance in your web browser.</b></li>\n",
    "      \n",
    " </ul>\n",
    "      \n",
    "</p>"
   ]
  },
  {
   "cell_type": "markdown",
   "id": "99068760",
   "metadata": {
    "slideshow": {
     "slide_type": "subslide"
    }
   },
   "source": [
    "<h4 style='color:red; font-weight:bold; text-align:center; font-family: \"Times New Roman\", Times, serif; font-size:18px; color: purple'>Configuring Elastic IP and port forwarding for URL redirection</h4><br>\n",
    "<img src=\"Port-Fwd-Fig1.png\" width=\"150\" height=\"250\" style=\"float: left; margin-right: 20px; margin-left: 20px;\">\n",
    "<p align='justify' style='margin: 10px 20px; line-height:2.6; font-family: \"Times New Roman\", Times, serif; font-size:16px; color: black'>\n",
    "  When you launch an EC2 instance, it is assigned a dynamic public IP address that can change every time the instance is stopped and started again. To avoid having to update your DNS records every time the IP address changes, you can use Elastic IP (EIP), which is a static IP address that you can allocate to your AWS account and associate with your instance.<br><br><b style = \"color: red\">Here are the steps to configure Elastic IP and port forwarding for URL redirection:</b>\n",
    "\n",
    "</p>"
   ]
  },
  {
   "cell_type": "markdown",
   "id": "20218df6",
   "metadata": {
    "slideshow": {
     "slide_type": "subslide"
    }
   },
   "source": [
    "<p align='justify' style='margin: 10px 20px; line-height:1.5; font-family: \"Times New Roman\", Times, serif; font-size:16px; color: purple'>\n",
    "    \n",
    "    \n",
    "  <ul style='font-family: \"Times New Roman\", Times, serif; font-weight:light; font-size:16px;'>\n",
    "      <li><b style = \"color: purple\">Sign in to the AWS Management Console and navigate to the EC2 service.</b><br><br>Click on \"Elastic IPs\" in the left-hand navigation menu.</li>\n",
    "      \n",
    " </ul>\n",
    "      \n",
    "</p><br>\n",
    "<img src=\"2023-02-25_07-41.png\" width=\"900\" height=\"700\" style=\"float: center; margin-center: 50px; ; margin-left: 25px; margin-right: 5px\">"
   ]
  },
  {
   "cell_type": "markdown",
   "id": "b4a3eb9f",
   "metadata": {
    "slideshow": {
     "slide_type": "subslide"
    }
   },
   "source": [
    "<p align='justify' style='margin: 10px 20px; line-height:1.5; font-family: \"Times New Roman\", Times, serif; font-size:16px; color: purple'>\n",
    "    \n",
    "    \n",
    "  <ul style='font-family: \"Times New Roman\", Times, serif; font-weight:light; font-size:16px;'>\n",
    "      <li><b style = \"color: purple\">Click on \"Allocate Elastic IP address\" and confirm the allocation by clicking on \"Allocate\".</b></li>\n",
    "      \n",
    " </ul>\n",
    "      \n",
    "</p><br>\n",
    "<img src=\"2023-02-25_07-44.png\" width=\"900\" height=\"700\" style=\"float: center; margin-center: 50px; ; margin-left: 25px; margin-right: 5px\">"
   ]
  },
  {
   "cell_type": "markdown",
   "id": "e18a0bc9",
   "metadata": {
    "slideshow": {
     "slide_type": "subslide"
    }
   },
   "source": [
    "<h4 style='color:red; font-weight:bold; text-align:center; font-family: \"Times New Roman\", Times, serif; font-size:18px; color: purple'> Associate the Elastic IP with your instance</h4><br>\n",
    "<p align='justify' style='margin: 10px 20px; line-height:1.5; font-family: \"Times New Roman\", Times, serif; font-size:16px; color: purple'>\n",
    "    \n",
    "    \n",
    "  <ul style='font-family: \"Times New Roman\", Times, serif; font-weight:light; font-size:16px;'>\n",
    "      <li><b style = \"color: black\">In the \"Elastic IPs\" dashboard, select the EIP you just allocated.</b></li>\n",
    "      \n",
    " </ul>\n",
    "      \n",
    "</p><br>\n",
    "<img src=\"2023-02-25_07-47.png\" width=\"900\" height=\"700\" style=\"float: center; margin-center: 50px; ; margin-left: 25px; margin-right: 5px\">"
   ]
  },
  {
   "cell_type": "markdown",
   "id": "cc28ca52",
   "metadata": {
    "slideshow": {
     "slide_type": "subslide"
    }
   },
   "source": [
    "<p align='justify' style='margin: 10px 20px; line-height:1.5; font-family: \"Times New Roman\", Times, serif; font-size:16px; color: purple'>\n",
    "    \n",
    "    \n",
    "  <ul style='font-family: \"Times New Roman\", Times, serif; font-weight:light; font-size:16px;'>\n",
    "      <li><b style = \"color: purple\">Click on \"Actions\" and select \"Associate IP address\".</b></li>\n",
    "      \n",
    " </ul>\n",
    "      \n",
    "</p><br>\n",
    "<img src=\"2023-02-25_07-54.png\" width=\"900\" height=\"700\" style=\"float: center; margin-center: 50px; ; margin-left: 25px; margin-right: 5px\">"
   ]
  },
  {
   "cell_type": "markdown",
   "id": "b27db2e2",
   "metadata": {},
   "source": [
    "<p align='justify' style='margin: 10px 20px; line-height:1.5; font-family: \"Times New Roman\", Times, serif; font-size:16px; color: purple'>\n",
    "    \n",
    "    \n",
    "  <ul style='font-family: \"Times New Roman\", Times, serif; font-weight:light; font-size:16px;'>\n",
    "      <li><b style = \"color: purple\">Choose the instance you want to associate with the EIP and click on \"Associate\".</b></li>\n",
    "      \n",
    " </ul>\n",
    "      \n",
    "</p><br>\n",
    "<img src=\"2023-02-25_07-58.png\" width=\"900\" height=\"700\" style=\"float: center; margin-center: 50px; ; margin-left: 25px; margin-right: 5px\">"
   ]
  },
  {
   "cell_type": "markdown",
   "id": "fd4344cf",
   "metadata": {
    "slideshow": {
     "slide_type": "subslide"
    }
   },
   "source": [
    "<h4 style='color:red; font-weight:bold; text-align:center; font-family: \"Times New Roman\", Times, serif; font-size:18px; color: purple'> Update your DNS records</h4><br>\n",
    "<p align='justify' style='margin: 10px 20px; line-height:1.5; font-family: \"Times New Roman\", Times, serif; font-size:16px; color: purple'>\n",
    "    \n",
    "    \n",
    "  <ul style='font-family: \"Times New Roman\", Times, serif; font-weight:light; font-size:16px;'>\n",
    "      <li>If you have a domain name registered with a DNS provider, you need to update your DNS records to point to the Elastic IP address.</li>\n",
    "      <li>In the DNS management console of your provider, add a new \"A\" record and set the value to the Elastic IP address.</li>\n",
    "      \n",
    " </ul>\n",
    "      \n",
    "</p><br><br>\n",
    "<h4 style='color:red; font-weight:bold; text-align:center; font-family: \"Times New Roman\", Times, serif; font-size:18px; color: purple'>  Configure port forwarding</h4><br>\n",
    "<p align='justify' style='margin: 10px 20px; line-height:1.5; font-family: \"Times New Roman\", Times, serif; font-size:16px; color: purple'>\n",
    "    \n",
    "    \n",
    "  <ul style='font-family: \"Times New Roman\", Times, serif; font-weight:light; font-size:16px;'>\n",
    "      <li>Log in to your EC2 instance using SSH.</li>\n",
    "      <li>In the DNS management console of your provider, add a new \"A\" record and set the value to the Elastic IP address.</li>\n",
    "      <li>Edit the Flask application code to listen on port 80, which is the default HTTP port</li>\n",
    "      <li>Install and configure Nginx as a reverse proxy server to forward traffic from port 80 to your Flask application running on a different port, such as 5000.</li>\n",
    "      <li>Restart Nginx and verify that you can access your Flask application using your domain name.</li>\n",
    "      \n",
    " </ul>\n",
    "      \n",
    "</p>"
   ]
  },
  {
   "cell_type": "markdown",
   "id": "67ed40cf",
   "metadata": {
    "slideshow": {
     "slide_type": "subslide"
    }
   },
   "source": [
    "<h3 style='color:red; font-weight:bold; text-align:center; font-family: \"Times New Roman\", Times, serif; font-size:20px;'>Securing EC2 instances with security groups and IAM roles </h3><br>\n",
    "<img src=\"cloudformation-instance-bootstrapping-best-practices.png\" width=\"150\" height=\"250\" style=\"float: left; margin-right: 20px; margin-left: 20px;\">\n",
    "<p align='justify' style='margin: 10px 20px; line-height:1.5; font-family: \"Times New Roman\", Times, serif; font-size:16px; color: purple'>\n",
    "  Securing EC2 Instances with Security Groups and IAM Roles\n",
    "Amazon Elastic Compute Cloud (EC2) is a web service that provides scalable computing capacity in the cloud. However, just like any other computing resource, EC2 instances are vulnerable to security threats if not properly secured. In this section, we'll discuss how to secure EC2 instances with security groups and IAM roles.\n",
    "\n",
    "</p><br>\n",
    "<p align='justify' style='margin: 10px 20px; line-height:1.6; font-family: \"Times New Roman\", Times, serif; font-size:16px; color: black'>\n",
    "    <strong style = \"color: red\"> Understanding Security Groups</strong><br><br> A security group acts as a virtual firewall for your instance to control inbound and outbound traffic. By default, EC2 instances come with a default security group that allows all traffic, which is not ideal from a security standpoint. To secure your instance, you should create a custom security group and specify the inbound and outbound traffic rules based on your requirements.\n",
    "\n",
    "\n",
    "\n",
    "</p>"
   ]
  },
  {
   "cell_type": "markdown",
   "id": "2e0426c2",
   "metadata": {
    "slideshow": {
     "slide_type": "subslide"
    }
   },
   "source": [
    "<h4 style='color:red; font-weight:bold; text-align:center; font-family: \"Times New Roman\", Times, serif; font-size:18px; color: purple'> Creating a Custom Security Group</h4><br>\n",
    "<p align='justify' style='margin: 10px 20px; line-height:1.5; font-family: \"Times New Roman\", Times, serif; font-size:16px; color: purple'>\n",
    "    To create a custom security group for your EC2 instance, follow these steps:<br><br>\n",
    "    \n",
    "  <ul style='font-family: \"Times New Roman\", Times, serif; font-weight:light; font-size:16px;'>\n",
    "      <li><b>Navigate to the EC2 Dashboard on the AWS Management Console. and click on \"Security Groups\" in the left-hand navigation pane.</b></li>\n",
    "      \n",
    "      \n",
    " </ul>\n",
    "      \n",
    "</p><br>\n",
    "<img src=\"2023-02-25_08-16.png\" width=\"900\" height=\"700\" style=\"float: center; margin-center: 50px; ; margin-left: 25px; margin-right: 5px\">"
   ]
  },
  {
   "cell_type": "markdown",
   "id": "69473cc6",
   "metadata": {
    "slideshow": {
     "slide_type": "subslide"
    }
   },
   "source": [
    "<p align='justify' style='margin: 10px 20px; line-height:1.5; font-family: \"Times New Roman\", Times, serif; font-size:16px; color: purple'>\n",
    "    \n",
    "    \n",
    "  <ul style='font-family: \"Times New Roman\", Times, serif; font-weight:light; font-size:16px;'>\n",
    "      <li><b style = \"color: purple\">Click on the \"Create Security Group\" button.</b></li>\n",
    "      \n",
    "      \n",
    " </ul>\n",
    "      \n",
    "</p><br>\n",
    "<img src=\"2023-02-25_08-19.png\" width=\"900\" height=\"700\" style=\"float: center; margin-center: 50px; ; margin-left: 25px; margin-right: 5px\">"
   ]
  },
  {
   "cell_type": "markdown",
   "id": "431ba40e",
   "metadata": {
    "slideshow": {
     "slide_type": "subslide"
    }
   },
   "source": [
    "<p align='justify' style='margin: 10px 20px; line-height:1.5; font-family: \"Times New Roman\", Times, serif; font-size:16px; color: purple'>\n",
    "    \n",
    "    \n",
    "  <ul style='font-family: \"Times New Roman\", Times, serif; font-weight:light; font-size:16px;'>\n",
    "      <li><b style = \"color: purple\">Enter a name and description for the security group, and select the VPC for which you want to create the security group.</b></li>\n",
    "      \n",
    "      \n",
    " </ul>\n",
    "      \n",
    "</p><br>\n",
    "<img src=\"2023-02-25_08-21.png\" width=\"900\" height=\"700\" style=\"float: center; margin-center: 50px; ; margin-left: 25px; margin-right: 5px\">"
   ]
  },
  {
   "cell_type": "markdown",
   "id": "f8c911ee",
   "metadata": {
    "slideshow": {
     "slide_type": "subslide"
    }
   },
   "source": [
    "<p align='justify' style='margin: 10px 20px; line-height:1.5; font-family: \"Times New Roman\", Times, serif; font-size:16px; color: purple'>\n",
    "    \n",
    "    \n",
    "  <ul style='font-family: \"Times New Roman\", Times, serif; font-weight:light; font-size:16px;'>\n",
    "      <li><b style = \"color: purple\">Add inbound and outbound rules to allow only the necessary traffic. For example, you might allow inbound SSH traffic from your IP address and HTTP traffic from the internet.</b></li>\n",
    "      \n",
    "      \n",
    " </ul>\n",
    "      \n",
    "</p><br>\n",
    "<img src=\"2023-02-25_08-25.png\" width=\"900\" height=\"700\" style=\"float: center; margin-center: 50px; ; margin-left: 25px; margin-right: 5px\">"
   ]
  },
  {
   "cell_type": "markdown",
   "id": "ee7f68f0",
   "metadata": {
    "slideshow": {
     "slide_type": "subslide"
    }
   },
   "source": [
    "<h4 style='color:red; font-weight:bold; text-align:center; font-family: \"Times New Roman\", Times, serif; font-size:18px; color: purple'>  Applying the Security Group to Your Instance</h4><br>\n",
    "<p align='justify' style='margin: 10px 20px; line-height:1.5; font-family: \"Times New Roman\", Times, serif; font-size:16px; color: purple'>\n",
    "    To apply the security group to your instance, follow these steps:<br><br>\n",
    "    \n",
    "  <ul style='font-family: \"Times New Roman\", Times, serif; font-weight:light; font-size:16px;'>\n",
    "      <li>Navigate to the EC2 Dashboard on the AWS Management Console.</li>\n",
    "      <li>Click on \"Instances\" in the left-hand navigation pane.</li>\n",
    "      <li>Select the instance for which you want to apply the security group.</li>\n",
    "      <li>Click on \"Actions\" and select \"Security\" and \"Change Security Groups.\"</li>\n",
    "      \n",
    "      \n",
    " </ul>\n",
    "      \n",
    "</p><br>\n",
    "<img src=\"2023-02-25_08-35.png\" width=\"900\" height=\"700\" style=\"float: center; margin-center: 50px; ; margin-left: 25px; margin-right: 5px\">"
   ]
  },
  {
   "cell_type": "markdown",
   "id": "8925cf02",
   "metadata": {},
   "source": [
    "<p align='justify' style='margin: 10px 20px; line-height:1.5; font-family: \"Times New Roman\", Times, serif; font-size:16px; color: purple'>\n",
    "    \n",
    "    \n",
    "  <ul style='font-family: \"Times New Roman\", Times, serif; font-weight:light; font-size:16px;'>\n",
    "      <li><b style = \"color: purple\">Select the custom security group that you just created and click \"Assign Security Groups.\"</b></li>\n",
    "      \n",
    "      \n",
    " </ul>\n",
    "      \n",
    "</p><br>\n",
    "<img src=\"2023-02-25_08-37.png\" width=\"900\" height=\"700\" style=\"float: center; margin-center: 50px; ; margin-left: 25px; margin-right: 5px\">"
   ]
  },
  {
   "cell_type": "markdown",
   "id": "2d50eebb",
   "metadata": {
    "slideshow": {
     "slide_type": "subslide"
    }
   },
   "source": [
    "<h4 style='color:red; font-weight:bold; text-align:center; font-family: \"Times New Roman\", Times, serif; font-size:18px; color: purple'> Understanding IAM Roles</h4><br>\n",
    "<p align='justify' style='margin: 10px 20px; line-height:1.6; font-family: \"Times New Roman\", Times, serif; font-size:16px; color: black'>\n",
    "    Identity and Access Management (IAM) roles enable you to manage access to your AWS resources securely. IAM roles are similar to users, but they are not associated with a specific person. Instead, they are associated with a specific set of permissions.\n",
    "\n",
    "\n",
    "\n",
    "</p><br>\n",
    "<p align='justify' style='margin: 10px 20px; line-height:1.5; font-family: \"Times New Roman\", Times, serif; font-size:16px; color: purple'>\n",
    "    <strong style = \"color: red\">Creating an IAM Role for Your Instance</strong><br><br>To create an IAM role for your EC2 instance, follow these steps:\n",
    "\n",
    "\n",
    "    \n",
    "  <ul style='font-family: \"Times New Roman\", Times, serif; font-weight:light; font-size:16px;'>\n",
    "      <li>Navigate to the IAM Dashboard on the AWS Management Console.</li>\n",
    "      <li>Click on \"Roles\" in the left-hand navigation pane.</li>\n",
    "      <li>Click on the \"Create Role\" button.</li>\n",
    "      \n",
    "      \n",
    "      \n",
    " </ul>\n",
    "      \n",
    "</p><br>\n",
    "<img src=\"2023-02-25_08-47.png\" width=\"900\" height=\"700\" style=\"float: center; margin-center: 50px; ; margin-left: 25px; margin-right: 5px\">"
   ]
  },
  {
   "cell_type": "markdown",
   "id": "3849801b",
   "metadata": {
    "slideshow": {
     "slide_type": "subslide"
    }
   },
   "source": [
    "<p align='justify' style='margin: 10px 20px; line-height:1.5; font-family: \"Times New Roman\", Times, serif; font-size:16px; color: purple'>\n",
    "    \n",
    "    \n",
    "  <ul style='font-family: \"Times New Roman\", Times, serif; font-weight:light; font-size:16px;'>\n",
    "      <li><b style = \"color: purple\">Select the EC2 service as the service that will use this role and click \"Next: Permissions.\"</b></li>\n",
    "      \n",
    "      \n",
    " </ul>\n",
    "      \n",
    "</p><br>\n",
    "<img src=\"2023-02-25_08-51.png\" width=\"900\" height=\"700\" style=\"float: center; margin-center: 50px; ; margin-left: 25px; margin-right: 5px\">"
   ]
  },
  {
   "cell_type": "markdown",
   "id": "ac01286c",
   "metadata": {
    "slideshow": {
     "slide_type": "subslide"
    }
   },
   "source": [
    "<p align='justify' style='margin: 10px 20px; line-height:1.5; font-family: \"Times New Roman\", Times, serif; font-size:16px; color: purple'>\n",
    "    \n",
    "    \n",
    "  <ul style='font-family: \"Times New Roman\", Times, serif; font-weight:light; font-size:16px;'>\n",
    "      <li><b style = \"color: purple\">Select the permissions that you want to grant to the role, such as read-only access to S3.</b></li>\n",
    "      \n",
    "      \n",
    " </ul>\n",
    "      \n",
    "</p><br>\n",
    "<img src=\"2023-02-25_08-54.png\" width=\"900\" height=\"700\" style=\"float: center; margin-center: 50px; ; margin-left: 25px; margin-right: 5px\">"
   ]
  },
  {
   "cell_type": "markdown",
   "id": "31d1bc61",
   "metadata": {
    "slideshow": {
     "slide_type": "subslide"
    }
   },
   "source": [
    "<p align='justify' style='margin: 10px 20px; line-height:1.5; font-family: \"Times New Roman\", Times, serif; font-size:16px; color: purple'>\n",
    "    \n",
    "    \n",
    "  <ul style='font-family: \"Times New Roman\", Times, serif; font-weight:light; font-size:16px;'>\n",
    "      <li>Click \"Next: Tags\" and add any tags that you want to associate with the role.</li>\n",
    "      <li>Click \"Next: Review\" and review the role details</li>\n",
    "      <li>Enter a name and description for the role and click \"Create Role.\"</li>\n",
    "      \n",
    "      \n",
    "      \n",
    " </ul>\n",
    "      \n",
    "</p>\n",
    "<img src=\"2023-02-25_08-58.png\" width=\"900\" height=\"700\" style=\"float: center; margin-center: 50px; ; margin-left: 25px; margin-right: 5px\">"
   ]
  },
  {
   "cell_type": "markdown",
   "id": "d5e6bb9e",
   "metadata": {
    "slideshow": {
     "slide_type": "subslide"
    }
   },
   "source": [
    "<h4 style='color:red; font-weight:bold; text-align:center; font-family: \"Times New Roman\", Times, serif; font-size:18px; color: purple'>Assigning the IAM Role to Your Instance</h4><br>\n",
    "<p align='justify' style='margin: 10px 20px; line-height:1.5; font-family: \"Times New Roman\", Times, serif; font-size:16px; color: purple'>\n",
    "    To assign the IAM role to your EC2 instance, follow these steps:\n",
    "    \n",
    "  <ul style='font-family: \"Times New Roman\", Times, serif; font-weight:light; font-size:16px;'>\n",
    "      <li>Navigate to the EC2 Dashboard on the AWS Management Console.</li>\n",
    "      <li>Click on \"Instances\" in the left-hand navigation pane.</li>\n",
    "      <li>Select the instance for which you want to assign the IAM role.</li>\n",
    "      <li>Click on \"Actions\" and select \"Instance Settings/Security\" and \"Attach/Replace IAM Role.</li>\n",
    "      \n",
    "      \n",
    "      \n",
    "      \n",
    " </ul>\n",
    "      \n",
    "</p><br>\n",
    "<img src=\"2023-02-25_09-06.png\" width=\"900\" height=\"700\" style=\"float: center; margin-center: 50px; ; margin-left: 25px; margin-right: 5px\">"
   ]
  },
  {
   "cell_type": "markdown",
   "id": "6448cb2f",
   "metadata": {
    "slideshow": {
     "slide_type": "subslide"
    }
   },
   "source": [
    "<p align='justify' style='margin: 10px 20px; line-height:1.5; font-family: \"Times New Roman\", Times, serif; font-size:16px; color: purple'>\n",
    "    \n",
    "    \n",
    "  <ul style='font-family: \"Times New Roman\", Times, serif; font-weight:light; font-size:16px;'>\n",
    "      <li><b style = \"color: purple\">Select the IAM role that you just created and click \"Update IAM role\"</b></li>\n",
    "      \n",
    "      \n",
    " </ul>\n",
    "      \n",
    "</p><br>\n",
    "<img src=\"2023-02-25_09-10.png\" width=\"900\" height=\"700\" style=\"float: center; margin-center: 50px; ; margin-left: 25px; margin-right: 5px\">"
   ]
  },
  {
   "cell_type": "markdown",
   "id": "077210f1",
   "metadata": {
    "slideshow": {
     "slide_type": "slide"
    }
   },
   "source": [
    "<h2 style='color:red; font-weight:bold; text-align:center; font-family: \"Times New Roman\", Times, serif; font-size:22px;'>USING MONGODB ON EC2</h2><br>\n",
    "<p align='justify' style='margin: 10px 20px; line-height:1.5; font-family: \"Times New Roman\", Times, serif; font-size:16px; color: purple'>\n",
    "    <strong>Using MongoDB on EC2  </strong> \n",
    "     \n",
    "  <ul style='font-family: \"Times New Roman\", Times, serif; font-weight:light; font-size:16px;'>\n",
    "      <li><b>Installing and configuring MongoDB on an EC2 instance  </b></li>\n",
    "      <li><b>Connecting to MongoDB from an EC2 instance and manipulating data  </b></li>\n",
    "      <li><b>Securing MongoDB with access control and authentication  </b></li>\n",
    "      \n",
    "      \n",
    "    \n",
    "    \n",
    "  </ul>\n",
    "</p><br>\n",
    "\n",
    "<img src=\"1622698022399.png\" width=\"150\" height=\"250\" style=\"float: left; margin-right: 20px; margin-left: 20px;\">\n",
    "<p align='justify' style='margin: 10px 20px; line-height:1.5; font-family: \"Times New Roman\", Times, serif; font-size:16px; color: purple'>\n",
    "  Installing and configuring MongoDB on an EC2 instance is a straightforward process that can be done in just a few steps. Here's a general guide on how to do it:\n",
    "\n",
    "</p><br><br>\n",
    "<p align='justify' style='margin: 10px 20px; line-height:1.5; font-family: \"Times New Roman\", Times, serif; font-size:16px; color: black'>\n",
    "    After you've connected to the EC2 instance, you can install MongoDB:\n",
    "    \n",
    "  <ul style='font-family: \"Times New Roman\", Times, serif; font-weight:light; font-size:16px;'>\n",
    "      <li><b style = \"color: purple\">Add the MongoDB repository to the Yum configuration file: <br><br><i>sudo vi /etc/yum.repos.d/mongodb-org-4.4.repo</i></b></li>\n",
    "      \n",
    "      \n",
    " </ul>\n",
    "      \n",
    "</p><br>\n",
    "<img src=\"2023-02-25_09-32.png\" width=\"900\" height=\"700\" style=\"float: center; margin-center: 50px; ; margin-left: 25px; margin-right: 5px\">"
   ]
  },
  {
   "cell_type": "code",
   "execution_count": null,
   "id": "2155570f",
   "metadata": {
    "slideshow": {
     "slide_type": "subslide"
    }
   },
   "outputs": [],
   "source": [
    "# Add the following lines to the file:\n",
    "\n",
    "[mongodb-org-4.4]\n",
    "name=MongoDB Repository\n",
    "baseurl=https://repo.mongodb.org/yum/amazon/2/mongodb-org/4.4/x86_64/\n",
    "gpgcheck=1\n",
    "enabled=1\n",
    "gpgkey=https://www.mongodb.org/static/pgp/server-4.4.asc\n",
    "    \n",
    "# Save and close the file."
   ]
  },
  {
   "cell_type": "markdown",
   "id": "a08cbf64",
   "metadata": {
    "slideshow": {
     "slide_type": "subslide"
    }
   },
   "source": [
    "<p align='justify' style='margin: 10px 20px; line-height:1.5; font-family: \"Times New Roman\", Times, serif; font-size:16px; color: black'>\n",
    "    \n",
    "    \n",
    "  <ul style='font-family: \"Times New Roman\", Times, serif; font-weight:light; font-size:16px;'>\n",
    "      <li><b style = \"color: purple\">Install MongoDB by running the command: <br><br><i>sudo yum install -y mongodb-org</i></b></li>\n",
    "      \n",
    "      \n",
    " </ul>\n",
    "      \n",
    "</p><br>\n",
    "<img src=\"2023-02-25_09-37.png\" width=\"900\" height=\"700\" style=\"float: center; margin-center: 50px; ; margin-left: 25px; margin-right: 5px\">"
   ]
  },
  {
   "cell_type": "markdown",
   "id": "c8c85e78",
   "metadata": {
    "slideshow": {
     "slide_type": "subslide"
    }
   },
   "source": [
    "<h4 style='color:red; font-weight:bold; text-align:center; font-family: \"Times New Roman\", Times, serif; font-size:18px; color: purple'> Configure MongoDB</h4><br>\n",
    "<p align='justify' style='margin: 10px 20px; line-height:1.5; font-family: \"Times New Roman\", Times, serif; font-size:16px; color: purple'>\n",
    "    After you've installed MongoDB, you need to configure it:\n",
    "    \n",
    "  <ul style='font-family: \"Times New Roman\", Times, serif; font-weight:light; font-size:16px;'>\n",
    "      <li>Start the MongoDB service by running the command:<br><br><i>sudo systemctl start mongod</i></li>\n",
    "      \n",
    "      \n",
    "      \n",
    "      \n",
    "      \n",
    " </ul>\n",
    "      \n",
    "</p><br>\n",
    "<img src=\"2023-02-25_20-09.png\" width=\"900\" height=\"700\" style=\"float: center; margin-center: 50px; ; margin-left: 25px; margin-right: 5px\">"
   ]
  },
  {
   "cell_type": "markdown",
   "id": "5760ffd5",
   "metadata": {
    "slideshow": {
     "slide_type": "subslide"
    }
   },
   "source": [
    "<p align='justify' style='margin: 10px 20px; line-height:1.5; font-family: \"Times New Roman\", Times, serif; font-size:16px; color: purple'>\n",
    "    \n",
    "    \n",
    "  <ul style='font-family: \"Times New Roman\", Times, serif; font-weight:light; font-size:16px;'>\n",
    "      <li><strong style = \"color: purple\"> Check the status of the MongoDB service by running the command: </strong><br><br><i>sudo systemctl status mongod</i></li>\n",
    "      \n",
    "      \n",
    "      \n",
    "      \n",
    "      \n",
    " </ul>\n",
    "      \n",
    "</p><br>\n",
    "<img src=\"2023-02-25_20-13.png\" width=\"900\" height=\"700\" style=\"float: center; margin-center: 50px; ; margin-left: 25px; margin-right: 5px\">"
   ]
  },
  {
   "cell_type": "markdown",
   "id": "25aed21f",
   "metadata": {
    "slideshow": {
     "slide_type": "subslide"
    }
   },
   "source": [
    "<p align='justify' style='margin: 10px 20px; line-height:1.5; font-family: \"Times New Roman\", Times, serif; font-size:16px; color: purple'>\n",
    "    \n",
    "    \n",
    "  <ul style='font-family: \"Times New Roman\", Times, serif; font-weight:light; font-size:16px;'>\n",
    "      <li><strong style = \"color: purple\"> Enable the MongoDB service to start automatically at boot time by running the command: </strong><br><br><i>sudo systemctl enable mongod</i></li><br>\n",
    "      <li><strong style = \"color: purple\"> Configure the firewall to allow access to the MongoDB port by running the commands: </strong><br><br><i>sudo firewall-cmd --zone=public --add-port=27017/tcp --permanent<br>sudo firewall-cmd --reload</i></li><br>\n",
    "      \n",
    "      \n",
    "      \n",
    "      \n",
    "\n",
    "      \n",
    "      \n",
    " </ul>\n",
    "      \n",
    "</p><br>\n",
    "<img src=\"2023-02-25_20-40.png\" width=\"900\" height=\"700\" style=\"float: center; margin-center: 50px; ; margin-left: 25px; margin-right: 5px\">"
   ]
  },
  {
   "cell_type": "markdown",
   "id": "825f1bf8",
   "metadata": {
    "slideshow": {
     "slide_type": "subslide"
    }
   },
   "source": [
    "<h4 style='color:red; font-weight:bold; text-align:center; font-family: \"Times New Roman\", Times, serif; font-size:18px; color: purple'>Verify MongoDB Installation</h4><br>\n",
    "<p align='justify' style='margin: 10px 20px; line-height:1.5; font-family: \"Times New Roman\", Times, serif; font-size:16px; color: purple'>\n",
    "    To verify that MongoDB is installed and running correctly, you can run the following commands:\n",
    "    \n",
    "  <ul style='font-family: \"Times New Roman\", Times, serif; font-weight:light; font-size:16px;'>\n",
    "      <li>Connect to the MongoDB shell by running the command: <br><br><i>mongo</i></li><br>\n",
    "      <li> Show the databases by running the command: <br><br><i>show dbs</i></li>\n",
    "      \n",
    "      \n",
    "       \n",
    "      \n",
    " </ul>\n",
    "      \n",
    "</p><br>\n",
    "\n",
    "<img src=\"2023-02-25_20-49.png\" width=\"900\" height=\"700\" style=\"float: center; margin-center: 50px; ; margin-left: 25px; margin-right: 5px\">"
   ]
  },
  {
   "cell_type": "markdown",
   "id": "9dacf8dc",
   "metadata": {
    "slideshow": {
     "slide_type": "subslide"
    }
   },
   "source": [
    "<h3 style='color:red; font-weight:bold; text-align:center; font-family: \"Times New Roman\", Times, serif; font-size:20px;'>Connecting to MongoDB from an EC2 instance and manipulating data</h3><br>\n",
    "<img src=\"download.png\" width=\"150\" height=\"250\" style=\"float: left; margin-right: 20px; margin-left: 20px;\">\n",
    "<p align='justify' style='margin: 10px 20px; line-height:1.5; font-family: \"Times New Roman\", Times, serif; font-size:16px; color: purple'>\n",
    "  MongoDB is a popular NoSQL database that is often used for web applications. If you're using MongoDB with your web application running on an EC2 instance, you'll need to connect to the database from the EC2 instance and manipulate the data.\n",
    "\n",
    "</p><br>\n",
    "<p align='justify' style='margin: 10px 20px; line-height:1.5; font-family: \"Times New Roman\", Times, serif; font-size:16px; color: black'>\n",
    "  Once you have installed MongoDB on the EC2 instance, you can connect to the MongoDB instance using the mongo shell:<br><br><br><strong style = \"color:purple\">Run the following command to start the mongo shell:</strong><br><i>mongo</i>\n",
    "\n",
    "\n",
    "</p>"
   ]
  },
  {
   "cell_type": "markdown",
   "id": "1e0a338a",
   "metadata": {
    "slideshow": {
     "slide_type": "subslide"
    }
   },
   "source": [
    "<p align='justify' style='margin: 10px 20px; line-height:1.5; font-family: \"Times New Roman\", Times, serif; font-size:16px; color: purple'>\n",
    "    \n",
    "    \n",
    "  <ul style='font-family: \"Times New Roman\", Times, serif; font-weight:light; font-size:16px;'>\n",
    "      <li><strong style = \"color: purple\"> Run the following command to switch to the database that you want to use:</strong><br><br><i>use mydatabase</i><br><br>You can now manipulate data in the MongoDB database using the mongo shell.</li>\n",
    "      \n",
    "      \n",
    "      \n",
    "      \n",
    "      \n",
    " </ul>\n",
    "      \n",
    "</p><br>\n",
    "<img src=\"2023-02-25_21-12.png\" width=\"900\" height=\"700\" style=\"float: center; margin-center: 50px; ; margin-left: 25px; margin-right: 5px\">"
   ]
  },
  {
   "cell_type": "markdown",
   "id": "6abd443d",
   "metadata": {
    "slideshow": {
     "slide_type": "subslide"
    }
   },
   "source": [
    "<h4 style='color:red; font-weight:bold; text-align:center; font-family: \"Times New Roman\", Times, serif; font-size:18px; color: purple'>Manipulate Data in MongoDB</h4><br>\n",
    "<p align='justify' style='margin: 10px 20px; line-height:1.5; font-family: \"Times New Roman\", Times, serif; font-size:16px; color: purple'>\n",
    "    Here's an example of how you can manipulate data in MongoDB using the mongo shell:\n",
    "    \n",
    "  <ul style='font-family: \"Times New Roman\", Times, serif; font-weight:light; font-size:16px;'>\n",
    "      <li>Insert a new document into a collection: <br><i>db.mycollection.insertOne({name: \"John\", age: 30})</i></li><br>\n",
    "      <li>Find all documents in a collection: <br><i>db.mycollection.find()</i></li><br>\n",
    "      <li>Update a document in a collection: <br><i>db.mycollection.updateOne({name: \"John\"}, {$set: {age: 40}})</i></li><br>\n",
    "      <li>Delete a document from a collection: <br><i>db.mycollection.deleteOne({name: \"John\"})</i></li>\n",
    "      \n",
    "      \n",
    "       \n",
    "      \n",
    " </ul>\n",
    "      \n",
    "</p><br>\n",
    "<img src=\"2023-02-25_21-28.png\" width=\"900\" height=\"700\" style=\"float: center; margin-center: 50px; ; margin-left: 25px; margin-right: 5px\">"
   ]
  },
  {
   "cell_type": "markdown",
   "id": "9dec5f88",
   "metadata": {
    "slideshow": {
     "slide_type": "subslide"
    }
   },
   "source": [
    "<h3 style='color:red; font-weight:bold; text-align:center; font-family: \"Times New Roman\", Times, serif; font-size:20px;'>Securing MongoDB with access control and authentication </h3><br>\n",
    "<img src=\"How-to-Secure-MongoDB.jpg\" width=\"150\" height=\"250\" style=\"float: left; margin-right: 20px; margin-left: 20px;\">\n",
    "<p align='justify' style='margin: 10px 20px; line-height:1.5; font-family: \"Times New Roman\", Times, serif; font-size:16px; color: purple'>\n",
    "  When running a MongoDB instance on an EC2 instance, it's important to properly secure the database by implementing access control and authentication. By default, MongoDB doesn't enable authentication or authorization, so it's essential to configure these features to ensure that only authorized users can access the database.\n",
    "\n",
    "</p><br>\n",
    "<p align='justify' style='margin: 10px 20px; line-height:1.5; font-family: \"Times New Roman\", Times, serif; font-size:16px; color: purple'>\n",
    "    Here are some steps to secure your MongoDB installation:\n",
    "    \n",
    "  <ul style='font-family: \"Times New Roman\", Times, serif; font-weight:light; font-size:16px;'>\n",
    "      <li><strong style = \"color: purple\">  Enable Access Control: </strong><br><br>The first step to securing MongoDB is to enable access control. To do this, you need to modify the MongoDB configuration file, typically located at /etc/mongod.conf. Open the file in a text editor and look for the following line:</li>\n",
    "      \n",
    "      \n",
    "      \n",
    "      \n",
    "      \n",
    " </ul>\n",
    "      \n",
    "</p>\n",
    "<img src=\"2023-02-25_21-44.png\" width=\"900\" height=\"700\" style=\"float: center; margin-center: 50px; ; margin-left: 25px; margin-right: 5px\">"
   ]
  },
  {
   "cell_type": "markdown",
   "id": "1a5b296e",
   "metadata": {
    "slideshow": {
     "slide_type": "subslide"
    }
   },
   "source": [
    "<p align='justify' style='margin: 10px 20px; line-height:1.5; font-family: \"Times New Roman\", Times, serif; font-size:16px; color: purple'>\n",
    "    Here are some steps to secure your MongoDB installation:\n",
    "    \n",
    "  <ul style='font-family: \"Times New Roman\", Times, serif; font-weight:light; font-size:16px;'>\n",
    "      <li><strong style = \"color: purple\"> Save the file and restart the MongoDB service using the following command: </strong><br><br><i>sudo service mongod restart</i></li>\n",
    "      \n",
    "      \n",
    "      \n",
    "      \n",
    "      \n",
    " </ul>\n",
    "      \n",
    "</p>"
   ]
  },
  {
   "cell_type": "markdown",
   "id": "4f6f3e76",
   "metadata": {
    "slideshow": {
     "slide_type": "subslide"
    }
   },
   "source": [
    "<h5 style='color:red; font-weight:bold; text-align:center; font-family: \"Times New Roman\", Times, serif; font-size:18px; color: purple'> Create a User with Administrative Privileges</h5><br>\n",
    "<p align='justify' style='margin: 10px 20px; line-height:1.5; font-family: \"Times New Roman\", Times, serif; font-size:16px; color: black'>\n",
    "  Once access control is enabled, you need to create a user with administrative privileges. To do this, connect to the MongoDB instance using the mongo command-line tool and run the following commands:\n",
    "\n",
    "</p>\n",
    "      \n",
    "<br>\n",
    "<img src=\"2023-02-25_21-55.png\" width=\"900\" height=\"700\" style=\"float: center; margin-center: 50px; ; margin-left: 25px; margin-right: 5px\"><br>\n",
    "<p align='justify' style='margin: 10px 20px; line-height:1.5; font-family: \"Times New Roman\", Times, serif; font-size:16px; color: purple'>\n",
    "  Replace \"password\" with a strong password of your choice. This command creates a user with the \"root\" role, which has full administrative privileges.\n",
    "\n",
    "</p>"
   ]
  },
  {
   "cell_type": "markdown",
   "id": "88f8569d",
   "metadata": {
    "slideshow": {
     "slide_type": "subslide"
    }
   },
   "source": [
    "<h5 style='color:red; font-weight:bold; text-align:center; font-family: \"Times New Roman\", Times, serif; font-size:18px; color: purple'> Create Users for Your Applications</h5><br>\n",
    "<p align='justify' style='margin: 10px 20px; line-height:1.5; font-family: \"Times New Roman\", Times, serif; font-size:16px; color: black'>\n",
    "  After creating an administrative user, you should create users for your applications with appropriate permissions. For example, if you're running a web application that needs to access the database, you should create a user with read and write permissions only for the necessary collections.\n",
    "\n",
    "</p><br><br>\n",
    "<p align='justify' style='margin: 10px 20px; line-height:1.5; font-family: \"Times New Roman\", Times, serif; font-size:16px; color: purple'>\n",
    "  To create a user for an application, connect to the MongoDB instance using the mongo command-line tool and run the following commands:\n",
    "\n",
    "</p>\n",
    "<img src=\"2023-02-26_11-25.png\" width=\"900\" height=\"700\" style=\"float: center; margin-center: 50px; ; margin-left: 25px; margin-right: 5px\"><br>\n",
    "<p align='justify' style='margin: 10px 20px; line-height:1.5; font-family: \"Times New Roman\", Times, serif; font-size:16px; color: purple'>\n",
    "  Replace \"myuser\" and \"mydatabase\" with appropriate names for your application. This command creates a user with read and write permissions only for the \"mydatabase\" database.\n",
    "\n",
    "</p>"
   ]
  },
  {
   "cell_type": "markdown",
   "id": "361035ab",
   "metadata": {
    "slideshow": {
     "slide_type": "subslide"
    }
   },
   "source": [
    "<h5 style='color:red; font-weight:bold; text-align:center; font-family: \"Times New Roman\", Times, serif; font-size:18px; color: purple'> Configure Firewall Rules and IP Whitelisting</h5><br>\n",
    "<p align='justify' style='margin: 10px 20px; line-height:1.5; font-family: \"Times New Roman\", Times, serif; font-size:16px; color: black'>\n",
    "  To further secure your MongoDB installation, you should configure firewall rules and IP whitelisting. By default, MongoDB listens on port 27017, so you should configure your firewall to only allow incoming connections on this port from trusted IP addresses.\n",
    "\n",
    "</p><br><br>\n",
    "<p align='justify' style='margin: 10px 20px; line-height:1.5; font-family: \"Times New Roman\", Times, serif; font-size:16px; color: purple'>\n",
    "  To configure firewall rules on an EC2 instance, you can use the iptables command-line tool. For example, to allow incoming connections only from IP address 1.2.3.4, you can run the following commands:\n",
    "\n",
    "</p><br>\n",
    "<img src=\"2023-02-26_11-30.png\" width=\"900\" height=\"700\" style=\"float: center; margin-center: 50px; ; margin-left: 25px; margin-right: 5px\"><br>\n",
    "<p align='justify' style='margin: 10px 20px; line-height:1.5; font-family: \"Times New Roman\", Times, serif; font-size:16px; color: purple'>\n",
    "     This configuration allows incoming connections on port 27017 only from IP address 1.2.3.4, and drops all other incoming connections.\n",
    "\n",
    "\n",
    "\n",
    "</p>"
   ]
  },
  {
   "cell_type": "markdown",
   "id": "76c9b2b1",
   "metadata": {
    "slideshow": {
     "slide_type": "slide"
    }
   },
   "source": [
    "<h2 style='color:red; font-weight:bold; text-align:center; font-family: \"Times New Roman\", Times, serif; font-size:22px;'>INFRASTRUCTURE AS CODE WITH ANSIBLE AND TERRAFORM</h2><br>\n",
    "<p align='justify' style='margin: 10px 20px; line-height:1.5; font-family: \"Times New Roman\", Times, serif; font-size:16px; color: purple'>\n",
    "    \n",
    "     \n",
    "  <ul style='font-family: \"Times New Roman\", Times, serif; font-weight:light; font-size:16px;'>\n",
    "      <li><b>Introduction to Ansible and Terraform for automating infrastructure management  </b></li>\n",
    "      <li><b>Writing Ansible playbooks for deploying applications and configuring servers  </b></li>\n",
    "      <li><b>Creating and deploying Terraform templates for AWS resources </b></li>\n",
    "      <li><b>Managing and monitoring infrastructure changes with version control  </b></li>\n",
    "      \n",
    "      \n",
    "    \n",
    "    \n",
    "  </ul>\n",
    "</p><br>\n",
    "<img src=\"ansible-terraform_(1)-600x337.png\" width=\"150\" height=\"250\" style=\"float: left; margin-right: 20px; margin-left: 20px;\">\n",
    "<p align='justify' style='margin: 10px 20px; line-height:1.5; font-family: \"Times New Roman\", Times, serif; font-size:16px; color: purple'>\n",
    "  Infrastructure management is an important aspect of IT operations, and it can be a time-consuming and complex task. To simplify the process and improve efficiency, many organizations use tools such as Ansible and Terraform to automate their infrastructure management tasks.\n",
    "\n",
    "</p><br>\n",
    "<p align='justify' style='margin: 10px 20px; line-height:1.5; font-family: \"Times New Roman\", Times, serif; font-size:16px; color: black'>\n",
    "  Ansible is a powerful automation tool that allows you to manage and configure servers, networks, and other IT infrastructure. With Ansible, you can easily automate tasks such as server provisioning, software installation, configuration management, and more. Ansible uses a simple and easy-to-understand YAML configuration language, making it easy to write and maintain automation playbooks.\n",
    "\n",
    "</p>"
   ]
  },
  {
   "cell_type": "markdown",
   "id": "b547caaf",
   "metadata": {
    "slideshow": {
     "slide_type": "subslide"
    }
   },
   "source": [
    " <p align='justify' style='margin: 10px 20px; line-height:1.5; font-family: \"Times New Roman\", Times, serif; font-size:16px; color: black'>\n",
    "  Terraform, on the other hand, is a powerful tool for managing infrastructure as code. With Terraform, you can define your infrastructure in code using a simple and declarative language, and then use Terraform to provision, manage, and update your infrastructure. Terraform supports many different cloud providers, including AWS, Google Cloud, and Microsoft Azure, and it integrates seamlessly with other tools such as Ansible and Jenkins.\n",
    "\n",
    "</p><br>\n",
    " <p align='justify' style='margin: 10px 20px; line-height:1.5; font-family: \"Times New Roman\", Times, serif; font-size:16px; color: black'>\n",
    "  Both Ansible and Terraform have their unique strengths and are often used together to provide a comprehensive infrastructure management solution. For example, you can use Terraform to provision and configure your infrastructure, and then use Ansible to deploy and manage your applications on that infrastructure. This combination provides a powerful and flexible solution for managing your IT infrastructure.\n",
    "\n",
    "</p><br>\n",
    " <p align='justify' style='margin: 10px 20px; line-height:1.5; font-family: \"Times New Roman\", Times, serif; font-size:16px; color: purple'>\n",
    "  To get started with Ansible and Terraform, you'll need to install the tools and familiarize yourself with their respective syntax and usage. Fortunately, both tools have extensive documentation and a thriving community of users who can help you get started and answer any questions you may have.\n",
    "\n",
    "</p>"
   ]
  },
  {
   "cell_type": "markdown",
   "id": "c091aaea",
   "metadata": {
    "slideshow": {
     "slide_type": "subslide"
    }
   },
   "source": [
    "<h3 style='color:red; font-weight:bold; text-align:center; font-family: \"Times New Roman\", Times, serif; font-size:20px;'>Writing Ansible playbooks for deploying applications and configuring servers </h3><br>\n",
    "<img src=\"download (1).png\" width=\"150\" height=\"250\" style=\"float: left; margin-right: 20px; margin-left: 20px;\">\n",
    "<p align='justify' style='margin: 10px 20px; line-height:1.5; font-family: \"Times New Roman\", Times, serif; font-size:16px; color: purple'>\n",
    "  Writing Ansible Playbooks for Deploying Applications and Configuring Servers\n",
    "Ansible is a powerful automation tool that allows you to manage infrastructure and applications by defining tasks in a simple, declarative language. Ansible playbooks are YAML files that contain a list of tasks that are executed on one or more hosts.\n",
    "\n",
    "</p><br><br>\n",
    "<p align='justify' style='margin: 10px 20px; line-height:1.5; font-family: \"Times New Roman\", Times, serif; font-size:16px; color: black'>\n",
    "    Here are some steps to secure your MongoDB installation:\n",
    "    \n",
    "  <ul style='font-family: \"Times New Roman\", Times, serif; font-weight:light; font-size:16px;'>\n",
    "      <li><strong style = \"color: purple\"> Define the Hosts and Groups: </strong> The first step in writing an Ansible playbook is to define the hosts and groups that the playbook will operate on. Hosts are defined by their IP addresses or domain names, while groups are defined by tags that you assign to the hosts.</li>\n",
    "      \n",
    "      \n",
    "      \n",
    "      \n",
    "      \n",
    " </ul>\n",
    "      \n",
    "</p><br>\n",
    "<p align='justify' style='margin: 10px 20px; line-height:1.5; font-family: \"Times New Roman\", Times, serif; font-size:16px; color: purple'>\n",
    "  For example, to define a group of hosts with the tag \"web\", you can create a file named \"hosts\" and add the following lines:\n",
    "\n",
    "</p>"
   ]
  },
  {
   "cell_type": "code",
   "execution_count": null,
   "id": "aa9351c1",
   "metadata": {
    "slideshow": {
     "slide_type": "subslide"
    }
   },
   "outputs": [],
   "source": [
    "[web]\n",
    "192.168.1.1\n",
    "192.168.1.2"
   ]
  },
  {
   "cell_type": "markdown",
   "id": "18f793b4",
   "metadata": {
    "slideshow": {
     "slide_type": "subslide"
    }
   },
   "source": [
    "<p align='justify' style='margin: 10px 20px; line-height:1.5; font-family: \"Times New Roman\", Times, serif; font-size:16px; color: black'>\n",
    "    \n",
    "    \n",
    "  <ul style='font-family: \"Times New Roman\", Times, serif; font-weight:light; font-size:16px;'>\n",
    "      <li><strong style = \"color: purple\"> Define the Tasks: </strong> After defining the hosts and groups, you can define the tasks that the playbook will execute on each host. Tasks are defined in a YAML format and can include any number of modules that perform various actions, such as installing software, copying files, and managing services.\n",
    "\n",
    "</li>\n",
    "      \n",
    "      \n",
    "      \n",
    "      \n",
    "      \n",
    " </ul>\n",
    "      \n",
    "</p><br><br>\n",
    "<p align='justify' style='margin: 10px 20px; line-height:1.5; font-family: \"Times New Roman\", Times, serif; font-size:16px; color: purple'>\n",
    "  For example, to install the Apache web server on the hosts with the \"web\" tag, you can create a playbook file named \"web.yml\" and add the following lines:\n",
    "\n",
    "</p>"
   ]
  },
  {
   "cell_type": "code",
   "execution_count": null,
   "id": "ff409f90",
   "metadata": {
    "slideshow": {
     "slide_type": "subslide"
    }
   },
   "outputs": [],
   "source": [
    "---\n",
    "- hosts: web\n",
    "  become: true\n",
    "  tasks:\n",
    "  - name: Install Apache\n",
    "    yum:\n",
    "      name: httpd\n",
    "      state: present\n",
    "  - name: Start Apache\n",
    "    service:\n",
    "      name: httpd\n",
    "      state: started"
   ]
  },
  {
   "cell_type": "markdown",
   "id": "1d268e4f",
   "metadata": {
    "slideshow": {
     "slide_type": "subslide"
    }
   },
   "source": [
    "<p align='justify' style='margin: 10px 20px; line-height:1.5; font-family: \"Times New Roman\", Times, serif; font-size:16px; color: purple'>\n",
    "  This playbook installs the Apache web server using the yum module and starts the service using the service module.\n",
    "\n",
    "</p><br><br>\n",
    "<p align='justify' style='margin: 10px 20px; line-height:1.5; font-family: \"Times New Roman\", Times, serif; font-size:16px; color: black'>\n",
    "    \n",
    "    \n",
    "  <ul style='font-family: \"Times New Roman\", Times, serif; font-weight:light; font-size:16px;'>\n",
    "      <li><strong style = \"color: purple\"> Run the Playbook:  </strong> After defining the tasks, you can run the playbook using the \"ansible-playbook\" command. For example, to run the \"web.yml\" playbook on the hosts with the \"web\" tag, you can use the following command:\n",
    "\n",
    "\n",
    "\n",
    "</li>\n",
    "      \n",
    "      \n",
    "      \n",
    "      \n",
    "      \n",
    " </ul>\n",
    "      \n",
    "</p>"
   ]
  },
  {
   "cell_type": "code",
   "execution_count": null,
   "id": "842bc799",
   "metadata": {
    "slideshow": {
     "slide_type": "subslide"
    }
   },
   "outputs": [],
   "source": [
    "ansible-playbook -i hosts web.yml"
   ]
  },
  {
   "cell_type": "markdown",
   "id": "44bf75e6",
   "metadata": {
    "slideshow": {
     "slide_type": "subslide"
    }
   },
   "source": [
    "<h3 style='color:red; font-weight:bold; text-align:center; font-family: \"Times New Roman\", Times, serif; font-size:20px;'>Creating and deploying Terraform templates for AWS resources </h3><br>\n",
    "<img src=\"download (1).png\" width=\"150\" height=\"250\" style=\"float: left; margin-right: 20px; margin-left: 20px;\">\n",
    "<p align='justify' style='margin: 10px 20px; line-height:1.5; font-family: \"Times New Roman\", Times, serif; font-size:16px; color: purple'>\n",
    "  Terraform is a tool for building, changing, and versioning infrastructure safely and efficiently. It provides a way to define and manage infrastructure as code, allowing for easy collaboration and repeatability. With Terraform, you can manage resources in various cloud providers, including AWS, Azure, and Google Cloud Platform.\n",
    "\n",
    "</p>"
   ]
  },
  {
   "cell_type": "markdown",
   "id": "10ced078",
   "metadata": {
    "slideshow": {
     "slide_type": "subslide"
    }
   },
   "source": [
    "<p align='justify' style='margin: 10px 20px; line-height:1.5; font-family: \"Times New Roman\", Times, serif; font-size:16px; color: red'>\n",
    "    To use Terraform, you first need to install it on your local machine. You can download the appropriate package for your operating system from the official Terraform website. After downloading the package, extract the files and add the Terraform binary to your system's PATH. <br><br><br>\n",
    "    \n",
    "  <ul style='font-family: \"Times New Roman\", Times, serif; font-weight:light; font-size:16px;'>\n",
    "      <li><strong style = \"color: purple\"> Create a Terraform Configuration File: </strong> The next step is to create a Terraform configuration file that defines the AWS resources you want to create. The configuration file is written in HashiCorp Configuration Language (HCL), which is easy to read and write.</li>\n",
    "      \n",
    "      \n",
    "      \n",
    "      \n",
    "      \n",
    " </ul>\n",
    "      \n",
    "</p><br><br>\n",
    "<p align='justify' style='margin: 10px 20px; line-height:1.5; font-family: \"Times New Roman\", Times, serif; font-size:16px; color: purple'>\n",
    "  Here's an example configuration file that creates an EC2 instance:\n",
    "\n",
    "</p>"
   ]
  },
  {
   "cell_type": "code",
   "execution_count": null,
   "id": "cde3b4da",
   "metadata": {
    "slideshow": {
     "slide_type": "subslide"
    }
   },
   "outputs": [],
   "source": [
    "provider \"aws\" {\n",
    "region = \"us-east-1\"\n",
    "}\n",
    "\n",
    "resource \"aws_instance\" \"example\" {\n",
    "ami = \"ami-0c55b159cbfafe1f0\"\n",
    "instance_type = \"t2.micro\"\n",
    "}"
   ]
  },
  {
   "cell_type": "markdown",
   "id": "470f39eb",
   "metadata": {
    "slideshow": {
     "slide_type": "subslide"
    }
   },
   "source": [
    "<p align='justify' style='margin: 10px 20px; line-height:1.5; font-family: \"Times New Roman\", Times, serif; font-size:16px; color: purple'>\n",
    "  This configuration file defines an AWS provider with the region set to us-east-1, and an EC2 instance with the AMI ID ami-0c55b159cbfafe1f0 and instance type t2.micro. You can add more resources and configure them according to your needs.\n",
    "\n",
    "</p><br><br>\n",
    "<h5 style='color:red; font-weight:bold; text-align:center; font-family: \"Times New Roman\", Times, serif; font-size:18px; color: purple'> Initialize Terraform </h5><br>\n",
    "<p align='justify' style='margin: 10px 20px; line-height:1.5; font-family: \"Times New Roman\", Times, serif; font-size:16px; color: black'>\n",
    "  After creating the configuration file, you need to initialize Terraform by running the \"terraform init\" command. This command downloads and installs the necessary plugins and modules for the AWS provider.\n",
    "\n",
    "</p>"
   ]
  },
  {
   "cell_type": "markdown",
   "id": "4215e969",
   "metadata": {
    "slideshow": {
     "slide_type": "subslide"
    }
   },
   "source": [
    "<h5 style='color:red; font-weight:bold; text-align:center; font-family: \"Times New Roman\", Times, serif; font-size:18px; color: purple'> Plan and Apply Changes</h5><br>\n",
    "<p align='justify' style='margin: 10px 20px; line-height:1.5; font-family: \"Times New Roman\", Times, serif; font-size:16px; color: black'>\n",
    "  Once Terraform is initialized, you can plan and apply changes to your infrastructure. The \"terraform plan\" command shows you the changes that will be made to your infrastructure, and the \"terraform apply\" command applies the changes.\n",
    "\n",
    "</p><br><br>\n",
    "<p align='justify' style='margin: 10px 20px; line-height:1.5; font-family: \"Times New Roman\", Times, serif; font-size:16px; color: purple'>\n",
    "  For example, to create the EC2 instance defined in the example configuration file, you can run the following commands:\n",
    "\n",
    "</p>"
   ]
  },
  {
   "cell_type": "code",
   "execution_count": null,
   "id": "7738a781",
   "metadata": {
    "slideshow": {
     "slide_type": "subslide"
    }
   },
   "outputs": [],
   "source": [
    "terraform plan\n",
    "terraform apply"
   ]
  },
  {
   "cell_type": "markdown",
   "id": "3259a697",
   "metadata": {
    "slideshow": {
     "slide_type": "subslide"
    }
   },
   "source": [
    "<p align='justify' style='margin: 10px 20px; line-height:1.5; font-family: \"Times New Roman\", Times, serif; font-size:16px; color: purple'>\n",
    "  Terraform will prompt you to confirm the changes before applying them.\n",
    "</p><br>\n",
    "<h5 style='color:red; font-weight:bold; text-align:center; font-family: \"Times New Roman\", Times, serif; font-size:18px; color: purple'>Destroy Resources</h5><br>\n",
    "<p align='justify' style='margin: 10px 20px; line-height:1.5; font-family: \"Times New Roman\", Times, serif; font-size:16px; color: black'>\n",
    "  When you're done with your resources, you can destroy them by running the \"terraform destroy\" command. This command deletes all the resources created by Terraform, so use it with caution.\n",
    "\n",
    "</p>"
   ]
  },
  {
   "cell_type": "markdown",
   "id": "9f31aad7",
   "metadata": {
    "slideshow": {
     "slide_type": "subslide"
    }
   },
   "source": [
    "<h3 style='color:red; font-weight:bold; text-align:center; font-family: \"Times New Roman\", Times, serif; font-size:20px;'>Managing and monitoring infrastructure changes with version control</h3><br>\n",
    "<img src=\"download (1).png\" width=\"150\" height=\"250\" style=\"float: left; margin-right: 20px; margin-left: 20px;\">\n",
    "<p align='justify' style='margin: 10px 20px; line-height:1.5; font-family: \"Times New Roman\", Times, serif; font-size:16px; color: purple'>\n",
    "  Version control is an essential aspect of managing and monitoring infrastructure changes. It allows teams to track changes to their infrastructure over time, collaborate effectively, and roll back changes if necessary.\n",
    "\n",
    "</p><br><br>\n",
    "<p align='justify' style='margin: 10px 20px; line-height:1.5; font-family: \"Times New Roman\", Times, serif; font-size:16px; color: black'>\n",
    "  In the context of infrastructure management, version control typically involves using a version control system (VCS) to track changes to infrastructure as code (IaC) files. These files define the desired state of the infrastructure, including the configuration of servers, networks, and other resources. By tracking changes to these files over time, teams can review, compare, and revert changes as needed.\n",
    "\n",
    "</p>"
   ]
  },
  {
   "cell_type": "markdown",
   "id": "b5c8d826",
   "metadata": {
    "slideshow": {
     "slide_type": "subslide"
    }
   },
   "source": [
    "<p align='justify' style='margin: 10px 20px; line-height:1.5; font-family: \"Times New Roman\", Times, serif; font-size:16px; color: black'>\n",
    "  One popular VCS for infrastructure management is Git, which is commonly used with platforms like GitHub, GitLab, and Bitbucket. With Git, teams can create repositories for their IaC files, which allow them to manage and track changes to the infrastructure code. They can also use Git to collaborate on the code, by forking and merging changes, and reviewing pull requests.\n",
    "\n",
    "</p><br><br>\n",
    "<p align='justify' style='margin: 10px 20px; line-height:1.5; font-family: \"Times New Roman\", Times, serif; font-size:16px; color: black'>\n",
    "  When using version control for infrastructure management, it's important to ensure that all changes to the infrastructure are made through the VCS. This means that any changes made to the infrastructure outside of the VCS, such as manual changes to servers or networks, should be avoided. By doing so, teams can maintain an accurate history of all changes to their infrastructure, making it easier to troubleshoot issues and roll back changes if necessary.\n",
    "\n",
    "</p><br><br>\n",
    "<p align='justify' style='margin: 10px 20px; line-height:1.5; font-family: \"Times New Roman\", Times, serif; font-size:16px; color: purple'>\n",
    "  In addition to version control, monitoring changes to infrastructure is also crucial. Tools like AWS Config and CloudTrail can help teams monitor changes to their infrastructure and track who made the changes. These tools can also provide visibility into the state of the infrastructure, making it easier to troubleshoot issues and ensure compliance with security policies.\n",
    "\n",
    "</p>"
   ]
  }
 ],
 "metadata": {
  "celltoolbar": "Slideshow",
  "kernelspec": {
   "display_name": "Python 3 (ipykernel)",
   "language": "python",
   "name": "python3"
  },
  "language_info": {
   "codemirror_mode": {
    "name": "ipython",
    "version": 3
   },
   "file_extension": ".py",
   "mimetype": "text/x-python",
   "name": "python",
   "nbconvert_exporter": "python",
   "pygments_lexer": "ipython3",
   "version": "3.9.13"
  },
  "toc": {
   "base_numbering": 1,
   "nav_menu": {},
   "number_sections": false,
   "sideBar": true,
   "skip_h1_title": false,
   "title_cell": "Table of Contents",
   "title_sidebar": "Contents",
   "toc_cell": false,
   "toc_position": {
    "height": "618.182px",
    "left": "32.9901px",
    "top": "180px",
    "width": "270.178px"
   },
   "toc_section_display": true,
   "toc_window_display": false
  }
 },
 "nbformat": 4,
 "nbformat_minor": 5
}
