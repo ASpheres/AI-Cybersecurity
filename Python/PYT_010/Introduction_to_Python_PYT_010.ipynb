{
 "cells": [
  {
   "cell_type": "markdown",
   "id": "33dc15dc",
   "metadata": {
    "slideshow": {
     "slide_type": "slide"
    }
   },
   "source": [
    "<a href=\"https://asphere.fr/\">\n",
    "    <img src=\"logo2.png\" width=\"500\" height=\"400\" style=\"display: block; margin: 0 auto;\">\n",
    "</a>\n",
    "<h1 style=\"text-align: center; font-family: 'Times New Roman', Times,serif ; color: purple; margin-right: 25px; margin-left: 70px;\">PYTHON FOR BEGINNERS</h1>\n",
    "<h4 style=\"text-align: center; font-family: 'Times New Roman', Times,serif ; color: black; margin-right: 25px; margin-left: 70px;\">PYT_010</h4>\n",
    "<h5 style=\"text-align: center; font-family: 'Times New Roman', Times,serif ; color: black; margin-right: 25px; margin-left: 70px;\">DURATION: Three Days (21 Hrs)</h5>\n",
    "<h4 style=\"text-align: center; font-family: 'Times New Roman', Times,serif ; color: black; margin-right: 25px; margin-left: 70px;\">OBJECTIVES</h4>\n",
    "<a href=\"https://asphere.fr/\">\n",
    "    <img src=\"python-icon-png-7.jpg\" width=\"80\" height=\"100\" style=\"float: right; margin-right: 25px; margin-left: 70px;\">\n",
    "</a>\n",
    "<h5 style=\"text-align: center; font-family: 'Times New Roman', Times,serif ; color: purple; margin-right: 70px; margin-left: 70px;\">Understand the principles of programming in Python language. <br>Know how to compile and create an executable in a Python environment.<br>Know how to run in debug mode.</h5>"
   ]
  },
  {
   "cell_type": "markdown",
   "id": "8c1b8381",
   "metadata": {
    "slideshow": {
     "slide_type": "subslide"
    }
   },
   "source": [
    "<h3 style='color:red; font-weight:bold; text-align:center; font-family: \"Times New Roman\", Times, serif; font-size:20px;'>OVERVIEW OF THE COURSE</h3>\n",
    "<p align='justify' style='margin: 10px 20px; line-height:1.5; font-family: \"Times New Roman\", Times, serif; font-size:16px; color : purple'>\n",
    "  This comprehensive course offers a thorough introduction to the Python programming language, including its history, key features, and various applications. The course begins by covering basic syntax and data types, and then progresses to more advanced topics such as conditional structures, loops, functions, and exception handling. The course also delves into object-oriented programming, including the use of classes, objects, properties, and special methods. Additionally, students will learn about file manipulation, regular expressions, working with dates and times, math operations, password management, network programming, parallel programming, and unit testing.\n",
    "</p><br>\n",
    "<p align='justify' style='margin: 10px 20px; line-height:1.5; font-family: \"Times New Roman\", Times, serif; font-size:16px; color : black'>\n",
    "  The course is designed to be both comprehensive and hands-on, with a focus on providing students with a solid understanding of the Python programming language and the ability to apply this knowledge in real-world scenarios. The course includes several appendices that cover important topics such as writing and distributing Python programs, good practices, and further resources for learning Python.\n",
    "</p><br>\n",
    "\n",
    "<p align='justify' style='margin: 10px 20px; line-height:1.5; font-family: \"Times New Roman\", Times, serif; font-size:16px; color : black'>\n",
    "    By the end of the course, students will have a solid foundation in Python programming and be well-equipped to continue learning and mastering the language. It will also help them to understand how to write, distribute, and maintain Python programs, and how to use Python to solve real-world problems. Overall, this course is a comprehensive and comprehensive introduction to the Python programming language that provides students with the knowledge and skills they need to become proficient Python developers.\n",
    "</p>\n"
   ]
  },
  {
   "cell_type": "markdown",
   "id": "30364985",
   "metadata": {
    "slideshow": {
     "slide_type": "slide"
    }
   },
   "source": [
    "<h2 style='color:red; font-weight:bold; text-align:center; font-family: \"Times New Roman\", Times, serif; font-size:22px;'>INTRODUCTION TO PYTHON</h2>\n",
    "\n",
    "<p align='justify' style='margin: 10px 20px; line-height:1.5; font-family: \"Times New Roman\", Times, serif; font-size:16px;'>\n",
    "    <strong> Lesson One: </strong> What is Python\n",
    "    \n",
    "  <ul style='font-family: \"Times New Roman\", Times, serif; font-weight:light; font-size:16px;'>\n",
    "      <li><b>History and Background of Python</b></li>\n",
    "      <li><b> Key features of Python</b></li>\n",
    "      <li><b>Why Python</b></li>\n",
    "      <li><b>Applications of Python</b></li><br>\n",
    "    \n",
    "    \n",
    "  </ul>\n",
    "</p>\n",
    "\n",
    "<p align='justify' style='margin: 10px 20px; line-height:1.5; font-family: \"Times New Roman\", Times, serif; font-size:16px; color : purple'>\n",
    "  Python is a high-level, interpreted programming language that is widely used for web development, data analysis, cybersecurity, artificial intelligence, and scientific computing. It is a general-purpose language, which means it can be used to build almost any type of software. Python was developed by Guido van Rossum, a Dutch programmer, in the late 1980s.\n",
    "</p>\n",
    "<img src=\"GuidoByPeterAdams.jpg\" width=\"150\" height=\"250\" style=\"float: left; margin-right: 10px;\">\n",
    "<p style='margin: 20px 20px; line-height:1.8; font-family: \"Times New Roman\", Times, serif; font-size:16px;'>\n",
    "  Guido Van Rossum was working on the Amoeba operating system at the time, and he needed a way to write scripts for system tasks. He decided to create a new programming language, which he named Python after the British comedy group Monty Python. Python was released in 1991 and quickly gained popularity due to its simplicity and power. It became widely used in the software industry, and it is now one of the most popular programming languages in the world.\n",
    "</p>\n"
   ]
  },
  {
   "cell_type": "markdown",
   "id": "ce4cfbc6",
   "metadata": {
    "slideshow": {
     "slide_type": "subslide"
    }
   },
   "source": [
    "<h3 style='color:purple; font-weight:bold; text-align:center; font-family: \"Times New Roman\", Times, serif;font-size:20px;'>Key Features of Python</h3>\n",
    "<p align='justify' style='margin: 10px 20px; line-height:2.5; font-family: \"Times New Roman\", Times, serif; font-size:16px; color: red'>\n",
    "  Python has a number of key features that make it a popular choice for programmers:\n",
    "    \n",
    "  <ul style='font-family: \"Times New Roman\", Times, serif; font-weight:light; font-size:16px;line-height:1.8;'>\n",
    "    <li>It has a simple, easy-to-learn syntax that emphasizes readability and reduces the cost of program maintenance.</li>\n",
    "    <li>It has a large and comprehensive standard library that supports many common programming tasks, such as connecting to web servers, reading and writing files, and handling data.</li>\n",
    "    <li>It supports object-oriented, imperative, and functional programming styles.</li>\n",
    "    <li>It can be easily integrated with other languages and tools, such as C, C++, and Fortran.</li>\n",
    "    <li>It has a large and active community of users and developers, which makes it easy to find help and support.</li>\n",
    "  </ul>\n",
    "</p>\n"
   ]
  },
  {
   "cell_type": "markdown",
   "id": "784e8372",
   "metadata": {
    "slideshow": {
     "slide_type": "subslide"
    }
   },
   "source": [
    "<p style='margin: 10px 20px; color: purple; line-height:1.5; font-family: \"Times New Roman\", Times, serif; font-size:16px;'>\n",
    "  Since its initial release in 1991, Python has undergone a number of updates and improvements. Some of the major releases of Python are as follows:\n",
    "</p><br>\n",
    "\n",
    "<table style=\"margin: 10px 15px; line-height:1.5; font-family: 'Times New Roman', Times, serif; font-size:16px;\">\n",
    "  <tr>\n",
    "    <th>Version</th>\n",
    "    <th>Description</th>\n",
    "  </tr>\n",
    "  <tr>\n",
    "      <td><strong>Python 2.0</strong></td>\n",
    "    <td style=\"text-align: left;\">This release introduced several new features, including a garbage collection system and support for Unicode.</td>\n",
    "  </tr>\n",
    "  <tr>\n",
    "    <td><strong>Python 3.0</strong></td>\n",
    "    <td style=\"text-align: left;\">This release introduced a number of backwards-incompatible changes in an effort to clean up and modernize the language.</td>\n",
    "  </tr>\n",
    "  <tr>\n",
    "    <td><strong>Python 3.9</strong></td>\n",
    "    <td style=\"text-align: left;\">This is the latest major release of Python, which includes a number of new features and improvements, such as the union operator, improved error messages, and faster performance.</td>\n",
    "  </tr>\n",
    "</table><br>\n",
    "\n",
    "<p align='justify' style='margin: 10px 20px; line-height:1.5; font-family: \"Times New Roman\", Times, serif; font-size:16px; color : purple'>\n",
    "  In addition to these major releases, there have been many smaller updates and point releases of Python over the years. The Python development team regularly releases new versions of the language to fix bugs and add new features.\n",
    "</p>"
   ]
  },
  {
   "cell_type": "markdown",
   "id": "bded951c",
   "metadata": {
    "slideshow": {
     "slide_type": "subslide"
    }
   },
   "source": [
    "<h2 style='color:purple; font-weight:bold; text-align:center; font-family: \"Times New Roman\", Times, serif;font-size:20px;'>Why is Python Important</h2>\n",
    "\n",
    "<p align='justify' style='margin: 10px 20px; line-height:2.5; font-family: \"Times New Roman\", Times, serif; font-size:16px;color: red'>\n",
    "  Python is an important programming language for a number of reasons. Some of the key reasons why Python is so popular are:\n",
    "    \n",
    "  <ul style='font-family: \"Times New Roman\", Times, serif; font-weight:light; font-size:16px;line-height:1.8;'>\n",
    "      <li><strong style='color:black'> Easy to learn and read: </strong>  Python's simple and straightforward syntax makes it easy for beginners to pick up and understand.</li>\n",
    "      <li><strong style='color:black'>High-level language: </strong>  Python is a high-level language, which means that it abstracts away many of the low-level details that other languages like C and C++ require you to handle.</li>\n",
    "      <li><strong style='color:black'>Large community:</strong>  Python has a large and active community of developers, which means that there are many resources available for learning and troubleshooting, as well as a wide variety of libraries and modules that can be used to extend the functionality of the language.</li>\n",
    "    <li><strong style='color:black'>Versatility: </strong> Python can be used for a wide variety of tasks, including web development, data analysis, artificial intelligence, and scientific computing.</li>\n",
    "    <li><strong style='color:black'>Plenty of libraries and frameworks:</strong>  Python has a plethora of libraries and frameworks to help developers to perform specific tasks efficiently and effectively.</li>\n",
    "      <li><strong style='color:black'>Open-source: </strong> Python is an open-source programming language, which means that it is free to use and distribute, and the source code is available for anyone to view and modify.\n",
    "\n",
    "\n",
    "\n",
    "</li>\n",
    "  </ul>\n",
    "    \n",
    "</p>\n"
   ]
  },
  {
   "cell_type": "markdown",
   "id": "3e426055",
   "metadata": {
    "slideshow": {
     "slide_type": "subslide"
    }
   },
   "source": [
    "<h3 style='color:purple; font-weight:bold; text-align:center; font-family: \"Times New Roman\", Times, serif;font-size:20px;'>Applications of Python</h3>\n",
    "<p align='justify' style='margin: 10px 20px; line-height:2.5; font-family: \"Times New Roman\", Times, serif; font-size:16px;color: red'>\n",
    "  Some of the most popular applications of Python are in:\n",
    "    \n",
    "  <ul style='font-family: \"Times New Roman\", Times, serif; font-weight:light; font-size:16px;line-height:1.8;'>\n",
    "      <li><strong style='color:black'> Cybersecurity:</strong>  There are a number of Python libraries and frameworks that are specifically designed for cybersecurity, such as Scapy, Pycrypto, and PyBrain. These tools can be used to build security tools, perform network analysis, and implement encryption algorithms.</li>\n",
    "      <li><strong style='color:black'>Web Development:</strong> Python can be used to build server-side web applications. There are many web frameworks available for Python, including Django and Flask, which make it easy to build and deploy web applications.</li>\n",
    "      <li><strong style='color:black'>Scientific Computing:</strong>  Python has a number of libraries, such as NumPy and SciPy, that are designed specifically for scientific computing. These libraries provide support for linear algebra, optimization, and statistical analysis.</li>\n",
    "    <li><strong style='color:black'>Data Analysis:</strong> Python has a number of libraries, such as Pandas and Matplotlib, that are designed specifically for data analysis. These libraries make it easy to work with large datasets, perform statistical analysis, and create visualizations.</li>\n",
    "    <li><strong style='color:black'>Artificial Intelligence:</strong> Python has a number of libraries, such as TensorFlow and PyTorch, that are designed specifically for building artificial intelligence models. These libraries make it easy to implement machine learning algorithms and deep learning networks.</li>\n",
    "      <li><strong style='color:black'>Education:</strong> Python is often used in introductory computer science courses due to its simplicity and ease of use. It is also used in many other fields, such as physics and economics, to teach programming concepts and perform data analysis.</li>\n",
    "  </ul>\n",
    "    \n",
    "</p>\n"
   ]
  },
  {
   "cell_type": "markdown",
   "id": "79bfcffb",
   "metadata": {
    "slideshow": {
     "slide_type": "subslide"
    }
   },
   "source": [
    "<p align='justify' style='margin: 10px 20px; line-height:2.5; font-family: \"Times New Roman\", Times, serif; font-size:16px;color: purple'>\n",
    "  Some additional ways in which Python is used include\n",
    "    \n",
    "  <ul style='font-family: \"Times New Roman\", Times, serif; font-weight:light; font-size:16px;line-height:1.8;'>\n",
    "      <li><strong style='color:black'> Game development:</strong>  Python can be used to build games using frameworks like Pygame.</li>\n",
    "      <li><strong style='color:black'>Desktop applications:</strong> Python can be used to build cross-platform desktop applications using tools like PyQt and Kivy.</li>\n",
    "      <li><strong style='color:black'>Mobile applications:</strong>  Python can be used to build mobile applications using frameworks like BeeWare and Kivy.</li>\n",
    "    <li><strong style='color:black'>Networking:</strong> Python has a number of libraries and modules for working with network protocols and building networked applications.</li>\n",
    "    <li><strong style='color:black'>Web scraping:</strong> Python has a number of libraries, </li>\n",
    "      <li><strong style='color:black'>Automation:</strong> Python's simplicity and large standard library make it a popular choice for writing scripts to automate various tasks.</li>\n",
    "  </ul>\n",
    "    \n",
    "</p><br>\n",
    "<p align='justify' style='margin: 10px 20px; color : purple; line-height:1.5; font-family: \"Times New Roman\", Times, serif; font-size:16px;'>\n",
    "  Python's simplicity, versatility, and large community of users and developers make it a valuable tool for a wide range of applications and especially, a valuable tool for professionals in the cybersecurity field\n",
    "</p>"
   ]
  },
  {
   "cell_type": "markdown",
   "id": "258284f9",
   "metadata": {
    "slideshow": {
     "slide_type": "subslide"
    }
   },
   "source": [
    "<h3 style='color:red; font-weight:bold; text-align:center; font-family: \"Times New Roman\", Times, serif;'>EXERECISE 0: What is Python</h3>\n",
    "<p align='justify' style='margin: 10px 20px; line-height:1.5; font-family: \"Times New Roman\", Times, serif; font-size:16px;'>\n",
    "    \n",
    "    \n",
    "  <ul style='font-family: \"Times New Roman\", Times, serif; font-weight:light; font-size:16px;'>\n",
    "      <li>Define Python and explain its role as a programming language.</li>\n",
    "      <li>Discuss the origins of Python and its creator, Guido van Rossum.</li>\n",
    "      <li>Trace the history of Python, from its creation in the late 1980s to the present day.</li>\n",
    "      <li>Describe the major versions of Python and the changes that were made in each.</li>\n",
    "      <li>Discuss the reasons why Python is considered to be a valuable programming language to learn.</li>\n",
    "      \n",
    "    \n",
    "    \n",
    "  </ul>\n",
    "</p>"
   ]
  },
  {
   "cell_type": "markdown",
   "id": "910a174e",
   "metadata": {
    "slideshow": {
     "slide_type": "slide"
    }
   },
   "source": [
    "<h2 style='color:red; font-weight:bold; text-align:center; font-family: \"Times New Roman\", Times, serif;'>THE COMMAND INTERPRETER</h2>\n",
    "\n",
    "<p align='justify' style='margin: 10px 20px; line-height:1.5; font-family: \"Times New Roman\", Times, serif; font-size:16px;'>\n",
    "    <strong> Lesson Two: </strong> The Command Interpreter, Installation and Basic Syntax\n",
    "    \n",
    "  <ul style='font-family: \"Times New Roman\", Times, serif; font-weight:light; font-size:16px;'>\n",
    "      <li><b>The Command Line and Basic Command Line Operations</b></li>\n",
    "      <li><b>Integrated Development and Learning Environment</b></li>\n",
    "      <li><b> Comments</b></li>\n",
    "      <li><b>Installation</b></li><br>\n",
    "    \n",
    "    \n",
    "  </ul>\n",
    "</p>\n",
    "\n",
    "<p align='justify' style='margin: 10px 20px; line-height:1.5; font-family: \"Times New Roman\", Times, serif; font-size:16px; color: purple'>\n",
    "  The command interpreter is a program that reads and executes commands from the user. In the case of Python, the command interpreter is called the Python interpreter. \n",
    "</p>\n",
    "<img src=\"download.jpeg\" width=\"150\" height=\"260\" style=\"float: left; margin-right: 20px; margin-left: 20px;\">\n",
    "<p align='justify' style='margin: 10px 20px; line-height:1.5; font-family: \"Times New Roman\", Times, serif; font-size:16px;'>\n",
    "  You can use the Python interpreter to type and execute Python commands directly, or you can write Python code in a file and use the interpreter to execute the contents of the file.To run a Python script, you need to have the Python interpreter installed on your system. Then, you can run a script by typing \"python\" followed by the name of the script file at the command prompt.\n",
    "</p>"
   ]
  },
  {
   "cell_type": "markdown",
   "id": "ed12aa20",
   "metadata": {
    "slideshow": {
     "slide_type": "subslide"
    }
   },
   "source": [
    "<p align='justify' style='margin: 10px 20px; line-height:2.5; font-family: \"Times New Roman\", Times, serif; font-size:16px;color: purple'>\n",
    "  There are a few basic uses for the Python interpreter:\n",
    "    \n",
    "  <ul style='font-family: \"Times New Roman\", Times, serif; font-weight:light; font-size:16px;line-height:1.8;'>\n",
    "      <li><strong style='color:black'> Running scripts:</strong>  You can use the interpreter to run Python scripts (files containing Python code). To do this, you can use the \"python\" command followed by the name of the script you want to run.</li>\n",
    "      <li><strong style='color:black'>Interactive mode:</strong> You can also use the interpreter in an interactive mode, which allows you to type Python code into the interpreter and see the results immediately. This is a good way to test small pieces of code and explore the language.</li>\n",
    "      <li><strong style='color:black'>Embedding:</strong>  The Python interpreter can be embedded in other programs, allowing those programs to use Python as a scripting language. This can be useful for providing custom functionality or automation.</li>\n",
    "      \n",
    "  </ul>\n",
    "    \n",
    "</p><br>\n",
    "<p align='justify' style='margin: 10px 20px; color : purple; line-height:1.5; font-family: \"Times New Roman\", Times, serif; font-size:16px;'>\n",
    "  The Python interpreter is a powerful tool that makes it easy to write and run Python code. It is an essential part of the Python ecosystem and is widely used by programmers around the world.\n",
    "</p>"
   ]
  },
  {
   "cell_type": "markdown",
   "id": "66074249",
   "metadata": {
    "slideshow": {
     "slide_type": "subslide"
    }
   },
   "source": [
    "<p align='justify' style='margin: 10px 20px; color : black; line-height:1.5; font-family: \"Times New Roman\", Times, serif; font-size:16px;'>\n",
    "  Here is an example of using the Python interpreter to execute some basic commands:\n",
    "</p><br>\n",
    "<p align='justify' style='margin: 10px 20px; color : purple; line-height:1.5; font-family: \"Times New Roman\", Times, serif; font-size:16px;'>\n",
    "  First, open a terminal or command prompt and type \"python\" or \"python3\" (without the quotes) to start the interpreter:\n",
    "</p>\n",
    "<img src=\"2023-01-03_04-47.png\" width=\"900\" height=\"900\" style=\"float: center; margin-center: 10px;\"><br><br>\n",
    "<p align='justify' style='margin: 10px 20px; color : purple; line-height:1.5; font-family: \"Times New Roman\", Times, serif; font-size:16px;'>\n",
    "  This will launch the interpreter and display a prompt where you can enter commands:\n",
    "</p>"
   ]
  },
  {
   "cell_type": "markdown",
   "id": "525ffc5e",
   "metadata": {
    "slideshow": {
     "slide_type": "subslide"
    }
   },
   "source": [
    "<br><img src=\"2023-01-03_04-55.png\" width=\"900\" height=\"900\" style=\"float: center; margin-center: 10px;\"><br>\n",
    "<p align='justify' style='margin: 10px 20px; color : purple; line-height:1.5; font-family: \"Times New Roman\", Times, serif; font-size:16px;'>\n",
    "  At the prompt, you can enter Python commands and see the results immediately. <br><br>For example, you can use the \"print\" function to output text:\n",
    "</p>"
   ]
  },
  {
   "cell_type": "markdown",
   "id": "f817d377",
   "metadata": {
    "slideshow": {
     "slide_type": "subslide"
    }
   },
   "source": [
    "\n",
    "<br><img src=\"2023-01-03_04-57.png\" width=\"900\" height=\"900\" style=\"float: center; margin-center: 10px;\"><br>\n",
    "<p align='justify' style='margin: 10px 20px; color : purple; line-height:1.5; font-family: \"Times New Roman\", Times, serif; font-size:16px;'>\n",
    "  You can also use the interpreter to perform simple calculations:\n",
    "</p>"
   ]
  },
  {
   "cell_type": "markdown",
   "id": "9bbbfa2a",
   "metadata": {
    "slideshow": {
     "slide_type": "subslide"
    }
   },
   "source": [
    "\n",
    "<br><img src=\"2023-01-03_05-00.png\" width=\"900\" height=\"900\" style=\"float: center; margin-center: 10px;\"><br>\n",
    "<p align='justify' style='margin: 10px 20px; color : purple; line-height:1.5; font-family: \"Times New Roman\", Times, serif; font-size:16px;'>\n",
    "  You can even define variables and use them in your code:\n",
    "</p>\n"
   ]
  },
  {
   "cell_type": "markdown",
   "id": "dd164542",
   "metadata": {},
   "source": [
    "<br><img src=\"2023-01-03_05-02.png\" width=\"900\" height=\"900\" style=\"float: center; margin-center: 10px;\"><br>\n",
    "<p align='justify' style='margin: 10px 20px; color : purple; line-height:1.5; font-family: \"Times New Roman\", Times, serif; font-size:16px;'>\n",
    "  The interpreter is a useful tool for testing small pieces of code and exploring the Python language. You can use it to try out different commands and see how they behave.\n",
    "</p>"
   ]
  },
  {
   "cell_type": "markdown",
   "id": "ac1ebb0a",
   "metadata": {
    "slideshow": {
     "slide_type": "subslide"
    }
   },
   "source": [
    "<p align='justify' style='margin: 10px 20px; color : black; line-height:1.5; font-family: \"Times New Roman\", Times, serif; font-size:16px;'>\n",
    "  Once you are finished using the interpreter, you can exit by typing \"exit()\" or pressing \"CTRL+D\". This will close the interpreter and return you to the terminal or command prompt.\n",
    "</p>\n",
    "<p align='justify' style='margin: 10px 20px; line-height:2.5; font-family: \"Times New Roman\", Times, serif; font-size:16px;color: purple'>\n",
    "  Here are some additional tips for using the Python interpreter:\n",
    "    \n",
    "  <ul style='font-family: \"Times New Roman\", Times, serif; font-weight:light; font-size:16px;line-height:1.8;'>\n",
    "      <li><strong style='color:black'> help:</strong>  You can use the \"help\" function to get information about built-in functions and modules. For example, you can type \"help(print)\" to get more information about the \"print\" function.</li>\n",
    "      <li><strong style='color:black'>dir:</strong> You can use the \"dir\" function to list the attributes of an object. For example, you can type \"dir(str)\" to see a list of attributes and methods available for strings.</li>\n",
    "      <li><strong style='color:black'>import:</strong>  You can use the \"import\" statement to import modules and access the functions and attributes they provide. For example, you can import the \"math\" module and use its functions like this:</li>\n",
    "      \n",
    "  </ul>\n",
    "    \n",
    "</p>\n",
    "<img src=\"2023-01-03_05-16.png\" width=\"900\" height=\"900\" style=\"float: center; margin-center: 10px;\"><br>\n",
    "\n",
    "<p align='justify' style='margin: 10px 20px; color : purple; line-height:1.5; font-family: \"Times New Roman\", Times, serif; font-size:16px;'>\n",
    "  The Python interpreter is a powerful and versatile tool that can be used for a wide range of tasks. Whether you are testing code snippets, running small scripts, or exploring the language, the interpreter is a valuable resource for any Python programmer.\n",
    "</p>\n"
   ]
  },
  {
   "cell_type": "markdown",
   "id": "018f8ee1",
   "metadata": {
    "slideshow": {
     "slide_type": "subslide"
    }
   },
   "source": [
    "<p align='justify' style='margin: 10px 20px; line-height:2.5; font-family: \"Times New Roman\", Times, serif; font-size:16px;color: red'>\n",
    "  To use the Python interpreter on Windows, follow these steps:\n",
    "    \n",
    "  <ul style='font-family: \"Times New Roman\", Times, serif; font-weight:light; font-size:16px;line-height:1.8;'>\n",
    "      <li>Open the Start menu and search for \"Python\".</li>\n",
    "      <li>Click on the \"Python\" application to launch the interpreter.</li>\n",
    "      <li>You should see a window with a prompt where you can enter Python commands.\n",
    "</li>\n",
    "      \n",
    "  </ul>\n",
    "    \n",
    "</p>\n",
    "<p align='justify' style='margin: 10px 20px; color : purple; line-height:1.5; font-family: \"Times New Roman\", Times, serif; font-size:16px;'>\n",
    "  Alternatively, you can use a terminal or command prompt to run the Python interpreter just like other operating systems like Linux and MAC\n",
    "</p><br>\n",
    "<p align='justify' style='margin: 10px 20px; color : black; line-height:1.5; font-family: \"Times New Roman\", Times, serif; font-size:16px;'>\n",
    "  Once you have the Python interpreter open, you can use it just like you would on any other platform. You can enter Python commands, run scripts, and explore the language.\n",
    "</p>"
   ]
  },
  {
   "cell_type": "markdown",
   "id": "cb67fd45",
   "metadata": {
    "slideshow": {
     "slide_type": "subslide"
    }
   },
   "source": [
    "<h3 style='color:purple; font-weight:bold; text-align:center; font-family: \"Times New Roman\", Times, serif;'>Integrated Development and Learning Environment</h3>\n",
    "<img src=\"2023-01-19_17-30.png\" width=\"150\" height=\"250\" style=\"float: left; margin-right: 20px; margin-left: 20px;\">\n",
    "<p align='justify' style='margin: 10px 20px; line-height:1.5; font-family: \"Times New Roman\", Times, serif; font-size:16px;'>\n",
    "  IDLE (Integrated Development and Learning Environment) is a Python development environment that is included with the Python distribution. It provides a graphical user interface (GUI) for writing and running Python code, as well as a number of features that make it easier to develop Python programs.\n",
    "</p><br>\n",
    "<p align='justify' style='margin: 10px 20px; line-height:2.5; font-family: \"Times New Roman\", Times, serif; font-size:16px;color: purple'>\n",
    "  To start IDLE on Windows, follow these steps:\n",
    "    \n",
    "  <ul style='font-family: \"Times New Roman\", Times, serif; font-weight:light; font-size:16px;line-height:1.8;'>\n",
    "      <li>Open the Start menu and search for \"IDLE\".</li>\n",
    "      <li>Click on the \"IDLE\" application to launch it.</li>\n",
    "      \n",
    "      \n",
    "  </ul>\n",
    "    \n",
    "</p><br>\n"
   ]
  },
  {
   "cell_type": "markdown",
   "id": "2a5d546d",
   "metadata": {
    "slideshow": {
     "slide_type": "subslide"
    }
   },
   "source": [
    "<p align='justify' style='margin: 10px 20px; color : purple; line-height:1.5; font-family: \"Times New Roman\", Times, serif; font-size:16px;'>\n",
    "  On macOS and Linux systems, you can typically find IDLE in the \"Programming\" or \"Education\" section of the main menu.\n",
    "</p><br>\n",
    "<p align='justify' style='margin: 10px 20px; color : black; line-height:1.5; font-family: \"Times New Roman\", Times, serif; font-size:16px;'>\n",
    "  When IDLE is launched, it will open a window with a Python interpreter prompt. You can use this prompt to enter Python commands and see the results immediately.\n",
    "</p>\n",
    "<p align='justify' style='margin: 10px 20px; color : black; line-height:1.5; font-family: \"Times New Roman\", Times, serif; font-size:16px;'>\n",
    "  In addition to the interpreter prompt, IDLE includes a number of features that make it easier to develop Python programs. For example, it has a built-in editor that you can use to write and save Python scripts, as well as a debugger that can help you find and fix errors in your code\n",
    "</p><br>\n",
    "<p align='justify' style='margin: 10px 20px; color : red; line-height:1.5; font-family: \"Times New Roman\", Times, serif; font-size:16px; font-weight:italic;'>\n",
    "   IDLE is a useful tool for Python development that provides a convenient interface for writing, running, and debugging Python code.\n",
    "</p>"
   ]
  },
  {
   "cell_type": "markdown",
   "id": "346980ee",
   "metadata": {
    "slideshow": {
     "slide_type": "subslide"
    }
   },
   "source": [
    "<h3 style='color:purple; font-weight:bold; text-align:center; font-family: \"Times New Roman\", Times, serif;'>Comments</h3>\n",
    "<p align='justify' style='margin: 10px 20px; line-height:1.5; font-family: \"Times New Roman\", Times, serif; font-size:16px;'>\n",
    "  In Python, a comment is a line of code that is ignored by the interpreter and is not executed. Comments are used to add notes or explanations to your code, and they are particularly useful for documenting your code and making it easier to understand.\n",
    "</p>\n",
    "<p align='justify' style='margin: 10px 20px; line-height:1.5; font-family: \"Times New Roman\", Times, serif; font-size:16px;'>\n",
    "  You can create a comment by using the \"#\" symbol. Everything that follows the \"#\" symbol on a line is considered a comment, and it will be ignored by the interpreter.\n",
    "</p><br>"
   ]
  },
  {
   "cell_type": "markdown",
   "id": "d1d6738b",
   "metadata": {
    "slideshow": {
     "slide_type": "subslide"
    }
   },
   "source": [
    "<p align='justify' style='margin: 10px 20px; color : purple; line-height:1.5; font-family: \"Times New Roman\", Times, serif; font-size:16px; font-weight:italic;'>\n",
    "   Here is an example of a comment in Python:\n",
    "</p><br>\n",
    "<img src=\"2023-01-03_06-14.png\" width=\"900\" height=\"900\" style=\"float: center; margin-center: 10px;\"><br>"
   ]
  },
  {
   "cell_type": "markdown",
   "id": "55b741a4",
   "metadata": {
    "slideshow": {
     "slide_type": "subslide"
    }
   },
   "source": [
    "<p align='justify' style='margin: 10px 20px; line-height:1.5; font-family: \"Times New Roman\", Times, serif; font-size:16px; color : purple'>\n",
    "  Comments can be placed at the beginning of a line, or after a statement on the same line. For example:\n",
    "</p><br>\n",
    "<img src=\"2023-01-03_06-17.png\" width=\"900\" height=\"900\" style=\"float: center; margin-center: 10px;\"><br>\n",
    "<p align='justify' style='margin: 10px 20px; line-height:1.5; font-family: \"Times New Roman\", Times, serif; font-size:16px;'>\n",
    "  Overall, comments are an important tool for documenting and explaining your code, and they can make it easier to understand and maintain your programs.\n",
    "</p>"
   ]
  },
  {
   "cell_type": "markdown",
   "id": "f13a990d",
   "metadata": {
    "slideshow": {
     "slide_type": "subslide"
    }
   },
   "source": [
    "<h3 style='color:red; font-weight:bold; text-align:center; font-family: \"Times New Roman\", Times, serif;'>Installation of Anaconda</h3>\n",
    "<p align='justify' style='margin: 10px 20px; line-height:1.5; font-family: \"Times New Roman\", Times, serif; font-size:16px;'>\n",
    "  Another way to use Python is through the Anaconda distribution, which is a popular platform for data science and machine learning. Anaconda is a distribution of Python and R that includes additional packages and tools specifically tailored for data science and scientific computing. It also includes the conda package manager which makes it easy to install and manage packages for different environments. Additionally, Anaconda Navigator provides a graphical user interface for managing environments and packages, as well as launching Jupyter Notebooks and other tools. Anaconda is widely used by data scientists, researchers, and developers as it provides a comprehensive, easy-to-use platform for data science and machine learning tasks.\n",
    "</p><br>\n",
    "<p align='justify' style='margin: 10px 20px; line-height:1.5; font-family: \"Times New Roman\", Times, serif; font-size:16px; color: purple'>\n",
    "    <strong>To install Anaconda, you can follow these steps:</strong>\n",
    "    \n",
    "  <ul style='font-family: \"Times New Roman\", Times, serif; font-weight:light; font-size:16px;'>\n",
    "      <li>Go to the Anaconda website <a href=\"https://www.anaconda.com/products/distribution/\">(Anaconda)</a> and download the installer for your operating system (Windows, macOS, or Linux).</li>\n",
    "      <li>Once the download is complete, open the installer and follow the prompts to install Anaconda.</li>\n",
    "      <li>After installation, open the Anaconda Navigator to verify that the installation was successful and to start using the platform.</li>\n",
    "      \n",
    "    \n",
    "    \n",
    "  </ul>\n",
    "</p>"
   ]
  },
  {
   "cell_type": "markdown",
   "id": "5308b2f9",
   "metadata": {
    "slideshow": {
     "slide_type": "subslide"
    }
   },
   "source": [
    "<h3 style='color:red; font-weight:bold; text-align:center; font-family: \"Times New Roman\", Times, serif;'>EXERECISE 1: The Command Interpreter </h3>\n",
    "<p align='justify' style='margin: 10px 20px; line-height:1.5; font-family: \"Times New Roman\", Times, serif; font-size:16px;'>\n",
    "    \n",
    "    \n",
    "  <ul style='font-family: \"Times New Roman\", Times, serif; font-weight:light; font-size:16px;'>\n",
    "      <li>What is the command interpreter and what is its purpose?</li>\n",
    "      <li>How can you run a Python script from the command line? (Demonstrate)</li>\n",
    "      <li>Can you explain the basic syntax of Python and give an example of a simple Python program?</li>\n",
    "      <li>How do you add comments in a Python script and why is it important to do so?</li>\n",
    "      \n",
    "    \n",
    "    \n",
    "  </ul>\n",
    "</p>"
   ]
  },
  {
   "cell_type": "markdown",
   "id": "662e25b5",
   "metadata": {
    "slideshow": {
     "slide_type": "slide"
    }
   },
   "source": [
    "<h2 style='color:red; font-weight:bold; text-align:center; font-family: \"Times New Roman\", Times, serif;'>VARIABLES AND DATA TYPES</h2>\n",
    "\n",
    "<p align='justify' style='margin: 10px 20px; line-height:1.5; font-family: \"Times New Roman\", Times, serif; font-size:16px;'>\n",
    "    <strong> Lesson Three: </strong> Variables and Data Types in Python\n",
    "    \n",
    "  <ul style='font-family: \"Times New Roman\", Times, serif; font-weight:light; font-size:16px;'>\n",
    "      <li><b>Assigning Values to Variables </b></li>\n",
    "      <li><b>Naming Conventions for Variables </b></li>\n",
    "      <li><b> Data types in Python </b></li><br>\n",
    "      \n",
    "    \n",
    "    \n",
    "  </ul>\n",
    "</p>\n",
    "<p align='justify' style='margin: 10px 20px; line-height:1.5; font-family: \"Times New Roman\", Times, serif; font-size:16px;'>\n",
    "  In Python, a variable is a named location in memory where you can store a value. Variables are used to store values that you need to use or manipulate in your code\n",
    "</p>\n",
    "<img src=\"download.png\" width=\"150\" height=\"250\" style=\"float: left; margin-right: 20px;  margin-left: 20px;\">\n",
    "<p style='margin: 20px 20px; line-height:1.8; font-family: \"Times New Roman\", Times, serif; font-size:16px;'>\n",
    "  There are several data types in Python that you can use to store values in variables. Some common data types in Python include:\n",
    "</p>\n",
    "<p align='justify' style='margin: 10px 20px; line-height:2.5; font-family: \"Times New Roman\", Times, serif; font-size:16px;color: purple'>\n",
    "  This will just give you are fair knowledge about data types which will help us to understand the type of data we assign to the variable, we will delve into Data Types soon :\n",
    "    \n",
    "  <ul style='font-family: \"Times New Roman\", Times, serif; font-weight:light; font-size:16px;line-height:1.8;'>\n",
    "      <li><strong style='color:red'> int:</strong>  An integer is a whole number that can be positive, negative, or zero. For example: 10, -5, 0.</li>\n",
    "      <li><strong style='color:red'>float:</strong> A float is a number with a decimal point. For example: 3.14, -2.5, 0.0.</li>\n",
    "      <li><strong style='color:red'>str:</strong>  A string is a sequence of characters, such as a word or phrase. Strings must be enclosed in quotes. For example: \"hello\", \"apple\", \"123\".</li>\n",
    "      <li><strong style='color:red'>bool:</strong>  A bool is a value that represents a boolean (true or false) value. There are only two bool values: True and False.</li>\n",
    "      \n",
    "  </ul>\n",
    "    \n",
    "</p>\n",
    "<p align='justify' style='margin: 10px 20px; color : purple; line-height:1.5; font-family: \"Times New Roman\", Times, serif; font-size:16px;'>\n",
    "  To assign a value to a variable, you use the assignment operator (=). <br><br> For example:\n",
    "</p>"
   ]
  },
  {
   "cell_type": "code",
   "execution_count": 4,
   "id": "3566aafb",
   "metadata": {
    "slideshow": {
     "slide_type": "subslide"
    }
   },
   "outputs": [],
   "source": [
    "x = 10 # int\n",
    "y = 3.14 # float\n",
    "z = \"hello\" # string\n",
    "b = True # bool"
   ]
  },
  {
   "cell_type": "markdown",
   "id": "3bd4658e",
   "metadata": {
    "slideshow": {
     "slide_type": "subslide"
    }
   },
   "source": [
    "<p align='justify' style='margin: 10px 20px; line-height:1.5; font-family: \"Times New Roman\", Times, serif; font-size:16px; color : purple'>\n",
    "  In these examples, we are assigning the values 10, 3.14, \"hello\", and True to the variables x, y, z, and b, respectively. <br><br> You can change the value of a variable by reassigning a new value to it. <br>For example:\n",
    "</p>"
   ]
  },
  {
   "cell_type": "code",
   "execution_count": 7,
   "id": "a92ce413",
   "metadata": {
    "slideshow": {
     "slide_type": "subslide"
    }
   },
   "outputs": [
    {
     "name": "stdout",
     "output_type": "stream",
     "text": [
      "5\n"
     ]
    }
   ],
   "source": [
    "x = 10\n",
    "x = 5\n",
    "print(x)"
   ]
  },
  {
   "cell_type": "markdown",
   "id": "e2192be4",
   "metadata": {
    "slideshow": {
     "slide_type": "subslide"
    }
   },
   "source": [
    "<p align='justify' style='margin: 10px 20px; line-height:1.5; font-family: \"Times New Roman\", Times, serif; font-size:16px; color : purple'>\n",
    "  This will change the value of x from 10 to 5\n",
    "</p><br>\n",
    "\n",
    "<p align='justify' style='margin: 10px 20px; line-height:1.5; font-family: \"Times New Roman\", Times, serif; font-size:16px; color : black'>\n",
    "  In Python, there are no constants like other languages, but naming conventions can be used to indicate a variable that should not change. For example, naming a variable in all capital letters can indicate that it should be treated as a constant.\n",
    "</p><br>\n",
    "\n",
    "<p align='justify' style='margin: 10px 20px; line-height:1.5; font-family: \"Times New Roman\", Times, serif; font-size:16px; color : black'>\n",
    "  The scope of a Variable determines the visibility and accessibility of variables in a program. Variables declared inside a function are only accessible within that function and are not accessible outside of it. Variables declared outside of a function are accessible throughout the entire program.\n",
    "</p><br><br>\n",
    "\n",
    "<p align='justify' style='margin: 10px 20px; line-height:1.5; font-family: \"Times New Roman\", Times, serif; font-size:16px; color : purple'>\n",
    "    <strong>Type conversion</strong> <br><br> In Python, you can convert between different data types using the built-in functions such as int(), float(), and str(). For example, you can convert a string to an integer using the int() function:\n",
    "</p>"
   ]
  },
  {
   "cell_type": "code",
   "execution_count": 5,
   "id": "6737a47b",
   "metadata": {
    "slideshow": {
     "slide_type": "subslide"
    }
   },
   "outputs": [
    {
     "name": "stdout",
     "output_type": "stream",
     "text": [
      "5\n"
     ]
    }
   ],
   "source": [
    "x = \"5\"\n",
    "x = int(x)\n",
    "print(x)"
   ]
  },
  {
   "cell_type": "markdown",
   "id": "03f2bfc9",
   "metadata": {
    "slideshow": {
     "slide_type": "subslide"
    }
   },
   "source": [
    "<p align='justify' style='margin: 10px 20px; line-height:1.5; font-family: \"Times New Roman\", Times, serif; font-size:16px; color : purple'>\n",
    "    This will output 5, which is an integer. <br><br><strong>Input and Output:</strong> You can use the input() function to get input from the user and the print() function to display output in a program. For example:\n",
    "</p>"
   ]
  },
  {
   "cell_type": "code",
   "execution_count": 6,
   "id": "c614f004",
   "metadata": {
    "slideshow": {
     "slide_type": "subslide"
    }
   },
   "outputs": [
    {
     "name": "stdout",
     "output_type": "stream",
     "text": [
      "What is your name? Bernard\n",
      "Hello, Bernard\n"
     ]
    }
   ],
   "source": [
    "name = input(\"What is your name? \")\n",
    "print(\"Hello, \" + name)"
   ]
  },
  {
   "cell_type": "markdown",
   "id": "2a3734f7",
   "metadata": {
    "slideshow": {
     "slide_type": "subslide"
    }
   },
   "source": [
    "<p align='justify' style='margin: 10px 20px; line-height:1.5; font-family: \"Times New Roman\", Times, serif; font-size:16px; color : purple'>\n",
    "    This will prompt the user to enter their name and then display \"Hello, [name]\"\n",
    "</p>"
   ]
  },
  {
   "cell_type": "markdown",
   "id": "91c27e99",
   "metadata": {
    "slideshow": {
     "slide_type": "subslide"
    }
   },
   "source": [
    "<h3 style='color:red; font-weight:bold; text-align:center; font-family: \"Times New Roman\", Times, serif;font-size:20px;'>Naming Conventions for Variables</h3>\n",
    "<p align='justify' style='margin: 10px 20px; line-height:2.5; font-family: \"Times New Roman\", Times, serif; font-size:16px; color : purple'>\n",
    "  There are a few rules that you should follow when naming variables in Python:\n",
    "    \n",
    "  <ul style='font-family: \"Times New Roman\", Times, serif; font-weight:light; font-size:16px;line-height:1.8;'>\n",
    "    <li>Variable names can only contain letters, numbers, and underscores. They must start with a letter or an underscore.</li>\n",
    "    <li>Variable names are case-sensitive. For example, \"foo\" and \"Foo\" are different variables.</li>\n",
    "    <li>Variable names should be descriptive, but not too long. A good variable name should give a hint about the value it holds or the purpose it serves in your code.</li>\n",
    "    <li>Do not use Python keywords as variable names. Python has a set of reserved words that have special meanings in the language, and you cannot use them as variable names.</li>\n",
    "    <li>It is a good idea to follow a consistent naming convention in your code. For example, you might choose to use all lowercase letters and underscores for your variable names, or you might use camelCase.</li>\n",
    "  </ul>\n",
    "</p>\n",
    "<p align='justify' style='margin: 10px 20px; color : purple; line-height:1.5; font-family: \"Times New Roman\", Times, serif; font-size:16px;'>\n",
    "  Here are some examples of valid and invalid variable names:\n",
    "</p><br>\n",
    "<img src=\"2023-01-03_07-43.png\" width=\"900\" height=\"900\" style=\"float: center; margin-center: 10px;\"><br>\n",
    "<p align='justify' style='margin: 10px 20px; color : purple; line-height:1.5; font-family: \"Times New Roman\", Times, serif; font-size:16px;'>\n",
    "  By following these guidelines, you can choose descriptive and meaningful variable names that are easy to understand and use in your code. \n",
    "</p>"
   ]
  },
  {
   "cell_type": "markdown",
   "id": "0ddc8099",
   "metadata": {
    "slideshow": {
     "slide_type": "subslide"
    }
   },
   "source": [
    "<p align='justify' style='margin: 10px 20px; color : red; line-height:1.5; font-family: \"Times New Roman\", Times, serif; font-size:16px;'>\n",
    "    <strong>Multi Words Variable Names</strong>\n",
    "</p>\n",
    "<p align='justify' style='margin: 10px 20px; line-height:2.5; font-family: \"Times New Roman\", Times, serif; font-size:16px; color : purple'>\n",
    "  it's important to cover the concept of multi-word variable names, also known as \"snake_case\" or \"camelCase\".\n",
    "    \n",
    "  <ul style='font-family: \"Times New Roman\", Times, serif; font-weight:light; font-size:16px;line-height:1.8;'>\n",
    "      <li><strong>Snake_case: </strong> This is a naming convention where multiple words are separated by underscores. For example, user_name or first_name. This is the most common convention used in Python and is recommended by the Python style guide (PEP8)</li><br>\n",
    "      <li><strong>camelCase: </strong> This is a naming convention where multiple words are concatenated and the first letter of each word is capitalized except the first word. For example, \"userName\" or \"firstName\". This is less common in Python and is mostly used in other programming languages like Java.</li><br>\n",
    "      \n",
    "      \n",
    "   \n",
    "  </ul>\n",
    "</p>\n",
    "<p align='justify' style='margin: 10px 20px; color : purple; line-height:1.5; font-family: \"Times New Roman\", Times, serif; font-size:16px;'>\n",
    "  Choosing the convention: Snake_case is the most widely used convention in the Python community, and is the recommended style by PEP8. However, if you are working on a project that follows a different convention, it's important to follow the conventions of that project. Advantages of clear naming: Clear and consistent naming conventions make code more readable and easier to understand, which is especially important in large or collaborative projects.\n",
    "</p>"
   ]
  },
  {
   "cell_type": "markdown",
   "id": "5d475811",
   "metadata": {
    "slideshow": {
     "slide_type": "subslide"
    }
   },
   "source": [
    "<p align='justify' style='margin: 10px 20px; color : red; line-height:1.5; font-family: \"Times New Roman\", Times, serif; font-size:16px;'>\n",
    "    <strong>Many Values to Multiple Variables</strong>\n",
    "</p>\n",
    "<p align='justify' style='margin: 10px 20px; line-height:2.5; font-family: \"Times New Roman\", Times, serif; font-size:16px; color : black'>\n",
    "  Python allows you to assign values to multiple variables in one line<br><br> For example\n",
    "</p>"
   ]
  },
  {
   "cell_type": "code",
   "execution_count": 9,
   "id": "10337010",
   "metadata": {
    "slideshow": {
     "slide_type": "subslide"
    }
   },
   "outputs": [
    {
     "name": "stdout",
     "output_type": "stream",
     "text": [
      "Paris\n",
      "France\n",
      "City\n"
     ]
    }
   ],
   "source": [
    "x, y, z = \"Paris\", \"France\", \"City\"\n",
    "print(x)\n",
    "print(y)\n",
    "print(z)"
   ]
  },
  {
   "cell_type": "markdown",
   "id": "a540088e",
   "metadata": {
    "slideshow": {
     "slide_type": "subslide"
    }
   },
   "source": [
    "<p align='justify' style='margin: 10px 20px; line-height:2.5; font-family: \"Times New Roman\", Times, serif; font-size:16px; color : purple'>\n",
    "  And you can assign the same value to multiple variables in one line:\n",
    "</p>"
   ]
  },
  {
   "cell_type": "code",
   "execution_count": 10,
   "id": "a456c6d6",
   "metadata": {
    "slideshow": {
     "slide_type": "subslide"
    }
   },
   "outputs": [
    {
     "name": "stdout",
     "output_type": "stream",
     "text": [
      "orange\n",
      "orange\n",
      "orange\n"
     ]
    }
   ],
   "source": [
    "x = y = z = \"orange\"\n",
    "\n",
    "print(x)\n",
    "print(y)\n",
    "print(z)"
   ]
  },
  {
   "cell_type": "markdown",
   "id": "5b8b7dae",
   "metadata": {
    "slideshow": {
     "slide_type": "subslide"
    }
   },
   "source": [
    "<p align='justify' style='margin: 10px 20px; line-height:2.5; font-family: \"Times New Roman\", Times, serif; font-size:16px; color : purple'>\n",
    "  If you have a collection of values in a list, tuple etc. Python allows you to extract the values into variables. This is called <strong>unpacking.</strong>\n",
    "</p>"
   ]
  },
  {
   "cell_type": "code",
   "execution_count": 11,
   "id": "4233a1c1",
   "metadata": {
    "slideshow": {
     "slide_type": "subslide"
    }
   },
   "outputs": [
    {
     "name": "stdout",
     "output_type": "stream",
     "text": [
      "apple\n",
      "banana\n",
      "cherry\n"
     ]
    }
   ],
   "source": [
    "fruits = [\"apple\", \"banana\", \"cherry\"]\n",
    "x, y, z = fruits\n",
    "print(x)\n",
    "print(y)\n",
    "print(z)"
   ]
  },
  {
   "cell_type": "markdown",
   "id": "84afeb39",
   "metadata": {
    "slideshow": {
     "slide_type": "subslide"
    }
   },
   "source": [
    "<h3 style='color:red; font-weight:bold; text-align:center; font-family: \"Times New Roman\", Times, serif;'>EXERECISE 1: Variables </h3>\n",
    "<p align='justify' style='margin: 10px 20px; line-height:1.5; font-family: \"Times New Roman\", Times, serif; font-size:16px;'>\n",
    "    In this tutorial, you have learned the basics of variables in Python, including naming conventions, data types, assignment, reassignment, and manipulation using built-in functions. You also got an idea of how to use variables in Input and output. Remember that practice and experimentation are key to becoming proficient in programming, so keep experimenting with variables and try building your own programs. <br><br> <strong>Visit this <a href=\"https://nowledgeable.com/student/sequence/2815/do\">link</a> to compelete the exercises on Nowledgeable. Answer question 1 to question 5</strong>\n",
    "</p>"
   ]
  },
  {
   "cell_type": "markdown",
   "id": "06d9b4bd",
   "metadata": {
    "slideshow": {
     "slide_type": "slide"
    }
   },
   "source": [
    "<h2 style='color:red; font-weight:bold; text-align:center; font-family: \"Times New Roman\", Times, serif;font-size:20px;'>DATA TYPES</h2>\n",
    "<p align='justify' style='margin: 10px 20px; color : purple; line-height:1.5; font-family: \"Times New Roman\", Times, serif; font-size:16px;'>\n",
    "    In Python, a data type is a category of data that defines the type of value that a variable can hold. Python has several built-in data types, such as integers, floating-point numbers, strings, booleans, and more. Each data type has specific characteristics and methods that can be used to manipulate the data.\n",
    "\n",
    "\n",
    "</p><br>\n",
    "<p align='justify' style='margin: 10px 20px; line-height:2.5; font-family: \"Times New Roman\", Times, serif; font-size:16px; color : purple'>\n",
    "    <strong>It's important to understand data types in Python because:</strong>\n",
    "    \n",
    "  <ul style='font-family: \"Times New Roman\", Times, serif; font-weight:light; font-size:16px;line-height:1.8;'>\n",
    "      <li><strong>Memory management:  </strong> Each data type takes up a different amount of memory, and understanding the data type of a variable can help you optimize your program's memory usage.</li><br>\n",
    "      <li><strong>Operations: </strong> Different data types can be operated on differently, for example, mathematical operations like addition, subtraction, multiplication, and division can only be performed on numeric data types.</li><br>\n",
    "      \n",
    "      \n",
    "   \n",
    "  </ul>\n",
    "</p>"
   ]
  },
  {
   "cell_type": "markdown",
   "id": "75614bf2",
   "metadata": {
    "slideshow": {
     "slide_type": "subslide"
    }
   },
   "source": [
    "<p align='justify' style='margin: 10px 20px; line-height:2.5; font-family: \"Times New Roman\", Times, serif; font-size:16px; color : purple'>\n",
    "    \n",
    "    \n",
    "  <ul style='font-family: \"Times New Roman\", Times, serif; font-weight:light; font-size:16px;line-height:1.8;'>\n",
    "      <li><strong>Type checking:  </strong>  Understanding the data type of a variable can help you check the type of a variable before performing an operation on it, and it can help you handle the error if the variable is of a different type.</li><br>\n",
    "      <li><strong>Readability: </strong> When you understand the data type of a variable, it makes the code more readable and easy to understand.</li><br>\n",
    "      <li><strong>Functionality: </strong>  Different data types have different built-in functionality, such as lists have built-in methods to append, extend, and remove elements, while strings have built-in methods for formatting, slicing, and joining.</li>\n",
    "      \n",
    "      \n",
    "   \n",
    "  </ul>\n",
    "</p>"
   ]
  },
  {
   "cell_type": "markdown",
   "id": "1469ae8f",
   "metadata": {
    "slideshow": {
     "slide_type": "subslide"
    }
   },
   "source": [
    "<h3 style='color:red; font-weight:bold; text-align:center; font-family: \"Times New Roman\", Times, serif;font-size:20px;'>Numbers</h3>\n",
    "<img src=\"pyhton-numbers-ipcisco-1.jpg\" width=\"150\" height=\"250\" style=\"float: left; margin-right: 20px; margin-left: 20px;\">\n",
    "<p align='justify' style='margin: 10px 20px; color : purple; line-height:1.5; font-family: \"Times New Roman\", Times, serif; font-size:16px;'>\n",
    "    Python has three main types of numbers: integers, floating-point numbers, and complex numbers. Each of them is used to represent different types of numeric values and each of them has its own characteristics and methods that can be used to manipulate the data. You can perform mathematical operations with these types of numbers, such as addition, subtraction, multiplication, and division.\n",
    "\n",
    "</p><br>\n",
    "<p align='justify' style='margin: 10px 20px; line-height:2.5; font-family: \"Times New Roman\", Times, serif; font-size:16px; color : purple'>\n",
    "    \n",
    "    \n",
    "  <ul style='font-family: \"Times New Roman\", Times, serif; font-weight:light; font-size:16px;line-height:1.8;'>\n",
    "      <li><strong style = \"color: purple\">Integers:  </strong>  Integers, also known as whole numbers, are used to represent positive or negative whole numbers. In Python, you can use the int data type to represent integers. <br><br>Examples of integers include:</li>\n",
    "      \n",
    "  </ul>\n",
    "</p>"
   ]
  },
  {
   "cell_type": "code",
   "execution_count": 13,
   "id": "1b725f75",
   "metadata": {
    "slideshow": {
     "slide_type": "subslide"
    }
   },
   "outputs": [],
   "source": [
    "x = 5 # assign the value of 5 to x\n",
    "y = -10 # create an integer using the int function\n",
    "z = 10000 # integers can also be negative"
   ]
  },
  {
   "cell_type": "markdown",
   "id": "780ea92f",
   "metadata": {
    "slideshow": {
     "slide_type": "subslide"
    }
   },
   "source": [
    "<p align='justify' style='margin: 10px 20px; color : purple; line-height:1.5; font-family: \"Times New Roman\", Times, serif; font-size:16px;'>\n",
    "    <strong>Note:</strong> The \"dir\" and \"help\" function we studied earlier in this course can be very useful here <br><br> For example: assuming i do not understand what the \"int\" function is or what is used for, i can use the \"help\" or \"dir\" functions to learn about the function like the example below\n",
    "</p>"
   ]
  },
  {
   "cell_type": "code",
   "execution_count": 32,
   "id": "e90e0da9",
   "metadata": {
    "scrolled": true,
    "slideshow": {
     "slide_type": "subslide"
    }
   },
   "outputs": [
    {
     "name": "stdout",
     "output_type": "stream",
     "text": [
      "['__abs__', '__add__', '__and__', '__bool__', '__ceil__', '__class__', '__delattr__', '__dir__', '__divmod__', '__doc__', '__eq__', '__float__', '__floor__', '__floordiv__', '__format__', '__ge__', '__getattribute__', '__getnewargs__', '__gt__', '__hash__', '__index__', '__init__', '__init_subclass__', '__int__', '__invert__', '__le__', '__lshift__', '__lt__', '__mod__', '__mul__', '__ne__', '__neg__', '__new__', '__or__', '__pos__', '__pow__', '__radd__', '__rand__', '__rdivmod__', '__reduce__', '__reduce_ex__', '__repr__', '__rfloordiv__', '__rlshift__', '__rmod__', '__rmul__', '__ror__', '__round__', '__rpow__', '__rrshift__', '__rshift__', '__rsub__', '__rtruediv__', '__rxor__', '__setattr__', '__sizeof__', '__str__', '__sub__', '__subclasshook__', '__truediv__', '__trunc__', '__xor__', 'as_integer_ratio', 'bit_length', 'conjugate', 'denominator', 'from_bytes', 'imag', 'numerator', 'real', 'to_bytes']\n"
     ]
    }
   ],
   "source": [
    "print(dir(int))"
   ]
  },
  {
   "cell_type": "markdown",
   "id": "76d93ca7",
   "metadata": {
    "slideshow": {
     "slide_type": "subslide"
    }
   },
   "source": [
    "<p align='justify' style='margin: 10px 20px; color : purple; line-height:1.5; font-family: \"Times New Roman\", Times, serif; font-size:16px;'>\n",
    "    You can perform mathematical operations with integers, such as addition, subtraction, multiplication, and division. <br><br>Examples include: <br><br> <strong> Addition</strong>\n",
    "</p>"
   ]
  },
  {
   "cell_type": "code",
   "execution_count": 14,
   "id": "c4b3b853",
   "metadata": {
    "slideshow": {
     "slide_type": "subslide"
    }
   },
   "outputs": [
    {
     "name": "stdout",
     "output_type": "stream",
     "text": [
      "8\n"
     ]
    }
   ],
   "source": [
    "x = 5\n",
    "y = 3\n",
    "z = x + y\n",
    "print(z) # 8"
   ]
  },
  {
   "cell_type": "markdown",
   "id": "5c8c2f65",
   "metadata": {
    "slideshow": {
     "slide_type": "subslide"
    }
   },
   "source": [
    "<p align='justify' style='margin: 10px 20px; color : purple; line-height:1.5; font-family: \"Times New Roman\", Times, serif; font-size:16px;'>\n",
    "    <strong>Subtraction</strong>\n",
    "</p>"
   ]
  },
  {
   "cell_type": "code",
   "execution_count": 15,
   "id": "ea1eae7f",
   "metadata": {
    "slideshow": {
     "slide_type": "subslide"
    }
   },
   "outputs": [
    {
     "name": "stdout",
     "output_type": "stream",
     "text": [
      "2\n"
     ]
    }
   ],
   "source": [
    "x = 5\n",
    "y = 3\n",
    "z = x - y\n",
    "print(z) # 2"
   ]
  },
  {
   "cell_type": "markdown",
   "id": "67ff96c2",
   "metadata": {
    "slideshow": {
     "slide_type": "subslide"
    }
   },
   "source": [
    "<p align='justify' style='margin: 10px 20px; color : purple; line-height:1.5; font-family: \"Times New Roman\", Times, serif; font-size:16px;'>\n",
    "    <strong>Multiplication:</strong>\n",
    "</p>"
   ]
  },
  {
   "cell_type": "code",
   "execution_count": 16,
   "id": "27ea3572",
   "metadata": {
    "slideshow": {
     "slide_type": "subslide"
    }
   },
   "outputs": [
    {
     "name": "stdout",
     "output_type": "stream",
     "text": [
      "15\n"
     ]
    }
   ],
   "source": [
    "x = 5\n",
    "y = 3\n",
    "z = x * y\n",
    "print(z) # 15"
   ]
  },
  {
   "cell_type": "markdown",
   "id": "e88bc4b4",
   "metadata": {
    "slideshow": {
     "slide_type": "subslide"
    }
   },
   "source": [
    "<p align='justify' style='margin: 10px 20px; line-height:2.5; font-family: \"Times New Roman\", Times, serif; font-size:16px; color : purple'>\n",
    "    \n",
    "    \n",
    "  <ul style='font-family: \"Times New Roman\", Times, serif; font-weight:light; font-size:16px;line-height:1.8;'>\n",
    "      <li><strong style = \"color: purple\">Floating-Point Numbers:</strong> Floating-point numbers, also known as decimal numbers, are used to represent positive or negative numbers with a decimal point. In Python, you can use the float data type to represent floating-point numbers.<br><br> Examples of floating-point numbers include:\n",
    "</li>\n",
    "      \n",
    "  </ul>\n",
    "</p>"
   ]
  },
  {
   "cell_type": "code",
   "execution_count": 17,
   "id": "3c582541",
   "metadata": {
    "slideshow": {
     "slide_type": "subslide"
    }
   },
   "outputs": [],
   "source": [
    "x = 3.14\n",
    "y = -2.718\n",
    "z = 1.23456789"
   ]
  },
  {
   "cell_type": "markdown",
   "id": "6d56b624",
   "metadata": {
    "slideshow": {
     "slide_type": "subslide"
    }
   },
   "source": [
    "<p align='justify' style='margin: 10px 20px; line-height:2.5; font-family: \"Times New Roman\", Times, serif; font-size:16px; color : purple'>\n",
    "    \n",
    "    \n",
    "  <ul style='font-family: \"Times New Roman\", Times, serif; font-weight:light; font-size:16px;line-height:1.8;'>\n",
    "      <li><strong style = \"color: purple\">Complex number</strong> A complex number is represented by the form a + bj where a is the real part, and b is the imaginary part and j is the imaginary unit which is the square root of -1.<br><br> Examples of complex numbers include:\n",
    "</li>\n",
    "      \n",
    "  </ul>\n",
    "</p>"
   ]
  },
  {
   "cell_type": "code",
   "execution_count": 1,
   "id": "1f44e6fd",
   "metadata": {
    "slideshow": {
     "slide_type": "subslide"
    }
   },
   "outputs": [],
   "source": [
    "x = 3 + 4j\n",
    "y = -2 + 3j"
   ]
  },
  {
   "cell_type": "markdown",
   "id": "44b2675d",
   "metadata": {
    "slideshow": {
     "slide_type": "subslide"
    }
   },
   "source": [
    "<p align='justify' style='margin: 10px 20px; color : purple; line-height:1.5; font-family: \"Times New Roman\", Times, serif; font-size:16px;'>\n",
    "    You can also perform mathematical operations with floating-point numbers, such as addition, subtraction, multiplication, and division <br><br><strong> Mathematical operations:</strong> <br><br>You can perform mathematical operations with numbers in Python using the following operators:\n",
    "</p><br>\n",
    "<p align='justify' style='margin: 10px 20px; line-height:2.5; font-family: \"Times New Roman\", Times, serif; font-size:16px; color : purple'>\n",
    "    \n",
    "    \n",
    "  <ul style='font-family: \"Times New Roman\", Times, serif; font-weight:light; font-size:16px;line-height:1.8;'>\n",
    "      <li><strong style = \"color: black\">Addition (+)</strong>\n",
    "</li>\n",
    "      <li><strong style = \"color: black\">Subtraction (-)</strong></li>\n",
    "      <li><strong style = \"color: black\">Multiplication (*)</strong></li>\n",
    "      <li><strong style = \"color: black\">Division (/)</strong></li>\n",
    "      <li><strong style = \"color: black\">Modulus (%)</strong></li>\n",
    "      <li><strong style = \"color: black\">Exponentiation (**)</strong></li>\n",
    "      \n",
    "  </ul>\n",
    "</p>\n",
    "<p align='justify' style='margin: 10px 20px; color : purple; line-height:1.5; font-family: \"Times New Roman\", Times, serif; font-size:16px;'>\n",
    "    <strong>Examples</strong>\n",
    "</p>"
   ]
  },
  {
   "cell_type": "code",
   "execution_count": 18,
   "id": "0a8f7b70",
   "metadata": {
    "slideshow": {
     "slide_type": "subslide"
    }
   },
   "outputs": [
    {
     "name": "stdout",
     "output_type": "stream",
     "text": [
      "8\n",
      "2\n",
      "15\n",
      "1.6666666666666667\n",
      "2\n",
      "125\n"
     ]
    }
   ],
   "source": [
    "# Addition\n",
    "x = 5 + 3\n",
    "print(x) # 8\n",
    "\n",
    "# Subtraction\n",
    "x = 5 - 3\n",
    "print(x) # 2\n",
    "\n",
    "# Multiplication\n",
    "x = 5 * 3\n",
    "print(x) # 15\n",
    "\n",
    "# Division\n",
    "x = 5 / 3\n",
    "print(x) # 1.6666666666666667\n",
    "\n",
    "# Modulus\n",
    "x = 5 % 3\n",
    "print(x) # 2\n",
    "\n",
    "# Exponentiation\n",
    "x = 5 ** 3\n",
    "print(x) # 125"
   ]
  },
  {
   "cell_type": "markdown",
   "id": "87836133",
   "metadata": {
    "slideshow": {
     "slide_type": "subslide"
    }
   },
   "source": [
    "<p align='justify' style='margin: 10px 20px; color : purple; line-height:1.5; font-family: \"Times New Roman\", Times, serif; font-size:16px;'>\n",
    "    You can also compare numbers to check if they are equal, less than, greater than, and so on.\n",
    "</p>"
   ]
  },
  {
   "cell_type": "code",
   "execution_count": 19,
   "id": "f2fe78ae",
   "metadata": {
    "slideshow": {
     "slide_type": "subslide"
    }
   },
   "outputs": [
    {
     "name": "stdout",
     "output_type": "stream",
     "text": [
      "False\n",
      "True\n",
      "True\n",
      "False\n"
     ]
    }
   ],
   "source": [
    "x = 5\n",
    "y = 3\n",
    "print(x == y) # False\n",
    "print(x != y) # True\n",
    "print(x > y) # True\n",
    "print(x < y) # False"
   ]
  },
  {
   "cell_type": "markdown",
   "id": "1358876c",
   "metadata": {
    "slideshow": {
     "slide_type": "subslide"
    }
   },
   "source": [
    "<h3 style='color:red; font-weight:bold; text-align:center; font-family: \"Times New Roman\", Times, serif;font-size:20px;'>Strings</h3>\n",
    "<p align='justify' style='margin: 10px 20px; color : purple; line-height:1.5; font-family: \"Times New Roman\", Times, serif; font-size:16px;'>\n",
    "    Strings are used to represent text. A string is a sequence of characters enclosed in either single or double quotes. Strings are an important data type in Python, and they are used in many applications such as text processing, web scraping, and more. <br><br> <strong> Creating a String:</strong>\n",
    "\n",
    "</p><br>\n",
    "<p align='justify' style='margin: 10px 20px; color : black; line-height:1.5; font-family: \"Times New Roman\", Times, serif; font-size:16px;'>\n",
    "    You can create a string by enclosing a sequence of characters in either single or double quotes and assign it to a variable.<br><br> For example:\n",
    "\n",
    "</p>"
   ]
  },
  {
   "cell_type": "code",
   "execution_count": 2,
   "id": "92a91a64",
   "metadata": {
    "slideshow": {
     "slide_type": "subslide"
    }
   },
   "outputs": [],
   "source": [
    "x = \"hello\"\n",
    "y = 'world'"
   ]
  },
  {
   "cell_type": "markdown",
   "id": "ea54d7b2",
   "metadata": {
    "slideshow": {
     "slide_type": "subslide"
    }
   },
   "source": [
    "<p align='justify' style='margin: 10px 20px; color : purple; line-height:1.5; font-family: \"Times New Roman\", Times, serif; font-size:16px;'>\n",
    "    You can also create a string by using the str() function and passing a value as an argument. For example:\n",
    "\n",
    "</p>"
   ]
  },
  {
   "cell_type": "code",
   "execution_count": 3,
   "id": "1a362668",
   "metadata": {
    "slideshow": {
     "slide_type": "subslide"
    }
   },
   "outputs": [
    {
     "name": "stdout",
     "output_type": "stream",
     "text": [
      "5\n"
     ]
    }
   ],
   "source": [
    "x = str(5)\n",
    "print(x) # \"5\""
   ]
  },
  {
   "cell_type": "markdown",
   "id": "b5695530",
   "metadata": {
    "slideshow": {
     "slide_type": "subslide"
    }
   },
   "source": [
    "<p align='justify' style='margin: 10px 20px; color : purple; line-height:1.5; font-family: \"Times New Roman\", Times, serif; font-size:16px;'>\n",
    "    <strong>Concatenation</strong><br><br> You can concatenate two or more strings by using the + operator. For example:\n",
    "\n",
    "</p>"
   ]
  },
  {
   "cell_type": "code",
   "execution_count": 5,
   "id": "d6488416",
   "metadata": {
    "slideshow": {
     "slide_type": "subslide"
    }
   },
   "outputs": [
    {
     "name": "stdout",
     "output_type": "stream",
     "text": [
      "hello world\n"
     ]
    }
   ],
   "source": [
    "x = \"hello\"\n",
    "y = \"world\"\n",
    "z = x + \" \" + y\n",
    "print(z) # \"hello world\""
   ]
  },
  {
   "cell_type": "markdown",
   "id": "1945a3b1",
   "metadata": {
    "slideshow": {
     "slide_type": "subslide"
    }
   },
   "source": [
    "<p align='justify' style='margin: 10px 20px; color : purple; line-height:1.5; font-family: \"Times New Roman\", Times, serif; font-size:16px;'>\n",
    "    You can also use \"+=\" operator or \"*\" operator to concatenate strings.\n",
    "</p>\n"
   ]
  },
  {
   "cell_type": "code",
   "execution_count": 8,
   "id": "426eaac5",
   "metadata": {
    "slideshow": {
     "slide_type": "subslide"
    }
   },
   "outputs": [
    {
     "name": "stdout",
     "output_type": "stream",
     "text": [
      "Hello World!\n",
      "HelloHelloHello\n"
     ]
    }
   ],
   "source": [
    "x = \"Hello\"\n",
    "x += \" World!\"\n",
    "print(x)\n",
    "# Output: Hello World!\n",
    "\n",
    "y = \"Hello\"\n",
    "y = y * 3\n",
    "print(y)\n",
    "# Output: HelloHelloHello"
   ]
  },
  {
   "cell_type": "markdown",
   "id": "84f3f092",
   "metadata": {
    "slideshow": {
     "slide_type": "subslide"
    }
   },
   "source": [
    "<p align='justify' style='margin: 10px 20px; color : purple; line-height:1.5; font-family: \"Times New Roman\", Times, serif; font-size:16px;'>\n",
    "    <strong>Slicing:</strong><br><br> You can extract a specific part of a string by using slicing. Slicing is done by specifying the start and end index of the part of the string you want to extract, separated by a colon. <br><br>For example:\n",
    "\n",
    "\n",
    "\n",
    "</p>"
   ]
  },
  {
   "cell_type": "code",
   "execution_count": 6,
   "id": "6e2f852c",
   "metadata": {
    "slideshow": {
     "slide_type": "subslide"
    }
   },
   "outputs": [
    {
     "name": "stdout",
     "output_type": "stream",
     "text": [
      "hello\n"
     ]
    }
   ],
   "source": [
    "x = \"hello world\"\n",
    "y = x[0:5]\n",
    "print(y) # \"hello\""
   ]
  },
  {
   "cell_type": "markdown",
   "id": "b336e465",
   "metadata": {
    "slideshow": {
     "slide_type": "subslide"
    }
   },
   "source": [
    "<p align='justify' style='margin: 10px 20px; color : purple; line-height:1.5; font-family: \"Times New Roman\", Times, serif; font-size:16px;'>\n",
    "    <strong>Length </strong><br><br> You can find the length of a string by using the len() function.<br><br>For example:\n",
    "\n",
    "\n",
    "\n",
    "</p>"
   ]
  },
  {
   "cell_type": "code",
   "execution_count": 7,
   "id": "835c4df7",
   "metadata": {
    "slideshow": {
     "slide_type": "subslide"
    }
   },
   "outputs": [
    {
     "name": "stdout",
     "output_type": "stream",
     "text": [
      "11\n"
     ]
    }
   ],
   "source": [
    "x = \"hello world\"\n",
    "y = len(x)\n",
    "print(y) # 11"
   ]
  },
  {
   "cell_type": "markdown",
   "id": "21dd7c0e",
   "metadata": {
    "slideshow": {
     "slide_type": "subslide"
    }
   },
   "source": [
    "<h4 style='color:red; font-weight:bold; text-align:center; font-family: \"Times New Roman\", Times, serif;font-size:18px;'>String Methods</h4>\n",
    "\n",
    "<p align='justify' style='margin: 10px 20px; line-height:2.5; font-family: \"Times New Roman\", Times, serif; font-size:16px; color : purple'>\n",
    "    Strings have several built-in methods that can be used to manipulate the data. Some of the most commonly used methods include:\n",
    "    \n",
    "  <ul style='font-family: \"Times New Roman\", Times, serif; font-weight:light; font-size:16px;line-height:1.8;'>\n",
    "      <li><strong style = \"color: black\">upper(): </strong>  Converts a string to uppercase. </li>\n",
    "      <li><strong style = \"color: black\">lower(): </strong>  Converts a string to lowercase.</li>\n",
    "      <li><strong style = \"color: black\">strip(): </strong>  Removes leading and trailing whitespaces from a string.</li>\n",
    "      <li><strong style = \"color: black\">find(): </strong> Returns the index of a specific substring.</li>\n",
    "      <li><strong style = \"color: black\">replace():</strong> Replaces a specific substring with another substring.\n",
    "</li><br>\n",
    "      <strong> Examples:</strong>\n",
    "      \n",
    "  </ul>\n",
    "</p>"
   ]
  },
  {
   "cell_type": "code",
   "execution_count": 9,
   "id": "737767a1",
   "metadata": {
    "slideshow": {
     "slide_type": "subslide"
    }
   },
   "outputs": [
    {
     "name": "stdout",
     "output_type": "stream",
     "text": [
      "HELLO WORLD\n",
      "hello world\n",
      "hello world\n",
      "6\n",
      "hello python\n"
     ]
    }
   ],
   "source": [
    "x = \"hello world\"\n",
    "y = x.upper()\n",
    "print(y) # \"HELLO WORLD\"\n",
    "\n",
    "x = \"hello world\"\n",
    "y = x.lower()\n",
    "print(y) # \"hello world\"\n",
    "\n",
    "x = \"  hello world  \"\n",
    "y = x.strip()\n",
    "print(y) # \"hello world\"\n",
    "\n",
    "x = \"hello world\"\n",
    "y = x.find(\"world\")\n",
    "print(y) # 6\n",
    "\n",
    "x = \"hello world\"\n",
    "y = x.replace(\"world\", \"python\")\n",
    "print(y) # \"hello python\""
   ]
  },
  {
   "cell_type": "markdown",
   "id": "93fb12af",
   "metadata": {
    "slideshow": {
     "slide_type": "subslide"
    }
   },
   "source": [
    "<p align='justify' style='margin: 10px 20px; color : purple; line-height:1.5; font-family: \"Times New Roman\", Times, serif; font-size:16px;'>\n",
    "    <strong>Formatting:</strong><br><br> You can format strings in Python by using placeholders and the format() method. Placeholders are represented by curly braces {}. <br><br>For example:\n",
    "\n",
    "\n",
    "\n",
    "</p>"
   ]
  },
  {
   "cell_type": "code",
   "execution_count": 10,
   "id": "79832715",
   "metadata": {
    "slideshow": {
     "slide_type": "subslide"
    }
   },
   "outputs": [
    {
     "name": "stdout",
     "output_type": "stream",
     "text": [
      "My name is John and I am 30 years old\n"
     ]
    }
   ],
   "source": [
    "x = \"My name is {} and I am {} years old\"\n",
    "y = x.format(\"John\", 30)\n",
    "print(y) # \"My name is John and I am 30 years old\""
   ]
  },
  {
   "cell_type": "markdown",
   "id": "75e42414",
   "metadata": {
    "slideshow": {
     "slide_type": "subslide"
    }
   },
   "source": [
    "<h4 style='color:red; font-weight:bold; text-align:center; font-family: \"Times New Roman\", Times, serif;font-size:18px;'>Escape characters</h4>\n",
    "\n",
    "<p align='justify' style='margin: 10px 20px; line-height:1.5; font-family: \"Times New Roman\", Times, serif; font-size:16px; color : purple'>\n",
    "    Sometimes you may want to include special characters in a string, such as a new line or a tab. These characters are known as escape characters and are preceded by a backslash. Some of the most commonly used escape characters include:\n",
    "    \n",
    "  <ul style='font-family: \"Times New Roman\", Times, serif; font-weight:light; font-size:16px;line-height:1.8;'>\n",
    "      <li><strong style = \"color: black\">\\n:  </strong>   New line </li>\n",
    "      <li><strong style = \"color: black\">\\t:</strong>  Tab</li>\n",
    "      <li><strong style = \"color: black\">': </strong>  Single quote</li>\n",
    "      <li><strong style = \"color: black\">\":  </strong>  Double quote</li>\n",
    "      <li><strong style = \"color: black\">\\:</strong> Backslash\n",
    "</li><br>\n",
    "      <strong> Examples:</strong>\n",
    "      \n",
    "  </ul>\n",
    "</p>"
   ]
  },
  {
   "cell_type": "code",
   "execution_count": 11,
   "id": "c1f6de5b",
   "metadata": {
    "slideshow": {
     "slide_type": "subslide"
    }
   },
   "outputs": [
    {
     "name": "stdout",
     "output_type": "stream",
     "text": [
      "Hello\n",
      "world\n"
     ]
    }
   ],
   "source": [
    "x = \"Hello\\nworld\"\n",
    "print(x)\n",
    "# Output:\n",
    "# Hello\n",
    "# world"
   ]
  },
  {
   "cell_type": "markdown",
   "id": "27a04ea4",
   "metadata": {
    "slideshow": {
     "slide_type": "subslide"
    }
   },
   "source": [
    "<p align='justify' style='margin: 10px 20px; color : purple; line-height:1.5; font-family: \"Times New Roman\", Times, serif; font-size:16px;'>\n",
    "    Strings are immutable, which means that once a string is created, its value cannot be changed. If you want to change the value of a string, you need to create a new string.\n",
    "\n",
    "\n",
    "\n",
    "</p>"
   ]
  },
  {
   "cell_type": "markdown",
   "id": "0a2e2e7b",
   "metadata": {
    "slideshow": {
     "slide_type": "subslide"
    }
   },
   "source": [
    "<h3 style='color:red; font-weight:bold; text-align:center; font-family: \"Times New Roman\", Times, serif;font-size:20px;'>Boolean</h3>\n",
    "<p align='justify' style='margin: 10px 20px; color : purple; line-height:1.5; font-family: \"Times New Roman\", Times, serif; font-size:16px;'>\n",
    "    In Python, a Boolean data type can only have one of two values: True or False. They are often used in conditional statements and control flow (We will see it in the next chapter). Boolean values are used to represent the truth value of an expression and they are very useful in programming.\n",
    "\n",
    "</p><br>\n",
    "<p align='justify' style='margin: 10px 20px; color : black; line-height:1.5; font-family: \"Times New Roman\", Times, serif; font-size:16px;'>\n",
    "    You can create a Boolean by assigning the value True or False to a variable. <br><br><strong>For example:</strong>\n",
    "\n",
    "</p>"
   ]
  },
  {
   "cell_type": "code",
   "execution_count": 12,
   "id": "4dae2253",
   "metadata": {
    "slideshow": {
     "slide_type": "subslide"
    }
   },
   "outputs": [],
   "source": [
    "x = True\n",
    "y = False"
   ]
  },
  {
   "cell_type": "markdown",
   "id": "053f48c6",
   "metadata": {
    "slideshow": {
     "slide_type": "subslide"
    }
   },
   "source": [
    "<p align='justify' style='margin: 10px 20px; color : black; line-height:1.5; font-family: \"Times New Roman\", Times, serif; font-size:16px;'>\n",
    "    You can also create a Boolean by using the bool() function and passing a value as an argument. <br><br><strong>For example: </strong>\n",
    "\n",
    "</p>"
   ]
  },
  {
   "cell_type": "code",
   "execution_count": 13,
   "id": "81c784f6",
   "metadata": {
    "slideshow": {
     "slide_type": "subslide"
    }
   },
   "outputs": [
    {
     "name": "stdout",
     "output_type": "stream",
     "text": [
      "True\n"
     ]
    }
   ],
   "source": [
    "x = bool(5)\n",
    "print(x) # True"
   ]
  },
  {
   "cell_type": "markdown",
   "id": "86314f82",
   "metadata": {
    "slideshow": {
     "slide_type": "subslide"
    }
   },
   "source": [
    "<p align='justify' style='margin: 10px 20px; color : black; line-height:1.5; font-family: \"Times New Roman\", Times, serif; font-size:16px;'>\n",
    "    You can compare two values using comparison operators such as \"==\", \"!=\", \">\", \"<\", \">=\", \"<=\" and these comparison will return a Boolean value. <br><br><strong>For example:</strong>\n",
    "\n",
    "</p>"
   ]
  },
  {
   "cell_type": "code",
   "execution_count": 14,
   "id": "54761e8c",
   "metadata": {
    "slideshow": {
     "slide_type": "subslide"
    }
   },
   "outputs": [
    {
     "name": "stdout",
     "output_type": "stream",
     "text": [
      "True\n"
     ]
    }
   ],
   "source": [
    "x = 5\n",
    "y = 3\n",
    "z = x > y\n",
    "print(z) # True"
   ]
  },
  {
   "cell_type": "markdown",
   "id": "a687b9c7",
   "metadata": {
    "slideshow": {
     "slide_type": "subslide"
    }
   },
   "source": [
    "<p align='justify' style='margin: 10px 20px; color : black; line-height:1.5; font-family: \"Times New Roman\", Times, serif; font-size:16px;'>\n",
    "    You can use logical operators such as \"and\", \"or\", \"not\" to compare Boolean values. <br><br><strong>For example:</strong>\n",
    "\n",
    "</p>"
   ]
  },
  {
   "cell_type": "code",
   "execution_count": 16,
   "id": "b5ff7706",
   "metadata": {
    "slideshow": {
     "slide_type": "subslide"
    }
   },
   "outputs": [
    {
     "name": "stdout",
     "output_type": "stream",
     "text": [
      "False\n"
     ]
    }
   ],
   "source": [
    "x = True\n",
    "y = False\n",
    "z = x and y\n",
    "print(z) # False"
   ]
  },
  {
   "cell_type": "markdown",
   "id": "f4d9ee61",
   "metadata": {
    "slideshow": {
     "slide_type": "subslide"
    }
   },
   "source": [
    "<p align='justify' style='margin: 10px 20px; color : black; line-height:1.5; font-family: \"Times New Roman\", Times, serif; font-size:16px;'>\n",
    "    You can use membership operators such as <strong>\"in\"</strong> and <strong>\"not in\"</strong> to check if a value is present in a sequence or not. These operators also return a Boolean value. <br><br><strong>For example: </strong>\n",
    "\n",
    "</p>"
   ]
  },
  {
   "cell_type": "code",
   "execution_count": 19,
   "id": "0e33292d",
   "metadata": {
    "slideshow": {
     "slide_type": "subslide"
    }
   },
   "outputs": [
    {
     "name": "stdout",
     "output_type": "stream",
     "text": [
      "True\n"
     ]
    }
   ],
   "source": [
    "x = [1, 2, 3, 4, 5] # we will see list soon\n",
    "y = 3\n",
    "z = y in x\n",
    "print(z) # True"
   ]
  },
  {
   "cell_type": "markdown",
   "id": "0cab2dd6",
   "metadata": {
    "slideshow": {
     "slide_type": "subslide"
    }
   },
   "source": [
    "<p align='justify' style='margin: 10px 20px; color : black; line-height:1.5; font-family: \"Times New Roman\", Times, serif; font-size:16px;'>\n",
    "    You can use identity operators such as <strong>\"is\"</strong> and <strong>\"is not\"</strong> to check if two variables refer to the same object or not. These operators also return a Boolean value. <br><br><strong>For example:</strong>\n",
    "\n",
    "</p>"
   ]
  },
  {
   "cell_type": "code",
   "execution_count": 21,
   "id": "db2d4950",
   "metadata": {
    "slideshow": {
     "slide_type": "subslide"
    }
   },
   "outputs": [
    {
     "name": "stdout",
     "output_type": "stream",
     "text": [
      "False\n"
     ]
    }
   ],
   "source": [
    "x = [1, 2, 3, 4, 5]\n",
    "y = [1, 2, 3, 4, 5]\n",
    "z = x is y\n",
    "print(z) # False"
   ]
  },
  {
   "cell_type": "markdown",
   "id": "a3d7681c",
   "metadata": {
    "slideshow": {
     "slide_type": "subslide"
    }
   },
   "source": [
    "<p align='justify' style='margin: 10px 20px; color : black; line-height:1.5; font-family: \"Times New Roman\", Times, serif; font-size:16px;'>\n",
    "    <strong>Truth Value Testing:</strong><br><br>Python considers certain values to be \"truthy\" or \"falsy\" when evaluating a Boolean expression. <br><br><strong>For example, an empty list, tuple, dictionary, or string is considered False, whereas a non-empty list, tuple, dictionary, or string is considered True.</strong>\n",
    "\n",
    "\n",
    "\n",
    "</p>"
   ]
  },
  {
   "cell_type": "markdown",
   "id": "59dac814",
   "metadata": {
    "slideshow": {
     "slide_type": "subslide"
    }
   },
   "source": [
    "<h3 style='color:red; font-weight:bold; text-align:center; font-family: \"Times New Roman\", Times, serif;font-size:20px;'>Lists </h3>\n",
    "<p align='justify' style='margin: 10px 20px; color : purple; line-height:1.5; font-family: \"Times New Roman\", Times, serif; font-size:16px;'>\n",
    "    In Python, a list is a built-in data structure that can store a collection of items. Lists are mutable, meaning you can add, remove, or change the items in it. Lists are similar to arrays in other programming languages. They are enclosed in square brackets \"[]\" and the items are separated by commas.\n",
    "\n",
    "</p><br>\n",
    "<p align='justify' style='margin: 10px 20px; color : black; line-height:1.5; font-family: \"Times New Roman\", Times, serif; font-size:16px;'>\n",
    "    You can create a list by enclosing a collection of items in square brackets and separating them by commas.<br><br><strong>For example:</strong>\n",
    "\n",
    "</p>"
   ]
  },
  {
   "cell_type": "code",
   "execution_count": 2,
   "id": "7d14b3ce",
   "metadata": {
    "slideshow": {
     "slide_type": "subslide"
    }
   },
   "outputs": [],
   "source": [
    "x = [1, 2, 3, 4, 5]\n",
    "y = [\"apple\", \"banana\", \"orange\"]"
   ]
  },
  {
   "cell_type": "markdown",
   "id": "1ad56704",
   "metadata": {
    "slideshow": {
     "slide_type": "subslide"
    }
   },
   "source": [
    "<p align='justify' style='margin: 10px 20px; color : purple; line-height:1.5; font-family: \"Times New Roman\", Times, serif; font-size:16px;'>\n",
    "    You can also create a list using the list() function and passing an iterable as an argument. <br><br><strong>For example:</strong>\n",
    "\n",
    "</p>"
   ]
  },
  {
   "cell_type": "code",
   "execution_count": 3,
   "id": "dbeebc0e",
   "metadata": {
    "slideshow": {
     "slide_type": "subslide"
    }
   },
   "outputs": [
    {
     "name": "stdout",
     "output_type": "stream",
     "text": [
      "[0, 1, 2, 3, 4]\n"
     ]
    }
   ],
   "source": [
    "x = list(range(5))\n",
    "print(x) # [0, 1, 2, 3, 4]"
   ]
  },
  {
   "cell_type": "markdown",
   "id": "04e7f19d",
   "metadata": {
    "slideshow": {
     "slide_type": "subslide"
    }
   },
   "source": [
    "<p align='justify' style='margin: 10px 20px; color : purple; line-height:1.5; font-family: \"Times New Roman\", Times, serif; font-size:16px;'>\n",
    "    <strong>Accessing Items: </strong><br><br> You can access items in a list by using their index. The index of the first item is 0, the second item is 1, and so on. <br><br><strong>For example:</strong>\n",
    "\n",
    "</p>"
   ]
  },
  {
   "cell_type": "code",
   "execution_count": 4,
   "id": "430b2106",
   "metadata": {
    "slideshow": {
     "slide_type": "subslide"
    }
   },
   "outputs": [
    {
     "name": "stdout",
     "output_type": "stream",
     "text": [
      "3\n"
     ]
    }
   ],
   "source": [
    "x = [1, 2, 3, 4, 5]\n",
    "y = x[2]\n",
    "print(y) # 3"
   ]
  },
  {
   "cell_type": "markdown",
   "id": "4fefbf77",
   "metadata": {
    "slideshow": {
     "slide_type": "subslide"
    }
   },
   "source": [
    "<p align='justify' style='margin: 10px 20px; color : purple; line-height:1.5; font-family: \"Times New Roman\", Times, serif; font-size:16px;'>\n",
    "    <strong>Changing Items: </strong><br><br> You can change the value of an item in a list by using its index. <br><br><strong>For example:</strong>\n",
    "\n",
    "</p>"
   ]
  },
  {
   "cell_type": "code",
   "execution_count": 5,
   "id": "26e740f1",
   "metadata": {
    "slideshow": {
     "slide_type": "subslide"
    }
   },
   "outputs": [
    {
     "name": "stdout",
     "output_type": "stream",
     "text": [
      "[1, 2, 6, 4, 5]\n"
     ]
    }
   ],
   "source": [
    "x = [1, 2, 3, 4, 5]\n",
    "x[2] = 6\n",
    "print(x) # [1, 2, 6, 4, 5]"
   ]
  },
  {
   "cell_type": "markdown",
   "id": "e018cae4",
   "metadata": {
    "slideshow": {
     "slide_type": "subslide"
    }
   },
   "source": [
    "<p align='justify' style='margin: 10px 20px; color : purple; line-height:1.5; font-family: \"Times New Roman\", Times, serif; font-size:16px;'>\n",
    "    <strong>Adding Items: </strong><br><br> You can add items to a list using the append() method, insert() method and the + operator. <br><br><strong>For example:</strong>\n",
    "\n",
    "</p>"
   ]
  },
  {
   "cell_type": "code",
   "execution_count": 7,
   "id": "c26c37d6",
   "metadata": {
    "slideshow": {
     "slide_type": "subslide"
    }
   },
   "outputs": [
    {
     "name": "stdout",
     "output_type": "stream",
     "text": [
      "[1, 2, 3, 4, 5, 6]\n"
     ]
    }
   ],
   "source": [
    "x = [1, 2, 3, 4, 5]\n",
    "x.append(6)\n",
    "print(x) # [1, 2, 3, 4, 5, 6]"
   ]
  },
  {
   "cell_type": "markdown",
   "id": "694b5e32",
   "metadata": {
    "slideshow": {
     "slide_type": "subslide"
    }
   },
   "source": [
    "<p align='justify' style='margin: 10px 20px; color : purple; line-height:1.5; font-family: \"Times New Roman\", Times, serif; font-size:16px;'>\n",
    "    You can also use the insert() method to add an item at a specific index.\n",
    "\n",
    "</p>"
   ]
  },
  {
   "cell_type": "code",
   "execution_count": 9,
   "id": "cef8239a",
   "metadata": {
    "slideshow": {
     "slide_type": "subslide"
    }
   },
   "outputs": [
    {
     "name": "stdout",
     "output_type": "stream",
     "text": [
      "[1, 2, 6, 3, 4, 5]\n"
     ]
    }
   ],
   "source": [
    "x = [1, 2, 3, 4, 5]\n",
    "x.insert(2, 6)\n",
    "print(x) # [1, 2, 6, 3, 4, 5]"
   ]
  },
  {
   "cell_type": "markdown",
   "id": "8f07ceb0",
   "metadata": {
    "slideshow": {
     "slide_type": "subslide"
    }
   },
   "source": [
    "<p align='justify' style='margin: 10px 20px; color : purple; line-height:1.5; font-family: \"Times New Roman\", Times, serif; font-size:16px;'>\n",
    "    You can also use the \"+\" operator to concatenate two lists.\n",
    "\n",
    "</p>"
   ]
  },
  {
   "cell_type": "code",
   "execution_count": 11,
   "id": "0f09b51c",
   "metadata": {
    "slideshow": {
     "slide_type": "subslide"
    }
   },
   "outputs": [
    {
     "name": "stdout",
     "output_type": "stream",
     "text": [
      "[1, 2, 3, 4, 5, 6]\n"
     ]
    }
   ],
   "source": [
    "x = [1, 2, 3]\n",
    "y = [4, 5, 6]\n",
    "z = x + y\n",
    "print(z) # [1, 2, 3, 4, 5, 6]"
   ]
  },
  {
   "cell_type": "markdown",
   "id": "a85ec8aa",
   "metadata": {
    "slideshow": {
     "slide_type": "subslide"
    }
   },
   "source": [
    "<p align='justify' style='margin: 10px 20px; color : purple; line-height:1.5; font-family: \"Times New Roman\", Times, serif; font-size:16px;'>\n",
    "    <strong>Removing Items: </strong><br><br> You can remove items from a list using the remove() method and the del keyword. <br><br><strong>For example:</strong>\n",
    "\n",
    "</p>"
   ]
  },
  {
   "cell_type": "code",
   "execution_count": 13,
   "id": "c526375b",
   "metadata": {
    "scrolled": true,
    "slideshow": {
     "slide_type": "subslide"
    }
   },
   "outputs": [
    {
     "name": "stdout",
     "output_type": "stream",
     "text": [
      "[1, 2, 4, 5]\n"
     ]
    }
   ],
   "source": [
    "x = [1, 2, 3, 4, 5]\n",
    "x.remove(3)\n",
    "print(x) # [1, 2, 4, 5]"
   ]
  },
  {
   "cell_type": "markdown",
   "id": "a071043b",
   "metadata": {
    "slideshow": {
     "slide_type": "subslide"
    }
   },
   "source": [
    "<p align='justify' style='margin: 10px 20px; color : purple; line-height:1.5; font-family: \"Times New Roman\", Times, serif; font-size:16px;'>\n",
    "    You can also use the del keyword to remove an item at a specific index.\n",
    "\n",
    "</p>"
   ]
  },
  {
   "cell_type": "code",
   "execution_count": 15,
   "id": "5b2e375f",
   "metadata": {
    "slideshow": {
     "slide_type": "subslide"
    }
   },
   "outputs": [
    {
     "name": "stdout",
     "output_type": "stream",
     "text": [
      "[1, 2, 4, 5]\n"
     ]
    }
   ],
   "source": [
    "x = [1, 2, 3, 4, 5]\n",
    "del x[2]\n",
    "print(x) # [1, 2, 4, 5]"
   ]
  },
  {
   "cell_type": "markdown",
   "id": "9bc17546",
   "metadata": {
    "slideshow": {
     "slide_type": "subslide"
    }
   },
   "source": [
    "<p align='justify' style='margin: 10px 20px; color : purple; line-height:1.5; font-family: \"Times New Roman\", Times, serif; font-size:16px;'>\n",
    "    <strong>Slicing: </strong> <br><br> You can extract a specific part of a list by using slicing. Slicing is done by specifying the start and end index of the part of the list you want to extract, separated by a colon. <br><br><strong>For example:</strong>\n",
    "\n",
    "</p>"
   ]
  },
  {
   "cell_type": "code",
   "execution_count": 17,
   "id": "a6761830",
   "metadata": {
    "slideshow": {
     "slide_type": "subslide"
    }
   },
   "outputs": [
    {
     "name": "stdout",
     "output_type": "stream",
     "text": [
      "[2, 3]\n"
     ]
    }
   ],
   "source": [
    "x = [1, 2, 3, 4, 5]\n",
    "y = x[1:3]\n",
    "print(y) # [2, 3]"
   ]
  },
  {
   "cell_type": "markdown",
   "id": "1b533ea9",
   "metadata": {
    "slideshow": {
     "slide_type": "subslide"
    }
   },
   "source": [
    "<h4 style='color:red; font-weight:bold; text-align:center; font-family: \"Times New Roman\", Times, serif;font-size:18px;'>List Methods</h4>\n",
    "\n",
    "<p align='justify' style='margin: 10px 20px; line-height:2.5; font-family: \"Times New Roman\", Times, serif; font-size:16px; color : purple'>\n",
    "    Lists have several built-in methods that can be used to manipulate the data. Some of the most commonly used methods include:\n",
    "    \n",
    "  <ul style='font-family: \"Times New Roman\", Times, serif; font-weight:light; font-size:16px;line-height:1.8;'>\n",
    "      <li><strong style = \"color: black\">len(): </strong>  This method returns the number of items in a list</li>\n",
    "      <li><strong style = \"color: black\">count(): </strong>  This method returns the number of occurrences of a specific item in a list</li>\n",
    "      <li><strong style = \"color: black\">sort():  </strong>  This method sorts the items in a list in ascending order</li>\n",
    "      <li><strong style = \"color: black\">reverse(): </strong> This method reverses the order of the items in a list</li>\n",
    "      <li><strong style = \"color: black\">index(): </strong>This method returns the index of the first occurrence of a specific item in a list</li><br>\n",
    "      <strong> Examples:</strong>\n",
    "      \n",
    "  </ul>\n",
    "</p>"
   ]
  },
  {
   "cell_type": "code",
   "execution_count": 19,
   "id": "dd495966",
   "metadata": {
    "slideshow": {
     "slide_type": "subslide"
    }
   },
   "outputs": [
    {
     "name": "stdout",
     "output_type": "stream",
     "text": [
      "6\n",
      "2\n",
      "[1, 2, 3, 4, 5, 5]\n",
      "[5, 5, 4, 3, 2, 1]\n",
      "2\n"
     ]
    }
   ],
   "source": [
    "x = [1, 2, 3, 4, 5, 5]\n",
    "print(len(x)) # 6\n",
    "print(x.count(5)) # 2\n",
    "x.sort()\n",
    "print(x) # [1, 2, 3, 4, 5, 5]\n",
    "x.reverse()\n",
    "print(x) # [5, 5, 4, 3, 2, 1]\n",
    "print(x.index(4)) # 2"
   ]
  },
  {
   "cell_type": "markdown",
   "id": "94bdf530",
   "metadata": {
    "slideshow": {
     "slide_type": "subslide"
    }
   },
   "source": [
    "<h3 style='color:red; font-weight:bold; text-align:center; font-family: \"Times New Roman\", Times, serif;font-size:20px;'>Tuples </h3>\n",
    "<p align='justify' style='margin: 10px 20px; color : purple; line-height:1.5; font-family: \"Times New Roman\", Times, serif; font-size:16px;'>\n",
    "    In Python, a tuple is a built-in data structure that can store a collection of items. Tuples are immutable, meaning you can't add, remove, or change the items in it once they are added. They are enclosed in parentheses () and the items are separated by commas.\n",
    "\n",
    "</p><br>\n",
    "<p align='justify' style='margin: 10px 20px; color : black; line-height:1.5; font-family: \"Times New Roman\", Times, serif; font-size:16px;'>\n",
    "    You can create a tuple by enclosing a collection of items in parentheses and separating them by commas.<br><br><strong>For example:</strong>\n",
    "\n",
    "</p>"
   ]
  },
  {
   "cell_type": "code",
   "execution_count": 20,
   "id": "be1cf2a8",
   "metadata": {
    "slideshow": {
     "slide_type": "subslide"
    }
   },
   "outputs": [],
   "source": [
    "x = (1, 2, 3, 4, 5)\n",
    "y = (\"apple\", \"banana\", \"orange\")"
   ]
  },
  {
   "cell_type": "markdown",
   "id": "ce6a2bb2",
   "metadata": {
    "slideshow": {
     "slide_type": "subslide"
    }
   },
   "source": [
    "<p align='justify' style='margin: 10px 20px; color : black; line-height:1.5; font-family: \"Times New Roman\", Times, serif; font-size:16px;'>\n",
    "    You can also create a tuple using the tuple() function and passing an iterable as an argument.<br><br><strong>For example:</strong>\n",
    "\n",
    "</p>"
   ]
  },
  {
   "cell_type": "code",
   "execution_count": 21,
   "id": "8f66af42",
   "metadata": {
    "slideshow": {
     "slide_type": "subslide"
    }
   },
   "outputs": [
    {
     "name": "stdout",
     "output_type": "stream",
     "text": [
      "(0, 1, 2, 3, 4)\n"
     ]
    }
   ],
   "source": [
    "x = tuple(range(5))\n",
    "print(x) # (0, 1, 2, 3, 4)"
   ]
  },
  {
   "cell_type": "markdown",
   "id": "823e9f8b",
   "metadata": {
    "slideshow": {
     "slide_type": "subslide"
    }
   },
   "source": [
    "<p align='justify' style='margin: 10px 20px; color : black; line-height:1.5; font-family: \"Times New Roman\", Times, serif; font-size:16px;'>\n",
    "    <strong>Accessing Items: </strong><br><br>You can access items in a tuple by using their index. The index of the first item is 0, the second item is 1, and so on. <br><br><strong>For example:</strong>\n",
    "\n",
    "</p>"
   ]
  },
  {
   "cell_type": "code",
   "execution_count": 22,
   "id": "ffbd5cc3",
   "metadata": {
    "slideshow": {
     "slide_type": "subslide"
    }
   },
   "outputs": [
    {
     "name": "stdout",
     "output_type": "stream",
     "text": [
      "3\n"
     ]
    }
   ],
   "source": [
    "x = (1, 2, 3, 4, 5)\n",
    "y = x[2]\n",
    "print(y) # 3"
   ]
  },
  {
   "cell_type": "markdown",
   "id": "b48b847f",
   "metadata": {
    "slideshow": {
     "slide_type": "subslide"
    }
   },
   "source": [
    "<p align='justify' style='margin: 10px 20px; color : black; line-height:1.5; font-family: \"Times New Roman\", Times, serif; font-size:16px;'>\n",
    "    <strong>Slicing: </strong><br><br>You can extract a specific part of a tuple by using slicing. Slicing is done by specifying the start and end index of the part of the tuple you want to extract, separated by a colon.  <br><br><strong>For example:</strong>\n",
    "\n",
    "</p>"
   ]
  },
  {
   "cell_type": "code",
   "execution_count": 24,
   "id": "5760be9f",
   "metadata": {
    "slideshow": {
     "slide_type": "subslide"
    }
   },
   "outputs": [
    {
     "name": "stdout",
     "output_type": "stream",
     "text": [
      "(2, 3)\n"
     ]
    }
   ],
   "source": [
    "x = (1, 2, 3, 4, 5)\n",
    "y = x[1:3]\n",
    "print(y) # (2, 3)"
   ]
  },
  {
   "cell_type": "markdown",
   "id": "2c422444",
   "metadata": {
    "slideshow": {
     "slide_type": "subslide"
    }
   },
   "source": [
    "<p align='justify' style='margin: 10px 20px; color : black; line-height:1.5; font-family: \"Times New Roman\", Times, serif; font-size:16px;'>\n",
    "    <strong>Counting Items: </strong><br><br>You can count the number of occurrences of a specific item in a tuple using the count() method.  <br><br><strong>For example:</strong>\n",
    "\n",
    "</p>"
   ]
  },
  {
   "cell_type": "code",
   "execution_count": 26,
   "id": "66564809",
   "metadata": {
    "slideshow": {
     "slide_type": "subslide"
    }
   },
   "outputs": [
    {
     "name": "stdout",
     "output_type": "stream",
     "text": [
      "2\n"
     ]
    }
   ],
   "source": [
    "x = (1, 2, 3, 4, 5, 5)\n",
    "print(x.count(5)) # 2"
   ]
  },
  {
   "cell_type": "markdown",
   "id": "02b175e8",
   "metadata": {
    "slideshow": {
     "slide_type": "subslide"
    }
   },
   "source": [
    "<p align='justify' style='margin: 10px 20px; line-height:2.5; font-family: \"Times New Roman\", Times, serif; font-size:16px; color : purple'>\n",
    "    Tuples have several built-in methods that can be used to manipulate the data, such as index(), count() and len() but you can't change the items in a tuple once they are added.\n",
    "</p>"
   ]
  },
  {
   "cell_type": "markdown",
   "id": "f72d3eaf",
   "metadata": {
    "slideshow": {
     "slide_type": "subslide"
    }
   },
   "source": [
    "<h3 style='color:red; font-weight:bold; text-align:center; font-family: \"Times New Roman\", Times, serif;font-size:20px;'>Dictionaries</h3>\n",
    "<p align='justify' style='margin: 10px 20px; color : purple; line-height:1.5; font-family: \"Times New Roman\", Times, serif; font-size:16px;'>\n",
    "    In Python, a dictionary is a built-in data structure that consists of key-value pairs. They are used to store data in a more organized way, and they are similar to JSON objects. They are enclosed in curly braces {} and the items are separated by commas.\n",
    "\n",
    "</p><br>\n",
    "<p align='justify' style='margin: 10px 20px; color : black; line-height:1.5; font-family: \"Times New Roman\", Times, serif; font-size:16px;'>\n",
    "    You can create a dictionary by enclosing a collection of key-value pairs in curly braces and separating them by commas.<br><br><strong> For example: </strong>\n",
    "\n",
    "</p>"
   ]
  },
  {
   "cell_type": "code",
   "execution_count": 28,
   "id": "eb436028",
   "metadata": {
    "slideshow": {
     "slide_type": "subslide"
    }
   },
   "outputs": [],
   "source": [
    "x = {\"name\": \"John\", \"age\": 25, \"city\": \"New York\"}"
   ]
  },
  {
   "cell_type": "markdown",
   "id": "10138917",
   "metadata": {
    "slideshow": {
     "slide_type": "subslide"
    }
   },
   "source": [
    "<p align='justify' style='margin: 10px 20px; color : black; line-height:1.5; font-family: \"Times New Roman\", Times, serif; font-size:16px;'>\n",
    "    You can also create a dictionary using the dict() constructor and passing key-value pairs as arguments.<br><br><strong> For example: </strong>\n",
    "\n",
    "</p>"
   ]
  },
  {
   "cell_type": "code",
   "execution_count": 29,
   "id": "176fa9dd",
   "metadata": {
    "slideshow": {
     "slide_type": "subslide"
    }
   },
   "outputs": [],
   "source": [
    "x = dict(name=\"John\", age=25, city=\"New York\")"
   ]
  },
  {
   "cell_type": "markdown",
   "id": "911b4a15",
   "metadata": {
    "slideshow": {
     "slide_type": "subslide"
    }
   },
   "source": [
    "<p align='justify' style='margin: 10px 20px; color : black; line-height:1.5; font-family: \"Times New Roman\", Times, serif; font-size:16px;'>\n",
    "    You can access items in a dictionary by using their keys. <br><br><strong>For example:</strong>\n",
    "</p>"
   ]
  },
  {
   "cell_type": "code",
   "execution_count": 31,
   "id": "9bd8e984",
   "metadata": {
    "slideshow": {
     "slide_type": "subslide"
    }
   },
   "outputs": [
    {
     "name": "stdout",
     "output_type": "stream",
     "text": [
      "John\n"
     ]
    }
   ],
   "source": [
    "x = {\"name\": \"John\", \"age\": 25, \"city\": \"New York\"}\n",
    "y = x[\"name\"]\n",
    "print(y) # John"
   ]
  },
  {
   "cell_type": "markdown",
   "id": "a3f5f3c7",
   "metadata": {
    "slideshow": {
     "slide_type": "subslide"
    }
   },
   "source": [
    "<p align='justify' style='margin: 10px 20px; color : black; line-height:1.5; font-family: \"Times New Roman\", Times, serif; font-size:16px;'>\n",
    "    You can add items to a dictionary by using the square brackets [] and assigning a value to a new key. <br><br><strong>For example:</strong>\n",
    "</p>"
   ]
  },
  {
   "cell_type": "code",
   "execution_count": 32,
   "id": "dd5e9ba4",
   "metadata": {
    "slideshow": {
     "slide_type": "subslide"
    }
   },
   "outputs": [
    {
     "name": "stdout",
     "output_type": "stream",
     "text": [
      "{'name': 'John', 'age': 25, 'city': 'New York', 'gender': 'male'}\n"
     ]
    }
   ],
   "source": [
    "x = {\"name\": \"John\", \"age\": 25, \"city\": \"New York\"}\n",
    "x[\"gender\"] = \"male\"\n",
    "print(x) # {\"name\": \"John\", \"age\": 25, \"city\": \"New York\", \"gender\": \"male\"}"
   ]
  },
  {
   "cell_type": "markdown",
   "id": "aa26da9e",
   "metadata": {
    "slideshow": {
     "slide_type": "subslide"
    }
   },
   "source": [
    "<p align='justify' style='margin: 10px 20px; color : black; line-height:1.5; font-family: \"Times New Roman\", Times, serif; font-size:16px;'>\n",
    "    You can remove items from a dictionary using the del keyword and the key of the item you want to remove, or you can use the pop() method and the key of the item you want to remove<br><br><strong>For example:</strong>\n",
    "</p>"
   ]
  },
  {
   "cell_type": "code",
   "execution_count": 34,
   "id": "93f782a7",
   "metadata": {
    "slideshow": {
     "slide_type": "subslide"
    }
   },
   "outputs": [
    {
     "name": "stdout",
     "output_type": "stream",
     "text": [
      "{'name': 'John', 'city': 'New York'}\n",
      "{'name': 'John', 'city': 'New York'}\n"
     ]
    }
   ],
   "source": [
    "x = {\"name\": \"John\", \"age\": 25, \"city\": \"New York\"}\n",
    "del x[\"age\"]\n",
    "print(x) # {\"name\": \"John\", \"city\": \"New York\"}\n",
    "\n",
    "x = {\"name\": \"John\", \"age\": 25, \"city\": \"New York\"}\n",
    "x.pop(\"age\")\n",
    "print(x) # {\"name\": \"John\", \"city\": \"New York\"}"
   ]
  },
  {
   "cell_type": "markdown",
   "id": "f520acc2",
   "metadata": {
    "slideshow": {
     "slide_type": "subslide"
    }
   },
   "source": [
    "<h4 style='color:red; font-weight:bold; text-align:center; font-family: \"Times New Roman\", Times, serif;font-size:18px;'>Dictionary Methods</h4>\n",
    "\n",
    "<p align='justify' style='margin: 10px 20px; line-height:2.5; font-family: \"Times New Roman\", Times, serif; font-size:16px; color : purple'>\n",
    "    Dictionaries have several built-in methods that can be used to manipulate the data. Some of the most commonly used methods include:\n",
    "    \n",
    "  <ul style='font-family: \"Times New Roman\", Times, serif; font-weight:light; font-size:16px;line-height:1.8;'>\n",
    "      <li><strong style = \"color: black\">keys(): </strong>  This method returns a view object that contains the keys of the dictionary</li>\n",
    "      <li><strong style = \"color: black\">values():  </strong>  This method returns a view object that contains the values of the dictionary</li>\n",
    "      <li><strong style = \"color: black\">items():  </strong>  This method returns a view object that contains the key-value pairs of the dictionary</li>\n",
    "      <li><strong style = \"color: black\">clear(): </strong> This method removes all the items from the dictionary</li>\n",
    "      <li><strong style = \"color: black\">copy():  </strong>This method creates a shallow copy of the dictionary\n",
    "</li><br>\n",
    "      <strong style = \"color: purple\"> Here are some examples of the most commonly used dictionary methods:</strong><br><br> keys(): This method returns a view object that contains the keys of the dictionary. For example:\n",
    "      \n",
    "  </ul>\n",
    "</p>"
   ]
  },
  {
   "cell_type": "code",
   "execution_count": 36,
   "id": "7cb9c3d3",
   "metadata": {
    "slideshow": {
     "slide_type": "subslide"
    }
   },
   "outputs": [
    {
     "name": "stdout",
     "output_type": "stream",
     "text": [
      "dict_keys(['name', 'age', 'city'])\n"
     ]
    }
   ],
   "source": [
    "x = {\"name\": \"John\", \"age\": 25, \"city\": \"New York\"}\n",
    "keys = x.keys()\n",
    "print(keys) # dict_keys(['name', 'age', 'city'])"
   ]
  },
  {
   "cell_type": "markdown",
   "id": "e0da1e3f",
   "metadata": {
    "slideshow": {
     "slide_type": "subslide"
    }
   },
   "source": [
    "<p align='justify' style='margin: 10px 20px; color : black; line-height:1.5; font-family: \"Times New Roman\", Times, serif; font-size:16px;'>\n",
    "    values(): This method returns a view object that contains the values of the dictionary.<br><br><strong>For example:</strong>\n",
    "</p>"
   ]
  },
  {
   "cell_type": "code",
   "execution_count": 38,
   "id": "b4560927",
   "metadata": {
    "slideshow": {
     "slide_type": "subslide"
    }
   },
   "outputs": [
    {
     "name": "stdout",
     "output_type": "stream",
     "text": [
      "dict_values(['John', 25, 'New York'])\n"
     ]
    }
   ],
   "source": [
    "x = {\"name\": \"John\", \"age\": 25, \"city\": \"New York\"}\n",
    "values = x.values()\n",
    "print(values) # dict_values(['John', 25, 'New York'])"
   ]
  },
  {
   "cell_type": "markdown",
   "id": "16458973",
   "metadata": {
    "slideshow": {
     "slide_type": "subslide"
    }
   },
   "source": [
    "<p align='justify' style='margin: 10px 20px; color : black; line-height:1.5; font-family: \"Times New Roman\", Times, serif; font-size:16px;'>\n",
    "    items(): This method returns a view object that contains the key-value pairs of the dictionary. <br><br><strong>For example:</strong>\n",
    "</p>"
   ]
  },
  {
   "cell_type": "code",
   "execution_count": 40,
   "id": "f6f15ded",
   "metadata": {
    "slideshow": {
     "slide_type": "subslide"
    }
   },
   "outputs": [
    {
     "name": "stdout",
     "output_type": "stream",
     "text": [
      "dict_items([('name', 'John'), ('age', 25), ('city', 'New York')])\n"
     ]
    }
   ],
   "source": [
    "x = {\"name\": \"John\", \"age\": 25, \"city\": \"New York\"}\n",
    "items = x.items()\n",
    "print(items) # dict_items([('name', 'John'), ('age', 25), ('city', 'New York')])"
   ]
  },
  {
   "cell_type": "markdown",
   "id": "eaac6665",
   "metadata": {
    "slideshow": {
     "slide_type": "subslide"
    }
   },
   "source": [
    "<p align='justify' style='margin: 10px 20px; color : black; line-height:1.5; font-family: \"Times New Roman\", Times, serif; font-size:16px;'>\n",
    "    clear(): This method removes all the items from the dictionary. <br><br><strong>For example:</strong>\n",
    "</p>"
   ]
  },
  {
   "cell_type": "code",
   "execution_count": 41,
   "id": "37a1e49d",
   "metadata": {
    "slideshow": {
     "slide_type": "subslide"
    }
   },
   "outputs": [
    {
     "name": "stdout",
     "output_type": "stream",
     "text": [
      "{}\n"
     ]
    }
   ],
   "source": [
    "x = {\"name\": \"John\", \"age\": 25, \"city\": \"New York\"}\n",
    "x.clear()\n",
    "print(x) # {}"
   ]
  },
  {
   "cell_type": "markdown",
   "id": "f755a668",
   "metadata": {
    "slideshow": {
     "slide_type": "subslide"
    }
   },
   "source": [
    "<p align='justify' style='margin: 10px 20px; color : black; line-height:1.5; font-family: \"Times New Roman\", Times, serif; font-size:16px;'>\n",
    "    copy(): This method creates a shallow copy of the dictionary.  <br><br><strong>For example:</strong>\n",
    "</p>"
   ]
  },
  {
   "cell_type": "code",
   "execution_count": 43,
   "id": "5a0249d2",
   "metadata": {
    "slideshow": {
     "slide_type": "subslide"
    }
   },
   "outputs": [
    {
     "name": "stdout",
     "output_type": "stream",
     "text": [
      "{'name': 'John', 'age': 25, 'city': 'New York'}\n"
     ]
    }
   ],
   "source": [
    "x = {\"name\": \"John\", \"age\": 25, \"city\": \"New York\"}\n",
    "y = x.copy()\n",
    "print(y) # {\"name\": \"John\", \"age\": 25, \"city\": \"New York\"}"
   ]
  },
  {
   "cell_type": "markdown",
   "id": "de433c1f",
   "metadata": {
    "slideshow": {
     "slide_type": "subslide"
    }
   },
   "source": [
    "<p align='justify' style='margin: 10px 20px; color : black; line-height:1.5; font-family: \"Times New Roman\", Times, serif; font-size:16px;'>\n",
    "    You can also use the method update() which allows you to add multiple key-value pairs to the dictionary at once, or to update the values of existing keys. <br><br><strong>For example:</strong>\n",
    "</p>"
   ]
  },
  {
   "cell_type": "code",
   "execution_count": 44,
   "id": "a5480cba",
   "metadata": {
    "slideshow": {
     "slide_type": "subslide"
    }
   },
   "outputs": [
    {
     "name": "stdout",
     "output_type": "stream",
     "text": [
      "{'name': 'John', 'age': 30, 'city': 'New York', 'gender': 'male'}\n"
     ]
    }
   ],
   "source": [
    "x = {\"name\": \"John\", \"age\": 25, \"city\": \"New York\"}\n",
    "x.update({\"gender\": \"male\", \"age\": 30})\n",
    "print(x) # {\"name\": \"John\", \"age\": 30, \"city\": \"New York\", \"gender\": \"male\"}"
   ]
  },
  {
   "cell_type": "markdown",
   "id": "c66e31a5",
   "metadata": {
    "slideshow": {
     "slide_type": "subslide"
    }
   },
   "source": [
    "<p align='justify' style='margin: 10px 20px; color : black; line-height:1.5; font-family: \"Times New Roman\", Times, serif; font-size:16px;'>\n",
    "    Another useful method is get(), which allows you to retrieve the value of a specific key, but it doesn't raise an error if the key is not found, instead it returns a default value.  <br><br><strong>For example:</strong>\n",
    "</p>"
   ]
  },
  {
   "cell_type": "code",
   "execution_count": 45,
   "id": "7ee25f81",
   "metadata": {
    "slideshow": {
     "slide_type": "subslide"
    }
   },
   "outputs": [
    {
     "name": "stdout",
     "output_type": "stream",
     "text": [
      "unknown\n"
     ]
    }
   ],
   "source": [
    "x = {\"name\": \"John\", \"age\": 25, \"city\": \"New York\"}\n",
    "print(x.get(\"gender\", \"unknown\")) # unknown"
   ]
  },
  {
   "cell_type": "markdown",
   "id": "f2ee15e5",
   "metadata": {
    "slideshow": {
     "slide_type": "subslide"
    }
   },
   "source": [
    "<h3 style='color:red; font-weight:bold; text-align:center; font-family: \"Times New Roman\", Times, serif;font-size:20px;'>Set</h3>\n",
    "<p align='justify' style='margin: 10px 20px; color : purple; line-height:1.5; font-family: \"Times New Roman\", Times, serif; font-size:16px;'>\n",
    "    In Python, a set is an unordered collection data type that is iterable, mutable, and has no duplicate elements. Sets are enclosed in curly braces {} but unlike dictionary it has no key-value pair, only values separated by commas.\n",
    "\n",
    "</p><br>\n",
    "<p align='justify' style='margin: 10px 20px; color : black; line-height:1.5; font-family: \"Times New Roman\", Times, serif; font-size:16px;'>\n",
    "    You can create a set by enclosing a collection of items in curly braces {} or by using the set() constructor.<br><br><strong> For example: </strong>\n",
    "\n",
    "</p>"
   ]
  },
  {
   "cell_type": "code",
   "execution_count": 46,
   "id": "b63e9f66",
   "metadata": {
    "slideshow": {
     "slide_type": "subslide"
    }
   },
   "outputs": [],
   "source": [
    "x = {1, 2, 3, 4, 5}\n",
    "y = set([1, 2, 3, 4, 5])"
   ]
  },
  {
   "cell_type": "markdown",
   "id": "1c4cc8de",
   "metadata": {
    "slideshow": {
     "slide_type": "subslide"
    }
   },
   "source": [
    "<p align='justify' style='margin: 10px 20px; color : black; line-height:1.5; font-family: \"Times New Roman\", Times, serif; font-size:16px;'>\n",
    "    Sets are unordered, meaning that the items have no index, you can check if an item is in a set by using the 'in' keyword or the method .__contains__()<br><br><strong> For example: </strong>\n",
    "\n",
    "</p>"
   ]
  },
  {
   "cell_type": "code",
   "execution_count": 48,
   "id": "8b820a36",
   "metadata": {
    "slideshow": {
     "slide_type": "subslide"
    }
   },
   "outputs": [
    {
     "name": "stdout",
     "output_type": "stream",
     "text": [
      "True\n",
      "True\n"
     ]
    }
   ],
   "source": [
    "x = {1, 2, 3, 4, 5}\n",
    "print(3 in x) # True\n",
    "print(x.__contains__(3)) # True"
   ]
  },
  {
   "cell_type": "markdown",
   "id": "10a54f87",
   "metadata": {
    "slideshow": {
     "slide_type": "subslide"
    }
   },
   "source": [
    "<p align='justify' style='margin: 10px 20px; color : black; line-height:1.5; font-family: \"Times New Roman\", Times, serif; font-size:16px;'>\n",
    "    You can add or remove items from a set using the add() and remove() methods. The add() method adds a single item to the set, while the update() method can add multiple items at once. The remove() method removes a single item from the set, and the discard() method removes an item from the set if it exists, but it doesn't raise an error if the item is not found.<br><br><strong> For example: </strong>\n",
    "\n",
    "</p>"
   ]
  },
  {
   "cell_type": "code",
   "execution_count": 50,
   "id": "404d1eef",
   "metadata": {
    "slideshow": {
     "slide_type": "subslide"
    }
   },
   "outputs": [
    {
     "name": "stdout",
     "output_type": "stream",
     "text": [
      "{1, 2, 3, 4, 5, 6, 7, 8}\n"
     ]
    }
   ],
   "source": [
    "x = {1, 2, 3, 4, 5}\n",
    "x.add(6)\n",
    "x.update([7, 8, 9])\n",
    "x.remove(9)\n",
    "x.discard(10)\n",
    "print(x) # {1, 2, 3, 4, 5, 6, 7, 8}"
   ]
  },
  {
   "cell_type": "markdown",
   "id": "14bad7df",
   "metadata": {
    "slideshow": {
     "slide_type": "subslide"
    }
   },
   "source": [
    "<p align='justify' style='margin: 10px 20px; color : black; line-height:1.5; font-family: \"Times New Roman\", Times, serif; font-size:16px;'>\n",
    "    <strong style = \"color: purple\">Set Operations: </strong><br><br>Sets have several built-in methods that can be used to perform set operations like union, intersection, difference, and symmetric difference. These methods allow you to combine two or more sets and return a new set that contains the elements that are common or unique to each set.<br><br><strong style = \"color:purple\">Union: The union() method returns a set that contains all the items from both sets. For example:</strong>\n",
    "\n",
    "</p>"
   ]
  },
  {
   "cell_type": "code",
   "execution_count": 53,
   "id": "86d556c6",
   "metadata": {
    "slideshow": {
     "slide_type": "subslide"
    }
   },
   "outputs": [
    {
     "name": "stdout",
     "output_type": "stream",
     "text": [
      "{1, 2, 3, 4, 5, 6}\n"
     ]
    }
   ],
   "source": [
    "A = {1, 2, 3, 4}\n",
    "B = {3, 4, 5, 6}\n",
    "C = A.union(B)\n",
    "print(C) # {1, 2, 3, 4, 5, 6}"
   ]
  },
  {
   "cell_type": "markdown",
   "id": "2e6e48d5",
   "metadata": {
    "slideshow": {
     "slide_type": "subslide"
    }
   },
   "source": [
    "<p align='justify' style='margin: 10px 20px; color : black; line-height:1.5; font-family: \"Times New Roman\", Times, serif; font-size:16px;'>\n",
    "    <strong style = \"color:purple\">Intersection: The intersection() method returns a set that contains only the items that exist in both sets. For example:</strong>\n",
    "\n",
    "</p>"
   ]
  },
  {
   "cell_type": "code",
   "execution_count": 55,
   "id": "195f741e",
   "metadata": {
    "slideshow": {
     "slide_type": "subslide"
    }
   },
   "outputs": [
    {
     "name": "stdout",
     "output_type": "stream",
     "text": [
      "{3, 4}\n"
     ]
    }
   ],
   "source": [
    "A = {1, 2, 3, 4}\n",
    "B = {3, 4, 5, 6}\n",
    "C = A.intersection(B)\n",
    "print(C) # {3, 4}"
   ]
  },
  {
   "cell_type": "markdown",
   "id": "159b77a2",
   "metadata": {
    "slideshow": {
     "slide_type": "subslide"
    }
   },
   "source": [
    "<p align='justify' style='margin: 10px 20px; color : black; line-height:1.5; font-family: \"Times New Roman\", Times, serif; font-size:16px;'>\n",
    "    <strong style = \"color:purple\">Difference: The difference() method returns a set that contains the items that exist in one set but not in the other. For example:\n",
    "</strong>\n",
    "\n",
    "</p>"
   ]
  },
  {
   "cell_type": "code",
   "execution_count": 57,
   "id": "5d28e250",
   "metadata": {
    "slideshow": {
     "slide_type": "subslide"
    }
   },
   "outputs": [
    {
     "name": "stdout",
     "output_type": "stream",
     "text": [
      "{1, 2}\n"
     ]
    }
   ],
   "source": [
    "A = {1, 2, 3, 4}\n",
    "B = {3, 4, 5, 6}\n",
    "C = A.difference(B)\n",
    "print(C) # {1, 2}"
   ]
  },
  {
   "cell_type": "markdown",
   "id": "9ed784bd",
   "metadata": {
    "slideshow": {
     "slide_type": "subslide"
    }
   },
   "source": [
    "<p align='justify' style='margin: 10px 20px; color : black; line-height:1.5; font-family: \"Times New Roman\", Times, serif; font-size:16px;'>\n",
    "    <strong style = \"color:purple\">Symmetric Difference: The symmetric_difference() method returns a set that contains the items that exist in one set or the other, but not both. For example:\n",
    "\n",
    "</strong>\n",
    "\n",
    "</p>"
   ]
  },
  {
   "cell_type": "code",
   "execution_count": 59,
   "id": "486cd9b8",
   "metadata": {
    "slideshow": {
     "slide_type": "subslide"
    }
   },
   "outputs": [
    {
     "name": "stdout",
     "output_type": "stream",
     "text": [
      "{1, 2, 5, 6}\n"
     ]
    }
   ],
   "source": [
    "A = {1, 2, 3, 4}\n",
    "B = {3, 4, 5, 6}\n",
    "C = A.symmetric_difference(B)\n",
    "print(C) # {1, 2, 5, 6}"
   ]
  },
  {
   "cell_type": "markdown",
   "id": "7d7d204c",
   "metadata": {
    "slideshow": {
     "slide_type": "subslide"
    }
   },
   "source": [
    "<p align='justify' style='margin: 10px 20px; color : black; line-height:1.5; font-family: \"Times New Roman\", Times, serif; font-size:16px;'>\n",
    "    <strong style = \"color:purple\">Note:</strong> that these set operations return a new set, so the original sets will not be modified. Sets are useful for tasks such as removing duplicates, testing membership, and performing mathematical set operations like union, intersection, and difference. They are implemented using a hash table and are therefore very efficient in terms of performance and memory usage. <br><br> Set operations and set methods are related but they are not the same thing. Set operations are used to manipulate the elements of set in mathematical way. While set methods are used to manipulate the set in terms of adding, deleting, or updating elements.\n",
    "\n",
    "</p><br><br>\n",
    "\n",
    "<p align='justify' style='margin: 10px 20px; color : purple; line-height:1.5; font-family: \"Times New Roman\", Times, serif; font-size:16px;'>\n",
    "    In addition to set operations, Python's built-in set type also has several methods that can be used to manipulate sets. Here are a few examples:<br><br> <strong>add(): </strong>This method adds a single element to the set. For example:\n",
    "</p>"
   ]
  },
  {
   "cell_type": "code",
   "execution_count": 61,
   "id": "7c6acf77",
   "metadata": {
    "slideshow": {
     "slide_type": "subslide"
    }
   },
   "outputs": [
    {
     "name": "stdout",
     "output_type": "stream",
     "text": [
      "{1, 2, 3, 4}\n"
     ]
    }
   ],
   "source": [
    "x = {1, 2, 3}\n",
    "x.add(4)\n",
    "print(x) # {1, 2, 3, 4}"
   ]
  },
  {
   "cell_type": "markdown",
   "id": "d9bba341",
   "metadata": {
    "slideshow": {
     "slide_type": "subslide"
    }
   },
   "source": [
    "<p align='justify' style='margin: 10px 20px; color : purple; line-height:1.5; font-family: \"Times New Roman\", Times, serif; font-size:16px;'>\n",
    "    <strong>remove():</strong> This method removes a single element from the set. For example:\n",
    "\n",
    "</p>"
   ]
  },
  {
   "cell_type": "code",
   "execution_count": 62,
   "id": "9e55f74d",
   "metadata": {
    "slideshow": {
     "slide_type": "subslide"
    }
   },
   "outputs": [
    {
     "name": "stdout",
     "output_type": "stream",
     "text": [
      "{1, 2}\n"
     ]
    }
   ],
   "source": [
    "x = {1, 2, 3}\n",
    "x.remove(3)\n",
    "print(x) # {1, 2}"
   ]
  },
  {
   "cell_type": "markdown",
   "id": "b13a87de",
   "metadata": {
    "slideshow": {
     "slide_type": "subslide"
    }
   },
   "source": [
    "<p align='justify' style='margin: 10px 20px; color : purple; line-height:1.5; font-family: \"Times New Roman\", Times, serif; font-size:16px;'>\n",
    "    <strong>discard(): </strong> This method removes a single element from the set, but it doesn't raise an error if the element is not found. For example:\n",
    "\n",
    "</p>"
   ]
  },
  {
   "cell_type": "code",
   "execution_count": 64,
   "id": "96e94d22",
   "metadata": {
    "slideshow": {
     "slide_type": "subslide"
    }
   },
   "outputs": [
    {
     "name": "stdout",
     "output_type": "stream",
     "text": [
      "{1, 2, 3}\n"
     ]
    }
   ],
   "source": [
    "x = {1, 2, 3}\n",
    "x.discard(4)\n",
    "print(x) # {1, 2, 3}"
   ]
  },
  {
   "cell_type": "markdown",
   "id": "f0d69af7",
   "metadata": {
    "slideshow": {
     "slide_type": "subslide"
    }
   },
   "source": [
    "<p align='justify' style='margin: 10px 20px; color : purple; line-height:1.5; font-family: \"Times New Roman\", Times, serif; font-size:16px;'>\n",
    "    <strong>update(): </strong> This method adds multiple elements to the set. For example:\n",
    "\n",
    "</p>"
   ]
  },
  {
   "cell_type": "code",
   "execution_count": 66,
   "id": "8991f4ee",
   "metadata": {
    "slideshow": {
     "slide_type": "subslide"
    }
   },
   "outputs": [
    {
     "name": "stdout",
     "output_type": "stream",
     "text": [
      "{1, 2, 3, 4, 5, 6}\n"
     ]
    }
   ],
   "source": [
    "x = {1, 2, 3}\n",
    "x.update([4, 5, 6])\n",
    "print(x) # {1, 2, 3, 4, 5, 6}"
   ]
  },
  {
   "cell_type": "markdown",
   "id": "963d6f02",
   "metadata": {
    "slideshow": {
     "slide_type": "subslide"
    }
   },
   "source": [
    "<p align='justify' style='margin: 10px 20px; color : purple; line-height:1.5; font-family: \"Times New Roman\", Times, serif; font-size:16px;'>\n",
    "    <strong>clear(): </strong> This method removes all elements from the set. For example:\n",
    "\n",
    "</p>"
   ]
  },
  {
   "cell_type": "code",
   "execution_count": 68,
   "id": "c47f1c93",
   "metadata": {
    "slideshow": {
     "slide_type": "subslide"
    }
   },
   "outputs": [
    {
     "name": "stdout",
     "output_type": "stream",
     "text": [
      "set()\n"
     ]
    }
   ],
   "source": [
    "x = {1, 2, 3}\n",
    "x.clear()\n",
    "print(x) # set()"
   ]
  },
  {
   "cell_type": "markdown",
   "id": "251ba520",
   "metadata": {
    "slideshow": {
     "slide_type": "subslide"
    }
   },
   "source": [
    "<p align='justify' style='margin: 10px 20px; color : purple; line-height:1.5; font-family: \"Times New Roman\", Times, serif; font-size:16px;'>\n",
    "    <strong>len(): </strong> This method returns the number of elements in the set. For example:\n",
    "\n",
    "</p>"
   ]
  },
  {
   "cell_type": "code",
   "execution_count": 70,
   "id": "411fb666",
   "metadata": {
    "slideshow": {
     "slide_type": "subslide"
    }
   },
   "outputs": [
    {
     "name": "stdout",
     "output_type": "stream",
     "text": [
      "3\n"
     ]
    }
   ],
   "source": [
    "x = {1, 2, 3}\n",
    "print(len(x)) # 3"
   ]
  },
  {
   "cell_type": "markdown",
   "id": "558c4a4d",
   "metadata": {
    "slideshow": {
     "slide_type": "subslide"
    }
   },
   "source": [
    "<p align='justify' style='margin: 10px 20px; color : purple; line-height:1.5; font-family: \"Times New Roman\", Times, serif; font-size:16px;'>\n",
    "    <strong>copy(): </strong> This method returns a shallow copy of the set. For example:\n",
    "\n",
    "</p>"
   ]
  },
  {
   "cell_type": "code",
   "execution_count": 72,
   "id": "60895d1a",
   "metadata": {
    "slideshow": {
     "slide_type": "subslide"
    }
   },
   "outputs": [
    {
     "name": "stdout",
     "output_type": "stream",
     "text": [
      "{1, 2, 3}\n"
     ]
    }
   ],
   "source": [
    "x = {1, 2, 3}\n",
    "y = x.copy()\n",
    "print(y) # {1, 2, 3}\n"
   ]
  },
  {
   "cell_type": "markdown",
   "id": "f9168522",
   "metadata": {
    "slideshow": {
     "slide_type": "subslide"
    }
   },
   "source": [
    "<p align='justify' style='margin: 10px 20px; color : purple; line-height:1.5; font-family: \"Times New Roman\", Times, serif; font-size:16px;'>\n",
    "    <strong>pop(): </strong> This method removes and returns an arbitrary element from the set. For example:\n",
    "\n",
    "</p>"
   ]
  },
  {
   "cell_type": "code",
   "execution_count": 74,
   "id": "71e3522b",
   "metadata": {
    "slideshow": {
     "slide_type": "subslide"
    }
   },
   "outputs": [
    {
     "name": "stdout",
     "output_type": "stream",
     "text": [
      "1\n",
      "{2, 3}\n"
     ]
    }
   ],
   "source": [
    "x = {1, 2, 3}\n",
    "y = x.pop()\n",
    "print(y) # 1\n",
    "print(x) # {2, 3}"
   ]
  },
  {
   "cell_type": "markdown",
   "id": "8f79ec02",
   "metadata": {
    "slideshow": {
     "slide_type": "subslide"
    }
   },
   "source": [
    "<p align='justify' style='margin: 10px 20px; color : purple; line-height:1.5; font-family: \"Times New Roman\", Times, serif; font-size:16px;'>\n",
    "    <strong>isdisjoint(): </strong> This method returns True if two sets have an empty intersection. For example:\n",
    "\n",
    "</p>"
   ]
  },
  {
   "cell_type": "code",
   "execution_count": 75,
   "id": "73d5c499",
   "metadata": {
    "slideshow": {
     "slide_type": "subslide"
    }
   },
   "outputs": [
    {
     "name": "stdout",
     "output_type": "stream",
     "text": [
      "True\n"
     ]
    }
   ],
   "source": [
    "x = {1, 2, 3}\n",
    "y = {4, 5, 6}\n",
    "print(x.isdisjoint(y)) # True"
   ]
  },
  {
   "cell_type": "markdown",
   "id": "0ced790d",
   "metadata": {
    "slideshow": {
     "slide_type": "subslide"
    }
   },
   "source": [
    "<p align='justify' style='margin: 10px 20px; color : purple; line-height:1.5; font-family: \"Times New Roman\", Times, serif; font-size:16px;'>\n",
    "    <strong>issubset(): </strong> This method returns True if all elements of the set are present in the specified set (the one passed as an argument to the method). For example:\n",
    "\n",
    "</p>"
   ]
  },
  {
   "cell_type": "code",
   "execution_count": 76,
   "id": "9b6b23fd",
   "metadata": {
    "slideshow": {
     "slide_type": "subslide"
    }
   },
   "outputs": [
    {
     "name": "stdout",
     "output_type": "stream",
     "text": [
      "True\n"
     ]
    }
   ],
   "source": [
    "x = {1, 2, 3}\n",
    "y = {1, 2, 3, 4, 5, 6}\n",
    "print(x.issubset(y)) # True"
   ]
  },
  {
   "cell_type": "markdown",
   "id": "1005e785",
   "metadata": {
    "slideshow": {
     "slide_type": "subslide"
    }
   },
   "source": [
    "<p align='justify' style='margin: 10px 20px; color : purple; line-height:1.5; font-family: \"Times New Roman\", Times, serif; font-size:16px;'>\n",
    "    <strong>issuperset(): </strong> This method returns True if all elements of the specified set (the one passed as an argument to the method) are present in the set. For example:\n",
    "\n",
    "</p>"
   ]
  },
  {
   "cell_type": "code",
   "execution_count": 78,
   "id": "99f19430",
   "metadata": {
    "slideshow": {
     "slide_type": "subslide"
    }
   },
   "outputs": [
    {
     "name": "stdout",
     "output_type": "stream",
     "text": [
      "True\n"
     ]
    }
   ],
   "source": [
    "x = {1, 2, 3, 4, 5, 6}\n",
    "y = {1, 2, 3}\n",
    "print(x.issuperset(y)) # True"
   ]
  },
  {
   "cell_type": "markdown",
   "id": "7165ed4f",
   "metadata": {
    "slideshow": {
     "slide_type": "subslide"
    }
   },
   "source": [
    "<h3 style='color:red; font-weight:bold; text-align:center; font-family: \"Times New Roman\", Times, serif;'>EXERECISE </h3>\n",
    "<p align='justify' style='margin: 10px 20px; color : purple; line-height:1.5; font-family: \"Times New Roman\", Times, serif; font-size:16px;'>\n",
    "    Click on <a href=\"https://nowledgeable.com/student/sequence/2815/do\">EXERCISES</a>  to complete the exercise on Nowledgeable \n",
    "</p>"
   ]
  },
  {
   "cell_type": "markdown",
   "id": "0b5fb88f",
   "metadata": {
    "slideshow": {
     "slide_type": "slide"
    }
   },
   "source": [
    "<h2 style='color:red; font-weight:bold; text-align:center; font-family: \"Times New Roman\", Times, serif;'>CONDITIONAL STATEMENTS</h2>\n",
    "\n",
    "<p align='justify' style='margin: 10px 20px; line-height:1.5; font-family: \"Times New Roman\", Times, serif; font-size:16px;'>\n",
    "    <strong> Lesson Four: </strong> Conditional Statements\n",
    "    \n",
    "  <ul style='font-family: \"Times New Roman\", Times, serif; font-weight:light; font-size:16px;'>\n",
    "      <li><b>If Statements </b></li>\n",
    "      <li><b>If-else statements  </b></li>\n",
    "      <li><b> If-elif-else statements </b></li><br>\n",
    "      \n",
    "    \n",
    "    \n",
    "  </ul>\n",
    "</p>\n",
    "</p>\n",
    "\n",
    "<p align='justify' style='margin: 10px 20px; line-height:1.5; font-family: \"Times New Roman\", Times, serif; font-size:16px; color: purple '>\n",
    "  Conditional statements are a type of control structure in Python that allow you to execute a block of code only if a certain condition is met. Conditional statements are used to create programs that can make decisions and execute code based on the values of variables and expressions.\n",
    "</p>\n",
    "<p style='margin: 20px 20px; line-height:1.7; color : black; font-family: \"Times New Roman\", Times, serif; font-size:16px;'>\n",
    "  There are three main types of conditional statements in Python: \"if\" statements, \"if-else\" statements, and \"if-elif-else\" statements. \n",
    "\n",
    "</p><br>\n",
    "<p style='margin: 20px 20px; line-height:1.7; color : purple; font-family: \"Times New Roman\", Times, serif; font-size:16px;'>\n",
    "  Before we delve into Conditional Statements, let us first look at indentations \n",
    "\n",
    "</p>"
   ]
  },
  {
   "cell_type": "markdown",
   "id": "3121bfea",
   "metadata": {
    "slideshow": {
     "slide_type": "subslide"
    }
   },
   "source": [
    "<h4 style='color:red; font-weight:bold; text-align:center; font-family: \"Times New Roman\", Times, serif; font-size:18px'>Indentation </h4>\n",
    "<p style='margin: 20px 20px; line-height:1.7; color : purple; font-family: \"Times New Roman\", Times, serif; font-size:16px;'>\n",
    "  Indentation in Python is used to indicate the level of nesting of code blocks. In Python, code blocks are defined by their indentation level, as opposed to other programming languages that use curly braces {} or other markers to define code blocks.\n",
    "\n",
    "</p><br>\n",
    "<p style='margin: 20px 20px; line-height:1.7; color : black; font-family: \"Times New Roman\", Times, serif; font-size:16px;'>\n",
    "  In Python, code blocks are defined by the indentation level of the lines of code. A block of code is indented by one or more spaces at the beginning of a line. The number of spaces used for indentation is not important, as long as the same number of spaces is used consistently throughout the code.\n",
    "\n",
    "</p>"
   ]
  },
  {
   "cell_type": "markdown",
   "id": "e8a5e9ab",
   "metadata": {
    "slideshow": {
     "slide_type": "subslide"
    }
   },
   "source": [
    "<h3 style='color:red; font-weight:bold; text-align:center; font-family: \"Times New Roman\", Times, serif;font-size:20px;'>if statements</h3>\n",
    "<p align='justify' style='margin: 10px 20px; color : purple; line-height:1.5; font-family: \"Times New Roman\", Times, serif; font-size:16px;'>\n",
    "   An \"if\" statement is a control structure that allows you to execute a block of code only if a certain condition is met. The basic syntax of an \"if\" statement is as follows:\n",
    "    \n",
    "</p><br>\n",
    "<p align = \"justify\">\n",
    "\n",
    "    \n",
    "    if condition:\n",
    "        # code to be executed if the condition is True\n",
    "    \n",
    "</p><br>\n",
    "\n",
    "<p align='justify' style='margin: 10px 20px; color : black; line-height:1.5; font-family: \"Times New Roman\", Times, serif; font-size:16px;'>\n",
    "   The \"condition\" is an expression that evaluates to a boolean value (True or False). If the condition is True, the block of code indented under the \"if\" statement is executed. If the condition is False, the block of code is skipped.    \n",
    "</p><br><br>\n",
    "\n",
    "<p align='justify' style='margin: 10px 20px; color : purple; line-height:1.5; font-family: \"Times New Roman\", Times, serif; font-size:16px;'>\n",
    "   Here is an example of an \"if\" statement in Python:\n",
    "</p>"
   ]
  },
  {
   "cell_type": "code",
   "execution_count": 10,
   "id": "5850e850",
   "metadata": {
    "slideshow": {
     "slide_type": "subslide"
    }
   },
   "outputs": [
    {
     "name": "stdout",
     "output_type": "stream",
     "text": [
      "x is greater than 5\n"
     ]
    }
   ],
   "source": [
    "x = 10\n",
    "if x > 5:\n",
    "    print(\"x is greater than 5\")  # this line is executed because x > 5 is True"
   ]
  },
  {
   "cell_type": "markdown",
   "id": "03a564a7",
   "metadata": {
    "slideshow": {
     "slide_type": "subslide"
    }
   },
   "source": [
    "<h3 style='color:red; font-weight:bold; text-align:center; font-family: \"Times New Roman\", Times, serif;font-size:20px;'>if-else statements</h3>\n",
    "<p align='justify' style='margin: 10px 20px; color : purple; line-height:1.5; font-family: \"Times New Roman\", Times, serif; font-size:16px;'>\n",
    "   An \"if-else\" statement is a control structure that allows you to execute one block of code if a certain condition is met, and a different block of code if the condition is not met. The basic syntax of an \"if-else\" statement is as follows:\n",
    "    \n",
    "</p><br><br>\n",
    "<p align = \"justify\">\n",
    "\n",
    "    \n",
    "    if condition:     \n",
    "        # code to be executed if the condition is True\n",
    "    else:\n",
    "        # code to be executed if the condition is False\n",
    "    \n",
    "</p><br><br>\n",
    "\n",
    "<p align='justify' style='margin: 10px 20px; color : purple; line-height:1.5; font-family: \"Times New Roman\", Times, serif; font-size:16px;'>\n",
    "   Here is an example of an \"if-else\" statement in Python:\n",
    "</p>"
   ]
  },
  {
   "cell_type": "code",
   "execution_count": 11,
   "id": "3d37e26d",
   "metadata": {
    "slideshow": {
     "slide_type": "subslide"
    }
   },
   "outputs": [
    {
     "name": "stdout",
     "output_type": "stream",
     "text": [
      "x is greater than 5\n"
     ]
    }
   ],
   "source": [
    "x = 10\n",
    "if x > 5:\n",
    "    print(\"x is greater than 5\")\n",
    "else:\n",
    "    print(\"x is not greater than 5\")  # this line is executed because x > 5 is False"
   ]
  },
  {
   "cell_type": "markdown",
   "id": "8985b0f7",
   "metadata": {
    "slideshow": {
     "slide_type": "subslide"
    }
   },
   "source": [
    "<p align='justify' style='margin: 10px 20px; color : purple; line-height:1.5; font-family: \"Times New Roman\", Times, serif; font-size:16px;'>\n",
    "   The code block inside the if statement is indented by 4 spaces, and the code block inside the else statement is also indented by 4 spaces.\n",
    "</p>\n"
   ]
  },
  {
   "cell_type": "markdown",
   "id": "fe684af8",
   "metadata": {
    "slideshow": {
     "slide_type": "subslide"
    }
   },
   "source": [
    "<h3 style='color:red; font-weight:bold; text-align:center; font-family: \"Times New Roman\", Times, serif;font-size:20px;'>if-elif-else statements</h3>\n",
    "<p align='justify' style='margin: 10px 20px; color : purple; line-height:1.5; font-family: \"Times New Roman\", Times, serif; font-size:16px;'><br>\n",
    "   An \"if-elif-else\" statement is a control structure that allows you to specify multiple conditions to be tested, and to execute different blocks of code depending on which condition is met. The basic syntax of an \"if-elif-else\" statement is as follows:\n",
    "    \n",
    "</p><br>\n",
    "\n",
    "<p align = \"justify\">\n",
    "\n",
    "    \n",
    "    if condition1:\n",
    "        # code to be executed if condition1 is True\n",
    "    elif condition2:\n",
    "        # code to be executed if condition1 is False and condition2 is True\n",
    "    elif condition3:\n",
    "        # code to be executed if condition1 and condition2 are False and condition3 is True\n",
    "    else:\n",
    "        # code to be executed if all conditions are False\n",
    "    \n",
    "</p><br>\n",
    "\n",
    "<p align='justify' style='margin: 10px 20px; color : purple; line-height:1.5; font-family: \"Times New Roman\", Times, serif; font-size:16px;'>\n",
    "   Here is an example of an \"if-elif-else\" statement in Python:\n",
    "</p>\n"
   ]
  },
  {
   "cell_type": "code",
   "execution_count": 12,
   "id": "d4cc69c3",
   "metadata": {
    "slideshow": {
     "slide_type": "subslide"
    }
   },
   "outputs": [
    {
     "name": "stdout",
     "output_type": "stream",
     "text": [
      "x is between 5 and 15\n"
     ]
    }
   ],
   "source": [
    "x = 10\n",
    "if x > 15:\n",
    "    print(\"x is greater than 15\")\n",
    "elif x > 5:\n",
    "    print(\"x is between 5 and 15\")\n",
    "else:\n",
    "    print(\"x is less than 5\") # this line is executed because x > 5 is True and x > 15 is False\n"
   ]
  },
  {
   "cell_type": "markdown",
   "id": "558b47fb",
   "metadata": {
    "slideshow": {
     "slide_type": "subslide"
    }
   },
   "source": [
    "<p align='justify' style='margin: 10px 20px; color : black; line-height:1.5; font-family: \"Times New Roman\", Times, serif; font-size:16px;'>\n",
    "   You can use the \"and\" keyword to combine multiple conditions in an \"if\" statement. The \"and\" keyword returns True if all the conditions are True, and False if any of the conditions are False.\n",
    "    \n",
    "</p><br>\n",
    "<p align='justify' style='margin: 10px 20px; color : purple; line-height:1.5; font-family: \"Times New Roman\", Times, serif; font-size:16px;'>\n",
    "   Here is an example of using the \"and\" keyword in an \"if\" statement:\n",
    "    \n",
    "</p>"
   ]
  },
  {
   "cell_type": "code",
   "execution_count": 13,
   "id": "63a973b8",
   "metadata": {
    "slideshow": {
     "slide_type": "subslide"
    }
   },
   "outputs": [
    {
     "name": "stdout",
     "output_type": "stream",
     "text": [
      "x is greater than 5 and y is greater than 5\n"
     ]
    }
   ],
   "source": [
    "x = 10\n",
    "y = 20\n",
    "if x > 5 and y > 5:  # both conditions are True, so the code block is executed\n",
    "    print(\"x is greater than 5 and y is greater than 5\")\n",
    "\n",
    "if x > 15 and y > 15:  # the first condition is False, so the code block is not executed\n",
    "    print(\"x is greater than 15 and y is greater than 15\")\n",
    "\n",
    "if x > 5 and y < 5:  # the second condition is False, so the code block is not executed\n",
    "    print(\"x is greater than 5 and y is less than 5\")"
   ]
  },
  {
   "cell_type": "markdown",
   "id": "0db73266",
   "metadata": {
    "slideshow": {
     "slide_type": "subslide"
    }
   },
   "source": [
    "<p align='justify' style='margin: 10px 20px; color : black; line-height:1.5; font-family: \"Times New Roman\", Times, serif; font-size:16px;'>\n",
    "   You can also use the \"or\" keyword to combine multiple conditions in an \"if\" statement. The \"or\" keyword returns True if any of the conditions are True, and False if all of the conditions are False.\n",
    "    \n",
    "</p><br>\n",
    "<p align='justify' style='margin: 10px 20px; color : purple; line-height:1.5; font-family: \"Times New Roman\", Times, serif; font-size:16px;'>\n",
    "   Here is an example of using the \"or\" keyword in an \"if\" statement:\n",
    "    \n",
    "</p>"
   ]
  },
  {
   "cell_type": "code",
   "execution_count": 14,
   "id": "9fa1521d",
   "metadata": {
    "slideshow": {
     "slide_type": "subslide"
    }
   },
   "outputs": [
    {
     "name": "stdout",
     "output_type": "stream",
     "text": [
      "x is greater than 15 or y is greater than 15\n",
      "x is greater than 5 or y is greater than 15\n"
     ]
    }
   ],
   "source": [
    "x = 10\n",
    "y = 20\n",
    "if x > 15 or y > 15:  # the second condition is True, so the code block is executed\n",
    "    print(\"x is greater than 15 or y is greater than 15\")\n",
    "\n",
    "if x < 5 or y < 5:  # both conditions are False, so the code block is not executed\n",
    "    print(\"x is less than 5 or y is less than 5\")\n",
    "\n",
    "if x > 5 or y > 15: # the first condition is True, so the code block is executed\n",
    "    print(\"x is greater than 5 or y is greater than 15\")"
   ]
  },
  {
   "cell_type": "markdown",
   "id": "f64e281c",
   "metadata": {
    "slideshow": {
     "slide_type": "subslide"
    }
   },
   "source": [
    "<p align='justify' style='margin: 10px 20px; color : black; line-height:1.5; font-family: \"Times New Roman\", Times, serif; font-size:16px;'>\n",
    "    You can use the <strong>\"not\"</strong> keyword to negate a condition in an \"if\" statement. The \"not\" keyword returns the opposite boolean value of the condition it is applied to.\n",
    "    \n",
    "</p><br>\n",
    "<p align='justify' style='margin: 10px 20px; color : purple; line-height:1.5; font-family: \"Times New Roman\", Times, serif; font-size:16px;'>\n",
    "   Here is an example of using the \"not\" keyword in an \"if\" statement:\n",
    "    \n",
    "</p>"
   ]
  },
  {
   "cell_type": "code",
   "execution_count": 15,
   "id": "164cf1e0",
   "metadata": {
    "slideshow": {
     "slide_type": "subslide"
    }
   },
   "outputs": [
    {
     "name": "stdout",
     "output_type": "stream",
     "text": [
      "x is not greater than 15\n",
      "x is not less than 5\n"
     ]
    }
   ],
   "source": [
    "x = 10\n",
    "if not x > 15:  # x is not greater than 15, so the code block is executed\n",
    "    print(\"x is not greater than 15\")\n",
    "\n",
    "if not x < 5:  # x is not less than 5, so the code block is executed\n",
    "    print(\"x is not less than 5\")\n",
    "\n",
    "if not x > 5:  # x is greater than 5, so the code block is not executed\n",
    "    print(\"x is not greater than 5\")"
   ]
  },
  {
   "cell_type": "markdown",
   "id": "f2604685",
   "metadata": {
    "slideshow": {
     "slide_type": "subslide"
    }
   },
   "source": [
    "<p align='justify' style='margin: 10px 20px; color : purple; line-height:1.5; font-family: \"Times New Roman\", Times, serif; font-size:16px;'>\n",
    "    You can use these keywords (and, or, not) in combination with each other to create complex conditions in your \"if\" statements.\n",
    "    \n",
    "</p><br>\n",
    "<p align='justify' style='margin: 10px 20px; color : black; line-height:1.5; font-family: \"Times New Roman\", Times, serif; font-size:16px;'>\n",
    "   The \"and,\" \"or,\" and \"not\" keywords are useful tools for combining multiple conditions in an \"if\" statement, and they allow you to create programs that can make decisions based on the values of multiple variables and expressions.\n",
    "    \n",
    "</p>"
   ]
  },
  {
   "cell_type": "markdown",
   "id": "5bb2fea6",
   "metadata": {
    "slideshow": {
     "slide_type": "slide"
    }
   },
   "source": [
    "<h3 style='color:red; font-weight:bold; text-align:center; font-family: \"Times New Roman\", Times, serif;'>LOOP CONDITIONAL STRUCTURES</h3>\n",
    "\n",
    "<p align='justify' style='margin: 10px 20px; line-height:1.5;color : purple; font-family: \"Times New Roman\", Times, serif; font-size:16px;'>\n",
    "    <strong> Lesson Five: </strong> Loop Conditional Structures\n",
    "    \n",
    "  <ul style='font-family: \"Times New Roman\", Times, serif; font-weight:light; color:purple; font-size:16px;'>\n",
    "      <li><b>For Loop</b></li>\n",
    "      <li><b>While Loop  </b></li>\n",
    "      <li><b> Loop Control Statements (Break, Continue)  </b></li><br>\n",
    "      \n",
    "    \n",
    "    \n",
    "  </ul>\n",
    "</p>\n",
    "<p align='justify' style='margin: 10px 20px; color : black; line-height:1.5; font-family: \"Times New Roman\", Times, serif; font-size:16px;'>\n",
    "    Loops are a type of control structure in Python that allow you to execute a block of code multiple times. Loops are useful for repeating a task or process, and they can save you a lot of time and effort by automating repetitive tasks.<br>There are two main types of loops in Python: \"for\" loops and \"while\" loops.\n",
    "</p>\n",
    "<h2 style='color:red; font-weight:bold; text-align:center; font-family: \"Times New Roman\", Times, serif;'>For Loops</h2>\n",
    "<p align='justify' style='margin: 10px 20px; color : purple; line-height:1.5; font-family: \"Times New Roman\", Times, serif; font-size:16px;'>\n",
    "    A \"for\" loop is a control structure that allows you to iterate over a sequence (e.g., a list, a tuple, a string, etc.) and execute a block of code for each element in the sequence. The basic syntax of a \"for\" loop is as follows:\n",
    "    \n",
    "</p><br>\n",
    "<p align = \"justify\">\n",
    "\n",
    "    \n",
    "    for element in sequence:\n",
    "        # code to be executed for each element in the sequence\n",
    "\n",
    "    \n",
    "</p>"
   ]
  },
  {
   "cell_type": "markdown",
   "id": "47fed4f1",
   "metadata": {
    "slideshow": {
     "slide_type": "subslide"
    }
   },
   "source": [
    "<p align='justify' style='margin: 10px 20px; color : space gray; line-height:1.5; font-family: \"Times New Roman\", Times, serif; font-size:16px;'>\n",
    "    To use a \"for\" loop, you need to specify a sequence to iterate over, and a variable to hold the value of each element in the sequence. The \"for\" loop will then iterate over the sequence, and for each iteration, it will assign the value of the current element to the variable, and execute the block of code indented under the \"for\" loop.\n",
    "</p><br>\n",
    "<p align='justify' style='margin: 10px 20px; color : purple; line-height:1.5; font-family: \"Times New Roman\", Times, serif; font-size:16px;'>\n",
    "    Here is an example of a \"for\" loop in Python that  will iterate over the list of numbers and print each number in the list\n",
    "</p>"
   ]
  },
  {
   "cell_type": "code",
   "execution_count": 16,
   "id": "ad250c4f",
   "metadata": {
    "slideshow": {
     "slide_type": "subslide"
    }
   },
   "outputs": [
    {
     "name": "stdout",
     "output_type": "stream",
     "text": [
      "1\n",
      "2\n",
      "3\n",
      "4\n",
      "5\n"
     ]
    }
   ],
   "source": [
    "numbers = [1, 2, 3, 4, 5]\n",
    "for number in numbers:  # iterate over the list of numbers\n",
    "    print(number)  # print each number in the list\n"
   ]
  },
  {
   "cell_type": "markdown",
   "id": "36d5facb",
   "metadata": {
    "slideshow": {
     "slide_type": "subslide"
    }
   },
   "source": [
    "<p align='justify' style='margin: 10px 20px; color : purple; line-height:1.5; font-family: \"Times New Roman\", Times, serif; font-size:16px;'>\n",
    "    <strong>Explanation of the code above </strong>\n",
    "</p>\n",
    "<p align='justify' style='margin: 10px 20px; color : space gray; line-height:1.5; font-family: \"Times New Roman\", Times, serif; font-size:16px;'>\n",
    "    \"numbers\" is a <b>list</b> of numbers. The for loop iterates over this list and assigns each element in the list to the variable <b>\"number\"</b> in turn. The <strong>print(number)</strong> statement is then executed for each iteration of the loop, printing the value of <strong>number</strong> to the console.\n",
    "</p>"
   ]
  },
  {
   "cell_type": "markdown",
   "id": "45e1829d",
   "metadata": {
    "slideshow": {
     "slide_type": "subslide"
    }
   },
   "source": [
    "<p align='justify' style='margin: 10px 20px; line-height:1.5; color : purple; font-family: \"Times New Roman\", Times, serif; font-size:16px;'>\n",
    "    <strong> Here's what happens when the code is executed: </strong> \n",
    "    \n",
    "  <ul style='font-family: \"Times New Roman\", Times, serif; color : black; font-weight:light; font-size:16px;'>\n",
    "      <li>The \"for\" loop is encountered. It begins by setting the variable \"number\" to the first element of the list, which is \"1.\"</li>\n",
    "      <li>The print(number) statement is executed, printing 1 to the console. </li>\n",
    "      <li>The for loop moves to the next iteration and sets number to the next element in the list, which is 2.</li>\n",
    "      <li>The print(number) statement is executed again, printing 2 to the console. </li>\n",
    "      <li>The for loop continues iterating through the list and printing each element to the console until it reaches the end of the list. </li>\n",
    "      <li>When there are no more elements in the list, the for loop ends and the program continues executing any code that comes after it. </li>\n",
    "      \n",
    "    \n",
    "    \n",
    "  </ul>\n",
    "</p>"
   ]
  },
  {
   "cell_type": "markdown",
   "id": "0539e95b",
   "metadata": {
    "slideshow": {
     "slide_type": "subslide"
    }
   },
   "source": [
    "<p align='justify' style='margin: 10px 20px; color : space gray; line-height:1.5; font-family: \"Times New Roman\", Times, serif; font-size:16px;'>\n",
    "    You can use the \"range\" function to generate a sequence of numbers to iterate over. The \"range\" function returns a sequence of numbers, starting from 0 by default, and increments by 1 (also by default), and ends at a specified number.\n",
    "</p><br>\n",
    "<p align='justify' style='margin: 10px 20px; color : purple; line-height:1.5; font-family: \"Times New Roman\", Times, serif; font-size:16px;'>\n",
    "    The example below will print the numbers from 0 to 4 (inclusive).\n",
    "</p>\n"
   ]
  },
  {
   "cell_type": "code",
   "execution_count": 34,
   "id": "9d79ca43",
   "metadata": {
    "slideshow": {
     "slide_type": "subslide"
    }
   },
   "outputs": [
    {
     "name": "stdout",
     "output_type": "stream",
     "text": [
      "0\n",
      "1\n",
      "2\n",
      "3\n",
      "4\n"
     ]
    }
   ],
   "source": [
    "for i in range(5):  # iterate over the range of numbers from 0 to 4 (inclusive)\n",
    "    print(i)  # print each number in the range"
   ]
  },
  {
   "cell_type": "markdown",
   "id": "255712c7",
   "metadata": {
    "slideshow": {
     "slide_type": "subslide"
    }
   },
   "source": [
    "<p align='justify' style='margin: 10px 20px; color : purple; line-height:1.5; font-family: \"Times New Roman\", Times, serif; font-size:16px;'>\n",
    "    <strong>Explanation of the code above </strong>\n",
    "</p>\n",
    "<p align='justify' style='margin: 10px 20px; color : space gray; line-height:1.5; font-family: \"Times New Roman\", Times, serif; font-size:16px;'>\n",
    "    In the code above, the \"range(5)\" function generates a sequence of numbers from 0 to 4 (inclusive). The \"for\" loop then iterates over this sequence and prints each number on a separate line. The range function actually generates a sequence of numbers from the start value to the end value, but does not include the end value in the sequence.\n",
    "</p>"
   ]
  },
  {
   "cell_type": "markdown",
   "id": "e6270ef8",
   "metadata": {
    "slideshow": {
     "slide_type": "subslide"
    }
   },
   "source": [
    "<p align='justify' style='margin: 10px 20px; line-height:1.5; color : purple; font-family: \"Times New Roman\", Times, serif; font-size:16px;'>\n",
    "    <strong> Here's what happens when the code is executed: </strong> \n",
    "    \n",
    "  <ul style='font-family: \"Times New Roman\", Times, serif; color : black; font-weight:light; font-size:16px;'>\n",
    "      <li>The <strong>\"range\"</strong> function is called with the argument \"5\". This creates a sequence of numbers from 0 to 4.<br> The sequence looks like this: \"[0, 1, 2, 3, 4]\".</li>\n",
    "      <li>The for loop is encountered. It begins by setting the variable i to the first element of the sequence, which is 0. </li>\n",
    "      <li>The print(i) statement is executed, printing 0 to the console.</li>\n",
    "      <li>The for loop moves to the next iteration and sets i to the next element in the sequence, which is 1.</li>\n",
    "      <li>The print(i) statement is executed again, printing 1 to the console. </li>\n",
    "      <li>The for loop continues iterating through the sequence and printing each element to the console until it reaches the end of the sequence. </li>\n",
    "      <li>When there are no more elements in the sequence, the for loop ends and the program continues executing any code that comes after it.</li>\n",
    "      \n",
    "    \n",
    "    \n",
    "  </ul>\n",
    "</p>"
   ]
  },
  {
   "cell_type": "markdown",
   "id": "d863c970",
   "metadata": {
    "slideshow": {
     "slide_type": "subslide"
    }
   },
   "source": [
    "<p align='justify' style='margin: 10px 20px; color : purple; line-height:1.5; font-family: \"Times New Roman\", Times, serif; font-size:16px;'>\n",
    "    You can as well specify a start and a step (increment) for the \"range\" function. Here is an example of using the \"range\" function with a start and a step in a \"for\" loop. \n",
    "</p>"
   ]
  },
  {
   "cell_type": "code",
   "execution_count": 35,
   "id": "2cd3f85d",
   "metadata": {
    "slideshow": {
     "slide_type": "subslide"
    }
   },
   "outputs": [
    {
     "name": "stdout",
     "output_type": "stream",
     "text": [
      "2\n",
      "4\n",
      "6\n"
     ]
    }
   ],
   "source": [
    "for i in range(2, 8, 2):  # iterate over the range of numbers from 2 to 6 (inclusive), with a step of 2\n",
    "    print(i)  # print each number in the range"
   ]
  },
  {
   "cell_type": "markdown",
   "id": "6e08d46f",
   "metadata": {
    "slideshow": {
     "slide_type": "subslide"
    }
   },
   "source": [
    "<p align='justify' style='margin: 10px 20px; color : black; line-height:1.5; font-family: \"Times New Roman\", Times, serif; font-size:16px;'>\n",
    "    You can use the \"enumerate\" function to iterate over a sequence and get the index and the value of each element in the sequence. The \"enumerate\" function returns a tuple containing the index and the value of each element in the sequence.\n",
    "</p><br>\n",
    "<p align='justify' style='margin: 10px 20px; color : purple; line-height:1.5; font-family: \"Times New Roman\", Times, serif; font-size:16px;'>\n",
    "    Here is an example of using the \"enumerate\" function in a \"for\" loop, The \"for\" loop below will iterate over the list of colors and print the index and the value of each color.\n",
    "</p>"
   ]
  },
  {
   "cell_type": "code",
   "execution_count": 36,
   "id": "a2eb1a28",
   "metadata": {
    "slideshow": {
     "slide_type": "subslide"
    }
   },
   "outputs": [
    {
     "name": "stdout",
     "output_type": "stream",
     "text": [
      "0 red\n",
      "1 green\n",
      "2 blue\n"
     ]
    }
   ],
   "source": [
    "colors = [\"red\", \"green\", \"blue\"]\n",
    "for i, color in enumerate(colors):  # iterate over the list of colors and get the index and the value\n",
    "    print(i, color)  # print the index and the value"
   ]
  },
  {
   "cell_type": "markdown",
   "id": "8cd7be2f",
   "metadata": {
    "slideshow": {
     "slide_type": "subslide"
    }
   },
   "source": [
    "<p align='justify' style='margin: 10px 20px; color : black; line-height:1.5; font-family: \"Times New Roman\", Times, serif; font-size:16px;'>\n",
    "    You can use the \"zip\" function to iterate over multiple sequences at the same time and get the corresponding elements from each sequence. The \"zip\" function returns an iterator of tuples, where each tuple contains the elements from each sequence.\n",
    "</p><br>\n",
    "<p align='justify' style='margin: 10px 20px; color : purple; line-height:1.5; font-family: \"Times New Roman\", Times, serif; font-size:16px;'>\n",
    "    Here is an example of using the \"zip\" function in a \"for\" loop, this \"for\" loop will iterate over the lists of colors and names and print the corresponding elements. \n",
    "</p>"
   ]
  },
  {
   "cell_type": "code",
   "execution_count": 37,
   "id": "4b73353d",
   "metadata": {
    "slideshow": {
     "slide_type": "subslide"
    }
   },
   "outputs": [
    {
     "name": "stdout",
     "output_type": "stream",
     "text": [
      "red apple\n",
      "green banana\n",
      "blue cherry\n"
     ]
    }
   ],
   "source": [
    "colors = [\"red\", \"green\", \"blue\"]\n",
    "names = [\"apple\", \"banana\", \"cherry\"]\n",
    "for color, name in zip(colors, names):  # iterate over the lists of colors and names and get the corresponding elements\n",
    "    print(color, name)  # print the elements"
   ]
  },
  {
   "cell_type": "markdown",
   "id": "d4527571",
   "metadata": {
    "slideshow": {
     "slide_type": "subslide"
    }
   },
   "source": [
    "<p align='justify' style='margin: 10px 20px; color : black; line-height:1.5; font-family: \"Times New Roman\", Times, serif; font-size:16px;'>\n",
    "    For loops are an essential part of programming in Python, and they allow you to iterate over a sequence and execute a block of code for each element in the sequence. You can use the \"range\" function to generate a sequence of numbers, the \"enumerate\" function to get the index and the value of each element in a sequence, and the \"zip\" function to iterate over multiple sequences at the same time.\n",
    "</p>\n"
   ]
  },
  {
   "cell_type": "markdown",
   "id": "086e64d7",
   "metadata": {
    "slideshow": {
     "slide_type": "subslide"
    }
   },
   "source": [
    "<h2 style='color:purple; font-weight:bold; text-align:center; font-family: \"Times New Roman\", Times, serif;'>While Loops</h2>\n",
    "<p align='justify' style='margin: 10px 20px; color : purple; line-height:1.5; font-family: \"Times New Roman\", Times, serif; font-size:16px;'>\n",
    "    A \"while\" loop is a control structure that allows you to execute a block of code as long as a certain condition is True. <br><br>The basic syntax of a \"while\" loop is as follows:\n",
    "    \n",
    "</p><br>\n",
    "<p align = \"justify\">\n",
    "\n",
    "    \n",
    "    while condition:\n",
    "        # code to be executed as long as the condition is True\n",
    "\n",
    "    \n",
    "</p>"
   ]
  },
  {
   "cell_type": "markdown",
   "id": "b98b407b",
   "metadata": {
    "slideshow": {
     "slide_type": "subslide"
    }
   },
   "source": [
    "<p align='justify' style='margin: 10px 20px; color : black; line-height:1.5; font-family: \"Times New Roman\", Times, serif; font-size:16px;'>\n",
    "    To use a \"while\" loop, you need to specify a condition that determines when the loop should terminate. The \"while\" loop will then execute the block of code indented under the \"while\" loop as long as the condition is True.\n",
    "    \n",
    "</p><br>\n",
    "<p align='justify' style='margin: 10px 20px; color : purple; line-height:1.5; font-family: \"Times New Roman\", Times, serif; font-size:16px;'>\n",
    "    Here is an example of a \"while\" loop in Python, This \"while\" loop will print the values of x from 0 to 4 (inclusive) and then terminate, because the condition (x < 5) is False when x is 5\n",
    "    \n",
    "</p>"
   ]
  },
  {
   "cell_type": "markdown",
   "id": "b60d5d80",
   "metadata": {
    "slideshow": {
     "slide_type": "subslide"
    }
   },
   "source": [
    "<h2 style='color:purple; font-weight:bold; text-align:center; font-family: \"Times New Roman\", Times, serif;'>Loop Control Statements (Break, Continue)</h2>\n",
    "<p align='justify' style='margin: 10px 20px; color : black; line-height:1.5; font-family: \"Times New Roman\", Times, serif; font-size:16px;'>\n",
    "    The <strong style = \"color: purple\">\"break\"</strong> and \"continue\" keywords are loop control statements that allow you to control the flow of a loop. They are useful for exiting a loop prematurely or skipping the rest of the current iteration and moving on to the next iteration.<br><br>The <strong style = \"color:purple\">\"break\"</strong> keyword is used to exit a loop prematurely and terminate the loop. It is useful for exiting a loop when a certain condition is met, or for exiting a loop that has no condition (e.g., an infinite loop).<br><br>The <strong style = \"color: purple\">\"continue\"</strong> keyword is used to skip the rest of the current iteration and move on to the next iteration. It is useful for skipping the rest of the current iteration when a certain condition is met.\n",
    "    \n",
    "</p><br>\n",
    "<p align='justify' style='margin: 10px 20px; color : purple; line-height:1.5; font-family: \"Times New Roman\", Times, serif; font-size:16px;'>\n",
    "    Here is an example of using the \"break\" and \"continue\" keywords in a \"for\" loop:\n",
    "    \n",
    "</p><br>\n",
    "<p align='justify' style='margin: 10px 20px; color : black; line-height:1.5; font-family: \"Times New Roman\", Times, serif; font-size:16px;'>\n",
    "    This \"for\" loop will print the odd numbers from 1 to 6 (inclusive), and then terminate, because the \"break\" keyword will exit the loop when the number is 7\n",
    "    \n",
    "</p>\n"
   ]
  },
  {
   "cell_type": "code",
   "execution_count": 38,
   "id": "bf660183",
   "metadata": {
    "slideshow": {
     "slide_type": "subslide"
    }
   },
   "outputs": [
    {
     "name": "stdout",
     "output_type": "stream",
     "text": [
      "1\n",
      "3\n",
      "5\n"
     ]
    }
   ],
   "source": [
    "numbers = [1, 2, 3, 4, 5, 6, 7, 8, 9, 10]\n",
    "for number in numbers:  # iterate over the list of numbers\n",
    "    if number % 2 == 0:  # if the number is even, skip the rest of the current iteration\n",
    "        continue\n",
    "    if number == 7:  # if the number is 7, exit the loop prematurely\n",
    "        break\n",
    "    print(number)  # print the number"
   ]
  },
  {
   "cell_type": "markdown",
   "id": "5836601b",
   "metadata": {
    "slideshow": {
     "slide_type": "subslide"
    }
   },
   "source": [
    "<p align='justify' style='margin: 10px 20px; color : purple; line-height:1.5; font-family: \"Times New Roman\", Times, serif; font-size:16px;'>\n",
    "    Here is an example of using the \"break\" and \"continue\" keywords in a \"while\" loop:<br><br>This \"while\" loop will print the odd values of x from 1 to 6 (inclusive), and then terminate, because the \"break\" keyword will exit the loop when x is 7\n",
    "    \n",
    "</p>"
   ]
  },
  {
   "cell_type": "code",
   "execution_count": 39,
   "id": "b18935fe",
   "metadata": {
    "slideshow": {
     "slide_type": "subslide"
    }
   },
   "outputs": [
    {
     "name": "stdout",
     "output_type": "stream",
     "text": [
      "1\n",
      "3\n",
      "5\n"
     ]
    }
   ],
   "source": [
    "x = 0\n",
    "while x < 10:  # execute the loop as long as x is less than 10\n",
    "    x += 1  # increment x by 1\n",
    "    if x % 2 == 0:  # if x is even, skip the rest of the current iteration\n",
    "        continue\n",
    "    if x == 7:  # if x is 7, exit the loop prematurely\n",
    "        break\n",
    "    print(x)  # print the value of x"
   ]
  },
  {
   "cell_type": "markdown",
   "id": "3e061da6",
   "metadata": {
    "slideshow": {
     "slide_type": "slide"
    }
   },
   "source": [
    "<h2 style='color:red; font-weight:bold; text-align:center; font-family: \"Times New Roman\", Times, serif;'>FIRST NOTIONS OF MODULARITY</h2>\n",
    "\n",
    "<p align='justify' style='margin: 10px 20px; line-height:1.5;color : purple; font-family: \"Times New Roman\", Times, serif; font-size:16px;'>\n",
    "    <strong> Lesson Six: </strong> Functions\n",
    "    \n",
    "  <ul style='font-family: \"Times New Roman\", Times, serif; font-weight:light; color:purple; font-size:16px;'>\n",
    "      <li><b>Functions in Python</b></li>\n",
    "      <li><b>Arguments and return values </b></li>\n",
    "      <li><b> Recursion  </b></li><br>\n",
    "      \n",
    "    \n",
    "    \n",
    "  </ul>\n",
    "</p>\n",
    "<img src=\"98650python-functions-banner.png\" width=\"150\" height=\"260\" style=\"float: left; margin-right: 20px; margin-left: 20px;\">\n",
    "<p align='justify' style='margin: 10px 20px; color : purple; line-height:1.5; font-family: \"Times New Roman\", Times, serif; font-size:16px;'>\n",
    "    Modularity is an important concept in programming, and it refers to the ability to divide a large program into smaller, independent, and reusable parts. Modularity helps you to write cleaner and more maintainable code, and it allows you to reuse code across different projects.<br><br>There are several ways to achieve modularity in programming, such as functions, modules, and classes. Functions are the most basic form of modularity, and they allow you to define a block of code that performs a specific task and returns a result. You can then reuse the function multiple times in your program, or even in other programs.\n",
    "    \n",
    "</p>\n",
    "<h3 style='color:red; font-weight:bold; font-size : 18px; text-align:center; font-family: \"Times New Roman\", Times, serif;'>FUNCTIONS</h3>\n",
    "<p align='justify' style='margin: 10px 20px; color : black; line-height:1.5; font-family: \"Times New Roman\", Times, serif; font-size:16px;'>\n",
    "    A function is a block of code that performs a specific task and returns a result. Functions are a fundamental part of programming, and they allow you to reuse code and modularize your programs. <br><br>In Python, you can define a function using the \"def\" keyword, followed by the function name and the function's parameters (if any). The function's body is indented under the \"def\" statement, and the function's return value (if any) is specified using the \"return\" keyword.\n",
    "    \n",
    "</p><br>\n",
    "<p align='justify' style='margin: 10px 20px; color : purple; line-height:1.5; font-family: \"Times New Roman\", Times, serif; font-size:16px;'>\n",
    "    Here is an example of a function in Python:\n",
    "    \n",
    "</p>"
   ]
  },
  {
   "cell_type": "code",
   "execution_count": 40,
   "id": "a02e7844",
   "metadata": {
    "slideshow": {
     "slide_type": "subslide"
    }
   },
   "outputs": [
    {
     "name": "stdout",
     "output_type": "stream",
     "text": [
      "Hello, John!\n",
      "Hello, Alice!\n"
     ]
    }
   ],
   "source": [
    "def greet(name):  # define the function and specify the parameter\n",
    "    \"\"\"This function greets the person with the given name.\"\"\"  # documentation string\n",
    "    print(f\"Hello, {name}!\")  # print the greeting\n",
    "\n",
    "greet(\"John\")  # call the function and pass the argument \"John\"\n",
    "greet(\"Alice\")  # call the function and pass the argument \"Alice\""
   ]
  },
  {
   "cell_type": "markdown",
   "id": "b2bc08a3",
   "metadata": {
    "slideshow": {
     "slide_type": "subslide"
    }
   },
   "source": [
    "<p align='justify' style='margin: 10px 20px; color : black; line-height:1.5; font-family: \"Times New Roman\", Times, serif; font-size:16px;'>\n",
    "    This function, called \"greet\", takes a single parameter called \"name\", and prints a greeting to the person with the given name. The function is called with two different arguments, \"John\" and \"Alice\", and the function prints the greetings accordingly\n",
    "    \n",
    "</p>\n"
   ]
  },
  {
   "cell_type": "markdown",
   "id": "b9c0e62b",
   "metadata": {
    "slideshow": {
     "slide_type": "subslide"
    }
   },
   "source": [
    "<h3 style='color:red; font-weight:bold; font-size : 18px; text-align:center; font-family: \"Times New Roman\", Times, serif;'>Arguments and Return Values</h3>\n",
    "\n",
    "<p align='justify' style='margin: 10px 20px; color : purple; line-height:1.5; font-family: \"Times New Roman\", Times, serif; font-size:16px;'>\n",
    "    A function can take one or more arguments, which are values that are passed to the function when it is called. The function can then use the arguments to perform its task and return a result\n",
    "</p><br>\n",
    "<p align='justify' style='margin: 10px 20px; color : black; line-height:1.5; font-family: \"Times New Roman\", Times, serif; font-size:16px;'>\n",
    "    In Python, you can specify the function's arguments in the \"def\" statement, and you can use the arguments in the function's body. You can also specify default values for the arguments, so that the function can be called without specifying the corresponding arguments. \n",
    "</p><br><br>\n",
    "<p align='justify' style='margin: 10px 20px; color : purple; line-height:1.5; font-family: \"Times New Roman\", Times, serif; font-size:16px;'>\n",
    "    Here is an example of a function with arguments:\n",
    "    \n",
    "</p>"
   ]
  },
  {
   "cell_type": "code",
   "execution_count": 41,
   "id": "9f970c82",
   "metadata": {
    "slideshow": {
     "slide_type": "subslide"
    }
   },
   "outputs": [
    {
     "name": "stdout",
     "output_type": "stream",
     "text": [
      "3\n"
     ]
    }
   ],
   "source": [
    "def add(x, y):  # define the function and specify the arguments\n",
    "    \"\"\"This function adds two numbers and returns the result.\"\"\"  # documentation string\n",
    "    result = x + y  # add the numbers\n",
    "    return result  # return the result\n",
    "\n",
    "a = 1\n",
    "b = 2\n",
    "c = add(a, b)  # call the function and pass the arguments a and b; the result will be stored in c\n",
    "print(c)  # 3"
   ]
  },
  {
   "cell_type": "markdown",
   "id": "5c376cf2",
   "metadata": {
    "slideshow": {
     "slide_type": "subslide"
    }
   },
   "source": [
    "<p align='justify' style='margin: 10px 20px; color : purple; line-height:1.5; font-family: \"Times New Roman\", Times, serif; font-size:16px;'>\n",
    "    This function, called \"add\", takes two arguments called \"x\" and \"y\", and returns the result of adding them. The function is called with two different arguments, \"a\" and \"b\", and the function returns the result of adding them. \n",
    "</p><br>\n",
    "\n",
    "<p align='justify' style='margin: 10px 20px; color : black; line-height:1.5; font-family: \"Times New Roman\", Times, serif; font-size:16px;'>\n",
    "    You can also specify default values for the function's arguments, so that the function can be called without specifying the corresponding arguments. If an argument is not specified, the default value will be used. \n",
    "</p><br>\n",
    "\n",
    "<p align='justify' style='margin: 10px 20px; color : purple; line-height:1.5; font-family: \"Times New Roman\", Times, serif; font-size:16px;'>\n",
    "    Here is an example of a function with default values:\n",
    "</p>"
   ]
  },
  {
   "cell_type": "code",
   "execution_count": 42,
   "id": "77ea9fa0",
   "metadata": {
    "slideshow": {
     "slide_type": "subslide"
    }
   },
   "outputs": [
    {
     "name": "stdout",
     "output_type": "stream",
     "text": [
      "0\n",
      "1\n",
      "2\n",
      "3\n"
     ]
    }
   ],
   "source": [
    "def add(x=0, y=0):  # define the function and specify the default values for the arguments\n",
    "    \"\"\"This function adds two numbers and returns the result.\"\"\"  # documentation string\n",
    "    result = x + y  # add the numbers\n",
    "    return result  # return the result\n",
    "\n",
    "c = add()  # call the function without specifying the arguments; the default values 0 and 0 will be used\n",
    "print(c)  # 0\n",
    "\n",
    "c = add(a)  # call the function and pass the argument a; the default value 0 will be used for y\n",
    "print(c)  # 1\n",
    "\n",
    "c = add(y=b)  # call the function and pass the argument b; the default value 0 will be used for x\n",
    "print(c)  # 2\n",
    "\n",
    "c = add(a, b)  # call the function and pass the arguments a and b\n",
    "print(c)  # 3"
   ]
  },
  {
   "cell_type": "markdown",
   "id": "6e683bf5",
   "metadata": {
    "slideshow": {
     "slide_type": "subslide"
    }
   },
   "source": [
    "<p align='justify' style='margin: 10px 20px; color : purple; line-height:1.5; font-family: \"Times New Roman\", Times, serif; font-size:16px;'>\n",
    "    This function, called \"add\", takes two arguments called \"x\" and \"y\", and returns the result of adding them. The function is called with four different sets of arguments: no arguments, one argument, one argument, and two arguments. The function uses the default values 0 and 0 when no arguments are specified, and the function uses the specified values when they are passed as arguments. \n",
    "</p><br>\n",
    "<p align='justify' style='margin: 10px 20px; color : black; line-height:1.5; font-family: \"Times New Roman\", Times, serif; font-size:16px;'>\n",
    "    Arguments and return values are important concepts in programming, and they allow you to pass data to and from functions. You can specify arguments and default values in the \"def\" statement, and you can use the \"return\" keyword to specify the function's return value.\n",
    "</p>"
   ]
  },
  {
   "cell_type": "markdown",
   "id": "c227d361",
   "metadata": {
    "slideshow": {
     "slide_type": "subslide"
    }
   },
   "source": [
    "<h3 style='color:red; font-weight:bold; font-size : 18px; text-align:center; font-family: \"Times New Roman\", Times, serif;'>Recursion</h3>\n",
    "\n",
    "<p align='justify' style='margin: 10px 20px; color : purple; line-height:1.5; font-family: \"Times New Roman\", Times, serif; font-size:16px;'>\n",
    "    Recursion is a programming technique that allows a function to call itself, and it is often used to solve problems that can be divided into smaller, simpler subproblems. Recursion is a powerful tool, but it should be used with caution, as it can lead to infinite loops and stack overflow errors if not implemented correctly.\n",
    "</p><br>\n",
    "<p align='justify' style='margin: 10px 20px; color : black; line-height:1.5; font-family: \"Times New Roman\", Times, serif; font-size:16px;'>\n",
    "    You can implement recursion by defining a function that calls itself with a modified set of arguments. The function should have a base case, which is a condition that stops the recursion, and a recursive case, which is a condition that calls the function again with a modified set of arguments.\n",
    "</p><br>\n",
    "\n",
    "<p align='justify' style='margin: 10px 20px; color : purple; line-height:1.5; font-family: \"Times New Roman\", Times, serif; font-size:16px;'>\n",
    "    Here is an example of a recursive function in Python:\n",
    "</p>"
   ]
  },
  {
   "cell_type": "code",
   "execution_count": 43,
   "id": "3ddb75d0",
   "metadata": {
    "slideshow": {
     "slide_type": "subslide"
    }
   },
   "outputs": [
    {
     "name": "stdout",
     "output_type": "stream",
     "text": [
      "1\n",
      "1\n",
      "2\n",
      "6\n",
      "24\n",
      "120\n"
     ]
    }
   ],
   "source": [
    "def factorial(n):  # define the function and specify the argument\n",
    "    \"\"\"This function computes the factorial of a positive integer.\"\"\"  # documentation string\n",
    "    if n == 0:  # base case: the factorial of 0 is 1\n",
    "        return 1\n",
    "    else:  # recursive case: the factorial of n is n * the factorial of n - 1\n",
    "        return n * factorial(n - 1)\n",
    "\n",
    "print(factorial(0))  # 1\n",
    "print(factorial(1))  # 1\n",
    "print(factorial(2))  # 2\n",
    "print(factorial(3))  # 6\n",
    "print(factorial(4))  # 24\n",
    "print(factorial(5))  # 120"
   ]
  },
  {
   "cell_type": "markdown",
   "id": "f2be6091",
   "metadata": {
    "slideshow": {
     "slide_type": "subslide"
    }
   },
   "source": [
    "<p align='justify' style='margin: 10px 20px; color : black; line-height:1.5; font-family: \"Times New Roman\", Times, serif; font-size:16px;'>\n",
    "    This function, called \"factorial\", takes a single argument called \"n\", and returns the factorial of \"n\". The function has a base case, which is the factorial of 0, and a recursive case, which computes the factorial of \"n\" by calling the function again with the argument \"n - 1\". The function is called with six different arguments, and the function computes the factorials accordingly. \n",
    "</p><br>\n",
    "<p align='justify' style='margin: 10px 20px; color : purple; line-height:1.5; font-family: \"Times New Roman\", Times, serif; font-size:16px;'>\n",
    "    Overall, recursion is a powerful tool for solving problems that can be divided into smaller, simpler subproblems. You can implement recursion in Python by defining a function that calls itself with a modified set of arguments, and you should be careful to implement a base case to stop the recursion and avoid infinite loops and stack overflow errors.\n",
    "</p>"
   ]
  },
  {
   "cell_type": "markdown",
   "id": "7f69a1dc",
   "metadata": {
    "slideshow": {
     "slide_type": "slide"
    }
   },
   "source": [
    "<h2 style='color:red; font-weight:bold; text-align:center; font-family: \"Times New Roman\", Times, serif;'>EXCEPTIONS</h2>\n",
    "\n",
    "<p align='justify' style='margin: 10px 20px; line-height:1.5;color : purple; font-family: \"Times New Roman\", Times, serif; font-size:16px;'>\n",
    "    <strong> Lesson Seven: </strong> Exceptions\n",
    "    \n",
    "  <ul style='font-family: \"Times New Roman\", Times, serif; font-weight:light; color:purple; font-size:16px;'>\n",
    "      <li><b>Handling Exceptions in Python </b></li>\n",
    "      <li><b>Try-exceptions </b></li>          \n",
    "    \n",
    "  </ul>\n",
    "</p>\n",
    "<p align='justify' style='margin: 10px 20px; color : purple; line-height:1.5; font-family: \"Times New Roman\", Times, serif; font-size:16px;'>\n",
    "    In Python, an exception is an event that occurs during the execution of a program that disrupts the normal flow of instructions. When an exception occurs, the program will stop running and an exception message will be displayed, unless the exception is handled properly.\n",
    "</p><br>\n",
    "\n",
    "<p align='justify' style='margin: 10px 20px; color : black; line-height:1.5; font-family: \"Times New Roman\", Times, serif; font-size:16px;'>\n",
    "    <strong style = \"color:red\">Types of Exceptions: </strong> <br>There are several built-in exception types in Python, such as <b>\"ZeroDivisionError\"</b>, <b>\"TypeError\"</b>, <b>\"NameError\"</b>, and more. Each type of exception corresponds to a specific error that can occur in your code.\n",
    "\n",
    "\n",
    "</p><br>\n",
    "<p align='justify' style='margin: 10px 20px; color : purple; line-height:1.5; font-family: \"Times New Roman\", Times, serif; font-size:16px;'>\n",
    "    <strong style = \"color:red\">Handling Exceptions: </strong><br> To handle exceptions in Python, you can use a try-except block. The try block contains the code that might raise an exception, and the except block contains the code that will handle the exception if it occurs. <br><br><b>For example:</b>\n",
    "</p>"
   ]
  },
  {
   "cell_type": "code",
   "execution_count": 80,
   "id": "c29682de",
   "metadata": {
    "slideshow": {
     "slide_type": "subslide"
    }
   },
   "outputs": [
    {
     "name": "stdout",
     "output_type": "stream",
     "text": [
      "Cannot divide by zero!\n"
     ]
    }
   ],
   "source": [
    "try:\n",
    "    x = 1 / 0\n",
    "except ZeroDivisionError:\n",
    "    print(\"Cannot divide by zero!\")"
   ]
  },
  {
   "cell_type": "markdown",
   "id": "7d79dd5b",
   "metadata": {
    "slideshow": {
     "slide_type": "subslide"
    }
   },
   "source": [
    "<p align='justify' style='margin: 10px 20px; color : purple; line-height:1.5; font-family: \"Times New Roman\", Times, serif; font-size:16px;'>\n",
    "    In this example, the try block contains the code x = 1 / 0, which will raise a ZeroDivisionError exception if executed. The except block, except ZeroDivisionError:, specifies that if a ZeroDivisionError exception occurs, the code in the except block print(\"Cannot divide by zero!\") will be executed.\n",
    "</p><br>\n",
    "\n",
    "<p align='justify' style='margin: 10px 20px; color : black; line-height:1.5; font-family: \"Times New Roman\", Times, serif; font-size:16px;'>\n",
    "    You can also include multiple except blocks to handle different types of exceptions. For example:\n",
    "</p>"
   ]
  },
  {
   "cell_type": "code",
   "execution_count": 4,
   "id": "c607d94b",
   "metadata": {
    "slideshow": {
     "slide_type": "subslide"
    }
   },
   "outputs": [
    {
     "name": "stdout",
     "output_type": "stream",
     "text": [
      "Cannot divide by zero!\n"
     ]
    }
   ],
   "source": [
    "try:\n",
    "    x = 1 / 0\n",
    "except ZeroDivisionError:\n",
    "    print(\"Cannot divide by zero!\")\n",
    "except TypeError:\n",
    "    print(\"Invalid type!\")"
   ]
  },
  {
   "cell_type": "markdown",
   "id": "5d16a960",
   "metadata": {
    "slideshow": {
     "slide_type": "subslide"
    }
   },
   "source": [
    "\n",
    "<p align='justify' style='margin: 10px 20px; color : purple; line-height:1.5; font-family: \"Times New Roman\", Times, serif; font-size:16px;'>\n",
    "    In this example, if a ZeroDivisionError exception occurs, the code in the first except block print(\"Cannot divide by zero!\") will be executed. If a TypeError exception occurs, the code in the second except block print(\"Invalid type!\") will be executed.\n",
    "</p><br>\n",
    "<p align='justify' style='margin: 10px 20px; color : black; line-height:1.5; font-family: \"Times New Roman\", Times, serif; font-size:16px;'>\n",
    "    You can also include an else block which will run the code if the try block does not raise an exception.\n",
    "</p>"
   ]
  },
  {
   "cell_type": "code",
   "execution_count": 83,
   "id": "d3bb8168",
   "metadata": {
    "slideshow": {
     "slide_type": "subslide"
    }
   },
   "outputs": [
    {
     "name": "stdout",
     "output_type": "stream",
     "text": [
      "The result is:  0.5\n"
     ]
    }
   ],
   "source": [
    "try:\n",
    "    x = 1 / 2\n",
    "except ZeroDivisionError:\n",
    "    print(\"Cannot divide by zero!\")\n",
    "else:\n",
    "    print(\"The result is: \",x)"
   ]
  },
  {
   "cell_type": "markdown",
   "id": "0483c115",
   "metadata": {
    "slideshow": {
     "slide_type": "subslide"
    }
   },
   "source": [
    "<p align='justify' style='margin: 10px 20px; color : purple; line-height:1.5; font-family: \"Times New Roman\", Times, serif; font-size:16px;'>\n",
    "    In this example, if a ZeroDivisionError exception does not occur, the code in the else block print(\"The result is: \",x) will be executed.\n",
    "</p><br>\n",
    "<p align='justify' style='margin: 10px 20px; color : black; line-height:1.5; font-family: \"Times New Roman\", Times, serif; font-size:16px;'>\n",
    "    You can also use the \"finally\" block which will run the code regardless of whether the try block raised an exception or not.\n",
    "</p>"
   ]
  },
  {
   "cell_type": "code",
   "execution_count": 84,
   "id": "bfdc0396",
   "metadata": {
    "slideshow": {
     "slide_type": "subslide"
    }
   },
   "outputs": [
    {
     "name": "stdout",
     "output_type": "stream",
     "text": [
      "Cannot divide by zero!\n",
      "This code will always run!\n"
     ]
    }
   ],
   "source": [
    "try:\n",
    "    x = 1 / 0\n",
    "except ZeroDivisionError:\n",
    "    print(\"Cannot divide by zero!\")\n",
    "finally:\n",
    "    print(\"This code will always run!\")\n"
   ]
  },
  {
   "cell_type": "markdown",
   "id": "145cd9cc",
   "metadata": {
    "slideshow": {
     "slide_type": "subslide"
    }
   },
   "source": [
    "<p align='justify' style='margin: 10px 20px; color : purple; line-height:1.5; font-family: \"Times New Roman\", Times, serif; font-size:16px;'>\n",
    "    In this example, the code in the finally block print(\"This code will always run!\") will always be executed, whether an exception was raised or not.\n",
    "</p><br>\n",
    "<p align='justify' style='margin: 10px 20px; color : black; line-height:1.5; font-family: \"Times New Roman\", Times, serif; font-size:16px;'>\n",
    "    It is important to note that in python indentation is very important and any error in the indentation will lead to a syntax error.\n",
    "</p>"
   ]
  },
  {
   "cell_type": "markdown",
   "id": "d9ee55b2",
   "metadata": {
    "slideshow": {
     "slide_type": "slide"
    }
   },
   "source": [
    "<h2 style='color:red; font-weight:bold; text-align:center; font-family: \"Times New Roman\", Times, serif;'>FILES</h2>\n",
    "\n",
    "<p align='justify' style='margin: 10px 20px; line-height:1.5;color : purple; font-family: \"Times New Roman\", Times, serif; font-size:16px;'>\n",
    "    <strong> Lesson Eight: </strong> Files\n",
    "    \n",
    "  <ul style='font-family: \"Times New Roman\", Times, serif; font-weight:light; color:purple; font-size:16px;'>\n",
    "      <li><b>File methods </b></li>\n",
    "      <li><b>Reading and writing files </b></li>\n",
    "      <li><b>Working with file paths  </b></li>\n",
    "      \n",
    "    \n",
    "  </ul>\n",
    "</p>\n",
    "<p align='justify' style='margin: 10px 20px; color : black; line-height:1.5; font-family: \"Times New Roman\", Times, serif; font-size:16px;'>\n",
    "    In Python, you can read and write files using the built-in <strong>\"open\"</strong> function, which returns a file object that you can use to read or write the file.There are several file methods that you can use in Python to work with files. These methods are defined in the <strong>\"file\"</strong> object, which is returned by the <strong>\"open\"</strong>  function when you open a file.<br><br>The \"open\" function takes two arguments: the file name and the mode. The mode can be \"r\" for reading, \"w\" for writing, or \"a\" for appending.<br><br>There are several file methods that you can use in Python to work with files. These methods are defined in the \"file\" object, which is returned by the \"open\" function when you open a file.\n",
    "\n",
    "</p><br>\n",
    "<p align='justify' style='margin: 10px 20px; color : purple; line-height:1.5; font-family: \"Times New Roman\", Times, serif; font-size:16px;'>\n",
    "    Here is a list of some common file methods in Python:\n",
    "    <ul style='font-family: \"Times New Roman\", Times, serif; font-weight:light; color:black; font-size:16px;'>\n",
    "        <li><b>\"read()\"</b> - reads the contents of the file and returns a string</li>\n",
    "        <li><b>\"readlines()\"</b> - reads the contents of the file and returns a list of strings, where each string is a line in the file</li>\n",
    "        <li><b>\"write(string)\"</b> - writes a string to the file</li>\n",
    "        <li><b>\"writelines(lines)\"</b> - writes a list of strings to the file, where each string is a line</li>\n",
    "    \n",
    "  </ul>\n",
    "</p><br>\n",
    "\n",
    "<p align='justify' style='margin: 10px 20px; color : purple; line-height:1.5; font-family: \"Times New Roman\", Times, serif; font-size:16px;'>\n",
    "    Here is an example of how to use some of these file methods in Python, this example is an example of how to open a file for reading in Python\n",
    "</p>"
   ]
  },
  {
   "cell_type": "code",
   "execution_count": 47,
   "id": "8109c054",
   "metadata": {
    "slideshow": {
     "slide_type": "subslide"
    }
   },
   "outputs": [
    {
     "name": "stdout",
     "output_type": "stream",
     "text": [
      "Hello, world!\n",
      "This is a sample text file.\n",
      "I hope you enjoy reading it.\n",
      "\n"
     ]
    }
   ],
   "source": [
    "# open a file for reading\n",
    "f = open(\"file_python.txt\", \"r\")\n",
    "\n",
    "# read the contents of the file\n",
    "contents = f.read()\n",
    "\n",
    "# close the file\n",
    "f.close()\n",
    "\n",
    "# print the contents of the file\n",
    "print(contents)"
   ]
  },
  {
   "cell_type": "markdown",
   "id": "7ba35332",
   "metadata": {
    "slideshow": {
     "slide_type": "subslide"
    }
   },
   "source": [
    "<p align='justify' style='margin: 10px 20px; color : black; line-height:1.5; font-family: \"Times New Roman\", Times, serif; font-size:16px;'>\n",
    "    In this example, the <strong>\"open\"</strong> function is used to open the file <strong>\"file_python.txt\"</strong> for reading, and the <strong>\"read\"</strong> method is used to read the contents of the file. The <strong>\"close\"</strong> method is used to close the file when you are done. The contents of the file are then printed to the console.<br><br>You can also use the <strong>\"with\"</strong> statement to open and close files automatically. The <strong>\"with\"</strong> statement ensures that the file is closed when the block of code is exited, regardless of whether an exception occurs or not.\n",
    "</p><br>\n",
    "\n",
    "<p align='justify' style='margin: 10px 20px; color : purple; line-height:1.5; font-family: \"Times New Roman\", Times, serif; font-size:16px;'>\n",
    "    Here is an example of how to use the \"with\" statement to open a file for reading in Python:\n",
    "</p>\n"
   ]
  },
  {
   "cell_type": "code",
   "execution_count": 48,
   "id": "23c91265",
   "metadata": {
    "slideshow": {
     "slide_type": "subslide"
    }
   },
   "outputs": [
    {
     "name": "stdout",
     "output_type": "stream",
     "text": [
      "Hello, world!\n",
      "This is a sample text file.\n",
      "I hope you enjoy reading it.\n",
      "\n"
     ]
    }
   ],
   "source": [
    "# open a file for reading using the \"with\" statement\n",
    "with open(\"file_python.txt\", \"r\") as f:\n",
    "    # read the contents of the file\n",
    "    contents = f.read()\n",
    "\n",
    "# the file is automatically closed when the block of code is exited\n",
    "\n",
    "# print the contents of the file\n",
    "print(contents)"
   ]
  },
  {
   "cell_type": "markdown",
   "id": "19657298",
   "metadata": {
    "slideshow": {
     "slide_type": "subslide"
    }
   },
   "source": [
    "<p align='justify' style='margin: 10px 20px; color : black; line-height:1.5; font-family: \"Times New Roman\", Times, serif; font-size:16px;'>\n",
    "    In this example, the <strong>\"with\"</strong> statement is used to open the file <strong>\"file_python.txt\"</strong> for reading, and the <strong>\"read\"</strong> method is used to read the contents of the file. The file is automatically closed when the block of code is exited, and the contents of the file are printed to the console.<br><br>To write to a file, you can use the <strong>\"write\"</strong> method, which writes a string to the file. If the file does not exist, it will be created. If the file already exists, its contents will be overwritten.\n",
    "\n",
    "</p><br>\n",
    "\n",
    "<p align='justify' style='margin: 10px 20px; color : purple; line-height:1.5; font-family: \"Times New Roman\", Times, serif; font-size:16px;'>\n",
    "    Here is an example of how to write to a file in Python:\n",
    "\n",
    "</p><br>"
   ]
  },
  {
   "cell_type": "code",
   "execution_count": 2,
   "id": "25296aa1",
   "metadata": {
    "slideshow": {
     "slide_type": "subslide"
    }
   },
   "outputs": [],
   "source": [
    "# open a file for writing\n",
    "f = open(\"file_python.txt\", \"w\")\n",
    "\n",
    "# write a string to the file\n",
    "f.write(\"Hello, world!\")\n",
    "\n",
    "# close the file\n",
    "f.close()"
   ]
  },
  {
   "cell_type": "markdown",
   "id": "bbbb671c",
   "metadata": {
    "slideshow": {
     "slide_type": "subslide"
    }
   },
   "source": [
    "<p align='justify' style='margin: 10px 20px; color : black; line-height:1.5; font-family: \"Times New Roman\", Times, serif; font-size:16px;'>\n",
    "    In this example, the \"open\" function is used to open the file \"file_python.txt\" for writing, and the \"write\" method is used to write a string to the file. The \"close\" method is used to close the file when you are done.<br><br>You can also use the \"with\" statement to open and close files automatically. The \"with\" statement ensures that the file is closed when the block of code is exited, regardless of whether an exception occurs or not.\n",
    "\n",
    "\n",
    "\n",
    "</p><br>\n",
    "<p align='justify' style='margin: 10px 20px; color : purple; line-height:1.5; font-family: \"Times New Roman\", Times, serif; font-size:16px;'>\n",
    "    Here is an example of how to use the \"with\" statement to write to a file in Python:\n",
    "</p><br>"
   ]
  },
  {
   "cell_type": "code",
   "execution_count": 85,
   "id": "544da40e",
   "metadata": {
    "slideshow": {
     "slide_type": "subslide"
    }
   },
   "outputs": [],
   "source": [
    "# open a file for writing using the \"with\" statement\n",
    "with open(\"file.txt\", \"w\") as f:\n",
    "    # write a string to the file\n",
    "    f.write(\"Hello, world!\")\n",
    "\n",
    "# the file is automatically closed when the block of code is exited"
   ]
  },
  {
   "cell_type": "markdown",
   "id": "0dce0dfa",
   "metadata": {
    "slideshow": {
     "slide_type": "subslide"
    }
   },
   "source": [
    "<p align='justify' style='margin: 10px 20px; color : black; line-height:1.5; font-family: \"Times New Roman\", Times, serif; font-size:16px;'>\n",
    "    To append to a file, you can use the \"a\" mode when opening the file. This mode allows you to write to the end of the file, preserving the existing contents of the file.\n",
    "\n",
    "</p><br>\n",
    "<p align='justify' style='margin: 10px 20px; color : purple; line-height:1.5; font-family: \"Times New Roman\", Times, serif; font-size:16px;'>\n",
    "    Here is an example of how to append to a file in Python:\n",
    "</p><br>"
   ]
  },
  {
   "cell_type": "code",
   "execution_count": 86,
   "id": "70c3a9ff",
   "metadata": {
    "slideshow": {
     "slide_type": "subslide"
    }
   },
   "outputs": [],
   "source": [
    "# open a file for appending\n",
    "f = open(\"file.txt\", \"a\")\n",
    "\n",
    "# write a string to the end of the file\n",
    "f.write(\"Hello, world!\")\n",
    "\n",
    "# close the file\n",
    "f.close()"
   ]
  },
  {
   "cell_type": "markdown",
   "id": "d531734c",
   "metadata": {
    "slideshow": {
     "slide_type": "subslide"
    }
   },
   "source": [
    "<p align='justify' style='margin: 10px 20px; color : black; line-height:1.5; font-family: \"Times New Roman\", Times, serif; font-size:16px;'>\n",
    "    In this example, the \"open\" function is used to open the file \"file.txt\" for appending, and the \"write\" method is used to write a string to the end of the file. The \"close\" method is used to close the file when you are done.<br><br>You can also use the \"with\" statement to open and close files automatically. The \"with\" statement ensures that the file is closed when the block of code is exited, regardless of whether an exception occurs or not.\n",
    "</p><br>\n",
    "<p align='justify' style='margin: 10px 20px; color : purple; line-height:1.5; font-family: \"Times New Roman\", Times, serif; font-size:16px;'>\n",
    "    Here is an example of how to use the \"with\" statement to append to a file in Python:\n",
    "</p><br>"
   ]
  },
  {
   "cell_type": "code",
   "execution_count": 3,
   "id": "58032c29",
   "metadata": {
    "slideshow": {
     "slide_type": "subslide"
    }
   },
   "outputs": [],
   "source": [
    "# open a file for appending using the \"with\" statement\n",
    "with open(\"file.txt\", \"a\") as f:\n",
    "    # write a string to the end of the file\n",
    "    f.write(\"Hello, world!\")\n",
    "\n",
    "# the file is automatically closed when the block of code is exited\n"
   ]
  },
  {
   "cell_type": "markdown",
   "id": "ca215c5c",
   "metadata": {
    "slideshow": {
     "slide_type": "subslide"
    }
   },
   "source": [
    "<p align='justify' style='margin: 10px 20px; color : black; line-height:1.5; font-family: \"Times New Roman\", Times, serif; font-size:16px;'>\n",
    "    In this example, the \"with\" statement is used to open the file \"file.txt\" for appending, and the \"write\" method is used to write a string to the end of the file. The file is automatically closed when the block of code is exited.\n",
    "</p><br>"
   ]
  },
  {
   "cell_type": "markdown",
   "id": "c9dabc06",
   "metadata": {
    "slideshow": {
     "slide_type": "subslide"
    }
   },
   "source": [
    "<h3 style='color:red; font-weight:bold; text-align:center; font-family: \"Times New Roman\", Times, serif;'>Working with file paths</h3>\n",
    "\n",
    "<p align='justify' style='margin: 10px 20px; line-height:1.5;color : black; font-family: \"Times New Roman\", Times, serif; font-size:16px;'>\n",
    "    To work with file paths in Python, you can use the \"os\" module, which provides functions for interacting with the file system. The \"os\" module allows you to get the current working directory, list the contents of a directory, create directories, and more.\n",
    "</p><br>\n",
    "\n",
    "<p align='justify' style='margin: 10px 20px; line-height:1.5;color : purple; font-family: \"Times New Roman\", Times, serif; font-size:16px;'>\n",
    "    Here is an example of how to use the \"os\" module to get the current working directory in Python:\n",
    "</p>"
   ]
  },
  {
   "cell_type": "code",
   "execution_count": 87,
   "id": "bb603c9b",
   "metadata": {
    "slideshow": {
     "slide_type": "subslide"
    }
   },
   "outputs": [
    {
     "name": "stdout",
     "output_type": "stream",
     "text": [
      "/home/sark\n"
     ]
    }
   ],
   "source": [
    "import os\n",
    "\n",
    "# get the current working directory\n",
    "cwd = os.getcwd()\n",
    "\n",
    "# print the current working directory\n",
    "print(cwd)"
   ]
  },
  {
   "cell_type": "markdown",
   "id": "bdb813b9",
   "metadata": {
    "slideshow": {
     "slide_type": "subslide"
    }
   },
   "source": [
    "<p align='justify' style='margin: 10px 20px; line-height:1.5;color : black; font-family: \"Times New Roman\", Times, serif; font-size:16px;'>\n",
    "    In this example, the \"os\" module is imported and the \"getcwd\" function is used to get the current working directory. The current working directory is then printed to the console.<br><br>To list the contents of a directory, you can use the \"listdir\" function, which returns a list of the files and directories in the specified directory.\n",
    "</p><br>\n",
    "<p align='justify' style='margin: 10px 20px; line-height:1.5;color : purple; font-family: \"Times New Roman\", Times, serif; font-size:16px;'>\n",
    "    Here is an example of how to use the \"os\" module to list the contents of a directory in Python:\n",
    "</p>"
   ]
  },
  {
   "cell_type": "code",
   "execution_count": 88,
   "id": "1e719fae",
   "metadata": {
    "slideshow": {
     "slide_type": "subslide"
    }
   },
   "outputs": [],
   "source": [
    "import os\n",
    "\n",
    "# list the contents of the current directory\n",
    "contents = os.listdir()\n",
    "\n",
    "# print the contents of the current directory\n",
    "#print(contents)"
   ]
  },
  {
   "cell_type": "markdown",
   "id": "e7ab01c0",
   "metadata": {
    "slideshow": {
     "slide_type": "subslide"
    }
   },
   "source": [
    "<p align='justify' style='margin: 10px 20px; line-height:1.5;color : black; font-family: \"Times New Roman\", Times, serif; font-size:16px;'>\n",
    "    In this example, the \"os\" module is imported and the \"listdir\" function is used to list the contents of the current directory. The contents of the current directory are then printed to the console.<br><br>To create a directory, you can use the \"mkdir\" function, which creates a new directory with the specified name.\n",
    "</p><br>\n",
    "<p align='justify' style='margin: 10px 20px; line-height:1.5;color : purple; font-family: \"Times New Roman\", Times, serif; font-size:16px;'>\n",
    "    Here is an example of how to use the \"os\" module to create a directory in Python:\n",
    "</p>"
   ]
  },
  {
   "cell_type": "code",
   "execution_count": 90,
   "id": "a4db71df",
   "metadata": {
    "slideshow": {
     "slide_type": "subslide"
    }
   },
   "outputs": [],
   "source": [
    "import os\n",
    "\n",
    "# create a new directory\n",
    "os.mkdir(\"new_dir2\")"
   ]
  },
  {
   "cell_type": "markdown",
   "id": "c3f56a6b",
   "metadata": {
    "slideshow": {
     "slide_type": "subslide"
    }
   },
   "source": [
    "<p align='justify' style='margin: 10px 20px; line-height:1.5;color : black; font-family: \"Times New Roman\", Times, serif; font-size:16px;'>\n",
    "    In this example, the \"os\" module is imported and the \"mkdir\" function is used to create a new directory with the name \"new_dir2\".<br><br>The \"os\" module is a useful tool for working with file paths and the file system in Python. You can use the functions provided by the \"os\" module to interact with the file system in a variety of ways.\n",
    "</p>"
   ]
  },
  {
   "cell_type": "markdown",
   "id": "6c3800db",
   "metadata": {
    "slideshow": {
     "slide_type": "slide"
    }
   },
   "source": [
    "<h2 style='color:red; font-weight:bold; text-align:center; font-family: \"Times New Roman\", Times, serif;'>FIRST CLASS APPROACH (DEVELOPER SIDE OBJECT PROGRAMMING)</h2>\n",
    "\n",
    "<p align='justify' style='margin: 10px 20px; line-height:1.5;color : purple; font-family: \"Times New Roman\", Times, serif; font-size:16px;'>\n",
    "    <strong> Lesson: </strong> First Class Approach\n",
    "    \n",
    "  <ul style='font-family: \"Times New Roman\", Times, serif; font-weight:light; color:purple; font-size:16px;'>\n",
    "      <li><b>Defining Classes </b></li>\n",
    "      <li><b>Creating Objects  </b></li>\n",
    "      <li><b> Accessing Object Attributes </b></li>\n",
    "      <li><b> Modifying object attributes  </b></li><br>\n",
    "    \n",
    "  </ul>\n",
    "</p>\n",
    "<p align='justify' style='margin: 10px 20px; line-height:1.5;color : black; font-family: \"Times New Roman\", Times, serif; font-size:16px;'>\n",
    "    First-class objects are objects that are treated as first-class citizens in a programming language. This means that they have the same rights and privileges as other objects in the language, and can be passed around and manipulated in the same way.<br><br>In Python, all objects are first-class objects, including functions, methods, and classes. This means that you can pass them as arguments to other functions, return them as values from functions, and bind them to variables.\n",
    "</p><br>\n",
    "\n",
    "<h3 style='color:red; font-weight:bold; text-align:center; font-family: \"Times New Roman\", Times, serif;'>CLASSES AND OBJECTS</h3>\n",
    "\n",
    "<p align='justify' style='margin: 10px 20px; line-height:1.5;color : black; font-family: \"Times New Roman\", Times, serif; font-size:16px;'>\n",
    "    A <strong>class</strong> is a template for creating objects. It defines the attributes and methods that an object will have, and provides a way to create and manipulate objects of that type. In object-oriented programming, an <strong> object</strong> is a representation of a real-world entity that has certain characteristics or properties, known as attributes. <br><br> An <strong> attribute </strong> is a characteristic or property of an object that is defined by its class. It is used to store data or provide behavior for an object. A <strong>method</strong> is a function that is defined inside a class. It is used to define the behavior of an object of that class, and can be called on that object to perform a specific task.<br><br>For example, you can define a \"Person\" class that has attributes such as \"name\" and \"age\", and methods such as \"greet\" that print a greeting message to the console. You can then create objects of the \"Person\" class and set their attributes and call their methods.\n",
    "</p><br>\n",
    "<p align='justify' style='margin: 10px 20px; line-height:1.5; color: purple; font-family: \"Times New Roman\", Times, serif; font-size:16px;'>\n",
    "    To define a class in Python, you can use the \"class\" keyword and specify the name of the class and the attributes and methods that it should have. Here is an example of how to define a class in Python:\n",
    "</p>"
   ]
  },
  {
   "cell_type": "code",
   "execution_count": 11,
   "id": "6342a8ca",
   "metadata": {
    "slideshow": {
     "slide_type": "subslide"
    }
   },
   "outputs": [],
   "source": [
    "class Person:\n",
    "    def __init__(self, name, age):\n",
    "        self.name = name\n",
    "        self.age = age\n",
    "\n",
    "    def greet(self):\n",
    "        print(f\"Hello, my name is {self.name} and I am {self.age} years old.\")"
   ]
  },
  {
   "cell_type": "markdown",
   "id": "5af6a6a4",
   "metadata": {
    "slideshow": {
     "slide_type": "subslide"
    }
   },
   "source": [
    "<p align='justify' style='margin: 10px 20px; line-height:1.5; color: purple; font-family: \"Times New Roman\", Times, serif; font-size:16px;'>\n",
    "    <strong>Explanation of the code above</strong>\n",
    "</p>\n",
    "\n",
    "\n",
    "<p align='justify' style='margin: 10px 20px; line-height:1.5; color: black; font-family: \"Times New Roman\", Times, serif; font-size:16px;'>\n",
    "    This code defines a <strong>\"Person\"</strong> class in with two attributes: <strong>\"name\"</strong> and <strong>\"age\"</strong>. The class has a <strong>\"init\"</strong> method that is used to initialize the object with the given name and age, and assigns them to the <strong>\"name\"</strong> and <strong>\"age\"</strong> attributes using the <strong>\"self\"</strong> keyword.<br><br>The <strong>\"init\"</strong> method is a special method in Python that is called when an object is created. It is used to initialize the object with any required data or arguments, and is also known as the class constructor.<br><br>The <strong>\"Person\"</strong> class also has a <strong>\"greet\"</strong> method that takes a single argument, <strong>\"self\"</strong>, which refers to the object itself. The method prints a greeting message to the console using the object's <strong>\"name\"</strong> and <strong>\"age\"</strong> attributes.\n",
    "</p><br><br>\n",
    "\n",
    "<p align='justify' style='margin: 10px 20px; line-height:1.5; color: purple; font-family: \"Times New Roman\", Times, serif; font-size:16px;'>\n",
    "    To create an object of a class, you can use the class name followed by parentheses and pass any required arguments to the class constructor. Here is an example of how to create an object of the \"Person\" class:\n",
    "</p>"
   ]
  },
  {
   "cell_type": "code",
   "execution_count": 19,
   "id": "ab03daae",
   "metadata": {
    "slideshow": {
     "slide_type": "subslide"
    }
   },
   "outputs": [],
   "source": [
    "# create an object of the Person class\n",
    "person = Person(\"Alice\", 25)"
   ]
  },
  {
   "cell_type": "markdown",
   "id": "e1cad457",
   "metadata": {
    "slideshow": {
     "slide_type": "subslide"
    }
   },
   "source": [
    "<p align='justify' style='margin: 10px 20px; line-height:1.5; color: black; font-family: \"Times New Roman\", Times, serif; font-size:16px;'>\n",
    "    In this example, the \"Person\" class is used to create an object called \"person\", which has the name \"Alice\" and the age 25.\n",
    "\n",
    "</p><br><br>\n",
    "<p align='justify' style='margin: 10px 20px; line-height:1.5; color: purple; font-family: \"Times New Roman\", Times, serif; font-size:16px;'>\n",
    "    To access the attributes of an object in Python, you can use the dot notation. For example, to access the \"name\" attribute of the \"person\" object, you can use the following syntax:\n",
    "\n",
    "</p>"
   ]
  },
  {
   "cell_type": "code",
   "execution_count": 20,
   "id": "40cc9da1",
   "metadata": {
    "slideshow": {
     "slide_type": "subslide"
    }
   },
   "outputs": [],
   "source": [
    "name = person.name"
   ]
  },
  {
   "cell_type": "markdown",
   "id": "5e95c5ce",
   "metadata": {
    "slideshow": {
     "slide_type": "subslide"
    }
   },
   "source": [
    "<p align='justify' style='margin: 10px 20px; line-height:1.5; color: black; font-family: \"Times New Roman\", Times, serif; font-size:16px;'>\n",
    "    To modify the attributes of an object in Python, you can simply assign a new value to the attribute. For example, to change the name of the \"person\" object, you can use the following syntax:\n",
    "\n",
    "</p>"
   ]
  },
  {
   "cell_type": "code",
   "execution_count": 21,
   "id": "200e1314",
   "metadata": {
    "slideshow": {
     "slide_type": "subslide"
    }
   },
   "outputs": [],
   "source": [
    "person.name = \"Bob\""
   ]
  },
  {
   "cell_type": "markdown",
   "id": "31a4d241",
   "metadata": {
    "slideshow": {
     "slide_type": "subslide"
    }
   },
   "source": [
    "<p align='justify' style='margin: 10px 20px; line-height:1.5; color: red; font-family: \"Times New Roman\", Times, serif; font-size:16px;'>\n",
    "    First-class objects are an important concept in Python, as they allow you to pass objects around and manipulate them in a flexible and powerful way. Classes are a key part of object-oriented programming in Python, and allow you to define custom types and create objects with specific attributes and behavior.\n",
    "\n",
    "</p>"
   ]
  },
  {
   "cell_type": "markdown",
   "id": "56eb1a1f",
   "metadata": {
    "slideshow": {
     "slide_type": "slide"
    }
   },
   "source": [
    "<h2 style='color:red; font-weight:bold; text-align:center; font-family: \"Times New Roman\", Times, serif;'>PROPERTIES</h2>\n",
    "\n",
    "<p align='justify' style='margin: 10px 20px; line-height:1.5;color : purple; font-family: \"Times New Roman\", Times, serif; font-size:16px;'>\n",
    "    <strong> Lesson: </strong> Properties\n",
    "    \n",
    "  <ul style='font-family: \"Times New Roman\", Times, serif; font-weight:light; color:purple; font-size:16px;'>\n",
    "      <li><b>Using Properties to access objects attributes</b></li>\n",
    "      <li><b>Setting Default values for objects attributes  </b></li>\n",
    "      <li><b> Implementing setters and getters for objects attributes</b></li>\n",
    "    \n",
    "  </ul>\n",
    "</p>\n",
    "<p align='justify' style='margin: 10px 20px; line-height:1.5; color: black; font-family: \"Times New Roman\", Times, serif; font-size:16px;'>\n",
    "    In Python, you can use the \"property()\" built-in function to define properties for object attributes. A property is a special type of attribute that allows you to define custom getters, setters, and deleters for an attribute, and is accessed like a regular attribute.<br><br>To define a property, you can use the \"property()\" function and pass it three optional arguments: the \"getter\", \"setter\", and \"deleter\" functions. The \"getter\" function is used to get the value of the attribute, the \"setter\" function is used to set the value of the attribute, and the \"deleter\" function is used to delete the attribute.\n",
    "\n",
    "</p><br>\n",
    "<p align='justify' style='margin: 10px 20px; line-height:1.5; color: purple; font-family: \"Times New Roman\", Times, serif; font-size:16px;'>\n",
    "    For example, you can define a property for the \"name\" attribute of a \"Person\" class like this:\n",
    "</p>"
   ]
  },
  {
   "cell_type": "code",
   "execution_count": 22,
   "id": "b3381e49",
   "metadata": {
    "slideshow": {
     "slide_type": "subslide"
    }
   },
   "outputs": [],
   "source": [
    "class Person:\n",
    "    def __init__(self, name):\n",
    "        self._name = name\n",
    "\n",
    "    def get_name(self):\n",
    "        return self._name\n",
    "\n",
    "    def set_name(self, name):\n",
    "        self._name = name\n",
    "\n",
    "    def del_name(self):\n",
    "        del self._name\n",
    "\n",
    "    name = property(get_name, set_name, del_name)"
   ]
  },
  {
   "cell_type": "markdown",
   "id": "a0f227e2",
   "metadata": {
    "slideshow": {
     "slide_type": "subslide"
    }
   },
   "source": [
    "<p align='justify' style='margin: 10px 20px; line-height:1.5; color: black; font-family: \"Times New Roman\", Times, serif; font-size:16px;'>\n",
    "    In this example, the \"name\" property is defined using the \"property()\" function, and the \"get_name()\", \"set_name()\", and \"del_name()\" functions are used as the \"getter\", \"setter\", and \"deleter\" functions, respectively. <br><br>To use the \"name\" property, you can access it like a regular attribute, and the \"get_name()\" function will be called when you get the value of the attribute, the \"set_name()\" function will be called when you set the value of the attribute, and the \"del_name()\" function will be called when you delete the attribute.\n",
    "</p><br><br>\n",
    "<p align='justify' style='margin: 10px 20px; line-height:1.5; color: purple; font-family: \"Times New Roman\", Times, serif; font-size:16px;'>\n",
    "    For example, you can use the \"name\" property like this:\n",
    "</p>"
   ]
  },
  {
   "cell_type": "code",
   "execution_count": 23,
   "id": "38e21ce2",
   "metadata": {
    "slideshow": {
     "slide_type": "subslide"
    }
   },
   "outputs": [
    {
     "name": "stdout",
     "output_type": "stream",
     "text": [
      "Alice\n"
     ]
    }
   ],
   "source": [
    "person = Person(\"Alice\")\n",
    "\n",
    "# get the value of the \"name\" attribute\n",
    "print(person.name)  # prints: \"Alice\"\n",
    "\n",
    "# set the value of the \"name\" attribute\n",
    "person.name = \"Bob\"\n",
    "\n",
    "# delete the \"name\" attribute\n",
    "del person.name"
   ]
  },
  {
   "cell_type": "markdown",
   "id": "b74b5dbe",
   "metadata": {
    "slideshow": {
     "slide_type": "subslide"
    }
   },
   "source": [
    "<p align='justify' style='margin: 10px 20px; line-height:1.5; color: purple; font-family: \"Times New Roman\", Times, serif; font-size:16px;'>\n",
    "    Properties are a useful feature of Python that allow you to define custom getters, setters, and deleters for object attributes, and are accessed like regular attributes. They are useful for implementing encapsulation and control over attribute access in your objects, and can be used to add additional behavior or validation when an attribute is accessed or modified.\n",
    "</p>"
   ]
  },
  {
   "cell_type": "markdown",
   "id": "f2da4d48",
   "metadata": {
    "slideshow": {
     "slide_type": "slide"
    }
   },
   "source": [
    "<h2 style='color:red; font-weight:bold; text-align:center; font-family: \"Times New Roman\", Times, serif;'>SPECIAL METHODS</h2>\n",
    "\n",
    "<p align='justify' style='margin: 10px 20px; line-height:1.5;color : purple; font-family: \"Times New Roman\", Times, serif; font-size:16px;'>\n",
    "    <strong> Lesson: </strong> Special methods \n",
    "    \n",
    "  <ul style='font-family: \"Times New Roman\", Times, serif; font-weight:light; color:purple; font-size:16px;'>\n",
    "      <li><b>Implementing the init method </b></li>\n",
    "      <li><b>Implementing the str method  </b></li>\n",
    "      <li><b> Implementing the repr method </b></li>\n",
    "      <li><b> Overloading operators </b></li>\n",
    "    \n",
    "  </ul>\n",
    "</p>\n",
    "<h3 style='color:red; font-weight:bold; text-align:center; font-family: \"Times New Roman\", Times, serif;'>Implementing the init method</h3>\n",
    "<p align='justify' style='margin: 10px 20px; line-height:1.5; color: black; font-family: \"Times New Roman\", Times, serif; font-size:16px;'>\n",
    "    In Python, you can use the \"init()\" method to define the initialization behavior of an object. The \"init()\" method, also known as the \"constructor\" method, is a special method in Python that is called when an object is created, and is used to initialize the object's attributes and properties.<br><br>To define the \"init()\" method, you can add it to the body of your class definition, and give it at least one argument, which is traditionally called \"self\". The \"self\" argument is a reference to the object itself, and is used to access the object's attributes and methods.\n",
    "</p><br>\n",
    "<p align='justify' style='margin: 10px 20px; line-height:1.5; color: purple; font-family: \"Times New Roman\", Times, serif; font-size:16px;'>\n",
    "    For example, you can define the \"init()\" method for a \"Person\" class like this:\n",
    "</p>"
   ]
  },
  {
   "cell_type": "code",
   "execution_count": 24,
   "id": "03cd1489",
   "metadata": {
    "slideshow": {
     "slide_type": "subslide"
    }
   },
   "outputs": [],
   "source": [
    "class Person:\n",
    "    def __init__(self, name, age):\n",
    "        self.name = name\n",
    "        self.age = age"
   ]
  },
  {
   "cell_type": "markdown",
   "id": "beebc88a",
   "metadata": {
    "slideshow": {
     "slide_type": "subslide"
    }
   },
   "source": [
    "<p align='justify' style='margin: 10px 20px; line-height:1.5; color: black; font-family: \"Times New Roman\", Times, serif; font-size:16px;'>\n",
    "    In this example, the \"init()\" method takes two arguments: \"name\" and \"age\", and assigns them to the object's \"name\" and \"age\" attributes, respectively.\n",
    "</p><br>\n",
    "<p align='justify' style='margin: 10px 20px; line-height:1.5; color: purple; font-family: \"Times New Roman\", Times, serif; font-size:16px;'>\n",
    "    To create an object of the \"Person\" class, you can call the class like a function and pass it the required arguments:\n",
    "</p>\n"
   ]
  },
  {
   "cell_type": "code",
   "execution_count": 25,
   "id": "1e91de5d",
   "metadata": {
    "slideshow": {
     "slide_type": "subslide"
    }
   },
   "outputs": [
    {
     "name": "stdout",
     "output_type": "stream",
     "text": [
      "Alice\n",
      "25\n"
     ]
    }
   ],
   "source": [
    "person = Person(\"Alice\", 25)\n",
    "\n",
    "print(person.name)  # prints: \"Alice\"\n",
    "print(person.age)  # prints: 25"
   ]
  },
  {
   "cell_type": "markdown",
   "id": "2c13fc69",
   "metadata": {
    "slideshow": {
     "slide_type": "subslide"
    }
   },
   "source": [
    "<p align='justify' style='margin: 10px 20px; line-height:1.5; color: black; font-family: \"Times New Roman\", Times, serif; font-size:16px;'>\n",
    "    In this example, the \"Person\" class is called with the arguments \"Alice\" and 25, and the \"init()\" method is called to initialize the object's \"name\" and \"age\" attributes.\n",
    "</p><br>\n",
    "<p align='justify' style='margin: 10px 20px; line-height:1.5; color: purple; font-family: \"Times New Roman\", Times, serif; font-size:16px;'>\n",
    "     the \"init()\" method is a useful feature of Python that allows you to define the initialization behavior of an object, and is called whenever an object is created. It is useful for setting up the initial state of an object, and can be used to define default values for object attributes or to perform any other necessary initialization tasks.\n",
    "</p>"
   ]
  },
  {
   "cell_type": "markdown",
   "id": "ed5348a9",
   "metadata": {
    "slideshow": {
     "slide_type": "subslide"
    }
   },
   "source": [
    "<h3 style='color:red; font-weight:bold; text-align:center; font-family: \"Times New Roman\", Times, serif;'>Implementing the str method</h3>\n",
    "<p align='justify' style='margin: 10px 20px; line-height:1.5; color: black; font-family: \"Times New Roman\", Times, serif; font-size:16px;'>\n",
    "    You can use the \"str()\" method to define the string representation of an object. The \"str()\" method is a special method in Python that is called when the object is converted to a string, and is used to return a human-readable string representation of the object.<br><br>To define the \"str()\" method, you can add it to the body of your class definition, and give it at least one argument, which is traditionally called \"self\". The \"self\" argument is a reference to the object itself, and is used to access the object's attributes and methods.\n",
    "\n",
    "\n",
    "\n",
    "</p><br>\n",
    "<p align='justify' style='margin: 10px 20px; line-height:1.5; color: purple; font-family: \"Times New Roman\", Times, serif; font-size:16px;'>\n",
    "    For example, you can define the \"str()\" method for a \"Person\" class like this:\n",
    "</p>"
   ]
  },
  {
   "cell_type": "code",
   "execution_count": 26,
   "id": "3dcf89fc",
   "metadata": {
    "slideshow": {
     "slide_type": "subslide"
    }
   },
   "outputs": [],
   "source": [
    "class Person:\n",
    "    def __init__(self, name, age):\n",
    "        self.name = name\n",
    "        self.age = age\n",
    "\n",
    "    def __str__(self):\n",
    "        return f\"Person(name='{self.name}', age={self.age})\""
   ]
  },
  {
   "cell_type": "markdown",
   "id": "821c8f17",
   "metadata": {
    "slideshow": {
     "slide_type": "subslide"
    }
   },
   "source": [
    "<p align='justify' style='margin: 10px 20px; line-height:1.5; color: black; font-family: \"Times New Roman\", Times, serif; font-size:16px;'>\n",
    "    In this example, the \"str()\" method returns a string representation of the \"Person\" object in the form \"Person(name='Alice', age=25)\".\n",
    "\n",
    "</p><br>\n",
    "<p align='justify' style='margin: 10px 20px; line-height:1.5; color: purple; font-family: \"Times New Roman\", Times, serif; font-size:16px;'>\n",
    "    To convert an object of the \"Person\" class to a string, you can use the \"str()\" function:\n",
    "</p>"
   ]
  },
  {
   "cell_type": "code",
   "execution_count": 27,
   "id": "fa9c7a7e",
   "metadata": {
    "slideshow": {
     "slide_type": "subslide"
    }
   },
   "outputs": [
    {
     "name": "stdout",
     "output_type": "stream",
     "text": [
      "Person(name='Alice', age=25)\n"
     ]
    }
   ],
   "source": [
    "person = Person(\"Alice\", 25)\n",
    "\n",
    "print(str(person))  # prints: \"Person(name='Alice', age=25)\""
   ]
  },
  {
   "cell_type": "markdown",
   "id": "49ba503b",
   "metadata": {
    "slideshow": {
     "slide_type": "subslide"
    }
   },
   "source": [
    "<p align='justify' style='margin: 10px 20px; line-height:1.5; color: black; font-family: \"Times New Roman\", Times, serif; font-size:16px;'>\n",
    "    In this example, the \"str()\" function calls the \"str()\" method of the \"person\" object to get its string representation. <br><br>The \"str()\" method is a useful feature of Python that allows you to define the string representation of an object, and is called whenever the object is converted to a string. It is useful for providing a human-readable string representation of the object, and can be used to display the object in a user-friendly way.\n",
    "\n",
    "</p><br>"
   ]
  },
  {
   "cell_type": "markdown",
   "id": "dd9072a2",
   "metadata": {
    "slideshow": {
     "slide_type": "subslide"
    }
   },
   "source": [
    "<h3 style='color:red; font-weight:bold; text-align:center; font-family: \"Times New Roman\", Times, serif;'>Implementing the repr method</h3>\n",
    "<p align='justify' style='margin: 10px 20px; line-height:1.5; color: black; font-family: \"Times New Roman\", Times, serif; font-size:16px;'>\n",
    "    You can use the \"repr()\" method to define the string representation of an object for debugging purposes. The \"repr()\" method is a special method in Python that is called when the object is inspected, and is used to return a string representation of the object that is suitable for debugging. <br><br>To define the \"repr()\" method, you can add it to the body of your class definition, and give it at least one argument, which is traditionally called \"self\". The \"self\" argument is a reference to the object itself, and is used to access the object's attributes and methods.\n",
    "\n",
    "\n",
    "</p><br>\n",
    "<p align='justify' style='margin: 10px 20px; line-height:1.5; color: purple; font-family: \"Times New Roman\", Times, serif; font-size:16px;'>\n",
    "    For example, you can define the \"repr()\" method for a \"Person\" class like this:\n",
    "</p>"
   ]
  },
  {
   "cell_type": "code",
   "execution_count": 28,
   "id": "98baedd1",
   "metadata": {
    "slideshow": {
     "slide_type": "subslide"
    }
   },
   "outputs": [],
   "source": [
    "class Person:\n",
    "    def __init__(self, name, age):\n",
    "        self.name = name\n",
    "        self.age = age\n",
    "\n",
    "    def __repr__(self):\n",
    "        return f\"Person(name='{self.name}', age={self.age})\""
   ]
  },
  {
   "cell_type": "markdown",
   "id": "0f56af49",
   "metadata": {
    "slideshow": {
     "slide_type": "subslide"
    }
   },
   "source": [
    "<p align='justify' style='margin: 10px 20px; line-height:1.5; color: black; font-family: \"Times New Roman\", Times, serif; font-size:16px;'>\n",
    "    In this example, the \"repr()\" method returns a string representation of the \"Person\" object in the form \"Person(name='Alice', age=25)\". <br><br> The \"repr()\" method is a useful feature of Python that allows you to define the string representation of an object for debugging purposes, and is called whenever the object is inspected. It is useful for providing a detailed string representation of the object, and can be used to display the object in a way that is helpful for debugging.\n",
    "</p>"
   ]
  },
  {
   "cell_type": "markdown",
   "id": "2768cf73",
   "metadata": {
    "slideshow": {
     "slide_type": "subslide"
    }
   },
   "source": [
    "<h3 style='color:red; font-weight:bold; text-align:center; font-family: \"Times New Roman\", Times, serif;'>Overloading operators </h3>\n",
    "<p align='justify' style='margin: 10px 20px; line-height:1.5; color: black; font-family: \"Times New Roman\", Times, serif; font-size:16px;'>\n",
    "    You can use special methods to overload operators, which means to define the behavior of operators for your custom objects. Overloading operators allows you to define how your objects should behave when they are used with built-in operators, such as \"+\", \"-\", \"*\", and so on. <br><br>To overload an operator, you can define a special method with a name that starts and ends with \"__\", and that corresponds to the operator you want to overload. For example, to overload the \"+\" operator, you can define a method called \"add()\"; to overload the \"-\" operator, you can define a method called \"sub()\"; and so on.\n",
    "</p><br>\n",
    "<p align='justify' style='margin: 10px 20px; line-height:1.5; color: purple; font-family: \"Times New Roman\", Times, serif; font-size:16px;'>\n",
    "    For example, you can define the \"add()\" method for a \"Vector\" class that represents a 2D vector like this:\n",
    "</p>"
   ]
  },
  {
   "cell_type": "code",
   "execution_count": 29,
   "id": "b0019166",
   "metadata": {
    "slideshow": {
     "slide_type": "subslide"
    }
   },
   "outputs": [],
   "source": [
    "class Vector:\n",
    "    def __init__(self, x, y):\n",
    "        self.x = x\n",
    "        self.y = y\n",
    "\n",
    "    def __add__(self, other):\n",
    "        return Vector(self.x + other.x, self.y + other.y)"
   ]
  },
  {
   "cell_type": "markdown",
   "id": "7d06455a",
   "metadata": {
    "slideshow": {
     "slide_type": "subslide"
    }
   },
   "source": [
    "<p align='justify' style='margin: 10px 20px; line-height:1.5; color: black; font-family: \"Times New Roman\", Times, serif; font-size:16px;'>\n",
    "    In this example, the \"add()\" method takes another \"Vector\" object as an argument, and returns a new \"Vector\" object that is the result of adding the two vectors together.<br><br>To add two \"Vector\" objects using the \"+\" operator, you can create two \"Vector\" objects and use the \"+\" operator:\n",
    "</p>"
   ]
  },
  {
   "cell_type": "code",
   "execution_count": 30,
   "id": "bb74e6ac",
   "metadata": {
    "slideshow": {
     "slide_type": "subslide"
    }
   },
   "outputs": [
    {
     "name": "stdout",
     "output_type": "stream",
     "text": [
      "4\n",
      "6\n"
     ]
    }
   ],
   "source": [
    "vector1 = Vector(1, 2)\n",
    "vector2 = Vector(3, 4)\n",
    "\n",
    "vector3 = vector1 + vector2\n",
    "\n",
    "print(vector3.x)  # prints: 4\n",
    "print(vector3.y)  # prints: 6"
   ]
  },
  {
   "cell_type": "markdown",
   "id": "a51ff8f0",
   "metadata": {
    "slideshow": {
     "slide_type": "subslide"
    }
   },
   "source": [
    "<p align='justify' style='margin: 10px 20px; line-height:1.5; color: black; font-family: \"Times New Roman\", Times, serif; font-size:16px;'>\n",
    "    In this example, the \"Vector\" objects \"vector1\" and \"vector2\" are added together using the \"+\" operator, and the result is stored in the \"vector3\" variable.\n",
    "</p><br>\n",
    "<p align='justify' style='margin: 10px 20px; line-height:1.5; color: purple; font-family: \"Times New Roman\", Times, serif; font-size:16px;'>\n",
    "     Operator overloading is a powerful feature of Python that allows you to define the behavior of operators for your custom objects, and is implemented using special methods that start and end with \"__\". It is useful for implementing custom arithmetic and comparison operations for your objects, and can be used to define the behavior of other operators as well, such as \"-\", \"*\", \"==\", and so on.\n",
    "</p>"
   ]
  },
  {
   "cell_type": "markdown",
   "id": "085199c0",
   "metadata": {
    "slideshow": {
     "slide_type": "slide"
    }
   },
   "source": [
    "<h2 style='color:red; font-weight:bold; text-align:center; font-family: \"Times New Roman\", Times, serif;'>INHERITANCE</h2>\n",
    "\n",
    "<p align='justify' style='margin: 10px 20px; line-height:1.5;color : purple; font-family: \"Times New Roman\", Times, serif; font-size:16px;'>\n",
    "    <strong> Lesson Nine: </strong> Inheritance\n",
    "    \n",
    "  <ul style='font-family: \"Times New Roman\", Times, serif; font-weight:light; color:purple; font-size:16px;'>\n",
    "      <li><b>Defining subclasses  </b></li>\n",
    "      <li><b>Overriding methods  </b></li>\n",
    "      <li><b> Using super() to call parent class methods  </b></li>\n",
    "    \n",
    "  </ul>\n",
    "</p>\n",
    "<p align='justify' style='margin: 10px 20px; line-height:1.5; color: black; font-family: \"Times New Roman\", Times, serif; font-size:16px;'>\n",
    "     In Python, inheritance is a way to create a new class that is a modified version of an existing class. The new class is called the subclass, and the existing class is the superclass. The subclass inherits attributes and behavior from the superclass, and can also have its own attributes and behavior. <br>\n",
    "</p><br>\n",
    "<h3 style='color:red; font-weight:bold; text-align:center; font-family: \"Times New Roman\", Times, serif;'>Defining subclasses </h3>\n",
    "<p align='justify' style='margin: 10px 20px; line-height:1.5; color: black; font-family: \"Times New Roman\", Times, serif; font-size:16px;'>\n",
    "     To define a subclass in Python, you can use the \"class\" keyword followed by the name of the subclass and the name of the superclass in parentheses. For example:\n",
    "</p> \n",
    "\n"
   ]
  },
  {
   "cell_type": "code",
   "execution_count": 31,
   "id": "fcf477fd",
   "metadata": {
    "slideshow": {
     "slide_type": "subslide"
    }
   },
   "outputs": [],
   "source": [
    "class Employee(Person):\n",
    "    def __init__(self, name, age, salary):\n",
    "        super().__init__(name, age)\n",
    "        self.salary = salary"
   ]
  },
  {
   "cell_type": "markdown",
   "id": "72f34966",
   "metadata": {
    "slideshow": {
     "slide_type": "subslide"
    }
   },
   "source": [
    "<p align='justify' style='margin: 10px 20px; line-height:1.5; color: black; font-family: \"Times New Roman\", Times, serif; font-size:16px;'>\n",
    "     In this example, the \"Employee\" class is a subclass of the \"Person\" class. It has a \"init\" method that calls the \"init\" method of the \"Person\" class using the \"super()\" function, and then initializes the \"salary\" attribute of the \"Employee\" object.<br>\n",
    "</p><br>\n",
    "<h3 style='color:red; font-weight:bold; text-align:center; font-family: \"Times New Roman\", Times, serif;'>Overriding methods  </h3>\n",
    "<p align='justify' style='margin: 10px 20px; line-height:1.5; color: black; font-family: \"Times New Roman\", Times, serif; font-size:16px;'>\n",
    "     To override a method in a subclass, you can define a new version of the method with the same name in the subclass. The subclass method will take precedence over the superclass method, and will be called instead of the superclass method when the object is created.\n",
    "</p><br>\n",
    "<p align='justify' style='margin: 10px 20px; line-height:1.5; color: purple; font-family: \"Times New Roman\", Times, serif; font-size:16px;'>\n",
    "     For example, you can override the \"greet\" method of the \"Person\" class in the \"Employee\" class like this:\n",
    "</p>"
   ]
  },
  {
   "cell_type": "code",
   "execution_count": 32,
   "id": "1c074557",
   "metadata": {
    "slideshow": {
     "slide_type": "subslide"
    }
   },
   "outputs": [],
   "source": [
    "class Employee(Person):\n",
    "    def __init__(self, name, age, salary):\n",
    "        super().__init__(name, age)\n",
    "        self.salary = salary\n",
    "\n",
    "    def greet(self):\n",
    "        print(f\"Hello, my name is {self.name} and I am {self.age} years old. My salary is ${self.salary}.\")"
   ]
  },
  {
   "cell_type": "markdown",
   "id": "5426c35a",
   "metadata": {
    "slideshow": {
     "slide_type": "subslide"
    }
   },
   "source": [
    "<p align='justify' style='margin: 10px 20px; line-height:1.5; color: black; font-family: \"Times New Roman\", Times, serif; font-size:16px;'>\n",
    "     In this example, the \"greet\" method of the \"Employee\" class is a modified version of the \"greet\" method of the \"Person\" class. It prints a greeting message to the console that includes the object's \"name\", \"age\", and \"salary\" attributes.\n",
    "</p><br>\n"
   ]
  },
  {
   "cell_type": "markdown",
   "id": "91f1a517",
   "metadata": {
    "slideshow": {
     "slide_type": "subslide"
    }
   },
   "source": [
    "<h3 style='color:red; font-weight:bold; text-align:center; font-family: \"Times New Roman\", Times, serif;'>Using super() to call parent class methods</h3>\n",
    "<p align='justify' style='margin: 10px 20px; line-height:1.5; color: black; font-family: \"Times New Roman\", Times, serif; font-size:16px;'>\n",
    "     You can use the \"super()\" function to call methods of the parent class from within a subclass. The \"super()\" function returns a temporary object of the superclass, which allows you to call its methods.\n",
    "</p><br>\n",
    "<p align='justify' style='margin: 10px 20px; line-height:1.5; color: purple; font-family: \"Times New Roman\", Times, serif; font-size:16px;'>\n",
    "     To use the \"super()\" function, you can call it with no arguments, and use the \".\" operator to access the desired method. For example, you can call the \"init()\" method of the parent class like this:\n",
    "</p>"
   ]
  },
  {
   "cell_type": "code",
   "execution_count": 33,
   "id": "bb38e7d9",
   "metadata": {
    "slideshow": {
     "slide_type": "subslide"
    }
   },
   "outputs": [],
   "source": [
    "class Parent:\n",
    "    def __init__(self, value):\n",
    "        self.value = value\n",
    "\n",
    "class Child(Parent):\n",
    "    def __init__(self, value, extra):\n",
    "        super().__init__(value)\n",
    "        self.extra = extra"
   ]
  },
  {
   "cell_type": "markdown",
   "id": "1c226874",
   "metadata": {
    "slideshow": {
     "slide_type": "subslide"
    }
   },
   "source": [
    "<p align='justify' style='margin: 10px 20px; line-height:1.5; color: black; font-family: \"Times New Roman\", Times, serif; font-size:16px;'>\n",
    "     In this example, the \"Child\" class inherits from the \"Parent\" class, and defines its own \"init()\" method. The \"init()\" method of the \"Child\" class calls the \"init()\" method of the \"Parent\" class using the \"super()\" function, and passes the \"value\" argument to it.\n",
    "</p><br>\n",
    "<p align='justify' style='margin: 10px 20px; line-height:1.5; color: purple; font-family: \"Times New Roman\", Times, serif; font-size:16px;'>\n",
    "     To create a \"Child\" object, you can call the \"init()\" method of the \"Child\" class and pass the required arguments:\n",
    "</p>"
   ]
  },
  {
   "cell_type": "code",
   "execution_count": 34,
   "id": "939298f2",
   "metadata": {
    "slideshow": {
     "slide_type": "subslide"
    }
   },
   "outputs": [
    {
     "name": "stdout",
     "output_type": "stream",
     "text": [
      "1\n",
      "2\n"
     ]
    }
   ],
   "source": [
    "child = Child(1, 2)\n",
    "\n",
    "print(child.value)  # prints: 1\n",
    "print(child.extra)  # prints: 2"
   ]
  },
  {
   "cell_type": "markdown",
   "id": "08b48afe",
   "metadata": {
    "slideshow": {
     "slide_type": "subslide"
    }
   },
   "source": [
    "<p align='justify' style='margin: 10px 20px; line-height:1.5; color: black; font-family: \"Times New Roman\", Times, serif; font-size:16px;'>\n",
    "     In this example, a \"Child\" object is created with the values \"1\" and \"2\" for the \"value\" and \"extra\" attributes, respectively. The \"init()\" method of the \"Child\" class calls the \"init()\" method of the \"Parent\" class using the \"super()\" function, and sets the \"value\" attribute of the \"Child\" object to \"1\". <br><br> The \"super()\" function is a useful feature of Python that allows you to call methods of the parent class from within a subclass, and is used to access the inherited behavior of the parent class. It is useful for implementing inheritance and customization of behavior in your object-oriented code, and can be used to call other methods of the parent class as well, not just the \"init()\" method.\n",
    "</p>"
   ]
  },
  {
   "cell_type": "markdown",
   "id": "bbb8da0d",
   "metadata": {
    "slideshow": {
     "slide_type": "subslide"
    }
   },
   "source": [
    "<h2 style='color:red; font-weight:bold; text-align:center; font-family: \"Times New Roman\", Times, serif;'>BEHIND THE FOR LOOP</h2>\n",
    "\n",
    "<p align='justify' style='margin: 10px 20px; line-height:1.5;color : purple; font-family: \"Times New Roman\", Times, serif; font-size:16px;'>\n",
    "    <strong> Lesson: </strong> Behind the for loop\n",
    "    \n",
    "  <ul style='font-family: \"Times New Roman\", Times, serif; font-weight:light; color:purple; font-size:16px;'>\n",
    "      <li><b>The iterable protocol</b></li>\n",
    "      <li><b>The iterator protocols  </b></li>\n",
    "      <li><b> Implementing the iter and next methods  </b></li>\n",
    "    \n",
    "  </ul>\n",
    "</p>\n",
    "<p align='justify' style='margin: 10px 20px; line-height:1.5; color: black; font-family: \"Times New Roman\", Times, serif; font-size:16px;'>\n",
    "     To understand how the \"for\" loop works, it is useful to understand the concept of iterables and iterators in Python. <br><br> An iterable is an object that implements the \"iterable protocol\", which means that it defines the \"iter()\" method. The \"iter()\" method returns an iterator, which is an object that implements the \"iterator protocol\". The \"iterator protocol\" defines the \"next()\" method, which returns the next element in the sequence.\n",
    "</p>\n",
    "<h3 style='color:red; font-weight:bold; text-align:center; font-family: \"Times New Roman\", Times, serif;'>The iterable protocol</h3>\n",
    "\n",
    "<p align='justify' style='margin: 10px 20px; line-height:1.5; color: black; font-family: \"Times New Roman\", Times, serif; font-size:16px;'>\n",
    "     To implement the \"iterable protocol\", you can define the \"iter()\" method in your class, and return an iterator object. To implement the \"iterator protocol\", you can define the \"next()\" method in your class, and return the next element in the sequence.\n",
    "</p><br>\n",
    "\n",
    "<p align='justify' style='margin: 10px 20px; line-height:1.5; color: purple; font-family: \"Times New Roman\", Times, serif; font-size:16px;'>\n",
    "     For example, you can define a \"Range\" class that implements the \"iterable protocol\" and the \"iterator protocol\" like this:\n",
    "</p>"
   ]
  },
  {
   "cell_type": "code",
   "execution_count": 35,
   "id": "8c8e2a40",
   "metadata": {
    "slideshow": {
     "slide_type": "subslide"
    }
   },
   "outputs": [],
   "source": [
    "class Range:\n",
    "    def __init__(self, stop):\n",
    "        self.current = 0\n",
    "        self.stop = stop\n",
    "\n",
    "    def __iter__(self):\n",
    "        return self\n",
    "\n",
    "    def __next__(self):\n",
    "        if self.current < self.stop:\n",
    "            result = self.current\n",
    "            self.current += 1\n",
    "            return result\n",
    "        else:\n",
    "            raise StopIteration"
   ]
  },
  {
   "cell_type": "markdown",
   "id": "ed9e1ed7",
   "metadata": {
    "slideshow": {
     "slide_type": "subslide"
    }
   },
   "source": [
    "<p align='justify' style='margin: 10px 20px; line-height:1.5; color: black; font-family: \"Times New Roman\", Times, serif; font-size:16px;'>\n",
    "     In this example, the \"Range\" class defines the \"init()\" method to initialize the \"current\" and \"stop\" attributes, and the \"iter()\" method to return \"self\", which is the \"Range\" object itself. The \"next()\" method returns the \"current\" element, and increments the \"current\" attribute by one. When the \"current\" attribute is equal to the \"stop\" attribute, the \"next()\" method raises the \"StopIteration\" exception, which indicates the end of the sequence.\n",
    "</p><br>\n",
    "<p align='justify' style='margin: 10px 20px; line-height:1.5; color: purple; font-family: \"Times New Roman\", Times, serif; font-size:16px;'>\n",
    "     To use the \"Range\" class, you can create a \"Range\" object and iterate over it using a \"for\" loop:\n",
    "\n",
    "</p>"
   ]
  },
  {
   "cell_type": "code",
   "execution_count": 36,
   "id": "d0c8a3a3",
   "metadata": {
    "scrolled": false,
    "slideshow": {
     "slide_type": "subslide"
    }
   },
   "outputs": [
    {
     "name": "stdout",
     "output_type": "stream",
     "text": [
      "0\n",
      "1\n",
      "2\n",
      "3\n",
      "4\n"
     ]
    }
   ],
   "source": [
    "for i in Range(5):\n",
    "    print(i)"
   ]
  },
  {
   "cell_type": "markdown",
   "id": "440a7e76",
   "metadata": {
    "slideshow": {
     "slide_type": "subslide"
    }
   },
   "source": [
    "<p align='justify' style='margin: 10px 20px; line-height:1.5; color: black; font-family: \"Times New Roman\", Times, serif; font-size:16px;'>\n",
    "     In this example, a \"Range\" object is created with the value \"5\", which indicates that the sequence should contain five elements. The \"for\" loop iterates over the \"Range\" object, and prints each element. \n",
    "</p><br>\n",
    "<p align='justify' style='margin: 10px 20px; line-height:1.5; color: black; font-family: \"Times New Roman\", Times, serif; font-size:16px;'>\n",
    "     The \"for\" loop is a powerful control structure in Python that allows you to iterate over a sequence of elements, and is implemented using the \"iterable\" and \"iterator\" protocols, which define the \"iter()\" and \"next()\" methods, respectively. You can use the \"for\" loop to iterate over lists, tuples, strings, and other types of sequences \n",
    "</p>"
   ]
  },
  {
   "cell_type": "markdown",
   "id": "7daecff7",
   "metadata": {
    "slideshow": {
     "slide_type": "slide"
    }
   },
   "source": [
    "<h2 style='color:red; font-weight:bold; text-align:center; font-family: \"Times New Roman\", Times, serif;'>DECORATORS AND METACLASSES</h2>\n",
    "\n",
    "<p align='justify' style='margin: 10px 20px; line-height:1.5;color : purple; font-family: \"Times New Roman\", Times, serif; font-size:16px;'>\n",
    "    <strong> Lesson: </strong> Decorators and metaclasses\n",
    "    \n",
    "  <ul style='font-family: \"Times New Roman\", Times, serif; font-weight:light; color:purple; font-size:16px;'>\n",
    "      <li><b>Defining and using decorators </b></li>\n",
    "      <li><b>Implementing metaclasses   </b></li>\n",
    "      \n",
    "    \n",
    "  </ul>\n",
    "</p><br>\n",
    "<p align='justify' style='margin: 10px 20px; line-height:1.5; color: black; font-family: \"Times New Roman\", Times, serif; font-size:16px;'>\n",
    "     Decorators are a powerful and flexible feature in Python that allows you to modify the behavior of a function or a class. A decorator is a function that takes another function as an argument, and returns a modified version of the original function. <br><br>To define a decorator in Python, you can use the \"@\" symbol followed by the name of the decorator, and place it above the definition of the decorated function.\n",
    "</p><br>\n",
    "<p align='justify' style='margin: 10px 20px; line-height:1.5; color: purple; font-family: \"Times New Roman\", Times, serif; font-size:16px;'>\n",
    "      For example, you can define a \"decorator\" function that adds a prefix to the output of a decorated function like this:\n",
    "\n",
    "\n",
    "</p>"
   ]
  },
  {
   "cell_type": "code",
   "execution_count": 38,
   "id": "707fb5cc",
   "metadata": {
    "slideshow": {
     "slide_type": "subslide"
    }
   },
   "outputs": [],
   "source": [
    "def decorator(func):\n",
    "    def wrapper(*args, **kwargs):\n",
    "        print(\"[INFO] Before calling the decorated function\")\n",
    "        result = func(*args, **kwargs)\n",
    "        print(\"[INFO] After calling the decorated function\")\n",
    "        return result\n",
    "    return wrapper\n",
    "\n",
    "@decorator\n",
    "def greet(name):\n",
    "    print(f\"Hello, {name}!\")\n"
   ]
  },
  {
   "cell_type": "markdown",
   "id": "dc0e9911",
   "metadata": {
    "slideshow": {
     "slide_type": "subslide"
    }
   },
   "source": [
    "<p align='justify' style='margin: 10px 20px; line-height:1.5; color: black; font-family: \"Times New Roman\", Times, serif; font-size:16px;'>\n",
    "     In this example, the \"decorator\" function defines a \"wrapper\" function that adds a prefix to the output of the decorated function. The \"wrapper\" function calls the decorated function, and returns its result. The \"greet\" function is decorated with the \"@decorator\" symbol, which means it will be modified by the \"decorator\" function.\n",
    "</p><br>\n",
    "<p align='justify' style='margin: 10px 20px; line-height:1.5; color: purple; font-family: \"Times New Roman\", Times, serif; font-size:16px;'>\n",
    "     To use the decorated \"greet\" function, you can call it like a normal function:\n",
    "</p>"
   ]
  },
  {
   "cell_type": "code",
   "execution_count": 39,
   "id": "d791346e",
   "metadata": {
    "scrolled": true,
    "slideshow": {
     "slide_type": "subslide"
    }
   },
   "outputs": [
    {
     "name": "stdout",
     "output_type": "stream",
     "text": [
      "[INFO] Before calling the decorated function\n",
      "Hello, Alice!\n",
      "[INFO] After calling the decorated function\n"
     ]
    }
   ],
   "source": [
    "greet(\"Alice\")"
   ]
  },
  {
   "cell_type": "markdown",
   "id": "7cd8c912",
   "metadata": {
    "slideshow": {
     "slide_type": "subslide"
    }
   },
   "source": [
    "<p align='justify' style='margin: 10px 20px; line-height:1.5; color: purple; font-family: \"Times New Roman\", Times, serif; font-size:16px;'>\n",
    "     Decorators are useful to add additional behavior to a function without modifying its code, or to apply the same modification to multiple functions. You can use decorators to add logging, caching, authentication, and other functionality to your functions.\n",
    "</p>"
   ]
  },
  {
   "cell_type": "markdown",
   "id": "f0508004",
   "metadata": {
    "slideshow": {
     "slide_type": "subslide"
    }
   },
   "source": [
    "<h3 style='color:red; font-weight:bold; text-align:center; font-family: \"Times New Roman\", Times, serif;'>Implementing metaclasses\n",
    "</h3>\n",
    "\n",
    "\n",
    "<p align='justify' style='margin: 10px 20px; line-height:1.5; color: black; font-family: \"Times New Roman\", Times, serif; font-size:16px;'>\n",
    "     Metaclasses are a powerful and advanced feature in Python that allows you to create classes at runtime, and customize their behavior. A metaclass is a class that defines the behavior of a class, and is defined using the \"class\" statement.\n",
    "</p><br>\n",
    "\n",
    "\n",
    "<p align='justify' style='margin: 10px 20px; line-height:1.5; color: black; font-family: \"Times New Roman\", Times, serif; font-size:16px;'>\n",
    "     To define a metaclass in Python, you can create a class that inherits from the \"type\" class, and override its \"new\" and \"init\" methods. The \"new\" method is called when the metaclass is invoked to create a new class, and the \"init\" method is called when the new class is initialized.\n",
    "</p><br>\n",
    "\n",
    "\n",
    "<p align='justify' style='margin: 10px 20px; line-height:1.5; color: purple; font-family: \"Times New Roman\", Times, serif; font-size:16px;'>\n",
    "     For example, you can define a \"MyMeta\" metaclass that adds a \"greet\" method to all the classes it creates like this:\n",
    "</p>"
   ]
  },
  {
   "cell_type": "code",
   "execution_count": 40,
   "id": "993472e8",
   "metadata": {
    "slideshow": {
     "slide_type": "subslide"
    }
   },
   "outputs": [
    {
     "name": "stdout",
     "output_type": "stream",
     "text": [
      "Hello, Alice!\n"
     ]
    }
   ],
   "source": [
    "class MyMeta(type):\n",
    "    def __new__(mcs, name, bases, attrs):\n",
    "        attrs[\"greet\"] = lambda self: print(f\"Hello, {self.name}!\")\n",
    "        return super().__new__(mcs, name, bases, attrs)\n",
    "\n",
    "class Person(metaclass=MyMeta):\n",
    "    def __init__(self, name):\n",
    "        self.name = name\n",
    "\n",
    "alice = Person(\"Alice\")\n",
    "alice.greet()"
   ]
  },
  {
   "cell_type": "markdown",
   "id": "9fe66640",
   "metadata": {
    "slideshow": {
     "slide_type": "subslide"
    }
   },
   "source": [
    "<p align='justify' style='margin: 10px 20px; line-height:1.5; color: black; font-family: \"Times New Roman\", Times, serif; font-size:16px;'>\n",
    "     In this code, the \"MyMeta\" class is a metaclass that defines a custom \"new\" method. This method is called when a new class is created and it allows you to customize the class definition by adding or modifying attributes. <br><br>In the \"new\" method, the \"greet\" attribute is added to the class attributes dictionary and then the method calls the \"super().new\" method to create the class object. This means that the \"greet\" attribute will be added to all instances of the \"Person\" class.<br><br> The \"Person\" class is defined using the \"metaclass\" keyword and passing the \"MyMeta\" class as the metaclass. This means that when the \"Person\" class is created, the \"new\" method of the \"MyMeta\" metaclass will be called to customize the class definition. <br><br> Finally, an instance of the \"Person\" class is created and the \"greet\" method is called on it. This will print \"Hello, Alice!\" to the console.\n",
    "</p><br>\n",
    "<p align='justify' style='margin: 10px 20px; line-height:1.5; color: purple; font-family: \"Times New Roman\", Times, serif; font-size:16px;'>\n",
    "     This code demonstrates how metaclasses can be used to customize the definition of a class and add new attributes to all instances of the class.\n",
    "</p><br>\n",
    "<p align='justify' style='margin: 10px 20px; line-height:1.5; color: black; font-family: \"Times New Roman\", Times, serif; font-size:16px;'>\n",
    "     Another use of metaclasses is to create singleton classes, which are classes that can have only one instance. A singleton class is useful when you want to ensure that only one instance of a class exists and that all references to that instance refer to the same object. Here is an example of how to create a singleton class using a metaclass:\n",
    "</p>"
   ]
  },
  {
   "cell_type": "code",
   "execution_count": 41,
   "id": "922adc23",
   "metadata": {
    "slideshow": {
     "slide_type": "subslide"
    }
   },
   "outputs": [
    {
     "name": "stdout",
     "output_type": "stream",
     "text": [
      "True\n",
      "1\n"
     ]
    }
   ],
   "source": [
    "class SingletonMeta(type):\n",
    "    def __init__(cls, name, bases, attrs, **kwargs):\n",
    "        super().__init__(name, bases, attrs)\n",
    "        cls._instance = None\n",
    "    \n",
    "    def __call__(cls, *args, **kwargs):\n",
    "        if cls._instance is None:\n",
    "            cls._instance = super().__call__(*args, **kwargs)\n",
    "        return cls._instance\n",
    "\n",
    "class MyClass(metaclass=SingletonMeta):\n",
    "    def __init__(self, value):\n",
    "        self.value = value\n",
    "\n",
    "a = MyClass(1)\n",
    "b = MyClass(2)\n",
    "\n",
    "print(a is b)  # prints True\n",
    "print(a.value)  # prints 1"
   ]
  },
  {
   "cell_type": "markdown",
   "id": "499dfa76",
   "metadata": {
    "slideshow": {
     "slide_type": "subslide"
    }
   },
   "source": [
    "<p align='justify' style='margin: 10px 20px; line-height:1.5; color: black; font-family: \"Times New Roman\", Times, serif; font-size:16px;'>\n",
    "     In this code, the \"SingletonMeta\" class is a metaclass that defines a custom \"init\" and \"call\" method. The \"init\" method initializes the superclass and sets the \"_instance\" attribute to None. The \"call\" method is called when the class is called to create an instance and it checks if the \"_instance\" attribute is None. If it is, it creates a new instance using the \"super().call\" method and assigns it to the \"_instance\" attribute. If the \"_instance\" attribute is not None, it simply returns the existing instance.<br><br>The \"MyClass\" class is defined using the \"metaclass\" keyword and passing the \"SingletonMeta\" class as the metaclass. This means that when the \"MyClass\" class is created, the \"init\" and \"call\" methods of the \"SingletonMeta\" metaclass will be called to customize the class definition.<br><br>Finally, two instances of the \"MyClass\" class are created and the \"is\" operator is used to compare them. Since the \"MyClass\" class is a singleton, the \"is\" operator will return True, indicating that the two instances are the same object. The \"value\" attribute of the first instance is also printed, which will print 1.\n",
    "</p>"
   ]
  },
  {
   "cell_type": "markdown",
   "id": "f9e86b23",
   "metadata": {
    "slideshow": {
     "slide_type": "slide"
    }
   },
   "source": [
    "<h2 style='color:red; font-weight:bold; text-align:center; font-family: \"Times New Roman\", Times, serif;'>REGULAR EXPRESSIONS</h2>\n",
    "\n",
    "<p align='justify' style='margin: 10px 20px; line-height:1.5;color : purple; font-family: \"Times New Roman\", Times, serif; font-size:16px;'>\n",
    "    <strong> Lesson: </strong> Regular Expressions\n",
    "    \n",
    "  <ul style='font-family: \"Times New Roman\", Times, serif; font-weight:light; color:purple; font-size:16px;'>\n",
    "      <li><b>Matching patterns in strings </b></li>\n",
    "      <li><b>Extracting data from strings using regex </b></li>\n",
    "      <li><b>Modifying strings using regex </b></li>\n",
    "      \n",
    "    \n",
    "  </ul>\n",
    "</p>\n",
    "\n",
    "<p align='justify' style='margin: 10px 20px; line-height:1.5; color: black; font-family: \"Times New Roman\", Times, serif; font-size:16px;'>\n",
    "     Regular expressions, or \"regex\" for short, are a powerful tool for manipulating and working with strings. They allow you to specify a pattern to match in a string, and can be used to search, replace, or extract information from text.\n",
    "</p><br>\n",
    "\n",
    "<p align='justify' style='margin: 10px 20px; line-height:1.5; color: purple; font-family: \"Times New Roman\", Times, serif; font-size:16px;'>\n",
    "     Here are some examples of how to use regular expressions to match patterns in strings:\n",
    "</p>"
   ]
  },
  {
   "cell_type": "code",
   "execution_count": 43,
   "id": "fd34e0d6",
   "metadata": {
    "slideshow": {
     "slide_type": "subslide"
    }
   },
   "outputs": [
    {
     "name": "stdout",
     "output_type": "stream",
     "text": [
      "Match found!\n",
      "Match not found.\n",
      "Match found!\n"
     ]
    }
   ],
   "source": [
    "import re\n",
    "\n",
    "# match a specific string\n",
    "pattern = \"Hello\"\n",
    "text = \"Hello, world!\"\n",
    "\n",
    "if re.match(pattern, text):\n",
    "    print(\"Match found!\")\n",
    "else:\n",
    "    print(\"Match not found.\")\n",
    "\n",
    "# match any digit\n",
    "pattern = r\"\\d\"\n",
    "text = \"The quick brown fox jumps over the lazy dog.\"\n",
    "\n",
    "if re.search(pattern, text):\n",
    "    print(\"Match found!\")\n",
    "else:\n",
    "    print(\"Match not found.\")\n",
    "\n",
    "# match any word character\n",
    "pattern = r\"\\w\"\n",
    "text = \"The quick brown fox jumps over the lazy dog.\"\n",
    "\n",
    "if re.search(pattern, text):\n",
    "    print(\"Match found!\")\n",
    "else:\n",
    "    print(\"Match not found.\")"
   ]
  },
  {
   "cell_type": "markdown",
   "id": "16989c5f",
   "metadata": {
    "slideshow": {
     "slide_type": "subslide"
    }
   },
   "source": [
    "<p align='justify' style='margin: 10px 20px; line-height:1.5; color: black; font-family: \"Times New Roman\", Times, serif; font-size:16px;'>\n",
    "     In this code, the \"match\" function is used to try to match a specific string, while the \"search\" function is used to search for a pattern in a string. <br><br>The \"\\d\" pattern matches any digit, while the \"\\w\" pattern matches any word character (alphanumeric character or underscore).\n",
    "</p>"
   ]
  },
  {
   "cell_type": "markdown",
   "id": "36f731a0",
   "metadata": {
    "slideshow": {
     "slide_type": "subslide"
    }
   },
   "source": [
    "<h3 style='color:red; font-weight:bold; text-align:center; font-family: \"Times New Roman\", Times, serif;'>Extracting data from strings using regex</h3>\n",
    "<p align='justify' style='margin: 10px 20px; line-height:1.5; color: black; font-family: \"Times New Roman\", Times, serif; font-size:16px;'>\n",
    "     To extract data from a string using a regular expression in Python, you can use the \"search\" or \"findall\" functions from the \"re\" module.<br><br>The \"search\" function returns a match object if the pattern is found in the string, and \"None\" if the pattern is not found. You can then use the \"group\" method of the match object to extract the matched substrings. For example:\n",
    "</p>"
   ]
  },
  {
   "cell_type": "code",
   "execution_count": 44,
   "id": "693b9c3c",
   "metadata": {
    "slideshow": {
     "slide_type": "subslide"
    }
   },
   "outputs": [
    {
     "name": "stdout",
     "output_type": "stream",
     "text": [
      "World\n"
     ]
    }
   ],
   "source": [
    "import re\n",
    "\n",
    "string = \"Hello, World!\"\n",
    "pattern = r\"World\"\n",
    "\n",
    "match = re.search(pattern, string)\n",
    "if match:\n",
    "    print(match.group())"
   ]
  },
  {
   "cell_type": "markdown",
   "id": "65b313cd",
   "metadata": {
    "slideshow": {
     "slide_type": "subslide"
    }
   },
   "source": [
    "<p align='justify' style='margin: 10px 20px; line-height:1.5; color: black; font-family: \"Times New Roman\", Times, serif; font-size:16px;'>\n",
    "     The \"findall\" function returns a list of all the matched substrings in the string. For example:\n",
    "</p>"
   ]
  },
  {
   "cell_type": "code",
   "execution_count": 45,
   "id": "54193220",
   "metadata": {
    "slideshow": {
     "slide_type": "subslide"
    }
   },
   "outputs": [
    {
     "name": "stdout",
     "output_type": "stream",
     "text": [
      "['ll', 'l']\n"
     ]
    }
   ],
   "source": [
    "import re\n",
    "\n",
    "string = \"Hello, World!\"\n",
    "pattern = r\"l+\"\n",
    "\n",
    "matches = re.findall(pattern, string)\n",
    "print(matches)  # ['ll', 'l']"
   ]
  },
  {
   "cell_type": "markdown",
   "id": "5f1a8a32",
   "metadata": {
    "slideshow": {
     "slide_type": "subslide"
    }
   },
   "source": [
    "<p align='justify' style='margin: 10px 20px; line-height:1.5; color: black; font-family: \"Times New Roman\", Times, serif; font-size:16px;'>\n",
    "     You can also use capture groups in your regular expression pattern to extract specific parts of the matched substrings. Capture groups are defined using parentheses, and you can access them using the \"groups\" method of the match object, or by using the \"group\" method with the index of the capture group as an argument.<br><br>For example:\n",
    "</p>"
   ]
  },
  {
   "cell_type": "code",
   "execution_count": 46,
   "id": "f20768e9",
   "metadata": {
    "slideshow": {
     "slide_type": "subslide"
    }
   },
   "outputs": [
    {
     "name": "stdout",
     "output_type": "stream",
     "text": [
      "('ll', 'o,')\n",
      "ll\n",
      "o,\n"
     ]
    }
   ],
   "source": [
    "import re\n",
    "\n",
    "string = \"Hello, World!\"\n",
    "pattern = r\"(l+)(o,)\"\n",
    "\n",
    "match = re.search(pattern, string)\n",
    "if match:\n",
    "    print(match.groups())  # ('ll', 'o,')\n",
    "    print(match.group(1))  # 'll'\n",
    "    print(match.group(2))  # 'o,'"
   ]
  },
  {
   "cell_type": "markdown",
   "id": "3f1f410f",
   "metadata": {
    "slideshow": {
     "slide_type": "subslide"
    }
   },
   "source": [
    "<p align='justify' style='margin: 10px 20px; line-height:1.5; color: black; font-family: \"Times New Roman\", Times, serif; font-size:16px;'>\n",
    "     In this example, we import the \"re\" module and define a string and a regular expression pattern. The pattern consists of two capture groups, defined using parentheses. <br><br>We then use the \"search\" function to search for the pattern in the string. If a match is found, the function returns a match object. We can then use the \"groups\" method of the match object to extract the values of the capture groups as a tuple. We can also use the \"group\" method with the index of the capture group as an argument to extract the value of a specific capture group. <br><br>In this case, the pattern matches the substring \"llo,\" in the string \"Hello, World!\", so the \"groups\" method returns the tuple ('ll', 'o,') and the \"group\" method with index 1 returns the string 'll'.\n",
    "</p>"
   ]
  },
  {
   "cell_type": "markdown",
   "id": "279f6435",
   "metadata": {
    "slideshow": {
     "slide_type": "subslide"
    }
   },
   "source": [
    "<h3 style='color:red; font-weight:bold; text-align:center; font-family: \"Times New Roman\", Times, serif;'>Modifying strings using regex</h3>\n",
    "<p align='justify' style='margin: 10px 20px; line-height:1.5; color: black; font-family: \"Times New Roman\", Times, serif; font-size:16px;'>\n",
    "     To modify a string using a regular expression in Python, you can use the \"sub\" function from the \"re\" module.<br><br>The \"sub\" function takes three arguments: the pattern to search for, the replacement string, and the string to modify. It returns a new string with all the occurrences of the pattern replaced by the replacement string.<br><br>For example:\n",
    "</p>"
   ]
  },
  {
   "cell_type": "code",
   "execution_count": 47,
   "id": "f7934664",
   "metadata": {
    "slideshow": {
     "slide_type": "subslide"
    }
   },
   "outputs": [
    {
     "name": "stdout",
     "output_type": "stream",
     "text": [
      "Hello, Universe!\n"
     ]
    }
   ],
   "source": [
    "import re\n",
    "\n",
    "string = \"Hello, World!\"\n",
    "pattern = r\"World\"\n",
    "replacement = \"Universe\"\n",
    "\n",
    "modified_string = re.sub(pattern, replacement, string)\n",
    "print(modified_string)  # \"Hello, Universe!\""
   ]
  },
  {
   "cell_type": "markdown",
   "id": "8119b915",
   "metadata": {
    "slideshow": {
     "slide_type": "subslide"
    }
   },
   "source": [
    "<p align='justify' style='margin: 10px 20px; line-height:1.5; color: black; font-family: \"Times New Roman\", Times, serif; font-size:16px;'>\n",
    "     You can also use capture groups in your regular expression pattern and reference them in the replacement string using backslashes and the index of the capture group.<br><br>For example:\n",
    "</p>"
   ]
  },
  {
   "cell_type": "code",
   "execution_count": 48,
   "id": "f7620a4e",
   "metadata": {
    "slideshow": {
     "slide_type": "subslide"
    }
   },
   "outputs": [
    {
     "name": "stdout",
     "output_type": "stream",
     "text": [
      "Hello, World\n"
     ]
    }
   ],
   "source": [
    "import re\n",
    "\n",
    "string = \"Hello, World!\"\n",
    "pattern = r\"(H)(e)(l)(l)(o), (W)(o)(r)(l)(d)!\"\n",
    "replacement = r\"\\1\\2\\3\\4\\5, \\6\\7\\8\\9\\10\"\n",
    "\n",
    "modified_string = re.sub(pattern, replacement, string)\n",
    "print(modified_string)  # \"Hello, World!\""
   ]
  },
  {
   "cell_type": "markdown",
   "id": "2d2ec3ed",
   "metadata": {
    "slideshow": {
     "slide_type": "slide"
    }
   },
   "source": [
    "<h2 style='color:red; font-weight:bold; text-align:center; font-family: \"Times New Roman\", Times, serif;'>TIME</h2>\n",
    "\n",
    "<p align='justify' style='margin: 10px 20px; line-height:1.5;color : purple; font-family: \"Times New Roman\", Times, serif; font-size:16px;'>\n",
    "    <strong> Lesson: </strong> Time\n",
    "    \n",
    "  <ul style='font-family: \"Times New Roman\", Times, serif; font-weight:light; color:purple; font-size:16px;'>\n",
    "      <li><b>Working with dates and times </b></li>\n",
    "      <li><b>Measuring elapsed time </b></li>\n",
    "      <li><b>Formatting and parsing dates and times </b></li>\n",
    "      \n",
    "    \n",
    "  </ul>\n",
    "</p>\n",
    "<p align='justify' style='margin: 10px 20px; line-height:1.5; color: black; font-family: \"Times New Roman\", Times, serif; font-size:16px;'>\n",
    "     To work with dates and times in Python, you can use the \"datetime\" module from the standard library.<br><br>To get the current date and time, you can use the \"datetime.datetime.now()\" function. It returns a \"datetime\" object representing the current date and time in the local timezone.<br><br> For example\n",
    "</p>"
   ]
  },
  {
   "cell_type": "code",
   "execution_count": 49,
   "id": "fd10f0ea",
   "metadata": {
    "slideshow": {
     "slide_type": "subslide"
    }
   },
   "outputs": [
    {
     "name": "stdout",
     "output_type": "stream",
     "text": [
      "2023-01-22 11:49:58.470687\n"
     ]
    }
   ],
   "source": [
    "import datetime\n",
    "\n",
    "now = datetime.datetime.now()\n",
    "print(now)  # Outputs something like: 2022-01-01 12:34:56.789012"
   ]
  },
  {
   "cell_type": "markdown",
   "id": "a79b5340",
   "metadata": {
    "slideshow": {
     "slide_type": "subslide"
    }
   },
   "source": [
    "<p align='justify' style='margin: 10px 20px; line-height:1.5; color: black; font-family: \"Times New Roman\", Times, serif; font-size:16px;'>\n",
    "     You can access the individual components of the date and time using the attributes of the \"datetime\" object, such as \"year\", \"month\", \"day\", \"hour\", \"minute\", \"second\", and \"microsecond\". <br><br>To measure elapsed time, you can use the \"datetime.datetime.timedelta\" class. It represents a duration, and you can use it to perform arithmetic with \"datetime\" objects. <br><br>For example:\n",
    "</p>"
   ]
  },
  {
   "cell_type": "code",
   "execution_count": 50,
   "id": "209a348b",
   "metadata": {
    "slideshow": {
     "slide_type": "subslide"
    }
   },
   "outputs": [
    {
     "name": "stdout",
     "output_type": "stream",
     "text": [
      "0:00:00.000048\n"
     ]
    }
   ],
   "source": [
    "import datetime\n",
    "\n",
    "start = datetime.datetime.now()\n",
    "\n",
    "# Do some time-consuming operation\n",
    "\n",
    "end = datetime.datetime.now()\n",
    "elapsed = end - start\n",
    "print(elapsed)  # Outputs something like: 0:00:01.234567"
   ]
  },
  {
   "cell_type": "markdown",
   "id": "8241758f",
   "metadata": {
    "slideshow": {
     "slide_type": "subslide"
    }
   },
   "source": [
    "<p align='justify' style='margin: 10px 20px; line-height:1.5; color: black; font-family: \"Times New Roman\", Times, serif; font-size:16px;'>\n",
    "     To format and parse dates and times, you can use the \"strftime\" and \"strptime\" functions from the \"datetime\" module. <br><br>The \"strftime\" function allows you to format a \"datetime\" object as a string, using a format string that specifies the layout of the output string. The \"strptime\" function allows you to parse a string into a \"datetime\" object, using a format string that specifies the layout of the input string. <br><br>For example:\n",
    "</p>"
   ]
  },
  {
   "cell_type": "code",
   "execution_count": 51,
   "id": "3fd4fe58",
   "metadata": {
    "slideshow": {
     "slide_type": "subslide"
    }
   },
   "outputs": [
    {
     "name": "stdout",
     "output_type": "stream",
     "text": [
      "2023-01-22 11:51:31\n",
      "2022-01-01 12:34:56\n"
     ]
    }
   ],
   "source": [
    "import datetime\n",
    "\n",
    "now = datetime.datetime.now()\n",
    "\n",
    "# Format the date and time as a string\n",
    "formatted = now.strftime(\"%Y-%m-%d %H:%M:%S\")\n",
    "print(formatted)  # Outputs something like: 2022-01-01 12:34:56\n",
    "\n",
    "# Parse a string into a datetime object\n",
    "parsed = datetime.datetime.strptime(\"2022-01-01 12:34:56\", \"%Y-%m-%d %H:%M:%S\")\n",
    "print(parsed)  # Outputs something like: 2022-01-01 12:34:56"
   ]
  },
  {
   "cell_type": "markdown",
   "id": "8b7a16df",
   "metadata": {
    "slideshow": {
     "slide_type": "subslide"
    }
   },
   "source": [
    "<p align='justify' style='margin: 10px 20px; line-height:1.5; color: black; font-family: \"Times New Roman\", Times, serif; font-size:16px;'>\n",
    "     To work with time zones in Python, you can use the \"pytz\" module. It provides support for working with time zones, and it is based on the \"tz\" database, which is a widely used source of time zone information. <br><br> To install the \"pytz\" module, you can use the \"pip\" package manager:\n",
    "</p>"
   ]
  },
  {
   "cell_type": "code",
   "execution_count": 52,
   "id": "5362ccca",
   "metadata": {
    "slideshow": {
     "slide_type": "subslide"
    }
   },
   "outputs": [
    {
     "name": "stdout",
     "output_type": "stream",
     "text": [
      "Requirement already satisfied: pytz in ./anaconda3/lib/python3.9/site-packages (2022.1)\n",
      "Note: you may need to restart the kernel to use updated packages.\n"
     ]
    }
   ],
   "source": [
    "pip install pytz"
   ]
  },
  {
   "cell_type": "markdown",
   "id": "426b2559",
   "metadata": {
    "slideshow": {
     "slide_type": "subslide"
    }
   },
   "source": [
    "<p align='justify' style='margin: 10px 20px; line-height:1.5; color: purple; font-family: \"Times New Roman\", Times, serif; font-size:16px;'>\n",
    "     To use the \"pytz\" module, you first need to import it:\n",
    "</p>"
   ]
  },
  {
   "cell_type": "code",
   "execution_count": 53,
   "id": "64b5b90f",
   "metadata": {
    "slideshow": {
     "slide_type": "subslide"
    }
   },
   "outputs": [],
   "source": [
    "import pytz"
   ]
  },
  {
   "cell_type": "markdown",
   "id": "76d5f898",
   "metadata": {
    "slideshow": {
     "slide_type": "subslide"
    }
   },
   "source": [
    "<p align='justify' style='margin: 10px 20px; line-height:1.5; color: purple; font-family: \"Times New Roman\", Times, serif; font-size:16px;'>\n",
    "     To get a list of available time zones, you can use the \"pytz.all_timezones\" attribute:\n",
    "</p>"
   ]
  },
  {
   "cell_type": "code",
   "execution_count": 54,
   "id": "13df976d",
   "metadata": {
    "slideshow": {
     "slide_type": "subslide"
    }
   },
   "outputs": [],
   "source": [
    "import pytz\n",
    "\n",
    "#print(pytz.all_timezones)  # Outputs a list of time zones, such as: ['Africa/Abidjan', 'Africa/Accra', ...]"
   ]
  },
  {
   "cell_type": "markdown",
   "id": "456dda5a",
   "metadata": {
    "slideshow": {
     "slide_type": "subslide"
    }
   },
   "source": [
    "<p align='justify' style='margin: 10px 20px; line-height:1.5; color: purple; font-family: \"Times New Roman\", Times, serif; font-size:16px;'>\n",
    "     To get a \"datetime\" object in a specific time zone, you can use the \"pytz.timezone\" function:\n",
    "</p>"
   ]
  },
  {
   "cell_type": "code",
   "execution_count": 55,
   "id": "4c794c23",
   "metadata": {
    "slideshow": {
     "slide_type": "subslide"
    }
   },
   "outputs": [
    {
     "name": "stdout",
     "output_type": "stream",
     "text": [
      "2023-01-22 11:52:13.254903+01:00\n"
     ]
    }
   ],
   "source": [
    "import pytz\n",
    "import datetime\n",
    "\n",
    "tz = pytz.timezone(\"Europe/Paris\")\n",
    "now = tz.localize(datetime.datetime.now())\n",
    "print(now)  # Outputs something like: 2022-01-01 12:34:56+01:00"
   ]
  },
  {
   "cell_type": "markdown",
   "id": "1abf9b87",
   "metadata": {
    "slideshow": {
     "slide_type": "subslide"
    }
   },
   "source": [
    "<p align='justify' style='margin: 10px 20px; line-height:1.5; color: purple; font-family: \"Times New Roman\", Times, serif; font-size:16px;'>\n",
    "     To convert a \"datetime\" object from one time zone to another, you can use the \"astimezone\" method:\n",
    "</p>"
   ]
  },
  {
   "cell_type": "code",
   "execution_count": 56,
   "id": "e7743560",
   "metadata": {
    "slideshow": {
     "slide_type": "subslide"
    }
   },
   "outputs": [
    {
     "name": "stdout",
     "output_type": "stream",
     "text": [
      "2023-01-22 19:52:21.036846+09:00\n"
     ]
    }
   ],
   "source": [
    "import pytz\n",
    "import datetime\n",
    "\n",
    "tz1 = pytz.timezone(\"Europe/Paris\")\n",
    "tz2 = pytz.timezone(\"Asia/Tokyo\")\n",
    "\n",
    "now = tz1.localize(datetime.datetime.now())\n",
    "converted = now.astimezone(tz2)\n",
    "print(converted)  # Outputs something like: 2022-01-01 21:34:56+09:00"
   ]
  },
  {
   "cell_type": "markdown",
   "id": "4e2a47f1",
   "metadata": {
    "slideshow": {
     "slide_type": "subslide"
    }
   },
   "source": [
    "<p align='justify' style='margin: 10px 20px; line-height:1.5; color: purple; font-family: \"Times New Roman\", Times, serif; font-size:16px;'>\n",
    "     These are just a few examples of how you can work with time zones in Python using the \"pytz\" module. There are many more functions and features available that you can use to customize your time zone handling as needed.\n",
    "</p>"
   ]
  },
  {
   "cell_type": "markdown",
   "id": "9ceffaa1",
   "metadata": {
    "slideshow": {
     "slide_type": "slide"
    }
   },
   "source": [
    "<h2 style='color:red; font-weight:bold; text-align:center; font-family: \"Times New Roman\", Times, serif;'>MATH</h2>\n",
    "\n",
    "<p align='justify' style='margin: 10px 20px; line-height:1.5;color : purple; font-family: \"Times New Roman\", Times, serif; font-size:16px;'>\n",
    "    <strong> Lesson: </strong> Math\n",
    "    \n",
    "  <ul style='font-family: \"Times New Roman\", Times, serif; font-weight:light; color:purple; font-size:16px;'>\n",
    "      <li><b>Basic math operations </b></li>\n",
    "      <li><b>Advanced math functions and constants</b></li>\n",
    "      <li><b>Working with complex numbers </b></li>\n",
    "      \n",
    "    \n",
    "  </ul>\n",
    "</p>\n",
    "<p align='justify' style='margin: 10px 20px; line-height:1.5; color: black; font-family: \"Times New Roman\", Times, serif; font-size:16px;'>\n",
    "     Python provides a number of built-in functions and modules for performing basic math operations and advanced mathematical calculations.\n",
    "</p>\n",
    "<h3 style='color:red; font-weight:bold; text-align:center; font-family: \"Times New Roman\", Times, serif;'>Basic math operations</h3>\n",
    "<p align='justify' style='margin: 10px 20px; line-height:1.5; color: black; font-family: \"Times New Roman\", Times, serif; font-size:16px;'>\n",
    "     Python has a number of built-in functions for performing basic math operations, such as addition, subtraction, multiplication, and division. For example, you can use the \"+\" operator to add two numbers together, or you can use the \"math.sqrt()\" function to calculate the square root of a number. Basic math operations in Python are very similar to basic math operations in other programming languages and in everyday life. \n",
    "</p><br>\n",
    "\n",
    "<p align='justify' style='margin: 10px 20px; line-height:1.5;color : purple; font-family: \"Times New Roman\", Times, serif; font-size:16px;'>\n",
    "    You can use the following operators to perform basic math operations in Python:\n",
    "    \n",
    "  <ul style='font-family: \"Times New Roman\", Times, serif; font-weight:light; color:purple; font-size:16px;'>\n",
    "      <li><b>+</b> for addition</li>\n",
    "      <li><b>-</b> for subtraction</li>\n",
    "      <li><b>*</b> for multiplication</li>\n",
    "      <li><b>/</b> for division </li>\n",
    "      <li><b>**</b> for exponentiation (raising a number to a power) </li>\n",
    "      \n",
    "  </ul>\n",
    "</p>\n",
    "<p align='justify' style='margin: 10px 20px; line-height:1.5; color: black; font-family: \"Times New Roman\", Times, serif; font-size:16px;'>\n",
    "     For example: \n",
    "</p>"
   ]
  },
  {
   "cell_type": "code",
   "execution_count": 57,
   "id": "a7f2ca15",
   "metadata": {
    "slideshow": {
     "slide_type": "subslide"
    }
   },
   "outputs": [],
   "source": [
    "# Addition\n",
    "x = 5 + 3  # x is now 8\n",
    "\n",
    "# Subtraction\n",
    "y = 10 - 2  # y is now 8\n",
    "\n",
    "# Multiplication\n",
    "z = 4 * 2  # z is now 8\n",
    "\n",
    "# Division\n",
    "a = 12 / 3  # a is now 4.0\n",
    "\n",
    "# Exponentiation\n",
    "b = 2 ** 3  # b is now 8"
   ]
  },
  {
   "cell_type": "markdown",
   "id": "90ff95e3",
   "metadata": {
    "slideshow": {
     "slide_type": "subslide"
    }
   },
   "source": [
    "<h3 style='color:red; font-weight:bold; text-align:center; font-family: \"Times New Roman\", Times, serif;'>Advanced math functions and constants</h3>\n",
    "<p align='justify' style='margin: 10px 20px; line-height:1.5; color: black; font-family: \"Times New Roman\", Times, serif; font-size:16px;'>\n",
    "     You can also use the \"math\" module to perform more advanced math operations. To use the \"math module, you need to import it first:\n",
    "</p>"
   ]
  },
  {
   "cell_type": "code",
   "execution_count": 58,
   "id": "b9af407e",
   "metadata": {
    "slideshow": {
     "slide_type": "subslide"
    }
   },
   "outputs": [],
   "source": [
    "import math"
   ]
  },
  {
   "cell_type": "markdown",
   "id": "477e5236",
   "metadata": {
    "slideshow": {
     "slide_type": "subslide"
    }
   },
   "source": [
    "<p align='justify' style='margin: 10px 20px; line-height:1.5;color : purple; font-family: \"Times New Roman\", Times, serif; font-size:16px;'>\n",
    "    Then you can use various functions and constants from the math module to perform advanced math operations. Here are a few examples:\n",
    "    \n",
    "  <ul style='font-family: \"Times New Roman\", Times, serif; font-weight:light; color:purple; font-size:16px;'>\n",
    "      <li><b>\"math.sqrt\"</b> returns the square root of <b>x</b></li>\n",
    "      <li><b>\"math.pi\"</b> is the value of <b>pi(3.14158..)</b></li>\n",
    "      <li><b>*</b> for multiplication</li>\n",
    "      \n",
    "      \n",
    "  </ul>\n",
    "</p>\n",
    "<p align='justify' style='margin: 10px 20px; line-height:1.5; color: black; font-family: \"Times New Roman\", Times, serif; font-size:16px;'>\n",
    "     For example: \n",
    "</p>"
   ]
  },
  {
   "cell_type": "code",
   "execution_count": 59,
   "id": "f48f7339",
   "metadata": {
    "slideshow": {
     "slide_type": "subslide"
    }
   },
   "outputs": [],
   "source": [
    "import math\n",
    "\n",
    "# Square root\n",
    "x = math.sqrt(9)  # x is now 3.0\n",
    "\n",
    "# Pi\n",
    "y = math.pi  # y is now 3.14159...\n",
    "\n",
    "# Sine\n",
    "z = math.sin(0)  # z is now 0.0"
   ]
  },
  {
   "cell_type": "markdown",
   "id": "06f20440",
   "metadata": {
    "slideshow": {
     "slide_type": "subslide"
    }
   },
   "source": [
    "<h3 style='color:red; font-weight:bold; text-align:center; font-family: \"Times New Roman\", Times, serif;'>Working with complex numbers</h3>\n",
    "<p align='justify' style='margin: 10px 20px; line-height:1.5; color: black; font-family: \"Times New Roman\", Times, serif; font-size:16px;'>\n",
    "     You can also work with complex numbers in Python. A complex number is a number in the form a + bj, where a and b are real numbers and j is the square root of -1. To create a complex number in Python, you can use the complex function or use the j suffix.<br><br>For example:\n",
    "</p>"
   ]
  },
  {
   "cell_type": "code",
   "execution_count": 60,
   "id": "7006273b",
   "metadata": {
    "slideshow": {
     "slide_type": "subslide"
    }
   },
   "outputs": [],
   "source": [
    "# Using the complex function\n",
    "x = complex(1, 2)  # x is now 1+2j\n",
    "\n",
    "# Using the j suffix\n",
    "y = 1 + 2j  # y is now 1+2j"
   ]
  },
  {
   "cell_type": "markdown",
   "id": "6bdb7c0d",
   "metadata": {
    "slideshow": {
     "slide_type": "subslide"
    }
   },
   "source": [
    "<p align='justify' style='margin: 10px 20px; line-height:1.5; color: black; font-family: \"Times New Roman\", Times, serif; font-size:16px;'>\n",
    "     You can perform arithmetic operations on complex numbers just like you would on real numbers. <br><br>For example:\n",
    "</p>"
   ]
  },
  {
   "cell_type": "code",
   "execution_count": 61,
   "id": "72e8bff0",
   "metadata": {
    "slideshow": {
     "slide_type": "subslide"
    }
   },
   "outputs": [],
   "source": [
    "# Addition\n",
    "z = x + y  # z is now 2+4j\n",
    "\n",
    "# Subtraction\n",
    "a = x - y  # a is now 0+0j\n",
    "\n",
    "# Multiplication\n",
    "b = x * y  # b is now -3+2j\n",
    "\n",
    "# Division\n",
    "c = x / y  # c is now 1+0j"
   ]
  },
  {
   "cell_type": "markdown",
   "id": "0b46f219",
   "metadata": {
    "slideshow": {
     "slide_type": "slide"
    }
   },
   "source": [
    "<h2 style='color:red; font-weight:bold; text-align:center; font-family: \"Times New Roman\", Times, serif;'>PASSWORD MANAGEMENT</h2>\n",
    "\n",
    "<p align='justify' style='margin: 10px 20px; line-height:1.5;color : purple; font-family: \"Times New Roman\", Times, serif; font-size:16px;'>\n",
    "    <strong> Lesson: </strong> Password Management\n",
    "    \n",
    "  <ul style='font-family: \"Times New Roman\", Times, serif; font-weight:light; color:purple; font-size:16px;'>\n",
    "      <li><b>Hashing Passwords</b></li>\n",
    "      <li><b>Verifying hashed passwords</b></li>\n",
    "      <li><b>Generating secure passwords </b></li>\n",
    "      \n",
    "    \n",
    "  </ul>\n",
    "</p>\n",
    "\n",
    "<p align='justify' style='margin: 10px 20px; line-height:1.5; color: black; font-family: \"Times New Roman\", Times, serif; font-size:16px;'>\n",
    "     Password management is an important aspect of computer security, as it helps to protect sensitive information and prevent unauthorized access to accounts and systems. One way to manage passwords is to use a technique called hashing, which involves converting a password into a fixed-length string of characters (a hash) using a mathematical algorithm. This hash can then be stored in a database or other secure location, and used to verify the authenticity of the password when a user attempts to log in.\n",
    "</p><br><br>\n",
    "\n",
    "<h3 style='color:red; font-weight:bold; text-align:center; font-family: \"Times New Roman\", Times, serif;'>Hashing Passwords</h3>\n",
    "<p align='justify' style='margin: 10px 20px; line-height:1.5; color: black; font-family: \"Times New Roman\", Times, serif; font-size:16px;'>\n",
    "      Hashing is the process of converting a password into a fixed-size string of characters, known as a hash. This is typically done using a one-way hashing function, which means that it is not possible to reverse the process and recover the original password from the hash.<br><br>To create a hash of a password, you can use a library such as \"hashlib\" in Python. For example:\n",
    "\n",
    "\n",
    "</p>"
   ]
  },
  {
   "cell_type": "code",
   "execution_count": 62,
   "id": "9e4a197d",
   "metadata": {
    "slideshow": {
     "slide_type": "subslide"
    }
   },
   "outputs": [
    {
     "name": "stdout",
     "output_type": "stream",
     "text": [
      "89e01536ac207279409d4de1e5253e01f4a1769e696db0d6062ca9b8f56767c8\n"
     ]
    }
   ],
   "source": [
    "import hashlib\n",
    "\n",
    "password = \"mypassword\"\n",
    "hashed_password = hashlib.sha256(password.encode()).hexdigest()\n",
    "print(hashed_password)"
   ]
  },
  {
   "cell_type": "markdown",
   "id": "1755b18e",
   "metadata": {
    "slideshow": {
     "slide_type": "subslide"
    }
   },
   "source": [
    "<p align='justify' style='margin: 10px 20px; line-height:1.5; color: black; font-family: \"Times New Roman\", Times, serif; font-size:16px;'>\n",
    "      This will create a hash of the password using the SHA-256 algorithm, and output it as a string of hexadecimal characters.\n",
    "\n",
    "</p>"
   ]
  },
  {
   "cell_type": "markdown",
   "id": "7d65b5d3",
   "metadata": {
    "slideshow": {
     "slide_type": "subslide"
    }
   },
   "source": [
    "<h3 style='color:red; font-weight:bold; text-align:center; font-family: \"Times New Roman\", Times, serif;'>Verifying hashed passwords</h3>\n",
    "<p align='justify' style='margin: 10px 20px; line-height:1.5; color: black; font-family: \"Times New Roman\", Times, serif; font-size:16px;'>\n",
    "      When a user logs in, the password they enter is hashed and compared to the stored hash. If the hashes match, the user is authenticated.To verify that a user has entered the correct password, you can hash the password they entered and compare it to the stored hash. If the two hashes match, the password is correct. <br><br>Here is an example of how you can verify a hashed password:\n",
    "\n",
    "</p>"
   ]
  },
  {
   "cell_type": "code",
   "execution_count": 63,
   "id": "01a6d0a5",
   "metadata": {
    "slideshow": {
     "slide_type": "subslide"
    }
   },
   "outputs": [
    {
     "name": "stdout",
     "output_type": "stream",
     "text": [
      "Incorrect password.\n"
     ]
    }
   ],
   "source": [
    "import hashlib\n",
    "\n",
    "password = \"password123\"\n",
    "password_hash = \"8d969eef6ecad3c29a3a629280e686cf0c3f5d5a86aff3ca12020c923adc6c92\"\n",
    "\n",
    "# Hash the password the user entered\n",
    "entered_password_hash = hashlib.sha256(password.encode()).hexdigest()\n",
    "\n",
    "# Compare the two hashes\n",
    "if password_hash == entered_password_hash:\n",
    "    print(\"Password is correct.\")\n",
    "else:\n",
    "    print(\"Incorrect password.\")\n"
   ]
  },
  {
   "cell_type": "markdown",
   "id": "105b638d",
   "metadata": {
    "slideshow": {
     "slide_type": "subslide"
    }
   },
   "source": [
    "<h3 style='color:red; font-weight:bold; text-align:center; font-family: \"Times New Roman\", Times, serif;'>Generating secure passwords</h3>\n",
    "<p align='justify' style='margin: 10px 20px; line-height:1.5; color: black; font-family: \"Times New Roman\", Times, serif; font-size:16px;'>\n",
    "      To generate secure passwords, you can use a combination of letters, numbers, and special characters, and make sure the password is long enough. You can also use a password generator tool to generate a random password. Here is an example of how you can use the \"random\" and \"string\" modules to generate a random password:\n",
    "</p>"
   ]
  },
  {
   "cell_type": "code",
   "execution_count": 64,
   "id": "4d99148a",
   "metadata": {
    "slideshow": {
     "slide_type": "subslide"
    }
   },
   "outputs": [
    {
     "name": "stdout",
     "output_type": "stream",
     "text": [
      "ty-ZxK$M6f\n"
     ]
    }
   ],
   "source": [
    "import random\n",
    "import string\n",
    "\n",
    "# Generate a random password of length 10\n",
    "password = \"\".join(random.choices(string.ascii_letters + string.digits + string.punctuation, k=10))\n",
    "print(password)  # Yy*h1#fLgE"
   ]
  },
  {
   "cell_type": "markdown",
   "id": "4214f49b",
   "metadata": {
    "slideshow": {
     "slide_type": "slide"
    }
   },
   "source": [
    "<h2 style='color:red; font-weight:bold; text-align:center; font-family: \"Times New Roman\", Times, serif;'>THE NETWORK</h2>\n",
    "\n",
    "<p align='justify' style='margin: 10px 20px; line-height:1.5;color : purple; font-family: \"Times New Roman\", Times, serif; font-size:16px;'>\n",
    "    <strong> Lesson: </strong> Password Management\n",
    "    \n",
    "  <ul style='font-family: \"Times New Roman\", Times, serif; font-weight:light; color:purple; font-size:16px;'>\n",
    "      <li><b>Making HTTP Request</b></li>\n",
    "      <li><b>Working with Sockets</b></li>\n",
    "      <li><b>Sending Emails</b></li>\n",
    "      \n",
    "    \n",
    "  </ul>\n",
    "</p>\n",
    "<p align='justify' style='margin: 10px 20px; line-height:1.5; color: black; font-family: \"Times New Roman\", Times, serif; font-size:16px;'>\n",
    "      Networking is a fundamental aspect of modern computing and is a key feature of many Python libraries and modules. In this lesson, we will explore some of the ways in which you can work with networks in Python, with examples to help illustrate the concepts. <br><br><strong style = \"color : purple\">Making HTTP requests:</strong>\n",
    "</p><br>\n",
    "<p align='justify' style='margin: 10px 20px; line-height:1.5; color: black; font-family: \"Times New Roman\", Times, serif; font-size:16px;'>\n",
    "      Python provides several libraries for making HTTP requests, such as the built-in urllib library, and popular third-party libraries like requests.\n",
    "</p><br>\n",
    "<p align='justify' style='margin: 10px 20px; line-height:1.5; color: black; font-family: \"Times New Roman\", Times, serif; font-size:16px;'>\n",
    "      The urllib library provides a set of simple and high-level methods for making HTTP requests. For example, the urllib.request.urlopen() function can be used to open a connection to a specified URL and retrieve the data returned by the server.\n",
    "</p>"
   ]
  },
  {
   "cell_type": "code",
   "execution_count": 74,
   "id": "ffe995ad",
   "metadata": {
    "scrolled": false,
    "slideshow": {
     "slide_type": "subslide"
    }
   },
   "outputs": [
    {
     "name": "stdout",
     "output_type": "stream",
     "text": [
      "b'<!doctype html>\\n<html>\\n<head>\\n    <title>Example Domain</title>\\n\\n    <meta charset=\"utf-8\" />\\n    <meta http-equiv=\"Content-type\" content=\"text/html; charset=utf-8\" />\\n    <meta name=\"viewport\" content=\"width=device-width, initial-scale=1\" />\\n    <style type=\"text/css\">\\n    body {\\n        background-color: #f0f0f2;\\n        margin: 0;\\n        padding: 0;\\n        font-family: -apple-system, system-ui, BlinkMacSystemFont, \"Segoe UI\", \"Open Sans\", \"Helvetica Neue\", Helvetica, Arial, sans-serif;\\n        \\n    }\\n    div {\\n        width: 600px;\\n        margin: 5em auto;\\n        padding: 2em;\\n        background-color: #fdfdff;\\n        border-radius: 0.5em;\\n        box-shadow: 2px 3px 7px 2px rgba(0,0,0,0.02);\\n    }\\n    a:link, a:visited {\\n        color: #38488f;\\n        text-decoration: none;\\n    }\\n    @media (max-width: 700px) {\\n        div {\\n            margin: 0 auto;\\n            width: auto;\\n        }\\n    }\\n    </style>    \\n</head>\\n\\n<body>\\n<div>\\n    <h1>Example Domain</h1>\\n    <p>This domain is for use in illustrative examples in documents. You may use this\\n    domain in literature without prior coordination or asking for permission.</p>\\n    <p><a href=\"https://www.iana.org/domains/example\">More information...</a></p>\\n</div>\\n</body>\\n</html>\\n'\n"
     ]
    }
   ],
   "source": [
    "from urllib.request import urlopen\n",
    "response = urlopen(\"https://www.example.com\")\n",
    "html = response.read()\n",
    "print(html)"
   ]
  },
  {
   "cell_type": "markdown",
   "id": "c1303f43",
   "metadata": {
    "slideshow": {
     "slide_type": "subslide"
    }
   },
   "source": [
    "<p align='justify' style='margin: 10px 20px; line-height:1.5; color: black; font-family: \"Times New Roman\", Times, serif; font-size:16px;'>\n",
    "      The requests library is another popular library that can be used to make HTTP requests. It provides a more intuitive and user-friendly interface for making requests and handling responses. For example, you can use the requests.get() method to make a GET request to a specified URL and the requests.post() method to make a POST request.\n",
    "</p>\n"
   ]
  },
  {
   "cell_type": "code",
   "execution_count": 73,
   "id": "1446dba5",
   "metadata": {
    "scrolled": true,
    "slideshow": {
     "slide_type": "subslide"
    }
   },
   "outputs": [
    {
     "name": "stdout",
     "output_type": "stream",
     "text": [
      "b'<!doctype html>\\n<html>\\n<head>\\n    <title>Example Domain</title>\\n\\n    <meta charset=\"utf-8\" />\\n    <meta http-equiv=\"Content-type\" content=\"text/html; charset=utf-8\" />\\n    <meta name=\"viewport\" content=\"width=device-width, initial-scale=1\" />\\n    <style type=\"text/css\">\\n    body {\\n        background-color: #f0f0f2;\\n        margin: 0;\\n        padding: 0;\\n        font-family: -apple-system, system-ui, BlinkMacSystemFont, \"Segoe UI\", \"Open Sans\", \"Helvetica Neue\", Helvetica, Arial, sans-serif;\\n        \\n    }\\n    div {\\n        width: 600px;\\n        margin: 5em auto;\\n        padding: 2em;\\n        background-color: #fdfdff;\\n        border-radius: 0.5em;\\n        box-shadow: 2px 3px 7px 2px rgba(0,0,0,0.02);\\n    }\\n    a:link, a:visited {\\n        color: #38488f;\\n        text-decoration: none;\\n    }\\n    @media (max-width: 700px) {\\n        div {\\n            margin: 0 auto;\\n            width: auto;\\n        }\\n    }\\n    </style>    \\n</head>\\n\\n<body>\\n<div>\\n    <h1>Example Domain</h1>\\n    <p>This domain is for use in illustrative examples in documents. You may use this\\n    domain in literature without prior coordination or asking for permission.</p>\\n    <p><a href=\"https://www.iana.org/domains/example\">More information...</a></p>\\n</div>\\n</body>\\n</html>\\n'\n"
     ]
    }
   ],
   "source": [
    "import requests\n",
    "response = requests.get(\"https://www.example.com\")\n",
    "print(response.content)"
   ]
  },
  {
   "cell_type": "markdown",
   "id": "19ea1386",
   "metadata": {
    "slideshow": {
     "slide_type": "subslide"
    }
   },
   "source": [
    "<p align='justify' style='margin: 10px 20px; line-height:1.5; color: black; font-family: \"Times New Roman\", Times, serif; font-size:16px;'>\n",
    "    <strong style = \"color: purple\">Working with sockets:</strong><br><br>Sockets are a low-level networking protocol that allows you to create network connections between two or more computers. Python provides a built-in socket library that can be used to create and manage sockets.<br><br> For example, you can use the socket.socket() function to create a new socket, the socket.bind() method to bind the socket to a specified address and port, and the socket.listen() method to listen for incoming connections.\n",
    "</p>"
   ]
  },
  {
   "cell_type": "code",
   "execution_count": 75,
   "id": "db2af5d4",
   "metadata": {
    "slideshow": {
     "slide_type": "subslide"
    }
   },
   "outputs": [],
   "source": [
    "import socket\n",
    "\n",
    "#create a socket object\n",
    "s = socket.socket(socket.AF_INET, socket.SOCK_STREAM)\n",
    "\n",
    "#get local machine name\n",
    "host = socket.gethostname()\n",
    "\n",
    "port = 9999\n",
    "\n",
    "#bind the socket to a public host, and a port\n",
    "s.bind((host, port))\n",
    "\n",
    "#become a server socket\n",
    "s.listen(5)"
   ]
  },
  {
   "cell_type": "markdown",
   "id": "8f86ceab",
   "metadata": {
    "slideshow": {
     "slide_type": "subslide"
    }
   },
   "source": [
    "<p align='justify' style='margin: 10px 20px; line-height:1.5; color: black; font-family: \"Times New Roman\", Times, serif; font-size:16px;'>\n",
    "    <strong style = \"color: purple\"> Sending Emails:</strong>\n",
    "</p>\n",
    "<p align='justify' style='margin: 10px 20px; line-height:1.5; color: black; font-family: \"Times New Roman\", Times, serif; font-size:16px;'>\n",
    "    Python provides several libraries for sending emails, such as the built-in smtplib library and the popular third-party library yagmail.<br><br> The smtplib library can be used to send emails by connecting to an SMTP server and sending the email message. For example, you can use the smtplib.SMTP() function to connect to an SMTP server and the sendmail() method to send the email message.\n",
    "</p>"
   ]
  },
  {
   "cell_type": "code",
   "execution_count": null,
   "id": "4d2557a5",
   "metadata": {
    "slideshow": {
     "slide_type": "subslide"
    }
   },
   "outputs": [],
   "source": [
    "import smtplib\n",
    "\n",
    "sender_email = \"sender@example.com\"\n",
    "receiver_email = \"receiver@example.com\"\n",
    "password = \"your_password\"\n",
    "\n",
    "message = \"Subject: Hello from Python!\\n\\nThis is a test email sent from Python.\"\n",
    "\n",
    "try:\n",
    "   smtpObj = smtplib.SMTP('smtp.example.com', 587)\n",
    "   smtpObj.starttls()\n",
    "   smtpObj.login(sender_email, password)\n",
    "   smtpObj.sendmail(sender_email, receiver_email, message)\n",
    "   print(\"Successfully sent email.\")\n",
    "except Exception as e:\n",
    "   print(\"Error: \", e)"
   ]
  },
  {
   "cell_type": "markdown",
   "id": "d121a107",
   "metadata": {
    "slideshow": {
     "slide_type": "subslide"
    }
   },
   "source": [
    "<p align='justify' style='margin: 10px 20px; line-height:1.5; color: black; font-family: \"Times New Roman\", Times, serif; font-size:16px;'>\n",
    "    The yagmail library provides a simple and easy-to-use interface for sending emails. It can be used to connect to an SMTP server, compose and send emails, and handle errors.\n",
    "</p>"
   ]
  },
  {
   "cell_type": "code",
   "execution_count": 5,
   "id": "8526ab28",
   "metadata": {
    "slideshow": {
     "slide_type": "subslide"
    }
   },
   "outputs": [
    {
     "name": "stdout",
     "output_type": "stream",
     "text": [
      "Requirement already satisfied: yagmail in ./anaconda3/lib/python3.9/site-packages (0.15.293)\n",
      "Requirement already satisfied: premailer in ./anaconda3/lib/python3.9/site-packages (from yagmail) (3.10.0)\n",
      "Requirement already satisfied: cachetools in ./anaconda3/lib/python3.9/site-packages (from premailer->yagmail) (5.2.1)\n",
      "Requirement already satisfied: requests in ./anaconda3/lib/python3.9/site-packages (from premailer->yagmail) (2.28.1)\n",
      "Requirement already satisfied: lxml in ./anaconda3/lib/python3.9/site-packages (from premailer->yagmail) (4.9.1)\n",
      "Requirement already satisfied: cssselect in ./anaconda3/lib/python3.9/site-packages (from premailer->yagmail) (1.1.0)\n",
      "Requirement already satisfied: cssutils in ./anaconda3/lib/python3.9/site-packages (from premailer->yagmail) (2.6.0)\n",
      "Requirement already satisfied: idna<4,>=2.5 in ./anaconda3/lib/python3.9/site-packages (from requests->premailer->yagmail) (3.3)\n",
      "Requirement already satisfied: urllib3<1.27,>=1.21.1 in ./anaconda3/lib/python3.9/site-packages (from requests->premailer->yagmail) (1.26.11)\n",
      "Requirement already satisfied: certifi>=2017.4.17 in ./anaconda3/lib/python3.9/site-packages (from requests->premailer->yagmail) (2022.9.14)\n",
      "Requirement already satisfied: charset-normalizer<3,>=2 in ./anaconda3/lib/python3.9/site-packages (from requests->premailer->yagmail) (2.0.4)\n",
      "Note: you may need to restart the kernel to use updated packages.\n"
     ]
    }
   ],
   "source": [
    "pip install yagmail"
   ]
  },
  {
   "cell_type": "code",
   "execution_count": null,
   "id": "68be799c",
   "metadata": {
    "slideshow": {
     "slide_type": "subslide"
    }
   },
   "outputs": [],
   "source": [
    "import yagmail\n",
    "\n",
    "receiver = \"receiver@example.com\"\n",
    "body = \"This is a test email sent from Python using yagmail.\"\n",
    "\n",
    "yag = yagmail.SMTP(\"sender@example.com\", \"your_password\")\n",
    "yag.send(\n",
    "    to=receiver,\n",
    "    subject=\"Hello from Python!\",\n",
    "    contents=body\n",
    ")"
   ]
  },
  {
   "cell_type": "markdown",
   "id": "459df7f7",
   "metadata": {
    "slideshow": {
     "slide_type": "slide"
    }
   },
   "source": [
    "<h2 style='color:red; font-weight:bold; text-align:center; font-family: \"Times New Roman\", Times, serif;'>UNIT TESTS</h2>\n",
    "\n",
    "<p align='justify' style='margin: 10px 20px; line-height:1.5;color : purple; font-family: \"Times New Roman\", Times, serif; font-size:16px;'>\n",
    "    <strong> Lesson: </strong> Unit Tests\n",
    "    \n",
    "  <ul style='font-family: \"Times New Roman\", Times, serif; font-weight:light; color:purple; font-size:16px;'>\n",
    "      <li><b>Writing and Running Unit Tests</b></li>\n",
    "      <li><b>Asserting Conditions</b></li>\n",
    "      <li><b>Organizing Test Cases</b></li>\n",
    "      \n",
    "    \n",
    "  </ul>\n",
    "</p><br>\n",
    "<p align='justify' style='margin: 10px 20px; line-height:1.5; color: purple; font-family: \"Times New Roman\", Times, serif; font-size:16px;'>\n",
    "    Unit testing is a software testing method in which individual units or components of a software application are tested in isolation from the rest of the application. In Python, the unittest module provides a framework for writing and running unit tests.\n",
    "</p>"
   ]
  },
  {
   "cell_type": "markdown",
   "id": "9c6838a4",
   "metadata": {
    "slideshow": {
     "slide_type": "subslide"
    }
   },
   "source": [
    "<h3 style='color:red; font-weight:bold; text-align:center; font-family: \"Times New Roman\", Times, serif;'>Writing and Running Unit Tests</h3>\n",
    "<p align='justify' style='margin: 10px 20px; line-height:1.5; color: black; font-family: \"Times New Roman\", Times, serif; font-size:16px;'>\n",
    "    The unittest module provides several classes and methods for writing and running unit tests. To write a unit test, you need to create a test class that inherits from unittest.TestCase, and then write test methods within that class. Each test method should test a specific aspect of the code and assert that the expected behavior occurs. <br><br><strong style = \"color:purple\"> Here is an example of a simple unit test for a function that calculates the square of a number:</strong>\n",
    "</p>"
   ]
  },
  {
   "cell_type": "code",
   "execution_count": 7,
   "id": "17606e69",
   "metadata": {
    "slideshow": {
     "slide_type": "subslide"
    }
   },
   "outputs": [],
   "source": [
    "import unittest\n",
    "\n",
    "def square(x):\n",
    "    return x*x\n",
    "\n",
    "class TestSquare(unittest.TestCase):\n",
    "\n",
    "    def test_square(self):\n",
    "        self.assertEqual(square(2), 4)\n",
    "        self.assertEqual(square(3), 9)\n",
    "        self.assertEqual(square(-2), 4)"
   ]
  },
  {
   "cell_type": "markdown",
   "id": "21bd3dd3",
   "metadata": {
    "slideshow": {
     "slide_type": "subslide"
    }
   },
   "source": [
    "<p align='justify' style='margin: 10px 20px; line-height:1.5; color: black; font-family: \"Times New Roman\", Times, serif; font-size:16px;'>\n",
    "    To run the unit test, you can use the unittest.main() method.\n",
    "</p>"
   ]
  },
  {
   "cell_type": "code",
   "execution_count": null,
   "id": "1cc3f4df",
   "metadata": {
    "slideshow": {
     "slide_type": "subslide"
    }
   },
   "outputs": [],
   "source": [
    "if __name__ == '__main__':\n",
    "    unittest.main()"
   ]
  },
  {
   "cell_type": "markdown",
   "id": "c62d0c68",
   "metadata": {
    "slideshow": {
     "slide_type": "subslide"
    }
   },
   "source": [
    "<p align='justify' style='margin: 10px 20px; line-height:1.5; color: black; font-family: \"Times New Roman\", Times, serif; font-size:16px;'>\n",
    "    <strong style = \"color: purple\">Asserting Test Conditions:</strong><br><br>When writing unit tests, it's important to assert that the code behaves as expected. The unittest.TestCase class provides several methods for asserting test conditions, such as assertEqual(), assertTrue(), and assertRaises().<br><br>For example, in the above example the assertEqual method is used to check if the output of the square function is equal to the expected output.\n",
    "\n",
    "</p><br><br>\n",
    "\n",
    "<p align='justify' style='margin: 10px 20px; line-height:1.5; color: black; font-family: \"Times New Roman\", Times, serif; font-size:16px;'>\n",
    "    <strong style = \"color: purple\">Organizing Test Cases:</strong><br><br>In a real-world application, you will likely have many test cases. The unittest module provides several ways to organize test cases, such as using test suites and test runners. <br><br> For example, you can use the unittest.TestLoader class to discover and load all test cases in a module, and then run them using the unittest.TextTestRunner class.\n",
    "\n",
    "</p>"
   ]
  },
  {
   "cell_type": "code",
   "execution_count": null,
   "id": "62574452",
   "metadata": {
    "slideshow": {
     "slide_type": "subslide"
    }
   },
   "outputs": [],
   "source": [
    "import unittest\n",
    "\n",
    "class MyTest(unittest.TestCase):\n",
    "    def test_1(self):\n",
    "        self.assertEqual(1, 1)\n",
    "    def test_2(self):\n",
    "        self.assertEqual(2, 2)\n",
    "\n",
    "if __name__ == '__main__':\n",
    "    suite = unittest.TestLoader().loadTestsFromTestCase(MyTest)\n",
    "    unittest.TextTestRunner(verbosity=2).run(suite)"
   ]
  },
  {
   "cell_type": "markdown",
   "id": "3a250286",
   "metadata": {
    "slideshow": {
     "slide_type": "subslide"
    }
   },
   "source": [
    "<p align='justify' style='margin: 10px 20px; line-height:1.5; color: black; font-family: \"Times New Roman\", Times, serif; font-size:16px;'>\n",
    "    In summary, this lesson covered the basics of unit testing in Python, including how to write and run unit tests, assert test conditions, and organize test cases using the unittest module. By using unit tests, you can ensure that your code behaves as expected and catch any errors or bugs early on in the development process.\n",
    "\n",
    "</p>"
   ]
  },
  {
   "cell_type": "markdown",
   "id": "3247feb5",
   "metadata": {
    "slideshow": {
     "slide_type": "slide"
    }
   },
   "source": [
    "<h2 style='color:red; font-weight:bold; text-align:center; font-family: \"Times New Roman\", Times, serif;'>PARALLEL PROGRAMMING</h2>\n",
    "\n",
    "<p align='justify' style='margin: 10px 20px; line-height:1.5;color : purple; font-family: \"Times New Roman\", Times, serif; font-size:16px;'>\n",
    "    <strong> Lesson: </strong> Pararrel programming\n",
    "    \n",
    "  <ul style='font-family: \"Times New Roman\", Times, serif; font-weight:light; color:purple; font-size:16px;'>\n",
    "      <li><b>The multiprocessing module </b></li>\n",
    "      <li><b>Launching parallel processes </b></li>\n",
    "      <li><b>Synchronizing processes </b></li>\n",
    "      <li><b>Communicating between processes </b></li>\n",
    "      \n",
    "    \n",
    "  </ul>\n",
    "</p><br>\n",
    "<p align='justify' style='margin: 10px 20px; line-height:1.5; color: black; font-family: \"Times New Roman\", Times, serif; font-size:16px;'>\n",
    "    Parallel programming is a method of writing software that allows multiple threads or processes to run simultaneously. This can greatly improve the performance of a program by utilizing multiple cores or processors. Python provides the multiprocessing module, which allows you to launch parallel processes and synchronize them.\n",
    "\n",
    "</p>"
   ]
  },
  {
   "cell_type": "markdown",
   "id": "f8241078",
   "metadata": {
    "slideshow": {
     "slide_type": "subslide"
    }
   },
   "source": [
    "<h4 style='color:red; font-weight:bold; text-align:center; font-family: \"Times New Roman\", Times, serif;'>The multiprocessing module</h4>\n",
    "<p align='justify' style='margin: 10px 20px; line-height:1.5; color: black; font-family: \"Times New Roman\", Times, serif; font-size:16px;'>\n",
    "    The multiprocessing module provides several classes and methods for launching parallel processes, such as the Process class, the Pool class, and the Queue class. <br><br> The Process class allows you to launch a new process by creating an instance of the class and calling the start() method. For example:\n",
    "</p>"
   ]
  },
  {
   "cell_type": "code",
   "execution_count": 12,
   "id": "f0e12da2",
   "metadata": {
    "slideshow": {
     "slide_type": "subslide"
    }
   },
   "outputs": [
    {
     "name": "stdout",
     "output_type": "stream",
     "text": [
      "hello\n"
     ]
    }
   ],
   "source": [
    "from multiprocessing import Process\n",
    "\n",
    "def print_hello():\n",
    "    print(\"hello\")\n",
    "\n",
    "p = Process(target=print_hello)\n",
    "p.start()\n",
    "p.join()"
   ]
  },
  {
   "cell_type": "markdown",
   "id": "5d0f6111",
   "metadata": {
    "slideshow": {
     "slide_type": "subslide"
    }
   },
   "source": [
    "<p align='justify' style='margin: 10px 20px; line-height:1.5; color: black; font-family: \"Times New Roman\", Times, serif; font-size:16px;'>\n",
    "    The Pool class allows you to launch multiple processes in a pool and manage them. For example, you can use the Pool.map() method to apply a function to each element of an iterable in parallel.\n",
    "\n",
    "</p>"
   ]
  },
  {
   "cell_type": "code",
   "execution_count": 13,
   "id": "c2ac4f52",
   "metadata": {
    "slideshow": {
     "slide_type": "subslide"
    }
   },
   "outputs": [
    {
     "name": "stdout",
     "output_type": "stream",
     "text": [
      "[1, 4, 9]\n"
     ]
    }
   ],
   "source": [
    "from multiprocessing import Pool\n",
    "\n",
    "def square(x):\n",
    "    return x*x\n",
    "\n",
    "with Pool(processes=4) as p:\n",
    "    print(p.map(square, [1, 2, 3]))"
   ]
  },
  {
   "cell_type": "markdown",
   "id": "b6d57c72",
   "metadata": {
    "slideshow": {
     "slide_type": "subslide"
    }
   },
   "source": [
    "<p align='justify' style='margin: 10px 20px; line-height:1.5; color: black; font-family: \"Times New Roman\", Times, serif; font-size:16px;'>\n",
    "    <strong style = \"color:purple\">Synchronizing Processes: </strong><br><br>multiprocessing module provides several synchronization primitives such as \"Lock\", \"Semaphore\", \"Event\" and \"Barrier.\"<br><br> <strong>Lock </strong>is used to synchronize access to a shared resource, allowing only one process to execute a certain piece of code at a time. For example:\n",
    "\n",
    "</p>"
   ]
  },
  {
   "cell_type": "code",
   "execution_count": 15,
   "id": "724badab",
   "metadata": {
    "slideshow": {
     "slide_type": "subslide"
    }
   },
   "outputs": [
    {
     "name": "stdout",
     "output_type": "stream",
     "text": [
      "hello\n"
     ]
    }
   ],
   "source": [
    "from multiprocessing import Process, Lock\n",
    "\n",
    "def print_hello(lock):\n",
    "    lock.acquire()\n",
    "    print(\"hello\")\n",
    "    lock.release()\n",
    "\n",
    "lock = Lock()\n",
    "p = Process(target=print_hello, args=(lock,))\n",
    "p.start()\n",
    "p.join()"
   ]
  },
  {
   "cell_type": "markdown",
   "id": "b92be1d2",
   "metadata": {
    "slideshow": {
     "slide_type": "subslide"
    }
   },
   "source": [
    "<p align='justify' style='margin: 10px 20px; line-height:1.5; color: black; font-family: \"Times New Roman\", Times, serif; font-size:16px;'>\n",
    "    <strong style = \"color: purple\">Communicating between processes:</strong><br><br> multiprocessing module also provides several ways to communicate between processes, such as Queue, Pipe and Value .<br><br> <strong>Queue </strong>is a simple way to send and receive messages between processes. For example:\n",
    "\n",
    "\n",
    "</p>"
   ]
  },
  {
   "cell_type": "code",
   "execution_count": 17,
   "id": "ac346b61",
   "metadata": {
    "slideshow": {
     "slide_type": "subslide"
    }
   },
   "outputs": [
    {
     "name": "stdout",
     "output_type": "stream",
     "text": [
      "[42, None, 'hello']\n"
     ]
    }
   ],
   "source": [
    "from multiprocessing import Process, Queue\n",
    "\n",
    "def put_data(q):\n",
    "    q.put([42, None, 'hello'])\n",
    "\n",
    "def get_data(q):\n",
    "    print(q.get())\n",
    "\n",
    "q = Queue()\n",
    "p1 = Process(target=put_data, args=(q,))\n",
    "p2 = Process(target=get_data, args=(q,))\n",
    "p1.start()\n",
    "p2.start()\n",
    "p1.join()\n",
    "p2.join()"
   ]
  },
  {
   "cell_type": "markdown",
   "id": "8ec856b5",
   "metadata": {
    "slideshow": {
     "slide_type": "subslide"
    }
   },
   "source": [
    "<p align='justify' style='margin: 10px 20px; line-height:1.5; color: black; font-family: \"Times New Roman\", Times, serif; font-size:16px;'>\n",
    "    In summary, this lesson covered the basics of parallel programming in Python using the multiprocessing module, including how to launch parallel processes, synchronize them, and communicate between them. By using parallel programming techniques, you can improve the performance of your program and take advantage of multiple cores or processors.\n",
    "\n",
    "\n",
    "</p><br><br> \n",
    "\n",
    "<p align='justify' style='margin: 10px 20px; line-height:1.5; color: purple; font-family: \"Times New Roman\", Times, serif; font-size:16px;'>\n",
    "    It is important to note that parallel programming can be complex, and care must be taken when using it to avoid race conditions and other synchronization issues. However, with the right approach and the tools provided by the multiprocessing module, you can write efficient and performant parallel programs in Python.\n",
    "\n",
    "\n",
    "</p>"
   ]
  },
  {
   "cell_type": "markdown",
   "id": "9b0cf973",
   "metadata": {},
   "source": [
    "<h2 style='color:red; font-weight:bold; text-align:center; font-family: \"Times New Roman\", Times, serif;'>APPENDICES 1: Writting Python Programs in Files</h2>\n",
    "\n",
    "<p align='justify' style='margin: 10px 20px; line-height:1.5;color : purple; font-family: \"Times New Roman\", Times, serif; font-size:16px;'>\n",
    "    <strong> Lesson: </strong> Pararrel programming\n",
    "    \n",
    "  <ul style='font-family: \"Times New Roman\", Times, serif; font-weight:light; color:purple; font-size:16px;'>\n",
    "      <li><b>The multiprocessing module </b></li>\n",
    "      <li><b>Launching parallel processes </b></li>\n",
    "      <li><b>Synchronizing processes </b></li>\n",
    "      <li><b>Communicating between processes </b></li>\n",
    "      \n",
    "    \n",
    "  </ul>\n",
    "</p>"
   ]
  },
  {
   "cell_type": "code",
   "execution_count": null,
   "id": "7263ea5b",
   "metadata": {},
   "outputs": [],
   "source": []
  }
 ],
 "metadata": {
  "celltoolbar": "Slideshow",
  "kernelspec": {
   "display_name": "Python 3 (ipykernel)",
   "language": "python",
   "name": "python3"
  },
  "language_info": {
   "codemirror_mode": {
    "name": "ipython",
    "version": 3
   },
   "file_extension": ".py",
   "mimetype": "text/x-python",
   "name": "python",
   "nbconvert_exporter": "python",
   "pygments_lexer": "ipython3",
   "version": "3.9.13"
  },
  "toc": {
   "base_numbering": 1,
   "nav_menu": {},
   "number_sections": false,
   "sideBar": true,
   "skip_h1_title": false,
   "title_cell": "Table of Contents",
   "title_sidebar": "Contents",
   "toc_cell": false,
   "toc_position": {
    "height": "calc(100% - 180px)",
    "left": "10px",
    "top": "150px",
    "width": "293.797px"
   },
   "toc_section_display": true,
   "toc_window_display": false
  }
 },
 "nbformat": 4,
 "nbformat_minor": 5
}
