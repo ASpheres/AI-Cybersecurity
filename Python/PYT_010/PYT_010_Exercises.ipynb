{
 "cells": [
  {
   "cell_type": "markdown",
   "id": "aa3308d7",
   "metadata": {
    "slideshow": {
     "slide_type": "slide"
    }
   },
   "source": [
    "<a href=\"https://asphere.fr/\">\n",
    "    <img src=\"logo2.png\" width=\"500\" height=\"400\" style=\"display: block; margin: 0 auto;\">\n",
    "</a>\n",
    "<h1 style=\"text-align: center; font-family: 'Helvetica Neue', sans-serif; color: #333;\">PYTHON FOR BEGINNERS (EXRCISES)</h1>\n",
    "<h4 style=\"text-align: center; font-family: 'Helvetica Neue', sans-serif; color: #333;\">PYT_010</h4>\n",
    "<h5 style=\"text-align: center; font-family: 'Helvetica Neue', sans-serif; color: #333;\">DURATION: Three Days (21 Hrs)</h5>\n",
    "<h4 style=\"text-align: center; font-family: 'Helvetica Neue', sans-serif; color: #333;\">OBJECTIVES</h4>\n",
    "    <a href=\"https://asphere.fr/\">\n",
    "    <img src=\"python-icon-png-7.jpg\" width=\"80\" height=\"100\" style=\"float: right; margin-right: 25px; margin-left: 70px;\">\n",
    "</a>\n",
    "<h5 style=\"text-align: center; font-family: 'Helvetica Neue', sans-serif; color: #333;\">Understand the principles of programming in Python language. <br>Know how to compile and create an executable in a Python environment. <br>Know how to run in debug mode.</h5>"
   ]
  },
  {
   "cell_type": "markdown",
   "id": "00cb8260",
   "metadata": {
    "slideshow": {
     "slide_type": "subslide"
    }
   },
   "source": [
    "<h3 style='color:red; font-weight:bold; text-align:center; font-family: \"Times New Roman\", Times, serif;'>EXERECISE 0: What is Python</h3>\n",
    "<p align='justify' style='margin: 10px 20px; line-height:1.5; font-family: \"Times New Roman\", Times, serif; font-size:16px;'>\n",
    "    \n",
    "    \n",
    "  <ul style='font-family: \"Times New Roman\", Times, serif; font-weight:light; font-size:16px;'>\n",
    "      <li>Define Python and explain its role as a programming language.</li>\n",
    "      <li>Discuss the origins of Python and its creator, Guido van Rossum.</li>\n",
    "      <li>Trace the history of Python, from its creation in the late 1980s to the present day.</li>\n",
    "      <li>Describe the major versions of Python and the changes that were made in each.</li>\n",
    "      <li>Discuss the reasons why Python is considered to be a valuable programming language to learn.</li>\n",
    "      \n",
    "    \n",
    "    \n",
    "  </ul>\n",
    "</p>"
   ]
  },
  {
   "cell_type": "code",
   "execution_count": 3,
   "id": "5fe25386",
   "metadata": {
    "slideshow": {
     "slide_type": "subslide"
    }
   },
   "outputs": [],
   "source": [
    "# Answers Here"
   ]
  },
  {
   "cell_type": "markdown",
   "id": "58add301",
   "metadata": {
    "slideshow": {
     "slide_type": "slide"
    }
   },
   "source": [
    "<h3 style='color:red; font-weight:bold; text-align:center; font-family: \"Times New Roman\", Times, serif;'>EXERECISE 1: The Command Interpreter </h3>\n",
    "<p align='justify' style='margin: 10px 20px; line-height:1.5; font-family: \"Times New Roman\", Times, serif; font-size:16px;'>\n",
    "    \n",
    "    \n",
    "  <ul style='font-family: \"Times New Roman\", Times, serif; font-weight:light; font-size:16px;'>\n",
    "      <li>What is the command interpreter and what is its purpose?</li>\n",
    "      <li>How can you run a Python script from the command line? (Demonstrate)</li>\n",
    "      <li>Can you explain the basic syntax of Python and give an example of a simple Python program?</li>\n",
    "      <li>How do you add comments in a Python script and why is it important to do so?</li>\n",
    "      \n",
    "    \n",
    "    \n",
    "  </ul>\n",
    "</p>"
   ]
  },
  {
   "cell_type": "code",
   "execution_count": null,
   "id": "ee780934",
   "metadata": {
    "slideshow": {
     "slide_type": "subslide"
    }
   },
   "outputs": [],
   "source": [
    "# Answers Here"
   ]
  },
  {
   "cell_type": "markdown",
   "id": "d967835d",
   "metadata": {
    "slideshow": {
     "slide_type": "slide"
    }
   },
   "source": [
    "<h3 style='color:red; font-weight:bold; text-align:center; font-family: \"Times New Roman\", Times, serif;'>EXERECISE 1: Variables </h3>\n",
    "<p align='justify' style='margin: 10px 20px; line-height:1.5; font-family: \"Times New Roman\", Times, serif; font-size:16px;'>\n",
    "    \n",
    "    \n",
    "  <ul style='font-family: \"Times New Roman\", Times, serif; font-weight:light; font-size:16px;'>\n",
    "      <li>Create a program that assigns an integer value to a variable and then prints out the value of that variable.</li>\n",
    "      <li>Write a program that assigns a floating-point value to a variable and then prints out the value of that variable.</li>\n",
    "      <li>Create a program that assigns a string value to a variable and then prints out the value of that variable.</li>\n",
    "      <li>Write a program that assigns a Boolean value to a variable and then prints out the value of that variable.</li>\n",
    "      <li>Create a program that assigns an integer value to a variable and then reassigns a string value to the same variable. (What happens? can you explain it?)</li>\n",
    "      <li>Create a program that assigns two integer values to two different variables and then performs basic arithmetic operations like addition, subtraction, multiplication, and division on those variables and prints out the results.</li>\n",
    "      \n",
    "    \n",
    "    \n",
    "  </ul>\n",
    "</p>\n",
    "\n"
   ]
  },
  {
   "cell_type": "code",
   "execution_count": 8,
   "id": "b90d726f",
   "metadata": {
    "slideshow": {
     "slide_type": "subslide"
    }
   },
   "outputs": [],
   "source": [
    "# Answers Below"
   ]
  }
 ],
 "metadata": {
  "celltoolbar": "Slideshow",
  "kernelspec": {
   "display_name": "Python 3 (ipykernel)",
   "language": "python",
   "name": "python3"
  },
  "language_info": {
   "codemirror_mode": {
    "name": "ipython",
    "version": 3
   },
   "file_extension": ".py",
   "mimetype": "text/x-python",
   "name": "python",
   "nbconvert_exporter": "python",
   "pygments_lexer": "ipython3",
   "version": "3.9.13"
  },
  "toc": {
   "base_numbering": 1,
   "nav_menu": {},
   "number_sections": false,
   "sideBar": true,
   "skip_h1_title": false,
   "title_cell": "Table of Contents",
   "title_sidebar": "Contents",
   "toc_cell": false,
   "toc_position": {
    "height": "554.545px",
    "left": "21px",
    "top": "45.2789px",
    "width": "312.18px"
   },
   "toc_section_display": true,
   "toc_window_display": true
  }
 },
 "nbformat": 4,
 "nbformat_minor": 5
}
