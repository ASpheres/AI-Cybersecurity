{
 "cells": [
  {
   "cell_type": "markdown",
   "id": "67d9a103",
   "metadata": {
    "slideshow": {
     "slide_type": "slide"
    }
   },
   "source": [
    "<a href=\"https://asphere.fr/\">\n",
    "    <img src=\"logo2.png\" width=\"500\" height=\"400\" style=\"display: block; margin: 0 auto;\">\n",
    "</a>\n",
    "<h1 style=\"text-align: center; font-family: 'Times New Roman', Times,serif ; color: purple; margin-right: 25px; margin-left: 70px;\">PYTHON FOR BEGINNERS (EXRCISES)</h1>\n",
    "<h4 style=\"text-align: center; font-family: 'Times New Roman', Times,serif ; color: black; margin-right: 25px; margin-left: 70px;\">PPYT_010</h4>\n",
    "<h5 style=\"text-align: center; font-family: 'Times New Roman', Times,serif ; color: black; margin-right: 25px; margin-left: 70px;\">DURATION: Three Days (21 Hrs)</h5>\n",
    "<h4 style=\"text-align: center; font-family: 'Times New Roman', Times,serif ; color: black; margin-right: 25px; margin-left: 70px;\">OBJECTIVES</h4>\n",
    "<a href=\"https://asphere.fr/\">\n",
    "    <img src=\"python-icon-png-7.jpg\" width=\"80\" height=\"100\" style=\"float: right; margin-right: 25px; margin-left: 70px;\">\n",
    "</a>\n",
    "<h5 style=\"text-align: center; font-family: 'Times New Roman', Times,serif ; color: purple; margin-right: 70px; margin-left: 70px;\">It is important to remember that practice and experimentation are key to becoming proficient in programming, so keep experimenting and try building your own programs.<br><br> You can use the notebook as reference</h5>"
   ]
  },
  {
   "cell_type": "markdown",
   "id": "00cb8260",
   "metadata": {
    "slideshow": {
     "slide_type": "subslide"
    }
   },
   "source": [
    "<h3 style='color:red; font-weight:bold; text-align:center; font-family: \"Times New Roman\", Times, serif;'>EXERECISE 0: What is Python</h3>\n",
    "<p align='justify' style='margin: 10px 20px; color : purple; line-height:1.5; font-family: \"Times New Roman\", Times, serif; font-size:16px;'>\n",
    "    <strong>Do not do it again if you have already submitted your answers via email else choose any two questions and answer </strong>\n",
    "</p>\n",
    "<p align='justify' style='margin: 10px 20px; line-height:1.5; font-family: \"Times New Roman\", Times, serif; font-size:16px;'>\n",
    "    \n",
    "    \n",
    "  <ul style='font-family: \"Times New Roman\", Times, serif; font-weight:light; font-size:16px;'>\n",
    "      <li>Define Python and explain its role as a programming language.</li><br>\n",
    "      <li>Discuss the origins of Python and its creator, Guido van Rossum.</li><br>\n",
    "      <li>Trace the history of Python, from its creation in the late 1980s to the present day.</li>\n",
    "      <li>Describe the major versions of Python and the changes that were made in each.</li><br>\n",
    "      <li>Discuss the reasons why Python is considered to be a valuable programming language to learn.</li>\n",
    "      \n",
    "    \n",
    "    \n",
    "  </ul>\n",
    "</p>"
   ]
  },
  {
   "cell_type": "code",
   "execution_count": 3,
   "id": "5fe25386",
   "metadata": {
    "slideshow": {
     "slide_type": "subslide"
    }
   },
   "outputs": [],
   "source": [
    "# Answers1 here"
   ]
  },
  {
   "cell_type": "code",
   "execution_count": null,
   "id": "f8b39782",
   "metadata": {
    "slideshow": {
     "slide_type": "subslide"
    }
   },
   "outputs": [],
   "source": [
    "# Answers2 here"
   ]
  },
  {
   "cell_type": "markdown",
   "id": "58add301",
   "metadata": {
    "slideshow": {
     "slide_type": "slide"
    }
   },
   "source": [
    "<h3 style='color:red; font-weight:bold; text-align:center; font-family: \"Times New Roman\", Times, serif;'>EXERECISE 1: The Command Interpreter </h3>\n",
    "<p align='justify' style='margin: 10px 20px; color : purple; line-height:1.5; font-family: \"Times New Roman\", Times, serif; font-size:16px;'>\n",
    "    <strong>Do not do it again if you have already submitted your answers via email else choose any two questions and answer </strong>\n",
    "</p>\n",
    "<p align='justify' style='margin: 10px 20px; line-height:1.5; font-family: \"Times New Roman\", Times, serif; font-size:16px;'>\n",
    "    \n",
    "    \n",
    "  <ul style='font-family: \"Times New Roman\", Times, serif; font-weight:light; font-size:16px;'>\n",
    "      <li>What is the command interpreter and what is its purpose?</li><br>\n",
    "      <li>How can you run a Python script from the command line? (Demonstrate)</li><br>\n",
    "      <li>Can you explain the basic syntax of Python and give an example of a simple Python program?</li><br>\n",
    "      <li>How do you add comments in a Python script and why is it important to do so?</li>\n",
    "      \n",
    "    \n",
    "    \n",
    "  </ul>\n",
    "</p>"
   ]
  },
  {
   "cell_type": "code",
   "execution_count": null,
   "id": "ee780934",
   "metadata": {
    "slideshow": {
     "slide_type": "subslide"
    }
   },
   "outputs": [],
   "source": [
    "# Answers Here"
   ]
  },
  {
   "cell_type": "code",
   "execution_count": null,
   "id": "71b6d8ed",
   "metadata": {
    "slideshow": {
     "slide_type": "subslide"
    }
   },
   "outputs": [],
   "source": [
    "# Answers2 here"
   ]
  },
  {
   "cell_type": "markdown",
   "id": "d967835d",
   "metadata": {
    "slideshow": {
     "slide_type": "slide"
    }
   },
   "source": [
    "<h3 style='color:red; font-weight:bold; text-align:center; font-family: \"Times New Roman\", Times, serif;'>EXERECISE 2: Variables </h3>\n",
    "<p align='justify' style='margin: 10px 20px; color : purple; line-height:1.5; font-family: \"Times New Roman\", Times, serif; font-size:16px;'>\n",
    "    <strong>Do not do it again if you have already submitted your answers via email else choose any two questions and answer </strong>\n",
    "</p>\n",
    "<p align='justify' style='margin: 10px 20px; line-height:1.5; font-family: \"Times New Roman\", Times, serif; font-size:16px;'>\n",
    "    \n",
    "    \n",
    "  <ul style='font-family: \"Times New Roman\", Times, serif; font-weight:light; font-size:16px;'>\n",
    "      <li>Create a program that assigns an integer value to a variable and then prints out the value of that variable.</li><br>\n",
    "      <li>Write a program that assigns a floating-point value to a variable and then prints out the value of that variable.</li><br>\n",
    "      <li>Create a program that assigns a string value to a variable and then prints out the value of that variable.</li><br>\n",
    "      <li>Write a program that assigns a Boolean value to a variable and then prints out the value of that variable.</li><br>\n",
    "      <li>Create a program that assigns an integer value to a variable and then reassigns a string value to the same variable. (What happens? can you explain it?)</li><br>\n",
    "      <li>Create a program that assigns two integer values to two different variables and then performs basic arithmetic operations like addition, subtraction, multiplication, and division on those variables and prints out the results.</li>\n",
    "      \n",
    "    \n",
    "    \n",
    "  </ul>\n",
    "</p>"
   ]
  },
  {
   "cell_type": "code",
   "execution_count": 8,
   "id": "b90d726f",
   "metadata": {
    "slideshow": {
     "slide_type": "subslide"
    }
   },
   "outputs": [],
   "source": [
    "# Answers1 here"
   ]
  },
  {
   "cell_type": "code",
   "execution_count": null,
   "id": "370a3fe9",
   "metadata": {
    "slideshow": {
     "slide_type": "subslide"
    }
   },
   "outputs": [],
   "source": [
    "# Answers2 here"
   ]
  },
  {
   "cell_type": "markdown",
   "id": "f146da35",
   "metadata": {
    "slideshow": {
     "slide_type": "slide"
    }
   },
   "source": [
    "<h3 style='color:red; font-weight:bold; text-align:center; font-family: \"Times New Roman\", Times, serif;'>EXERECISE 3: Data Types </h3>\n",
    "<p align='justify' style='margin: 10px 20px; color : purple; line-height:1.5; font-family: \"Times New Roman\", Times, serif; font-size:16px;'>\n",
    "    <strong>Do not do it again if you have already submitted your answers via email else choose any two questions and answer </strong>\n",
    "</p>\n",
    "<p align='justify' style='margin: 10px 20px; line-height:1.5; font-family: \"Times New Roman\", Times, serif; font-size:16px;'>\n",
    "    \n",
    "    \n",
    "  <ul style='font-family: \"Times New Roman\", Times, serif; font-weight:light; font-size:16px;'>\n",
    "      <li>Write a program that creates a tuple of strings, and then uses the built-in function count() to count the number of occurrences of a specific string in the tuple and print it.</li><br>\n",
    "      <li>Write a program that creates a set of integers, and then use the built-in function add() to add a new element to the set, and then prints out the new set.</li><br>\n",
    "      <li>Create a program that creates a list of integers, and then use indexing to print out the third element of the list.</li><br>\n",
    "      <li>Write a program that creates a string, and then use indexing to print out the second character of the string.</li>\n",
    "      \n",
    "    \n",
    "    \n",
    "  </ul>\n",
    "</p>"
   ]
  },
  {
   "cell_type": "code",
   "execution_count": 3,
   "id": "89b83344",
   "metadata": {
    "slideshow": {
     "slide_type": "subslide"
    }
   },
   "outputs": [],
   "source": [
    "# Answers1 here"
   ]
  },
  {
   "cell_type": "code",
   "execution_count": null,
   "id": "164892c1",
   "metadata": {
    "slideshow": {
     "slide_type": "subslide"
    }
   },
   "outputs": [],
   "source": [
    "# Answers2 here"
   ]
  },
  {
   "cell_type": "markdown",
   "id": "c0d4eb41",
   "metadata": {
    "slideshow": {
     "slide_type": "slide"
    }
   },
   "source": [
    "<h3 style='color:red; font-weight:bold; text-align:center; font-family: \"Times New Roman\", Times, serif;'>EXERECISE 4: Conditional Structures </h3>\n",
    "<p align='justify' style='margin: 10px 20px; color : purple; line-height:1.5; font-family: \"Times New Roman\", Times, serif; font-size:16px;'>\n",
    "    <strong>Choose any two questions from this exercise</strong>\n",
    "</p>\n",
    "<p align='justify' style='margin: 10px 20px; line-height:1.5; font-family: \"Times New Roman\", Times, serif; font-size:16px;'>\n",
    "    \n",
    "    \n",
    "  <ul style='font-family: \"Times New Roman\", Times, serif; font-weight:light; font-size:16px;'>\n",
    "      <li>Write a program that takes in a user's age as an input and prints \"You are an adult\" if the age is greater than or equal to 18, and \"You are a minor\" if the age is less than 18.</li><br>\n",
    "      <li>Write a program that takes in two numbers as inputs and using an if-elif-else statement, checks which number is greater and prints the result.</li><br>\n",
    "      <li>Write a program that takes in a string as an input and using if-elif-else statements, checks whether the string contains only letters, only numbers, or both letters and numbers.</li><br>\n",
    "      <li>Write a program that takes in a list of numbers and using if-elif-else statements, checks whether the list is sorted in ascending or descending order, or not sorted at all.</li><br>\n",
    "      <li>Using an if-else statement, write a program that checks whether a number entered by the user is positive, negative, or equal to zero.</li><br>\n",
    "      \n",
    "    \n",
    "    \n",
    "  </ul>\n",
    "</p>"
   ]
  },
  {
   "cell_type": "code",
   "execution_count": 14,
   "id": "bc5757ed",
   "metadata": {
    "slideshow": {
     "slide_type": "subslide"
    }
   },
   "outputs": [],
   "source": [
    "# Answers1 here"
   ]
  },
  {
   "cell_type": "code",
   "execution_count": null,
   "id": "7d5736e4",
   "metadata": {
    "slideshow": {
     "slide_type": "subslide"
    }
   },
   "outputs": [],
   "source": [
    "# Answers2 here"
   ]
  },
  {
   "cell_type": "markdown",
   "id": "73033896",
   "metadata": {
    "slideshow": {
     "slide_type": "slide"
    }
   },
   "source": [
    "<h3 style='color:red; font-weight:bold; text-align:center; font-family: \"Times New Roman\", Times, serif;'>EXERECISE 5: Loops  </h3>\n",
    "<p align='justify' style='margin: 10px 20px; color : purple; line-height:1.5; font-family: \"Times New Roman\", Times, serif; font-size:16px;'>\n",
    "    <strong>Choose any two questions from this exercise</strong>\n",
    "</p>\n",
    "<p align='justify' style='margin: 10px 20px; line-height:1.5; font-family: \"Times New Roman\", Times, serif; font-size:16px;'>\n",
    "    \n",
    "    \n",
    "  <ul style='font-family: \"Times New Roman\", Times, serif; font-weight:light; font-size:16px;'>\n",
    "      <li>Write a for loop that iterates through a list of numbers and prints each number multiplied by 2.</li><br>\n",
    "      <li>Write a while loop that continues to ask the user for a number until they enter the number 5. Print the number of times the user had to enter a number before getting it correct.</li><br>\n",
    "      <li>Write a while loop that continues to ask the user for a number and uses the \"continue\" statement to skip over any even numbers entered. Print the total of all odd numbers entered by the user.</li><br>\n",
    "      \n",
    "      \n",
    "      \n",
    "    \n",
    "    \n",
    "  </ul>\n",
    "</p>"
   ]
  },
  {
   "cell_type": "code",
   "execution_count": 4,
   "id": "9e6130b6",
   "metadata": {
    "slideshow": {
     "slide_type": "subslide"
    }
   },
   "outputs": [],
   "source": [
    "# Answers1 here"
   ]
  },
  {
   "cell_type": "code",
   "execution_count": null,
   "id": "6392ff6e",
   "metadata": {
    "slideshow": {
     "slide_type": "subslide"
    }
   },
   "outputs": [],
   "source": [
    "# Answer2 here"
   ]
  },
  {
   "cell_type": "markdown",
   "id": "a8dd429a",
   "metadata": {
    "slideshow": {
     "slide_type": "slide"
    }
   },
   "source": [
    "<h3 style='color:red; font-weight:bold; text-align:center; font-family: \"Times New Roman\", Times, serif;'>EXERECISE 6: First Notions of Modularity </h3>\n",
    "<p align='justify' style='margin: 10px 20px; color : purple; line-height:1.5; font-family: \"Times New Roman\", Times, serif; font-size:16px;'>\n",
    "    <strong>Choose any two questions from this exercise</strong>\n",
    "</p>\n",
    "<p align='justify' style='margin: 10px 20px; line-height:1.5; font-family: \"Times New Roman\", Times, serif; font-size:16px;'>\n",
    "    \n",
    "    \n",
    "  <ul style='font-family: \"Times New Roman\", Times, serif; font-weight:light; font-size:16px;'>\n",
    "      <li>Write a function that takes in a list of numbers and returns the largest number in the list using a for loop.</li><br>\n",
    "      <li>Create a function that takes in a number of weeks and calculates the total number of days in that many weeks.</li><br>\n",
    "      <li>Write a function that takes in an integer and finds out if the integer is prime or not using a while loop and the break statement.</li><br>\n",
    "      \n",
    "      \n",
    "      \n",
    "    \n",
    "    \n",
    "  </ul>\n",
    "</p>"
   ]
  },
  {
   "cell_type": "code",
   "execution_count": 13,
   "id": "964e58b6",
   "metadata": {
    "slideshow": {
     "slide_type": "subslide"
    }
   },
   "outputs": [],
   "source": [
    "# Answers1 here"
   ]
  },
  {
   "cell_type": "code",
   "execution_count": 12,
   "id": "79e3f6e9",
   "metadata": {
    "slideshow": {
     "slide_type": "subslide"
    }
   },
   "outputs": [],
   "source": [
    "# Answer2 here"
   ]
  },
  {
   "cell_type": "markdown",
   "id": "d338919e",
   "metadata": {
    "slideshow": {
     "slide_type": "slide"
    }
   },
   "source": [
    "<h3 style='color:red; font-weight:bold; text-align:center; font-family: \"Times New Roman\", Times, serif;'>EXERECISE 7: Choose three questions from this section </h3>\n",
    "<p align='justify' style='margin: 10px 20px; color : purple; line-height:1.5; font-family: \"Times New Roman\", Times, serif; font-size:16px;'>\n",
    "    <strong>Choose any three questions from this exercise</strong>\n",
    "</p>\n",
    "<p align='justify' style='margin: 10px 20px; line-height:1.5; font-family: \"Times New Roman\", Times, serif; font-size:16px;'>\n",
    "    \n",
    "    \n",
    "  <ul style='font-family: \"Times New Roman\", Times, serif; font-weight:light; font-size:16px;'>\n",
    "      <li>Write a function that takes a string and a regular expression as input, and returns a Boolean indicating whether the string matches the regular expression.</li><br>\n",
    "      <li>Write a class that represents a bank account, with methods for depositing and withdrawing money, as well as a property that returns the current balance.</li><br>\n",
    "      <li>Write a script that uses the multiprocessing module to launch two parallel processes, each of which increments a shared counter. The script should then print the final value of the counter.</li><br>\n",
    "      <li>Write a decorator that measures the execution time of a function and prints the result to the console.</li><br>\n",
    "      <li>Write a script that reads a CSV file and uses the data to create a list of objects, where each object represents a row in the file. The script should also implement a method for searching for a specific row in the list based on a given value.</li><br>\n",
    "      <li>Write a function that takes a date as input and returns the number of days until the same date in the next year.</li><br>\n",
    "      <li>Write a class that represents a password, with a method for verifying that a given plaintext password matches the stored hashed password, and a method for updating the password to a new value.</li>\n",
    "      \n",
    "      \n",
    "      \n",
    "    \n",
    "    \n",
    "  </ul>\n",
    "</p>"
   ]
  },
  {
   "cell_type": "code",
   "execution_count": 7,
   "id": "19444e5c",
   "metadata": {
    "slideshow": {
     "slide_type": "subslide"
    }
   },
   "outputs": [],
   "source": [
    "# Answer1 Here"
   ]
  },
  {
   "cell_type": "code",
   "execution_count": 8,
   "id": "c9b506d1",
   "metadata": {
    "slideshow": {
     "slide_type": "subslide"
    }
   },
   "outputs": [],
   "source": [
    "# Answer2 Here"
   ]
  },
  {
   "cell_type": "code",
   "execution_count": 9,
   "id": "81af7e23",
   "metadata": {
    "slideshow": {
     "slide_type": "subslide"
    }
   },
   "outputs": [],
   "source": [
    "# Answer3 here"
   ]
  }
 ],
 "metadata": {
  "celltoolbar": "Slideshow",
  "kernelspec": {
   "display_name": "Python 3 (ipykernel)",
   "language": "python",
   "name": "python3"
  },
  "language_info": {
   "codemirror_mode": {
    "name": "ipython",
    "version": 3
   },
   "file_extension": ".py",
   "mimetype": "text/x-python",
   "name": "python",
   "nbconvert_exporter": "python",
   "pygments_lexer": "ipython3",
   "version": "3.9.13"
  },
  "toc": {
   "base_numbering": 1,
   "nav_menu": {},
   "number_sections": false,
   "sideBar": true,
   "skip_h1_title": false,
   "title_cell": "Table of Contents",
   "title_sidebar": "Contents",
   "toc_cell": false,
   "toc_position": {
    "height": "554.545px",
    "left": "21px",
    "top": "45.2789px",
    "width": "312.18px"
   },
   "toc_section_display": true,
   "toc_window_display": false
  }
 },
 "nbformat": 4,
 "nbformat_minor": 5
}
