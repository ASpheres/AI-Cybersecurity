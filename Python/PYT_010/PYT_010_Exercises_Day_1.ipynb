{
 "cells": [
  {
   "cell_type": "markdown",
   "id": "67d9a103",
   "metadata": {
    "slideshow": {
     "slide_type": "slide"
    }
   },
   "source": [
    "<a href=\"https://asphere.fr/\">\n",
    "    <img src=\"logo2.png\" width=\"500\" height=\"400\" style=\"display: block; margin: 0 auto;\">\n",
    "</a>\n",
    "<h1 style=\"text-align: center; font-family: 'Times New Roman', Times,serif ; color: purple; margin-right: 25px; margin-left: 70px;\">PYTHON FOR BEGINNERS (EXRCISES)</h1>\n",
    "<h4 style=\"text-align: center; font-family: 'Times New Roman', Times,serif ; color: black; margin-right: 25px; margin-left: 70px;\">PPYT_010</h4>\n",
    "<h5 style=\"text-align: center; font-family: 'Times New Roman', Times,serif ; color: black; margin-right: 25px; margin-left: 70px;\">DURATION: Three Days (21 Hrs)</h5>\n",
    "<h4 style=\"text-align: center; font-family: 'Times New Roman', Times,serif ; color: black; margin-right: 25px; margin-left: 70px;\">OBJECTIVES</h4>\n",
    "<a href=\"https://asphere.fr/\">\n",
    "    <img src=\"python-icon-png-7.jpg\" width=\"80\" height=\"100\" style=\"float: right; margin-right: 25px; margin-left: 70px;\">\n",
    "</a>\n",
    "<h5 style=\"text-align: center; font-family: 'Times New Roman', Times,serif ; color: purple; margin-right: 70px; margin-left: 70px;\">These exercises will help students to practice different concepts of data types in Python. It is important to remember that practice and experimentation are key to becoming proficient in programming, so keep experimenting with different data types and try building your own programs.</h5>"
   ]
  },
  {
   "cell_type": "markdown",
   "id": "00cb8260",
   "metadata": {
    "slideshow": {
     "slide_type": "subslide"
    }
   },
   "source": [
    "<h3 style='color:red; font-weight:bold; text-align:center; font-family: \"Times New Roman\", Times, serif;'>EXERECISE 0: What is Python</h3>\n",
    "<p align='justify' style='margin: 10px 20px; line-height:1.5; font-family: \"Times New Roman\", Times, serif; font-size:16px;'>\n",
    "    \n",
    "    \n",
    "  <ul style='font-family: \"Times New Roman\", Times, serif; font-weight:light; font-size:16px;'>\n",
    "      <li>Define Python and explain its role as a programming language.</li><br>\n",
    "      <li>Discuss the origins of Python and its creator, Guido van Rossum.</li><br>\n",
    "      <li>Trace the history of Python, from its creation in the late 1980s to the present day.</li>\n",
    "      <li>Describe the major versions of Python and the changes that were made in each.</li><br>\n",
    "      <li>Discuss the reasons why Python is considered to be a valuable programming language to learn.</li>\n",
    "      \n",
    "    \n",
    "    \n",
    "  </ul>\n",
    "</p>"
   ]
  },
  {
   "cell_type": "code",
   "execution_count": 3,
   "id": "5fe25386",
   "metadata": {
    "slideshow": {
     "slide_type": "subslide"
    }
   },
   "outputs": [],
   "source": [
    "# Answers Here"
   ]
  },
  {
   "cell_type": "markdown",
   "id": "58add301",
   "metadata": {
    "slideshow": {
     "slide_type": "slide"
    }
   },
   "source": [
    "<h3 style='color:red; font-weight:bold; text-align:center; font-family: \"Times New Roman\", Times, serif;'>EXERECISE 1: The Command Interpreter </h3>\n",
    "<p align='justify' style='margin: 10px 20px; line-height:1.5; font-family: \"Times New Roman\", Times, serif; font-size:16px;'>\n",
    "    \n",
    "    \n",
    "  <ul style='font-family: \"Times New Roman\", Times, serif; font-weight:light; font-size:16px;'>\n",
    "      <li>What is the command interpreter and what is its purpose?</li><br>\n",
    "      <li>How can you run a Python script from the command line? (Demonstrate)</li><br>\n",
    "      <li>Can you explain the basic syntax of Python and give an example of a simple Python program?</li><br>\n",
    "      <li>How do you add comments in a Python script and why is it important to do so?</li>\n",
    "      \n",
    "    \n",
    "    \n",
    "  </ul>\n",
    "</p>"
   ]
  },
  {
   "cell_type": "code",
   "execution_count": null,
   "id": "ee780934",
   "metadata": {
    "slideshow": {
     "slide_type": "subslide"
    }
   },
   "outputs": [],
   "source": [
    "# Answers Here"
   ]
  },
  {
   "cell_type": "markdown",
   "id": "d967835d",
   "metadata": {
    "slideshow": {
     "slide_type": "slide"
    }
   },
   "source": [
    "<h3 style='color:red; font-weight:bold; text-align:center; font-family: \"Times New Roman\", Times, serif;'>EXERECISE 2: Variables </h3>\n",
    "<p align='justify' style='margin: 10px 20px; line-height:1.5; font-family: \"Times New Roman\", Times, serif; font-size:16px;'>\n",
    "    \n",
    "    \n",
    "  <ul style='font-family: \"Times New Roman\", Times, serif; font-weight:light; font-size:16px;'>\n",
    "      <li>Create a program that assigns an integer value to a variable and then prints out the value of that variable.</li><br>\n",
    "      <li>Write a program that assigns a floating-point value to a variable and then prints out the value of that variable.</li><br>\n",
    "      <li>Create a program that assigns a string value to a variable and then prints out the value of that variable.</li><br>\n",
    "      <li>Write a program that assigns a Boolean value to a variable and then prints out the value of that variable.</li><br>\n",
    "      <li>Create a program that assigns an integer value to a variable and then reassigns a string value to the same variable. (What happens? can you explain it?)</li><br>\n",
    "      <li>Create a program that assigns two integer values to two different variables and then performs basic arithmetic operations like addition, subtraction, multiplication, and division on those variables and prints out the results.</li>\n",
    "      \n",
    "    \n",
    "    \n",
    "  </ul>\n",
    "</p>"
   ]
  },
  {
   "cell_type": "code",
   "execution_count": 8,
   "id": "b90d726f",
   "metadata": {
    "slideshow": {
     "slide_type": "subslide"
    }
   },
   "outputs": [],
   "source": [
    "# Answers Below"
   ]
  },
  {
   "cell_type": "markdown",
   "id": "f146da35",
   "metadata": {
    "slideshow": {
     "slide_type": "slide"
    }
   },
   "source": [
    "<h3 style='color:red; font-weight:bold; text-align:center; font-family: \"Times New Roman\", Times, serif;'>EXERECISE 3: Data Types </h3>\n",
    "<p align='justify' style='margin: 10px 20px; line-height:1.5; font-family: \"Times New Roman\", Times, serif; font-size:16px;'>\n",
    "    \n",
    "    \n",
    "  <ul style='font-family: \"Times New Roman\", Times, serif; font-weight:light; font-size:16px;'>\n",
    "      <li>Write a program that creates a tuple of strings, and then uses the built-in function count() to count the number of occurrences of a specific string in the tuple and print it.</li><br>\n",
    "      <li>Write a program that creates a set of integers, and then use the built-in function add() to add a new element to the set, and then prints out the new set.</li><br>\n",
    "      <li>Create a program that creates a list of integers, and then use indexing to print out the third element of the list.</li><br>\n",
    "      <li>Write a program that creates a string, and then use indexing to print out the second character of the string.</li>\n",
    "      \n",
    "    \n",
    "    \n",
    "  </ul>\n",
    "</p>"
   ]
  },
  {
   "cell_type": "code",
   "execution_count": 3,
   "id": "89b83344",
   "metadata": {
    "slideshow": {
     "slide_type": "subslide"
    }
   },
   "outputs": [],
   "source": [
    "# Answers here"
   ]
  }
 ],
 "metadata": {
  "celltoolbar": "Slideshow",
  "kernelspec": {
   "display_name": "Python 3 (ipykernel)",
   "language": "python",
   "name": "python3"
  },
  "language_info": {
   "codemirror_mode": {
    "name": "ipython",
    "version": 3
   },
   "file_extension": ".py",
   "mimetype": "text/x-python",
   "name": "python",
   "nbconvert_exporter": "python",
   "pygments_lexer": "ipython3",
   "version": "3.9.13"
  },
  "toc": {
   "base_numbering": 1,
   "nav_menu": {},
   "number_sections": false,
   "sideBar": true,
   "skip_h1_title": false,
   "title_cell": "Table of Contents",
   "title_sidebar": "Contents",
   "toc_cell": false,
   "toc_position": {
    "height": "554.545px",
    "left": "21px",
    "top": "45.2789px",
    "width": "312.18px"
   },
   "toc_section_display": true,
   "toc_window_display": false
  }
 },
 "nbformat": 4,
 "nbformat_minor": 5
}
