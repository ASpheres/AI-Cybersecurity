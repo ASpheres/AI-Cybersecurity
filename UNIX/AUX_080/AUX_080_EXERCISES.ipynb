{
 "cells": [
  {
   "cell_type": "markdown",
   "id": "5b173857",
   "metadata": {
    "slideshow": {
     "slide_type": "slide"
    }
   },
   "source": [
    "<a href=\"https://asphere.fr/\">\n",
    "    <img src=\"logo2.png\" width=\"500\" height=\"400\" style=\"display: block; margin: 0 auto;\">\n",
    "</a>\n",
    "<h1 style=\"text-align: center; font-family: 'Times New Roman', Times,serif ; color: purple; margin-right: 25px; margin-left: 70px;\">UNIX ADMIN EXERCISES </h1>\n",
    "<h4 style=\"text-align: center; font-family: 'Times New Roman', Times,serif ; color: black; margin-right: 25px; margin-left: 70px;\">AUX_080</h4><br><br>\n",
    "<h4 style=\"text-align: center; font-family: 'Times New Roman', Times,serif ; color: black; margin-right: 25px; margin-left: 70px;\">OBJECTIVES</h4>\n",
    "<a href=\"https://asphere.fr/\">\n",
    "    <img src=\"unixlinux.webp\" width=\"100\" height=\"100\" style=\"float: right; margin-right: 25px; margin-left: 70px;\">\n",
    "</a>\n",
    "<h5 style=\"text-align: center; font-family: 'Times New Roman', Times,serif ; color: purple; margin-right: 90px; margin-left: 225px;\">From command to advanced scripts, presentation and benefits of the shell language </h5>"
   ]
  },
  {
   "cell_type": "markdown",
   "id": "65d65d15",
   "metadata": {
    "slideshow": {
     "slide_type": "subslide"
    }
   },
   "source": [
    "<h3 style='color:red; font-weight:bold; text-align:center; font-family: \"Times New Roman\", Times, serif;'>EXERCISE : Introduction </h3>\n",
    "<p align='justify' style='margin: 10px 20px; line-height:1.5; font-family: \"Times New Roman\", Times, serif; font-size:16px;'>\n",
    "    \n",
    "    \n",
    "  <ul style='font-family: \"Times New Roman\", Times, serif; font-weight:light; font-size:16px;'>\n",
    "      <li>How do the principles of Unix and Linux continue to shape the direction of the open-source community today?</li>\n",
    "      \n",
    "      \n",
    "    \n",
    "    \n",
    "  </ul>\n",
    "</p><br>\n",
    "<p align='justify' style='margin: 10px 20px; line-height:1.5; font-family: \"Times New Roman\", Times, serif; font-size:16px; color: purple'>\n",
    "  The principles of Unix and Linux have had a profound impact on the direction of the open-source community. Unix was designed to be a modular, flexible operating system that could be easily adapted to different hardware platforms and user needs. These principles have been carried forward to modern Linux distributions, which are built on the idea of modularity and customization.<br><br> One of the key principles of Unix and Linux is the idea of small, simple tools that do one thing well. This has led to the development of a vast ecosystem of open-source software that is designed to work together seamlessly. In addition, the emphasis on open standards and interoperability has led to the development of many open-source tools and protocols that are widely used today, such as TCP/IP, HTTP, and the GNU Compiler Collection.\n",
    "\n",
    "</p>"
   ]
  },
  {
   "cell_type": "markdown",
   "id": "befba9e0",
   "metadata": {
    "slideshow": {
     "slide_type": "subslide"
    }
   },
   "source": [
    "<p align='justify' style='margin: 10px 20px; line-height:1.5; font-family: \"Times New Roman\", Times, serif; font-size:16px;'>\n",
    "    \n",
    "    \n",
    "  <ul style='font-family: \"Times New Roman\", Times, serif; font-weight:light; font-size:16px;'>\n",
    "      <li>What are some of the challenges that Unix and Linux have faced over the years, and how have they been addressed?</li>\n",
    "      \n",
    "      \n",
    "    \n",
    "    \n",
    "  </ul>\n",
    "</p><br>\n",
    "<p align='justify' style='margin: 10px 20px; line-height:1.5; font-family: \"Times New Roman\", Times, serif; font-size:16px; color: purple'>\n",
    "    <b>Fragmentation: </b> With so many different distributions and versions of Unix and Linux, it can be difficult to maintain compatibility and interoperability. This has been addressed by the development of open standards and tools, as well as efforts to promote compatibility and collaboration.\n",
    "\n",
    "</p><br>\n",
    "<p align='justify' style='margin: 10px 20px; line-height:1.5; font-family: \"Times New Roman\", Times, serif; font-size:16px; color: purple'>\n",
    "    <b>Security </b>  Unix and Linux have been targeted by hackers and malware over the years, leading to a need for increased security measures. This has been addressed through the development of improved security features and the use of tools such as firewalls, intrusion detection systems, and antivirus software.\n",
    "\n",
    "</p><br>\n",
    "<p align='justify' style='margin: 10px 20px; line-height:1.5; font-family: \"Times New Roman\", Times, serif; font-size:16px; color: purple'>\n",
    "    <b>User-friendliness: </b>  Unix and Linux were originally designed for technical users, which made them difficult to use for non-technical users. This has been addressed by the development of user-friendly graphical interfaces and the use of standardized documentation and tutorials.\n",
    "\n",
    "</p><br>\n",
    "<p align='justify' style='margin: 10px 20px; line-height:1.5; font-family: \"Times New Roman\", Times, serif; font-size:16px; color: purple'>\n",
    "    <b>Hardware compatibility:  </b>  Because of the wide range of hardware platforms that Unix and Linux can run on, it can be challenging to ensure compatibility with all devices. This has been addressed through the development of device drivers and the use of open standards for hardware communication.\n",
    "\n",
    "</p><br>"
   ]
  },
  {
   "cell_type": "markdown",
   "id": "05bdd98c",
   "metadata": {
    "slideshow": {
     "slide_type": "subslide"
    }
   },
   "source": [
    "<p align='justify' style='margin: 10px 20px; line-height:1.5; font-family: \"Times New Roman\", Times, serif; font-size:16px;'>\n",
    "    \n",
    "    \n",
    "  <ul style='font-family: \"Times New Roman\", Times, serif; font-weight:light; font-size:16px;'>\n",
    "      <li>Who developed Unix, and why?</li>\n",
    "      \n",
    "      \n",
    "    \n",
    "    \n",
    "  </ul>\n",
    "</p><br>\n",
    "<p align='justify' style='margin: 10px 20px; line-height:1.5; font-family: \"Times New Roman\", Times, serif; font-size:16px; color: purple'>\n",
    "    Unix was developed by a team of programmers at Bell Labs, which was part of the American Telephone & Telegraph (AT&T) company at the time.<br><br>Unix was developed in order to provide a more flexible and powerful operating system for the PDP-7 minicomputer that the team was using at the time. The team was dissatisfied with the limitations of the operating systems that were available at the time, and they saw an opportunity to create something more modular and adaptable.\n",
    "\n",
    "</p><br>"
   ]
  },
  {
   "cell_type": "markdown",
   "id": "38e8ab34",
   "metadata": {
    "slideshow": {
     "slide_type": "subslide"
    }
   },
   "source": [
    "<p align='justify' style='margin: 10px 20px; line-height:1.5; font-family: \"Times New Roman\", Times, serif; font-size:16px;'>\n",
    "    \n",
    "    \n",
    "  <ul style='font-family: \"Times New Roman\", Times, serif; font-weight:light; font-size:16px;'>\n",
    "      <li>What is the philosophy behind the design of Unix?</li>\n",
    "      \n",
    "      \n",
    "    \n",
    "    \n",
    "  </ul>\n",
    "</p><br>\n",
    "<p align='justify' style='margin: 10px 20px; line-height:1.5; font-family: \"Times New Roman\", Times, serif; font-size:16px; color: purple'>\n",
    "    The philosophy behind the design of Unix is to create an operating system with simple, modular tools that can work together to accomplish complex tasks. It values simplicity, flexibility, and the use of small, well-designed programs that do one thing well.\n",
    "\n",
    "</p>"
   ]
  },
  {
   "cell_type": "markdown",
   "id": "11039538",
   "metadata": {
    "slideshow": {
     "slide_type": "subslide"
    }
   },
   "source": [
    "<p align='justify' style='margin: 10px 20px; line-height:1.5; font-family: \"Times New Roman\", Times, serif; font-size:16px;'>\n",
    "    \n",
    "    \n",
    "  <ul style='font-family: \"Times New Roman\", Times, serif; font-weight:light; font-size:16px;'>\n",
    "      <li>What is Linux, and how does it relate to Unix?</li>\n",
    "      \n",
    "      \n",
    "    \n",
    "    \n",
    "  </ul>\n",
    "</p><br>\n",
    "<p align='justify' style='margin: 10px 20px; line-height:1.5; font-family: \"Times New Roman\", Times, serif; font-size:16px; color: purple'>\n",
    "    Linux is a free and open-source operating system that is based on the Unix operating system. While it was not developed from the original Unix codebase, it was designed to be compatible with Unix and to offer many of the same features and benefits. Linux is known for its flexibility, modularity, and strong support for open standards and interoperability.\n",
    "\n",
    "</p>"
   ]
  },
  {
   "cell_type": "markdown",
   "id": "20e68a68",
   "metadata": {
    "slideshow": {
     "slide_type": "subslide"
    }
   },
   "source": [
    "<p align='justify' style='margin: 10px 20px; line-height:1.5; font-family: \"Times New Roman\", Times, serif; font-size:16px;'>\n",
    "    \n",
    "    \n",
    "  <ul style='font-family: \"Times New Roman\", Times, serif; font-weight:light; font-size:16px;'>\n",
    "      <li>How do file permissions work in Unix and Linux, and how can they be used to control access to files and directories?</li>\n",
    "      \n",
    "      \n",
    "    \n",
    "    \n",
    "  </ul>\n",
    "</p><br>\n",
    "<p align='justify' style='margin: 10px 20px; line-height:1.5; font-family: \"Times New Roman\", Times, serif; font-size:16px; color: purple'>\n",
    "    In Unix and Linux, file permissions determine who can read, write, or execute files and directories. Each file has three types of permissions - read, write, and execute - for the owner of the file, the group that the file belongs to, and all other users. These permissions can be set using the \"chmod\" command.\n",
    "</p>"
   ]
  },
  {
   "cell_type": "markdown",
   "id": "e58bf6cf",
   "metadata": {
    "slideshow": {
     "slide_type": "subslide"
    }
   },
   "source": [
    "<p align='justify' style='margin: 10px 20px; line-height:1.5; font-family: \"Times New Roman\", Times, serif; font-size:16px;'>\n",
    "    \n",
    "    \n",
    "  <ul style='font-family: \"Times New Roman\", Times, serif; font-weight:light; font-size:16px;'>\n",
    "      <li>What is the root directory, and what is its significance in the file system hierarchy?</li>\n",
    "      \n",
    "      \n",
    "    \n",
    "    \n",
    "  </ul>\n",
    "</p><br>\n",
    "<p align='justify' style='margin: 10px 20px; line-height:1.5; font-family: \"Times New Roman\", Times, serif; font-size:16px; color: purple'>\n",
    "    In Unix and Linux, the root directory is the top-level directory in the file system hierarchy. It is denoted by the forward slash character (\"/\") and contains all other directories and files in the file system.<br><br>The root directory is significant because it provides a starting point for navigating and accessing files and directories in the file system. It is the parent directory of all other directories, and all file paths in the file system start at the root directory.<br><br>In addition, the root directory is typically only accessible to the system administrator, or \"root\" user, which helps to maintain the security and integrity of the file system. The root user has full permissions to access and modify any file or directory in the file system, which is why it is important to use this account with caution.\n",
    "\n",
    "\n",
    "</p>"
   ]
  },
  {
   "cell_type": "markdown",
   "id": "3ff2800b",
   "metadata": {
    "slideshow": {
     "slide_type": "subslide"
    }
   },
   "source": [
    "<p align='justify' style='margin: 10px 20px; line-height:1.5; font-family: \"Times New Roman\", Times, serif; font-size:16px;'>\n",
    "    \n",
    "    \n",
    "  <ul style='font-family: \"Times New Roman\", Times, serif; font-weight:light; font-size:16px;'>\n",
    "      <li>What is a file system, and why is it important in a computer operating system?</li>\n",
    "      \n",
    "      \n",
    "    \n",
    "    \n",
    "  </ul>\n",
    "</p><br>\n",
    "<p align='justify' style='margin: 10px 20px; line-height:1.5; font-family: \"Times New Roman\", Times, serif; font-size:16px; color: purple'>\n",
    "    A file system is a way of organizing and storing files on a computer. It provides a structure for files and directories, and allows users to access, modify, and delete files. A file system is important in a computer operating system because it allows users and programs to manage data and resources efficiently and securely.\n",
    "</p>"
   ]
  },
  {
   "cell_type": "markdown",
   "id": "6a7be173",
   "metadata": {
    "slideshow": {
     "slide_type": "subslide"
    }
   },
   "source": [
    "<h3 style='color:red; font-weight:bold; text-align:center; font-family: \"Times New Roman\", Times, serif;'>Exercise 1: Basic Unix and Linux commands  </h3>\n",
    "<p align='justify' style='margin: 10px 20px; line-height:1.5; font-family: \"Times New Roman\", Times, serif; font-size:16px;'>\n",
    "    \n",
    "    \n",
    "  <ul style='font-family: \"Times New Roman\", Times, serif; font-weight:light; font-size:16px;'>\n",
    "      <li>Can the \"pwd\" command be used to display the relative path of the current working directory, rather than the absolute path? If so, how?</li>\n",
    "      \n",
    "      \n",
    "    \n",
    "    \n",
    "  </ul>\n",
    "</p><br>\n",
    "<p align='justify' style='margin: 10px 20px; line-height:1.5; font-family: \"Times New Roman\", Times, serif; font-size:16px; color: purple'>\n",
    "  No, the \"pwd\" command always displays the absolute path of the current working directory. If you want to display the relative path of the current working directory, you can use the \"echo\" command along with the \"PWD\" environment variable, like this:\n",
    "\n",
    "</p>"
   ]
  },
  {
   "cell_type": "code",
   "execution_count": 3,
   "id": "08074c74",
   "metadata": {
    "slideshow": {
     "slide_type": "subslide"
    }
   },
   "outputs": [
    {
     "name": "stdout",
     "output_type": "stream",
     "text": [
      "/home/sark\n"
     ]
    }
   ],
   "source": [
    "%%bash\n",
    "echo $PWD"
   ]
  },
  {
   "cell_type": "markdown",
   "id": "e31e282a",
   "metadata": {
    "slideshow": {
     "slide_type": "subslide"
    }
   },
   "source": [
    "<p align='justify' style='margin: 10px 20px; line-height:1.5; font-family: \"Times New Roman\", Times, serif; font-size:16px;'>\n",
    "    \n",
    "    \n",
    "  <ul style='font-family: \"Times New Roman\", Times, serif; font-weight:light; font-size:16px;'>\n",
    "      <li>Is it possible to use wildcards with the \"cd\" command to change to a directory that partially matches a specific pattern?</li>\n",
    "      \n",
    "      \n",
    "    \n",
    "    \n",
    "  </ul>\n",
    "</p><br>\n",
    "<p align='justify' style='margin: 10px 20px; line-height:1.5; font-family: \"Times New Roman\", Times, serif; font-size:16px; color: purple'>\n",
    "  No, it is not possible to use wildcards with the \"cd\" command to change to a directory that partially matches a specific pattern. The \"cd\" command can only be used to change to a directory by specifying its exact name or path. <br><br> However, you can use wildcards with the \"ls\" command to list directories and files that match a specific pattern, and then use the \"cd\" command to change to the directory that you want. For example, the command \"ls -d */\" will list all directories in the current directory, and you can then use the \"cd\" command to change to the directory that you want.\n",
    "\n",
    "</p>"
   ]
  },
  {
   "cell_type": "markdown",
   "id": "3c1f299c",
   "metadata": {
    "slideshow": {
     "slide_type": "subslide"
    }
   },
   "source": [
    "<p align='justify' style='margin: 10px 20px; line-height:1.5; font-family: \"Times New Roman\", Times, serif; font-size:16px;'>\n",
    "    \n",
    "    \n",
    "  <ul style='font-family: \"Times New Roman\", Times, serif; font-weight:light; font-size:16px;'>\n",
    "      <li>How can I use the ls command to view the contents of a specific directory, rather than the current working directory?</li>\n",
    "      \n",
    "      \n",
    "    \n",
    "    \n",
    "  </ul>\n",
    "</p><br>\n",
    "<p align='justify' style='margin: 10px 20px; line-height:1.5; font-family: \"Times New Roman\", Times, serif; font-size:16px; color: purple'>\n",
    "  To view the contents of a specific directory using the \"ls\" command, you can specify the path of the directory as an argument to the command, like this:\n",
    "</p>"
   ]
  },
  {
   "cell_type": "code",
   "execution_count": null,
   "id": "eb45c7e3",
   "metadata": {
    "slideshow": {
     "slide_type": "subslide"
    }
   },
   "outputs": [],
   "source": [
    "%%bash\n",
    "ls /path/to/directory"
   ]
  },
  {
   "cell_type": "markdown",
   "id": "17712aaa",
   "metadata": {
    "slideshow": {
     "slide_type": "subslide"
    }
   },
   "source": [
    "<p align='justify' style='margin: 10px 20px; line-height:1.5; font-family: \"Times New Roman\", Times, serif; font-size:16px; color: purple'>\n",
    "  This will list the contents of the directory specified by the path, rather than the current working directory.\n",
    "</p>"
   ]
  },
  {
   "cell_type": "markdown",
   "id": "f608afdd",
   "metadata": {
    "slideshow": {
     "slide_type": "subslide"
    }
   },
   "source": [
    "<p align='justify' style='margin: 10px 20px; line-height:1.5; font-family: \"Times New Roman\", Times, serif; font-size:16px;'>\n",
    "    \n",
    "    \n",
    "  <ul style='font-family: \"Times New Roman\", Times, serif; font-weight:light; font-size:16px;'>\n",
    "      <li> Is it possible to use the mkdir command to create a new directory with a specific set of permissions? If so, how do I specify the desired permissions?</li>\n",
    "      \n",
    "      \n",
    "    \n",
    "    \n",
    "  </ul>\n",
    "</p><br>\n",
    "<p align='justify' style='margin: 10px 20px; line-height:1.5; font-family: \"Times New Roman\", Times, serif; font-size:16px; color: purple'>\n",
    "  Yes, it is possible to use the \"mkdir\" command to create a new directory with a specific set of permissions using the \"-m\" option, followed by a three-digit number that specifies the desired permissions. The three digits represent the permissions for the owner, the group, and others, respectively, where the digits are the sum of the values for each of the permissions: read (4), write (2), and execute (1).\n",
    "</p>"
   ]
  },
  {
   "cell_type": "markdown",
   "id": "4a36ece3",
   "metadata": {
    "slideshow": {
     "slide_type": "subslide"
    }
   },
   "source": [
    "<p align='justify' style='margin: 10px 20px; line-height:1.5; font-family: \"Times New Roman\", Times, serif; font-size:16px;'>\n",
    "    \n",
    "    \n",
    "  <ul style='font-family: \"Times New Roman\", Times, serif; font-weight:light; font-size:16px;'>\n",
    "      <li>How can I use the cp command to copy a file from one location to another, while preserving the original file's modification time and permissions?</li>\n",
    "      \n",
    "      \n",
    "    \n",
    "    \n",
    "  </ul>\n",
    "</p><br>\n",
    "<p align='justify' style='margin: 10px 20px; line-height:1.5; font-family: \"Times New Roman\", Times, serif; font-size:16px; color: purple'>\n",
    "  To use the \"cp\" command to copy a file from one location to another, while preserving the original file's modification time and permissions, you can use the \"-p\" option. The \"-p\" option stands for \"preserve\" and tells the \"cp\" command to preserve the file attributes of the original file, including the modification time and permissions.\n",
    "</p>"
   ]
  },
  {
   "cell_type": "markdown",
   "id": "9720024e",
   "metadata": {
    "slideshow": {
     "slide_type": "subslide"
    }
   },
   "source": [
    "<p align='justify' style='margin: 10px 20px; line-height:1.5; font-family: \"Times New Roman\", Times, serif; font-size:16px;'>\n",
    "    \n",
    "    \n",
    "  <ul style='font-family: \"Times New Roman\", Times, serif; font-weight:light; font-size:16px;'>\n",
    "      <li>Can the mkdir command be used to create a directory hierarchy, rather than just a single directory? If so, how?</li>\n",
    "      \n",
    "      \n",
    "    \n",
    "    \n",
    "  </ul>\n",
    "</p><br>\n",
    "<p align='justify' style='margin: 10px 20px; line-height:1.5; font-family: \"Times New Roman\", Times, serif; font-size:16px; color: purple'>\n",
    "  Yes, the \"mkdir\" command can be used to create a directory hierarchy, or a series of nested directories, using the \"-p\" option. The \"-p\" option stands for \"parent\" and tells the \"mkdir\" command to create any parent directories that do not already exist.<br><br>For example, the command \"mkdir -p /path/to/newdirectory\" will create a new directory called \"newdirectory\" within the path \"/path/to/\", and will create any parent directories that do not already exist. If the directory \"/path/to/\" does not exist, the \"mkdir\" command will create it before creating the \"newdirectory\" within it. This allows you to create complex directory hierarchies with a single command.\n",
    "\n",
    "\n",
    "</p>"
   ]
  },
  {
   "cell_type": "markdown",
   "id": "02e248ff",
   "metadata": {
    "slideshow": {
     "slide_type": "subslide"
    }
   },
   "source": [
    "<p align='justify' style='margin: 10px 20px; line-height:1.5; font-family: \"Times New Roman\", Times, serif; font-size:16px;'>\n",
    "    \n",
    "    \n",
    "  <ul style='font-family: \"Times New Roman\", Times, serif; font-weight:light; font-size:16px;'>\n",
    "      <li>Can the less command be used to search for a specific string of text within a file? If so, how do I specify the string that I want to search for?</li>\n",
    "      \n",
    "      \n",
    "    \n",
    "    \n",
    "  </ul>\n",
    "</p><br>\n",
    "<p align='justify' style='margin: 10px 20px; line-height:1.5; font-family: \"Times New Roman\", Times, serif; font-size:16px; color: purple'>\n",
    "  Yes, the \"less\" command can be used to search for a specific string of text within a file using the \"/\" command. To search for a string, open the file in \"less\" and then type \"/\" followed by the string that you want to search for. For example, to search for the string \"example\" within a file, you would enter:\n",
    "</p>"
   ]
  },
  {
   "cell_type": "code",
   "execution_count": null,
   "id": "465716c4",
   "metadata": {
    "slideshow": {
     "slide_type": "subslide"
    }
   },
   "outputs": [],
   "source": [
    "%%bash\n",
    "\n",
    "less myfile.txt\n",
    "/example"
   ]
  },
  {
   "cell_type": "markdown",
   "id": "80a232e5",
   "metadata": {
    "slideshow": {
     "slide_type": "subslide"
    }
   },
   "source": [
    "<p align='justify' style='margin: 10px 20px; line-height:1.5; font-family: \"Times New Roman\", Times, serif; font-size:16px;'>\n",
    "    \n",
    "    \n",
    "  <ul style='font-family: \"Times New Roman\", Times, serif; font-weight:light; font-size:16px;'>\n",
    "      <li>Can the less command be used to navigate through a file, rather than just view it from start to finish? If so, how do I move forward and backward through the file?</li>\n",
    "      \n",
    "      \n",
    "    \n",
    "    \n",
    "  </ul>\n",
    "</p><br>\n",
    "<p align='justify' style='margin: 10px 20px; line-height:1.5; font-family: \"Times New Roman\", Times, serif; font-size:16px; color: purple'>\n",
    "  Yes, the \"less\" command can be used to navigate through a file, rather than just view it from start to finish. To move forward through the file, press the \"Enter\" key or the space bar. To move backward through the file, press the \"b\" key. To scroll up or down one line at a time, use the up and down arrow keys. To move to the end of the file, press the \"G\" key, and to move to the beginning of the file, press the \"g\" key. To exit \"less\" and return to the command prompt, press the \"q\" key.\n",
    "</p>"
   ]
  },
  {
   "cell_type": "markdown",
   "id": "ffe92f2b",
   "metadata": {
    "slideshow": {
     "slide_type": "subslide"
    }
   },
   "source": [
    "<p align='justify' style='margin: 10px 20px; line-height:1.5; font-family: \"Times New Roman\", Times, serif; font-size:16px;'>\n",
    "    \n",
    "    \n",
    "  <ul style='font-family: \"Times New Roman\", Times, serif; font-weight:light; font-size:16px;'>\n",
    "      <li>Can the grep command be used to search for text that matches a specific case-sensitivity? If so, how do I specify whether the search should be case-sensitive or case-insensitive?</li>\n",
    "      \n",
    "      \n",
    "    \n",
    "    \n",
    "  </ul>\n",
    "</p><br>\n",
    "<p align='justify' style='margin: 10px 20px; line-height:1.5; font-family: \"Times New Roman\", Times, serif; font-size:16px; color: purple'>\n",
    "  Yes, the \"grep\" command can be used to search for text that matches a specific case-sensitivity using the \"-i\" option. The \"-i\" option stands for \"ignore case\" and tells the \"grep\" command to perform a case-insensitive search.<br><br>If you want to perform a case-sensitive search, you do not need to use any additional options, as \"grep\" searches for exact matches by default.\n",
    "</p>"
   ]
  },
  {
   "cell_type": "markdown",
   "id": "9a65b4de",
   "metadata": {
    "slideshow": {
     "slide_type": "subslide"
    }
   },
   "source": [
    "<h3 style='color:red; font-weight:bold; text-align:center; font-family: \"Times New Roman\", Times, serif;'>Exercise 2: Advanced Unix and Linux commands   </h3>\n",
    "<p align='justify' style='margin: 10px 20px; line-height:1.5; font-family: \"Times New Roman\", Times, serif; font-size:16px;'>\n",
    "    \n",
    "    \n",
    "  <ul style='font-family: \"Times New Roman\", Times, serif; font-weight:light; font-size:16px;'>\n",
    "      <li>How can you use the ps command to list all processes running on a system?</li>\n",
    "      \n",
    "      \n",
    "    \n",
    "    \n",
    "  </ul>\n",
    "</p><br>\n",
    "<p align='justify' style='margin: 10px 20px; line-height:1.5; font-family: \"Times New Roman\", Times, serif; font-size:16px; color: purple'>\n",
    "  To use the \"ps\" command to list all processes running on a system, you can enter \"ps aux\" or \"ps -ef\" at the command line.\n",
    "\n",
    "</p>"
   ]
  },
  {
   "cell_type": "markdown",
   "id": "90793035",
   "metadata": {
    "slideshow": {
     "slide_type": "subslide"
    }
   },
   "source": [
    "<p align='justify' style='margin: 10px 20px; line-height:1.5; font-family: \"Times New Roman\", Times, serif; font-size:16px;'>\n",
    "    \n",
    "    \n",
    "  <ul style='font-family: \"Times New Roman\", Times, serif; font-weight:light; font-size:16px;'>\n",
    "      <li> How can you use the top command to view and manage processes on a system?</li>\n",
    "      \n",
    "      \n",
    "    \n",
    "    \n",
    "  </ul>\n",
    "</p><br>\n",
    "<p align='justify' style='margin: 10px 20px; line-height:1.5; font-family: \"Times New Roman\", Times, serif; font-size:16px; color: purple'>\n",
    "  To use the \"top\" command to view and manage processes on a system, you can enter \"top\" at the command line. From there, you can view information about running processes and use various options to sort, filter, and manage them.\n",
    "\n",
    "</p>"
   ]
  },
  {
   "cell_type": "markdown",
   "id": "3ef04e44",
   "metadata": {
    "slideshow": {
     "slide_type": "subslide"
    }
   },
   "source": [
    "<p align='justify' style='margin: 10px 20px; line-height:1.5; font-family: \"Times New Roman\", Times, serif; font-size:16px;'>\n",
    "    \n",
    "    \n",
    "  <ul style='font-family: \"Times New Roman\", Times, serif; font-weight:light; font-size:16px;'>\n",
    "      <li> What is the syntax for using the kill command to terminate a process?</li>\n",
    "      \n",
    "      \n",
    "    \n",
    "    \n",
    "  </ul>\n",
    "</p><br>\n",
    "<p align='justify' style='margin: 10px 20px; line-height:1.5; font-family: \"Times New Roman\", Times, serif; font-size:16px; color: purple'>\n",
    "  The syntax for using the \"kill\" command to terminate a process is \"kill [signal] [PID]\". For example, \"kill 1234\" will send a default \"SIGTERM\" signal to the process with ID \"1234\" to request that it terminate gracefully.\n",
    "\n",
    "</p>"
   ]
  },
  {
   "cell_type": "markdown",
   "id": "6a8cb73e",
   "metadata": {
    "slideshow": {
     "slide_type": "subslide"
    }
   },
   "source": [
    "<p align='justify' style='margin: 10px 20px; line-height:1.5; font-family: \"Times New Roman\", Times, serif; font-size:16px;'>\n",
    "    \n",
    "    \n",
    "  <ul style='font-family: \"Times New Roman\", Times, serif; font-weight:light; font-size:16px;'>\n",
    "      <li> How can you use the ps command to find the process ID (PID) of a specific process?</li>\n",
    "      \n",
    "      \n",
    "    \n",
    "    \n",
    "  </ul>\n",
    "</p><br>\n",
    "<p align='justify' style='margin: 10px 20px; line-height:1.5; font-family: \"Times New Roman\", Times, serif; font-size:16px; color: purple'>\n",
    "  To use the \"ps\" command to find the process ID (PID) of a specific process, you can enter \"ps aux | grep [processname]\" at the command line. This will list all processes that match the specified name, along with their PIDs.\n",
    "\n",
    "</p>"
   ]
  },
  {
   "cell_type": "markdown",
   "id": "bbe24688",
   "metadata": {
    "slideshow": {
     "slide_type": "subslide"
    }
   },
   "source": [
    "<p align='justify' style='margin: 10px 20px; line-height:1.5; font-family: \"Times New Roman\", Times, serif; font-size:16px;'>\n",
    "    \n",
    "    \n",
    "  <ul style='font-family: \"Times New Roman\", Times, serif; font-weight:light; font-size:16px;'>\n",
    "      <li> Can you use the kill command to terminate multiple processes at the same time? If so, how?</li>\n",
    "      \n",
    "      \n",
    "    \n",
    "    \n",
    "  </ul>\n",
    "</p><br>\n",
    "<p align='justify' style='margin: 10px 20px; line-height:1.5; font-family: \"Times New Roman\", Times, serif; font-size:16px; color: purple'>\n",
    "  Yes, you can use the \"kill\" command to terminate multiple processes at the same time by specifying a list of PIDs separated by spaces. For example, \"kill 1234 5678\" will send a \"SIGTERM\" signal to both processes with IDs \"1234\" and \"5678\".\n",
    "\n",
    "</p>"
   ]
  },
  {
   "cell_type": "markdown",
   "id": "91ef5cee",
   "metadata": {
    "slideshow": {
     "slide_type": "subslide"
    }
   },
   "source": [
    "<p align='justify' style='margin: 10px 20px; line-height:1.5; font-family: \"Times New Roman\", Times, serif; font-size:16px;'>\n",
    "    \n",
    "    \n",
    "  <ul style='font-family: \"Times New Roman\", Times, serif; font-weight:light; font-size:16px;'>\n",
    "      <li> What is the syntax for using the usermod command to modify the properties of an existing user?</li>\n",
    "      \n",
    "      \n",
    "    \n",
    "    \n",
    "  </ul>\n",
    "</p><br>\n",
    "<p align='justify' style='margin: 10px 20px; line-height:1.5; font-family: \"Times New Roman\", Times, serif; font-size:16px; color: purple'>\n",
    "  The syntax for using the \"usermod\" command to modify the properties of an existing user is \"usermod [options] [username]\". For example, \"usermod -aG wheel jdoe\" will add the user \"jdoe\" to the \"wheel\" group.\n",
    "\n",
    "</p>"
   ]
  },
  {
   "cell_type": "markdown",
   "id": "86ff9d13",
   "metadata": {
    "slideshow": {
     "slide_type": "subslide"
    }
   },
   "source": [
    "<p align='justify' style='margin: 10px 20px; line-height:1.5; font-family: \"Times New Roman\", Times, serif; font-size:16px;'>\n",
    "    \n",
    "    \n",
    "  <ul style='font-family: \"Times New Roman\", Times, serif; font-weight:light; font-size:16px;'>\n",
    "      <li> How can you use the groupadd command to create a new group on a system?</li>\n",
    "      \n",
    "      \n",
    "    \n",
    "    \n",
    "  </ul>\n",
    "</p><br>\n",
    "<p align='justify' style='margin: 10px 20px; line-height:1.5; font-family: \"Times New Roman\", Times, serif; font-size:16px; color: purple'>\n",
    "  To use the \"groupadd\" command to create a new group on a system, you can enter \"groupadd [groupname]\" at the command line. For example, \"groupadd developers\" will create a new group called \"developers\".\n",
    "\n",
    "</p>"
   ]
  },
  {
   "cell_type": "markdown",
   "id": "81c77718",
   "metadata": {
    "slideshow": {
     "slide_type": "subslide"
    }
   },
   "source": [
    "<p align='justify' style='margin: 10px 20px; line-height:1.5; font-family: \"Times New Roman\", Times, serif; font-size:16px;'>\n",
    "    \n",
    "    \n",
    "  <ul style='font-family: \"Times New Roman\", Times, serif; font-weight:light; font-size:16px;'>\n",
    "      <li>  What is the syntax for using the chgrp command to change the group ownership of a file or directory?</li>\n",
    "      \n",
    "      \n",
    "    \n",
    "    \n",
    "  </ul>\n",
    "</p><br>\n",
    "<p align='justify' style='margin: 10px 20px; line-height:1.5; font-family: \"Times New Roman\", Times, serif; font-size:16px; color: purple'>\n",
    "  The syntax for using the \"chgrp\" command to change the group ownership of a file or directory is \"chgrp [groupname] [filename]\". For example, \"chgrp developers myfile.txt\" will change the group ownership of the file \"myfile.txt\" to the group \"developers\".\n",
    "\n",
    "</p>"
   ]
  },
  {
   "cell_type": "markdown",
   "id": "684a9d36",
   "metadata": {
    "slideshow": {
     "slide_type": "subslide"
    }
   },
   "source": [
    "<p align='justify' style='margin: 10px 20px; line-height:1.5; font-family: \"Times New Roman\", Times, serif; font-size:16px;'>\n",
    "    \n",
    "    \n",
    "  <ul style='font-family: \"Times New Roman\", Times, serif; font-weight:light; font-size:16px;'>\n",
    "      <li> Can you use the useradd command to add a user to multiple groups at the same time? If so, how?</li>\n",
    "      \n",
    "      \n",
    "    \n",
    "    \n",
    "  </ul>\n",
    "</p><br>\n",
    "<p align='justify' style='margin: 10px 20px; line-height:1.5; font-family: \"Times New Roman\", Times, serif; font-size:16px; color: purple'>\n",
    "  Yes, you can use the \"useradd\" command to add a user to multiple groups at the same time using the \"-G\" option, followed by a comma-separated list of group names. For example, \"useradd -G developers,wheel jdoe\" will add the user \"jdoe\" to both the \"developers\" and \"wheel\" groups.\n",
    "\n",
    "</p>"
   ]
  },
  {
   "cell_type": "markdown",
   "id": "feaba26c",
   "metadata": {
    "slideshow": {
     "slide_type": "subslide"
    }
   },
   "source": [
    "<p align='justify' style='margin: 10px 20px; line-height:1.5; font-family: \"Times New Roman\", Times, serif; font-size:16px;'>\n",
    "    \n",
    "    \n",
    "  <ul style='font-family: \"Times New Roman\", Times, serif; font-weight:light; font-size:16px;'>\n",
    "      <li> How can you create and view aliases in the shell?</li>\n",
    "      \n",
    "      \n",
    "    \n",
    "    \n",
    "  </ul>\n",
    "</p><br>\n",
    "<p align='justify' style='margin: 10px 20px; line-height:1.5; font-family: \"Times New Roman\", Times, serif; font-size:16px; color: purple'>\n",
    "  To create an alias in the shell, you can use the \"alias\" command followed by the desired alias name and the command that you want to associate with it. For example, \"alias ll='ls -l'\" will create an alias called \"ll\" that executes the \"ls -l\" command. To view a list of all aliases currently defined in the shell, you can enter \"alias\" at the command line.\n",
    "\n",
    "</p>"
   ]
  },
  {
   "cell_type": "markdown",
   "id": "18185766",
   "metadata": {
    "slideshow": {
     "slide_type": "subslide"
    }
   },
   "source": [
    "<h3 style='color:red; font-weight:bold; text-align:center; font-family: \"Times New Roman\", Times, serif;'>Exercise 3: Shell Scripting </h3>\n",
    "<p align='justify' style='margin: 10px 20px; line-height:1.5; font-family: \"Times New Roman\", Times, serif; font-size:16px;'>\n",
    "    \n",
    "    \n",
    "  <ul style='font-family: \"Times New Roman\", Times, serif; font-weight:light; font-size:16px;'>\n",
    "      <li>Write a shell script that prompts the user for their name, and then prints a welcome message that includes their name.</li>\n",
    "      \n",
    "      \n",
    "    \n",
    "    \n",
    "  </ul>\n",
    "</p><br>\n",
    "<p align='justify' style='margin: 10px 20px; line-height:1.5; font-family: \"Times New Roman\", Times, serif; font-size:16px; color: purple'>\n",
    "  The shell script to prompt the user for their name and print a welcome message could look like this:\n",
    "\n",
    "</p>"
   ]
  },
  {
   "cell_type": "code",
   "execution_count": null,
   "id": "934bbdf2",
   "metadata": {
    "slideshow": {
     "slide_type": "subslide"
    }
   },
   "outputs": [],
   "source": [
    "#!/bin/bash\n",
    "echo \"What is your name?\"\n",
    "read name\n",
    "echo \"Welcome, $name!\""
   ]
  },
  {
   "cell_type": "markdown",
   "id": "5b9bd20c",
   "metadata": {
    "slideshow": {
     "slide_type": "subslide"
    }
   },
   "source": [
    "<p align='justify' style='margin: 10px 20px; line-height:1.5; font-family: \"Times New Roman\", Times, serif; font-size:16px; color: purple'>\n",
    "  This script first prompts the user to enter their name, reads the name into a variable called \"name\", and then prints a welcome message that includes the user's name.\n",
    "\n",
    "</p>"
   ]
  },
  {
   "cell_type": "markdown",
   "id": "0e5a93f4",
   "metadata": {},
   "source": [
    "<p align='justify' style='margin: 10px 20px; line-height:1.5; font-family: \"Times New Roman\", Times, serif; font-size:16px;'>\n",
    "    \n",
    "    \n",
    "  <ul style='font-family: \"Times New Roman\", Times, serif; font-weight:light; font-size:16px;'>\n",
    "      <li>Write a shell script that takes a command-line argument as input, and prints whether the argument is a file or a directory.</li>\n",
    "      \n",
    "      \n",
    "    \n",
    "    \n",
    "  </ul>\n",
    "</p><br>\n",
    "<p align='justify' style='margin: 10px 20px; line-height:1.5; font-family: \"Times New Roman\", Times, serif; font-size:16px; color: purple'>\n",
    "  The shell script to determine whether a command-line argument is a file or a directory could look like this:\n",
    "\n",
    "</p>"
   ]
  },
  {
   "cell_type": "code",
   "execution_count": null,
   "id": "2abed68c",
   "metadata": {
    "slideshow": {
     "slide_type": "subslide"
    }
   },
   "outputs": [],
   "source": [
    "#!/bin/bash\n",
    "if [ -f $1 ]; then\n",
    "  echo \"$1 is a file.\"\n",
    "elif [ -d $1 ]; then\n",
    "  echo \"$1 is a directory.\"\n",
    "else\n",
    "  echo \"$1 is not a file or directory.\"\n",
    "fi"
   ]
  },
  {
   "cell_type": "markdown",
   "id": "66908ac4",
   "metadata": {
    "slideshow": {
     "slide_type": "subslide"
    }
   },
   "source": [
    "<p align='justify' style='margin: 10px 20px; line-height:1.5; font-family: \"Times New Roman\", Times, serif; font-size:16px; color: purple'>\n",
    "  This script uses the \"if\" statement to test whether the input argument is a file using the \"-f\" option or a directory using the \"-d\" option. It then prints a message indicating whether the argument is a file or a directory, or if it is neither.\n",
    "\n",
    "</p>"
   ]
  },
  {
   "cell_type": "markdown",
   "id": "737c527f",
   "metadata": {
    "slideshow": {
     "slide_type": "subslide"
    }
   },
   "source": [
    "<p align='justify' style='margin: 10px 20px; line-height:1.5; font-family: \"Times New Roman\", Times, serif; font-size:16px;'>\n",
    "    \n",
    "    \n",
    "  <ul style='font-family: \"Times New Roman\", Times, serif; font-weight:light; font-size:16px;'>\n",
    "      <li>Write a shell script that uses a loop to print the first 10 even numbers.</li>\n",
    "      \n",
    "      \n",
    "    \n",
    "    \n",
    "  </ul>\n",
    "</p><br>\n",
    "<p align='justify' style='margin: 10px 20px; line-height:1.5; font-family: \"Times New Roman\", Times, serif; font-size:16px; color: purple'>\n",
    "  The shell script to print the first 10 even numbers using a loop could look like this:\n",
    "\n",
    "</p>"
   ]
  },
  {
   "cell_type": "code",
   "execution_count": null,
   "id": "6adf5cf7",
   "metadata": {
    "slideshow": {
     "slide_type": "subslide"
    }
   },
   "outputs": [],
   "source": [
    "#!/bin/bash\n",
    "count=0\n",
    "num=0\n",
    "while [ $count -lt 10 ]\n",
    "do\n",
    "  num=$((num+2))\n",
    "  echo $num\n",
    "  count=$((count+1))\n",
    "done"
   ]
  },
  {
   "cell_type": "markdown",
   "id": "cf75f4ae",
   "metadata": {
    "slideshow": {
     "slide_type": "subslide"
    }
   },
   "source": [
    "<p align='justify' style='margin: 10px 20px; line-height:1.5; font-family: \"Times New Roman\", Times, serif; font-size:16px; color: purple'>\n",
    "  This script uses a \"while\" loop to print the first 10 even numbers. It initializes a counter variable \"count\" to 0 and a variable \"num\" to 0, and then increments \"num\" by 2 on each iteration of the loop. It prints the value of \"num\" and increments \"count\" until \"count\" reaches 10.\n",
    "\n",
    "</p>"
   ]
  },
  {
   "cell_type": "markdown",
   "id": "f8970fe6",
   "metadata": {
    "slideshow": {
     "slide_type": "subslide"
    }
   },
   "source": [
    "<p align='justify' style='margin: 10px 20px; line-height:1.5; font-family: \"Times New Roman\", Times, serif; font-size:16px;'>\n",
    "    \n",
    "    \n",
    "  <ul style='font-family: \"Times New Roman\", Times, serif; font-weight:light; font-size:16px;'>\n",
    "      <li>Write a shell script that reads a file, and then prints the number of lines that contain a specific search string.</li>\n",
    "      \n",
    "      \n",
    "    \n",
    "    \n",
    "  </ul>\n",
    "</p><br>\n",
    "<p align='justify' style='margin: 10px 20px; line-height:1.5; font-family: \"Times New Roman\", Times, serif; font-size:16px; color: purple'>\n",
    "  The shell script to count the number of lines in a file that contain a specific search string could look like this:\n",
    "\n",
    "</p>"
   ]
  },
  {
   "cell_type": "code",
   "execution_count": null,
   "id": "c3c49958",
   "metadata": {
    "slideshow": {
     "slide_type": "subslide"
    }
   },
   "outputs": [],
   "source": [
    "#!/bin/bash\n",
    "echo \"Enter a file name:\"\n",
    "read file\n",
    "echo \"Enter a search string:\"\n",
    "read string\n",
    "count=$(grep -c $string $file)\n",
    "echo \"The number of lines that contain '$string' in '$file' is: $count\""
   ]
  },
  {
   "cell_type": "markdown",
   "id": "4a81b91b",
   "metadata": {
    "slideshow": {
     "slide_type": "subslide"
    }
   },
   "source": [
    "<p align='justify' style='margin: 10px 20px; line-height:1.5; font-family: \"Times New Roman\", Times, serif; font-size:16px; color: purple'>\n",
    "  This script prompts the user to enter a file name and a search string, reads them into variables \"file\" and \"string\", and then uses the \"grep\" command to search for the string in the file and count the number of matching lines using the \"-c\" option. It then prints a message indicating the number of lines that contain the search string.\n",
    "\n",
    "</p>"
   ]
  },
  {
   "cell_type": "markdown",
   "id": "bbda97aa",
   "metadata": {
    "slideshow": {
     "slide_type": "subslide"
    }
   },
   "source": [
    "<h3 style='color:red; font-weight:bold; text-align:center; font-family: \"Times New Roman\", Times, serif;'>Exercise 4: Shell Scripting - Tables</h3>\n",
    "<p align='justify' style='margin: 10px 20px; line-height:1.5; font-family: \"Times New Roman\", Times, serif; font-size:16px;'>\n",
    "    \n",
    "    \n",
    "  <ul style='font-family: \"Times New Roman\", Times, serif; font-weight:light; font-size:16px;'>\n",
    "      <li>Write a shell script that declares an array of 5 names, and then prints each name on a separate line.</li>\n",
    "      \n",
    "      \n",
    "    \n",
    "    \n",
    "  </ul>\n",
    "</p><br>\n",
    "<p align='justify' style='margin: 10px 20px; line-height:1.5; font-family: \"Times New Roman\", Times, serif; font-size:16px; color: purple'>\n",
    "  This script creates an array called \"names\" with 5 elements, and then uses a \"for\" loop to iterate through each element of the array and print it on a separate line.\n",
    "\n",
    "\n",
    "\n",
    "</p>"
   ]
  },
  {
   "cell_type": "code",
   "execution_count": null,
   "id": "a3029fd6",
   "metadata": {
    "slideshow": {
     "slide_type": "subslide"
    }
   },
   "outputs": [],
   "source": [
    "#!/bin/bash\n",
    "names=(\"Alice\" \"Bob\" \"Charlie\" \"David\" \"Eve\")\n",
    "for name in \"${names[@]}\"\n",
    "do\n",
    "    echo $name\n",
    "done"
   ]
  },
  {
   "cell_type": "markdown",
   "id": "5bc4592f",
   "metadata": {
    "slideshow": {
     "slide_type": "subslide"
    }
   },
   "source": [
    "<p align='justify' style='margin: 10px 20px; line-height:1.5; font-family: \"Times New Roman\", Times, serif; font-size:16px;'>\n",
    "    \n",
    "    \n",
    "  <ul style='font-family: \"Times New Roman\", Times, serif; font-weight:light; font-size:16px;'>\n",
    "      <li>Write a shell script that defines a function that takes two arguments, and returns their sum. Then, call the function with some test arguments and print the result </li>\n",
    "      \n",
    "      \n",
    "    \n",
    "    \n",
    "  </ul>\n",
    "</p><br>\n",
    "<p align='justify' style='margin: 10px 20px; line-height:1.5; font-family: \"Times New Roman\", Times, serif; font-size:16px; color: purple'>\n",
    "  This script defines a function called \"sum\" that takes two arguments and returns their sum. It then calls the function with arguments 2 and 3, and prints the result using the special variable \"$?\".\n",
    "\n",
    "\n",
    "\n",
    "</p>"
   ]
  },
  {
   "cell_type": "code",
   "execution_count": null,
   "id": "4d75ecb5",
   "metadata": {
    "slideshow": {
     "slide_type": "subslide"
    }
   },
   "outputs": [],
   "source": [
    "#!/bin/bash\n",
    "function sum() {\n",
    "    result=$(($1 + $2))\n",
    "    return $result\n",
    "}\n",
    "sum 2 3\n",
    "echo \"The sum is: $?\""
   ]
  },
  {
   "cell_type": "markdown",
   "id": "befd420c",
   "metadata": {
    "slideshow": {
     "slide_type": "subslide"
    }
   },
   "source": [
    "<p align='justify' style='margin: 10px 20px; line-height:1.5; font-family: \"Times New Roman\", Times, serif; font-size:16px;'>\n",
    "    \n",
    "    \n",
    "  <ul style='font-family: \"Times New Roman\", Times, serif; font-weight:light; font-size:16px;'>\n",
    "      <li>Write a shell script that reads a CSV file of student grades, with each line containing a name and a score. The script should then calculate the average score, and print the names of the students who scored above the average.</li>\n",
    "      \n",
    "      \n",
    "    \n",
    "    \n",
    "  </ul>\n",
    "</p><br>\n",
    "<p align='justify' style='margin: 10px 20px; line-height:1.5; font-family: \"Times New Roman\", Times, serif; font-size:16px; color: purple'>\n",
    "  This script reads a CSV file called \"grades.csv\" that contains student names and scores, and then calculates the average score using a loop. It then iterates through the scores and names arrays, and prints the names of the students who scored above the average.\n",
    "\n",
    "\n",
    "\n",
    "</p>"
   ]
  },
  {
   "cell_type": "code",
   "execution_count": null,
   "id": "4377364c",
   "metadata": {
    "slideshow": {
     "slide_type": "subslide"
    }
   },
   "outputs": [],
   "source": [
    "#!/bin/bash\n",
    "while IFS=, read -r name score\n",
    "do\n",
    "    scores+=($score)\n",
    "    names+=($name)\n",
    "done < grades.csv\n",
    "sum=0\n",
    "for score in \"${scores[@]}\"\n",
    "do\n",
    "    sum=$(($sum + $score))\n",
    "done\n",
    "average=$(($sum / ${#scores[@]}))\n",
    "echo \"The average score is: $average\"\n",
    "echo \"Students who scored above the average:\"\n",
    "for i in \"${!scores[@]}\"\n",
    "do\n",
    "    if (( ${scores[$i]} > $average )); then\n",
    "        echo ${names[$i]}\n",
    "    fi\n",
    "done"
   ]
  },
  {
   "cell_type": "markdown",
   "id": "613c91c8",
   "metadata": {
    "slideshow": {
     "slide_type": "subslide"
    }
   },
   "source": [
    "<p align='justify' style='margin: 10px 20px; line-height:1.5; font-family: \"Times New Roman\", Times, serif; font-size:16px;'>\n",
    "    \n",
    "    \n",
    "  <ul style='font-family: \"Times New Roman\", Times, serif; font-weight:light; font-size:16px;'>\n",
    "      <li>Write a shell script that defines a function that takes a directory path as input, and then recursively counts the number of files in that directory and all its subdirectories. The function should return the total count. Then, call the function with a test directory path and print the result.</li>\n",
    "      \n",
    "      \n",
    "    \n",
    "    \n",
    "  </ul>\n",
    "</p><br>\n",
    "<p align='justify' style='margin: 10px 20px; line-height:1.5; font-family: \"Times New Roman\", Times, serif; font-size:16px; color: purple'>\n",
    "  This script defines a function called \"count_files\" that takes a directory path as input, and then recursively counts the number of files in that directory and all its subdirectories. It then calls the function with a test directory path, and prints the result using the special variable \"$?\".\n",
    "\n",
    "\n",
    "\n",
    "</p>"
   ]
  },
  {
   "cell_type": "code",
   "execution_count": null,
   "id": "7daedeea",
   "metadata": {
    "slideshow": {
     "slide_type": "subslide"
    }
   },
   "outputs": [],
   "source": [
    "#!/bin/bash\n",
    "function count_files() {\n",
    "    count=0\n",
    "    for file in \"$1\"/*\n",
    "    do\n",
    "        if [ -d \"$file\" ]; then\n",
    "            count=$(($count + $(count_files \"$file\")))\n",
    "        elif [ -f \"$file\" ]; then\n",
    "            count=$(($count + 1))\n",
    "        fi\n",
    "    done\n",
    "    return $count\n",
    "}\n",
    "count_files \"/path/to/directory\"\n",
    "echo \"The total number of files is: $?\""
   ]
  },
  {
   "cell_type": "markdown",
   "id": "dd6124a7",
   "metadata": {
    "slideshow": {
     "slide_type": "subslide"
    }
   },
   "source": [
    "<h3 style='color:red; font-weight:bold; text-align:center; font-family: \"Times New Roman\", Times, serif;'>Exercise 5: Shell Scripting - Manipulation of strings, substrings </h3>\n",
    "<p align='justify' style='margin: 10px 20px; line-height:1.5; font-family: \"Times New Roman\", Times, serif; font-size:16px;'>\n",
    "    \n",
    "    \n",
    "  <ul style='font-family: \"Times New Roman\", Times, serif; font-weight:light; font-size:16px;'>\n",
    "      <li>Write a shell script that prompts the user for their name, and then prints the length of their name.</li>\n",
    "      \n",
    "      \n",
    "    \n",
    "    \n",
    "  </ul>\n",
    "</p><br>\n",
    "<p align='justify' style='margin: 10px 20px; line-height:1.5; font-family: \"Times New Roman\", Times, serif; font-size:16px; color: purple'>\n",
    "  A shell script that prompts the user for their name and prints the length of their name:\n",
    "\n",
    "\n",
    "\n",
    "</p>"
   ]
  },
  {
   "cell_type": "code",
   "execution_count": null,
   "id": "6f22041a",
   "metadata": {
    "slideshow": {
     "slide_type": "subslide"
    }
   },
   "outputs": [],
   "source": [
    "#!/bin/bash\n",
    "echo \"What is your name?\"\n",
    "read name\n",
    "echo \"Your name has ${#name} characters.\""
   ]
  },
  {
   "cell_type": "markdown",
   "id": "9804eaf8",
   "metadata": {
    "slideshow": {
     "slide_type": "subslide"
    }
   },
   "source": [
    "<p align='justify' style='margin: 10px 20px; line-height:1.5; font-family: \"Times New Roman\", Times, serif; font-size:16px; color: purple'>\n",
    "  This script prompts the user to enter their name, reads it into a variable called \"name\", and then prints the length of the name using the special syntax \"${#name}\".\n",
    "\n",
    "</p>"
   ]
  },
  {
   "cell_type": "markdown",
   "id": "c0f0f8fd",
   "metadata": {
    "slideshow": {
     "slide_type": "subslide"
    }
   },
   "source": [
    "<p align='justify' style='margin: 10px 20px; line-height:1.5; font-family: \"Times New Roman\", Times, serif; font-size:16px;'>\n",
    "    \n",
    "    \n",
    "  <ul style='font-family: \"Times New Roman\", Times, serif; font-weight:light; font-size:16px;'>\n",
    "      <li>Write a shell script that takes a filename as input, and then prints the extension of the file (i.e., the characters after the last dot).</li>\n",
    "      \n",
    "      \n",
    "    \n",
    "    \n",
    "  </ul>\n",
    "</p>"
   ]
  },
  {
   "cell_type": "code",
   "execution_count": null,
   "id": "644c4103",
   "metadata": {
    "slideshow": {
     "slide_type": "subslide"
    }
   },
   "outputs": [],
   "source": [
    "#!/bin/bash\n",
    "echo \"Enter a filename:\"\n",
    "read filename\n",
    "extension=\"${filename##*.}\"\n",
    "echo \"The extension of $filename is $extension.\""
   ]
  },
  {
   "cell_type": "markdown",
   "id": "b48606a2",
   "metadata": {
    "slideshow": {
     "slide_type": "subslide"
    }
   },
   "source": [
    "<p align='justify' style='margin: 10px 20px; line-height:1.5; font-family: \"Times New Roman\", Times, serif; font-size:16px; color: purple'>\n",
    "  This script prompts the user to enter a filename, reads it into a variable called \"filename\", and then extracts the extension using the special syntax \"${filename##*.}\".\n",
    "\n",
    "</p>"
   ]
  },
  {
   "cell_type": "markdown",
   "id": "ebe79de2",
   "metadata": {
    "slideshow": {
     "slide_type": "subslide"
    }
   },
   "source": [
    "<p align='justify' style='margin: 10px 20px; line-height:1.5; font-family: \"Times New Roman\", Times, serif; font-size:16px;'>\n",
    "    \n",
    "    \n",
    "  <ul style='font-family: \"Times New Roman\", Times, serif; font-weight:light; font-size:16px;'>\n",
    "      <li>Write a shell script that defines a function that takes a string as input, and then removes all the vowels from the string. The function should return the modified string. Then, call the function with some test strings and print the result.</li>\n",
    "      \n",
    "      \n",
    "    \n",
    "    \n",
    "  </ul>\n",
    "</p>"
   ]
  },
  {
   "cell_type": "code",
   "execution_count": null,
   "id": "839f63e3",
   "metadata": {
    "slideshow": {
     "slide_type": "subslide"
    }
   },
   "outputs": [],
   "source": [
    "#!/bin/bash\n",
    "function remove_vowels() {\n",
    "    modified=$(echo $1 | tr -d 'aeiouAEIOU')\n",
    "    return $modified\n",
    "}\n",
    "remove_vowels \"hello world\"\n",
    "echo \"Modified string: $?\"\n",
    "remove_vowels \"This is a test\"\n",
    "echo \"Modified string: $?\""
   ]
  },
  {
   "cell_type": "markdown",
   "id": "94a61174",
   "metadata": {
    "slideshow": {
     "slide_type": "subslide"
    }
   },
   "source": [
    "<p align='justify' style='margin: 10px 20px; line-height:1.5; font-family: \"Times New Roman\", Times, serif; font-size:16px; color: purple'>\n",
    "  This script defines a function called \"remove_vowels\" that takes a string as input and removes all the vowels using the \"tr\" command. It then calls the function with two test strings, and prints the modified strings using the special variable \"$?\".\n",
    "\n",
    "</p>"
   ]
  },
  {
   "cell_type": "markdown",
   "id": "6255322d",
   "metadata": {
    "slideshow": {
     "slide_type": "subslide"
    }
   },
   "source": [
    "<p align='justify' style='margin: 10px 20px; line-height:1.5; font-family: \"Times New Roman\", Times, serif; font-size:16px;'>\n",
    "    \n",
    "    \n",
    "  <ul style='font-family: \"Times New Roman\", Times, serif; font-weight:light; font-size:16px;'>\n",
    "      <li>Write a shell script that reads a text file, and then replaces all occurrences of a specified search string with a new string. The script should prompt the user for the search string and the replacement string, and then save the modified file to a new file with the same name but with \".new\" appended to the end.</li>\n",
    "      \n",
    "      \n",
    "    \n",
    "    \n",
    "  </ul>\n",
    "</p>"
   ]
  },
  {
   "cell_type": "code",
   "execution_count": null,
   "id": "2a4e95c7",
   "metadata": {
    "slideshow": {
     "slide_type": "subslide"
    }
   },
   "outputs": [],
   "source": [
    "#!/bin/bash\n",
    "echo \"Enter the filename:\"\n",
    "read filename\n",
    "echo \"Enter the search string:\"\n",
    "read search_string\n",
    "echo \"Enter the replacement string:\"\n",
    "read replace_string\n",
    "sed \"s/$search_string/$replace_string/g\" \"$filename\" > \"$filename.new\"\n",
    "echo \"File saved to $filename.new.\""
   ]
  },
  {
   "cell_type": "markdown",
   "id": "c8e51707",
   "metadata": {
    "slideshow": {
     "slide_type": "subslide"
    }
   },
   "source": [
    "<p align='justify' style='margin: 10px 20px; line-height:1.5; font-family: \"Times New Roman\", Times, serif; font-size:16px; color: purple'>\n",
    "  This script prompts the user to enter a filename, a search string, and a replacement string. It then uses the \"sed\" command to replace all occurrences of the search string with the replacement string, and saves the modified file to a new file with the same name but with \".new\" appended to the end. It prints a message indicating the name of the new file.\n",
    "\n",
    "</p>"
   ]
  },
  {
   "cell_type": "markdown",
   "id": "fdd9d837",
   "metadata": {
    "slideshow": {
     "slide_type": "subslide"
    }
   },
   "source": [
    "<h3 style='color:red; font-weight:bold; text-align:center; font-family: \"Times New Roman\", Times, serif;'>Final Projects  </h3>\n",
    "<p align='justify' style='margin: 10px 20px; line-height:1.5; font-family: \"Times New Roman\", Times, serif; font-size:16px;'>\n",
    "    \n",
    "    \n",
    "  <ul style='font-family: \"Times New Roman\", Times, serif; font-weight:light; font-size:16px;'>\n",
    "      <li> Create a script to automate the installation and configuration of a specific application or service on a Linux machine. For example, you could write a script to install and set up a LAMP stack (Linux, Apache, MySQL, PHP) on a fresh Ubuntu installation.</li>\n",
    "      \n",
    "      \n",
    "    \n",
    "    \n",
    "  </ul>\n",
    "</p>"
   ]
  },
  {
   "cell_type": "code",
   "execution_count": null,
   "id": "eba10375",
   "metadata": {
    "slideshow": {
     "slide_type": "subslide"
    }
   },
   "outputs": [],
   "source": [
    "#!/bin/bash\n",
    "# Install and configure a LAMP stack on Ubuntu\n",
    "sudo apt update\n",
    "sudo apt install apache2 mysql-server php libapache2-mod-php php-mysql\n",
    "sudo systemctl start apache2\n",
    "sudo systemctl start mysql\n",
    "sudo systemctl enable apache2\n",
    "sudo systemctl enable mysql"
   ]
  },
  {
   "cell_type": "markdown",
   "id": "1360bf6a",
   "metadata": {
    "slideshow": {
     "slide_type": "subslide"
    }
   },
   "source": [
    "<p align='justify' style='margin: 10px 20px; line-height:1.5; font-family: \"Times New Roman\", Times, serif; font-size:16px; color: purple'>\n",
    "  This script automates the installation and configuration of a LAMP stack on Ubuntu. It updates the package index, installs Apache, MySQL, PHP, and some required modules, and then starts and enables the Apache and MySQL services.\n",
    "\n",
    "</p>"
   ]
  },
  {
   "cell_type": "markdown",
   "id": "50bbf359",
   "metadata": {
    "slideshow": {
     "slide_type": "subslide"
    }
   },
   "source": [
    "<p align='justify' style='margin: 10px 20px; line-height:1.5; font-family: \"Times New Roman\", Times, serif; font-size:16px;'>\n",
    "    \n",
    "    \n",
    "  <ul style='font-family: \"Times New Roman\", Times, serif; font-weight:light; font-size:16px;'>\n",
    "      <li> Write a script to automate the backup of important files and directories on a Linux machine.</li>\n",
    "      \n",
    "      \n",
    "    \n",
    "    \n",
    "  </ul>\n",
    "</p>"
   ]
  },
  {
   "cell_type": "code",
   "execution_count": null,
   "id": "bf79af7a",
   "metadata": {
    "slideshow": {
     "slide_type": "subslide"
    }
   },
   "outputs": [],
   "source": [
    "#!/bin/bash\n",
    "# Backup important files and directories to a remote location\n",
    "tar -czf /path/to/backup.tar.gz /important/files /important/directories\n",
    "rsync -avz /path/to/backup.tar.gz user@remote:/path/to/backup/"
   ]
  },
  {
   "cell_type": "markdown",
   "id": "74b084c9",
   "metadata": {
    "slideshow": {
     "slide_type": "subslide"
    }
   },
   "source": [
    "<p align='justify' style='margin: 10px 20px; line-height:1.5; font-family: \"Times New Roman\", Times, serif; font-size:16px; color: purple'>\n",
    "  This script creates a compressed tar archive of important files and directories, and then uses rsync to copy the archive to a remote location. It can be run manually or scheduled using a tool like cron.\n",
    "\n",
    "</p>"
   ]
  },
  {
   "cell_type": "markdown",
   "id": "2462f600",
   "metadata": {
    "slideshow": {
     "slide_type": "subslide"
    }
   },
   "source": [
    "<p align='justify' style='margin: 10px 20px; line-height:1.5; font-family: \"Times New Roman\", Times, serif; font-size:16px;'>\n",
    "    \n",
    "    \n",
    "  <ul style='font-family: \"Times New Roman\", Times, serif; font-weight:light; font-size:16px;'>\n",
    "      <li> Create a script to monitor the performance and status of a Linux server.</li>\n",
    "      \n",
    "      \n",
    "    \n",
    "    \n",
    "  </ul>\n",
    "</p>"
   ]
  },
  {
   "cell_type": "code",
   "execution_count": null,
   "id": "46319a89",
   "metadata": {
    "slideshow": {
     "slide_type": "subslide"
    }
   },
   "outputs": [],
   "source": [
    "#!/bin/bash\n",
    "# Monitor CPU, memory, disk space, and system logs\n",
    "cpu_usage=$(top -b -n1 | grep \"Cpu(s)\" | awk '{print $2 + $4}')\n",
    "mem_usage=$(free | awk '/Mem/{print $3/$2 * 100.0}')\n",
    "disk_usage=$(df -h | awk '/dev\\/sda1/{print $5}')\n",
    "error_count=$(grep -i error /var/log/syslog | wc -l)\n",
    "echo \"CPU usage: $cpu_usage%\"\n",
    "echo \"Memory usage: $mem_usage%\"\n",
    "echo \"Disk usage: $disk_usage\"\n",
    "echo \"Error count: $error_count\"\n",
    "if [ $cpu_usage -gt 80 ]; then\n",
    "    echo \"CPU usage is above 80%.\"\n",
    "    # Send alert\n",
    "fi\n",
    "if [ $mem_usage -gt 80 ]; then\n",
    "    echo \"Memory usage is above 80%.\"\n",
    "    # Send alert\n",
    "fi\n",
    "if [ \"${disk_usage%\\%}\" -gt 80 ]; then\n",
    "    echo \"Disk usage is above 80%.\"\n",
    "    # Send alert\n",
    "fi\n",
    "if [ $error_count -gt 10 ]; then\n",
    "    echo \"Too many errors in system logs.\"\n",
    "    # Send alert\n",
    "fi"
   ]
  },
  {
   "cell_type": "markdown",
   "id": "09e74f1f",
   "metadata": {
    "slideshow": {
     "slide_type": "subslide"
    }
   },
   "source": [
    "<p align='justify' style='margin: 10px 20px; line-height:1.5; font-family: \"Times New Roman\", Times, serif; font-size:16px; color: purple'>\n",
    "  This script monitors CPU, memory, disk space, and system logs, and generates reports and alerts if certain thresholds are exceeded. It can be scheduled to run regularly using a tool like cron.\n",
    "\n",
    "</p>"
   ]
  },
  {
   "cell_type": "markdown",
   "id": "ee2e046a",
   "metadata": {
    "slideshow": {
     "slide_type": "subslide"
    }
   },
   "source": [
    "<p align='justify' style='margin: 10px 20px; line-height:1.5; font-family: \"Times New Roman\", Times, serif; font-size:16px;'>\n",
    "    \n",
    "    \n",
    "  <ul style='font-family: \"Times New Roman\", Times, serif; font-weight:light; font-size:16px;'>\n",
    "      <li> Write a startup script for a custom service or application.</li>\n",
    "      \n",
    "      \n",
    "    \n",
    "    \n",
    "  </ul>\n",
    "</p>"
   ]
  },
  {
   "cell_type": "code",
   "execution_count": null,
   "id": "667a5618",
   "metadata": {
    "slideshow": {
     "slide_type": "subslide"
    }
   },
   "outputs": [],
   "source": [
    "#!/bin/bash\n",
    "# Startup script for a custom service\n",
    "/home/user/myapp/start.sh"
   ]
  },
  {
   "cell_type": "markdown",
   "id": "c6fc0e3f",
   "metadata": {
    "slideshow": {
     "slide_type": "subslide"
    }
   },
   "source": [
    "<p align='justify' style='margin: 10px 20px; line-height:1.5; font-family: \"Times New Roman\", Times, serif; font-size:16px; color: purple'>\n",
    "  This script launches a custom service or application by running a startup script located in the user's home directory. It can be added to the system startup process using a tool like systemd.\n",
    "\n",
    "</p>"
   ]
  },
  {
   "cell_type": "markdown",
   "id": "4aee670d",
   "metadata": {
    "slideshow": {
     "slide_type": "subslide"
    }
   },
   "source": [
    "<p align='justify' style='margin: 10px 20px; line-height:1.5; font-family: \"Times New Roman\", Times, serif; font-size:16px;'>\n",
    "    \n",
    "    \n",
    "  <ul style='font-family: \"Times New Roman\", Times, serif; font-weight:light; font-size:16px;'>\n",
    "      <li> Create a script to automate the deployment of a specific application or service on a cluster of Linux machines.</li>\n",
    "      \n",
    "      \n",
    "    \n",
    "    \n",
    "  </ul>\n",
    "</p>"
   ]
  },
  {
   "cell_type": "code",
   "execution_count": null,
   "id": "98d7f36d",
   "metadata": {
    "slideshow": {
     "slide_type": "subslide"
    }
   },
   "outputs": [],
   "source": [
    "#!/bin/bash\n",
    "# Deploy a custom application to a cluster of Linux machines\n",
    "for machine in machine1 machine2 machine3\n",
    "do\n",
    "    ssh user@$machine \"sudo apt update && sudo apt install myapp\"\n",
    "    scp myapp.conf user@$machine:/etc/myapp.conf\n",
    "    ssh user@$machine \"sudo systemctl start myapp\"\n",
    "done"
   ]
  },
  {
   "cell_type": "markdown",
   "id": "9b9c04d0",
   "metadata": {
    "slideshow": {
     "slide_type": "subslide"
    }
   },
   "source": [
    "<p align='justify' style='margin: 10px 20px; line-height:1.5; font-family: \"Times New Roman\", Times, serif; font-size:16px; color: purple'>\n",
    "  This script automates the deployment of a custom application to a cluster of Linux machines. It uses a for loop to iterate over a list of machines, and then uses SSH to run commands on each machine. It installs the \"myapp\" package, copies a configuration file, and starts the \"myapp\" service on each machine. This can be useful for deploying and configuring applications on a large number of machines in a consistent way.\n",
    "\n",
    "</p>"
   ]
  }
 ],
 "metadata": {
  "celltoolbar": "Slideshow",
  "kernelspec": {
   "display_name": "Python 3 (ipykernel)",
   "language": "python",
   "name": "python3"
  },
  "language_info": {
   "codemirror_mode": {
    "name": "ipython",
    "version": 3
   },
   "file_extension": ".py",
   "mimetype": "text/x-python",
   "name": "python",
   "nbconvert_exporter": "python",
   "pygments_lexer": "ipython3",
   "version": "3.9.13"
  },
  "toc": {
   "base_numbering": 1,
   "nav_menu": {},
   "number_sections": false,
   "sideBar": true,
   "skip_h1_title": false,
   "title_cell": "Table of Contents",
   "title_sidebar": "Contents",
   "toc_cell": false,
   "toc_position": {
    "height": "calc(100% - 180px)",
    "left": "10px",
    "top": "150px",
    "width": "248.352px"
   },
   "toc_section_display": true,
   "toc_window_display": false
  }
 },
 "nbformat": 4,
 "nbformat_minor": 5
}
