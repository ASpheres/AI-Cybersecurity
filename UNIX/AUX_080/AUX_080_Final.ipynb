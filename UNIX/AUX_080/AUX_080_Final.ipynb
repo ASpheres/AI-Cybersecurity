{
 "cells": [
  {
   "cell_type": "markdown",
   "id": "5266a530",
   "metadata": {
    "slideshow": {
     "slide_type": "slide"
    }
   },
   "source": [
    "<a href=\"https://asphere.fr/\">\n",
    "    <img src=\"logo2.png\" width=\"500\" height=\"400\" style=\"display: block; margin: 0 auto;\">\n",
    "</a>\n",
    "<h1 style=\"text-align: center; font-family: 'Times New Roman', Times,serif ; color: purple; margin-right: 25px; margin-left: 70px;\">UNIX ADMINISTRATION </h1>\n",
    "<h4 style=\"text-align: center; font-family: 'Times New Roman', Times,serif ; color: black; margin-right: 25px; margin-left: 70px;\">AUX_080</h4>\n",
    "<h5 style=\"text-align: center; font-family: 'Times New Roman', Times,serif ; color: black; margin-right: 25px; margin-left: 70px;\">DURATION: Five Days (35 Hrs)</h5>\n",
    "<h4 style=\"text-align: center; font-family: 'Times New Roman', Times,serif ; color: black; margin-right: 25px; margin-left: 70px;\">OBJECTIVES</h4>\n",
    "<a href=\"https://asphere.fr/\">\n",
    "    <img src=\"unixlinux.webp\" width=\"100\" height=\"100\" style=\"float: right; margin-right: 25px; margin-left: 70px;\">\n",
    "</a>\n",
    "<h5 style=\"text-align: center; font-family: 'Times New Roman', Times,serif ; color: purple; margin-right: 90px; margin-left: 225px;\">From command to advanced scripts, presentation and benefits of the shell language </h5>"
   ]
  },
  {
   "cell_type": "markdown",
   "id": "514c7f12",
   "metadata": {
    "slideshow": {
     "slide_type": "subslide"
    }
   },
   "source": [
    "<h3 style='color:red; font-weight:bold; text-align:center; font-family: \"Times New Roman\", Times, serif;'>OVERVIEW</h3>\n",
    "\n",
    "<p align='justify' style='margin: 10px 20px; line-height:1.5; font-family: \"Times New Roman\", Times, serif; font-size:16px;'>\n",
    "  Computers can do things quickly and accurately, which is helpful when we have to do the same thing over and over again. However, sometimes we only know a few tricks and rely on copying and pasting from the internet when we get stuck. If you work with computers a lot, it's important to learn more so you can get things done faster and easier. This course will teach you how to do that.\n",
    "\n",
    "</p><br>\n",
    "\n",
    "<p align='justify' style='margin: 10px 20px; line-height:1.5; font-family: \"Times New Roman\", Times, serif; font-size:16px;'>\n",
    "    <strong style = \"color: purple\">In this course you will learn:</strong>\n",
    "    \n",
    "  <ul style='font-family: \"Times New Roman\", Times, serif; font-weight:light; font-size:16px;'>\n",
    "      <li><b>Introduction to the Unix and Linux operating system</b></li>\n",
    "      <li><b>Basic Unix and Linux commands </b></li>\n",
    "      <li><b>Advanced Unix and Linux commands </b></li>\n",
    "      <li><b>Shell scripting</b></li>\n",
    "    \n",
    "    \n",
    "  </ul>\n",
    "</p>\n"
   ]
  },
  {
   "cell_type": "markdown",
   "id": "64c5bfcd",
   "metadata": {
    "slideshow": {
     "slide_type": "slide"
    }
   },
   "source": [
    "<h2 style='color:red; font-weight:bold; text-align:center; font-family: \"Times New Roman\", Times, serif;'>INTRODUCTION TO UNIX AND LINUX OPERATING SYSTEM</h2><br>\n",
    "<p align='justify' style='margin: 10px 20px; line-height:1.5; font-family: \"Times New Roman\", Times, serif; font-size:16px;'>\n",
    "    <strong style = \"color: purple\">Introduction to the Unix and Linux operating system </strong>\n",
    "    \n",
    "  <ul style='font-family: \"Times New Roman\", Times, serif; font-weight:light; font-size:16px;'>\n",
    "      <li><b>Overview of the history and philosophy of Unix and Linux </b></li>\n",
    "      <li><b>Understanding the file system and directory structure</b></li>\n",
    "      <li><b>Setting up the command-line environment </b></li>\n",
    "    \n",
    "    \n",
    "  </ul>\n",
    "</p>\n",
    "<img src=\"Unix-Linux.png\" width=\"150\" height=\"250\" style=\"float: left; margin-right: 20px; margin-left: 20px;\">\n",
    "<p align='justify' style='margin: 10px 20px; line-height:1.5; font-family: \"Times New Roman\", Times, serif; font-size:16px;'>\n",
    "  Unix is a family of multitasking, multiuser computer operating systems that derive from the original AT&T Unix, developed in the 1970s at Bell Labs, a research and development subsidiary of AT&T. Unix systems are characterized by a modular design that is sometimes called the \"Unix philosophy,\" meaning that the operating system provides a set of simple tools that each perform a limited, well-defined function, with a unified filesystem as the main means of communication, and a shell scripting and command language to combine the tools to perform complex workflows.\n",
    "\n",
    "</p><br><br>\n",
    "<p align='justify' style='margin: 10px 20px; line-height:1.5; font-family: \"Times New Roman\", Times, serif; font-size:16px;'>\n",
    "    <strong style = \"color: purple\">Key features of Unix Systems include</strong>\n",
    "    \n",
    "  <ul style='font-family: \"Times New Roman\", Times, serif; font-weight:light; font-size:16px;'>\n",
    "      <li><b>Multitasking: </b>  This means that Unix can run multiple programs or processes at the same time. For example, you can have a web browser open while also downloading a file and listening to music, all without one program slowing down or crashing the others.</li><br>\n",
    "      <li><b>Multiuser: </b>  Unix can be used by many different people at the same time, with each person having their own user account and files that are separate from everyone else's. This allows for secure sharing of a computer among a group of people.</li>\n",
    "      \n",
    "    \n",
    "  </ul>\n",
    "</p>"
   ]
  },
  {
   "cell_type": "markdown",
   "id": "f94bec97",
   "metadata": {
    "slideshow": {
     "slide_type": "subslide"
    }
   },
   "source": [
    "<p align='justify' style='margin: 10px 20px; line-height:1.5; font-family: \"Times New Roman\", Times, serif; font-size:16px;'>\n",
    "    \n",
    "    \n",
    "  <ul style='font-family: \"Times New Roman\", Times, serif; font-weight:light; font-size:16px;'>\n",
    "      <li><b>Portability: </b> Unix is designed to work on many different types of computers, from small personal devices to large mainframe servers. This makes it very versatile and adaptable to different needs and situations.</li><br>\n",
    "      <li><b>Robustness: </b>  Unix is known for its stability and reliability, meaning it can run for long periods of time without crashing or needing to be rebooted. This is especially important for servers that need to be available 24/7.</li>\n",
    "    \n",
    "    \n",
    "  </ul>\n",
    "</p><br>\n",
    "<p align='justify' style='margin: 10px 20px; line-height:1.5; font-family: \"Times New Roman\", Times, serif; font-size:16px; color: purple'>\n",
    "  There are many different versions of Unix available, including Linux, Solaris, and macOS, each with its own set of features and capabilities.\n",
    "\n",
    "</p>"
   ]
  },
  {
   "cell_type": "markdown",
   "id": "4fbc1f9b",
   "metadata": {
    "slideshow": {
     "slide_type": "subslide"
    }
   },
   "source": [
    "<h4 style='color:red; font-weight:bold; text-align:center; font-family: \"Times New Roman\", Times, serif; font-size:18px;'>History and Philosophy of Unix/Linux</h4>\n",
    "<img src=\"fpl-history-unix-linux-londo.jpg\" width=\"150\" height=\"250\" style=\"float: left; margin-right: 20px; margin-left: 20px;\">\n",
    "<p align='justify' style='margin: 10px 20px; line-height:1.5; font-family: \"Times New Roman\", Times, serif; font-size:16px; color: purple'>\n",
    "  In the late 1980s and early 1990s, Linux was developed as a free, open source operating system based on the Unix operating system. Linux was developed by Linus Torvalds, a Finnish computer science student, who released the source code for the operating system under the GNU General Public License (GPL). The GPL is a license that allows users to freely modify and distribute the software, as long as they make the source code available to others.\n",
    "\n",
    "</p><br>\n",
    "<p align='justify' style='margin: 10px 20px; line-height:1.5; font-family: \"Times New Roman\", Times, serif; font-size:16px; color: black'>\n",
    "  Richard Stallman is a software developer and activist who is known for his work in the free software movement. In the 1980s, Stallman founded the Free Software Foundation (FSF) and developed the GPL, which has become the most widely used open source license. Stallman's work has been influential in the development of the open source movement and the widespread adoption of open source software.\n",
    "</p><br>\n",
    "<p align='justify' style='margin: 10px 20px; line-height:1.5; font-family: \"Times New Roman\", Times, serif; font-size:16px; color: black'>\n",
    "  One of the key philosophies behind Unix was the idea of \"small, sharp tools.\" Rather than building complex, monolithic programs(A monolithic program is a type of software application that consists of a single, self-contained program that performs all of the functions of the application.), Unix developers preferred to create simple, modular programs that could be combined and used in various ways to accomplish specific tasks. This approach made it easier to develop and maintain software, and it also made it easier for users to customize their systems to meet their specific needs.\n",
    "</p><br>\n",
    "<p align='justify' style='margin: 10px 20px; line-height:1.5; font-family: \"Times New Roman\", Times, serif; font-size:16px; color: black'>\n",
    "  Another important aspect of the Unix philosophy is the concept of \"everything is a file.\" In Unix, nearly everything in the system, including devices, processes, and even network connections, can be represented as a file. This makes it possible to use the same set of commands and utilities to manipulate a wide range of resources in the system.\n",
    "</p><br>\n",
    "<p align='justify' style='margin: 10px 20px; line-height:1.5; font-family: \"Times New Roman\", Times, serif; font-size:16px; color: purple'>\n",
    "  In summary, the history of Unix becoming open source involves the development of the Linux operating system and the work of Richard Stallman and the Free Software Foundation in promoting the use of open source licenses and software.  \n",
    "</p>"
   ]
  },
  {
   "cell_type": "markdown",
   "id": "13a5e8a5",
   "metadata": {
    "slideshow": {
     "slide_type": "subslide"
    }
   },
   "source": [
    "<h3 style='color:red; font-weight:bold; text-align:center; font-family: \"Times New Roman\", Times, serif; font-size:20px;'>Core Componenets of a UNIX System</h3><br>\n",
    "<img src=\"1_LEp6Tu9LKTF0m0DXvgNMvg.png\" width=\"150\" height=\"250\" style=\"float: right; margin-right: 170px; margin-left: 170px;\">\n",
    "<p align='justify' style='margin: 10px 20px; line-height:1.5; font-family: \"Times New Roman\", Times, serif; font-size:16px;'>\n",
    "    <strong style = \"color: purple\">The core components of a Unix system include:</strong>\n",
    "    \n",
    "  <ul style='font-family: \"Times New Roman\", Times, serif; font-weight:light; font-size:16px;'>\n",
    "      <li>The kernel</li>\n",
    "      <li>System libraries</li>\n",
    "      <li>System utilities</li>\n",
    "      <li>Shell</li>\n",
    "      <li>User programs</li>\n",
    "    \n",
    "    \n",
    "  </ul>\n",
    "</p>"
   ]
  },
  {
   "cell_type": "markdown",
   "id": "8ae7ac1a",
   "metadata": {
    "slideshow": {
     "slide_type": "subslide"
    }
   },
   "source": [
    "<h4 style='color:red; font-weight:bold; text-align:center; font-family: \"Times New Roman\", Times, serif; font-size:20px;'>The kernel </h4>\n",
    "<img src=\"images (5).jpeg\" width=\"150\" height=\"250\" style=\"float: left; margin-right: 20px; margin-left: 20px;\">\n",
    "<p align='justify' style='margin: 10px 20px; line-height:1.5; font-family: \"Times New Roman\", Times, serif; font-size:16px; color: purple'>\n",
    "  This is the central part of the operating system that manages the hardware resources of the system, such as memory, processors, and devices. It also provides the interface between the system and the programs that run on it. \n",
    "</p><br><br>\n",
    "\n",
    "<h5 style='color:red; font-weight:bold; text-align:center; font-family: \"Times New Roman\", Times, serif; font-size:16px;'>Stable and Unstable Kernel  </h5>\n",
    "<p align='justify' style='margin: 10px 20px; line-height:1.5; font-family: \"Times New Roman\", Times, serif; font-size:16px; color: black'>\n",
    "  The terms \"stable\" and \"unstable\" can be used to describe different versions of the Unix kernel based on the level of stability and reliability they offer. <strong>A stable kernel</strong> is a version of the kernel that has been thoroughly tested and is known to be reliable. Stable kernels are typically used in production environments, where a stable and reliable operating system is critical.<br><br> On the other hand, <strong>an unstable kernel</strong> is a version of the kernel that is still in development and has not yet been fully tested. These kernels may contain new features and improvements, but they may also have bugs and other issues that can cause the operating system to be unstable. Unstable kernels are typically used in testing and development environments, where the focus is on evaluating new features and improvements rather than on stability and reliability.\n",
    " \n",
    "</p>"
   ]
  },
  {
   "cell_type": "markdown",
   "id": "fae4afd0",
   "metadata": {
    "slideshow": {
     "slide_type": "subslide"
    }
   },
   "source": [
    "<h5 style='color:red; font-weight:bold; text-align:center; font-family: \"Times New Roman\", Times, serif; font-size:16px;'>Checking the Stability of the Kernel </h5><br>\n",
    "<p align='justify' style='margin: 10px 20px; line-height:1.5; font-family: \"Times New Roman\", Times, serif; font-size:16px;'>\n",
    "    <strong style = \"color: purple\">There are a few different ways you can check the stability of the Unix kernel</strong>\n",
    "    \n",
    "  <ul style='font-family: \"Times New Roman\", Times, serif; font-weight:light; font-size:16px;'>\n",
    "      <li><strong>Check the version number: </strong> Most Unix operating systems include version numbers that can be used to identify the stability of the kernel. For example, kernels with even-numbered version numbers, such as 2.6.32 or 4.4.0, are generally considered to be stable, while kernels with odd-numbered version numbers, such as 3.5.0 or 5.7.0, are generally considered to be unstable. However, this is not a hard and fast rule, and the stability of a kernel can depend on other factors as well.</li><br>\n",
    "      <li><strong>Check the <a href=\"https://www.kernel.org/doc/html/latest/index.html\">documentation:</a></strong> Many Unix operating systems include documentation that describes the stability of the kernel. For example, the documentation might specify that the kernel is \"stable\" or \"unstable,\" or it might provide more detailed information about the stability of different features and components.</li><br>\n",
    "      <li><strong>Check the release notes: </strong>Most Unix operating systems also include release notes that provide information about the changes and improvements made in each new version of the kernel. </li>\n",
    "    \n",
    "  </ul>\n",
    "</p><br>\n",
    "<p align='justify' style='margin: 10px 20px; line-height:1.5; font-family: \"Times New Roman\", Times, serif; font-size:16px; color: purple'>\n",
    "  These release notes can be a good source of information about the stability of the kernel, as they often include details about any known issues or bugs that may affect the stability of the system. \n",
    "</p><br>\n",
    "<p align='justify' style='margin: 10px 20px; line-height:1.5; font-family: \"Times New Roman\", Times, serif; font-size:16px; color: purple'>\n",
    "   To see the release version of the Linux kernel that is currently running on your system, use the command below. \n",
    "</p>"
   ]
  },
  {
   "cell_type": "code",
   "execution_count": 2,
   "id": "bb06eb03",
   "metadata": {
    "slideshow": {
     "slide_type": "subslide"
    }
   },
   "outputs": [
    {
     "name": "stdout",
     "output_type": "stream",
     "text": [
      "5.15.0-60-generic\n"
     ]
    }
   ],
   "source": [
    "%%bash\n",
    "uname -r"
   ]
  },
  {
   "cell_type": "markdown",
   "id": "5e9eca06",
   "metadata": {
    "slideshow": {
     "slide_type": "subslide"
    }
   },
   "source": [
    "<p align='justify' style='margin: 10px 20px; line-height:1.5; font-family: \"Times New Roman\", Times, serif; font-size:16px; color: purple'>\n",
    "  You can check for available kernel updates by using the uname -r command to view the current kernel versionas demonstrated in the cell above, and then checking the system's package manager (e.g., apt, yum, pacman, etc. depending on your distribution) for updates.\n",
    "</p><br>\n",
    "<p align='justify' style='margin: 10px 20px; line-height:1.5; font-family: \"Times New Roman\", Times, serif; font-size:16px; color: black'>\n",
    "  It's also worth noting that the stability of a Unix kernel can change over time, as new versions are released and bugs are fixed. As a result, it's important to regularly check for updates and upgrade to the latest stable version of the kernel to ensure the best possible stability and reliability for your system.\n",
    "</p>"
   ]
  },
  {
   "cell_type": "markdown",
   "id": "fb809a09",
   "metadata": {
    "slideshow": {
     "slide_type": "subslide"
    }
   },
   "source": [
    "<h4 style='color:red; font-weight:bold; text-align:center; font-family: \"Times New Roman\", Times, serif; font-size:20px;'>System libraries</h4>\n",
    "<p align='justify' style='margin: 10px 20px; line-height:1.5; font-family: \"Times New Roman\", Times, serif; font-size:16px; color: black'>\n",
    "  System libraries are sets of pre-written code that provide a wide range of services to programs running on a computer system. These libraries contain collections of functions and procedures that enable programs to perform various tasks, such as I/O operations, interprocess communication, and memory management. <br><br>In addition, system libraries also provide interfaces for programs to interact with the operating system kernel and access system resources, such as files, devices, and network sockets. This enables programs to use the underlying hardware resources of the system efficiently and effectively.<br><br>System libraries are essential components of modern computer systems and programming languages. They are typically provided by the operating system vendor or open-source community and are continuously updated and maintained to fix bugs, add new features, and improve performance. By utilizing these libraries, developers can save time and effort by using existing code instead of writing everything from scratch, and can build more reliable and efficient programs.\n",
    "</p>"
   ]
  },
  {
   "cell_type": "markdown",
   "id": "6f78c2d7",
   "metadata": {
    "slideshow": {
     "slide_type": "subslide"
    }
   },
   "source": [
    "<h4 style='color:red; font-weight:bold; text-align:center; font-family: \"Times New Roman\", Times, serif; font-size:20px;'>System utilities</h4>\n",
    "<p align='justify' style='margin: 10px 20px; line-height:1.5; font-family: \"Times New Roman\", Times, serif; font-size:16px; color: black'>\n",
    "  System utilities are a collection of programs that perform various tasks related to system maintenance and management. These programs are typically included as part of the operating system and are used to manage files and directories, control system processes, and configure system settings.<br><br>Some examples of system utilities include text editors like vi or nano, which are used to create and edit files; file managers like Windows Explorer or Nautilus, which are used to navigate and manage files and folders; and system monitors like htop or top, which display information about system resource usage and running processes.<br><br>Other system utilities include network tools like ping and traceroute, which are used to troubleshoot network connectivity issues; backup and restore tools, which are used to create and restore system backups; and configuration tools like system-config-firewall or sysctl, which are used to configure system settings and parameters.<br><br>System utilities are essential for maintaining and managing the functionality of an operating system and the programs that run on it. They enable users to perform a wide range of tasks efficiently and effectively, and are an important part of the overall user experience.\n",
    "\n",
    "\n",
    "</p>"
   ]
  },
  {
   "cell_type": "markdown",
   "id": "79e0b6af",
   "metadata": {
    "slideshow": {
     "slide_type": "subslide"
    }
   },
   "source": [
    "\n",
    "<h4 style='color:red; font-weight:bold; text-align:center; font-family: \"Times New Roman\", Times, serif; font-size:20px;'>User programs</h4>\n",
    "<p align='justify' style='margin: 10px 20px; line-height:1.5; font-family: \"Times New Roman\", Times, serif; font-size:16px; color: black'>\n",
    "  User programs refer to the various applications and software that are designed to be run by individual users on a computer system. These programs are usually installed by the user or a system administrator, and can range from basic utilities like text editors and file managers to more complex applications such as web browsers, games, and productivity software.<br><br>Text editors, for example, are user programs that allow users to create and edit text files. Web browsers are used to access and navigate the internet, while games provide entertainment and recreation for users. Other examples of user programs include email clients, media players, and programming tools.<br><br>User programs are typically designed with the end-user in mind, and are intended to be easy to use and navigate. They provide users with the functionality they need to complete tasks, be productive, or simply enjoy their computing experience. These programs may have a graphical user interface (GUI) or a command-line interface (CLI), and can be open-source or proprietary software.<br><br>Overall, user programs are an essential part of the computing experience and are what makes computers useful and versatile tools in both personal and professional settings.\n",
    "</p>"
   ]
  },
  {
   "cell_type": "markdown",
   "id": "9df9cd0a",
   "metadata": {
    "slideshow": {
     "slide_type": "subslide"
    }
   },
   "source": [
    "<h4 style='color:red; font-weight:bold; text-align:center; font-family: \"Times New Roman\", Times, serif; font-size:20px;'>Shell</h4>\n",
    "<img src=\"hqdefault (3).jpg\" width=\"150\" height=\"250\" style=\"float: left; margin-right: 20px; margin-left: 20px;\">\n",
    "<p align='justify' style='margin: 10px 20px; line-height:1.5; font-family: \"Times New Roman\", Times, serif; font-size:16px; color: purple'>\n",
    "  A shell is a command-line interface (CLI) that enables users to interact with an operating system by entering text commands at the command prompt. The shell reads the user input and executes the corresponding system commands or scripts.<br><br>\n",
    "</p><br>\n",
    "<p align='justify' style='margin: 10px 20px; line-height:1.5; font-family: \"Times New Roman\", Times, serif; font-size:16px; color: black'>\n",
    "  Unix-based operating systems support several types of shells, each with its own set of features and syntax. Some common shells include the Bourne shell (sh), the C shell (csh), the Bourne-Again shell (bash), and the Z shell (zsh). Each shell has its own set of features, and users can choose the shell that best suits their needs and preferences.<br><br>The shell is an essential component of the Unix system and is used by system administrators, developers, and power users to perform a wide range of tasks, such as managing files and directories, controlling system processes, and configuring system settings. It is also an important tool for automating repetitive tasks and creating scripts that can be executed automatically.\n",
    "</p><br>\n",
    "<p align='justify' style='margin: 10px 20px; line-height:1.5; font-family: \"Times New Roman\", Times, serif; font-size:16px; color: purple'>\n",
    "  In addition to these core components, a Unix system may also include other software packages, such as databases, web servers, and programming languages, to support a wide range of applications.\n",
    "</p>"
   ]
  },
  {
   "cell_type": "markdown",
   "id": "e4924dce",
   "metadata": {
    "slideshow": {
     "slide_type": "subslide"
    }
   },
   "source": [
    "<h5 style='color:red; font-weight:bold; text-align:center; font-family: \"Times New Roman\", Times, serif; font-size:18px;'>Components and Flow of the Shell</h5><br>\n",
    "<p align='justify' style='margin: 10px 20px; line-height:1.5; font-family: \"Times New Roman\", Times, serif; font-size:16px; color: purple'>\n",
    "    <strong>Basic components and flow of the Unix shell:</strong>\n",
    "    \n",
    "  <ul style='font-family: \"Times New Roman\", Times, serif; font-weight:light; font-size:16px;'>\n",
    "      <li>The user types a command into the shell, which is interpreted by the shell interpreter.</li>\n",
    "      <li>The shell interpreter reads the command and any arguments and options passed to it.</li>\n",
    "      <li>The shell checks for any special characters or shell built-in commands, and if none are found, it searches the directories in the PATH environment variable for a program with the same name as the command.</li>\n",
    "      <li>If the program is found, the shell executes it, passing any arguments and options as command-line arguments to the program.</li>\n",
    "      <li>The program performs its designated task and sends any output back to the shell, which then displays the output to the user.</li>\n",
    "      <li>Once the program has completed its task, control is returned to the shell, and the user can enter another command.</li>\n",
    "    \n",
    "  </ul>\n",
    "</p><br>\n",
    "<p align='justify' style='margin: 10px 20px; line-height:1.5; font-family: \"Times New Roman\", Times, serif; font-size:16px; color: purple'>\n",
    "  Some common shell built-in commands include cd (change directory), echo (display text on the command line), exit (exit the shell), and history (display a list of previously entered commands).\n",
    "</p>"
   ]
  },
  {
   "cell_type": "markdown",
   "id": "0a1ae5c8",
   "metadata": {
    "slideshow": {
     "slide_type": "subslide"
    }
   },
   "source": [
    "<h5 style='color:red; font-weight:bold; text-align:center; font-family: \"Times New Roman\", Times, serif; font-size:18px;'>Types and differences of the shell </h5><br>\n",
    "<p align='justify' style='margin: 10px 20px; line-height:1.5; font-family: \"Times New Roman\", Times, serif; font-size:16px; color: purple'>\n",
    "    There are several different types of Unix shells, each with its own set of features and capabilities. Some of the most popular Unix shells include:<br><br>\n",
    "    \n",
    "  <ul style='font-family: \"Times New Roman\", Times, serif; font-weight:light; font-size:16px;'>\n",
    "      <li>SH - Bourne Shell</li>\n",
    "      <li>Bash (Bourne Again SHell)</li>\n",
    "      <li>C shell (Csh)</li>\n",
    "      <li>Korn shell (Ksh) </li>\n",
    "    \n",
    "    \n",
    "  </ul>\n",
    "</p><br>\n",
    "\n",
    "<p align='justify' style='margin: 10px 20px; line-height:1.5; font-family: \"Times New Roman\", Times, serif; font-size:16px; color: purple'>\n",
    "  Each of these shells has its own unique features and capabilities, and users may prefer one shell over another depending on their personal preferences and the tasks they need to perform. In general, Bash is a good choice for most users, as it is widely used and has a large community of developers and users. Detailed explanation in the cells below\n",
    "</p>"
   ]
  },
  {
   "cell_type": "markdown",
   "id": "92596035",
   "metadata": {
    "slideshow": {
     "slide_type": "subslide"
    }
   },
   "source": [
    "<p align='justify' style='margin: 10px 20px; line-height:1.5; font-family: \"Times New Roman\", Times, serif; font-size:16px; color: purple'>\n",
    "    \n",
    "    \n",
    "  <ul style='font-family: \"Times New Roman\", Times, serif; font-weight:light; font-size:16px;'>\n",
    "      <li><strong style = \"color: purple\">SH - Bourne Shell</strong><br><br>The Bourne shell (sh) is one of the most widely used Unix shells. It was developed by Stephen Bourne at Bell Labs in the early 1970s and is still widely used today. The Bourne shell is a command-line interface that allows users to interact with the Unix operating system by typing in commands. It is a simple and lightweight shell that is often used on embedded systems, servers, and other devices where resources are limited.<br><br>The Bourne shell provides a set of built-in commands that are used to manipulate files, perform various operations, and interact with the system. It also supports features such as command substitution, piping, and conditional statements, which allow users to create complex scripts and automate tasks.</li><br><br>\n",
    "      <li><strong style = \"color: purple\">Bash (Bourne Again SHell)</strong><br><br>Bash (Bourne Again SHell) is a Unix shell and command language that is often used as the default shell for Unix-like operating systems, including Linux and macOS. It is named after Stephen Bourne, the author of the original Unix shell, and \"Bourne again\" is a reference to the fact that Bash is a reimplementation of the original Bourne shell.<br><br>Bash is a powerful and flexible command-line interface that allows users to execute commands, run scripts, and perform a wide range of other tasks. It provides many features that are useful for both interactive use and shell scripting, including command history, command line editing, and job control. Bash scripts are text files that contain a series of commands that are executed in sequence. They are often used to automate repetitive tasks or to create complex programs that would be difficult to write using individual commands. Bash scripts can be run from the command line by typing \"bash script.sh\", where \"script.sh\" is the name of the script file.<br><br></li>\n",
    "      \n",
    "    \n",
    "    \n",
    "  </ul>\n",
    "</p>"
   ]
  },
  {
   "cell_type": "markdown",
   "id": "988a3633",
   "metadata": {
    "slideshow": {
     "slide_type": "subslide"
    }
   },
   "source": [
    "<p align='justify' style='margin: 10px 20px; line-height:1.5; font-family: \"Times New Roman\", Times, serif; font-size:16px; color: purple'>\n",
    "    \n",
    "    \n",
    "  <ul style='font-family: \"Times New Roman\", Times, serif; font-weight:light; font-size:16px;'>\n",
    "      <li><strong style = \"color: purple\">C shell (Csh)</strong><br><br>The C shell (Csh) is a Unix shell that was developed at the University of California, Berkeley in the late 1970s. It is named for the C programming language, which it was designed to resemble in its syntax and control structures. Csh was one of the first shells to support command history and command line editing, features that are now common in most Unix shells. Csh is not as widely used as some other Unix shells, such as the Bourne shell (sh) or the Bash shell (bash), but it is still popular in some circles and is included with many Unix-like operating systems.<br><br>Like other Unix shells, Csh allows users to enter commands at a command prompt and execute them by pressing the Enter key. It also provides a wide range of built-in commands and features that make it easy to perform tasks such as running programs, moving and copying files, and managing system processes. Csh scripts are similar to Bash scripts, in that they are text files that contain a series of commands that are executed in sequence. They can be run from the command line by typing \"csh script.csh\", where \"script.csh\" is the name of the script file.</li><br><br>\n",
    "      <li><strong style = \"color: purple\">Korn shell (Ksh)</strong><br><br>The Korn shell (Ksh) is a Unix shell that was developed by David Korn at AT&T Bell Labs in the 1980s. It is named for its developer and is sometimes referred to as \"ksh\". Ksh is an enhanced version of the Bourne shell (sh), and it includes many features that were not present in the original Bourne shell, such as command line editing, command history, and arrays. Ksh is widely used on many Unix-like operating systems, including Linux, AIX, and Solaris. It is often used as the default shell for system administrators, as it provides a powerful and flexible command-line interface that is well suited to the needs of systems management.<br><br>Like other Unix shells, Ksh allows users to enter commands at a command prompt and execute them by pressing the Enter key. It also provides a wide range of built-in commands and features that make it easy to perform tasks such as running programs, moving and copying files, and managing system processes. Ksh scripts are similar to Bash and Csh scripts, in that they are text files that contain a series of commands that are executed in sequence. They can be run from the command line by typing \"ksh script.ksh\", where \"script.ksh\" is the name of the script file. </li>\n",
    "    \n",
    "    \n",
    "  </ul>\n",
    "</p>"
   ]
  },
  {
   "cell_type": "markdown",
   "id": "868bb91d",
   "metadata": {
    "slideshow": {
     "slide_type": "subslide"
    }
   },
   "source": [
    "<h3 style='color:red; font-weight:bold; text-align:center; font-family: \"Times New Roman\", Times, serif; font-size:20px;'>Understanding the file system and directory structure </h3>\n",
    "<img src=\"imgbin-directory-structure-computer-icons-mbox-file-system-system-folder-tree-yellow-icon-zrKDbZFXBzy6yEC6PZJ2gh59E.jpg\" width=\"150\" height=\"250\" style=\"float: left; margin-right: 20px; margin-left: 20px;\">\n",
    "<p align='justify' style='margin: 10px 20px; line-height:1.5; font-family: \"Times New Roman\", Times, serif; font-size:16px; color: purple'>\n",
    "  The file system is like a big tree where files are organized and stored in different folders. The main folder at the top is called the root directory and it's represented by a forward slash (/). All other folders are organized under the root directory like branches on a tree.\n",
    "</p><br><br>\n",
    "<p align='justify' style='margin: 10px 20px; line-height:1.5; font-family: \"Times New Roman\", Times, serif; font-size:16px; color: black'>\n",
    "  In the file system, a directory is a container that holds files and other directories. A directory can contain any number of files and subdirectories, and each subdirectory can contain its own set of files and subdirectories. This hierarchical structure allows users to easily organize and access their files. On most Unix-like operating systems, including Linux and macOS, the file system is divided into two main branches: the root file system and the user file system. The root file system contains the operating system and system files, while the user file system contains the files and directories that belong to individual users.\n",
    "</p><br>\n",
    "<p align='justify' style='margin: 10px 20px; line-height:1.5; font-family: \"Times New Roman\", Times, serif; font-size:16px; color: black'>\n",
    "  Each user on a Unix-like system has a personal directory, called the home directory, that is used to store their personal files and settings. The home directory is typically located within the user file system and is usually represented by a tilde (~).\n",
    "</p><br>\n",
    "<p align='justify' style='margin: 10px 20px; line-height:1.5; font-family: \"Times New Roman\", Times, serif; font-size:16px; color: purple'>\n",
    "  Understanding the file system and directory structure is important for navigating and managing files on a computer. It can also be helpful when working with command-line tools and scripts, as many of these tools operate on files and directories within the file system.\n",
    "</p>"
   ]
  },
  {
   "cell_type": "markdown",
   "id": "c5462294",
   "metadata": {
    "slideshow": {
     "slide_type": "subslide"
    }
   },
   "source": [
    "<h3 style='color:red; font-weight:bold; text-align:center; font-family: \"Times New Roman\", Times, serif; font-size:20px;'>Setting up the command-line environment </h3><br>\n",
    "<p align='justify' style='margin: 10px 20px; line-height:1.5; font-family: \"Times New Roman\", Times, serif; font-size:16px; color: purple'>\n",
    "  To set up the command-line environment on a Unix-like operating system, such as Linux or macOS, you will need to install a command-line shell and a terminal emulator. A shell is a program that allows you to enter commands at a command prompt and execute them by pressing the Enter key. A terminal emulator is a program that provides a window in which you can use the shell, eg. PuTTY, iTerm2, Terminator etc. \n",
    "</p><br>\n",
    "<p align='justify' style='margin: 10px 20px; line-height:1.5; font-family: \"Times New Roman\", Times, serif; font-size:16px; color: black'>\n",
    "  To install a shell on a Unix-like operating system, you will typically need to use a package manager (A package manager is a software tool used to manage the installation, removal, and updating of software packages on a computer system. It automates the process of downloading and installing software packages, which can save time and ensure that software dependencies are met.), such as apt (for Debian-based systems) or yum (for Red Hat-based systems). For example, to install the Bash shell on a Debian-based system, you can use the following command: \n",
    "</p>"
   ]
  },
  {
   "cell_type": "code",
   "execution_count": null,
   "id": "0656546a",
   "metadata": {
    "slideshow": {
     "slide_type": "subslide"
    }
   },
   "outputs": [],
   "source": [
    "%%bash\n",
    "sudo apt-get install bash"
   ]
  },
  {
   "cell_type": "markdown",
   "id": "06ed698c",
   "metadata": {
    "slideshow": {
     "slide_type": "subslide"
    }
   },
   "source": [
    "<p align='justify' style='margin: 10px 20px; line-height:1.5; font-family: \"Times New Roman\", Times, serif; font-size:16px; color: purple'>\n",
    "  In this course we will install a Linux Distribution on a Virtual Machine (Prefarably VMware Workstation Pro: It is paid and i beleive your school will provide the linces key. we can find other alternatives if you do not have the activation key of VMware Workstation Pro:\n",
    " \n",
    "</p><br>\n",
    "<h3 style='color:red; font-weight:bold; text-align:center; font-family: \"Times New Roman\", Times, serif; font-size:20px;'>Linux Distributions & Installation </h3><br>\n",
    "<p align='justify' style='margin: 10px 20px; line-height:1.5; font-family: \"Times New Roman\", Times, serif; font-size:16px; color: purple'>\n",
    "    <strong>Linux Distribution</strong>\n",
    "    <img src=\"Linux_distr_large.jpg\" width=\"150\" height=\"250\" style=\"float: right; margin-right: 170px; margin-left: 170px;\">\n",
    "    \n",
    "  <ul style='font-family: \"Times New Roman\", Times, serif; font-weight:light; font-size:16px;'>\n",
    "      <li><strong><a href=\"https://ubuntu.com/\">Ubuntu</a></strong></li>\n",
    "      <li><strong><a href=\"https://www.redhat.com/en\">RedHat</a></strong></li>\n",
    "      <li><strong><a href=\"https://www.fedora-fr.org/\">Fedora</a></strong></li>\n",
    "      <li><strong><a href=\"https://www.centos.org/\">CentOS</a></strong></li>\n",
    "      <li><strong><a href=\"https://www.debian.org/\">Debian</a></strong></li>\n",
    "      <li><strong><a href=\"https://www.suse.com/\">SuSE/Novell</a></strong></li>\n",
    "      <li><strong><a href=\"https://www.kali.org/\">Kali</a></strong></li>\n",
    "      <li><strong><a href=\"https://distrowatch.com/\">More about Distributions Here</a></strong></li>\n",
    "      \n",
    "    \n",
    "    \n",
    "  </ul>\n",
    "</p>"
   ]
  },
  {
   "cell_type": "markdown",
   "id": "953d9cc4",
   "metadata": {
    "slideshow": {
     "slide_type": "subslide"
    }
   },
   "source": [
    "<h3 style='color:red; font-weight:bold; text-align:center; font-family: \"Times New Roman\", Times, serif; font-size:20px;'>Exercise 0: Introduction </h3><br>\n",
    "<p align='justify' style='margin: 10px 20px; line-height:1.5; font-family: \"Times New Roman\", Times, serif; font-size:16px; color: purple'>\n",
    "    \n",
    "    \n",
    "  <ul style='font-family: \"Times New Roman\", Times, serif; font-weight:light; font-size:16px;'>\n",
    "      <li>Q1. How do the principles of Unix and Linux continue to shape the direction of the open-source community today?</li>\n",
    "      <li>Q2. What are some of the challenges that Unix and Linux have faced over the years, and how have they been addressed?</li>\n",
    "      <li>Q3. Who developed Unix, and why?</li>\n",
    "      <li>Q4. What is the philosophy behind the design of Unix?</li>\n",
    "      <li>Q5. What is Linux, and how does it relate to Unix?</li>\n",
    "      <li>Q6. How do file permissions work in Unix and Linux, and how can they be used to control access to files and directories?</li>\n",
    "      <li>Q7. What is the root directory, and what is its significance in the file system hierarchy?</li>\n",
    "      <li>Q8. What is a file system, and why is it important in a computer operating system?</li>\n",
    "    \n",
    "    \n",
    "  </ul>\n",
    "</p>"
   ]
  },
  {
   "cell_type": "markdown",
   "id": "da4bf68d",
   "metadata": {
    "slideshow": {
     "slide_type": "slide"
    }
   },
   "source": [
    "<h2 style='color:red; font-weight:bold; text-align:center; font-family: \"Times New Roman\", Times, serif; font-size:22px;'>CHAPTER ONE: BASIC UNIX AND LINUX COMMANDS </h2><br>\n",
    "<img src=\"linux-commands-1024x512.jpg\" width=\"150\" height=\"250\" style=\"float: left; margin-right: 20px; margin-left: 20px;\">\n",
    "<p align='justify' style='margin: 10px 20px; line-height:1.5; font-family: \"Times New Roman\", Times, serif; font-size:16px; color: purple'>\n",
    "  Commands in Unix-like operating systems are used to instruct the system to perform various actions, such as manipulating files and directories, controlling processes, managing users and permissions, and configuring the system settings. These commands are executed in the command line interface, which provides a textual interface for interacting with the system.\n",
    "\n",
    "</p><br>\n",
    "<p align='justify' style='margin: 10px 20px; line-height:1.5; font-family: \"Times New Roman\", Times, serif; font-size:16px; color: black'>\n",
    "  Each command has its own syntax and options, which determine how it works and what it does. The syntax of a command specifies the basic structure and arguments of the command, while the options specify additional settings and parameters that modify the behavior of the command.<br><br>For example, the \"ls\" command is used to list the contents of a directory, and it has several options that can be used to modify its behavior, such as \"-l\" to display detailed information about each file, \"-a\" to show hidden files, and \"-h\" to display file sizes in a human-readable format.<br><br>The options of a command are added to the end of the command, separated by spaces or dashes. Some options may require additional arguments or values, which are added after the option, separated by a space or an equal sign.\n",
    "\n",
    "</p>"
   ]
  },
  {
   "cell_type": "markdown",
   "id": "45c527a0",
   "metadata": {
    "slideshow": {
     "slide_type": "subslide"
    }
   },
   "source": [
    "<p align='justify' style='margin: 10px 20px; line-height:1.5; font-family: \"Times New Roman\", Times, serif; font-size:16px; color: purple'>\n",
    "    <strong style = \"color: black\">Some Commands</strong>\n",
    "    \n",
    "  <ul style='font-family: \"Times New Roman\", Times, serif; font-weight:light; font-size:16px;'>\n",
    "      <li><strong style = \"color: purple\">date : </strong> Shows the current date</li>\n",
    "      <li><strong style = \"color: purple\">man : </strong> The \"man\" command in Unix-like operating systems is used to display the manual page or documentation for a given command or topic. </li>\n",
    "      <li><strong style = \"color: purple\">whoami: </strong> Account used</li>\n",
    "      <li><strong style = \"color: purple\">who: </strong> List of connected users to the system</li>\n",
    "      <li><strong style = \"color: purple\">cal: </strong> Calender</li>\n",
    "      <li><strong style = \"color: purple\">uname: </strong> OS & Kernel Version</li>\n",
    "      <li><strong style = \"color: purple\">id: </strong>Identity of user</li>\n",
    "      <li><strong style = \"color: purple\">su: </strong>Switch User</li>\n",
    "      <li><strong style = \"color: purple\">script -a => exit: </strong>The \"script -a\" command is used to create a typescript of a terminal session and append it to an existing file.</li>\n",
    "      <li><strong style = \"color: purple\"> file filename: </strong>The \"file\" command in Unix-like operating systems is used to determine the type of a file by examining its contents and metadata.</li>\n",
    "    \n",
    "    \n",
    "  </ul>\n",
    "</p><br>\n",
    "<p align='justify' style='margin: 10px 20px; line-height:1.5; font-family: \"Times New Roman\", Times, serif; font-size:16px; color: purple'>\n",
    "  Power on your newly installed Linux in your VM and start building your skills in Shell Commands, consider that as your gateway to the world of hacking. open your terminal and start practicing the commands. \n",
    "\n",
    "</p>"
   ]
  },
  {
   "cell_type": "code",
   "execution_count": 4,
   "id": "29c6b6f0",
   "metadata": {
    "slideshow": {
     "slide_type": "subslide"
    }
   },
   "outputs": [],
   "source": [
    "%%bash\n",
    "#ls"
   ]
  },
  {
   "cell_type": "markdown",
   "id": "d58aa314",
   "metadata": {
    "slideshow": {
     "slide_type": "subslide"
    }
   },
   "source": [
    "<p align='justify' style='margin: 10px 20px; line-height:1.5; font-family: \"Times New Roman\", Times, serif; font-size:16px; color: black'>\n",
    "  The \"ls\" command is a command-line utility for listing the files and directories in a directory. It is one of the most commonly used commands in Linux and Unix-like operating systems.<br><br>By default, ls lists the files and directories in the current working directory, but it can also be used to list the files and directories in a specified directory or directories. The output of ls can be customized with a variety of command-line options. type \"man\" command to see the options of \"ls\" command and how it can be used.\n",
    "\n",
    "</p>"
   ]
  },
  {
   "cell_type": "code",
   "execution_count": 6,
   "id": "2a85cec3",
   "metadata": {
    "slideshow": {
     "slide_type": "subslide"
    }
   },
   "outputs": [],
   "source": [
    "%%bash\n",
    "#man ls"
   ]
  },
  {
   "cell_type": "markdown",
   "id": "0418299d",
   "metadata": {
    "slideshow": {
     "slide_type": "subslide"
    }
   },
   "source": [
    "<h4 style='color:red; font-weight:bold; text-align:center; font-family: \"Times New Roman\", Times, serif; font-size:18px;'>Navigating the file system with cd, ls, and pwd </h4><br>\n",
    "<img src=\"LinuxPathTree.png\" width=\"150\" height=\"250\" style=\"float: left; margin-right: 20px; margin-left: 20px;\">\n",
    "<p align='justify' style='margin: 10px 20px; line-height:1.5; font-family: \"Times New Roman\", Times, serif; font-size:16px; color: black'>\n",
    "  In a Unix-like operating system, the cd (change directory) command is used to navigate the file system. The ls (list) command is used to list the files and directories in a directory as explained above. The pwd (print working directory) command is used to display the name of the current working directory.<br><br><br><strong style = \"color: purple\">Here are some detailed explanation and examples of the cd, ls and pwd commands</strong>\n",
    "\n",
    "</p>"
   ]
  },
  {
   "cell_type": "markdown",
   "id": "526dc136",
   "metadata": {
    "slideshow": {
     "slide_type": "subslide"
    }
   },
   "source": [
    "<p align='justify' style='margin: 10px 20px; line-height:1.5; font-family: \"Times New Roman\", Times, serif; font-size:16px; color: black'>\n",
    "    <strong style = \"color: purple\">cd</strong><br><br>The \"cd\" command is used to change the current working directory in a command-line interface. The current working directory is the directory that you are currently \"in\" in the command-line interface.\n",
    "\n",
    "</p><br>\n",
    "<p align='justify' style='margin: 10px 20px; line-height:1.5; font-family: \"Times New Roman\", Times, serif; font-size:16px; color: black'>\n",
    "    For example, when you first open a terminal or command prompt, your current working directory is usually your home directory. You can use the \"cd\" command to change to a different directory.\n",
    "\n",
    "</p><br>\n",
    "<p align='justify' style='margin: 10px 20px; line-height:1.5; font-family: \"Times New Roman\", Times, serif; font-size:16px; color: purple'>\n",
    "    For example, when you first open a terminal or command prompt, your current working directory is usually your home directory. You can use the \"cd\" command to change to a different directory.\n",
    "\n",
    "</p>"
   ]
  },
  {
   "cell_type": "code",
   "execution_count": null,
   "id": "44d6b033",
   "metadata": {
    "slideshow": {
     "slide_type": "subslide"
    }
   },
   "outputs": [],
   "source": [
    "cd Documents"
   ]
  },
  {
   "cell_type": "markdown",
   "id": "6bc4b7a7",
   "metadata": {
    "slideshow": {
     "slide_type": "subslide"
    }
   },
   "source": [
    "<p align='justify' style='margin: 10px 20px; line-height:1.5; font-family: \"Times New Roman\", Times, serif; font-size:16px; color: purple'>\n",
    "    If the directory name contains spaces, you need to enclose it in quotes. For example, to change to a directory called \"My Documents\", you would type:\n",
    "\n",
    "</p>"
   ]
  },
  {
   "cell_type": "code",
   "execution_count": null,
   "id": "e9af2459",
   "metadata": {
    "slideshow": {
     "slide_type": "subslide"
    }
   },
   "outputs": [],
   "source": [
    "cd \"My Documents\""
   ]
  },
  {
   "cell_type": "markdown",
   "id": "c0721059",
   "metadata": {
    "slideshow": {
     "slide_type": "subslide"
    }
   },
   "source": [
    "<p align='justify' style='margin: 10px 20px; line-height:1.5; font-family: \"Times New Roman\", Times, serif; font-size:16px; color: purple'>\n",
    "    You can also use the \"..\" notation to move up one directory level. For example, if you are in a directory called \"Documents\" and want to move up to its parent directory, you would type:\n",
    "\n",
    "</p>"
   ]
  },
  {
   "cell_type": "code",
   "execution_count": null,
   "id": "0abf519a",
   "metadata": {
    "slideshow": {
     "slide_type": "subslide"
    }
   },
   "outputs": [],
   "source": [
    "cd .."
   ]
  },
  {
   "cell_type": "markdown",
   "id": "a739e848",
   "metadata": {
    "slideshow": {
     "slide_type": "subslide"
    }
   },
   "source": [
    "<p align='justify' style='margin: 10px 20px; line-height:1.5; font-family: \"Times New Roman\", Times, serif; font-size:16px; color: purple'>\n",
    "    To change to a directory with an absolute path (i.e., the full path from the root directory), you can simply specify the entire path. For example, to change to a directory called \"bin\" in the root directory, you would type:\n",
    "\n",
    "</p>"
   ]
  },
  {
   "cell_type": "code",
   "execution_count": null,
   "id": "f591004e",
   "metadata": {
    "slideshow": {
     "slide_type": "subslide"
    }
   },
   "outputs": [],
   "source": [
    "cd /bin"
   ]
  },
  {
   "cell_type": "markdown",
   "id": "c8f3fdad",
   "metadata": {
    "slideshow": {
     "slide_type": "subslide"
    }
   },
   "source": [
    "<p align='justify' style='margin: 10px 20px; line-height:1.5; font-family: \"Times New Roman\", Times, serif; font-size:16px; color: black'>\n",
    "    <strong style = \"color: purple\">ls</strong><br><br>The \"ls\" command is used to list the contents of a directory in a command-line interface. When you run the \"ls\" command, it will display the names of all the files and directories in the current working directory.\n",
    "\n",
    "</p><br>\n",
    "<p align='justify' style='margin: 10px 20px; line-height:1.5; font-family: \"Times New Roman\", Times, serif; font-size:16px; color: purple'>\n",
    "    Here are some examples of how to use the \"ls\" command:<br><br>To list the contents of the current directory:\n",
    "\n",
    "</p>"
   ]
  },
  {
   "cell_type": "code",
   "execution_count": null,
   "id": "7714bb9c",
   "metadata": {
    "slideshow": {
     "slide_type": "subslide"
    }
   },
   "outputs": [],
   "source": [
    "ls"
   ]
  },
  {
   "cell_type": "markdown",
   "id": "a75b6a4b",
   "metadata": {
    "slideshow": {
     "slide_type": "subslide"
    }
   },
   "source": [
    "<p align='justify' style='margin: 10px 20px; line-height:1.5; font-family: \"Times New Roman\", Times, serif; font-size:16px; color: purple'>\n",
    "    This command will display the names of all the files and directories in the directory you are currently in.<br><br>To list the contents of a specific directory:\n",
    "\n",
    "</p>"
   ]
  },
  {
   "cell_type": "code",
   "execution_count": null,
   "id": "e42f0cac",
   "metadata": {
    "slideshow": {
     "slide_type": "subslide"
    }
   },
   "outputs": [],
   "source": [
    "ls /path/to/directory"
   ]
  },
  {
   "cell_type": "markdown",
   "id": "f1767fb8",
   "metadata": {
    "slideshow": {
     "slide_type": "subslide"
    }
   },
   "source": [
    "<p align='justify' style='margin: 10px 20px; line-height:1.5; font-family: \"Times New Roman\", Times, serif; font-size:16px; color: purple'>\n",
    "    This command lists the contents of the specified directory instead of the current directory. You can replace \"/path/to/directory\" with the actual path to the directory you want to list.<br><br><br>To list the contents of a directory with detailed information, including file permissions, owner, size, and modification time:\n",
    "\n",
    "</p>"
   ]
  },
  {
   "cell_type": "code",
   "execution_count": null,
   "id": "6f3f24b8",
   "metadata": {
    "slideshow": {
     "slide_type": "subslide"
    }
   },
   "outputs": [],
   "source": [
    "ls -l"
   ]
  },
  {
   "cell_type": "markdown",
   "id": "04d4f41a",
   "metadata": {
    "slideshow": {
     "slide_type": "subslide"
    }
   },
   "source": [
    "<p align='justify' style='margin: 10px 20px; line-height:1.5; font-family: \"Times New Roman\", Times, serif; font-size:16px; color: purple'>\n",
    "    This option shows you more detailed information about the files and directories in the current directory, including file permissions, owner, size, and modification time. The \"-l\" option is used to enable this detailed listing.<br><br><br>To list the contents of a directory in reverse alphabetical order:\n",
    "\n",
    "</p>"
   ]
  },
  {
   "cell_type": "code",
   "execution_count": null,
   "id": "c43ea6b8",
   "metadata": {
    "slideshow": {
     "slide_type": "subslide"
    }
   },
   "outputs": [],
   "source": [
    "ls -r"
   ]
  },
  {
   "cell_type": "markdown",
   "id": "2ca5976d",
   "metadata": {
    "slideshow": {
     "slide_type": "subslide"
    }
   },
   "source": [
    "<p align='justify' style='margin: 10px 20px; line-height:1.5; font-family: \"Times New Roman\", Times, serif; font-size:16px; color: purple'>\n",
    "    This option sorts the files and directories in reverse alphabetical order, so that the ones that come last in the alphabet are displayed first. The \"-r\" option is used to reverse the order.<br><br>To list the contents of a directory with hidden files:\n",
    "\n",
    "</p>"
   ]
  },
  {
   "cell_type": "code",
   "execution_count": null,
   "id": "7833dea3",
   "metadata": {
    "slideshow": {
     "slide_type": "subslide"
    }
   },
   "outputs": [],
   "source": [
    "ls -a"
   ]
  },
  {
   "cell_type": "markdown",
   "id": "6806962a",
   "metadata": {
    "slideshow": {
     "slide_type": "subslide"
    }
   },
   "source": [
    "<p align='justify' style='margin: 10px 20px; line-height:1.5; font-family: \"Times New Roman\", Times, serif; font-size:16px; color: purple'>\n",
    "    By default, the \"ls\" command does not display files that are hidden, which are files that begin with a period (\".\") in their name. This option displays these hidden files. The \"-a\" option is used to show hidden files.\n",
    "\n",
    "</p><br><br><br>\n",
    "<p align='justify' style='margin: 10px 20px; line-height:1.5; font-family: \"Times New Roman\", Times, serif; font-size:16px; color: black'>\n",
    "    <strong style = \"color: purple\">pwd</strong><br><br>The \"pwd\" command in Unix-like operating systems is used to print the current working directory. When you open a terminal or console in Unix, you are placed in a specific directory in the file system. The \"pwd\" command displays the full path of the current directory.\n",
    "\n",
    "</p><br>\n",
    "<p align='justify' style='margin: 10px 20px; line-height:1.5; font-family: \"Times New Roman\", Times, serif; font-size:16px; color: purple'>\n",
    "    For example, if your current directory is \"/home/user/Documents\", running the \"pwd\" command will display the following output:\n",
    "\n",
    "</p>"
   ]
  },
  {
   "cell_type": "code",
   "execution_count": null,
   "id": "bee3f271",
   "metadata": {
    "slideshow": {
     "slide_type": "subslide"
    }
   },
   "outputs": [],
   "source": [
    "/home/user/Documents"
   ]
  },
  {
   "cell_type": "markdown",
   "id": "76342ab0",
   "metadata": {
    "slideshow": {
     "slide_type": "subslide"
    }
   },
   "source": [
    "<p align='justify' style='margin: 10px 20px; line-height:1.5; font-family: \"Times New Roman\", Times, serif; font-size:16px; color: purple'>\n",
    "    This command is useful when you need to know your current location in the file system hierarchy, or when you want to confirm that you are in the correct directory before running another command.\n",
    "\n",
    "</p><br><br><br>\n",
    "<h4 style='color:red; font-weight:bold; text-align:center; font-family: \"Times New Roman\", Times, serif; font-size:18px;'>Creating and modifying files and directories with touch, mkdir, cp, and mv </h4><br>\n",
    "<p align='justify' style='margin: 10px 20px; line-height:1.5; font-family: \"Times New Roman\", Times, serif; font-size:16px; color: black'>\n",
    "  \"touch\" is a command that allows you to create a new, empty file or update the access and modification times of an existing file. To create a new file, you can use the following syntax:<br><br><b>touch [options] file</b><br><br><br><strong style = \"color: purple\">For example, to create a new file called \"myFile.txt,\" you would enter:</strong>\n",
    "\n",
    "</p>"
   ]
  },
  {
   "cell_type": "code",
   "execution_count": 14,
   "id": "5676d5cc",
   "metadata": {
    "slideshow": {
     "slide_type": "subslide"
    }
   },
   "outputs": [],
   "source": [
    "%%bash\n",
    "touch myFile.txt"
   ]
  },
  {
   "cell_type": "markdown",
   "id": "506701aa",
   "metadata": {
    "slideshow": {
     "slide_type": "subslide"
    }
   },
   "source": [
    "<p align='justify' style='margin: 10px 20px; line-height:1.5; font-family: \"Times New Roman\", Times, serif; font-size:16px; color: purple'>\n",
    "  In Unix-like operating systems, every file has three timestamps associated with it: the access time, the modification time, and the change time. The access time is the last time the file was read or accessed, the modification time is the last time the file was modified or written to, and the change time is the last time any metadata of the file was changed, such as its permissions or ownership.\n",
    "\n",
    "\n",
    "</p><br>\n",
    "<p align='justify' style='margin: 10px 20px; line-height:1.5; font-family: \"Times New Roman\", Times, serif; font-size:16px; color: black'>\n",
    "  The \"-a\" option of the \"touch\" command is used to update the access time of a file, which means that it changes the timestamp to the current time. This can be useful in certain situations, such as when you want to check if a file has been recently accessed or to reset the access time for certain files.\n",
    "</p><br>\n",
    "<p align='justify' style='margin: 10px 20px; line-height:1.5; font-family: \"Times New Roman\", Times, serif; font-size:16px; color: black'>\n",
    "  The \"-m\" option of the \"touch\" command is used to update the modification time of a file, which means that it changes the timestamp to the current time. This can be useful in situations where you want to change the timestamp of a file to reflect the current time, such as when you make a backup or a copy of a file.\n",
    "</p><br>\n",
    "<p align='justify' style='margin: 10px 20px; line-height:1.5; font-family: \"Times New Roman\", Times, serif; font-size:16px; color: purple'>\n",
    "  Let us see some examples of the touch command below \n",
    "</p><br>\n",
    "<p align='justify' style='margin: 10px 20px; line-height:1.5; font-family: \"Times New Roman\", Times, serif; font-size:16px; color: purple'>\n",
    "  Using the \"-a\" option to update the access time of a file\n",
    "Suppose you have a file called \"myfile.txt\" and you want to update its access time to the current time. You can use the following command: \n",
    "</p>"
   ]
  },
  {
   "cell_type": "code",
   "execution_count": null,
   "id": "4423cde8",
   "metadata": {
    "slideshow": {
     "slide_type": "subslide"
    }
   },
   "outputs": [],
   "source": [
    "touch -a myfile.txt"
   ]
  },
  {
   "cell_type": "markdown",
   "id": "7a4c048c",
   "metadata": {
    "slideshow": {
     "slide_type": "subslide"
    }
   },
   "source": [
    "<p align='justify' style='margin: 10px 20px; line-height:1.5; font-family: \"Times New Roman\", Times, serif; font-size:16px; color: purple'>\n",
    "  This will update the access time of \"myfile.txt\" to the current time. \n",
    "</p><br>\n",
    "<p align='justify' style='margin: 10px 20px; line-height:1.5; font-family: \"Times New Roman\", Times, serif; font-size:16px; color: black'>\n",
    "  Using the \"-m\" option to update the modification time of a file\n",
    "Suppose you have a file called \"mydoc.doc\" and you want to update its modification time to the current time. You can use the following command: \n",
    "</p>"
   ]
  },
  {
   "cell_type": "code",
   "execution_count": null,
   "id": "f401610b",
   "metadata": {
    "slideshow": {
     "slide_type": "subslide"
    }
   },
   "outputs": [],
   "source": [
    "touch -m mydoc.doc"
   ]
  },
  {
   "cell_type": "markdown",
   "id": "f06c7092",
   "metadata": {
    "slideshow": {
     "slide_type": "subslide"
    }
   },
   "source": [
    "<p align='justify' style='margin: 10px 20px; line-height:1.5; font-family: \"Times New Roman\", Times, serif; font-size:16px; color: purple'>\n",
    "  This will update the modification time of \"mydoc.doc\" to the current time. \n",
    "</p><br>\n",
    "<p align='justify' style='margin: 10px 20px; line-height:1.5; font-family: \"Times New Roman\", Times, serif; font-size:16px; color: black'>\n",
    "  Using the \"touch\" command to create a new file\n",
    "You can also use the \"touch\" command to create a new file. For example, to create a new file called \"newfile.txt\" in the current working directory, you can use the following command: \n",
    "</p>"
   ]
  },
  {
   "cell_type": "code",
   "execution_count": null,
   "id": "c76de676",
   "metadata": {
    "slideshow": {
     "slide_type": "subslide"
    }
   },
   "outputs": [],
   "source": [
    "touch newfile.txt"
   ]
  },
  {
   "cell_type": "markdown",
   "id": "79824e56",
   "metadata": {
    "slideshow": {
     "slide_type": "subslide"
    }
   },
   "source": [
    "<p align='justify' style='margin: 10px 20px; line-height:1.5; font-family: \"Times New Roman\", Times, serif; font-size:16px; color: purple'>\n",
    "  This will create a new file called \"newfile.txt\" with the current time as its modification time. If the file already exists, it will update its modification time to the current time. \n",
    "</p><br><br>\n",
    "<p align='justify' style='margin: 10px 20px; line-height:1.5; font-family: \"Times New Roman\", Times, serif; font-size:16px; color: black'>\n",
    "  <b style = \"color: purple\">\"mkdir\" </b><br><br>The \"mkdir\" command in Unix-like operating systems is used to create a new directory (folder) in the file system. The name of the directory to be created is provided as an argument to the \"mkdir\" command.<br><br>For example, to create a new directory called \"mydir\" in the current working directory, you can use the following command:\n",
    "\n",
    "</p>"
   ]
  },
  {
   "cell_type": "code",
   "execution_count": 15,
   "id": "ba76d2c1",
   "metadata": {
    "slideshow": {
     "slide_type": "subslide"
    }
   },
   "outputs": [],
   "source": [
    "%%bash\n",
    "mkdir mydir"
   ]
  },
  {
   "cell_type": "markdown",
   "id": "558d0d6f",
   "metadata": {
    "slideshow": {
     "slide_type": "subslide"
    }
   },
   "source": [
    "<p align='justify' style='margin: 10px 20px; line-height:1.5; font-family: \"Times New Roman\", Times, serif; font-size:16px; color: black'>\n",
    "  This will create a new directory called \"mydir\" in the current working directory.You can also specify the path of the directory to be created, if you want to create a directory in a different location than the current working directory. For example, to create a new directory called \"mydir\" in the \"home\" directory, you can use the following command:\n",
    "\n",
    "</p>"
   ]
  },
  {
   "cell_type": "code",
   "execution_count": null,
   "id": "0a6de2da",
   "metadata": {
    "slideshow": {
     "slide_type": "subslide"
    }
   },
   "outputs": [],
   "source": [
    "%%bash\n",
    "mkdir /home/mydir"
   ]
  },
  {
   "cell_type": "markdown",
   "id": "619e0790",
   "metadata": {
    "slideshow": {
     "slide_type": "subslide"
    }
   },
   "source": [
    "<p align='justify' style='margin: 10px 20px; line-height:1.5; font-family: \"Times New Roman\", Times, serif; font-size:16px; color: black'>\n",
    "  This will create a new directory called \"mydir\" in the \"/home\" directory. The \"mkdir\" command is a simple but powerful tool for creating new directories in Unix-like systems, and can help you organize your files and directories more effectively.\n",
    "\n",
    "</p><br>\n",
    "<p align='justify' style='margin: 10px 20px; line-height:1.5; font-family: \"Times New Roman\", Times, serif; font-size:16px; color: black'>\n",
    "    <strong style = \"color: purple\">cp</strong><br><br>The \"cp\" command is used to copy files or directories from one location to another. The \"cp\" command takes two arguments: the source file or directory to be copied, and the destination location where the file or directory will be copied to.<br><br>For example, to copy a file called \"myfile.txt\" from the current directory to a new directory called \"mydir\", you can use the following command:\n",
    "\n",
    "</p>"
   ]
  },
  {
   "cell_type": "code",
   "execution_count": 17,
   "id": "50ea4fd8",
   "metadata": {
    "slideshow": {
     "slide_type": "subslide"
    }
   },
   "outputs": [],
   "source": [
    "%%bash\n",
    "cp myfile.txt mydir/"
   ]
  },
  {
   "cell_type": "markdown",
   "id": "9b955862",
   "metadata": {
    "slideshow": {
     "slide_type": "subslide"
    }
   },
   "source": [
    "<p align='justify' style='margin: 10px 20px; line-height:1.5; font-family: \"Times New Roman\", Times, serif; font-size:16px; color: black'>\n",
    "  This will create a new copy of the file \"myfile.txt\" in the directory \"mydir\".<br><br> You can also copy multiple files at once by specifying their names separated by spaces. For example, to copy two files called \"file1.txt\" and \"file2.txt\" from the current directory to a new directory called \"mydir\", you can use the following command:\n",
    "\n",
    "</p>"
   ]
  },
  {
   "cell_type": "code",
   "execution_count": 19,
   "id": "85c34de3",
   "metadata": {
    "slideshow": {
     "slide_type": "subslide"
    }
   },
   "outputs": [],
   "source": [
    "%%bash\n",
    "cp file1.txt file2.txt mydir/"
   ]
  },
  {
   "cell_type": "markdown",
   "id": "7ebd7d89",
   "metadata": {
    "slideshow": {
     "slide_type": "subslide"
    }
   },
   "source": [
    "<p align='justify' style='margin: 10px 20px; line-height:1.5; font-family: \"Times New Roman\", Times, serif; font-size:16px; color: black'>\n",
    "  To copy a directory and all its contents, you can use the \"-r\" option with the \"cp\" command, which stands for \"recursive\". For example, to copy a directory called \"mydir\" and all its contents to a new directory called \"newdir\", you can use the following command:\n",
    "\n",
    "</p>"
   ]
  },
  {
   "cell_type": "code",
   "execution_count": null,
   "id": "69f64f46",
   "metadata": {
    "slideshow": {
     "slide_type": "subslide"
    }
   },
   "outputs": [],
   "source": [
    "%%bash\n",
    "cp -r mydir/ newdir/"
   ]
  },
  {
   "cell_type": "markdown",
   "id": "fa85926c",
   "metadata": {
    "slideshow": {
     "slide_type": "subslide"
    }
   },
   "source": [
    "<p align='justify' style='margin: 10px 20px; line-height:1.5; font-family: \"Times New Roman\", Times, serif; font-size:16px; color: black'>\n",
    "    <strong style = \"color: purple\">\"mv\" </strong><br><br> The \"mv\" command in Unix-like operating systems is used to move or rename files and directories in the file system. The \"mv\" command takes two arguments: the source file or directory to be moved or renamed, and the destination location where the file or directory will be moved or renamed to.<br><br>For example, to rename a file called \"oldfile.txt\" to \"newfile.txt\" in the current directory, you can use the following command:\n",
    "\n",
    "</p>"
   ]
  },
  {
   "cell_type": "code",
   "execution_count": 20,
   "id": "ca6615c4",
   "metadata": {
    "slideshow": {
     "slide_type": "subslide"
    }
   },
   "outputs": [],
   "source": [
    "%%bash\n",
    "mv oldfile.txt newfile.txt"
   ]
  },
  {
   "cell_type": "markdown",
   "id": "eb958f24",
   "metadata": {
    "slideshow": {
     "slide_type": "subslide"
    }
   },
   "source": [
    "<p align='justify' style='margin: 10px 20px; line-height:1.5; font-family: \"Times New Roman\", Times, serif; font-size:16px; color: black'>\n",
    "  This will rename the file \"oldfile.txt\" to \"newfile.txt\" in the current directory.<br><br> You can also move a file or directory to a new location by specifying the destination directory. For example, to move a file called \"myfile.txt\" from the current directory to a new directory called \"mydir\", you can use the following command:\n",
    "\n",
    "\n",
    "</p>"
   ]
  },
  {
   "cell_type": "code",
   "execution_count": 23,
   "id": "dc899b01",
   "metadata": {
    "slideshow": {
     "slide_type": "subslide"
    }
   },
   "outputs": [],
   "source": [
    "%%bash\n",
    "mv myfile.txt mydir/"
   ]
  },
  {
   "cell_type": "markdown",
   "id": "f288fc0e",
   "metadata": {
    "slideshow": {
     "slide_type": "subslide"
    }
   },
   "source": [
    "<p align='justify' style='margin: 10px 20px; line-height:1.5; font-family: \"Times New Roman\", Times, serif; font-size:16px; color: black'>\n",
    "  This will move the file \"myfile.txt\" to the directory \"mydir\".<br><br>To move a directory and all its contents to a new location, you can simply use the \"mv\" command followed by the source directory name and the destination directory name. For example, to move a directory called \"mydir\" and all its contents to a new directory called \"newdir\", you can use the following command:\n",
    "</p>"
   ]
  },
  {
   "cell_type": "code",
   "execution_count": null,
   "id": "f2256528",
   "metadata": {
    "slideshow": {
     "slide_type": "subslide"
    }
   },
   "outputs": [],
   "source": [
    "%%bash\n",
    "mv mydir newdir/"
   ]
  },
  {
   "cell_type": "markdown",
   "id": "b925373c",
   "metadata": {
    "slideshow": {
     "slide_type": "subslide"
    }
   },
   "source": [
    "<h4 style='color:red; font-weight:bold; text-align:center; font-family: \"Times New Roman\", Times, serif; font-size:18px;'>Viewing and manipulating files with cat, less, and head</h4><br>\n",
    "\n",
    "<p align='justify' style='margin: 10px 20px; line-height:1.5; font-family: \"Times New Roman\", Times, serif; font-size:16px; color: black'>\n",
    "    <strong style = \"color: purple\">\"cat\"</strong><br><br> The \"cat\" command in Unix-like operating systems is used to concatenate and display the contents of files. The \"cat\" command takes one or more file names as arguments and displays their contents to the terminal.<br><br>For example, to display the contents of a file called \"myfile.txt\" to the terminal, you can use the following command:\n",
    "\n",
    "\n",
    "</p>"
   ]
  },
  {
   "cell_type": "code",
   "execution_count": null,
   "id": "bbe137ab",
   "metadata": {
    "slideshow": {
     "slide_type": "subslide"
    }
   },
   "outputs": [],
   "source": [
    "%%bash\n",
    "cat myfile.txt"
   ]
  },
  {
   "cell_type": "markdown",
   "id": "d2075a47",
   "metadata": {
    "slideshow": {
     "slide_type": "subslide"
    }
   },
   "source": [
    "<p align='justify' style='margin: 10px 20px; line-height:1.5; font-family: \"Times New Roman\", Times, serif; font-size:16px; color: black'>\n",
    "    This will display the contents of the file \"myfile.txt\" to the terminal.<br><br><br>You can also concatenate multiple files together by specifying their names separated by spaces. For example, to concatenate two files called \"file1.txt\" and \"file2.txt\" together and display their contents to the terminal, you can use the following command:\n",
    "\n",
    "\n",
    "</p>"
   ]
  },
  {
   "cell_type": "code",
   "execution_count": null,
   "id": "d4149fb9",
   "metadata": {
    "slideshow": {
     "slide_type": "subslide"
    }
   },
   "outputs": [],
   "source": [
    "%%bash\n",
    "cat file1.txt file2.txt"
   ]
  },
  {
   "cell_type": "markdown",
   "id": "7b721deb",
   "metadata": {
    "slideshow": {
     "slide_type": "subslide"
    }
   },
   "source": [
    "<p align='justify' style='margin: 10px 20px; line-height:1.5; font-family: \"Times New Roman\", Times, serif; font-size:16px; color: black'>\n",
    "    This will display the contents of the two files \"file1.txt\" and \"file2.txt\" together in the terminal.<br><br><br>The \"cat\" command also has several options that can be used to modify its behavior, such as \"-n\" to display line numbers, and \"-E\" to display a dollar sign at the end of each line. For example, to display the contents of a file with line numbers, you can use the following command:\n",
    "\n",
    "\n",
    "</p>"
   ]
  },
  {
   "cell_type": "code",
   "execution_count": null,
   "id": "1cb3d8be",
   "metadata": {
    "slideshow": {
     "slide_type": "subslide"
    }
   },
   "outputs": [],
   "source": [
    "%%bash\n",
    "cat -n myfile.txt"
   ]
  },
  {
   "cell_type": "markdown",
   "id": "bda839c3",
   "metadata": {
    "slideshow": {
     "slide_type": "subslide"
    }
   },
   "source": [
    "<p align='justify' style='margin: 10px 20px; line-height:1.5; font-family: \"Times New Roman\", Times, serif; font-size:16px; color: purple'>\n",
    "    The \"cat\" command is a simple but powerful tool for displaying and concatenating the contents of files in Unix-like systems, and can help you view and manipulate text files more effectively.\n",
    "\n",
    "\n",
    "</p><br>\n",
    "\n",
    "\n",
    "<p align='justify' style='margin: 10px 20px; line-height:1.5; font-family: \"Times New Roman\", Times, serif; font-size:16px; color: black'>\n",
    "    <strong style = \"color: purple\">\"less\"</strong><br><br> \"less\" is a Unix command-line utility that allows you to view the contents of a file or output one page at a time. It is similar to the \"more\" command, but provides more advanced features such as search and scroll capabilities.<br><br><br>To use the \"less\" command, simply type \"less\" followed by the name of the file you want to view. For example, to view the contents of a file called \"myfile.txt\", you can use the following command:\n",
    "\n",
    "\n",
    "\n",
    "\n",
    "</p>"
   ]
  },
  {
   "cell_type": "code",
   "execution_count": null,
   "id": "55bdb220",
   "metadata": {
    "slideshow": {
     "slide_type": "subslide"
    }
   },
   "outputs": [],
   "source": [
    "%%bash\n",
    "less myfile.txt"
   ]
  },
  {
   "cell_type": "markdown",
   "id": "20fc3032",
   "metadata": {
    "slideshow": {
     "slide_type": "subslide"
    }
   },
   "source": [
    "\n",
    "<p align='justify' style='margin: 10px 20px; line-height:1.5; font-family: \"Times New Roman\", Times, serif; font-size:16px; color: black'>\n",
    "    This will open the \"less\" viewer and display the contents of the file \"myfile.txt\" one page at a time. You can use the arrow keys to navigate up and down the pages, or use the spacebar to move forward one page at a time. You can also use the \"q\" key to exit the \"less\" viewer and return to the command prompt.<br><br><br>In addition to viewing files, the \"less\" command can also be used to view the output of other commands, such as \"ls\" or \"ps\", by piping their output to \"less\". For example, to view the output of the \"ls\" command one page at a time, you can use the following command:\n",
    "\n",
    "\n",
    "</p>"
   ]
  },
  {
   "cell_type": "code",
   "execution_count": null,
   "id": "065223b7",
   "metadata": {
    "slideshow": {
     "slide_type": "subslide"
    }
   },
   "outputs": [],
   "source": [
    "%%bash\n",
    "ls -l | less"
   ]
  },
  {
   "cell_type": "markdown",
   "id": "faad40fe",
   "metadata": {
    "slideshow": {
     "slide_type": "subslide"
    }
   },
   "source": [
    "<p align='justify' style='margin: 10px 20px; line-height:1.5; font-family: \"Times New Roman\", Times, serif; font-size:16px; color: purple'>\n",
    "    This will display the output of the \"ls\" command in the \"less\" viewer, allowing you to scroll through the results one page at a time.\n",
    "\n",
    "\n",
    "</p><br><br><br>\n",
    "<p align='justify' style='margin: 10px 20px; line-height:1.5; font-family: \"Times New Roman\", Times, serif; font-size:16px; color: black'>\n",
    "    <strong style = \"color: purple\">head</strong><br><br>\"head\" is a Unix command-line utility that allows you to view the first few lines of a file. It is useful for quickly previewing the contents of a file without having to open the entire file.\n",
    "\n",
    "\n",
    "</p><br>\n",
    "<p align='justify' style='margin: 10px 20px; line-height:1.5; font-family: \"Times New Roman\", Times, serif; font-size:16px; color: purple'>\n",
    "    To use the \"head\" command, simply type \"head\" followed by the name of the file you want to view. By default, \"head\" will display the first 10 lines of the file. For example, to view the first 10 lines of a file called \"myfile.txt\", you can use the following command:\n",
    "\n",
    "\n",
    "</p>"
   ]
  },
  {
   "cell_type": "code",
   "execution_count": null,
   "id": "1971137b",
   "metadata": {
    "slideshow": {
     "slide_type": "subslide"
    }
   },
   "outputs": [],
   "source": [
    "%%bash\n",
    "head myfile.txt"
   ]
  },
  {
   "cell_type": "markdown",
   "id": "2b708cf6",
   "metadata": {
    "slideshow": {
     "slide_type": "subslide"
    }
   },
   "source": [
    "<p align='justify' style='margin: 10px 20px; line-height:1.5; font-family: \"Times New Roman\", Times, serif; font-size:16px; color: purple'>\n",
    "    This will display the first 10 lines of the file \"myfile.txt\". If you want to view a different number of lines, you can use the \"-n\" option followed by the number of lines you want to view. For example, to view the first 5 lines of the file \"myfile.txt\", you can use the following command:\n",
    "\n",
    "\n",
    "</p>"
   ]
  },
  {
   "cell_type": "code",
   "execution_count": null,
   "id": "b90c7cc4",
   "metadata": {
    "slideshow": {
     "slide_type": "subslide"
    }
   },
   "outputs": [],
   "source": [
    "%%bash\n",
    "head -n 5 myfile.txt"
   ]
  },
  {
   "cell_type": "markdown",
   "id": "e757e4a7",
   "metadata": {
    "slideshow": {
     "slide_type": "subslide"
    }
   },
   "source": [
    "<p align='justify' style='margin: 10px 20px; line-height:1.5; font-family: \"Times New Roman\", Times, serif; font-size:16px; color: purple'>\n",
    "    In addition to viewing files, the \"head\" command can also be used to view the output of other commands, such as \"ls\" or \"ps\", by piping their output to \"head\". For example, to view the first 5 lines of the output of the \"ls\" command, you can use the following command:\n",
    "</p>"
   ]
  },
  {
   "cell_type": "code",
   "execution_count": null,
   "id": "3af66593",
   "metadata": {
    "slideshow": {
     "slide_type": "subslide"
    }
   },
   "outputs": [],
   "source": [
    "%%bash\n",
    "ls -l | head -n 5"
   ]
  },
  {
   "cell_type": "markdown",
   "id": "40ce1302",
   "metadata": {
    "slideshow": {
     "slide_type": "subslide"
    }
   },
   "source": [
    "<p align='justify' style='margin: 10px 20px; line-height:1.5; font-family: \"Times New Roman\", Times, serif; font-size:16px; color: purple'>\n",
    "    This will display the first 5 lines of the output of the \"ls\" command. the \"head\" command is a simple and useful tool for quickly previewing the contents of a file in Unix-like operating systems.\n",
    "</p><br><br>\n",
    "<h4 style='color:red; font-weight:bold; text-align:center; font-family: \"Times New Roman\", Times, serif; font-size:18px;'>Finding files with find and grep </h4><br>\n",
    "<p align='justify' style='margin: 10px 20px; line-height:1.5; font-family: \"Times New Roman\", Times, serif; font-size:16px; color: black'>\n",
    "    <strong style = \"color: purple\">find</strong><br><br>\"find\" is a Unix command-line utility that allows you to search for files and directories in a specified location. It is useful for locating files that have been misplaced, finding specific types of files, or searching for files with specific attributes such as ownership or permissions.\n",
    "\n",
    "</p><br>\n",
    "<p align='justify' style='margin: 10px 20px; line-height:1.5; font-family: \"Times New Roman\", Times, serif; font-size:16px; color: purple'>\n",
    "    To use the \"find\" command, you specify the directory you want to search and the search criteria you want to use. For example, to search for all files in the current directory and its subdirectories that have a \".txt\" extension, you can use the following command:\n",
    "</p>"
   ]
  },
  {
   "cell_type": "code",
   "execution_count": null,
   "id": "5d32761c",
   "metadata": {
    "slideshow": {
     "slide_type": "subslide"
    }
   },
   "outputs": [],
   "source": [
    "%%bash\n",
    "find . -name \"*.txt\""
   ]
  },
  {
   "cell_type": "markdown",
   "id": "a7791a1f",
   "metadata": {
    "slideshow": {
     "slide_type": "subslide"
    }
   },
   "source": [
    "<p align='justify' style='margin: 10px 20px; line-height:1.5; font-family: \"Times New Roman\", Times, serif; font-size:16px; color: purple'>\n",
    "    The \".\" specifies the current directory as the starting point for the search. The \"-name\" option is used to specify the search criteria, which in this case is \"*.txt\", indicating that the search should look for files with a \".txt\" extension.\n",
    "</p><br>\n",
    "<p align='justify' style='margin: 10px 20px; line-height:1.5; font-family: \"Times New Roman\", Times, serif; font-size:16px; color: black'>\n",
    "    You can also use the \"find\" command to search for files based on other criteria, such as their size, ownership, or modification time. For example, to search for all files in the current directory and its subdirectories that are larger than 1 megabyte, you can use the following command:\n",
    "</p>"
   ]
  },
  {
   "cell_type": "code",
   "execution_count": null,
   "id": "693ede96",
   "metadata": {
    "slideshow": {
     "slide_type": "subslide"
    }
   },
   "outputs": [],
   "source": [
    "%%bash\n",
    "find . -size +1M"
   ]
  },
  {
   "cell_type": "markdown",
   "id": "eea69d10",
   "metadata": {
    "slideshow": {
     "slide_type": "subslide"
    }
   },
   "source": [
    "<p align='justify' style='margin: 10px 20px; line-height:1.5; font-family: \"Times New Roman\", Times, serif; font-size:16px; color: purple'>\n",
    "    The \"-size\" option is used to specify the search criteria, with the \"+1M\" indicating that the search should look for files larger than 1 megabyte.<br><br>Let us consider some exercises below to better understand the find command \n",
    "</p><br><br>\n",
    "<p align='justify' style='margin: 10px 20px; line-height:1.5; font-family: \"Times New Roman\", Times, serif; font-size:16px; color: black'>\n",
    "    Find all directories in the current directory and its subdirectories that have the word \"test\" in their name:\n",
    "</p>"
   ]
  },
  {
   "cell_type": "code",
   "execution_count": null,
   "id": "a4d9c99d",
   "metadata": {
    "slideshow": {
     "slide_type": "subslide"
    }
   },
   "outputs": [],
   "source": [
    "%%bash\n",
    "find . -type d -name \"*test*\""
   ]
  },
  {
   "cell_type": "markdown",
   "id": "58e376dd",
   "metadata": {
    "slideshow": {
     "slide_type": "subslide"
    }
   },
   "source": [
    "<p align='justify' style='margin: 10px 20px; line-height:1.5; font-family: \"Times New Roman\", Times, serif; font-size:16px; color: purple'>\n",
    "    The \"-type d\" option specifies that only directories should be returned, and the \"-name\" option specifies the search criteria.\n",
    "</p><br><br>\n",
    "<p align='justify' style='margin: 10px 20px; line-height:1.5; font-family: \"Times New Roman\", Times, serif; font-size:16px; color: black'>\n",
    "    Find all files in the current directory and its subdirectories that were modified within the last 24 hours:\n",
    "</p>"
   ]
  },
  {
   "cell_type": "code",
   "execution_count": null,
   "id": "821071ff",
   "metadata": {
    "slideshow": {
     "slide_type": "subslide"
    }
   },
   "outputs": [],
   "source": [
    "%%bash\n",
    "find . -type f -mtime 0"
   ]
  },
  {
   "cell_type": "markdown",
   "id": "9ca0a7c2",
   "metadata": {
    "slideshow": {
     "slide_type": "subslide"
    }
   },
   "source": [
    "<p align='justify' style='margin: 10px 20px; line-height:1.5; font-family: \"Times New Roman\", Times, serif; font-size:16px; color: black'>\n",
    "    The \"-type f\" option specifies that only regular files should be returned, and the \"-mtime\" option specifies the search criteria, with \"0\" indicating the last 24 hours. The argument to \"-mtime\" specifies the number of 24-hour periods since the file was last modified. So, when you use \"-mtime 0\", you're telling the \"find\" command to look for files that were modified within the last 24 hours.\n",
    "\n",
    "</p><br>\n",
    "<p align='justify' style='margin: 10px 20px; line-height:1.5; font-family: \"Times New Roman\", Times, serif; font-size:16px; color: purple'>\n",
    "    For example, if you run the command find . -type f -mtime 1, it will return all files in the current directory and its subdirectories that were modified exactly one day ago. If you run the command find . -type f -mtime +1, it will return all files that were modified more than one day ago. And if you run the command find . -type f -mtime -1, it will return all files that were modified less than one day ago.<br><br>So, if you want to limit the search to a specific time range, such as the last 24 hours, you need to specify the appropriate argument to the \"-mtime\" option. The \"0\" argument indicates that you're looking for files that were modified within the last 24 hours. If you omit the argument, \"find\" will return all files that have been modified at any time.\n",
    "\n",
    "</p><br>\n",
    "<p align='justify' style='margin: 10px 20px; line-height:1.5; font-family: \"Times New Roman\", Times, serif; font-size:16px; color: black'>\n",
    "    Find all files in the current directory and its subdirectories that have been modified more than 30 days ago:\n",
    "</p>"
   ]
  },
  {
   "cell_type": "code",
   "execution_count": null,
   "id": "fe56ed31",
   "metadata": {
    "slideshow": {
     "slide_type": "subslide"
    }
   },
   "outputs": [],
   "source": [
    "%%bash\n",
    "find . -type f -mtime +30"
   ]
  },
  {
   "cell_type": "markdown",
   "id": "4e8ebd86",
   "metadata": {
    "slideshow": {
     "slide_type": "subslide"
    }
   },
   "source": [
    "<p align='justify' style='margin: 10px 20px; line-height:1.5; font-family: \"Times New Roman\", Times, serif; font-size:16px; color: purple'>\n",
    "    The \"+30\" indicates that the search should look for files modified more than 30 days ago.\n",
    "</p><br>\n",
    "<p align='justify' style='margin: 10px 20px; line-height:1.5; font-family: \"Times New Roman\", Times, serif; font-size:16px; color: black'>\n",
    "    Find all files in the current directory and its subdirectories that have the \".log\" extension and delete them:\n",
    "</p>"
   ]
  },
  {
   "cell_type": "code",
   "execution_count": null,
   "id": "2b539d0e",
   "metadata": {
    "slideshow": {
     "slide_type": "subslide"
    }
   },
   "outputs": [],
   "source": [
    "%%bash\n",
    "find . -type f -name \"*.log\" -delete"
   ]
  },
  {
   "cell_type": "markdown",
   "id": "885c447e",
   "metadata": {
    "slideshow": {
     "slide_type": "subslide"
    }
   },
   "source": [
    "<p align='justify' style='margin: 10px 20px; line-height:1.5; font-family: \"Times New Roman\", Times, serif; font-size:16px; color: purple'>\n",
    "    The \"-delete\" option tells \"find\" to delete any files that match the search criteria.\n",
    "</p><br>\n",
    "<p align='justify' style='margin: 10px 20px; line-height:1.5; font-family: \"Times New Roman\", Times, serif; font-size:16px; color: black'>\n",
    "    Find all files in the current directory and its subdirectories that are owned by a specific user:\n",
    "</p>"
   ]
  },
  {
   "cell_type": "code",
   "execution_count": null,
   "id": "9170dbb8",
   "metadata": {
    "slideshow": {
     "slide_type": "subslide"
    }
   },
   "outputs": [],
   "source": [
    "%%bash\n",
    "find . -type f -user username"
   ]
  },
  {
   "cell_type": "markdown",
   "id": "7d9d6618",
   "metadata": {
    "slideshow": {
     "slide_type": "subslide"
    }
   },
   "source": [
    "<p align='justify' style='margin: 10px 20px; line-height:1.5; font-family: \"Times New Roman\", Times, serif; font-size:16px; color: purple'>\n",
    "    Replace \"username\" with the name of the user you want to search for.<br><br>These are just a few examples of how you can use the \"find\" command to search for files and directories in Unix-like operating systems. With the wide range of search criteria available, \"find\" is a versatile tool that can help you quickly locate files and directories that match specific attributes.\n",
    "</p><br><br>\n",
    "<p align='justify' style='margin: 10px 20px; line-height:1.5; font-family: \"Times New Roman\", Times, serif; font-size:16px; color: black'>\n",
    "    <strong style = \"color: purple\">grep</strong><br><br>\"grep\" is a Unix command-line utility that allows you to search for text within one or more files. It is commonly used to search for specific patterns or lines of text within log files, configuration files, or source code.\n",
    "</p><br>\n",
    "<p align='justify' style='margin: 10px 20px; line-height:1.5; font-family: \"Times New Roman\", Times, serif; font-size:16px; color: black'>\n",
    "    To use the \"grep\" command, you specify the search pattern you want to use and the file or files you want to search. For example, to search for the word \"apple\" within a file called \"mytext.txt\", you can use the following command:\n",
    "</p>"
   ]
  },
  {
   "cell_type": "code",
   "execution_count": null,
   "id": "1060b51f",
   "metadata": {
    "slideshow": {
     "slide_type": "subslide"
    }
   },
   "outputs": [],
   "source": [
    "%%bash\n",
    "grep \"apple\" mytext.txt"
   ]
  },
  {
   "cell_type": "markdown",
   "id": "35742967",
   "metadata": {
    "slideshow": {
     "slide_type": "subslide"
    }
   },
   "source": [
    "<p align='justify' style='margin: 10px 20px; line-height:1.5; font-family: \"Times New Roman\", Times, serif; font-size:16px; color: purple'>\n",
    "    This command will search for the pattern \"apple\" within the \"mytext.txt\" file and display any lines that contain the pattern.\n",
    "</p><br>\n",
    "<p align='justify' style='margin: 10px 20px; line-height:1.5; font-family: \"Times New Roman\", Times, serif; font-size:16px; color: black'>\n",
    "    You can also use the \"grep\" command to search for patterns within multiple files. For example, to search for the pattern \"apple\" within all \".txt\" files in the current directory, you can use the following command:\n",
    "</p>"
   ]
  },
  {
   "cell_type": "code",
   "execution_count": null,
   "id": "203b1dcd",
   "metadata": {
    "slideshow": {
     "slide_type": "subslide"
    }
   },
   "outputs": [],
   "source": [
    "%%bash\n",
    "grep \"apple\" *.txt"
   ]
  },
  {
   "cell_type": "markdown",
   "id": "2327f22c",
   "metadata": {
    "slideshow": {
     "slide_type": "subslide"
    }
   },
   "source": [
    "<p align='justify' style='margin: 10px 20px; line-height:1.5; font-family: \"Times New Roman\", Times, serif; font-size:16px; color: purple'>\n",
    "    This command will search for the pattern \"apple\" within all files in the current directory that have a \".txt\" extension.\n",
    "</p><br>\n",
    "<p align='justify' style='margin: 10px 20px; line-height:1.5; font-family: \"Times New Roman\", Times, serif; font-size:16px; color: black'>\n",
    "    The \"grep\" command also supports a wide range of options that allow you to customize the search. For example, you can use the \"-i\" option to perform a case-insensitive search, or the \"-n\" option to display the line numbers of matching lines. To see a list of all available options, you can use the \"grep --help\" command. Let us consider more examples below to better understand the \"grep\" command\n",
    "</p><br>\n",
    "<p align='justify' style='margin: 10px 20px; line-height:1.5; font-family: \"Times New Roman\", Times, serif; font-size:16px; color: purple'>\n",
    "    Case-insensitive search:\n",
    "</p>"
   ]
  },
  {
   "cell_type": "code",
   "execution_count": null,
   "id": "b46c8e5f",
   "metadata": {
    "slideshow": {
     "slide_type": "subslide"
    }
   },
   "outputs": [],
   "source": [
    "%%bash\n",
    "grep -i \"pattern\" filename"
   ]
  },
  {
   "cell_type": "markdown",
   "id": "da351a8e",
   "metadata": {
    "slideshow": {
     "slide_type": "subslide"
    }
   },
   "source": [
    "<p align='justify' style='margin: 10px 20px; line-height:1.5; font-family: \"Times New Roman\", Times, serif; font-size:16px; color: purple'>\n",
    "    This option will search for the specified pattern in a case-insensitive manner. For example, if you search for \"apple\", it will match both \"apple\" and \"Apple\".\n",
    "</p><br>\n",
    "<p align='justify' style='margin: 10px 20px; line-height:1.5; font-family: \"Times New Roman\", Times, serif; font-size:16px; color: black'>\n",
    "    Display line numbers\n",
    "</p>"
   ]
  },
  {
   "cell_type": "code",
   "execution_count": null,
   "id": "aa4ddb96",
   "metadata": {
    "slideshow": {
     "slide_type": "subslide"
    }
   },
   "outputs": [],
   "source": [
    "%%bash\n",
    "grep -n \"pattern\" filename"
   ]
  },
  {
   "cell_type": "markdown",
   "id": "7b6ec126",
   "metadata": {
    "slideshow": {
     "slide_type": "subslide"
    }
   },
   "source": [
    "<p align='justify' style='margin: 10px 20px; line-height:1.5; font-family: \"Times New Roman\", Times, serif; font-size:16px; color: purple'>\n",
    "    This option will display the line number for each matching line in the file.\n",
    "</p><br>\n",
    "<p align='justify' style='margin: 10px 20px; line-height:1.5; font-family: \"Times New Roman\", Times, serif; font-size:16px; color: black'>\n",
    "    Display context of matching lines:\n",
    "</p>"
   ]
  },
  {
   "cell_type": "code",
   "execution_count": null,
   "id": "341c499f",
   "metadata": {
    "slideshow": {
     "slide_type": "subslide"
    }
   },
   "outputs": [],
   "source": [
    "grep -C 3 \"pattern\" filename"
   ]
  },
  {
   "cell_type": "markdown",
   "id": "f29d9fca",
   "metadata": {
    "slideshow": {
     "slide_type": "subslide"
    }
   },
   "source": [
    "<p align='justify' style='margin: 10px 20px; line-height:1.5; font-family: \"Times New Roman\", Times, serif; font-size:16px; color: black'>\n",
    "    This option will display the three lines of context surrounding each matching line in the file. You can change the number of lines of context by changing the number after the \"-C\" option. The \"-C\" option in the \"grep\" command is used to display context around the matching lines in the output. By default, it displays three lines of context before and after the matching line. For example, if you search for the word \"apple\" in a file and use the \"-C 3\" option, the output will display the three lines before and after each line that contains the word \"apple\". This can be useful for getting a better understanding of the context in which the word appears in the file.<br><br>You can customize the number of lines of context by changing the number after the \"-C\" option. For example, if you want to display five lines of context instead of three, you can use the \"-C 5\" option. Similarly, if you want to display only one line of context, you can use the \"-C 1\" option. This allows you to tailor the output to your specific needs.\n",
    "\n",
    "\n",
    "</p><br>\n",
    "<p align='justify' style='margin: 10px 20px; line-height:1.5; font-family: \"Times New Roman\", Times, serif; font-size:16px; color: purple'>\n",
    "    Count the number of matches:\n",
    "</p>"
   ]
  },
  {
   "cell_type": "code",
   "execution_count": null,
   "id": "a0e53083",
   "metadata": {
    "slideshow": {
     "slide_type": "subslide"
    }
   },
   "outputs": [],
   "source": [
    "grep -c \"pattern\" filename"
   ]
  },
  {
   "cell_type": "markdown",
   "id": "3a6f586c",
   "metadata": {
    "slideshow": {
     "slide_type": "subslide"
    }
   },
   "source": [
    "<p align='justify' style='margin: 10px 20px; line-height:1.5; font-family: \"Times New Roman\", Times, serif; font-size:16px; color: purple'>\n",
    "    This option will display the number of times the specified pattern appears in the file.\n",
    "</p><br>\n",
    "<p align='justify' style='margin: 10px 20px; line-height:1.5; font-family: \"Times New Roman\", Times, serif; font-size:16px; color: black'>\n",
    "    Exclude lines that contain a specific pattern\n",
    "</p>"
   ]
  },
  {
   "cell_type": "code",
   "execution_count": null,
   "id": "ef6be79e",
   "metadata": {
    "slideshow": {
     "slide_type": "subslide"
    }
   },
   "outputs": [],
   "source": [
    "grep -v \"exclude_pattern\" filename | grep \"pattern\""
   ]
  },
  {
   "cell_type": "markdown",
   "id": "33bb48a0",
   "metadata": {
    "slideshow": {
     "slide_type": "subslide"
    }
   },
   "source": [
    "<p align='justify' style='margin: 10px 20px; line-height:1.5; font-family: \"Times New Roman\", Times, serif; font-size:16px; color: purple'>\n",
    "    This option will exclude any lines that contain the specified \"exclude_pattern\" and then search for the specified \"pattern\" in the remaining lines.\n",
    "</p><br>\n",
    "<p align='justify' style='margin: 10px 20px; line-height:1.5; font-family: \"Times New Roman\", Times, serif; font-size:16px; color: black'>\n",
    "    You can look for multiple patterns at the same time with the grep command using the pipe (|) symbol.\n",
    "</p><br>\n",
    "<p align='justify' style='margin: 10px 20px; line-height:1.5; font-family: \"Times New Roman\", Times, serif; font-size:16px; color: purple'>\n",
    "    For example, if you want to search for lines that contain either \"apple\" or \"orange\" in a file called \"fruits.txt\", you can use the following command:\n",
    "</p>"
   ]
  },
  {
   "cell_type": "code",
   "execution_count": null,
   "id": "00b5c066",
   "metadata": {
    "slideshow": {
     "slide_type": "subslide"
    }
   },
   "outputs": [],
   "source": [
    "grep 'apple\\|orange' fruits.txt"
   ]
  },
  {
   "cell_type": "markdown",
   "id": "6c3ced64",
   "metadata": {
    "slideshow": {
     "slide_type": "subslide"
    }
   },
   "source": [
    "<p align='justify' style='margin: 10px 20px; line-height:1.5; font-family: \"Times New Roman\", Times, serif; font-size:16px; color: purple'>\n",
    "    The \\| symbol is used to specify the OR condition between the two patterns. This will display all the lines in the \"fruits.txt\" file that contain either \"apple\" or \"orange\".\n",
    "</p><br>\n",
    "<p align='justify' style='margin: 10px 20px; line-height:1.5; font-family: \"Times New Roman\", Times, serif; font-size:16px; color: black'>\n",
    "    You can also use regular expressions to search for more complex patterns. For example, to search for lines that contain either \"apple\" or \"orange\" followed by a number, you can use the following command:\n",
    "</p>"
   ]
  },
  {
   "cell_type": "code",
   "execution_count": null,
   "id": "203aecb2",
   "metadata": {
    "slideshow": {
     "slide_type": "subslide"
    }
   },
   "outputs": [],
   "source": [
    "grep 'apple\\|orange[0-9]' fruits.txt"
   ]
  },
  {
   "cell_type": "markdown",
   "id": "dc33ad2d",
   "metadata": {
    "slideshow": {
     "slide_type": "subslide"
    }
   },
   "source": [
    "<p align='justify' style='margin: 10px 20px; line-height:1.5; font-family: \"Times New Roman\", Times, serif; font-size:16px; color: purple'>\n",
    "    This will display all the lines in the \"fruits.txt\" file that contain either \"apple\" or \"orange\" followed by a number.<br><br><br>Using the grep command with regular expressions, you can search for lines that contain either \"apple\" or \"orange\" followed by a number, like this:\n",
    "</p>"
   ]
  },
  {
   "cell_type": "code",
   "execution_count": null,
   "id": "2a22a51f",
   "metadata": {
    "slideshow": {
     "slide_type": "subslide"
    }
   },
   "outputs": [],
   "source": [
    "grep -E 'apple|orange [0-9]+' fruits.txt"
   ]
  },
  {
   "cell_type": "markdown",
   "id": "2a7618c5",
   "metadata": {
    "slideshow": {
     "slide_type": "subslide"
    }
   },
   "source": [
    "<p align='justify' style='margin: 10px 20px; line-height:1.5; font-family: \"Times New Roman\", Times, serif; font-size:16px; color: purple'>\n",
    "    The \"-E\" option is used to enable the extended regular expression syntax in the grep command. This syntax allows you to use a more powerful set of pattern matching rules, such as the ability to use parentheses for grouping and the use of meta-characters for matching specific characters or character ranges.<br><br>By default, grep uses the basic regular expression syntax, which is more limited in its capabilities. However, by using the \"-E\" option, you can take advantage of the extended syntax to create more complex patterns and make your searches more specific.<br><br>For example, if you want to search for all lines that contain the words \"apple\" or \"orange\" followed by a number, you can use the extended syntax to create a pattern like this:\n",
    "</p>"
   ]
  },
  {
   "cell_type": "code",
   "execution_count": null,
   "id": "c7e89c4f",
   "metadata": {
    "slideshow": {
     "slide_type": "subslide"
    }
   },
   "outputs": [],
   "source": [
    "grep -E \"apple|orange[0-9]\" myfile.txt"
   ]
  },
  {
   "cell_type": "markdown",
   "id": "c2ddb4ca",
   "metadata": {
    "slideshow": {
     "slide_type": "subslide"
    }
   },
   "source": [
    "<p align='justify' style='margin: 10px 20px; line-height:1.5; font-family: \"Times New Roman\", Times, serif; font-size:16px; color: purple'>\n",
    "    This will search for any line in the \"myfile.txt\" file that contains either the word \"apple\" or \"orange\" followed by a single digit number. Without the \"-E\" option, the \"|\" character and the \"[]\" characters would be interpreted as literal characters rather than meta-characters used for pattern matching.\n",
    "</p>"
   ]
  },
  {
   "cell_type": "markdown",
   "id": "2b96370f",
   "metadata": {
    "slideshow": {
     "slide_type": "subslide"
    }
   },
   "source": [
    "<h4 style='color:red; font-weight:bold; text-align:center; font-family: \"Times New Roman\", Times, serif; font-size:18px;'>Using pipes and redirection to connect commands  </h4><br>\n",
    "<p align='justify' style='margin: 10px 20px; line-height:1.5; font-family: \"Times New Roman\", Times, serif; font-size:16px; color: black'>\n",
    "    <strong style = \"color: purple\">pipe</strong><br><br>In Unix-like operating systems, a pipe (represented by the \"|\" symbol) is used to connect the output of one command to the input of another command. Pipes allow you to create a chain of commands that can perform more complex operations by combining the functionality of different commands.\n",
    "</p><br>\n",
    "<p align='justify' style='margin: 10px 20px; line-height:1.5; font-family: \"Times New Roman\", Times, serif; font-size:16px; color: purple'>\n",
    "    For example, let's say you want to find all files in a directory that contain the word \"apple\", and then sort the results alphabetically. You can use the \"grep\" and \"sort\" commands together with a pipe to accomplish this task. The command would look like this:\n",
    "</p>"
   ]
  },
  {
   "cell_type": "code",
   "execution_count": null,
   "id": "ab71b191",
   "metadata": {
    "slideshow": {
     "slide_type": "subslide"
    }
   },
   "outputs": [],
   "source": [
    "grep -l \"apple\" * | sort"
   ]
  },
  {
   "cell_type": "markdown",
   "id": "a84c455a",
   "metadata": {
    "slideshow": {
     "slide_type": "subslide"
    }
   },
   "source": [
    "<p align='justify' style='margin: 10px 20px; line-height:1.5; font-family: \"Times New Roman\", Times, serif; font-size:16px; color: black'>\n",
    "    Here, the \"grep\" command is used to search for the word \"apple\" in all files in the current directory, and the \"-l\" option is used to display only the names of the files that contain the word. The output of the \"grep\" command is then piped to the \"sort\" command, which sorts the file names alphabetically.<br><br>Pipes can be used to connect any number of commands together in a chain, allowing you to perform complex operations on data. They are a powerful tool for working with command line tools in Unix-like systems, and can greatly increase your productivity and efficiency when working with these systems.\n",
    "</p><br>\n",
    "<p align='justify' style='margin: 10px 20px; line-height:1.5; font-family: \"Times New Roman\", Times, serif; font-size:16px; color: black'>\n",
    "    <strong style = \"color: purple\">redirection</strong><br><br>In Unix-like operating systems, redirection is a way to redirect the input or output of a command from one source or destination to another. Redirection is represented by special characters, such as the \">\" symbol for output redirection and the \"<\" symbol for input redirection.<br><br>Output redirection allows you to redirect the output of a command to a file instead of to the standard output stream (usually the terminal). For example, to save the output of a command to a file called \"output.txt\", you can use the following command:\n",
    "</p>"
   ]
  },
  {
   "cell_type": "code",
   "execution_count": null,
   "id": "73bd2849",
   "metadata": {
    "slideshow": {
     "slide_type": "subslide"
    }
   },
   "outputs": [],
   "source": [
    "ls > filelist.txt"
   ]
  },
  {
   "cell_type": "markdown",
   "id": "607bf3de",
   "metadata": {
    "slideshow": {
     "slide_type": "subslide"
    }
   },
   "source": [
    "<p align='justify' style='margin: 10px 20px; line-height:1.5; font-family: \"Times New Roman\", Times, serif; font-size:16px; color: black'>\n",
    "    Here, the \">\" symbol is used to redirect the output of \"command\" to the file \"output.txt\". Any output that would normally be displayed in the terminal will instead be written to the file.<br><br>Input redirection allows you to redirect the input to a command from a file instead of from the standard input stream (also usually the terminal). For example, to read input for a command from a file called \"input.txt\", you can use the following command:\n",
    "</p>"
   ]
  },
  {
   "cell_type": "code",
   "execution_count": null,
   "id": "4aa0eabf",
   "metadata": {
    "slideshow": {
     "slide_type": "subslide"
    }
   },
   "outputs": [],
   "source": [
    "sort < input.txt"
   ]
  },
  {
   "cell_type": "markdown",
   "id": "08b9dfc4",
   "metadata": {
    "slideshow": {
     "slide_type": "subslide"
    }
   },
   "source": [
    "<p align='justify' style='margin: 10px 20px; line-height:1.5; font-family: \"Times New Roman\", Times, serif; font-size:16px; color: black'>\n",
    "    Here, the \"<\" symbol is used to redirect the input of \"command\" which is \"sort\" from the file \"input.txt\". The command will read input from the file instead of from the terminal.\n",
    "\n",
    "</p><br>\n",
    "<p align='justify' style='margin: 10px 20px; line-height:1.5; font-family: \"Times New Roman\", Times, serif; font-size:16px; color: black'>\n",
    "    Appending Output to a File: we can also append the output of a command to a file, like the example below \n",
    "\n",
    "</p>"
   ]
  },
  {
   "cell_type": "code",
   "execution_count": null,
   "id": "a6a0e894",
   "metadata": {
    "slideshow": {
     "slide_type": "subslide"
    }
   },
   "outputs": [],
   "source": [
    "echo \"new data\" >> file.txt"
   ]
  },
  {
   "cell_type": "markdown",
   "id": "4065fade",
   "metadata": {
    "slideshow": {
     "slide_type": "subslide"
    }
   },
   "source": [
    "<p align='justify' style='margin: 10px 20px; line-height:1.5; font-family: \"Times New Roman\", Times, serif; font-size:16px; color: black'>\n",
    "    In this example, the \"echo\" command prints the text \"new data\" to the terminal and the output is redirected to a file called \"file.txt\". The \">>\" symbol is used to append the output to the end of the file, rather than overwriting the file.<br><br>sometimes we want to execute a commad but you do not want to see the output of the command, we can discard the output using the command below\n",
    "\n",
    "</p>"
   ]
  },
  {
   "cell_type": "code",
   "execution_count": null,
   "id": "8392f5aa",
   "metadata": {
    "slideshow": {
     "slide_type": "subslide"
    }
   },
   "outputs": [],
   "source": [
    "command > /dev/null"
   ]
  },
  {
   "cell_type": "markdown",
   "id": "b05e901b",
   "metadata": {
    "slideshow": {
     "slide_type": "subslide"
    }
   },
   "source": [
    "<p align='justify' style='margin: 10px 20px; line-height:1.5; font-family: \"Times New Roman\", Times, serif; font-size:16px; color: black'>\n",
    "    In this example, the output of the \"command\" is redirected to the special file \"/dev/null\", which discards the output. This is useful when you don't want to see the output of a command, but still want the command to execute.\n",
    "\n",
    "</p><br>\n",
    "<p align='justify' style='margin: 10px 20px; line-height:1.5; font-family: \"Times New Roman\", Times, serif; font-size:16px; color: purple'>\n",
    "    In Unix-like operating systems, /dev/null is a special device file that discards all data written to it and returns no data when read. It is often used as a \"black hole\" in Unix-like systems, where unwanted output is redirected to /dev/null so that it is effectively discarded and does not clutter the screen or the output of other commands.\n",
    "\n",
    "</p>"
   ]
  },
  {
   "cell_type": "markdown",
   "id": "b2e8da28",
   "metadata": {
    "slideshow": {
     "slide_type": "subslide"
    }
   },
   "source": [
    "<p align='justify' style='margin: 10px 20px; line-height:1.5; font-family: \"Times New Roman\", Times, serif; font-size:16px; color: black'>\n",
    "    <strong style = \"color: purple\">more</strong><br><br>The \"more\" command in Unix-like operating systems is a pager utility that is used to display the contents of a file or standard input one screen at a time. It is often used to view the output of long commands or files that are too large to fit on a single screen.\n",
    "    \n",
    "</p><br>\n",
    "<p align='justify' style='margin: 10px 20px; line-height:1.5; font-family: \"Times New Roman\", Times, serif; font-size:16px; color: black'>\n",
    "    <b style = \"color: purple\">Here is an example of how to use the \"more\" command:</b><br><br>Suppose you have a file called \"mytextfile.txt\" that contains a large amount of text. You can use the \"more\" command to view the contents of the file one screen at a time by typing the following command:\n",
    "    \n",
    "</p>"
   ]
  },
  {
   "cell_type": "code",
   "execution_count": null,
   "id": "47e63e41",
   "metadata": {
    "slideshow": {
     "slide_type": "subslide"
    }
   },
   "outputs": [],
   "source": [
    "more mytextfile.txt"
   ]
  },
  {
   "cell_type": "markdown",
   "id": "7c5b2901",
   "metadata": {
    "slideshow": {
     "slide_type": "subslide"
    }
   },
   "source": [
    "<p align='justify' style='margin: 10px 20px; line-height:1.5; font-family: \"Times New Roman\", Times, serif; font-size:16px; color: purple'>\n",
    "    When you run this command, the first screen of the file will be displayed. To view the next screen, you can press the spacebar. To move backward one screen, you can press the \"b\" key. To exit the \"more\" command and return to the command prompt, you can press the \"q\" key.\n",
    "    \n",
    "</p><br>\n",
    "<p align='justify' style='margin: 10px 20px; line-height:1.5; font-family: \"Times New Roman\", Times, serif; font-size:16px; color: black'>\n",
    "    In addition to viewing the contents of a file, the \"more\" command can also be used to view the output of a command one screen at a time. For example, to view the output of the \"ls\" command one screen at a time, you can use the following command:\n",
    "    \n",
    "</p>"
   ]
  },
  {
   "cell_type": "code",
   "execution_count": null,
   "id": "6bfa7f58",
   "metadata": {
    "slideshow": {
     "slide_type": "subslide"
    }
   },
   "outputs": [],
   "source": [
    "ls -l | more"
   ]
  },
  {
   "cell_type": "markdown",
   "id": "b865908a",
   "metadata": {
    "slideshow": {
     "slide_type": "subslide"
    }
   },
   "source": [
    "<p align='justify' style='margin: 10px 20px; line-height:1.5; font-family: \"Times New Roman\", Times, serif; font-size:16px; color: purple'>\n",
    "    In this command, the output of the \"ls -l\" command is piped to the \"more\" command, which displays the output one screen at a time.\n",
    "    \n",
    "</p><br><br>\n",
    "<p align='justify' style='margin: 10px 20px; line-height:1.5; font-family: \"Times New Roman\", Times, serif; font-size:16px; color: black'>\n",
    "    <strong style = \"color: purple\">cut</strong><br><br>The cut command is a tool used in Unix-like operating systems to extract parts of text from a file. This can be useful when you need to extract specific columns or fields of data from a large file. For example, imagine you have a file containing data about people, including their names, ages, and addresses. You could use the cut command to extract only the names or only the ages, and so on. The cut command can also be used to split a file into smaller parts based on specific criteria, such as the number of lines or bytes.<br><br><br><b style = \"color: purple\">Let us see some examples of how the cut command can be used</b>\n",
    "    \n",
    "</p>"
   ]
  },
  {
   "cell_type": "markdown",
   "id": "98201bdc",
   "metadata": {
    "slideshow": {
     "slide_type": "subslide"
    }
   },
   "source": [
    "<p align='justify' style='margin: 10px 20px; line-height:1.5; font-family: \"Times New Roman\", Times, serif; font-size:16px; color: black'>\n",
    "    Extract specific columns from a file: Suppose you have a file called data.csv with the following contents:<br><br><br>Name,Age,Location<br>John,32,New York<br>Jane,28,Los Angeles<br>Bob,45,Miami\n",
    "\n",
    "    \n",
    "</p><br>\n",
    "<p align='justify' style='margin: 10px 20px; line-height:1.5; font-family: \"Times New Roman\", Times, serif; font-size:16px; color: purple'>\n",
    "    You can use the cut command to extract the second and third columns as follows:\n",
    "\n",
    "    \n",
    "</p>"
   ]
  },
  {
   "cell_type": "code",
   "execution_count": null,
   "id": "4bdd1799",
   "metadata": {
    "slideshow": {
     "slide_type": "subslide"
    }
   },
   "outputs": [],
   "source": [
    "cut -d ',' -f 2,3 data.csv"
   ]
  },
  {
   "cell_type": "markdown",
   "id": "0d0be3f2",
   "metadata": {
    "slideshow": {
     "slide_type": "subslide"
    }
   },
   "source": [
    "<p align='justify' style='margin: 10px 20px; line-height:1.5; font-family: \"Times New Roman\", Times, serif; font-size:16px; color: purple'>\n",
    "    In this example, -d ',' specifies that the delimiter is a comma, and -f 2,3 specifies that we want to extract the second and third fields.<br><br><br><b>Extract a range of characters from a file</b>\n",
    "\n",
    "    \n",
    "</p><br>\n",
    "<p align='justify' style='margin: 10px 20px; line-height:1.5; font-family: \"Times New Roman\", Times, serif; font-size:16px; color: black'>\n",
    "    Suppose you have a file called text.txt with the following contents<br><br><br>\"This is a sample text file.<br>It contains multiple lines of text.\"\n",
    "\n",
    "\n",
    "    \n",
    "</p><br>\n",
    "<p align='justify' style='margin: 10px 20px; line-height:1.5; font-family: \"Times New Roman\", Times, serif; font-size:16px; color: purple'>\n",
    "    You can use the cut command to extract the first five characters of each line as follows:\n",
    "\n",
    "    \n",
    "</p>"
   ]
  },
  {
   "cell_type": "code",
   "execution_count": null,
   "id": "9ef59d21",
   "metadata": {
    "slideshow": {
     "slide_type": "subslide"
    }
   },
   "outputs": [],
   "source": [
    "cut -c 1-5 text.txt"
   ]
  },
  {
   "cell_type": "markdown",
   "id": "44f15a65",
   "metadata": {
    "slideshow": {
     "slide_type": "subslide"
    }
   },
   "source": [
    "<p align='justify' style='margin: 10px 20px; line-height:1.5; font-family: \"Times New Roman\", Times, serif; font-size:16px; color: purple'>\n",
    "    In this example, -c 1-5 specifies that we want to extract the first five characters of each line.\n",
    "\n",
    "    \n",
    "</p><br><br>\n",
    "<p align='justify' style='margin: 10px 20px; line-height:1.5; font-family: \"Times New Roman\", Times, serif; font-size:16px; color: black'>\n",
    "    cutting from the same line  \n",
    "\n",
    "    \n",
    "</p><br><br>\n",
    "<p align='justify' style='margin: 10px 20px; line-height:1.5; font-family: \"Times New Roman\", Times, serif; font-size:16px; color: purple'>\n",
    "    Suppose we have a file called \"data.txt\" with the following contents:<br><br>John,Smith,25,1234 Elm St<br>Jane,Doe,32,5678 Oak Ave<br>Bob,Johnson,41,9101 Pine Blvd\n",
    "\n",
    "\n",
    "    \n",
    "</p><br>\n",
    "<p align='justify' style='margin: 10px 20px; line-height:1.5; font-family: \"Times New Roman\", Times, serif; font-size:16px; color: black'>\n",
    "    To cut only the first line \"John,Smith,25,1234 Elm St\" from the data above, you can use the \"head\" command to display the first line, and then pipe the output to the \"cut\" command to select the entire line without any specific delimiter. The command would be:\n",
    "    \n",
    "</p>"
   ]
  },
  {
   "cell_type": "code",
   "execution_count": null,
   "id": "68182af6",
   "metadata": {
    "slideshow": {
     "slide_type": "subslide"
    }
   },
   "outputs": [],
   "source": [
    "head -n 1 data.txt | cut -f 1-"
   ]
  },
  {
   "cell_type": "markdown",
   "id": "59b1fdf4",
   "metadata": {
    "slideshow": {
     "slide_type": "subslide"
    }
   },
   "source": [
    "<p align='justify' style='margin: 10px 20px; line-height:1.5; font-family: \"Times New Roman\", Times, serif; font-size:16px; color: black'>\n",
    "    Here, the \"head\" command is used with the \"-n\" option to display only the first line of the file \"data.txt\". The output of the \"head\" command is then piped to the \"cut\" command, which is used with the \"-f\" option to select the entire line without any specific delimiter. The \"-f 1-\" option tells \"cut\" to select all fields from the first to the last, which in this case is the entire line.\n",
    "    \n",
    "</p><br>\n",
    "<p align='justify' style='margin: 10px 20px; line-height:1.5; font-family: \"Times New Roman\", Times, serif; font-size:16px; color: purple'>\n",
    "    To extract \"Smith,25,1234 Elm\" from \"John,Smith,25,1234 Elm St\" using the cut command<br><br>You can use the cut command with the -d option to specify the delimiter, and the -f option to specify the fields to extract. In this case, you want to extract fields 2, 3, and 4, so you can use the following command:\n",
    "    \n",
    "</p>"
   ]
  },
  {
   "cell_type": "code",
   "execution_count": null,
   "id": "52d9fec5",
   "metadata": {
    "slideshow": {
     "slide_type": "subslide"
    }
   },
   "outputs": [],
   "source": [
    "cut -d',' -f2-4 data.txt | head -n1"
   ]
  },
  {
   "cell_type": "markdown",
   "id": "3ddf9125",
   "metadata": {
    "slideshow": {
     "slide_type": "subslide"
    }
   },
   "source": [
    "<p align='justify' style='margin: 10px 20px; line-height:1.5; font-family: \"Times New Roman\", Times, serif; font-size:16px; color: purple'>\n",
    "    This will use the comma as the delimiter (-d','), and extract fields 2 to 4 (-f2-4) from the file data.txt. The output will be piped to the head command to select only the first line of the output, which is the line you want. \n",
    "    \n",
    "</p><br>\n",
    "<p align='justify' style='margin: 10px 20px; line-height:1.5; font-family: \"Times New Roman\", Times, serif; font-size:16px; color: black'>\n",
    "    <strong style = \"color: purple\">wc</strong><br><br>The wc command is used to count the number of lines, words, and bytes in a file or standard input stream. It can be used to provide a summary of a file's content or to count the output of another command in a pipeline.<br><br><br><b>Here's an example of how to use the wc command:</b><br><br>Suppose we have a file named example.txt with the following content:\n",
    "    \n",
    "</p><br>\n",
    "<p align='justify' style='margin: 10px 20px; line-height:1.5; font-family: \"Times New Roman\", Times, serif; font-size:16px; color: purple'>\n",
    "    This is a sample text file.<br>It contains a few lines of text<br>that we can use for demonstration purposes.\n",
    "\n",
    "    \n",
    "</p><br>\n",
    "<p align='justify' style='margin: 10px 20px; line-height:1.5; font-family: \"Times New Roman\", Times, serif; font-size:16px; color: black'>\n",
    "    To count the number of lines, words, and bytes in this file, we can use the following command:\n",
    "    \n",
    "</p>"
   ]
  },
  {
   "cell_type": "code",
   "execution_count": null,
   "id": "3b9a7e01",
   "metadata": {
    "slideshow": {
     "slide_type": "subslide"
    }
   },
   "outputs": [],
   "source": [
    "%%bash\n",
    "wc example.txt"
   ]
  },
  {
   "cell_type": "markdown",
   "id": "a2fb8cdc",
   "metadata": {
    "slideshow": {
     "slide_type": "subslide"
    }
   },
   "source": [
    "<p align='justify' style='margin: 10px 20px; line-height:1.5; font-family: \"Times New Roman\", Times, serif; font-size:16px; color: purple'>\n",
    "    The first column of the output shows the number of lines in the file, the second column shows the number of words, and the third column shows the number of bytes. The last column shows the name of the file that was processed.\n",
    "    \n",
    "</p><br>\n",
    "<p align='justify' style='margin: 10px 20px; line-height:1.5; font-family: \"Times New Roman\", Times, serif; font-size:16px; color: black'>\n",
    "    The wc command also supports several options that can be used to modify its behavior. For example, the -l option can be used to count only the number of lines in a file, and the -c option can be used to count only the number of bytes.<br><br>Here's an example of how to use the -l and -c options:\n",
    "</p>"
   ]
  },
  {
   "cell_type": "code",
   "execution_count": null,
   "id": "7e47c57c",
   "metadata": {
    "slideshow": {
     "slide_type": "subslide"
    }
   },
   "outputs": [],
   "source": [
    "wc -l example.txt"
   ]
  },
  {
   "cell_type": "markdown",
   "id": "1fde9f3e",
   "metadata": {
    "slideshow": {
     "slide_type": "subslide"
    }
   },
   "source": [
    "<p align='justify' style='margin: 10px 20px; line-height:1.5; font-family: \"Times New Roman\", Times, serif; font-size:16px; color: purple'>\n",
    "    The output will show that the file example.txt has 3 lines.\n",
    "</p>"
   ]
  },
  {
   "cell_type": "code",
   "execution_count": null,
   "id": "cbc1702d",
   "metadata": {
    "slideshow": {
     "slide_type": "subslide"
    }
   },
   "outputs": [],
   "source": [
    "wc -c example.txt"
   ]
  },
  {
   "cell_type": "markdown",
   "id": "31f957c2",
   "metadata": {
    "slideshow": {
     "slide_type": "subslide"
    }
   },
   "source": [
    "<p align='justify' style='margin: 10px 20px; line-height:1.5; font-family: \"Times New Roman\", Times, serif; font-size:16px; color: purple'>\n",
    "    This output shows that the file example.txt has 104 bytes.<br><br> The wc command is a useful tool for quickly counting the number of lines, words, and bytes in a file or standard input stream, and its options provide additional flexibility and customization.\n",
    "</p>"
   ]
  },
  {
   "cell_type": "markdown",
   "id": "dde5fa57",
   "metadata": {
    "slideshow": {
     "slide_type": "subslide"
    }
   },
   "source": [
    "<h3 style='color:red; font-weight:bold; text-align:center; font-family: \"Times New Roman\", Times, serif; font-size:20px;'>Exercise 1: Basic Unix and Linux commands </h3><br>\n",
    "<p align='justify' style='margin: 10px 20px; line-height:1.5; font-family: \"Times New Roman\", Times, serif; font-size:16px; color: purple'>\n",
    "    \n",
    "    \n",
    "  <ul style='font-family: \"Times New Roman\", Times, serif; font-weight:light; font-size:16px;'>\n",
    "      <li>Q1. How can I use the ls command to view the contents of a specific directory, rather than the current working directory?</li><br>\n",
    "      <li>Q2. How can I use the cp command to copy a file from one location to another, while preserving the original file's modification time and permissions?</li><br>\n",
    "      <li>Q3. Can the mkdir command be used to create a directory hierarchy, rather than just a single directory? If so, how?</li><br>\n",
    "      <li>Q4. Can the less command be used to search for a specific string of text within a file? If so, how do I specify the string that I want to search for?</li><br>\n",
    "      <li>Q5. Can the less command be used to navigate through a file, rather than just view it from start to finish? If so, how do I move forward and backward through the file?</li><br>\n",
    "      <li>Q6. Can the head command be used to display a specific number of lines from the middle or end of a file, rather than just the beginning? If so, how do I specify the line range that I want to view?</li><br>\n",
    "      <li>Q7. Can the grep command be used to search for text that matches a specific case-sensitivity? If so, how do I specify whether the search should be case-sensitive or case-insensitive?</li>\n",
    "    \n",
    "    \n",
    "  </ul>\n",
    "</p>"
   ]
  },
  {
   "cell_type": "markdown",
   "id": "c65423f2",
   "metadata": {
    "slideshow": {
     "slide_type": "slide"
    }
   },
   "source": [
    "<h2 style='color:red; font-weight:bold; text-align:center; font-family: \"Times New Roman\", Times, serif; font-size:22px;'>CHAPTER TWO: ADVANCED UNIX AND LINUX COMMANDS </h2><br>\n",
    "<img src=\"753913-1592866338975-16x9.jpg\" width=\"150\" height=\"250\" style=\"float: left; margin-right: 20px; margin-left: 20px;\">\n",
    "<p align='justify' style='margin: 10px 20px; line-height:1.5; font-family: \"Times New Roman\", Times, serif; font-size:16px; color: purple'>\n",
    "  Advanced shell commands are more complex and powerful tools that can perform a wide range of tasks, from managing files and directories to controlling system processes and network connections. They often require more knowledge of the command line and its syntax, and can be used to automate repetitive tasks or create more complex workflows. Some examples of advanced shell commands include awk, sed, xargs, and among others.\n",
    "\n",
    "</p><br><br>\n",
    "<p align='justify' style='margin: 10px 20px; line-height:1.5; font-family: \"Times New Roman\", Times, serif; font-size:16px; color: purple'>\n",
    "    <strong style = \"color: black\">Here are some advanced Unix and Linux commands that you may find useful:</strong>\n",
    "    \n",
    "  <ul style='font-family: \"Times New Roman\", Times, serif; font-weight:light; font-size:16px;'>\n",
    "      <li><strong style = \"color: purple\">awk: </strong> a command that allows you to manipulate and extract data from text files, particularly columns or fields of data.</li>\n",
    "      <li><strong style = \"color: purple\">sed: </strong> a command that is used for stream editing, allowing you to perform complex text transformations on a file or stream of text.</li>\n",
    "      <li><strong style = \"color: purple\">rsync: </strong> a command that is used for remote file synchronization, allowing you to transfer files and directories between different systems.</li>\n",
    "      <li><strong style = \"color: purple\">tar: </strong> a command that is used for creating and manipulating archive files, such as .tar or .tar.gz files.</li>\n",
    "      <li><strong style = \"color: purple\">ssh: </strong> a command that is used for secure shell connections to remote systems, allowing you to access and manipulate files and run commands on remote systems.</li>\n",
    "      <li><strong style = \"color: purple\">top: </strong>a command that displays real-time system resource usage, such as CPU and memory usage, and process information.</li>\n",
    "      \n",
    "    \n",
    "    \n",
    "  </ul>\n",
    "</p><br>\n",
    "<p align='justify' style='margin: 10px 20px; line-height:1.5; font-family: \"Times New Roman\", Times, serif; font-size:16px; color: purple'>\n",
    "  Let's look at each of these commands and see how useful they may be to us in our day to day activities  \n",
    "\n",
    "</p>"
   ]
  },
  {
   "cell_type": "markdown",
   "id": "7bf843de",
   "metadata": {
    "slideshow": {
     "slide_type": "subslide"
    }
   },
   "source": [
    "<p align='justify' style='margin: 10px 20px; line-height:1.5; font-family: \"Times New Roman\", Times, serif; font-size:16px; color: black'>\n",
    "    <strong style = \"color: purple\">awk</strong><br><br>The awk command in Unix-like operating systems is a powerful tool for manipulating text data files. It is a programming language that is designed to work with columns of data and perform complex operations on them.<br><br><br><b>The basic syntax of the awk command is as follows:</b>\n",
    "    \n",
    "</p>"
   ]
  },
  {
   "cell_type": "code",
   "execution_count": null,
   "id": "ff08c105",
   "metadata": {
    "slideshow": {
     "slide_type": "subslide"
    }
   },
   "outputs": [],
   "source": [
    "awk 'pattern {action}' filename"
   ]
  },
  {
   "cell_type": "markdown",
   "id": "65461b9b",
   "metadata": {
    "slideshow": {
     "slide_type": "subslide"
    }
   },
   "source": [
    "<p align='justify' style='margin: 10px 20px; line-height:1.5; font-family: \"Times New Roman\", Times, serif; font-size:16px; color: purple'>\n",
    "  The \"pattern\" specifies the condition under which the \"action\" is performed on the file \"filename\". The \"pattern\" can be a regular expression or a comparison expression, and the \"action\" can be any valid awk command or set of commands enclosed in curly braces. <br><br>Here is an example of using the awk command to print the second column of a file called \"data.txt\":\n",
    "\n",
    "</p>"
   ]
  },
  {
   "cell_type": "code",
   "execution_count": null,
   "id": "af983087",
   "metadata": {
    "slideshow": {
     "slide_type": "subslide"
    }
   },
   "outputs": [],
   "source": [
    "awk -F, '{print $2}' data.txt"
   ]
  },
  {
   "cell_type": "markdown",
   "id": "29927a47",
   "metadata": {
    "slideshow": {
     "slide_type": "subslide"
    }
   },
   "source": [
    "<p align='justify' style='margin: 10px 20px; line-height:1.5; font-family: \"Times New Roman\", Times, serif; font-size:16px; color: purple'>\n",
    "  The command \"awk -F, '{print \\$2}' data.txt\" is used to print the second column of the file \"data.txt\" to the terminal. The \"-F,\" option specifies the delimiter as a comma, and the \\$2 specifies the second column. The \"print\" command prints the specified column to the terminal.\n",
    "\n",
    "</p><br><br>\n",
    "<p align='justify' style='margin: 10px 20px; line-height:1.5; font-family: \"Times New Roman\", Times, serif; font-size:16px; color: black'>\n",
    "    Another example is using the awk command to calculate the total of the third column in a file called \"sales.txt\":\n",
    "    \n",
    "</p>"
   ]
  },
  {
   "cell_type": "code",
   "execution_count": null,
   "id": "76dcf7f4",
   "metadata": {
    "slideshow": {
     "slide_type": "subslide"
    }
   },
   "outputs": [],
   "source": [
    "awk -F ',' '{total += $3} END {print \"Total sales: \" total}' sales.txt"
   ]
  },
  {
   "cell_type": "markdown",
   "id": "184d79a6",
   "metadata": {
    "slideshow": {
     "slide_type": "subslide"
    }
   },
   "source": [
    "<p align='justify' style='margin: 10px 20px; line-height:1.5; font-family: \"Times New Roman\", Times, serif; font-size:16px; color: purple'>\n",
    "  This command uses the awk tool to calculate the total of the third column in the file \"sales.txt\". The \"-F\" option is used to specify the delimiter as a comma, and the \"\\$3\" specifies the third column. The \"total += \\$3\" command adds the value of the third column to the \"total\" variable for each line, and the \"END\" keyword specifies that the following command should be performed at the end of the file. The \"print\" command then prints the final result to the terminal in the format \"Total sales: <total>\".\n",
    "\n",
    "</p><br><br>\n",
    "<p align='justify' style='margin: 10px 20px; line-height:1.5; font-family: \"Times New Roman\", Times, serif; font-size:16px; color: black'>\n",
    "    <strong style = \"color: purple\">sed</strong><br><br>The sed (stream editor) command is a powerful tool for text manipulation. It can be used to perform various operations on text files, such as searching for and replacing text, deleting lines, and inserting new text.<br><br>The basic syntax of the sed command is as follows:\n",
    "    \n",
    "</p>"
   ]
  },
  {
   "cell_type": "code",
   "execution_count": null,
   "id": "be5a8692",
   "metadata": {
    "slideshow": {
     "slide_type": "subslide"
    }
   },
   "outputs": [],
   "source": [
    "sed [options] 'command' file(s)"
   ]
  },
  {
   "cell_type": "markdown",
   "id": "ab5482d9",
   "metadata": {
    "slideshow": {
     "slide_type": "subslide"
    }
   },
   "source": [
    "<p align='justify' style='margin: 10px 20px; line-height:1.5; font-family: \"Times New Roman\", Times, serif; font-size:16px; color: purple'>\n",
    "    The \"command\" part of the syntax is the set of instructions that sed will execute on the file(s). The options are used to specify various settings for sed, such as the input file format and the output format.\n",
    "    \n",
    "</p><br><br>\n",
    "<p align='justify' style='margin: 10px 20px; line-height:1.5; font-family: \"Times New Roman\", Times, serif; font-size:16px; color: purple'>\n",
    "    Here is an example of using the sed command to replace all occurrences of \"apple\" with \"orange\" in a file called \"fruits.txt\":\n",
    "    \n",
    "</p>"
   ]
  },
  {
   "cell_type": "code",
   "execution_count": null,
   "id": "82fbb547",
   "metadata": {
    "slideshow": {
     "slide_type": "subslide"
    }
   },
   "outputs": [],
   "source": [
    "sed 's/apple/orange/g' fruits.txt"
   ]
  },
  {
   "cell_type": "markdown",
   "id": "7a3b79fd",
   "metadata": {
    "slideshow": {
     "slide_type": "subslide"
    }
   },
   "source": [
    "<p align='justify' style='margin: 10px 20px; line-height:1.5; font-family: \"Times New Roman\", Times, serif; font-size:16px; color: purple'>\n",
    "    In this command, the \"s\" command is used to perform a search and replace operation, with \"apple\" as the search term and \"orange\" as the replacement term. The \"g\" flag at the end of the command specifies that the replacement should be global, meaning that all occurrences of \"apple\" in the file should be replaced with \"orange\".\n",
    "    \n",
    "</p><br>\n",
    "<p align='justify' style='margin: 10px 20px; line-height:1.5; font-family: \"Times New Roman\", Times, serif; font-size:16px; color: black'>\n",
    "    Another example is using the sed command to delete all lines that contain the word \"banana\" in a file called \"fruits.txt\":\n",
    "    \n",
    "</p>"
   ]
  },
  {
   "cell_type": "code",
   "execution_count": null,
   "id": "c474e225",
   "metadata": {
    "slideshow": {
     "slide_type": "subslide"
    }
   },
   "outputs": [],
   "source": [
    "sed '/banana/d' fruits.txt"
   ]
  },
  {
   "cell_type": "markdown",
   "id": "b440a72c",
   "metadata": {
    "slideshow": {
     "slide_type": "subslide"
    }
   },
   "source": [
    "<p align='justify' style='margin: 10px 20px; line-height:1.5; font-family: \"Times New Roman\", Times, serif; font-size:16px; color: purple'>\n",
    "    In this command, the \"/banana/\" part specifies the pattern to search for, and the \"d\" command deletes any lines that match the pattern.\n",
    "    \n",
    "</p><br><br>\n",
    "<p align='justify' style='margin: 10px 20px; line-height:1.5; font-family: \"Times New Roman\", Times, serif; font-size:16px; color: black'>\n",
    "    To replace all occurrences of \"oranges\" to \"banana\" in a file \"fruits.txt\" in a case-insensitive manner using the sed command, you can use the following command:\n",
    "    \n",
    "</p>"
   ]
  },
  {
   "cell_type": "code",
   "execution_count": null,
   "id": "1aca4ad4",
   "metadata": {
    "slideshow": {
     "slide_type": "subslide"
    }
   },
   "outputs": [],
   "source": [
    "sed -i 's/oranges/banana/ig' fruits.txt"
   ]
  },
  {
   "cell_type": "markdown",
   "id": "49ae71a3",
   "metadata": {
    "slideshow": {
     "slide_type": "subslide"
    }
   },
   "source": [
    "<p align='justify' style='margin: 10px 20px; line-height:1.5; font-family: \"Times New Roman\", Times, serif; font-size:16px; color: black'>\n",
    "    In this command, the -i option is used to perform the replacement directly in the file \"fruits.txt\". The s command is used to substitute the first pattern (in this case \"oranges\") with the second pattern (in this case \"banana\"). The i flag is used to ignore the case while searching for the pattern, and the g flag is used to replace all occurrences of the pattern in each line.\n",
    "    \n",
    "</p><br><br>\n",
    "<p align='justify' style='margin: 10px 20px; line-height:1.5; font-family: \"Times New Roman\", Times, serif; font-size:16px; color: purple'>\n",
    "    After executing this command, all occurrences of \"oranges\" in \"fruits.txt\" will be replaced with \"banana\" in a case-insensitive manner.\n",
    "    \n",
    "</p><br>\n",
    "<p align='justify' style='margin: 10px 20px; line-height:1.5; font-family: \"Times New Roman\", Times, serif; font-size:16px; color: black'>\n",
    "    If you don't want to globally change all occurrences of a pattern, you can use the \"sed\" command with the \"s\" (substitute) command and specify the occurrence to replace using a number or a range.\n",
    "    \n",
    "</p><br>\n",
    "<p align='justify' style='margin: 10px 20px; line-height:1.5; font-family: \"Times New Roman\", Times, serif; font-size:16px; color: purple'>\n",
    "    For example, to replace only the second occurrence of \"oranges\" with \"banana\" in a file called \"fruits.txt\", you can use the following command:\n",
    "    \n",
    "</p>"
   ]
  },
  {
   "cell_type": "code",
   "execution_count": null,
   "id": "a2c3ab9f",
   "metadata": {
    "slideshow": {
     "slide_type": "subslide"
    }
   },
   "outputs": [],
   "source": [
    "sed '0,/oranges/s//banana/' fruits.txt"
   ]
  },
  {
   "cell_type": "markdown",
   "id": "efd5d6b8",
   "metadata": {
    "slideshow": {
     "slide_type": "subslide"
    }
   },
   "source": [
    "<p align='justify' style='margin: 10px 20px; line-height:1.5; font-family: \"Times New Roman\", Times, serif; font-size:16px; color: purple'>\n",
    "    In this command, the \"0,/oranges/\" specifies the range where the substitution should occur, starting from the first line (0) and ending at the first occurrence of \"oranges\". The \"s//banana/\" command then substitutes the second occurrence of \"oranges\" with \"banana\" in this range.\n",
    "    \n",
    "</p><br>\n",
    "<p align='justify' style='margin: 10px 20px; line-height:1.5; font-family: \"Times New Roman\", Times, serif; font-size:16px; color: black'>\n",
    "     Replace a word only on specific lines in a file:\n",
    "    \n",
    "</p>"
   ]
  },
  {
   "cell_type": "code",
   "execution_count": null,
   "id": "da816942",
   "metadata": {
    "slideshow": {
     "slide_type": "subslide"
    }
   },
   "outputs": [],
   "source": [
    "sed '2,4 s/oldword/newword/g' file.txt"
   ]
  },
  {
   "cell_type": "markdown",
   "id": "3edd4bc8",
   "metadata": {
    "slideshow": {
     "slide_type": "subslide"
    }
   },
   "source": [
    "<p align='justify' style='margin: 10px 20px; line-height:1.5; font-family: \"Times New Roman\", Times, serif; font-size:16px; color: purple'>\n",
    "     This will replace all occurrences of \"oldword\" with \"newword\" on lines 2-4 of the file \"file.txt\".\n",
    "    \n",
    "</p><br>\n",
    "<p align='justify' style='margin: 10px 20px; line-height:1.5; font-family: \"Times New Roman\", Times, serif; font-size:16px; color: black'>\n",
    "    <strong style = \"color: purple\">rsync</strong><br><br>The rsync command is a powerful tool used for synchronizing files and directories between different locations. It is commonly used for backup, mirroring, and remote file transfers.<br><br>The basic syntax of the rsync command is as follows\n",
    "    \n",
    "</p>"
   ]
  },
  {
   "cell_type": "code",
   "execution_count": null,
   "id": "3c41d62c",
   "metadata": {
    "slideshow": {
     "slide_type": "subslide"
    }
   },
   "outputs": [],
   "source": [
    "rsync [OPTIONS] SOURCE DESTINATION"
   ]
  },
  {
   "cell_type": "markdown",
   "id": "f58e0de1",
   "metadata": {
    "slideshow": {
     "slide_type": "subslide"
    }
   },
   "source": [
    "<p align='justify' style='margin: 10px 20px; line-height:1.5; font-family: \"Times New Roman\", Times, serif; font-size:16px; color: purple'>\n",
    "    Here, SOURCE is the source directory or file that you want to copy, and DESTINATION is the target directory or file where you want to copy the data.\n",
    "\n",
    "\n",
    "    \n",
    "</p><br>\n",
    "<p align='justify' style='margin: 10px 20px; line-height:1.5; font-family: \"Times New Roman\", Times, serif; font-size:16px; color: black'>\n",
    "    Some commonly used options of the rsync command include:<br><br>\"-a:\" archive mode, which preserves permissions, timestamps, and other attributes of files<br>\"-v:\" verbose output, which shows the progress and details of the transfer<br>\"-z:\" compression, which compresses the data during transfer to reduce the bandwidth usage<br>\"-n:\" dry run mode, which simulates the transfer without actually copying the data<br><br>Here is an example of using the rsync command to copy a directory from one location to another:\n",
    "\n",
    "\n",
    "    \n",
    "</p>"
   ]
  },
  {
   "cell_type": "code",
   "execution_count": null,
   "id": "bcee5112",
   "metadata": {
    "slideshow": {
     "slide_type": "subslide"
    }
   },
   "outputs": [],
   "source": [
    "rsync -avz /path/to/source/ /path/to/destination/"
   ]
  },
  {
   "cell_type": "markdown",
   "id": "8c24ff2c",
   "metadata": {
    "slideshow": {
     "slide_type": "subslide"
    }
   },
   "source": [
    "<p align='justify' style='margin: 10px 20px; line-height:1.5; font-family: \"Times New Roman\", Times, serif; font-size:16px; color: purple'>\n",
    "    In this example, the -a option preserves the permissions, timestamps, and other attributes of files, the -v option shows the progress and details of the transfer, and the -z option compresses the data during transfer. The trailing slashes after the source and destination paths are important, as they specify that the content of the directories should be copied, rather than the directories themselves.\n",
    "\n",
    "    \n",
    "</p><br>\n",
    "<p align='justify' style='margin: 10px 20px; line-height:1.5; font-family: \"Times New Roman\", Times, serif; font-size:16px; color: black'>\n",
    "    Another useful feature of rsync is its ability to synchronize two directories so that they have the same content. This can be done using the --delete option, which removes any files in the destination directory that do not exist in the source directory:\n",
    "\n",
    "    \n",
    "</p>"
   ]
  },
  {
   "cell_type": "code",
   "execution_count": null,
   "id": "c93b4d5f",
   "metadata": {
    "slideshow": {
     "slide_type": "subslide"
    }
   },
   "outputs": [],
   "source": [
    "rsync -avz --delete /path/to/source/ /path/to/destination/"
   ]
  },
  {
   "cell_type": "markdown",
   "id": "e4d3d388",
   "metadata": {
    "slideshow": {
     "slide_type": "subslide"
    }
   },
   "source": [
    "<p align='justify' style='margin: 10px 20px; line-height:1.5; font-family: \"Times New Roman\", Times, serif; font-size:16px; color: purple'>\n",
    "    <strong style = \"color: purple\">tar</strong><br><br>The \"tar\" command in Unix-like operating systems is used to create, extract, and manipulate archive files. An archive file is a single file that contains one or more other files or directories. The name \"tar\" comes from \"tape archive,\" which refers to the original use of the command to create archives on magnetic tape.\n",
    "    \n",
    "</p><br><br>\n",
    "<p align='justify' style='margin: 10px 20px; line-height:1.5; font-family: \"Times New Roman\", Times, serif; font-size:16px; color: black'>\n",
    "    To create an archive file with the \"tar\" command, you use the \"-c\" option followed by the name of the archive file you want to create and the list of files and directories you want to include in the archive. For example, to create an archive file called \"myarchive.tar\" that contains the files \"file1.txt\" and \"file2.txt\", you can use the following command:\n",
    "\n",
    "    \n",
    "</p>"
   ]
  },
  {
   "cell_type": "code",
   "execution_count": null,
   "id": "e73a996f",
   "metadata": {
    "slideshow": {
     "slide_type": "subslide"
    }
   },
   "outputs": [],
   "source": [
    "tar -c -f myarchive.tar file1.txt file2.txt"
   ]
  },
  {
   "cell_type": "markdown",
   "id": "3e039b6b",
   "metadata": {
    "slideshow": {
     "slide_type": "subslide"
    }
   },
   "source": [
    "<p align='justify' style='margin: 10px 20px; line-height:1.5; font-family: \"Times New Roman\", Times, serif; font-size:16px; color: purple'>\n",
    "    The \"-c\" option specifies that you want to create a new archive, and the \"-f\" option followed by the name of the archive file specifies the name of the archive file you want to create.\n",
    "\n",
    "    \n",
    "</p><br><br>\n",
    "<p align='justify' style='margin: 10px 20px; line-height:1.5; font-family: \"Times New Roman\", Times, serif; font-size:16px; color: black'>\n",
    "    To extract the files from an archive file, you use the \"-x\" option followed by the name of the archive file you want to extract. For example, to extract the files from the \"myarchive.tar\" archive file, you can use the following command:\n",
    "\n",
    "    \n",
    "</p>"
   ]
  },
  {
   "cell_type": "code",
   "execution_count": null,
   "id": "510c3e1a",
   "metadata": {
    "slideshow": {
     "slide_type": "subslide"
    }
   },
   "outputs": [],
   "source": [
    "tar -x -f myarchive.tar"
   ]
  },
  {
   "cell_type": "markdown",
   "id": "27dc6cdb",
   "metadata": {
    "slideshow": {
     "slide_type": "subslide"
    }
   },
   "source": [
    "<p align='justify' style='margin: 10px 20px; line-height:1.5; font-family: \"Times New Roman\", Times, serif; font-size:16px; color: purple'>\n",
    "    The \"-x\" option specifies that you want to extract the files from the archive file.<br><br>You can also use the \"-v\" option to enable verbose output, which displays the names of the files as they are being processed, and the \"-z\" option to enable compression using gzip.\n",
    "\n",
    "    \n",
    "</p>"
   ]
  },
  {
   "cell_type": "markdown",
   "id": "d7ad18bf",
   "metadata": {
    "slideshow": {
     "slide_type": "subslide"
    }
   },
   "source": [
    "<p align='justify' style='margin: 10px 20px; line-height:1.5; font-family: \"Times New Roman\", Times, serif; font-size:16px; color: purple'>\n",
    "    <strong style = \"color: purple\">ssh</strong><br><br>The ssh command is used to remotely access or connect to another computer or server over a network. It provides a secure way of connecting to a remote machine and executing commands on it.\n",
    "    \n",
    "</p><br>\n",
    "<p align='justify' style='margin: 10px 20px; line-height:1.5; font-family: \"Times New Roman\", Times, serif; font-size:16px; color: black'>\n",
    "    The syntax for using the ssh command is as follows:\n",
    "    \n",
    "</p>"
   ]
  },
  {
   "cell_type": "code",
   "execution_count": null,
   "id": "3c0aad91",
   "metadata": {
    "slideshow": {
     "slide_type": "subslide"
    }
   },
   "outputs": [],
   "source": [
    "ssh [options] [user@]hostname [command]"
   ]
  },
  {
   "cell_type": "markdown",
   "id": "874a24b8",
   "metadata": {
    "slideshow": {
     "slide_type": "subslide"
    }
   },
   "source": [
    "<p align='justify' style='margin: 10px 20px; line-height:1.5; font-family: \"Times New Roman\", Times, serif; font-size:16px; color: purple'>\n",
    "    Here, [options] can be any additional flags or options that are required for the ssh connection. [user@]hostname is the username and hostname or IP address of the remote machine you want to connect to. [command] is an optional argument that specifies a command to be executed on the remote machine after connecting.\n",
    "    \n",
    "</p><br>\n",
    "<p align='justify' style='margin: 10px 20px; line-height:1.5; font-family: \"Times New Roman\", Times, serif; font-size:16px; color: black'>\n",
    "    For example, to connect to a remote machine with IP address 192.168.1.100 as user john and execute the ls command, you can use the following command:\n",
    "\n",
    "\n",
    "    \n",
    "</p>"
   ]
  },
  {
   "cell_type": "code",
   "execution_count": null,
   "id": "a6cd6edc",
   "metadata": {
    "slideshow": {
     "slide_type": "subslide"
    }
   },
   "outputs": [],
   "source": [
    "ssh john@192.168.1.100 ls"
   ]
  },
  {
   "cell_type": "markdown",
   "id": "8ceb14a4",
   "metadata": {
    "slideshow": {
     "slide_type": "subslide"
    }
   },
   "source": [
    "<p align='justify' style='margin: 10px 20px; line-height:1.5; font-family: \"Times New Roman\", Times, serif; font-size:16px; color: purple'>\n",
    "    If the remote machine requires a password for authentication, you will be prompted to enter it after running the ssh command.<br><br>Once you are connected to the remote machine, you can execute commands on it just as you would on your local machine. When you are done, you can exit the ssh connection by typing exit or Ctrl + D.\n",
    "\n",
    "\n",
    "    \n",
    "</p><br><br>\n",
    "<p align='justify' style='margin: 10px 20px; line-height:1.5; font-family: \"Times New Roman\", Times, serif; font-size:16px; color: black'>\n",
    "    The ssh command also supports key-based authentication, which allows you to connect to a remote machine without entering a password. This involves generating a public-private key pair on your local machine and adding the public key to the remote machine's authorized keys file. Once set up, you can connect to the remote machine with the ssh command without entering a password.\n",
    "\n",
    "    \n",
    "</p>"
   ]
  },
  {
   "cell_type": "markdown",
   "id": "e642c4b4",
   "metadata": {
    "slideshow": {
     "slide_type": "subslide"
    }
   },
   "source": [
    "<p align='justify' style='margin: 10px 20px; line-height:1.5; font-family: \"Times New Roman\", Times, serif; font-size:16px; color: purple'>\n",
    "    <strong style = \"color: purple\">top</strong><br><br>The \"top\" command in Unix-like operating systems is a system monitoring utility that provides real-time information about the performance of the system's CPU, memory usage, and other system processes. It displays a dynamic view of the system's processes, with the most CPU-intensive processes listed at the top.\n",
    "    \n",
    "</p><br>\n",
    "<p align='justify' style='margin: 10px 20px; line-height:1.5; font-family: \"Times New Roman\", Times, serif; font-size:16px; color: black'>\n",
    "    When you run the \"top\" command, you will see a list of processes running on your system, along with information about the resources each process is using, such as CPU usage, memory usage, and running time.<br><br><br>Here is an example of how to use the \"top\" command:\n",
    "    \n",
    "</p>"
   ]
  },
  {
   "cell_type": "code",
   "execution_count": null,
   "id": "f48677e8",
   "metadata": {
    "slideshow": {
     "slide_type": "subslide"
    }
   },
   "outputs": [],
   "source": [
    "top"
   ]
  },
  {
   "cell_type": "markdown",
   "id": "4f552633",
   "metadata": {
    "slideshow": {
     "slide_type": "subslide"
    }
   },
   "source": [
    "<p align='justify' style='margin: 10px 20px; line-height:1.5; font-family: \"Times New Roman\", Times, serif; font-size:16px; color: purple'>\n",
    "    This will start the \"top\" command and display a live view of the system's processes. You can use the arrow keys to navigate up and down the list of processes, and the spacebar to refresh the display.\n",
    "    \n",
    "</p><br><br>\n",
    "<p align='justify' style='margin: 10px 20px; line-height:1.5; font-family: \"Times New Roman\", Times, serif; font-size:16px; color: black'>\n",
    "    The \"top\" command also provides a number of interactive commands that you can use to interact with the processes. For example:<br><br>Press \"k\" to kill a process<br>Press \"r\" to renice a process<br>Press \"f\" to show or hide columns<br>Press \"u\" to filter by user<br>Press \"q\" to quit the \"top\" command\n",
    "\n",
    "    \n",
    "</p>"
   ]
  },
  {
   "cell_type": "markdown",
   "id": "8f1144f3",
   "metadata": {
    "slideshow": {
     "slide_type": "subslide"
    }
   },
   "source": [
    "<h3 style='color:red; font-weight:bold; text-align:center; font-family: \"Times New Roman\", Times, serif; font-size:20px;'>Managing processes with ps, top, and kill  </h3><br>\n",
    "<img src=\"process-management.png\" width=\"150\" height=\"250\" style=\"float: left; margin-right: 20px; margin-left: 20px;\">\n",
    "<p align='justify' style='margin: 10px 20px; line-height:1.5; font-family: \"Times New Roman\", Times, serif; font-size:16px; color: purple'>\n",
    "  The ps command is used to view information about active processes running on a Unix-like operating system. It can display a list of all processes or a subset of processes that meet certain criteria. The information displayed includes the process ID (PID), CPU usage, memory usage, status, and more.<br><br><br>Here's the basic syntax for the ps command:\n",
    "\n",
    "</p>"
   ]
  },
  {
   "cell_type": "code",
   "execution_count": null,
   "id": "7a4b3d76",
   "metadata": {
    "slideshow": {
     "slide_type": "subslide"
    }
   },
   "outputs": [],
   "source": [
    "ps [options]"
   ]
  },
  {
   "cell_type": "markdown",
   "id": "4cb299c8",
   "metadata": {
    "slideshow": {
     "slide_type": "subslide"
    }
   },
   "source": [
    "<p align='justify' style='margin: 10px 20px; line-height:1.5; font-family: \"Times New Roman\", Times, serif; font-size:16px; color: purple'>\n",
    "  Some of the most commonly used options for the ps command are:<br><br>\"a:\" Display information about all processes on the system, including those not associated with the current user.<br>\"u:\" Display detailed information about each process, including the username of the user who started the process.<br>\"x:\" Display information about processes that do not have a controlling terminal (i.e., background processes).\n",
    "</p><br>\n",
    "<p align='justify' style='margin: 10px 20px; line-height:1.5; font-family: \"Times New Roman\", Times, serif; font-size:16px; color: black'>\n",
    "  Now let's take a look at some examples to see how we can use these options:<br><br>To display a list of all processes on the system, you can use the following command:\n",
    "</p>"
   ]
  },
  {
   "cell_type": "code",
   "execution_count": null,
   "id": "3c7d3d17",
   "metadata": {
    "slideshow": {
     "slide_type": "subslide"
    }
   },
   "outputs": [],
   "source": [
    "ps -ef"
   ]
  },
  {
   "cell_type": "markdown",
   "id": "478a7703",
   "metadata": {
    "slideshow": {
     "slide_type": "subslide"
    }
   },
   "source": [
    "<p align='justify' style='margin: 10px 20px; line-height:1.5; font-family: \"Times New Roman\", Times, serif; font-size:16px; color: purple'>\n",
    "  This will display information about all processes on the system in a long format, including the process ID, the user who started the process, the CPU and memory usage, and the command that started the process.\n",
    "</p><br>\n",
    "<p align='justify' style='margin: 10px 20px; line-height:1.5; font-family: \"Times New Roman\", Times, serif; font-size:16px; color: black'>\n",
    "  To display a list of all processes that are currently running on the system, you can use the following command:\n",
    "</p>"
   ]
  },
  {
   "cell_type": "code",
   "execution_count": null,
   "id": "58ed977b",
   "metadata": {
    "slideshow": {
     "slide_type": "subslide"
    }
   },
   "outputs": [],
   "source": [
    "ps aux"
   ]
  },
  {
   "cell_type": "markdown",
   "id": "bdc285cd",
   "metadata": {
    "slideshow": {
     "slide_type": "subslide"
    }
   },
   "source": [
    "<p align='justify' style='margin: 10px 20px; line-height:1.5; font-family: \"Times New Roman\", Times, serif; font-size:16px; color: purple'>\n",
    "  This will display information about all running processes in a shorter format, including the user who started the process, the CPU and memory usage, and the command that started the process.\n",
    "</p><br>\n",
    "<p align='justify' style='margin: 10px 20px; line-height:1.5; font-family: \"Times New Roman\", Times, serif; font-size:16px; color: black'>\n",
    "  To display information about a specific process by its PID, you can use the following command:\n",
    "</p>"
   ]
  },
  {
   "cell_type": "code",
   "execution_count": null,
   "id": "ff5a961f",
   "metadata": {
    "slideshow": {
     "slide_type": "subslide"
    }
   },
   "outputs": [],
   "source": [
    "ps -p PID"
   ]
  },
  {
   "cell_type": "markdown",
   "id": "e4229f67",
   "metadata": {
    "slideshow": {
     "slide_type": "subslide"
    }
   },
   "source": [
    "<p align='justify' style='margin: 10px 20px; line-height:1.5; font-family: \"Times New Roman\", Times, serif; font-size:16px; color: purple'>\n",
    "  Replace \"PID\" with the process ID of the process you want to view. This will display detailed information about the process, including the command that started the process, the CPU and memory usage, and more.\n",
    "</p><br>\n",
    "<p align='justify' style='margin: 10px 20px; line-height:1.5; font-family: \"Times New Roman\", Times, serif; font-size:16px; color: black'>\n",
    "  To display a list of all processes running as a specific user, you can use the following command:\n",
    "</p>"
   ]
  },
  {
   "cell_type": "code",
   "execution_count": null,
   "id": "6a43401b",
   "metadata": {
    "slideshow": {
     "slide_type": "subslide"
    }
   },
   "outputs": [],
   "source": [
    "ps -u username"
   ]
  },
  {
   "cell_type": "markdown",
   "id": "fa6caac7",
   "metadata": {
    "slideshow": {
     "slide_type": "subslide"
    }
   },
   "source": [
    "<p align='justify' style='margin: 10px 20px; line-height:1.5; font-family: \"Times New Roman\", Times, serif; font-size:16px; color: purple'>\n",
    "  Replace \"username\" with the name of the user you want to view. This will display a list of all processes that are currently running and were started by the specified user:\n",
    "</p><br>\n",
    "<p align='justify' style='margin: 10px 20px; line-height:1.5; font-family: \"Times New Roman\", Times, serif; font-size:16px; color: black'>\n",
    "  To display a list of all processes that are currently using the CPU, sorted by the amount of CPU time used, you can use the following command:\n",
    "</p>"
   ]
  },
  {
   "cell_type": "code",
   "execution_count": null,
   "id": "ea9cb362",
   "metadata": {
    "slideshow": {
     "slide_type": "subslide"
    }
   },
   "outputs": [],
   "source": [
    "ps aux --sort=-%cpu"
   ]
  },
  {
   "cell_type": "markdown",
   "id": "d5ee7a00",
   "metadata": {
    "slideshow": {
     "slide_type": "subslide"
    }
   },
   "source": [
    "<p align='justify' style='margin: 10px 20px; line-height:1.5; font-family: \"Times New Roman\", Times, serif; font-size:16px; color: purple'>\n",
    "  This will display a list of all running processes, sorted by the amount of CPU time used, with the processes using the most CPU time at the top of the list.\n",
    "</p><br>\n",
    "<p align='justify' style='margin: 10px 20px; line-height:1.5; font-family: \"Times New Roman\", Times, serif; font-size:16px; color: black'>\n",
    "  To display a list of all processes that are currently using the most memory, sorted by the amount of memory used, you can use the following command:\n",
    "</p>"
   ]
  },
  {
   "cell_type": "code",
   "execution_count": null,
   "id": "51626605",
   "metadata": {
    "slideshow": {
     "slide_type": "subslide"
    }
   },
   "outputs": [],
   "source": [
    "ps aux --sort=-%mem"
   ]
  },
  {
   "cell_type": "markdown",
   "id": "4c5ccb4b",
   "metadata": {
    "slideshow": {
     "slide_type": "subslide"
    }
   },
   "source": [
    "<p align='justify' style='margin: 10px 20px; line-height:1.5; font-family: \"Times New Roman\", Times, serif; font-size:16px; color: purple'>\n",
    "  This will display a list of all running processes, sorted by the amount of memory used, with the processes using the most memory at the top of the list.\n",
    "</p><br>\n",
    "<p align='justify' style='margin: 10px 20px; line-height:1.5; font-family: \"Times New Roman\", Times, serif; font-size:16px; color: black'>\n",
    "  To display a tree-like view of all processes running on the system, you can use the following command:\n",
    "</p>"
   ]
  },
  {
   "cell_type": "code",
   "execution_count": null,
   "id": "0d7de697",
   "metadata": {
    "slideshow": {
     "slide_type": "subslide"
    }
   },
   "outputs": [],
   "source": [
    "ps axjf"
   ]
  },
  {
   "cell_type": "markdown",
   "id": "dc124118",
   "metadata": {
    "slideshow": {
     "slide_type": "subslide"
    }
   },
   "source": [
    "<p align='justify' style='margin: 10px 20px; line-height:1.5; font-family: \"Times New Roman\", Times, serif; font-size:16px; color: purple'>\n",
    "  This will display a hierarchical view of all running processes, with parent processes at the top and child processes indented underneath their parents.\n",
    "\n",
    "</p><br><br>\n",
    "<p align='justify' style='margin: 10px 20px; line-height:1.5; font-family: \"Times New Roman\", Times, serif; font-size:16px; color: black'>\n",
    "    <strong style = \"color: purple\">kill</strong><br><br>In Unix-like operating systems, the kill command is used to send signals to running processes. The most common signal sent with the kill command is the SIGTERM signal, which is used to request that a process terminate gracefully.<br><br>The syntax for using the kill command is as follows:\n",
    "    \n",
    "</p>"
   ]
  },
  {
   "cell_type": "code",
   "execution_count": null,
   "id": "ebecfeb4",
   "metadata": {
    "slideshow": {
     "slide_type": "subslide"
    }
   },
   "outputs": [],
   "source": [
    "kill [signal] [pid]"
   ]
  },
  {
   "cell_type": "markdown",
   "id": "b5e37722",
   "metadata": {
    "slideshow": {
     "slide_type": "subslide"
    }
   },
   "source": [
    "<p align='justify' style='margin: 10px 20px; line-height:1.5; font-family: \"Times New Roman\", Times, serif; font-size:16px; color: purple'>\n",
    "    \"signal:\" This is the signal to send to the process. If no signal is specified, the SIGTERM signal is sent by default.<br>\"pid:\" This is the process ID (PID) of the process to send the signal to.\n",
    "    \n",
    "</p><br>\n",
    "<p align='justify' style='margin: 10px 20px; line-height:1.5; font-family: \"Times New Roman\", Times, serif; font-size:16px; color: purple'>\n",
    "    Here are some examples of using the kill command:\n",
    "    \n",
    "</p><br>\n",
    "<p align='justify' style='margin: 10px 20px; line-height:1.5; font-family: \"Times New Roman\", Times, serif; font-size:16px; color: black'>\n",
    "    To gracefully terminate a process with a specific PID:\n",
    "    \n",
    "</p>"
   ]
  },
  {
   "cell_type": "code",
   "execution_count": null,
   "id": "c0f85c0f",
   "metadata": {
    "slideshow": {
     "slide_type": "subslide"
    }
   },
   "outputs": [],
   "source": [
    "kill 1234"
   ]
  },
  {
   "cell_type": "markdown",
   "id": "3d1adf3d",
   "metadata": {
    "slideshow": {
     "slide_type": "subslide"
    }
   },
   "source": [
    "<p align='justify' style='margin: 10px 20px; line-height:1.5; font-family: \"Times New Roman\", Times, serif; font-size:16px; color: purple'>\n",
    "    This will send the SIGTERM signal to the process with PID 1234, requesting that it terminate gracefully.\n",
    "    \n",
    "</p><br>\n",
    "<p align='justify' style='margin: 10px 20px; line-height:1.5; font-family: \"Times New Roman\", Times, serif; font-size:16px; color: black'>\n",
    "    To forcefully terminate a process with a specific PID:\n",
    "    \n",
    "</p>"
   ]
  },
  {
   "cell_type": "code",
   "execution_count": null,
   "id": "7e9acbb1",
   "metadata": {
    "slideshow": {
     "slide_type": "subslide"
    }
   },
   "outputs": [],
   "source": [
    "kill -9 1234"
   ]
  },
  {
   "cell_type": "markdown",
   "id": "88eb12dd",
   "metadata": {
    "slideshow": {
     "slide_type": "subslide"
    }
   },
   "source": [
    "<p align='justify' style='margin: 10px 20px; line-height:1.5; font-family: \"Times New Roman\", Times, serif; font-size:16px; color: purple'>\n",
    "    This will send the SIGKILL signal to the process with PID 1234, forcing it to terminate immediately.\n",
    "    \n",
    "</p><br>\n",
    "<p align='justify' style='margin: 10px 20px; line-height:1.5; font-family: \"Times New Roman\", Times, serif; font-size:16px; color: purple'>\n",
    "    To gracefully terminate a process by name\n",
    "    \n",
    "</p>"
   ]
  },
  {
   "cell_type": "code",
   "execution_count": null,
   "id": "beed1f5a",
   "metadata": {
    "slideshow": {
     "slide_type": "subslide"
    }
   },
   "outputs": [],
   "source": [
    "killall firefox"
   ]
  },
  {
   "cell_type": "markdown",
   "id": "e08b41e3",
   "metadata": {
    "slideshow": {
     "slide_type": "subslide"
    }
   },
   "source": [
    "<p align='justify' style='margin: 10px 20px; line-height:1.5; font-family: \"Times New Roman\", Times, serif; font-size:16px; color: purple'>\n",
    "    This will send the SIGTERM signal to all processes with the name \"firefox\", requesting that they terminate gracefully.\n",
    "    \n",
    "</p><br>\n",
    "<p align='justify' style='margin: 10px 20px; line-height:1.5; font-family: \"Times New Roman\", Times, serif; font-size:16px; color: black'>\n",
    "    To forcefully terminate a process by name.\n",
    "    \n",
    "</p>"
   ]
  },
  {
   "cell_type": "code",
   "execution_count": null,
   "id": "2689eb62",
   "metadata": {
    "slideshow": {
     "slide_type": "subslide"
    }
   },
   "outputs": [],
   "source": [
    "killall -9 firefox"
   ]
  },
  {
   "cell_type": "markdown",
   "id": "72e80060",
   "metadata": {
    "slideshow": {
     "slide_type": "subslide"
    }
   },
   "source": [
    "<p align='justify' style='margin: 10px 20px; line-height:1.5; font-family: \"Times New Roman\", Times, serif; font-size:16px; color: purple'>\n",
    "    This will send the SIGKILL signal to all processes with the name \"firefox\", forcing them to terminate immediately.\n",
    "    \n",
    "</p><br><br>\n",
    "<h3 style='color:red; font-weight:bold; text-align:center; font-family: \"Times New Roman\", Times, serif; font-size:20px;'>Working with users and groups with useradd, usermod, groupadd, and chgrp </h3><br>\n",
    "<img src=\"hqdefault (4).jpg\" width=\"150\" height=\"250\" style=\"float: left; margin-right: 20px; margin-left: 20px;\">\n",
    "<p align='justify' style='margin: 10px 20px; line-height:1.5; font-family: \"Times New Roman\", Times, serif; font-size:16px; color: black'>\n",
    "  The \"useradd\", \"usermod\", \"groupadd\", and \"chgrp\" commands are used to manage users and groups.\n",
    "\n",
    "</p>\n",
    "<p align='justify' style='margin: 10px 20px; line-height:1.5; font-family: \"Times New Roman\", Times, serif; font-size:16px; color: black'>\n",
    "  In Unix-like operating systems, the useradd command is used to add new users to the system. It creates a new user account with a specified username and assigns a user ID (UID) and group ID (GID) to the new account. The useradd command also creates a home directory for the new user and sets up default configuration files and permissions.\n",
    "\n",
    "</p><br><br>\n",
    "<p align='justify' style='margin: 10px 20px; line-height:1.5; font-family: \"Times New Roman\", Times, serif; font-size:16px; color: purple'>\n",
    "  To use the useradd command, you will typically need root or superuser privileges.<br><br>Here is an example of how to use the useradd command to add a new user with the username \"jdoe\":\n",
    "\n",
    "</p>"
   ]
  },
  {
   "cell_type": "markdown",
   "id": "ed7f4355",
   "metadata": {
    "slideshow": {
     "slide_type": "subslide"
    }
   },
   "source": [
    "sudo useradd jdoe"
   ]
  },
  {
   "cell_type": "markdown",
   "id": "6ffcce98",
   "metadata": {
    "slideshow": {
     "slide_type": "subslide"
    }
   },
   "source": [
    "<p align='justify' style='margin: 10px 20px; line-height:1.5; font-family: \"Times New Roman\", Times, serif; font-size:16px; color: purple'>\n",
    "  This command will create a new user account with the username \"jdoe\" and a default UID and GID. By default, the user's home directory will be created in the /home directory.\n",
    "\n",
    "\n",
    "\n",
    "</p><br>\n",
    "<p align='justify' style='margin: 10px 20px; line-height:1.5; font-family: \"Times New Roman\", Times, serif; font-size:16px; color: black'>\n",
    "  You can also specify additional options when using the useradd command. For example, you can use the \"-m\" option to create a home directory for the new user:\n",
    "\n",
    "</p>"
   ]
  },
  {
   "cell_type": "code",
   "execution_count": null,
   "id": "f9ac1a71",
   "metadata": {
    "slideshow": {
     "slide_type": "subslide"
    }
   },
   "outputs": [],
   "source": [
    "sudo useradd -m jdoe"
   ]
  },
  {
   "cell_type": "markdown",
   "id": "c30dbba3",
   "metadata": {
    "slideshow": {
     "slide_type": "subslide"
    }
   },
   "source": [
    "<p align='justify' style='margin: 10px 20px; line-height:1.5; font-family: \"Times New Roman\", Times, serif; font-size:16px; color: purple'>\n",
    "  This command will create a new user account with the username \"jdoe\" and a home directory in the /home directory.\n",
    "\n",
    "</p><br>\n",
    "<p align='justify' style='margin: 10px 20px; line-height:1.5; font-family: \"Times New Roman\", Times, serif; font-size:16px; color: black'>\n",
    "  You can also use the \"-s\" option to specify a default shell for the new user. For example, to set the default shell to bash, you can use the following command:\n",
    "\n",
    "</p>"
   ]
  },
  {
   "cell_type": "code",
   "execution_count": null,
   "id": "b5dab295",
   "metadata": {
    "slideshow": {
     "slide_type": "subslide"
    }
   },
   "outputs": [],
   "source": [
    "sudo useradd -m -s /bin/bash jdoe"
   ]
  },
  {
   "cell_type": "markdown",
   "id": "188c1735",
   "metadata": {
    "slideshow": {
     "slide_type": "subslide"
    }
   },
   "source": [
    "<p align='justify' style='margin: 10px 20px; line-height:1.5; font-family: \"Times New Roman\", Times, serif; font-size:16px; color: purple'>\n",
    "  This command will create a new user account with the username \"jdoe\", a home directory in the /home directory, and the default shell set to bash.\n",
    "\n",
    "</p><br>\n",
    "<p align='justify' style='margin: 10px 20px; line-height:1.5; font-family: \"Times New Roman\", Times, serif; font-size:16px; color: black'>\n",
    "    <strong style = \"color: purple\">usermod</strong><br><br>The usermod command in Unix-like operating systems is used to modify existing user accounts. This command allows system administrators to make changes to user account information, such as the username, home directory, default shell, and more.\n",
    "    \n",
    "</p><br>\n",
    "<p align='justify' style='margin: 10px 20px; line-height:1.5; font-family: \"Times New Roman\", Times, serif; font-size:16px; color: black'>\n",
    "    Some common uses of the usermod command include changing a user's password, adding the user to a new group, changing the user's default shell, and disabling or locking a user account.\n",
    "    \n",
    "</p><br>\n",
    "<p align='justify' style='margin: 10px 20px; line-height:1.5; font-family: \"Times New Roman\", Times, serif; font-size:16px; color: purple'>\n",
    "    Here are some examples of how to use the usermod command:<br><br>To change a user's default shell\n",
    "    \n",
    "</p>"
   ]
  },
  {
   "cell_type": "code",
   "execution_count": null,
   "id": "fd592765",
   "metadata": {
    "slideshow": {
     "slide_type": "subslide"
    }
   },
   "outputs": [],
   "source": [
    "sudo usermod --shell /bin/bash john"
   ]
  },
  {
   "cell_type": "markdown",
   "id": "c77b8fbe",
   "metadata": {
    "slideshow": {
     "slide_type": "subslide"
    }
   },
   "source": [
    "<p align='justify' style='margin: 10px 20px; line-height:1.5; font-family: \"Times New Roman\", Times, serif; font-size:16px; color: purple'>\n",
    "    This command changes the default shell for the user \"john\" to bash.<br><br>To add a user to a new group:\n",
    "    \n",
    "</p>"
   ]
  },
  {
   "cell_type": "code",
   "execution_count": null,
   "id": "5ddeb321",
   "metadata": {
    "slideshow": {
     "slide_type": "subslide"
    }
   },
   "outputs": [],
   "source": [
    "sudo usermod -a -G audio john"
   ]
  },
  {
   "cell_type": "markdown",
   "id": "b7b14c31",
   "metadata": {
    "slideshow": {
     "slide_type": "subslide"
    }
   },
   "source": [
    "<p align='justify' style='margin: 10px 20px; line-height:1.5; font-family: \"Times New Roman\", Times, serif; font-size:16px; color: purple'>\n",
    "    This command adds the user \"john\" to the \"audio\" group.<br><br>To change a user's home directory:\n",
    "    \n",
    "</p>"
   ]
  },
  {
   "cell_type": "code",
   "execution_count": null,
   "id": "4d6909cd",
   "metadata": {
    "slideshow": {
     "slide_type": "subslide"
    }
   },
   "outputs": [],
   "source": [
    "sudo usermod --home /home/newhome john"
   ]
  },
  {
   "cell_type": "markdown",
   "id": "148fbcc3",
   "metadata": {
    "slideshow": {
     "slide_type": "subslide"
    }
   },
   "source": [
    "<p align='justify' style='margin: 10px 20px; line-height:1.5; font-family: \"Times New Roman\", Times, serif; font-size:16px; color: purple'>\n",
    "    This command changes the home directory for the user \"john\" to \"/home/newhome\".\n",
    "    \n",
    "</p><br><br>\n",
    "<p align='justify' style='margin: 10px 20px; line-height:1.5; font-family: \"Times New Roman\", Times, serif; font-size:16px; color: black'>\n",
    "    <strong style = \"color: purple\">groupadd</strong><br><br>The groupadd command is used to create a new group in Unix-like operating systems. Groups are used to organize users and provide access control to files and directories.\n",
    "    \n",
    "</p><br>\n",
    "<p align='justify' style='margin: 10px 20px; line-height:1.5; font-family: \"Times New Roman\", Times, serif; font-size:16px; color: purple'>\n",
    "    To create a new group using the groupadd command, you can simply specify the name of the group as an argument. For example, to create a new group called \"mygroup\", you can use the following command:\n",
    "    \n",
    "</p>"
   ]
  },
  {
   "cell_type": "code",
   "execution_count": null,
   "id": "83da67ef",
   "metadata": {
    "slideshow": {
     "slide_type": "subslide"
    }
   },
   "outputs": [],
   "source": [
    "sudo groupadd mygroup"
   ]
  },
  {
   "cell_type": "markdown",
   "id": "f23ebfe1",
   "metadata": {
    "slideshow": {
     "slide_type": "subslide"
    }
   },
   "source": [
    "<p align='justify' style='margin: 10px 20px; line-height:1.5; font-family: \"Times New Roman\", Times, serif; font-size:16px; color: purple'>\n",
    "    By default, the groupadd command creates a new group with a Group ID (GID) that is one more than the highest existing GID. You can also specify a specific GID using the -g option. For example, to create a new group called \"mygroup\" with a GID of 1001, you can use the following command:\n",
    "    \n",
    "</p>"
   ]
  },
  {
   "cell_type": "code",
   "execution_count": null,
   "id": "2a6b4bee",
   "metadata": {
    "slideshow": {
     "slide_type": "subslide"
    }
   },
   "outputs": [],
   "source": [
    "sudo groupadd -g 1001 mygroup"
   ]
  },
  {
   "cell_type": "markdown",
   "id": "4fa19405",
   "metadata": {
    "slideshow": {
     "slide_type": "subslide"
    }
   },
   "source": [
    "<p align='justify' style='margin: 10px 20px; line-height:1.5; font-family: \"Times New Roman\", Times, serif; font-size:16px; color: purple'>\n",
    "    Once the group is created, you can add users to the group using the usermod command. For example, to add a user called \"myuser\" to the \"mygroup\" group, you can use the following command:\n",
    "</p>"
   ]
  },
  {
   "cell_type": "code",
   "execution_count": null,
   "id": "1f443cb1",
   "metadata": {
    "slideshow": {
     "slide_type": "subslide"
    }
   },
   "outputs": [],
   "source": [
    "sudo usermod -a -G mygroup myuser"
   ]
  },
  {
   "cell_type": "markdown",
   "id": "7dfb76e3",
   "metadata": {
    "slideshow": {
     "slide_type": "subslide"
    }
   },
   "source": [
    "<p align='justify' style='margin: 10px 20px; line-height:1.5; font-family: \"Times New Roman\", Times, serif; font-size:16px; color: purple'>\n",
    "    This will add the user \"myuser\" to the \"mygroup\" group. The -a option is used to add the user to the group, while the -G option specifies the name of the group to add the user to.\n",
    "\n",
    "</p><br>\n",
    "<p align='justify' style='margin: 10px 20px; line-height:1.5; font-family: \"Times New Roman\", Times, serif; font-size:16px; color: black'>\n",
    "    <strong style = \"color: purple\">chgrp</strong><br><br>The chgrp command in Unix-like operating systems is used to change the group ownership of a file or directory. The command requires the name of the group that the file or directory will be assigned to.<br><br>Here is an example:\n",
    "    \n",
    "</p>"
   ]
  },
  {
   "cell_type": "code",
   "execution_count": null,
   "id": "a3483751",
   "metadata": {
    "slideshow": {
     "slide_type": "subslide"
    }
   },
   "outputs": [],
   "source": [
    "chgrp group1 file1.txt"
   ]
  },
  {
   "cell_type": "markdown",
   "id": "54080739",
   "metadata": {
    "slideshow": {
     "slide_type": "subslide"
    }
   },
   "source": [
    "<p align='justify' style='margin: 10px 20px; line-height:1.5; font-family: \"Times New Roman\", Times, serif; font-size:16px; color: purple'>\n",
    "    This command changes the group ownership of file1.txt to group1.<br><br>You can also use the -R option to change the group ownership of a directory and its contents recursively:\n",
    "    \n",
    "</p>"
   ]
  },
  {
   "cell_type": "code",
   "execution_count": null,
   "id": "5a9ce466",
   "metadata": {
    "slideshow": {
     "slide_type": "subslide"
    }
   },
   "outputs": [],
   "source": [
    "chgrp -R group2 dir1/"
   ]
  },
  {
   "cell_type": "markdown",
   "id": "2a0a363e",
   "metadata": {
    "slideshow": {
     "slide_type": "subslide"
    }
   },
   "source": [
    "<p align='justify' style='margin: 10px 20px; line-height:1.5; font-family: \"Times New Roman\", Times, serif; font-size:16px; color: purple'>\n",
    "    This command changes the group ownership of dir1/ and all of its contents to group2.<br><br>In addition to specifying the group by name, you can also use the group's numeric ID (GID) to set the group ownership:\n",
    "    \n",
    "</p>"
   ]
  },
  {
   "cell_type": "code",
   "execution_count": null,
   "id": "1e70d31c",
   "metadata": {
    "slideshow": {
     "slide_type": "subslide"
    }
   },
   "outputs": [],
   "source": [
    "chgrp 123 file2.txt"
   ]
  },
  {
   "cell_type": "markdown",
   "id": "0a576c63",
   "metadata": {
    "slideshow": {
     "slide_type": "subslide"
    }
   },
   "source": [
    "<p align='justify' style='margin: 10px 20px; line-height:1.5; font-family: \"Times New Roman\", Times, serif; font-size:16px; color: purple'>\n",
    "    This command changes the group ownership of file2.txt to the group with GID 123.You can use the getent command to check for the group numeric ID. Here's an example:\n",
    "    \n",
    "</p>"
   ]
  },
  {
   "cell_type": "code",
   "execution_count": null,
   "id": "47dcc3ef",
   "metadata": {
    "slideshow": {
     "slide_type": "subslide"
    }
   },
   "outputs": [],
   "source": [
    "getent group group_name"
   ]
  },
  {
   "cell_type": "markdown",
   "id": "58ebea2e",
   "metadata": {
    "slideshow": {
     "slide_type": "subslide"
    }
   },
   "source": [
    "<p align='justify' style='margin: 10px 20px; line-height:1.5; font-family: \"Times New Roman\", Times, serif; font-size:16px; color: black'>\n",
    "    This will output information about the group, including its numeric ID. The numeric ID is listed as the third field, separated by colons.\n",
    "    \n",
    "</p>\n",
    "<p align='justify' style='margin: 10px 20px; line-height:1.5; font-family: \"Times New Roman\", Times, serif; font-size:16px; color: black'>\n",
    "  It's important to note that these commands must be run as the root user, or with sudo, in order to have the necessary privileges to modify user and group information.\n",
    "\n",
    "</p><br><br><br>\n",
    "<h3 style='color:red; font-weight:bold; text-align:center; font-family: \"Times New Roman\", Times, serif; font-size:20px;'>Customizing the shell with environment variables and aliases </h3><br>\n",
    "<img src=\"Linux-Environment-Variables.jpg\" width=\"150\" height=\"250\" style=\"float: left; margin-right: 20px; margin-left: 20px;\">\n",
    "<p align='justify' style='margin: 10px 20px; line-height:1.5; font-family: \"Times New Roman\", Times, serif; font-size:16px; color: purple'>\n",
    "  In Unix-like operating systems, the shell is the command-line interface that allows users to interact with the system. The shell has many features that can be customized to suit the user's preferences and needs. Two of the most common ways to customize the shell are through environment variables and aliases.\n",
    "</p><br>\n",
    "<p align='justify' style='margin: 10px 20px; line-height:1.5; font-family: \"Times New Roman\", Times, serif; font-size:16px; color: black'>\n",
    "  Environment variables are variables that are set in the shell's environment and can be used by shell scripts and programs to obtain information about the system or to configure behavior. Some common environment variables include PATH, which specifies the directories in which executable programs are located, and HOME, which specifies the user's home directory.\n",
    "</p><br>\n",
    "<p align='justify' style='margin: 10px 20px; line-height:1.5; font-family: \"Times New Roman\", Times, serif; font-size:16px; color: purple'>\n",
    "  To view the current values of environment variables, you can use the \"echo\" command followed by the variable name, like this:\n",
    "</p>"
   ]
  },
  {
   "cell_type": "markdown",
   "id": "e260c842",
   "metadata": {
    "slideshow": {
     "slide_type": "subslide"
    }
   },
   "source": [
    "echo $PATH"
   ]
  },
  {
   "cell_type": "markdown",
   "id": "4eaab641",
   "metadata": {
    "slideshow": {
     "slide_type": "subslide"
    }
   },
   "source": [
    "<p align='justify' style='margin: 10px 20px; line-height:1.5; font-family: \"Times New Roman\", Times, serif; font-size:16px; color: purple'>\n",
    "  To set a new value for an environment variable, you can use the \"export\" command followed by the variable name and value, like this:\n",
    "\n",
    "</p>"
   ]
  },
  {
   "cell_type": "code",
   "execution_count": null,
   "id": "880907b5",
   "metadata": {
    "slideshow": {
     "slide_type": "subslide"
    }
   },
   "outputs": [],
   "source": [
    "export MYVAR=\"hello world\""
   ]
  },
  {
   "cell_type": "markdown",
   "id": "24043cc9",
   "metadata": {
    "slideshow": {
     "slide_type": "subslide"
    }
   },
   "source": [
    "<p align='justify' style='margin: 10px 20px; line-height:1.5; font-family: \"Times New Roman\", Times, serif; font-size:16px; color: purple'>\n",
    "  This sets the MYVAR variable to the value \"hello world\". To make this change permanent, you can add the export command to your shell configuration file, such as ~/.bashrc.\n",
    "\n",
    "</p><br><br>\n",
    "<p align='justify' style='margin: 10px 20px; line-height:1.5; font-family: \"Times New Roman\", Times, serif; font-size:16px; color: black'>\n",
    "    <b style = \"color: purple\">alias</b><br><br>Aliases are another way to customize the shell. An alias is a shorthand name for a command or set of commands. For example, you could create an alias called \"ll\" that is equivalent to the \"ls -l\" command. To create an alias, you can use the \"alias\" command followed by the alias name and the command it should execute, like this:\n",
    "\n",
    "</p>"
   ]
  },
  {
   "cell_type": "code",
   "execution_count": null,
   "id": "44bca7e5",
   "metadata": {
    "slideshow": {
     "slide_type": "subslide"
    }
   },
   "outputs": [],
   "source": [
    "alias ll=\"ls -l\""
   ]
  },
  {
   "cell_type": "markdown",
   "id": "d37bf5ac",
   "metadata": {
    "slideshow": {
     "slide_type": "subslide"
    }
   },
   "source": [
    "<p align='justify' style='margin: 10px 20px; line-height:1.5; font-family: \"Times New Roman\", Times, serif; font-size:16px; color: purple'>\n",
    "    Now, when you type \"ll\" in the shell, it will execute the \"ls -l\" command.<br><br>To make aliases permanent, you can add them to your shell configuration file. For example, to add the above \"ll\" alias to your ~/.bashrc file, you can use a text editor to add the following line:\n",
    "\n",
    "</p>"
   ]
  },
  {
   "cell_type": "code",
   "execution_count": null,
   "id": "99e1f346",
   "metadata": {
    "slideshow": {
     "slide_type": "subslide"
    }
   },
   "outputs": [],
   "source": [
    "alias ll=\"ls -l\""
   ]
  },
  {
   "cell_type": "markdown",
   "id": "8ef89b31",
   "metadata": {
    "slideshow": {
     "slide_type": "subslide"
    }
   },
   "source": [
    "<p align='justify' style='margin: 10px 20px; line-height:1.5; font-family: \"Times New Roman\", Times, serif; font-size:16px; color: purple'>\n",
    "    Customizing the shell with environment variables and aliases can make working with the shell more efficient and convenient, and can help to personalize the shell to your specific needs.\n",
    "\n",
    "</p>"
   ]
  },
  {
   "cell_type": "markdown",
   "id": "f6a491e3",
   "metadata": {
    "slideshow": {
     "slide_type": "subslide"
    }
   },
   "source": [
    "<h3 style='color:red; font-weight:bold; text-align:center; font-family: \"Times New Roman\", Times, serif; font-size:20px;'> Using text editors like nano, vi and emacs</h3><br>\n",
    "<img src=\"best-command-line-text-editor-scaled.jpg\" width=\"150\" height=\"250\" style=\"float: left; margin-right: 20px; margin-left: 20px;\">\n",
    "<p align='justify' style='margin: 10px 20px; line-height:1.5; font-family: \"Times New Roman\", Times, serif; font-size:16px; color: black'>\n",
    "  Nano is a simple and easy-to-use text editor that is often included by default on Unix-like systems such as Linux and macOS. It is a good choice for users who are new to text editors or who need to make basic edits to text files. Nano has a straightforward interface and includes on-screen prompts and shortcuts to help users navigate and perform common tasks.\n",
    "</p><br>\n",
    "<p align='justify' style='margin: 10px 20px; line-height:1.5; font-family: \"Times New Roman\", Times, serif; font-size:16px; color: black'>\n",
    "  Vi and Emacs are more advanced text editors that are widely used by programmers and system administrators. Vi is a compact and efficient editor that is known for its speed and versatility. It is a modal editor, which means that it has different modes for inserting and editing text, as well as for issuing commands. Emacs is a more feature-rich editor that is known for its extensibility and customization options. It includes a wide range of features such as a built-in programming language, support for multiple buffers, and integration with a variety of tools and services. Like Vi, Emacs is a modal editor, but it has a more complex mode system and a larger set of commands.\n",
    "</p><br>\n",
    "<p align='justify' style='margin: 10px 20px; line-height:1.5; font-family: \"Times New Roman\", Times, serif; font-size:16px; color: purple'>\n",
    "  If you are new to text editors, you may want to start with Nano and then move on to Vi or Emacs once you are more comfortable with the basics. Both Vi and Emacs have a steep learning curve and can take some time to master, but they are powerful tools that are widely used by experienced programmers and system administrators.\n",
    "</p>"
   ]
  },
  {
   "cell_type": "markdown",
   "id": "5155e2d4",
   "metadata": {
    "slideshow": {
     "slide_type": "subslide"
    }
   },
   "source": [
    "<h3 style='color:red; font-weight:bold; text-align:center; font-family: \"Times New Roman\", Times, serif; font-size:20px;'> Using cron and at to schedule tasks</h3><br>\n",
    "<img src=\"crontab.png\" width=\"150\" height=\"250\" style=\"float: left; margin-right: 20px; margin-left: 20px;\">\n",
    "<p align='justify' style='margin: 10px 20px; line-height:1.5; font-family: \"Times New Roman\", Times, serif; font-size:16px; color: purple'>\n",
    "  Cron and at are two tools that can be used to schedule tasks to run automatically at a specified time or interval. Cron is a daemon that runs on Unix-like systems such as Linux and macOS. It allows users to schedule tasks to run automatically in the background at a specified time or interval. \n",
    "</p><br>\n",
    "<p align='justify' style='margin: 10px 20px; line-height:1.5; font-family: \"Times New Roman\", Times, serif; font-size:16px; color: black'>\n",
    "  To use cron, you will need to create a crontab file that specifies the tasks to be run and the schedule on which they should be run. Each line in the crontab file represents a separate task and consists of six fields: minute, hour, day of month, month, day of week, and the command to be run. here are a few examples of using the crontab command directly to schedule jobs without using a file:\n",
    "</p>"
   ]
  },
  {
   "cell_type": "code",
   "execution_count": 19,
   "id": "91f239f2",
   "metadata": {
    "slideshow": {
     "slide_type": "subslide"
    }
   },
   "outputs": [],
   "source": [
    "crontab -e"
   ]
  },
  {
   "cell_type": "markdown",
   "id": "69e9ed7c",
   "metadata": {
    "slideshow": {
     "slide_type": "subslide"
    }
   },
   "source": [
    "<p align='justify' style='margin: 10px 20px; line-height:1.5; font-family: \"Times New Roman\", Times, serif; font-size:16px; color: black'>\n",
    "  Then add the following line to the crontab:\n",
    "</p>"
   ]
  },
  {
   "cell_type": "code",
   "execution_count": null,
   "id": "d29d76b8",
   "metadata": {
    "slideshow": {
     "slide_type": "subslide"
    }
   },
   "outputs": [],
   "source": [
    "0 * * * * /path/to/command"
   ]
  },
  {
   "cell_type": "markdown",
   "id": "ec68cfa5",
   "metadata": {
    "slideshow": {
     "slide_type": "subslide"
    }
   },
   "source": [
    "<p align='justify' style='margin: 10px 20px; line-height:1.5; font-family: \"Times New Roman\", Times, serif; font-size:16px; color: black'>\n",
    "  This will run the specified command at the beginning of every hour.<br><br>here's an example of scheduling the sleep command to run every hour:\n",
    "</p>"
   ]
  },
  {
   "cell_type": "code",
   "execution_count": null,
   "id": "546f2f16",
   "metadata": {
    "slideshow": {
     "slide_type": "subslide"
    }
   },
   "outputs": [],
   "source": [
    "0 * * * * sleep 3600"
   ]
  },
  {
   "cell_type": "markdown",
   "id": "eef8534c",
   "metadata": {
    "slideshow": {
     "slide_type": "subslide"
    }
   },
   "source": [
    "<p align='justify' style='margin: 10px 20px; line-height:1.5; font-family: \"Times New Roman\", Times, serif; font-size:16px; color: black'>\n",
    "  This will run the sleep command for 3600 seconds (1 hour) every hour, on the hour. Note that the full path to the sleep command is not necessary, as it is a built-in command in most shells.<br><br>Here is an example of using the cron job to execute a Python script every hour:\n",
    "</p>"
   ]
  },
  {
   "cell_type": "code",
   "execution_count": null,
   "id": "0bb41f09",
   "metadata": {},
   "outputs": [],
   "source": [
    "0 * * * * /usr/bin/python3 /path/to/script.py"
   ]
  },
  {
   "cell_type": "markdown",
   "id": "c58c07fb",
   "metadata": {},
   "source": [
    "<p align='justify' style='margin: 10px 20px; line-height:1.5; font-family: \"Times New Roman\", Times, serif; font-size:16px; color: black'>\n",
    "  This will run the script.py file every hour at 0 minutes past the hour. The /usr/bin/python3 specifies the path to the Python interpreter, and the /path/to/script.py specifies the path to the Python script to be executed.\n",
    "</p><br><br><br>\n",
    "<p align='justify' style='margin: 10px 20px; line-height:1.5; font-family: \"Times New Roman\", Times, serif; font-size:16px; color: purple'>\n",
    "    <strong>At</strong> is a command-line utility that allows you to schedule a task to run once at a specific time in the future. To use at, you will need to specify the time and date at which you want the task to run, and then enter the commands to be run in an interactive shell. The at command is used to schedule one-time commands to be executed in the future.<br><br> Here are some examples:\n",
    "</p>"
   ]
  },
  {
   "cell_type": "code",
   "execution_count": 20,
   "id": "eaea3ec9",
   "metadata": {
    "slideshow": {
     "slide_type": "subslide"
    }
   },
   "outputs": [],
   "source": [
    "at 10:30am tomorrow\n",
    "at> echo \"Run this command tomorrow at 10:30am\"\n",
    "at> <CTRL+D>"
   ]
  },
  {
   "cell_type": "markdown",
   "id": "103a5261",
   "metadata": {
    "slideshow": {
     "slide_type": "subslide"
    }
   },
   "source": [
    "<p align='justify' style='margin: 10px 20px; line-height:1.5; font-family: \"Times New Roman\", Times, serif; font-size:16px; color: purple'>\n",
    "    In the example provided, the at command is used to schedule a job to run at a specific time. The command at 10:30am tomorrow specifies the time at which the job should run, which is 10:30am the next day. Once the at command is entered, it waits for input from the user.<br><br>The next line, at> echo \"Run this command tomorrow at 10:30am\", specifies the command that should be run at the scheduled time. In this case, it is a simple echo command that outputs the text \"Run this command tomorrow at 10:30am\".<br><br>After the command is entered, the user can exit the at command by pressing CTRL+D. This will submit the job to the system, which will execute it at the specified time. The user will receive an email notification when the job is complete or if there are any errors.<br><br><br>List all scheduled jobs:\n",
    "</p>"
   ]
  },
  {
   "cell_type": "code",
   "execution_count": null,
   "id": "4898c5c8",
   "metadata": {
    "slideshow": {
     "slide_type": "subslide"
    }
   },
   "outputs": [],
   "source": [
    "atq"
   ]
  },
  {
   "cell_type": "markdown",
   "id": "08d2c8b9",
   "metadata": {
    "slideshow": {
     "slide_type": "subslide"
    }
   },
   "source": [
    "<p align='justify' style='margin: 10px 20px; line-height:1.5; font-family: \"Times New Roman\", Times, serif; font-size:16px; color: black'>\n",
    "  Remove a scheduled job:\n",
    "</p>"
   ]
  },
  {
   "cell_type": "code",
   "execution_count": null,
   "id": "59874fd2",
   "metadata": {
    "slideshow": {
     "slide_type": "subslide"
    }
   },
   "outputs": [],
   "source": [
    "atrm <job_number>"
   ]
  },
  {
   "cell_type": "markdown",
   "id": "d08162cd",
   "metadata": {
    "slideshow": {
     "slide_type": "subslide"
    }
   },
   "source": [
    "<p align='justify' style='margin: 10px 20px; line-height:1.5; font-family: \"Times New Roman\", Times, serif; font-size:16px; color: purple'>\n",
    "    Both cron and at are useful tools for automating tasks on a Unix-like system. They can be used to perform a wide range of tasks, such as running backups, sending emails, or updating system software.\n",
    "</p><br>\n",
    "<h3 style='color:red; font-weight:bold; text-align:center; font-family: \"Times New Roman\", Times, serif; font-size:20px;'>Exercise 2: Advanced Unix and Linux commands </h3><br>\n",
    "<p align='justify' style='margin: 10px 20px; line-height:1.5; font-family: \"Times New Roman\", Times, serif; font-size:16px; color: purple'>\n",
    "    \n",
    "    \n",
    "  <ul style='font-family: \"Times New Roman\", Times, serif; font-weight:light; font-size:16px;'>\n",
    "      <li>Q1. How can you use the ps command to list all processes running on a system?</li>\n",
    "      <li>Q2. How can you use the top command to view and manage processes on a system?</li>\n",
    "      <li>Q3. What is the syntax for using the kill command to terminate a process?</li>\n",
    "      <li>Q4. How can you use the ps command to find the process ID (PID) of a specific process?</li>\n",
    "      <li>Q5. Can you use the kill command to terminate multiple processes at the same time? If so, how?</li>\n",
    "      <li>Q6. What is the syntax for using the usermod command to modify the properties of an existing user?</li>\n",
    "      <li>Q7. How can you use the groupadd command to create a new group on a system?</li>\n",
    "      <li>Q8. What is the syntax for using the chgrp command to change the group ownership of a file or directory?</li>\n",
    "      <li>Q9. Can you use the useradd command to add a user to multiple groups at the same time? If so, how?</li>\n",
    "      <li>Q10. How can you create and view aliases in the shell?</li>\n",
    "    \n",
    "    \n",
    "  </ul>\n",
    "</p>"
   ]
  },
  {
   "cell_type": "markdown",
   "id": "494ffc54",
   "metadata": {
    "slideshow": {
     "slide_type": "slide"
    }
   },
   "source": [
    "<h2 style='color:red; font-weight:bold; text-align:center; font-family: \"Times New Roman\", Times, serif; font-size:22px;'> CHAPTER THREE: SHELL SCRIPTING</h2><br>\n",
    "<img src=\"Introduction-To-Shell-Scripting.jpg\" width=\"150\" height=\"250\" style=\"float: left; margin-right: 20px; margin-left: 20px;\">\n",
    "<p align='justify' style='margin: 10px 20px; line-height:1.5; font-family: \"Times New Roman\", Times, serif; font-size:16px; color: purple'>\n",
    "  Shell scripting is a way to automate repetitive tasks or to perform complex operations on your computer. A shell script is simply a file containing a series of commands that are executed sequentially in the same way you would execute them in the command line.\n",
    "</p><br>\n",
    "\n",
    "<p align='justify' style='margin: 10px 20px; line-height:1.5; font-family: \"Times New Roman\", Times, serif; font-size:16px; color: black'>\n",
    "  To create a shell script, you'll need to choose a text editor to write your script in, such as Nano or Vim. Once you've opened a new file, you'll start by declaring the shell you're using at the top of the file. For example, to use the bash shell, you would start your script with:\n",
    "</p>"
   ]
  },
  {
   "cell_type": "code",
   "execution_count": null,
   "id": "df852f5d",
   "metadata": {
    "slideshow": {
     "slide_type": "subslide"
    }
   },
   "outputs": [],
   "source": [
    "#!/bin/bash"
   ]
  },
  {
   "cell_type": "markdown",
   "id": "13e741b6",
   "metadata": {
    "slideshow": {
     "slide_type": "subslide"
    }
   },
   "source": [
    "<p align='justify' style='margin: 10px 20px; line-height:1.5; font-family: \"Times New Roman\", Times, serif; font-size:16px; color: purple'>\n",
    "  This tells the system which shell to use to run your script. You can then add any number of commands to your script, just as you would in the command line. For example, here's a simple script that prints \"Hello, World!\" to the terminal:\n",
    "</p>"
   ]
  },
  {
   "cell_type": "code",
   "execution_count": null,
   "id": "84331619",
   "metadata": {
    "slideshow": {
     "slide_type": "subslide"
    }
   },
   "outputs": [],
   "source": [
    "#!/bin/bash\n",
    "\n",
    "echo \"Hello, World!\""
   ]
  },
  {
   "cell_type": "markdown",
   "id": "239a3677",
   "metadata": {
    "slideshow": {
     "slide_type": "subslide"
    }
   },
   "source": [
    "<p align='justify' style='margin: 10px 20px; line-height:1.5; font-family: \"Times New Roman\", Times, serif; font-size:16px; color: purple'>\n",
    "  To run this script, it should be written using a text editor such as nano or vi and saved with a .sh file extension. You'll also need to make it executable using the chmod command to allow it to be executed as a program. For example:\n",
    "</p>"
   ]
  },
  {
   "cell_type": "code",
   "execution_count": null,
   "id": "8045af41",
   "metadata": {
    "slideshow": {
     "slide_type": "subslide"
    }
   },
   "outputs": [],
   "source": [
    "chmod +x myscript.sh"
   ]
  },
  {
   "cell_type": "markdown",
   "id": "b7fc4b7b",
   "metadata": {
    "slideshow": {
     "slide_type": "subslide"
    }
   },
   "source": [
    "<p align='justify' style='margin: 10px 20px; line-height:1.5; font-family: \"Times New Roman\", Times, serif; font-size:16px; color: purple'>\n",
    "  This sets the executable bit on the file, allowing you to run it like any other program. You can then run the script with:\n",
    "</p>"
   ]
  },
  {
   "cell_type": "code",
   "execution_count": null,
   "id": "79276327",
   "metadata": {
    "slideshow": {
     "slide_type": "subslide"
    }
   },
   "outputs": [],
   "source": [
    "./myscript.sh"
   ]
  },
  {
   "cell_type": "markdown",
   "id": "83b6388e",
   "metadata": {
    "slideshow": {
     "slide_type": "subslide"
    }
   },
   "source": [
    "<p align='justify' style='margin: 10px 20px; line-height:1.5; font-family: \"Times New Roman\", Times, serif; font-size:16px; color: purple'>\n",
    "  In shell scripting, the \"./\" notation is used to execute a script or program that is located in the current directory.<br><br>When you execute a command in the shell, the shell searches for that command in the directories listed in the PATH environment variable. By using the \"./\" notation, you are telling the shell to look in the current directory for the script or program you want to execute, instead of searching in the directories listed in the PATH variable.\n",
    "</p><br><br>\n",
    "<p align='justify' style='margin: 10px 20px; line-height:1.5; font-family: \"Times New Roman\", Times, serif; font-size:16px; color: black'>\n",
    "  To run a script that is not in the current directory, you can provide the full path to the script or a relative path from the current directory.<br><br>For example, if the script is located in the directory \"/home/user/scripts\" and is called \"myscript.sh\", you can run it by typing:\n",
    "\n",
    "\n",
    "</p>"
   ]
  },
  {
   "cell_type": "code",
   "execution_count": null,
   "id": "0913ca2c",
   "metadata": {
    "slideshow": {
     "slide_type": "subslide"
    }
   },
   "outputs": [],
   "source": [
    "/home/user/scripts/myscript.sh"
   ]
  },
  {
   "cell_type": "markdown",
   "id": "e063f1cb",
   "metadata": {
    "slideshow": {
     "slide_type": "subslide"
    }
   },
   "source": [
    "<p align='justify' style='margin: 10px 20px; line-height:1.5; font-family: \"Times New Roman\", Times, serif; font-size:16px; color: purple'>\n",
    "  Alternatively, if you are currently in the \"/home/user\" directory, you can run the script using a relative path:\n",
    "\n",
    "\n",
    "</p>"
   ]
  },
  {
   "cell_type": "code",
   "execution_count": null,
   "id": "4a47a9b0",
   "metadata": {
    "slideshow": {
     "slide_type": "subslide"
    }
   },
   "outputs": [],
   "source": [
    "./scripts/myscript.sh"
   ]
  },
  {
   "cell_type": "markdown",
   "id": "9359ecf0",
   "metadata": {
    "slideshow": {
     "slide_type": "subslide"
    }
   },
   "source": [
    "<p align='justify' style='margin: 10px 20px; line-height:1.5; font-family: \"Times New Roman\", Times, serif; font-size:16px; color: purple'>\n",
    "  Note that in both cases, the script must have execute permissions in order to be run. You can use the \"chmod\" command to add execute permissions to the script, like this:\n",
    "\n",
    "\n",
    "</p>"
   ]
  },
  {
   "cell_type": "code",
   "execution_count": null,
   "id": "af6136ab",
   "metadata": {
    "slideshow": {
     "slide_type": "subslide"
    }
   },
   "outputs": [],
   "source": [
    "chmod +x /home/user/scripts/myscript.sh"
   ]
  },
  {
   "cell_type": "markdown",
   "id": "f32b87a0",
   "metadata": {
    "slideshow": {
     "slide_type": "subslide"
    }
   },
   "source": [
    "<p align='justify' style='margin: 10px 20px; line-height:1.5; font-family: \"Times New Roman\", Times, serif; font-size:16px; color: purple'>\n",
    "  You can also pass arguments to your script using the $1, $2, etc. variables. For example, if you wanted to print a custom message, you could modify the script like this:\n",
    "</p>"
   ]
  },
  {
   "cell_type": "code",
   "execution_count": null,
   "id": "34d400a6",
   "metadata": {
    "slideshow": {
     "slide_type": "subslide"
    }
   },
   "outputs": [],
   "source": [
    "#!/bin/bash\n",
    "\n",
    "echo \"Hello, $1!\""
   ]
  },
  {
   "cell_type": "markdown",
   "id": "b81830bf",
   "metadata": {
    "slideshow": {
     "slide_type": "subslide"
    }
   },
   "source": [
    "<p align='justify' style='margin: 10px 20px; line-height:1.5; font-family: \"Times New Roman\", Times, serif; font-size:16px; color: purple'>\n",
    "  Then, you could run the script like this:\n",
    "</p>"
   ]
  },
  {
   "cell_type": "code",
   "execution_count": null,
   "id": "2547cedc",
   "metadata": {
    "slideshow": {
     "slide_type": "subslide"
    }
   },
   "outputs": [],
   "source": [
    "./myscript.sh John"
   ]
  },
  {
   "cell_type": "markdown",
   "id": "b2e36783",
   "metadata": {
    "slideshow": {
     "slide_type": "subslide"
    }
   },
   "source": [
    "<p align='justify' style='margin: 10px 20px; line-height:1.5; font-family: \"Times New Roman\", Times, serif; font-size:16px; color: purple'>\n",
    "  And the output of the script will be Hello, John!\n",
    "</p><br>\n",
    "<h3 style='color:red; font-weight:bold; text-align:center; font-family: \"Times New Roman\", Times, serif; font-size:20px;'>Permissions </h3><br>\n",
    "<p align='justify' style='margin: 10px 20px; line-height:1.5; font-family: \"Times New Roman\", Times, serif; font-size:16px; color: black'>\n",
    "  In Unix-like operating systems, file permissions are used to determine who can read, write, and execute a file or directory. There are three basic permissions: read, write, and execute, and these permissions can be granted to three categories of users: the owner of the file, members of the group that the file belongs to, and all other users.\n",
    "</p><br>\n",
    "<p align='justify' style='margin: 10px 20px; line-height:1.5; font-family: \"Times New Roman\", Times, serif; font-size:16px; color: purple'>\n",
    "    \n",
    "    \n",
    "  <ul style='font-family: \"Times New Roman\", Times, serif; font-weight:light; font-size:16px;'>\n",
    "      <li><strong style = \"color: purple\">Read permission:  </strong> Allows a user to view the contents of a file or directory. For a directory, it allows the user to list its contents.</li><br>\n",
    "      <li><strong style = \"color: purple\">Write permission:  </strong> Allows a user to modify the contents of a file or directory. For a directory, it allows the user to add or delete files.</li><br>\n",
    "      <li><strong style = \"color: purple\">Execute permission:  </strong> Allows a user to execute a file as a program or shell script. For a directory, it allows the user to access files and subdirectories within the directory.</li>\n",
    "      \n",
    "    \n",
    "    \n",
    "  </ul>\n",
    "</p><br>\n",
    "<p align='justify' style='margin: 10px 20px; line-height:1.5; font-family: \"Times New Roman\", Times, serif; font-size:16px; color: purple'>\n",
    "  Each of these permissions can be represented by a digit:\n",
    "</p>"
   ]
  },
  {
   "cell_type": "markdown",
   "id": "156ce3a3",
   "metadata": {
    "slideshow": {
     "slide_type": "subslide"
    }
   },
   "source": [
    "<p align='justify' style='margin: 10px 20px; line-height:1.5; font-family: \"Times New Roman\", Times, serif; font-size:16px; color: purple'>\n",
    "    \n",
    "    \n",
    "  <ul style='font-family: \"Times New Roman\", Times, serif; font-weight:light; font-size:16px;'>\n",
    "      <li><strong style = \"color: purple\">4 = read permission  </strong> </li><br>\n",
    "      <li><strong style = \"color: purple\">2 = write permission  </strong></li><br>\n",
    "      <li><strong style = \"color: purple\">1 = execute permission  </strong></li>\n",
    "      \n",
    "    \n",
    "    \n",
    "  </ul>\n",
    "</p><br>\n",
    "<p align='justify' style='margin: 10px 20px; line-height:1.5; font-family: \"Times New Roman\", Times, serif; font-size:16px; color: black'>\n",
    "  These digits are added together to create a three-digit number that represents the file's permissions. The first digit represents the owner's permissions, the second digit represents the group's permissions, and the third digit represents all other users' permissions.\n",
    "</p><br>\n",
    "<p align='justify' style='margin: 10px 20px; line-height:1.5; font-family: \"Times New Roman\", Times, serif; font-size:16px; color: purple'>\n",
    "  For example, a file with permissions \"-rwxr-xr--\" would have a permission number of 754:\n",
    "</p><br>\n",
    "<p align='justify' style='margin: 10px 20px; line-height:1.5; font-family: \"Times New Roman\", Times, serif; font-size:16px; color: purple'>\n",
    "    \n",
    "    \n",
    "  <ul style='font-family: \"Times New Roman\", Times, serif; font-weight:light; font-size:16px;'>\n",
    "      <li>The owner has read, write, and execute permissions (4+2+1 = 7).</li><br>\n",
    "      <li>The group has read and execute permissions (4+1 = 5). </li><br>\n",
    "      <li>All other users have only read permission (4).  </li>\n",
    "      \n",
    "    \n",
    "    \n",
    "  </ul>\n",
    "</p><br>\n",
    "<p align='justify' style='margin: 10px 20px; line-height:1.5; font-family: \"Times New Roman\", Times, serif; font-size:16px; color: purple'>\n",
    "  To view the permissions of a file or directory, you can use the \"ls -l\" command. This will show the permissions as a string of characters, as well as other information about the file or directory.<br><br>To change the permissions of a file or directory, you can use the \"chmod\" command. For example, to give the owner and group read and write permissions on a file called \"example.txt\", you could use the command:\n",
    "</p>"
   ]
  },
  {
   "cell_type": "code",
   "execution_count": null,
   "id": "3a9a1256",
   "metadata": {
    "slideshow": {
     "slide_type": "subslide"
    }
   },
   "outputs": [],
   "source": [
    "chmod ug+rw example.txt"
   ]
  },
  {
   "cell_type": "markdown",
   "id": "efaac4ed",
   "metadata": {
    "slideshow": {
     "slide_type": "subslide"
    }
   },
   "source": [
    "<p align='justify' style='margin: 10px 20px; line-height:1.5; font-family: \"Times New Roman\", Times, serif; font-size:16px; color: purple'>\n",
    "  This would add read and write permissions (+rw) for the owner (u) and group (g) of the file.\n",
    "</p><br><br>\n",
    "<h3 style='color:red; font-weight:bold; text-align:center; font-family: \"Times New Roman\", Times, serif; font-size:20px;'> Using variables, control flow, and loops in shell scripts</h3><br><br>\n",
    "<img src=\"imagesv.png\" width=\"150\" height=\"250\" style=\"float: left; margin-right: 20px; margin-left: 20px;\">\n",
    "<p align='justify' style='margin: 10px 20px; line-height:1.5; font-family: \"Times New Roman\", Times, serif; font-size:16px; color: black'>\n",
    "  In shell scripting, variables are used to store values that can be used later in the program. Variables can hold various types of data such as strings, integers, or even arrays. They are typically defined with a name and a value, and the value can be changed throughout the program.<br><br><br><b style = \"color: purple\"> Here's an example:</b>\n",
    "</p>"
   ]
  },
  {
   "cell_type": "code",
   "execution_count": null,
   "id": "5bb3d96f",
   "metadata": {
    "slideshow": {
     "slide_type": "subslide"
    }
   },
   "outputs": [],
   "source": [
    "message=\"Hello, world!\"\n",
    "echo $message"
   ]
  },
  {
   "cell_type": "markdown",
   "id": "af5f79a3",
   "metadata": {
    "slideshow": {
     "slide_type": "subslide"
    }
   },
   "source": [
    "<p align='justify' style='margin: 10px 20px; line-height:1.5; font-family: \"Times New Roman\", Times, serif; font-size:16px; color: purple'>\n",
    "  In this example, we define a variable called message and give it the value \"Hello, world!\". We then use the echo command to print out the value of the message variable.<br><br>Variables can also be used to store the output of a command. Here's an example:\n",
    "</p>"
   ]
  },
  {
   "cell_type": "code",
   "execution_count": null,
   "id": "4fedc96f",
   "metadata": {
    "slideshow": {
     "slide_type": "subslide"
    }
   },
   "outputs": [],
   "source": [
    "current_time=$(date +%H:%M:%S)\n",
    "echo \"The current time is $current_time\""
   ]
  },
  {
   "cell_type": "markdown",
   "id": "9f431266",
   "metadata": {
    "slideshow": {
     "slide_type": "subslide"
    }
   },
   "source": [
    "<p align='justify' style='margin: 10px 20px; line-height:1.5; font-family: \"Times New Roman\", Times, serif; font-size:16px; color: purple'>\n",
    "  In this example, we use the date command to get the current time in the format HH:MM:SS. We then store the output of the date command in a variable called current_time using the syntax \\$(command). Finally, we use the echo command to print out a message that includes the value of the current_time variable.\n",
    "</p><br>\n",
    "<p align='justify' style='margin: 10px 20px; line-height:1.5; font-family: \"Times New Roman\", Times, serif; font-size:16px; color: black'>\n",
    "  Variables can also be used to store command line arguments. Here's an example:\n",
    "</p>"
   ]
  },
  {
   "cell_type": "code",
   "execution_count": null,
   "id": "053cca27",
   "metadata": {
    "slideshow": {
     "slide_type": "subslide"
    }
   },
   "outputs": [],
   "source": [
    "#!/bin/bash\n",
    "echo \"The first argument is $1.\"\n",
    "echo \"The second argument is $2.\""
   ]
  },
  {
   "cell_type": "markdown",
   "id": "c703a482",
   "metadata": {
    "slideshow": {
     "slide_type": "subslide"
    }
   },
   "source": [
    "<p align='justify' style='margin: 10px 20px; line-height:1.5; font-family: \"Times New Roman\", Times, serif; font-size:16px; color: purple'>\n",
    "  In this example, we define a shell script that takes two arguments. We use the \\$1 and \\$2 variables to access the first and second arguments, respectively.\n",
    "</p><br>\n",
    "<h5 style='color:red; font-weight:bold; text-align:center; font-family: \"Times New Roman\", Times, serif; font-size:20px;'> Variable declaration and initialization</h5><br>\n",
    "<p align='justify' style='margin: 10px 20px; line-height:1.5; font-family: \"Times New Roman\", Times, serif; font-size:16px; color: black'>\n",
    "    Variable declaration and initialization are the first steps in creating a shell script. A variable is a container that holds a value, which can be a string, number, or any other data type. In shell scripting, variables are defined by using the syntax <br><br>VARNAME=value.\n",
    "</p><br>\n",
    "<p align='justify' style='margin: 10px 20px; line-height:1.5; font-family: \"Times New Roman\", Times, serif; font-size:16px; color: purple'>\n",
    "    For example, to declare and initialize a variable named \"name\" with the value \"John\", we would use the following command:\n",
    "</p>"
   ]
  },
  {
   "cell_type": "code",
   "execution_count": null,
   "id": "1b37201e",
   "metadata": {
    "slideshow": {
     "slide_type": "subslide"
    }
   },
   "outputs": [],
   "source": [
    "name=\"John\""
   ]
  },
  {
   "cell_type": "markdown",
   "id": "f9699b6b",
   "metadata": {
    "slideshow": {
     "slide_type": "subslide"
    }
   },
   "source": [
    "<p align='justify' style='margin: 10px 20px; line-height:1.5; font-family: \"Times New Roman\", Times, serif; font-size:16px; color: purple'>\n",
    "    In this example, the variable name is declared and initialized with the string value \"John\".\n",
    "</p><br><br>\n",
    "<p align='justify' style='margin: 10px 20px; line-height:1.5; font-family: \"Times New Roman\", Times, serif; font-size:16px; color: black'>\n",
    "    Variable names in shell scripts can contain letters, numbers, and underscores, but cannot start with a number. It is recommended to use meaningful names for variables, so that the purpose of the variable is clear to anyone reading the script.\n",
    "</p><br>\n",
    "<p align='justify' style='margin: 10px 20px; line-height:1.5; font-family: \"Times New Roman\", Times, serif; font-size:16px; color: purple'>\n",
    "    Variables in shell scripts are case-sensitive, which means that \"name\" and \"Name\" are two different variables. Variable values can also be set using command substitution, which allows the output of a command to be used as a variable value. <br><br>For example:\n",
    "</p>"
   ]
  },
  {
   "cell_type": "code",
   "execution_count": null,
   "id": "78114bb0",
   "metadata": {
    "slideshow": {
     "slide_type": "subslide"
    }
   },
   "outputs": [],
   "source": [
    "date=$(date +%Y-%m-%d)"
   ]
  },
  {
   "cell_type": "markdown",
   "id": "9bfdff40",
   "metadata": {
    "slideshow": {
     "slide_type": "subslide"
    }
   },
   "source": [
    "<p align='justify' style='margin: 10px 20px; line-height:1.5; font-family: \"Times New Roman\", Times, serif; font-size:16px; color: purple'>\n",
    "    In this example, the output of the date command is assigned to the variable date.<br><br>Variables can also be used in conjunction with command line arguments, which allows a script to accept input from the user. The variables \\$1, \\$2, \\$3, etc. represent the first, second, third, etc. command line arguments, respectively.\n",
    "</p><br>\n",
    "<h5 style='color:red; font-weight:bold; text-align:center; font-family: \"Times New Roman\", Times, serif; font-size:18px;'> Variable scope and visibility</h5><br>\n",
    "<p align='justify' style='margin: 10px 20px; line-height:1.5; font-family: \"Times New Roman\", Times, serif; font-size:16px; color: black'>\n",
    "    Variable scope and visibility refer to the areas in a shell script where a variable can be accessed or modified.<br><br>In shell scripting, variables can have local, global, and environment scope. Local variables are defined within a shell script or function and can only be accessed or modified within that scope. Global variables, on the other hand, can be accessed or modified anywhere in the script. Environment variables are available to any process running on the system.\n",
    "</p><br>\n",
    "<p align='justify' style='margin: 10px 20px; line-height:1.5; font-family: \"Times New Roman\", Times, serif; font-size:16px; color: purple'>\n",
    "    Variable scope is determined by where the variable is defined. If a variable is defined outside of a function or script, it is considered to have global scope. If a variable is defined within a function or script, it is considered to have local scope.<br><br>Here is an example:\n",
    "</p>"
   ]
  },
  {
   "cell_type": "code",
   "execution_count": null,
   "id": "9f8f5723",
   "metadata": {
    "slideshow": {
     "slide_type": "subslide"
    }
   },
   "outputs": [],
   "source": [
    "#!/bin/bash\n",
    "\n",
    "# Global variable\n",
    "MESSAGE=\"Hello World\"\n",
    "\n",
    "function print_message {\n",
    "  # Local variable\n",
    "  local MESSAGE=\"Hello there!\"\n",
    "  echo $MESSAGE\n",
    "}\n",
    "\n",
    "echo $MESSAGE\n",
    "print_message\n",
    "echo $MESSAGE"
   ]
  },
  {
   "cell_type": "markdown",
   "id": "95688a4e",
   "metadata": {
    "slideshow": {
     "slide_type": "subslide"
    }
   },
   "source": [
    "<p align='justify' style='margin: 10px 20px; line-height:1.5; font-family: \"Times New Roman\", Times, serif; font-size:16px; color: purple'>\n",
    "    In this example, the script defines a global variable called MESSAGE and a function called print_message. Within the function, a local variable called MESSAGE is defined.<br><br>When the script is run, the global MESSAGE variable is printed to the console, followed by the local MESSAGE variable within the print_message function. After the function call, the global MESSAGE variable is printed again.<br><br>This demonstrates that the local variable within the function is only accessible within the function's scope and does not affect the global variable with the same name.\n",
    "</p>"
   ]
  },
  {
   "cell_type": "markdown",
   "id": "22259cf9",
   "metadata": {
    "slideshow": {
     "slide_type": "subslide"
    }
   },
   "source": [
    "<h5 style='color:red; font-weight:bold; text-align:center; font-family: \"Times New Roman\", Times, serif; font-size:18px;'> Variable expansion and substitution</h5><br>\n",
    "<p align='justify' style='margin: 10px 20px; line-height:1.5; font-family: \"Times New Roman\", Times, serif; font-size:16px; color: black'>\n",
    "    Variable expansion and substitution refer to the process of replacing the value of a variable with its contents. This allows you to use the value of the variable in different parts of your shell script.\n",
    "</p><br>\n",
    "<p align='justify' style='margin: 10px 20px; line-height:1.5; font-family: \"Times New Roman\", Times, serif; font-size:16px; color: purple'>\n",
    "    In shell scripting, there are different ways to expand or substitute a variable:\n",
    "    \n",
    "  <ul style='font-family: \"Times New Roman\", Times, serif; font-weight:light; font-size:16px;'>\n",
    "      <li><strong style = \"color: purple\">Using \\$variable_name:  </strong> This is the most common way of expanding a variable. It involves putting a dollar sign (\\$) before the variable name. <br><br>For example, if you have a variable called \"name\", you can expand it using \\$name.\n",
    "      \n",
    "      \n",
    "    \n",
    "    \n",
    "  </ul>\n",
    "</p>"
   ]
  },
  {
   "cell_type": "code",
   "execution_count": null,
   "id": "d8007b1a",
   "metadata": {
    "slideshow": {
     "slide_type": "subslide"
    }
   },
   "outputs": [],
   "source": [
    "name=\"John\"\n",
    "echo \"My name is $name\" "
   ]
  },
  {
   "cell_type": "markdown",
   "id": "bbeac57e",
   "metadata": {
    "slideshow": {
     "slide_type": "subslide"
    }
   },
   "source": [
    "<p align='justify' style='margin: 10px 20px; line-height:1.5; font-family: \"Times New Roman\", Times, serif; font-size:16px; color: purple'>\n",
    "    \n",
    "    \n",
    "  <ul style='font-family: \"Times New Roman\", Times, serif; font-weight:light; font-size:16px;'>\n",
    "      <li><strong style = \"color: purple\">Using ${variable_name}:  </strong> This is another way of expanding a variable. It involves enclosing the variable name in curly braces. This is useful when you need to perform variable substitution or add text to the variable name.\n",
    "      \n",
    "    \n",
    "    \n",
    "  </ul>\n",
    "</p>"
   ]
  },
  {
   "cell_type": "code",
   "execution_count": null,
   "id": "926d3aed",
   "metadata": {
    "slideshow": {
     "slide_type": "subslide"
    }
   },
   "outputs": [],
   "source": [
    "name=\"John\"\n",
    "echo \"My name is ${name}ny\""
   ]
  },
  {
   "cell_type": "markdown",
   "id": "846699bb",
   "metadata": {
    "slideshow": {
     "slide_type": "subslide"
    }
   },
   "source": [
    "<p align='justify' style='margin: 10px 20px; line-height:1.5; font-family: \"Times New Roman\", Times, serif; font-size:16px; color: purple'>\n",
    "    In this example, we added \"ny\" to the end of the variable name.\n",
    "</p><br><br>\n",
    "<p align='justify' style='margin: 10px 20px; line-height:1.5; font-family: \"Times New Roman\", Times, serif; font-size:16px; color: purple'>\n",
    "    \n",
    "    \n",
    "  <ul style='font-family: \"Times New Roman\", Times, serif; font-weight:light; font-size:16px;'>\n",
    "      <li><strong style = \"color: purple\">Using command substitution:  </strong>  This involves using the output of a command as the value of a variable. It involves enclosing the command in backticks (`) or using $(command).\n",
    "      \n",
    "    \n",
    "    \n",
    "  </ul>\n",
    "</p>"
   ]
  },
  {
   "cell_type": "code",
   "execution_count": null,
   "id": "ce63ddf9",
   "metadata": {
    "slideshow": {
     "slide_type": "subslide"
    }
   },
   "outputs": [],
   "source": [
    "current_time=`date +%H:%M:%S`\n",
    "echo \"The current time is $current_time\""
   ]
  },
  {
   "cell_type": "markdown",
   "id": "6a41cb51",
   "metadata": {
    "slideshow": {
     "slide_type": "subslide"
    }
   },
   "source": [
    "<h5 style='color:red; font-weight:bold; text-align:center; font-family: \"Times New Roman\", Times, serif; font-size:18px;'> Special shell variables</h5><br>\n",
    "<p align='justify' style='margin: 10px 20px; line-height:1.5; font-family: \"Times New Roman\", Times, serif; font-size:16px; color: purple'>\n",
    "    Special shell variables are predefined variables in the shell that provide information about the environment or the execution of the script. These variables can be accessed and used in the shell script without needing to be declared or initialized. Here are some commonly used special shell variables:\n",
    "</p>\n",
    "<p align='justify' style='margin: 10px 20px; line-height:1.5; font-family: \"Times New Roman\", Times, serif; font-size:16px; color: purple'>\n",
    "    \n",
    "    \n",
    "  <ul style='font-family: \"Times New Roman\", Times, serif; font-weight:light; font-size:16px;'>\n",
    "      <li></b>\"\\$0:\" </b>This variable contains the name of the script or the shell itself.</li>\n",
    "      <li></b>\"\\$1: to \\$9:\" </b>These variables contain the arguments passed to the script or function, with \\$1 being the first argument, $2 being the second, and so on up to \\$9.</li>\n",
    "      <li></b>\"\\$#:\" </b> This variable contains the number of arguments passed to the script or function.</li>\n",
    "      <li></b>\"\\$*:\" </b> This variable contains all the arguments passed to the script or function as a single string.</li>\n",
    "      <li></b>\"\\$@:\" </b> This variable contains all the arguments passed to the script or function as an array.</li>\n",
    "      <li></b>\"\\$?:\" </b> This variable contains the exit status of the last command executed.</li>\n",
    "      <li></b>\"\\$!:\" </b> This variable contains the PID of the last background command executed.</li>\n",
    "      \n",
    "      \n",
    "    \n",
    "    \n",
    "  </ul>\n",
    "</p>"
   ]
  },
  {
   "cell_type": "markdown",
   "id": "e6cf8527",
   "metadata": {
    "slideshow": {
     "slide_type": "subslide"
    }
   },
   "source": [
    "<p align='justify' style='margin: 10px 20px; line-height:1.5; font-family: \"Times New Roman\", Times, serif; font-size:16px; color: purple'>\n",
    "    Here are some examples of how to use these special shell variables:\n",
    "  <ul style='font-family: \"Times New Roman\", Times, serif; font-weight:light; font-size:16px;'>\n",
    "      <li>To print the name of the script, use echo \\$0.</li>\n",
    "      <li>To print the first argument passed to the script, use echo \\$1.</li>\n",
    "      <li>To print the number of arguments passed to the script, use echo \\$#.</li>\n",
    "      <li>To print all the arguments passed to the script as a single string, use echo \\$*</li>\n",
    "      <li>To print all the arguments passed to the script as an array, use for arg in \"\\$@\"; do echo \"\\$arg\"; done.</li>\n",
    "      <li>To print the process ID of the current shell or script, use echo $$.</li>\n",
    "      \n",
    "      \n",
    "      \n",
    "    \n",
    "    \n",
    "  </ul>\n",
    "</p><br>\n",
    "<h5 style='color:red; font-weight:bold; text-align:center; font-family: \"Times New Roman\", Times, serif; font-size:18px;'>User-defined variables</h5><br>\n",
    "<p align='justify' style='margin: 10px 20px; line-height:1.5; font-family: \"Times New Roman\", Times, serif; font-size:16px; color: purple'>\n",
    "    User-defined variables in shell scripting are variables that you create and use in your shell scripts. They can hold any type of data such as numbers, strings, or file names, and can be used to store values that are used repeatedly in your script.\n",
    "</p><br><br>\n",
    "<p align='justify' style='margin: 10px 20px; line-height:1.5; font-family: \"Times New Roman\", Times, serif; font-size:16px; color: black'>\n",
    "    To define a user-defined variable in a shell script, you simply assign a value to a variable name. Here's an example:\n",
    "</p>"
   ]
  },
  {
   "cell_type": "code",
   "execution_count": null,
   "id": "c681dcab",
   "metadata": {
    "slideshow": {
     "slide_type": "subslide"
    }
   },
   "outputs": [],
   "source": [
    "#!/bin/bash\n",
    "\n",
    "# Declare a user-defined variable\n",
    "name=\"John\"\n",
    "\n",
    "# Print the value of the variable\n",
    "echo \"Hello, $name!\""
   ]
  },
  {
   "cell_type": "markdown",
   "id": "99205162",
   "metadata": {
    "slideshow": {
     "slide_type": "subslide"
    }
   },
   "source": [
    "<p align='justify' style='margin: 10px 20px; line-height:1.5; font-family: \"Times New Roman\", Times, serif; font-size:16px; color: black'>\n",
    "    In this example, the variable name is defined and assigned the value \"John\". The echo command is used to print the value of the variable along with a greeting.\n",
    "</p><br><br>\n",
    "<p align='justify' style='margin: 10px 20px; line-height:1.5; font-family: \"Times New Roman\", Times, serif; font-size:16px; color: purple'>\n",
    "    User-defined variables can also be used in calculations or to store the output of a command. Here's an example:\n",
    "</p>"
   ]
  },
  {
   "cell_type": "code",
   "execution_count": null,
   "id": "5fe95019",
   "metadata": {
    "slideshow": {
     "slide_type": "subslide"
    }
   },
   "outputs": [],
   "source": [
    "#!/bin/bash\n",
    "\n",
    "# Define two variables\n",
    "num1=10\n",
    "num2=5\n",
    "\n",
    "# Perform a calculation using the variables\n",
    "result=$(($num1 + $num2))\n",
    "\n",
    "# Print the result\n",
    "echo \"The sum of $num1 and $num2 is $result\""
   ]
  },
  {
   "cell_type": "markdown",
   "id": "f2804802",
   "metadata": {
    "slideshow": {
     "slide_type": "subslide"
    }
   },
   "source": [
    "<p align='justify' style='margin: 10px 20px; line-height:1.5; font-family: \"Times New Roman\", Times, serif; font-size:16px; color: purple'>\n",
    "    In this example, the variables num1 and num2 are defined and assigned values. The result variable is then assigned the result of a calculation using the num1 and num2 variables. The echo command is used to print the result along with a message.\n",
    "</p><br><br>\n",
    "<p align='justify' style='margin: 10px 20px; line-height:1.5; font-family: \"Times New Roman\", Times, serif; font-size:16px; color: black'>\n",
    "    User-defined variables can also be used to store the output of a command. Here's an example:\n",
    "</p>"
   ]
  },
  {
   "cell_type": "code",
   "execution_count": null,
   "id": "090f61aa",
   "metadata": {
    "slideshow": {
     "slide_type": "subslide"
    }
   },
   "outputs": [],
   "source": [
    "#!/bin/bash\n",
    "\n",
    "# Define a variable to store the output of the `date` command\n",
    "current_date=$(date)\n",
    "\n",
    "# Print the current date\n",
    "echo \"Today's date is $current_date\""
   ]
  },
  {
   "cell_type": "markdown",
   "id": "c55aaa85",
   "metadata": {
    "slideshow": {
     "slide_type": "subslide"
    }
   },
   "source": [
    "<p align='justify' style='margin: 10px 20px; line-height:1.5; font-family: \"Times New Roman\", Times, serif; font-size:16px; color: black'>\n",
    "    In this example, the current_date variable is defined and assigned the output of the date command using the \\$() syntax. The echo command is used to print the current date along with a message.\n",
    "</p><br><br>\n",
    "<h5 style='color:red; font-weight:bold; text-align:center; font-family: \"Times New Roman\", Times, serif; font-size:18px;'>Accepting user input</h5><br>\n",
    "<p align='justify' style='margin: 10px 20px; line-height:1.5; font-family: \"Times New Roman\", Times, serif; font-size:16px; color: purple'>\n",
    "    Accepting user input is an important concept in shell scripting, as it allows the user to provide input to the script during runtime. In order to accept user input in a shell script, you can use the read command.<br><br>The read command reads a line of input from the user and assigns it to a variable. The syntax for the read command is as follows:\n",
    "\n",
    "</p>"
   ]
  },
  {
   "cell_type": "code",
   "execution_count": null,
   "id": "7f17af1c",
   "metadata": {
    "slideshow": {
     "slide_type": "subslide"
    }
   },
   "outputs": [],
   "source": [
    "read variable_name"
   ]
  },
  {
   "cell_type": "markdown",
   "id": "c3d75ba6",
   "metadata": {
    "slideshow": {
     "slide_type": "subslide"
    }
   },
   "source": [
    "<p align='justify' style='margin: 10px 20px; line-height:1.5; font-family: \"Times New Roman\", Times, serif; font-size:16px; color: purple'>\n",
    "    Here, variable_name is the name of the variable that you want to assign the user input to. Once the user enters their input and presses Enter, the read command will assign the input to the variable.\n",
    "\n",
    "</p><br><br>\n",
    "<p align='justify' style='margin: 10px 20px; line-height:1.5; font-family: \"Times New Roman\", Times, serif; font-size:16px; color: black'>\n",
    "    For example, suppose you want to prompt the user to enter their name and then greet them. You could use the following shell script:\n",
    "\n",
    "</p>"
   ]
  },
  {
   "cell_type": "code",
   "execution_count": null,
   "id": "766579b5",
   "metadata": {
    "slideshow": {
     "slide_type": "subslide"
    }
   },
   "outputs": [],
   "source": [
    "#!/bin/bash\n",
    "\n",
    "echo \"Please enter your name:\"\n",
    "read name\n",
    "\n",
    "echo \"Hello, $name!\""
   ]
  },
  {
   "cell_type": "markdown",
   "id": "375804c0",
   "metadata": {
    "slideshow": {
     "slide_type": "subslide"
    }
   },
   "source": [
    "<p align='justify' style='margin: 10px 20px; line-height:1.5; font-family: \"Times New Roman\", Times, serif; font-size:16px; color: purple'>\n",
    "    In this script, the echo command prompts the user to enter their name, and the read command waits for the user to enter their input. Once the user enters their name and presses Enter, the read command assigns the input to the name variable. Finally, the script uses the echo command to greet the user by name.\n",
    "\n",
    "</p><br><br>\n",
    "<h3 style='color:red; font-weight:bold; text-align:center; font-family: \"Times New Roman\", Times, serif; font-size:20px;'> Control Flow</h3><br><br>\n",
    "<p align='justify' style='margin: 10px 20px; line-height:1.5; font-family: \"Times New Roman\", Times, serif; font-size:16px; color: black'>\n",
    "    Control flows are the constructs in a programming language that allow you to alter the flow of program execution based on certain conditions or criteria. In shell scripting, control flow constructs allow you to create decision-making and looping structures to control the flow of your script. They include if/else statements, case statements, loops (for, while, until), and break/continue statements. By using control flow constructs, you can create more complex and flexible scripts that can perform a wider range of tasks.\n",
    "\n",
    "</p>"
   ]
  },
  {
   "cell_type": "markdown",
   "id": "bf79acfd",
   "metadata": {
    "slideshow": {
     "slide_type": "subslide"
    }
   },
   "source": [
    "<h4 style='color:red; font-weight:bold; text-align:center; font-family: \"Times New Roman\", Times, serif; font-size:20px;'> Conditional statements: </h4><br>\n",
    "<p align='justify' style='margin: 10px 20px; line-height:1.5; font-family: \"Times New Roman\", Times, serif; font-size:16px; color: purple'>\n",
    "    Conditional statements are programming statements that allow us to check for specific conditions and execute certain code depending on whether those conditions are true or false. These statements typically use keywords such as \"if,\" \"else,\" and \"elif\" (short for \"else if\"). They are used to make decisions in the code based on specific criteria or variables.\n",
    "\n",
    "</p><br><br>\n",
    "<h5 style='color:red; font-weight:bold; text-align:center; font-family: \"Times New Roman\", Times, serif; font-size:18px;'> if statements </h5><br>\n",
    "<p align='justify' style='margin: 10px 20px; line-height:1.5; font-family: \"Times New Roman\", Times, serif; font-size:16px; color: black'>\n",
    "    In shell scripting, if statements are used to control the flow of the script based on certain conditions. An if statement evaluates a condition and executes a block of code if the condition is true, otherwise it skips the block and continues to the next statement. The basic syntax of an if statement is as follows:\n",
    "\n",
    "</p>"
   ]
  },
  {
   "cell_type": "code",
   "execution_count": null,
   "id": "64b2c9da",
   "metadata": {
    "slideshow": {
     "slide_type": "subslide"
    }
   },
   "outputs": [],
   "source": [
    "if [ condition ]\n",
    "then\n",
    "   # block of code to be executed if condition is true\n",
    "fi"
   ]
  },
  {
   "cell_type": "markdown",
   "id": "b4a4a428",
   "metadata": {
    "slideshow": {
     "slide_type": "subslide"
    }
   },
   "source": [
    "<p align='justify' style='margin: 10px 20px; line-height:1.5; font-family: \"Times New Roman\", Times, serif; font-size:16px; color: purple'>\n",
    "    The condition is a test that returns a true or false value. It can be a simple comparison of two values, such as if [ \\$var1 -eq \\$var2 ], or a more complex expression using logical operators such as && and ||.\n",
    "\n",
    "</p><br>\n",
    "<p align='justify' style='margin: 10px 20px; line-height:1.5; font-family: \"Times New Roman\", Times, serif; font-size:16px; color: red'>\n",
    "    The operators used for evaluation of conditions in if statements are:<br><br>\n",
    "  <ul style='font-family: \"Times New Roman\", Times, serif; font-weight:light; font-size:16px;'>\n",
    "      <li>-eq: This operator checks if two values are equal.</li>\n",
    "      <li>-ne: This operator checks if two values are not equal.</li>\n",
    "      <li>-gt: This operator checks if the first value is greater than the second value.</li>\n",
    "      <li>-lt: This operator checks if the first value is less than the second value.</li>\n",
    "      <li>-ge: This operator checks if the first value is greater than or equal to the second value.</li>\n",
    "      <li>-le: This operator checks if the first value is less than or equal to the second value.</li>\n",
    "      <li>  =: This operator checks if two strings are equal.</li>\n",
    "      <li> -z: This operator checks if a string is empty.</li>\n",
    "      <li> -n: This operator checks if a string is not empty.</li>\n",
    "      \n",
    "      \n",
    "      \n",
    "      \n",
    "    \n",
    "    \n",
    "  </ul>\n",
    "</p>"
   ]
  },
  {
   "cell_type": "markdown",
   "id": "aa02563d",
   "metadata": {
    "slideshow": {
     "slide_type": "subslide"
    }
   },
   "source": [
    "<p align='justify' style='margin: 10px 20px; line-height:1.5; font-family: \"Times New Roman\", Times, serif; font-size:16px; color: purple'>\n",
    "    The most important and commonly used operators are -eq, -ne, -gt, and -lt. These operators are used to compare numerical values and are often used in mathematical calculations or comparisons. The = and != operators are commonly used for string comparisons, while the -z and -n operators are used to check if a string is empty or not.\n",
    "\n",
    "</p><br><br>\n",
    "<p align='justify' style='margin: 10px 20px; line-height:1.5; font-family: \"Times New Roman\", Times, serif; font-size:16px; color: black'>\n",
    "    Here is an example of an if statement that checks if a file exists:\n",
    "\n",
    "</p>"
   ]
  },
  {
   "cell_type": "code",
   "execution_count": null,
   "id": "9f64fd4e",
   "metadata": {
    "slideshow": {
     "slide_type": "subslide"
    }
   },
   "outputs": [],
   "source": [
    "if [ -e /path/to/file ]\n",
    "then\n",
    "   echo \"File exists\"\n",
    "fi"
   ]
  },
  {
   "cell_type": "markdown",
   "id": "63eb4f2c",
   "metadata": {
    "slideshow": {
     "slide_type": "subslide"
    }
   },
   "source": [
    "<p align='justify' style='margin: 10px 20px; line-height:1.5; font-family: \"Times New Roman\", Times, serif; font-size:16px; color: purple'>\n",
    "    In this example, the condition -e /path/to/file checks if the file exists, and if it does, the message \"File exists\" is printed to the console. The if statement is used to start the conditional block. It specifies the condition to be checked for the file existence. The -e option is used with the [ command to check if the file exists. -e checks if the file exists and is a regular file, as opposed to a directory or a device file.\n",
    "/path/to/file is the path of the file being checked for existence. This should be replaced with the actual path of the file being checked. The then keyword marks the beginning of the block of commands that will be executed if the condition is true. The echo command is used to output the message \"File exists\" if the file exists in the specified path. The fi keyword marks the end of the conditional block.\n",
    "\n",
    "</p><br>\n",
    "<p align='justify' style='margin: 10px 20px; line-height:1.5; font-family: \"Times New Roman\", Times, serif; font-size:16px; color: black'>\n",
    "    If statements can also include else and elif clauses to handle cases where the condition is false. The basic syntax is as follows:\n",
    "\n",
    "</p>"
   ]
  },
  {
   "cell_type": "code",
   "execution_count": null,
   "id": "b2427ce2",
   "metadata": {
    "slideshow": {
     "slide_type": "subslide"
    }
   },
   "outputs": [],
   "source": [
    "if [ condition ]\n",
    "then\n",
    "   # block of code to be executed if condition is true\n",
    "else\n",
    "   # block of code to be executed if condition is false\n",
    "fi"
   ]
  },
  {
   "cell_type": "markdown",
   "id": "4fa0d90b",
   "metadata": {
    "slideshow": {
     "slide_type": "subslide"
    }
   },
   "source": [
    "<p align='justify' style='margin: 10px 20px; line-height:1.5; font-family: \"Times New Roman\", Times, serif; font-size:16px; color: purple'>\n",
    "    Here is an example of an if statement with an else clause that checks if a user is logged in:\n",
    "\n",
    "</p>"
   ]
  },
  {
   "cell_type": "code",
   "execution_count": null,
   "id": "f63e4a44",
   "metadata": {
    "slideshow": {
     "slide_type": "subslide"
    }
   },
   "outputs": [],
   "source": [
    "if [ $(whoami) == \"root\" ]\n",
    "then\n",
    "   echo \"You are logged in as root\"\n",
    "else\n",
    "   echo \"You are not logged in as root\"\n",
    "fi"
   ]
  },
  {
   "cell_type": "markdown",
   "id": "16435644",
   "metadata": {
    "slideshow": {
     "slide_type": "subslide"
    }
   },
   "source": [
    "<p align='justify' style='margin: 10px 20px; line-height:1.5; font-family: \"Times New Roman\", Times, serif; font-size:16px; color: purple'>\n",
    "    In this example, the condition \\$(whoami) == \"root\" checks if the user is logged in as root, and if they are, the message \"You are logged in as root\" is printed to the console. If they are not logged in as root, the message \"You are not logged in as root\" is printed instead.\n",
    "\n",
    "</p><br><br>\n",
    "<p align='justify' style='margin: 10px 20px; line-height:1.5; font-family: \"Times New Roman\", Times, serif; font-size:16px; color: black'>\n",
    "     here's an example of an if statement that defines two variables and checks which one is greater:\n",
    "\n",
    "</p>"
   ]
  },
  {
   "cell_type": "code",
   "execution_count": null,
   "id": "a5bcd6dc",
   "metadata": {
    "slideshow": {
     "slide_type": "subslide"
    }
   },
   "outputs": [],
   "source": [
    "#!/bin/bash\n",
    "\n",
    "# Define two variables\n",
    "num1=10\n",
    "num2=5\n",
    "\n",
    "# Check which variable is greater\n",
    "if [ $num1 -gt $num2 ]; then\n",
    "  echo \"num1 is greater than num2\"\n",
    "else\n",
    "  echo \"num2 is greater than or equal to num1\"\n",
    "fi"
   ]
  },
  {
   "cell_type": "markdown",
   "id": "363725a5",
   "metadata": {
    "slideshow": {
     "slide_type": "subslide"
    }
   },
   "source": [
    "<p align='justify' style='margin: 10px 20px; line-height:1.5; font-family: \"Times New Roman\", Times, serif; font-size:16px; color: purple'>\n",
    "     In this example, we define two variables num1 and num2, and then use an if statement to check which one is greater. The -gt operator is used to evaluate whether num1 is greater than num2. If the condition is true, the first message \"num1 is greater than num2\" is printed to the console. Otherwise, the second message \"num2 is greater than or equal to num1\" is printed.\n",
    "\n",
    "</p><br>\n",
    "<p align='justify' style='margin: 10px 20px; line-height:1.5; font-family: \"Times New Roman\", Times, serif; font-size:16px; color: black'>\n",
    "     here's an example of an if statement that accepts user input and checks if the input is equal to a pre-defined value:\n",
    "\n",
    "</p>"
   ]
  },
  {
   "cell_type": "code",
   "execution_count": null,
   "id": "26f71f17",
   "metadata": {
    "slideshow": {
     "slide_type": "subslide"
    }
   },
   "outputs": [],
   "source": [
    "#!/bin/bash\n",
    "\n",
    "echo \"Please enter a word:\"\n",
    "read input\n",
    "\n",
    "if [ \"$input\" = \"hello\" ]; then\n",
    "  echo \"You entered the word hello!\"\n",
    "else\n",
    "  echo \"You did not enter the word hello.\"\n",
    "fi"
   ]
  },
  {
   "cell_type": "markdown",
   "id": "4d85f2ad",
   "metadata": {
    "slideshow": {
     "slide_type": "subslide"
    }
   },
   "source": [
    "<p align='justify' style='margin: 10px 20px; line-height:1.5; font-family: \"Times New Roman\", Times, serif; font-size:16px; color: purple'>\n",
    "     In this example, the script prompts the user to enter a word, and then reads the user's input into the input variable using the read command.<br><br><br>The if statement then checks if the value of input is equal to the string \"hello\" using the = operator inside square brackets ([ ... ]). If the condition is true, the script prints the message \"You entered the word hello!\" to the terminal. If the condition is false, the script prints the message \"You did not enter the word hello.\" to the terminal.\n",
    "\n",
    "</p><br><br>\n",
    "<h5 style='color:red; font-weight:bold; text-align:center; font-family: \"Times New Roman\", Times, serif; font-size:18px;'> elif statements </h5><br>\n",
    "<p align='justify' style='margin: 10px 20px; line-height:1.5; font-family: \"Times New Roman\", Times, serif; font-size:16px; color: black'>\n",
    "    The elif statement in shell scripting is used when we want to evaluate multiple conditions in a sequential manner. It is used after the if statement and before the else statement. The elif statement allows us to check if additional conditions are true if the previous condition is false.<br><br>The syntax for the elif statement is as follows:\n",
    "\n",
    "</p>"
   ]
  },
  {
   "cell_type": "code",
   "execution_count": null,
   "id": "d34244a8",
   "metadata": {
    "slideshow": {
     "slide_type": "subslide"
    }
   },
   "outputs": [],
   "source": [
    "if [ condition1 ]; then\n",
    "   # statements to execute when condition1 is true\n",
    "elif [ condition2 ]; then\n",
    "   # statements to execute when condition1 is false and condition2 is true\n",
    "else\n",
    "   # statements to execute when both condition1 and condition2 are false\n",
    "fi"
   ]
  },
  {
   "cell_type": "markdown",
   "id": "3d4c7341",
   "metadata": {
    "slideshow": {
     "slide_type": "subslide"
    }
   },
   "source": [
    "<p align='justify' style='margin: 10px 20px; line-height:1.5; font-family: \"Times New Roman\", Times, serif; font-size:16px; color: purple'>\n",
    "    Here is an example of an elif statement that checks if a number is positive, negative, or zero:\n",
    "\n",
    "</p>"
   ]
  },
  {
   "cell_type": "code",
   "execution_count": null,
   "id": "6aec7f40",
   "metadata": {
    "slideshow": {
     "slide_type": "subslide"
    }
   },
   "outputs": [],
   "source": [
    "echo \"Enter a number: \"\n",
    "read num\n",
    "\n",
    "if [ $num -gt 0 ]; then\n",
    "   echo \"The number is positive\"\n",
    "elif [ $num -lt 0 ]; then\n",
    "   echo \"The number is negative\"\n",
    "else\n",
    "   echo \"The number is zero\"\n",
    "fi"
   ]
  },
  {
   "cell_type": "markdown",
   "id": "41acc169",
   "metadata": {
    "slideshow": {
     "slide_type": "subslide"
    }
   },
   "source": [
    "<p align='justify' style='margin: 10px 20px; line-height:1.5; font-family: \"Times New Roman\", Times, serif; font-size:16px; color: purple'>\n",
    "    In this example, the user is prompted to enter a number. The if statement checks if the number is greater than 0. If it is, the program prints \"The number is positive\". If not, the elif statement checks if the number is less than 0. If it is, the program prints \"The number is negative\". If neither condition is true, the else statement is executed and the program prints \"The number is zero\".\n",
    "\n",
    "</p><br><br>\n",
    "<h5 style='color:red; font-weight:bold; text-align:center; font-family: \"Times New Roman\", Times, serif; font-size:18px;'> case statements </h5><br>\n",
    "<p align='justify' style='margin: 10px 20px; line-height:1.5; font-family: \"Times New Roman\", Times, serif; font-size:16px; color: black'>\n",
    "    In shell scripting, a case statement is used to simplify the execution of multiple conditions. It is similar to a switch statement in other programming languages.<br><br><br>The syntax of a case statement is as follows:\n",
    "\n",
    "</p>"
   ]
  },
  {
   "cell_type": "code",
   "execution_count": null,
   "id": "f4159086",
   "metadata": {
    "slideshow": {
     "slide_type": "subslide"
    }
   },
   "outputs": [],
   "source": [
    "case expression in\n",
    "    pattern1)\n",
    "        # Commands to execute if pattern1 matches expression\n",
    "        ;;\n",
    "    pattern2)\n",
    "        # Commands to execute if pattern2 matches expression\n",
    "        ;;\n",
    "    pattern3)\n",
    "        # Commands to execute if pattern3 matches expression\n",
    "        ;;\n",
    "    *)\n",
    "        # Commands to execute if none of the patterns match expression\n",
    "        ;;\n",
    "esac"
   ]
  },
  {
   "cell_type": "markdown",
   "id": "8b87a828",
   "metadata": {
    "slideshow": {
     "slide_type": "subslide"
    }
   },
   "source": [
    "<p align='justify' style='margin: 10px 20px; line-height:1.5; font-family: \"Times New Roman\", Times, serif; font-size:16px; color: black'>\n",
    "    In this syntax, the expression is the variable or value to be evaluated, and the patterns are the cases to be matched against the expression. The ;; symbol is used to separate each case and the default case is denoted by *.\n",
    "\n",
    "</p><br><br>\n",
    "<p align='justify' style='margin: 10px 20px; line-height:1.5; font-family: \"Times New Roman\", Times, serif; font-size:16px; color: purple'>\n",
    "    Here is an example of using a case statement to determine the day of the week:\n",
    "\n",
    "</p>"
   ]
  },
  {
   "cell_type": "code",
   "execution_count": null,
   "id": "6612cd06",
   "metadata": {
    "slideshow": {
     "slide_type": "subslide"
    }
   },
   "outputs": [],
   "source": [
    "#!/bin/bash\n",
    "\n",
    "echo \"Enter a number (1-7): \"\n",
    "read day\n",
    "\n",
    "case $day in\n",
    "    1)\n",
    "        echo \"Monday\"\n",
    "        ;;\n",
    "    2)\n",
    "        echo \"Tuesday\"\n",
    "        ;;\n",
    "    3)\n",
    "        echo \"Wednesday\"\n",
    "        ;;\n",
    "    4)\n",
    "        echo \"Thursday\"\n",
    "        ;;\n",
    "    5)\n",
    "        echo \"Friday\"\n",
    "        ;;\n",
    "    6)\n",
    "        echo \"Saturday\"\n",
    "        ;;\n",
    "    7)\n",
    "        echo \"Sunday\"\n",
    "        ;;\n",
    "    *)\n",
    "        echo \"Invalid number\"\n",
    "        ;;\n",
    "esac"
   ]
  },
  {
   "cell_type": "markdown",
   "id": "3f567646",
   "metadata": {
    "slideshow": {
     "slide_type": "subslide"
    }
   },
   "source": [
    "<p align='justify' style='margin: 10px 20px; line-height:1.5; font-family: \"Times New Roman\", Times, serif; font-size:16px; color: purple'>\n",
    "    In this example, the user is prompted to enter a number between 1 and 7. The day variable is then evaluated using a case statement to determine the corresponding day of the week.  the number 1) is a case label. It corresponds to the value 1 that the user is prompted to enter. When the user inputs 1, the code following the case label 1) is executed, which in this case is the command to print \"Monday\" to the terminal.\n",
    "\n",
    "</p><br><br><br>\n",
    "<h3 style='color:red; font-weight:bold; text-align:center; font-family: \"Times New Roman\", Times, serif; font-size:20px;'> loops </h3><br>\n",
    "<p align='justify' style='margin: 10px 20px; line-height:1.5; font-family: \"Times New Roman\", Times, serif; font-size:16px; color: black'>\n",
    "    In shell scripting, loops are used to execute a set of commands repeatedly until a specific condition is met. They allow you to automate repetitive tasks and process large amounts of data efficiently. There are three types of loops in shell scripting: \"for\" loops, \"while\" loops, and \"until\" loops. \"For\" loops are used to iterate through a set of values, \"while\" loops are used to execute a block of code while a specific condition is true, and \"until\" loops are used to execute a block of code until a specific condition becomes true. Additionally, shell scripting also supports C-like \"for\" loops which are similar to \"for\" loops in other programming languages. \n",
    "\n",
    "\n",
    "</p><br><br>\n",
    "<h5 style='color:red; font-weight:bold; text-align:center; font-family: \"Times New Roman\", Times, serif; font-size:18px;'> for loops </h5><br>\n",
    "<p align='justify' style='margin: 10px 20px; line-height:1.5; font-family: \"Times New Roman\", Times, serif; font-size:16px; color: purple'>\n",
    "    In shell scripting, \"for\" loops are used to iterate over a set of values and perform a set of commands for each value in the set. The basic structure of a \"for\" loop is as follows:\n",
    "\n",
    "\n",
    "</p>"
   ]
  },
  {
   "cell_type": "code",
   "execution_count": null,
   "id": "3d8fcb1e",
   "metadata": {
    "slideshow": {
     "slide_type": "subslide"
    }
   },
   "outputs": [],
   "source": [
    "for variable in set\n",
    "do\n",
    "    command1\n",
    "    command2\n",
    "    ...\n",
    "    commandN\n",
    "done"
   ]
  },
  {
   "cell_type": "markdown",
   "id": "0f9f9e3a",
   "metadata": {
    "slideshow": {
     "slide_type": "subslide"
    }
   },
   "source": [
    "<p align='justify' style='margin: 10px 20px; line-height:1.5; font-family: \"Times New Roman\", Times, serif; font-size:16px; color: purple'>\n",
    "    The \"for\" keyword indicates the start of the loop and the \"do\" keyword indicates the start of the commands to be executed for each value in the set. The loop iterates over the set, assigning each value in turn to the variable specified in the loop header. The set can be defined in several ways, such as a range of values, a list of values, or a command that generates a list of values.\n",
    "\n",
    "\n",
    "</p><br>\n",
    "<p align='justify' style='margin: 10px 20px; line-height:1.5; font-family: \"Times New Roman\", Times, serif; font-size:16px; color: black'>\n",
    "    Here is an example of a \"for\" loop that iterates over a range of values:\n",
    "\n",
    "</p>"
   ]
  },
  {
   "cell_type": "code",
   "execution_count": null,
   "id": "9ab6d31e",
   "metadata": {
    "slideshow": {
     "slide_type": "subslide"
    }
   },
   "outputs": [],
   "source": [
    "for i in {1..5}\n",
    "do\n",
    "    echo \"Number: $i\"\n",
    "done"
   ]
  },
  {
   "cell_type": "markdown",
   "id": "27a4bbe8",
   "metadata": {
    "slideshow": {
     "slide_type": "subslide"
    }
   },
   "source": [
    "<p align='justify' style='margin: 10px 20px; line-height:1.5; font-family: \"Times New Roman\", Times, serif; font-size:16px; color: purple'>\n",
    "    This code is an example of a for loop in shell scripting, which is used to iterate over a set of values. The loop uses the range {1..5} to define the set of values, and assigns each value to the variable i during each iteration of the loop. The braces {} are used to enclose the range of values and define the set that the loop will iterate over. The echo command within the loop outputs a string containing the current value of the i variable, and the loop continues until all values in the range have been processed.\n",
    "\n",
    "\n",
    "</p><br>\n",
    "<p align='justify' style='margin: 10px 20px; line-height:1.5; font-family: \"Times New Roman\", Times, serif; font-size:16px; color: black'>\n",
    "    Another example of a \"for\" loop that iterates over a list of values:\n",
    "\n",
    "\n",
    "</p>"
   ]
  },
  {
   "cell_type": "code",
   "execution_count": null,
   "id": "77527bc7",
   "metadata": {
    "slideshow": {
     "slide_type": "subslide"
    }
   },
   "outputs": [],
   "source": [
    "for fruit in apple banana orange\n",
    "do\n",
    "    echo \"I like $fruit\"\n",
    "done"
   ]
  },
  {
   "cell_type": "markdown",
   "id": "d90077df",
   "metadata": {
    "slideshow": {
     "slide_type": "subslide"
    }
   },
   "source": [
    "<p align='justify' style='margin: 10px 20px; line-height:1.5; font-family: \"Times New Roman\", Times, serif; font-size:16px; color: purple'>\n",
    "    This is an example of a for loop in shell scripting. The code will iterate over a set of values defined by the space-separated list of fruits, assigning each value to the variable fruit and executing the commands within the loop for each value of fruit. \n",
    "\n",
    "\n",
    "</p><br>\n",
    "<p align='justify' style='margin: 10px 20px; line-height:1.5; font-family: \"Times New Roman\", Times, serif; font-size:16px; color: black'>\n",
    "    You can also use the \"for\" loop to iterate over the output of a command:\n",
    "\n",
    "\n",
    "</p>"
   ]
  },
  {
   "cell_type": "code",
   "execution_count": null,
   "id": "c81965e8",
   "metadata": {
    "slideshow": {
     "slide_type": "subslide"
    }
   },
   "outputs": [],
   "source": [
    "for file in $(ls /home/user/documents/)\n",
    "do\n",
    "    echo \"Processing file: $file\"\n",
    "    sed -i 's/orange/banana/g' $file\n",
    "done"
   ]
  },
  {
   "cell_type": "markdown",
   "id": "4437057e",
   "metadata": {
    "slideshow": {
     "slide_type": "subslide"
    }
   },
   "source": [
    "<p align='justify' style='margin: 10px 20px; line-height:1.5; font-family: \"Times New Roman\", Times, serif; font-size:16px; color: purple'>\n",
    "    This code iterates over the files in the /home/user/documents/ directory using a \"for\" loop. For each file, it outputs a message indicating that the file is being processed. The \"sed\" command then replaces all occurrences of the word \"orange\" with \"banana\" in the file. The \"-i\" option is used to edit the file in place. Finally, the loop moves on to the next file until all files in the directory have been processed.\n",
    "\n",
    "\n",
    "</p><br><br>\n",
    "<h5 style='color:red; font-weight:bold; text-align:center; font-family: \"Times New Roman\", Times, serif; font-size:18px;'> while loops </h5><br>\n",
    "<p align='justify' style='margin: 10px 20px; line-height:1.5; font-family: \"Times New Roman\", Times, serif; font-size:16px; color: black'>\n",
    "    In shell scripting, a \"while\" loop is used to execute a block of code repeatedly while a specific condition is true. The loop continues to execute until the condition evaluates to false. Here's an example of a \"while\" loop in shell scripting:\n",
    "\n",
    "\n",
    "</p>"
   ]
  },
  {
   "cell_type": "code",
   "execution_count": null,
   "id": "f193104b",
   "metadata": {
    "slideshow": {
     "slide_type": "subslide"
    }
   },
   "outputs": [],
   "source": [
    "#!/bin/bash\n",
    "\n",
    "count=0\n",
    "\n",
    "while [ $count -lt 5 ]\n",
    "do\n",
    "    echo \"Count is $count\"\n",
    "    count=$((count+1))\n",
    "done"
   ]
  },
  {
   "cell_type": "markdown",
   "id": "98ea4c5a",
   "metadata": {
    "slideshow": {
     "slide_type": "subslide"
    }
   },
   "source": [
    "<p align='justify' style='margin: 10px 20px; line-height:1.5; font-family: \"Times New Roman\", Times, serif; font-size:16px; color: purple'>\n",
    "    This shell script sets the initial value of the \"count\" variable to 0, and then uses a \"while\" loop to iterate over the code block until the value of \"count\" reaches 5. The loop will continue to execute as long as the value of \"count\" is less than 5. For each iteration of the loop, the script uses the echo command to output a string containing the current value of the \"count\" variable, and then increments the value of the \"count\" variable by 1. The loop ends when the condition is no longer true.\n",
    "\n",
    "\n",
    "</p><br>\n",
    "<p align='justify' style='margin: 10px 20px; line-height:1.5; font-family: \"Times New Roman\", Times, serif; font-size:16px; color: black'>\n",
    "    You can use any condition you like in the \"while\" loop, as long as it evaluates to either true or false. For example, you could use a \"while\" loop to iterate over the lines of a file until you reach the end of the file:\n",
    "\n",
    "\n",
    "</p>"
   ]
  },
  {
   "cell_type": "code",
   "execution_count": null,
   "id": "89f9c0ea",
   "metadata": {
    "slideshow": {
     "slide_type": "subslide"
    }
   },
   "outputs": [],
   "source": [
    "#!/bin/bash\n",
    "\n",
    "while read line\n",
    "do\n",
    "    echo \"Line: $line\"\n",
    "done < file.txt"
   ]
  },
  {
   "cell_type": "markdown",
   "id": "98db79fd",
   "metadata": {
    "slideshow": {
     "slide_type": "subslide"
    }
   },
   "source": [
    "<p align='justify' style='margin: 10px 20px; line-height:1.5; font-family: \"Times New Roman\", Times, serif; font-size:16px; color: purple'>\n",
    "    In this example, the \"while\" loop reads each line of the \"file.txt\" file and outputs the line to the console. The loop continues to execute until the end of the file is reached. The < symbol is used to redirect the contents of the file to the loop.\n",
    "\n",
    "\n",
    "</p><br>\n",
    "<p align='justify' style='margin: 10px 20px; line-height:1.5; font-family: \"Times New Roman\", Times, serif; font-size:16px; color: black'>\n",
    "    Getting user input using a while loop\n",
    "\n",
    "\n",
    "</p>"
   ]
  },
  {
   "cell_type": "code",
   "execution_count": null,
   "id": "1efffcbf",
   "metadata": {
    "slideshow": {
     "slide_type": "subslide"
    }
   },
   "outputs": [],
   "source": [
    "#!/bin/bash\n",
    "\n",
    "while true\n",
    "do\n",
    "  read -p \"Enter a number: \" num\n",
    "  if [[ $num == \"exit\" ]]; then\n",
    "    echo \"Exiting loop...\"\n",
    "    break\n",
    "  fi\n",
    "  echo \"You entered: $num\"\n",
    "done"
   ]
  },
  {
   "cell_type": "markdown",
   "id": "5d09133a",
   "metadata": {
    "slideshow": {
     "slide_type": "subslide"
    }
   },
   "source": [
    "<p align='justify' style='margin: 10px 20px; line-height:1.5; font-family: \"Times New Roman\", Times, serif; font-size:16px; color: purple'>\n",
    "     In this example, we use a while loop to repeatedly ask the user for input until they enter the word \"exit\". Within the loop, we first use the read command to prompt the user for input and store their response in the num variable. We then use an if statement to check if the user entered \"exit\". If so, we output a message and exit the loop using the break command. If not, we output the user's input using the echo command.\n",
    "\n",
    "\n",
    "</p><br><br>\n",
    "<h5 style='color:red; font-weight:bold; text-align:center; font-family: \"Times New Roman\", Times, serif; font-size:18px;'> until loops </h5><br>\n",
    "<p align='justify' style='margin: 10px 20px; line-height:1.5; font-family: \"Times New Roman\", Times, serif; font-size:16px; color: black'>\n",
    "    In shell scripting, an \"until\" loop is used to repeatedly execute a block of code until a specific condition is true. The syntax for an \"until\" loop is similar to that of a \"while\" loop, but the block of code is executed as long as the condition is false, rather than true.\n",
    "\n",
    "\n",
    "</p><br>\n",
    "<p align='justify' style='margin: 10px 20px; line-height:1.5; font-family: \"Times New Roman\", Times, serif; font-size:16px; color: purple'>\n",
    "    Here's an example of an \"until\" loop in shell scripting:\n",
    "\n",
    "\n",
    "</p>"
   ]
  },
  {
   "cell_type": "code",
   "execution_count": null,
   "id": "30c470ea",
   "metadata": {
    "slideshow": {
     "slide_type": "subslide"
    }
   },
   "outputs": [],
   "source": [
    "#!/bin/bash\n",
    "\n",
    "count=0\n",
    "\n",
    "until [ $count -eq 5 ]\n",
    "do\n",
    "    echo \"Count is $count\"\n",
    "    count=$((count+1))\n",
    "done"
   ]
  },
  {
   "cell_type": "markdown",
   "id": "5b9581ab",
   "metadata": {
    "slideshow": {
     "slide_type": "subslide"
    }
   },
   "source": [
    "<p align='justify' style='margin: 10px 20px; line-height:1.5; font-family: \"Times New Roman\", Times, serif; font-size:16px; color: purple'>\n",
    "    This code initializes the \"count\" variable to 0 and uses an \"until\" loop to iterate over the code block until the value of \"count\" becomes equal to 5. During each iteration of the loop, the echo command outputs a string containing the current value of the \"count\" variable, and the value of \"count\" is incremented by 1. The loop will continue to execute until the value of \"count\" becomes equal to 5, at which point the loop will terminate.\n",
    "\n",
    "\n",
    "</p><br>\n",
    "<p align='justify' style='margin: 10px 20px; line-height:1.5; font-family: \"Times New Roman\", Times, serif; font-size:16px; color: black'>\n",
    "    Using \"until\" to read user input until a valid response is received.\n",
    "\n",
    "\n",
    "</p>"
   ]
  },
  {
   "cell_type": "code",
   "execution_count": null,
   "id": "2d703829",
   "metadata": {
    "slideshow": {
     "slide_type": "subslide"
    }
   },
   "outputs": [],
   "source": [
    "#!/bin/bash\n",
    "\n",
    "valid=false\n",
    "\n",
    "until $valid\n",
    "do\n",
    "    read -p \"Please enter your name: \" name\n",
    "    if [[ $name =~ ^[a-zA-Z]+$ ]]; then\n",
    "        valid=true\n",
    "    else\n",
    "        echo \"Error: Invalid input. Please enter a valid name.\"\n",
    "    fi\n",
    "done\n",
    "\n",
    "echo \"Hello, $name!\""
   ]
  },
  {
   "cell_type": "markdown",
   "id": "1af3cb24",
   "metadata": {
    "slideshow": {
     "slide_type": "subslide"
    }
   },
   "source": [
    "<p align='justify' style='margin: 10px 20px; line-height:1.5; font-family: \"Times New Roman\", Times, serif; font-size:16px; color: purple'>\n",
    "    In this example, the script uses an \"until\" loop to repeatedly prompt the user to enter their name until a valid response is received. The loop will continue to execute until the \"valid\" variable is set to true, which happens when the user enters a string that contains only alphabetic characters. Once a valid name is entered, the loop exits and the script greets the user by name.\n",
    "\n",
    "\n",
    "</p><br><br>\n",
    "<h5 style='color:red; font-weight:bold; text-align:center; font-family: \"Times New Roman\", Times, serif; font-size:18px;'> C-like \"for\" loops </h5><br>\n",
    "<p align='justify' style='margin: 10px 20px; line-height:1.5; font-family: \"Times New Roman\", Times, serif; font-size:16px; color: black'>\n",
    "    C-like \"for\" loops in shell scripting allow you to iterate over a set of values using a more concise syntax. They are similar to \"for\" loops in C programming, and can be useful for tasks such as iterating over arrays or ranges of values. Here's an example:\n",
    "\n",
    "\n",
    "</p>"
   ]
  },
  {
   "cell_type": "code",
   "execution_count": null,
   "id": "1a5af9c0",
   "metadata": {
    "slideshow": {
     "slide_type": "subslide"
    }
   },
   "outputs": [],
   "source": [
    "for (( i=0; i<5; i++ ))\n",
    "do\n",
    "    echo \"Number: $i\"\n",
    "done"
   ]
  },
  {
   "cell_type": "markdown",
   "id": "1bb4862e",
   "metadata": {
    "slideshow": {
     "slide_type": "subslide"
    }
   },
   "source": [
    "<p align='justify' style='margin: 10px 20px; line-height:1.5; font-family: \"Times New Roman\", Times, serif; font-size:16px; color: purple'>\n",
    "    In this code, the \"for\" loop will iterate over the values of \"i\" from 0 to 4, executing the command block for each value. Here's a breakdown of the code:<br><br>\"for (( i=0; i<5; i++ )):\"This line starts the \"for\" loop and sets up the iteration over the range of values from 0 to 4. The variable \"i\" is assigned the value of each element in the range during each iteration of the loop.<br>\"do:\" This keyword marks the beginning of the block of commands that will be executed for each iteration of the loop.<br>\"echo \"Number: $i\":\" This line is the command that will be executed for each iteration of the loop. It uses the \"echo\" command to output a string containing the current value of the \"i\" variable.<br>\"done:\" This keyword marks the end of the block of commands that will be executed for each iteration of the loop.<br><br>This code will output the values of \"i\" from 0 to 4, since the loop will continue to execute as long as the value of \"i\" is less than 5.\n",
    "\n",
    "\n",
    "</p>"
   ]
  },
  {
   "cell_type": "markdown",
   "id": "f64a47f9",
   "metadata": {
    "slideshow": {
     "slide_type": "subslide"
    }
   },
   "source": [
    "<h3 style='color:red; font-weight:bold; text-align:center; font-family: \"Times New Roman\", Times, serif; font-size:20px;'> Control statements</h3><br>\n",
    "<p align='justify' style='margin: 10px 20px; line-height:1.5; font-family: \"Times New Roman\", Times, serif; font-size:16px; color: black'>\n",
    "    Control statements are programming statements that alter the normal flow of execution in a program. They are used to change the order in which code is executed or to skip certain sections of code based on specific conditions. The three main control statements in programming are:<br><br>1. Break Statement<br>2. Continue Statement<br> 3. Exit Statement\n",
    "\n",
    "\n",
    "</p><br><br>\n",
    "<h5 style='color:red; font-weight:bold; text-align:center; font-family: \"Times New Roman\", Times, serif; font-size:18px;'> Break Statement</h5><br>\n",
    "<p align='justify' style='margin: 10px 20px; line-height:1.5; font-family: \"Times New Roman\", Times, serif; font-size:16px; color: purple'>\n",
    "    The \"break\" statement is a control statement that is used to exit a loop before its natural end. It is commonly used in conditional statements within loops to terminate the loop early if a certain condition is met.<br><br>Here's an example:\n",
    "\n",
    "\n",
    "</p>"
   ]
  },
  {
   "cell_type": "code",
   "execution_count": null,
   "id": "8adea4a1",
   "metadata": {
    "slideshow": {
     "slide_type": "subslide"
    }
   },
   "outputs": [],
   "source": [
    "for i in {1..10}\n",
    "do\n",
    "    if [ $i -eq 5 ]\n",
    "    then\n",
    "        break\n",
    "    fi\n",
    "    echo \"Iteration $i\"\n",
    "done"
   ]
  },
  {
   "cell_type": "markdown",
   "id": "b75ea356",
   "metadata": {
    "slideshow": {
     "slide_type": "subslide"
    }
   },
   "source": [
    "<p align='justify' style='margin: 10px 20px; line-height:1.5; font-family: \"Times New Roman\", Times, serif; font-size:16px; color: purple'>\n",
    "    In this example, a \"for\" loop is used to iterate over the values from 1 to 10. Within the loop, an \"if\" statement is used to check whether the value of \"i\" is equal to 5. If it is, the \"break\" statement is executed, which causes the loop to terminate early. If the value of \"i\" is not equal to 5, the loop continues executing until it reaches its natural end.\n",
    "\n",
    "\n",
    "</p><br><br>\n",
    "<h5 style='color:red; font-weight:bold; text-align:center; font-family: \"Times New Roman\", Times, serif; font-size:18px;'> Continue Statement</h5><br>\n",
    "<p align='justify' style='margin: 10px 20px; line-height:1.5; font-family: \"Times New Roman\", Times, serif; font-size:16px; color: purple'>\n",
    "    In shell scripting, the \"continue\" statement is used to skip the current iteration of a loop and move on to the next iteration. It is often used in conjunction with \"if\" statements to check for certain conditions and skip iterations that do not meet those conditions.\n",
    "\n",
    "</p><br>\n",
    "<p align='justify' style='margin: 10px 20px; line-height:1.5; font-family: \"Times New Roman\", Times, serif; font-size:16px; color: black'>\n",
    "    Here is an example of how the \"continue\" statement can be used in a \"while\" loop:\n",
    "\n",
    "\n",
    "\n",
    "\n",
    "</p>"
   ]
  },
  {
   "cell_type": "code",
   "execution_count": null,
   "id": "a4c85628",
   "metadata": {
    "slideshow": {
     "slide_type": "subslide"
    }
   },
   "outputs": [],
   "source": [
    "#!/bin/bash\n",
    "\n",
    "count=0\n",
    "\n",
    "while [ $count -lt 5 ]\n",
    "do\n",
    "    count=$((count+1))\n",
    "    if [ $count -eq 3 ]\n",
    "    then\n",
    "        continue\n",
    "    fi\n",
    "    echo \"Count is $count\"\n",
    "done"
   ]
  },
  {
   "cell_type": "markdown",
   "id": "a4126234",
   "metadata": {
    "slideshow": {
     "slide_type": "subslide"
    }
   },
   "source": [
    "<p align='justify' style='margin: 10px 20px; line-height:1.5; font-family: \"Times New Roman\", Times, serif; font-size:16px; color: purple'>\n",
    "    In this example, the \"while\" loop will iterate over the code block until the value of \"count\" reaches 5. Within the loop, the \"if\" statement checks if the value of \"count\" is equal to 3, and if it is, the \"continue\" statement is executed, skipping the current iteration of the loop and moving on to the next iteration.\n",
    "\n",
    "</p><br><br>\n",
    "<h5 style='color:red; font-weight:bold; text-align:center; font-family: \"Times New Roman\", Times, serif; font-size:18px;'> Exit Statement</h5><br>\n",
    "<p align='justify' style='margin: 10px 20px; line-height:1.5; font-family: \"Times New Roman\", Times, serif; font-size:16px; color: black'>\n",
    "    In shell scripting, the exit statement is used to terminate the execution of a script. It can also be used to return a value to the calling program or shell. Here's a breakdown of how the exit statement works:\n",
    "\n",
    "</p>"
   ]
  },
  {
   "cell_type": "markdown",
   "id": "3b154735",
   "metadata": {
    "slideshow": {
     "slide_type": "subslide"
    }
   },
   "source": [
    "<p align='justify' style='margin: 10px 20px; line-height:1.5; font-family: \"Times New Roman\", Times, serif; font-size:16px; color: red'>\n",
    "    \n",
    "  <ul style='font-family: \"Times New Roman\", Times, serif; font-weight:light; font-size:16px;'>\n",
    "      <li>The exit statement is followed by a numeric value, which can range from 0 to 255. This value is known as the exit status.</li>\n",
    "      <li>If the exit status is 0, it indicates that the script executed successfully. Any other value indicates an error or abnormal termination.</li>\n",
    "      <li>The exit statement can be used anywhere in the script, but it is commonly used within conditional statements or loops to terminate the script if a certain condition is met.</li>\n",
    "    \n",
    "  </ul>\n",
    "</p><br>\n",
    "<p align='justify' style='margin: 10px 20px; line-height:1.5; font-family: \"Times New Roman\", Times, serif; font-size:16px; color: purple'>\n",
    "    Here's an example of how the exit statement can be used:\n",
    "\n",
    "</p>"
   ]
  },
  {
   "cell_type": "code",
   "execution_count": null,
   "id": "707d13aa",
   "metadata": {
    "slideshow": {
     "slide_type": "subslide"
    }
   },
   "outputs": [],
   "source": [
    "#!/bin/bash\n",
    "\n",
    "# Ask the user for a number\n",
    "echo \"Enter a number:\"\n",
    "read num\n",
    "\n",
    "# Check if the number is even or odd\n",
    "if (( $num % 2 == 0 )); then\n",
    "    echo \"$num is even\"\n",
    "else\n",
    "    echo \"$num is odd\"\n",
    "    exit 1\n",
    "fi\n",
    "\n",
    "echo \"Done\""
   ]
  },
  {
   "cell_type": "markdown",
   "id": "2a3a4dc6",
   "metadata": {
    "slideshow": {
     "slide_type": "subslide"
    }
   },
   "source": [
    "<p align='justify' style='margin: 10px 20px; line-height:1.5; font-family: \"Times New Roman\", Times, serif; font-size:16px; color: purple'>\n",
    "    In this example, the script prompts the user to enter a number, and then checks whether the number is even or odd using a conditional statement. If the number is odd, the script uses the exit statement to terminate the script with an exit status of 1. If the number is even, the script continues to the next line and prints \"Done\".\n",
    "\n",
    "</p><br><br>\n",
    "<h3 style='color:red; font-weight:bold; text-align:center; font-family: \"Times New Roman\", Times, serif; font-size:20px;'> Script Execution Modes</h3><br>\n",
    "<p align='justify' style='margin: 10px 20px; line-height:1.5; font-family: \"Times New Roman\", Times, serif; font-size:16px; color: black'>\n",
    "    In shell scripting, there are several modes of script execution that can be used to run scripts. These modes determine how the shell will execute the commands in the script. The main modes of script execution are: \n",
    "\n",
    "\n",
    "</p>"
   ]
  },
  {
   "cell_type": "markdown",
   "id": "c567b986",
   "metadata": {
    "slideshow": {
     "slide_type": "subslide"
    }
   },
   "source": [
    "<p align='justify' style='margin: 10px 20px; line-height:1.5; font-family: \"Times New Roman\", Times, serif; font-size:16px; color: red'>\n",
    "    \n",
    "  <ul style='font-family: \"Times New Roman\", Times, serif; font-weight:light; font-size:16px;'>\n",
    "      <li><b style = \"color: purple\">Script mode: </b><br><br>In script mode, the shell reads and executes the commands in the script file sequentially, from the first line to the last line. To run a script in script mode, you can use the following command:</li>\n",
    "      \n",
    "    \n",
    "  </ul>\n",
    "</p>"
   ]
  },
  {
   "cell_type": "code",
   "execution_count": null,
   "id": "99d7b634",
   "metadata": {
    "slideshow": {
     "slide_type": "subslide"
    }
   },
   "outputs": [],
   "source": [
    "bash script.sh"
   ]
  },
  {
   "cell_type": "markdown",
   "id": "40fba317",
   "metadata": {
    "slideshow": {
     "slide_type": "subslide"
    }
   },
   "source": [
    "<p align='justify' style='margin: 10px 20px; line-height:1.5; font-family: \"Times New Roman\", Times, serif; font-size:16px; color: purple'>\n",
    "    This command tells the shell to execute the commands in the \"script.sh\" file using the bash interpreter. \n",
    "\n",
    "\n",
    "</p><br><br>\n",
    "<p align='justify' style='margin: 10px 20px; line-height:1.5; font-family: \"Times New Roman\", Times, serif; font-size:16px; color: red'>\n",
    "    \n",
    "  <ul style='font-family: \"Times New Roman\", Times, serif; font-weight:light; font-size:16px;'>\n",
    "      <li><b style = \"color: purple\">Interpreter call mode: </b><br><br>In interpreter call mode, the script file itself contains the name of the interpreter to be used to execute the script. To run a script in interpreter call mode, you can use the following command:</li>\n",
    "      \n",
    "    \n",
    "  </ul>\n",
    "</p>"
   ]
  },
  {
   "cell_type": "code",
   "execution_count": null,
   "id": "9ec62077",
   "metadata": {
    "slideshow": {
     "slide_type": "subslide"
    }
   },
   "outputs": [],
   "source": [
    "./script.sh"
   ]
  },
  {
   "cell_type": "markdown",
   "id": "f8ce2829",
   "metadata": {
    "slideshow": {
     "slide_type": "subslide"
    }
   },
   "source": [
    "<p align='justify' style='margin: 10px 20px; line-height:1.5; font-family: \"Times New Roman\", Times, serif; font-size:16px; color: purple'>\n",
    "    This command tells the shell to execute the commands in the \"script.sh\" file using the interpreter specified in the first line of the file, which is typically \"#!/bin/bash\". \n",
    "\n",
    "\n",
    "</p><br><br>\n",
    "<p align='justify' style='margin: 10px 20px; line-height:1.5; font-family: \"Times New Roman\", Times, serif; font-size:16px; color: red'>\n",
    "    \n",
    "  <ul style='font-family: \"Times New Roman\", Times, serif; font-weight:light; font-size:16px;'>\n",
    "      <li><b style = \"color: purple\">Environment variable mode </b><br><br> In environment variable mode, the path to the script file is added to the PATH environment variable, allowing you to run the script from anywhere in the file system. To run a script in environment variable mode, you can use the following command:</li>\n",
    "      \n",
    "    \n",
    "  </ul>\n",
    "</p>"
   ]
  },
  {
   "cell_type": "code",
   "execution_count": null,
   "id": "70a0ac11",
   "metadata": {
    "slideshow": {
     "slide_type": "subslide"
    }
   },
   "outputs": [],
   "source": [
    "export PATH=$PATH:/path/to/script"
   ]
  },
  {
   "cell_type": "markdown",
   "id": "f2255a61",
   "metadata": {
    "slideshow": {
     "slide_type": "subslide"
    }
   },
   "source": [
    "<p align='justify' style='margin: 10px 20px; line-height:1.5; font-family: \"Times New Roman\", Times, serif; font-size:16px; color: purple'>\n",
    "    This command adds the path to the script file to the end of the PATH environment variable, allowing you to run the script by simply typing its name in the terminal.\n",
    "</p><br><br>\n",
    "<p align='justify' style='margin: 10px 20px; line-height:1.5; font-family: \"Times New Roman\", Times, serif; font-size:16px; color: red'>\n",
    "    \n",
    "  <ul style='font-family: \"Times New Roman\", Times, serif; font-weight:light; font-size:16px;'>\n",
    "      <li><b style = \"color: purple\">Synchronous mode: </b><br><br> In synchronous mode, the shell waits for each command in the script to complete before moving on to the next command. To run a script in synchronous mode, you can use the following command:</li>\n",
    "      \n",
    "    \n",
    "  </ul>\n",
    "</p>"
   ]
  },
  {
   "cell_type": "code",
   "execution_count": null,
   "id": "06f21bee",
   "metadata": {
    "slideshow": {
     "slide_type": "subslide"
    }
   },
   "outputs": [],
   "source": [
    "bash -e script.sh"
   ]
  },
  {
   "cell_type": "markdown",
   "id": "da52628e",
   "metadata": {
    "slideshow": {
     "slide_type": "subslide"
    }
   },
   "source": [
    "<p align='justify' style='margin: 10px 20px; line-height:1.5; font-family: \"Times New Roman\", Times, serif; font-size:16px; color: purple'>\n",
    "    The \"-e\" option tells the shell to exit the script immediately if any command in the script fails.\n",
    "</p><br><br>\n",
    "<p align='justify' style='margin: 10px 20px; line-height:1.5; font-family: \"Times New Roman\", Times, serif; font-size:16px; color: red'>\n",
    "    \n",
    "  <ul style='font-family: \"Times New Roman\", Times, serif; font-weight:light; font-size:16px;'>\n",
    "      <li><b style = \"color: purple\">Asynchronous mode: </b><br><br> In asynchronous mode, the shell does not wait for each command in the script to complete before moving on to the next command. To run a script in asynchronous mode, you can use the following command:</li>\n",
    "      \n",
    "    \n",
    "  </ul>\n",
    "</p>"
   ]
  },
  {
   "cell_type": "code",
   "execution_count": null,
   "id": "ab8242fb",
   "metadata": {
    "slideshow": {
     "slide_type": "subslide"
    }
   },
   "outputs": [],
   "source": [
    "bash script.sh &"
   ]
  },
  {
   "cell_type": "markdown",
   "id": "d3ee40a5",
   "metadata": {
    "slideshow": {
     "slide_type": "subslide"
    }
   },
   "source": [
    "<p align='justify' style='margin: 10px 20px; line-height:1.5; font-family: \"Times New Roman\", Times, serif; font-size:16px; color: purple'>\n",
    "    The \"&\" symbol at the end of the command tells the shell to run the script in the background.\n",
    "</p><br><br>\n",
    "<p align='justify' style='margin: 10px 20px; line-height:1.5; font-family: \"Times New Roman\", Times, serif; font-size:16px; color: red'>\n",
    "    \n",
    "  <ul style='font-family: \"Times New Roman\", Times, serif; font-weight:light; font-size:16px;'>\n",
    "      <li><b style = \"color: purple\">nohup mode: </b><br><br> In nohup mode, the script is run in the background, and any output from the script is redirected to a file, allowing the script to continue running even if the terminal is closed. To run a script in nohup mode, you can use the following command:</li>\n",
    "      \n",
    "    \n",
    "  </ul>\n",
    "</p>"
   ]
  },
  {
   "cell_type": "code",
   "execution_count": null,
   "id": "5dfb9ab9",
   "metadata": {
    "slideshow": {
     "slide_type": "subslide"
    }
   },
   "outputs": [],
   "source": [
    "nohup bash script.sh &"
   ]
  },
  {
   "cell_type": "markdown",
   "id": "b9ac405d",
   "metadata": {
    "slideshow": {
     "slide_type": "subslide"
    }
   },
   "source": [
    "<p align='justify' style='margin: 10px 20px; line-height:1.5; font-family: \"Times New Roman\", Times, serif; font-size:16px; color: purple'>\n",
    "    The \"nohup\" command tells the shell to run the script in the background and redirect its output to a file named \"nohup.out\".\n",
    "</p><br><br>\n",
    "<p align='justify' style='margin: 10px 20px; line-height:1.5; font-family: \"Times New Roman\", Times, serif; font-size:16px; color: red'>\n",
    "    \n",
    "  <ul style='font-family: \"Times New Roman\", Times, serif; font-weight:light; font-size:16px;'>\n",
    "      <li><b style = \"color: purple\">Dot Command: </b><br><br> The dot command (.) is used in shell scripting to source or import a script into the current script. When you run a script using the dot command, it executes the script in the current shell session rather than in a new shell session. This means that any changes made to environment variables, aliases, and functions within the sourced script will affect the current shell session.<br><br><br>Here's an example of using the dot command to source a script:\n",
    "\n",
    "</li>\n",
    "      \n",
    "    \n",
    "  </ul>\n",
    "</p>"
   ]
  },
  {
   "cell_type": "code",
   "execution_count": null,
   "id": "3829cf0c",
   "metadata": {
    "slideshow": {
     "slide_type": "subslide"
    }
   },
   "outputs": [],
   "source": [
    ". ./myscript.sh"
   ]
  },
  {
   "cell_type": "markdown",
   "id": "30a9613b",
   "metadata": {
    "slideshow": {
     "slide_type": "subslide"
    }
   },
   "source": [
    "<p align='justify' style='margin: 10px 20px; line-height:1.5; font-family: \"Times New Roman\", Times, serif; font-size:16px; color: purple'>\n",
    "    This will execute the script \"myscript.sh\" in the current shell session.\n",
    "</p><br><br>\n",
    "<p align='justify' style='margin: 10px 20px; line-height:1.5; font-family: \"Times New Roman\", Times, serif; font-size:16px; color: red'>\n",
    "    \n",
    "  <ul style='font-family: \"Times New Roman\", Times, serif; font-weight:light; font-size:16px;'>\n",
    "      <li><b style = \"color: purple\">Exec Command: </b><br><br> The exec command is used in shell scripting to replace the current shell process with a new process. This means that any code written after the exec command will not be executed. The exec command is useful for changing the shell's identity or for starting a new process that replaces the current process.<br><br><br><br>Here's an example of using the exec command to replace the current shell with a new process:</li>\n",
    "      \n",
    "    \n",
    "  </ul>\n",
    "</p>"
   ]
  },
  {
   "cell_type": "code",
   "execution_count": null,
   "id": "05788fa7",
   "metadata": {
    "slideshow": {
     "slide_type": "subslide"
    }
   },
   "outputs": [],
   "source": [
    "exec ls"
   ]
  },
  {
   "cell_type": "markdown",
   "id": "4fd2109c",
   "metadata": {
    "slideshow": {
     "slide_type": "subslide"
    }
   },
   "source": [
    "<p align='justify' style='margin: 10px 20px; line-height:1.5; font-family: \"Times New Roman\", Times, serif; font-size:16px; color: purple'>\n",
    "    This will replace the current shell process with the \"ls\" command, which will list the contents of the current directory.\n",
    "</p><br><br>\n",
    "<h3 style='color:red; font-weight:bold; text-align:center; font-family: \"Times New Roman\", Times, serif; font-size:20px;'> Array</h3><br>\n",
    "<p align='justify' style='margin: 10px 20px; line-height:1.5; font-family: \"Times New Roman\", Times, serif; font-size:16px; color: black'>\n",
    "    In shell scripting, an array is a collection of data elements that are of the same data type. Arrays are useful for storing and manipulating sets of data, such as a list of filenames or a set of numeric values. Here's an overview of how to declare and initialize arrays in shell scripting:<br><br><br>Array declaration refers to the process of defining an array in a shell script. This involves specifying the name of the array and the number of elements it will contain. Here's an example of array declaration in shell scripting:\n",
    "\n",
    "\n",
    "</p>"
   ]
  },
  {
   "cell_type": "code",
   "execution_count": null,
   "id": "a23805be",
   "metadata": {
    "slideshow": {
     "slide_type": "subslide"
    }
   },
   "outputs": [],
   "source": [
    "# Declare an array with 5 elements\n",
    "my_array=(element1 element2 element3 element4 element5)"
   ]
  },
  {
   "cell_type": "markdown",
   "id": "c69cf256",
   "metadata": {
    "slideshow": {
     "slide_type": "subslide"
    }
   },
   "source": [
    "<p align='justify' style='margin: 10px 20px; line-height:1.5; font-family: \"Times New Roman\", Times, serif; font-size:16px; color: purple'>\n",
    "    In this example, my_array is the name of the array and (element1 element2 element3 element4 element5) is the list of elements the array will contain. parentheses are used to enclose the list of values that will be assigned to the array during initialization.<br><br>You can also declare an empty array and then assign values to it later:\n",
    "\n",
    "\n",
    "</p>"
   ]
  },
  {
   "cell_type": "code",
   "execution_count": null,
   "id": "223a4ef9",
   "metadata": {
    "slideshow": {
     "slide_type": "subslide"
    }
   },
   "outputs": [],
   "source": [
    "# declare an empty array\n",
    "numbers=()\n",
    "\n",
    "# assign values to the array\n",
    "numbers[0]=10\n",
    "numbers[1]=20\n",
    "numbers[2]=30"
   ]
  },
  {
   "cell_type": "markdown",
   "id": "5b16c233",
   "metadata": {
    "slideshow": {
     "slide_type": "subslide"
    }
   },
   "source": [
    "<p align='justify' style='margin: 10px 20px; line-height:1.5; font-family: \"Times New Roman\", Times, serif; font-size:16px; color: purple'>\n",
    "    In this example, we first declare an empty array called \"numbers\" using parentheses with no values inside. Then, we assign values to the array using the index notation, where the first element has an index of 0. We assign the values 10, 20, and 30 to the first three elements of the array, respectively.\n",
    "\n",
    "\n",
    "</p><br><br>\n",
    "<p align='justify' style='margin: 10px 20px; line-height:1.5; font-family: \"Times New Roman\", Times, serif; font-size:16px; color: black'>\n",
    "    Array initialization, refers to the process of assigning values to the elements of an array after it has been declared.\n",
    "\n",
    "\n",
    "</p><br><br>\n",
    "<h5 style='color:red; font-weight:bold; text-align:center; font-family: \"Times New Roman\", Times, serif; font-size:18px;'> Accessing array elements</h5><br>\n",
    "<p align='justify' style='margin: 10px 20px; line-height:1.5; font-family: \"Times New Roman\", Times, serif; font-size:16px; color: purple'>\n",
    "    In shell scripting, you can access individual elements of an array by specifying the index of the element you want to access. Here's an explanation of how to access array elements:\n",
    "\n",
    "\n",
    "</p>"
   ]
  },
  {
   "cell_type": "markdown",
   "id": "e050c145",
   "metadata": {
    "slideshow": {
     "slide_type": "subslide"
    }
   },
   "source": [
    "<p align='justify' style='margin: 10px 20px; line-height:1.5; font-family: \"Times New Roman\", Times, serif; font-size:16px; color: purple'>\n",
    "    <b>Accessing elements using index:</b><br><br><br>\n",
    "To access an element in an array, you can use the array variable name followed by the index of the element enclosed in square brackets.\n",
    "\n",
    "\n",
    "</p>"
   ]
  },
  {
   "cell_type": "code",
   "execution_count": null,
   "id": "db053970",
   "metadata": {
    "slideshow": {
     "slide_type": "subslide"
    }
   },
   "outputs": [],
   "source": [
    "# Declare and initialize an array\n",
    "my_array=(apple banana cherry)\n",
    "\n",
    "# Accessing elements using index\n",
    "echo ${my_array[0]}  # Output: apple\n",
    "echo ${my_array[1]}  # Output: banana\n",
    "echo ${my_array[2]}  # Output: cherry"
   ]
  },
  {
   "cell_type": "markdown",
   "id": "99790ab5",
   "metadata": {
    "slideshow": {
     "slide_type": "subslide"
    }
   },
   "source": [
    "<p align='justify' style='margin: 10px 20px; line-height:1.5; font-family: \"Times New Roman\", Times, serif; font-size:16px; color: purple'>\n",
    "    <b>Accessing all elements in an array:</b><br><br><br>\n",
    "To access an element in an array, you can use the array variable name followed by the index of the element enclosed in square brackets.<br><br><br><b style = \"color: black\">To access all the elements of an array, you can use the * or @ symbols with the array variable name. This will expand to all the elements of the array.</b>\n",
    "\n",
    "</p>"
   ]
  },
  {
   "cell_type": "code",
   "execution_count": null,
   "id": "d3bd616b",
   "metadata": {
    "slideshow": {
     "slide_type": "subslide"
    }
   },
   "outputs": [],
   "source": [
    "# Declare and initialize an array\n",
    "my_array=(apple banana cherry)\n",
    "\n",
    "# Accessing all elements in an array\n",
    "echo ${my_array[*]}  # Output: apple banana cherry\n",
    "echo ${my_array[@]}  # Output: apple banana cherry"
   ]
  },
  {
   "cell_type": "markdown",
   "id": "d76ba490",
   "metadata": {
    "slideshow": {
     "slide_type": "subslide"
    }
   },
   "source": [
    "<p align='justify' style='margin: 10px 20px; line-height:1.5; font-family: \"Times New Roman\", Times, serif; font-size:16px; color: purple'>\n",
    "    <b>Accessing a range of elements:</b><br><br><br>\n",
    "To access an element in an array, you can use the array variable name followed by the index of the element enclosed in square brackets.<br><br><br><b style = \"color: black\">To access a range of elements in an array, you can use the ${array_name[@]:start_index:length} syntax. This will extract a sub-array starting from the start_index and including length number of elements.</b>\n",
    "\n",
    "</p>"
   ]
  },
  {
   "cell_type": "code",
   "execution_count": null,
   "id": "64b17087",
   "metadata": {
    "slideshow": {
     "slide_type": "subslide"
    }
   },
   "outputs": [],
   "source": [
    "# Declare and initialize an array\n",
    "my_array=(apple banana cherry durian elderberry)\n",
    "\n",
    "# Accessing a range of elements\n",
    "echo ${my_array[@]:1:3}  # Output: banana cherry durian"
   ]
  },
  {
   "cell_type": "markdown",
   "id": "1212099f",
   "metadata": {
    "slideshow": {
     "slide_type": "subslide"
    }
   },
   "source": [
    "<p align='justify' style='margin: 10px 20px; line-height:1.5; font-family: \"Times New Roman\", Times, serif; font-size:16px; color: purple'>\n",
    "    In the above example, we extract a sub-array starting from index 1 (banana) and including the next 3 elements (cherry, durian, elderberry).\n",
    "\n",
    "</p><br><br>\n",
    "<p align='justify' style='margin: 10px 20px; line-height:1.5; font-family: \"Times New Roman\", Times, serif; font-size:16px; color: black'>\n",
    "    Modifying array elements in shell scripting is a process of changing the values of array elements after they have been initialized. Here's a detailed explanation of how to modify array elements:\n",
    "\n",
    "</p><br><br>\n",
    "<p align='justify' style='margin: 10px 20px; line-height:1.5; font-family: \"Times New Roman\", Times, serif; font-size:16px; color: purple'>\n",
    "    To modify an array element, you need to specify the index of the element that you want to modify, and then assign a new value to that index. Here's an example:\n",
    "\n",
    "</p>"
   ]
  },
  {
   "cell_type": "code",
   "execution_count": null,
   "id": "2f3dcdc7",
   "metadata": {
    "slideshow": {
     "slide_type": "subslide"
    }
   },
   "outputs": [],
   "source": [
    "# Declare and initialize an array\n",
    "my_array=(\"apple\" \"banana\" \"orange\")\n",
    "\n",
    "# Modify the second element of the array\n",
    "my_array[1]=\"pear\"\n",
    "\n",
    "# Print the modified array\n",
    "echo \"${my_array[@]}\""
   ]
  },
  {
   "cell_type": "markdown",
   "id": "251aade0",
   "metadata": {
    "slideshow": {
     "slide_type": "subslide"
    }
   },
   "source": [
    "<p align='justify' style='margin: 10px 20px; line-height:1.5; font-family: \"Times New Roman\", Times, serif; font-size:16px; color: purple'>\n",
    "    In this example, we first declare and initialize an array called \"my_array\" with three elements: \"apple\", \"banana\", and \"orange\". We then modify the second element of the array (which has an index of 1) to have the value \"pear\" instead of \"banana\". Finally, we print the modified array using the \"${my_array[@]}\" syntax, which prints all the elements of the array.<br><br><br>It's important to note that you can only modify array elements that have already been initialized. If you try to modify an array element that hasn't been initialized yet, you will get an error.\n",
    "\n",
    "</p><br><br>\n",
    "\n",
    "<p align='justify' style='margin: 10px 20px; line-height:1.5; font-family: \"Times New Roman\", Times, serif; font-size:16px; color: black'>\n",
    "    Arrays can have different lengths depending on the number of elements they contain. It's important to know how to determine the length or size of an array, as this information can be useful in various programming tasks.<br><br><br>Here are some ways to determine the length or size of an array in shell scripting:\n",
    "\n",
    "</p><br><br>\n",
    "<p align='justify' style='margin: 10px 20px; line-height:1.5; font-family: \"Times New Roman\", Times, serif; font-size:16px; color: purple'>\n",
    "    Using the \"${#array[@]}\" syntax: This syntax returns the number of elements in the array. Here's an example:\n",
    "\n",
    "</p>"
   ]
  },
  {
   "cell_type": "code",
   "execution_count": null,
   "id": "3b534024",
   "metadata": {
    "slideshow": {
     "slide_type": "subslide"
    }
   },
   "outputs": [],
   "source": [
    "#!/bin/bash\n",
    "\n",
    "my_array=(apple banana orange)\n",
    "echo \"The length of my_array is ${#my_array[@]}\""
   ]
  },
  {
   "cell_type": "markdown",
   "id": "cb88b377",
   "metadata": {
    "slideshow": {
     "slide_type": "subslide"
    }
   },
   "source": [
    "<p align='justify' style='margin: 10px 20px; line-height:1.5; font-family: \"Times New Roman\", Times, serif; font-size:16px; color: purple'>\n",
    "    Using the \"\\${#array[*]}\" syntax: This syntax is similar to the \"\\${#array[@]}\" syntax, but returns the length of the array as a single value instead of a list of values. Here's an example:\n",
    "\n",
    "</p>"
   ]
  },
  {
   "cell_type": "code",
   "execution_count": null,
   "id": "d9dc188f",
   "metadata": {
    "slideshow": {
     "slide_type": "subslide"
    }
   },
   "outputs": [],
   "source": [
    "#!/bin/bash\n",
    "\n",
    "my_array=(apple banana orange)\n",
    "echo \"The size of my_array is ${#my_array[*]}\""
   ]
  },
  {
   "cell_type": "markdown",
   "id": "6ab34d04",
   "metadata": {
    "slideshow": {
     "slide_type": "subslide"
    }
   },
   "source": [
    "<h5 style='color:red; font-weight:bold; text-align:center; font-family: \"Times New Roman\", Times, serif; font-size:18px;'> Associative arrays</h5><br>\n",
    "<p align='justify' style='margin: 10px 20px; line-height:1.5; font-family: \"Times New Roman\", Times, serif; font-size:16px; color: purple'>\n",
    "    Associative arrays, also known as hash tables or dictionaries, are a type of array that use key-value pairs instead of sequential indices to store and retrieve data. In shell scripting, associative arrays are declared and initialized using the following syntax:\n",
    "\n",
    "</p>"
   ]
  },
  {
   "cell_type": "code",
   "execution_count": null,
   "id": "8a2bcc08",
   "metadata": {
    "slideshow": {
     "slide_type": "subslide"
    }
   },
   "outputs": [],
   "source": [
    "declare -A my_array\n",
    "my_array[key1]=value1\n",
    "my_array[key2]=value2"
   ]
  },
  {
   "cell_type": "markdown",
   "id": "cf308370",
   "metadata": {
    "slideshow": {
     "slide_type": "subslide"
    }
   },
   "source": [
    "<p align='justify' style='margin: 10px 20px; line-height:1.5; font-family: \"Times New Roman\", Times, serif; font-size:16px; color: purple'>\n",
    "    Here's a breakdown of the code:<br><br><br>\"declare -A my_array:\" This line declares an associative array named my_array.<br>\"my_array[key1]=value1:\" This line assigns the value value1 to the key key1 in the my_array associative array.<br>\"my_array[key2]=value2:\" This line assigns the value value2 to the key key2 in the my_array associative array.<br><br>To access the values stored in an associative array, you can use the following syntax:\n",
    "\n",
    "</p>"
   ]
  },
  {
   "cell_type": "code",
   "execution_count": null,
   "id": "119708b5",
   "metadata": {
    "slideshow": {
     "slide_type": "subslide"
    }
   },
   "outputs": [],
   "source": [
    "${my_array[key1]}"
   ]
  },
  {
   "cell_type": "markdown",
   "id": "0fd99aa0",
   "metadata": {
    "slideshow": {
     "slide_type": "subslide"
    }
   },
   "source": [
    "<p align='justify' style='margin: 10px 20px; line-height:1.5; font-family: \"Times New Roman\", Times, serif; font-size:16px; color: purple'>\n",
    "    This will retrieve the value associated with the key1 key in the my_array associative array.\n",
    "\n",
    "</p><br><br>\n",
    "<p align='justify' style='margin: 10px 20px; line-height:1.5; font-family: \"Times New Roman\", Times, serif; font-size:16px; color: black'>\n",
    "    In addition to regular arrays, associative arrays also have a [@] index which returns an array of all the keys in the associative array. Here's an example:\n",
    "</p>"
   ]
  },
  {
   "cell_type": "code",
   "execution_count": null,
   "id": "cc9549cc",
   "metadata": {
    "slideshow": {
     "slide_type": "subslide"
    }
   },
   "outputs": [],
   "source": [
    "declare -A my_array\n",
    "my_array[key1]=value1\n",
    "my_array[key2]=value2\n",
    "\n",
    "echo \"${!my_array[@]}\""
   ]
  },
  {
   "cell_type": "markdown",
   "id": "e695e8cb",
   "metadata": {
    "slideshow": {
     "slide_type": "subslide"
    }
   },
   "source": [
    "<p align='justify' style='margin: 10px 20px; line-height:1.5; font-family: \"Times New Roman\", Times, serif; font-size:16px; color: purple'>\n",
    "    Multidimensional arrays in shell scripting allow for the creation of arrays with more than one dimension or index. They are useful for representing data that has multiple attributes or characteristics.<br><br>Here's an example of how to declare and initialize a multidimensional array in shell scripting:\n",
    "\n",
    "</p>"
   ]
  },
  {
   "cell_type": "code",
   "execution_count": null,
   "id": "a8fd40f7",
   "metadata": {
    "slideshow": {
     "slide_type": "subslide"
    }
   },
   "outputs": [],
   "source": [
    "#!/bin/bash\n",
    "\n",
    "# Declare a 2-dimensional array\n",
    "declare -A matrix\n",
    "\n",
    "# Initialize the array with some values\n",
    "matrix[0,0]=1\n",
    "matrix[0,1]=2\n",
    "matrix[1,0]=3\n",
    "matrix[1,1]=4\n",
    "\n",
    "# Access the values in the array\n",
    "echo \"Value at (0,0): ${matrix[0,0]}\"\n",
    "echo \"Value at (0,1): ${matrix[0,1]}\"\n",
    "echo \"Value at (1,0): ${matrix[1,0]}\"\n",
    "echo \"Value at (1,1): ${matrix[1,1]}\""
   ]
  },
  {
   "cell_type": "markdown",
   "id": "a40ca42f",
   "metadata": {
    "slideshow": {
     "slide_type": "subslide"
    }
   },
   "source": [
    "<p align='justify' style='margin: 10px 20px; line-height:1.5; font-family: \"Times New Roman\", Times, serif; font-size:16px; color: purple'>\n",
    "    In this example, we declare a 2-dimensional array called matrix using the declare -A command. We then initialize the array with some values, where the first index represents the row and the second index represents the column. Finally, we access the values in the array using the ${matrix[row,column]} syntax.<br><br><br>Note that multidimensional arrays in shell scripting are associative arrays, and they must be declared using the -A option. Also, multidimensional arrays are not true matrices, as they do not have any built-in support for matrix operations such as addition or multiplication.\n",
    "\n",
    "</p>"
   ]
  },
  {
   "cell_type": "markdown",
   "id": "79192973",
   "metadata": {
    "slideshow": {
     "slide_type": "subslide"
    }
   },
   "source": [
    "<h3 style='color:red; font-weight:bold; text-align:center; font-family: \"Times New Roman\", Times, serif; font-size:20px;'> Manipulation of strings and substrings </h3><br>\n",
    "<p align='justify' style='margin: 10px 20px; line-height:1.5; font-family: \"Times New Roman\", Times, serif; font-size:16px; color: black'>\n",
    "    In shell scripting, data types are not explicitly defined like in other programming languages. Variables are treated as strings by default, and no type declaration is needed. This means that the same variable can hold different types of values at different times.\n",
    "\n",
    "\n",
    "</p><br>\n",
    "<p align='justify' style='margin: 10px 20px; line-height:1.5; font-family: \"Times New Roman\", Times, serif; font-size:16px; color: black'>\n",
    "    The manipulation of strings and substrings is a crucial aspect of shell scripting. String manipulation involves modifying, extracting, or searching for a particular string or substring within a larger string.\n",
    "\n",
    "\n",
    "</p><br>\n",
    "<p align='justify' style='margin: 10px 20px; line-height:1.5; font-family: \"Times New Roman\", Times, serif; font-size:16px; color: purple'>\n",
    "    Shell scripting also allows for numerical operations, but it's important to note that shell arithmetic is limited compared to other programming languages. Shell scripting can handle integers and floating-point numbers, but it doesn't support complex data types like structs or classes. Additionally, shell arithmetic doesn't handle large numbers very well.\n",
    "\n",
    "\n",
    "</p>"
   ]
  },
  {
   "cell_type": "markdown",
   "id": "d7a10272",
   "metadata": {
    "slideshow": {
     "slide_type": "subslide"
    }
   },
   "source": [
    "<h5 style='color:red; font-weight:bold; text-align:center; font-family: \"Times New Roman\", Times, serif; font-size:18px;'> String declaration and initialization </h5><br>\n",
    "<p align='justify' style='margin: 10px 20px; line-height:1.5; font-family: \"Times New Roman\", Times, serif; font-size:16px; color: black'>\n",
    "    In shell scripting, strings can be declared and initialized just like variables. Here's an example:\n",
    "\n",
    "\n",
    "</p>"
   ]
  },
  {
   "cell_type": "code",
   "execution_count": null,
   "id": "0bb0e84f",
   "metadata": {
    "slideshow": {
     "slide_type": "subslide"
    }
   },
   "outputs": [],
   "source": [
    "string=\"Hello, World!\"\n",
    "echo $string"
   ]
  },
  {
   "cell_type": "markdown",
   "id": "d8b5f9c1",
   "metadata": {
    "slideshow": {
     "slide_type": "subslide"
    }
   },
   "source": [
    "<p align='justify' style='margin: 10px 20px; line-height:1.5; font-family: \"Times New Roman\", Times, serif; font-size:16px; color: black'>\n",
    "    In this example, we declare a string variable named \"string\" and initialize it with the value \"Hello, World!\". We then use the \"echo\" command to output the value of the string.<br><br>To declare a string variable, we simply assign a value to it using the \"=\" operator. It's important to note that in shell scripting, we do not need to specify a data type for variables, including strings. The shell will automatically interpret the variable as a string.<br><br>We can also use single or double quotes to declare strings. Double quotes are typically used when we want to include variables or special characters within the string, while single quotes are used when we want to preserve the literal value of the string.\n",
    "\n",
    "\n",
    "</p><br><br>\n",
    "<p align='justify' style='margin: 10px 20px; line-height:1.5; font-family: \"Times New Roman\", Times, serif; font-size:16px; color: purple'>\n",
    "    Here's an example of using single quotes:\n",
    "\n",
    "\n",
    "</p>"
   ]
  },
  {
   "cell_type": "code",
   "execution_count": null,
   "id": "45067280",
   "metadata": {
    "slideshow": {
     "slide_type": "subslide"
    }
   },
   "outputs": [],
   "source": [
    "string='Hello, World!'\n",
    "echo $string"
   ]
  },
  {
   "cell_type": "markdown",
   "id": "b0126645",
   "metadata": {
    "slideshow": {
     "slide_type": "subslide"
    }
   },
   "source": [
    "<p align='justify' style='margin: 10px 20px; line-height:1.5; font-family: \"Times New Roman\", Times, serif; font-size:16px; color: purple'>\n",
    "    And here's an example of using double quotes with a variable:\n",
    "\n",
    "\n",
    "</p>"
   ]
  },
  {
   "cell_type": "code",
   "execution_count": null,
   "id": "4839c090",
   "metadata": {
    "slideshow": {
     "slide_type": "subslide"
    }
   },
   "outputs": [],
   "source": [
    "name=\"Alice\"\n",
    "string=\"Hello, $name!\"\n",
    "echo $string"
   ]
  },
  {
   "cell_type": "markdown",
   "id": "24892e0d",
   "metadata": {
    "slideshow": {
     "slide_type": "subslide"
    }
   },
   "source": [
    "<p align='justify' style='margin: 10px 20px; line-height:1.5; font-family: \"Times New Roman\", Times, serif; font-size:16px; color: purple'>\n",
    "    It's worth noting that in shell scripting, strings are not treated as separate data types from other variables, like integers or floats. They are all interpreted as strings by default.\n",
    "\n",
    "\n",
    "</p><br><br>\n",
    "<p align='justify' style='margin: 10px 20px; line-height:1.5; font-family: \"Times New Roman\", Times, serif; font-size:16px; color: black'>\n",
    "    In Bash scripting, you can find the length or size of a string using the built-in ${#string} syntax. This syntax returns the length of the string variable \"string\".<br><br>Here's an explanation of how it works:\n",
    "\n",
    "\n",
    "</p>"
   ]
  },
  {
   "cell_type": "code",
   "execution_count": null,
   "id": "43f042a1",
   "metadata": {
    "slideshow": {
     "slide_type": "subslide"
    }
   },
   "outputs": [],
   "source": [
    "string=\"Hello, world!\"\n",
    "echo \"The length of the string is ${#string}\""
   ]
  },
  {
   "cell_type": "markdown",
   "id": "d1689df3",
   "metadata": {
    "slideshow": {
     "slide_type": "subslide"
    }
   },
   "source": [
    "<p align='justify' style='margin: 10px 20px; line-height:1.5; font-family: \"Times New Roman\", Times, serif; font-size:16px; color: purple'>\n",
    "    In the above example, the output would be \"The length of the string is 13\", since there are 13 characters in the string \"Hello, world!\".<br><br>Getting the length of a user input:\n",
    "\n",
    "\n",
    "</p>"
   ]
  },
  {
   "cell_type": "code",
   "execution_count": null,
   "id": "9907e5a6",
   "metadata": {
    "slideshow": {
     "slide_type": "subslide"
    }
   },
   "outputs": [],
   "source": [
    "echo \"Enter a string:\"\n",
    "read string\n",
    "echo \"The length of the string is ${#string}\""
   ]
  },
  {
   "cell_type": "markdown",
   "id": "0d04c91a",
   "metadata": {
    "slideshow": {
     "slide_type": "subslide"
    }
   },
   "source": [
    "<p align='justify' style='margin: 10px 20px; line-height:1.5; font-family: \"Times New Roman\", Times, serif; font-size:16px; color: black'>\n",
    "    This code uses the shell's echo and read commands to prompt the user to enter a string and store it in the \"string\" variable. It then uses the ${#string} syntax to output the length of the string entered by the user. The # symbol followed by the variable name returns the length of the variable's value, allowing the code to output \"The length of the string is [length of the string]\".<br><br><b>Using a variable that contains a string</b>\n",
    "\n",
    "\n",
    "</p>"
   ]
  },
  {
   "cell_type": "code",
   "execution_count": null,
   "id": "8fad84e9",
   "metadata": {
    "slideshow": {
     "slide_type": "subslide"
    }
   },
   "outputs": [],
   "source": [
    "greeting=\"Welcome to Bash scripting!\"\n",
    "echo \"The length of the string is ${#greeting}\""
   ]
  },
  {
   "cell_type": "markdown",
   "id": "43a4faf2",
   "metadata": {
    "slideshow": {
     "slide_type": "subslide"
    }
   },
   "source": [
    "<p align='justify' style='margin: 10px 20px; line-height:1.5; font-family: \"Times New Roman\", Times, serif; font-size:16px; color: purple'>\n",
    "    This code initializes a variable called \"greeting\" with the string \"Welcome to Bash scripting!\", and then uses the \\${#greeting} syntax to output the length of the string stored in the \"greeting\" variable.<br><br>The ${#variable_name} syntax is used to obtain the length of the value stored in a variable. In this case, the variable is \"greeting\" and its value is \"Welcome to Bash scripting!\". The output of the command will be the length of the string, which is the number of characters in the string.<br><br><br><b>Getting the length of a command output</b>\n",
    "\n",
    "\n",
    "</p>"
   ]
  },
  {
   "cell_type": "code",
   "execution_count": null,
   "id": "4a39c835",
   "metadata": {
    "slideshow": {
     "slide_type": "subslide"
    }
   },
   "outputs": [],
   "source": [
    "directory_list=$(ls /home/user/documents)\n",
    "echo \"The length of the directory list is ${#directory_list}\""
   ]
  },
  {
   "cell_type": "markdown",
   "id": "026f1b5e",
   "metadata": {
    "slideshow": {
     "slide_type": "subslide"
    }
   },
   "source": [
    "<p align='justify' style='margin: 10px 20px; line-height:1.5; font-family: \"Times New Roman\", Times, serif; font-size:16px; color: purple'>\n",
    "    This code stores the output of the \"ls\" command on the \"/home/user/documents\" directory into the \"directory_list\" variable using command substitution. It then uses the ${#directory_list} syntax to output the length of the directory list. The # symbol followed by the variable name returns the length of the variable's value. The output will be \"The length of the directory list is [length of the directory list]\".\n",
    "\n",
    "</p><br><br><br>\n",
    "<p align='justify' style='margin: 10px 20px; line-height:1.5; font-family: \"Times New Roman\", Times, serif; font-size:16px; color: black'>\n",
    "    <b>String concatenation</b> in shell scripting refers to combining two or more strings into a single string. This can be done using the concatenation operator, which is the + symbol.\n",
    "\n",
    "</p>"
   ]
  },
  {
   "cell_type": "code",
   "execution_count": null,
   "id": "16d7ccec",
   "metadata": {
    "slideshow": {
     "slide_type": "subslide"
    }
   },
   "outputs": [],
   "source": [
    "first_name=\"John\"\n",
    "last_name=\"Doe\"\n",
    "full_name=$first_name+$last_name\n",
    "echo \"Full name: $full_name\""
   ]
  },
  {
   "cell_type": "markdown",
   "id": "189a6e1c",
   "metadata": {
    "slideshow": {
     "slide_type": "subslide"
    }
   },
   "source": [
    "<p align='justify' style='margin: 10px 20px; line-height:1.5; font-family: \"Times New Roman\", Times, serif; font-size:16px; color: purple'>\n",
    "    In this example, we first declare two string variables first_name and last_name. We then concatenate these two strings using the + operator and assign the result to the full_name variable. Finally, we use the echo command to output the value of full_name to the console.\n",
    "\n",
    "\n",
    "\n",
    "</p><br><br>\n",
    "<p align='justify' style='margin: 10px 20px; line-height:1.5; font-family: \"Times New Roman\", Times, serif; font-size:16px; color: black'>\n",
    "    It's also possible to concatenate strings using the \\${variable1}\\${variable2} syntax. Here's an example:\n",
    "\n",
    "\n",
    "\n",
    "</p>"
   ]
  },
  {
   "cell_type": "code",
   "execution_count": null,
   "id": "053cc009",
   "metadata": {
    "slideshow": {
     "slide_type": "subslide"
    }
   },
   "outputs": [],
   "source": [
    "first_name=\"John\"\n",
    "last_name=\"Doe\"\n",
    "full_name=${first_name}${last_name}\n",
    "echo \"Full name: $full_name\""
   ]
  },
  {
   "cell_type": "markdown",
   "id": "08b72f13",
   "metadata": {
    "slideshow": {
     "slide_type": "subslide"
    }
   },
   "source": [
    "<p align='justify' style='margin: 10px 20px; line-height:1.5; font-family: \"Times New Roman\", Times, serif; font-size:16px; color: purple'>\n",
    "    In this example, we use the \\${variable1}\\${variable2} syntax to concatenate the first_name and last_name variables. The resulting value is assigned to the full_name variable, which is then output to the console.\n",
    "\n",
    "</p><br><br>\n",
    "<p align='justify' style='margin: 10px 20px; line-height:1.5; font-family: \"Times New Roman\", Times, serif; font-size:16px; color: black'>\n",
    "    <b>String comparison</b> is the process of comparing two strings to determine if they are equal or not. In shell scripting, we can use various operators and commands for string comparison. Here are some examples:<br><br>Using the equality operator (==):\n",
    "\n",
    "</p>"
   ]
  },
  {
   "cell_type": "code",
   "execution_count": null,
   "id": "d52137f3",
   "metadata": {
    "slideshow": {
     "slide_type": "subslide"
    }
   },
   "outputs": [],
   "source": [
    "string1=\"hello\"\n",
    "string2=\"world\"\n",
    "if [ \"$string1\" == \"$string2\" ]; then\n",
    "  echo \"The strings are equal\"\n",
    "else\n",
    "  echo \"The strings are not equal\"\n",
    "fi"
   ]
  },
  {
   "cell_type": "markdown",
   "id": "afcaecf9",
   "metadata": {
    "slideshow": {
     "slide_type": "subslide"
    }
   },
   "source": [
    "<p align='justify' style='margin: 10px 20px; line-height:1.5; font-family: \"Times New Roman\", Times, serif; font-size:16px; color: purple'>\n",
    "    This example compares the values of two variables, string1 and string2, using the equality operator. If the values are equal, it will print \"The strings are equal\", otherwise it will print \"The strings are not equal\".<br><br><br>Using the inequality operator (!=):\n",
    "\n",
    "</p>"
   ]
  },
  {
   "cell_type": "code",
   "execution_count": null,
   "id": "c2fb815a",
   "metadata": {
    "slideshow": {
     "slide_type": "subslide"
    }
   },
   "outputs": [],
   "source": [
    "string1=\"hello\"\n",
    "string2=\"world\"\n",
    "if [ \"$string1\" != \"$string2\" ]; then\n",
    "  echo \"The strings are not equal\"\n",
    "else\n",
    "  echo \"The strings are equal\"\n",
    "fi"
   ]
  },
  {
   "cell_type": "markdown",
   "id": "0e521f3a",
   "metadata": {
    "slideshow": {
     "slide_type": "subslide"
    }
   },
   "source": [
    "<p align='justify' style='margin: 10px 20px; line-height:1.5; font-family: \"Times New Roman\", Times, serif; font-size:16px; color: purple'>\n",
    "    This example compares the values of two variables, string1 and string2, using the inequality operator. If the values are not equal, it will print \"The strings are not equal\", otherwise it will print \"The strings are equal\".<br><br>Using the test command:\n",
    "\n",
    "</p>"
   ]
  },
  {
   "cell_type": "code",
   "execution_count": null,
   "id": "3ab634ed",
   "metadata": {
    "slideshow": {
     "slide_type": "subslide"
    }
   },
   "outputs": [],
   "source": [
    "string1=\"hello\"\n",
    "string2=\"world\"\n",
    "if test \"$string1\" = \"$string2\"; then\n",
    "  echo \"The strings are equal\"\n",
    "else\n",
    "  echo \"The strings are not equal\"\n",
    "fi"
   ]
  },
  {
   "cell_type": "markdown",
   "id": "a5b373e1",
   "metadata": {
    "slideshow": {
     "slide_type": "subslide"
    }
   },
   "source": [
    "<p align='justify' style='margin: 10px 20px; line-height:1.5; font-family: \"Times New Roman\", Times, serif; font-size:16px; color: purple'>\n",
    "    This example uses the test command to compare the values of two variables, string1 and string2. If the values are equal, it will print \"The strings are equal\", otherwise it will print \"The strings are not equal\".<br><br>Using the double square brackets ([[ ]]):\n",
    "\n",
    "</p>"
   ]
  },
  {
   "cell_type": "code",
   "execution_count": null,
   "id": "25d9962a",
   "metadata": {
    "slideshow": {
     "slide_type": "subslide"
    }
   },
   "outputs": [],
   "source": [
    "string1=\"hello\"\n",
    "string2=\"world\"\n",
    "if [[ \"$string1\" == \"$string2\" ]]; then\n",
    "  echo \"The strings are equal\"\n",
    "else\n",
    "  echo \"The strings are not equal\"\n",
    "fi"
   ]
  },
  {
   "cell_type": "markdown",
   "id": "febd49d2",
   "metadata": {
    "slideshow": {
     "slide_type": "subslide"
    }
   },
   "source": [
    "<p align='justify' style='margin: 10px 20px; line-height:1.5; font-family: \"Times New Roman\", Times, serif; font-size:16px; color: purple'>\n",
    "    This example uses double square brackets to compare the values of two variables, string1 and string2. If the values are equal, it will print \"The strings are equal\", otherwise it will print \"The strings are not equal\".\n",
    "\n",
    "</p><br><br>\n",
    "<p align='justify' style='margin: 10px 20px; line-height:1.5; font-family: \"Times New Roman\", Times, serif; font-size:16px; color: black'>\n",
    "    <b>Substring extraction</b> in shell scripting refers to the process of extracting a specific portion of a string. This can be useful when you need to manipulate or work with a specific part of a string. There are different ways to extract substrings in shell scripting, including using the ${variable:offset:length} syntax, where \"variable\" is the name of the variable containing the string, \"offset\" is the starting position of the substring, and \"length\" is the number of characters to extract.\n",
    "\n",
    "</p>"
   ]
  },
  {
   "cell_type": "code",
   "execution_count": null,
   "id": "ac30ca0a",
   "metadata": {
    "slideshow": {
     "slide_type": "subslide"
    }
   },
   "outputs": [],
   "source": [
    "string=\"Hello, World!\"\n",
    "substring=${string:0:5}\n",
    "echo $substring"
   ]
  },
  {
   "cell_type": "markdown",
   "id": "2b158cbc",
   "metadata": {
    "slideshow": {
     "slide_type": "subslide"
    }
   },
   "source": [
    "<p align='justify' style='margin: 10px 20px; line-height:1.5; font-family: \"Times New Roman\", Times, serif; font-size:16px; color: purple'>\n",
    "    In this example, the variable \"string\" contains the string \"Hello, World!\". The ${string:0:5} syntax is used to extract a substring starting from the 0th position (i.e., the first character) and with a length of 5 characters. The result is the substring \"Hello\". The echo command is then used to output the substring to the console.\n",
    "\n",
    "</p><br><br>\n",
    "<p align='justify' style='margin: 10px 20px; line-height:1.5; font-family: \"Times New Roman\", Times, serif; font-size:16px; color: black'>\n",
    "    To extract the last 3 characters of a string:\n",
    "\n",
    "</p>"
   ]
  },
  {
   "cell_type": "code",
   "execution_count": null,
   "id": "81ebdeac",
   "metadata": {
    "slideshow": {
     "slide_type": "subslide"
    }
   },
   "outputs": [],
   "source": [
    "string=\"Hello, World!\"\n",
    "echo ${string: -3} # Output: \"ld!\""
   ]
  },
  {
   "cell_type": "markdown",
   "id": "3c5c3b90",
   "metadata": {
    "slideshow": {
     "slide_type": "subslide"
    }
   },
   "source": [
    "<p align='justify' style='margin: 10px 20px; line-height:1.5; font-family: \"Times New Roman\", Times, serif; font-size:16px; color: purple'>\n",
    "    This code initializes the variable string with the value \"Hello, World!\" and then uses the syntax \\${string: -3} to extract a substring starting from the third character from the end of the string until the end of the string.<br><br><br>The \\${string: -3} syntax is used to extract a substring from a variable or a string in bash. The : operator is used to specify the starting position of the substring, while the - sign before the number indicates that the position should be counted from the end of the string. In this example, the 3 specifies the number of characters to be extracted from the starting position. If no ending position is specified, the substring will continue until the end of the string. \n",
    "\n",
    "\n",
    "\n",
    "</p><br><br>\n",
    "<p align='justify' style='margin: 10px 20px; line-height:1.5; font-family: \"Times New Roman\", Times, serif; font-size:16px; color: black'>\n",
    "    To extract a substring starting from the 7th character and ending at the 12th character:\n",
    "\n",
    "\n",
    "\n",
    "</p>"
   ]
  },
  {
   "cell_type": "code",
   "execution_count": null,
   "id": "e4c72fad",
   "metadata": {
    "slideshow": {
     "slide_type": "subslide"
    }
   },
   "outputs": [],
   "source": [
    "string=\"Hello, World!\"\n",
    "echo ${string:6:6} # Output: \"World!\""
   ]
  },
  {
   "cell_type": "markdown",
   "id": "9b6c16ee",
   "metadata": {
    "slideshow": {
     "slide_type": "subslide"
    }
   },
   "source": [
    "<p align='justify' style='margin: 10px 20px; line-height:1.5; font-family: \"Times New Roman\", Times, serif; font-size:16px; color: purple'>\n",
    "    This code creates a variable named string and assigns the value \"Hello, World!\" to it. The next line uses the substring extraction syntax ${string:start:length} to extract a substring from the original string. In this case, the starting index is 6, and the length of the substring is 6, which means the characters from index 6 to index 11 (inclusive) will be extracted. The resulting substring is \"World!\", which is then printed to the console using the echo command.\n",
    "\n",
    "\n",
    "\n",
    "</p><br><br>\n",
    "<p align='justify' style='margin: 10px 20px; line-height:1.5; font-family: \"Times New Roman\", Times, serif; font-size:16px; color: black'>\n",
    "    To extract a substring from a file:\n",
    "\n",
    "\n",
    "\n",
    "</p>"
   ]
  },
  {
   "cell_type": "code",
   "execution_count": null,
   "id": "4eed7b1c",
   "metadata": {
    "slideshow": {
     "slide_type": "subslide"
    }
   },
   "outputs": [],
   "source": [
    "filename=\"example.txt\"\n",
    "echo $(cat $filename | cut -c 1-5) "
   ]
  },
  {
   "cell_type": "markdown",
   "id": "3941b96b",
   "metadata": {
    "slideshow": {
     "slide_type": "subslide"
    }
   },
   "source": [
    "<p align='justify' style='margin: 10px 20px; line-height:1.5; font-family: \"Times New Roman\", Times, serif; font-size:16px; color: purple'>\n",
    "    This code reads the contents of a file named \"example.txt\" using the cat command, then extracts the first five characters of each line using the cut command with the -c option. Finally, it echoes the extracted substring to the console.\n",
    "\n",
    "\n",
    "\n",
    "</p><br><br>\n",
    "<p align='justify' style='margin: 10px 20px; line-height:1.5; font-family: \"Times New Roman\", Times, serif; font-size:16px; color: black'>\n",
    "    <b>Substring replacement</b><br><br> Substring replacement is a useful feature in shell scripting that allows you to replace parts of a string with a new value. The syntax for substring replacement is as follows:<br><br>\\${string/old/new}<br><br>This replaces the first occurrence of \"old\" in \"string\" with \"new\". If you want to replace all occurrences, you can use the following syntax:<br><br>${string//old/new}\n",
    "\n",
    "\n",
    "\n",
    "</p><br><br>\n",
    "<p align='justify' style='margin: 10px 20px; line-height:1.5; font-family: \"Times New Roman\", Times, serif; font-size:16px; color: purple'>\n",
    "    Here's an example that demonstrates how to replace a substring in a string:\n",
    "\n",
    "\n",
    "\n",
    "</p>"
   ]
  },
  {
   "cell_type": "code",
   "execution_count": null,
   "id": "d3e78e32",
   "metadata": {
    "slideshow": {
     "slide_type": "subslide"
    }
   },
   "outputs": [],
   "source": [
    "string=\"Hello, World!\"\n",
    "echo ${string/Hello/Hi}"
   ]
  },
  {
   "cell_type": "markdown",
   "id": "3e8b0b05",
   "metadata": {
    "slideshow": {
     "slide_type": "subslide"
    }
   },
   "source": [
    "<p align='justify' style='margin: 10px 20px; line-height:1.5; font-family: \"Times New Roman\", Times, serif; font-size:16px; color: purple'>\n",
    "    This code replaces the first occurrence of the word \"Hello\" in the string \"Hello, World!\" with \"Hi\". the code searches for the first occurrence of \"Hello\" in the string \"Hello, World!\", replaces it with \"Hi\", and then outputs the modified string \"Hi, World!\".\n",
    "\n",
    "</p><br>\n",
    "<p align='justify' style='margin: 10px 20px; line-height:1.5; font-family: \"Times New Roman\", Times, serif; font-size:16px; color: black'>\n",
    "    Here's another example that demonstrates how to replace all occurrences of a substring in a string:\n",
    "\n",
    "</p>"
   ]
  },
  {
   "cell_type": "code",
   "execution_count": null,
   "id": "1136cb79",
   "metadata": {
    "slideshow": {
     "slide_type": "subslide"
    }
   },
   "outputs": [],
   "source": [
    "string=\"Hello, World!\"\n",
    "echo ${string//o/a} "
   ]
  },
  {
   "cell_type": "markdown",
   "id": "fffee6ab",
   "metadata": {
    "slideshow": {
     "slide_type": "subslide"
    }
   },
   "source": [
    "<p align='justify' style='margin: 10px 20px; line-height:1.5; font-family: \"Times New Roman\", Times, serif; font-size:16px; color: purple'>\n",
    "    In this code, the variable string is assigned the value \"Hello, World!\". The echo command with ${string//o/a} outputs the value of the variable string with all occurrences of the character 'o' replaced with the character 'a'. The double forward slashes '//' indicate that all occurrences of the substring should be replaced, not just the first occurrence. Therefore, the output will be \"Hella, Warld!\".\n",
    "\n",
    "</p><br><br>\n",
    "<p align='justify' style='margin: 10px 20px; line-height:1.5; font-family: \"Times New Roman\", Times, serif; font-size:16px; color: purple'>\n",
    "    <b>Replace a specific string in a file:</b>\n",
    "\n",
    "</p>"
   ]
  },
  {
   "cell_type": "code",
   "execution_count": null,
   "id": "4724f3a7",
   "metadata": {
    "slideshow": {
     "slide_type": "subslide"
    }
   },
   "outputs": [],
   "source": [
    "sed -i 's/old_string/new_string/g' file.txt"
   ]
  },
  {
   "cell_type": "markdown",
   "id": "05d08f7f",
   "metadata": {
    "slideshow": {
     "slide_type": "subslide"
    }
   },
   "source": [
    "<p align='justify' style='margin: 10px 20px; line-height:1.5; font-family: \"Times New Roman\", Times, serif; font-size:16px; color: black'>\n",
    "    This command uses the sed tool to replace all occurrences of \"old_string\" with \"new_string\" in the file \"file.txt\".\n",
    "\n",
    "</p><br>\n",
    "<p align='justify' style='margin: 10px 20px; line-height:1.5; font-family: \"Times New Roman\", Times, serif; font-size:16px; color: purple'>\n",
    "    <b>Replace a specific string in multiple files:</b>\n",
    "\n",
    "</p>"
   ]
  },
  {
   "cell_type": "code",
   "execution_count": null,
   "id": "45aa9455",
   "metadata": {
    "slideshow": {
     "slide_type": "subslide"
    }
   },
   "outputs": [],
   "source": [
    "sed -i 's/old_string/new_string/g' *.txt"
   ]
  },
  {
   "cell_type": "markdown",
   "id": "4de5b231",
   "metadata": {
    "slideshow": {
     "slide_type": "subslide"
    }
   },
   "source": [
    "<p align='justify' style='margin: 10px 20px; line-height:1.5; font-family: \"Times New Roman\", Times, serif; font-size:16px; color: purple'>\n",
    "    This command uses the sed tool to replace all occurrences of \"old_string\" with \"new_string\" in all files with the extension \".txt\".\n",
    "\n",
    "</p><br>\n",
    "<p align='justify' style='margin: 10px 20px; line-height:1.5; font-family: \"Times New Roman\", Times, serif; font-size:16px; color: purple'>\n",
    "    <b>Replace a string with a variable in a file:</b>\n",
    "\n",
    "</p>"
   ]
  },
  {
   "cell_type": "code",
   "execution_count": null,
   "id": "94fd3faa",
   "metadata": {
    "slideshow": {
     "slide_type": "subslide"
    }
   },
   "outputs": [],
   "source": [
    "string_to_replace=\"old_string\"\n",
    "replacement_string=\"new_string\"\n",
    "sed -i \"s/$string_to_replace/$replacement_string/g\" file.txt"
   ]
  },
  {
   "cell_type": "markdown",
   "id": "6088f7bc",
   "metadata": {
    "slideshow": {
     "slide_type": "subslide"
    }
   },
   "source": [
    "<p align='justify' style='margin: 10px 20px; line-height:1.5; font-family: \"Times New Roman\", Times, serif; font-size:16px; color: purple'>\n",
    "    This command uses the sed tool to replace all occurrences of the variable \"string_to_replace\" with the variable \"replacement_string\" in the file \"file.txt\".\n",
    "\n",
    "</p><br>\n",
    "<p align='justify' style='margin: 10px 20px; line-height:1.5; font-family: \"Times New Roman\", Times, serif; font-size:16px; color: purple'>\n",
    "    <b>Replace a string with a user input value in a file:</b>\n",
    "\n",
    "</p>"
   ]
  },
  {
   "cell_type": "code",
   "execution_count": null,
   "id": "3599cb50",
   "metadata": {
    "slideshow": {
     "slide_type": "subslide"
    }
   },
   "outputs": [],
   "source": [
    "echo \"Enter the string to replace:\"\n",
    "read string_to_replace\n",
    "echo \"Enter the replacement string:\"\n",
    "read replacement_string\n",
    "sed -i \"s/$string_to_replace/$replacement_string/g\" file.txt"
   ]
  },
  {
   "cell_type": "markdown",
   "id": "0ee181d6",
   "metadata": {
    "slideshow": {
     "slide_type": "subslide"
    }
   },
   "source": [
    "<p align='justify' style='margin: 10px 20px; line-height:1.5; font-family: \"Times New Roman\", Times, serif; font-size:16px; color: purple'>\n",
    "    This script prompts the user to enter the string to replace and the replacement string, and then uses the sed tool to replace all occurrences of the entered string in the file \"file.txt\".\n",
    "\n",
    "</p>"
   ]
  },
  {
   "cell_type": "markdown",
   "id": "b601753e",
   "metadata": {
    "slideshow": {
     "slide_type": "subslide"
    }
   },
   "source": [
    "<h3 style='color:red; font-weight:bold; text-align:center; font-family: \"Times New Roman\", Times, serif; font-size:20px;'>Exercise 3: Shell Scripting </h3><br>\n",
    "<p align='justify' style='margin: 10px 20px; line-height:1.5; font-family: \"Times New Roman\", Times, serif; font-size:16px; color: purple'>\n",
    "    \n",
    "    \n",
    "  <ul style='font-family: \"Times New Roman\", Times, serif; font-weight:light; font-size:16px;'>\n",
    "      <li>Q1. Write a shell script that prompts the user for their name, and then prints a welcome message that includes their name.</li><br>\n",
    "      <li>Q2. Write a shell script that takes a command-line argument as input, and prints whether the argument is a file or a directory.</li><br>\n",
    "      <li>Q3. Write a shell script that uses a loop to print the first 10 even numbers.</li><br>\n",
    "      <li>Q4. Write a shell script that reads a file, and then prints the number of lines that contain a specific search string.</li><br>\n",
    "    \n",
    "    \n",
    "  </ul>\n",
    "</p>"
   ]
  },
  {
   "cell_type": "markdown",
   "id": "bffdd8a0",
   "metadata": {
    "slideshow": {
     "slide_type": "subslide"
    }
   },
   "source": [
    "<h3 style='color:red; font-weight:bold; text-align:center; font-family: \"Times New Roman\", Times, serif; font-size:20px;'>Using Tables in Shell Scripting</h3><br>\n",
    "<img src=\"Introduction-To-Shell-Scripting.jpg\" width=\"150\" height=\"250\" style=\"float: left; margin-right: 20px; margin-left: 20px;\"><br><br>\n",
    "<p align='justify' style='margin: 10px 20px; line-height:1.5; font-family: \"Times New Roman\", Times, serif; font-size:16px; color: black'>\n",
    "  Tables are often represented as arrays, which are indexed collections of data values. Here is an example of how you might create and use a table in a shell script: \n",
    "</p>"
   ]
  },
  {
   "cell_type": "code",
   "execution_count": 34,
   "id": "b7f62444",
   "metadata": {
    "slideshow": {
     "slide_type": "subslide"
    }
   },
   "outputs": [
    {
     "name": "stdout",
     "output_type": "stream",
     "text": [
      "# Create an array with three elements\n",
      "my_table=(apple banana cherry)\n",
      "\n",
      "# Access an element of the array by its index\n",
      "echo ${my_table[0]}  # prints \"apple\"\n",
      "echo ${my_table[1]}  # prints \"banana\"\n",
      "echo ${my_table[2]}  # prints \"cherry\"\n",
      "\n",
      "# Modify an element of the array\n",
      "my_table[1]=grapefruit\n",
      "echo ${my_table[1]}  # prints \"grapefruit\"\n",
      "\n",
      "# Add an element to the end of the array\n",
      "my_table[3]=kiwi\n",
      "echo ${my_table[3]}  # prints \"kiwi\"\n"
     ]
    }
   ],
   "source": [
    "%%bash\n",
    "cat tables.sh"
   ]
  },
  {
   "cell_type": "code",
   "execution_count": 35,
   "id": "b983d1e4",
   "metadata": {
    "slideshow": {
     "slide_type": "subslide"
    }
   },
   "outputs": [
    {
     "name": "stdout",
     "output_type": "stream",
     "text": [
      "apple\n",
      "banana\n",
      "cherry\n",
      "grapefruit\n",
      "kiwi\n"
     ]
    }
   ],
   "source": [
    "%%bash\n",
    "bash tables.sh"
   ]
  },
  {
   "cell_type": "markdown",
   "id": "95ce97e5",
   "metadata": {
    "slideshow": {
     "slide_type": "subslide"
    }
   },
   "source": [
    "<p align='justify' style='margin: 10px 20px; line-height:1.5; font-family: \"Times New Roman\", Times, serif; font-size:16px; color: black'>\n",
    "  You can also use loops to iterate over the elements of an array:\n",
    "</p>"
   ]
  },
  {
   "cell_type": "code",
   "execution_count": 36,
   "id": "183f3008",
   "metadata": {
    "slideshow": {
     "slide_type": "subslide"
    }
   },
   "outputs": [
    {
     "name": "stdout",
     "output_type": "stream",
     "text": [
      "# Iterate over the elements of the array and print each one\n",
      "for fruit in ${my_table[@]}; do\n",
      "  echo $fruit\n",
      "done\n"
     ]
    }
   ],
   "source": [
    "%%bash\n",
    "cat loop_tables.sh"
   ]
  },
  {
   "cell_type": "markdown",
   "id": "99239d7d",
   "metadata": {
    "slideshow": {
     "slide_type": "subslide"
    }
   },
   "source": [
    "<p align='justify' style='margin: 10px 20px; line-height:1.5; font-family: \"Times New Roman\", Times, serif; font-size:16px; color: black'>\n",
    "  In addition to arrays, you can also use associative arrays to create tables that use string keys instead of numeric indices. Here is an example of how you might use an associative array:\n",
    "</p>"
   ]
  },
  {
   "cell_type": "code",
   "execution_count": 37,
   "id": "76e9646a",
   "metadata": {
    "slideshow": {
     "slide_type": "subslide"
    }
   },
   "outputs": [
    {
     "name": "stdout",
     "output_type": "stream",
     "text": [
      "# Create an associative array with three elements\n",
      "declare -A my_table\n",
      "my_table[red]=apple\n",
      "my_table[yellow]=banana\n",
      "my_table[purple]=grape\n",
      "\n",
      "# Access an element of the array by its key\n",
      "echo ${my_table[red]}  # prints \"apple\"\n",
      "echo ${my_table[yellow]}  # prints \"banana\"\n",
      "echo ${my_table[purple]}  # prints \"grape\"\n",
      "\n",
      "# Modify an element of the array\n",
      "my_table[yellow]=lemon\n",
      "echo ${my_table[yellow]}  # prints \"lemon\"\n",
      "\n",
      "# Add an element to the array\n",
      "my_table[green]=kiwi\n",
      "echo ${my_table[green]}  # prints \"kiwi\"\n"
     ]
    }
   ],
   "source": [
    "%%bash \n",
    "cat associate_array.sh"
   ]
  },
  {
   "cell_type": "code",
   "execution_count": 38,
   "id": "83091bd4",
   "metadata": {
    "scrolled": true,
    "slideshow": {
     "slide_type": "subslide"
    }
   },
   "outputs": [
    {
     "name": "stdout",
     "output_type": "stream",
     "text": [
      "apple\n",
      "banana\n",
      "grape\n",
      "lemon\n",
      "kiwi\n"
     ]
    }
   ],
   "source": [
    "%%bash\n",
    "bash associate_array.sh"
   ]
  },
  {
   "cell_type": "markdown",
   "id": "37a89c17",
   "metadata": {
    "slideshow": {
     "slide_type": "subslide"
    }
   },
   "source": [
    "<p align='justify' style='margin: 10px 20px; line-height:1.5; font-family: \"Times New Roman\", Times, serif; font-size:16px; color: black'>\n",
    "  You can use loops to iterate over the keys or values of an associative array:\n",
    "</p>"
   ]
  },
  {
   "cell_type": "code",
   "execution_count": null,
   "id": "a22e0046",
   "metadata": {},
   "outputs": [],
   "source": []
  },
  {
   "cell_type": "code",
   "execution_count": 40,
   "id": "d6a44061",
   "metadata": {
    "scrolled": true,
    "slideshow": {
     "slide_type": "subslide"
    }
   },
   "outputs": [
    {
     "name": "stdout",
     "output_type": "stream",
     "text": [
      "# Iterate over the keys and print each one\n",
      "for key in ${!my_table[@]}; do\n",
      "  echo $key\n",
      "done\n",
      "\n",
      "# Iterate over the values and print each one\n",
      "for value in ${my_table[@]}; do\n",
      "  echo $value\n",
      "done\n"
     ]
    }
   ],
   "source": [
    "%%bash\n",
    "cat loop_associate_array.sh"
   ]
  },
  {
   "cell_type": "markdown",
   "id": "83016aef",
   "metadata": {
    "slideshow": {
     "slide_type": "subslide"
    }
   },
   "source": [
    "<h3 style='color:red; font-weight:bold; text-align:center; font-family: \"Times New Roman\", Times, serif; font-size:20px;'>Using Functions in Shell Scripting</h3><br>\n",
    "<img src=\"abc-77.png\" width=\"150\" height=\"250\" style=\"float: left; margin-right: 20px; margin-left: 20px;\"><br><br>\n",
    "<p align='justify' style='margin: 10px 20px; line-height:1.5; font-family: \"Times New Roman\", Times, serif; font-size:16px; color: black'>\n",
    "  In shell scripts, you can define functions just like in any other programming language. The basic syntax for defining a function is \n",
    "</p>"
   ]
  },
  {
   "cell_type": "code",
   "execution_count": null,
   "id": "0ac6b6b9",
   "metadata": {
    "slideshow": {
     "slide_type": "subslide"
    }
   },
   "outputs": [],
   "source": [
    "function name {\n",
    "    commands\n",
    "}"
   ]
  },
  {
   "cell_type": "markdown",
   "id": "8bb7bd8a",
   "metadata": {
    "slideshow": {
     "slide_type": "subslide"
    }
   },
   "source": [
    "<p align='justify' style='margin: 10px 20px; line-height:1.5; font-family: \"Times New Roman\", Times, serif; font-size:16px; color: black'>\n",
    "  For example, the following script defines a function called greet that prints a greeting message\n",
    "</p>"
   ]
  },
  {
   "cell_type": "code",
   "execution_count": 30,
   "id": "620f10a9",
   "metadata": {
    "slideshow": {
     "slide_type": "subslide"
    }
   },
   "outputs": [
    {
     "name": "stdout",
     "output_type": "stream",
     "text": [
      "#!/bin/bash\n",
      "\n",
      "function greet {\n",
      "    echo \"Hello, $1!\"\n",
      "}\n",
      "\n",
      "greet \"Alice\"\n",
      "greet \"Bob\"\n"
     ]
    }
   ],
   "source": [
    "%%bash\n",
    "cat functions_1.sh"
   ]
  },
  {
   "cell_type": "code",
   "execution_count": 31,
   "id": "68426524",
   "metadata": {
    "slideshow": {
     "slide_type": "subslide"
    }
   },
   "outputs": [
    {
     "name": "stdout",
     "output_type": "stream",
     "text": [
      "Hello, Alice!\n",
      "Hello, Bob!\n"
     ]
    }
   ],
   "source": [
    "%%bash\n",
    "bash functions_1.sh"
   ]
  },
  {
   "cell_type": "markdown",
   "id": "c0e2bf89",
   "metadata": {
    "slideshow": {
     "slide_type": "subslide"
    }
   },
   "source": [
    "<p align='justify' style='margin: 10px 20px; line-height:1.5; font-family: \"Times New Roman\", Times, serif; font-size:16px; color: black'>\n",
    "  You can also define a function using the following syntax:\n",
    "</p>"
   ]
  },
  {
   "cell_type": "code",
   "execution_count": null,
   "id": "6f2dc520",
   "metadata": {
    "slideshow": {
     "slide_type": "subslide"
    }
   },
   "outputs": [],
   "source": [
    " name () {\n",
    "     commands\n",
    " }"
   ]
  },
  {
   "cell_type": "markdown",
   "id": "f211877d",
   "metadata": {
    "slideshow": {
     "slide_type": "subslide"
    }
   },
   "source": [
    "<p align='justify' style='margin: 10px 20px; line-height:1.5; font-family: \"Times New Roman\", Times, serif; font-size:16px; color: black'>\n",
    "  To call a function, simply use its name followed by any required arguments. Arguments passed to a function are referred to as \"$1\", \"$2\", etc. within the function. For example, in the greet function above, the argument passed to the function is referred to as \"$1\". <br><br><br>You can also return a value from a function by using the return statement. The value of the return statement will be the exit status of the function. For example:\n",
    "</p>"
   ]
  },
  {
   "cell_type": "code",
   "execution_count": 32,
   "id": "5afb1224",
   "metadata": {
    "slideshow": {
     "slide_type": "subslide"
    }
   },
   "outputs": [
    {
     "name": "stdout",
     "output_type": "stream",
     "text": [
      "#!/bin/bash\n",
      "\n",
      "function add {\n",
      "    local result=$(($1 + $2))\n",
      "    return $result\n",
      "}\n",
      "\n",
      "add 2 3\n",
      "echo \"The result is $?\"\n"
     ]
    }
   ],
   "source": [
    "%%bash\n",
    "cat return_function.sh"
   ]
  },
  {
   "cell_type": "code",
   "execution_count": 33,
   "id": "2d864496",
   "metadata": {
    "slideshow": {
     "slide_type": "subslide"
    }
   },
   "outputs": [
    {
     "name": "stdout",
     "output_type": "stream",
     "text": [
      "The result is 5\n"
     ]
    }
   ],
   "source": [
    "%%bash\n",
    "bash return_function.sh"
   ]
  },
  {
   "cell_type": "markdown",
   "id": "956ca784",
   "metadata": {
    "slideshow": {
     "slide_type": "subslide"
    }
   },
   "source": [
    "<p align='justify' style='margin: 10px 20px; line-height:1.5; font-family: \"Times New Roman\", Times, serif; font-size:16px; color: black'>\n",
    "  This script defines a function called add that calculates the sum of two numbers and returns the result. The exit status of the function is set to the value of the result. The echo statement at the end prints the exit status of the function, which is the value of the result.\n",
    "</p><br><br>\n",
    "<h3 style='color:red; font-weight:bold; text-align:center; font-family: \"Times New Roman\", Times, serif; font-size:20px;'>Exercise 4: Shell Scripting - Tables</h3><br>\n",
    "<p align='justify' style='margin: 10px 20px; line-height:1.5; font-family: \"Times New Roman\", Times, serif; font-size:16px; color: purple'>\n",
    "    \n",
    "    \n",
    "  <ul style='font-family: \"Times New Roman\", Times, serif; font-weight:light; font-size:16px;'>\n",
    "      <li>Q1. Write a shell script that declares an array of 5 names, and then prints each name on a separate line.</li><br>\n",
    "      <li>Q2. Write a shell script that defines a function that takes two arguments, and returns their sum. Then, call the function with some test arguments and print the result.</li><br>\n",
    "      <li>Q.3 Write a shell script that reads a CSV file of student grades, with each line containing a name and a score. The script should then calculate the average score, and print the names of the students who scored above the average.</li><br>\n",
    "      <li>Q4. Write a shell script that defines a function that takes a directory path as input, and then recursively counts the number of files in that directory and all its subdirectories. The function should return the total count. Then, call the function with a test directory path and print the result.</li>\n",
    "    \n",
    "    \n",
    "  </ul>\n",
    "</p>"
   ]
  },
  {
   "cell_type": "markdown",
   "id": "50ebb406",
   "metadata": {
    "slideshow": {
     "slide_type": "subslide"
    }
   },
   "source": [
    "<h3 style='color:red; font-weight:bold; text-align:center; font-family: \"Times New Roman\", Times, serif; font-size:20px;'>Manipulation of strings, substrings </h3><br>\n",
    "<img src=\"stringmanipulation.png\" width=\"150\" height=\"250\" style=\"float: left; margin-right: 20px; margin-left: 20px;\"><br><br>\n",
    "<p align='justify' style='margin: 10px 20px; line-height:1.5; font-family: \"Times New Roman\", Times, serif; font-size:16px; color: black'>\n",
    "  You can manipulate strings and substrings using a variety of built-in commands and operators. Here are a few examples: <br><br>Concatenation: You can use the echo command to concatenate strings, or you can use the \"+\" operator. For example:\n",
    "    \n",
    "</p>"
   ]
  },
  {
   "cell_type": "code",
   "execution_count": 41,
   "id": "085d1b67",
   "metadata": {},
   "outputs": [
    {
     "name": "stdout",
     "output_type": "stream",
     "text": [
      "string1=\"Hello\"\n",
      "string2=\"World\"\n",
      "string3=$string1\" \"$string2\n",
      "echo $string3  # Output: \"Hello World\"\n",
      "\n",
      "string4=\"Hello\"\n",
      "string5=\"World\"\n",
      "string6=$string4+$string5\n",
      "echo $string6  # Output: \"HelloWorld\"\n"
     ]
    }
   ],
   "source": [
    "%%bash\n",
    "cat concat_strings.sh"
   ]
  },
  {
   "cell_type": "code",
   "execution_count": 44,
   "id": "cd0b4ce8",
   "metadata": {
    "slideshow": {
     "slide_type": "subslide"
    }
   },
   "outputs": [
    {
     "name": "stdout",
     "output_type": "stream",
     "text": [
      "Hello World\n",
      "Hello+World\n"
     ]
    }
   ],
   "source": [
    "%%bash\n",
    "bash concat_strings.sh"
   ]
  },
  {
   "cell_type": "markdown",
   "id": "8ed687c1",
   "metadata": {
    "slideshow": {
     "slide_type": "subslide"
    }
   },
   "source": [
    "<p align='justify' style='margin: 10px 20px; line-height:1.5; font-family: \"Times New Roman\", Times, serif; font-size:16px; color: black'>\n",
    "  Indexing: You can access individual characters in a string using the ${string:position:length} syntax, where position is the index of the character (starting at 0) and length is the number of characters to extract. For example:\n",
    "    \n",
    "</p>"
   ]
  },
  {
   "cell_type": "code",
   "execution_count": 42,
   "id": "82ea8802",
   "metadata": {
    "scrolled": true,
    "slideshow": {
     "slide_type": "subslide"
    }
   },
   "outputs": [
    {
     "name": "stdout",
     "output_type": "stream",
     "text": [
      "string=\"Hello\"\n",
      "echo ${string:0:1}  # Output: \"H\"\n",
      "echo ${string:1:1}  # Output: \"e\"\n"
     ]
    }
   ],
   "source": [
    "%%bash\n",
    "cat index_string.sh"
   ]
  },
  {
   "cell_type": "code",
   "execution_count": 43,
   "id": "53f0254d",
   "metadata": {
    "slideshow": {
     "slide_type": "subslide"
    }
   },
   "outputs": [
    {
     "name": "stdout",
     "output_type": "stream",
     "text": [
      "H\n",
      "e\n"
     ]
    }
   ],
   "source": [
    "%%bash\n",
    "bash index_string.sh"
   ]
  },
  {
   "cell_type": "markdown",
   "id": "f023f893",
   "metadata": {
    "slideshow": {
     "slide_type": "subslide"
    }
   },
   "source": [
    "<p align='justify' style='margin: 10px 20px; line-height:1.5; font-family: \"Times New Roman\", Times, serif; font-size:16px; color: black'>\n",
    "  Slicing: You can extract a substring from a larger string using the ${string:position} syntax, where position is the index of the first character in the substring. <br><br>For example:\n",
    "    \n",
    "</p>"
   ]
  },
  {
   "cell_type": "code",
   "execution_count": 45,
   "id": "613edd86",
   "metadata": {
    "slideshow": {
     "slide_type": "subslide"
    }
   },
   "outputs": [
    {
     "name": "stdout",
     "output_type": "stream",
     "text": [
      "string=\"Hello World\"\n",
      "substring=${string:6}\n",
      "echo $substring  # Output: \"World\"\n"
     ]
    }
   ],
   "source": [
    "%%bash\n",
    "cat slice_string.sh"
   ]
  },
  {
   "cell_type": "code",
   "execution_count": 46,
   "id": "bd4b7bfb",
   "metadata": {
    "slideshow": {
     "slide_type": "subslide"
    }
   },
   "outputs": [
    {
     "name": "stdout",
     "output_type": "stream",
     "text": [
      "World\n"
     ]
    }
   ],
   "source": [
    "%%bash\n",
    "bash slice_string.sh"
   ]
  },
  {
   "cell_type": "markdown",
   "id": "35a23813",
   "metadata": {
    "slideshow": {
     "slide_type": "subslide"
    }
   },
   "source": [
    "<p align='justify' style='margin: 10px 20px; line-height:1.5; font-family: \"Times New Roman\", Times, serif; font-size:16px; color: black'>\n",
    "  Modification: You can modify a string using the sed command, which allows you to search for and replace specific patterns in a string. <br><br>For example:\n",
    "    \n",
    "</p>"
   ]
  },
  {
   "cell_type": "code",
   "execution_count": 47,
   "id": "a976f587",
   "metadata": {
    "scrolled": true,
    "slideshow": {
     "slide_type": "subslide"
    }
   },
   "outputs": [
    {
     "name": "stdout",
     "output_type": "stream",
     "text": [
      "string=\"Hello World\"\n",
      "modified_string=$(echo $string | sed 's/World/Universe/')\n",
      "echo $modified_string  # Output: \"Hello Universe\"\n"
     ]
    }
   ],
   "source": [
    "%%bash\n",
    "cat modify_string.sh"
   ]
  },
  {
   "cell_type": "code",
   "execution_count": 48,
   "id": "fdf93d74",
   "metadata": {
    "slideshow": {
     "slide_type": "subslide"
    }
   },
   "outputs": [
    {
     "name": "stdout",
     "output_type": "stream",
     "text": [
      "Hello Universe\n"
     ]
    }
   ],
   "source": [
    "%%bash\n",
    "bash modify_string.sh"
   ]
  },
  {
   "cell_type": "markdown",
   "id": "5fba2a1d",
   "metadata": {
    "slideshow": {
     "slide_type": "subslide"
    }
   },
   "source": [
    "<p align='justify' style='margin: 10px 20px; line-height:1.5; font-family: \"Times New Roman\", Times, serif; font-size:16px; color: purple'>\n",
    "  There are many other ways to manipulate strings in shell scripting, depending on your specific needs. For example, you can use the \"tr\" command to translate or delete characters from a string, or the \"awk\" command to extract and manipulate specific fields in a string.\n",
    "    \n",
    "</p><br><br>\n",
    "<h3 style='color:red; font-weight:bold; text-align:center; font-family: \"Times New Roman\", Times, serif; font-size:20px;'>Exercise 6: Shell Scripting - Manipulation of strings, substrings </h3><br>\n",
    "<p align='justify' style='margin: 10px 20px; line-height:1.5; font-family: \"Times New Roman\", Times, serif; font-size:16px; color: purple'>\n",
    "    \n",
    "    \n",
    "  <ul style='font-family: \"Times New Roman\", Times, serif; font-weight:light; font-size:16px;'>\n",
    "      <li>Q1. Write a shell script that prompts the user for their name, and then prints the length of their name.</li><br>\n",
    "      <li>Q2. Write a shell script that takes a filename as input, and then prints the extension of the file (i.e., the characters after the last dot).</li><br>\n",
    "      <li>Q3. Write a shell script that defines a function that takes a string as input, and then removes all the vowels from the string. The function should return the modified string. Then, call the function with some test strings and print the result.</li><br>\n",
    "      <li>Q4. Write a shell script that reads a text file, and then replaces all occurrences of a specified search string with a new string. The script should prompt the user for the search string and the replacement string, and then save the modified file to a new file with the same name but with \".new\" appended to the end.</li>\n",
    "    \n",
    "    \n",
    "  </ul>\n",
    "</p>"
   ]
  },
  {
   "cell_type": "markdown",
   "id": "64b0af6f",
   "metadata": {
    "slideshow": {
     "slide_type": "subslide"
    }
   },
   "source": [
    "<h3 style='color:red; font-weight:bold; text-align:center; font-family: \"Times New Roman\", Times, serif; font-size:20px;'>Mathematical calculations in shell scripts</h3><br>\n",
    "<img src=\"shell-scripting-arithmetic-operations-1-1667306978.png\" width=\"150\" height=\"250\" style=\"float: left; margin-right: 20px; margin-left: 20px;\"><br><br>\n",
    "<p align='justify' style='margin: 10px 20px; line-height:1.5; font-family: \"Times New Roman\", Times, serif; font-size:16px; color: black'>\n",
    "  You can perform mathematical calculations using the expr command or the $(( ... )) construct.<br><br><br>Here is an example of using expr to perform arithmetic:\n",
    "    \n",
    "</p>"
   ]
  },
  {
   "cell_type": "code",
   "execution_count": 49,
   "id": "d8b70502",
   "metadata": {
    "scrolled": true,
    "slideshow": {
     "slide_type": "subslide"
    }
   },
   "outputs": [
    {
     "name": "stdout",
     "output_type": "stream",
     "text": [
      "# Calculate the result of adding 2 and 3\n",
      "result=$(expr 2 + 3)\n",
      "echo $result  # Outputs: 5\n",
      "\n",
      "# Calculate the result of multiplying 5 and 6\n",
      "result=$(expr 5 \\* 6)\n",
      "echo $result  # Outputs: 30\n"
     ]
    }
   ],
   "source": [
    "%%bash\n",
    "cat expr_arithmetic.sh"
   ]
  },
  {
   "cell_type": "code",
   "execution_count": 50,
   "id": "949a0a00",
   "metadata": {
    "scrolled": true,
    "slideshow": {
     "slide_type": "subslide"
    }
   },
   "outputs": [
    {
     "name": "stdout",
     "output_type": "stream",
     "text": [
      "5\n",
      "30\n"
     ]
    }
   ],
   "source": [
    "%%bash\n",
    "bash expr_arithmetic.sh"
   ]
  },
  {
   "cell_type": "markdown",
   "id": "226e085d",
   "metadata": {
    "slideshow": {
     "slide_type": "subslide"
    }
   },
   "source": [
    "<p align='justify' style='margin: 10px 20px; line-height:1.5; font-family: \"Times New Roman\", Times, serif; font-size:16px; color: black'>\n",
    "  The expr command can perform a variety of arithmetic operations, including addition (+), subtraction (-), multiplication (*), division (/), and modulus (%).<br><br>Here is an example of using the $(( ... )) construct to perform arithmetic:\n",
    "    \n",
    "</p>"
   ]
  },
  {
   "cell_type": "code",
   "execution_count": 51,
   "id": "826227f4",
   "metadata": {
    "slideshow": {
     "slide_type": "subslide"
    }
   },
   "outputs": [
    {
     "name": "stdout",
     "output_type": "stream",
     "text": [
      "# Calculate the result of adding 2 and 3\n",
      "result=$((2 + 3))\n",
      "echo $result  # Outputs: 5\n",
      "\n",
      "# Calculate the result of multiplying 5 and 6\n",
      "result=$((5 * 6))\n",
      "echo $result  # Outputs: 30\n"
     ]
    }
   ],
   "source": [
    "%%bash\n",
    "cat double_quote_arithmetic.sh"
   ]
  },
  {
   "cell_type": "code",
   "execution_count": 53,
   "id": "2da4ce03",
   "metadata": {
    "slideshow": {
     "slide_type": "subslide"
    }
   },
   "outputs": [
    {
     "name": "stdout",
     "output_type": "stream",
     "text": [
      "5\n",
      "30\n"
     ]
    }
   ],
   "source": [
    "%%bash\n",
    "bash double_quote_arithmetic.sh"
   ]
  },
  {
   "cell_type": "markdown",
   "id": "4fa0bd72",
   "metadata": {
    "slideshow": {
     "slide_type": "subslide"
    }
   },
   "source": [
    "<p align='justify' style='margin: 10px 20px; line-height:1.5; font-family: \"Times New Roman\", Times, serif; font-size:16px; color: black'>\n",
    "  The $(( ... )) construct can also be used to perform more advanced arithmetic, such as exponentiation (**) and bitwise operations (&, |, ^, etc.).\n",
    "    \n",
    "</p>"
   ]
  },
  {
   "cell_type": "code",
   "execution_count": 54,
   "id": "afd3fb63",
   "metadata": {
    "slideshow": {
     "slide_type": "subslide"
    }
   },
   "outputs": [
    {
     "name": "stdout",
     "output_type": "stream",
     "text": [
      "# Calculate the result of raising 2 to the power of 8\n",
      "result=$((2 ** 8))\n",
      "echo $result  # Outputs: 256\n",
      "\n",
      "# Calculate the result of performing a bitwise OR operation on 12 and 25\n",
      "result=$((12 | 25))\n",
      "echo $result  # Outputs: 29\n"
     ]
    }
   ],
   "source": [
    "%%bash\n",
    "cat bitwise_arithmetic.sh"
   ]
  },
  {
   "cell_type": "code",
   "execution_count": 55,
   "id": "f40bddfa",
   "metadata": {
    "scrolled": true,
    "slideshow": {
     "slide_type": "subslide"
    }
   },
   "outputs": [
    {
     "name": "stdout",
     "output_type": "stream",
     "text": [
      "256\n",
      "29\n"
     ]
    }
   ],
   "source": [
    "%%bash\n",
    "bash bitwise_arithmetic.sh"
   ]
  },
  {
   "cell_type": "markdown",
   "id": "868e41ab",
   "metadata": {
    "slideshow": {
     "slide_type": "subslide"
    }
   },
   "source": [
    "<p align='justify' style='margin: 10px 20px; line-height:1.5; font-family: \"Times New Roman\", Times, serif; font-size:16px; color: purple'>\n",
    "  Note that in both cases, the result of the arithmetic operation is stored in a shell variable and can be used in subsequent commands or operations in the script.\n",
    "    \n",
    "</p>"
   ]
  },
  {
   "cell_type": "markdown",
   "id": "c2e7b659",
   "metadata": {
    "slideshow": {
     "slide_type": "subslide"
    }
   },
   "source": [
    "<h3 style='color:red; font-weight:bold; text-align:center; font-family: \"Times New Roman\", Times, serif; font-size:20px;'>Debugging and error handling in shell scripts </h3><br>\n",
    "<img src=\"Debug-Bash-Scripts.webp\" width=\"150\" height=\"250\" style=\"float: left; margin-right: 20px; margin-left: 20px;\"><br>\n",
    "<p align='justify' style='margin: 10px 20px; line-height:1.5; font-family: \"Times New Roman\", Times, serif; font-size:16px; color: black'>\n",
    "  Debugging and error handling can be achieved in shell scripting through the use of various built-in commands and utilities.<br><br><br>One way to debug a shell script is to use the \"set -x\" command, which enables script tracing. This will print each command in the script to the console as it is executed, along with its arguments and any expansions. To turn off tracing, you can use the \"set +x\" command.\n",
    "    \n",
    "</p><br><br>\n",
    "<p align='justify' style='margin: 10px 20px; line-height:1.5; font-family: \"Times New Roman\", Times, serif; font-size:16px; color: black'>\n",
    "  Another useful debugging tool is the \"bash -x\" option, which allows you to run the script with tracing enabled from the command line. For example:\n",
    "    \n",
    "</p>"
   ]
  },
  {
   "cell_type": "code",
   "execution_count": null,
   "id": "8dfe6a9f",
   "metadata": {
    "slideshow": {
     "slide_type": "subslide"
    }
   },
   "outputs": [],
   "source": [
    "%%bash\n",
    "bash -x myscript.sh"
   ]
  },
  {
   "cell_type": "markdown",
   "id": "c7bff82b",
   "metadata": {
    "slideshow": {
     "slide_type": "subslide"
    }
   },
   "source": [
    "<p align='justify' style='margin: 10px 20px; line-height:1.5; font-family: \"Times New Roman\", Times, serif; font-size:16px; color: black'>\n",
    "  To handle errors in a shell script, you can use the set -e command, which causes the script to exit immediately if any command returns a non-zero exit status. This can be useful for ensuring that the script exits gracefully if an error occurs.<br><br>You can also use the || operator to execute a command only if the previous command failed. For example:\n",
    "    \n",
    "</p>"
   ]
  },
  {
   "cell_type": "code",
   "execution_count": null,
   "id": "0e5d6555",
   "metadata": {
    "slideshow": {
     "slide_type": "subslide"
    }
   },
   "outputs": [],
   "source": [
    "%%bash\n",
    "command1 || command2"
   ]
  },
  {
   "cell_type": "markdown",
   "id": "326fd49e",
   "metadata": {
    "slideshow": {
     "slide_type": "subslide"
    }
   },
   "source": [
    "<p align='justify' style='margin: 10px 20px; line-height:1.5; font-family: \"Times New Roman\", Times, serif; font-size:16px; color: black'>\n",
    "  This will execute command2 only if command1 returns a non-zero exit status.<br><br><br>Finally, you can use the trap command to catch signals and execute commands in response. This can be useful for cleaning up resources or taking other actions when the script is interrupted.<br><br><br>For example:\n",
    "    \n",
    "</p>"
   ]
  },
  {
   "cell_type": "code",
   "execution_count": null,
   "id": "ffa7239e",
   "metadata": {
    "slideshow": {
     "slide_type": "subslide"
    }
   },
   "outputs": [],
   "source": [
    "trap 'cleanup' INT\n",
    "    cleanup() {\n",
    "        # Clean up resources\n",
    "    }"
   ]
  },
  {
   "cell_type": "markdown",
   "id": "754084e4",
   "metadata": {
    "slideshow": {
     "slide_type": "subslide"
    }
   },
   "source": [
    "<p align='justify' style='margin: 10px 20px; line-height:1.5; font-family: \"Times New Roman\", Times, serif; font-size:16px; color: purple'>\n",
    "  This will execute the cleanup function if the script receives an INT signal (e.g., if the user presses CTRL+C).\n",
    "    \n",
    "</p><br>\n",
    "<h3 style='color:red; font-weight:bold; text-align:center; font-family: \"Times New Roman\", Times, serif; font-size:20px;'>Final Projects </h3><br>\n",
    "<p align='justify' style='margin: 10px 20px; line-height:1.5; font-family: \"Times New Roman\", Times, serif; font-size:16px; color: purple'>\n",
    "    \n",
    "    \n",
    "  <ul style='font-family: \"Times New Roman\", Times, serif; font-weight:light; font-size:16px;'>\n",
    "      <li>Q1. Create a script to automate the installation and configuration of a specific application or service on a Linux machine. For example, you could write a script to install and set up a LAMP stack (Linux, Apache, MySQL, PHP) on a fresh Ubuntu installation.\n",
    "</li><br>\n",
    "      <li>Q2. Write a script to automate the backup of important files and directories on a Linux machine. The script could be configured to run on a schedule (e.g. daily, weekly, monthly) and save the backups to a remote location, such as a networked storage device or a cloud service.</li><br>\n",
    "      <li>Q3. Create a script to monitor the performance and status of a Linux server. The script could run on a schedule and generate reports on things like CPU and memory usage, disk space, and system logs. The student could also add features to the script to automatically alert an administrator if certain thresholds are exceeded (e.g. if CPU usage exceeds a certain percentage).</li><br>\n",
    "      <li>Q4. Write a startup script for a custom service or application. For example, the student could create a script that launches a specific program or script when the Linux machine starts up. This could be useful for running a program or service that needs to be available at all times, such as a web server or a database.</li><br>\n",
    "      <li>Q5. Create a script to automate the deployment of a specific application or service on a cluster of Linux machines. The script could handle tasks such as installing dependencies, copying files, and configuring the service to run on multiple machines.\n",
    "</li>\n",
    "      \n",
    "    \n",
    "    \n",
    "  </ul>\n",
    "</p>"
   ]
  }
 ],
 "metadata": {
  "celltoolbar": "Slideshow",
  "kernelspec": {
   "display_name": "Python 3 (ipykernel)",
   "language": "python",
   "name": "python3"
  },
  "language_info": {
   "codemirror_mode": {
    "name": "ipython",
    "version": 3
   },
   "file_extension": ".py",
   "mimetype": "text/x-python",
   "name": "python",
   "nbconvert_exporter": "python",
   "pygments_lexer": "ipython3",
   "version": "3.9.13"
  },
  "toc": {
   "base_numbering": 1,
   "nav_menu": {},
   "number_sections": false,
   "sideBar": true,
   "skip_h1_title": false,
   "title_cell": "Table of Contents",
   "title_sidebar": "Contents",
   "toc_cell": false,
   "toc_position": {
    "height": "calc(100% - 180px)",
    "left": "10px",
    "top": "150px",
    "width": "294.195px"
   },
   "toc_section_display": true,
   "toc_window_display": false
  }
 },
 "nbformat": 4,
 "nbformat_minor": 5
}
