{
 "cells": [
  {
   "cell_type": "markdown",
   "id": "5266a530",
   "metadata": {
    "slideshow": {
     "slide_type": "slide"
    }
   },
   "source": [
    "<a href=\"https://asphere.fr/\">\n",
    "    <img src=\"logo2.png\" width=\"500\" height=\"400\" style=\"display: block; margin: 0 auto;\">\n",
    "</a>\n",
    "<h1 style=\"text-align: center; font-family: 'Times New Roman', Times,serif ; color: purple; margin-right: 25px; margin-left: 70px;\">UNIX ADMINISTRATION </h1>\n",
    "<h4 style=\"text-align: center; font-family: 'Times New Roman', Times,serif ; color: black; margin-right: 25px; margin-left: 70px;\">AUX_080</h4>\n",
    "<h5 style=\"text-align: center; font-family: 'Times New Roman', Times,serif ; color: black; margin-right: 25px; margin-left: 70px;\">DURATION: Five Days (35 Hrs)</h5>\n",
    "<h4 style=\"text-align: center; font-family: 'Times New Roman', Times,serif ; color: black; margin-right: 25px; margin-left: 70px;\">OBJECTIVES</h4>\n",
    "<a href=\"https://asphere.fr/\">\n",
    "    <img src=\"unixlinux.webp\" width=\"100\" height=\"100\" style=\"float: right; margin-right: 25px; margin-left: 70px;\">\n",
    "</a>\n",
    "<h5 style=\"text-align: center; font-family: 'Times New Roman', Times,serif ; color: purple; margin-right: 90px; margin-left: 225px;\">From command to advanced scripts, presentation and benefits of the shell language </h5>"
   ]
  },
  {
   "cell_type": "markdown",
   "id": "514c7f12",
   "metadata": {
    "slideshow": {
     "slide_type": "subslide"
    }
   },
   "source": [
    "<h3 style='color:red; font-weight:bold; text-align:center; font-family: \"Times New Roman\", Times, serif;'>OVERVIEW</h3>\n",
    "\n",
    "<p align='justify' style='margin: 10px 20px; line-height:1.5; font-family: \"Times New Roman\", Times, serif; font-size:16px;'>\n",
    "  Computers simplify repetitive tasks. it performs computations just as well as the way we use them. Computer-related problems can be solved more efficiently with the tools that we have available to us. In reality, most of us only use a fraction of these tools; we know enough magic formulas by heart to get by, and we blindly paste commands from the Internet when we get stuck. As a system administrator, that's not a good practice. Once you complete this course, you will understand the importance of Shell scripting and how you can make your day-to-day tasks less tedious and become more productive.\n",
    "\n",
    "</p><br>\n",
    "\n",
    "<p align='justify' style='margin: 10px 20px; line-height:1.5; font-family: \"Times New Roman\", Times, serif; font-size:16px;'>\n",
    "    <strong style = \"color: purple\">You will learn:</strong>\n",
    "    \n",
    "  <ul style='font-family: \"Times New Roman\", Times, serif; font-weight:light; font-size:16px;'>\n",
    "      <li><b>Introduction to the Unix and Linux operating system</b></li>\n",
    "      <li><b>Basic Unix and Linux commands </b></li>\n",
    "      <li><b>Advanced Unix and Linux commands </b></li>\n",
    "      <li><b>Shell scripting</b></li>\n",
    "    \n",
    "    \n",
    "  </ul>\n",
    "</p>\n"
   ]
  },
  {
   "cell_type": "markdown",
   "id": "64c5bfcd",
   "metadata": {
    "slideshow": {
     "slide_type": "slide"
    }
   },
   "source": [
    "<h2 style='color:red; font-weight:bold; text-align:center; font-family: \"Times New Roman\", Times, serif;'>INTRODUCTION TO UNIX AND LINUX OPERATING SYSTEM</h2><br>\n",
    "<p align='justify' style='margin: 10px 20px; line-height:1.5; font-family: \"Times New Roman\", Times, serif; font-size:16px;'>\n",
    "    <strong style = \"color: purple\">Introduction to the Unix and Linux operating system </strong>\n",
    "    \n",
    "  <ul style='font-family: \"Times New Roman\", Times, serif; font-weight:light; font-size:16px;'>\n",
    "      <li><b>Overview of the history and philosophy of Unix and Linux </b></li>\n",
    "      <li><b>Understanding the file system and directory structure</b></li>\n",
    "      <li><b>Setting up the command-line environment </b></li>\n",
    "    \n",
    "    \n",
    "  </ul>\n",
    "</p>\n",
    "<img src=\"Unix-Linux.png\" width=\"150\" height=\"250\" style=\"float: left; margin-right: 20px; margin-left: 20px;\">\n",
    "<p align='justify' style='margin: 10px 20px; line-height:1.5; font-family: \"Times New Roman\", Times, serif; font-size:16px;'>\n",
    "  Unix is a family of multitasking, multiuser computer operating systems that derive from the original AT&T Unix, developed in the 1970s at Bell Labs, a research and development subsidiary of AT&T. Unix systems are characterized by a modular design that is sometimes called the \"Unix philosophy,\" meaning that the operating system provides a set of simple tools that each perform a limited, well-defined function, with a unified filesystem as the main means of communication, and a shell scripting and command language to combine the tools to perform complex workflows.\n",
    "\n",
    "</p><br><br>\n",
    "<p align='justify' style='margin: 10px 20px; line-height:1.5; font-family: \"Times New Roman\", Times, serif; font-size:16px;'>\n",
    "    <strong style = \"color: purple\">Key features of Unix Systems include</strong>\n",
    "    \n",
    "  <ul style='font-family: \"Times New Roman\", Times, serif; font-weight:light; font-size:16px;'>\n",
    "      <li><b>Multitasking: </b> The ability to run multiple programs concurrently.</li><br>\n",
    "      <li><b>Multiuser: </b> The ability to support multiple users on a single machine, each with their own login and set of privileges.</li><br>\n",
    "      <li><b>Portability: </b> The use of a high-level programming language (C) and a standardized application binary interface (ABI) allows Unix programs to be easily ported to      different hardware platforms.</li><br>\n",
    "      <li><b>Robustness: </b> The use of a high-level programming language (C) and a standardized application binary interface (ABI) allows Unix programs to be easily ported to      different hardware platforms.</li>\n",
    "    \n",
    "    \n",
    "  </ul>\n",
    "</p><br>\n",
    "<p align='justify' style='margin: 10px 20px; line-height:1.5; font-family: \"Times New Roman\", Times, serif; font-size:16px; color: purple'>\n",
    "  There are many different versions of Unix available, including Linux, Solaris, and macOS, each with its own set of features and capabilities.\n",
    "\n",
    "</p>"
   ]
  },
  {
   "cell_type": "markdown",
   "id": "4fbc1f9b",
   "metadata": {
    "slideshow": {
     "slide_type": "subslide"
    }
   },
   "source": [
    "<h4 style='color:red; font-weight:bold; text-align:center; font-family: \"Times New Roman\", Times, serif; font-size:18px;'>History and Philosophy of Unix/Linux</h4>\n",
    "<img src=\"fpl-history-unix-linux-londo.jpg\" width=\"150\" height=\"250\" style=\"float: left; margin-right: 20px; margin-left: 20px;\">\n",
    "<p align='justify' style='margin: 10px 20px; line-height:1.5; font-family: \"Times New Roman\", Times, serif; font-size:16px; color: purple'>\n",
    "  In the late 1980s and early 1990s, Linux was developed as a free, open source operating system based on the Unix operating system. Linux was developed by Linus Torvalds, a Finnish computer science student, who released the source code for the operating system under the GNU General Public License (GPL). The GPL is a license that allows users to freely modify and distribute the software, as long as they make the source code available to others.\n",
    "\n",
    "</p><br>\n",
    "<p align='justify' style='margin: 10px 20px; line-height:1.5; font-family: \"Times New Roman\", Times, serif; font-size:16px; color: black'>\n",
    "  Richard Stallman is a software developer and activist who is known for his work in the free software movement. In the 1980s, Stallman founded the Free Software Foundation (FSF) and developed the GPL, which has become the most widely used open source license. Stallman's work has been influential in the development of the open source movement and the widespread adoption of open source software.\n",
    "</p><br>\n",
    "<p align='justify' style='margin: 10px 20px; line-height:1.5; font-family: \"Times New Roman\", Times, serif; font-size:16px; color: black'>\n",
    "  One of the key philosophies behind Unix was the idea of \"small, sharp tools.\" Rather than building complex, monolithic programs, Unix developers preferred to create simple, modular programs that could be combined and used in various ways to accomplish specific tasks. This approach made it easier to develop and maintain software, and it also made it easier for users to customize their systems to meet their specific needs.\n",
    "</p><br>\n",
    "<p align='justify' style='margin: 10px 20px; line-height:1.5; font-family: \"Times New Roman\", Times, serif; font-size:16px; color: black'>\n",
    "  Another important aspect of the Unix philosophy is the concept of \"everything is a file.\" In Unix, nearly everything in the system, including devices, processes, and even network connections, can be represented as a file. This makes it possible to use the same set of commands and utilities to manipulate a wide range of resources in the system.\n",
    "</p><br>\n",
    "<p align='justify' style='margin: 10px 20px; line-height:1.5; font-family: \"Times New Roman\", Times, serif; font-size:16px; color: purple'>\n",
    "  In summary, the history of Unix becoming open source involves the development of the Linux operating system and the work of Richard Stallman and the Free Software Foundation in promoting the use of open source licenses and software.  \n",
    "</p>"
   ]
  },
  {
   "cell_type": "markdown",
   "id": "13a5e8a5",
   "metadata": {
    "slideshow": {
     "slide_type": "subslide"
    }
   },
   "source": [
    "<h3 style='color:red; font-weight:bold; text-align:center; font-family: \"Times New Roman\", Times, serif; font-size:20px;'>Core Componenets of a UNIX System</h3><br>\n",
    "<img src=\"1_LEp6Tu9LKTF0m0DXvgNMvg.png\" width=\"150\" height=\"250\" style=\"float: right; margin-right: 170px; margin-left: 170px;\">\n",
    "<p align='justify' style='margin: 10px 20px; line-height:1.5; font-family: \"Times New Roman\", Times, serif; font-size:16px;'>\n",
    "    <strong style = \"color: purple\">The core components of a Unix system include:</strong>\n",
    "    \n",
    "  <ul style='font-family: \"Times New Roman\", Times, serif; font-weight:light; font-size:16px;'>\n",
    "      <li>The kernel</li>\n",
    "      <li>System libraries</li>\n",
    "      <li>System utilities</li>\n",
    "      <li>Shell</li>\n",
    "      <li>User programs</li>\n",
    "    \n",
    "    \n",
    "  </ul>\n",
    "</p>"
   ]
  },
  {
   "cell_type": "markdown",
   "id": "8ae7ac1a",
   "metadata": {
    "slideshow": {
     "slide_type": "subslide"
    }
   },
   "source": [
    "<h4 style='color:red; font-weight:bold; text-align:center; font-family: \"Times New Roman\", Times, serif; font-size:20px;'>The kernel </h4>\n",
    "<img src=\"images (5).jpeg\" width=\"150\" height=\"250\" style=\"float: left; margin-right: 20px; margin-left: 20px;\">\n",
    "<p align='justify' style='margin: 10px 20px; line-height:1.5; font-family: \"Times New Roman\", Times, serif; font-size:16px; color: purple'>\n",
    "  This is the central part of the operating system that manages the hardware resources of the system, such as memory, processors, and devices. It also provides the interface between the system and the programs that run on it. \n",
    "</p><br><br>\n",
    "\n",
    "<h5 style='color:red; font-weight:bold; text-align:center; font-family: \"Times New Roman\", Times, serif; font-size:16px;'>Stable and Unstable Kernel  </h5>\n",
    "<p align='justify' style='margin: 10px 20px; line-height:1.5; font-family: \"Times New Roman\", Times, serif; font-size:16px; color: black'>\n",
    "  The terms \"stable\" and \"unstable\" can be used to describe different versions of the Unix kernel based on the level of stability and reliability they offer. <strong>A stable kernel</strong> is a version of the kernel that has been thoroughly tested and is known to be reliable. Stable kernels are typically used in production environments, where a stable and reliable operating system is critical.<br><br> On the other hand, <strong>an unstable kernel</strong> is a version of the kernel that is still in development and has not yet been fully tested. These kernels may contain new features and improvements, but they may also have bugs and other issues that can cause the operating system to be unstable. Unstable kernels are typically used in testing and development environments, where the focus is on evaluating new features and improvements rather than on stability and reliability.\n",
    " \n",
    "</p>"
   ]
  },
  {
   "cell_type": "markdown",
   "id": "fae4afd0",
   "metadata": {
    "slideshow": {
     "slide_type": "subslide"
    }
   },
   "source": [
    "<h5 style='color:red; font-weight:bold; text-align:center; font-family: \"Times New Roman\", Times, serif; font-size:16px;'>Checking the Stability of the Kernel </h5><br>\n",
    "<p align='justify' style='margin: 10px 20px; line-height:1.5; font-family: \"Times New Roman\", Times, serif; font-size:16px;'>\n",
    "    <strong style = \"color: purple\">There are a few different ways you can check the stability of the Unix kernel</strong>\n",
    "    \n",
    "  <ul style='font-family: \"Times New Roman\", Times, serif; font-weight:light; font-size:16px;'>\n",
    "      <li><strong>Check the version number: </strong> Most Unix operating systems include version numbers that can be used to identify the stability of the kernel. For example, kernels with even-numbered version numbers, such as 2.6.32 or 4.4.0, are generally considered to be stable, while kernels with odd-numbered version numbers, such as 3.5.0 or 5.7.0, are generally considered to be unstable. However, this is not a hard and fast rule, and the stability of a kernel can depend on other factors as well.</li><br>\n",
    "      <li><strong>Check the documentation :</strong> Many Unix operating systems include documentation that describes the stability of the kernel. For example, the documentation might specify that the kernel is \"stable\" or \"unstable,\" or it might provide more detailed information about the stability of different features and components.</li><br>\n",
    "      <li><strong>Check the release notes: </strong>}Most Unix operating systems also include release notes that provide information about the changes and improvements made in each new version of the kernel. </li>\n",
    "    \n",
    "  </ul>\n",
    "</p><br>\n",
    "<p align='justify' style='margin: 10px 20px; line-height:1.5; font-family: \"Times New Roman\", Times, serif; font-size:16px; color: purple'>\n",
    "  These release notes can be a good source of information about the stability of the kernel, as they often include details about any known issues or bugs that may affect the stability of the system. \n",
    "</p>"
   ]
  },
  {
   "cell_type": "code",
   "execution_count": 2,
   "id": "bb06eb03",
   "metadata": {
    "slideshow": {
     "slide_type": "subslide"
    }
   },
   "outputs": [
    {
     "name": "stdout",
     "output_type": "stream",
     "text": [
      "5.15.0-60-generic\n"
     ]
    }
   ],
   "source": [
    "%%bash\n",
    "uname -r"
   ]
  },
  {
   "cell_type": "markdown",
   "id": "5e9eca06",
   "metadata": {
    "slideshow": {
     "slide_type": "subslide"
    }
   },
   "source": [
    "<p align='justify' style='margin: 10px 20px; line-height:1.5; font-family: \"Times New Roman\", Times, serif; font-size:16px; color: purple'>\n",
    "  You can check for available kernel updates by using the uname -r command to view the current kernel versionas demonstrated in the cell above, and then checking the system's package manager (e.g., apt, yum, pacman, etc. depending on your distribution) for updates.\n",
    "</p><br>\n",
    "<p align='justify' style='margin: 10px 20px; line-height:1.5; font-family: \"Times New Roman\", Times, serif; font-size:16px; color: black'>\n",
    "  It's also worth noting that the stability of a Unix kernel can change over time, as new versions are released and bugs are fixed. As a result, it's important to regularly check for updates and upgrade to the latest stable version of the kernel to ensure the best possible stability and reliability for your system.\n",
    "</p>"
   ]
  },
  {
   "cell_type": "markdown",
   "id": "fb809a09",
   "metadata": {
    "slideshow": {
     "slide_type": "subslide"
    }
   },
   "source": [
    "<h4 style='color:red; font-weight:bold; text-align:center; font-family: \"Times New Roman\", Times, serif; font-size:20px;'>System libraries</h4>\n",
    "<p align='justify' style='margin: 10px 20px; line-height:1.5; font-family: \"Times New Roman\", Times, serif; font-size:16px; color: black'>\n",
    "  These are collections of functions that provide services to programs, such as input/output (I/O) operations and communication with the kernel. \n",
    "</p><br>\n",
    "<h4 style='color:red; font-weight:bold; text-align:center; font-family: \"Times New Roman\", Times, serif; font-size:20px;'>System utilities</h4>\n",
    "<p align='justify' style='margin: 10px 20px; line-height:1.5; font-family: \"Times New Roman\", Times, serif; font-size:16px; color: black'>\n",
    "  These are programs that perform various tasks related to system maintenance, such as managing files and directories, controlling processes, and configuring the system. \n",
    "</p><br>\n",
    "<h4 style='color:red; font-weight:bold; text-align:center; font-family: \"Times New Roman\", Times, serif; font-size:20px;'>User programs</h4>\n",
    "<p align='justify' style='margin: 10px 20px; line-height:1.5; font-family: \"Times New Roman\", Times, serif; font-size:16px; color: black'>\n",
    "  These are the programs that users run on the system, such as text editors, web browsers, and games.\n",
    "</p>"
   ]
  },
  {
   "cell_type": "markdown",
   "id": "9df9cd0a",
   "metadata": {
    "slideshow": {
     "slide_type": "subslide"
    }
   },
   "source": [
    "<h4 style='color:red; font-weight:bold; text-align:center; font-family: \"Times New Roman\", Times, serif; font-size:20px;'>Shell</h4>\n",
    "<img src=\"hqdefault (3).jpg\" width=\"150\" height=\"250\" style=\"float: left; margin-right: 20px; margin-left: 20px;\">\n",
    "<p align='justify' style='margin: 10px 20px; line-height:1.5; font-family: \"Times New Roman\", Times, serif; font-size:16px; color: purple'>\n",
    "  This is a command-line interpreter that allows users to interact with the system by entering commands at the command prompt. There are several different shells available for Unix systems, such as the Bourne shell (sh), the C shell (csh), the Bourne-Again shell (bash) etc.We will see the different types of Shells in few slides below\n",
    "</p><br>\n",
    "<p align='justify' style='margin: 10px 20px; line-height:1.5; font-family: \"Times New Roman\", Times, serif; font-size:16px; color: black'>\n",
    "  In addition to these core components, a Unix system may also include other software packages, such as databases, web servers, and programming languages, to support a wide range of applications.\n",
    "</p><br>\n",
    "<h5 style='color:red; font-weight:bold; text-align:center; font-family: \"Times New Roman\", Times, serif; font-size:18px;'>Components and Flow of the Shell</h5><br>\n",
    "<p align='justify' style='margin: 10px 20px; line-height:1.5; font-family: \"Times New Roman\", Times, serif; font-size:16px; color: purple'>\n",
    "    <strong>Basic components and flow of the Unix shell:</strong>\n",
    "    \n",
    "  <ul style='font-family: \"Times New Roman\", Times, serif; font-weight:light; font-size:16px;'>\n",
    "      <li>The user types a command into the shell, which is interpreted by the shell interpreter.</li>\n",
    "      <li><b>The shell interpreter reads the command and any arguments and options passed to it.</b></li>\n",
    "      <li><b>The shell checks for any special characters or shell built-in commands, and if none are found, it searches the directories in the PATH environment variable for a program with the same name as the command.</b></li>\n",
    "      <li><b>If the program is found, the shell executes it, passing any arguments and options as command-line arguments to the program.</b></li>\n",
    "      <li><b>The program performs its designated task and sends any output back to the shell, which then displays the output to the user.</b></li>\n",
    "      <li><b>Once the program has completed its task, control is returned to the shell, and the user can enter another command.</b></li>\n",
    "    \n",
    "  </ul>\n",
    "</p><br>\n",
    "<p align='justify' style='margin: 10px 20px; line-height:1.5; font-family: \"Times New Roman\", Times, serif; font-size:16px; color: purple'>\n",
    "  Some common shell built-in commands include cd (change directory), echo (display text on the command line), exit (exit the shell), and history (display a list of previously entered commands).\n",
    "</p>"
   ]
  },
  {
   "cell_type": "markdown",
   "id": "0a1ae5c8",
   "metadata": {
    "slideshow": {
     "slide_type": "subslide"
    }
   },
   "source": [
    "<h5 style='color:red; font-weight:bold; text-align:center; font-family: \"Times New Roman\", Times, serif; font-size:18px;'>Types and differences of the shell </h5><br>\n",
    "<p align='justify' style='margin: 10px 20px; line-height:1.5; font-family: \"Times New Roman\", Times, serif; font-size:16px; color: purple'>\n",
    "    There are several different types of Unix shells, each with its own set of features and capabilities. Some of the most popular Unix shells include:<br><br>\n",
    "    \n",
    "  <ul style='font-family: \"Times New Roman\", Times, serif; font-weight:light; font-size:16px;'>\n",
    "      <li>SH - Bourne Shell</li>\n",
    "      <li>Bash (Bourne Again SHell)</li>\n",
    "      <li>C shell (Csh)</li>\n",
    "      <li>Korn shell (Ksh) </li>\n",
    "    \n",
    "    \n",
    "  </ul>\n",
    "</p><br>\n",
    "\n",
    "<p align='justify' style='margin: 10px 20px; line-height:1.5; font-family: \"Times New Roman\", Times, serif; font-size:16px; color: purple'>\n",
    "  Each of these shells has its own unique features and capabilities, and users may prefer one shell over another depending on their personal preferences and the tasks they need to perform. In general, Bash is a good choice for most users, as it is widely used and has a large community of developers and users. Detailed explanation in the cells below\n",
    "</p>"
   ]
  },
  {
   "cell_type": "markdown",
   "id": "92596035",
   "metadata": {
    "slideshow": {
     "slide_type": "subslide"
    }
   },
   "source": [
    "<p align='justify' style='margin: 10px 20px; line-height:1.5; font-family: \"Times New Roman\", Times, serif; font-size:16px; color: purple'>\n",
    "    \n",
    "    \n",
    "  <ul style='font-family: \"Times New Roman\", Times, serif; font-weight:light; font-size:16px;'>\n",
    "      <li><strong style = \"color: purple\">SH - Bourne Shell</strong><br><br>The standard shell is a command-line interface (CLI) that is provided with most Unix-based operating systems. It is the default shell that is used when a user logs in to the system, and it is responsible for interpreting and executing the commands that a user types into the command line.<br><br>The standard shell is usually a version of the Bourne shell (sh), which is a command-line interpreter that was developed in the 1970s and has been included with most Unix-based systems since that time. The Bourne shell is known for its simplicity and flexibility, and it is often used as the basis for other Unix shells such as Bash (Bourne Again SHell) and Korn shell (Ksh).</li><br><br>\n",
    "      <li><strong style = \"color: purple\">Bash (Bourne Again SHell)</strong><br><br>Bash (Bourne Again SHell) is a Unix shell and command language that is often used as the default shell for Unix-like operating systems, including Linux and macOS. It is named after Stephen Bourne, the author of the original Unix shell, and \"Bourne again\" is a reference to the fact that Bash is a reimplementation of the original Bourne shell.<br><br>Bash is a powerful and flexible command-line interface that allows users to execute commands, run scripts, and perform a wide range of other tasks. It provides many features that are useful for both interactive use and shell scripting, including command history, command line editing, and job control. Bash scripts are text files that contain a series of commands that are executed in sequence. They are often used to automate repetitive tasks or to create complex programs that would be difficult to write using individual commands. Bash scripts can be run from the command line by typing \"bash script.sh\", where \"script.sh\" is the name of the script file.<br><br></li>\n",
    "      \n",
    "    \n",
    "    \n",
    "  </ul>\n",
    "</p>"
   ]
  },
  {
   "cell_type": "markdown",
   "id": "988a3633",
   "metadata": {
    "slideshow": {
     "slide_type": "subslide"
    }
   },
   "source": [
    "<p align='justify' style='margin: 10px 20px; line-height:1.5; font-family: \"Times New Roman\", Times, serif; font-size:16px; color: purple'>\n",
    "    \n",
    "    \n",
    "  <ul style='font-family: \"Times New Roman\", Times, serif; font-weight:light; font-size:16px;'>\n",
    "      <li><strong style = \"color: purple\">C shell (Csh)</strong><br><br>The C shell (Csh) is a Unix shell that was developed at the University of California, Berkeley in the late 1970s. It is named for the C programming language, which it was designed to resemble in its syntax and control structures. Csh was one of the first shells to support command history and command line editing, features that are now common in most Unix shells. Csh is not as widely used as some other Unix shells, such as the Bourne shell (sh) or the Bash shell (bash), but it is still popular in some circles and is included with many Unix-like operating systems.<br><br>Like other Unix shells, Csh allows users to enter commands at a command prompt and execute them by pressing the Enter key. It also provides a wide range of built-in commands and features that make it easy to perform tasks such as running programs, moving and copying files, and managing system processes. Csh scripts are similar to Bash scripts, in that they are text files that contain a series of commands that are executed in sequence. They can be run from the command line by typing \"csh script.csh\", where \"script.csh\" is the name of the script file.</li><br><br>\n",
    "      <li><strong style = \"color: purple\">Korn shell (Ksh)</strong><br><br>The Korn shell (Ksh) is a Unix shell that was developed by David Korn at AT&T Bell Labs in the 1980s. It is named for its developer and is sometimes referred to as \"ksh\". Ksh is an enhanced version of the Bourne shell (sh), and it includes many features that were not present in the original Bourne shell, such as command line editing, command history, and arrays. Ksh is widely used on many Unix-like operating systems, including Linux, AIX, and Solaris. It is often used as the default shell for system administrators, as it provides a powerful and flexible command-line interface that is well suited to the needs of systems management.<br><br>Like other Unix shells, Ksh allows users to enter commands at a command prompt and execute them by pressing the Enter key. It also provides a wide range of built-in commands and features that make it easy to perform tasks such as running programs, moving and copying files, and managing system processes. Ksh scripts are similar to Bash and Csh scripts, in that they are text files that contain a series of commands that are executed in sequence. They can be run from the command line by typing \"ksh script.ksh\", where \"script.ksh\" is the name of the script file. </li>\n",
    "    \n",
    "    \n",
    "  </ul>\n",
    "</p>"
   ]
  },
  {
   "cell_type": "markdown",
   "id": "868bb91d",
   "metadata": {
    "slideshow": {
     "slide_type": "subslide"
    }
   },
   "source": [
    "<h3 style='color:red; font-weight:bold; text-align:center; font-family: \"Times New Roman\", Times, serif; font-size:20px;'>Understanding the file system and directory structure </h3>\n",
    "<img src=\"imgbin-directory-structure-computer-icons-mbox-file-system-system-folder-tree-yellow-icon-zrKDbZFXBzy6yEC6PZJ2gh59E.jpg\" width=\"150\" height=\"250\" style=\"float: left; margin-right: 20px; margin-left: 20px;\">\n",
    "<p align='justify' style='margin: 10px 20px; line-height:1.5; font-family: \"Times New Roman\", Times, serif; font-size:16px; color: purple'>\n",
    "  The file system of a computer is a hierarchical structure that is used to store, organize, and access files on a storage device, such as a hard drive or a flash drive. At the top of the file system hierarchy is the root directory, which is represented by a forward slash (/). All other directories in the file system are organized beneath the root directory in a tree-like structure.\n",
    "</p><br><br>\n",
    "<p align='justify' style='margin: 10px 20px; line-height:1.5; font-family: \"Times New Roman\", Times, serif; font-size:16px; color: black'>\n",
    "  In the file system, a directory is a container that holds files and other directories. A directory can contain any number of files and subdirectories, and each subdirectory can contain its own set of files and subdirectories. This hierarchical structure allows users to easily organize and access their files. On most Unix-like operating systems, including Linux and macOS, the file system is divided into two main branches: the root file system and the user file system. The root file system contains the operating system and system files, while the user file system contains the files and directories that belong to individual users.\n",
    "</p><br>\n",
    "<p align='justify' style='margin: 10px 20px; line-height:1.5; font-family: \"Times New Roman\", Times, serif; font-size:16px; color: black'>\n",
    "  Each user on a Unix-like system has a personal directory, called the home directory, that is used to store their personal files and settings. The home directory is typically located within the user file system and is usually represented by a tilde (~).\n",
    "</p><br>\n",
    "<p align='justify' style='margin: 10px 20px; line-height:1.5; font-family: \"Times New Roman\", Times, serif; font-size:16px; color: purple'>\n",
    "  Understanding the file system and directory structure is important for navigating and managing files on a computer. It can also be helpful when working with command-line tools and scripts, as many of these tools operate on files and directories within the file system.\n",
    "</p>"
   ]
  },
  {
   "cell_type": "markdown",
   "id": "c5462294",
   "metadata": {
    "slideshow": {
     "slide_type": "subslide"
    }
   },
   "source": [
    "<h3 style='color:red; font-weight:bold; text-align:center; font-family: \"Times New Roman\", Times, serif; font-size:20px;'>Setting up the command-line environment </h3><br>\n",
    "<p align='justify' style='margin: 10px 20px; line-height:1.5; font-family: \"Times New Roman\", Times, serif; font-size:16px; color: purple'>\n",
    "  To set up the command-line environment on a Unix-like operating system, such as Linux or macOS, you will need to install a command-line shell and a terminal emulator. A shell is a program that allows you to enter commands at a command prompt and execute them by pressing the Enter key. A terminal emulator is a program that provides a window in which you can use the shell. \n",
    "</p><br>\n",
    "<p align='justify' style='margin: 10px 20px; line-height:1.5; font-family: \"Times New Roman\", Times, serif; font-size:16px; color: black'>\n",
    "  To install a shell on a Unix-like operating system, you will typically need to use a package manager, such as apt (for Debian-based systems) or yum (for Red Hat-based systems). For example, to install the Bash shell on a Debian-based system, you can use the following command: \n",
    "</p>"
   ]
  },
  {
   "cell_type": "code",
   "execution_count": null,
   "id": "0656546a",
   "metadata": {
    "slideshow": {
     "slide_type": "subslide"
    }
   },
   "outputs": [],
   "source": [
    "%%bash\n",
    "sudo apt-get install bash"
   ]
  },
  {
   "cell_type": "markdown",
   "id": "06ed698c",
   "metadata": {
    "slideshow": {
     "slide_type": "subslide"
    }
   },
   "source": [
    "<p align='justify' style='margin: 10px 20px; line-height:1.5; font-family: \"Times New Roman\", Times, serif; font-size:16px; color: purple'>\n",
    "  In this course we will install a Linux Distribution on a Virtual Machine (Prefarably VMware Workstation Pro: It is paid and i beleive your school will provide the linces key. we can find other alternatives if you do not have the activation key of VMware Workstation Pro:\n",
    " \n",
    "</p><br>\n",
    "<h3 style='color:red; font-weight:bold; text-align:center; font-family: \"Times New Roman\", Times, serif; font-size:20px;'>Linux Distributions & Installation </h3><br>\n",
    "<p align='justify' style='margin: 10px 20px; line-height:1.5; font-family: \"Times New Roman\", Times, serif; font-size:16px; color: purple'>\n",
    "    <strong>Linux Distribution</strong>\n",
    "    <img src=\"Linux_distr_large.jpg\" width=\"150\" height=\"250\" style=\"float: right; margin-right: 170px; margin-left: 170px;\">\n",
    "    \n",
    "  <ul style='font-family: \"Times New Roman\", Times, serif; font-weight:light; font-size:16px;'>\n",
    "      <li><strong><a href=\"https://www.mandrakesoft.com/\">Mandrake</a></strong></li>\n",
    "      <li><strong><a href=\"https://www.redhat.com/en\">RedHat</a></strong></li>\n",
    "      <li><strong><a href=\"https://www.fedora-fr.org/\">Fedora</a></strong></li>\n",
    "      <li><strong><a href=\"https://www.centos.org/\">CentOS</a></strong></li>\n",
    "      <li><strong><a href=\"https://www.debian.org/\">Debian</a></strong></li>\n",
    "      <li><strong><a href=\"https://www.suse.com/\">SuSE/Novell</a></strong></li>\n",
    "      <li><strong><a href=\"https://www.kali.org/\">Kali</a></strong></li><br><br>\n",
    "      <li><strong><a href=\"https://distrowatch.com/\">More about Distributions Here</a></strong></li>\n",
    "      \n",
    "    \n",
    "    \n",
    "  </ul>\n",
    "</p>"
   ]
  },
  {
   "cell_type": "markdown",
   "id": "953d9cc4",
   "metadata": {
    "slideshow": {
     "slide_type": "subslide"
    }
   },
   "source": [
    "<h3 style='color:red; font-weight:bold; text-align:center; font-family: \"Times New Roman\", Times, serif; font-size:20px;'>Exercise 0: Introduction </h3><br>\n",
    "<p align='justify' style='margin: 10px 20px; line-height:1.5; font-family: \"Times New Roman\", Times, serif; font-size:16px; color: purple'>\n",
    "    \n",
    "    \n",
    "  <ul style='font-family: \"Times New Roman\", Times, serif; font-weight:light; font-size:16px;'>\n",
    "      <li>Q1. How do the principles of Unix and Linux continue to shape the direction of the open-source community today?</li>\n",
    "      <li>Q2. What are some of the challenges that Unix and Linux have faced over the years, and how have they been addressed?</li>\n",
    "      <li>Q3. Who developed Unix, and why?</li>\n",
    "      <li>Q4. What is the philosophy behind the design of Unix?</li>\n",
    "      <li>Q5. What is Linux, and how does it relate to Unix?</li>\n",
    "      <li>Q6. How do file permissions work in Unix and Linux, and how can they be used to control access to files and directories?</li>\n",
    "      <li>Q7. What is the root directory, and what is its significance in the file system hierarchy?</li>\n",
    "      <li>Q8. What is a file system, and why is it important in a computer operating system?</li>\n",
    "    \n",
    "    \n",
    "  </ul>\n",
    "</p>"
   ]
  },
  {
   "cell_type": "markdown",
   "id": "da4bf68d",
   "metadata": {
    "slideshow": {
     "slide_type": "slide"
    }
   },
   "source": [
    "<h2 style='color:red; font-weight:bold; text-align:center; font-family: \"Times New Roman\", Times, serif; font-size:22px;'>CHAPTER ONE: BASIC UNIX AND LINUX COMMANDS </h2><br>\n",
    "<img src=\"linux-commands-1024x512.jpg\" width=\"150\" height=\"250\" style=\"float: left; margin-right: 20px; margin-left: 20px;\">\n",
    "<p align='justify' style='margin: 10px 20px; line-height:1.5; font-family: \"Times New Roman\", Times, serif; font-size:16px; color: purple'>\n",
    "  Commands are ways or instructions through which you can instruct your system to do some action. Commands are executed in the command line. In this section we will see some basic shell commands and how we can use them\n",
    "\n",
    "</p><br><br>\n",
    "<p align='justify' style='margin: 10px 20px; line-height:1.5; font-family: \"Times New Roman\", Times, serif; font-size:16px; color: purple'>\n",
    "    <strong style = \"color: black\">Some Commands</strong>\n",
    "    \n",
    "  <ul style='font-family: \"Times New Roman\", Times, serif; font-weight:light; font-size:16px;'>\n",
    "      <li><strong style = \"color: purple\">date : </strong> Shows the current date</li>\n",
    "      <li><strong style = \"color: purple\">whoami: </strong> Account used</li>\n",
    "      <li><strong style = \"color: purple\">who: </strong> List of connected users to the system</li>\n",
    "      <li><strong style = \"color: purple\">cal: </strong> Calender</li>\n",
    "      <li><strong style = \"color: purple\">uname: </strong> OS & Kernel Version</li>\n",
    "      <li><strong style = \"color: purple\">id: </strong>Identity of user</li>\n",
    "      <li><strong style = \"color: purple\">su: </strong>Switch User</li>\n",
    "      <li><strong style = \"color: purple\">script -a => exit: </strong>save in file name typesscript</li>\n",
    "      <li><strong style = \"color: purple\"> file filename: </strong>save in file name typesscript</li>\n",
    "    \n",
    "    \n",
    "  </ul>\n",
    "</p><br>\n",
    "<p align='justify' style='margin: 10px 20px; line-height:1.5; font-family: \"Times New Roman\", Times, serif; font-size:16px; color: purple'>\n",
    "  Power on your newly installed Linux in your VM and start building your skills in Shell Commands, consider that as your gateway to the world of hacking. open your terminal and start practicing the commands. \n",
    "\n",
    "</p>"
   ]
  },
  {
   "cell_type": "code",
   "execution_count": 4,
   "id": "29c6b6f0",
   "metadata": {
    "slideshow": {
     "slide_type": "subslide"
    }
   },
   "outputs": [],
   "source": [
    "%%bash\n",
    "#ls"
   ]
  },
  {
   "cell_type": "markdown",
   "id": "d58aa314",
   "metadata": {
    "slideshow": {
     "slide_type": "subslide"
    }
   },
   "source": [
    "<p align='justify' style='margin: 10px 20px; line-height:1.5; font-family: \"Times New Roman\", Times, serif; font-size:16px; color: black'>\n",
    "  The \"ls\" command is a command-line utility for listing the files and directories in a directory. It is one of the most commonly used commands in Linux and Unix-like operating systems.<br><br>By default, ls lists the files and directories in the current working directory, but it can also be used to list the files and directories in a specified directory or directories. The output of ls can be customized with a variety of command-line options. type \"man\" command to see the options of \"ls\" command and how it can be used.\n",
    "\n",
    "</p>"
   ]
  },
  {
   "cell_type": "code",
   "execution_count": 6,
   "id": "2a85cec3",
   "metadata": {
    "slideshow": {
     "slide_type": "subslide"
    }
   },
   "outputs": [],
   "source": [
    "%%bash\n",
    "#man ls"
   ]
  },
  {
   "cell_type": "markdown",
   "id": "0418299d",
   "metadata": {
    "slideshow": {
     "slide_type": "subslide"
    }
   },
   "source": [
    "<h4 style='color:red; font-weight:bold; text-align:center; font-family: \"Times New Roman\", Times, serif; font-size:18px;'>Navigating the file system with cd, ls, and pwd </h4><br>\n",
    "<img src=\"LinuxPathTree.png\" width=\"150\" height=\"250\" style=\"float: left; margin-right: 20px; margin-left: 20px;\">\n",
    "<p align='justify' style='margin: 10px 20px; line-height:1.5; font-family: \"Times New Roman\", Times, serif; font-size:16px; color: black'>\n",
    "  In a Unix-like operating system, the cd (change directory) command is used to navigate the file system. The ls (list) command is used to list the files and directories in a directory as explained above. The pwd (print working directory) command is used to display the name of the current working directory.<br><br><br><strong style = \"color: purple\">Here are some examples of how these commands can be used:</strong>\n",
    "\n",
    "</p>"
   ]
  },
  {
   "cell_type": "code",
   "execution_count": 7,
   "id": "f88543dd",
   "metadata": {
    "slideshow": {
     "slide_type": "subslide"
    }
   },
   "outputs": [
    {
     "name": "stdout",
     "output_type": "stream",
     "text": [
      "/home/sark\n"
     ]
    }
   ],
   "source": [
    "%%bash\n",
    "pwd"
   ]
  },
  {
   "cell_type": "code",
   "execution_count": 8,
   "id": "e8129fa9",
   "metadata": {
    "slideshow": {
     "slide_type": "subslide"
    }
   },
   "outputs": [],
   "source": [
    "%%bash\n",
    "#ls"
   ]
  },
  {
   "cell_type": "code",
   "execution_count": 11,
   "id": "e13f8565",
   "metadata": {
    "slideshow": {
     "slide_type": "subslide"
    }
   },
   "outputs": [],
   "source": [
    "%%bash\n",
    "#cd /Documents\n",
    "#pwd\n",
    "#ls"
   ]
  },
  {
   "cell_type": "markdown",
   "id": "780a5ec0",
   "metadata": {
    "slideshow": {
     "slide_type": "subslide"
    }
   },
   "source": [
    "<p align='justify' style='margin: 10px 20px; line-height:1.5; font-family: \"Times New Roman\", Times, serif; font-size:16px; color: black'>\n",
    "  In the example above, the pwd command is used to display the current working directory, which is /home/user. The ls command is then used to list the contents of this directory, which include the documents, downloads, music, pictures, and videos directories. The cd command is then used to change the current working directory to documents, and the pwd and ls commands are used again to show the new working directory and its contents.\n",
    "\n",
    "</p><br>\n",
    "<p align='justify' style='margin: 10px 20px; line-height:1.5; font-family: \"Times New Roman\", Times, serif; font-size:16px; color: black'>\n",
    "  You can also use the cd command to move up one level in the directory hierarchy by using cd ..  For example, if the current working directory is /home/user/documents, you can use cd .. to change the current directory to /home/user.\n",
    "\n",
    "</p><br>\n",
    "<p align='justify' style='margin: 10px 20px; line-height:1.5; font-family: \"Times New Roman\", Times, serif; font-size:16px; color: purple'>\n",
    "  It's also possible to use cd with a path to navigate directly to a specific directory. For example, cd /home/user/documents will take you directly to the documents directory, regardless of your current working directory.\n",
    "\n",
    "</p>"
   ]
  },
  {
   "cell_type": "code",
   "execution_count": 12,
   "id": "3dcf8ca3",
   "metadata": {
    "slideshow": {
     "slide_type": "subslide"
    }
   },
   "outputs": [],
   "source": [
    "%%bash\n",
    "cd .."
   ]
  },
  {
   "cell_type": "markdown",
   "id": "d06e1c63",
   "metadata": {
    "slideshow": {
     "slide_type": "subslide"
    }
   },
   "source": [
    "<h4 style='color:red; font-weight:bold; text-align:center; font-family: \"Times New Roman\", Times, serif; font-size:18px;'>Creating and modifying files and directories with touch, mkdir, cp, and mv </h4><br>\n",
    "<p align='justify' style='margin: 10px 20px; line-height:1.5; font-family: \"Times New Roman\", Times, serif; font-size:16px; color: black'>\n",
    "  \"touch\" is a command that allows you to create a new, empty file or update the access and modification times of an existing file. To create a new file, you can use the following syntax:<br><br><b>touch [options] file</b><br><br><br><strong style = \"color: purple\">For example, to create a new file called \"myFile.txt,\" you would enter:</strong>\n",
    "\n",
    "</p>"
   ]
  },
  {
   "cell_type": "code",
   "execution_count": 14,
   "id": "5676d5cc",
   "metadata": {
    "slideshow": {
     "slide_type": "subslide"
    }
   },
   "outputs": [],
   "source": [
    "%%bash\n",
    "touch myFile.txt"
   ]
  },
  {
   "cell_type": "markdown",
   "id": "506701aa",
   "metadata": {
    "slideshow": {
     "slide_type": "subslide"
    }
   },
   "source": [
    "<p align='justify' style='margin: 10px 20px; line-height:1.5; font-family: \"Times New Roman\", Times, serif; font-size:16px; color: black'>\n",
    "  You can use the \"-a\" option to update the access time of a file, and the \"-m\" option to update the modification time.<br><br><b>\"mkdir\" </b>is a command that allows you to create a new directory. To create a new directory, you can use the following syntax:<br><br><br><strong>mkdir [options] directory</strong><br><br><br><strong style = \"color: purple\">For example, to create a new directory called \"mydir,\" you would enter:</strong>\n",
    "\n",
    "</p>"
   ]
  },
  {
   "cell_type": "code",
   "execution_count": 15,
   "id": "ba76d2c1",
   "metadata": {
    "slideshow": {
     "slide_type": "subslide"
    }
   },
   "outputs": [],
   "source": [
    "%%bash\n",
    "mkdir mydir"
   ]
  },
  {
   "cell_type": "markdown",
   "id": "619e0790",
   "metadata": {
    "slideshow": {
     "slide_type": "subslide"
    }
   },
   "source": [
    "<p align='justify' style='margin: 10px 20px; line-height:1.5; font-family: \"Times New Roman\", Times, serif; font-size:16px; color: black'>\n",
    "  \"cp\" is a command that allows you to copy files and directories. To copy a file, you can use the following syntax:<br><br><b>cp [options] source destination</b><br><br><br><strong style = \"color: purple\">For example, to copy a file called \"myFile.txt\" to a new file called \"myfile_copy.txt,\" you would enter:</strong>\n",
    "\n",
    "</p>"
   ]
  },
  {
   "cell_type": "code",
   "execution_count": 17,
   "id": "50ea4fd8",
   "metadata": {
    "slideshow": {
     "slide_type": "subslide"
    }
   },
   "outputs": [],
   "source": [
    "%%bash\n",
    "cp myFile.txt myfile_copy.txt"
   ]
  },
  {
   "cell_type": "markdown",
   "id": "9b955862",
   "metadata": {
    "slideshow": {
     "slide_type": "subslide"
    }
   },
   "source": [
    "<p align='justify' style='margin: 10px 20px; line-height:1.5; font-family: \"Times New Roman\", Times, serif; font-size:16px; color: black'>\n",
    "  To copy a directory and its contents, you can use the \"-R\" option, which stands for \"recursive.\" For example, to copy a directory called \"mydir\" to a new directory called \"mydir_copy,\" you would enter:\n",
    "\n",
    "</p>"
   ]
  },
  {
   "cell_type": "code",
   "execution_count": 19,
   "id": "85c34de3",
   "metadata": {
    "slideshow": {
     "slide_type": "subslide"
    }
   },
   "outputs": [],
   "source": [
    "%%bash\n",
    "cp -R mydir mydir_copy"
   ]
  },
  {
   "cell_type": "markdown",
   "id": "fa85926c",
   "metadata": {
    "slideshow": {
     "slide_type": "subslide"
    }
   },
   "source": [
    "<p align='justify' style='margin: 10px 20px; line-height:1.5; font-family: \"Times New Roman\", Times, serif; font-size:16px; color: black'>\n",
    "  \"mv\" is a command that allows you to move or rename files and directories. To move a file, you can use the following syntax:<br><br><b> mv [options] source destination\n",
    "</b><br><br><br><strong style = \"color: purple\">For example, to move a file called \"myfile.txt\" to a new location called \"./mydir,\" you would enter:</strong>\n",
    "\n",
    "</p>"
   ]
  },
  {
   "cell_type": "code",
   "execution_count": 20,
   "id": "ca6615c4",
   "metadata": {
    "slideshow": {
     "slide_type": "subslide"
    }
   },
   "outputs": [],
   "source": [
    "%%bash\n",
    "mv myFile.txt ./mydir"
   ]
  },
  {
   "cell_type": "markdown",
   "id": "eb958f24",
   "metadata": {
    "slideshow": {
     "slide_type": "subslide"
    }
   },
   "source": [
    "<p align='justify' style='margin: 10px 20px; line-height:1.5; font-family: \"Times New Roman\", Times, serif; font-size:16px; color: black'>\n",
    "  To rename a file, you can use the same syntax, but specify the same directory as the source and destination. For example, to rename \"myFile.txt\" to \"myfile_new.txt,\" you would enter:\n",
    "\n",
    "\n",
    "</p>"
   ]
  },
  {
   "cell_type": "code",
   "execution_count": 23,
   "id": "dc899b01",
   "metadata": {
    "slideshow": {
     "slide_type": "subslide"
    }
   },
   "outputs": [],
   "source": [
    "%%bash\n",
    "mv myFile.txt myfile_new.txt"
   ]
  },
  {
   "cell_type": "markdown",
   "id": "ea78ec37",
   "metadata": {
    "slideshow": {
     "slide_type": "subslide"
    }
   },
   "source": [
    "<p align='justify' style='margin: 10px 20px; line-height:1.5; font-family: \"Times New Roman\", Times, serif; font-size:16px; color: black'>\n",
    "  To move a directory and its contents, you can use the same syntax as for moving a file, but you may need to use the \"-R\" option if the directory contains files or subdirectories.\n",
    "\n",
    "</p><br><br>\n",
    "<h4 style='color:red; font-weight:bold; text-align:center; font-family: \"Times New Roman\", Times, serif; font-size:18px;'>Viewing and manipulating files with cat, less, and head</h4><br>\n",
    "<p align='justify' style='margin: 10px 20px; line-height:1.5; font-family: \"Times New Roman\", Times, serif; font-size:16px; color: black'>\n",
    "  \"cat\" is a Unix command that is used to concatenate (join) and display files. When used with a single file, it displays the contents of the file on the screen. When used with multiple files, it concatenates them and displays the resulting output.<br><br>less is a Unix command that allows you to view a file one page at a time. It is similar to more, but has the added ability to move both forward and backward within the file, as well as search for text. To view a file with less, you can use the following syntax:<br><br><br><strong>less filename</strong>\n",
    "\n",
    "\n",
    "</p><br><br>\n",
    "<p align='justify' style='margin: 10px 20px; line-height:1.5; font-family: \"Times New Roman\", Times, serif; font-size:16px; color: black'>\n",
    "  \"head\" is a Unix command that allows you to display the first few lines of a file. By default, it displays the first 10 lines of the file. You can specify a different number of lines by using the \"-n\" option, followed by the number of lines you want to display. For example, to display the first 5 lines of a file, you can use the following syntax: <br><br><br><strong>head -n 5 filename</strong>\n",
    "\n",
    "\n",
    "</p><br><br>\n",
    "<p align='justify' style='margin: 10px 20px; line-height:1.5; font-family: \"Times New Roman\", Times, serif; font-size:16px; color: purple'>\n",
    "  All of these commands are useful for quickly viewing the contents of a file, particularly when you only need to see the beginning or a specific part of the file. They are often used in combination with other Unix commands, such as \"grep\" and \"sed\", to filter and manipulate the output.\n",
    "\n",
    "\n",
    "</p>"
   ]
  },
  {
   "cell_type": "markdown",
   "id": "255e3e9f",
   "metadata": {
    "slideshow": {
     "slide_type": "subslide"
    }
   },
   "source": [
    "<h4 style='color:red; font-weight:bold; text-align:center; font-family: \"Times New Roman\", Times, serif; font-size:18px;'>Finding files with find and grep </h4><br>\n",
    "<p align='justify' style='margin: 10px 20px; line-height:1.5; font-family: \"Times New Roman\", Times, serif; font-size:16px; color: black'>\n",
    "  The \"find\" command is a Unix utility that allows you to search for files and directories based on various criteria, such as name, size, type, and access time. You can use the \"-name\" option to search for files based on their name, and the \"-type\" option to search for files based on their type (e.g., f for regular files or d for directories).<br><br><br><strong style = \"color: purple\">For example, to search for all files in the current directory and its subdirectories whose names end in .txt, you can use the following command:</strong>\n",
    "\n",
    "</p>"
   ]
  },
  {
   "cell_type": "code",
   "execution_count": 2,
   "id": "9854f617",
   "metadata": {
    "slideshow": {
     "slide_type": "subslide"
    }
   },
   "outputs": [
    {
     "name": "stdout",
     "output_type": "stream",
     "text": [
      "./input4.txt\n",
      "./input3.txt\n",
      "./log.txt\n",
      "./numbers.txt\n",
      "./.config/Microsoft/Microsoft Teams/Service Worker/CacheStorage/08c7de082db9be2e2569d9f5d9fea7c240142e82/index.txt\n",
      "./.config/Microsoft/Microsoft Teams/Service Worker/CacheStorage/2b5c392d2730c0910fd56433cc5e73e510d0f2b4/index.txt\n",
      "./.config/Microsoft/Microsoft Teams/logs.txt\n",
      "./.config/google-chrome/Subresource Filter/Unindexed Rules/9.42.0/LICENSE.txt\n",
      "./.config/google-chrome/ZxcvbnData/1/male_names.txt\n",
      "./.config/google-chrome/ZxcvbnData/1/female_names.txt\n",
      "./.config/google-chrome/ZxcvbnData/1/surnames.txt\n",
      "./.config/google-chrome/ZxcvbnData/1/english_wikipedia.txt\n",
      "./.config/google-chrome/ZxcvbnData/1/us_tv_and_film.txt\n",
      "./.config/google-chrome/ZxcvbnData/1/passwords.txt\n",
      "./.config/google-chrome/Default/Service Worker/CacheStorage/8cbb992fe0cd9ef960e69a214646bd270516a23e/index.txt\n",
      "./.config/google-chrome/Default/Service Worker/CacheStorage/08c7de082db9be2e2569d9f5d9fea7c240142e82/index.txt\n",
      "./.config/google-chrome/Default/Service Worker/CacheStorage/2c9c6cd78937521e098ef792e2b0815b960bd7a9/index.txt\n",
      "./.config/google-chrome/Default/Service Worker/CacheStorage/32cadb2b6d359d069dd3f3d132c212a43d223701/index.txt\n",
      "./.config/google-chrome/Default/Service Worker/CacheStorage/2dd944ed65919337fe22f007f4f92608eb623225/index.txt\n",
      "./.config/google-chrome/Default/Service Worker/CacheStorage/379f1cbab5b08b6fc9e08681e42d8be311441c88/index.txt\n",
      "./.config/google-chrome/Default/Service Worker/CacheStorage/d2995cc00a2c314ab05c58a2c3d82c3ef5902c81/index.txt\n",
      "./.config/google-chrome/Default/Service Worker/CacheStorage/ed76006d9cb8b3562c188472c680ea414a23f9e6/index.txt\n",
      "./.config/google-chrome/Default/Service Worker/CacheStorage/d1394a4c842f7861ad7ae5e20da4b484a0c4acad/index.txt\n",
      "./.config/google-chrome/Default/Service Worker/CacheStorage/f278ba7242a4b0474c6478429cbbac36bd73e18d/index.txt\n",
      "./.config/google-chrome/Default/Service Worker/CacheStorage/e3fa8132cc67b92131d51e5a92a29d76be773a23/index.txt\n",
      "./.config/google-chrome/Default/Service Worker/CacheStorage/18c9b9a346fa4a7ce1fecaca2616e9d9a0f4de61/index.txt\n",
      "./.config/google-chrome/Default/Service Worker/CacheStorage/571988c4897ef87c20ec4d6b13878cf6c36e1caf/index.txt\n",
      "./.config/google-chrome/Default/Service Worker/CacheStorage/d6e9690c68cf4bdfcef1cf3a5f2774a02f91fdf9/index.txt\n",
      "./.config/google-chrome/Default/Service Worker/CacheStorage/2b5c392d2730c0910fd56433cc5e73e510d0f2b4/index.txt\n",
      "./.config/google-chrome/Default/Service Worker/CacheStorage/0f48a22277f64c442756e922770a3faedfa75bed/index.txt\n",
      "./.config/google-chrome/Default/Service Worker/CacheStorage/f56bfb986dc43b7d725c421f76f49d3c8fb9acfd/index.txt\n",
      "./.config/google-chrome/Default/Service Worker/CacheStorage/7b539bde8ca0807396a791d6ee4db1189d0e5380/index.txt\n",
      "./.config/google-chrome/Default/Service Worker/CacheStorage/c67a00d9d1fe43239f2bf49bebc287eb867542bc/index.txt\n",
      "./.config/google-chrome/Default/Service Worker/CacheStorage/beee774104aaca3fa053daa69d43b0820889edfd/index.txt\n",
      "./.config/google-chrome/Default/Service Worker/CacheStorage/29eb5eacb05363703a494bbad16a2cdd1da1fb81/index.txt\n",
      "./.config/google-chrome/Default/Custom Dictionary.txt\n",
      "./.config/google-chrome/Default/Extensions/fdcgdnkidjaadafnichfpabhfomcebme/8.2.3_0/3rdpartylicenses.txt\n",
      "./.config/google-chrome/Default/Extensions/gnnhhfiajnkfjfnnojggfdlpjifhlmom/3.0.8_0/content.js.LICENSE.txt\n",
      "./.config/google-chrome/Default/Extensions/gnnhhfiajnkfjfnnojggfdlpjifhlmom/3.0.8_0/background.js.LICENSE.txt\n",
      "./.config/google-chrome/Default/Extensions/kbfnbcaeplbcioakkpcpgfkobkghlhen/14.1094.0_0/src/js/Grammarly-check.js.LICENSE.txt\n",
      "./.config/google-chrome/Default/Extensions/kbfnbcaeplbcioakkpcpgfkobkghlhen/14.1094.0_0/src/js/Grammarly-popup.js.LICENSE.txt\n",
      "./.config/google-chrome/Default/Extensions/kbfnbcaeplbcioakkpcpgfkobkghlhen/14.1094.0_0/src/js/Grammarly.js.LICENSE.txt\n",
      "./.config/google-chrome/Default/Extensions/kbfnbcaeplbcioakkpcpgfkobkghlhen/14.1094.0_0/src/js/3351.vendors.chunk.js.LICENSE.txt\n",
      "./.config/google-chrome/Default/Extensions/kbfnbcaeplbcioakkpcpgfkobkghlhen/14.1094.0_0/src/js/Grammarly-gDocs.js.LICENSE.txt\n",
      "./.config/google-chrome/Default/Extensions/kbfnbcaeplbcioakkpcpgfkobkghlhen/14.1094.0_0/src/js/Grammarly-bg.js.LICENSE.txt\n",
      "./.config/google-chrome/Default/Extensions/kbfnbcaeplbcioakkpcpgfkobkghlhen/14.1094.0_0/src/js/2839.vendors.chunk.js.LICENSE.txt\n",
      "./.config/google-chrome/Default/Extensions/kajibbejlbohfaggdiogboambcijhkke/4.7.1_0/img/security/CC-BY-3_0.txt\n",
      "./.config/google-chrome/Default/Extensions/kajibbejlbohfaggdiogboambcijhkke/4.7.1_0/img/Mailvelope/CC-BY-SA-4_0.txt\n",
      "./.config/google-chrome/Default/Extensions/kajibbejlbohfaggdiogboambcijhkke/4.7.1_0/res/fonts/CC-BY-SA-4_0.txt\n",
      "./.config/google-chrome/Default/Extensions/kajibbejlbohfaggdiogboambcijhkke/4.7.1_0/res/fonts/LICENSE.txt\n",
      "./.config/google-chrome/Default/Extensions/gighmmpiobklfepjocnamgkkbiglidom/5.3.3_0/CHANGELOG.txt\n",
      "./.config/google-chrome/Default/Extensions/fgddmllnllkalaagkghckoinaemmogpe/5.2.0.5087_0/images/COPYRIGHT.txt\n",
      "./.config/google-chrome/Default/Extensions/fgddmllnllkalaagkghckoinaemmogpe/5.2.0.5087_0/scripts/networkLock.js.LICENSE.txt\n",
      "./.config/google-chrome/Default/Extensions/fgddmllnllkalaagkghckoinaemmogpe/5.2.0.5087_0/scripts/background.js.LICENSE.txt\n",
      "./.config/google-chrome/Default/Extensions/fgddmllnllkalaagkghckoinaemmogpe/5.2.0.5087_0/scripts/popup.js.LICENSE.txt\n",
      "./.config/google-chrome/Default/Extensions/nllcnknpjnininklegdoijpljgdjkijc/3.3.22_0/inboxsdk.js.LICENSE.txt\n",
      "./.config/google-chrome/Default/Extensions/nllcnknpjnininklegdoijpljgdjkijc/3.3.22_0/bundles/content.js.LICENSE.txt\n",
      "./.config/google-chrome/Default/Extensions/nllcnknpjnininklegdoijpljgdjkijc/3.3.22_0/bundles/background.js.LICENSE.txt\n",
      "./.config/google-chrome/Default/Extensions/nllcnknpjnininklegdoijpljgdjkijc/3.3.22_0/bundles/writingMonitor.js.LICENSE.txt\n",
      "./.config/google-chrome/Default/Extensions/nllcnknpjnininklegdoijpljgdjkijc/3.3.22_0/bundles/popup.js.LICENSE.txt\n",
      "./.config/google-chrome/Default/Extensions/nllcnknpjnininklegdoijpljgdjkijc/3.3.22_0/bundles/gdocsCanvasFallback.js.LICENSE.txt\n",
      "./.config/google-chrome/Default/Extensions/kgjfgplpablkjnlkjmjdecgdpfankdle/1.8.11_0/version.txt\n",
      "./.config/google-chrome/Default/Extensions/kgjfgplpablkjnlkjmjdecgdpfankdle/1.8.11_0/js/lib.bundle.js.LICENSE.txt\n",
      "./.config/google-chrome/Default/Extensions/eimadpbcbfnmbkopoojfekhnkhdbieeh/4.9.62_0/ui/assets/fonts/LICENSE.txt\n",
      "./.config/google-chrome/Default/Extensions/aegnopegbbhjeeiganiajffnalhlkkjb/1.2.0_0/LICENSE.txt\n",
      "./.config/google-chrome/Default/Extensions/gomekmidlodglbbmalcneegieacbdmki/22.11.177_0/scripts/cookieFrameHandler.js.LICENSE.txt\n",
      "./.config/google-chrome/Default/Extensions/gomekmidlodglbbmalcneegieacbdmki/22.11.177_0/scripts/contentGuides.js.LICENSE.txt\n",
      "./.config/google-chrome/Default/Extensions/gomekmidlodglbbmalcneegieacbdmki/22.11.177_0/scripts/background.js.LICENSE.txt\n",
      "./.config/google-chrome/Default/Extensions/gomekmidlodglbbmalcneegieacbdmki/22.11.177_0/scripts/contentAdvertisers.js.LICENSE.txt\n",
      "./.config/google-chrome/Default/Extensions/gomekmidlodglbbmalcneegieacbdmki/22.11.177_0/scripts/contentInject.js.LICENSE.txt\n",
      "./.config/google-chrome/Default/Extensions/gomekmidlodglbbmalcneegieacbdmki/22.11.177_0/scripts/cookieHandler.js.LICENSE.txt\n",
      "./.config/google-chrome/Default/Extensions/gmegofmjomhknnokphhckolhcffdaihd/2.3.0_0/license.txt\n",
      "./.config/google-chrome/Default/Extensions/bfbameneiokkgbdmiekhjnmfkcnldhhm/0.5.4_0/license.txt\n",
      "./.config/Code/Service Worker/CacheStorage/60cfcd4900e9a8c3067be8847854e9bb22cd3b84/index.txt\n",
      "./input9.txt\n",
      "./myfile_copy.txt\n",
      "./.var/app/org.chromium.Chromium/config/chromium/Subresource Filter/Unindexed Rules/9.42.0/LICENSE.txt\n",
      "./.var/app/org.chromium.Chromium/config/chromium/ZxcvbnData/1/male_names.txt\n",
      "./.var/app/org.chromium.Chromium/config/chromium/ZxcvbnData/1/female_names.txt\n",
      "./.var/app/org.chromium.Chromium/config/chromium/ZxcvbnData/1/surnames.txt\n",
      "./.var/app/org.chromium.Chromium/config/chromium/ZxcvbnData/1/english_wikipedia.txt\n",
      "./.var/app/org.chromium.Chromium/config/chromium/ZxcvbnData/1/us_tv_and_film.txt\n",
      "./.var/app/org.chromium.Chromium/config/chromium/ZxcvbnData/1/passwords.txt\n",
      "./.var/app/com.slack.Slack/config/Slack/Service Worker/CacheStorage/4c237d5e33167c88df3e45d9c8b59fdd4d727472/index.txt\n",
      "./.var/app/com.ktechpit.whatsie/data/org.keshavnrj.ubuntu/WhatSie/QtWebEngine/Default/Service Worker/CacheStorage/0bf6ab7f94a21cdc9c1649f884333ec20f40a544/index.txt\n",
      "./.var/app/com.opera.Opera/.pki/nssdb/pkcs11.txt\n",
      "./.var/app/com.opera.Opera/config/opera/opera_shutdown_ms.txt\n",
      "./.var/app/com.opera.Opera/config/opera/Extensions/gojhcdgcpbpfigcaejpfhfegekdgiblk/1.6_0/service.js.LICENSE.txt\n",
      "./.var/app/com.github.vikdevelop.photopea_app/config/photopea/Service Worker/CacheStorage/96fb6203f63f7c204fc1f518cbc690b77d2a6ba7/index.txt\n",
      "./aux.txt\n",
      "./Desktop/awk/try_content.txt\n",
      "./Desktop/awk/sample.txt\n",
      "./Desktop/awk/example.txt\n",
      "./Desktop/awk/example1.txt\n",
      "./Desktop/awk/file.txt\n",
      "./Desktop/Evaluation PYT_010/Evaluated/BEKNOUNE Rayan/RE_ for precision/rayan2.txt\n",
      "./Desktop/Evaluation PYT_010/Evaluated/BEKNOUNE Rayan/RE_ for precision/rayan.txt\n",
      "./Desktop/Evaluation PYT_010/Evaluated/BEKNOUNE Rayan/rayan.txt\n",
      "./Desktop/Evaluation PYT_010/Evaluated/BEKNOUNE Rayan/Exercices for 3days/rayan2.txt\n",
      "./Desktop/Evaluation PYT_010/Evaluated/BEKNOUNE Rayan/Exercices for 3days/rayan.txt\n",
      "./Desktop/Evaluation PYT_010/Evaluated/BEKNOUNE Rayan/Exercices for 3days/rayan3.txt\n",
      "./Desktop/Evaluation PYT_010/Evaluated/HAYNOUN Ayoub/exercises.txt\n",
      "./Desktop/Evaluation PYT_010/Evaluated/RIBEIRO DA MOTA Gabriel/exercises.txt\n",
      "./Desktop/Evaluation PYT_010/Evaluated/RAYE Loghan/exercises.txt\n",
      "./snap/bitwarden/81/.pki/nssdb/pkcs11.txt\n",
      "./snap/bitwarden/82/.pki/nssdb/pkcs11.txt\n",
      "./snap/firefox/common/.mozilla/firefox/48nglayy.default/enumerate_devices.txt\n",
      "./snap/firefox/common/.mozilla/firefox/48nglayy.default/pkcs11.txt\n",
      "./snap/firefox/common/.mozilla/firefox/48nglayy.default/AlternateServices.txt\n",
      "./snap/firefox/common/.mozilla/firefox/48nglayy.default/SiteSecurityServiceState.txt\n",
      "./input7.txt\n",
      "./command.txt\n",
      "./input10.txt\n",
      "./Content.txt\n",
      "./AUX_012/input4.txt\n",
      "./AUX_012/input3.txt\n",
      "./AUX_012/log.txt\n",
      "./AUX_012/numbers.txt\n",
      "./AUX_012/ff/file_python.txt\n",
      "./AUX_012/ff/ffff/aux.txt\n",
      "./AUX_012/ff/ffff/command.txt\n",
      "./AUX_012/ff/ffff/Content.txt\n",
      "./AUX_012/ff/file.txt\n",
      "./AUX_012/input9.txt\n",
      "./AUX_012/myfile_copy.txt\n",
      "./AUX_012/input7.txt\n",
      "./AUX_012/input10.txt\n",
      "./AUX_012/input1.txt\n",
      "./AUX_012/inputfile.txt\n",
      "./AUX_012/myfile.txt\n",
      "./AUX_012/output.txt\n",
      "./AUX_012/input8.txt\n",
      "./AUX_012/input6.txt\n",
      "./AUX_012/simple_filters.txt\n",
      "./AUX_012/sedTextExample.txt\n",
      "./AUX_012/input5.txt\n",
      "./AUX_012/new_AUX/input4.txt\n",
      "./AUX_012/new_AUX/input3.txt\n",
      "./AUX_012/new_AUX/input9.txt\n",
      "./AUX_012/new_AUX/input7.txt\n",
      "./AUX_012/new_AUX/command.txt\n",
      "./AUX_012/new_AUX/input10.txt\n",
      "./AUX_012/new_AUX/input1.txt\n",
      "./AUX_012/new_AUX/inputfile.txt\n",
      "./AUX_012/new_AUX/input8.txt\n",
      "./AUX_012/new_AUX/input6.txt\n",
      "./AUX_012/new_AUX/simple_filters.txt\n",
      "./AUX_012/new_AUX/input5.txt\n",
      "./AUX_012/new_AUX/simple_maths.txt\n",
      "./AUX_012/new_AUX/input.txt\n",
      "./AUX_012/new_AUX/input2.txt\n",
      "./AUX_012/simple_maths.txt\n",
      "./AUX_012/input.txt\n",
      "./AUX_012/input2.txt\n",
      "./input1.txt\n",
      "./.anaconda/navigator/scripts/notebook-err-1.txt\n",
      "./.anaconda/navigator/scripts/notebook-out-1.txt\n",
      "./.vscode/extensions/ms-python.python-2022.20.1/ThirdPartyNotices.txt\n",
      "./.vscode/extensions/ms-python.python-2022.20.1/LICENSE.txt\n",
      "./.vscode/extensions/ms-python.python-2022.20.1/dist/extension.browser.js.LICENSE.txt\n",
      "./.vscode/extensions/ms-python.python-2022.20.1/requirements.txt\n",
      "./.vscode/extensions/ms-python.python-2022.20.1/pythonFiles/lib/python/debugpy/ThirdPartyNotices.txt\n",
      "./.vscode/extensions/ms-python.python-2022.20.1/pythonFiles/lib/python/debugpy/_vendored/pydevd/pydevd_attach_to_process/README.txt\n",
      "./.vscode/extensions/ms-python.python-2022.20.1/pythonFiles/lib/python/debugpy/_vendored/pydevd/pydev_sitecustomize/__not_in_default_pythonpath.txt\n",
      "./.vscode/extensions/ms-python.python-2022.20.1/pythonFiles/lib/python/debugpy/_vendored/pydevd/_pydevd_frame_eval/vendored/README.txt\n",
      "./.vscode/extensions/ms-python.python-2022.20.1/pythonFiles/lib/jedilsp/jedi/third_party/django-stubs/LICENSE.txt\n",
      "./.vscode/extensions/ms-python.python-2022.20.1/pythonFiles/lib/jedilsp/parso/python/grammar39.txt\n",
      "./.vscode/extensions/ms-python.python-2022.20.1/pythonFiles/lib/jedilsp/parso/python/grammar37.txt\n",
      "./.vscode/extensions/ms-python.python-2022.20.1/pythonFiles/lib/jedilsp/parso/python/grammar36.txt\n",
      "./.vscode/extensions/ms-python.python-2022.20.1/pythonFiles/lib/jedilsp/parso/python/grammar310.txt\n",
      "./.vscode/extensions/ms-python.python-2022.20.1/pythonFiles/lib/jedilsp/parso/python/grammar311.txt\n",
      "./.vscode/extensions/ms-python.python-2022.20.1/pythonFiles/lib/jedilsp/parso/python/grammar312.txt\n",
      "./.vscode/extensions/ms-python.python-2022.20.1/pythonFiles/lib/jedilsp/parso/python/grammar38.txt\n",
      "./.vscode/extensions/ms-python.python-2022.20.1/out/client/extension.js.LICENSE.txt\n",
      "./.vscode/extensions/ms-python.python-2022.20.1/out/client/node_modules/request.js.LICENSE.txt\n",
      "./.vscode/extensions/ms-python.python-2022.20.1/out/client/node_modules/node-stream-zip.js.LICENSE.txt\n",
      "./.vscode/extensions/ms-python.python-2022.20.1/out/client/node_modules/xml2js.js.LICENSE.txt\n",
      "./.vscode/extensions/ms-python.python-2022.20.1/ThirdPartyNotices-Repository.txt\n",
      "./.vscode/extensions/ms-toolsai.jupyter-2022.11.1003412109/ThirdPartyNotices.txt\n",
      "./.vscode/extensions/ms-toolsai.jupyter-2022.11.1003412109/LICENSE.txt\n",
      "./.vscode/extensions/ms-toolsai.jupyter-2022.11.1003412109/requirements.txt\n",
      "./.vscode/extensions/ms-toolsai.jupyter-2022.11.1003412109/out/fontAwesome/node_modules/font-awesome/HELP-US-OUT.txt\n",
      "./.vscode/extensions/ms-toolsai.jupyter-2022.11.1003412109/out/extension.node.js.LICENSE.txt\n",
      "./.vscode/extensions/ms-toolsai.jupyter-2022.11.1003412109/out/extension.web.bundle.js.LICENSE.txt\n",
      "./.vscode/extensions/ms-toolsai.jupyter-2022.11.1003412109/out/node_modules/jquery/dist/jquery.min.js.LICENSE.txt\n",
      "./.vscode/extensions/ms-toolsai.jupyter-2022.11.1003412109/out/node_modules/pdfkit/js/pdfkit.standalone.js.LICENSE.txt\n",
      "./.vscode/extensions/ms-toolsai.jupyter-2022.11.1003412109/out/node_modules/@vscode/jupyter-ipywidgets7/dist/ipywidgets.js.LICENSE.txt\n",
      "./.vscode/extensions/ms-toolsai.jupyter-2022.11.1003412109/out/node_modules/crypto-js.js.LICENSE.txt\n",
      "./.vscode/extensions/ms-toolsai.jupyter-2022.11.1003412109/out/webviews/webview-side/ipywidgetsKernel/ipywidgetsKernel.js.LICENSE.txt\n",
      "./.vscode/extensions/ms-toolsai.jupyter-2022.11.1003412109/out/webviews/webview-side/viewers/plotViewer.js.LICENSE.txt\n",
      "./.vscode/extensions/ms-toolsai.jupyter-2022.11.1003412109/out/webviews/webview-side/viewers/dataExplorer.js.LICENSE.txt\n",
      "./.vscode/extensions/ms-toolsai.jupyter-2022.11.1003412109/out/webviews/webview-side/viewers/variableView.js.LICENSE.txt\n",
      "./.vscode/extensions/ms-toolsai.jupyter-2022.11.1003412109/out/939.node.js.LICENSE.txt\n",
      "./.vscode/extensions/ms-toolsai.jupyter-2022.11.1003412109/ThirdPartyNotices-Repository.txt\n",
      "./.vscode/extensions/ms-mssql.data-workspace-vscode-0.3.0/dist/main.js.LICENSE.txt\n",
      "./.vscode/extensions/ms-mssql.data-workspace-vscode-0.3.0/dist/939.js.LICENSE.txt\n",
      "./.vscode/extensions/ritwickdey.liveserver-5.7.9/LICENSE.txt\n",
      "./.vscode/extensions/ritwickdey.liveserver-5.7.9/node_modules/bcryptjs/tests/quickbrown.txt\n",
      "./.vscode/extensions/ritwickdey.liveserver-5.7.9/node_modules/vsls/LICENSE.txt\n",
      "./.vscode/extensions/ritwickdey.liveserver-5.7.9/node_modules/signal-exit/LICENSE.txt\n",
      "./.vscode/extensions/ritwickdey.liveserver-5.7.9/node_modules/circular-json/LICENSE.txt\n",
      "./.vscode/extensions/ritwickdey.liveserver-5.7.9/node_modules/esquery/license.txt\n",
      "./.vscode/extensions/ritwickdey.liveserver-5.7.9/node_modules/write/node_modules/mkdirp/bin/usage.txt\n",
      "./.vscode/extensions/ritwickdey.liveserver-5.7.9/node_modules/path-is-inside/LICENSE.txt\n",
      "./.vscode/extensions/ritwickdey.liveserver-5.7.9/node_modules/eslint/messages/whitespace-found.txt\n",
      "./.vscode/extensions/ritwickdey.liveserver-5.7.9/node_modules/eslint/messages/extend-config-missing.txt\n",
      "./.vscode/extensions/ritwickdey.liveserver-5.7.9/node_modules/eslint/messages/plugin-missing.txt\n",
      "./.vscode/extensions/ritwickdey.liveserver-5.7.9/node_modules/eslint/messages/no-config-found.txt\n",
      "./.vscode/extensions/ritwickdey.liveserver-5.7.9/node_modules/eslint/node_modules/mkdirp/bin/usage.txt\n",
      "./.vscode/extensions/ms-vscode.powershell-2022.12.1/modules/PSReadLine/2.2.6/License.txt\n",
      "./.vscode/extensions/ms-vscode.powershell-2022.12.1/modules/PSReadLine/2.2.6/Changes.txt\n",
      "./.vscode/extensions/ms-vscode.powershell-2022.12.1/modules/Plaster/1.1.3/en-US/about_Plaster.help.help.txt\n",
      "./.vscode/extensions/ms-vscode.powershell-2022.12.1/modules/Plaster/1.1.3/en-US/about_Plaster_CreatingAManifest.help.help.txt\n",
      "./.vscode/extensions/ms-vscode.powershell-2022.12.1/modules/PowerShellEditorServices/Third Party Notices.txt\n",
      "./.vscode/extensions/ms-vscode.powershell-2022.12.1/Third Party Notices.txt\n",
      "./.vscode/extensions/ms-vscode.powershell-2022.12.1/LICENSE.txt\n",
      "./.vscode/extensions/ms-vscode.powershell-2022.12.1/examples/en-US/about_SampleModule.help.txt\n",
      "./.vscode/extensions/ms-python.vscode-pylance-2022.12.20/NOTICE.txt\n",
      "./.vscode/extensions/ms-python.vscode-pylance-2022.12.20/LICENSE.txt\n",
      "./.vscode/extensions/ms-python.vscode-pylance-2022.12.20/dist/typeshed-fallback/commit.txt\n",
      "./.vscode/extensions/ms-python.vscode-pylance-2022.12.20/dist/browser.extension.bundle.js.LICENSE.txt\n",
      "./.vscode/extensions/ms-python.vscode-pylance-2022.12.20/dist/vendor.bundle.js.LICENSE.txt\n",
      "./.vscode/extensions/ms-python.vscode-pylance-2022.12.20/dist/bundled/stubs/openpyxl/commit.txt\n",
      "./.vscode/extensions/ms-python.vscode-pylance-2022.12.20/dist/bundled/stubs/django/LICENSE.txt\n",
      "./.vscode/extensions/ms-python.vscode-pylance-2022.12.20/dist/bundled/stubs/django/commit.txt\n",
      "./.vscode/extensions/ms-python.vscode-pylance-2022.12.20/dist/browser.server.bundle.js.LICENSE.txt\n",
      "./.vscode/extensions/ms-toolsai.jupyter-keymap-1.0.0/LICENSE.txt\n",
      "./.vscode/extensions/ms-toolsai.jupyter-renderers-1.0.12/ThirdPartyNotices.txt\n",
      "./.vscode/extensions/ms-toolsai.jupyter-renderers-1.0.12/LICENSE.txt\n",
      "./.vscode/extensions/ms-toolsai.jupyter-renderers-1.0.12/out/client_renderer/vegaRenderer.js.LICENSE.txt\n",
      "./.vscode/extensions/ms-toolsai.jupyter-renderers-1.0.12/out/client_renderer/161.bundle.js.LICENSE.txt\n",
      "./.vscode/extensions/ms-toolsai.jupyter-renderers-1.0.12/out/client_renderer/nteract_transforms.bundle.js.LICENSE.txt\n",
      "./.vscode/extensions/ms-toolsai.jupyter-renderers-1.0.12/out/client_renderer/builtinRendererHooks.js.LICENSE.txt\n",
      "./.vscode/extensions/ms-toolsai.jupyter-renderers-1.0.12/out/client_renderer/plotly.bundle.js.LICENSE.txt\n",
      "./.vscode/extensions/ms-toolsai.jupyter-renderers-1.0.12/out/client_renderer/geojson.bundle.js.LICENSE.txt\n",
      "./.vscode/extensions/ms-toolsai.jupyter-renderers-1.0.12/out/client_renderer/vega.bundle.js.LICENSE.txt\n",
      "./.vscode/extensions/ms-toolsai.jupyter-renderers-1.0.12/out/client_renderer/renderers.js.LICENSE.txt\n",
      "./.vscode/extensions/ms-toolsai.jupyter-renderers-1.0.12/out/client_renderer/20.bundle.js.LICENSE.txt\n",
      "./.vscode/extensions/ms-vscode.cpptools-1.13.8-linux-x64/ThirdPartyNotices.txt\n",
      "./.vscode/extensions/ms-vscode.cpptools-1.13.8-linux-x64/LICENSE.txt\n",
      "./.vscode/extensions/ms-vscode.cpptools-1.13.8-linux-x64/bin/LICENSE.txt\n",
      "./.vscode/extensions/ms-mssql.sql-database-projects-vscode-0.19.0/dist/extension.js.LICENSE.txt\n",
      "./.vscode/extensions/ms-mssql.sql-database-projects-vscode-0.19.0/dist/939.js.LICENSE.txt\n",
      "./.vscode/extensions/danielpinto8zz6.c-cpp-compile-run-1.0.19/LICENSE.txt\n",
      "./.vscode/extensions/ms-mssql.mssql-1.16.0/ThirdPartyNotices.txt\n",
      "./.vscode/extensions/ms-mssql.mssql-1.16.0/LICENSE.txt\n",
      "./.vscode/extensions/ms-mssql.mssql-1.16.0/node_modules/vscode-languageserver-types/License.txt\n",
      "./.vscode/extensions/ms-mssql.mssql-1.16.0/node_modules/ejs/usage.txt\n",
      "./.vscode/extensions/ms-mssql.mssql-1.16.0/node_modules/vscode-languageclient/License.txt\n",
      "./.vscode/extensions/ms-mssql.mssql-1.16.0/node_modules/vscode-languageclient/thirdpartynotices.txt\n",
      "./.vscode/extensions/ms-mssql.mssql-1.16.0/node_modules/vscode-jsonrpc/License.txt\n",
      "./.vscode/extensions/ms-mssql.mssql-1.16.0/node_modules/vscode-jsonrpc/thirdpartynotices.txt\n",
      "./.vscode/extensions/ms-mssql.mssql-1.16.0/node_modules/jquery/AUTHORS.txt\n",
      "./.vscode/extensions/ms-mssql.mssql-1.16.0/node_modules/jquery/LICENSE.txt\n",
      "./.vscode/extensions/ms-mssql.mssql-1.16.0/node_modules/jquery/external/sizzle/LICENSE.txt\n",
      "./.vscode/extensions/ms-mssql.mssql-1.16.0/node_modules/jake/usage.txt\n",
      "./.vscode/extensions/ms-mssql.mssql-1.16.0/node_modules/mkdirp/bin/usage.txt\n",
      "./.vscode/extensions/ms-mssql.mssql-1.16.0/node_modules/tslib/LICENSE.txt\n",
      "./.vscode/extensions/ms-mssql.mssql-1.16.0/node_modules/tslib/CopyrightNotice.txt\n",
      "./.vscode/extensions/ms-mssql.mssql-1.16.0/node_modules/vscode-nls/ThirdPartyNotices.txt\n",
      "./.vscode/extensions/ms-mssql.mssql-1.16.0/node_modules/vscode-nls/License.txt\n",
      "./.vscode/extensions/ms-mssql.mssql-1.16.0/node_modules/opener/LICENSE.txt\n",
      "./.vscode/extensions/ms-mssql.mssql-1.16.0/node_modules/reflect-metadata/CopyrightNotice.txt\n",
      "./.vscode/extensions/ms-mssql.mssql-1.16.0/node_modules/vscode-languageserver-protocol/License.txt\n",
      "./.vscode/extensions/ms-mssql.mssql-1.16.0/node_modules/vscode-languageserver-protocol/thirdpartynotices.txt\n",
      "./.vscode/extensions/ms-mssql.mssql-1.16.0/node_modules/@azure/abort-controller/node_modules/tslib/LICENSE.txt\n",
      "./.vscode/extensions/ms-mssql.mssql-1.16.0/node_modules/@azure/abort-controller/node_modules/tslib/CopyrightNotice.txt\n",
      "./.vscode/extensions/ms-mssql.mssql-1.16.0/out/src/views/htmlcontent/src/js/lib/rxjs/LICENSE.txt\n",
      "./inputfile.txt\n",
      "./file_python.txt\n",
      "./.mysql/workbench/snippets/DB_Management.txt\n",
      "./.mysql/workbench/snippets/SQL_DDL_Statements.txt\n",
      "./.mysql/workbench/snippets/SQL_DML_Statements.txt\n",
      "./.mysql/workbench/shell_history.txt\n",
      "./.mysql/workbench/shell_bookmarks.txt\n",
      "./Downloads/AI-Cybersecurity-main/UNIX/AUX_060/aux_060.txt\n",
      "./Downloads/AI-Cybersecurity-main/UNIX/AUX_230/aux_230.txt\n",
      "./Downloads/AI-Cybersecurity-main/UNIX/AUX_080/Content.txt\n",
      "./Downloads/AI-Cybersecurity-main/UNIX/AUX_200/aux_200.txt\n",
      "./Downloads/AI-Cybersecurity-main/UNIX/AUX_240/aux_240.txt\n",
      "./Downloads/AI-Cybersecurity-main/UNIX/AUX_050/log.txt\n",
      "./Downloads/AI-Cybersecurity-main/UNIX/AUX_050/numbers.txt\n",
      "./Downloads/AI-Cybersecurity-main/UNIX/AUX_050/myfile_copy.txt\n",
      "./Downloads/AI-Cybersecurity-main/UNIX/AUX_050/aux.txt\n",
      "./Downloads/AI-Cybersecurity-main/UNIX/AUX_050/myfile.txt\n",
      "./Downloads/AI-Cybersecurity-main/UNIX/AUX_050/output.txt\n",
      "./Downloads/AI-Cybersecurity-main/UNIX/AUX_050/sedTextExample.txt\n",
      "./Downloads/AI-Cybersecurity-main/UNIX/AUX_050/file.txt\n",
      "./Downloads/AI-Cybersecurity-main/UNIX/AUX_050/input.txt\n",
      "./Downloads/AI-Cybersecurity-main/Python/PYT_010/pyt010.txt\n",
      "./Downloads/AI-Cybersecurity-main/Python/file.txt\n",
      "./Downloads/ubuntu-22.04.1-desktop-amd64/md5sum.txt\n",
      "./.pki/nssdb/pkcs11.txt\n",
      "./myfile.txt\n",
      "./final_pyt_010/input4.txt\n",
      "./final_pyt_010/input3.txt\n",
      "./final_pyt_010/numbers.txt\n",
      "./final_pyt_010/input9.txt\n",
      "./final_pyt_010/input7.txt\n",
      "./final_pyt_010/input10.txt\n",
      "./final_pyt_010/input1.txt\n",
      "./final_pyt_010/inputfile.txt\n",
      "./final_pyt_010/file_python.txt\n",
      "./final_pyt_010/output.txt\n",
      "./final_pyt_010/input8.txt\n",
      "./final_pyt_010/input6.txt\n",
      "./final_pyt_010/requirements.txt\n",
      "./final_pyt_010/input5.txt\n",
      "./final_pyt_010/file.txt\n",
      "./final_pyt_010/input.txt\n",
      "./final_pyt_010/input2.txt\n",
      "./output.txt\n",
      "./input8.txt\n",
      "./input6.txt\n",
      "./simple_filters.txt\n",
      "./sedTextExample.txt\n",
      "./.local/lib/python3.9/site-packages/protobuf-3.20.1.dist-info/top_level.txt\n",
      "./.local/lib/python3.9/site-packages/protobuf-3.20.1.dist-info/namespace_packages.txt\n",
      "./.local/lib/python3.9/site-packages/mysql_connector_python-8.0.31.dist-info/top_level.txt\n",
      "./.local/lib/python3.9/site-packages/mysql_connector_python-8.0.31.dist-info/LICENSE.txt\n",
      "./.local/lib/python3.10/site-packages/pycryptodome-3.16.0.dist-info/top_level.txt\n",
      "./.local/lib/python3.10/site-packages/asttokens-2.2.1.dist-info/top_level.txt\n",
      "./.local/lib/python3.10/site-packages/ipython_genutils-0.2.0.dist-info/top_level.txt\n",
      "./.local/lib/python3.10/site-packages/uritemplate-4.1.1.dist-info/top_level.txt\n",
      "./.local/lib/python3.10/site-packages/jupyter_console-6.4.4.dist-info/top_level.txt\n",
      "./.local/lib/python3.10/site-packages/jupyter_console-6.4.4.dist-info/entry_points.txt\n",
      "./.local/lib/python3.10/site-packages/jedi-0.18.2.dist-info/AUTHORS.txt\n",
      "./.local/lib/python3.10/site-packages/jedi-0.18.2.dist-info/top_level.txt\n",
      "./.local/lib/python3.10/site-packages/jedi-0.18.2.dist-info/LICENSE.txt\n",
      "./.local/lib/python3.10/site-packages/google_auth_httplib2-0.1.0.dist-info/top_level.txt\n",
      "./.local/lib/python3.10/site-packages/google_auth_oauthlib-0.8.0.dist-info/top_level.txt\n",
      "./.local/lib/python3.10/site-packages/google_auth_oauthlib-0.8.0.dist-info/entry_points.txt\n",
      "./.local/lib/python3.10/site-packages/pyrsistent-0.19.3.dist-info/top_level.txt\n",
      "./.local/lib/python3.10/site-packages/pyzmq-24.0.1.dist-info/top_level.txt\n",
      "./.local/lib/python3.10/site-packages/pickleshare-0.7.5.dist-info/top_level.txt\n",
      "./.local/lib/python3.10/site-packages/pycparser-2.21.dist-info/top_level.txt\n",
      "./.local/lib/python3.10/site-packages/jupyter_events-0.5.0.dist-info/entry_points.txt\n",
      "./.local/lib/python3.10/site-packages/pyasn1-0.4.8.dist-info/top_level.txt\n",
      "./.local/lib/python3.10/site-packages/attrs-22.2.0.dist-info/top_level.txt\n",
      "./.local/lib/python3.10/site-packages/jedi/third_party/django-stubs/LICENSE.txt\n",
      "./.local/lib/python3.10/site-packages/oauth2client-4.1.3.dist-info/top_level.txt\n",
      "./.local/lib/python3.10/site-packages/PyDrive-1.3.1.dist-info/top_level.txt\n",
      "./.local/lib/python3.10/site-packages/Send2Trash-1.8.0.dist-info/top_level.txt\n",
      "./.local/lib/python3.10/site-packages/Send2Trash-1.8.0.dist-info/entry_points.txt\n",
      "./.local/lib/python3.10/site-packages/googleapis_common_protos-1.57.0.dist-info/top_level.txt\n",
      "./.local/lib/python3.10/site-packages/googleapis_common_protos-1.57.0.dist-info/namespace_packages.txt\n",
      "./.local/lib/python3.10/site-packages/parso/python/grammar39.txt\n",
      "./.local/lib/python3.10/site-packages/parso/python/grammar37.txt\n",
      "./.local/lib/python3.10/site-packages/parso/python/grammar36.txt\n",
      "./.local/lib/python3.10/site-packages/parso/python/grammar310.txt\n",
      "./.local/lib/python3.10/site-packages/parso/python/grammar311.txt\n",
      "./.local/lib/python3.10/site-packages/parso/python/grammar312.txt\n",
      "./.local/lib/python3.10/site-packages/parso/python/grammar38.txt\n",
      "./.local/lib/python3.10/site-packages/pamela-1.0.0.dist-info/top_level.txt\n",
      "./.local/lib/python3.10/site-packages/nbformat-5.7.1.dist-info/entry_points.txt\n",
      "./.local/lib/python3.10/site-packages/somepackage-1.2.3.dist-info/top_level.txt\n",
      "./.local/lib/python3.10/site-packages/bleach-5.0.1.dist-info/top_level.txt\n",
      "./.local/lib/python3.10/site-packages/bleach/_vendor/html5lib-1.1.dist-info/top_level.txt\n",
      "./.local/lib/python3.10/site-packages/bleach/_vendor/vendor.txt\n",
      "./.local/lib/python3.10/site-packages/stack_data-0.6.2.dist-info/top_level.txt\n",
      "./.local/lib/python3.10/site-packages/stack_data-0.6.2.dist-info/LICENSE.txt\n",
      "./.local/lib/python3.10/site-packages/mistune-2.0.4.dist-info/top_level.txt\n",
      "./.local/lib/python3.10/site-packages/binderhub/static/fonts/clearsans/LICENSE-2.0.txt\n",
      "./.local/lib/python3.10/site-packages/widgetsnbextension/static/extension.js.LICENSE.txt\n",
      "./.local/lib/python3.10/site-packages/jupyter_core-5.1.2.dist-info/entry_points.txt\n",
      "./.local/lib/python3.10/site-packages/matplotlib_inline-0.1.6.dist-info/top_level.txt\n",
      "./.local/lib/python3.10/site-packages/future-0.18.2.dist-info/top_level.txt\n",
      "./.local/lib/python3.10/site-packages/future-0.18.2.dist-info/LICENSE.txt\n",
      "./.local/lib/python3.10/site-packages/future-0.18.2.dist-info/entry_points.txt\n",
      "./.local/lib/python3.10/site-packages/requests-2.28.2.dist-info/top_level.txt\n",
      "./.local/lib/python3.10/site-packages/cffi-1.15.1.dist-info/top_level.txt\n",
      "./.local/lib/python3.10/site-packages/cffi-1.15.1.dist-info/entry_points.txt\n",
      "./.local/lib/python3.10/site-packages/google_auth-2.15.0.dist-info/top_level.txt\n",
      "./.local/lib/python3.10/site-packages/google_auth-2.15.0.dist-info/namespace_packages.txt\n",
      "./.local/lib/python3.10/site-packages/pandocfilters-1.5.0.dist-info/top_level.txt\n",
      "./.local/lib/python3.10/site-packages/beautifulsoup4-4.11.1.dist-info/top_level.txt\n",
      "./.local/lib/python3.10/site-packages/ruamel.yaml-0.17.21.dist-info/top_level.txt\n",
      "./.local/lib/python3.10/site-packages/ruamel.yaml-0.17.21.dist-info/namespace_packages.txt\n",
      "./.local/lib/python3.10/site-packages/isoduration-20.11.0.dist-info/top_level.txt\n",
      "./.local/lib/python3.10/site-packages/notebook/bundler/tests/resources/subdir/test_file.txt\n",
      "./.local/lib/python3.10/site-packages/notebook/bundler/tests/resources/another_subdir/test_file.txt\n",
      "./.local/lib/python3.10/site-packages/itsdangerous-2.1.2.dist-info/top_level.txt\n",
      "./.local/lib/python3.10/site-packages/nbclassic/bundler/tests/resources/subdir/test_file.txt\n",
      "./.local/lib/python3.10/site-packages/nbclassic/bundler/tests/resources/another_subdir/test_file.txt\n",
      "./.local/lib/python3.10/site-packages/nbclassic/static/robots.txt\n",
      "./.local/lib/python3.10/site-packages/Pygments-2.14.0.dist-info/top_level.txt\n",
      "./.local/lib/python3.10/site-packages/Pygments-2.14.0.dist-info/entry_points.txt\n",
      "./.local/lib/python3.10/site-packages/defusedxml-0.7.1.dist-info/top_level.txt\n",
      "./.local/lib/python3.10/site-packages/soupsieve-2.3.2.post1.dist-info/entry_points.txt\n",
      "./.local/lib/python3.10/site-packages/IPython/testing/plugin/test_exampleip.txt\n",
      "./.local/lib/python3.10/site-packages/IPython/testing/plugin/README.txt\n",
      "./.local/lib/python3.10/site-packages/IPython/testing/plugin/test_combo.txt\n",
      "./.local/lib/python3.10/site-packages/IPython/testing/plugin/test_example.txt\n",
      "./.local/lib/python3.10/site-packages/sniffio-1.3.0.dist-info/top_level.txt\n",
      "./.local/lib/python3.10/site-packages/nbclient-0.7.2.dist-info/entry_points.txt\n",
      "./.local/lib/python3.10/site-packages/fqdn-1.5.1.dist-info/top_level.txt\n",
      "./.local/lib/python3.10/site-packages/webencodings-0.5.1.dist-info/top_level.txt\n",
      "./.local/lib/python3.10/site-packages/websocket_client-1.4.2.dist-info/top_level.txt\n",
      "./.local/lib/python3.10/site-packages/websocket_client-1.4.2.dist-info/entry_points.txt\n",
      "./.local/lib/python3.10/site-packages/Werkzeug-2.2.2.dist-info/top_level.txt\n",
      "./.local/lib/python3.10/site-packages/jupyterlab_widgets/labextension/static/291.f707f721e4b3a5489ee0.js.LICENSE.txt\n",
      "./.local/lib/python3.10/site-packages/jupyterlab_widgets/labextension/static/113.dd66397047ecb9a605cf.js.LICENSE.txt\n",
      "./.local/lib/python3.10/site-packages/google_api_python_client-2.70.0.dist-info/top_level.txt\n",
      "./.local/lib/python3.10/site-packages/ruamel.yaml.clib-0.2.7.dist-info/top_level.txt\n",
      "./.local/lib/python3.10/site-packages/ruamel.yaml.clib-0.2.7.dist-info/namespace_packages.txt\n",
      "./.local/lib/python3.10/site-packages/escapism-1.0.1.dist-info/top_level.txt\n",
      "./.local/lib/python3.10/site-packages/docker-6.0.1.dist-info/top_level.txt\n",
      "./.local/lib/python3.10/site-packages/async_generator-1.10.dist-info/top_level.txt\n",
      "./.local/lib/python3.10/site-packages/pure_eval-0.2.2.dist-info/top_level.txt\n",
      "./.local/lib/python3.10/site-packages/pure_eval-0.2.2.dist-info/LICENSE.txt\n",
      "./.local/lib/python3.10/site-packages/qtconsole-5.4.0.dist-info/top_level.txt\n",
      "./.local/lib/python3.10/site-packages/qtconsole-5.4.0.dist-info/entry_points.txt\n",
      "./.local/lib/python3.10/site-packages/jupyterlab_widgets-3.0.5.dist-info/top_level.txt\n",
      "./.local/lib/python3.10/site-packages/tornado/test/static_foo.txt\n",
      "./.local/lib/python3.10/site-packages/tornado/test/static/robots.txt\n",
      "./.local/lib/python3.10/site-packages/tornado-6.2.dist-info/top_level.txt\n",
      "./.local/lib/python3.10/site-packages/funcy-1.17.dist-info/top_level.txt\n",
      "./.local/lib/python3.10/site-packages/debugpy/ThirdPartyNotices.txt\n",
      "./.local/lib/python3.10/site-packages/debugpy/_vendored/pydevd/pydevd_attach_to_process/README.txt\n",
      "./.local/lib/python3.10/site-packages/debugpy/_vendored/pydevd/pydev_sitecustomize/__not_in_default_pythonpath.txt\n",
      "./.local/lib/python3.10/site-packages/debugpy/_vendored/pydevd/_pydevd_frame_eval/vendored/README.txt\n",
      "./.local/lib/python3.10/site-packages/debugpy/_vendored/pydevd/_pydevd_frame_eval/vendored/bytecode-0.13.0.dev0.dist-info/top_level.txt\n",
      "./.local/lib/python3.10/site-packages/psutil-5.9.4.dist-info/top_level.txt\n",
      "./.local/lib/python3.10/site-packages/nbclassic-0.4.8.dist-info/top_level.txt\n",
      "./.local/lib/python3.10/site-packages/nbclassic-0.4.8.dist-info/entry_points.txt\n",
      "./.local/lib/python3.10/site-packages/parso-0.8.3.dist-info/AUTHORS.txt\n",
      "./.local/lib/python3.10/site-packages/parso-0.8.3.dist-info/top_level.txt\n",
      "./.local/lib/python3.10/site-packages/parso-0.8.3.dist-info/LICENSE.txt\n",
      "./.local/lib/python3.10/site-packages/pyasn1_modules-0.2.8.dist-info/top_level.txt\n",
      "./.local/lib/python3.10/site-packages/pyasn1_modules-0.2.8.dist-info/LICENSE.txt\n",
      "./.local/lib/python3.10/site-packages/alembic-1.9.2.dist-info/top_level.txt\n",
      "./.local/lib/python3.10/site-packages/alembic-1.9.2.dist-info/entry_points.txt\n",
      "./.local/lib/python3.10/site-packages/jupyter_client-7.4.8.dist-info/entry_points.txt\n",
      "./.local/lib/python3.10/site-packages/QtPy-2.3.0.dist-info/top_level.txt\n",
      "./.local/lib/python3.10/site-packages/QtPy-2.3.0.dist-info/LICENSE.txt\n",
      "./.local/lib/python3.10/site-packages/QtPy-2.3.0.dist-info/entry_points.txt\n",
      "./.local/lib/python3.10/site-packages/jsonpointer-2.3.dist-info/top_level.txt\n",
      "./.local/lib/python3.10/site-packages/jsonpointer-2.3.dist-info/LICENSE.txt\n",
      "./.local/lib/python3.10/site-packages/nest_asyncio-1.5.6.dist-info/top_level.txt\n",
      "./.local/lib/python3.10/site-packages/Jinja2-3.1.2.dist-info/top_level.txt\n",
      "./.local/lib/python3.10/site-packages/Jinja2-3.1.2.dist-info/entry_points.txt\n",
      "./.local/lib/python3.10/site-packages/jupyter_server-2.0.6.dist-info/entry_points.txt\n",
      "./.local/lib/python3.10/site-packages/webcolors-1.12.dist-info/top_level.txt\n",
      "./.local/lib/python3.10/site-packages/ipython-8.8.0.dist-info/top_level.txt\n",
      "./.local/lib/python3.10/site-packages/ipython-8.8.0.dist-info/entry_points.txt\n",
      "./.local/lib/python3.10/site-packages/rfc3339_validator-0.1.4.dist-info/top_level.txt\n",
      "./.local/lib/python3.10/site-packages/anyio-3.6.2.dist-info/top_level.txt\n",
      "./.local/lib/python3.10/site-packages/anyio-3.6.2.dist-info/entry_points.txt\n",
      "./.local/lib/python3.10/site-packages/jsonschema-4.17.3.dist-info/entry_points.txt\n",
      "./.local/lib/python3.10/site-packages/certipy-0.1.3.dist-info/top_level.txt\n",
      "./.local/lib/python3.10/site-packages/certipy-0.1.3.dist-info/entry_points.txt\n",
      "./.local/lib/python3.10/site-packages/executing-1.2.0.dist-info/top_level.txt\n",
      "./.local/lib/python3.10/site-packages/executing-1.2.0.dist-info/LICENSE.txt\n",
      "./.local/lib/python3.10/site-packages/uri_template-1.2.0.dist-info/top_level.txt\n",
      "./.local/lib/python3.10/site-packages/pycryptodomex-3.16.0.dist-info/top_level.txt\n",
      "./.local/lib/python3.10/site-packages/decorator-5.1.1.dist-info/top_level.txt\n",
      "./.local/lib/python3.10/site-packages/decorator-5.1.1.dist-info/LICENSE.txt\n",
      "./.local/lib/python3.10/site-packages/pyserial-3.5.dist-info/top_level.txt\n",
      "./.local/lib/python3.10/site-packages/pyserial-3.5.dist-info/entry_points.txt\n",
      "./.local/lib/python3.10/site-packages/fastjsonschema-2.16.2.dist-info/top_level.txt\n",
      "./.local/lib/python3.10/site-packages/google_api_core-2.11.0.dist-info/top_level.txt\n",
      "./.local/lib/python3.10/site-packages/google_api_core-2.11.0.dist-info/namespace_packages.txt\n",
      "./.local/lib/python3.10/site-packages/requests_oauthlib-1.3.1.dist-info/top_level.txt\n",
      "./.local/lib/python3.10/site-packages/cachetools-5.2.0.dist-info/top_level.txt\n",
      "./.local/lib/python3.10/site-packages/rfc3986_validator-0.1.1.dist-info/top_level.txt\n",
      "./.local/lib/python3.10/site-packages/notebook-6.5.2.dist-info/top_level.txt\n",
      "./.local/lib/python3.10/site-packages/notebook-6.5.2.dist-info/entry_points.txt\n",
      "./.local/lib/python3.10/site-packages/jupyterlab_pygments-0.2.2.dist-info/top_level.txt\n",
      "./.local/lib/python3.10/site-packages/argon2_cffi_bindings-21.2.0.dist-info/top_level.txt\n",
      "./.local/lib/python3.10/site-packages/debugpy-1.6.5.dist-info/top_level.txt\n",
      "./.local/lib/python3.10/site-packages/python_dateutil-2.8.2.dist-info/top_level.txt\n",
      "./.local/lib/python3.10/site-packages/python_json_logger-2.0.4.dist-info/top_level.txt\n",
      "./.local/lib/python3.10/site-packages/kubernetes-25.3.0.dist-info/top_level.txt\n",
      "./.local/lib/python3.10/site-packages/arrow-1.2.3.dist-info/top_level.txt\n",
      "./.local/lib/python3.10/site-packages/jupyter-1.0.0.dist-info/top_level.txt\n",
      "./.local/lib/python3.10/site-packages/pydot-1.4.2.dist-info/top_level.txt\n",
      "./.local/lib/python3.10/site-packages/rsa-4.9.dist-info/entry_points.txt\n",
      "./.local/lib/python3.10/site-packages/widgetsnbextension-4.0.5.dist-info/top_level.txt\n",
      "./.local/lib/python3.10/site-packages/boofuzz-0.4.1.dist-info/AUTHORS.txt\n",
      "./.local/lib/python3.10/site-packages/boofuzz-0.4.1.dist-info/top_level.txt\n",
      "./.local/lib/python3.10/site-packages/boofuzz-0.4.1.dist-info/LICENSE.txt\n",
      "./.local/lib/python3.10/site-packages/boofuzz-0.4.1.dist-info/entry_points.txt\n",
      "./.local/lib/python3.10/site-packages/Flask-2.2.2.dist-info/top_level.txt\n",
      "./.local/lib/python3.10/site-packages/Flask-2.2.2.dist-info/entry_points.txt\n",
      "./.local/lib/python3.10/site-packages/prompt_toolkit-3.0.36.dist-info/top_level.txt\n",
      "./.local/lib/python3.10/site-packages/wcwidth-0.2.5.dist-info/top_level.txt\n",
      "./.local/lib/python3.10/site-packages/websocket/tests/data/header03.txt\n",
      "./.local/lib/python3.10/site-packages/websocket/tests/data/header02.txt\n",
      "./.local/lib/python3.10/site-packages/websocket/tests/data/header01.txt\n",
      "./.local/lib/python3.10/site-packages/charset_normalizer-3.0.1.dist-info/top_level.txt\n",
      "./.local/lib/python3.10/site-packages/charset_normalizer-3.0.1.dist-info/entry_points.txt\n",
      "./.local/lib/python3.10/site-packages/MarkupSafe-2.1.1.dist-info/top_level.txt\n",
      "./.local/lib/python3.10/site-packages/ipywidgets-8.0.4.dist-info/top_level.txt\n",
      "./.local/lib/python3.10/site-packages/nbconvert-7.2.7.dist-info/entry_points.txt\n",
      "./.local/lib/python3.10/site-packages/binderhub-0.1.0.dist-info/top_level.txt\n",
      "./.local/lib/python3.10/site-packages/prometheus_client-0.15.0.dist-info/top_level.txt\n",
      "./.local/lib/python3.10/site-packages/jupyter_telemetry-0.1.0.dist-info/top_level.txt\n",
      "./.local/lib/python3.10/site-packages/jupyterhub-3.1.0.dist-info/top_level.txt\n",
      "./.local/lib/python3.10/site-packages/jupyterhub-3.1.0.dist-info/entry_points.txt\n",
      "./.local/share/Cisco Packet Tracer/QtWebEngine/Default/Service Worker/CacheStorage/379f1cbab5b08b6fc9e08681e42d8be311441c88/index.txt\n",
      "./.local/share/powershell/PSReadLine/ConsoleHost_history.txt\n",
      "./.local/share/jupyterhub/static/components/jquery/AUTHORS.txt\n",
      "./.local/share/jupyterhub/static/components/jquery/LICENSE.txt\n",
      "./.local/share/jupyterhub/static/components/jquery/external/sizzle/LICENSE.txt\n",
      "./.local/share/jupyterhub/static/components/font-awesome/HELP-US-OUT.txt\n",
      "./.local/share/jupyterhub/static/js/admin-react.js.LICENSE.txt\n",
      "./.local/share/gnome-shell/extensions/RemoveAppMenu@Dragon8oy.com/LICENSE.txt\n",
      "./.local/share/gnome-shell/extensions/hidetopbar@mathieu.bidon.ca/COPYING.txt\n",
      "./.local/share/jupyter/labextensions/@jupyter-widgets/jupyterlab-manager/static/291.f707f721e4b3a5489ee0.js.LICENSE.txt\n",
      "./.local/share/jupyter/labextensions/@jupyter-widgets/jupyterlab-manager/static/113.dd66397047ecb9a605cf.js.LICENSE.txt\n",
      "./.local/share/jupyter/nbextensions/spellchecker/typo/LICENSE.txt\n",
      "./.local/share/jupyter/nbextensions/varInspector/tablesorter_LICENSE.txt\n",
      "./.local/share/jupyter/nbextensions/jupyter-js-widgets/extension.js.LICENSE.txt\n",
      "./.conda/environments.txt\n",
      "./input5.txt\n",
      "./file.txt\n",
      "./node_modules/whatwg-url/LICENSE.txt\n",
      "./node_modules/buffer-equal-constant-time/LICENSE.txt\n",
      "./.cache/tracker3/files/last-crawl.txt\n",
      "./.cache/tracker3/files/first-index.txt\n",
      "./.cache/tracker3/files/locale-for-miner-apps.txt\n",
      "./simple_maths.txt\n",
      "./.nvm/versions/node/v19.5.0/lib/node_modules/npm/node_modules/set-blocking/LICENSE.txt\n",
      "./.nvm/versions/node/v19.5.0/lib/node_modules/npm/node_modules/cssesc/LICENSE-MIT.txt\n",
      "./.nvm/versions/node/v19.5.0/lib/node_modules/npm/node_modules/signal-exit/LICENSE.txt\n",
      "./.nvm/versions/node/v19.5.0/lib/node_modules/npm/node_modules/emoji-regex/LICENSE-MIT.txt\n",
      "./.nvm/versions/node/v19.5.0/lib/node_modules/npm/node_modules/node-gyp/test/fixtures/VS_2019_Community_workload.txt\n",
      "./.nvm/versions/node/v19.5.0/lib/node_modules/npm/node_modules/node-gyp/test/fixtures/VS_2017_BuildTools_minimal.txt\n",
      "./.nvm/versions/node/v19.5.0/lib/node_modules/npm/node_modules/node-gyp/test/fixtures/VS_2017_Community_workload.txt\n",
      "./.nvm/versions/node/v19.5.0/lib/node_modules/npm/node_modules/node-gyp/test/fixtures/VS_2019_Preview.txt\n",
      "./.nvm/versions/node/v19.5.0/lib/node_modules/npm/node_modules/node-gyp/test/fixtures/VS_2017_Express.txt\n",
      "./.nvm/versions/node/v19.5.0/lib/node_modules/npm/node_modules/node-gyp/test/fixtures/VS_2017_Unusable.txt\n",
      "./.nvm/versions/node/v19.5.0/lib/node_modules/npm/node_modules/node-gyp/test/fixtures/VS_2019_BuildTools_minimal.txt\n",
      "./.nvm/test/fast/Unit tests/mocks/nvm ls-remote iojs.txt\n",
      "./.nvm/test/fast/Unit tests/mocks/nvm_print_implicit_alias remote stable.txt\n",
      "./.nvm/test/fast/Unit tests/mocks/nvm_ls_remote.txt\n",
      "./.nvm/test/fast/Unit tests/mocks/nvm_ls_remote_iojs.txt\n",
      "./.nvm/test/fast/Unit tests/mocks/nvm_ls_remote stable nightly.txt\n",
      "./.nvm/test/fast/Unit tests/mocks/nvm_make_alias LTS alias calls.txt\n",
      "./.nvm/test/fast/Unit tests/mocks/nvm_ls_remote LTS nightly.txt\n",
      "./.nvm/test/fast/Unit tests/mocks/nvm_ls_remote LTS.txt\n",
      "./.nvm/test/fast/Unit tests/mocks/nvm_print_implicit_alias remote stable nightly.txt\n",
      "./.nvm/test/fast/Unit tests/mocks/LTS_names.txt\n",
      "./.nvm/test/fast/Unit tests/mocks/nvm_ls_remote LTS nightly argon.txt\n",
      "./.nvm/test/fast/Unit tests/mocks/nvm_ls_remote nightly.txt\n",
      "./.nvm/test/fast/Unit tests/mocks/nvm_ls_remote LTS argon.txt\n",
      "./.nvm/test/fast/Unit tests/mocks/nvm ls-remote.txt\n",
      "./.nvm/test/fast/Unit tests/mocks/nvm_ls_remote stable.txt\n",
      "./.nvm/test/fast/Unit tests/mocks/nvm ls-remote lts.txt\n",
      "./.nvm/test/fast/Unit tests/mocks/nvm ls-remote node.txt\n",
      "./anaconda3/lib/python3.9/LICENSE.txt\n",
      "./anaconda3/lib/python3.9/idlelib/idle_test/README.txt\n",
      "./anaconda3/lib/python3.9/idlelib/NEWS.txt\n",
      "./anaconda3/lib/python3.9/idlelib/NEWS2x.txt\n",
      "./anaconda3/lib/python3.9/idlelib/CREDITS.txt\n",
      "./anaconda3/lib/python3.9/idlelib/Icons/README.txt\n",
      "./anaconda3/lib/python3.9/idlelib/README.txt\n",
      "./anaconda3/lib/python3.9/idlelib/TODO.txt\n",
      "./anaconda3/lib/python3.9/idlelib/extend.txt\n",
      "./anaconda3/lib/python3.9/idlelib/HISTORY.txt\n",
      "./anaconda3/lib/python3.9/site-packages/notebook-6.4.12.dist-info/top_level.txt\n",
      "./anaconda3/lib/python3.9/site-packages/notebook-6.4.12.dist-info/entry_points.txt\n",
      "./anaconda3/lib/python3.9/site-packages/jmespath-0.10.0.dist-info/top_level.txt\n",
      "./anaconda3/lib/python3.9/site-packages/jmespath-0.10.0.dist-info/LICENSE.txt\n",
      "./anaconda3/lib/python3.9/site-packages/h11-0.14.0.dist-info/top_level.txt\n",
      "./anaconda3/lib/python3.9/site-packages/h11-0.14.0.dist-info/LICENSE.txt\n",
      "./anaconda3/lib/python3.9/site-packages/pycryptodome-3.16.0.dist-info/top_level.txt\n",
      "./anaconda3/lib/python3.9/site-packages/dill-0.3.4.dist-info/top_level.txt\n",
      "./anaconda3/lib/python3.9/site-packages/conda_pack-0.6.0.dist-info/top_level.txt\n",
      "./anaconda3/lib/python3.9/site-packages/conda_pack-0.6.0.dist-info/LICENSE.txt\n",
      "./anaconda3/lib/python3.9/site-packages/conda_pack-0.6.0.dist-info/entry_points.txt\n",
      "./anaconda3/lib/python3.9/site-packages/pylint-2.14.5.dist-info/CONTRIBUTORS.txt\n",
      "./anaconda3/lib/python3.9/site-packages/pylint-2.14.5.dist-info/top_level.txt\n",
      "./anaconda3/lib/python3.9/site-packages/pylint-2.14.5.dist-info/entry_points.txt\n",
      "./anaconda3/lib/python3.9/site-packages/blib2to3/Grammar.txt\n",
      "./anaconda3/lib/python3.9/site-packages/blib2to3/PatternGrammar.txt\n",
      "./anaconda3/lib/python3.9/site-packages/lz4-3.1.3.dist-info/top_level.txt\n",
      "./anaconda3/lib/python3.9/site-packages/conda_build-3.22.0-py3.9.egg-info/SOURCES.txt\n",
      "./anaconda3/lib/python3.9/site-packages/conda_build-3.22.0-py3.9.egg-info/requires.txt\n",
      "./anaconda3/lib/python3.9/site-packages/conda_build-3.22.0-py3.9.egg-info/top_level.txt\n",
      "./anaconda3/lib/python3.9/site-packages/conda_build-3.22.0-py3.9.egg-info/dependency_links.txt\n",
      "./anaconda3/lib/python3.9/site-packages/conda_build-3.22.0-py3.9.egg-info/entry_points.txt\n",
      "./anaconda3/lib/python3.9/site-packages/ipython_genutils-0.2.0.dist-info/top_level.txt\n",
      "./anaconda3/lib/python3.9/site-packages/Bottleneck-1.3.5.dist-info/top_level.txt\n",
      "./anaconda3/lib/python3.9/site-packages/jupyter_latex_envs-1.4.6.dist-info/top_level.txt\n",
      "./anaconda3/lib/python3.9/site-packages/jupyter_latex_envs-1.4.6.dist-info/LICENSE.txt\n",
      "./anaconda3/lib/python3.9/site-packages/jupyter_latex_envs-1.4.6.dist-info/entry_points.txt\n",
      "./anaconda3/lib/python3.9/site-packages/plotly-5.9.0.dist-info/top_level.txt\n",
      "./anaconda3/lib/python3.9/site-packages/plotly-5.9.0.dist-info/LICENSE.txt\n",
      "./anaconda3/lib/python3.9/site-packages/jinja2_time-0.2.0.dist-info/top_level.txt\n",
      "./anaconda3/lib/python3.9/site-packages/skimage/data/README.txt\n",
      "./anaconda3/lib/python3.9/site-packages/skimage/feature/orb_descriptor_positions.txt\n",
      "./anaconda3/lib/python3.9/site-packages/astropy/modeling/tests/data/spec.txt\n",
      "./anaconda3/lib/python3.9/site-packages/astropy/wcs/wcsapi/data/ucds.txt\n",
      "./anaconda3/lib/python3.9/site-packages/astropy/wcs/tests/data/validate.txt\n",
      "./anaconda3/lib/python3.9/site-packages/astropy/wcs/tests/data/validate.7.6.txt\n",
      "./anaconda3/lib/python3.9/site-packages/astropy/wcs/tests/data/validate.5.0.txt\n",
      "./anaconda3/lib/python3.9/site-packages/astropy/wcs/tests/data/validate.7.4.txt\n",
      "./anaconda3/lib/python3.9/site-packages/astropy/wcs/tests/data/validate.6.txt\n",
      "./anaconda3/lib/python3.9/site-packages/astropy/wcs/tests/data/validate.5.13.txt\n",
      "./anaconda3/lib/python3.9/site-packages/astropy/utils/tests/data/.hidden_file.txt\n",
      "./anaconda3/lib/python3.9/site-packages/astropy/utils/tests/data/unicode.txt\n",
      "./anaconda3/lib/python3.9/site-packages/astropy/utils/tests/data/test_package/data/foo.txt\n",
      "./anaconda3/lib/python3.9/site-packages/astropy/io/ascii/tests/data/fixed_width_2_line.txt\n",
      "./anaconda3/lib/python3.9/site-packages/astropy/io/ascii/tests/data/space_delim_blank_lines.txt\n",
      "./anaconda3/lib/python3.9/site-packages/astropy/io/ascii/tests/data/conf_py.txt\n",
      "./anaconda3/lib/python3.9/site-packages/astropy/io/ascii/tests/data/simple.txt\n",
      "./anaconda3/lib/python3.9/site-packages/astropy/io/ascii/tests/data/fill_values.txt\n",
      "./anaconda3/lib/python3.9/site-packages/astropy/io/ascii/tests/data/simple3.txt\n",
      "./anaconda3/lib/python3.9/site-packages/astropy/io/ascii/tests/data/simple2.txt\n",
      "./anaconda3/lib/python3.9/site-packages/astropy/io/ascii/tests/data/bars_at_ends.txt\n",
      "./anaconda3/lib/python3.9/site-packages/astropy/io/ascii/tests/data/simple5.txt\n",
      "./anaconda3/lib/python3.9/site-packages/astropy/io/ascii/tests/data/bad.txt\n",
      "./anaconda3/lib/python3.9/site-packages/astropy/io/ascii/tests/data/simple4.txt\n",
      "./anaconda3/lib/python3.9/site-packages/astropy/io/votable/data/ucd1p-words.txt\n",
      "./anaconda3/lib/python3.9/site-packages/astropy/io/votable/tests/data/no_resource.txt\n",
      "./anaconda3/lib/python3.9/site-packages/astropy/io/votable/tests/data/validation.txt\n",
      "./anaconda3/lib/python3.9/site-packages/jellyfish-0.9.0.dist-info/top_level.txt\n",
      "./anaconda3/lib/python3.9/site-packages/urllib3-1.26.11.dist-info/top_level.txt\n",
      "./anaconda3/lib/python3.9/site-packages/urllib3-1.26.11.dist-info/LICENSE.txt\n",
      "./anaconda3/lib/python3.9/site-packages/pickleshare-0.7.5.dist-info/top_level.txt\n",
      "./anaconda3/lib/python3.9/site-packages/jupyter_contrib_nbextensions/nbextensions/spellchecker/typo/LICENSE.txt\n",
      "./anaconda3/lib/python3.9/site-packages/jupyter_contrib_nbextensions/nbextensions/varInspector/tablesorter_LICENSE.txt\n",
      "./anaconda3/lib/python3.9/site-packages/pycparser-2.21.dist-info/top_level.txt\n",
      "./anaconda3/lib/python3.9/site-packages/pyasn1-0.4.8.dist-info/top_level.txt\n",
      "./anaconda3/lib/python3.9/site-packages/fsspec-2022.7.1.dist-info/top_level.txt\n",
      "./anaconda3/lib/python3.9/site-packages/incremental-21.3.0.dist-info/top_level.txt\n",
      "./anaconda3/lib/python3.9/site-packages/incremental-21.3.0.dist-info/entry_points.txt\n",
      "./anaconda3/lib/python3.9/site-packages/libarchive_c-2.9.dist-info/top_level.txt\n",
      "./anaconda3/lib/python3.9/site-packages/sortedcontainers-2.4.0.dist-info/top_level.txt\n",
      "./anaconda3/lib/python3.9/site-packages/bokeh-2.4.3.dist-info/top_level.txt\n",
      "./anaconda3/lib/python3.9/site-packages/bokeh-2.4.3.dist-info/LICENSE.txt\n",
      "./anaconda3/lib/python3.9/site-packages/bokeh-2.4.3.dist-info/entry_points.txt\n",
      "./anaconda3/lib/python3.9/site-packages/fontTools/ttLib/tables/table_API_readme.txt\n",
      "./anaconda3/lib/python3.9/site-packages/jedi/third_party/django-stubs/LICENSE.txt\n",
      "./anaconda3/lib/python3.9/site-packages/itsdangerous-2.0.1.dist-info/top_level.txt\n",
      "./anaconda3/lib/python3.9/site-packages/cycler-0.11.0.dist-info/top_level.txt\n",
      "./anaconda3/lib/python3.9/site-packages/ruamel.yaml.clib-0.2.6.dist-info/top_level.txt\n",
      "./anaconda3/lib/python3.9/site-packages/ruamel.yaml.clib-0.2.6.dist-info/namespace_packages.txt\n",
      "./anaconda3/lib/python3.9/site-packages/jupyter_console-6.4.3.dist-info/top_level.txt\n",
      "./anaconda3/lib/python3.9/site-packages/jupyter_console-6.4.3.dist-info/entry_points.txt\n",
      "./anaconda3/lib/python3.9/site-packages/qstylizer-0.1.10.dist-info/top_level.txt\n",
      "./anaconda3/lib/python3.9/site-packages/qstylizer-0.1.10.dist-info/LICENSE.txt\n",
      "./anaconda3/lib/python3.9/site-packages/pydocstyle/data/imperatives.txt\n",
      "./anaconda3/lib/python3.9/site-packages/pydocstyle/data/imperatives_blacklist.txt\n",
      "./anaconda3/lib/python3.9/site-packages/conda-22.11.1-py3.9.egg-info/SOURCES.txt\n",
      "./anaconda3/lib/python3.9/site-packages/conda-22.11.1-py3.9.egg-info/requires.txt\n",
      "./anaconda3/lib/python3.9/site-packages/conda-22.11.1-py3.9.egg-info/top_level.txt\n",
      "./anaconda3/lib/python3.9/site-packages/conda-22.11.1-py3.9.egg-info/dependency_links.txt\n",
      "./anaconda3/lib/python3.9/site-packages/conda-22.11.1-py3.9.egg-info/entry_points.txt\n",
      "./anaconda3/lib/python3.9/site-packages/tabulate-0.8.10.dist-info/top_level.txt\n",
      "./anaconda3/lib/python3.9/site-packages/tabulate-0.8.10.dist-info/entry_points.txt\n",
      "./anaconda3/lib/python3.9/site-packages/intervaltree-3.1.0.dist-info/top_level.txt\n",
      "./anaconda3/lib/python3.9/site-packages/intervaltree-3.1.0.dist-info/LICENSE.txt\n",
      "./anaconda3/lib/python3.9/site-packages/ruamel_yaml_conda-0.15.100.dist-info/top_level.txt\n",
      "./anaconda3/lib/python3.9/site-packages/Send2Trash-1.8.0.dist-info/top_level.txt\n",
      "./anaconda3/lib/python3.9/site-packages/Send2Trash-1.8.0.dist-info/entry_points.txt\n",
      "./anaconda3/lib/python3.9/site-packages/sympy-1.10.1.dist-info/top_level.txt\n",
      "./anaconda3/lib/python3.9/site-packages/sympy-1.10.1.dist-info/entry_points.txt\n",
      "./anaconda3/lib/python3.9/site-packages/tornado-6.1.dist-info/top_level.txt\n",
      "./anaconda3/lib/python3.9/site-packages/parso/python/grammar39.txt\n",
      "./anaconda3/lib/python3.9/site-packages/parso/python/grammar37.txt\n",
      "./anaconda3/lib/python3.9/site-packages/parso/python/grammar36.txt\n",
      "./anaconda3/lib/python3.9/site-packages/parso/python/grammar310.txt\n",
      "./anaconda3/lib/python3.9/site-packages/parso/python/grammar311.txt\n",
      "./anaconda3/lib/python3.9/site-packages/parso/python/grammar312.txt\n",
      "./anaconda3/lib/python3.9/site-packages/parso/python/grammar38.txt\n",
      "./anaconda3/lib/python3.9/site-packages/six-1.16.0.dist-info/top_level.txt\n",
      "./anaconda3/lib/python3.9/site-packages/bokeh/LICENSE.txt\n",
      "./anaconda3/lib/python3.9/site-packages/sphinxcontrib_devhelp-1.0.2.dist-info/top_level.txt\n",
      "./anaconda3/lib/python3.9/site-packages/sphinxcontrib_devhelp-1.0.2.dist-info/namespace_packages.txt\n",
      "./anaconda3/lib/python3.9/site-packages/QtPy-2.2.0.dist-info/top_level.txt\n",
      "./anaconda3/lib/python3.9/site-packages/QtPy-2.2.0.dist-info/LICENSE.txt\n",
      "./anaconda3/lib/python3.9/site-packages/QtPy-2.2.0.dist-info/entry_points.txt\n",
      "./anaconda3/lib/python3.9/site-packages/Scrapy-2.6.2.dist-info/top_level.txt\n",
      "./anaconda3/lib/python3.9/site-packages/Scrapy-2.6.2.dist-info/entry_points.txt\n",
      "./anaconda3/lib/python3.9/site-packages/pyls_spyder-0.4.0-py3.10.egg-info/SOURCES.txt\n",
      "./anaconda3/lib/python3.9/site-packages/pyls_spyder-0.4.0-py3.10.egg-info/installed-files.txt\n",
      "./anaconda3/lib/python3.9/site-packages/pyls_spyder-0.4.0-py3.10.egg-info/requires.txt\n",
      "./anaconda3/lib/python3.9/site-packages/pyls_spyder-0.4.0-py3.10.egg-info/top_level.txt\n",
      "./anaconda3/lib/python3.9/site-packages/pyls_spyder-0.4.0-py3.10.egg-info/dependency_links.txt\n",
      "./anaconda3/lib/python3.9/site-packages/pyls_spyder-0.4.0-py3.10.egg-info/entry_points.txt\n",
      "./anaconda3/lib/python3.9/site-packages/bleach/_vendor/html5lib-1.1.dist-info/top_level.txt\n",
      "./anaconda3/lib/python3.9/site-packages/bleach/_vendor/vendor.txt\n",
      "./anaconda3/lib/python3.9/site-packages/psutil-5.9.0.dist-info/top_level.txt\n",
      "./anaconda3/lib/python3.9/site-packages/service_identity-18.1.0.dist-info/top_level.txt\n",
      "./anaconda3/lib/python3.9/site-packages/gensim-4.1.2.dist-info/top_level.txt\n",
      "./anaconda3/lib/python3.9/site-packages/scipy/LICENSES_bundled.txt\n",
      "./anaconda3/lib/python3.9/site-packages/scipy/INSTALL.rst.txt\n",
      "./anaconda3/lib/python3.9/site-packages/scipy/meson_options.txt\n",
      "./anaconda3/lib/python3.9/site-packages/scipy/ndimage/tests/data/README.txt\n",
      "./anaconda3/lib/python3.9/site-packages/scipy/ndimage/tests/data/label_strels.txt\n",
      "./anaconda3/lib/python3.9/site-packages/scipy/ndimage/tests/data/label_inputs.txt\n",
      "./anaconda3/lib/python3.9/site-packages/scipy/ndimage/tests/data/label_results.txt\n",
      "./anaconda3/lib/python3.9/site-packages/scipy/LICENSE.txt\n",
      "./anaconda3/lib/python3.9/site-packages/scipy/HACKING.rst.txt\n",
      "./anaconda3/lib/python3.9/site-packages/scipy/doc_requirements.txt\n",
      "./anaconda3/lib/python3.9/site-packages/scipy/io/matlab/tests/data/japanese_utf8.txt\n",
      "./anaconda3/lib/python3.9/site-packages/scipy/spatial/qhull_src/COPYING.txt\n",
      "./anaconda3/lib/python3.9/site-packages/scipy/spatial/tests/data/pdist-cityblock-ml-iris.txt\n",
      "./anaconda3/lib/python3.9/site-packages/scipy/spatial/tests/data/pdist-boolean-inp.txt\n",
      "./anaconda3/lib/python3.9/site-packages/scipy/spatial/tests/data/iris.txt\n",
      "./anaconda3/lib/python3.9/site-packages/scipy/spatial/tests/data/pdist-hamming-ml.txt\n",
      "./anaconda3/lib/python3.9/site-packages/scipy/spatial/tests/data/random-uint-data.txt\n",
      "./anaconda3/lib/python3.9/site-packages/scipy/spatial/tests/data/pdist-minkowski-3.2-ml.txt\n",
      "./anaconda3/lib/python3.9/site-packages/scipy/spatial/tests/data/cdist-X2.txt\n",
      "./anaconda3/lib/python3.9/site-packages/scipy/spatial/tests/data/random-double-data.txt\n",
      "./anaconda3/lib/python3.9/site-packages/scipy/spatial/tests/data/pdist-minkowski-5.8-ml-iris.txt\n",
      "./anaconda3/lib/python3.9/site-packages/scipy/spatial/tests/data/pdist-seuclidean-ml.txt\n",
      "./anaconda3/lib/python3.9/site-packages/scipy/spatial/tests/data/random-bool-data.txt\n",
      "./anaconda3/lib/python3.9/site-packages/scipy/spatial/tests/data/pdist-jaccard-ml.txt\n",
      "./anaconda3/lib/python3.9/site-packages/scipy/spatial/tests/data/random-int-data.txt\n",
      "./anaconda3/lib/python3.9/site-packages/scipy/spatial/tests/data/pdist-correlation-ml.txt\n",
      "./anaconda3/lib/python3.9/site-packages/scipy/spatial/tests/data/pdist-minkowski-3.2-ml-iris.txt\n",
      "./anaconda3/lib/python3.9/site-packages/scipy/spatial/tests/data/pdist-euclidean-ml.txt\n",
      "./anaconda3/lib/python3.9/site-packages/scipy/spatial/tests/data/pdist-double-inp.txt\n",
      "./anaconda3/lib/python3.9/site-packages/scipy/spatial/tests/data/pdist-cityblock-ml.txt\n",
      "./anaconda3/lib/python3.9/site-packages/scipy/spatial/tests/data/pdist-jensenshannon-ml.txt\n",
      "./anaconda3/lib/python3.9/site-packages/scipy/spatial/tests/data/pdist-chebyshev-ml.txt\n",
      "./anaconda3/lib/python3.9/site-packages/scipy/spatial/tests/data/pdist-correlation-ml-iris.txt\n",
      "./anaconda3/lib/python3.9/site-packages/scipy/spatial/tests/data/pdist-cosine-ml-iris.txt\n",
      "./anaconda3/lib/python3.9/site-packages/scipy/spatial/tests/data/selfdual-4d-polytope.txt\n",
      "./anaconda3/lib/python3.9/site-packages/scipy/spatial/tests/data/pdist-chebyshev-ml-iris.txt\n",
      "./anaconda3/lib/python3.9/site-packages/scipy/spatial/tests/data/pdist-spearman-ml.txt\n",
      "./anaconda3/lib/python3.9/site-packages/scipy/spatial/tests/data/pdist-cosine-ml.txt\n",
      "./anaconda3/lib/python3.9/site-packages/scipy/spatial/tests/data/pdist-seuclidean-ml-iris.txt\n",
      "./anaconda3/lib/python3.9/site-packages/scipy/spatial/tests/data/pdist-euclidean-ml-iris.txt\n",
      "./anaconda3/lib/python3.9/site-packages/scipy/spatial/tests/data/pdist-jensenshannon-ml-iris.txt\n",
      "./anaconda3/lib/python3.9/site-packages/scipy/spatial/tests/data/cdist-X1.txt\n",
      "./anaconda3/lib/python3.9/site-packages/scipy/mypy_requirements.txt\n",
      "./anaconda3/lib/python3.9/site-packages/scipy/sparse/linalg/_dsolve/SuperLU/License.txt\n",
      "./anaconda3/lib/python3.9/site-packages/spyder/plugins/help/utils/LICENSE.txt\n",
      "./anaconda3/lib/python3.9/site-packages/spyder/plugins/help/utils/js/mathjax/LICENSE.txt\n",
      "./anaconda3/lib/python3.9/site-packages/spyder/images/LICENSE.txt\n",
      "./anaconda3/lib/python3.9/site-packages/spyder/utils/external/binaryornot/LICENSE.txt\n",
      "./anaconda3/lib/python3.9/site-packages/spyder/utils/external/LICENSE.txt\n",
      "./anaconda3/lib/python3.9/site-packages/spyder/widgets/github/LICENSE.txt\n",
      "./anaconda3/lib/python3.9/site-packages/PyWavelets-1.3.0.dist-info/top_level.txt\n",
      "./anaconda3/lib/python3.9/site-packages/PyWavelets-1.3.0.dist-info/LICENSES_bundled.txt\n",
      "./anaconda3/lib/python3.9/site-packages/prettytable-0.7.2.dist-info/top_level.txt\n",
      "./anaconda3/lib/python3.9/site-packages/Cython-0.29.32.dist-info/top_level.txt\n",
      "./anaconda3/lib/python3.9/site-packages/Cython-0.29.32.dist-info/LICENSE.txt\n",
      "./anaconda3/lib/python3.9/site-packages/Cython-0.29.32.dist-info/entry_points.txt\n",
      "./anaconda3/lib/python3.9/site-packages/Cython-0.29.32.dist-info/COPYING.txt\n",
      "./anaconda3/lib/python3.9/site-packages/mkl_fft-1.3.1-py3.9.egg-info/SOURCES.txt\n",
      "./anaconda3/lib/python3.9/site-packages/mkl_fft-1.3.1-py3.9.egg-info/requires.txt\n",
      "./anaconda3/lib/python3.9/site-packages/mkl_fft-1.3.1-py3.9.egg-info/top_level.txt\n",
      "./anaconda3/lib/python3.9/site-packages/mkl_fft-1.3.1-py3.9.egg-info/dependency_links.txt\n",
      "./anaconda3/lib/python3.9/site-packages/anyio-3.5.0.dist-info/top_level.txt\n",
      "./anaconda3/lib/python3.9/site-packages/anyio-3.5.0.dist-info/entry_points.txt\n",
      "./anaconda3/lib/python3.9/site-packages/whatthepatch-1.0.2.dist-info/top_level.txt\n",
      "./anaconda3/lib/python3.9/site-packages/mock-4.0.3.dist-info/top_level.txt\n",
      "./anaconda3/lib/python3.9/site-packages/mock-4.0.3.dist-info/LICENSE.txt\n",
      "./anaconda3/lib/python3.9/site-packages/brotlipy-0.7.0-py3.9.egg-info/SOURCES.txt\n",
      "./anaconda3/lib/python3.9/site-packages/brotlipy-0.7.0-py3.9.egg-info/requires.txt\n",
      "./anaconda3/lib/python3.9/site-packages/brotlipy-0.7.0-py3.9.egg-info/top_level.txt\n",
      "./anaconda3/lib/python3.9/site-packages/brotlipy-0.7.0-py3.9.egg-info/dependency_links.txt\n",
      "./anaconda3/lib/python3.9/site-packages/tifffile-2021.7.2.dist-info/top_level.txt\n",
      "./anaconda3/lib/python3.9/site-packages/tifffile-2021.7.2.dist-info/entry_points.txt\n",
      "./anaconda3/lib/python3.9/site-packages/networkx-2.8.4.dist-info/top_level.txt\n",
      "./anaconda3/lib/python3.9/site-packages/networkx-2.8.4.dist-info/LICENSE.txt\n",
      "./anaconda3/lib/python3.9/site-packages/matplotlib_inline-0.1.6.dist-info/top_level.txt\n",
      "./anaconda3/lib/python3.9/site-packages/statsmodels-0.13.2.dist-info/top_level.txt\n",
      "./anaconda3/lib/python3.9/site-packages/statsmodels-0.13.2.dist-info/LICENSE.txt\n",
      "./anaconda3/lib/python3.9/site-packages/future-0.18.2.dist-info/top_level.txt\n",
      "./anaconda3/lib/python3.9/site-packages/future-0.18.2.dist-info/LICENSE.txt\n",
      "./anaconda3/lib/python3.9/site-packages/future-0.18.2.dist-info/entry_points.txt\n",
      "./anaconda3/lib/python3.9/site-packages/py-1.11.0.dist-info/top_level.txt\n",
      "./anaconda3/lib/python3.9/site-packages/clyent-1.2.2-py3.9.egg-info/SOURCES.txt\n",
      "./anaconda3/lib/python3.9/site-packages/clyent-1.2.2-py3.9.egg-info/top_level.txt\n",
      "./anaconda3/lib/python3.9/site-packages/clyent-1.2.2-py3.9.egg-info/dependency_links.txt\n",
      "./anaconda3/lib/python3.9/site-packages/cffi-1.15.1.dist-info/top_level.txt\n",
      "./anaconda3/lib/python3.9/site-packages/cffi-1.15.1.dist-info/entry_points.txt\n",
      "./anaconda3/lib/python3.9/site-packages/conda_package_handling-1.9.0.dist-info/top_level.txt\n",
      "./anaconda3/lib/python3.9/site-packages/conda_package_handling-1.9.0.dist-info/entry_points.txt\n",
      "./anaconda3/lib/python3.9/site-packages/param-1.12.0.dist-info/top_level.txt\n",
      "./anaconda3/lib/python3.9/site-packages/param-1.12.0.dist-info/LICENSE.txt\n",
      "./anaconda3/lib/python3.9/site-packages/sphinxcontrib_applehelp-1.0.2.dist-info/top_level.txt\n",
      "./anaconda3/lib/python3.9/site-packages/sphinxcontrib_applehelp-1.0.2.dist-info/namespace_packages.txt\n",
      "./anaconda3/lib/python3.9/site-packages/bleach-4.1.0.dist-info/top_level.txt\n",
      "./anaconda3/lib/python3.9/site-packages/qtconsole-5.3.2.dist-info/top_level.txt\n",
      "./anaconda3/lib/python3.9/site-packages/qtconsole-5.3.2.dist-info/entry_points.txt\n",
      "./anaconda3/lib/python3.9/site-packages/pandocfilters-1.5.0.dist-info/top_level.txt\n",
      "./anaconda3/lib/python3.9/site-packages/poyo-0.5.0.dist-info/top_level.txt\n",
      "./anaconda3/lib/python3.9/site-packages/queuelib-1.5.0-py3.9.egg-info/SOURCES.txt\n",
      "./anaconda3/lib/python3.9/site-packages/queuelib-1.5.0-py3.9.egg-info/top_level.txt\n",
      "./anaconda3/lib/python3.9/site-packages/queuelib-1.5.0-py3.9.egg-info/dependency_links.txt\n",
      "./anaconda3/lib/python3.9/site-packages/beautifulsoup4-4.11.1.dist-info/top_level.txt\n",
      "./anaconda3/lib/python3.9/site-packages/beautifulsoup4-4.11.1.dist-info/COPYING.txt\n",
      "./anaconda3/lib/python3.9/site-packages/PyMySQL-1.0.2.dist-info/top_level.txt\n",
      "./anaconda3/lib/python3.9/site-packages/pydocstyle-6.1.1.dist-info/top_level.txt\n",
      "./anaconda3/lib/python3.9/site-packages/pydocstyle-6.1.1.dist-info/entry_points.txt\n",
      "./anaconda3/lib/python3.9/site-packages/jupyter_highlight_selected_word-0.2.0.dist-info/top_level.txt\n",
      "./anaconda3/lib/python3.9/site-packages/jupyter_highlight_selected_word-0.2.0.dist-info/LICENSE.txt\n",
      "./anaconda3/lib/python3.9/site-packages/pyerfa-2.0.0.dist-info/top_level.txt\n",
      "./anaconda3/lib/python3.9/site-packages/trio-0.22.0.dist-info/top_level.txt\n",
      "./anaconda3/lib/python3.9/site-packages/autopep8-1.6.0.dist-info/top_level.txt\n",
      "./anaconda3/lib/python3.9/site-packages/autopep8-1.6.0.dist-info/entry_points.txt\n",
      "./anaconda3/lib/python3.9/site-packages/cssselect-1.1.0-py3.9.egg-info/SOURCES.txt\n",
      "./anaconda3/lib/python3.9/site-packages/cssselect-1.1.0-py3.9.egg-info/top_level.txt\n",
      "./anaconda3/lib/python3.9/site-packages/cssselect-1.1.0-py3.9.egg-info/dependency_links.txt\n",
      "./anaconda3/lib/python3.9/site-packages/dpkt-1.9.8.dist-info/top_level.txt\n",
      "./anaconda3/lib/python3.9/site-packages/mkl_service-2.4.0-py3.9.egg-info/SOURCES.txt\n",
      "./anaconda3/lib/python3.9/site-packages/mkl_service-2.4.0-py3.9.egg-info/top_level.txt\n",
      "./anaconda3/lib/python3.9/site-packages/mkl_service-2.4.0-py3.9.egg-info/dependency_links.txt\n",
      "./anaconda3/lib/python3.9/site-packages/jedi-0.18.1.dist-info/AUTHORS.txt\n",
      "./anaconda3/lib/python3.9/site-packages/jedi-0.18.1.dist-info/top_level.txt\n",
      "./anaconda3/lib/python3.9/site-packages/jedi-0.18.1.dist-info/LICENSE.txt\n",
      "./anaconda3/lib/python3.9/site-packages/ruamel.yaml-0.17.21.dist-info/top_level.txt\n",
      "./anaconda3/lib/python3.9/site-packages/ruamel.yaml-0.17.21.dist-info/namespace_packages.txt\n",
      "./anaconda3/lib/python3.9/site-packages/cachetools-5.2.1.dist-info/top_level.txt\n",
      "./anaconda3/lib/python3.9/site-packages/inflection-0.5.1-py3.9.egg-info/SOURCES.txt\n",
      "./anaconda3/lib/python3.9/site-packages/inflection-0.5.1-py3.9.egg-info/top_level.txt\n",
      "./anaconda3/lib/python3.9/site-packages/inflection-0.5.1-py3.9.egg-info/dependency_links.txt\n",
      "./anaconda3/lib/python3.9/site-packages/python_lsp_black-1.2.1.dist-info/top_level.txt\n",
      "./anaconda3/lib/python3.9/site-packages/python_lsp_black-1.2.1.dist-info/entry_points.txt\n",
      "./anaconda3/lib/python3.9/site-packages/xlrd-2.0.1.dist-info/top_level.txt\n",
      "./anaconda3/lib/python3.9/site-packages/tenacity-8.0.1.dist-info/top_level.txt\n",
      "./anaconda3/lib/python3.9/site-packages/notebook/bundler/tests/resources/subdir/test_file.txt\n",
      "./anaconda3/lib/python3.9/site-packages/notebook/bundler/tests/resources/another_subdir/test_file.txt\n",
      "./anaconda3/lib/python3.9/site-packages/notebook/static/robots.txt\n",
      "./anaconda3/lib/python3.9/site-packages/pyrsistent-0.18.0.dist-info/top_level.txt\n",
      "./anaconda3/lib/python3.9/site-packages/pyflakes-2.4.0.dist-info/top_level.txt\n",
      "./anaconda3/lib/python3.9/site-packages/pyflakes-2.4.0.dist-info/entry_points.txt\n",
      "./anaconda3/lib/python3.9/site-packages/cookiecutter-1.7.3.dist-info/top_level.txt\n",
      "./anaconda3/lib/python3.9/site-packages/cookiecutter-1.7.3.dist-info/entry_points.txt\n",
      "./anaconda3/lib/python3.9/site-packages/pathspec-0.9.0.dist-info/top_level.txt\n",
      "./anaconda3/lib/python3.9/site-packages/jupyter_contrib_core-0.4.0.dist-info/top_level.txt\n",
      "./anaconda3/lib/python3.9/site-packages/jupyter_contrib_core-0.4.0.dist-info/LICENSE.txt\n",
      "./anaconda3/lib/python3.9/site-packages/jupyter_contrib_core-0.4.0.dist-info/entry_points.txt\n",
      "./anaconda3/lib/python3.9/site-packages/spyder_kernels-2.3.3.dist-info/AUTHORS.txt\n",
      "./anaconda3/lib/python3.9/site-packages/spyder_kernels-2.3.3.dist-info/top_level.txt\n",
      "./anaconda3/lib/python3.9/site-packages/spyder_kernels-2.3.3.dist-info/LICENSE.txt\n",
      "./anaconda3/lib/python3.9/site-packages/backports.tempfile-1.0.dist-info/top_level.txt\n",
      "./anaconda3/lib/python3.9/site-packages/pyct-0.4.8.dist-info/top_level.txt\n",
      "./anaconda3/lib/python3.9/site-packages/pyct-0.4.8.dist-info/LICENSE.txt\n",
      "./anaconda3/lib/python3.9/site-packages/pyct-0.4.8.dist-info/entry_points.txt\n",
      "./anaconda3/lib/python3.9/site-packages/Twisted-22.2.0.dist-info/top_level.txt\n",
      "./anaconda3/lib/python3.9/site-packages/Twisted-22.2.0.dist-info/entry_points.txt\n",
      "./anaconda3/lib/python3.9/site-packages/jdcal-1.4.1.dist-info/top_level.txt\n",
      "./anaconda3/lib/python3.9/site-packages/jdcal-1.4.1.dist-info/LICENSE.txt\n",
      "./anaconda3/lib/python3.9/site-packages/munkres-1.1.4-py3.6.egg-info/SOURCES.txt\n",
      "./anaconda3/lib/python3.9/site-packages/munkres-1.1.4-py3.6.egg-info/top_level.txt\n",
      "./anaconda3/lib/python3.9/site-packages/munkres-1.1.4-py3.6.egg-info/dependency_links.txt\n",
      "./anaconda3/lib/python3.9/site-packages/colorcet-3.0.0.dist-info/top_level.txt\n",
      "./anaconda3/lib/python3.9/site-packages/colorcet-3.0.0.dist-info/LICENSE.txt\n",
      "./anaconda3/lib/python3.9/site-packages/colorcet-3.0.0.dist-info/entry_points.txt\n",
      "./anaconda3/lib/python3.9/site-packages/Flask-1.1.2.dist-info/top_level.txt\n",
      "./anaconda3/lib/python3.9/site-packages/Flask-1.1.2.dist-info/entry_points.txt\n",
      "./anaconda3/lib/python3.9/site-packages/pyxdg-0.27.dist-info/top_level.txt\n",
      "./anaconda3/lib/python3.9/site-packages/PyHamcrest-2.0.2.dist-info/top_level.txt\n",
      "./anaconda3/lib/python3.9/site-packages/PyHamcrest-2.0.2.dist-info/LICENSE.txt\n",
      "./anaconda3/lib/python3.9/site-packages/py/_vendored_packages/apipkg-2.0.0.dist-info/top_level.txt\n",
      "./anaconda3/lib/python3.9/site-packages/py/_vendored_packages/iniconfig-1.1.1.dist-info/top_level.txt\n",
      "./anaconda3/lib/python3.9/site-packages/s3transfer-0.6.0.dist-info/top_level.txt\n",
      "./anaconda3/lib/python3.9/site-packages/s3transfer-0.6.0.dist-info/NOTICE.txt\n",
      "./anaconda3/lib/python3.9/site-packages/s3transfer-0.6.0.dist-info/LICENSE.txt\n",
      "./anaconda3/lib/python3.9/site-packages/keyring-23.4.0.dist-info/top_level.txt\n",
      "./anaconda3/lib/python3.9/site-packages/keyring-23.4.0.dist-info/entry_points.txt\n",
      "./anaconda3/lib/python3.9/site-packages/debugpy-1.5.1.dist-info/top_level.txt\n",
      "./anaconda3/lib/python3.9/site-packages/panel/examples/apps/django2/requirements.txt\n",
      "./anaconda3/lib/python3.9/site-packages/panel/examples/apps/django_multi_apps/requirements.txt\n",
      "./anaconda3/lib/python3.9/site-packages/three_merge-0.1.1.dist-info/top_level.txt\n",
      "./anaconda3/lib/python3.9/site-packages/scipy-1.9.1-py3.9.egg-info/SOURCES.txt\n",
      "./anaconda3/lib/python3.9/site-packages/scipy-1.9.1-py3.9.egg-info/requires.txt\n",
      "./anaconda3/lib/python3.9/site-packages/scipy-1.9.1-py3.9.egg-info/top_level.txt\n",
      "./anaconda3/lib/python3.9/site-packages/scipy-1.9.1-py3.9.egg-info/dependency_links.txt\n",
      "./anaconda3/lib/python3.9/site-packages/yapf-0.31.0.dist-info/top_level.txt\n",
      "./anaconda3/lib/python3.9/site-packages/yapf-0.31.0.dist-info/entry_points.txt\n",
      "./anaconda3/lib/python3.9/site-packages/sphinxcontrib_qthelp-1.0.3.dist-info/top_level.txt\n",
      "./anaconda3/lib/python3.9/site-packages/sphinxcontrib_qthelp-1.0.3.dist-info/namespace_packages.txt\n",
      "./anaconda3/lib/python3.9/site-packages/python_slugify-5.0.2.dist-info/top_level.txt\n",
      "./anaconda3/lib/python3.9/site-packages/python_slugify-5.0.2.dist-info/entry_points.txt\n",
      "./anaconda3/lib/python3.9/site-packages/mpmath-1.2.1-py3.9.egg-info/SOURCES.txt\n",
      "./anaconda3/lib/python3.9/site-packages/mpmath-1.2.1-py3.9.egg-info/requires.txt\n",
      "./anaconda3/lib/python3.9/site-packages/mpmath-1.2.1-py3.9.egg-info/top_level.txt\n",
      "./anaconda3/lib/python3.9/site-packages/mpmath-1.2.1-py3.9.egg-info/dependency_links.txt\n",
      "./anaconda3/lib/python3.9/site-packages/jupyterlab_pygments-0.1.2.dist-info/top_level.txt\n",
      "./anaconda3/lib/python3.9/site-packages/pathlib-1.0.1.dist-info/top_level.txt\n",
      "./anaconda3/lib/python3.9/site-packages/pathlib-1.0.1.dist-info/LICENSE.txt\n",
      "./anaconda3/lib/python3.9/site-packages/README.txt\n",
      "./anaconda3/lib/python3.9/site-packages/tldextract-3.2.0.dist-info/top_level.txt\n",
      "./anaconda3/lib/python3.9/site-packages/tldextract-3.2.0.dist-info/entry_points.txt\n",
      "./anaconda3/lib/python3.9/site-packages/defusedxml-0.7.1.dist-info/top_level.txt\n",
      "./anaconda3/lib/python3.9/site-packages/sqlparse-0.4.3.dist-info/top_level.txt\n",
      "./anaconda3/lib/python3.9/site-packages/sqlparse-0.4.3.dist-info/entry_points.txt\n",
      "./anaconda3/lib/python3.9/site-packages/scikit_learn-1.0.2.dist-info/top_level.txt\n",
      "./anaconda3/lib/python3.9/site-packages/tqdm-4.64.1.dist-info/top_level.txt\n",
      "./anaconda3/lib/python3.9/site-packages/tqdm-4.64.1.dist-info/entry_points.txt\n",
      "./anaconda3/lib/python3.9/site-packages/numpy/core/include/numpy/multiarray_api.txt\n",
      "./anaconda3/lib/python3.9/site-packages/numpy/core/include/numpy/ufunc_api.txt\n",
      "./anaconda3/lib/python3.9/site-packages/numpy/core/include/numpy/libdivide/LICENSE.txt\n",
      "./anaconda3/lib/python3.9/site-packages/numpy/core/tests/data/umath-validation-set-README.txt\n",
      "./anaconda3/lib/python3.9/site-packages/numpy/LICENSE.txt\n",
      "./anaconda3/lib/python3.9/site-packages/alabaster-0.7.12.dist-info/top_level.txt\n",
      "./anaconda3/lib/python3.9/site-packages/alabaster-0.7.12.dist-info/entry_points.txt\n",
      "./anaconda3/lib/python3.9/site-packages/HeapDict-1.0.1.dist-info/top_level.txt\n",
      "./anaconda3/lib/python3.9/site-packages/sniffio-1.2.0.dist-info/top_level.txt\n",
      "./anaconda3/lib/python3.9/site-packages/IPython/testing/plugin/test_exampleip.txt\n",
      "./anaconda3/lib/python3.9/site-packages/IPython/testing/plugin/README.txt\n",
      "./anaconda3/lib/python3.9/site-packages/IPython/testing/plugin/test_combo.txt\n",
      "./anaconda3/lib/python3.9/site-packages/IPython/testing/plugin/test_example.txt\n",
      "./anaconda3/lib/python3.9/site-packages/toml-0.10.2.dist-info/top_level.txt\n",
      "./anaconda3/lib/python3.9/site-packages/intake-0.6.5.dist-info/top_level.txt\n",
      "./anaconda3/lib/python3.9/site-packages/intake-0.6.5.dist-info/entry_points.txt\n",
      "./anaconda3/lib/python3.9/site-packages/docutils-0.18.1.dist-info/top_level.txt\n",
      "./anaconda3/lib/python3.9/site-packages/docutils-0.18.1.dist-info/COPYING.txt\n",
      "./anaconda3/lib/python3.9/site-packages/pycurl-7.45.1-py3.9-linux-x86_64.egg-info/SOURCES.txt\n",
      "./anaconda3/lib/python3.9/site-packages/pycurl-7.45.1-py3.9-linux-x86_64.egg-info/top_level.txt\n",
      "./anaconda3/lib/python3.9/site-packages/pycurl-7.45.1-py3.9-linux-x86_64.egg-info/dependency_links.txt\n",
      "./anaconda3/lib/python3.9/site-packages/pycurl-7.45.1-py3.9-linux-x86_64.egg-info/native_libs.txt\n",
      "./anaconda3/lib/python3.9/site-packages/wrapt-1.14.1.dist-info/top_level.txt\n",
      "./anaconda3/lib/python3.9/site-packages/ipython_sql-0.4.1.dist-info/top_level.txt\n",
      "./anaconda3/lib/python3.9/site-packages/idna-3.3.dist-info/top_level.txt\n",
      "./anaconda3/lib/python3.9/site-packages/sortedcollections-2.1.0.dist-info/top_level.txt\n",
      "./anaconda3/lib/python3.9/site-packages/websocket_client-0.58.0.dist-info/top_level.txt\n",
      "./anaconda3/lib/python3.9/site-packages/numpy-1.21.5.dist-info/top_level.txt\n",
      "./anaconda3/lib/python3.9/site-packages/numpy-1.21.5.dist-info/LICENSE.txt\n",
      "./anaconda3/lib/python3.9/site-packages/numpy-1.21.5.dist-info/entry_points.txt\n",
      "./anaconda3/lib/python3.9/site-packages/jupyterlab-3.4.4.dist-info/top_level.txt\n",
      "./anaconda3/lib/python3.9/site-packages/jupyterlab-3.4.4.dist-info/entry_points.txt\n",
      "./anaconda3/lib/python3.9/site-packages/dask-2022.7.0.dist-info/top_level.txt\n",
      "./anaconda3/lib/python3.9/site-packages/dask-2022.7.0.dist-info/LICENSE.txt\n",
      "./anaconda3/lib/python3.9/site-packages/dask-2022.7.0.dist-info/NUMPY_LICENSE.txt\n",
      "./anaconda3/lib/python3.9/site-packages/diff_match_patch-20200713.dist-info/top_level.txt\n",
      "./anaconda3/lib/python3.9/site-packages/tinycss-0.4.dist-info/top_level.txt\n",
      "./anaconda3/lib/python3.9/site-packages/astroid-2.11.7.dist-info/CONTRIBUTORS.txt\n",
      "./anaconda3/lib/python3.9/site-packages/astroid-2.11.7.dist-info/top_level.txt\n",
      "./anaconda3/lib/python3.9/site-packages/arrow-1.2.2.dist-info/top_level.txt\n",
      "./anaconda3/lib/python3.9/site-packages/jupyter_contrib_nbextensions-0.7.0.dist-info/top_level.txt\n",
      "./anaconda3/lib/python3.9/site-packages/jupyter_contrib_nbextensions-0.7.0.dist-info/entry_points.txt\n",
      "./anaconda3/lib/python3.9/site-packages/itemadapter-0.3.0.dist-info/top_level.txt\n",
      "./anaconda3/lib/python3.9/site-packages/pytz-2022.1.dist-info/top_level.txt\n",
      "./anaconda3/lib/python3.9/site-packages/pytz-2022.1.dist-info/LICENSE.txt\n",
      "./anaconda3/lib/python3.9/site-packages/wurlitzer-3.0.2.dist-info/top_level.txt\n",
      "./anaconda3/lib/python3.9/site-packages/ply-3.11-py3.9.egg-info/SOURCES.txt\n",
      "./anaconda3/lib/python3.9/site-packages/ply-3.11-py3.9.egg-info/top_level.txt\n",
      "./anaconda3/lib/python3.9/site-packages/ply-3.11-py3.9.egg-info/dependency_links.txt\n",
      "./anaconda3/lib/python3.9/site-packages/spyder-5.3.3.dist-info/AUTHORS.txt\n",
      "./anaconda3/lib/python3.9/site-packages/spyder-5.3.3.dist-info/top_level.txt\n",
      "./anaconda3/lib/python3.9/site-packages/spyder-5.3.3.dist-info/NOTICE.txt\n",
      "./anaconda3/lib/python3.9/site-packages/spyder-5.3.3.dist-info/LICENSE.txt\n",
      "./anaconda3/lib/python3.9/site-packages/spyder-5.3.3.dist-info/entry_points.txt\n",
      "./anaconda3/lib/python3.9/site-packages/widgetsnbextension-3.5.2.dist-info/top_level.txt\n",
      "./anaconda3/lib/python3.9/site-packages/scapy-2.5.0.dist-info/top_level.txt\n",
      "./anaconda3/lib/python3.9/site-packages/scapy-2.5.0.dist-info/entry_points.txt\n",
      "./anaconda3/lib/python3.9/site-packages/jupyterlab_widgets/labextension/static/638.f3e5e34a28f3334d4f08.js.LICENSE.txt\n",
      "./anaconda3/lib/python3.9/site-packages/jupyterlab_widgets/labextension/static/95.b5a5ff10000a6051fa99.js.LICENSE.txt\n",
      "./anaconda3/lib/python3.9/site-packages/SQLAlchemy-1.4.39.dist-info/top_level.txt\n",
      "./anaconda3/lib/python3.9/site-packages/locket-1.0.0.dist-info/top_level.txt\n",
      "./anaconda3/lib/python3.9/site-packages/cytoolz-0.11.0-py3.9.egg-info/SOURCES.txt\n",
      "./anaconda3/lib/python3.9/site-packages/cytoolz-0.11.0-py3.9.egg-info/installed-files.txt\n",
      "./anaconda3/lib/python3.9/site-packages/cytoolz-0.11.0-py3.9.egg-info/requires.txt\n",
      "./anaconda3/lib/python3.9/site-packages/cytoolz-0.11.0-py3.9.egg-info/top_level.txt\n",
      "./anaconda3/lib/python3.9/site-packages/cytoolz-0.11.0-py3.9.egg-info/dependency_links.txt\n",
      "./anaconda3/lib/python3.9/site-packages/packaging-21.3.dist-info/top_level.txt\n",
      "./anaconda3/lib/python3.9/site-packages/Automat-20.2.0.dist-info/top_level.txt\n",
      "./anaconda3/lib/python3.9/site-packages/Automat-20.2.0.dist-info/entry_points.txt\n",
      "./anaconda3/lib/python3.9/site-packages/pexpect-4.8.0.dist-info/top_level.txt\n",
      "./anaconda3/lib/python3.9/site-packages/xarray-0.20.1.dist-info/top_level.txt\n",
      "./anaconda3/lib/python3.9/site-packages/async_generator-1.10.dist-info/top_level.txt\n",
      "./anaconda3/lib/python3.9/site-packages/itemloaders-1.0.4.dist-info/top_level.txt\n",
      "./anaconda3/lib/python3.9/site-packages/matplotlib/mpl-data/sample_data/README.txt\n",
      "./anaconda3/lib/python3.9/site-packages/matplotlib/mpl-data/fonts/pdfcorefonts/readme.txt\n",
      "./anaconda3/lib/python3.9/site-packages/bitarray-2.5.1.dist-info/top_level.txt\n",
      "./anaconda3/lib/python3.9/site-packages/botocore-1.27.28.dist-info/top_level.txt\n",
      "./anaconda3/lib/python3.9/site-packages/botocore-1.27.28.dist-info/LICENSE.txt\n",
      "./anaconda3/lib/python3.9/site-packages/tornado/test/static_foo.txt\n",
      "./anaconda3/lib/python3.9/site-packages/tornado/test/static/robots.txt\n",
      "./anaconda3/lib/python3.9/site-packages/yagmail-0.15.293.dist-info/top_level.txt\n",
      "./anaconda3/lib/python3.9/site-packages/yagmail-0.15.293.dist-info/entry_points.txt\n",
      "./anaconda3/lib/python3.9/site-packages/nbclassic-0.3.5.dist-info/top_level.txt\n",
      "./anaconda3/lib/python3.9/site-packages/nbclassic-0.3.5.dist-info/entry_points.txt\n",
      "./anaconda3/lib/python3.9/site-packages/terminado-0.13.1.dist-info/top_level.txt\n",
      "./anaconda3/lib/python3.9/site-packages/funcy-1.17.dist-info/top_level.txt\n",
      "./anaconda3/lib/python3.9/site-packages/gensim/test/test_data/ldavowpalwabbit.txt\n",
      "./anaconda3/lib/python3.9/site-packages/gensim/test/test_data/PathLineSentences/1.txt\n",
      "./anaconda3/lib/python3.9/site-packages/gensim/test/test_data/head500.noblanks.cor_wordids.txt\n",
      "./anaconda3/lib/python3.9/site-packages/gensim/test/test_data/OPUS_en_it_europarl_train_one2ten.txt\n",
      "./anaconda3/lib/python3.9/site-packages/gensim/test/test_data/fb-ngrams.txt\n",
      "./anaconda3/lib/python3.9/site-packages/gensim/test/test_data/similarities0-1.txt\n",
      "./anaconda3/lib/python3.9/site-packages/gensim/test/test_data/toy-data.txt\n",
      "./anaconda3/lib/python3.9/site-packages/gensim/test/test_data/para2para_text2.txt\n",
      "./anaconda3/lib/python3.9/site-packages/gensim/test/test_data/alldata-id-10.txt\n",
      "./anaconda3/lib/python3.9/site-packages/gensim/test/test_data/crime-and-punishment.txt\n",
      "./anaconda3/lib/python3.9/site-packages/gensim/test/test_data/test_glove.txt\n",
      "./anaconda3/lib/python3.9/site-packages/gensim/test/test_data/DTM/sstats_test.txt\n",
      "./anaconda3/lib/python3.9/site-packages/gensim/test/test_data/simlex999.txt\n",
      "./anaconda3/lib/python3.9/site-packages/gensim/test/test_data/EN.1-10.cbow1_wind5_hs0_neg10_size300_smpl1e-05.txt\n",
      "./anaconda3/lib/python3.9/site-packages/gensim/test/test_data/ldavowpalwabbit.dict.txt\n",
      "./anaconda3/lib/python3.9/site-packages/gensim/test/test_data/testcorpus.txt\n",
      "./anaconda3/lib/python3.9/site-packages/gensim/test/test_data/high_precision.kv.txt\n",
      "./anaconda3/lib/python3.9/site-packages/gensim/test/test_data/para2para_text1.txt\n",
      "./anaconda3/lib/python3.9/site-packages/gensim/test/test_data/IT.1-10.cbow1_wind5_hs0_neg10_size300_smpl1e-05.txt\n",
      "./anaconda3/lib/python3.9/site-packages/gensim/test/test_data/questions-words.txt\n",
      "./anaconda3/lib/python3.9/site-packages/nbclient-0.5.13.dist-info/top_level.txt\n",
      "./anaconda3/lib/python3.9/site-packages/nbclient-0.5.13.dist-info/entry_points.txt\n",
      "./anaconda3/lib/python3.9/site-packages/debugpy/ThirdPartyNotices.txt\n",
      "./anaconda3/lib/python3.9/site-packages/debugpy/_vendored/pydevd/pydevd_attach_to_process/README.txt\n",
      "./anaconda3/lib/python3.9/site-packages/debugpy/_vendored/pydevd/pydev_sitecustomize/__not_in_default_pythonpath.txt\n",
      "./anaconda3/lib/python3.9/site-packages/debugpy/_vendored/pydevd/_pydevd_frame_eval/vendored/README.txt\n",
      "./anaconda3/lib/python3.9/site-packages/debugpy/_vendored/pydevd/_pydevd_frame_eval/vendored/bytecode-0.13.0.dev0.dist-info/top_level.txt\n",
      "./anaconda3/lib/python3.9/site-packages/iniconfig-1.1.1.dist-info/top_level.txt\n",
      "./anaconda3/lib/python3.9/site-packages/jupyterlab_plotly/nbextension/index.js.LICENSE.txt\n",
      "./anaconda3/lib/python3.9/site-packages/jupyterlab_plotly/labextension/static/478.f9a7116e09cbfb956212.js.LICENSE.txt\n",
      "./anaconda3/lib/python3.9/site-packages/jupyterlab_plotly/labextension/static/486.52aa9063b291ec574154.js.LICENSE.txt\n",
      "./anaconda3/lib/python3.9/site-packages/pip-22.2.2-py3.9.egg-info/SOURCES.txt\n",
      "./anaconda3/lib/python3.9/site-packages/pip-22.2.2-py3.9.egg-info/top_level.txt\n",
      "./anaconda3/lib/python3.9/site-packages/pip-22.2.2-py3.9.egg-info/dependency_links.txt\n",
      "./anaconda3/lib/python3.9/site-packages/pip-22.2.2-py3.9.egg-info/entry_points.txt\n",
      "./anaconda3/lib/python3.9/site-packages/jupyter_contrib_core-0.4.2.dist-info/top_level.txt\n",
      "./anaconda3/lib/python3.9/site-packages/jupyter_contrib_core-0.4.2.dist-info/LICENSE.txt\n",
      "./anaconda3/lib/python3.9/site-packages/jupyter_contrib_core-0.4.2.dist-info/entry_points.txt\n",
      "./anaconda3/lib/python3.9/site-packages/attrs-21.4.0.dist-info/top_level.txt\n",
      "./anaconda3/lib/python3.9/site-packages/pyzmq-23.2.0.dist-info/top_level.txt\n",
      "./anaconda3/lib/python3.9/site-packages/cloudpickle-2.0.0.dist-info/top_level.txt\n",
      "./anaconda3/lib/python3.9/site-packages/QDarkStyle-3.0.2.dist-info/top_level.txt\n",
      "./anaconda3/lib/python3.9/site-packages/QDarkStyle-3.0.2.dist-info/entry_points.txt\n",
      "./anaconda3/lib/python3.9/site-packages/snowballstemmer-2.2.0.dist-info/top_level.txt\n",
      "./anaconda3/lib/python3.9/site-packages/sip-6.6.2.dist-info/top_level.txt\n",
      "./anaconda3/lib/python3.9/site-packages/sip-6.6.2.dist-info/entry_points.txt\n",
      "./anaconda3/lib/python3.9/site-packages/nbformat-5.5.0.dist-info/entry_points.txt\n",
      "./anaconda3/lib/python3.9/site-packages/jupyterlab/static/9473.5a9c6a963b6aaa178bc3.js.LICENSE.txt\n",
      "./anaconda3/lib/python3.9/site-packages/jupyterlab/static/6064.1a4a55a09511d4907870.js.LICENSE.txt\n",
      "./anaconda3/lib/python3.9/site-packages/jupyterlab/static/jlab_core.081dc2b13065c79d8463.js.LICENSE.txt\n",
      "./anaconda3/lib/python3.9/site-packages/jupyterlab/static/7294.f71c2889fedcd71bd1ee.js.LICENSE.txt\n",
      "./anaconda3/lib/python3.9/site-packages/jupyterlab/static/5493.c4714ef77ba6a59aec45.js.LICENSE.txt\n",
      "./anaconda3/lib/python3.9/site-packages/jupyterlab/static/807.96166378e2efe232d81e.js.LICENSE.txt\n",
      "./anaconda3/lib/python3.9/site-packages/jupyterlab/static/3935.4159b022aa6d82e44127.js.LICENSE.txt\n",
      "./anaconda3/lib/python3.9/site-packages/jupyterlab/static/1944.9bb345a40325c23313e9.js.LICENSE.txt\n",
      "./anaconda3/lib/python3.9/site-packages/jupyterlab/static/911.0c08f040896753efc653.js.LICENSE.txt\n",
      "./anaconda3/lib/python3.9/site-packages/jupyterlab/static/1036.e3242066e92a791822b6.js.LICENSE.txt\n",
      "./anaconda3/lib/python3.9/site-packages/jupyterlab/static/5096.96faf5ddac346a9ad9c3.js.LICENSE.txt\n",
      "./anaconda3/lib/python3.9/site-packages/parso-0.8.3.dist-info/AUTHORS.txt\n",
      "./anaconda3/lib/python3.9/site-packages/parso-0.8.3.dist-info/top_level.txt\n",
      "./anaconda3/lib/python3.9/site-packages/parso-0.8.3.dist-info/LICENSE.txt\n",
      "./anaconda3/lib/python3.9/site-packages/python_snappy-0.6.0.dist-info/top_level.txt\n",
      "./anaconda3/lib/python3.9/site-packages/Babel-2.9.1.dist-info/top_level.txt\n",
      "./anaconda3/lib/python3.9/site-packages/Babel-2.9.1.dist-info/entry_points.txt\n",
      "./anaconda3/lib/python3.9/site-packages/pluggy-1.0.0.dist-info/top_level.txt\n",
      "./anaconda3/lib/python3.9/site-packages/flake8-4.0.1.dist-info/top_level.txt\n",
      "./anaconda3/lib/python3.9/site-packages/flake8-4.0.1.dist-info/entry_points.txt\n",
      "./anaconda3/lib/python3.9/site-packages/mypy_extensions-0.4.3-py3.9.egg-info/SOURCES.txt\n",
      "./anaconda3/lib/python3.9/site-packages/mypy_extensions-0.4.3-py3.9.egg-info/requires.txt\n",
      "./anaconda3/lib/python3.9/site-packages/mypy_extensions-0.4.3-py3.9.egg-info/top_level.txt\n",
      "./anaconda3/lib/python3.9/site-packages/mypy_extensions-0.4.3-py3.9.egg-info/dependency_links.txt\n",
      "./anaconda3/lib/python3.9/site-packages/pytest-7.1.2-py3.9.egg-info/SOURCES.txt\n",
      "./anaconda3/lib/python3.9/site-packages/pytest-7.1.2-py3.9.egg-info/requires.txt\n",
      "./anaconda3/lib/python3.9/site-packages/pytest-7.1.2-py3.9.egg-info/top_level.txt\n",
      "./anaconda3/lib/python3.9/site-packages/pytest-7.1.2-py3.9.egg-info/dependency_links.txt\n",
      "./anaconda3/lib/python3.9/site-packages/pytest-7.1.2-py3.9.egg-info/entry_points.txt\n",
      "./anaconda3/lib/python3.9/site-packages/scikit_image-0.19.2.dist-info/top_level.txt\n",
      "./anaconda3/lib/python3.9/site-packages/scikit_image-0.19.2.dist-info/LICENSE.txt\n",
      "./anaconda3/lib/python3.9/site-packages/scikit_image-0.19.2.dist-info/entry_points.txt\n",
      "./anaconda3/lib/python3.9/site-packages/jupyter_server-1.18.1.dist-info/top_level.txt\n",
      "./anaconda3/lib/python3.9/site-packages/jupyter_server-1.18.1.dist-info/entry_points.txt\n",
      "./anaconda3/lib/python3.9/site-packages/tables-3.6.1.dist-info/top_level.txt\n",
      "./anaconda3/lib/python3.9/site-packages/tables-3.6.1.dist-info/LICENSE.txt\n",
      "./anaconda3/lib/python3.9/site-packages/tables-3.6.1.dist-info/entry_points.txt\n",
      "./anaconda3/lib/python3.9/site-packages/nbconvert/tests/exporter_entrypoint/eptest-0.1.dist-info/entry_points.txt\n",
      "./anaconda3/lib/python3.9/site-packages/Jinja2-2.11.3.dist-info/top_level.txt\n",
      "./anaconda3/lib/python3.9/site-packages/Jinja2-2.11.3.dist-info/entry_points.txt\n",
      "./anaconda3/lib/python3.9/site-packages/colorama-0.4.5.dist-info/top_level.txt\n",
      "./anaconda3/lib/python3.9/site-packages/colorama-0.4.5.dist-info/LICENSE.txt\n",
      "./anaconda3/lib/python3.9/site-packages/json5-0.9.6.dist-info/top_level.txt\n",
      "./anaconda3/lib/python3.9/site-packages/json5-0.9.6.dist-info/entry_points.txt\n",
      "./anaconda3/lib/python3.9/site-packages/nest_asyncio-1.5.5.dist-info/top_level.txt\n",
      "./anaconda3/lib/python3.9/site-packages/greenlet-1.1.1.dist-info/top_level.txt\n",
      "./anaconda3/lib/python3.9/site-packages/msgpack-1.0.3.dist-info/top_level.txt\n",
      "./anaconda3/lib/python3.9/site-packages/fonttools-4.25.0-py3.9.egg-info/SOURCES.txt\n",
      "./anaconda3/lib/python3.9/site-packages/fonttools-4.25.0-py3.9.egg-info/requires.txt\n",
      "./anaconda3/lib/python3.9/site-packages/fonttools-4.25.0-py3.9.egg-info/top_level.txt\n",
      "./anaconda3/lib/python3.9/site-packages/fonttools-4.25.0-py3.9.egg-info/dependency_links.txt\n",
      "./anaconda3/lib/python3.9/site-packages/fonttools-4.25.0-py3.9.egg-info/entry_points.txt\n",
      "./anaconda3/lib/python3.9/site-packages/w3lib-1.21.0.dist-info/top_level.txt\n",
      "./anaconda3/lib/python3.9/site-packages/steganography-0.1.1.dist-info/top_level.txt\n",
      "./anaconda3/lib/python3.9/site-packages/steganography-0.1.1.dist-info/entry_points.txt\n",
      "./anaconda3/lib/python3.9/site-packages/pyviz_comms-2.0.2.dist-info/top_level.txt\n",
      "./anaconda3/lib/python3.9/site-packages/pyviz_comms-2.0.2.dist-info/LICENSE.txt\n",
      "./anaconda3/lib/python3.9/site-packages/partd-1.2.0.dist-info/top_level.txt\n",
      "./anaconda3/lib/python3.9/site-packages/partd-1.2.0.dist-info/LICENSE.txt\n",
      "./anaconda3/lib/python3.9/site-packages/sphinxcontrib_jsmath-1.0.1.dist-info/top_level.txt\n",
      "./anaconda3/lib/python3.9/site-packages/sphinxcontrib_jsmath-1.0.1.dist-info/namespace_packages.txt\n",
      "./anaconda3/lib/python3.9/site-packages/joblib-1.1.0.dist-info/top_level.txt\n",
      "./anaconda3/lib/python3.9/site-packages/joblib-1.1.0.dist-info/LICENSE.txt\n",
      "./anaconda3/lib/python3.9/site-packages/et_xmlfile-1.1.0-py3.9.egg-info/SOURCES.txt\n",
      "./anaconda3/lib/python3.9/site-packages/et_xmlfile-1.1.0-py3.9.egg-info/top_level.txt\n",
      "./anaconda3/lib/python3.9/site-packages/et_xmlfile-1.1.0-py3.9.egg-info/dependency_links.txt\n",
      "./anaconda3/lib/python3.9/site-packages/pycodestyle-2.8.0.dist-info/top_level.txt\n",
      "./anaconda3/lib/python3.9/site-packages/pycodestyle-2.8.0.dist-info/namespace_packages.txt\n",
      "./anaconda3/lib/python3.9/site-packages/pycodestyle-2.8.0.dist-info/entry_points.txt\n",
      "./anaconda3/lib/python3.9/site-packages/zipp-3.8.0.dist-info/top_level.txt\n",
      "./anaconda3/lib/python3.9/site-packages/anaconda_client-1.11.0-py3.9.egg-info/SOURCES.txt\n",
      "./anaconda3/lib/python3.9/site-packages/anaconda_client-1.11.0-py3.9.egg-info/requires.txt\n",
      "./anaconda3/lib/python3.9/site-packages/anaconda_client-1.11.0-py3.9.egg-info/top_level.txt\n",
      "./anaconda3/lib/python3.9/site-packages/anaconda_client-1.11.0-py3.9.egg-info/dependency_links.txt\n",
      "./anaconda3/lib/python3.9/site-packages/anaconda_client-1.11.0-py3.9.egg-info/entry_points.txt\n",
      "./anaconda3/lib/python3.9/site-packages/openpyxl-3.0.10-py3.9.egg-info/SOURCES.txt\n",
      "./anaconda3/lib/python3.9/site-packages/openpyxl-3.0.10-py3.9.egg-info/installed-files.txt\n",
      "./anaconda3/lib/python3.9/site-packages/openpyxl-3.0.10-py3.9.egg-info/requires.txt\n",
      "./anaconda3/lib/python3.9/site-packages/openpyxl-3.0.10-py3.9.egg-info/top_level.txt\n",
      "./anaconda3/lib/python3.9/site-packages/openpyxl-3.0.10-py3.9.egg-info/dependency_links.txt\n",
      "./anaconda3/lib/python3.9/site-packages/mkl_random-1.2.2.dist-info/top_level.txt\n",
      "./anaconda3/lib/python3.9/site-packages/mkl_random-1.2.2.dist-info/LICENSE.txt\n",
      "./anaconda3/lib/python3.9/site-packages/nose-1.3.7.dist-info/top_level.txt\n",
      "./anaconda3/lib/python3.9/site-packages/kiwisolver-1.4.2.dist-info/top_level.txt\n",
      "./anaconda3/lib/python3.9/site-packages/anaconda_project-0.11.1.dist-info/top_level.txt\n",
      "./anaconda3/lib/python3.9/site-packages/anaconda_project-0.11.1.dist-info/LICENSE.txt\n",
      "./anaconda3/lib/python3.9/site-packages/anaconda_project-0.11.1.dist-info/entry_points.txt\n",
      "./anaconda3/lib/python3.9/site-packages/nltk-3.7.dist-info/top_level.txt\n",
      "./anaconda3/lib/python3.9/site-packages/nltk-3.7.dist-info/LICENSE.txt\n",
      "./anaconda3/lib/python3.9/site-packages/nltk-3.7.dist-info/entry_points.txt\n",
      "./anaconda3/lib/python3.9/site-packages/jupyterlab_server-2.10.3.dist-info/top_level.txt\n",
      "./anaconda3/lib/python3.9/site-packages/Markdown-3.3.4.dist-info/top_level.txt\n",
      "./anaconda3/lib/python3.9/site-packages/Markdown-3.3.4.dist-info/entry_points.txt\n",
      "./anaconda3/lib/python3.9/site-packages/Protego-0.1.16.dist-info/top_level.txt\n",
      "./anaconda3/lib/python3.9/site-packages/regex-2022.7.9.dist-info/top_level.txt\n",
      "./anaconda3/lib/python3.9/site-packages/regex-2022.7.9.dist-info/LICENSE.txt\n",
      "./anaconda3/lib/python3.9/site-packages/daal4py-2021.6.0-py3.9.egg-info/SOURCES.txt\n",
      "./anaconda3/lib/python3.9/site-packages/daal4py-2021.6.0-py3.9.egg-info/requires.txt\n",
      "./anaconda3/lib/python3.9/site-packages/daal4py-2021.6.0-py3.9.egg-info/top_level.txt\n",
      "./anaconda3/lib/python3.9/site-packages/daal4py-2021.6.0-py3.9.egg-info/dependency_links.txt\n",
      "./anaconda3/lib/python3.9/site-packages/trio_websocket-0.9.2.dist-info/top_level.txt\n",
      "./anaconda3/lib/python3.9/site-packages/sympy/integrals/rubi/parsetools/header.py.txt\n",
      "./anaconda3/lib/python3.9/site-packages/sympy/parsing/latex/LICENSE.txt\n",
      "./anaconda3/lib/python3.9/site-packages/sympy/parsing/autolev/test-examples/README.txt\n",
      "./anaconda3/lib/python3.9/site-packages/wsproto-1.2.0.dist-info/top_level.txt\n",
      "./anaconda3/lib/python3.9/site-packages/appdirs-1.4.4-py3.9.egg-info/SOURCES.txt\n",
      "./anaconda3/lib/python3.9/site-packages/appdirs-1.4.4-py3.9.egg-info/top_level.txt\n",
      "./anaconda3/lib/python3.9/site-packages/appdirs-1.4.4-py3.9.egg-info/dependency_links.txt\n",
      "./anaconda3/lib/python3.9/site-packages/rise-5.7.1.dist-info/top_level.txt\n",
      "./anaconda3/lib/python3.9/site-packages/datashape-0.5.4-py3.9.egg-info/SOURCES.txt\n",
      "./anaconda3/lib/python3.9/site-packages/datashape-0.5.4-py3.9.egg-info/requires.txt\n",
      "./anaconda3/lib/python3.9/site-packages/datashape-0.5.4-py3.9.egg-info/top_level.txt\n",
      "./anaconda3/lib/python3.9/site-packages/datashape-0.5.4-py3.9.egg-info/dependency_links.txt\n",
      "./anaconda3/lib/python3.9/site-packages/mccabe-0.7.0.dist-info/top_level.txt\n",
      "./anaconda3/lib/python3.9/site-packages/mccabe-0.7.0.dist-info/entry_points.txt\n",
      "./anaconda3/lib/python3.9/site-packages/imagesize-1.4.1.dist-info/top_level.txt\n",
      "./anaconda3/lib/python3.9/site-packages/rope-0.22.0.dist-info/top_level.txt\n",
      "./anaconda3/lib/python3.9/site-packages/multipledispatch-0.6.0.dist-info/top_level.txt\n",
      "./anaconda3/lib/python3.9/site-packages/intake/catalog/tests/catalog_search/example_packages/ep-0.1.dist-info/entry_points.txt\n",
      "./anaconda3/lib/python3.9/site-packages/isort-5.9.3.dist-info/entry_points.txt\n",
      "./anaconda3/lib/python3.9/site-packages/charset_normalizer-2.0.4.dist-info/top_level.txt\n",
      "./anaconda3/lib/python3.9/site-packages/charset_normalizer-2.0.4.dist-info/entry_points.txt\n",
      "./anaconda3/lib/python3.9/site-packages/zope.interface-5.4.0.dist-info/top_level.txt\n",
      "./anaconda3/lib/python3.9/site-packages/zope.interface-5.4.0.dist-info/namespace_packages.txt\n",
      "./anaconda3/lib/python3.9/site-packages/zope.interface-5.4.0.dist-info/LICENSE.txt\n",
      "./anaconda3/lib/python3.9/site-packages/pep8-1.7.1-py3.9.egg-info/SOURCES.txt\n",
      "./anaconda3/lib/python3.9/site-packages/pep8-1.7.1-py3.9.egg-info/top_level.txt\n",
      "./anaconda3/lib/python3.9/site-packages/pep8-1.7.1-py3.9.egg-info/dependency_links.txt\n",
      "./anaconda3/lib/python3.9/site-packages/pep8-1.7.1-py3.9.egg-info/namespace_packages.txt\n",
      "./anaconda3/lib/python3.9/site-packages/pep8-1.7.1-py3.9.egg-info/entry_points.txt\n",
      "./anaconda3/lib/python3.9/site-packages/twisted/internet/iocpreactor/notes.txt\n",
      "./anaconda3/lib/python3.9/site-packages/click-8.0.4.dist-info/top_level.txt\n",
      "./anaconda3/lib/python3.9/site-packages/constantly-15.1.0-py3.8.egg-info/SOURCES.txt\n",
      "./anaconda3/lib/python3.9/site-packages/constantly-15.1.0-py3.8.egg-info/top_level.txt\n",
      "./anaconda3/lib/python3.9/site-packages/constantly-15.1.0-py3.8.egg-info/dependency_links.txt\n",
      "./anaconda3/lib/python3.9/site-packages/pycryptodomex-3.16.0.dist-info/top_level.txt\n",
      "./anaconda3/lib/python3.9/site-packages/decorator-5.1.1.dist-info/top_level.txt\n",
      "./anaconda3/lib/python3.9/site-packages/decorator-5.1.1.dist-info/LICENSE.txt\n",
      "./anaconda3/lib/python3.9/site-packages/pyserial-3.5.dist-info/top_level.txt\n",
      "./anaconda3/lib/python3.9/site-packages/pyserial-3.5.dist-info/entry_points.txt\n",
      "./anaconda3/lib/python3.9/site-packages/zict-2.1.0-py3.9.egg-info/SOURCES.txt\n",
      "./anaconda3/lib/python3.9/site-packages/zict-2.1.0-py3.9.egg-info/requires.txt\n",
      "./anaconda3/lib/python3.9/site-packages/zict-2.1.0-py3.9.egg-info/top_level.txt\n",
      "./anaconda3/lib/python3.9/site-packages/zict-2.1.0-py3.9.egg-info/dependency_links.txt\n",
      "./anaconda3/lib/python3.9/site-packages/mistune-0.8.4.dist-info/top_level.txt\n",
      "./anaconda3/lib/python3.9/site-packages/bcrypt-3.2.0.dist-info/top_level.txt\n",
      "./anaconda3/lib/python3.9/site-packages/imagecodecs-2021.8.26.dist-info/top_level.txt\n",
      "./anaconda3/lib/python3.9/site-packages/imagecodecs-2021.8.26.dist-info/entry_points.txt\n",
      "./anaconda3/lib/python3.9/site-packages/XlsxWriter-3.0.3.dist-info/top_level.txt\n",
      "./anaconda3/lib/python3.9/site-packages/XlsxWriter-3.0.3.dist-info/LICENSE.txt\n",
      "./anaconda3/lib/python3.9/site-packages/pip/_vendor/vendor.txt\n",
      "./anaconda3/lib/python3.9/site-packages/sphinxcontrib_serializinghtml-1.1.5.dist-info/top_level.txt\n",
      "./anaconda3/lib/python3.9/site-packages/sphinxcontrib_serializinghtml-1.1.5.dist-info/namespace_packages.txt\n",
      "./anaconda3/lib/python3.9/site-packages/fastjsonschema-2.16.2.dist-info/top_level.txt\n",
      "./anaconda3/lib/python3.9/site-packages/boto3-1.24.28.dist-info/top_level.txt\n",
      "./anaconda3/lib/python3.9/site-packages/prompt_toolkit-3.0.20.dist-info/top_level.txt\n",
      "./anaconda3/lib/python3.9/site-packages/distributed-2022.7.0.dist-info/top_level.txt\n",
      "./anaconda3/lib/python3.9/site-packages/distributed-2022.7.0.dist-info/LICENSE.txt\n",
      "./anaconda3/lib/python3.9/site-packages/distributed-2022.7.0.dist-info/entry_points.txt\n",
      "./anaconda3/lib/python3.9/site-packages/jupyter_core-4.11.1.dist-info/entry_points.txt\n",
      "./anaconda3/lib/python3.9/site-packages/sphinxcontrib_htmlhelp-2.0.0.dist-info/top_level.txt\n",
      "./anaconda3/lib/python3.9/site-packages/sphinxcontrib_htmlhelp-2.0.0.dist-info/namespace_packages.txt\n",
      "./anaconda3/lib/python3.9/site-packages/soupsieve-2.3.1.dist-info/top_level.txt\n",
      "./anaconda3/lib/python3.9/site-packages/scikit_learn_intelex-2021.20221004.171807-py3.9.egg-info/SOURCES.txt\n",
      "./anaconda3/lib/python3.9/site-packages/scikit_learn_intelex-2021.20221004.171807-py3.9.egg-info/requires.txt\n",
      "./anaconda3/lib/python3.9/site-packages/scikit_learn_intelex-2021.20221004.171807-py3.9.egg-info/top_level.txt\n",
      "./anaconda3/lib/python3.9/site-packages/scikit_learn_intelex-2021.20221004.171807-py3.9.egg-info/dependency_links.txt\n",
      "./anaconda3/lib/python3.9/site-packages/bkcharts-0.2-py3.9.egg-info/SOURCES.txt\n",
      "./anaconda3/lib/python3.9/site-packages/bkcharts-0.2-py3.9.egg-info/requires.txt\n",
      "./anaconda3/lib/python3.9/site-packages/bkcharts-0.2-py3.9.egg-info/top_level.txt\n",
      "./anaconda3/lib/python3.9/site-packages/bkcharts-0.2-py3.9.egg-info/dependency_links.txt\n",
      "./anaconda3/lib/python3.9/site-packages/pandas/tests/io/data/fixed_width/fixed_width_format.txt\n",
      "./anaconda3/lib/python3.9/site-packages/pandas/tests/io/data/gbq_fake_job.txt\n",
      "./anaconda3/lib/python3.9/site-packages/cryptography-37.0.1.dist-info/top_level.txt\n",
      "./anaconda3/lib/python3.9/site-packages/smart_open-5.2.1.dist-info/top_level.txt\n",
      "./anaconda3/lib/python3.9/site-packages/patsy-0.5.2-py3.9.egg-info/SOURCES.txt\n",
      "./anaconda3/lib/python3.9/site-packages/patsy-0.5.2-py3.9.egg-info/requires.txt\n",
      "./anaconda3/lib/python3.9/site-packages/patsy-0.5.2-py3.9.egg-info/top_level.txt\n",
      "./anaconda3/lib/python3.9/site-packages/patsy-0.5.2-py3.9.egg-info/dependency_links.txt\n",
      "./anaconda3/lib/python3.9/site-packages/rise/static/reveal.js/test/examples/assets/beeping.txt\n",
      "./anaconda3/lib/python3.9/site-packages/imageio-2.19.3.dist-info/top_level.txt\n",
      "./anaconda3/lib/python3.9/site-packages/imageio-2.19.3.dist-info/entry_points.txt\n",
      "./anaconda3/lib/python3.9/site-packages/nbconvert-6.4.4.dist-info/top_level.txt\n",
      "./anaconda3/lib/python3.9/site-packages/nbconvert-6.4.4.dist-info/entry_points.txt\n",
      "./anaconda3/lib/python3.9/site-packages/stepic-0.5.0.dist-info/top_level.txt\n",
      "./anaconda3/lib/python3.9/site-packages/stepic-0.5.0.dist-info/entry_points.txt\n",
      "./anaconda3/lib/python3.9/site-packages/Rtree-0.9.7.dist-info/top_level.txt\n",
      "./anaconda3/lib/python3.9/site-packages/Rtree-0.9.7.dist-info/LICENSE.txt\n",
      "./anaconda3/lib/python3.9/site-packages/argon2_cffi_bindings-21.2.0.dist-info/top_level.txt\n",
      "./anaconda3/lib/python3.9/site-packages/conda_content_trust-0.1.3.dist-info/top_level.txt\n",
      "./anaconda3/lib/python3.9/site-packages/conda_content_trust-0.1.3.dist-info/entry_points.txt\n",
      "./anaconda3/lib/python3.9/site-packages/olefile-0.46.dist-info/top_level.txt\n",
      "./anaconda3/lib/python3.9/site-packages/olefile-0.46.dist-info/LICENSE.txt\n",
      "./anaconda3/lib/python3.9/site-packages/python_dateutil-2.8.2.dist-info/top_level.txt\n",
      "./anaconda3/lib/python3.9/site-packages/PyDispatcher-2.0.5-py3.9.egg-info/SOURCES.txt\n",
      "./anaconda3/lib/python3.9/site-packages/PyDispatcher-2.0.5-py3.9.egg-info/top_level.txt\n",
      "./anaconda3/lib/python3.9/site-packages/PyDispatcher-2.0.5-py3.9.egg-info/dependency_links.txt\n",
      "./anaconda3/lib/python3.9/site-packages/jupyter_nbextensions_configurator-0.6.1.dist-info/top_level.txt\n",
      "./anaconda3/lib/python3.9/site-packages/jupyter_nbextensions_configurator-0.6.1.dist-info/LICENSE.txt\n",
      "./anaconda3/lib/python3.9/site-packages/jupyter_nbextensions_configurator-0.6.1.dist-info/entry_points.txt\n",
      "./anaconda3/lib/python3.9/site-packages/sklearn/datasets/images/README.txt\n",
      "./anaconda3/lib/python3.9/site-packages/sklearn/datasets/tests/data/svmlight_invalid.txt\n",
      "./anaconda3/lib/python3.9/site-packages/sklearn/datasets/tests/data/svmlight_classification.txt\n",
      "./anaconda3/lib/python3.9/site-packages/sklearn/datasets/tests/data/svmlight_multilabel.txt\n",
      "./anaconda3/lib/python3.9/site-packages/sklearn/datasets/tests/data/svmlight_invalid_order.txt\n",
      "./anaconda3/lib/python3.9/site-packages/black-22.6.0.dist-info/top_level.txt\n",
      "./anaconda3/lib/python3.9/site-packages/black-22.6.0.dist-info/entry_points.txt\n",
      "./anaconda3/lib/python3.9/site-packages/llvmlite-0.38.0-py3.9.egg-info/SOURCES.txt\n",
      "./anaconda3/lib/python3.9/site-packages/llvmlite-0.38.0-py3.9.egg-info/top_level.txt\n",
      "./anaconda3/lib/python3.9/site-packages/llvmlite-0.38.0-py3.9.egg-info/dependency_links.txt\n",
      "./anaconda3/lib/python3.9/site-packages/watchdog-2.1.6.dist-info/top_level.txt\n",
      "./anaconda3/lib/python3.9/site-packages/watchdog-2.1.6.dist-info/entry_points.txt\n",
      "./anaconda3/lib/python3.9/site-packages/ujson-5.4.0.dist-info/top_level.txt\n",
      "./anaconda3/lib/python3.9/site-packages/ujson-5.4.0.dist-info/LICENSE.txt\n",
      "./anaconda3/lib/python3.9/site-packages/binaryornot-0.4.4.dist-info/top_level.txt\n",
      "./anaconda3/lib/python3.9/site-packages/astropy-5.1.dist-info/top_level.txt\n",
      "./anaconda3/lib/python3.9/site-packages/astropy-5.1.dist-info/entry_points.txt\n",
      "./anaconda3/lib/python3.9/site-packages/Werkzeug-2.0.3.dist-info/top_level.txt\n",
      "./anaconda3/lib/python3.9/site-packages/SecretStorage-3.3.1.dist-info/top_level.txt\n",
      "./anaconda3/lib/python3.9/site-packages/wheel-0.37.1-py3.9.egg-info/SOURCES.txt\n",
      "./anaconda3/lib/python3.9/site-packages/wheel-0.37.1-py3.9.egg-info/requires.txt\n",
      "./anaconda3/lib/python3.9/site-packages/wheel-0.37.1-py3.9.egg-info/top_level.txt\n",
      "./anaconda3/lib/python3.9/site-packages/wheel-0.37.1-py3.9.egg-info/dependency_links.txt\n",
      "./anaconda3/lib/python3.9/site-packages/wheel-0.37.1-py3.9.egg-info/entry_points.txt\n",
      "./anaconda3/lib/python3.9/site-packages/docutils/parsers/rst/include/xhtml1-symbol.txt\n",
      "./anaconda3/lib/python3.9/site-packages/docutils/parsers/rst/include/isogrk4.txt\n",
      "./anaconda3/lib/python3.9/site-packages/docutils/parsers/rst/include/mmlextra-wide.txt\n",
      "./anaconda3/lib/python3.9/site-packages/docutils/parsers/rst/include/isomopf.txt\n",
      "./anaconda3/lib/python3.9/site-packages/docutils/parsers/rst/include/isobox.txt\n",
      "./anaconda3/lib/python3.9/site-packages/docutils/parsers/rst/include/isogrk2.txt\n",
      "./anaconda3/lib/python3.9/site-packages/docutils/parsers/rst/include/isomscr-wide.txt\n",
      "./anaconda3/lib/python3.9/site-packages/docutils/parsers/rst/include/isolat1.txt\n",
      "./anaconda3/lib/python3.9/site-packages/docutils/parsers/rst/include/isolat2.txt\n",
      "./anaconda3/lib/python3.9/site-packages/docutils/parsers/rst/include/xhtml1-lat1.txt\n",
      "./anaconda3/lib/python3.9/site-packages/docutils/parsers/rst/include/isogrk4-wide.txt\n",
      "./anaconda3/lib/python3.9/site-packages/docutils/parsers/rst/include/isocyr1.txt\n",
      "./anaconda3/lib/python3.9/site-packages/docutils/parsers/rst/include/README.txt\n",
      "./anaconda3/lib/python3.9/site-packages/docutils/parsers/rst/include/isomscr.txt\n",
      "./anaconda3/lib/python3.9/site-packages/docutils/parsers/rst/include/s5defs.txt\n",
      "./anaconda3/lib/python3.9/site-packages/docutils/parsers/rst/include/isoamsn.txt\n",
      "./anaconda3/lib/python3.9/site-packages/docutils/parsers/rst/include/isonum.txt\n",
      "./anaconda3/lib/python3.9/site-packages/docutils/parsers/rst/include/isoamsb.txt\n",
      "./anaconda3/lib/python3.9/site-packages/docutils/parsers/rst/include/isoamsr.txt\n",
      "./anaconda3/lib/python3.9/site-packages/docutils/parsers/rst/include/isopub.txt\n",
      "./anaconda3/lib/python3.9/site-packages/docutils/parsers/rst/include/isogrk1.txt\n",
      "./anaconda3/lib/python3.9/site-packages/docutils/parsers/rst/include/isomfrk.txt\n",
      "./anaconda3/lib/python3.9/site-packages/docutils/parsers/rst/include/isogrk3.txt\n",
      "./anaconda3/lib/python3.9/site-packages/docutils/parsers/rst/include/isoamsc.txt\n",
      "./anaconda3/lib/python3.9/site-packages/docutils/parsers/rst/include/mmlalias.txt\n",
      "./anaconda3/lib/python3.9/site-packages/docutils/parsers/rst/include/isomfrk-wide.txt\n",
      "./anaconda3/lib/python3.9/site-packages/docutils/parsers/rst/include/isoamso.txt\n",
      "./anaconda3/lib/python3.9/site-packages/docutils/parsers/rst/include/isodia.txt\n",
      "./anaconda3/lib/python3.9/site-packages/docutils/parsers/rst/include/isocyr2.txt\n",
      "./anaconda3/lib/python3.9/site-packages/docutils/parsers/rst/include/isoamsa.txt\n",
      "./anaconda3/lib/python3.9/site-packages/docutils/parsers/rst/include/isotech.txt\n",
      "./anaconda3/lib/python3.9/site-packages/docutils/parsers/rst/include/mmlextra.txt\n",
      "./anaconda3/lib/python3.9/site-packages/docutils/parsers/rst/include/xhtml1-special.txt\n",
      "./anaconda3/lib/python3.9/site-packages/docutils/parsers/rst/include/isomopf-wide.txt\n",
      "./anaconda3/lib/python3.9/site-packages/docutils/writers/s5_html/themes/README.txt\n",
      "./anaconda3/lib/python3.9/site-packages/docutils/writers/html4css1/template.txt\n",
      "./anaconda3/lib/python3.9/site-packages/docutils/writers/html5_polyglot/template.txt\n",
      "./anaconda3/lib/python3.9/site-packages/docutils/writers/pep_html/template.txt\n",
      "./anaconda3/lib/python3.9/site-packages/pandas-1.4.4-py3.9.egg-info/SOURCES.txt\n",
      "./anaconda3/lib/python3.9/site-packages/pandas-1.4.4-py3.9.egg-info/installed-files.txt\n",
      "./anaconda3/lib/python3.9/site-packages/pandas-1.4.4-py3.9.egg-info/requires.txt\n",
      "./anaconda3/lib/python3.9/site-packages/pandas-1.4.4-py3.9.egg-info/top_level.txt\n",
      "./anaconda3/lib/python3.9/site-packages/pandas-1.4.4-py3.9.egg-info/dependency_links.txt\n",
      "./anaconda3/lib/python3.9/site-packages/pandas-1.4.4-py3.9.egg-info/entry_points.txt\n",
      "./anaconda3/lib/python3.9/site-packages/textdistance-4.2.1.dist-info/top_level.txt\n",
      "./anaconda3/lib/python3.9/site-packages/tomlkit-0.11.1.dist-info/top_level.txt\n",
      "./anaconda3/lib/python3.9/site-packages/jupyter-1.0.0.dist-info/top_level.txt\n",
      "./anaconda3/lib/python3.9/site-packages/Sphinx-5.0.2.dist-info/top_level.txt\n",
      "./anaconda3/lib/python3.9/site-packages/Sphinx-5.0.2.dist-info/entry_points.txt\n",
      "./anaconda3/lib/python3.9/site-packages/platformdirs-2.5.2.dist-info/licenses/LICENSE.txt\n",
      "./anaconda3/lib/python3.9/site-packages/matplotlib-3.5.2.dist-info/top_level.txt\n",
      "./anaconda3/lib/python3.9/site-packages/matplotlib-3.5.2.dist-info/namespace_packages.txt\n",
      "./anaconda3/lib/python3.9/site-packages/glob2-0.7.dist-info/top_level.txt\n",
      "./anaconda3/lib/python3.9/site-packages/PyYAML-6.0-py3.9-linux-x86_64.egg-info/SOURCES.txt\n",
      "./anaconda3/lib/python3.9/site-packages/PyYAML-6.0-py3.9-linux-x86_64.egg-info/top_level.txt\n",
      "./anaconda3/lib/python3.9/site-packages/PyYAML-6.0-py3.9-linux-x86_64.egg-info/dependency_links.txt\n",
      "./anaconda3/lib/python3.9/site-packages/PyYAML-6.0-py3.9-linux-x86_64.egg-info/native_libs.txt\n",
      "./anaconda3/lib/python3.9/site-packages/cssutils-2.6.0.dist-info/top_level.txt\n",
      "./anaconda3/lib/python3.9/site-packages/cssutils-2.6.0.dist-info/entry_points.txt\n",
      "./anaconda3/lib/python3.9/site-packages/numba-0.55.1.dist-info/top_level.txt\n",
      "./anaconda3/lib/python3.9/site-packages/ipywidgets-7.6.5.dist-info/top_level.txt\n",
      "./anaconda3/lib/python3.9/site-packages/jsonschema-4.16.0.dist-info/entry_points.txt\n",
      "./anaconda3/lib/python3.9/site-packages/parsel-1.6.0.dist-info/top_level.txt\n",
      "./anaconda3/lib/python3.9/site-packages/pydot-1.4.2.dist-info/top_level.txt\n",
      "./anaconda3/lib/python3.9/site-packages/conda_repo_cli-1.0.20-py3.9.egg-info/SOURCES.txt\n",
      "./anaconda3/lib/python3.9/site-packages/conda_repo_cli-1.0.20-py3.9.egg-info/requires.txt\n",
      "./anaconda3/lib/python3.9/site-packages/conda_repo_cli-1.0.20-py3.9.egg-info/top_level.txt\n",
      "./anaconda3/lib/python3.9/site-packages/conda_repo_cli-1.0.20-py3.9.egg-info/dependency_links.txt\n",
      "./anaconda3/lib/python3.9/site-packages/conda_repo_cli-1.0.20-py3.9.egg-info/entry_points.txt\n",
      "./anaconda3/lib/python3.9/site-packages/nose/usage.txt\n",
      "./anaconda3/lib/python3.9/site-packages/conda_token-0.4.0.dist-info/top_level.txt\n",
      "./anaconda3/lib/python3.9/site-packages/conda_token-0.4.0.dist-info/entry_points.txt\n",
      "./anaconda3/lib/python3.9/site-packages/certifi-2022.9.14.dist-info/top_level.txt\n",
      "./anaconda3/lib/python3.9/site-packages/QtAwesome-1.0.3.dist-info/top_level.txt\n",
      "./anaconda3/lib/python3.9/site-packages/QtAwesome-1.0.3.dist-info/LICENSE.txt\n",
      "./anaconda3/lib/python3.9/site-packages/QtAwesome-1.0.3.dist-info/entry_points.txt\n",
      "./anaconda3/lib/python3.9/site-packages/numexpr-2.8.3.dist-info/AUTHORS.txt\n",
      "./anaconda3/lib/python3.9/site-packages/numexpr-2.8.3.dist-info/top_level.txt\n",
      "./anaconda3/lib/python3.9/site-packages/numexpr-2.8.3.dist-info/LICENSE.txt\n",
      "./anaconda3/lib/python3.9/site-packages/python_lsp_jsonrpc-1.0.0-py3.10.egg-info/SOURCES.txt\n",
      "./anaconda3/lib/python3.9/site-packages/python_lsp_jsonrpc-1.0.0-py3.10.egg-info/installed-files.txt\n",
      "./anaconda3/lib/python3.9/site-packages/python_lsp_jsonrpc-1.0.0-py3.10.egg-info/requires.txt\n",
      "./anaconda3/lib/python3.9/site-packages/python_lsp_jsonrpc-1.0.0-py3.10.egg-info/top_level.txt\n",
      "./anaconda3/lib/python3.9/site-packages/python_lsp_jsonrpc-1.0.0-py3.10.egg-info/dependency_links.txt\n",
      "./anaconda3/lib/python3.9/site-packages/pkginfo-1.8.2.dist-info/top_level.txt\n",
      "./anaconda3/lib/python3.9/site-packages/pkginfo-1.8.2.dist-info/LICENSE.txt\n",
      "./anaconda3/lib/python3.9/site-packages/pkginfo-1.8.2.dist-info/entry_points.txt\n",
      "./anaconda3/lib/python3.9/site-packages/jupyterlab_widgets-1.0.0.dist-info/top_level.txt\n",
      "./anaconda3/lib/python3.9/site-packages/conda_verify-3.4.2.dist-info/AUTHORS.txt\n",
      "./anaconda3/lib/python3.9/site-packages/conda_verify-3.4.2.dist-info/top_level.txt\n",
      "./anaconda3/lib/python3.9/site-packages/conda_verify-3.4.2.dist-info/LICENSE.txt\n",
      "./anaconda3/lib/python3.9/site-packages/conda_verify-3.4.2.dist-info/entry_points.txt\n",
      "./anaconda3/lib/python3.9/site-packages/boofuzz-0.4.1.dist-info/AUTHORS.txt\n",
      "./anaconda3/lib/python3.9/site-packages/boofuzz-0.4.1.dist-info/top_level.txt\n",
      "./anaconda3/lib/python3.9/site-packages/boofuzz-0.4.1.dist-info/LICENSE.txt\n",
      "./anaconda3/lib/python3.9/site-packages/boofuzz-0.4.1.dist-info/entry_points.txt\n",
      "./anaconda3/lib/python3.9/site-packages/Unidecode-1.2.0.dist-info/top_level.txt\n",
      "./anaconda3/lib/python3.9/site-packages/Unidecode-1.2.0.dist-info/entry_points.txt\n",
      "./anaconda3/lib/python3.9/site-packages/ipython-7.31.1.dist-info/top_level.txt\n",
      "./anaconda3/lib/python3.9/site-packages/ipython-7.31.1.dist-info/entry_points.txt\n",
      "./anaconda3/lib/python3.9/site-packages/traitlets-5.1.1.dist-info/top_level.txt\n",
      "./anaconda3/lib/python3.9/site-packages/PyQt5_sip-12.11.0-py3.9-linux-x86_64.egg-info/SOURCES.txt\n",
      "./anaconda3/lib/python3.9/site-packages/PyQt5_sip-12.11.0-py3.9-linux-x86_64.egg-info/top_level.txt\n",
      "./anaconda3/lib/python3.9/site-packages/PyQt5_sip-12.11.0-py3.9-linux-x86_64.egg-info/dependency_links.txt\n",
      "./anaconda3/lib/python3.9/site-packages/PyQt5_sip-12.11.0-py3.9-linux-x86_64.egg-info/native_libs.txt\n",
      "./anaconda3/lib/python3.9/site-packages/toolz-0.11.2.dist-info/top_level.txt\n",
      "./anaconda3/lib/python3.9/site-packages/toolz-0.11.2.dist-info/LICENSE.txt\n",
      "./anaconda3/lib/python3.9/site-packages/importlib_metadata-4.11.3.dist-info/top_level.txt\n",
      "./anaconda3/lib/python3.9/site-packages/gmpy2-2.1.2.dist-info/top_level.txt\n",
      "./anaconda3/lib/python3.9/site-packages/tblib-1.7.0.dist-info/top_level.txt\n",
      "./anaconda3/lib/python3.9/site-packages/jupyter_client-7.3.4.dist-info/entry_points.txt\n",
      "./anaconda3/lib/python3.9/site-packages/PyJWT-2.4.0.dist-info/top_level.txt\n",
      "./anaconda3/lib/python3.9/site-packages/wcwidth-0.2.5.dist-info/top_level.txt\n",
      "./anaconda3/lib/python3.9/site-packages/pyOpenSSL-22.0.0.dist-info/top_level.txt\n",
      "./anaconda3/lib/python3.9/site-packages/backports.functools_lru_cache-1.6.4.dist-info/top_level.txt\n",
      "./anaconda3/lib/python3.9/site-packages/websocket/tests/data/header02.txt\n",
      "./anaconda3/lib/python3.9/site-packages/websocket/tests/data/header01.txt\n",
      "./anaconda3/lib/python3.9/site-packages/requests-2.28.1.dist-info/top_level.txt\n",
      "./anaconda3/lib/python3.9/site-packages/text_unidecode-1.3.dist-info/top_level.txt\n",
      "./anaconda3/lib/python3.9/site-packages/hyperlink-21.0.0.dist-info/top_level.txt\n",
      "./anaconda3/lib/python3.9/site-packages/datashader-0.14.1.dist-info/top_level.txt\n",
      "./anaconda3/lib/python3.9/site-packages/datashader-0.14.1.dist-info/LICENSE.txt\n",
      "./anaconda3/lib/python3.9/site-packages/datashader-0.14.1.dist-info/entry_points.txt\n",
      "./anaconda3/lib/python3.9/site-packages/python_lsp_server-1.5.0.dist-info/top_level.txt\n",
      "./anaconda3/lib/python3.9/site-packages/python_lsp_server-1.5.0.dist-info/entry_points.txt\n",
      "./anaconda3/lib/python3.9/site-packages/pyasn1_modules-0.2.8-py3.6.egg-info/SOURCES.txt\n",
      "./anaconda3/lib/python3.9/site-packages/pyasn1_modules-0.2.8-py3.6.egg-info/requires.txt\n",
      "./anaconda3/lib/python3.9/site-packages/pyasn1_modules-0.2.8-py3.6.egg-info/top_level.txt\n",
      "./anaconda3/lib/python3.9/site-packages/pyasn1_modules-0.2.8-py3.6.egg-info/dependency_links.txt\n",
      "./anaconda3/lib/python3.9/site-packages/navigator_updater-0.3.0-py3.9.egg-info/SOURCES.txt\n",
      "./anaconda3/lib/python3.9/site-packages/navigator_updater-0.3.0-py3.9.egg-info/top_level.txt\n",
      "./anaconda3/lib/python3.9/site-packages/navigator_updater-0.3.0-py3.9.egg-info/dependency_links.txt\n",
      "./anaconda3/lib/python3.9/site-packages/navigator_updater-0.3.0-py3.9.egg-info/entry_points.txt\n",
      "./anaconda3/lib/python3.9/site-packages/panel-0.13.1.dist-info/top_level.txt\n",
      "./anaconda3/lib/python3.9/site-packages/panel-0.13.1.dist-info/LICENSE.txt\n",
      "./anaconda3/lib/python3.9/site-packages/panel-0.13.1.dist-info/entry_points.txt\n",
      "./anaconda3/lib/python3.9/site-packages/hvplot-0.8.0.dist-info/top_level.txt\n",
      "./anaconda3/lib/python3.9/site-packages/hvplot-0.8.0.dist-info/entry_points.txt\n",
      "./anaconda3/lib/python3.9/site-packages/webencodings-0.5.1-py3.9.egg-info/SOURCES.txt\n",
      "./anaconda3/lib/python3.9/site-packages/webencodings-0.5.1-py3.9.egg-info/top_level.txt\n",
      "./anaconda3/lib/python3.9/site-packages/webencodings-0.5.1-py3.9.egg-info/dependency_links.txt\n",
      "./anaconda3/lib/python3.9/site-packages/requests_file-1.5.1.dist-info/top_level.txt\n",
      "./anaconda3/lib/python3.9/site-packages/numpydoc-1.4.0.dist-info/top_level.txt\n",
      "./anaconda3/lib/python3.9/site-packages/numpydoc-1.4.0.dist-info/LICENSE.txt\n",
      "./anaconda3/lib/python3.9/site-packages/pyodbc-4.0.34.dist-info/top_level.txt\n",
      "./anaconda3/lib/python3.9/site-packages/pyodbc-4.0.34.dist-info/LICENSE.txt\n",
      "./anaconda3/lib/python3.9/site-packages/chardet-4.0.0.dist-info/top_level.txt\n",
      "./anaconda3/lib/python3.9/site-packages/chardet-4.0.0.dist-info/entry_points.txt\n",
      "./anaconda3/lib/python3.9/site-packages/pydbg-0.3.0.dist-info/top_level.txt\n",
      "./anaconda3/lib/python3.9/site-packages/statsmodels/tsa/vector_ar/tests/JMulTi_results/macrodata_jmulti_ct.txt\n",
      "./anaconda3/lib/python3.9/site-packages/statsmodels/tsa/vector_ar/tests/JMulTi_results/vecm_e6_jmulti_cos_diag.txt\n",
      "./anaconda3/lib/python3.9/site-packages/statsmodels/tsa/vector_ar/tests/JMulTi_results/macrodata_jmulti_ct_granger_causality_realgdp_realinv.txt\n",
      "./anaconda3/lib/python3.9/site-packages/statsmodels/tsa/vector_ar/tests/JMulTi_results/vecm_e6_jmulti_colo_lagorder.txt\n",
      "./anaconda3/lib/python3.9/site-packages/statsmodels/tsa/vector_ar/tests/JMulTi_results/vecm_e6_jmulti_ci_diag.txt\n",
      "./anaconda3/lib/python3.9/site-packages/statsmodels/tsa/vector_ar/tests/JMulTi_results/macrodata_jmulti_cs_granger_causality_realgdp.txt\n",
      "./anaconda3/lib/python3.9/site-packages/statsmodels/tsa/vector_ar/tests/JMulTi_results/vecm_e6_jmulti_ci_granger_causality_dp_r.txt\n",
      "./anaconda3/lib/python3.9/site-packages/statsmodels/tsa/vector_ar/tests/JMulTi_results/vecm_e6_jmulti_ncs_inst_causality_dp_r.txt\n",
      "./anaconda3/lib/python3.9/site-packages/statsmodels/tsa/vector_ar/tests/JMulTi_results/vecm_e6_jmulti_cili_fc5.txt\n",
      "./anaconda3/lib/python3.9/site-packages/statsmodels/tsa/vector_ar/tests/JMulTi_results/vecm_e6_jmulti_colo_inst_causality_dp_r.txt\n",
      "./anaconda3/lib/python3.9/site-packages/statsmodels/tsa/vector_ar/tests/JMulTi_results/vecm_e6_jmulti_co_inst_causality_dp_r.txt\n",
      "./anaconda3/lib/python3.9/site-packages/statsmodels/tsa/vector_ar/tests/JMulTi_results/vecm_e6_jmulti_ncs_diag.txt\n",
      "./anaconda3/lib/python3.9/site-packages/statsmodels/tsa/vector_ar/tests/JMulTi_results/vecm_e6_jmulti_ci_lagorder.txt\n",
      "./anaconda3/lib/python3.9/site-packages/statsmodels/tsa/vector_ar/tests/JMulTi_results/vecm_e6_jmulti_nc_granger_causality_dp_r.txt\n",
      "./anaconda3/lib/python3.9/site-packages/statsmodels/tsa/vector_ar/tests/JMulTi_results/vecm_e6_jmulti_cisli.txt\n",
      "./anaconda3/lib/python3.9/site-packages/statsmodels/tsa/vector_ar/tests/JMulTi_results/macrodata_jmulti_c_fc5.txt\n",
      "./anaconda3/lib/python3.9/site-packages/statsmodels/tsa/vector_ar/tests/JMulTi_results/vecm_e6_jmulti_cis_Sigmau.txt\n",
      "./anaconda3/lib/python3.9/site-packages/statsmodels/tsa/vector_ar/tests/JMulTi_results/macrodata_jmulti_nc_granger_causality_realcons_realgdp.txt\n",
      "./anaconda3/lib/python3.9/site-packages/statsmodels/tsa/vector_ar/tests/JMulTi_results/vecm_e6_jmulti_colo_granger_causality_dp_r.txt\n",
      "./anaconda3/lib/python3.9/site-packages/statsmodels/tsa/vector_ar/tests/JMulTi_results/macrodata_jmulti_ct_granger_causality_realgdp.txt\n",
      "./anaconda3/lib/python3.9/site-packages/statsmodels/tsa/vector_ar/tests/JMulTi_results/macrodata_jmulti_cs_granger_causality_realcons.txt\n",
      "./anaconda3/lib/python3.9/site-packages/statsmodels/tsa/vector_ar/tests/JMulTi_results/macrodata_jmulti_c_granger_causality_realinv.txt\n",
      "./anaconda3/lib/python3.9/site-packages/statsmodels/tsa/vector_ar/tests/JMulTi_results/macrodata_jmulti_cs_ir.txt\n",
      "./anaconda3/lib/python3.9/site-packages/statsmodels/tsa/vector_ar/tests/JMulTi_results/vecm_e6_jmulti_nc_granger_causality_r_dp.txt\n",
      "./anaconda3/lib/python3.9/site-packages/statsmodels/tsa/vector_ar/tests/JMulTi_results/vecm_e6_jmulti_co_ir.txt\n",
      "./anaconda3/lib/python3.9/site-packages/statsmodels/tsa/vector_ar/tests/JMulTi_results/macrodata_jmulti_cst_granger_causality_realcons.txt\n",
      "./anaconda3/lib/python3.9/site-packages/statsmodels/tsa/vector_ar/tests/JMulTi_results/macrodata_jmulti_cs.txt\n",
      "./anaconda3/lib/python3.9/site-packages/statsmodels/tsa/vector_ar/tests/JMulTi_results/macrodata_jmulti_ncs_granger_causality_realinv.txt\n",
      "./anaconda3/lib/python3.9/site-packages/statsmodels/tsa/vector_ar/tests/JMulTi_results/vecm_e6_jmulti_cos_inst_causality_r_dp.txt\n",
      "./anaconda3/lib/python3.9/site-packages/statsmodels/tsa/vector_ar/tests/JMulTi_results/macrodata_jmulti_nc_Sigmau.txt\n",
      "./anaconda3/lib/python3.9/site-packages/statsmodels/tsa/vector_ar/tests/JMulTi_results/macrodata_jmulti_ncs_granger_causality_realgdp_realinv.txt\n",
      "./anaconda3/lib/python3.9/site-packages/statsmodels/tsa/vector_ar/tests/JMulTi_results/vecm_e6_jmulti_cili_granger_causality_dp_r.txt\n",
      "./anaconda3/lib/python3.9/site-packages/statsmodels/tsa/vector_ar/tests/JMulTi_results/macrodata_jmulti_ncs_fc5.txt\n",
      "./anaconda3/lib/python3.9/site-packages/statsmodels/tsa/vector_ar/tests/JMulTi_results/macrodata_jmulti_cs_granger_causality_realgdp_realinv.txt\n",
      "./anaconda3/lib/python3.9/site-packages/statsmodels/tsa/vector_ar/tests/JMulTi_results/vecm_e6_jmulti_cos_inst_causality_dp_r.txt\n",
      "./anaconda3/lib/python3.9/site-packages/statsmodels/tsa/vector_ar/tests/JMulTi_results/vecm_e6_jmulti_ci_inst_causality_r_dp.txt\n",
      "./anaconda3/lib/python3.9/site-packages/statsmodels/tsa/vector_ar/tests/JMulTi_results/vecm_e6_jmulti_nc_inst_causality_dp_r.txt\n",
      "./anaconda3/lib/python3.9/site-packages/statsmodels/tsa/vector_ar/tests/JMulTi_results/macrodata_jmulti_nc_diag.txt\n",
      "./anaconda3/lib/python3.9/site-packages/statsmodels/tsa/vector_ar/tests/JMulTi_results/vecm_e6_jmulti_cisli_inst_causality_r_dp.txt\n",
      "./anaconda3/lib/python3.9/site-packages/statsmodels/tsa/vector_ar/tests/JMulTi_results/macrodata_jmulti_ct_diag.txt\n",
      "./anaconda3/lib/python3.9/site-packages/statsmodels/tsa/vector_ar/tests/JMulTi_results/macrodata_jmulti_cst_granger_causality_realcons_realinv.txt\n",
      "./anaconda3/lib/python3.9/site-packages/statsmodels/tsa/vector_ar/tests/JMulTi_results/vecm_e6_jmulti_ncs_ir.txt\n",
      "./anaconda3/lib/python3.9/site-packages/statsmodels/tsa/vector_ar/tests/JMulTi_results/macrodata_jmulti_cst_granger_causality_realcons_realgdp.txt\n",
      "./anaconda3/lib/python3.9/site-packages/statsmodels/tsa/vector_ar/tests/JMulTi_results/macrodata_jmulti_cs_fc5.txt\n",
      "./anaconda3/lib/python3.9/site-packages/statsmodels/tsa/vector_ar/tests/JMulTi_results/macrodata_jmulti_ct_granger_causality_realcons.txt\n",
      "./anaconda3/lib/python3.9/site-packages/statsmodels/tsa/vector_ar/tests/JMulTi_results/vecm_e6_jmulti_coslo_granger_causality_r_dp.txt\n",
      "./anaconda3/lib/python3.9/site-packages/statsmodels/tsa/vector_ar/tests/JMulTi_results/macrodata_jmulti_cs_granger_causality_realcons_realgdp.txt\n",
      "./anaconda3/lib/python3.9/site-packages/statsmodels/tsa/vector_ar/tests/JMulTi_results/vecm_e6_jmulti_co_granger_causality_r_dp.txt\n",
      "./anaconda3/lib/python3.9/site-packages/statsmodels/tsa/vector_ar/tests/JMulTi_results/vecm_e6_jmulti_ci_ir.txt\n",
      "./anaconda3/lib/python3.9/site-packages/statsmodels/tsa/vector_ar/tests/JMulTi_results/vecm_e6_jmulti_ncs_lagorder.txt\n",
      "./anaconda3/lib/python3.9/site-packages/statsmodels/tsa/vector_ar/tests/JMulTi_results/vecm_e6_jmulti_ci_fc5.txt\n",
      "./anaconda3/lib/python3.9/site-packages/statsmodels/tsa/vector_ar/tests/JMulTi_results/vecm_e6_jmulti_cili_granger_causality_r_dp.txt\n",
      "./anaconda3/lib/python3.9/site-packages/statsmodels/tsa/vector_ar/tests/JMulTi_results/macrodata_jmulti_nc_lagorder.txt\n",
      "./anaconda3/lib/python3.9/site-packages/statsmodels/tsa/vector_ar/tests/JMulTi_results/macrodata_jmulti_cst_lagorder.txt\n",
      "./anaconda3/lib/python3.9/site-packages/statsmodels/tsa/vector_ar/tests/JMulTi_results/vecm_e6_jmulti_co_Sigmau.txt\n",
      "./anaconda3/lib/python3.9/site-packages/statsmodels/tsa/vector_ar/tests/JMulTi_results/macrodata_jmulti_ct_Sigmau.txt\n",
      "./anaconda3/lib/python3.9/site-packages/statsmodels/tsa/vector_ar/tests/JMulTi_results/vecm_e6_jmulti_cisli_granger_causality_dp_r.txt\n",
      "./anaconda3/lib/python3.9/site-packages/statsmodels/tsa/vector_ar/tests/JMulTi_results/vecm_e6_jmulti_nc_lagorder.txt\n",
      "./anaconda3/lib/python3.9/site-packages/statsmodels/tsa/vector_ar/tests/JMulTi_results/vecm_e6_jmulti_colo_inst_causality_r_dp.txt\n",
      "./anaconda3/lib/python3.9/site-packages/statsmodels/tsa/vector_ar/tests/JMulTi_results/macrodata_jmulti_c_ir.txt\n",
      "./anaconda3/lib/python3.9/site-packages/statsmodels/tsa/vector_ar/tests/JMulTi_results/macrodata_jmulti_cs_lagorder.txt\n",
      "./anaconda3/lib/python3.9/site-packages/statsmodels/tsa/vector_ar/tests/JMulTi_results/vecm_e6_jmulti_ncs_granger_causality_dp_r.txt\n",
      "./anaconda3/lib/python3.9/site-packages/statsmodels/tsa/vector_ar/tests/JMulTi_results/vecm_e6_jmulti_colo_Sigmau.txt\n",
      "./anaconda3/lib/python3.9/site-packages/statsmodels/tsa/vector_ar/tests/JMulTi_results/macrodata_jmulti_cst_diag.txt\n",
      "./anaconda3/lib/python3.9/site-packages/statsmodels/tsa/vector_ar/tests/JMulTi_results/macrodata_jmulti_ct_fc5.txt\n",
      "./anaconda3/lib/python3.9/site-packages/statsmodels/tsa/vector_ar/tests/JMulTi_results/vecm_e6_jmulti_cili.txt\n",
      "./anaconda3/lib/python3.9/site-packages/statsmodels/tsa/vector_ar/tests/JMulTi_results/vecm_e6_jmulti_coslo_lagorder.txt\n",
      "./anaconda3/lib/python3.9/site-packages/statsmodels/tsa/vector_ar/tests/JMulTi_results/macrodata_jmulti_ct_granger_causality_realcons_realgdp.txt\n",
      "./anaconda3/lib/python3.9/site-packages/statsmodels/tsa/vector_ar/tests/JMulTi_results/vecm_e6_jmulti_co.txt\n",
      "./anaconda3/lib/python3.9/site-packages/statsmodels/tsa/vector_ar/tests/JMulTi_results/macrodata_jmulti_c_granger_causality_realcons.txt\n",
      "./anaconda3/lib/python3.9/site-packages/statsmodels/tsa/vector_ar/tests/JMulTi_results/vecm_e6_jmulti_cis_inst_causality_r_dp.txt\n",
      "./anaconda3/lib/python3.9/site-packages/statsmodels/tsa/vector_ar/tests/JMulTi_results/macrodata_jmulti_cs_Sigmau.txt\n",
      "./anaconda3/lib/python3.9/site-packages/statsmodels/tsa/vector_ar/tests/JMulTi_results/vecm_e6_jmulti_cili_lagorder.txt\n",
      "./anaconda3/lib/python3.9/site-packages/statsmodels/tsa/vector_ar/tests/JMulTi_results/vecm_e6_jmulti_cis_diag.txt\n",
      "./anaconda3/lib/python3.9/site-packages/statsmodels/tsa/vector_ar/tests/JMulTi_results/vecm_e6_jmulti_cisli_inst_causality_dp_r.txt\n",
      "./anaconda3/lib/python3.9/site-packages/statsmodels/tsa/vector_ar/tests/JMulTi_results/macrodata_jmulti_ncs_granger_causality_realcons_realgdp.txt\n",
      "./anaconda3/lib/python3.9/site-packages/statsmodels/tsa/vector_ar/tests/JMulTi_results/macrodata_jmulti_nc_fc5.txt\n",
      "./anaconda3/lib/python3.9/site-packages/statsmodels/tsa/vector_ar/tests/JMulTi_results/vecm_e6_jmulti_cis_granger_causality_dp_r.txt\n",
      "./anaconda3/lib/python3.9/site-packages/statsmodels/tsa/vector_ar/tests/JMulTi_results/vecm_e6_jmulti_cos.txt\n",
      "./anaconda3/lib/python3.9/site-packages/statsmodels/tsa/vector_ar/tests/JMulTi_results/macrodata_jmulti_nc_ir.txt\n",
      "./anaconda3/lib/python3.9/site-packages/statsmodels/tsa/vector_ar/tests/JMulTi_results/vecm_e6_jmulti_ncs.txt\n",
      "./anaconda3/lib/python3.9/site-packages/statsmodels/tsa/vector_ar/tests/JMulTi_results/macrodata_jmulti_c_granger_causality_realgdp_realinv.txt\n",
      "./anaconda3/lib/python3.9/site-packages/statsmodels/tsa/vector_ar/tests/JMulTi_results/vecm_e6_jmulti_cisli_diag.txt\n",
      "./anaconda3/lib/python3.9/site-packages/statsmodels/tsa/vector_ar/tests/JMulTi_results/macrodata_jmulti_cst.txt\n",
      "./anaconda3/lib/python3.9/site-packages/statsmodels/tsa/vector_ar/tests/JMulTi_results/macrodata_jmulti_ncs_Sigmau.txt\n",
      "./anaconda3/lib/python3.9/site-packages/statsmodels/tsa/vector_ar/tests/JMulTi_results/vecm_e6_jmulti_co_diag.txt\n",
      "./anaconda3/lib/python3.9/site-packages/statsmodels/tsa/vector_ar/tests/JMulTi_results/macrodata_jmulti_cs_granger_causality_realcons_realinv.txt\n",
      "./anaconda3/lib/python3.9/site-packages/statsmodels/tsa/vector_ar/tests/JMulTi_results/vecm_e6_jmulti_nc_ir.txt\n",
      "./anaconda3/lib/python3.9/site-packages/statsmodels/tsa/vector_ar/tests/JMulTi_results/macrodata_jmulti_cst_ir.txt\n",
      "./anaconda3/lib/python3.9/site-packages/statsmodels/tsa/vector_ar/tests/JMulTi_results/vecm_e6_jmulti_colo_diag.txt\n",
      "./anaconda3/lib/python3.9/site-packages/statsmodels/tsa/vector_ar/tests/JMulTi_results/vecm_e6_jmulti_co_inst_causality_r_dp.txt\n",
      "./anaconda3/lib/python3.9/site-packages/statsmodels/tsa/vector_ar/tests/JMulTi_results/vecm_e6_jmulti_co_granger_causality_dp_r.txt\n",
      "./anaconda3/lib/python3.9/site-packages/statsmodels/tsa/vector_ar/tests/JMulTi_results/vecm_e6_jmulti_colo_ir.txt\n",
      "./anaconda3/lib/python3.9/site-packages/statsmodels/tsa/vector_ar/tests/JMulTi_results/vecm_e6_jmulti_ci_granger_causality_r_dp.txt\n",
      "./anaconda3/lib/python3.9/site-packages/statsmodels/tsa/vector_ar/tests/JMulTi_results/macrodata_jmulti_nc_granger_causality_realgdp.txt\n",
      "./anaconda3/lib/python3.9/site-packages/statsmodels/tsa/vector_ar/tests/JMulTi_results/vecm_e6_jmulti_colo_fc5.txt\n",
      "./anaconda3/lib/python3.9/site-packages/statsmodels/tsa/vector_ar/tests/JMulTi_results/macrodata_jmulti_cst_granger_causality_realinv.txt\n",
      "./anaconda3/lib/python3.9/site-packages/statsmodels/tsa/vector_ar/tests/JMulTi_results/vecm_e6_jmulti_cis_inst_causality_dp_r.txt\n",
      "./anaconda3/lib/python3.9/site-packages/statsmodels/tsa/vector_ar/tests/JMulTi_results/macrodata_jmulti_cst_granger_causality_realgdp_realinv.txt\n",
      "./anaconda3/lib/python3.9/site-packages/statsmodels/tsa/vector_ar/tests/JMulTi_results/macrodata_jmulti_cst_Sigmau.txt\n",
      "./anaconda3/lib/python3.9/site-packages/statsmodels/tsa/vector_ar/tests/JMulTi_results/macrodata_jmulti_ncs_lagorder.txt\n",
      "./anaconda3/lib/python3.9/site-packages/statsmodels/tsa/vector_ar/tests/JMulTi_results/macrodata_jmulti_nc_granger_causality_realgdp_realinv.txt\n",
      "./anaconda3/lib/python3.9/site-packages/statsmodels/tsa/vector_ar/tests/JMulTi_results/macrodata_jmulti_ct_lagorder.txt\n",
      "./anaconda3/lib/python3.9/site-packages/statsmodels/tsa/vector_ar/tests/JMulTi_results/macrodata_jmulti_cs_granger_causality_realinv.txt\n",
      "./anaconda3/lib/python3.9/site-packages/statsmodels/tsa/vector_ar/tests/JMulTi_results/vecm_e6_jmulti_cisli_Sigmau.txt\n",
      "./anaconda3/lib/python3.9/site-packages/statsmodels/tsa/vector_ar/tests/JMulTi_results/vecm_e6_jmulti_cos_granger_causality_dp_r.txt\n",
      "./anaconda3/lib/python3.9/site-packages/statsmodels/tsa/vector_ar/tests/JMulTi_results/vecm_e6_jmulti_cis_lagorder.txt\n",
      "./anaconda3/lib/python3.9/site-packages/statsmodels/tsa/vector_ar/tests/JMulTi_results/macrodata_jmulti_ct_ir.txt\n",
      "./anaconda3/lib/python3.9/site-packages/statsmodels/tsa/vector_ar/tests/JMulTi_results/vecm_e6_jmulti_nc_Sigmau.txt\n",
      "./anaconda3/lib/python3.9/site-packages/statsmodels/tsa/vector_ar/tests/JMulTi_results/macrodata_jmulti_cst_fc5.txt\n",
      "./anaconda3/lib/python3.9/site-packages/statsmodels/tsa/vector_ar/tests/JMulTi_results/macrodata_jmulti_c_Sigmau.txt\n",
      "./anaconda3/lib/python3.9/site-packages/statsmodels/tsa/vector_ar/tests/JMulTi_results/vecm_e6_jmulti_cis_ir.txt\n",
      "./anaconda3/lib/python3.9/site-packages/statsmodels/tsa/vector_ar/tests/JMulTi_results/vecm_e6_jmulti_cisli_granger_causality_r_dp.txt\n",
      "./anaconda3/lib/python3.9/site-packages/statsmodels/tsa/vector_ar/tests/JMulTi_results/macrodata_jmulti_cst_granger_causality_realgdp.txt\n",
      "./anaconda3/lib/python3.9/site-packages/statsmodels/tsa/vector_ar/tests/JMulTi_results/vecm_e6_jmulti_cis_fc5.txt\n",
      "./anaconda3/lib/python3.9/site-packages/statsmodels/tsa/vector_ar/tests/JMulTi_results/vecm_e6_jmulti_ncs_fc5.txt\n",
      "./anaconda3/lib/python3.9/site-packages/statsmodels/tsa/vector_ar/tests/JMulTi_results/vecm_e6_jmulti_cisli_lagorder.txt\n",
      "./anaconda3/lib/python3.9/site-packages/statsmodels/tsa/vector_ar/tests/JMulTi_results/macrodata_jmulti_cs_diag.txt\n",
      "./anaconda3/lib/python3.9/site-packages/statsmodels/tsa/vector_ar/tests/JMulTi_results/macrodata_jmulti_c.txt\n",
      "./anaconda3/lib/python3.9/site-packages/statsmodels/tsa/vector_ar/tests/JMulTi_results/macrodata_jmulti_nc.txt\n",
      "./anaconda3/lib/python3.9/site-packages/statsmodels/tsa/vector_ar/tests/JMulTi_results/macrodata_jmulti_ncs.txt\n",
      "./anaconda3/lib/python3.9/site-packages/statsmodels/tsa/vector_ar/tests/JMulTi_results/macrodata_jmulti_ncs_granger_causality_realcons_realinv.txt\n",
      "./anaconda3/lib/python3.9/site-packages/statsmodels/tsa/vector_ar/tests/JMulTi_results/vecm_e6_jmulti_ci.txt\n",
      "./anaconda3/lib/python3.9/site-packages/statsmodels/tsa/vector_ar/tests/JMulTi_results/vecm_e6_jmulti_colo_granger_causality_r_dp.txt\n",
      "./anaconda3/lib/python3.9/site-packages/statsmodels/tsa/vector_ar/tests/JMulTi_results/vecm_e6_jmulti_coslo.txt\n",
      "./anaconda3/lib/python3.9/site-packages/statsmodels/tsa/vector_ar/tests/JMulTi_results/macrodata_jmulti_ncs_ir.txt\n",
      "./anaconda3/lib/python3.9/site-packages/statsmodels/tsa/vector_ar/tests/JMulTi_results/vecm_e6_jmulti_cos_fc5.txt\n",
      "./anaconda3/lib/python3.9/site-packages/statsmodels/tsa/vector_ar/tests/JMulTi_results/macrodata_jmulti_ncs_diag.txt\n",
      "./anaconda3/lib/python3.9/site-packages/statsmodels/tsa/vector_ar/tests/JMulTi_results/macrodata_jmulti_c_granger_causality_realcons_realgdp.txt\n",
      "./anaconda3/lib/python3.9/site-packages/statsmodels/tsa/vector_ar/tests/JMulTi_results/vecm_e6_jmulti_nc_diag.txt\n",
      "./anaconda3/lib/python3.9/site-packages/statsmodels/tsa/vector_ar/tests/JMulTi_results/vecm_e6_jmulti_cos_lagorder.txt\n",
      "./anaconda3/lib/python3.9/site-packages/statsmodels/tsa/vector_ar/tests/JMulTi_results/macrodata_jmulti_nc_granger_causality_realinv.txt\n",
      "./anaconda3/lib/python3.9/site-packages/statsmodels/tsa/vector_ar/tests/JMulTi_results/vecm_e6_jmulti_nc_inst_causality_r_dp.txt\n",
      "./anaconda3/lib/python3.9/site-packages/statsmodels/tsa/vector_ar/tests/JMulTi_results/vecm_e6_jmulti_coslo_Sigmau.txt\n",
      "./anaconda3/lib/python3.9/site-packages/statsmodels/tsa/vector_ar/tests/JMulTi_results/vecm_e6_jmulti_ci_Sigmau.txt\n",
      "./anaconda3/lib/python3.9/site-packages/statsmodels/tsa/vector_ar/tests/JMulTi_results/vecm_e6_jmulti_coslo_ir.txt\n",
      "./anaconda3/lib/python3.9/site-packages/statsmodels/tsa/vector_ar/tests/JMulTi_results/vecm_e6_jmulti_cili_inst_causality_r_dp.txt\n",
      "./anaconda3/lib/python3.9/site-packages/statsmodels/tsa/vector_ar/tests/JMulTi_results/macrodata_jmulti_ct_granger_causality_realcons_realinv.txt\n",
      "./anaconda3/lib/python3.9/site-packages/statsmodels/tsa/vector_ar/tests/JMulTi_results/macrodata_jmulti_c_granger_causality_realgdp.txt\n",
      "./anaconda3/lib/python3.9/site-packages/statsmodels/tsa/vector_ar/tests/JMulTi_results/vecm_e6_jmulti_co_lagorder.txt\n",
      "./anaconda3/lib/python3.9/site-packages/statsmodels/tsa/vector_ar/tests/JMulTi_results/vecm_e6_jmulti_co_fc5.txt\n",
      "./anaconda3/lib/python3.9/site-packages/statsmodels/tsa/vector_ar/tests/JMulTi_results/vecm_e6_jmulti_nc.txt\n",
      "./anaconda3/lib/python3.9/site-packages/statsmodels/tsa/vector_ar/tests/JMulTi_results/vecm_e6_jmulti_ncs_inst_causality_r_dp.txt\n",
      "./anaconda3/lib/python3.9/site-packages/statsmodels/tsa/vector_ar/tests/JMulTi_results/vecm_e6_jmulti_colo.txt\n",
      "./anaconda3/lib/python3.9/site-packages/statsmodels/tsa/vector_ar/tests/JMulTi_results/vecm_e6_jmulti_cis.txt\n",
      "./anaconda3/lib/python3.9/site-packages/statsmodels/tsa/vector_ar/tests/JMulTi_results/vecm_e6_jmulti_cili_ir.txt\n",
      "./anaconda3/lib/python3.9/site-packages/statsmodels/tsa/vector_ar/tests/JMulTi_results/vecm_e6_jmulti_cisli_ir.txt\n",
      "./anaconda3/lib/python3.9/site-packages/statsmodels/tsa/vector_ar/tests/JMulTi_results/vecm_e6_jmulti_nc_fc5.txt\n",
      "./anaconda3/lib/python3.9/site-packages/statsmodels/tsa/vector_ar/tests/JMulTi_results/vecm_e6_jmulti_cili_inst_causality_dp_r.txt\n",
      "./anaconda3/lib/python3.9/site-packages/statsmodels/tsa/vector_ar/tests/JMulTi_results/vecm_e6_jmulti_cili_Sigmau.txt\n",
      "./anaconda3/lib/python3.9/site-packages/statsmodels/tsa/vector_ar/tests/JMulTi_results/macrodata_jmulti_c_granger_causality_realcons_realinv.txt\n",
      "./anaconda3/lib/python3.9/site-packages/statsmodels/tsa/vector_ar/tests/JMulTi_results/vecm_e6_jmulti_coslo_fc5.txt\n",
      "./anaconda3/lib/python3.9/site-packages/statsmodels/tsa/vector_ar/tests/JMulTi_results/macrodata_jmulti_ncs_granger_causality_realcons.txt\n",
      "./anaconda3/lib/python3.9/site-packages/statsmodels/tsa/vector_ar/tests/JMulTi_results/macrodata_jmulti_nc_granger_causality_realcons_realinv.txt\n",
      "./anaconda3/lib/python3.9/site-packages/statsmodels/tsa/vector_ar/tests/JMulTi_results/vecm_e6_jmulti_cos_granger_causality_r_dp.txt\n",
      "./anaconda3/lib/python3.9/site-packages/statsmodels/tsa/vector_ar/tests/JMulTi_results/vecm_e6_jmulti_cis_granger_causality_r_dp.txt\n",
      "./anaconda3/lib/python3.9/site-packages/statsmodels/tsa/vector_ar/tests/JMulTi_results/vecm_e6_jmulti_ci_inst_causality_dp_r.txt\n",
      "./anaconda3/lib/python3.9/site-packages/statsmodels/tsa/vector_ar/tests/JMulTi_results/vecm_e6_jmulti_coslo_diag.txt\n",
      "./anaconda3/lib/python3.9/site-packages/statsmodels/tsa/vector_ar/tests/JMulTi_results/macrodata_jmulti_c_diag.txt\n",
      "./anaconda3/lib/python3.9/site-packages/statsmodels/tsa/vector_ar/tests/JMulTi_results/vecm_e6_jmulti_cili_diag.txt\n",
      "./anaconda3/lib/python3.9/site-packages/statsmodels/tsa/vector_ar/tests/JMulTi_results/vecm_e6_jmulti_cisli_fc5.txt\n",
      "./anaconda3/lib/python3.9/site-packages/statsmodels/tsa/vector_ar/tests/JMulTi_results/vecm_e6_jmulti_coslo_inst_causality_r_dp.txt\n",
      "./anaconda3/lib/python3.9/site-packages/statsmodels/tsa/vector_ar/tests/JMulTi_results/macrodata_jmulti_nc_granger_causality_realcons.txt\n",
      "./anaconda3/lib/python3.9/site-packages/statsmodels/tsa/vector_ar/tests/JMulTi_results/vecm_e6_jmulti_coslo_inst_causality_dp_r.txt\n",
      "./anaconda3/lib/python3.9/site-packages/statsmodels/tsa/vector_ar/tests/JMulTi_results/vecm_e6_jmulti_ncs_granger_causality_r_dp.txt\n",
      "./anaconda3/lib/python3.9/site-packages/statsmodels/tsa/vector_ar/tests/JMulTi_results/vecm_e6_jmulti_ncs_Sigmau.txt\n",
      "./anaconda3/lib/python3.9/site-packages/statsmodels/tsa/vector_ar/tests/JMulTi_results/macrodata_jmulti_ct_granger_causality_realinv.txt\n",
      "./anaconda3/lib/python3.9/site-packages/statsmodels/tsa/vector_ar/tests/JMulTi_results/macrodata_jmulti_c_lagorder.txt\n",
      "./anaconda3/lib/python3.9/site-packages/statsmodels/tsa/vector_ar/tests/JMulTi_results/vecm_e6_jmulti_coslo_granger_causality_dp_r.txt\n",
      "./anaconda3/lib/python3.9/site-packages/statsmodels/tsa/vector_ar/tests/JMulTi_results/vecm_e6_jmulti_cos_ir.txt\n",
      "./anaconda3/lib/python3.9/site-packages/statsmodels/tsa/vector_ar/tests/JMulTi_results/vecm_e6_jmulti_cos_Sigmau.txt\n",
      "./anaconda3/lib/python3.9/site-packages/statsmodels/tsa/vector_ar/tests/JMulTi_results/macrodata_jmulti_ncs_granger_causality_realgdp.txt\n",
      "./anaconda3/lib/python3.9/site-packages/statsmodels/LICENSE.txt\n",
      "./anaconda3/lib/python3.9/site-packages/statsmodels/regression/tests/results/leverage_influence_ols_nostars.txt\n",
      "./anaconda3/lib/python3.9/site-packages/statsmodels/discrete/tests/results/mn_logit_summary.txt\n",
      "./anaconda3/lib/python3.9/site-packages/statsmodels/stats/libqsturng/LICENSE.txt\n",
      "./anaconda3/lib/python3.9/site-packages/statsmodels/stats/tests/test_data.txt\n",
      "./anaconda3/lib/python3.9/site-packages/Pillow-9.2.0-py3.9.egg-info/SOURCES.txt\n",
      "./anaconda3/lib/python3.9/site-packages/Pillow-9.2.0-py3.9.egg-info/installed-files.txt\n",
      "./anaconda3/lib/python3.9/site-packages/Pillow-9.2.0-py3.9.egg-info/requires.txt\n",
      "./anaconda3/lib/python3.9/site-packages/Pillow-9.2.0-py3.9.egg-info/top_level.txt\n",
      "./anaconda3/lib/python3.9/site-packages/Pillow-9.2.0-py3.9.egg-info/dependency_links.txt\n",
      "./anaconda3/lib/python3.9/site-packages/h5py-3.7.0.dist-info/top_level.txt\n",
      "./anaconda3/lib/python3.9/site-packages/lazy_object_proxy-1.6.0.dist-info/top_level.txt\n",
      "./anaconda3/lib/python3.9/site-packages/premailer-3.10.0.dist-info/top_level.txt\n",
      "./anaconda3/lib/python3.9/site-packages/dask/array/NUMPY_LICENSE.txt\n",
      "./anaconda3/lib/python3.9/site-packages/outcome-1.2.0.dist-info/top_level.txt\n",
      "./anaconda3/lib/python3.9/site-packages/atomicwrites-1.4.0.dist-info/top_level.txt\n",
      "./anaconda3/lib/python3.9/site-packages/filelock-3.6.0.dist-info/top_level.txt\n",
      "./anaconda3/lib/python3.9/site-packages/seaborn-0.11.2.dist-info/top_level.txt\n",
      "./anaconda3/lib/python3.9/site-packages/Pygments-2.11.2.dist-info/top_level.txt\n",
      "./anaconda3/lib/python3.9/site-packages/Pygments-2.11.2.dist-info/entry_points.txt\n",
      "./anaconda3/lib/python3.9/site-packages/backports.weakref-1.0.post1-py2.7.egg-info/SOURCES.txt\n",
      "./anaconda3/lib/python3.9/site-packages/backports.weakref-1.0.post1-py2.7.egg-info/top_level.txt\n",
      "./anaconda3/lib/python3.9/site-packages/backports.weakref-1.0.post1-py2.7.egg-info/dependency_links.txt\n",
      "./anaconda3/lib/python3.9/site-packages/PySocks-1.7.1.dist-info/top_level.txt\n",
      "./anaconda3/lib/python3.9/site-packages/setuptools-63.4.1-py3.9.egg-info/SOURCES.txt\n",
      "./anaconda3/lib/python3.9/site-packages/setuptools-63.4.1-py3.9.egg-info/requires.txt\n",
      "./anaconda3/lib/python3.9/site-packages/setuptools-63.4.1-py3.9.egg-info/top_level.txt\n",
      "./anaconda3/lib/python3.9/site-packages/setuptools-63.4.1-py3.9.egg-info/dependency_links.txt\n",
      "./anaconda3/lib/python3.9/site-packages/setuptools-63.4.1-py3.9.egg-info/entry_points.txt\n",
      "./anaconda3/lib/python3.9/site-packages/anaconda_navigator-2.3.2-py3.9.egg-info/SOURCES.txt\n",
      "./anaconda3/lib/python3.9/site-packages/anaconda_navigator-2.3.2-py3.9.egg-info/top_level.txt\n",
      "./anaconda3/lib/python3.9/site-packages/anaconda_navigator-2.3.2-py3.9.egg-info/dependency_links.txt\n",
      "./anaconda3/lib/python3.9/site-packages/anaconda_navigator-2.3.2-py3.9.egg-info/entry_points.txt\n",
      "./anaconda3/lib/python3.9/site-packages/holoviews-1.15.0.dist-info/top_level.txt\n",
      "./anaconda3/lib/python3.9/site-packages/holoviews-1.15.0.dist-info/LICENSE.txt\n",
      "./anaconda3/lib/python3.9/site-packages/holoviews-1.15.0.dist-info/entry_points.txt\n",
      "./anaconda3/lib/python3.9/site-packages/MarkupSafe-2.0.1.dist-info/top_level.txt\n",
      "./anaconda3/lib/python3.9/site-packages/prometheus_client-0.14.1.dist-info/top_level.txt\n",
      "./anaconda3/lib/python3.9/site-packages/lxml/isoschematron/resources/xsl/iso-schematron-xslt1/readme.txt\n",
      "./anaconda3/lib/python3.9/site-packages/lxml-4.9.1.dist-info/LICENSES.txt\n",
      "./anaconda3/lib/python3.9/site-packages/lxml-4.9.1.dist-info/top_level.txt\n",
      "./anaconda3/lib/python3.9/site-packages/lxml-4.9.1.dist-info/LICENSE.txt\n",
      "./anaconda3/lib/python3.9/lib2to3/Grammar.txt\n",
      "./anaconda3/lib/python3.9/lib2to3/PatternGrammar.txt\n",
      "./anaconda3/licensing/compiler/openmp/third-party-programs.txt\n",
      "./anaconda3/share/sql_features.txt\n",
      "./anaconda3/share/errcodes.txt\n",
      "./anaconda3/share/jupyter/lab/static/9473.5a9c6a963b6aaa178bc3.js.LICENSE.txt\n",
      "./anaconda3/share/jupyter/lab/static/6064.1a4a55a09511d4907870.js.LICENSE.txt\n",
      "./anaconda3/share/jupyter/lab/static/jlab_core.081dc2b13065c79d8463.js.LICENSE.txt\n",
      "./anaconda3/share/jupyter/lab/static/7294.f71c2889fedcd71bd1ee.js.LICENSE.txt\n",
      "./anaconda3/share/jupyter/lab/static/5493.c4714ef77ba6a59aec45.js.LICENSE.txt\n",
      "./anaconda3/share/jupyter/lab/static/807.96166378e2efe232d81e.js.LICENSE.txt\n",
      "./anaconda3/share/jupyter/lab/static/3935.4159b022aa6d82e44127.js.LICENSE.txt\n",
      "./anaconda3/share/jupyter/lab/static/1944.9bb345a40325c23313e9.js.LICENSE.txt\n",
      "./anaconda3/share/jupyter/lab/static/911.0c08f040896753efc653.js.LICENSE.txt\n",
      "./anaconda3/share/jupyter/lab/static/1036.e3242066e92a791822b6.js.LICENSE.txt\n",
      "./anaconda3/share/jupyter/lab/static/5096.96faf5ddac346a9ad9c3.js.LICENSE.txt\n",
      "./anaconda3/share/jupyter/labextensions/@jupyter-widgets/jupyterlab-manager/static/638.f3e5e34a28f3334d4f08.js.LICENSE.txt\n",
      "./anaconda3/share/jupyter/labextensions/@jupyter-widgets/jupyterlab-manager/static/95.b5a5ff10000a6051fa99.js.LICENSE.txt\n",
      "./anaconda3/share/jupyter/labextensions/jupyterlab-plotly/static/478.f9a7116e09cbfb956212.js.LICENSE.txt\n",
      "./anaconda3/share/jupyter/labextensions/jupyterlab-plotly/static/486.52aa9063b291ec574154.js.LICENSE.txt\n",
      "./anaconda3/share/jupyter/nbextensions/spellchecker/typo/LICENSE.txt\n",
      "./anaconda3/share/jupyter/nbextensions/varInspector/tablesorter_LICENSE.txt\n",
      "./anaconda3/share/jupyter/nbextensions/rise/reveal.js/test/examples/assets/beeping.txt\n",
      "./anaconda3/share/jupyter/nbextensions/jupyterlab-plotly/index.js.LICENSE.txt\n",
      "./anaconda3/share/qt/3rd_party_licenses/qtscript/tests/benchmarks/script/sunspider/tests/LICENSE.txt\n",
      "./anaconda3/share/qt/3rd_party_licenses/qtscript/tests/benchmarks/script/v8/tests/LICENSE.txt\n",
      "./anaconda3/share/qt/3rd_party_licenses/qtvirtualkeyboard/src/plugins/lipi-toolkit/3rdparty/lipi-toolkit/license.txt\n",
      "./anaconda3/share/qt/3rd_party_licenses/qtvirtualkeyboard/src/plugins/lipi-toolkit/3rdparty/lipi-toolkit/MIT_LICENSE.txt\n",
      "./anaconda3/share/qt/3rd_party_licenses/qtquickcontrols/src/extras/Styles/Flat/fonts/LICENSE.txt\n",
      "./anaconda3/share/qt/3rd_party_licenses/qtquickcontrols/examples/quickcontrols/extras/gallery/fonts/LICENSE.txt\n",
      "./anaconda3/share/qt/3rd_party_licenses/qtmultimedia/examples/multimedia/spectrum/3rdparty/fftreal/license.txt\n",
      "./anaconda3/share/qt/3rd_party_licenses/qtsvg/src/svg/XSVG_LICENSE.txt\n",
      "./anaconda3/share/qt/3rd_party_licenses/qtquick3d/src/3rdparty/assimp/src/contrib/rapidjson/license.txt\n",
      "./anaconda3/share/qt/3rd_party_licenses/qtquick3d/src/3rdparty/assimp/src/contrib/zlib/contrib/dotzlib/LICENSE_1_0.txt\n",
      "./anaconda3/share/qt/3rd_party_licenses/qtquick3d/src/3rdparty/assimp/src/contrib/clipper/License.txt\n",
      "./anaconda3/share/qt/3rd_party_licenses/qtdoc/examples/demos/coffee/LICENSE.txt\n",
      "./anaconda3/share/qt/3rd_party_licenses/qtdoc/doc/src/snippets/legal/CatharonLicense.txt\n",
      "./anaconda3/share/qt/3rd_party_licenses/qtpurchasing/src/android/src/LICENSE-APACHE-2.0.txt\n",
      "./anaconda3/share/qt/3rd_party_licenses/qtquickcontrols2/src/imports/controls/material/LICENSE_ANGULARJS.txt\n",
      "./anaconda3/share/qt/3rd_party_licenses/qtquickcontrols2/examples/quickcontrols2/swipetoremove/fonts/LICENSE.txt\n",
      "./anaconda3/share/qt/3rd_party_licenses/qtquickcontrols2/tests/manual/testbench/fonts/LICENSE.txt\n",
      "./anaconda3/share/qt/3rd_party_licenses/qtwebengine/src/3rdparty/chromium/url/third_party/mozilla/LICENSE.txt\n",
      "./anaconda3/share/qt/3rd_party_licenses/qtwebengine/src/3rdparty/chromium/third_party/webgpu-cts/src/third_party/jquery/LICENSE.txt\n",
      "./anaconda3/share/qt/3rd_party_licenses/qtwebengine/src/3rdparty/chromium/third_party/webgpu-cts/src/LICENSE.txt\n",
      "./anaconda3/share/qt/3rd_party_licenses/qtwebengine/src/3rdparty/chromium/third_party/catapult/third_party/polymer/components/polymer/LICENSE.txt\n",
      "./anaconda3/share/qt/3rd_party_licenses/qtwebengine/src/3rdparty/chromium/third_party/robolectric/licenses/javolution.license.txt\n",
      "./anaconda3/share/qt/3rd_party_licenses/qtwebengine/src/3rdparty/chromium/third_party/robolectric/licenses/pivotal.labs.license.txt\n",
      "./anaconda3/share/qt/3rd_party_licenses/qtwebengine/src/3rdparty/chromium/third_party/robolectric/licenses/extreme.indiana.edu.license.txt\n",
      "./anaconda3/share/qt/3rd_party_licenses/qtwebengine/src/3rdparty/chromium/third_party/swiftshader/LICENSE.txt\n",
      "./anaconda3/share/qt/3rd_party_licenses/qtwebengine/src/3rdparty/chromium/third_party/webrtc/license_template.txt\n",
      "./anaconda3/share/qt/3rd_party_licenses/qtwebengine/src/3rdparty/chromium/third_party/ocmock/License.txt\n",
      "./anaconda3/share/qt/3rd_party_licenses/qtwebengine/src/3rdparty/chromium/third_party/polymer/v3_0/components-chromium/polymer/LICENSE.txt\n",
      "./anaconda3/share/qt/3rd_party_licenses/qtwebengine/src/3rdparty/chromium/third_party/polymer/v1_0/components-chromium/polymer/LICENSE.txt\n",
      "./anaconda3/share/qt/3rd_party_licenses/qtwebengine/src/3rdparty/chromium/third_party/polymer/v1_0/components-chromium/polymer2/LICENSE.txt\n",
      "./anaconda3/share/qt/3rd_party_licenses/qtwebengine/src/3rdparty/chromium/third_party/ffmpeg/chromium/scripts/license_texts/full_lgpl.txt\n",
      "./anaconda3/share/qt/3rd_party_licenses/qtwebengine/src/3rdparty/chromium/third_party/ffmpeg/chromium/scripts/license_texts/jpeg.txt\n",
      "./anaconda3/share/qt/3rd_party_licenses/qtwebengine/src/3rdparty/chromium/third_party/ffmpeg/chromium/scripts/license_texts/mips.txt\n",
      "./anaconda3/share/qt/3rd_party_licenses/qtwebengine/src/3rdparty/chromium/third_party/ffmpeg/chromium/scripts/license_texts/oggparse_ahlberg_rullgayrd_2005.txt\n",
      "./anaconda3/share/qt/3rd_party_licenses/qtwebengine/src/3rdparty/chromium/third_party/flatbuffers/src/LICENSE.txt\n",
      "./anaconda3/share/qt/3rd_party_licenses/qtwebengine/src/3rdparty/chromium/third_party/angle/third_party/vulkan-tools/src/LICENSE.txt\n",
      "./anaconda3/share/qt/3rd_party_licenses/qtwebengine/src/3rdparty/chromium/third_party/angle/third_party/vulkan-tools/src/cmake/Copyright_cmake.txt\n",
      "./anaconda3/share/qt/3rd_party_licenses/qtwebengine/src/3rdparty/chromium/third_party/angle/third_party/vulkan-tools/src/winrt/VulkanRT-License.txt\n",
      "./anaconda3/share/qt/3rd_party_licenses/qtwebengine/src/3rdparty/chromium/third_party/angle/third_party/rapidjson/src/license.txt\n",
      "./anaconda3/share/qt/3rd_party_licenses/qtwebengine/src/3rdparty/chromium/third_party/angle/third_party/vulkan-loader/src/LICENSE.txt\n",
      "./anaconda3/share/qt/3rd_party_licenses/qtwebengine/src/3rdparty/chromium/third_party/angle/third_party/vulkan-loader/src/cmake/Copyright_cmake.txt\n",
      "./anaconda3/share/qt/3rd_party_licenses/qtwebengine/src/3rdparty/chromium/third_party/angle/third_party/vulkan-headers/src/LICENSE.txt\n",
      "./anaconda3/share/qt/3rd_party_licenses/qtwebengine/src/3rdparty/chromium/third_party/angle/third_party/vulkan-headers/src/cmake/Copyright_cmake.txt\n",
      "./anaconda3/share/qt/3rd_party_licenses/qtwebengine/src/3rdparty/chromium/third_party/opus/src/LICENSE_PLEASE_READ.txt\n",
      "./anaconda3/share/qt/3rd_party_licenses/qtwebengine/src/3rdparty/chromium/third_party/glslang/src/LICENSE.txt\n",
      "./anaconda3/share/qt/3rd_party_licenses/qtwebengine/src/3rdparty/chromium/third_party/simplejson/LICENSE.txt\n",
      "./anaconda3/share/qt/3rd_party_licenses/qtwebengine/src/3rdparty/chromium/third_party/unrar/src/license.txt\n",
      "./anaconda3/share/qt/3rd_party_licenses/qtwebengine/src/3rdparty/chromium/third_party/pdfium/third_party/pymock/LICENSE.txt\n",
      "./anaconda3/share/qt/3rd_party_licenses/qtwebengine/src/3rdparty/chromium/third_party/devtools-frontend/src/node_modules/ramda/LICENSE.txt\n",
      "./anaconda3/share/qt/3rd_party_licenses/qtwebengine/src/3rdparty/chromium/third_party/devtools-frontend/src/node_modules/lodash.memoize/LICENSE.txt\n",
      "./anaconda3/share/qt/3rd_party_licenses/qtwebengine/src/3rdparty/chromium/third_party/devtools-frontend/src/node_modules/url/node_modules/punycode/LICENSE-MIT.txt\n",
      "./anaconda3/share/qt/3rd_party_licenses/qtwebengine/src/3rdparty/chromium/third_party/devtools-frontend/src/node_modules/set-blocking/LICENSE.txt\n",
      "./anaconda3/share/qt/3rd_party_licenses/qtwebengine/src/3rdparty/chromium/third_party/devtools-frontend/src/node_modules/isbinaryfile/LICENSE.txt\n",
      "./anaconda3/share/qt/3rd_party_licenses/qtwebengine/src/3rdparty/chromium/third_party/devtools-frontend/src/node_modules/punycode/LICENSE-MIT.txt\n",
      "./anaconda3/share/qt/3rd_party_licenses/qtwebengine/src/3rdparty/chromium/third_party/devtools-frontend/src/node_modules/setimmediate/LICENSE.txt\n",
      "./anaconda3/share/qt/3rd_party_licenses/qtwebengine/src/3rdparty/chromium/third_party/devtools-frontend/src/node_modules/typescript/LICENSE.txt\n",
      "./anaconda3/share/qt/3rd_party_licenses/qtwebengine/src/3rdparty/chromium/third_party/devtools-frontend/src/node_modules/typescript/CopyrightNotice.txt\n",
      "./anaconda3/share/qt/3rd_party_licenses/qtwebengine/src/3rdparty/chromium/third_party/devtools-frontend/src/node_modules/signal-exit/LICENSE.txt\n",
      "./anaconda3/share/qt/3rd_party_licenses/qtwebengine/src/3rdparty/chromium/third_party/devtools-frontend/src/node_modules/emoji-regex/LICENSE-MIT.txt\n",
      "./anaconda3/share/qt/3rd_party_licenses/qtwebengine/src/3rdparty/chromium/third_party/devtools-frontend/src/node_modules/cliui/LICENSE.txt\n",
      "./anaconda3/share/qt/3rd_party_licenses/qtwebengine/src/3rdparty/chromium/third_party/devtools-frontend/src/node_modules/esquery/license.txt\n",
      "./anaconda3/share/qt/3rd_party_licenses/qtwebengine/src/3rdparty/chromium/third_party/devtools-frontend/src/node_modules/require-main-filename/LICENSE.txt\n",
      "./anaconda3/share/qt/3rd_party_licenses/qtwebengine/src/3rdparty/chromium/third_party/devtools-frontend/src/node_modules/tslib/LICENSE.txt\n",
      "./anaconda3/share/qt/3rd_party_licenses/qtwebengine/src/3rdparty/chromium/third_party/devtools-frontend/src/node_modules/tslib/CopyrightNotice.txt\n",
      "./anaconda3/share/qt/3rd_party_licenses/qtwebengine/src/3rdparty/chromium/third_party/devtools-frontend/src/node_modules/yargs-parser/LICENSE.txt\n",
      "./anaconda3/share/qt/3rd_party_licenses/qtwebengine/src/3rdparty/chromium/third_party/devtools-frontend/src/node_modules/jsesc/LICENSE-MIT.txt\n",
      "./anaconda3/share/qt/3rd_party_licenses/qtwebengine/src/3rdparty/chromium/third_party/devtools-frontend/src/node_modules/yargs-unparser/node_modules/require-main-filename/LICENSE.txt\n",
      "./anaconda3/share/qt/3rd_party_licenses/qtwebengine/src/3rdparty/chromium/third_party/devtools-frontend/src/node_modules/yargs-unparser/node_modules/yargs-parser/LICENSE.txt\n",
      "./anaconda3/share/qt/3rd_party_licenses/qtwebengine/src/3rdparty/chromium/third_party/devtools-frontend/src/node_modules/he/LICENSE-MIT.txt\n",
      "./anaconda3/share/qt/3rd_party_licenses/qtwebengine/src/3rdparty/chromium/third_party/devtools-frontend/src/node_modules/yargs/node_modules/emoji-regex/LICENSE-MIT.txt\n",
      "./anaconda3/share/qt/3rd_party_licenses/qtwebengine/src/3rdparty/chromium/third_party/devtools-frontend/src/node_modules/yargs/node_modules/cliui/LICENSE.txt\n",
      "./anaconda3/share/qt/3rd_party_licenses/qtwebengine/src/3rdparty/chromium/third_party/devtools-frontend/src/node_modules/yargs/node_modules/yargs-parser/LICENSE.txt\n",
      "./anaconda3/share/qt/3rd_party_licenses/qtwebengine/src/3rdparty/chromium/third_party/devtools-frontend/src/node_modules/rxjs/_esm2015/LICENSE.txt\n",
      "./anaconda3/share/qt/3rd_party_licenses/qtwebengine/src/3rdparty/chromium/third_party/devtools-frontend/src/node_modules/rxjs/LICENSE.txt\n",
      "./anaconda3/share/qt/3rd_party_licenses/qtwebengine/src/3rdparty/chromium/third_party/devtools-frontend/src/node_modules/rxjs/_esm5/LICENSE.txt\n",
      "./anaconda3/share/qt/3rd_party_licenses/qtwebengine/src/3rdparty/chromium/third_party/devtools-frontend/src/node_modules/rxjs/src/LICENSE.txt\n",
      "./anaconda3/share/qt/3rd_party_licenses/qtwebengine/src/3rdparty/chromium/third_party/openscreen/src/third_party/mozilla/LICENSE.txt\n",
      "./anaconda3/share/qt/3rd_party_licenses/qtwebengine/src/3rdparty/chromium/third_party/pymock/LICENSE.txt\n",
      "./anaconda3/share/qt/3rd_party_licenses/qtwebengine/src/3rdparty/chromium/third_party/skia/third_party/vulkanmemoryallocator/include/LICENSE.txt\n",
      "./anaconda3/share/qt/3rd_party_licenses/qtwebengine/src/3rdparty/chromium/third_party/quic_trace/src/third_party/glew/LICENSE.txt\n",
      "./anaconda3/share/qt/3rd_party_licenses/qtwebengine/src/3rdparty/chromium/third_party/blink/renderer/bindings/templates/copyright_block.txt\n",
      "./anaconda3/share/qt/3rd_party_licenses/qtwebengine/src/3rdparty/chromium/third_party/blink/renderer/platform/testing/data/third_party/Noto/LICENSE_OFL.txt\n",
      "./anaconda3/share/qt/3rd_party_licenses/qtwebengine/src/3rdparty/chromium/third_party/blink/renderer/platform/testing/data/third_party/Roboto/LICENSE.txt\n",
      "./anaconda3/share/qt/3rd_party_licenses/qtwebengine/examples/webengine/recipebrowser/resources/pages/assets/3rdparty/MARKDOWN-LICENSE.txt\n",
      "./anaconda3/share/qt/3rd_party_licenses/qtwebengine/examples/webengine/recipebrowser/resources/pages/assets/3rdparty/MARKED-LICENSE.txt\n",
      "./anaconda3/share/qt/3rd_party_licenses/qtwebengine/examples/webenginewidgets/markdowneditor/resources/3rdparty/MARKDOWN-LICENSE.txt\n",
      "./anaconda3/share/qt/3rd_party_licenses/qtwebengine/examples/webenginewidgets/markdowneditor/resources/3rdparty/MARKED-LICENSE.txt\n",
      "./anaconda3/share/qt/3rd_party_licenses/qtscxml/tests/3rdparty/scion-tests/LICENSE.txt\n",
      "./anaconda3/share/qt/3rd_party_licenses/qtscxml/tests/3rdparty/scion-tests/scxml-test-framework/LICENSE.txt\n",
      "./anaconda3/share/qt/3rd_party_licenses/qtwayland/src/3rdparty/protocol/HPND_LICENSE.txt\n",
      "./anaconda3/share/qt/3rd_party_licenses/qtwayland/src/3rdparty/protocol/MIT_LICENSE.txt\n",
      "./anaconda3/share/qt/3rd_party_licenses/qt3d/src/3rdparty/imgui/LICENSE.txt\n",
      "./anaconda3/share/qt/3rd_party_licenses/qt3d/src/3rdparty/imgui/LICENSE_proggyclean.txt\n",
      "./anaconda3/share/qt/3rd_party_licenses/qt3d/src/3rdparty/imgui/LICENSE_imstb.txt\n",
      "./anaconda3/share/qt/3rd_party_licenses/qt3d/src/3rdparty/assimp/contrib/rapidjson/license.txt\n",
      "./anaconda3/share/qt/3rd_party_licenses/qt3d/src/3rdparty/assimp/contrib/clipper/License.txt\n",
      "./anaconda3/share/qt/3rd_party_licenses/qt3d/src/3rdparty/assimp/LICENSE_Open3DGC.txt\n",
      "./anaconda3/share/qt/3rd_party_licenses/qt3d/src/3rdparty/assimp/LICENSE_zip.txt\n",
      "./anaconda3/share/qt/3rd_party_licenses/qt3d/src/3rdparty/assimp/LICENSE_unzip.txt\n",
      "./anaconda3/share/qt/3rd_party_licenses/qt3d/src/3rdparty/assimp/LICENSE_utf8cpp.txt\n",
      "./anaconda3/share/qt/3rd_party_licenses/qt3d/src/3rdparty/assimp/LICENSE_irrxml.txt\n",
      "./anaconda3/share/qt/3rd_party_licenses/qt3d/examples/qt3d/planets-qml/images/nasa/license.txt\n",
      "./anaconda3/share/qt/3rd_party_licenses/qt3d/examples/qt3d/planets-qml/images/solarsystemscope/license.txt\n",
      "./anaconda3/share/qt/3rd_party_licenses/qtlocation/src/plugins/geoservices/mapbox/maki-4.0.0/LICENSE.txt\n",
      "./anaconda3/share/qt/3rd_party_licenses/qtlocation/src/3rdparty/mapbox-gl-native/LICENSE_geojson_vt_cpp.txt\n",
      "./anaconda3/share/qt/3rd_party_licenses/qtlocation/src/3rdparty/mapbox-gl-native/LICENSE_vectortile.txt\n",
      "./anaconda3/share/qt/3rd_party_licenses/qtlocation/src/3rdparty/mapbox-gl-native/LICENSE_mapbox.txt\n",
      "./anaconda3/share/qt/3rd_party_licenses/qtlocation/src/3rdparty/mapbox-gl-native/LICENSE_geometry.txt\n",
      "./anaconda3/share/qt/3rd_party_licenses/qtlocation/src/3rdparty/mapbox-gl-native/LICENSE_rapidjson.txt\n",
      "./anaconda3/share/qt/3rd_party_licenses/qtlocation/src/3rdparty/mapbox-gl-native/LICENSE_parsedate.txt\n",
      "./anaconda3/share/qt/3rd_party_licenses/qtlocation/src/3rdparty/mapbox-gl-native/LICENSE_Boost.txt\n",
      "./anaconda3/share/qt/3rd_party_licenses/qtlocation/src/3rdparty/mapbox-gl-native/LICENSE_geojson.txt\n",
      "./anaconda3/share/qt/3rd_party_licenses/qtlocation/src/3rdparty/mapbox-gl-native/LICENSE_wagyu.txt\n",
      "./anaconda3/share/qt/3rd_party_licenses/qtlocation/src/3rdparty/mapbox-gl-native/LICENSE_protozero.txt\n",
      "./anaconda3/share/qt/3rd_party_licenses/qtlocation/src/3rdparty/mapbox-gl-native/LICENSE_CSSColorParser.txt\n",
      "./anaconda3/share/qt/3rd_party_licenses/qtremoteobjects/tools/repc/moc_copy/util/licenseheader.txt\n",
      "./anaconda3/share/qt/3rd_party_licenses/qtdatavis3d/examples/datavisualization/texturesurface/license.txt\n",
      "./anaconda3/share/qt/3rd_party_licenses/qtbase/src/plugins/platforms/cocoa/COCOA_LICENSE.txt\n",
      "./anaconda3/share/qt/3rd_party_licenses/qtbase/src/3rdparty/wintab/LICENSE.txt\n",
      "./anaconda3/share/qt/3rd_party_licenses/qtbase/src/3rdparty/freetype/ZLIB-LICENSE.txt\n",
      "./anaconda3/share/qt/3rd_party_licenses/qtbase/src/3rdparty/freetype/LICENSE.txt\n",
      "./anaconda3/share/qt/3rd_party_licenses/qtbase/src/3rdparty/freetype/PCF-LICENSE.txt\n",
      "./anaconda3/share/qt/3rd_party_licenses/qtbase/src/3rdparty/freetype/BDF-LICENSE.txt\n",
      "./anaconda3/share/qt/3rd_party_licenses/qtbase/src/3rdparty/gradle/LICENSE-GRADLEW.txt\n",
      "./anaconda3/share/qt/3rd_party_licenses/qtbase/src/3rdparty/icc/LICENSE.txt\n",
      "./anaconda3/share/qt/3rd_party_licenses/qtbase/src/3rdparty/VulkanMemoryAllocator/LICENSE.txt\n",
      "./anaconda3/share/qt/3rd_party_licenses/qtbase/src/dbus/LIBDBUS-1-LICENSE.txt\n",
      "./anaconda3/share/qt/3rd_party_licenses/qtbase/src/gui/text/AGLFN_LICENSE.txt\n",
      "./anaconda3/share/qt/3rd_party_licenses/qtbase/src/gui/painting/QIMAGETRANSFORM_LICENSE.txt\n",
      "./anaconda3/share/qt/3rd_party_licenses/qtbase/src/gui/painting/XCONSORTIUM_LICENSE.txt\n",
      "./anaconda3/share/qt/3rd_party_licenses/qtbase/src/gui/painting/WEBGRADIENTS_LICENSE.txt\n",
      "./anaconda3/share/qt/3rd_party_licenses/qtbase/src/gui/opengl/KHRONOS_LICENSE.txt\n",
      "./anaconda3/share/qt/3rd_party_licenses/qtbase/src/gui/vulkan/KHRONOS_LICENSE.txt\n",
      "./anaconda3/share/qt/3rd_party_licenses/qtbase/src/tools/moc/util/licenseheader.txt\n",
      "./anaconda3/share/qt/3rd_party_licenses/qtbase/src/corelib/codecs/QBIG5CODEC_LICENSE.txt\n",
      "./anaconda3/share/qt/3rd_party_licenses/qtbase/src/corelib/codecs/QEUCKRCODEC_LICENSE.txt\n",
      "./anaconda3/share/qt/3rd_party_licenses/qtbase/src/corelib/codecs/QSJISCODEC_LICENSE.txt\n",
      "./anaconda3/share/qt/3rd_party_licenses/qtbase/src/corelib/codecs/QEUCJPCODEC_LICENSE.txt\n",
      "./anaconda3/share/qt/3rd_party_licenses/qtbase/src/corelib/codecs/QBKCODEC_LICENSE.txt\n",
      "./anaconda3/share/qt/3rd_party_licenses/qtbase/src/corelib/codecs/QTSCIICODEC_LICENSE.txt\n",
      "./anaconda3/share/qt/3rd_party_licenses/qtbase/src/corelib/codecs/QJISCODEC_LICENSE.txt\n",
      "./anaconda3/share/qt/3rd_party_licenses/qtbase/src/corelib/text/UNICODE_LICENSE.txt\n",
      "./anaconda3/share/qt/3rd_party_licenses/qtbase/src/corelib/kernel/QEVENTDISPATCHER_CF_LICENSE.txt\n",
      "./anaconda3/share/qt/3rd_party_licenses/qtbase/src/corelib/io/PSL-LICENSE.txt\n",
      "./anaconda3/share/qt/3rd_party_licenses/qtbase/src/testlib/3rdparty/CYCLE_LICENSE.txt\n",
      "./anaconda3/share/qt/3rd_party_licenses/qtbase/src/testlib/3rdparty/VALGRIND_LICENSE.txt\n",
      "./anaconda3/share/qt/3rd_party_licenses/qtbase/src/testlib/3rdparty/LINUX_LICENSE.txt\n",
      "./anaconda3/share/qt/3rd_party_licenses/qtbase/tests/auto/corelib/io/qfile/forCopying.txt\n",
      "./anaconda3/share/qt/3rd_party_licenses/qtbase/tests/auto/corelib/serialization/qxmlstream/XML-Test-Suite-LICENSE.txt\n",
      "./anaconda3/share/timezonesets/America.txt\n",
      "./anaconda3/share/timezonesets/Asia.txt\n",
      "./anaconda3/share/timezonesets/Pacific.txt\n",
      "./anaconda3/share/timezonesets/Etc.txt\n",
      "./anaconda3/share/timezonesets/Atlantic.txt\n",
      "./anaconda3/share/timezonesets/Australia.txt\n",
      "./anaconda3/share/timezonesets/Indian.txt\n",
      "./anaconda3/share/timezonesets/Antarctica.txt\n",
      "./anaconda3/share/timezonesets/Africa.txt\n",
      "./anaconda3/share/timezonesets/Europe.txt\n",
      "./anaconda3/share/doc/networkx-2.8.4/LICENSE.txt\n",
      "./anaconda3/share/doc/networkx-2.8.4/examples/drawing/README.txt\n",
      "./anaconda3/share/doc/networkx-2.8.4/examples/README.txt\n",
      "./anaconda3/share/doc/networkx-2.8.4/examples/graph/README.txt\n",
      "./anaconda3/share/doc/networkx-2.8.4/examples/subclass/README.txt\n",
      "./anaconda3/share/doc/networkx-2.8.4/examples/basic/README.txt\n",
      "./anaconda3/share/doc/networkx-2.8.4/examples/algorithms/WormNet.v3.benchmark.txt\n",
      "./anaconda3/share/doc/networkx-2.8.4/examples/algorithms/README.txt\n",
      "./anaconda3/share/doc/networkx-2.8.4/examples/3d_drawing/README.txt\n",
      "./anaconda3/share/doc/xz/faq.txt\n",
      "./anaconda3/share/doc/xz/history.txt\n",
      "./anaconda3/share/doc/xz/xz-file-format.txt\n",
      "./anaconda3/share/doc/xz/examples/00_README.txt\n",
      "./anaconda3/share/doc/xz/lzma-file-format.txt\n",
      "./anaconda3/share/doc/dbus/system-activation.txt\n",
      "./anaconda3/LICENSE.txt\n",
      "./anaconda3/pkgs/inflection-0.5.1-py39h06a4308_0/lib/python3.9/site-packages/inflection-0.5.1-py3.9.egg-info/SOURCES.txt\n",
      "./anaconda3/pkgs/inflection-0.5.1-py39h06a4308_0/lib/python3.9/site-packages/inflection-0.5.1-py3.9.egg-info/top_level.txt\n",
      "./anaconda3/pkgs/inflection-0.5.1-py39h06a4308_0/lib/python3.9/site-packages/inflection-0.5.1-py3.9.egg-info/dependency_links.txt\n",
      "./anaconda3/pkgs/inflection-0.5.1-py39h06a4308_0/info/recipe/recipe_log.txt\n",
      "./anaconda3/pkgs/imagesize-1.4.1-py39h06a4308_0/lib/python3.9/site-packages/imagesize-1.4.1.dist-info/top_level.txt\n",
      "./anaconda3/pkgs/patchelf-0.13-h295c915_0/info/recipe/recipe_log.txt\n",
      "./anaconda3/pkgs/cffi-1.15.1-py39h74dc2b5_0/lib/python3.9/site-packages/cffi-1.15.1.dist-info/top_level.txt\n",
      "./anaconda3/pkgs/cffi-1.15.1-py39h74dc2b5_0/lib/python3.9/site-packages/cffi-1.15.1.dist-info/entry_points.txt\n",
      "./anaconda3/pkgs/pluggy-1.0.0-py39h06a4308_1/lib/python3.9/site-packages/pluggy-1.0.0.dist-info/top_level.txt\n",
      "./anaconda3/pkgs/pluggy-1.0.0-py39h06a4308_1/info/recipe/recipe_log.txt\n",
      "./anaconda3/pkgs/jpeg-9e-h7f8727e_0/info/recipe/licence.txt\n",
      "./anaconda3/pkgs/jpeg-9e-h7f8727e_0/info/recipe/recipe_log.txt\n",
      "./anaconda3/pkgs/blosc-1.21.0-h4ff587b_1/info/licenses/LICENSES/BLOSC.txt\n",
      "./anaconda3/pkgs/defusedxml-0.7.1-pyhd3eb1b0_0/site-packages/defusedxml-0.7.1.dist-info/top_level.txt\n",
      "./anaconda3/pkgs/protego-0.1.16-py_0/info/recipe/recipe_log.txt\n",
      "./anaconda3/pkgs/protego-0.1.16-py_0/info/test/tests/top-10000-websites.txt\n",
      "./anaconda3/pkgs/protego-0.1.16-py_0/site-packages/Protego-0.1.16.dist-info/top_level.txt\n",
      "./anaconda3/pkgs/libsodium-1.0.18-h7b6447c_0/info/recipe/recipe_log.txt\n",
      "./anaconda3/pkgs/matplotlib-base-3.5.2-py39hf590b9c_0/lib/python3.9/site-packages/matplotlib/mpl-data/sample_data/README.txt\n",
      "./anaconda3/pkgs/matplotlib-base-3.5.2-py39hf590b9c_0/lib/python3.9/site-packages/matplotlib/mpl-data/fonts/pdfcorefonts/readme.txt\n",
      "./anaconda3/pkgs/matplotlib-base-3.5.2-py39hf590b9c_0/lib/python3.9/site-packages/matplotlib-3.5.2.dist-info/top_level.txt\n",
      "./anaconda3/pkgs/matplotlib-base-3.5.2-py39hf590b9c_0/lib/python3.9/site-packages/matplotlib-3.5.2.dist-info/namespace_packages.txt\n",
      "./anaconda3/pkgs/matplotlib-base-3.5.2-py39hf590b9c_0/info/recipe/parent/yum_requirements.txt\n",
      "./anaconda3/pkgs/itsdangerous-2.0.1-pyhd3eb1b0_0/site-packages/itsdangerous-2.0.1.dist-info/top_level.txt\n",
      "./anaconda3/pkgs/werkzeug-2.0.3-pyhd3eb1b0_0/site-packages/Werkzeug-2.0.3.dist-info/top_level.txt\n",
      "./anaconda3/pkgs/patch-2.7.6-h7b6447c_1001/info/recipe/recipe_log.txt\n",
      "./anaconda3/pkgs/cython-0.29.32-py39h6a678d5_0/lib/python3.9/site-packages/Cython-0.29.32.dist-info/top_level.txt\n",
      "./anaconda3/pkgs/cython-0.29.32-py39h6a678d5_0/lib/python3.9/site-packages/Cython-0.29.32.dist-info/LICENSE.txt\n",
      "./anaconda3/pkgs/cython-0.29.32-py39h6a678d5_0/lib/python3.9/site-packages/Cython-0.29.32.dist-info/entry_points.txt\n",
      "./anaconda3/pkgs/cython-0.29.32-py39h6a678d5_0/lib/python3.9/site-packages/Cython-0.29.32.dist-info/COPYING.txt\n",
      "./anaconda3/pkgs/cython-0.29.32-py39h6a678d5_0/info/licenses/LICENSE.txt\n",
      "./anaconda3/pkgs/urls.txt\n",
      "./anaconda3/pkgs/black-22.6.0-py39h06a4308_0/lib/python3.9/site-packages/blib2to3/Grammar.txt\n",
      "./anaconda3/pkgs/black-22.6.0-py39h06a4308_0/lib/python3.9/site-packages/blib2to3/PatternGrammar.txt\n",
      "./anaconda3/pkgs/black-22.6.0-py39h06a4308_0/lib/python3.9/site-packages/black-22.6.0.dist-info/top_level.txt\n",
      "./anaconda3/pkgs/black-22.6.0-py39h06a4308_0/lib/python3.9/site-packages/black-22.6.0.dist-info/entry_points.txt\n",
      "./anaconda3/pkgs/zlib-1.2.12-h5eee18b_3/info/recipe/license.txt\n",
      "./anaconda3/pkgs/xarray-0.20.1-pyhd3eb1b0_1/site-packages/xarray-0.20.1.dist-info/top_level.txt\n",
      "./anaconda3/pkgs/nbclient-0.5.13-py39h06a4308_0/lib/python3.9/site-packages/nbclient-0.5.13.dist-info/top_level.txt\n",
      "./anaconda3/pkgs/nbclient-0.5.13-py39h06a4308_0/lib/python3.9/site-packages/nbclient-0.5.13.dist-info/entry_points.txt\n",
      "./anaconda3/pkgs/nbclient-0.5.13-py39h06a4308_0/info/recipe/recipe_log.txt\n",
      "./anaconda3/pkgs/platformdirs-2.5.2-py39h06a4308_0/lib/python3.9/site-packages/platformdirs-2.5.2.dist-info/licenses/LICENSE.txt\n",
      "./anaconda3/pkgs/platformdirs-2.5.2-py39h06a4308_0/info/licenses/LICENSE.txt\n",
      "./anaconda3/pkgs/conda-22.9.0-py39h06a4308_0/lib/python3.9/site-packages/conda-22.9.0-py3.9.egg-info/SOURCES.txt\n",
      "./anaconda3/pkgs/conda-22.9.0-py39h06a4308_0/lib/python3.9/site-packages/conda-22.9.0-py3.9.egg-info/requires.txt\n",
      "./anaconda3/pkgs/conda-22.9.0-py39h06a4308_0/lib/python3.9/site-packages/conda-22.9.0-py3.9.egg-info/top_level.txt\n",
      "./anaconda3/pkgs/conda-22.9.0-py39h06a4308_0/lib/python3.9/site-packages/conda-22.9.0-py3.9.egg-info/dependency_links.txt\n",
      "./anaconda3/pkgs/conda-22.9.0-py39h06a4308_0/lib/python3.9/site-packages/conda-22.9.0-py3.9.egg-info/entry_points.txt\n",
      "./anaconda3/pkgs/conda-22.9.0-py39h06a4308_0/info/licenses/LICENSE.txt\n",
      "./anaconda3/pkgs/libunistring-0.9.10-h27cfd23_0/info/recipe/recipe_log.txt\n",
      "./anaconda3/pkgs/astropy-5.1-py39h7deecbd_0/lib/python3.9/site-packages/astropy/modeling/tests/data/spec.txt\n",
      "./anaconda3/pkgs/astropy-5.1-py39h7deecbd_0/lib/python3.9/site-packages/astropy/wcs/wcsapi/data/ucds.txt\n",
      "./anaconda3/pkgs/astropy-5.1-py39h7deecbd_0/lib/python3.9/site-packages/astropy/wcs/tests/data/validate.txt\n",
      "./anaconda3/pkgs/astropy-5.1-py39h7deecbd_0/lib/python3.9/site-packages/astropy/wcs/tests/data/validate.7.6.txt\n",
      "./anaconda3/pkgs/astropy-5.1-py39h7deecbd_0/lib/python3.9/site-packages/astropy/wcs/tests/data/validate.5.0.txt\n",
      "./anaconda3/pkgs/astropy-5.1-py39h7deecbd_0/lib/python3.9/site-packages/astropy/wcs/tests/data/validate.7.4.txt\n",
      "./anaconda3/pkgs/astropy-5.1-py39h7deecbd_0/lib/python3.9/site-packages/astropy/wcs/tests/data/validate.6.txt\n",
      "./anaconda3/pkgs/astropy-5.1-py39h7deecbd_0/lib/python3.9/site-packages/astropy/wcs/tests/data/validate.5.13.txt\n",
      "./anaconda3/pkgs/astropy-5.1-py39h7deecbd_0/lib/python3.9/site-packages/astropy/utils/tests/data/.hidden_file.txt\n",
      "./anaconda3/pkgs/astropy-5.1-py39h7deecbd_0/lib/python3.9/site-packages/astropy/utils/tests/data/unicode.txt\n",
      "./anaconda3/pkgs/astropy-5.1-py39h7deecbd_0/lib/python3.9/site-packages/astropy/utils/tests/data/test_package/data/foo.txt\n",
      "./anaconda3/pkgs/astropy-5.1-py39h7deecbd_0/lib/python3.9/site-packages/astropy/io/ascii/tests/data/fixed_width_2_line.txt\n",
      "./anaconda3/pkgs/astropy-5.1-py39h7deecbd_0/lib/python3.9/site-packages/astropy/io/ascii/tests/data/space_delim_blank_lines.txt\n",
      "./anaconda3/pkgs/astropy-5.1-py39h7deecbd_0/lib/python3.9/site-packages/astropy/io/ascii/tests/data/conf_py.txt\n",
      "./anaconda3/pkgs/astropy-5.1-py39h7deecbd_0/lib/python3.9/site-packages/astropy/io/ascii/tests/data/simple.txt\n",
      "./anaconda3/pkgs/astropy-5.1-py39h7deecbd_0/lib/python3.9/site-packages/astropy/io/ascii/tests/data/fill_values.txt\n",
      "./anaconda3/pkgs/astropy-5.1-py39h7deecbd_0/lib/python3.9/site-packages/astropy/io/ascii/tests/data/simple3.txt\n",
      "./anaconda3/pkgs/astropy-5.1-py39h7deecbd_0/lib/python3.9/site-packages/astropy/io/ascii/tests/data/simple2.txt\n",
      "./anaconda3/pkgs/astropy-5.1-py39h7deecbd_0/lib/python3.9/site-packages/astropy/io/ascii/tests/data/bars_at_ends.txt\n",
      "./anaconda3/pkgs/astropy-5.1-py39h7deecbd_0/lib/python3.9/site-packages/astropy/io/ascii/tests/data/simple5.txt\n",
      "./anaconda3/pkgs/astropy-5.1-py39h7deecbd_0/lib/python3.9/site-packages/astropy/io/ascii/tests/data/bad.txt\n",
      "./anaconda3/pkgs/astropy-5.1-py39h7deecbd_0/lib/python3.9/site-packages/astropy/io/ascii/tests/data/simple4.txt\n",
      "./anaconda3/pkgs/astropy-5.1-py39h7deecbd_0/lib/python3.9/site-packages/astropy/io/votable/data/ucd1p-words.txt\n",
      "./anaconda3/pkgs/astropy-5.1-py39h7deecbd_0/lib/python3.9/site-packages/astropy/io/votable/tests/data/no_resource.txt\n",
      "./anaconda3/pkgs/astropy-5.1-py39h7deecbd_0/lib/python3.9/site-packages/astropy/io/votable/tests/data/validation.txt\n",
      "./anaconda3/pkgs/astropy-5.1-py39h7deecbd_0/lib/python3.9/site-packages/astropy-5.1.dist-info/top_level.txt\n",
      "./anaconda3/pkgs/astropy-5.1-py39h7deecbd_0/lib/python3.9/site-packages/astropy-5.1.dist-info/entry_points.txt\n",
      "./anaconda3/pkgs/jupyter_highlight_selected_word-0.2.0-py39hf3d152e_1005/lib/python3.9/site-packages/jupyter_highlight_selected_word-0.2.0.dist-info/top_level.txt\n",
      "./anaconda3/pkgs/jupyter_highlight_selected_word-0.2.0-py39hf3d152e_1005/lib/python3.9/site-packages/jupyter_highlight_selected_word-0.2.0.dist-info/LICENSE.txt\n",
      "./anaconda3/pkgs/jupyter_highlight_selected_word-0.2.0-py39hf3d152e_1005/info/licenses/LICENSE.txt\n",
      "./anaconda3/pkgs/libwebp-base-1.2.2-h7f8727e_0/info/recipe/recipe_log.txt\n",
      "./anaconda3/pkgs/jsonschema-4.16.0-py39h06a4308_0/lib/python3.9/site-packages/jsonschema-4.16.0.dist-info/entry_points.txt\n",
      "./anaconda3/pkgs/anaconda-client-1.11.0-py39h06a4308_0/lib/python3.9/site-packages/anaconda_client-1.11.0-py3.9.egg-info/SOURCES.txt\n",
      "./anaconda3/pkgs/anaconda-client-1.11.0-py39h06a4308_0/lib/python3.9/site-packages/anaconda_client-1.11.0-py3.9.egg-info/requires.txt\n",
      "./anaconda3/pkgs/anaconda-client-1.11.0-py39h06a4308_0/lib/python3.9/site-packages/anaconda_client-1.11.0-py3.9.egg-info/top_level.txt\n",
      "./anaconda3/pkgs/anaconda-client-1.11.0-py39h06a4308_0/lib/python3.9/site-packages/anaconda_client-1.11.0-py3.9.egg-info/dependency_links.txt\n",
      "./anaconda3/pkgs/anaconda-client-1.11.0-py39h06a4308_0/lib/python3.9/site-packages/anaconda_client-1.11.0-py3.9.egg-info/entry_points.txt\n",
      "./anaconda3/pkgs/numpy-base-1.21.5-py39ha15fc14_3/lib/python3.9/site-packages/numpy/core/include/numpy/multiarray_api.txt\n",
      "./anaconda3/pkgs/numpy-base-1.21.5-py39ha15fc14_3/lib/python3.9/site-packages/numpy/core/include/numpy/ufunc_api.txt\n",
      "./anaconda3/pkgs/numpy-base-1.21.5-py39ha15fc14_3/lib/python3.9/site-packages/numpy/core/include/numpy/libdivide/LICENSE.txt\n",
      "./anaconda3/pkgs/numpy-base-1.21.5-py39ha15fc14_3/lib/python3.9/site-packages/numpy/core/tests/data/umath-validation-set-README.txt\n",
      "./anaconda3/pkgs/numpy-base-1.21.5-py39ha15fc14_3/lib/python3.9/site-packages/numpy/LICENSE.txt\n",
      "./anaconda3/pkgs/numpy-base-1.21.5-py39ha15fc14_3/lib/python3.9/site-packages/numpy-1.21.5.dist-info/top_level.txt\n",
      "./anaconda3/pkgs/numpy-base-1.21.5-py39ha15fc14_3/lib/python3.9/site-packages/numpy-1.21.5.dist-info/LICENSE.txt\n",
      "./anaconda3/pkgs/numpy-base-1.21.5-py39ha15fc14_3/lib/python3.9/site-packages/numpy-1.21.5.dist-info/entry_points.txt\n",
      "./anaconda3/pkgs/numpy-base-1.21.5-py39ha15fc14_3/info/licenses/LICENSE.txt\n",
      "./anaconda3/pkgs/pep8-1.7.1-py39h06a4308_1/lib/python3.9/site-packages/pep8-1.7.1-py3.9.egg-info/SOURCES.txt\n",
      "./anaconda3/pkgs/pep8-1.7.1-py39h06a4308_1/lib/python3.9/site-packages/pep8-1.7.1-py3.9.egg-info/top_level.txt\n",
      "./anaconda3/pkgs/pep8-1.7.1-py39h06a4308_1/lib/python3.9/site-packages/pep8-1.7.1-py3.9.egg-info/dependency_links.txt\n",
      "./anaconda3/pkgs/pep8-1.7.1-py39h06a4308_1/lib/python3.9/site-packages/pep8-1.7.1-py3.9.egg-info/namespace_packages.txt\n",
      "./anaconda3/pkgs/pep8-1.7.1-py39h06a4308_1/lib/python3.9/site-packages/pep8-1.7.1-py3.9.egg-info/entry_points.txt\n",
      "./anaconda3/pkgs/rope-0.22.0-pyhd3eb1b0_0/site-packages/rope-0.22.0.dist-info/top_level.txt\n",
      "./anaconda3/pkgs/pillow-9.2.0-py39hace64e9_1/lib/python3.9/site-packages/Pillow-9.2.0-py3.9.egg-info/SOURCES.txt\n",
      "./anaconda3/pkgs/pillow-9.2.0-py39hace64e9_1/lib/python3.9/site-packages/Pillow-9.2.0-py3.9.egg-info/installed-files.txt\n",
      "./anaconda3/pkgs/pillow-9.2.0-py39hace64e9_1/lib/python3.9/site-packages/Pillow-9.2.0-py3.9.egg-info/requires.txt\n",
      "./anaconda3/pkgs/pillow-9.2.0-py39hace64e9_1/lib/python3.9/site-packages/Pillow-9.2.0-py3.9.egg-info/top_level.txt\n",
      "./anaconda3/pkgs/pillow-9.2.0-py39hace64e9_1/lib/python3.9/site-packages/Pillow-9.2.0-py3.9.egg-info/dependency_links.txt\n",
      "./anaconda3/pkgs/pyodbc-4.0.34-py39h6a678d5_0/lib/python3.9/site-packages/pyodbc-4.0.34.dist-info/top_level.txt\n",
      "./anaconda3/pkgs/pyodbc-4.0.34-py39h6a678d5_0/lib/python3.9/site-packages/pyodbc-4.0.34.dist-info/LICENSE.txt\n",
      "./anaconda3/pkgs/pyodbc-4.0.34-py39h6a678d5_0/info/licenses/LICENSE.txt\n",
      "./anaconda3/pkgs/ply-3.11-py39h06a4308_0/lib/python3.9/site-packages/ply-3.11-py3.9.egg-info/SOURCES.txt\n",
      "./anaconda3/pkgs/ply-3.11-py39h06a4308_0/lib/python3.9/site-packages/ply-3.11-py3.9.egg-info/top_level.txt\n",
      "./anaconda3/pkgs/ply-3.11-py39h06a4308_0/lib/python3.9/site-packages/ply-3.11-py3.9.egg-info/dependency_links.txt\n",
      "./anaconda3/pkgs/ply-3.11-py39h06a4308_0/info/recipe/recipe_log.txt\n",
      "./anaconda3/pkgs/pyqt-5.15.7-py39h6a678d5_1/info/recipe/parent/yum_requirements.txt\n",
      "./anaconda3/pkgs/terminado-0.13.1-py39h06a4308_0/lib/python3.9/site-packages/terminado-0.13.1.dist-info/top_level.txt\n",
      "./anaconda3/pkgs/terminado-0.13.1-py39h06a4308_0/info/recipe/recipe_log.txt\n",
      "./anaconda3/pkgs/fsspec-2022.7.1-py39h06a4308_0/lib/python3.9/site-packages/fsspec-2022.7.1.dist-info/top_level.txt\n",
      "./anaconda3/pkgs/jinja2-time-0.2.0-pyhd3eb1b0_3/site-packages/jinja2_time-0.2.0.dist-info/top_level.txt\n",
      "./anaconda3/pkgs/cssselect-1.1.0-pyhd3eb1b0_0/site-packages/cssselect-1.1.0-py3.9.egg-info/SOURCES.txt\n",
      "./anaconda3/pkgs/cssselect-1.1.0-pyhd3eb1b0_0/site-packages/cssselect-1.1.0-py3.9.egg-info/top_level.txt\n",
      "./anaconda3/pkgs/cssselect-1.1.0-pyhd3eb1b0_0/site-packages/cssselect-1.1.0-py3.9.egg-info/dependency_links.txt\n",
      "./anaconda3/pkgs/libssh2-1.10.0-h8f2d780_0/info/recipe/recipe_log.txt\n",
      "./anaconda3/pkgs/ipython-7.31.1-py39h06a4308_1/lib/python3.9/site-packages/IPython/testing/plugin/test_exampleip.txt\n",
      "./anaconda3/pkgs/ipython-7.31.1-py39h06a4308_1/lib/python3.9/site-packages/IPython/testing/plugin/README.txt\n",
      "./anaconda3/pkgs/ipython-7.31.1-py39h06a4308_1/lib/python3.9/site-packages/IPython/testing/plugin/test_combo.txt\n",
      "./anaconda3/pkgs/ipython-7.31.1-py39h06a4308_1/lib/python3.9/site-packages/IPython/testing/plugin/test_example.txt\n",
      "./anaconda3/pkgs/ipython-7.31.1-py39h06a4308_1/lib/python3.9/site-packages/ipython-7.31.1.dist-info/top_level.txt\n",
      "./anaconda3/pkgs/ipython-7.31.1-py39h06a4308_1/lib/python3.9/site-packages/ipython-7.31.1.dist-info/entry_points.txt\n",
      "./anaconda3/pkgs/cycler-0.11.0-pyhd3eb1b0_0/info/recipe/recipe_log.txt\n",
      "./anaconda3/pkgs/cycler-0.11.0-pyhd3eb1b0_0/site-packages/cycler-0.11.0.dist-info/top_level.txt\n",
      "./anaconda3/pkgs/jupyterlab_server-2.10.3-pyhd3eb1b0_1/site-packages/jupyterlab_server-2.10.3.dist-info/top_level.txt\n",
      "./anaconda3/pkgs/ujson-5.4.0-py39h6a678d5_0/lib/python3.9/site-packages/ujson-5.4.0.dist-info/top_level.txt\n",
      "./anaconda3/pkgs/ujson-5.4.0-py39h6a678d5_0/lib/python3.9/site-packages/ujson-5.4.0.dist-info/LICENSE.txt\n",
      "./anaconda3/pkgs/ujson-5.4.0-py39h6a678d5_0/info/licenses/LICENSE.txt\n",
      "./anaconda3/pkgs/lcms2-2.12-h3be6417_0/info/recipe/recipe_log.txt\n",
      "./anaconda3/pkgs/hdf5-1.10.6-h3ffc7dd_1/info/recipe/yum_requirements.txt\n",
      "./anaconda3/pkgs/libgomp-11.2.0-h1234567_1/info/recipe/parent/tests/fortomp/CMakeLists.txt\n",
      "./anaconda3/pkgs/pygments-2.11.2-pyhd3eb1b0_0/site-packages/Pygments-2.11.2.dist-info/top_level.txt\n",
      "./anaconda3/pkgs/pygments-2.11.2-pyhd3eb1b0_0/site-packages/Pygments-2.11.2.dist-info/entry_points.txt\n",
      "./anaconda3/pkgs/pyxdg-0.27-pyhd3eb1b0_0/site-packages/pyxdg-0.27.dist-info/top_level.txt\n",
      "./anaconda3/pkgs/importlib-metadata-4.11.3-py39h06a4308_0/lib/python3.9/site-packages/importlib_metadata-4.11.3.dist-info/top_level.txt\n",
      "./anaconda3/pkgs/importlib-metadata-4.11.3-py39h06a4308_0/info/recipe/recipe_log.txt\n",
      "./anaconda3/pkgs/nest-asyncio-1.5.5-py39h06a4308_0/lib/python3.9/site-packages/nest_asyncio-1.5.5.dist-info/top_level.txt\n",
      "./anaconda3/pkgs/nest-asyncio-1.5.5-py39h06a4308_0/info/recipe/recipe_log.txt\n",
      "./anaconda3/pkgs/ruamel.yaml-0.17.21-py39h5eee18b_0/lib/python3.9/site-packages/ruamel.yaml-0.17.21.dist-info/top_level.txt\n",
      "./anaconda3/pkgs/ruamel.yaml-0.17.21-py39h5eee18b_0/lib/python3.9/site-packages/ruamel.yaml-0.17.21.dist-info/namespace_packages.txt\n",
      "./anaconda3/pkgs/sphinxcontrib-serializinghtml-1.1.5-pyhd3eb1b0_0/site-packages/sphinxcontrib_serializinghtml-1.1.5.dist-info/top_level.txt\n",
      "./anaconda3/pkgs/sphinxcontrib-serializinghtml-1.1.5-pyhd3eb1b0_0/site-packages/sphinxcontrib_serializinghtml-1.1.5.dist-info/namespace_packages.txt\n",
      "./anaconda3/pkgs/jq-1.6-h27cfd23_1000/info/recipe/recipe_log.txt\n",
      "./anaconda3/pkgs/wrapt-1.14.1-py39h5eee18b_0/lib/python3.9/site-packages/wrapt-1.14.1.dist-info/top_level.txt\n",
      "./anaconda3/pkgs/zeromq-4.3.4-h2531618_0/info/recipe/recipe_log.txt\n",
      "./anaconda3/pkgs/tinycss-0.4-pyhd3eb1b0_1002/info/recipe/recipe_log.txt\n",
      "./anaconda3/pkgs/tinycss-0.4-pyhd3eb1b0_1002/site-packages/tinycss-0.4.dist-info/top_level.txt\n",
      "./anaconda3/pkgs/pyyaml-6.0-py39h7f8727e_1/lib/python3.9/site-packages/PyYAML-6.0-py3.9-linux-x86_64.egg-info/SOURCES.txt\n",
      "./anaconda3/pkgs/pyyaml-6.0-py39h7f8727e_1/lib/python3.9/site-packages/PyYAML-6.0-py3.9-linux-x86_64.egg-info/top_level.txt\n",
      "./anaconda3/pkgs/pyyaml-6.0-py39h7f8727e_1/lib/python3.9/site-packages/PyYAML-6.0-py3.9-linux-x86_64.egg-info/dependency_links.txt\n",
      "./anaconda3/pkgs/pyyaml-6.0-py39h7f8727e_1/lib/python3.9/site-packages/PyYAML-6.0-py3.9-linux-x86_64.egg-info/native_libs.txt\n",
      "./anaconda3/pkgs/regex-2022.7.9-py39h5eee18b_0/lib/python3.9/site-packages/regex-2022.7.9.dist-info/top_level.txt\n",
      "./anaconda3/pkgs/regex-2022.7.9-py39h5eee18b_0/lib/python3.9/site-packages/regex-2022.7.9.dist-info/LICENSE.txt\n",
      "./anaconda3/pkgs/regex-2022.7.9-py39h5eee18b_0/info/licenses/LICENSE.txt\n",
      "./anaconda3/pkgs/python-3.9.13-haa1d7c7_1/lib/python3.9/LICENSE.txt\n",
      "./anaconda3/pkgs/python-3.9.13-haa1d7c7_1/lib/python3.9/idlelib/idle_test/README.txt\n",
      "./anaconda3/pkgs/python-3.9.13-haa1d7c7_1/lib/python3.9/idlelib/NEWS.txt\n",
      "./anaconda3/pkgs/python-3.9.13-haa1d7c7_1/lib/python3.9/idlelib/NEWS2x.txt\n",
      "./anaconda3/pkgs/python-3.9.13-haa1d7c7_1/lib/python3.9/idlelib/CREDITS.txt\n",
      "./anaconda3/pkgs/python-3.9.13-haa1d7c7_1/lib/python3.9/idlelib/Icons/README.txt\n",
      "./anaconda3/pkgs/python-3.9.13-haa1d7c7_1/lib/python3.9/idlelib/README.txt\n",
      "./anaconda3/pkgs/python-3.9.13-haa1d7c7_1/lib/python3.9/idlelib/TODO.txt\n",
      "./anaconda3/pkgs/python-3.9.13-haa1d7c7_1/lib/python3.9/idlelib/extend.txt\n",
      "./anaconda3/pkgs/python-3.9.13-haa1d7c7_1/lib/python3.9/idlelib/HISTORY.txt\n",
      "./anaconda3/pkgs/python-3.9.13-haa1d7c7_1/lib/python3.9/site-packages/README.txt\n",
      "./anaconda3/pkgs/python-3.9.13-haa1d7c7_1/lib/python3.9/lib2to3/Grammar.txt\n",
      "./anaconda3/pkgs/python-3.9.13-haa1d7c7_1/lib/python3.9/lib2to3/PatternGrammar.txt\n",
      "./anaconda3/pkgs/python-3.9.13-haa1d7c7_1/info/recipe/parent/LICENSE.txt\n",
      "./anaconda3/pkgs/python-3.9.13-haa1d7c7_1/info/recipe/parent/recipe-license.txt\n",
      "./anaconda3/pkgs/python-3.9.13-haa1d7c7_1/info/recipe/parent/tests/cmake/CMakeLists.txt\n",
      "./anaconda3/pkgs/python-3.9.13-haa1d7c7_1/info/recipe/parent/yum_requirements.txt\n",
      "./anaconda3/pkgs/python-3.9.13-haa1d7c7_1/info/test/tests/cmake/CMakeLists.txt\n",
      "./anaconda3/pkgs/backports.tempfile-1.0-pyhd3eb1b0_1/site-packages/backports.tempfile-1.0.dist-info/top_level.txt\n",
      "./anaconda3/pkgs/appdirs-1.4.4-pyhd3eb1b0_0/info/licenses/LICENSE.txt\n",
      "./anaconda3/pkgs/appdirs-1.4.4-pyhd3eb1b0_0/site-packages/appdirs-1.4.4-py3.9.egg-info/SOURCES.txt\n",
      "./anaconda3/pkgs/appdirs-1.4.4-pyhd3eb1b0_0/site-packages/appdirs-1.4.4-py3.9.egg-info/top_level.txt\n",
      "./anaconda3/pkgs/appdirs-1.4.4-pyhd3eb1b0_0/site-packages/appdirs-1.4.4-py3.9.egg-info/dependency_links.txt\n",
      "./anaconda3/pkgs/anaconda-project-0.11.1-py39h06a4308_0/lib/python3.9/site-packages/anaconda_project-0.11.1.dist-info/top_level.txt\n",
      "./anaconda3/pkgs/anaconda-project-0.11.1-py39h06a4308_0/lib/python3.9/site-packages/anaconda_project-0.11.1.dist-info/LICENSE.txt\n",
      "./anaconda3/pkgs/anaconda-project-0.11.1-py39h06a4308_0/lib/python3.9/site-packages/anaconda_project-0.11.1.dist-info/entry_points.txt\n",
      "./anaconda3/pkgs/anaconda-project-0.11.1-py39h06a4308_0/info/licenses/LICENSE.txt\n",
      "./anaconda3/pkgs/json5-0.9.6-pyhd3eb1b0_0/site-packages/json5-0.9.6.dist-info/top_level.txt\n",
      "./anaconda3/pkgs/json5-0.9.6-pyhd3eb1b0_0/site-packages/json5-0.9.6.dist-info/entry_points.txt\n",
      "./anaconda3/pkgs/entrypoints-0.4-py39h06a4308_0/info/recipe/recipe_log.txt\n",
      "./anaconda3/pkgs/entrypoints-0.4-py39h06a4308_0/info/test/tests/samples/packages3/foo-0.1.dist-info/entry_points.txt\n",
      "./anaconda3/pkgs/entrypoints-0.4-py39h06a4308_0/info/test/tests/samples/packages1/foo-0.1.dist-info/entry_points.txt\n",
      "./anaconda3/pkgs/entrypoints-0.4-py39h06a4308_0/info/test/tests/samples/packages1/baz-0.3.egg/EGG-INFO/entry_points.txt\n",
      "./anaconda3/pkgs/entrypoints-0.4-py39h06a4308_0/info/test/tests/samples/packages2/qux-0.4.egg.unpacked/EGG-INFO/entry_points.txt\n",
      "./anaconda3/pkgs/entrypoints-0.4-py39h06a4308_0/info/test/tests/samples/packages2/foo-0.1.1.dist-info/entry_points.txt\n",
      "./anaconda3/pkgs/entrypoints-0.4-py39h06a4308_0/info/test/tests/samples/packages2/bar-0.2.egg-info/entry_points.txt\n",
      "./anaconda3/pkgs/entrypoints-0.4-py39h06a4308_0/info/test/tests/samples/packages4/dev.egg-info/entry_points.txt\n",
      "./anaconda3/pkgs/libaec-1.0.4-he6710b0_1/info/recipe/recipe_log.txt\n",
      "./anaconda3/pkgs/libaec-1.0.4-he6710b0_1/info/licenses/Copyright.txt\n",
      "./anaconda3/pkgs/pickleshare-0.7.5-pyhd3eb1b0_1003/info/recipe/recipe_log.txt\n",
      "./anaconda3/pkgs/pickleshare-0.7.5-pyhd3eb1b0_1003/site-packages/pickleshare-0.7.5.dist-info/top_level.txt\n",
      "./anaconda3/pkgs/queuelib-1.5.0-py39h06a4308_0/lib/python3.9/site-packages/queuelib-1.5.0-py3.9.egg-info/SOURCES.txt\n",
      "./anaconda3/pkgs/queuelib-1.5.0-py39h06a4308_0/lib/python3.9/site-packages/queuelib-1.5.0-py3.9.egg-info/top_level.txt\n",
      "./anaconda3/pkgs/queuelib-1.5.0-py39h06a4308_0/lib/python3.9/site-packages/queuelib-1.5.0-py3.9.egg-info/dependency_links.txt\n",
      "./anaconda3/pkgs/queuelib-1.5.0-py39h06a4308_0/info/recipe/recipe_log.txt\n",
      "./anaconda3/pkgs/sniffio-1.2.0-py39h06a4308_1/lib/python3.9/site-packages/sniffio-1.2.0.dist-info/top_level.txt\n",
      "./anaconda3/pkgs/pyct-0.4.8-py39h06a4308_1/lib/python3.9/site-packages/pyct-0.4.8.dist-info/top_level.txt\n",
      "./anaconda3/pkgs/pyct-0.4.8-py39h06a4308_1/lib/python3.9/site-packages/pyct-0.4.8.dist-info/LICENSE.txt\n",
      "./anaconda3/pkgs/pyct-0.4.8-py39h06a4308_1/lib/python3.9/site-packages/pyct-0.4.8.dist-info/entry_points.txt\n",
      "./anaconda3/pkgs/pyct-0.4.8-py39h06a4308_1/info/licenses/LICENSE.txt\n",
      "./anaconda3/pkgs/wheel-0.37.1-pyhd3eb1b0_0/info/recipe/LICENSE.txt\n",
      "./anaconda3/pkgs/wheel-0.37.1-pyhd3eb1b0_0/info/licenses/LICENSE.txt\n",
      "./anaconda3/pkgs/wheel-0.37.1-pyhd3eb1b0_0/site-packages/wheel-0.37.1-py3.9.egg-info/SOURCES.txt\n",
      "./anaconda3/pkgs/wheel-0.37.1-pyhd3eb1b0_0/site-packages/wheel-0.37.1-py3.9.egg-info/requires.txt\n",
      "./anaconda3/pkgs/wheel-0.37.1-pyhd3eb1b0_0/site-packages/wheel-0.37.1-py3.9.egg-info/top_level.txt\n",
      "./anaconda3/pkgs/wheel-0.37.1-pyhd3eb1b0_0/site-packages/wheel-0.37.1-py3.9.egg-info/dependency_links.txt\n",
      "./anaconda3/pkgs/wheel-0.37.1-pyhd3eb1b0_0/site-packages/wheel-0.37.1-py3.9.egg-info/entry_points.txt\n",
      "./anaconda3/pkgs/imageio-2.19.3-py39h06a4308_0/lib/python3.9/site-packages/imageio-2.19.3.dist-info/top_level.txt\n",
      "./anaconda3/pkgs/imageio-2.19.3-py39h06a4308_0/lib/python3.9/site-packages/imageio-2.19.3.dist-info/entry_points.txt\n",
      "./anaconda3/pkgs/libpng-1.6.37-hbc83047_0/info/recipe/recipe_log.txt\n",
      "./anaconda3/pkgs/libpng-1.6.37-hbc83047_0/info/LICENSE.txt\n",
      "./anaconda3/pkgs/tenacity-8.0.1-py39h06a4308_1/lib/python3.9/site-packages/tenacity-8.0.1.dist-info/top_level.txt\n",
      "./anaconda3/pkgs/sip-6.6.2-py39h6a678d5_0/lib/python3.9/site-packages/sip-6.6.2.dist-info/top_level.txt\n",
      "./anaconda3/pkgs/sip-6.6.2-py39h6a678d5_0/lib/python3.9/site-packages/sip-6.6.2.dist-info/entry_points.txt\n",
      "./anaconda3/pkgs/colorama-0.4.5-py39h06a4308_0/lib/python3.9/site-packages/colorama-0.4.5.dist-info/top_level.txt\n",
      "./anaconda3/pkgs/colorama-0.4.5-py39h06a4308_0/lib/python3.9/site-packages/colorama-0.4.5.dist-info/LICENSE.txt\n",
      "./anaconda3/pkgs/colorama-0.4.5-py39h06a4308_0/info/licenses/LICENSE.txt\n",
      "./anaconda3/pkgs/astroid-2.11.7-py39h06a4308_0/lib/python3.9/site-packages/astroid-2.11.7.dist-info/CONTRIBUTORS.txt\n",
      "./anaconda3/pkgs/astroid-2.11.7-py39h06a4308_0/lib/python3.9/site-packages/astroid-2.11.7.dist-info/top_level.txt\n",
      "./anaconda3/pkgs/pyerfa-2.0.0-py39h27cfd23_0/lib/python3.9/site-packages/pyerfa-2.0.0.dist-info/top_level.txt\n",
      "./anaconda3/pkgs/sphinxcontrib-jsmath-1.0.1-pyhd3eb1b0_0/site-packages/sphinxcontrib_jsmath-1.0.1.dist-info/top_level.txt\n",
      "./anaconda3/pkgs/sphinxcontrib-jsmath-1.0.1-pyhd3eb1b0_0/site-packages/sphinxcontrib_jsmath-1.0.1.dist-info/namespace_packages.txt\n",
      "./anaconda3/pkgs/cytoolz-0.11.0-py39h27cfd23_0/lib/python3.9/site-packages/cytoolz-0.11.0-py3.9.egg-info/SOURCES.txt\n",
      "./anaconda3/pkgs/cytoolz-0.11.0-py39h27cfd23_0/lib/python3.9/site-packages/cytoolz-0.11.0-py3.9.egg-info/installed-files.txt\n",
      "./anaconda3/pkgs/cytoolz-0.11.0-py39h27cfd23_0/lib/python3.9/site-packages/cytoolz-0.11.0-py3.9.egg-info/requires.txt\n",
      "./anaconda3/pkgs/cytoolz-0.11.0-py39h27cfd23_0/lib/python3.9/site-packages/cytoolz-0.11.0-py3.9.egg-info/top_level.txt\n",
      "./anaconda3/pkgs/cytoolz-0.11.0-py39h27cfd23_0/lib/python3.9/site-packages/cytoolz-0.11.0-py3.9.egg-info/dependency_links.txt\n",
      "./anaconda3/pkgs/cytoolz-0.11.0-py39h27cfd23_0/info/recipe/recipe_log.txt\n",
      "./anaconda3/pkgs/cytoolz-0.11.0-py39h27cfd23_0/info/licenses/LICENSE.txt\n",
      "./anaconda3/pkgs/secretstorage-3.3.1-py39h06a4308_0/lib/python3.9/site-packages/SecretStorage-3.3.1.dist-info/top_level.txt\n",
      "./anaconda3/pkgs/requests-file-1.5.1-pyhd3eb1b0_0/site-packages/requests_file-1.5.1.dist-info/top_level.txt\n",
      "./anaconda3/pkgs/pandocfilters-1.5.0-pyhd3eb1b0_0/site-packages/pandocfilters-1.5.0.dist-info/top_level.txt\n",
      "./anaconda3/pkgs/lzo-2.10-h7b6447c_2/info/recipe/recipe_log.txt\n",
      "./anaconda3/pkgs/pyasn1-0.4.8-pyhd3eb1b0_0/site-packages/pyasn1-0.4.8.dist-info/top_level.txt\n",
      "./anaconda3/pkgs/colorcet-3.0.0-py39h06a4308_0/lib/python3.9/site-packages/colorcet-3.0.0.dist-info/top_level.txt\n",
      "./anaconda3/pkgs/colorcet-3.0.0-py39h06a4308_0/lib/python3.9/site-packages/colorcet-3.0.0.dist-info/LICENSE.txt\n",
      "./anaconda3/pkgs/colorcet-3.0.0-py39h06a4308_0/lib/python3.9/site-packages/colorcet-3.0.0.dist-info/entry_points.txt\n",
      "./anaconda3/pkgs/colorcet-3.0.0-py39h06a4308_0/info/recipe/recipe_log.txt\n",
      "./anaconda3/pkgs/colorcet-3.0.0-py39h06a4308_0/info/licenses/LICENSE.txt\n",
      "./anaconda3/pkgs/snappy-1.1.9-h295c915_0/info/recipe/recipe_log.txt\n",
      "./anaconda3/pkgs/ipywidgets-7.6.5-pyhd3eb1b0_1/info/recipe/recipe_log.txt\n",
      "./anaconda3/pkgs/ipywidgets-7.6.5-pyhd3eb1b0_1/site-packages/ipywidgets-7.6.5.dist-info/top_level.txt\n",
      "./anaconda3/pkgs/glob2-0.7-pyhd3eb1b0_0/site-packages/glob2-0.7.dist-info/top_level.txt\n",
      "./anaconda3/pkgs/cfitsio-3.470-h5893167_7/info/licenses/License.txt\n",
      "./anaconda3/pkgs/param-1.12.0-pyhd3eb1b0_0/info/licenses/LICENSE.txt\n",
      "./anaconda3/pkgs/param-1.12.0-pyhd3eb1b0_0/site-packages/param-1.12.0.dist-info/top_level.txt\n",
      "./anaconda3/pkgs/param-1.12.0-pyhd3eb1b0_0/site-packages/param-1.12.0.dist-info/LICENSE.txt\n",
      "./anaconda3/pkgs/botocore-1.27.28-py39h06a4308_0/lib/python3.9/site-packages/botocore-1.27.28.dist-info/top_level.txt\n",
      "./anaconda3/pkgs/botocore-1.27.28-py39h06a4308_0/lib/python3.9/site-packages/botocore-1.27.28.dist-info/LICENSE.txt\n",
      "./anaconda3/pkgs/botocore-1.27.28-py39h06a4308_0/info/licenses/LICENSE.txt\n",
      "./anaconda3/pkgs/sphinxcontrib-applehelp-1.0.2-pyhd3eb1b0_0/site-packages/sphinxcontrib_applehelp-1.0.2.dist-info/top_level.txt\n",
      "./anaconda3/pkgs/sphinxcontrib-applehelp-1.0.2-pyhd3eb1b0_0/site-packages/sphinxcontrib_applehelp-1.0.2.dist-info/namespace_packages.txt\n",
      "./anaconda3/pkgs/w3lib-1.21.0-pyhd3eb1b0_0/site-packages/w3lib-1.21.0.dist-info/top_level.txt\n",
      "./anaconda3/pkgs/pycodestyle-2.8.0-pyhd3eb1b0_0/site-packages/pycodestyle-2.8.0.dist-info/top_level.txt\n",
      "./anaconda3/pkgs/pycodestyle-2.8.0-pyhd3eb1b0_0/site-packages/pycodestyle-2.8.0.dist-info/namespace_packages.txt\n",
      "./anaconda3/pkgs/pycodestyle-2.8.0-pyhd3eb1b0_0/site-packages/pycodestyle-2.8.0.dist-info/entry_points.txt\n",
      "./anaconda3/pkgs/libzopfli-1.0.3-he6710b0_0/info/recipe/recipe_log.txt\n",
      "./anaconda3/pkgs/matplotlib-3.5.2-py39h06a4308_0/info/recipe/parent/yum_requirements.txt\n",
      "./anaconda3/pkgs/jinja2-2.11.3-pyhd3eb1b0_0/site-packages/Jinja2-2.11.3.dist-info/top_level.txt\n",
      "./anaconda3/pkgs/jinja2-2.11.3-pyhd3eb1b0_0/site-packages/Jinja2-2.11.3.dist-info/entry_points.txt\n",
      "./anaconda3/pkgs/pywavelets-1.3.0-py39h7f8727e_0/lib/python3.9/site-packages/PyWavelets-1.3.0.dist-info/top_level.txt\n",
      "./anaconda3/pkgs/pywavelets-1.3.0-py39h7f8727e_0/lib/python3.9/site-packages/PyWavelets-1.3.0.dist-info/LICENSES_bundled.txt\n",
      "./anaconda3/pkgs/pywavelets-1.3.0-py39h7f8727e_0/info/recipe/LICENSE.txt\n",
      "./anaconda3/pkgs/pywavelets-1.3.0-py39h7f8727e_0/info/recipe/recipe_log.txt\n",
      "./anaconda3/pkgs/joblib-1.1.0-pyhd3eb1b0_0/info/licenses/LICENSE.txt\n",
      "./anaconda3/pkgs/joblib-1.1.0-pyhd3eb1b0_0/site-packages/joblib-1.1.0.dist-info/top_level.txt\n",
      "./anaconda3/pkgs/joblib-1.1.0-pyhd3eb1b0_0/site-packages/joblib-1.1.0.dist-info/LICENSE.txt\n",
      "./anaconda3/pkgs/toml-0.10.2-pyhd3eb1b0_0/info/recipe/recipe_log.txt\n",
      "./anaconda3/pkgs/toml-0.10.2-pyhd3eb1b0_0/site-packages/toml-0.10.2.dist-info/top_level.txt\n",
      "./anaconda3/pkgs/anaconda-2022.10-py39_0/info/recipe/EULA.txt\n",
      "./anaconda3/pkgs/anaconda-2022.10-py39_0/info/licenses/EULA.txt\n",
      "./anaconda3/pkgs/imagecodecs-2021.8.26-py39hf0132c2_1/lib/python3.9/site-packages/imagecodecs-2021.8.26.dist-info/top_level.txt\n",
      "./anaconda3/pkgs/imagecodecs-2021.8.26-py39hf0132c2_1/lib/python3.9/site-packages/imagecodecs-2021.8.26.dist-info/entry_points.txt\n",
      "./anaconda3/pkgs/imagecodecs-2021.8.26-py39hf0132c2_1/info/test/tests/tiff/readme.txt\n",
      "./anaconda3/pkgs/imagecodecs-2021.8.26-py39hf0132c2_1/info/test/tests/notes.txt\n",
      "./anaconda3/pkgs/imagecodecs-2021.8.26-py39hf0132c2_1/info/test/tests/libaec/121B2TestData/README121BTest.txt\n",
      "./anaconda3/pkgs/atomicwrites-1.4.0-py_0/info/recipe/recipe_log.txt\n",
      "./anaconda3/pkgs/atomicwrites-1.4.0-py_0/site-packages/atomicwrites-1.4.0.dist-info/top_level.txt\n",
      "./anaconda3/pkgs/pandas-1.4.4-py39h6a678d5_0/lib/python3.9/site-packages/pandas/tests/io/data/fixed_width/fixed_width_format.txt\n",
      "./anaconda3/pkgs/pandas-1.4.4-py39h6a678d5_0/lib/python3.9/site-packages/pandas/tests/io/data/gbq_fake_job.txt\n",
      "./anaconda3/pkgs/pandas-1.4.4-py39h6a678d5_0/lib/python3.9/site-packages/pandas-1.4.4-py3.9.egg-info/SOURCES.txt\n",
      "./anaconda3/pkgs/pandas-1.4.4-py39h6a678d5_0/lib/python3.9/site-packages/pandas-1.4.4-py3.9.egg-info/installed-files.txt\n",
      "./anaconda3/pkgs/pandas-1.4.4-py39h6a678d5_0/lib/python3.9/site-packages/pandas-1.4.4-py3.9.egg-info/requires.txt\n",
      "./anaconda3/pkgs/pandas-1.4.4-py39h6a678d5_0/lib/python3.9/site-packages/pandas-1.4.4-py3.9.egg-info/top_level.txt\n",
      "./anaconda3/pkgs/pandas-1.4.4-py39h6a678d5_0/lib/python3.9/site-packages/pandas-1.4.4-py3.9.egg-info/dependency_links.txt\n",
      "./anaconda3/pkgs/pandas-1.4.4-py39h6a678d5_0/lib/python3.9/site-packages/pandas-1.4.4-py3.9.egg-info/entry_points.txt\n",
      "./anaconda3/pkgs/pyqtwebengine-5.15.7-py39h6a678d5_1/info/recipe/parent/yum_requirements.txt\n",
      "./anaconda3/pkgs/itemloaders-1.0.4-pyhd3eb1b0_1/site-packages/itemloaders-1.0.4.dist-info/top_level.txt\n",
      "./anaconda3/pkgs/future-0.18.2-py39h06a4308_1/lib/python3.9/site-packages/future-0.18.2.dist-info/top_level.txt\n",
      "./anaconda3/pkgs/future-0.18.2-py39h06a4308_1/lib/python3.9/site-packages/future-0.18.2.dist-info/LICENSE.txt\n",
      "./anaconda3/pkgs/future-0.18.2-py39h06a4308_1/lib/python3.9/site-packages/future-0.18.2.dist-info/entry_points.txt\n",
      "./anaconda3/pkgs/future-0.18.2-py39h06a4308_1/info/recipe/recipe_log.txt\n",
      "./anaconda3/pkgs/future-0.18.2-py39h06a4308_1/info/licenses/LICENSE.txt\n",
      "./anaconda3/pkgs/decorator-5.1.1-pyhd3eb1b0_0/info/licenses/LICENSE.txt\n",
      "./anaconda3/pkgs/decorator-5.1.1-pyhd3eb1b0_0/site-packages/decorator-5.1.1.dist-info/top_level.txt\n",
      "./anaconda3/pkgs/decorator-5.1.1-pyhd3eb1b0_0/site-packages/decorator-5.1.1.dist-info/LICENSE.txt\n",
      "./anaconda3/pkgs/c-ares-1.18.1-h7f8727e_0/info/recipe/recipe_log.txt\n",
      "./anaconda3/pkgs/jupyter_client-7.3.4-py39h06a4308_0/lib/python3.9/site-packages/jupyter_client-7.3.4.dist-info/entry_points.txt\n",
      "./anaconda3/pkgs/intake-0.6.5-pyhd3eb1b0_0/info/test/intake/catalog/tests/catalog_search/example_packages/ep-0.1.dist-info/entry_points.txt\n",
      "./anaconda3/pkgs/intake-0.6.5-pyhd3eb1b0_0/site-packages/intake-0.6.5.dist-info/top_level.txt\n",
      "./anaconda3/pkgs/intake-0.6.5-pyhd3eb1b0_0/site-packages/intake-0.6.5.dist-info/entry_points.txt\n",
      "./anaconda3/pkgs/intake-0.6.5-pyhd3eb1b0_0/site-packages/intake/catalog/tests/catalog_search/example_packages/ep-0.1.dist-info/entry_points.txt\n",
      "./anaconda3/pkgs/notebook-6.4.12-py39h06a4308_0/lib/python3.9/site-packages/notebook-6.4.12.dist-info/top_level.txt\n",
      "./anaconda3/pkgs/notebook-6.4.12-py39h06a4308_0/lib/python3.9/site-packages/notebook-6.4.12.dist-info/entry_points.txt\n",
      "./anaconda3/pkgs/notebook-6.4.12-py39h06a4308_0/lib/python3.9/site-packages/notebook/bundler/tests/resources/subdir/test_file.txt\n",
      "./anaconda3/pkgs/notebook-6.4.12-py39h06a4308_0/lib/python3.9/site-packages/notebook/bundler/tests/resources/another_subdir/test_file.txt\n",
      "./anaconda3/pkgs/notebook-6.4.12-py39h06a4308_0/lib/python3.9/site-packages/notebook/static/robots.txt\n",
      "./anaconda3/pkgs/poyo-0.5.0-pyhd3eb1b0_0/info/recipe/recipe_log.txt\n",
      "./anaconda3/pkgs/poyo-0.5.0-pyhd3eb1b0_0/site-packages/poyo-0.5.0.dist-info/top_level.txt\n",
      "./anaconda3/pkgs/tifffile-2021.7.2-pyhd3eb1b0_2/site-packages/tifffile-2021.7.2.dist-info/top_level.txt\n",
      "./anaconda3/pkgs/tifffile-2021.7.2-pyhd3eb1b0_2/site-packages/tifffile-2021.7.2.dist-info/entry_points.txt\n",
      "./anaconda3/pkgs/mkl-2021.4.0-h06a4308_640/info/recipe/parent/recipe_log.txt\n",
      "./anaconda3/pkgs/mkl-2021.4.0-h06a4308_640/info/licenses/mkl/info/licenses/license.txt\n",
      "./anaconda3/pkgs/multipledispatch-0.6.0-py39h06a4308_0/lib/python3.9/site-packages/multipledispatch-0.6.0.dist-info/top_level.txt\n",
      "./anaconda3/pkgs/multipledispatch-0.6.0-py39h06a4308_0/info/recipe/recipe_log.txt\n",
      "./anaconda3/pkgs/datashape-0.5.4-py39h06a4308_1/lib/python3.9/site-packages/datashape-0.5.4-py3.9.egg-info/SOURCES.txt\n",
      "./anaconda3/pkgs/datashape-0.5.4-py39h06a4308_1/lib/python3.9/site-packages/datashape-0.5.4-py3.9.egg-info/requires.txt\n",
      "./anaconda3/pkgs/datashape-0.5.4-py39h06a4308_1/lib/python3.9/site-packages/datashape-0.5.4-py3.9.egg-info/top_level.txt\n",
      "./anaconda3/pkgs/datashape-0.5.4-py39h06a4308_1/lib/python3.9/site-packages/datashape-0.5.4-py3.9.egg-info/dependency_links.txt\n",
      "./anaconda3/pkgs/datashape-0.5.4-py39h06a4308_1/info/recipe/recipe_log.txt\n",
      "./anaconda3/pkgs/sortedcontainers-2.4.0-pyhd3eb1b0_0/site-packages/sortedcontainers-2.4.0.dist-info/top_level.txt\n",
      "./anaconda3/pkgs/markdown-3.3.4-py39h06a4308_0/lib/python3.9/site-packages/Markdown-3.3.4.dist-info/top_level.txt\n",
      "./anaconda3/pkgs/markdown-3.3.4-py39h06a4308_0/lib/python3.9/site-packages/Markdown-3.3.4.dist-info/entry_points.txt\n",
      "./anaconda3/pkgs/hvplot-0.8.0-py39h06a4308_0/lib/python3.9/site-packages/hvplot-0.8.0.dist-info/top_level.txt\n",
      "./anaconda3/pkgs/hvplot-0.8.0-py39h06a4308_0/lib/python3.9/site-packages/hvplot-0.8.0.dist-info/entry_points.txt\n",
      "./anaconda3/pkgs/importlib_metadata-4.11.3-hd3eb1b0_0/info/recipe/parent/recipe_log.txt\n",
      "./anaconda3/pkgs/libtiff-4.4.0-hecacb30_0/info/recipe/yum_requirements.txt\n",
      "./anaconda3/pkgs/backports.weakref-1.0.post1-py_1/info/recipe/recipe_log.txt\n",
      "./anaconda3/pkgs/backports.weakref-1.0.post1-py_1/site-packages/backports.weakref-1.0.post1-py2.7.egg-info/SOURCES.txt\n",
      "./anaconda3/pkgs/backports.weakref-1.0.post1-py_1/site-packages/backports.weakref-1.0.post1-py2.7.egg-info/top_level.txt\n",
      "./anaconda3/pkgs/backports.weakref-1.0.post1-py_1/site-packages/backports.weakref-1.0.post1-py2.7.egg-info/dependency_links.txt\n",
      "./anaconda3/pkgs/patsy-0.5.2-py39h06a4308_1/lib/python3.9/site-packages/patsy-0.5.2-py3.9.egg-info/SOURCES.txt\n",
      "./anaconda3/pkgs/patsy-0.5.2-py39h06a4308_1/lib/python3.9/site-packages/patsy-0.5.2-py3.9.egg-info/requires.txt\n",
      "./anaconda3/pkgs/patsy-0.5.2-py39h06a4308_1/lib/python3.9/site-packages/patsy-0.5.2-py3.9.egg-info/top_level.txt\n",
      "./anaconda3/pkgs/patsy-0.5.2-py39h06a4308_1/lib/python3.9/site-packages/patsy-0.5.2-py3.9.egg-info/dependency_links.txt\n",
      "./anaconda3/pkgs/patsy-0.5.2-py39h06a4308_1/info/recipe/recipe_log.txt\n",
      "./anaconda3/pkgs/patsy-0.5.2-py39h06a4308_1/info/licenses/LICENSE.txt\n",
      "./anaconda3/pkgs/jdcal-1.4.1-pyhd3eb1b0_0/info/licenses/LICENSE.txt\n",
      "./anaconda3/pkgs/jdcal-1.4.1-pyhd3eb1b0_0/site-packages/jdcal-1.4.1.dist-info/top_level.txt\n",
      "./anaconda3/pkgs/jdcal-1.4.1-pyhd3eb1b0_0/site-packages/jdcal-1.4.1.dist-info/LICENSE.txt\n",
      "./anaconda3/pkgs/plotly-5.9.0-py39h06a4308_0/lib/python3.9/site-packages/plotly-5.9.0.dist-info/top_level.txt\n",
      "./anaconda3/pkgs/plotly-5.9.0-py39h06a4308_0/lib/python3.9/site-packages/plotly-5.9.0.dist-info/LICENSE.txt\n",
      "./anaconda3/pkgs/plotly-5.9.0-py39h06a4308_0/lib/python3.9/site-packages/jupyterlab_plotly/nbextension/index.js.LICENSE.txt\n",
      "./anaconda3/pkgs/plotly-5.9.0-py39h06a4308_0/lib/python3.9/site-packages/jupyterlab_plotly/labextension/static/478.f9a7116e09cbfb956212.js.LICENSE.txt\n",
      "./anaconda3/pkgs/plotly-5.9.0-py39h06a4308_0/lib/python3.9/site-packages/jupyterlab_plotly/labextension/static/486.52aa9063b291ec574154.js.LICENSE.txt\n",
      "./anaconda3/pkgs/plotly-5.9.0-py39h06a4308_0/share/jupyter/labextensions/jupyterlab-plotly/static/478.f9a7116e09cbfb956212.js.LICENSE.txt\n",
      "./anaconda3/pkgs/plotly-5.9.0-py39h06a4308_0/share/jupyter/labextensions/jupyterlab-plotly/static/486.52aa9063b291ec574154.js.LICENSE.txt\n",
      "./anaconda3/pkgs/plotly-5.9.0-py39h06a4308_0/share/jupyter/nbextensions/jupyterlab-plotly/index.js.LICENSE.txt\n",
      "./anaconda3/pkgs/plotly-5.9.0-py39h06a4308_0/info/recipe/LICENSE.txt\n",
      "./anaconda3/pkgs/plotly-5.9.0-py39h06a4308_0/info/licenses/LICENSE0.txt\n",
      "./anaconda3/pkgs/ipython_genutils-0.2.0-pyhd3eb1b0_1/info/recipe/recipe_log.txt\n",
      "./anaconda3/pkgs/ipython_genutils-0.2.0-pyhd3eb1b0_1/site-packages/ipython_genutils-0.2.0.dist-info/top_level.txt\n",
      "./anaconda3/pkgs/arrow-1.2.2-pyhd3eb1b0_0/site-packages/arrow-1.2.2.dist-info/top_level.txt\n",
      "./anaconda3/pkgs/widgetsnbextension-3.5.2-py39h06a4308_0/lib/python3.9/site-packages/widgetsnbextension-3.5.2.dist-info/top_level.txt\n",
      "./anaconda3/pkgs/widgetsnbextension-3.5.2-py39h06a4308_0/info/recipe/recipe_log.txt\n",
      "./anaconda3/pkgs/idna-3.3-pyhd3eb1b0_0/site-packages/idna-3.3.dist-info/top_level.txt\n",
      "./anaconda3/pkgs/lz4-c-1.9.3-h295c915_1/info/recipe/recipe_log.txt\n",
      "./anaconda3/pkgs/ca-certificates-2022.07.19-h06a4308_0/info/recipe/LICENSE.txt\n",
      "./anaconda3/pkgs/ca-certificates-2022.07.19-h06a4308_0/info/licenses/LICENSE.txt\n",
      "./anaconda3/pkgs/mpfr-4.0.2-hb69a4c5_1/info/recipe/recipe_log.txt\n",
      "./anaconda3/pkgs/mpfr-4.0.2-hb69a4c5_1/info/licenses/LICENSE0.txt\n",
      "./anaconda3/pkgs/mkl_random-1.2.2-py39h51133e4_0/lib/python3.9/site-packages/mkl_random-1.2.2.dist-info/top_level.txt\n",
      "./anaconda3/pkgs/mkl_random-1.2.2-py39h51133e4_0/lib/python3.9/site-packages/mkl_random-1.2.2.dist-info/LICENSE.txt\n",
      "./anaconda3/pkgs/mkl_random-1.2.2-py39h51133e4_0/info/recipe/recipe_log.txt\n",
      "./anaconda3/pkgs/mkl_random-1.2.2-py39h51133e4_0/info/licenses/LICENSE.txt\n",
      "./anaconda3/pkgs/boto3-1.24.28-py39h06a4308_0/lib/python3.9/site-packages/boto3-1.24.28.dist-info/top_level.txt\n",
      "./anaconda3/pkgs/bzip2-1.0.8-h7b6447c_0/info/recipe/recipe_log.txt\n",
      "./anaconda3/pkgs/bzip2-1.0.8-h7b6447c_0/info/LICENSE.txt\n",
      "./anaconda3/pkgs/pyqt5-sip-12.11.0-py39h6a678d5_1/lib/python3.9/site-packages/PyQt5_sip-12.11.0-py3.9-linux-x86_64.egg-info/SOURCES.txt\n",
      "./anaconda3/pkgs/pyqt5-sip-12.11.0-py39h6a678d5_1/lib/python3.9/site-packages/PyQt5_sip-12.11.0-py3.9-linux-x86_64.egg-info/top_level.txt\n",
      "./anaconda3/pkgs/pyqt5-sip-12.11.0-py39h6a678d5_1/lib/python3.9/site-packages/PyQt5_sip-12.11.0-py3.9-linux-x86_64.egg-info/dependency_links.txt\n",
      "./anaconda3/pkgs/pyqt5-sip-12.11.0-py39h6a678d5_1/lib/python3.9/site-packages/PyQt5_sip-12.11.0-py3.9-linux-x86_64.egg-info/native_libs.txt\n",
      "./anaconda3/pkgs/pyqt5-sip-12.11.0-py39h6a678d5_1/info/recipe/parent/yum_requirements.txt\n",
      "./anaconda3/pkgs/ruamel.yaml.clib-0.2.6-py39h5eee18b_1/lib/python3.9/site-packages/ruamel.yaml.clib-0.2.6.dist-info/top_level.txt\n",
      "./anaconda3/pkgs/ruamel.yaml.clib-0.2.6-py39h5eee18b_1/lib/python3.9/site-packages/ruamel.yaml.clib-0.2.6.dist-info/namespace_packages.txt\n",
      "./anaconda3/pkgs/nltk-3.7-pyhd3eb1b0_0/info/licenses/LICENSE.txt\n",
      "./anaconda3/pkgs/nltk-3.7-pyhd3eb1b0_0/site-packages/nltk-3.7.dist-info/top_level.txt\n",
      "./anaconda3/pkgs/nltk-3.7-pyhd3eb1b0_0/site-packages/nltk-3.7.dist-info/LICENSE.txt\n",
      "./anaconda3/pkgs/nltk-3.7-pyhd3eb1b0_0/site-packages/nltk-3.7.dist-info/entry_points.txt\n",
      "./anaconda3/pkgs/gstreamer-1.14.0-h28cd5cc_2/info/recipe/parent/recipe_log.txt\n",
      "./anaconda3/pkgs/binaryornot-0.4.4-pyhd3eb1b0_1/info/recipe/recipe_log.txt\n",
      "./anaconda3/pkgs/binaryornot-0.4.4-pyhd3eb1b0_1/info/test/binaryornot.egg-info/SOURCES.txt\n",
      "./anaconda3/pkgs/binaryornot-0.4.4-pyhd3eb1b0_1/info/test/binaryornot.egg-info/requires.txt\n",
      "./anaconda3/pkgs/binaryornot-0.4.4-pyhd3eb1b0_1/info/test/binaryornot.egg-info/top_level.txt\n",
      "./anaconda3/pkgs/binaryornot-0.4.4-pyhd3eb1b0_1/info/test/binaryornot.egg-info/dependency_links.txt\n",
      "./anaconda3/pkgs/binaryornot-0.4.4-pyhd3eb1b0_1/info/test/tests/files/unicode.txt\n",
      "./anaconda3/pkgs/binaryornot-0.4.4-pyhd3eb1b0_1/info/test/tests/files/empty.txt\n",
      "./anaconda3/pkgs/binaryornot-0.4.4-pyhd3eb1b0_1/info/test/tests/files/robots.txt\n",
      "./anaconda3/pkgs/binaryornot-0.4.4-pyhd3eb1b0_1/info/test/tests/isBinaryFile/encodings/test-kr.txt\n",
      "./anaconda3/pkgs/binaryornot-0.4.4-pyhd3eb1b0_1/info/test/tests/isBinaryFile/encodings/test-gb.txt\n",
      "./anaconda3/pkgs/binaryornot-0.4.4-pyhd3eb1b0_1/info/test/tests/isBinaryFile/encodings/big5.txt\n",
      "./anaconda3/pkgs/binaryornot-0.4.4-pyhd3eb1b0_1/info/test/tests/isBinaryFile/encodings/big5_B.txt\n",
      "./anaconda3/pkgs/binaryornot-0.4.4-pyhd3eb1b0_1/info/test/tests/isBinaryFile/encodings/bom_utf-32.txt\n",
      "./anaconda3/pkgs/binaryornot-0.4.4-pyhd3eb1b0_1/info/test/tests/isBinaryFile/encodings/test-shishi.txt\n",
      "./anaconda3/pkgs/binaryornot-0.4.4-pyhd3eb1b0_1/info/test/tests/isBinaryFile/encodings/test-gb2.txt\n",
      "./anaconda3/pkgs/binaryornot-0.4.4-pyhd3eb1b0_1/info/test/tests/isBinaryFile/encodings/utf8cn.txt\n",
      "./anaconda3/pkgs/binaryornot-0.4.4-pyhd3eb1b0_1/info/test/tests/isBinaryFile/encodings/utf_8.txt\n",
      "./anaconda3/pkgs/binaryornot-0.4.4-pyhd3eb1b0_1/info/test/tests/isBinaryFile/encodings/test-latin.txt\n",
      "./anaconda3/pkgs/binaryornot-0.4.4-pyhd3eb1b0_1/info/test/tests/isBinaryFile/encodings/bom_utf-32le.txt\n",
      "./anaconda3/pkgs/binaryornot-0.4.4-pyhd3eb1b0_1/info/test/tests/isBinaryFile/encodings/bom_utf-16le.txt\n",
      "./anaconda3/pkgs/binaryornot-0.4.4-pyhd3eb1b0_1/info/test/tests/isBinaryFile/encodings/bom_utf-8.txt\n",
      "./anaconda3/pkgs/binaryornot-0.4.4-pyhd3eb1b0_1/info/test/tests/isBinaryFile/encodings/bom_utf-16.txt\n",
      "./anaconda3/pkgs/binaryornot-0.4.4-pyhd3eb1b0_1/info/test/tests/isBinaryFile/encodings/test-utf16be.txt\n",
      "./anaconda3/pkgs/binaryornot-0.4.4-pyhd3eb1b0_1/site-packages/binaryornot-0.4.4.dist-info/top_level.txt\n",
      "./anaconda3/pkgs/nbconvert-6.4.4-py39h06a4308_0/lib/python3.9/site-packages/nbconvert/tests/exporter_entrypoint/eptest-0.1.dist-info/entry_points.txt\n",
      "./anaconda3/pkgs/nbconvert-6.4.4-py39h06a4308_0/lib/python3.9/site-packages/nbconvert-6.4.4.dist-info/top_level.txt\n",
      "./anaconda3/pkgs/nbconvert-6.4.4-py39h06a4308_0/lib/python3.9/site-packages/nbconvert-6.4.4.dist-info/entry_points.txt\n",
      "./anaconda3/pkgs/libgfortran5-11.2.0-h1234567_1/info/recipe/parent/tests/fortomp/CMakeLists.txt\n",
      "./anaconda3/pkgs/openpyxl-3.0.10-py39h5eee18b_0/lib/python3.9/site-packages/openpyxl-3.0.10-py3.9.egg-info/SOURCES.txt\n",
      "./anaconda3/pkgs/openpyxl-3.0.10-py39h5eee18b_0/lib/python3.9/site-packages/openpyxl-3.0.10-py3.9.egg-info/installed-files.txt\n",
      "./anaconda3/pkgs/openpyxl-3.0.10-py39h5eee18b_0/lib/python3.9/site-packages/openpyxl-3.0.10-py3.9.egg-info/requires.txt\n",
      "./anaconda3/pkgs/openpyxl-3.0.10-py39h5eee18b_0/lib/python3.9/site-packages/openpyxl-3.0.10-py3.9.egg-info/top_level.txt\n",
      "./anaconda3/pkgs/openpyxl-3.0.10-py39h5eee18b_0/lib/python3.9/site-packages/openpyxl-3.0.10-py3.9.egg-info/dependency_links.txt\n",
      "./anaconda3/pkgs/pyzmq-23.2.0-py39h6a678d5_0/lib/python3.9/site-packages/pyzmq-23.2.0.dist-info/top_level.txt\n",
      "./anaconda3/pkgs/jupyter_latex_envs-1.4.6-pyhd8ed1ab_1002/info/licenses/LICENSE.txt\n",
      "./anaconda3/pkgs/jupyter_latex_envs-1.4.6-pyhd8ed1ab_1002/site-packages/jupyter_latex_envs-1.4.6.dist-info/top_level.txt\n",
      "./anaconda3/pkgs/jupyter_latex_envs-1.4.6-pyhd8ed1ab_1002/site-packages/jupyter_latex_envs-1.4.6.dist-info/LICENSE.txt\n",
      "./anaconda3/pkgs/jupyter_latex_envs-1.4.6-pyhd8ed1ab_1002/site-packages/jupyter_latex_envs-1.4.6.dist-info/entry_points.txt\n",
      "./anaconda3/pkgs/spyder-5.3.3-py39h06a4308_0/lib/python3.9/site-packages/spyder/plugins/help/utils/LICENSE.txt\n",
      "./anaconda3/pkgs/spyder-5.3.3-py39h06a4308_0/lib/python3.9/site-packages/spyder/plugins/help/utils/js/mathjax/LICENSE.txt\n",
      "./anaconda3/pkgs/spyder-5.3.3-py39h06a4308_0/lib/python3.9/site-packages/spyder/images/LICENSE.txt\n",
      "./anaconda3/pkgs/spyder-5.3.3-py39h06a4308_0/lib/python3.9/site-packages/spyder/utils/external/binaryornot/LICENSE.txt\n",
      "./anaconda3/pkgs/spyder-5.3.3-py39h06a4308_0/lib/python3.9/site-packages/spyder/utils/external/LICENSE.txt\n",
      "./anaconda3/pkgs/spyder-5.3.3-py39h06a4308_0/lib/python3.9/site-packages/spyder/widgets/github/LICENSE.txt\n",
      "./anaconda3/pkgs/spyder-5.3.3-py39h06a4308_0/lib/python3.9/site-packages/spyder-5.3.3.dist-info/AUTHORS.txt\n",
      "./anaconda3/pkgs/spyder-5.3.3-py39h06a4308_0/lib/python3.9/site-packages/spyder-5.3.3.dist-info/top_level.txt\n",
      "./anaconda3/pkgs/spyder-5.3.3-py39h06a4308_0/lib/python3.9/site-packages/spyder-5.3.3.dist-info/NOTICE.txt\n",
      "./anaconda3/pkgs/spyder-5.3.3-py39h06a4308_0/lib/python3.9/site-packages/spyder-5.3.3.dist-info/LICENSE.txt\n",
      "./anaconda3/pkgs/spyder-5.3.3-py39h06a4308_0/lib/python3.9/site-packages/spyder-5.3.3.dist-info/entry_points.txt\n",
      "./anaconda3/pkgs/spyder-5.3.3-py39h06a4308_0/info/licenses/LICENSE.txt\n",
      "./anaconda3/pkgs/mkl-service-2.4.0-py39h7f8727e_0/lib/python3.9/site-packages/mkl_service-2.4.0-py3.9.egg-info/SOURCES.txt\n",
      "./anaconda3/pkgs/mkl-service-2.4.0-py39h7f8727e_0/lib/python3.9/site-packages/mkl_service-2.4.0-py3.9.egg-info/top_level.txt\n",
      "./anaconda3/pkgs/mkl-service-2.4.0-py39h7f8727e_0/lib/python3.9/site-packages/mkl_service-2.4.0-py3.9.egg-info/dependency_links.txt\n",
      "./anaconda3/pkgs/mkl-service-2.4.0-py39h7f8727e_0/info/recipe/recipe_log.txt\n",
      "./anaconda3/pkgs/mkl-service-2.4.0-py39h7f8727e_0/info/licenses/LICENSE.txt\n",
      "./anaconda3/pkgs/mock-4.0.3-pyhd3eb1b0_0/info/licenses/LICENSE.txt\n",
      "./anaconda3/pkgs/mock-4.0.3-pyhd3eb1b0_0/site-packages/mock-4.0.3.dist-info/top_level.txt\n",
      "./anaconda3/pkgs/mock-4.0.3-pyhd3eb1b0_0/site-packages/mock-4.0.3.dist-info/LICENSE.txt\n",
      "./anaconda3/pkgs/munkres-1.1.4-py_0/site-packages/munkres-1.1.4-py3.6.egg-info/SOURCES.txt\n",
      "./anaconda3/pkgs/munkres-1.1.4-py_0/site-packages/munkres-1.1.4-py3.6.egg-info/top_level.txt\n",
      "./anaconda3/pkgs/munkres-1.1.4-py_0/site-packages/munkres-1.1.4-py3.6.egg-info/dependency_links.txt\n",
      "./anaconda3/pkgs/libclang-10.0.1-default_hb85057a_2/info/recipe/parent/recipe_log.txt\n",
      "./anaconda3/pkgs/dal-2021.6.0-hdb19cb5_916/info/licenses/dal/info/licenses/tpp.txt\n",
      "./anaconda3/pkgs/dal-2021.6.0-hdb19cb5_916/info/licenses/dal/info/licenses/license.txt\n",
      "./anaconda3/pkgs/spyder-kernels-2.3.3-py39h06a4308_0/lib/python3.9/site-packages/spyder_kernels-2.3.3.dist-info/AUTHORS.txt\n",
      "./anaconda3/pkgs/spyder-kernels-2.3.3-py39h06a4308_0/lib/python3.9/site-packages/spyder_kernels-2.3.3.dist-info/top_level.txt\n",
      "./anaconda3/pkgs/spyder-kernels-2.3.3-py39h06a4308_0/lib/python3.9/site-packages/spyder_kernels-2.3.3.dist-info/LICENSE.txt\n",
      "./anaconda3/pkgs/spyder-kernels-2.3.3-py39h06a4308_0/info/licenses/LICENSE.txt\n",
      "./anaconda3/pkgs/daal4py-2021.6.0-py39h79cecc1_1/lib/python3.9/site-packages/daal4py-2021.6.0-py3.9.egg-info/SOURCES.txt\n",
      "./anaconda3/pkgs/daal4py-2021.6.0-py39h79cecc1_1/lib/python3.9/site-packages/daal4py-2021.6.0-py3.9.egg-info/requires.txt\n",
      "./anaconda3/pkgs/daal4py-2021.6.0-py39h79cecc1_1/lib/python3.9/site-packages/daal4py-2021.6.0-py3.9.egg-info/top_level.txt\n",
      "./anaconda3/pkgs/daal4py-2021.6.0-py39h79cecc1_1/lib/python3.9/site-packages/daal4py-2021.6.0-py3.9.egg-info/dependency_links.txt\n",
      "./anaconda3/pkgs/daal4py-2021.6.0-py39h79cecc1_1/info/licenses/doc/daal4py/third-party-programs.txt\n",
      "./anaconda3/pkgs/packaging-21.3-pyhd3eb1b0_0/site-packages/packaging-21.3.dist-info/top_level.txt\n",
      "./anaconda3/pkgs/prompt-toolkit-3.0.20-pyhd3eb1b0_0/info/recipe/recipe_log.txt\n",
      "./anaconda3/pkgs/prompt-toolkit-3.0.20-pyhd3eb1b0_0/site-packages/prompt_toolkit-3.0.20.dist-info/top_level.txt\n",
      "./anaconda3/pkgs/intervaltree-3.1.0-pyhd3eb1b0_0/info/licenses/LICENSE.txt\n",
      "./anaconda3/pkgs/intervaltree-3.1.0-pyhd3eb1b0_0/site-packages/intervaltree-3.1.0.dist-info/top_level.txt\n",
      "./anaconda3/pkgs/intervaltree-3.1.0-pyhd3eb1b0_0/site-packages/intervaltree-3.1.0.dist-info/LICENSE.txt\n",
      "./anaconda3/pkgs/libspatialindex-1.9.3-h2531618_0/info/recipe/recipe_log.txt\n",
      "./anaconda3/pkgs/lerc-3.0-h295c915_0/info/recipe/recipe_log.txt\n",
      "./anaconda3/pkgs/qtawesome-1.0.3-pyhd3eb1b0_0/info/recipe/recipe_log.txt\n",
      "./anaconda3/pkgs/qtawesome-1.0.3-pyhd3eb1b0_0/info/recipe/yum_requirements.txt\n",
      "./anaconda3/pkgs/qtawesome-1.0.3-pyhd3eb1b0_0/info/licenses/LICENSE.txt\n",
      "./anaconda3/pkgs/qtawesome-1.0.3-pyhd3eb1b0_0/site-packages/QtAwesome-1.0.3.dist-info/top_level.txt\n",
      "./anaconda3/pkgs/qtawesome-1.0.3-pyhd3eb1b0_0/site-packages/QtAwesome-1.0.3.dist-info/LICENSE.txt\n",
      "./anaconda3/pkgs/qtawesome-1.0.3-pyhd3eb1b0_0/site-packages/QtAwesome-1.0.3.dist-info/entry_points.txt\n",
      "./anaconda3/pkgs/numba-0.55.1-py39h51133e4_0/lib/python3.9/site-packages/numba-0.55.1.dist-info/top_level.txt\n",
      "./anaconda3/pkgs/argon2-cffi-bindings-21.2.0-py39h7f8727e_0/lib/python3.9/site-packages/argon2_cffi_bindings-21.2.0.dist-info/top_level.txt\n",
      "./anaconda3/pkgs/argon2-cffi-bindings-21.2.0-py39h7f8727e_0/info/recipe/recipe_log.txt\n",
      "./anaconda3/pkgs/conda-build-3.22.0-py39h06a4308_0/lib/python3.9/site-packages/conda_build-3.22.0-py3.9.egg-info/SOURCES.txt\n",
      "./anaconda3/pkgs/conda-build-3.22.0-py39h06a4308_0/lib/python3.9/site-packages/conda_build-3.22.0-py3.9.egg-info/requires.txt\n",
      "./anaconda3/pkgs/conda-build-3.22.0-py39h06a4308_0/lib/python3.9/site-packages/conda_build-3.22.0-py3.9.egg-info/top_level.txt\n",
      "./anaconda3/pkgs/conda-build-3.22.0-py39h06a4308_0/lib/python3.9/site-packages/conda_build-3.22.0-py3.9.egg-info/dependency_links.txt\n",
      "./anaconda3/pkgs/conda-build-3.22.0-py39h06a4308_0/lib/python3.9/site-packages/conda_build-3.22.0-py3.9.egg-info/entry_points.txt\n",
      "./anaconda3/pkgs/conda-build-3.22.0-py39h06a4308_0/info/licenses/LICENSE.txt\n",
      "./anaconda3/pkgs/qstylizer-0.1.10-pyhd3eb1b0_0/info/recipe/recipe_log.txt\n",
      "./anaconda3/pkgs/qstylizer-0.1.10-pyhd3eb1b0_0/info/licenses/LICENSE.txt\n",
      "./anaconda3/pkgs/qstylizer-0.1.10-pyhd3eb1b0_0/site-packages/qstylizer-0.1.10.dist-info/top_level.txt\n",
      "./anaconda3/pkgs/qstylizer-0.1.10-pyhd3eb1b0_0/site-packages/qstylizer-0.1.10.dist-info/LICENSE.txt\n",
      "./anaconda3/pkgs/distributed-2022.7.0-py39h06a4308_0/lib/python3.9/site-packages/distributed-2022.7.0.dist-info/top_level.txt\n",
      "./anaconda3/pkgs/distributed-2022.7.0-py39h06a4308_0/lib/python3.9/site-packages/distributed-2022.7.0.dist-info/LICENSE.txt\n",
      "./anaconda3/pkgs/distributed-2022.7.0-py39h06a4308_0/lib/python3.9/site-packages/distributed-2022.7.0.dist-info/entry_points.txt\n",
      "./anaconda3/pkgs/distributed-2022.7.0-py39h06a4308_0/info/licenses/LICENSE.txt\n",
      "./anaconda3/pkgs/panel-0.13.1-py39h06a4308_0/lib/python3.9/site-packages/panel/examples/apps/django2/requirements.txt\n",
      "./anaconda3/pkgs/panel-0.13.1-py39h06a4308_0/lib/python3.9/site-packages/panel/examples/apps/django_multi_apps/requirements.txt\n",
      "./anaconda3/pkgs/panel-0.13.1-py39h06a4308_0/lib/python3.9/site-packages/panel-0.13.1.dist-info/top_level.txt\n",
      "./anaconda3/pkgs/panel-0.13.1-py39h06a4308_0/lib/python3.9/site-packages/panel-0.13.1.dist-info/LICENSE.txt\n",
      "./anaconda3/pkgs/panel-0.13.1-py39h06a4308_0/lib/python3.9/site-packages/panel-0.13.1.dist-info/entry_points.txt\n",
      "./anaconda3/pkgs/panel-0.13.1-py39h06a4308_0/info/licenses/LICENSE.txt\n",
      "./anaconda3/pkgs/pyhamcrest-2.0.2-pyhd3eb1b0_2/site-packages/PyHamcrest-2.0.2.dist-info/top_level.txt\n",
      "./anaconda3/pkgs/pyhamcrest-2.0.2-pyhd3eb1b0_2/site-packages/PyHamcrest-2.0.2.dist-info/LICENSE.txt\n",
      "./anaconda3/pkgs/numpy-1.21.5-py39h6c91a56_3/info/licenses/LICENSE.txt\n",
      "./anaconda3/pkgs/bkcharts-0.2-py39h06a4308_1/lib/python3.9/site-packages/bkcharts-0.2-py3.9.egg-info/SOURCES.txt\n",
      "./anaconda3/pkgs/bkcharts-0.2-py39h06a4308_1/lib/python3.9/site-packages/bkcharts-0.2-py3.9.egg-info/requires.txt\n",
      "./anaconda3/pkgs/bkcharts-0.2-py39h06a4308_1/lib/python3.9/site-packages/bkcharts-0.2-py3.9.egg-info/top_level.txt\n",
      "./anaconda3/pkgs/bkcharts-0.2-py39h06a4308_1/lib/python3.9/site-packages/bkcharts-0.2-py3.9.egg-info/dependency_links.txt\n",
      "./anaconda3/pkgs/bkcharts-0.2-py39h06a4308_1/info/licenses/LICENSE.txt\n",
      "./anaconda3/pkgs/sortedcollections-2.1.0-pyhd3eb1b0_0/site-packages/sortedcollections-2.1.0.dist-info/top_level.txt\n",
      "./anaconda3/pkgs/chardet-4.0.0-py39h06a4308_1003/lib/python3.9/site-packages/chardet-4.0.0.dist-info/top_level.txt\n",
      "./anaconda3/pkgs/chardet-4.0.0-py39h06a4308_1003/lib/python3.9/site-packages/chardet-4.0.0.dist-info/entry_points.txt\n",
      "./anaconda3/pkgs/send2trash-1.8.0-pyhd3eb1b0_1/info/recipe/recipe_log.txt\n",
      "./anaconda3/pkgs/send2trash-1.8.0-pyhd3eb1b0_1/site-packages/Send2Trash-1.8.0.dist-info/top_level.txt\n",
      "./anaconda3/pkgs/send2trash-1.8.0-pyhd3eb1b0_1/site-packages/Send2Trash-1.8.0.dist-info/entry_points.txt\n",
      "./anaconda3/pkgs/libffi-3.3-he6710b0_2/info/recipe/recipe_log.txt\n",
      "./anaconda3/pkgs/fontconfig-2.13.1-h6c09931_0/info/recipe/recipe_log.txt\n",
      "./anaconda3/pkgs/liblief-0.11.5-h295c915_1/info/recipe/parent/recipe_log.txt\n",
      "./anaconda3/pkgs/liblief-0.11.5-h295c915_1/info/recipe/parent/tests/CMakeLists.txt\n",
      "./anaconda3/pkgs/liblief-0.11.5-h295c915_1/info/test/tests/CMakeLists.txt\n",
      "./anaconda3/pkgs/backports.functools_lru_cache-1.6.4-pyhd3eb1b0_0/site-packages/backports.functools_lru_cache-1.6.4.dist-info/top_level.txt\n",
      "./anaconda3/pkgs/numpydoc-1.4.0-py39h06a4308_0/lib/python3.9/site-packages/numpydoc-1.4.0.dist-info/top_level.txt\n",
      "./anaconda3/pkgs/numpydoc-1.4.0-py39h06a4308_0/lib/python3.9/site-packages/numpydoc-1.4.0.dist-info/LICENSE.txt\n",
      "./anaconda3/pkgs/numpydoc-1.4.0-py39h06a4308_0/info/licenses/LICENSE.txt\n",
      "./anaconda3/pkgs/psutil-5.9.0-py39h5eee18b_0/lib/python3.9/site-packages/psutil-5.9.0.dist-info/top_level.txt\n",
      "./anaconda3/pkgs/flake8-4.0.1-pyhd3eb1b0_1/site-packages/flake8-4.0.1.dist-info/top_level.txt\n",
      "./anaconda3/pkgs/flake8-4.0.1-pyhd3eb1b0_1/site-packages/flake8-4.0.1.dist-info/entry_points.txt\n",
      "./anaconda3/pkgs/conda-pack-0.6.0-pyhd3eb1b0_0/info/licenses/LICENSE.txt\n",
      "./anaconda3/pkgs/conda-pack-0.6.0-pyhd3eb1b0_0/site-packages/conda_pack-0.6.0.dist-info/top_level.txt\n",
      "./anaconda3/pkgs/conda-pack-0.6.0-pyhd3eb1b0_0/site-packages/conda_pack-0.6.0.dist-info/LICENSE.txt\n",
      "./anaconda3/pkgs/conda-pack-0.6.0-pyhd3eb1b0_0/site-packages/conda_pack-0.6.0.dist-info/entry_points.txt\n",
      "./anaconda3/pkgs/seaborn-0.11.2-pyhd3eb1b0_0/site-packages/seaborn-0.11.2.dist-info/top_level.txt\n",
      "./anaconda3/pkgs/toolz-0.11.2-pyhd3eb1b0_0/info/licenses/LICENSE.txt\n",
      "./anaconda3/pkgs/toolz-0.11.2-pyhd3eb1b0_0/site-packages/toolz-0.11.2.dist-info/top_level.txt\n",
      "./anaconda3/pkgs/toolz-0.11.2-pyhd3eb1b0_0/site-packages/toolz-0.11.2.dist-info/LICENSE.txt\n",
      "./anaconda3/pkgs/zope.interface-5.4.0-py39h7f8727e_0/lib/python3.9/site-packages/zope.interface-5.4.0.dist-info/top_level.txt\n",
      "./anaconda3/pkgs/zope.interface-5.4.0-py39h7f8727e_0/lib/python3.9/site-packages/zope.interface-5.4.0.dist-info/namespace_packages.txt\n",
      "./anaconda3/pkgs/zope.interface-5.4.0-py39h7f8727e_0/lib/python3.9/site-packages/zope.interface-5.4.0.dist-info/LICENSE.txt\n",
      "./anaconda3/pkgs/zope.interface-5.4.0-py39h7f8727e_0/info/licenses/LICENSE.txt\n",
      "./anaconda3/pkgs/jedi-0.18.1-py39h06a4308_1/lib/python3.9/site-packages/jedi/third_party/django-stubs/LICENSE.txt\n",
      "./anaconda3/pkgs/jedi-0.18.1-py39h06a4308_1/lib/python3.9/site-packages/jedi-0.18.1.dist-info/AUTHORS.txt\n",
      "./anaconda3/pkgs/jedi-0.18.1-py39h06a4308_1/lib/python3.9/site-packages/jedi-0.18.1.dist-info/top_level.txt\n",
      "./anaconda3/pkgs/jedi-0.18.1-py39h06a4308_1/lib/python3.9/site-packages/jedi-0.18.1.dist-info/LICENSE.txt\n",
      "./anaconda3/pkgs/jedi-0.18.1-py39h06a4308_1/info/recipe/recipe_log.txt\n",
      "./anaconda3/pkgs/jedi-0.18.1-py39h06a4308_1/info/licenses/LICENSE.txt\n",
      "./anaconda3/pkgs/text-unidecode-1.3-pyhd3eb1b0_0/site-packages/text_unidecode-1.3.dist-info/top_level.txt\n",
      "./anaconda3/pkgs/zipp-3.8.0-py39h06a4308_0/lib/python3.9/site-packages/zipp-3.8.0.dist-info/top_level.txt\n",
      "./anaconda3/pkgs/greenlet-1.1.1-py39h295c915_0/lib/python3.9/site-packages/greenlet-1.1.1.dist-info/top_level.txt\n",
      "./anaconda3/pkgs/msgpack-python-1.0.3-py39hd09550d_0/lib/python3.9/site-packages/msgpack-1.0.3.dist-info/top_level.txt\n",
      "./anaconda3/pkgs/mypy_extensions-0.4.3-py39h06a4308_1/lib/python3.9/site-packages/mypy_extensions-0.4.3-py3.9.egg-info/SOURCES.txt\n",
      "./anaconda3/pkgs/mypy_extensions-0.4.3-py39h06a4308_1/lib/python3.9/site-packages/mypy_extensions-0.4.3-py3.9.egg-info/requires.txt\n",
      "./anaconda3/pkgs/mypy_extensions-0.4.3-py39h06a4308_1/lib/python3.9/site-packages/mypy_extensions-0.4.3-py3.9.egg-info/top_level.txt\n",
      "./anaconda3/pkgs/mypy_extensions-0.4.3-py39h06a4308_1/lib/python3.9/site-packages/mypy_extensions-0.4.3-py3.9.egg-info/dependency_links.txt\n",
      "./anaconda3/pkgs/mypy_extensions-0.4.3-py39h06a4308_1/info/recipe/recipe_log.txt\n",
      "./anaconda3/pkgs/pathlib-1.0.1-pyhd3eb1b0_1/info/licenses/LICENSE.txt\n",
      "./anaconda3/pkgs/pathlib-1.0.1-pyhd3eb1b0_1/site-packages/pathlib-1.0.1.dist-info/top_level.txt\n",
      "./anaconda3/pkgs/pathlib-1.0.1-pyhd3eb1b0_1/site-packages/pathlib-1.0.1.dist-info/LICENSE.txt\n",
      "./anaconda3/pkgs/pyflakes-2.4.0-pyhd3eb1b0_0/site-packages/pyflakes-2.4.0.dist-info/top_level.txt\n",
      "./anaconda3/pkgs/pyflakes-2.4.0-pyhd3eb1b0_0/site-packages/pyflakes-2.4.0.dist-info/entry_points.txt\n",
      "./anaconda3/pkgs/isort-5.9.3-pyhd3eb1b0_0/site-packages/isort-5.9.3.dist-info/entry_points.txt\n",
      "./anaconda3/pkgs/s3transfer-0.6.0-py39h06a4308_0/lib/python3.9/site-packages/s3transfer-0.6.0.dist-info/top_level.txt\n",
      "./anaconda3/pkgs/s3transfer-0.6.0-py39h06a4308_0/lib/python3.9/site-packages/s3transfer-0.6.0.dist-info/NOTICE.txt\n",
      "./anaconda3/pkgs/s3transfer-0.6.0-py39h06a4308_0/lib/python3.9/site-packages/s3transfer-0.6.0.dist-info/LICENSE.txt\n",
      "./anaconda3/pkgs/s3transfer-0.6.0-py39h06a4308_0/info/licenses/LICENSE.txt\n",
      "./anaconda3/pkgs/zope-1.0-py39h06a4308_1/info/recipe/recipe_log.txt\n",
      "./anaconda3/pkgs/attrs-21.4.0-pyhd3eb1b0_0/site-packages/attrs-21.4.0.dist-info/top_level.txt\n",
      "./anaconda3/pkgs/qt-webengine-5.15.9-hd2b0992_4/info/recipe/recipe_log.txt\n",
      "./anaconda3/pkgs/qt-webengine-5.15.9-hd2b0992_4/info/recipe/yum_requirements.txt\n",
      "./anaconda3/pkgs/libnghttp2-1.46.0-hce63b2e_0/info/recipe/parent/recipe_log.txt\n",
      "./anaconda3/pkgs/six-1.16.0-pyhd3eb1b0_1/info/recipe/recipe_log.txt\n",
      "./anaconda3/pkgs/six-1.16.0-pyhd3eb1b0_1/site-packages/six-1.16.0.dist-info/top_level.txt\n",
      "./anaconda3/pkgs/nose-1.3.7-pyhd3eb1b0_1008/info/licenses/lgpl.txt\n",
      "./anaconda3/pkgs/nose-1.3.7-pyhd3eb1b0_1008/site-packages/nose-1.3.7.dist-info/top_level.txt\n",
      "./anaconda3/pkgs/nose-1.3.7-pyhd3eb1b0_1008/site-packages/nose/usage.txt\n",
      "./anaconda3/pkgs/flask-1.1.2-pyhd3eb1b0_0/site-packages/Flask-1.1.2.dist-info/top_level.txt\n",
      "./anaconda3/pkgs/flask-1.1.2-pyhd3eb1b0_0/site-packages/Flask-1.1.2.dist-info/entry_points.txt\n",
      "./anaconda3/pkgs/jupyter-1.0.0-py39h06a4308_8/lib/python3.9/site-packages/jupyter-1.0.0.dist-info/top_level.txt\n",
      "./anaconda3/pkgs/icu-58.2-he6710b0_3/info/recipe/de.txt\n",
      "./anaconda3/pkgs/icu-58.2-he6710b0_3/info/recipe/recipe_log.txt\n",
      "./anaconda3/pkgs/icu-58.2-he6710b0_3/info/test/de.txt\n",
      "./anaconda3/pkgs/xlsxwriter-3.0.3-pyhd3eb1b0_0/info/recipe/LICENSE.txt\n",
      "./anaconda3/pkgs/xlsxwriter-3.0.3-pyhd3eb1b0_0/info/licenses/LICENSE.txt\n",
      "./anaconda3/pkgs/xlsxwriter-3.0.3-pyhd3eb1b0_0/site-packages/XlsxWriter-3.0.3.dist-info/top_level.txt\n",
      "./anaconda3/pkgs/xlsxwriter-3.0.3-pyhd3eb1b0_0/site-packages/XlsxWriter-3.0.3.dist-info/LICENSE.txt\n",
      "./anaconda3/pkgs/brunsli-0.1-h2531618_0/info/recipe/recipe_log.txt\n",
      "./anaconda3/pkgs/service_identity-18.1.0-pyhd3eb1b0_1/site-packages/service_identity-18.1.0.dist-info/top_level.txt\n",
      "./anaconda3/pkgs/python-dateutil-2.8.2-pyhd3eb1b0_0/site-packages/python_dateutil-2.8.2.dist-info/top_level.txt\n",
      "./anaconda3/pkgs/anyio-3.5.0-py39h06a4308_0/lib/python3.9/site-packages/anyio-3.5.0.dist-info/top_level.txt\n",
      "./anaconda3/pkgs/anyio-3.5.0-py39h06a4308_0/lib/python3.9/site-packages/anyio-3.5.0.dist-info/entry_points.txt\n",
      "./anaconda3/pkgs/anyio-3.5.0-py39h06a4308_0/info/recipe/recipe_log.txt\n",
      "./anaconda3/pkgs/clyent-1.2.2-py39h06a4308_1/lib/python3.9/site-packages/clyent-1.2.2-py3.9.egg-info/SOURCES.txt\n",
      "./anaconda3/pkgs/clyent-1.2.2-py39h06a4308_1/lib/python3.9/site-packages/clyent-1.2.2-py3.9.egg-info/top_level.txt\n",
      "./anaconda3/pkgs/clyent-1.2.2-py39h06a4308_1/lib/python3.9/site-packages/clyent-1.2.2-py3.9.egg-info/dependency_links.txt\n",
      "./anaconda3/pkgs/clyent-1.2.2-py39h06a4308_1/info/recipe/recipe_log.txt\n",
      "./anaconda3/pkgs/xz-5.2.6-h5eee18b_0/share/doc/xz/faq.txt\n",
      "./anaconda3/pkgs/xz-5.2.6-h5eee18b_0/share/doc/xz/history.txt\n",
      "./anaconda3/pkgs/xz-5.2.6-h5eee18b_0/share/doc/xz/xz-file-format.txt\n",
      "./anaconda3/pkgs/xz-5.2.6-h5eee18b_0/share/doc/xz/examples/00_README.txt\n",
      "./anaconda3/pkgs/xz-5.2.6-h5eee18b_0/share/doc/xz/lzma-file-format.txt\n",
      "./anaconda3/pkgs/xz-5.2.6-h5eee18b_0/info/recipe/CMakeLists.txt\n",
      "./anaconda3/pkgs/qdarkstyle-3.0.2-pyhd3eb1b0_0/site-packages/QDarkStyle-3.0.2.dist-info/top_level.txt\n",
      "./anaconda3/pkgs/qdarkstyle-3.0.2-pyhd3eb1b0_0/site-packages/QDarkStyle-3.0.2.dist-info/entry_points.txt\n",
      "./anaconda3/pkgs/dataclasses-0.8-pyh6d0b6a4_7/info/licenses/LICENSE.txt\n",
      "./anaconda3/pkgs/python-lsp-black-1.2.1-py39h06a4308_0/lib/python3.9/site-packages/python_lsp_black-1.2.1.dist-info/top_level.txt\n",
      "./anaconda3/pkgs/python-lsp-black-1.2.1-py39h06a4308_0/lib/python3.9/site-packages/python_lsp_black-1.2.1.dist-info/entry_points.txt\n",
      "./anaconda3/pkgs/websocket-client-0.58.0-py39h06a4308_4/lib/python3.9/site-packages/websocket_client-0.58.0.dist-info/top_level.txt\n",
      "./anaconda3/pkgs/websocket-client-0.58.0-py39h06a4308_4/lib/python3.9/site-packages/websocket/tests/data/header02.txt\n",
      "./anaconda3/pkgs/websocket-client-0.58.0-py39h06a4308_4/lib/python3.9/site-packages/websocket/tests/data/header01.txt\n",
      "./anaconda3/pkgs/scikit-image-0.19.2-py39h51133e4_0/lib/python3.9/site-packages/skimage/data/README.txt\n",
      "./anaconda3/pkgs/scikit-image-0.19.2-py39h51133e4_0/lib/python3.9/site-packages/skimage/feature/orb_descriptor_positions.txt\n",
      "./anaconda3/pkgs/scikit-image-0.19.2-py39h51133e4_0/lib/python3.9/site-packages/scikit_image-0.19.2.dist-info/top_level.txt\n",
      "./anaconda3/pkgs/scikit-image-0.19.2-py39h51133e4_0/lib/python3.9/site-packages/scikit_image-0.19.2.dist-info/LICENSE.txt\n",
      "./anaconda3/pkgs/scikit-image-0.19.2-py39h51133e4_0/lib/python3.9/site-packages/scikit_image-0.19.2.dist-info/entry_points.txt\n",
      "./anaconda3/pkgs/scikit-image-0.19.2-py39h51133e4_0/info/recipe/recipe_log.txt\n",
      "./anaconda3/pkgs/scikit-image-0.19.2-py39h51133e4_0/info/licenses/LICENSE.txt\n",
      "./anaconda3/pkgs/unidecode-1.2.0-pyhd3eb1b0_0/site-packages/Unidecode-1.2.0.dist-info/top_level.txt\n",
      "./anaconda3/pkgs/unidecode-1.2.0-pyhd3eb1b0_0/site-packages/Unidecode-1.2.0.dist-info/entry_points.txt\n",
      "./anaconda3/pkgs/libllvm10-10.0.1-hbcb73fb_5/info/recipe/parent/recipe_log.txt\n",
      "./anaconda3/pkgs/jxrlib-1.1-h7b6447c_2/info/recipe/recipe_log.txt\n",
      "./anaconda3/pkgs/pkginfo-1.8.2-pyhd3eb1b0_0/info/recipe/recipe_log.txt\n",
      "./anaconda3/pkgs/pkginfo-1.8.2-pyhd3eb1b0_0/info/licenses/LICENSE.txt\n",
      "./anaconda3/pkgs/pkginfo-1.8.2-pyhd3eb1b0_0/site-packages/pkginfo-1.8.2.dist-info/top_level.txt\n",
      "./anaconda3/pkgs/pkginfo-1.8.2-pyhd3eb1b0_0/site-packages/pkginfo-1.8.2.dist-info/LICENSE.txt\n",
      "./anaconda3/pkgs/pkginfo-1.8.2-pyhd3eb1b0_0/site-packages/pkginfo-1.8.2.dist-info/entry_points.txt\n",
      "./anaconda3/pkgs/iniconfig-1.1.1-pyhd3eb1b0_0/site-packages/iniconfig-1.1.1.dist-info/top_level.txt\n",
      "./anaconda3/pkgs/pyls-spyder-0.4.0-pyhd3eb1b0_0/info/recipe/recipe_log.txt\n",
      "./anaconda3/pkgs/pyls-spyder-0.4.0-pyhd3eb1b0_0/site-packages/pyls_spyder-0.4.0-py3.10.egg-info/SOURCES.txt\n",
      "./anaconda3/pkgs/pyls-spyder-0.4.0-pyhd3eb1b0_0/site-packages/pyls_spyder-0.4.0-py3.10.egg-info/installed-files.txt\n",
      "./anaconda3/pkgs/pyls-spyder-0.4.0-pyhd3eb1b0_0/site-packages/pyls_spyder-0.4.0-py3.10.egg-info/requires.txt\n",
      "./anaconda3/pkgs/pyls-spyder-0.4.0-pyhd3eb1b0_0/site-packages/pyls_spyder-0.4.0-py3.10.egg-info/top_level.txt\n",
      "./anaconda3/pkgs/pyls-spyder-0.4.0-pyhd3eb1b0_0/site-packages/pyls_spyder-0.4.0-py3.10.egg-info/dependency_links.txt\n",
      "./anaconda3/pkgs/pyls-spyder-0.4.0-pyhd3eb1b0_0/site-packages/pyls_spyder-0.4.0-py3.10.egg-info/entry_points.txt\n",
      "./anaconda3/pkgs/beautifulsoup4-4.11.1-py39h06a4308_0/lib/python3.9/site-packages/beautifulsoup4-4.11.1.dist-info/top_level.txt\n",
      "./anaconda3/pkgs/beautifulsoup4-4.11.1-py39h06a4308_0/lib/python3.9/site-packages/beautifulsoup4-4.11.1.dist-info/COPYING.txt\n",
      "./anaconda3/pkgs/beautifulsoup4-4.11.1-py39h06a4308_0/info/licenses/COPYING.txt\n",
      "./anaconda3/pkgs/webencodings-0.5.1-py39h06a4308_1/lib/python3.9/site-packages/webencodings-0.5.1-py3.9.egg-info/SOURCES.txt\n",
      "./anaconda3/pkgs/webencodings-0.5.1-py39h06a4308_1/lib/python3.9/site-packages/webencodings-0.5.1-py3.9.egg-info/top_level.txt\n",
      "./anaconda3/pkgs/webencodings-0.5.1-py39h06a4308_1/lib/python3.9/site-packages/webencodings-0.5.1-py3.9.egg-info/dependency_links.txt\n",
      "./anaconda3/pkgs/webencodings-0.5.1-py39h06a4308_1/info/recipe/recipe_log.txt\n",
      "./anaconda3/pkgs/openjpeg-2.4.0-h3ad879b_0/info/recipe/recipe_log.txt\n",
      "./anaconda3/pkgs/traitlets-5.1.1-pyhd3eb1b0_0/site-packages/traitlets-5.1.1.dist-info/top_level.txt\n",
      "./anaconda3/pkgs/conda-token-0.4.0-pyhd3eb1b0_0/site-packages/conda_token-0.4.0.dist-info/top_level.txt\n",
      "./anaconda3/pkgs/conda-token-0.4.0-pyhd3eb1b0_0/site-packages/conda_token-0.4.0.dist-info/entry_points.txt\n",
      "./anaconda3/pkgs/mpc-1.1.0-h10f8cd9_1/info/LICENSE.txt\n",
      "./anaconda3/pkgs/jupyter_core-4.11.1-py39h06a4308_0/lib/python3.9/site-packages/jupyter_core-4.11.1.dist-info/entry_points.txt\n",
      "./anaconda3/pkgs/ruamel_yaml-0.15.100-py39h27cfd23_0/lib/python3.9/site-packages/ruamel_yaml_conda-0.15.100.dist-info/top_level.txt\n",
      "./anaconda3/pkgs/ruamel_yaml-0.15.100-py39h27cfd23_0/info/recipe/recipe_log.txt\n",
      "./anaconda3/pkgs/jupyter_server-1.18.1-py39h06a4308_0/lib/python3.9/site-packages/jupyter_server-1.18.1.dist-info/top_level.txt\n",
      "./anaconda3/pkgs/jupyter_server-1.18.1-py39h06a4308_0/lib/python3.9/site-packages/jupyter_server-1.18.1.dist-info/entry_points.txt\n",
      "./anaconda3/pkgs/python-lsp-jsonrpc-1.0.0-pyhd3eb1b0_0/info/recipe/recipe_log.txt\n",
      "./anaconda3/pkgs/python-lsp-jsonrpc-1.0.0-pyhd3eb1b0_0/site-packages/python_lsp_jsonrpc-1.0.0-py3.10.egg-info/SOURCES.txt\n",
      "./anaconda3/pkgs/python-lsp-jsonrpc-1.0.0-pyhd3eb1b0_0/site-packages/python_lsp_jsonrpc-1.0.0-py3.10.egg-info/installed-files.txt\n",
      "./anaconda3/pkgs/python-lsp-jsonrpc-1.0.0-pyhd3eb1b0_0/site-packages/python_lsp_jsonrpc-1.0.0-py3.10.egg-info/requires.txt\n",
      "./anaconda3/pkgs/python-lsp-jsonrpc-1.0.0-pyhd3eb1b0_0/site-packages/python_lsp_jsonrpc-1.0.0-py3.10.egg-info/top_level.txt\n",
      "./anaconda3/pkgs/python-lsp-jsonrpc-1.0.0-pyhd3eb1b0_0/site-packages/python_lsp_jsonrpc-1.0.0-py3.10.egg-info/dependency_links.txt\n",
      "./anaconda3/pkgs/_openmp_mutex-5.1-1_gnu/info/recipe/parent/tests/fortomp/CMakeLists.txt\n",
      "./anaconda3/pkgs/_openmp_mutex-5.1-1_gnu/info/licenses/LICENSE0.txt\n",
      "./anaconda3/pkgs/qt-main-5.15.2-h327a75a_7/share/qt/3rd_party_licenses/qtscript/tests/benchmarks/script/sunspider/tests/LICENSE.txt\n",
      "./anaconda3/pkgs/qt-main-5.15.2-h327a75a_7/share/qt/3rd_party_licenses/qtscript/tests/benchmarks/script/v8/tests/LICENSE.txt\n",
      "./anaconda3/pkgs/qt-main-5.15.2-h327a75a_7/share/qt/3rd_party_licenses/qtvirtualkeyboard/src/plugins/lipi-toolkit/3rdparty/lipi-toolkit/license.txt\n",
      "./anaconda3/pkgs/qt-main-5.15.2-h327a75a_7/share/qt/3rd_party_licenses/qtvirtualkeyboard/src/plugins/lipi-toolkit/3rdparty/lipi-toolkit/MIT_LICENSE.txt\n",
      "./anaconda3/pkgs/qt-main-5.15.2-h327a75a_7/share/qt/3rd_party_licenses/qtquickcontrols/src/extras/Styles/Flat/fonts/LICENSE.txt\n",
      "./anaconda3/pkgs/qt-main-5.15.2-h327a75a_7/share/qt/3rd_party_licenses/qtquickcontrols/examples/quickcontrols/extras/gallery/fonts/LICENSE.txt\n",
      "./anaconda3/pkgs/qt-main-5.15.2-h327a75a_7/share/qt/3rd_party_licenses/qtmultimedia/examples/multimedia/spectrum/3rdparty/fftreal/license.txt\n",
      "./anaconda3/pkgs/qt-main-5.15.2-h327a75a_7/share/qt/3rd_party_licenses/qtsvg/src/svg/XSVG_LICENSE.txt\n",
      "./anaconda3/pkgs/qt-main-5.15.2-h327a75a_7/share/qt/3rd_party_licenses/qtquick3d/src/3rdparty/assimp/src/contrib/rapidjson/license.txt\n",
      "./anaconda3/pkgs/qt-main-5.15.2-h327a75a_7/share/qt/3rd_party_licenses/qtquick3d/src/3rdparty/assimp/src/contrib/zlib/contrib/dotzlib/LICENSE_1_0.txt\n",
      "./anaconda3/pkgs/qt-main-5.15.2-h327a75a_7/share/qt/3rd_party_licenses/qtquick3d/src/3rdparty/assimp/src/contrib/clipper/License.txt\n",
      "./anaconda3/pkgs/qt-main-5.15.2-h327a75a_7/share/qt/3rd_party_licenses/qtdoc/examples/demos/coffee/LICENSE.txt\n",
      "./anaconda3/pkgs/qt-main-5.15.2-h327a75a_7/share/qt/3rd_party_licenses/qtdoc/doc/src/snippets/legal/CatharonLicense.txt\n",
      "./anaconda3/pkgs/qt-main-5.15.2-h327a75a_7/share/qt/3rd_party_licenses/qtpurchasing/src/android/src/LICENSE-APACHE-2.0.txt\n",
      "./anaconda3/pkgs/qt-main-5.15.2-h327a75a_7/share/qt/3rd_party_licenses/qtquickcontrols2/src/imports/controls/material/LICENSE_ANGULARJS.txt\n",
      "./anaconda3/pkgs/qt-main-5.15.2-h327a75a_7/share/qt/3rd_party_licenses/qtquickcontrols2/examples/quickcontrols2/swipetoremove/fonts/LICENSE.txt\n",
      "./anaconda3/pkgs/qt-main-5.15.2-h327a75a_7/share/qt/3rd_party_licenses/qtquickcontrols2/tests/manual/testbench/fonts/LICENSE.txt\n",
      "./anaconda3/pkgs/qt-main-5.15.2-h327a75a_7/share/qt/3rd_party_licenses/qtwebengine/src/3rdparty/chromium/url/third_party/mozilla/LICENSE.txt\n",
      "./anaconda3/pkgs/qt-main-5.15.2-h327a75a_7/share/qt/3rd_party_licenses/qtwebengine/src/3rdparty/chromium/third_party/webgpu-cts/src/third_party/jquery/LICENSE.txt\n",
      "./anaconda3/pkgs/qt-main-5.15.2-h327a75a_7/share/qt/3rd_party_licenses/qtwebengine/src/3rdparty/chromium/third_party/webgpu-cts/src/LICENSE.txt\n",
      "./anaconda3/pkgs/qt-main-5.15.2-h327a75a_7/share/qt/3rd_party_licenses/qtwebengine/src/3rdparty/chromium/third_party/catapult/third_party/polymer/components/polymer/LICENSE.txt\n",
      "./anaconda3/pkgs/qt-main-5.15.2-h327a75a_7/share/qt/3rd_party_licenses/qtwebengine/src/3rdparty/chromium/third_party/robolectric/licenses/javolution.license.txt\n",
      "./anaconda3/pkgs/qt-main-5.15.2-h327a75a_7/share/qt/3rd_party_licenses/qtwebengine/src/3rdparty/chromium/third_party/robolectric/licenses/pivotal.labs.license.txt\n",
      "./anaconda3/pkgs/qt-main-5.15.2-h327a75a_7/share/qt/3rd_party_licenses/qtwebengine/src/3rdparty/chromium/third_party/robolectric/licenses/extreme.indiana.edu.license.txt\n",
      "./anaconda3/pkgs/qt-main-5.15.2-h327a75a_7/share/qt/3rd_party_licenses/qtwebengine/src/3rdparty/chromium/third_party/swiftshader/LICENSE.txt\n",
      "./anaconda3/pkgs/qt-main-5.15.2-h327a75a_7/share/qt/3rd_party_licenses/qtwebengine/src/3rdparty/chromium/third_party/webrtc/license_template.txt\n",
      "./anaconda3/pkgs/qt-main-5.15.2-h327a75a_7/share/qt/3rd_party_licenses/qtwebengine/src/3rdparty/chromium/third_party/ocmock/License.txt\n",
      "./anaconda3/pkgs/qt-main-5.15.2-h327a75a_7/share/qt/3rd_party_licenses/qtwebengine/src/3rdparty/chromium/third_party/polymer/v3_0/components-chromium/polymer/LICENSE.txt\n",
      "./anaconda3/pkgs/qt-main-5.15.2-h327a75a_7/share/qt/3rd_party_licenses/qtwebengine/src/3rdparty/chromium/third_party/polymer/v1_0/components-chromium/polymer/LICENSE.txt\n",
      "./anaconda3/pkgs/qt-main-5.15.2-h327a75a_7/share/qt/3rd_party_licenses/qtwebengine/src/3rdparty/chromium/third_party/polymer/v1_0/components-chromium/polymer2/LICENSE.txt\n",
      "./anaconda3/pkgs/qt-main-5.15.2-h327a75a_7/share/qt/3rd_party_licenses/qtwebengine/src/3rdparty/chromium/third_party/ffmpeg/chromium/scripts/license_texts/full_lgpl.txt\n",
      "./anaconda3/pkgs/qt-main-5.15.2-h327a75a_7/share/qt/3rd_party_licenses/qtwebengine/src/3rdparty/chromium/third_party/ffmpeg/chromium/scripts/license_texts/jpeg.txt\n",
      "./anaconda3/pkgs/qt-main-5.15.2-h327a75a_7/share/qt/3rd_party_licenses/qtwebengine/src/3rdparty/chromium/third_party/ffmpeg/chromium/scripts/license_texts/mips.txt\n",
      "./anaconda3/pkgs/qt-main-5.15.2-h327a75a_7/share/qt/3rd_party_licenses/qtwebengine/src/3rdparty/chromium/third_party/ffmpeg/chromium/scripts/license_texts/oggparse_ahlberg_rullgayrd_2005.txt\n",
      "./anaconda3/pkgs/qt-main-5.15.2-h327a75a_7/share/qt/3rd_party_licenses/qtwebengine/src/3rdparty/chromium/third_party/flatbuffers/src/LICENSE.txt\n",
      "./anaconda3/pkgs/qt-main-5.15.2-h327a75a_7/share/qt/3rd_party_licenses/qtwebengine/src/3rdparty/chromium/third_party/angle/third_party/vulkan-tools/src/LICENSE.txt\n",
      "./anaconda3/pkgs/qt-main-5.15.2-h327a75a_7/share/qt/3rd_party_licenses/qtwebengine/src/3rdparty/chromium/third_party/angle/third_party/vulkan-tools/src/cmake/Copyright_cmake.txt\n",
      "./anaconda3/pkgs/qt-main-5.15.2-h327a75a_7/share/qt/3rd_party_licenses/qtwebengine/src/3rdparty/chromium/third_party/angle/third_party/vulkan-tools/src/winrt/VulkanRT-License.txt\n",
      "./anaconda3/pkgs/qt-main-5.15.2-h327a75a_7/share/qt/3rd_party_licenses/qtwebengine/src/3rdparty/chromium/third_party/angle/third_party/rapidjson/src/license.txt\n",
      "./anaconda3/pkgs/qt-main-5.15.2-h327a75a_7/share/qt/3rd_party_licenses/qtwebengine/src/3rdparty/chromium/third_party/angle/third_party/vulkan-loader/src/LICENSE.txt\n",
      "./anaconda3/pkgs/qt-main-5.15.2-h327a75a_7/share/qt/3rd_party_licenses/qtwebengine/src/3rdparty/chromium/third_party/angle/third_party/vulkan-loader/src/cmake/Copyright_cmake.txt\n",
      "./anaconda3/pkgs/qt-main-5.15.2-h327a75a_7/share/qt/3rd_party_licenses/qtwebengine/src/3rdparty/chromium/third_party/angle/third_party/vulkan-headers/src/LICENSE.txt\n",
      "./anaconda3/pkgs/qt-main-5.15.2-h327a75a_7/share/qt/3rd_party_licenses/qtwebengine/src/3rdparty/chromium/third_party/angle/third_party/vulkan-headers/src/cmake/Copyright_cmake.txt\n",
      "./anaconda3/pkgs/qt-main-5.15.2-h327a75a_7/share/qt/3rd_party_licenses/qtwebengine/src/3rdparty/chromium/third_party/opus/src/LICENSE_PLEASE_READ.txt\n",
      "./anaconda3/pkgs/qt-main-5.15.2-h327a75a_7/share/qt/3rd_party_licenses/qtwebengine/src/3rdparty/chromium/third_party/glslang/src/LICENSE.txt\n",
      "./anaconda3/pkgs/qt-main-5.15.2-h327a75a_7/share/qt/3rd_party_licenses/qtwebengine/src/3rdparty/chromium/third_party/simplejson/LICENSE.txt\n",
      "./anaconda3/pkgs/qt-main-5.15.2-h327a75a_7/share/qt/3rd_party_licenses/qtwebengine/src/3rdparty/chromium/third_party/unrar/src/license.txt\n",
      "./anaconda3/pkgs/qt-main-5.15.2-h327a75a_7/share/qt/3rd_party_licenses/qtwebengine/src/3rdparty/chromium/third_party/pdfium/third_party/pymock/LICENSE.txt\n",
      "./anaconda3/pkgs/qt-main-5.15.2-h327a75a_7/share/qt/3rd_party_licenses/qtwebengine/src/3rdparty/chromium/third_party/devtools-frontend/src/node_modules/ramda/LICENSE.txt\n",
      "./anaconda3/pkgs/qt-main-5.15.2-h327a75a_7/share/qt/3rd_party_licenses/qtwebengine/src/3rdparty/chromium/third_party/devtools-frontend/src/node_modules/lodash.memoize/LICENSE.txt\n",
      "./anaconda3/pkgs/qt-main-5.15.2-h327a75a_7/share/qt/3rd_party_licenses/qtwebengine/src/3rdparty/chromium/third_party/devtools-frontend/src/node_modules/url/node_modules/punycode/LICENSE-MIT.txt\n",
      "./anaconda3/pkgs/qt-main-5.15.2-h327a75a_7/share/qt/3rd_party_licenses/qtwebengine/src/3rdparty/chromium/third_party/devtools-frontend/src/node_modules/set-blocking/LICENSE.txt\n",
      "./anaconda3/pkgs/qt-main-5.15.2-h327a75a_7/share/qt/3rd_party_licenses/qtwebengine/src/3rdparty/chromium/third_party/devtools-frontend/src/node_modules/isbinaryfile/LICENSE.txt\n",
      "./anaconda3/pkgs/qt-main-5.15.2-h327a75a_7/share/qt/3rd_party_licenses/qtwebengine/src/3rdparty/chromium/third_party/devtools-frontend/src/node_modules/punycode/LICENSE-MIT.txt\n",
      "./anaconda3/pkgs/qt-main-5.15.2-h327a75a_7/share/qt/3rd_party_licenses/qtwebengine/src/3rdparty/chromium/third_party/devtools-frontend/src/node_modules/setimmediate/LICENSE.txt\n",
      "./anaconda3/pkgs/qt-main-5.15.2-h327a75a_7/share/qt/3rd_party_licenses/qtwebengine/src/3rdparty/chromium/third_party/devtools-frontend/src/node_modules/typescript/LICENSE.txt\n",
      "./anaconda3/pkgs/qt-main-5.15.2-h327a75a_7/share/qt/3rd_party_licenses/qtwebengine/src/3rdparty/chromium/third_party/devtools-frontend/src/node_modules/typescript/CopyrightNotice.txt\n",
      "./anaconda3/pkgs/qt-main-5.15.2-h327a75a_7/share/qt/3rd_party_licenses/qtwebengine/src/3rdparty/chromium/third_party/devtools-frontend/src/node_modules/signal-exit/LICENSE.txt\n",
      "./anaconda3/pkgs/qt-main-5.15.2-h327a75a_7/share/qt/3rd_party_licenses/qtwebengine/src/3rdparty/chromium/third_party/devtools-frontend/src/node_modules/emoji-regex/LICENSE-MIT.txt\n",
      "./anaconda3/pkgs/qt-main-5.15.2-h327a75a_7/share/qt/3rd_party_licenses/qtwebengine/src/3rdparty/chromium/third_party/devtools-frontend/src/node_modules/cliui/LICENSE.txt\n",
      "./anaconda3/pkgs/qt-main-5.15.2-h327a75a_7/share/qt/3rd_party_licenses/qtwebengine/src/3rdparty/chromium/third_party/devtools-frontend/src/node_modules/esquery/license.txt\n",
      "./anaconda3/pkgs/qt-main-5.15.2-h327a75a_7/share/qt/3rd_party_licenses/qtwebengine/src/3rdparty/chromium/third_party/devtools-frontend/src/node_modules/require-main-filename/LICENSE.txt\n",
      "./anaconda3/pkgs/qt-main-5.15.2-h327a75a_7/share/qt/3rd_party_licenses/qtwebengine/src/3rdparty/chromium/third_party/devtools-frontend/src/node_modules/tslib/LICENSE.txt\n",
      "./anaconda3/pkgs/qt-main-5.15.2-h327a75a_7/share/qt/3rd_party_licenses/qtwebengine/src/3rdparty/chromium/third_party/devtools-frontend/src/node_modules/tslib/CopyrightNotice.txt\n",
      "./anaconda3/pkgs/qt-main-5.15.2-h327a75a_7/share/qt/3rd_party_licenses/qtwebengine/src/3rdparty/chromium/third_party/devtools-frontend/src/node_modules/yargs-parser/LICENSE.txt\n",
      "./anaconda3/pkgs/qt-main-5.15.2-h327a75a_7/share/qt/3rd_party_licenses/qtwebengine/src/3rdparty/chromium/third_party/devtools-frontend/src/node_modules/jsesc/LICENSE-MIT.txt\n",
      "./anaconda3/pkgs/qt-main-5.15.2-h327a75a_7/share/qt/3rd_party_licenses/qtwebengine/src/3rdparty/chromium/third_party/devtools-frontend/src/node_modules/yargs-unparser/node_modules/require-main-filename/LICENSE.txt\n",
      "./anaconda3/pkgs/qt-main-5.15.2-h327a75a_7/share/qt/3rd_party_licenses/qtwebengine/src/3rdparty/chromium/third_party/devtools-frontend/src/node_modules/yargs-unparser/node_modules/yargs-parser/LICENSE.txt\n",
      "./anaconda3/pkgs/qt-main-5.15.2-h327a75a_7/share/qt/3rd_party_licenses/qtwebengine/src/3rdparty/chromium/third_party/devtools-frontend/src/node_modules/he/LICENSE-MIT.txt\n",
      "./anaconda3/pkgs/qt-main-5.15.2-h327a75a_7/share/qt/3rd_party_licenses/qtwebengine/src/3rdparty/chromium/third_party/devtools-frontend/src/node_modules/yargs/node_modules/emoji-regex/LICENSE-MIT.txt\n",
      "./anaconda3/pkgs/qt-main-5.15.2-h327a75a_7/share/qt/3rd_party_licenses/qtwebengine/src/3rdparty/chromium/third_party/devtools-frontend/src/node_modules/yargs/node_modules/cliui/LICENSE.txt\n",
      "./anaconda3/pkgs/qt-main-5.15.2-h327a75a_7/share/qt/3rd_party_licenses/qtwebengine/src/3rdparty/chromium/third_party/devtools-frontend/src/node_modules/yargs/node_modules/yargs-parser/LICENSE.txt\n",
      "./anaconda3/pkgs/qt-main-5.15.2-h327a75a_7/share/qt/3rd_party_licenses/qtwebengine/src/3rdparty/chromium/third_party/devtools-frontend/src/node_modules/rxjs/_esm2015/LICENSE.txt\n",
      "./anaconda3/pkgs/qt-main-5.15.2-h327a75a_7/share/qt/3rd_party_licenses/qtwebengine/src/3rdparty/chromium/third_party/devtools-frontend/src/node_modules/rxjs/LICENSE.txt\n",
      "./anaconda3/pkgs/qt-main-5.15.2-h327a75a_7/share/qt/3rd_party_licenses/qtwebengine/src/3rdparty/chromium/third_party/devtools-frontend/src/node_modules/rxjs/_esm5/LICENSE.txt\n",
      "./anaconda3/pkgs/qt-main-5.15.2-h327a75a_7/share/qt/3rd_party_licenses/qtwebengine/src/3rdparty/chromium/third_party/devtools-frontend/src/node_modules/rxjs/src/LICENSE.txt\n",
      "./anaconda3/pkgs/qt-main-5.15.2-h327a75a_7/share/qt/3rd_party_licenses/qtwebengine/src/3rdparty/chromium/third_party/openscreen/src/third_party/mozilla/LICENSE.txt\n",
      "./anaconda3/pkgs/qt-main-5.15.2-h327a75a_7/share/qt/3rd_party_licenses/qtwebengine/src/3rdparty/chromium/third_party/pymock/LICENSE.txt\n",
      "./anaconda3/pkgs/qt-main-5.15.2-h327a75a_7/share/qt/3rd_party_licenses/qtwebengine/src/3rdparty/chromium/third_party/skia/third_party/vulkanmemoryallocator/include/LICENSE.txt\n",
      "./anaconda3/pkgs/qt-main-5.15.2-h327a75a_7/share/qt/3rd_party_licenses/qtwebengine/src/3rdparty/chromium/third_party/quic_trace/src/third_party/glew/LICENSE.txt\n",
      "./anaconda3/pkgs/qt-main-5.15.2-h327a75a_7/share/qt/3rd_party_licenses/qtwebengine/src/3rdparty/chromium/third_party/blink/renderer/bindings/templates/copyright_block.txt\n",
      "./anaconda3/pkgs/qt-main-5.15.2-h327a75a_7/share/qt/3rd_party_licenses/qtwebengine/src/3rdparty/chromium/third_party/blink/renderer/platform/testing/data/third_party/Noto/LICENSE_OFL.txt\n",
      "./anaconda3/pkgs/qt-main-5.15.2-h327a75a_7/share/qt/3rd_party_licenses/qtwebengine/src/3rdparty/chromium/third_party/blink/renderer/platform/testing/data/third_party/Roboto/LICENSE.txt\n",
      "./anaconda3/pkgs/qt-main-5.15.2-h327a75a_7/share/qt/3rd_party_licenses/qtwebengine/examples/webengine/recipebrowser/resources/pages/assets/3rdparty/MARKDOWN-LICENSE.txt\n",
      "./anaconda3/pkgs/qt-main-5.15.2-h327a75a_7/share/qt/3rd_party_licenses/qtwebengine/examples/webengine/recipebrowser/resources/pages/assets/3rdparty/MARKED-LICENSE.txt\n",
      "./anaconda3/pkgs/qt-main-5.15.2-h327a75a_7/share/qt/3rd_party_licenses/qtwebengine/examples/webenginewidgets/markdowneditor/resources/3rdparty/MARKDOWN-LICENSE.txt\n",
      "./anaconda3/pkgs/qt-main-5.15.2-h327a75a_7/share/qt/3rd_party_licenses/qtwebengine/examples/webenginewidgets/markdowneditor/resources/3rdparty/MARKED-LICENSE.txt\n",
      "./anaconda3/pkgs/qt-main-5.15.2-h327a75a_7/share/qt/3rd_party_licenses/qtscxml/tests/3rdparty/scion-tests/LICENSE.txt\n",
      "./anaconda3/pkgs/qt-main-5.15.2-h327a75a_7/share/qt/3rd_party_licenses/qtscxml/tests/3rdparty/scion-tests/scxml-test-framework/LICENSE.txt\n",
      "./anaconda3/pkgs/qt-main-5.15.2-h327a75a_7/share/qt/3rd_party_licenses/qtwayland/src/3rdparty/protocol/HPND_LICENSE.txt\n",
      "./anaconda3/pkgs/qt-main-5.15.2-h327a75a_7/share/qt/3rd_party_licenses/qtwayland/src/3rdparty/protocol/MIT_LICENSE.txt\n",
      "./anaconda3/pkgs/qt-main-5.15.2-h327a75a_7/share/qt/3rd_party_licenses/qt3d/src/3rdparty/imgui/LICENSE.txt\n",
      "./anaconda3/pkgs/qt-main-5.15.2-h327a75a_7/share/qt/3rd_party_licenses/qt3d/src/3rdparty/imgui/LICENSE_proggyclean.txt\n",
      "./anaconda3/pkgs/qt-main-5.15.2-h327a75a_7/share/qt/3rd_party_licenses/qt3d/src/3rdparty/imgui/LICENSE_imstb.txt\n",
      "./anaconda3/pkgs/qt-main-5.15.2-h327a75a_7/share/qt/3rd_party_licenses/qt3d/src/3rdparty/assimp/contrib/rapidjson/license.txt\n",
      "./anaconda3/pkgs/qt-main-5.15.2-h327a75a_7/share/qt/3rd_party_licenses/qt3d/src/3rdparty/assimp/contrib/clipper/License.txt\n",
      "./anaconda3/pkgs/qt-main-5.15.2-h327a75a_7/share/qt/3rd_party_licenses/qt3d/src/3rdparty/assimp/LICENSE_Open3DGC.txt\n",
      "./anaconda3/pkgs/qt-main-5.15.2-h327a75a_7/share/qt/3rd_party_licenses/qt3d/src/3rdparty/assimp/LICENSE_zip.txt\n",
      "./anaconda3/pkgs/qt-main-5.15.2-h327a75a_7/share/qt/3rd_party_licenses/qt3d/src/3rdparty/assimp/LICENSE_unzip.txt\n",
      "./anaconda3/pkgs/qt-main-5.15.2-h327a75a_7/share/qt/3rd_party_licenses/qt3d/src/3rdparty/assimp/LICENSE_utf8cpp.txt\n",
      "./anaconda3/pkgs/qt-main-5.15.2-h327a75a_7/share/qt/3rd_party_licenses/qt3d/src/3rdparty/assimp/LICENSE_irrxml.txt\n",
      "./anaconda3/pkgs/qt-main-5.15.2-h327a75a_7/share/qt/3rd_party_licenses/qt3d/examples/qt3d/planets-qml/images/nasa/license.txt\n",
      "./anaconda3/pkgs/qt-main-5.15.2-h327a75a_7/share/qt/3rd_party_licenses/qt3d/examples/qt3d/planets-qml/images/solarsystemscope/license.txt\n",
      "./anaconda3/pkgs/qt-main-5.15.2-h327a75a_7/share/qt/3rd_party_licenses/qtlocation/src/plugins/geoservices/mapbox/maki-4.0.0/LICENSE.txt\n",
      "./anaconda3/pkgs/qt-main-5.15.2-h327a75a_7/share/qt/3rd_party_licenses/qtlocation/src/3rdparty/mapbox-gl-native/LICENSE_geojson_vt_cpp.txt\n",
      "./anaconda3/pkgs/qt-main-5.15.2-h327a75a_7/share/qt/3rd_party_licenses/qtlocation/src/3rdparty/mapbox-gl-native/LICENSE_vectortile.txt\n",
      "./anaconda3/pkgs/qt-main-5.15.2-h327a75a_7/share/qt/3rd_party_licenses/qtlocation/src/3rdparty/mapbox-gl-native/LICENSE_mapbox.txt\n",
      "./anaconda3/pkgs/qt-main-5.15.2-h327a75a_7/share/qt/3rd_party_licenses/qtlocation/src/3rdparty/mapbox-gl-native/LICENSE_geometry.txt\n",
      "./anaconda3/pkgs/qt-main-5.15.2-h327a75a_7/share/qt/3rd_party_licenses/qtlocation/src/3rdparty/mapbox-gl-native/LICENSE_rapidjson.txt\n",
      "./anaconda3/pkgs/qt-main-5.15.2-h327a75a_7/share/qt/3rd_party_licenses/qtlocation/src/3rdparty/mapbox-gl-native/LICENSE_parsedate.txt\n",
      "./anaconda3/pkgs/qt-main-5.15.2-h327a75a_7/share/qt/3rd_party_licenses/qtlocation/src/3rdparty/mapbox-gl-native/LICENSE_Boost.txt\n",
      "./anaconda3/pkgs/qt-main-5.15.2-h327a75a_7/share/qt/3rd_party_licenses/qtlocation/src/3rdparty/mapbox-gl-native/LICENSE_geojson.txt\n",
      "./anaconda3/pkgs/qt-main-5.15.2-h327a75a_7/share/qt/3rd_party_licenses/qtlocation/src/3rdparty/mapbox-gl-native/LICENSE_wagyu.txt\n",
      "./anaconda3/pkgs/qt-main-5.15.2-h327a75a_7/share/qt/3rd_party_licenses/qtlocation/src/3rdparty/mapbox-gl-native/LICENSE_protozero.txt\n",
      "./anaconda3/pkgs/qt-main-5.15.2-h327a75a_7/share/qt/3rd_party_licenses/qtlocation/src/3rdparty/mapbox-gl-native/LICENSE_CSSColorParser.txt\n",
      "./anaconda3/pkgs/qt-main-5.15.2-h327a75a_7/share/qt/3rd_party_licenses/qtremoteobjects/tools/repc/moc_copy/util/licenseheader.txt\n",
      "./anaconda3/pkgs/qt-main-5.15.2-h327a75a_7/share/qt/3rd_party_licenses/qtdatavis3d/examples/datavisualization/texturesurface/license.txt\n",
      "./anaconda3/pkgs/qt-main-5.15.2-h327a75a_7/share/qt/3rd_party_licenses/qtbase/src/plugins/platforms/cocoa/COCOA_LICENSE.txt\n",
      "./anaconda3/pkgs/qt-main-5.15.2-h327a75a_7/share/qt/3rd_party_licenses/qtbase/src/3rdparty/wintab/LICENSE.txt\n",
      "./anaconda3/pkgs/qt-main-5.15.2-h327a75a_7/share/qt/3rd_party_licenses/qtbase/src/3rdparty/freetype/ZLIB-LICENSE.txt\n",
      "./anaconda3/pkgs/qt-main-5.15.2-h327a75a_7/share/qt/3rd_party_licenses/qtbase/src/3rdparty/freetype/LICENSE.txt\n",
      "./anaconda3/pkgs/qt-main-5.15.2-h327a75a_7/share/qt/3rd_party_licenses/qtbase/src/3rdparty/freetype/PCF-LICENSE.txt\n",
      "./anaconda3/pkgs/qt-main-5.15.2-h327a75a_7/share/qt/3rd_party_licenses/qtbase/src/3rdparty/freetype/BDF-LICENSE.txt\n",
      "./anaconda3/pkgs/qt-main-5.15.2-h327a75a_7/share/qt/3rd_party_licenses/qtbase/src/3rdparty/gradle/LICENSE-GRADLEW.txt\n",
      "./anaconda3/pkgs/qt-main-5.15.2-h327a75a_7/share/qt/3rd_party_licenses/qtbase/src/3rdparty/icc/LICENSE.txt\n",
      "./anaconda3/pkgs/qt-main-5.15.2-h327a75a_7/share/qt/3rd_party_licenses/qtbase/src/3rdparty/VulkanMemoryAllocator/LICENSE.txt\n",
      "./anaconda3/pkgs/qt-main-5.15.2-h327a75a_7/share/qt/3rd_party_licenses/qtbase/src/dbus/LIBDBUS-1-LICENSE.txt\n",
      "./anaconda3/pkgs/qt-main-5.15.2-h327a75a_7/share/qt/3rd_party_licenses/qtbase/src/gui/text/AGLFN_LICENSE.txt\n",
      "./anaconda3/pkgs/qt-main-5.15.2-h327a75a_7/share/qt/3rd_party_licenses/qtbase/src/gui/painting/QIMAGETRANSFORM_LICENSE.txt\n",
      "./anaconda3/pkgs/qt-main-5.15.2-h327a75a_7/share/qt/3rd_party_licenses/qtbase/src/gui/painting/XCONSORTIUM_LICENSE.txt\n",
      "./anaconda3/pkgs/qt-main-5.15.2-h327a75a_7/share/qt/3rd_party_licenses/qtbase/src/gui/painting/WEBGRADIENTS_LICENSE.txt\n",
      "./anaconda3/pkgs/qt-main-5.15.2-h327a75a_7/share/qt/3rd_party_licenses/qtbase/src/gui/opengl/KHRONOS_LICENSE.txt\n",
      "./anaconda3/pkgs/qt-main-5.15.2-h327a75a_7/share/qt/3rd_party_licenses/qtbase/src/gui/vulkan/KHRONOS_LICENSE.txt\n",
      "./anaconda3/pkgs/qt-main-5.15.2-h327a75a_7/share/qt/3rd_party_licenses/qtbase/src/tools/moc/util/licenseheader.txt\n",
      "./anaconda3/pkgs/qt-main-5.15.2-h327a75a_7/share/qt/3rd_party_licenses/qtbase/src/corelib/codecs/QBIG5CODEC_LICENSE.txt\n",
      "./anaconda3/pkgs/qt-main-5.15.2-h327a75a_7/share/qt/3rd_party_licenses/qtbase/src/corelib/codecs/QEUCKRCODEC_LICENSE.txt\n",
      "./anaconda3/pkgs/qt-main-5.15.2-h327a75a_7/share/qt/3rd_party_licenses/qtbase/src/corelib/codecs/QSJISCODEC_LICENSE.txt\n",
      "./anaconda3/pkgs/qt-main-5.15.2-h327a75a_7/share/qt/3rd_party_licenses/qtbase/src/corelib/codecs/QEUCJPCODEC_LICENSE.txt\n",
      "./anaconda3/pkgs/qt-main-5.15.2-h327a75a_7/share/qt/3rd_party_licenses/qtbase/src/corelib/codecs/QBKCODEC_LICENSE.txt\n",
      "./anaconda3/pkgs/qt-main-5.15.2-h327a75a_7/share/qt/3rd_party_licenses/qtbase/src/corelib/codecs/QTSCIICODEC_LICENSE.txt\n",
      "./anaconda3/pkgs/qt-main-5.15.2-h327a75a_7/share/qt/3rd_party_licenses/qtbase/src/corelib/codecs/QJISCODEC_LICENSE.txt\n",
      "./anaconda3/pkgs/qt-main-5.15.2-h327a75a_7/share/qt/3rd_party_licenses/qtbase/src/corelib/text/UNICODE_LICENSE.txt\n",
      "./anaconda3/pkgs/qt-main-5.15.2-h327a75a_7/share/qt/3rd_party_licenses/qtbase/src/corelib/kernel/QEVENTDISPATCHER_CF_LICENSE.txt\n",
      "./anaconda3/pkgs/qt-main-5.15.2-h327a75a_7/share/qt/3rd_party_licenses/qtbase/src/corelib/io/PSL-LICENSE.txt\n",
      "./anaconda3/pkgs/qt-main-5.15.2-h327a75a_7/share/qt/3rd_party_licenses/qtbase/src/testlib/3rdparty/CYCLE_LICENSE.txt\n",
      "./anaconda3/pkgs/qt-main-5.15.2-h327a75a_7/share/qt/3rd_party_licenses/qtbase/src/testlib/3rdparty/VALGRIND_LICENSE.txt\n",
      "./anaconda3/pkgs/qt-main-5.15.2-h327a75a_7/share/qt/3rd_party_licenses/qtbase/src/testlib/3rdparty/LINUX_LICENSE.txt\n",
      "./anaconda3/pkgs/qt-main-5.15.2-h327a75a_7/share/qt/3rd_party_licenses/qtbase/tests/auto/corelib/io/qfile/forCopying.txt\n",
      "./anaconda3/pkgs/qt-main-5.15.2-h327a75a_7/share/qt/3rd_party_licenses/qtbase/tests/auto/corelib/serialization/qxmlstream/XML-Test-Suite-LICENSE.txt\n",
      "./anaconda3/pkgs/qt-main-5.15.2-h327a75a_7/info/recipe/yum_requirements.txt\n",
      "./anaconda3/pkgs/libstdcxx-ng-11.2.0-h1234567_1/info/recipe/parent/tests/fortomp/CMakeLists.txt\n",
      "./anaconda3/pkgs/gmpy2-2.1.2-py39heeb90bb_0/lib/python3.9/site-packages/gmpy2-2.1.2.dist-info/top_level.txt\n",
      "./anaconda3/pkgs/gmpy2-2.1.2-py39heeb90bb_0/info/recipe/recipe_log.txt\n",
      "./anaconda3/pkgs/_libgcc_mutex-0.1-main/info/recipe/recipe_log.txt\n",
      "./anaconda3/pkgs/sphinxcontrib-qthelp-1.0.3-pyhd3eb1b0_0/site-packages/sphinxcontrib_qthelp-1.0.3.dist-info/top_level.txt\n",
      "./anaconda3/pkgs/sphinxcontrib-qthelp-1.0.3-pyhd3eb1b0_0/site-packages/sphinxcontrib_qthelp-1.0.3.dist-info/namespace_packages.txt\n",
      "./anaconda3/pkgs/kiwisolver-1.4.2-py39h295c915_0/lib/python3.9/site-packages/kiwisolver-1.4.2.dist-info/top_level.txt\n",
      "./anaconda3/pkgs/pyasn1-modules-0.2.8-py_0/info/licenses/LICENSE.txt\n",
      "./anaconda3/pkgs/pyasn1-modules-0.2.8-py_0/site-packages/pyasn1_modules-0.2.8-py3.6.egg-info/SOURCES.txt\n",
      "./anaconda3/pkgs/pyasn1-modules-0.2.8-py_0/site-packages/pyasn1_modules-0.2.8-py3.6.egg-info/requires.txt\n",
      "./anaconda3/pkgs/pyasn1-modules-0.2.8-py_0/site-packages/pyasn1_modules-0.2.8-py3.6.egg-info/top_level.txt\n",
      "./anaconda3/pkgs/pyasn1-modules-0.2.8-py_0/site-packages/pyasn1_modules-0.2.8-py3.6.egg-info/dependency_links.txt\n",
      "./anaconda3/pkgs/sphinxcontrib-devhelp-1.0.2-pyhd3eb1b0_0/site-packages/sphinxcontrib_devhelp-1.0.2.dist-info/top_level.txt\n",
      "./anaconda3/pkgs/sphinxcontrib-devhelp-1.0.2-pyhd3eb1b0_0/site-packages/sphinxcontrib_devhelp-1.0.2.dist-info/namespace_packages.txt\n",
      "./anaconda3/pkgs/libev-4.33-h7f8727e_1/info/recipe/recipe_log.txt\n",
      "./anaconda3/pkgs/pip-22.2.2-py39h06a4308_0/lib/python3.9/site-packages/pip-22.2.2-py3.9.egg-info/SOURCES.txt\n",
      "./anaconda3/pkgs/pip-22.2.2-py39h06a4308_0/lib/python3.9/site-packages/pip-22.2.2-py3.9.egg-info/top_level.txt\n",
      "./anaconda3/pkgs/pip-22.2.2-py39h06a4308_0/lib/python3.9/site-packages/pip-22.2.2-py3.9.egg-info/dependency_links.txt\n",
      "./anaconda3/pkgs/pip-22.2.2-py39h06a4308_0/lib/python3.9/site-packages/pip-22.2.2-py3.9.egg-info/entry_points.txt\n",
      "./anaconda3/pkgs/pip-22.2.2-py39h06a4308_0/lib/python3.9/site-packages/pip/_vendor/vendor.txt\n",
      "./anaconda3/pkgs/pip-22.2.2-py39h06a4308_0/info/licenses/LICENSE.txt\n",
      "./anaconda3/pkgs/dbus-1.13.18-hb2f20db_0/share/doc/dbus/system-activation.txt\n",
      "./anaconda3/pkgs/dbus-1.13.18-hb2f20db_0/info/recipe/recipe_log.txt\n",
      "./anaconda3/pkgs/locket-1.0.0-py39h06a4308_0/lib/python3.9/site-packages/locket-1.0.0.dist-info/top_level.txt\n",
      "./anaconda3/pkgs/et_xmlfile-1.1.0-py39h06a4308_0/lib/python3.9/site-packages/et_xmlfile-1.1.0-py3.9.egg-info/SOURCES.txt\n",
      "./anaconda3/pkgs/et_xmlfile-1.1.0-py39h06a4308_0/lib/python3.9/site-packages/et_xmlfile-1.1.0-py3.9.egg-info/top_level.txt\n",
      "./anaconda3/pkgs/et_xmlfile-1.1.0-py39h06a4308_0/lib/python3.9/site-packages/et_xmlfile-1.1.0-py3.9.egg-info/dependency_links.txt\n",
      "./anaconda3/pkgs/et_xmlfile-1.1.0-py39h06a4308_0/info/licenses/LICENSE0.txt\n",
      "./anaconda3/pkgs/partd-1.2.0-pyhd3eb1b0_1/info/licenses/LICENSE.txt\n",
      "./anaconda3/pkgs/partd-1.2.0-pyhd3eb1b0_1/site-packages/partd-1.2.0.dist-info/top_level.txt\n",
      "./anaconda3/pkgs/partd-1.2.0-pyhd3eb1b0_1/site-packages/partd-1.2.0.dist-info/LICENSE.txt\n",
      "./anaconda3/pkgs/python-libarchive-c-2.9-pyhd3eb1b0_1/info/recipe/recipe_log.txt\n",
      "./anaconda3/pkgs/python-libarchive-c-2.9-pyhd3eb1b0_1/info/recipe/cc0-1.0.txt\n",
      "./anaconda3/pkgs/python-libarchive-c-2.9-pyhd3eb1b0_1/info/licenses/cc0-1.0.txt\n",
      "./anaconda3/pkgs/python-libarchive-c-2.9-pyhd3eb1b0_1/site-packages/libarchive_c-2.9.dist-info/top_level.txt\n",
      "./anaconda3/pkgs/lazy-object-proxy-1.6.0-py39h27cfd23_0/lib/python3.9/site-packages/lazy_object_proxy-1.6.0.dist-info/top_level.txt\n",
      "./anaconda3/pkgs/heapdict-1.0.1-pyhd3eb1b0_0/site-packages/HeapDict-1.0.1.dist-info/top_level.txt\n",
      "./anaconda3/pkgs/mpi-1.0-mpich/info/recipe/parent/recipe_log.txt\n",
      "./anaconda3/pkgs/mpi-1.0-mpich/info/LICENSE.txt\n",
      "./anaconda3/pkgs/jupyterlab-3.4.4-py39h06a4308_0/lib/python3.9/site-packages/jupyterlab-3.4.4.dist-info/top_level.txt\n",
      "./anaconda3/pkgs/jupyterlab-3.4.4-py39h06a4308_0/lib/python3.9/site-packages/jupyterlab-3.4.4.dist-info/entry_points.txt\n",
      "./anaconda3/pkgs/jupyterlab-3.4.4-py39h06a4308_0/lib/python3.9/site-packages/jupyterlab/static/9473.5a9c6a963b6aaa178bc3.js.LICENSE.txt\n",
      "./anaconda3/pkgs/jupyterlab-3.4.4-py39h06a4308_0/lib/python3.9/site-packages/jupyterlab/static/6064.1a4a55a09511d4907870.js.LICENSE.txt\n",
      "./anaconda3/pkgs/jupyterlab-3.4.4-py39h06a4308_0/lib/python3.9/site-packages/jupyterlab/static/jlab_core.081dc2b13065c79d8463.js.LICENSE.txt\n",
      "./anaconda3/pkgs/jupyterlab-3.4.4-py39h06a4308_0/lib/python3.9/site-packages/jupyterlab/static/7294.f71c2889fedcd71bd1ee.js.LICENSE.txt\n",
      "./anaconda3/pkgs/jupyterlab-3.4.4-py39h06a4308_0/lib/python3.9/site-packages/jupyterlab/static/5493.c4714ef77ba6a59aec45.js.LICENSE.txt\n",
      "./anaconda3/pkgs/jupyterlab-3.4.4-py39h06a4308_0/lib/python3.9/site-packages/jupyterlab/static/807.96166378e2efe232d81e.js.LICENSE.txt\n",
      "./anaconda3/pkgs/jupyterlab-3.4.4-py39h06a4308_0/lib/python3.9/site-packages/jupyterlab/static/3935.4159b022aa6d82e44127.js.LICENSE.txt\n",
      "./anaconda3/pkgs/jupyterlab-3.4.4-py39h06a4308_0/lib/python3.9/site-packages/jupyterlab/static/1944.9bb345a40325c23313e9.js.LICENSE.txt\n",
      "./anaconda3/pkgs/jupyterlab-3.4.4-py39h06a4308_0/lib/python3.9/site-packages/jupyterlab/static/911.0c08f040896753efc653.js.LICENSE.txt\n",
      "./anaconda3/pkgs/jupyterlab-3.4.4-py39h06a4308_0/lib/python3.9/site-packages/jupyterlab/static/1036.e3242066e92a791822b6.js.LICENSE.txt\n",
      "./anaconda3/pkgs/jupyterlab-3.4.4-py39h06a4308_0/lib/python3.9/site-packages/jupyterlab/static/5096.96faf5ddac346a9ad9c3.js.LICENSE.txt\n",
      "./anaconda3/pkgs/jupyterlab-3.4.4-py39h06a4308_0/share/jupyter/lab/static/9473.5a9c6a963b6aaa178bc3.js.LICENSE.txt\n",
      "./anaconda3/pkgs/jupyterlab-3.4.4-py39h06a4308_0/share/jupyter/lab/static/6064.1a4a55a09511d4907870.js.LICENSE.txt\n",
      "./anaconda3/pkgs/jupyterlab-3.4.4-py39h06a4308_0/share/jupyter/lab/static/jlab_core.081dc2b13065c79d8463.js.LICENSE.txt\n",
      "./anaconda3/pkgs/jupyterlab-3.4.4-py39h06a4308_0/share/jupyter/lab/static/7294.f71c2889fedcd71bd1ee.js.LICENSE.txt\n",
      "./anaconda3/pkgs/jupyterlab-3.4.4-py39h06a4308_0/share/jupyter/lab/static/5493.c4714ef77ba6a59aec45.js.LICENSE.txt\n",
      "./anaconda3/pkgs/jupyterlab-3.4.4-py39h06a4308_0/share/jupyter/lab/static/807.96166378e2efe232d81e.js.LICENSE.txt\n",
      "./anaconda3/pkgs/jupyterlab-3.4.4-py39h06a4308_0/share/jupyter/lab/static/3935.4159b022aa6d82e44127.js.LICENSE.txt\n",
      "./anaconda3/pkgs/jupyterlab-3.4.4-py39h06a4308_0/share/jupyter/lab/static/1944.9bb345a40325c23313e9.js.LICENSE.txt\n",
      "./anaconda3/pkgs/jupyterlab-3.4.4-py39h06a4308_0/share/jupyter/lab/static/911.0c08f040896753efc653.js.LICENSE.txt\n",
      "./anaconda3/pkgs/jupyterlab-3.4.4-py39h06a4308_0/share/jupyter/lab/static/1036.e3242066e92a791822b6.js.LICENSE.txt\n",
      "./anaconda3/pkgs/jupyterlab-3.4.4-py39h06a4308_0/share/jupyter/lab/static/5096.96faf5ddac346a9ad9c3.js.LICENSE.txt\n",
      "./anaconda3/pkgs/jupyter_contrib_core-0.4.0-pyhd8ed1ab_0/info/recipe/recipe-scripts-license.txt\n",
      "./anaconda3/pkgs/jupyter_contrib_core-0.4.0-pyhd8ed1ab_0/info/licenses/LICENSE.txt\n",
      "./anaconda3/pkgs/jupyter_contrib_core-0.4.0-pyhd8ed1ab_0/site-packages/jupyter_contrib_core-0.4.0.dist-info/top_level.txt\n",
      "./anaconda3/pkgs/jupyter_contrib_core-0.4.0-pyhd8ed1ab_0/site-packages/jupyter_contrib_core-0.4.0.dist-info/LICENSE.txt\n",
      "./anaconda3/pkgs/jupyter_contrib_core-0.4.0-pyhd8ed1ab_0/site-packages/jupyter_contrib_core-0.4.0.dist-info/entry_points.txt\n",
      "./anaconda3/pkgs/prompt_toolkit-3.0.20-hd3eb1b0_0/info/recipe/parent/recipe_log.txt\n",
      "./anaconda3/pkgs/bcrypt-3.2.0-py39h5eee18b_1/lib/python3.9/site-packages/bcrypt-3.2.0.dist-info/top_level.txt\n",
      "./anaconda3/pkgs/dask-core-2022.7.0-py39h06a4308_0/lib/python3.9/site-packages/dask-2022.7.0.dist-info/top_level.txt\n",
      "./anaconda3/pkgs/dask-core-2022.7.0-py39h06a4308_0/lib/python3.9/site-packages/dask-2022.7.0.dist-info/LICENSE.txt\n",
      "./anaconda3/pkgs/dask-core-2022.7.0-py39h06a4308_0/lib/python3.9/site-packages/dask-2022.7.0.dist-info/NUMPY_LICENSE.txt\n",
      "./anaconda3/pkgs/dask-core-2022.7.0-py39h06a4308_0/lib/python3.9/site-packages/dask/array/NUMPY_LICENSE.txt\n",
      "./anaconda3/pkgs/dask-core-2022.7.0-py39h06a4308_0/info/licenses/LICENSE.txt\n",
      "./anaconda3/pkgs/tabulate-0.8.10-py39h06a4308_0/lib/python3.9/site-packages/tabulate-0.8.10.dist-info/top_level.txt\n",
      "./anaconda3/pkgs/tabulate-0.8.10-py39h06a4308_0/lib/python3.9/site-packages/tabulate-0.8.10.dist-info/entry_points.txt\n",
      "./anaconda3/pkgs/h5py-3.7.0-py39h737f45e_0/lib/python3.9/site-packages/h5py-3.7.0.dist-info/top_level.txt\n",
      "./anaconda3/pkgs/h5py-3.7.0-py39h737f45e_0/info/licenses/licenses/license.txt\n",
      "./anaconda3/pkgs/soupsieve-2.3.1-pyhd3eb1b0_0/site-packages/soupsieve-2.3.1.dist-info/top_level.txt\n",
      "./anaconda3/pkgs/python-slugify-5.0.2-pyhd3eb1b0_0/site-packages/python_slugify-5.0.2.dist-info/top_level.txt\n",
      "./anaconda3/pkgs/python-slugify-5.0.2-pyhd3eb1b0_0/site-packages/python_slugify-5.0.2.dist-info/entry_points.txt\n",
      "./anaconda3/pkgs/libuuid-1.0.3-h7f8727e_2/info/recipe/recipe_log.txt\n",
      "./anaconda3/pkgs/smart_open-5.2.1-py39h06a4308_0/lib/python3.9/site-packages/smart_open-5.2.1.dist-info/top_level.txt\n",
      "./anaconda3/pkgs/wurlitzer-3.0.2-py39h06a4308_0/lib/python3.9/site-packages/wurlitzer-3.0.2.dist-info/top_level.txt\n",
      "./anaconda3/pkgs/tbb-2021.6.0-hdb19cb5_0/info/licenses/LICENSE.txt\n",
      "./anaconda3/pkgs/tbb-2021.6.0-hdb19cb5_0/info/licenses/third-party-programs.txt\n",
      "./anaconda3/pkgs/wcwidth-0.2.5-pyhd3eb1b0_0/site-packages/wcwidth-0.2.5.dist-info/top_level.txt\n",
      "./anaconda3/pkgs/pyopenssl-22.0.0-pyhd3eb1b0_0/site-packages/pyOpenSSL-22.0.0.dist-info/top_level.txt\n",
      "./anaconda3/pkgs/whatthepatch-1.0.2-py39h06a4308_0/lib/python3.9/site-packages/whatthepatch-1.0.2.dist-info/top_level.txt\n",
      "./anaconda3/pkgs/libedit-3.1.20210910-h7f8727e_0/info/recipe/recipe_log.txt\n",
      "./anaconda3/pkgs/libevent-2.1.12-h8f2d780_0/info/recipe/recipe_log.txt\n",
      "./anaconda3/pkgs/giflib-5.2.1-h7b6447c_0/info/recipe/getopt_LICENSE.txt\n",
      "./anaconda3/pkgs/giflib-5.2.1-h7b6447c_0/info/recipe/CMakeLists.txt\n",
      "./anaconda3/pkgs/giflib-5.2.1-h7b6447c_0/info/recipe/recipe_log.txt\n",
      "./anaconda3/pkgs/pyviz_comms-2.0.2-pyhd3eb1b0_0/info/licenses/LICENSE.txt\n",
      "./anaconda3/pkgs/pyviz_comms-2.0.2-pyhd3eb1b0_0/site-packages/pyviz_comms-2.0.2.dist-info/top_level.txt\n",
      "./anaconda3/pkgs/pyviz_comms-2.0.2-pyhd3eb1b0_0/site-packages/pyviz_comms-2.0.2.dist-info/LICENSE.txt\n",
      "./anaconda3/pkgs/pylint-2.14.5-py39h06a4308_0/lib/python3.9/site-packages/pylint-2.14.5.dist-info/CONTRIBUTORS.txt\n",
      "./anaconda3/pkgs/pylint-2.14.5-py39h06a4308_0/lib/python3.9/site-packages/pylint-2.14.5.dist-info/top_level.txt\n",
      "./anaconda3/pkgs/pylint-2.14.5-py39h06a4308_0/lib/python3.9/site-packages/pylint-2.14.5.dist-info/entry_points.txt\n",
      "./anaconda3/pkgs/alabaster-0.7.12-pyhd3eb1b0_0/site-packages/alabaster-0.7.12.dist-info/top_level.txt\n",
      "./anaconda3/pkgs/alabaster-0.7.12-pyhd3eb1b0_0/site-packages/alabaster-0.7.12.dist-info/entry_points.txt\n",
      "./anaconda3/pkgs/pexpect-4.8.0-pyhd3eb1b0_3/info/recipe/recipe_log.txt\n",
      "./anaconda3/pkgs/pexpect-4.8.0-pyhd3eb1b0_3/site-packages/pexpect-4.8.0.dist-info/top_level.txt\n",
      "./anaconda3/pkgs/jmespath-0.10.0-pyhd3eb1b0_0/info/licenses/LICENSE.txt\n",
      "./anaconda3/pkgs/jmespath-0.10.0-pyhd3eb1b0_0/site-packages/jmespath-0.10.0.dist-info/top_level.txt\n",
      "./anaconda3/pkgs/jmespath-0.10.0-pyhd3eb1b0_0/site-packages/jmespath-0.10.0.dist-info/LICENSE.txt\n",
      "./anaconda3/pkgs/llvmlite-0.38.0-py39h4ff587b_0/lib/python3.9/site-packages/llvmlite-0.38.0-py3.9.egg-info/SOURCES.txt\n",
      "./anaconda3/pkgs/llvmlite-0.38.0-py39h4ff587b_0/lib/python3.9/site-packages/llvmlite-0.38.0-py3.9.egg-info/top_level.txt\n",
      "./anaconda3/pkgs/llvmlite-0.38.0-py39h4ff587b_0/lib/python3.9/site-packages/llvmlite-0.38.0-py3.9.egg-info/dependency_links.txt\n",
      "./anaconda3/pkgs/sphinxcontrib-htmlhelp-2.0.0-pyhd3eb1b0_0/site-packages/sphinxcontrib_htmlhelp-2.0.0.dist-info/top_level.txt\n",
      "./anaconda3/pkgs/sphinxcontrib-htmlhelp-2.0.0-pyhd3eb1b0_0/site-packages/sphinxcontrib_htmlhelp-2.0.0.dist-info/namespace_packages.txt\n",
      "./anaconda3/pkgs/lz4-3.1.3-py39h27cfd23_0/lib/python3.9/site-packages/lz4-3.1.3.dist-info/top_level.txt\n",
      "./anaconda3/pkgs/prometheus_client-0.14.1-py39h06a4308_0/lib/python3.9/site-packages/prometheus_client-0.14.1.dist-info/top_level.txt\n",
      "./anaconda3/pkgs/filelock-3.6.0-pyhd3eb1b0_0/site-packages/filelock-3.6.0.dist-info/top_level.txt\n",
      "./anaconda3/pkgs/pysocks-1.7.1-py39h06a4308_0/lib/python3.9/site-packages/PySocks-1.7.1.dist-info/top_level.txt\n",
      "./anaconda3/pkgs/pysocks-1.7.1-py39h06a4308_0/info/recipe/recipe_log.txt\n",
      "./anaconda3/pkgs/zict-2.1.0-py39h06a4308_0/lib/python3.9/site-packages/zict-2.1.0-py3.9.egg-info/SOURCES.txt\n",
      "./anaconda3/pkgs/zict-2.1.0-py39h06a4308_0/lib/python3.9/site-packages/zict-2.1.0-py3.9.egg-info/requires.txt\n",
      "./anaconda3/pkgs/zict-2.1.0-py39h06a4308_0/lib/python3.9/site-packages/zict-2.1.0-py3.9.egg-info/top_level.txt\n",
      "./anaconda3/pkgs/zict-2.1.0-py39h06a4308_0/lib/python3.9/site-packages/zict-2.1.0-py3.9.egg-info/dependency_links.txt\n",
      "./anaconda3/pkgs/zict-2.1.0-py39h06a4308_0/info/licenses/LICENSE.txt\n",
      "./anaconda3/pkgs/brotlipy-0.7.0-py39h27cfd23_1003/lib/python3.9/site-packages/brotlipy-0.7.0-py3.9.egg-info/SOURCES.txt\n",
      "./anaconda3/pkgs/brotlipy-0.7.0-py39h27cfd23_1003/lib/python3.9/site-packages/brotlipy-0.7.0-py3.9.egg-info/requires.txt\n",
      "./anaconda3/pkgs/brotlipy-0.7.0-py39h27cfd23_1003/lib/python3.9/site-packages/brotlipy-0.7.0-py3.9.egg-info/top_level.txt\n",
      "./anaconda3/pkgs/brotlipy-0.7.0-py39h27cfd23_1003/lib/python3.9/site-packages/brotlipy-0.7.0-py3.9.egg-info/dependency_links.txt\n",
      "./anaconda3/pkgs/brotlipy-0.7.0-py39h27cfd23_1003/info/recipe/recipe_log.txt\n",
      "./anaconda3/pkgs/python-lsp-server-1.5.0-py39h06a4308_0/lib/python3.9/site-packages/python_lsp_server-1.5.0.dist-info/top_level.txt\n",
      "./anaconda3/pkgs/python-lsp-server-1.5.0-py39h06a4308_0/lib/python3.9/site-packages/python_lsp_server-1.5.0.dist-info/entry_points.txt\n",
      "./anaconda3/pkgs/urllib3-1.26.11-py39h06a4308_0/lib/python3.9/site-packages/urllib3-1.26.11.dist-info/top_level.txt\n",
      "./anaconda3/pkgs/urllib3-1.26.11-py39h06a4308_0/lib/python3.9/site-packages/urllib3-1.26.11.dist-info/LICENSE.txt\n",
      "./anaconda3/pkgs/urllib3-1.26.11-py39h06a4308_0/info/licenses/LICENSE.txt\n",
      "./anaconda3/pkgs/automat-20.2.0-py_0/site-packages/Automat-20.2.0.dist-info/top_level.txt\n",
      "./anaconda3/pkgs/automat-20.2.0-py_0/site-packages/Automat-20.2.0.dist-info/entry_points.txt\n",
      "./anaconda3/pkgs/conda-repo-cli-1.0.20-py39h06a4308_0/lib/python3.9/site-packages/conda_repo_cli-1.0.20-py3.9.egg-info/SOURCES.txt\n",
      "./anaconda3/pkgs/conda-repo-cli-1.0.20-py39h06a4308_0/lib/python3.9/site-packages/conda_repo_cli-1.0.20-py3.9.egg-info/requires.txt\n",
      "./anaconda3/pkgs/conda-repo-cli-1.0.20-py39h06a4308_0/lib/python3.9/site-packages/conda_repo_cli-1.0.20-py3.9.egg-info/top_level.txt\n",
      "./anaconda3/pkgs/conda-repo-cli-1.0.20-py39h06a4308_0/lib/python3.9/site-packages/conda_repo_cli-1.0.20-py3.9.egg-info/dependency_links.txt\n",
      "./anaconda3/pkgs/conda-repo-cli-1.0.20-py39h06a4308_0/lib/python3.9/site-packages/conda_repo_cli-1.0.20-py3.9.egg-info/entry_points.txt\n",
      "./anaconda3/pkgs/scikit-learn-intelex-2021.6.0-py39h06a4308_0/lib/python3.9/site-packages/scikit_learn_intelex-2021.20221004.171807-py3.9.egg-info/SOURCES.txt\n",
      "./anaconda3/pkgs/scikit-learn-intelex-2021.6.0-py39h06a4308_0/lib/python3.9/site-packages/scikit_learn_intelex-2021.20221004.171807-py3.9.egg-info/requires.txt\n",
      "./anaconda3/pkgs/scikit-learn-intelex-2021.6.0-py39h06a4308_0/lib/python3.9/site-packages/scikit_learn_intelex-2021.20221004.171807-py3.9.egg-info/top_level.txt\n",
      "./anaconda3/pkgs/scikit-learn-intelex-2021.6.0-py39h06a4308_0/lib/python3.9/site-packages/scikit_learn_intelex-2021.20221004.171807-py3.9.egg-info/dependency_links.txt\n",
      "./anaconda3/pkgs/scikit-learn-intelex-2021.6.0-py39h06a4308_0/info/licenses/doc/third-party-programs-sklearnex.txt\n",
      "./anaconda3/pkgs/libgfortran-ng-11.2.0-h00389a5_1/info/recipe/parent/tests/fortomp/CMakeLists.txt\n",
      "./anaconda3/pkgs/tblib-1.7.0-pyhd3eb1b0_0/site-packages/tblib-1.7.0.dist-info/top_level.txt\n",
      "./anaconda3/pkgs/intel-openmp-2021.4.0-h06a4308_3561/licensing/compiler/openmp/third-party-programs.txt\n",
      "./anaconda3/pkgs/intel-openmp-2021.4.0-h06a4308_3561/info/recipe/parent/recipe_log.txt\n",
      "./anaconda3/pkgs/intel-openmp-2021.4.0-h06a4308_3561/info/licenses/mkl/info/licenses/license.txt\n",
      "./anaconda3/pkgs/matplotlib-inline-0.1.6-py39h06a4308_0/lib/python3.9/site-packages/matplotlib_inline-0.1.6.dist-info/top_level.txt\n",
      "./anaconda3/pkgs/matplotlib-inline-0.1.6-py39h06a4308_0/info/recipe/yum_requirements.txt\n",
      "./anaconda3/pkgs/twisted-22.2.0-py39h5eee18b_1/lib/python3.9/site-packages/Twisted-22.2.0.dist-info/top_level.txt\n",
      "./anaconda3/pkgs/twisted-22.2.0-py39h5eee18b_1/lib/python3.9/site-packages/Twisted-22.2.0.dist-info/entry_points.txt\n",
      "./anaconda3/pkgs/twisted-22.2.0-py39h5eee18b_1/lib/python3.9/site-packages/twisted/internet/iocpreactor/notes.txt\n",
      "./anaconda3/pkgs/keyring-23.4.0-py39h06a4308_0/lib/python3.9/site-packages/keyring-23.4.0.dist-info/top_level.txt\n",
      "./anaconda3/pkgs/keyring-23.4.0-py39h06a4308_0/lib/python3.9/site-packages/keyring-23.4.0.dist-info/entry_points.txt\n",
      "./anaconda3/pkgs/qtpy-2.2.0-py39h06a4308_0/lib/python3.9/site-packages/QtPy-2.2.0.dist-info/top_level.txt\n",
      "./anaconda3/pkgs/qtpy-2.2.0-py39h06a4308_0/lib/python3.9/site-packages/QtPy-2.2.0.dist-info/LICENSE.txt\n",
      "./anaconda3/pkgs/qtpy-2.2.0-py39h06a4308_0/lib/python3.9/site-packages/QtPy-2.2.0.dist-info/entry_points.txt\n",
      "./anaconda3/pkgs/qtpy-2.2.0-py39h06a4308_0/info/recipe/yum_requirements.txt\n",
      "./anaconda3/pkgs/qtpy-2.2.0-py39h06a4308_0/info/licenses/LICENSE.txt\n",
      "./anaconda3/pkgs/navigator-updater-0.3.0-py39h06a4308_0/lib/python3.9/site-packages/navigator_updater-0.3.0-py3.9.egg-info/SOURCES.txt\n",
      "./anaconda3/pkgs/navigator-updater-0.3.0-py39h06a4308_0/lib/python3.9/site-packages/navigator_updater-0.3.0-py3.9.egg-info/top_level.txt\n",
      "./anaconda3/pkgs/navigator-updater-0.3.0-py39h06a4308_0/lib/python3.9/site-packages/navigator_updater-0.3.0-py3.9.egg-info/dependency_links.txt\n",
      "./anaconda3/pkgs/navigator-updater-0.3.0-py39h06a4308_0/lib/python3.9/site-packages/navigator_updater-0.3.0-py3.9.egg-info/entry_points.txt\n",
      "./anaconda3/pkgs/three-merge-0.1.1-pyhd3eb1b0_0/info/recipe/recipe_log.txt\n",
      "./anaconda3/pkgs/three-merge-0.1.1-pyhd3eb1b0_0/site-packages/three_merge-0.1.1.dist-info/top_level.txt\n",
      "./anaconda3/pkgs/pydocstyle-6.1.1-pyhd3eb1b0_0/site-packages/pydocstyle/data/imperatives.txt\n",
      "./anaconda3/pkgs/pydocstyle-6.1.1-pyhd3eb1b0_0/site-packages/pydocstyle/data/imperatives_blacklist.txt\n",
      "./anaconda3/pkgs/pydocstyle-6.1.1-pyhd3eb1b0_0/site-packages/pydocstyle-6.1.1.dist-info/top_level.txt\n",
      "./anaconda3/pkgs/pydocstyle-6.1.1-pyhd3eb1b0_0/site-packages/pydocstyle-6.1.1.dist-info/entry_points.txt\n",
      "./anaconda3/pkgs/jellyfish-0.9.0-py39h7f8727e_0/lib/python3.9/site-packages/jellyfish-0.9.0.dist-info/top_level.txt\n",
      "./anaconda3/pkgs/jellyfish-0.9.0-py39h7f8727e_0/info/recipe/recipe_log.txt\n",
      "./anaconda3/pkgs/autopep8-1.6.0-pyhd3eb1b0_1/site-packages/autopep8-1.6.0.dist-info/top_level.txt\n",
      "./anaconda3/pkgs/autopep8-1.6.0-pyhd3eb1b0_1/site-packages/autopep8-1.6.0.dist-info/entry_points.txt\n",
      "./anaconda3/pkgs/anaconda-navigator-2.3.1-py39h06a4308_0/lib/python3.9/site-packages/anaconda_navigator-2.3.1-py3.9.egg-info/SOURCES.txt\n",
      "./anaconda3/pkgs/anaconda-navigator-2.3.1-py39h06a4308_0/lib/python3.9/site-packages/anaconda_navigator-2.3.1-py3.9.egg-info/top_level.txt\n",
      "./anaconda3/pkgs/anaconda-navigator-2.3.1-py39h06a4308_0/lib/python3.9/site-packages/anaconda_navigator-2.3.1-py3.9.egg-info/dependency_links.txt\n",
      "./anaconda3/pkgs/anaconda-navigator-2.3.1-py39h06a4308_0/lib/python3.9/site-packages/anaconda_navigator-2.3.1-py3.9.egg-info/entry_points.txt\n",
      "./anaconda3/pkgs/sqlalchemy-1.4.39-py39h5eee18b_0/lib/python3.9/site-packages/SQLAlchemy-1.4.39.dist-info/top_level.txt\n",
      "./anaconda3/pkgs/xlrd-2.0.1-pyhd3eb1b0_0/site-packages/xlrd-2.0.1.dist-info/top_level.txt\n",
      "./anaconda3/pkgs/networkx-2.8.4-py39h06a4308_0/lib/python3.9/site-packages/networkx-2.8.4.dist-info/top_level.txt\n",
      "./anaconda3/pkgs/networkx-2.8.4-py39h06a4308_0/lib/python3.9/site-packages/networkx-2.8.4.dist-info/LICENSE.txt\n",
      "./anaconda3/pkgs/networkx-2.8.4-py39h06a4308_0/share/doc/networkx-2.8.4/LICENSE.txt\n",
      "./anaconda3/pkgs/networkx-2.8.4-py39h06a4308_0/share/doc/networkx-2.8.4/examples/drawing/README.txt\n",
      "./anaconda3/pkgs/networkx-2.8.4-py39h06a4308_0/share/doc/networkx-2.8.4/examples/README.txt\n",
      "./anaconda3/pkgs/networkx-2.8.4-py39h06a4308_0/share/doc/networkx-2.8.4/examples/graph/README.txt\n",
      "./anaconda3/pkgs/networkx-2.8.4-py39h06a4308_0/share/doc/networkx-2.8.4/examples/subclass/README.txt\n",
      "./anaconda3/pkgs/networkx-2.8.4-py39h06a4308_0/share/doc/networkx-2.8.4/examples/basic/README.txt\n",
      "./anaconda3/pkgs/networkx-2.8.4-py39h06a4308_0/share/doc/networkx-2.8.4/examples/algorithms/WormNet.v3.benchmark.txt\n",
      "./anaconda3/pkgs/networkx-2.8.4-py39h06a4308_0/share/doc/networkx-2.8.4/examples/algorithms/README.txt\n",
      "./anaconda3/pkgs/networkx-2.8.4-py39h06a4308_0/share/doc/networkx-2.8.4/examples/3d_drawing/README.txt\n",
      "./anaconda3/pkgs/networkx-2.8.4-py39h06a4308_0/info/licenses/LICENSE.txt\n",
      "./anaconda3/pkgs/tqdm-4.64.1-py39h06a4308_0/lib/python3.9/site-packages/tqdm-4.64.1.dist-info/top_level.txt\n",
      "./anaconda3/pkgs/tqdm-4.64.1-py39h06a4308_0/lib/python3.9/site-packages/tqdm-4.64.1.dist-info/entry_points.txt\n",
      "./anaconda3/pkgs/lxml-4.9.1-py39h1edc446_0/lib/python3.9/site-packages/lxml/isoschematron/resources/xsl/iso-schematron-xslt1/readme.txt\n",
      "./anaconda3/pkgs/lxml-4.9.1-py39h1edc446_0/lib/python3.9/site-packages/lxml-4.9.1.dist-info/LICENSES.txt\n",
      "./anaconda3/pkgs/lxml-4.9.1-py39h1edc446_0/lib/python3.9/site-packages/lxml-4.9.1.dist-info/top_level.txt\n",
      "./anaconda3/pkgs/lxml-4.9.1-py39h1edc446_0/lib/python3.9/site-packages/lxml-4.9.1.dist-info/LICENSE.txt\n",
      "./anaconda3/pkgs/lxml-4.9.1-py39h1edc446_0/info/licenses/LICENSES.txt\n",
      "./anaconda3/pkgs/anaconda-navigator-2.3.2-py39h06a4308_0/lib/python3.9/site-packages/anaconda_navigator-2.3.2-py3.9.egg-info/SOURCES.txt\n",
      "./anaconda3/pkgs/anaconda-navigator-2.3.2-py39h06a4308_0/lib/python3.9/site-packages/anaconda_navigator-2.3.2-py3.9.egg-info/top_level.txt\n",
      "./anaconda3/pkgs/anaconda-navigator-2.3.2-py39h06a4308_0/lib/python3.9/site-packages/anaconda_navigator-2.3.2-py3.9.egg-info/dependency_links.txt\n",
      "./anaconda3/pkgs/anaconda-navigator-2.3.2-py39h06a4308_0/lib/python3.9/site-packages/anaconda_navigator-2.3.2-py3.9.egg-info/entry_points.txt\n",
      "./anaconda3/pkgs/markupsafe-2.0.1-py39h27cfd23_0/lib/python3.9/site-packages/MarkupSafe-2.0.1.dist-info/top_level.txt\n",
      "./anaconda3/pkgs/conda-22.11.1-py39hf3d152e_1/lib/python3.9/site-packages/conda-22.11.1-py3.9.egg-info/SOURCES.txt\n",
      "./anaconda3/pkgs/conda-22.11.1-py39hf3d152e_1/lib/python3.9/site-packages/conda-22.11.1-py3.9.egg-info/requires.txt\n",
      "./anaconda3/pkgs/conda-22.11.1-py39hf3d152e_1/lib/python3.9/site-packages/conda-22.11.1-py3.9.egg-info/top_level.txt\n",
      "./anaconda3/pkgs/conda-22.11.1-py39hf3d152e_1/lib/python3.9/site-packages/conda-22.11.1-py3.9.egg-info/dependency_links.txt\n",
      "./anaconda3/pkgs/conda-22.11.1-py39hf3d152e_1/lib/python3.9/site-packages/conda-22.11.1-py3.9.egg-info/entry_points.txt\n",
      "./anaconda3/pkgs/conda-22.11.1-py39hf3d152e_1/info/recipe/recipe-scripts-license.txt\n",
      "./anaconda3/pkgs/conda-22.11.1-py39hf3d152e_1/info/licenses/LICENSE.txt\n",
      "./anaconda3/pkgs/libpq-12.9-h16c4e8d_3/share/sql_features.txt\n",
      "./anaconda3/pkgs/libpq-12.9-h16c4e8d_3/share/errcodes.txt\n",
      "./anaconda3/pkgs/libpq-12.9-h16c4e8d_3/share/timezonesets/America.txt\n",
      "./anaconda3/pkgs/libpq-12.9-h16c4e8d_3/share/timezonesets/Asia.txt\n",
      "./anaconda3/pkgs/libpq-12.9-h16c4e8d_3/share/timezonesets/Pacific.txt\n",
      "./anaconda3/pkgs/libpq-12.9-h16c4e8d_3/share/timezonesets/Etc.txt\n",
      "./anaconda3/pkgs/libpq-12.9-h16c4e8d_3/share/timezonesets/Atlantic.txt\n",
      "./anaconda3/pkgs/libpq-12.9-h16c4e8d_3/share/timezonesets/Australia.txt\n",
      "./anaconda3/pkgs/libpq-12.9-h16c4e8d_3/share/timezonesets/Indian.txt\n",
      "./anaconda3/pkgs/libpq-12.9-h16c4e8d_3/share/timezonesets/Antarctica.txt\n",
      "./anaconda3/pkgs/libpq-12.9-h16c4e8d_3/share/timezonesets/Africa.txt\n",
      "./anaconda3/pkgs/libpq-12.9-h16c4e8d_3/share/timezonesets/Europe.txt\n",
      "./anaconda3/pkgs/incremental-21.3.0-pyhd3eb1b0_0/info/recipe/recipe_log.txt\n",
      "./anaconda3/pkgs/incremental-21.3.0-pyhd3eb1b0_0/site-packages/incremental-21.3.0.dist-info/top_level.txt\n",
      "./anaconda3/pkgs/incremental-21.3.0-pyhd3eb1b0_0/site-packages/incremental-21.3.0.dist-info/entry_points.txt\n",
      "./anaconda3/pkgs/pycosat-0.6.3-py39h27cfd23_0/info/recipe/recipe_log.txt\n",
      "./anaconda3/pkgs/charset-normalizer-2.0.4-pyhd3eb1b0_0/info/recipe/recipe_log.txt\n",
      "./anaconda3/pkgs/charset-normalizer-2.0.4-pyhd3eb1b0_0/site-packages/charset_normalizer-2.0.4.dist-info/top_level.txt\n",
      "./anaconda3/pkgs/charset-normalizer-2.0.4-pyhd3eb1b0_0/site-packages/charset_normalizer-2.0.4.dist-info/entry_points.txt\n",
      "./anaconda3/pkgs/cookiecutter-1.7.3-pyhd3eb1b0_0/info/test/tests/test-output-folder/{{cookiecutter.test_name}}/folder/in_folder.txt\n",
      "./anaconda3/pkgs/cookiecutter-1.7.3-pyhd3eb1b0_0/info/test/tests/test-output-folder/{{cookiecutter.test_name}}/something.txt\n",
      "./anaconda3/pkgs/cookiecutter-1.7.3-pyhd3eb1b0_0/info/test/tests/test-generate-files/input{{cookiecutter.food}}/simple.txt\n",
      "./anaconda3/pkgs/cookiecutter-1.7.3-pyhd3eb1b0_0/info/test/tests/test-generate-files/input{{cookiecutter.food}}/simple-with-newline.txt\n",
      "./anaconda3/pkgs/cookiecutter-1.7.3-pyhd3eb1b0_0/info/test/tests/test-generate-binaries/input{{cookiecutter.binary_test}}/readme.txt\n",
      "./anaconda3/pkgs/cookiecutter-1.7.3-pyhd3eb1b0_0/info/test/tests/test-generate-binaries/input{{cookiecutter.binary_test}}/{{cookiecutter.binary_test}}/readme.txt\n",
      "./anaconda3/pkgs/cookiecutter-1.7.3-pyhd3eb1b0_0/info/test/tests/files/{{generate_file}}.txt\n",
      "./anaconda3/pkgs/cookiecutter-1.7.3-pyhd3eb1b0_0/info/test/tests/files/unicode.txt\n",
      "./anaconda3/pkgs/cookiecutter-1.7.3-pyhd3eb1b0_0/info/test/tests/files/{{cookiecutter.jsonify_file}}.txt\n",
      "./anaconda3/pkgs/cookiecutter-1.7.3-pyhd3eb1b0_0/info/test/tests/files/syntax_error.txt\n",
      "./anaconda3/pkgs/cookiecutter-1.7.3-pyhd3eb1b0_0/info/test/tests/files/{{cookiecutter.random_string_file}}.txt\n",
      "./anaconda3/pkgs/cookiecutter-1.7.3-pyhd3eb1b0_0/info/test/tests/test-generate-files-permissions/input{{cookiecutter.permissions}}/simple.txt\n",
      "./anaconda3/pkgs/cookiecutter-1.7.3-pyhd3eb1b0_0/info/test/tests/test-generate-files-nontemplated/input/simple.txt\n",
      "./anaconda3/pkgs/cookiecutter-1.7.3-pyhd3eb1b0_0/info/test/tests/fake-repo-bad/no-project-in-here.txt\n",
      "./anaconda3/pkgs/cookiecutter-1.7.3-pyhd3eb1b0_0/info/test/tests/test-generate-copy-without-render/{{cookiecutter.repo_name}}/README.txt\n",
      "./anaconda3/pkgs/cookiecutter-1.7.3-pyhd3eb1b0_0/info/test/tests/test-generate-copy-without-render/{{cookiecutter.repo_name}}/{{cookiecutter.repo_name}}-rendered/README.txt\n",
      "./anaconda3/pkgs/cookiecutter-1.7.3-pyhd3eb1b0_0/site-packages/cookiecutter-1.7.3.dist-info/top_level.txt\n",
      "./anaconda3/pkgs/cookiecutter-1.7.3-pyhd3eb1b0_0/site-packages/cookiecutter-1.7.3.dist-info/entry_points.txt\n",
      "./anaconda3/pkgs/fonttools-4.25.0-pyhd3eb1b0_0/site-packages/fontTools/ttLib/tables/table_API_readme.txt\n",
      "./anaconda3/pkgs/fonttools-4.25.0-pyhd3eb1b0_0/site-packages/fonttools-4.25.0-py3.9.egg-info/SOURCES.txt\n",
      "./anaconda3/pkgs/fonttools-4.25.0-pyhd3eb1b0_0/site-packages/fonttools-4.25.0-py3.9.egg-info/requires.txt\n",
      "./anaconda3/pkgs/fonttools-4.25.0-pyhd3eb1b0_0/site-packages/fonttools-4.25.0-py3.9.egg-info/top_level.txt\n",
      "./anaconda3/pkgs/fonttools-4.25.0-pyhd3eb1b0_0/site-packages/fonttools-4.25.0-py3.9.egg-info/dependency_links.txt\n",
      "./anaconda3/pkgs/fonttools-4.25.0-pyhd3eb1b0_0/site-packages/fonttools-4.25.0-py3.9.egg-info/entry_points.txt\n",
      "./anaconda3/pkgs/requests-2.28.1-py39h06a4308_0/lib/python3.9/site-packages/requests-2.28.1.dist-info/top_level.txt\n",
      "./anaconda3/pkgs/holoviews-1.15.0-py39h06a4308_0/lib/python3.9/site-packages/holoviews-1.15.0.dist-info/top_level.txt\n",
      "./anaconda3/pkgs/holoviews-1.15.0-py39h06a4308_0/lib/python3.9/site-packages/holoviews-1.15.0.dist-info/LICENSE.txt\n",
      "./anaconda3/pkgs/holoviews-1.15.0-py39h06a4308_0/lib/python3.9/site-packages/holoviews-1.15.0.dist-info/entry_points.txt\n",
      "./anaconda3/pkgs/holoviews-1.15.0-py39h06a4308_0/info/licenses/LICENSE.txt\n",
      "./anaconda3/pkgs/snowballstemmer-2.2.0-pyhd3eb1b0_0/site-packages/snowballstemmer-2.2.0.dist-info/top_level.txt\n",
      "./anaconda3/pkgs/python-snappy-0.6.0-py39h2531618_3/lib/python3.9/site-packages/python_snappy-0.6.0.dist-info/top_level.txt\n",
      "./anaconda3/pkgs/tornado-6.1-py39h27cfd23_0/lib/python3.9/site-packages/tornado-6.1.dist-info/top_level.txt\n",
      "./anaconda3/pkgs/tornado-6.1-py39h27cfd23_0/lib/python3.9/site-packages/tornado/test/static_foo.txt\n",
      "./anaconda3/pkgs/tornado-6.1-py39h27cfd23_0/lib/python3.9/site-packages/tornado/test/static/robots.txt\n",
      "./anaconda3/pkgs/jupyter_console-6.4.3-pyhd3eb1b0_0/site-packages/jupyter_console-6.4.3.dist-info/top_level.txt\n",
      "./anaconda3/pkgs/jupyter_console-6.4.3-pyhd3eb1b0_0/site-packages/jupyter_console-6.4.3.dist-info/entry_points.txt\n",
      "./anaconda3/pkgs/setuptools-63.4.1-py39h06a4308_0/lib/python3.9/site-packages/setuptools-63.4.1-py3.9.egg-info/SOURCES.txt\n",
      "./anaconda3/pkgs/setuptools-63.4.1-py39h06a4308_0/lib/python3.9/site-packages/setuptools-63.4.1-py3.9.egg-info/requires.txt\n",
      "./anaconda3/pkgs/setuptools-63.4.1-py39h06a4308_0/lib/python3.9/site-packages/setuptools-63.4.1-py3.9.egg-info/top_level.txt\n",
      "./anaconda3/pkgs/setuptools-63.4.1-py39h06a4308_0/lib/python3.9/site-packages/setuptools-63.4.1-py3.9.egg-info/dependency_links.txt\n",
      "./anaconda3/pkgs/setuptools-63.4.1-py39h06a4308_0/lib/python3.9/site-packages/setuptools-63.4.1-py3.9.egg-info/entry_points.txt\n",
      "./anaconda3/pkgs/jupyter_contrib_nbextensions-0.7.0-pyhd8ed1ab_0/info/recipe/recipe-scripts-license.txt\n",
      "./anaconda3/pkgs/jupyter_contrib_nbextensions-0.7.0-pyhd8ed1ab_0/site-packages/jupyter_contrib_nbextensions/nbextensions/spellchecker/typo/LICENSE.txt\n",
      "./anaconda3/pkgs/jupyter_contrib_nbextensions-0.7.0-pyhd8ed1ab_0/site-packages/jupyter_contrib_nbextensions/nbextensions/varInspector/tablesorter_LICENSE.txt\n",
      "./anaconda3/pkgs/jupyter_contrib_nbextensions-0.7.0-pyhd8ed1ab_0/site-packages/jupyter_contrib_nbextensions-0.7.0.dist-info/top_level.txt\n",
      "./anaconda3/pkgs/jupyter_contrib_nbextensions-0.7.0-pyhd8ed1ab_0/site-packages/jupyter_contrib_nbextensions-0.7.0.dist-info/entry_points.txt\n",
      "./anaconda3/pkgs/qtconsole-5.3.2-py39h06a4308_0/lib/python3.9/site-packages/qtconsole-5.3.2.dist-info/top_level.txt\n",
      "./anaconda3/pkgs/qtconsole-5.3.2-py39h06a4308_0/lib/python3.9/site-packages/qtconsole-5.3.2.dist-info/entry_points.txt\n",
      "./anaconda3/pkgs/qtconsole-5.3.2-py39h06a4308_0/info/recipe/yum_requirements.txt\n",
      "./anaconda3/pkgs/certifi-2022.9.14-py39h06a4308_0/lib/python3.9/site-packages/certifi-2022.9.14.dist-info/top_level.txt\n",
      "./anaconda3/pkgs/yapf-0.31.0-pyhd3eb1b0_0/site-packages/yapf-0.31.0.dist-info/top_level.txt\n",
      "./anaconda3/pkgs/yapf-0.31.0-pyhd3eb1b0_0/site-packages/yapf-0.31.0.dist-info/entry_points.txt\n",
      "./anaconda3/pkgs/pycurl-7.45.1-py39h8f2d780_0/lib/python3.9/site-packages/pycurl-7.45.1-py3.9-linux-x86_64.egg-info/SOURCES.txt\n",
      "./anaconda3/pkgs/pycurl-7.45.1-py39h8f2d780_0/lib/python3.9/site-packages/pycurl-7.45.1-py3.9-linux-x86_64.egg-info/top_level.txt\n",
      "./anaconda3/pkgs/pycurl-7.45.1-py39h8f2d780_0/lib/python3.9/site-packages/pycurl-7.45.1-py3.9-linux-x86_64.egg-info/dependency_links.txt\n",
      "./anaconda3/pkgs/pycurl-7.45.1-py39h8f2d780_0/lib/python3.9/site-packages/pycurl-7.45.1-py3.9-linux-x86_64.egg-info/native_libs.txt\n",
      "./anaconda3/pkgs/cryptography-37.0.1-py39h9ce1e76_0/lib/python3.9/site-packages/cryptography-37.0.1.dist-info/top_level.txt\n",
      "./anaconda3/pkgs/cryptography-37.0.1-py39h9ce1e76_0/info/recipe/recipe_log.txt\n",
      "./anaconda3/pkgs/hyperlink-21.0.0-pyhd3eb1b0_0/site-packages/hyperlink-21.0.0.dist-info/top_level.txt\n",
      "./anaconda3/pkgs/libwebp-1.2.2-h55f646e_0/info/recipe/recipe_log.txt\n",
      "./anaconda3/pkgs/mkl_fft-1.3.1-py39hd3c417c_0/lib/python3.9/site-packages/mkl_fft-1.3.1-py3.9.egg-info/SOURCES.txt\n",
      "./anaconda3/pkgs/mkl_fft-1.3.1-py39hd3c417c_0/lib/python3.9/site-packages/mkl_fft-1.3.1-py3.9.egg-info/requires.txt\n",
      "./anaconda3/pkgs/mkl_fft-1.3.1-py39hd3c417c_0/lib/python3.9/site-packages/mkl_fft-1.3.1-py3.9.egg-info/top_level.txt\n",
      "./anaconda3/pkgs/mkl_fft-1.3.1-py39hd3c417c_0/lib/python3.9/site-packages/mkl_fft-1.3.1-py3.9.egg-info/dependency_links.txt\n",
      "./anaconda3/pkgs/mkl_fft-1.3.1-py39hd3c417c_0/info/recipe/recipe_log.txt\n",
      "./anaconda3/pkgs/mkl_fft-1.3.1-py39hd3c417c_0/info/licenses/LICENSE.txt\n",
      "./anaconda3/pkgs/gensim-4.1.2-py39h295c915_0/lib/python3.9/site-packages/gensim-4.1.2.dist-info/top_level.txt\n",
      "./anaconda3/pkgs/gensim-4.1.2-py39h295c915_0/lib/python3.9/site-packages/gensim/test/test_data/ldavowpalwabbit.txt\n",
      "./anaconda3/pkgs/gensim-4.1.2-py39h295c915_0/lib/python3.9/site-packages/gensim/test/test_data/PathLineSentences/1.txt\n",
      "./anaconda3/pkgs/gensim-4.1.2-py39h295c915_0/lib/python3.9/site-packages/gensim/test/test_data/head500.noblanks.cor_wordids.txt\n",
      "./anaconda3/pkgs/gensim-4.1.2-py39h295c915_0/lib/python3.9/site-packages/gensim/test/test_data/OPUS_en_it_europarl_train_one2ten.txt\n",
      "./anaconda3/pkgs/gensim-4.1.2-py39h295c915_0/lib/python3.9/site-packages/gensim/test/test_data/fb-ngrams.txt\n",
      "./anaconda3/pkgs/gensim-4.1.2-py39h295c915_0/lib/python3.9/site-packages/gensim/test/test_data/similarities0-1.txt\n",
      "./anaconda3/pkgs/gensim-4.1.2-py39h295c915_0/lib/python3.9/site-packages/gensim/test/test_data/toy-data.txt\n",
      "./anaconda3/pkgs/gensim-4.1.2-py39h295c915_0/lib/python3.9/site-packages/gensim/test/test_data/para2para_text2.txt\n",
      "./anaconda3/pkgs/gensim-4.1.2-py39h295c915_0/lib/python3.9/site-packages/gensim/test/test_data/alldata-id-10.txt\n",
      "./anaconda3/pkgs/gensim-4.1.2-py39h295c915_0/lib/python3.9/site-packages/gensim/test/test_data/crime-and-punishment.txt\n",
      "./anaconda3/pkgs/gensim-4.1.2-py39h295c915_0/lib/python3.9/site-packages/gensim/test/test_data/test_glove.txt\n",
      "./anaconda3/pkgs/gensim-4.1.2-py39h295c915_0/lib/python3.9/site-packages/gensim/test/test_data/DTM/sstats_test.txt\n",
      "./anaconda3/pkgs/gensim-4.1.2-py39h295c915_0/lib/python3.9/site-packages/gensim/test/test_data/simlex999.txt\n",
      "./anaconda3/pkgs/gensim-4.1.2-py39h295c915_0/lib/python3.9/site-packages/gensim/test/test_data/EN.1-10.cbow1_wind5_hs0_neg10_size300_smpl1e-05.txt\n",
      "./anaconda3/pkgs/gensim-4.1.2-py39h295c915_0/lib/python3.9/site-packages/gensim/test/test_data/ldavowpalwabbit.dict.txt\n",
      "./anaconda3/pkgs/gensim-4.1.2-py39h295c915_0/lib/python3.9/site-packages/gensim/test/test_data/testcorpus.txt\n",
      "./anaconda3/pkgs/gensim-4.1.2-py39h295c915_0/lib/python3.9/site-packages/gensim/test/test_data/high_precision.kv.txt\n",
      "./anaconda3/pkgs/gensim-4.1.2-py39h295c915_0/lib/python3.9/site-packages/gensim/test/test_data/para2para_text1.txt\n",
      "./anaconda3/pkgs/gensim-4.1.2-py39h295c915_0/lib/python3.9/site-packages/gensim/test/test_data/IT.1-10.cbow1_wind5_hs0_neg10_size300_smpl1e-05.txt\n",
      "./anaconda3/pkgs/gensim-4.1.2-py39h295c915_0/lib/python3.9/site-packages/gensim/test/test_data/questions-words.txt\n",
      "./anaconda3/pkgs/gensim-4.1.2-py39h295c915_0/info/recipe/recipe_log.txt\n",
      "./anaconda3/pkgs/qtwebkit-5.212-h4eab89a_4/info/recipe/LICENSE.txt\n",
      "./anaconda3/pkgs/debugpy-1.5.1-py39h295c915_0/lib/python3.9/site-packages/debugpy-1.5.1.dist-info/top_level.txt\n",
      "./anaconda3/pkgs/debugpy-1.5.1-py39h295c915_0/lib/python3.9/site-packages/debugpy/ThirdPartyNotices.txt\n",
      "./anaconda3/pkgs/debugpy-1.5.1-py39h295c915_0/lib/python3.9/site-packages/debugpy/_vendored/pydevd/pydevd_attach_to_process/README.txt\n",
      "./anaconda3/pkgs/debugpy-1.5.1-py39h295c915_0/lib/python3.9/site-packages/debugpy/_vendored/pydevd/pydev_sitecustomize/__not_in_default_pythonpath.txt\n",
      "./anaconda3/pkgs/debugpy-1.5.1-py39h295c915_0/lib/python3.9/site-packages/debugpy/_vendored/pydevd/_pydevd_frame_eval/vendored/README.txt\n",
      "./anaconda3/pkgs/debugpy-1.5.1-py39h295c915_0/lib/python3.9/site-packages/debugpy/_vendored/pydevd/_pydevd_frame_eval/vendored/bytecode-0.13.0.dev0.dist-info/top_level.txt\n",
      "./anaconda3/pkgs/debugpy-1.5.1-py39h295c915_0/info/recipe/ThirdPartyNotices.txt\n",
      "./anaconda3/pkgs/debugpy-1.5.1-py39h295c915_0/info/recipe/recipe_log.txt\n",
      "./anaconda3/pkgs/debugpy-1.5.1-py39h295c915_0/info/licenses/ThirdPartyNotices.txt\n",
      "./anaconda3/pkgs/pyrsistent-0.18.0-py39heee7806_0/lib/python3.9/site-packages/pyrsistent-0.18.0.dist-info/top_level.txt\n",
      "./anaconda3/pkgs/pyrsistent-0.18.0-py39heee7806_0/info/recipe/recipe_log.txt\n",
      "./anaconda3/pkgs/bokeh-2.4.3-py39h06a4308_0/lib/python3.9/site-packages/bokeh-2.4.3.dist-info/top_level.txt\n",
      "./anaconda3/pkgs/bokeh-2.4.3-py39h06a4308_0/lib/python3.9/site-packages/bokeh-2.4.3.dist-info/LICENSE.txt\n",
      "./anaconda3/pkgs/bokeh-2.4.3-py39h06a4308_0/lib/python3.9/site-packages/bokeh-2.4.3.dist-info/entry_points.txt\n",
      "./anaconda3/pkgs/bokeh-2.4.3-py39h06a4308_0/lib/python3.9/site-packages/bokeh/LICENSE.txt\n",
      "./anaconda3/pkgs/bokeh-2.4.3-py39h06a4308_0/info/licenses/LICENSE.txt\n",
      "./anaconda3/pkgs/bleach-4.1.0-pyhd3eb1b0_0/site-packages/bleach/_vendor/html5lib-1.1.dist-info/top_level.txt\n",
      "./anaconda3/pkgs/bleach-4.1.0-pyhd3eb1b0_0/site-packages/bleach/_vendor/vendor.txt\n",
      "./anaconda3/pkgs/bleach-4.1.0-pyhd3eb1b0_0/site-packages/bleach-4.1.0.dist-info/top_level.txt\n",
      "./anaconda3/pkgs/pyjwt-2.4.0-py39h06a4308_0/lib/python3.9/site-packages/PyJWT-2.4.0.dist-info/top_level.txt\n",
      "./anaconda3/pkgs/pytz-2022.1-py39h06a4308_0/lib/python3.9/site-packages/pytz-2022.1.dist-info/top_level.txt\n",
      "./anaconda3/pkgs/pytz-2022.1-py39h06a4308_0/lib/python3.9/site-packages/pytz-2022.1.dist-info/LICENSE.txt\n",
      "./anaconda3/pkgs/pytz-2022.1-py39h06a4308_0/info/licenses/LICENSE.txt\n",
      "./anaconda3/pkgs/jupyterlab_pygments-0.1.2-py_0/site-packages/jupyterlab_pygments-0.1.2.dist-info/top_level.txt\n",
      "./anaconda3/pkgs/datashader-0.14.1-py39h06a4308_0/lib/python3.9/site-packages/datashader-0.14.1.dist-info/top_level.txt\n",
      "./anaconda3/pkgs/datashader-0.14.1-py39h06a4308_0/lib/python3.9/site-packages/datashader-0.14.1.dist-info/LICENSE.txt\n",
      "./anaconda3/pkgs/datashader-0.14.1-py39h06a4308_0/lib/python3.9/site-packages/datashader-0.14.1.dist-info/entry_points.txt\n",
      "./anaconda3/pkgs/datashader-0.14.1-py39h06a4308_0/info/licenses/LICENSE.txt\n",
      "./anaconda3/pkgs/itemadapter-0.3.0-pyhd3eb1b0_0/site-packages/itemadapter-0.3.0.dist-info/top_level.txt\n",
      "./anaconda3/pkgs/constantly-15.1.0-pyh2b92418_0/site-packages/constantly-15.1.0-py3.8.egg-info/SOURCES.txt\n",
      "./anaconda3/pkgs/constantly-15.1.0-pyh2b92418_0/site-packages/constantly-15.1.0-py3.8.egg-info/top_level.txt\n",
      "./anaconda3/pkgs/constantly-15.1.0-pyh2b92418_0/site-packages/constantly-15.1.0-py3.8.egg-info/dependency_links.txt\n",
      "./anaconda3/pkgs/dill-0.3.4-pyhd3eb1b0_0/site-packages/dill-0.3.4.dist-info/top_level.txt\n",
      "./anaconda3/pkgs/mpmath-1.2.1-py39h06a4308_0/lib/python3.9/site-packages/mpmath-1.2.1-py3.9.egg-info/SOURCES.txt\n",
      "./anaconda3/pkgs/mpmath-1.2.1-py39h06a4308_0/lib/python3.9/site-packages/mpmath-1.2.1-py3.9.egg-info/requires.txt\n",
      "./anaconda3/pkgs/mpmath-1.2.1-py39h06a4308_0/lib/python3.9/site-packages/mpmath-1.2.1-py3.9.egg-info/top_level.txt\n",
      "./anaconda3/pkgs/mpmath-1.2.1-py39h06a4308_0/lib/python3.9/site-packages/mpmath-1.2.1-py3.9.egg-info/dependency_links.txt\n",
      "./anaconda3/pkgs/mpmath-1.2.1-py39h06a4308_0/info/recipe/recipe_log.txt\n",
      "./anaconda3/pkgs/pytables-3.6.1-py39h77479fe_1/lib/python3.9/site-packages/tables-3.6.1.dist-info/top_level.txt\n",
      "./anaconda3/pkgs/pytables-3.6.1-py39h77479fe_1/lib/python3.9/site-packages/tables-3.6.1.dist-info/LICENSE.txt\n",
      "./anaconda3/pkgs/pytables-3.6.1-py39h77479fe_1/lib/python3.9/site-packages/tables-3.6.1.dist-info/entry_points.txt\n",
      "./anaconda3/pkgs/pytables-3.6.1-py39h77479fe_1/info/recipe/recipe_log.txt\n",
      "./anaconda3/pkgs/pytables-3.6.1-py39h77479fe_1/info/licenses/LICENSE.txt\n",
      "./anaconda3/pkgs/mistune-0.8.4-py39h27cfd23_1000/lib/python3.9/site-packages/mistune-0.8.4.dist-info/top_level.txt\n",
      "./anaconda3/pkgs/mistune-0.8.4-py39h27cfd23_1000/info/recipe/recipe_log.txt\n",
      "./anaconda3/pkgs/babel-2.9.1-pyhd3eb1b0_0/site-packages/Babel-2.9.1.dist-info/top_level.txt\n",
      "./anaconda3/pkgs/babel-2.9.1-pyhd3eb1b0_0/site-packages/Babel-2.9.1.dist-info/entry_points.txt\n",
      "./anaconda3/pkgs/mccabe-0.7.0-pyhd3eb1b0_0/site-packages/mccabe-0.7.0.dist-info/top_level.txt\n",
      "./anaconda3/pkgs/mccabe-0.7.0-pyhd3eb1b0_0/site-packages/mccabe-0.7.0.dist-info/entry_points.txt\n",
      "./anaconda3/pkgs/scipy-1.9.1-py39h14f4228_0/lib/python3.9/site-packages/scipy/LICENSES_bundled.txt\n",
      "./anaconda3/pkgs/scipy-1.9.1-py39h14f4228_0/lib/python3.9/site-packages/scipy/INSTALL.rst.txt\n",
      "./anaconda3/pkgs/scipy-1.9.1-py39h14f4228_0/lib/python3.9/site-packages/scipy/meson_options.txt\n",
      "./anaconda3/pkgs/scipy-1.9.1-py39h14f4228_0/lib/python3.9/site-packages/scipy/ndimage/tests/data/README.txt\n",
      "./anaconda3/pkgs/scipy-1.9.1-py39h14f4228_0/lib/python3.9/site-packages/scipy/ndimage/tests/data/label_strels.txt\n",
      "./anaconda3/pkgs/scipy-1.9.1-py39h14f4228_0/lib/python3.9/site-packages/scipy/ndimage/tests/data/label_inputs.txt\n",
      "./anaconda3/pkgs/scipy-1.9.1-py39h14f4228_0/lib/python3.9/site-packages/scipy/ndimage/tests/data/label_results.txt\n",
      "./anaconda3/pkgs/scipy-1.9.1-py39h14f4228_0/lib/python3.9/site-packages/scipy/LICENSE.txt\n",
      "./anaconda3/pkgs/scipy-1.9.1-py39h14f4228_0/lib/python3.9/site-packages/scipy/HACKING.rst.txt\n",
      "./anaconda3/pkgs/scipy-1.9.1-py39h14f4228_0/lib/python3.9/site-packages/scipy/doc_requirements.txt\n",
      "./anaconda3/pkgs/scipy-1.9.1-py39h14f4228_0/lib/python3.9/site-packages/scipy/io/matlab/tests/data/japanese_utf8.txt\n",
      "./anaconda3/pkgs/scipy-1.9.1-py39h14f4228_0/lib/python3.9/site-packages/scipy/spatial/qhull_src/COPYING.txt\n",
      "./anaconda3/pkgs/scipy-1.9.1-py39h14f4228_0/lib/python3.9/site-packages/scipy/spatial/tests/data/pdist-cityblock-ml-iris.txt\n",
      "./anaconda3/pkgs/scipy-1.9.1-py39h14f4228_0/lib/python3.9/site-packages/scipy/spatial/tests/data/pdist-boolean-inp.txt\n",
      "./anaconda3/pkgs/scipy-1.9.1-py39h14f4228_0/lib/python3.9/site-packages/scipy/spatial/tests/data/iris.txt\n",
      "./anaconda3/pkgs/scipy-1.9.1-py39h14f4228_0/lib/python3.9/site-packages/scipy/spatial/tests/data/pdist-hamming-ml.txt\n",
      "./anaconda3/pkgs/scipy-1.9.1-py39h14f4228_0/lib/python3.9/site-packages/scipy/spatial/tests/data/random-uint-data.txt\n",
      "./anaconda3/pkgs/scipy-1.9.1-py39h14f4228_0/lib/python3.9/site-packages/scipy/spatial/tests/data/pdist-minkowski-3.2-ml.txt\n",
      "./anaconda3/pkgs/scipy-1.9.1-py39h14f4228_0/lib/python3.9/site-packages/scipy/spatial/tests/data/cdist-X2.txt\n",
      "./anaconda3/pkgs/scipy-1.9.1-py39h14f4228_0/lib/python3.9/site-packages/scipy/spatial/tests/data/random-double-data.txt\n",
      "./anaconda3/pkgs/scipy-1.9.1-py39h14f4228_0/lib/python3.9/site-packages/scipy/spatial/tests/data/pdist-minkowski-5.8-ml-iris.txt\n",
      "./anaconda3/pkgs/scipy-1.9.1-py39h14f4228_0/lib/python3.9/site-packages/scipy/spatial/tests/data/pdist-seuclidean-ml.txt\n",
      "./anaconda3/pkgs/scipy-1.9.1-py39h14f4228_0/lib/python3.9/site-packages/scipy/spatial/tests/data/random-bool-data.txt\n",
      "./anaconda3/pkgs/scipy-1.9.1-py39h14f4228_0/lib/python3.9/site-packages/scipy/spatial/tests/data/pdist-jaccard-ml.txt\n",
      "./anaconda3/pkgs/scipy-1.9.1-py39h14f4228_0/lib/python3.9/site-packages/scipy/spatial/tests/data/random-int-data.txt\n",
      "./anaconda3/pkgs/scipy-1.9.1-py39h14f4228_0/lib/python3.9/site-packages/scipy/spatial/tests/data/pdist-correlation-ml.txt\n",
      "./anaconda3/pkgs/scipy-1.9.1-py39h14f4228_0/lib/python3.9/site-packages/scipy/spatial/tests/data/pdist-minkowski-3.2-ml-iris.txt\n",
      "./anaconda3/pkgs/scipy-1.9.1-py39h14f4228_0/lib/python3.9/site-packages/scipy/spatial/tests/data/pdist-euclidean-ml.txt\n",
      "./anaconda3/pkgs/scipy-1.9.1-py39h14f4228_0/lib/python3.9/site-packages/scipy/spatial/tests/data/pdist-double-inp.txt\n",
      "./anaconda3/pkgs/scipy-1.9.1-py39h14f4228_0/lib/python3.9/site-packages/scipy/spatial/tests/data/pdist-cityblock-ml.txt\n",
      "./anaconda3/pkgs/scipy-1.9.1-py39h14f4228_0/lib/python3.9/site-packages/scipy/spatial/tests/data/pdist-jensenshannon-ml.txt\n",
      "./anaconda3/pkgs/scipy-1.9.1-py39h14f4228_0/lib/python3.9/site-packages/scipy/spatial/tests/data/pdist-chebyshev-ml.txt\n",
      "./anaconda3/pkgs/scipy-1.9.1-py39h14f4228_0/lib/python3.9/site-packages/scipy/spatial/tests/data/pdist-correlation-ml-iris.txt\n",
      "./anaconda3/pkgs/scipy-1.9.1-py39h14f4228_0/lib/python3.9/site-packages/scipy/spatial/tests/data/pdist-cosine-ml-iris.txt\n",
      "./anaconda3/pkgs/scipy-1.9.1-py39h14f4228_0/lib/python3.9/site-packages/scipy/spatial/tests/data/selfdual-4d-polytope.txt\n",
      "./anaconda3/pkgs/scipy-1.9.1-py39h14f4228_0/lib/python3.9/site-packages/scipy/spatial/tests/data/pdist-chebyshev-ml-iris.txt\n",
      "./anaconda3/pkgs/scipy-1.9.1-py39h14f4228_0/lib/python3.9/site-packages/scipy/spatial/tests/data/pdist-spearman-ml.txt\n",
      "./anaconda3/pkgs/scipy-1.9.1-py39h14f4228_0/lib/python3.9/site-packages/scipy/spatial/tests/data/pdist-cosine-ml.txt\n",
      "./anaconda3/pkgs/scipy-1.9.1-py39h14f4228_0/lib/python3.9/site-packages/scipy/spatial/tests/data/pdist-seuclidean-ml-iris.txt\n",
      "./anaconda3/pkgs/scipy-1.9.1-py39h14f4228_0/lib/python3.9/site-packages/scipy/spatial/tests/data/pdist-euclidean-ml-iris.txt\n",
      "./anaconda3/pkgs/scipy-1.9.1-py39h14f4228_0/lib/python3.9/site-packages/scipy/spatial/tests/data/pdist-jensenshannon-ml-iris.txt\n",
      "./anaconda3/pkgs/scipy-1.9.1-py39h14f4228_0/lib/python3.9/site-packages/scipy/spatial/tests/data/cdist-X1.txt\n",
      "./anaconda3/pkgs/scipy-1.9.1-py39h14f4228_0/lib/python3.9/site-packages/scipy/mypy_requirements.txt\n",
      "./anaconda3/pkgs/scipy-1.9.1-py39h14f4228_0/lib/python3.9/site-packages/scipy/sparse/linalg/_dsolve/SuperLU/License.txt\n",
      "./anaconda3/pkgs/scipy-1.9.1-py39h14f4228_0/lib/python3.9/site-packages/scipy-1.9.1-py3.9.egg-info/SOURCES.txt\n",
      "./anaconda3/pkgs/scipy-1.9.1-py39h14f4228_0/lib/python3.9/site-packages/scipy-1.9.1-py3.9.egg-info/requires.txt\n",
      "./anaconda3/pkgs/scipy-1.9.1-py39h14f4228_0/lib/python3.9/site-packages/scipy-1.9.1-py3.9.egg-info/top_level.txt\n",
      "./anaconda3/pkgs/scipy-1.9.1-py39h14f4228_0/lib/python3.9/site-packages/scipy-1.9.1-py3.9.egg-info/dependency_links.txt\n",
      "./anaconda3/pkgs/scipy-1.9.1-py39h14f4228_0/info/licenses/LICENSE.txt\n",
      "./anaconda3/pkgs/statsmodels-0.13.2-py39h7f8727e_0/lib/python3.9/site-packages/statsmodels-0.13.2.dist-info/top_level.txt\n",
      "./anaconda3/pkgs/statsmodels-0.13.2-py39h7f8727e_0/lib/python3.9/site-packages/statsmodels-0.13.2.dist-info/LICENSE.txt\n",
      "./anaconda3/pkgs/statsmodels-0.13.2-py39h7f8727e_0/lib/python3.9/site-packages/statsmodels/tsa/vector_ar/tests/JMulTi_results/macrodata_jmulti_ct.txt\n",
      "./anaconda3/pkgs/statsmodels-0.13.2-py39h7f8727e_0/lib/python3.9/site-packages/statsmodels/tsa/vector_ar/tests/JMulTi_results/vecm_e6_jmulti_cos_diag.txt\n",
      "./anaconda3/pkgs/statsmodels-0.13.2-py39h7f8727e_0/lib/python3.9/site-packages/statsmodels/tsa/vector_ar/tests/JMulTi_results/macrodata_jmulti_ct_granger_causality_realgdp_realinv.txt\n",
      "./anaconda3/pkgs/statsmodels-0.13.2-py39h7f8727e_0/lib/python3.9/site-packages/statsmodels/tsa/vector_ar/tests/JMulTi_results/vecm_e6_jmulti_colo_lagorder.txt\n",
      "./anaconda3/pkgs/statsmodels-0.13.2-py39h7f8727e_0/lib/python3.9/site-packages/statsmodels/tsa/vector_ar/tests/JMulTi_results/vecm_e6_jmulti_ci_diag.txt\n",
      "./anaconda3/pkgs/statsmodels-0.13.2-py39h7f8727e_0/lib/python3.9/site-packages/statsmodels/tsa/vector_ar/tests/JMulTi_results/macrodata_jmulti_cs_granger_causality_realgdp.txt\n",
      "./anaconda3/pkgs/statsmodels-0.13.2-py39h7f8727e_0/lib/python3.9/site-packages/statsmodels/tsa/vector_ar/tests/JMulTi_results/vecm_e6_jmulti_ci_granger_causality_dp_r.txt\n",
      "./anaconda3/pkgs/statsmodels-0.13.2-py39h7f8727e_0/lib/python3.9/site-packages/statsmodels/tsa/vector_ar/tests/JMulTi_results/vecm_e6_jmulti_ncs_inst_causality_dp_r.txt\n",
      "./anaconda3/pkgs/statsmodels-0.13.2-py39h7f8727e_0/lib/python3.9/site-packages/statsmodels/tsa/vector_ar/tests/JMulTi_results/vecm_e6_jmulti_cili_fc5.txt\n",
      "./anaconda3/pkgs/statsmodels-0.13.2-py39h7f8727e_0/lib/python3.9/site-packages/statsmodels/tsa/vector_ar/tests/JMulTi_results/vecm_e6_jmulti_colo_inst_causality_dp_r.txt\n",
      "./anaconda3/pkgs/statsmodels-0.13.2-py39h7f8727e_0/lib/python3.9/site-packages/statsmodels/tsa/vector_ar/tests/JMulTi_results/vecm_e6_jmulti_co_inst_causality_dp_r.txt\n",
      "./anaconda3/pkgs/statsmodels-0.13.2-py39h7f8727e_0/lib/python3.9/site-packages/statsmodels/tsa/vector_ar/tests/JMulTi_results/vecm_e6_jmulti_ncs_diag.txt\n",
      "./anaconda3/pkgs/statsmodels-0.13.2-py39h7f8727e_0/lib/python3.9/site-packages/statsmodels/tsa/vector_ar/tests/JMulTi_results/vecm_e6_jmulti_ci_lagorder.txt\n",
      "./anaconda3/pkgs/statsmodels-0.13.2-py39h7f8727e_0/lib/python3.9/site-packages/statsmodels/tsa/vector_ar/tests/JMulTi_results/vecm_e6_jmulti_nc_granger_causality_dp_r.txt\n",
      "./anaconda3/pkgs/statsmodels-0.13.2-py39h7f8727e_0/lib/python3.9/site-packages/statsmodels/tsa/vector_ar/tests/JMulTi_results/vecm_e6_jmulti_cisli.txt\n",
      "./anaconda3/pkgs/statsmodels-0.13.2-py39h7f8727e_0/lib/python3.9/site-packages/statsmodels/tsa/vector_ar/tests/JMulTi_results/macrodata_jmulti_c_fc5.txt\n",
      "./anaconda3/pkgs/statsmodels-0.13.2-py39h7f8727e_0/lib/python3.9/site-packages/statsmodels/tsa/vector_ar/tests/JMulTi_results/vecm_e6_jmulti_cis_Sigmau.txt\n",
      "./anaconda3/pkgs/statsmodels-0.13.2-py39h7f8727e_0/lib/python3.9/site-packages/statsmodels/tsa/vector_ar/tests/JMulTi_results/macrodata_jmulti_nc_granger_causality_realcons_realgdp.txt\n",
      "./anaconda3/pkgs/statsmodels-0.13.2-py39h7f8727e_0/lib/python3.9/site-packages/statsmodels/tsa/vector_ar/tests/JMulTi_results/vecm_e6_jmulti_colo_granger_causality_dp_r.txt\n",
      "./anaconda3/pkgs/statsmodels-0.13.2-py39h7f8727e_0/lib/python3.9/site-packages/statsmodels/tsa/vector_ar/tests/JMulTi_results/macrodata_jmulti_ct_granger_causality_realgdp.txt\n",
      "./anaconda3/pkgs/statsmodels-0.13.2-py39h7f8727e_0/lib/python3.9/site-packages/statsmodels/tsa/vector_ar/tests/JMulTi_results/macrodata_jmulti_cs_granger_causality_realcons.txt\n",
      "./anaconda3/pkgs/statsmodels-0.13.2-py39h7f8727e_0/lib/python3.9/site-packages/statsmodels/tsa/vector_ar/tests/JMulTi_results/macrodata_jmulti_c_granger_causality_realinv.txt\n",
      "./anaconda3/pkgs/statsmodels-0.13.2-py39h7f8727e_0/lib/python3.9/site-packages/statsmodels/tsa/vector_ar/tests/JMulTi_results/macrodata_jmulti_cs_ir.txt\n",
      "./anaconda3/pkgs/statsmodels-0.13.2-py39h7f8727e_0/lib/python3.9/site-packages/statsmodels/tsa/vector_ar/tests/JMulTi_results/vecm_e6_jmulti_nc_granger_causality_r_dp.txt\n",
      "./anaconda3/pkgs/statsmodels-0.13.2-py39h7f8727e_0/lib/python3.9/site-packages/statsmodels/tsa/vector_ar/tests/JMulTi_results/vecm_e6_jmulti_co_ir.txt\n",
      "./anaconda3/pkgs/statsmodels-0.13.2-py39h7f8727e_0/lib/python3.9/site-packages/statsmodels/tsa/vector_ar/tests/JMulTi_results/macrodata_jmulti_cst_granger_causality_realcons.txt\n",
      "./anaconda3/pkgs/statsmodels-0.13.2-py39h7f8727e_0/lib/python3.9/site-packages/statsmodels/tsa/vector_ar/tests/JMulTi_results/macrodata_jmulti_cs.txt\n",
      "./anaconda3/pkgs/statsmodels-0.13.2-py39h7f8727e_0/lib/python3.9/site-packages/statsmodels/tsa/vector_ar/tests/JMulTi_results/macrodata_jmulti_ncs_granger_causality_realinv.txt\n",
      "./anaconda3/pkgs/statsmodels-0.13.2-py39h7f8727e_0/lib/python3.9/site-packages/statsmodels/tsa/vector_ar/tests/JMulTi_results/vecm_e6_jmulti_cos_inst_causality_r_dp.txt\n",
      "./anaconda3/pkgs/statsmodels-0.13.2-py39h7f8727e_0/lib/python3.9/site-packages/statsmodels/tsa/vector_ar/tests/JMulTi_results/macrodata_jmulti_nc_Sigmau.txt\n",
      "./anaconda3/pkgs/statsmodels-0.13.2-py39h7f8727e_0/lib/python3.9/site-packages/statsmodels/tsa/vector_ar/tests/JMulTi_results/macrodata_jmulti_ncs_granger_causality_realgdp_realinv.txt\n",
      "./anaconda3/pkgs/statsmodels-0.13.2-py39h7f8727e_0/lib/python3.9/site-packages/statsmodels/tsa/vector_ar/tests/JMulTi_results/vecm_e6_jmulti_cili_granger_causality_dp_r.txt\n",
      "./anaconda3/pkgs/statsmodels-0.13.2-py39h7f8727e_0/lib/python3.9/site-packages/statsmodels/tsa/vector_ar/tests/JMulTi_results/macrodata_jmulti_ncs_fc5.txt\n",
      "./anaconda3/pkgs/statsmodels-0.13.2-py39h7f8727e_0/lib/python3.9/site-packages/statsmodels/tsa/vector_ar/tests/JMulTi_results/macrodata_jmulti_cs_granger_causality_realgdp_realinv.txt\n",
      "./anaconda3/pkgs/statsmodels-0.13.2-py39h7f8727e_0/lib/python3.9/site-packages/statsmodels/tsa/vector_ar/tests/JMulTi_results/vecm_e6_jmulti_cos_inst_causality_dp_r.txt\n",
      "./anaconda3/pkgs/statsmodels-0.13.2-py39h7f8727e_0/lib/python3.9/site-packages/statsmodels/tsa/vector_ar/tests/JMulTi_results/vecm_e6_jmulti_ci_inst_causality_r_dp.txt\n",
      "./anaconda3/pkgs/statsmodels-0.13.2-py39h7f8727e_0/lib/python3.9/site-packages/statsmodels/tsa/vector_ar/tests/JMulTi_results/vecm_e6_jmulti_nc_inst_causality_dp_r.txt\n",
      "./anaconda3/pkgs/statsmodels-0.13.2-py39h7f8727e_0/lib/python3.9/site-packages/statsmodels/tsa/vector_ar/tests/JMulTi_results/macrodata_jmulti_nc_diag.txt\n",
      "./anaconda3/pkgs/statsmodels-0.13.2-py39h7f8727e_0/lib/python3.9/site-packages/statsmodels/tsa/vector_ar/tests/JMulTi_results/vecm_e6_jmulti_cisli_inst_causality_r_dp.txt\n",
      "./anaconda3/pkgs/statsmodels-0.13.2-py39h7f8727e_0/lib/python3.9/site-packages/statsmodels/tsa/vector_ar/tests/JMulTi_results/macrodata_jmulti_ct_diag.txt\n",
      "./anaconda3/pkgs/statsmodels-0.13.2-py39h7f8727e_0/lib/python3.9/site-packages/statsmodels/tsa/vector_ar/tests/JMulTi_results/macrodata_jmulti_cst_granger_causality_realcons_realinv.txt\n",
      "./anaconda3/pkgs/statsmodels-0.13.2-py39h7f8727e_0/lib/python3.9/site-packages/statsmodels/tsa/vector_ar/tests/JMulTi_results/vecm_e6_jmulti_ncs_ir.txt\n",
      "./anaconda3/pkgs/statsmodels-0.13.2-py39h7f8727e_0/lib/python3.9/site-packages/statsmodels/tsa/vector_ar/tests/JMulTi_results/macrodata_jmulti_cst_granger_causality_realcons_realgdp.txt\n",
      "./anaconda3/pkgs/statsmodels-0.13.2-py39h7f8727e_0/lib/python3.9/site-packages/statsmodels/tsa/vector_ar/tests/JMulTi_results/macrodata_jmulti_cs_fc5.txt\n",
      "./anaconda3/pkgs/statsmodels-0.13.2-py39h7f8727e_0/lib/python3.9/site-packages/statsmodels/tsa/vector_ar/tests/JMulTi_results/macrodata_jmulti_ct_granger_causality_realcons.txt\n",
      "./anaconda3/pkgs/statsmodels-0.13.2-py39h7f8727e_0/lib/python3.9/site-packages/statsmodels/tsa/vector_ar/tests/JMulTi_results/vecm_e6_jmulti_coslo_granger_causality_r_dp.txt\n",
      "./anaconda3/pkgs/statsmodels-0.13.2-py39h7f8727e_0/lib/python3.9/site-packages/statsmodels/tsa/vector_ar/tests/JMulTi_results/macrodata_jmulti_cs_granger_causality_realcons_realgdp.txt\n",
      "./anaconda3/pkgs/statsmodels-0.13.2-py39h7f8727e_0/lib/python3.9/site-packages/statsmodels/tsa/vector_ar/tests/JMulTi_results/vecm_e6_jmulti_co_granger_causality_r_dp.txt\n",
      "./anaconda3/pkgs/statsmodels-0.13.2-py39h7f8727e_0/lib/python3.9/site-packages/statsmodels/tsa/vector_ar/tests/JMulTi_results/vecm_e6_jmulti_ci_ir.txt\n",
      "./anaconda3/pkgs/statsmodels-0.13.2-py39h7f8727e_0/lib/python3.9/site-packages/statsmodels/tsa/vector_ar/tests/JMulTi_results/vecm_e6_jmulti_ncs_lagorder.txt\n",
      "./anaconda3/pkgs/statsmodels-0.13.2-py39h7f8727e_0/lib/python3.9/site-packages/statsmodels/tsa/vector_ar/tests/JMulTi_results/vecm_e6_jmulti_ci_fc5.txt\n",
      "./anaconda3/pkgs/statsmodels-0.13.2-py39h7f8727e_0/lib/python3.9/site-packages/statsmodels/tsa/vector_ar/tests/JMulTi_results/vecm_e6_jmulti_cili_granger_causality_r_dp.txt\n",
      "./anaconda3/pkgs/statsmodels-0.13.2-py39h7f8727e_0/lib/python3.9/site-packages/statsmodels/tsa/vector_ar/tests/JMulTi_results/macrodata_jmulti_nc_lagorder.txt\n",
      "./anaconda3/pkgs/statsmodels-0.13.2-py39h7f8727e_0/lib/python3.9/site-packages/statsmodels/tsa/vector_ar/tests/JMulTi_results/macrodata_jmulti_cst_lagorder.txt\n",
      "./anaconda3/pkgs/statsmodels-0.13.2-py39h7f8727e_0/lib/python3.9/site-packages/statsmodels/tsa/vector_ar/tests/JMulTi_results/vecm_e6_jmulti_co_Sigmau.txt\n",
      "./anaconda3/pkgs/statsmodels-0.13.2-py39h7f8727e_0/lib/python3.9/site-packages/statsmodels/tsa/vector_ar/tests/JMulTi_results/macrodata_jmulti_ct_Sigmau.txt\n",
      "./anaconda3/pkgs/statsmodels-0.13.2-py39h7f8727e_0/lib/python3.9/site-packages/statsmodels/tsa/vector_ar/tests/JMulTi_results/vecm_e6_jmulti_cisli_granger_causality_dp_r.txt\n",
      "./anaconda3/pkgs/statsmodels-0.13.2-py39h7f8727e_0/lib/python3.9/site-packages/statsmodels/tsa/vector_ar/tests/JMulTi_results/vecm_e6_jmulti_nc_lagorder.txt\n",
      "./anaconda3/pkgs/statsmodels-0.13.2-py39h7f8727e_0/lib/python3.9/site-packages/statsmodels/tsa/vector_ar/tests/JMulTi_results/vecm_e6_jmulti_colo_inst_causality_r_dp.txt\n",
      "./anaconda3/pkgs/statsmodels-0.13.2-py39h7f8727e_0/lib/python3.9/site-packages/statsmodels/tsa/vector_ar/tests/JMulTi_results/macrodata_jmulti_c_ir.txt\n",
      "./anaconda3/pkgs/statsmodels-0.13.2-py39h7f8727e_0/lib/python3.9/site-packages/statsmodels/tsa/vector_ar/tests/JMulTi_results/macrodata_jmulti_cs_lagorder.txt\n",
      "./anaconda3/pkgs/statsmodels-0.13.2-py39h7f8727e_0/lib/python3.9/site-packages/statsmodels/tsa/vector_ar/tests/JMulTi_results/vecm_e6_jmulti_ncs_granger_causality_dp_r.txt\n",
      "./anaconda3/pkgs/statsmodels-0.13.2-py39h7f8727e_0/lib/python3.9/site-packages/statsmodels/tsa/vector_ar/tests/JMulTi_results/vecm_e6_jmulti_colo_Sigmau.txt\n",
      "./anaconda3/pkgs/statsmodels-0.13.2-py39h7f8727e_0/lib/python3.9/site-packages/statsmodels/tsa/vector_ar/tests/JMulTi_results/macrodata_jmulti_cst_diag.txt\n",
      "./anaconda3/pkgs/statsmodels-0.13.2-py39h7f8727e_0/lib/python3.9/site-packages/statsmodels/tsa/vector_ar/tests/JMulTi_results/macrodata_jmulti_ct_fc5.txt\n",
      "./anaconda3/pkgs/statsmodels-0.13.2-py39h7f8727e_0/lib/python3.9/site-packages/statsmodels/tsa/vector_ar/tests/JMulTi_results/vecm_e6_jmulti_cili.txt\n",
      "./anaconda3/pkgs/statsmodels-0.13.2-py39h7f8727e_0/lib/python3.9/site-packages/statsmodels/tsa/vector_ar/tests/JMulTi_results/vecm_e6_jmulti_coslo_lagorder.txt\n",
      "./anaconda3/pkgs/statsmodels-0.13.2-py39h7f8727e_0/lib/python3.9/site-packages/statsmodels/tsa/vector_ar/tests/JMulTi_results/macrodata_jmulti_ct_granger_causality_realcons_realgdp.txt\n",
      "./anaconda3/pkgs/statsmodels-0.13.2-py39h7f8727e_0/lib/python3.9/site-packages/statsmodels/tsa/vector_ar/tests/JMulTi_results/vecm_e6_jmulti_co.txt\n",
      "./anaconda3/pkgs/statsmodels-0.13.2-py39h7f8727e_0/lib/python3.9/site-packages/statsmodels/tsa/vector_ar/tests/JMulTi_results/macrodata_jmulti_c_granger_causality_realcons.txt\n",
      "./anaconda3/pkgs/statsmodels-0.13.2-py39h7f8727e_0/lib/python3.9/site-packages/statsmodels/tsa/vector_ar/tests/JMulTi_results/vecm_e6_jmulti_cis_inst_causality_r_dp.txt\n",
      "./anaconda3/pkgs/statsmodels-0.13.2-py39h7f8727e_0/lib/python3.9/site-packages/statsmodels/tsa/vector_ar/tests/JMulTi_results/macrodata_jmulti_cs_Sigmau.txt\n",
      "./anaconda3/pkgs/statsmodels-0.13.2-py39h7f8727e_0/lib/python3.9/site-packages/statsmodels/tsa/vector_ar/tests/JMulTi_results/vecm_e6_jmulti_cili_lagorder.txt\n",
      "./anaconda3/pkgs/statsmodels-0.13.2-py39h7f8727e_0/lib/python3.9/site-packages/statsmodels/tsa/vector_ar/tests/JMulTi_results/vecm_e6_jmulti_cis_diag.txt\n",
      "./anaconda3/pkgs/statsmodels-0.13.2-py39h7f8727e_0/lib/python3.9/site-packages/statsmodels/tsa/vector_ar/tests/JMulTi_results/vecm_e6_jmulti_cisli_inst_causality_dp_r.txt\n",
      "./anaconda3/pkgs/statsmodels-0.13.2-py39h7f8727e_0/lib/python3.9/site-packages/statsmodels/tsa/vector_ar/tests/JMulTi_results/macrodata_jmulti_ncs_granger_causality_realcons_realgdp.txt\n",
      "./anaconda3/pkgs/statsmodels-0.13.2-py39h7f8727e_0/lib/python3.9/site-packages/statsmodels/tsa/vector_ar/tests/JMulTi_results/macrodata_jmulti_nc_fc5.txt\n",
      "./anaconda3/pkgs/statsmodels-0.13.2-py39h7f8727e_0/lib/python3.9/site-packages/statsmodels/tsa/vector_ar/tests/JMulTi_results/vecm_e6_jmulti_cis_granger_causality_dp_r.txt\n",
      "./anaconda3/pkgs/statsmodels-0.13.2-py39h7f8727e_0/lib/python3.9/site-packages/statsmodels/tsa/vector_ar/tests/JMulTi_results/vecm_e6_jmulti_cos.txt\n",
      "./anaconda3/pkgs/statsmodels-0.13.2-py39h7f8727e_0/lib/python3.9/site-packages/statsmodels/tsa/vector_ar/tests/JMulTi_results/macrodata_jmulti_nc_ir.txt\n",
      "./anaconda3/pkgs/statsmodels-0.13.2-py39h7f8727e_0/lib/python3.9/site-packages/statsmodels/tsa/vector_ar/tests/JMulTi_results/vecm_e6_jmulti_ncs.txt\n",
      "./anaconda3/pkgs/statsmodels-0.13.2-py39h7f8727e_0/lib/python3.9/site-packages/statsmodels/tsa/vector_ar/tests/JMulTi_results/macrodata_jmulti_c_granger_causality_realgdp_realinv.txt\n",
      "./anaconda3/pkgs/statsmodels-0.13.2-py39h7f8727e_0/lib/python3.9/site-packages/statsmodels/tsa/vector_ar/tests/JMulTi_results/vecm_e6_jmulti_cisli_diag.txt\n",
      "./anaconda3/pkgs/statsmodels-0.13.2-py39h7f8727e_0/lib/python3.9/site-packages/statsmodels/tsa/vector_ar/tests/JMulTi_results/macrodata_jmulti_cst.txt\n",
      "./anaconda3/pkgs/statsmodels-0.13.2-py39h7f8727e_0/lib/python3.9/site-packages/statsmodels/tsa/vector_ar/tests/JMulTi_results/macrodata_jmulti_ncs_Sigmau.txt\n",
      "./anaconda3/pkgs/statsmodels-0.13.2-py39h7f8727e_0/lib/python3.9/site-packages/statsmodels/tsa/vector_ar/tests/JMulTi_results/vecm_e6_jmulti_co_diag.txt\n",
      "./anaconda3/pkgs/statsmodels-0.13.2-py39h7f8727e_0/lib/python3.9/site-packages/statsmodels/tsa/vector_ar/tests/JMulTi_results/macrodata_jmulti_cs_granger_causality_realcons_realinv.txt\n",
      "./anaconda3/pkgs/statsmodels-0.13.2-py39h7f8727e_0/lib/python3.9/site-packages/statsmodels/tsa/vector_ar/tests/JMulTi_results/vecm_e6_jmulti_nc_ir.txt\n",
      "./anaconda3/pkgs/statsmodels-0.13.2-py39h7f8727e_0/lib/python3.9/site-packages/statsmodels/tsa/vector_ar/tests/JMulTi_results/macrodata_jmulti_cst_ir.txt\n",
      "./anaconda3/pkgs/statsmodels-0.13.2-py39h7f8727e_0/lib/python3.9/site-packages/statsmodels/tsa/vector_ar/tests/JMulTi_results/vecm_e6_jmulti_colo_diag.txt\n",
      "./anaconda3/pkgs/statsmodels-0.13.2-py39h7f8727e_0/lib/python3.9/site-packages/statsmodels/tsa/vector_ar/tests/JMulTi_results/vecm_e6_jmulti_co_inst_causality_r_dp.txt\n",
      "./anaconda3/pkgs/statsmodels-0.13.2-py39h7f8727e_0/lib/python3.9/site-packages/statsmodels/tsa/vector_ar/tests/JMulTi_results/vecm_e6_jmulti_co_granger_causality_dp_r.txt\n",
      "./anaconda3/pkgs/statsmodels-0.13.2-py39h7f8727e_0/lib/python3.9/site-packages/statsmodels/tsa/vector_ar/tests/JMulTi_results/vecm_e6_jmulti_colo_ir.txt\n",
      "./anaconda3/pkgs/statsmodels-0.13.2-py39h7f8727e_0/lib/python3.9/site-packages/statsmodels/tsa/vector_ar/tests/JMulTi_results/vecm_e6_jmulti_ci_granger_causality_r_dp.txt\n",
      "./anaconda3/pkgs/statsmodels-0.13.2-py39h7f8727e_0/lib/python3.9/site-packages/statsmodels/tsa/vector_ar/tests/JMulTi_results/macrodata_jmulti_nc_granger_causality_realgdp.txt\n",
      "./anaconda3/pkgs/statsmodels-0.13.2-py39h7f8727e_0/lib/python3.9/site-packages/statsmodels/tsa/vector_ar/tests/JMulTi_results/vecm_e6_jmulti_colo_fc5.txt\n",
      "./anaconda3/pkgs/statsmodels-0.13.2-py39h7f8727e_0/lib/python3.9/site-packages/statsmodels/tsa/vector_ar/tests/JMulTi_results/macrodata_jmulti_cst_granger_causality_realinv.txt\n",
      "./anaconda3/pkgs/statsmodels-0.13.2-py39h7f8727e_0/lib/python3.9/site-packages/statsmodels/tsa/vector_ar/tests/JMulTi_results/vecm_e6_jmulti_cis_inst_causality_dp_r.txt\n",
      "./anaconda3/pkgs/statsmodels-0.13.2-py39h7f8727e_0/lib/python3.9/site-packages/statsmodels/tsa/vector_ar/tests/JMulTi_results/macrodata_jmulti_cst_granger_causality_realgdp_realinv.txt\n",
      "./anaconda3/pkgs/statsmodels-0.13.2-py39h7f8727e_0/lib/python3.9/site-packages/statsmodels/tsa/vector_ar/tests/JMulTi_results/macrodata_jmulti_cst_Sigmau.txt\n",
      "./anaconda3/pkgs/statsmodels-0.13.2-py39h7f8727e_0/lib/python3.9/site-packages/statsmodels/tsa/vector_ar/tests/JMulTi_results/macrodata_jmulti_ncs_lagorder.txt\n",
      "./anaconda3/pkgs/statsmodels-0.13.2-py39h7f8727e_0/lib/python3.9/site-packages/statsmodels/tsa/vector_ar/tests/JMulTi_results/macrodata_jmulti_nc_granger_causality_realgdp_realinv.txt\n",
      "./anaconda3/pkgs/statsmodels-0.13.2-py39h7f8727e_0/lib/python3.9/site-packages/statsmodels/tsa/vector_ar/tests/JMulTi_results/macrodata_jmulti_ct_lagorder.txt\n",
      "./anaconda3/pkgs/statsmodels-0.13.2-py39h7f8727e_0/lib/python3.9/site-packages/statsmodels/tsa/vector_ar/tests/JMulTi_results/macrodata_jmulti_cs_granger_causality_realinv.txt\n",
      "./anaconda3/pkgs/statsmodels-0.13.2-py39h7f8727e_0/lib/python3.9/site-packages/statsmodels/tsa/vector_ar/tests/JMulTi_results/vecm_e6_jmulti_cisli_Sigmau.txt\n",
      "./anaconda3/pkgs/statsmodels-0.13.2-py39h7f8727e_0/lib/python3.9/site-packages/statsmodels/tsa/vector_ar/tests/JMulTi_results/vecm_e6_jmulti_cos_granger_causality_dp_r.txt\n",
      "./anaconda3/pkgs/statsmodels-0.13.2-py39h7f8727e_0/lib/python3.9/site-packages/statsmodels/tsa/vector_ar/tests/JMulTi_results/vecm_e6_jmulti_cis_lagorder.txt\n",
      "./anaconda3/pkgs/statsmodels-0.13.2-py39h7f8727e_0/lib/python3.9/site-packages/statsmodels/tsa/vector_ar/tests/JMulTi_results/macrodata_jmulti_ct_ir.txt\n",
      "./anaconda3/pkgs/statsmodels-0.13.2-py39h7f8727e_0/lib/python3.9/site-packages/statsmodels/tsa/vector_ar/tests/JMulTi_results/vecm_e6_jmulti_nc_Sigmau.txt\n",
      "./anaconda3/pkgs/statsmodels-0.13.2-py39h7f8727e_0/lib/python3.9/site-packages/statsmodels/tsa/vector_ar/tests/JMulTi_results/macrodata_jmulti_cst_fc5.txt\n",
      "./anaconda3/pkgs/statsmodels-0.13.2-py39h7f8727e_0/lib/python3.9/site-packages/statsmodels/tsa/vector_ar/tests/JMulTi_results/macrodata_jmulti_c_Sigmau.txt\n",
      "./anaconda3/pkgs/statsmodels-0.13.2-py39h7f8727e_0/lib/python3.9/site-packages/statsmodels/tsa/vector_ar/tests/JMulTi_results/vecm_e6_jmulti_cis_ir.txt\n",
      "./anaconda3/pkgs/statsmodels-0.13.2-py39h7f8727e_0/lib/python3.9/site-packages/statsmodels/tsa/vector_ar/tests/JMulTi_results/vecm_e6_jmulti_cisli_granger_causality_r_dp.txt\n",
      "./anaconda3/pkgs/statsmodels-0.13.2-py39h7f8727e_0/lib/python3.9/site-packages/statsmodels/tsa/vector_ar/tests/JMulTi_results/macrodata_jmulti_cst_granger_causality_realgdp.txt\n",
      "./anaconda3/pkgs/statsmodels-0.13.2-py39h7f8727e_0/lib/python3.9/site-packages/statsmodels/tsa/vector_ar/tests/JMulTi_results/vecm_e6_jmulti_cis_fc5.txt\n",
      "./anaconda3/pkgs/statsmodels-0.13.2-py39h7f8727e_0/lib/python3.9/site-packages/statsmodels/tsa/vector_ar/tests/JMulTi_results/vecm_e6_jmulti_ncs_fc5.txt\n",
      "./anaconda3/pkgs/statsmodels-0.13.2-py39h7f8727e_0/lib/python3.9/site-packages/statsmodels/tsa/vector_ar/tests/JMulTi_results/vecm_e6_jmulti_cisli_lagorder.txt\n",
      "./anaconda3/pkgs/statsmodels-0.13.2-py39h7f8727e_0/lib/python3.9/site-packages/statsmodels/tsa/vector_ar/tests/JMulTi_results/macrodata_jmulti_cs_diag.txt\n",
      "./anaconda3/pkgs/statsmodels-0.13.2-py39h7f8727e_0/lib/python3.9/site-packages/statsmodels/tsa/vector_ar/tests/JMulTi_results/macrodata_jmulti_c.txt\n",
      "./anaconda3/pkgs/statsmodels-0.13.2-py39h7f8727e_0/lib/python3.9/site-packages/statsmodels/tsa/vector_ar/tests/JMulTi_results/macrodata_jmulti_nc.txt\n",
      "./anaconda3/pkgs/statsmodels-0.13.2-py39h7f8727e_0/lib/python3.9/site-packages/statsmodels/tsa/vector_ar/tests/JMulTi_results/macrodata_jmulti_ncs.txt\n",
      "./anaconda3/pkgs/statsmodels-0.13.2-py39h7f8727e_0/lib/python3.9/site-packages/statsmodels/tsa/vector_ar/tests/JMulTi_results/macrodata_jmulti_ncs_granger_causality_realcons_realinv.txt\n",
      "./anaconda3/pkgs/statsmodels-0.13.2-py39h7f8727e_0/lib/python3.9/site-packages/statsmodels/tsa/vector_ar/tests/JMulTi_results/vecm_e6_jmulti_ci.txt\n",
      "./anaconda3/pkgs/statsmodels-0.13.2-py39h7f8727e_0/lib/python3.9/site-packages/statsmodels/tsa/vector_ar/tests/JMulTi_results/vecm_e6_jmulti_colo_granger_causality_r_dp.txt\n",
      "./anaconda3/pkgs/statsmodels-0.13.2-py39h7f8727e_0/lib/python3.9/site-packages/statsmodels/tsa/vector_ar/tests/JMulTi_results/vecm_e6_jmulti_coslo.txt\n",
      "./anaconda3/pkgs/statsmodels-0.13.2-py39h7f8727e_0/lib/python3.9/site-packages/statsmodels/tsa/vector_ar/tests/JMulTi_results/macrodata_jmulti_ncs_ir.txt\n",
      "./anaconda3/pkgs/statsmodels-0.13.2-py39h7f8727e_0/lib/python3.9/site-packages/statsmodels/tsa/vector_ar/tests/JMulTi_results/vecm_e6_jmulti_cos_fc5.txt\n",
      "./anaconda3/pkgs/statsmodels-0.13.2-py39h7f8727e_0/lib/python3.9/site-packages/statsmodels/tsa/vector_ar/tests/JMulTi_results/macrodata_jmulti_ncs_diag.txt\n",
      "./anaconda3/pkgs/statsmodels-0.13.2-py39h7f8727e_0/lib/python3.9/site-packages/statsmodels/tsa/vector_ar/tests/JMulTi_results/macrodata_jmulti_c_granger_causality_realcons_realgdp.txt\n",
      "./anaconda3/pkgs/statsmodels-0.13.2-py39h7f8727e_0/lib/python3.9/site-packages/statsmodels/tsa/vector_ar/tests/JMulTi_results/vecm_e6_jmulti_nc_diag.txt\n",
      "./anaconda3/pkgs/statsmodels-0.13.2-py39h7f8727e_0/lib/python3.9/site-packages/statsmodels/tsa/vector_ar/tests/JMulTi_results/vecm_e6_jmulti_cos_lagorder.txt\n",
      "./anaconda3/pkgs/statsmodels-0.13.2-py39h7f8727e_0/lib/python3.9/site-packages/statsmodels/tsa/vector_ar/tests/JMulTi_results/macrodata_jmulti_nc_granger_causality_realinv.txt\n",
      "./anaconda3/pkgs/statsmodels-0.13.2-py39h7f8727e_0/lib/python3.9/site-packages/statsmodels/tsa/vector_ar/tests/JMulTi_results/vecm_e6_jmulti_nc_inst_causality_r_dp.txt\n",
      "./anaconda3/pkgs/statsmodels-0.13.2-py39h7f8727e_0/lib/python3.9/site-packages/statsmodels/tsa/vector_ar/tests/JMulTi_results/vecm_e6_jmulti_coslo_Sigmau.txt\n",
      "./anaconda3/pkgs/statsmodels-0.13.2-py39h7f8727e_0/lib/python3.9/site-packages/statsmodels/tsa/vector_ar/tests/JMulTi_results/vecm_e6_jmulti_ci_Sigmau.txt\n",
      "./anaconda3/pkgs/statsmodels-0.13.2-py39h7f8727e_0/lib/python3.9/site-packages/statsmodels/tsa/vector_ar/tests/JMulTi_results/vecm_e6_jmulti_coslo_ir.txt\n",
      "./anaconda3/pkgs/statsmodels-0.13.2-py39h7f8727e_0/lib/python3.9/site-packages/statsmodels/tsa/vector_ar/tests/JMulTi_results/vecm_e6_jmulti_cili_inst_causality_r_dp.txt\n",
      "./anaconda3/pkgs/statsmodels-0.13.2-py39h7f8727e_0/lib/python3.9/site-packages/statsmodels/tsa/vector_ar/tests/JMulTi_results/macrodata_jmulti_ct_granger_causality_realcons_realinv.txt\n",
      "./anaconda3/pkgs/statsmodels-0.13.2-py39h7f8727e_0/lib/python3.9/site-packages/statsmodels/tsa/vector_ar/tests/JMulTi_results/macrodata_jmulti_c_granger_causality_realgdp.txt\n",
      "./anaconda3/pkgs/statsmodels-0.13.2-py39h7f8727e_0/lib/python3.9/site-packages/statsmodels/tsa/vector_ar/tests/JMulTi_results/vecm_e6_jmulti_co_lagorder.txt\n",
      "./anaconda3/pkgs/statsmodels-0.13.2-py39h7f8727e_0/lib/python3.9/site-packages/statsmodels/tsa/vector_ar/tests/JMulTi_results/vecm_e6_jmulti_co_fc5.txt\n",
      "./anaconda3/pkgs/statsmodels-0.13.2-py39h7f8727e_0/lib/python3.9/site-packages/statsmodels/tsa/vector_ar/tests/JMulTi_results/vecm_e6_jmulti_nc.txt\n",
      "./anaconda3/pkgs/statsmodels-0.13.2-py39h7f8727e_0/lib/python3.9/site-packages/statsmodels/tsa/vector_ar/tests/JMulTi_results/vecm_e6_jmulti_ncs_inst_causality_r_dp.txt\n",
      "./anaconda3/pkgs/statsmodels-0.13.2-py39h7f8727e_0/lib/python3.9/site-packages/statsmodels/tsa/vector_ar/tests/JMulTi_results/vecm_e6_jmulti_colo.txt\n",
      "./anaconda3/pkgs/statsmodels-0.13.2-py39h7f8727e_0/lib/python3.9/site-packages/statsmodels/tsa/vector_ar/tests/JMulTi_results/vecm_e6_jmulti_cis.txt\n",
      "./anaconda3/pkgs/statsmodels-0.13.2-py39h7f8727e_0/lib/python3.9/site-packages/statsmodels/tsa/vector_ar/tests/JMulTi_results/vecm_e6_jmulti_cili_ir.txt\n",
      "./anaconda3/pkgs/statsmodels-0.13.2-py39h7f8727e_0/lib/python3.9/site-packages/statsmodels/tsa/vector_ar/tests/JMulTi_results/vecm_e6_jmulti_cisli_ir.txt\n",
      "./anaconda3/pkgs/statsmodels-0.13.2-py39h7f8727e_0/lib/python3.9/site-packages/statsmodels/tsa/vector_ar/tests/JMulTi_results/vecm_e6_jmulti_nc_fc5.txt\n",
      "./anaconda3/pkgs/statsmodels-0.13.2-py39h7f8727e_0/lib/python3.9/site-packages/statsmodels/tsa/vector_ar/tests/JMulTi_results/vecm_e6_jmulti_cili_inst_causality_dp_r.txt\n",
      "./anaconda3/pkgs/statsmodels-0.13.2-py39h7f8727e_0/lib/python3.9/site-packages/statsmodels/tsa/vector_ar/tests/JMulTi_results/vecm_e6_jmulti_cili_Sigmau.txt\n",
      "./anaconda3/pkgs/statsmodels-0.13.2-py39h7f8727e_0/lib/python3.9/site-packages/statsmodels/tsa/vector_ar/tests/JMulTi_results/macrodata_jmulti_c_granger_causality_realcons_realinv.txt\n",
      "./anaconda3/pkgs/statsmodels-0.13.2-py39h7f8727e_0/lib/python3.9/site-packages/statsmodels/tsa/vector_ar/tests/JMulTi_results/vecm_e6_jmulti_coslo_fc5.txt\n",
      "./anaconda3/pkgs/statsmodels-0.13.2-py39h7f8727e_0/lib/python3.9/site-packages/statsmodels/tsa/vector_ar/tests/JMulTi_results/macrodata_jmulti_ncs_granger_causality_realcons.txt\n",
      "./anaconda3/pkgs/statsmodels-0.13.2-py39h7f8727e_0/lib/python3.9/site-packages/statsmodels/tsa/vector_ar/tests/JMulTi_results/macrodata_jmulti_nc_granger_causality_realcons_realinv.txt\n",
      "./anaconda3/pkgs/statsmodels-0.13.2-py39h7f8727e_0/lib/python3.9/site-packages/statsmodels/tsa/vector_ar/tests/JMulTi_results/vecm_e6_jmulti_cos_granger_causality_r_dp.txt\n",
      "./anaconda3/pkgs/statsmodels-0.13.2-py39h7f8727e_0/lib/python3.9/site-packages/statsmodels/tsa/vector_ar/tests/JMulTi_results/vecm_e6_jmulti_cis_granger_causality_r_dp.txt\n",
      "./anaconda3/pkgs/statsmodels-0.13.2-py39h7f8727e_0/lib/python3.9/site-packages/statsmodels/tsa/vector_ar/tests/JMulTi_results/vecm_e6_jmulti_ci_inst_causality_dp_r.txt\n",
      "./anaconda3/pkgs/statsmodels-0.13.2-py39h7f8727e_0/lib/python3.9/site-packages/statsmodels/tsa/vector_ar/tests/JMulTi_results/vecm_e6_jmulti_coslo_diag.txt\n",
      "./anaconda3/pkgs/statsmodels-0.13.2-py39h7f8727e_0/lib/python3.9/site-packages/statsmodels/tsa/vector_ar/tests/JMulTi_results/macrodata_jmulti_c_diag.txt\n",
      "./anaconda3/pkgs/statsmodels-0.13.2-py39h7f8727e_0/lib/python3.9/site-packages/statsmodels/tsa/vector_ar/tests/JMulTi_results/vecm_e6_jmulti_cili_diag.txt\n",
      "./anaconda3/pkgs/statsmodels-0.13.2-py39h7f8727e_0/lib/python3.9/site-packages/statsmodels/tsa/vector_ar/tests/JMulTi_results/vecm_e6_jmulti_cisli_fc5.txt\n",
      "./anaconda3/pkgs/statsmodels-0.13.2-py39h7f8727e_0/lib/python3.9/site-packages/statsmodels/tsa/vector_ar/tests/JMulTi_results/vecm_e6_jmulti_coslo_inst_causality_r_dp.txt\n",
      "./anaconda3/pkgs/statsmodels-0.13.2-py39h7f8727e_0/lib/python3.9/site-packages/statsmodels/tsa/vector_ar/tests/JMulTi_results/macrodata_jmulti_nc_granger_causality_realcons.txt\n",
      "./anaconda3/pkgs/statsmodels-0.13.2-py39h7f8727e_0/lib/python3.9/site-packages/statsmodels/tsa/vector_ar/tests/JMulTi_results/vecm_e6_jmulti_coslo_inst_causality_dp_r.txt\n",
      "./anaconda3/pkgs/statsmodels-0.13.2-py39h7f8727e_0/lib/python3.9/site-packages/statsmodels/tsa/vector_ar/tests/JMulTi_results/vecm_e6_jmulti_ncs_granger_causality_r_dp.txt\n",
      "./anaconda3/pkgs/statsmodels-0.13.2-py39h7f8727e_0/lib/python3.9/site-packages/statsmodels/tsa/vector_ar/tests/JMulTi_results/vecm_e6_jmulti_ncs_Sigmau.txt\n",
      "./anaconda3/pkgs/statsmodels-0.13.2-py39h7f8727e_0/lib/python3.9/site-packages/statsmodels/tsa/vector_ar/tests/JMulTi_results/macrodata_jmulti_ct_granger_causality_realinv.txt\n",
      "./anaconda3/pkgs/statsmodels-0.13.2-py39h7f8727e_0/lib/python3.9/site-packages/statsmodels/tsa/vector_ar/tests/JMulTi_results/macrodata_jmulti_c_lagorder.txt\n",
      "./anaconda3/pkgs/statsmodels-0.13.2-py39h7f8727e_0/lib/python3.9/site-packages/statsmodels/tsa/vector_ar/tests/JMulTi_results/vecm_e6_jmulti_coslo_granger_causality_dp_r.txt\n",
      "./anaconda3/pkgs/statsmodels-0.13.2-py39h7f8727e_0/lib/python3.9/site-packages/statsmodels/tsa/vector_ar/tests/JMulTi_results/vecm_e6_jmulti_cos_ir.txt\n",
      "./anaconda3/pkgs/statsmodels-0.13.2-py39h7f8727e_0/lib/python3.9/site-packages/statsmodels/tsa/vector_ar/tests/JMulTi_results/vecm_e6_jmulti_cos_Sigmau.txt\n",
      "./anaconda3/pkgs/statsmodels-0.13.2-py39h7f8727e_0/lib/python3.9/site-packages/statsmodels/tsa/vector_ar/tests/JMulTi_results/macrodata_jmulti_ncs_granger_causality_realgdp.txt\n",
      "./anaconda3/pkgs/statsmodels-0.13.2-py39h7f8727e_0/lib/python3.9/site-packages/statsmodels/LICENSE.txt\n",
      "./anaconda3/pkgs/statsmodels-0.13.2-py39h7f8727e_0/lib/python3.9/site-packages/statsmodels/regression/tests/results/leverage_influence_ols_nostars.txt\n",
      "./anaconda3/pkgs/statsmodels-0.13.2-py39h7f8727e_0/lib/python3.9/site-packages/statsmodels/discrete/tests/results/mn_logit_summary.txt\n",
      "./anaconda3/pkgs/statsmodels-0.13.2-py39h7f8727e_0/lib/python3.9/site-packages/statsmodels/stats/libqsturng/LICENSE.txt\n",
      "./anaconda3/pkgs/statsmodels-0.13.2-py39h7f8727e_0/lib/python3.9/site-packages/statsmodels/stats/tests/test_data.txt\n",
      "./anaconda3/pkgs/statsmodels-0.13.2-py39h7f8727e_0/info/recipe/recipe_log.txt\n",
      "./anaconda3/pkgs/statsmodels-0.13.2-py39h7f8727e_0/info/licenses/INSTALL.txt\n",
      "./anaconda3/pkgs/scrapy-2.6.2-py39h06a4308_0/lib/python3.9/site-packages/Scrapy-2.6.2.dist-info/top_level.txt\n",
      "./anaconda3/pkgs/scrapy-2.6.2-py39h06a4308_0/lib/python3.9/site-packages/Scrapy-2.6.2.dist-info/entry_points.txt\n",
      "./anaconda3/pkgs/scikit-learn-1.0.2-py39h51133e4_1/lib/python3.9/site-packages/scikit_learn-1.0.2.dist-info/top_level.txt\n",
      "./anaconda3/pkgs/scikit-learn-1.0.2-py39h51133e4_1/lib/python3.9/site-packages/sklearn/datasets/images/README.txt\n",
      "./anaconda3/pkgs/scikit-learn-1.0.2-py39h51133e4_1/lib/python3.9/site-packages/sklearn/datasets/tests/data/svmlight_invalid.txt\n",
      "./anaconda3/pkgs/scikit-learn-1.0.2-py39h51133e4_1/lib/python3.9/site-packages/sklearn/datasets/tests/data/svmlight_classification.txt\n",
      "./anaconda3/pkgs/scikit-learn-1.0.2-py39h51133e4_1/lib/python3.9/site-packages/sklearn/datasets/tests/data/svmlight_multilabel.txt\n",
      "./anaconda3/pkgs/scikit-learn-1.0.2-py39h51133e4_1/lib/python3.9/site-packages/sklearn/datasets/tests/data/svmlight_invalid_order.txt\n",
      "./anaconda3/pkgs/scikit-learn-1.0.2-py39h51133e4_1/info/recipe/recipe_log.txt\n",
      "./anaconda3/pkgs/parsel-1.6.0-py39h06a4308_0/lib/python3.9/site-packages/parsel-1.6.0.dist-info/top_level.txt\n",
      "./anaconda3/pkgs/parsel-1.6.0-py39h06a4308_0/info/recipe/recipe_log.txt\n",
      "./anaconda3/pkgs/parsel-1.6.0-py39h06a4308_0/info/test/tests/requirements.txt\n",
      "./anaconda3/pkgs/jupyterlab_widgets-1.0.0-pyhd3eb1b0_1/share/jupyter/labextensions/@jupyter-widgets/jupyterlab-manager/static/638.f3e5e34a28f3334d4f08.js.LICENSE.txt\n",
      "./anaconda3/pkgs/jupyterlab_widgets-1.0.0-pyhd3eb1b0_1/share/jupyter/labextensions/@jupyter-widgets/jupyterlab-manager/static/95.b5a5ff10000a6051fa99.js.LICENSE.txt\n",
      "./anaconda3/pkgs/jupyterlab_widgets-1.0.0-pyhd3eb1b0_1/info/recipe/recipe_log.txt\n",
      "./anaconda3/pkgs/jupyterlab_widgets-1.0.0-pyhd3eb1b0_1/site-packages/jupyterlab_widgets/labextension/static/638.f3e5e34a28f3334d4f08.js.LICENSE.txt\n",
      "./anaconda3/pkgs/jupyterlab_widgets-1.0.0-pyhd3eb1b0_1/site-packages/jupyterlab_widgets/labextension/static/95.b5a5ff10000a6051fa99.js.LICENSE.txt\n",
      "./anaconda3/pkgs/jupyterlab_widgets-1.0.0-pyhd3eb1b0_1/site-packages/jupyterlab_widgets-1.0.0.dist-info/top_level.txt\n",
      "./anaconda3/pkgs/diff-match-patch-20200713-pyhd3eb1b0_0/site-packages/diff_match_patch-20200713.dist-info/top_level.txt\n",
      "./anaconda3/pkgs/nbformat-5.5.0-py39h06a4308_0/lib/python3.9/site-packages/nbformat-5.5.0.dist-info/entry_points.txt\n",
      "./anaconda3/pkgs/sympy-1.10.1-py39h06a4308_0/lib/python3.9/site-packages/sympy-1.10.1.dist-info/top_level.txt\n",
      "./anaconda3/pkgs/sympy-1.10.1-py39h06a4308_0/lib/python3.9/site-packages/sympy-1.10.1.dist-info/entry_points.txt\n",
      "./anaconda3/pkgs/sympy-1.10.1-py39h06a4308_0/lib/python3.9/site-packages/sympy/integrals/rubi/parsetools/header.py.txt\n",
      "./anaconda3/pkgs/sympy-1.10.1-py39h06a4308_0/lib/python3.9/site-packages/sympy/parsing/latex/LICENSE.txt\n",
      "./anaconda3/pkgs/sympy-1.10.1-py39h06a4308_0/lib/python3.9/site-packages/sympy/parsing/autolev/test-examples/README.txt\n",
      "./anaconda3/pkgs/sympy-1.10.1-py39h06a4308_0/info/recipe/recipe_log.txt\n",
      "./anaconda3/pkgs/olefile-0.46-pyhd3eb1b0_0/site-packages/olefile-0.46.dist-info/top_level.txt\n",
      "./anaconda3/pkgs/olefile-0.46-pyhd3eb1b0_0/site-packages/olefile-0.46.dist-info/LICENSE.txt\n",
      "./anaconda3/pkgs/tldextract-3.2.0-pyhd3eb1b0_0/site-packages/tldextract-3.2.0.dist-info/top_level.txt\n",
      "./anaconda3/pkgs/tldextract-3.2.0-pyhd3eb1b0_0/site-packages/tldextract-3.2.0.dist-info/entry_points.txt\n",
      "./anaconda3/pkgs/textdistance-4.2.1-pyhd3eb1b0_0/info/recipe/recipe_log.txt\n",
      "./anaconda3/pkgs/textdistance-4.2.1-pyhd3eb1b0_0/site-packages/textdistance-4.2.1.dist-info/top_level.txt\n",
      "./anaconda3/pkgs/conda-content-trust-0.1.3-py39h06a4308_0/lib/python3.9/site-packages/conda_content_trust-0.1.3.dist-info/top_level.txt\n",
      "./anaconda3/pkgs/conda-content-trust-0.1.3-py39h06a4308_0/lib/python3.9/site-packages/conda_content_trust-0.1.3.dist-info/entry_points.txt\n",
      "./anaconda3/pkgs/mpich-3.3.2-external_0/info/recipe/parent/recipe_log.txt\n",
      "./anaconda3/pkgs/tomlkit-0.11.1-py39h06a4308_0/lib/python3.9/site-packages/tomlkit-0.11.1.dist-info/top_level.txt\n",
      "./anaconda3/pkgs/conda-package-handling-1.9.0-py39h5eee18b_0/lib/python3.9/site-packages/conda_package_handling-1.9.0.dist-info/top_level.txt\n",
      "./anaconda3/pkgs/conda-package-handling-1.9.0-py39h5eee18b_0/lib/python3.9/site-packages/conda_package_handling-1.9.0.dist-info/entry_points.txt\n",
      "./anaconda3/pkgs/conda-package-handling-1.9.0-py39h5eee18b_0/info/recipe/static_deps_licenses/msinttypes.txt\n",
      "./anaconda3/pkgs/conda-package-handling-1.9.0-py39h5eee18b_0/info/recipe/static_deps_licenses/libiconv.txt\n",
      "./anaconda3/pkgs/conda-package-handling-1.9.0-py39h5eee18b_0/info/recipe/static_deps_licenses/bzip2.txt\n",
      "./anaconda3/pkgs/conda-package-handling-1.9.0-py39h5eee18b_0/info/recipe/static_deps_licenses/libarchive.txt\n",
      "./anaconda3/pkgs/conda-package-handling-1.9.0-py39h5eee18b_0/info/recipe/static_deps_licenses/zlib.txt\n",
      "./anaconda3/pkgs/conda-package-handling-1.9.0-py39h5eee18b_0/info/recipe/static_deps_licenses/zstd.txt\n",
      "./anaconda3/pkgs/conda-package-handling-1.9.0-py39h5eee18b_0/info/licenses/static_deps_licenses/bzip2.txt\n",
      "./anaconda3/pkgs/conda-package-handling-1.9.0-py39h5eee18b_0/info/licenses/static_deps_licenses/libarchive.txt\n",
      "./anaconda3/pkgs/conda-package-handling-1.9.0-py39h5eee18b_0/info/licenses/static_deps_licenses/zlib.txt\n",
      "./anaconda3/pkgs/conda-package-handling-1.9.0-py39h5eee18b_0/info/licenses/static_deps_licenses/zstd.txt\n",
      "./anaconda3/pkgs/conda-package-handling-1.9.0-py39h5eee18b_0/info/test/tests/data/mock-2.0.0-py37_1000/info/LICENSE.txt\n",
      "./anaconda3/pkgs/rtree-0.9.7-py39h06a4308_1/lib/python3.9/site-packages/Rtree-0.9.7.dist-info/top_level.txt\n",
      "./anaconda3/pkgs/rtree-0.9.7-py39h06a4308_1/lib/python3.9/site-packages/Rtree-0.9.7.dist-info/LICENSE.txt\n",
      "./anaconda3/pkgs/rtree-0.9.7-py39h06a4308_1/info/recipe/recipe_log.txt\n",
      "./anaconda3/pkgs/rtree-0.9.7-py39h06a4308_1/info/licenses/LICENSE.txt\n",
      "./anaconda3/pkgs/dask-2022.7.0-py39h06a4308_0/info/licenses/LICENSE.txt\n",
      "./anaconda3/pkgs/pydispatcher-2.0.5-py39h06a4308_2/lib/python3.9/site-packages/PyDispatcher-2.0.5-py3.9.egg-info/SOURCES.txt\n",
      "./anaconda3/pkgs/pydispatcher-2.0.5-py39h06a4308_2/lib/python3.9/site-packages/PyDispatcher-2.0.5-py3.9.egg-info/top_level.txt\n",
      "./anaconda3/pkgs/pydispatcher-2.0.5-py39h06a4308_2/lib/python3.9/site-packages/PyDispatcher-2.0.5-py3.9.egg-info/dependency_links.txt\n",
      "./anaconda3/pkgs/pydispatcher-2.0.5-py39h06a4308_2/info/recipe/recipe_log.txt\n",
      "./anaconda3/pkgs/pydispatcher-2.0.5-py39h06a4308_2/info/licenses/license.txt\n",
      "./anaconda3/pkgs/conda-verify-3.4.2-py_1/info/recipe/recipe_log.txt\n",
      "./anaconda3/pkgs/conda-verify-3.4.2-py_1/info/LICENSE.txt\n",
      "./anaconda3/pkgs/conda-verify-3.4.2-py_1/site-packages/conda_verify-3.4.2.dist-info/AUTHORS.txt\n",
      "./anaconda3/pkgs/conda-verify-3.4.2-py_1/site-packages/conda_verify-3.4.2.dist-info/top_level.txt\n",
      "./anaconda3/pkgs/conda-verify-3.4.2-py_1/site-packages/conda_verify-3.4.2.dist-info/LICENSE.txt\n",
      "./anaconda3/pkgs/conda-verify-3.4.2-py_1/site-packages/conda_verify-3.4.2.dist-info/entry_points.txt\n",
      "./anaconda3/pkgs/bitarray-2.5.1-py39h5eee18b_0/lib/python3.9/site-packages/bitarray-2.5.1.dist-info/top_level.txt\n",
      "./anaconda3/pkgs/cloudpickle-2.0.0-pyhd3eb1b0_0/info/recipe/recipe_log.txt\n",
      "./anaconda3/pkgs/cloudpickle-2.0.0-pyhd3eb1b0_0/site-packages/cloudpickle-2.0.0.dist-info/top_level.txt\n",
      "./anaconda3/pkgs/gst-plugins-base-1.14.0-h8213a91_2/info/recipe/parent/recipe_log.txt\n",
      "./anaconda3/pkgs/docutils-0.18.1-py39h06a4308_3/lib/python3.9/site-packages/docutils-0.18.1.dist-info/top_level.txt\n",
      "./anaconda3/pkgs/docutils-0.18.1-py39h06a4308_3/lib/python3.9/site-packages/docutils-0.18.1.dist-info/COPYING.txt\n",
      "./anaconda3/pkgs/docutils-0.18.1-py39h06a4308_3/lib/python3.9/site-packages/docutils/parsers/rst/include/xhtml1-symbol.txt\n",
      "./anaconda3/pkgs/docutils-0.18.1-py39h06a4308_3/lib/python3.9/site-packages/docutils/parsers/rst/include/isogrk4.txt\n",
      "./anaconda3/pkgs/docutils-0.18.1-py39h06a4308_3/lib/python3.9/site-packages/docutils/parsers/rst/include/mmlextra-wide.txt\n",
      "./anaconda3/pkgs/docutils-0.18.1-py39h06a4308_3/lib/python3.9/site-packages/docutils/parsers/rst/include/isomopf.txt\n",
      "./anaconda3/pkgs/docutils-0.18.1-py39h06a4308_3/lib/python3.9/site-packages/docutils/parsers/rst/include/isobox.txt\n",
      "./anaconda3/pkgs/docutils-0.18.1-py39h06a4308_3/lib/python3.9/site-packages/docutils/parsers/rst/include/isogrk2.txt\n",
      "./anaconda3/pkgs/docutils-0.18.1-py39h06a4308_3/lib/python3.9/site-packages/docutils/parsers/rst/include/isomscr-wide.txt\n",
      "./anaconda3/pkgs/docutils-0.18.1-py39h06a4308_3/lib/python3.9/site-packages/docutils/parsers/rst/include/isolat1.txt\n",
      "./anaconda3/pkgs/docutils-0.18.1-py39h06a4308_3/lib/python3.9/site-packages/docutils/parsers/rst/include/isolat2.txt\n",
      "./anaconda3/pkgs/docutils-0.18.1-py39h06a4308_3/lib/python3.9/site-packages/docutils/parsers/rst/include/xhtml1-lat1.txt\n",
      "./anaconda3/pkgs/docutils-0.18.1-py39h06a4308_3/lib/python3.9/site-packages/docutils/parsers/rst/include/isogrk4-wide.txt\n",
      "./anaconda3/pkgs/docutils-0.18.1-py39h06a4308_3/lib/python3.9/site-packages/docutils/parsers/rst/include/isocyr1.txt\n",
      "./anaconda3/pkgs/docutils-0.18.1-py39h06a4308_3/lib/python3.9/site-packages/docutils/parsers/rst/include/README.txt\n",
      "./anaconda3/pkgs/docutils-0.18.1-py39h06a4308_3/lib/python3.9/site-packages/docutils/parsers/rst/include/isomscr.txt\n",
      "./anaconda3/pkgs/docutils-0.18.1-py39h06a4308_3/lib/python3.9/site-packages/docutils/parsers/rst/include/s5defs.txt\n",
      "./anaconda3/pkgs/docutils-0.18.1-py39h06a4308_3/lib/python3.9/site-packages/docutils/parsers/rst/include/isoamsn.txt\n",
      "./anaconda3/pkgs/docutils-0.18.1-py39h06a4308_3/lib/python3.9/site-packages/docutils/parsers/rst/include/isonum.txt\n",
      "./anaconda3/pkgs/docutils-0.18.1-py39h06a4308_3/lib/python3.9/site-packages/docutils/parsers/rst/include/isoamsb.txt\n",
      "./anaconda3/pkgs/docutils-0.18.1-py39h06a4308_3/lib/python3.9/site-packages/docutils/parsers/rst/include/isoamsr.txt\n",
      "./anaconda3/pkgs/docutils-0.18.1-py39h06a4308_3/lib/python3.9/site-packages/docutils/parsers/rst/include/isopub.txt\n",
      "./anaconda3/pkgs/docutils-0.18.1-py39h06a4308_3/lib/python3.9/site-packages/docutils/parsers/rst/include/isogrk1.txt\n",
      "./anaconda3/pkgs/docutils-0.18.1-py39h06a4308_3/lib/python3.9/site-packages/docutils/parsers/rst/include/isomfrk.txt\n",
      "./anaconda3/pkgs/docutils-0.18.1-py39h06a4308_3/lib/python3.9/site-packages/docutils/parsers/rst/include/isogrk3.txt\n",
      "./anaconda3/pkgs/docutils-0.18.1-py39h06a4308_3/lib/python3.9/site-packages/docutils/parsers/rst/include/isoamsc.txt\n",
      "./anaconda3/pkgs/docutils-0.18.1-py39h06a4308_3/lib/python3.9/site-packages/docutils/parsers/rst/include/mmlalias.txt\n",
      "./anaconda3/pkgs/docutils-0.18.1-py39h06a4308_3/lib/python3.9/site-packages/docutils/parsers/rst/include/isomfrk-wide.txt\n",
      "./anaconda3/pkgs/docutils-0.18.1-py39h06a4308_3/lib/python3.9/site-packages/docutils/parsers/rst/include/isoamso.txt\n",
      "./anaconda3/pkgs/docutils-0.18.1-py39h06a4308_3/lib/python3.9/site-packages/docutils/parsers/rst/include/isodia.txt\n",
      "./anaconda3/pkgs/docutils-0.18.1-py39h06a4308_3/lib/python3.9/site-packages/docutils/parsers/rst/include/isocyr2.txt\n",
      "./anaconda3/pkgs/docutils-0.18.1-py39h06a4308_3/lib/python3.9/site-packages/docutils/parsers/rst/include/isoamsa.txt\n",
      "./anaconda3/pkgs/docutils-0.18.1-py39h06a4308_3/lib/python3.9/site-packages/docutils/parsers/rst/include/isotech.txt\n",
      "./anaconda3/pkgs/docutils-0.18.1-py39h06a4308_3/lib/python3.9/site-packages/docutils/parsers/rst/include/mmlextra.txt\n",
      "./anaconda3/pkgs/docutils-0.18.1-py39h06a4308_3/lib/python3.9/site-packages/docutils/parsers/rst/include/xhtml1-special.txt\n",
      "./anaconda3/pkgs/docutils-0.18.1-py39h06a4308_3/lib/python3.9/site-packages/docutils/parsers/rst/include/isomopf-wide.txt\n",
      "./anaconda3/pkgs/docutils-0.18.1-py39h06a4308_3/lib/python3.9/site-packages/docutils/writers/s5_html/themes/README.txt\n",
      "./anaconda3/pkgs/docutils-0.18.1-py39h06a4308_3/lib/python3.9/site-packages/docutils/writers/html4css1/template.txt\n",
      "./anaconda3/pkgs/docutils-0.18.1-py39h06a4308_3/lib/python3.9/site-packages/docutils/writers/html5_polyglot/template.txt\n",
      "./anaconda3/pkgs/docutils-0.18.1-py39h06a4308_3/lib/python3.9/site-packages/docutils/writers/pep_html/template.txt\n",
      "./anaconda3/pkgs/docutils-0.18.1-py39h06a4308_3/info/licenses/COPYING.txt\n",
      "./anaconda3/pkgs/sphinx-5.0.2-py39h06a4308_0/lib/python3.9/site-packages/Sphinx-5.0.2.dist-info/top_level.txt\n",
      "./anaconda3/pkgs/sphinx-5.0.2-py39h06a4308_0/lib/python3.9/site-packages/Sphinx-5.0.2.dist-info/entry_points.txt\n",
      "./anaconda3/pkgs/pytest-7.1.2-py39h06a4308_0/lib/python3.9/site-packages/pytest-7.1.2-py3.9.egg-info/SOURCES.txt\n",
      "./anaconda3/pkgs/pytest-7.1.2-py39h06a4308_0/lib/python3.9/site-packages/pytest-7.1.2-py3.9.egg-info/requires.txt\n",
      "./anaconda3/pkgs/pytest-7.1.2-py39h06a4308_0/lib/python3.9/site-packages/pytest-7.1.2-py3.9.egg-info/top_level.txt\n",
      "./anaconda3/pkgs/pytest-7.1.2-py39h06a4308_0/lib/python3.9/site-packages/pytest-7.1.2-py3.9.egg-info/dependency_links.txt\n",
      "./anaconda3/pkgs/pytest-7.1.2-py39h06a4308_0/lib/python3.9/site-packages/pytest-7.1.2-py3.9.egg-info/entry_points.txt\n",
      "./anaconda3/pkgs/yaml-0.2.5-h7b6447c_0/info/recipe/recipe_log.txt\n",
      "./anaconda3/pkgs/python-fastjsonschema-2.16.2-py39h06a4308_0/lib/python3.9/site-packages/fastjsonschema-2.16.2.dist-info/top_level.txt\n",
      "./anaconda3/pkgs/numexpr-2.8.3-py39h807cd23_0/lib/python3.9/site-packages/numexpr-2.8.3.dist-info/AUTHORS.txt\n",
      "./anaconda3/pkgs/numexpr-2.8.3-py39h807cd23_0/lib/python3.9/site-packages/numexpr-2.8.3.dist-info/top_level.txt\n",
      "./anaconda3/pkgs/numexpr-2.8.3-py39h807cd23_0/lib/python3.9/site-packages/numexpr-2.8.3.dist-info/LICENSE.txt\n",
      "./anaconda3/pkgs/numexpr-2.8.3-py39h807cd23_0/info/licenses/LICENSE.txt\n",
      "./anaconda3/pkgs/watchdog-2.1.6-py39h06a4308_0/lib/python3.9/site-packages/watchdog-2.1.6.dist-info/top_level.txt\n",
      "./anaconda3/pkgs/watchdog-2.1.6-py39h06a4308_0/lib/python3.9/site-packages/watchdog-2.1.6.dist-info/entry_points.txt\n",
      "./anaconda3/pkgs/parso-0.8.3-pyhd3eb1b0_0/info/licenses/LICENSE.txt\n",
      "./anaconda3/pkgs/parso-0.8.3-pyhd3eb1b0_0/site-packages/parso/python/grammar39.txt\n",
      "./anaconda3/pkgs/parso-0.8.3-pyhd3eb1b0_0/site-packages/parso/python/grammar37.txt\n",
      "./anaconda3/pkgs/parso-0.8.3-pyhd3eb1b0_0/site-packages/parso/python/grammar36.txt\n",
      "./anaconda3/pkgs/parso-0.8.3-pyhd3eb1b0_0/site-packages/parso/python/grammar310.txt\n",
      "./anaconda3/pkgs/parso-0.8.3-pyhd3eb1b0_0/site-packages/parso/python/grammar311.txt\n",
      "./anaconda3/pkgs/parso-0.8.3-pyhd3eb1b0_0/site-packages/parso/python/grammar312.txt\n",
      "./anaconda3/pkgs/parso-0.8.3-pyhd3eb1b0_0/site-packages/parso/python/grammar38.txt\n",
      "./anaconda3/pkgs/parso-0.8.3-pyhd3eb1b0_0/site-packages/parso-0.8.3.dist-info/AUTHORS.txt\n",
      "./anaconda3/pkgs/parso-0.8.3-pyhd3eb1b0_0/site-packages/parso-0.8.3.dist-info/top_level.txt\n",
      "./anaconda3/pkgs/parso-0.8.3-pyhd3eb1b0_0/site-packages/parso-0.8.3.dist-info/LICENSE.txt\n",
      "./anaconda3/pkgs/pathspec-0.9.0-py39h06a4308_0/lib/python3.9/site-packages/pathspec-0.9.0.dist-info/top_level.txt\n",
      "./anaconda3/pkgs/py-1.11.0-pyhd3eb1b0_0/site-packages/py-1.11.0.dist-info/top_level.txt\n",
      "./anaconda3/pkgs/py-1.11.0-pyhd3eb1b0_0/site-packages/py/_vendored_packages/apipkg-2.0.0.dist-info/top_level.txt\n",
      "./anaconda3/pkgs/py-1.11.0-pyhd3eb1b0_0/site-packages/py/_vendored_packages/iniconfig-1.1.1.dist-info/top_level.txt\n",
      "./anaconda3/pkgs/bottleneck-1.3.5-py39h7deecbd_0/lib/python3.9/site-packages/Bottleneck-1.3.5.dist-info/top_level.txt\n",
      "./anaconda3/pkgs/nbclassic-0.3.5-pyhd3eb1b0_0/site-packages/nbclassic-0.3.5.dist-info/top_level.txt\n",
      "./anaconda3/pkgs/nbclassic-0.3.5-pyhd3eb1b0_0/site-packages/nbclassic-0.3.5.dist-info/entry_points.txt\n",
      "./anaconda3/pkgs/pycparser-2.21-pyhd3eb1b0_0/site-packages/pycparser-2.21.dist-info/top_level.txt\n",
      "./anaconda3/pkgs/click-8.0.4-py39h06a4308_0/lib/python3.9/site-packages/click-8.0.4.dist-info/top_level.txt\n",
      "./anaconda3/pkgs/click-8.0.4-py39h06a4308_0/info/recipe/recipe_log.txt\n",
      "./anaconda3/pkgs/jupyter_nbextensions_configurator-0.6.1-pyhd8ed1ab_0/info/recipe/recipe-scripts-license.txt\n",
      "./anaconda3/pkgs/jupyter_nbextensions_configurator-0.6.1-pyhd8ed1ab_0/info/licenses/LICENSE.txt\n",
      "./anaconda3/pkgs/jupyter_nbextensions_configurator-0.6.1-pyhd8ed1ab_0/site-packages/jupyter_nbextensions_configurator-0.6.1.dist-info/top_level.txt\n",
      "./anaconda3/pkgs/jupyter_nbextensions_configurator-0.6.1-pyhd8ed1ab_0/site-packages/jupyter_nbextensions_configurator-0.6.1.dist-info/LICENSE.txt\n",
      "./anaconda3/pkgs/jupyter_nbextensions_configurator-0.6.1-pyhd8ed1ab_0/site-packages/jupyter_nbextensions_configurator-0.6.1.dist-info/entry_points.txt\n",
      "./anaconda3/pkgs/libgcc-ng-11.2.0-h1234567_1/info/recipe/parent/tests/fortomp/CMakeLists.txt\n",
      "./anaconda3/pkgs/conda-22.11.1-py39h06a4308_4/lib/python3.9/site-packages/conda-22.11.1-py3.9.egg-info/SOURCES.txt\n",
      "./anaconda3/pkgs/conda-22.11.1-py39h06a4308_4/lib/python3.9/site-packages/conda-22.11.1-py3.9.egg-info/requires.txt\n",
      "./anaconda3/pkgs/conda-22.11.1-py39h06a4308_4/lib/python3.9/site-packages/conda-22.11.1-py3.9.egg-info/top_level.txt\n",
      "./anaconda3/pkgs/conda-22.11.1-py39h06a4308_4/lib/python3.9/site-packages/conda-22.11.1-py3.9.egg-info/dependency_links.txt\n",
      "./anaconda3/pkgs/conda-22.11.1-py39h06a4308_4/lib/python3.9/site-packages/conda-22.11.1-py3.9.egg-info/entry_points.txt\n",
      "./anaconda3/pkgs/conda-22.11.1-py39h06a4308_4/info/licenses/LICENSE.txt\n",
      "./anaconda3/pkgs/py-lief-0.11.5-py39h295c915_1/info/recipe/parent/recipe_log.txt\n",
      "./anaconda3/pkgs/py-lief-0.11.5-py39h295c915_1/info/recipe/parent/tests/CMakeLists.txt\n",
      "./input.txt\n",
      "./.thunderbird/97ymy15k.default-release/serviceworker.txt\n",
      "./.thunderbird/97ymy15k.default-release/encrypted-openpgp-passphrase.txt\n",
      "./.thunderbird/97ymy15k.default-release/pkcs11.txt\n",
      "./.thunderbird/97ymy15k.default-release/AlternateServices.txt\n",
      "./.thunderbird/97ymy15k.default-release/SiteSecurityServiceState.txt\n",
      "./input2.txt\n"
     ]
    }
   ],
   "source": [
    "%%bash\n",
    "find . -name \"*.txt\""
   ]
  },
  {
   "cell_type": "markdown",
   "id": "59319850",
   "metadata": {
    "slideshow": {
     "slide_type": "subslide"
    }
   },
   "source": [
    "<p align='justify' style='margin: 10px 20px; line-height:1.5; font-family: \"Times New Roman\", Times, serif; font-size:16px; color: black'>\n",
    "  You can also use the \"grep\" command to search for text patterns within files. For example, to search for all files in the current directory and its subdirectories that contain the word \"HELLO\", you can use the following command:\n",
    "\n",
    "</p>"
   ]
  },
  {
   "cell_type": "code",
   "execution_count": 3,
   "id": "d7905daa",
   "metadata": {
    "slideshow": {
     "slide_type": "subslide"
    }
   },
   "outputs": [
    {
     "name": "stderr",
     "output_type": "stream",
     "text": [
      "IOPub data rate exceeded.\n",
      "The notebook server will temporarily stop sending output\n",
      "to the client in order to avoid crashing it.\n",
      "To change this limit, set the config variable\n",
      "`--NotebookApp.iopub_data_rate_limit`.\n",
      "\n",
      "Current values:\n",
      "NotebookApp.iopub_data_rate_limit=1000000.0 (bytes/sec)\n",
      "NotebookApp.rate_limit_window=3.0 (secs)\n",
      "\n",
      "grep: ./.config/Microsoft/Microsoft Teams/IndexedDB/https_teams.microsoft.com_0.indexeddb.leveldb/000096.ldb: binary file matches\n",
      "grep: ./.config/google-chrome/Default/Platform Notifications/000005.ldb: binary file matches\n",
      "grep: ./.config/google-chrome/Default/optimization_guide_prediction_model_downloads/cb0bfcba-5c4a-4065-935a-e8fa779e156b/global-entities_metadata: binary file matches\n",
      "grep: ./.var/app/org.chromium.Chromium/cache/chromium/Default/Code Cache/js/5c9a27f260f9cb48_0: binary file matches\n",
      "grep: ./.var/app/org.chromium.Chromium/cache/chromium/Default/Code Cache/js/fc4cb608d452af24_0: binary file matches\n",
      "grep: ./.var/app/org.chromium.Chromium/cache/chromium/Default/Code Cache/js/87fb1f1b4d5ca36c_0: binary file matches\n",
      "grep: ./.var/app/com.ktechpit.whatsie/data/org.keshavnrj.ubuntu/WhatSie/QtWebEngine/Default/Service Worker/CacheStorage/0bf6ab7f94a21cdc9c1649f884333ec20f40a544/6abe47db-201f-4f90-94ca-d09395eb6f7d/0cab592996d692a0_0: binary file matches\n",
      "grep: ./Desktop/Python Class 25-27(IPI)_ASphere/ubuntu-22.04.1-desktop-amd64.iso: binary file matches\n",
      "grep: ./snap/firefox/common/.cache/mozilla/firefox/48nglayy.default/startupCache/startupCache.8.little: binary file matches\n",
      "grep: ./snap/firefox/common/.cache/mozilla/firefox/48nglayy.default/startupCache/scriptCache-current.bin: binary file matches\n",
      "grep: ./.vscode/extensions/ms-toolsai.jupyter-2022.11.1003412109/out/node_modules/zeromq/prebuilds/win32-ia32/node.napi.node: binary file matches\n",
      "grep: ./.vscode/extensions/ms-toolsai.jupyter-2022.11.1003412109/out/node_modules/zeromq/prebuilds/win32-ia32/electron.napi.node: binary file matches\n",
      "grep: ./.vscode/extensions/ms-toolsai.jupyter-2022.11.1003412109/out/node_modules/zeromq/prebuilds/darwin-x64/node.napi.node: binary file matches\n",
      "grep: ./.vscode/extensions/ms-toolsai.jupyter-2022.11.1003412109/out/node_modules/zeromq/prebuilds/darwin-x64/electron.napi.node: binary file matches\n",
      "grep: ./.vscode/extensions/ms-toolsai.jupyter-2022.11.1003412109/out/node_modules/zeromq/prebuilds/win32-x64/node.napi.node: binary file matches\n",
      "grep: ./.vscode/extensions/ms-toolsai.jupyter-2022.11.1003412109/out/node_modules/zeromq/prebuilds/win32-x64/electron.napi.node: binary file matches\n",
      "grep: ./.vscode/extensions/ms-toolsai.jupyter-2022.11.1003412109/out/node_modules/zeromq/prebuilds/linux-x64/node.napi.glibc.node: binary file matches\n",
      "grep: ./.vscode/extensions/ms-toolsai.jupyter-2022.11.1003412109/out/node_modules/zeromq/prebuilds/linux-x64/electron.napi.glibc.node: binary file matches\n",
      "grep: ./.vscode/extensions/ms-toolsai.jupyter-2022.11.1003412109/out/node_modules/zeromq/prebuilds/linux-x64/node.napi.musl.node: binary file matches\n",
      "grep: ./.vscode/extensions/ms-toolsai.jupyter-2022.11.1003412109/out/node_modules/zeromq/prebuilds/linux-x64/electron.napi.musl.node: binary file matches\n",
      "grep: ./.vscode/extensions/ms-toolsai.jupyter-2022.11.1003412109/out/node_modules/zeromq/prebuilds/linux-arm64/node.napi.glibc.node: binary file matches\n",
      "grep: ./.vscode/extensions/ms-toolsai.jupyter-2022.11.1003412109/out/node_modules/zeromq/prebuilds/linux-arm64/electron.napi.glibc.node: binary file matches\n",
      "grep: ./.vscode/extensions/ms-toolsai.jupyter-2022.11.1003412109/out/node_modules/zeromq/prebuilds/linux-arm/node.napi.glibc.node: binary file matches\n",
      "grep: ./.vscode/extensions/ms-toolsai.jupyter-2022.11.1003412109/out/node_modules/zeromq/prebuilds/linux-arm/electron.napi.glibc.node: binary file matches\n",
      "grep: ./.ipython/profile_default/history.sqlite: binary file matches\n",
      "grep: ./vmware/Kali OS/Kali OS-s002.vmdk: binary file matches\n",
      "grep: ./vmware/Kali OS/Kali OS-s032.vmdk: binary file matches\n",
      "grep: ./vmware/Kali OS/Kali OS-s005.vmdk: binary file matches\n",
      "grep: ./vmware/Kali OS/Kali OS-s031.vmdk: binary file matches\n",
      "grep: ./vmware/Kali OS/Kali OS-s023.vmdk: binary file matches\n",
      "grep: ./vmware/Kali OS/Kali OS-s006.vmdk: binary file matches\n",
      "grep: ./vmware/Kali OS/Kali OS-s001.vmdk: binary file matches\n",
      "grep: ./vmware/Kali OS/Kali OS-s029.vmdk: binary file matches\n",
      "grep: ./vmware/Kali OS/Kali OS-s007.vmdk: binary file matches\n",
      "grep: ./vmware/Kali OS/Kali OS-s024.vmdk: binary file matches\n",
      "grep: ./Downloads/mysql-server_8.0.31-1ubuntu22.04_amd64.deb-bundle/mysql-community-server_8.0.31-1ubuntu22.04_amd64.deb: binary file matches\n",
      "grep: ./Downloads/ubuntu-22.04.1-live-server-amd64.iso: binary file matches\n",
      "grep: ./Downloads/ubuntu-22.04.1-desktop-amd64.iso: binary file matches\n",
      "grep: ./Downloads/mysql-server_8.0.31-1ubuntu22.04_amd64.deb-bundle.tar: binary file matches\n",
      "grep: ./.local/lib/python3.9/site-packages/_mysqlxpb.cpython-39-x86_64-linux-gnu.so: binary file matches\n",
      "grep: ./.local/lib/python3.9/site-packages/mysqlx/protobuf/__pycache__/mysqlx_notice_pb2.cpython-39.pyc: binary file matches\n",
      "grep: ./.local/lib/python3.10/site-packages/pyzmq.libs/libzmq-fc4fcd2d.so.5.2.4: binary file matches\n",
      "grep: ./.local/lib/python3.10/site-packages/zmq/__pycache__/constants.cpython-310.pyc: binary file matches\n",
      "grep: ./.local/lib/python3.10/site-packages/future/types/__pycache__/newobject.cpython-310.pyc: binary file matches\n",
      "grep: ./.local/lib/python3.10/site-packages/IPython/sphinxext/__pycache__/ipython_directive.cpython-310.pyc: binary file matches\n",
      "grep: ./.local/lib/python3.10/site-packages/tornado/test/__pycache__/concurrent_test.cpython-310.pyc: binary file matches\n",
      "grep: ./.local/lib/python3.10/site-packages/serial/urlhandler/__pycache__/protocol_spy.cpython-310.pyc: binary file matches\n",
      "grep: ./.local/share/Trash/files/Kali OS/Kali OS-s002.vmdk: binary file matches\n",
      "grep: ./.local/share/Trash/files/Kali OS/Kali OS-s028.vmdk: binary file matches\n",
      "grep: ./.local/share/Trash/files/Kali OS/Kali OS-s032.vmdk: binary file matches\n",
      "grep: ./.local/share/Trash/files/Kali OS/Kali OS-s031.vmdk: binary file matches\n",
      "grep: ./.local/share/Trash/files/Kali OS/Kali OS-s030.vmdk: binary file matches\n",
      "grep: ./.local/share/Trash/files/Kali OS/Kali OS-s001.vmdk: binary file matches\n",
      "grep: ./.local/share/Trash/files/Kali OS/Kali OS-s029.vmdk: binary file matches\n",
      "grep: ./.cache/google-chrome/Default/Cache/Cache_Data/b07c860787bcffa3_0: binary file matches\n",
      "grep: ./.cache/google-chrome/Default/Code Cache/js/ad995fb9987f6921_0: binary file matches\n",
      "grep: ./.cache/google-chrome/Default/Code Cache/js/09fe4bce53a70c3a_0: binary file matches\n",
      "grep: ./.cache/tracker3/files/http%3A%2F%2Ftracker.api.gnome.org%2Fontology%2Fv3%2Ftracker%23Documents.db: binary file matches\n",
      "grep: ./.cache/selenium/chromedriver/linux64/109.0.5414.74/chromedriver: binary file matches\n",
      "grep: ./.cache/thunderbird/97ymy15k.default-release/startupCache/startupCache.8.little: binary file matches\n",
      "grep: ./anaconda3/lib/python3.9/lib-dynload/_ssl.cpython-39-x86_64-linux-gnu.so: binary file matches\n",
      "grep: ./anaconda3/lib/python3.9/__pycache__/ssl.cpython-39.pyc: binary file matches\n",
      "grep: ./anaconda3/lib/python3.9/site-packages/anaconda_project/test/__pycache__/test_project_ops.cpython-39.pyc: binary file matches\n",
      "grep: ./anaconda3/lib/python3.9/site-packages/astropy/io/fits/tests/__pycache__/test_table.cpython-39.pyc: binary file matches\n",
      "grep: ./anaconda3/lib/python3.9/site-packages/astropy/io/fits/tests/__pycache__/test_core.cpython-39.pyc: binary file matches\n",
      "grep: ./anaconda3/lib/python3.9/site-packages/astropy/io/fits/tests/__pycache__/test_header.cpython-39.pyc: binary file matches\n",
      "grep: ./anaconda3/lib/python3.9/site-packages/astropy/io/fits/tests/__pycache__/test_image.cpython-39.pyc: binary file matches\n",
      "grep: ./anaconda3/lib/python3.9/site-packages/zmq/__pycache__/constants.cpython-39.pyc: binary file matches\n",
      "grep: ./anaconda3/lib/python3.9/site-packages/scapy/contrib/__pycache__/rsvp.cpython-39.pyc: binary file matches\n",
      "grep: ./anaconda3/lib/python3.9/site-packages/scapy/contrib/__pycache__/openflow3.cpython-39.pyc: binary file matches\n",
      "grep: ./anaconda3/lib/python3.9/site-packages/scapy/contrib/__pycache__/pim.cpython-39.pyc: binary file matches\n",
      "grep: ./anaconda3/lib/python3.9/site-packages/scapy/contrib/__pycache__/openflow.cpython-39.pyc: binary file matches\n",
      "grep: ./anaconda3/lib/python3.9/site-packages/scapy/layers/tls/__pycache__/automaton_cli.cpython-39.pyc: binary file matches\n",
      "grep: ./anaconda3/lib/python3.9/site-packages/scapy/layers/tls/__pycache__/automaton_srv.cpython-39.pyc: binary file matches\n",
      "grep: ./anaconda3/lib/python3.9/site-packages/future/types/__pycache__/newobject.cpython-39.pyc: binary file matches\n",
      "grep: ./anaconda3/lib/python3.9/site-packages/IPython/sphinxext/__pycache__/ipython_directive.cpython-39.pyc: binary file matches\n",
      "grep: ./anaconda3/lib/python3.9/site-packages/tornado/test/__pycache__/concurrent_test.cpython-39.pyc: binary file matches\n",
      "grep: ./anaconda3/lib/python3.9/site-packages/jeepney/tests/__pycache__/test_low_level.cpython-39.pyc: binary file matches\n",
      "grep: ./anaconda3/lib/python3.9/site-packages/sympy/parsing/tests/__pycache__/test_latex.cpython-39.pyc: binary file matches\n",
      "grep: ./anaconda3/lib/python3.9/site-packages/sympy/crypto/__pycache__/crypto.cpython-39.pyc: binary file matches\n",
      "grep: ./anaconda3/lib/python3.9/site-packages/twisted/words/im/__pycache__/pbsupport.cpython-39.pyc: binary file matches\n",
      "grep: ./anaconda3/lib/python3.9/site-packages/twisted/internet/test/__pycache__/test_endpoints.cpython-39.pyc: binary file matches\n",
      "grep: ./anaconda3/lib/python3.9/site-packages/twisted/test/__pycache__/test_amp.cpython-39.pyc: binary file matches\n",
      "grep: ./anaconda3/lib/python3.9/site-packages/trio/__pycache__/socket.cpython-39.pyc: binary file matches\n",
      "grep: ./anaconda3/lib/python3.9/site-packages/dpkt/__pycache__/qq.cpython-39.pyc: binary file matches\n",
      "grep: ./anaconda3/lib/python3.9/site-packages/dpkt/__pycache__/hsrp.cpython-39.pyc: binary file matches\n",
      "grep: ./anaconda3/lib/python3.9/site-packages/pandas/tests/reshape/merge/__pycache__/test_merge_asof.cpython-39.pyc: binary file matches\n",
      "grep: ./anaconda3/lib/python3.9/site-packages/serial/urlhandler/__pycache__/protocol_spy.cpython-39.pyc: binary file matches\n",
      "grep: ./anaconda3/lib/python3.9/site-packages/itemloaders/__pycache__/processors.cpython-39.pyc: binary file matches\n",
      "grep: ./anaconda3/lib/libQt5WebEngineCore.so.5.15.9: binary file matches\n",
      "grep: ./anaconda3/lib/libzmq.so.5.2.4: binary file matches\n",
      "grep: ./anaconda3/lib/libssl3.so: binary file matches\n",
      "grep: ./anaconda3/pkgs/astropy-5.1-py39h7deecbd_0/lib/python3.9/site-packages/astropy/io/fits/tests/__pycache__/test_table.cpython-39.pyc: binary file matches\n",
      "grep: ./anaconda3/pkgs/astropy-5.1-py39h7deecbd_0/lib/python3.9/site-packages/astropy/io/fits/tests/__pycache__/test_core.cpython-39.pyc: binary file matches\n",
      "grep: ./anaconda3/pkgs/astropy-5.1-py39h7deecbd_0/lib/python3.9/site-packages/astropy/io/fits/tests/__pycache__/test_header.cpython-39.pyc: binary file matches\n",
      "grep: ./anaconda3/pkgs/astropy-5.1-py39h7deecbd_0/lib/python3.9/site-packages/astropy/io/fits/tests/__pycache__/test_image.cpython-39.pyc: binary file matches\n",
      "grep: ./anaconda3/pkgs/ipython-7.31.1-py39h06a4308_1/lib/python3.9/site-packages/IPython/sphinxext/__pycache__/ipython_directive.cpython-39.pyc: binary file matches\n",
      "grep: ./anaconda3/pkgs/nss-3.74-h0370c37_0/lib/libssl3.so: binary file matches\n",
      "grep: ./anaconda3/pkgs/zeromq-4.3.4-h2531618_0/lib/libzmq.so.5.2.4: binary file matches\n",
      "grep: ./anaconda3/pkgs/python-3.9.13-haa1d7c7_1/lib/python3.9/lib-dynload/_ssl.cpython-39-x86_64-linux-gnu.so: binary file matches\n",
      "grep: ./anaconda3/pkgs/python-3.9.13-haa1d7c7_1/lib/python3.9/__pycache__/ssl.cpython-39.pyc: binary file matches\n",
      "grep: ./anaconda3/pkgs/anaconda-project-0.11.1-py39h06a4308_0/lib/python3.9/site-packages/anaconda_project/test/__pycache__/test_project_ops.cpython-39.pyc: binary file matches\n",
      "grep: ./anaconda3/pkgs/pandas-1.4.4-py39h6a678d5_0/lib/python3.9/site-packages/pandas/tests/reshape/merge/__pycache__/test_merge_asof.cpython-39.pyc: binary file matches\n",
      "grep: ./anaconda3/pkgs/future-0.18.2-py39h06a4308_1/lib/python3.9/site-packages/future/types/__pycache__/newobject.cpython-39.pyc: binary file matches\n",
      "grep: ./anaconda3/pkgs/pyzmq-23.2.0-py39h6a678d5_0/lib/python3.9/site-packages/zmq/__pycache__/constants.cpython-39.pyc: binary file matches\n",
      "grep: ./anaconda3/pkgs/qt-webengine-5.15.9-hd2b0992_4/lib/libQt5WebEngineCore.so.5.15.9: binary file matches\n",
      "grep: ./anaconda3/pkgs/twisted-22.2.0-py39h5eee18b_1/lib/python3.9/site-packages/twisted/words/im/__pycache__/pbsupport.cpython-39.pyc: binary file matches\n",
      "grep: ./anaconda3/pkgs/twisted-22.2.0-py39h5eee18b_1/lib/python3.9/site-packages/twisted/internet/test/__pycache__/test_endpoints.cpython-39.pyc: binary file matches\n",
      "grep: ./anaconda3/pkgs/twisted-22.2.0-py39h5eee18b_1/lib/python3.9/site-packages/twisted/test/__pycache__/test_amp.cpython-39.pyc: binary file matches\n",
      "grep: ./anaconda3/pkgs/tornado-6.1-py39h27cfd23_0/lib/python3.9/site-packages/tornado/test/__pycache__/concurrent_test.cpython-39.pyc: binary file matches\n",
      "grep: ./anaconda3/pkgs/sympy-1.10.1-py39h06a4308_0/lib/python3.9/site-packages/sympy/parsing/tests/__pycache__/test_latex.cpython-39.pyc: binary file matches\n",
      "grep: ./anaconda3/pkgs/sympy-1.10.1-py39h06a4308_0/lib/python3.9/site-packages/sympy/crypto/__pycache__/crypto.cpython-39.pyc: binary file matches\n",
      "grep: ./.thunderbird/97ymy15k.default-release/global-messages-db.sqlite: binary file matches\n"
     ]
    }
   ],
   "source": [
    "%%bash\n",
    "grep -r \"HELLO\" ."
   ]
  },
  {
   "cell_type": "markdown",
   "id": "4e5476a5",
   "metadata": {
    "slideshow": {
     "slide_type": "subslide"
    }
   },
   "source": [
    "<p align='justify' style='margin: 10px 20px; line-height:1.5; font-family: \"Times New Roman\", Times, serif; font-size:16px; color: black'>\n",
    "  You can use the find and grep commands together to search for files that match specific criteria and contain specific text patterns. For example, to search for all .txt files in the current directory and its subdirectories that contain the word \"hello\", you can use the following command:\n",
    "\n",
    "</p>"
   ]
  },
  {
   "cell_type": "code",
   "execution_count": 4,
   "id": "212ca325",
   "metadata": {
    "scrolled": true,
    "slideshow": {
     "slide_type": "subslide"
    }
   },
   "outputs": [
    {
     "name": "stdout",
     "output_type": "stream",
     "text": [
      "./.config/google-chrome/ZxcvbnData/1/english_wikipedia.txt\n",
      "./.config/google-chrome/ZxcvbnData/1/us_tv_and_film.txt\n",
      "./.config/google-chrome/ZxcvbnData/1/passwords.txt\n",
      "./.var/app/org.chromium.Chromium/config/chromium/ZxcvbnData/1/english_wikipedia.txt\n",
      "./.var/app/org.chromium.Chromium/config/chromium/ZxcvbnData/1/us_tv_and_film.txt\n",
      "./.var/app/org.chromium.Chromium/config/chromium/ZxcvbnData/1/passwords.txt\n",
      "./Desktop/Evaluation PYT_010/Evaluated/RAYE Loghan/exercises.txt\n",
      "./AUX_012/sedTextExample.txt\n",
      "./.vscode/extensions/ms-toolsai.jupyter-2022.11.1003412109/ThirdPartyNotices.txt\n",
      "./.vscode/extensions/ms-toolsai.jupyter-2022.11.1003412109/out/webviews/webview-side/viewers/plotViewer.js.LICENSE.txt\n",
      "./.vscode/extensions/ms-toolsai.jupyter-renderers-1.0.12/ThirdPartyNotices.txt\n",
      "./Downloads/AI-Cybersecurity-main/UNIX/AUX_050/sedTextExample.txt\n",
      "./sedTextExample.txt\n",
      "./.local/lib/python3.10/site-packages/IPython/testing/plugin/test_exampleip.txt\n",
      "./.local/lib/python3.10/site-packages/IPython/testing/plugin/test_example.txt\n",
      "./anaconda3/lib/python3.9/site-packages/astropy/io/ascii/tests/data/fixed_width_2_line.txt\n",
      "./anaconda3/lib/python3.9/site-packages/IPython/testing/plugin/test_exampleip.txt\n",
      "./anaconda3/lib/python3.9/site-packages/IPython/testing/plugin/test_example.txt\n",
      "./anaconda3/lib/python3.9/site-packages/astroid-2.11.7.dist-info/CONTRIBUTORS.txt\n",
      "./anaconda3/lib/python3.9/site-packages/ply-3.11-py3.9.egg-info/SOURCES.txt\n",
      "./anaconda3/lib/python3.9/site-packages/pytest-7.1.2-py3.9.egg-info/SOURCES.txt\n",
      "./anaconda3/lib/python3.9/site-packages/PyDispatcher-2.0.5-py3.9.egg-info/SOURCES.txt\n",
      "./anaconda3/pkgs/protego-0.1.16-py_0/info/test/tests/top-10000-websites.txt\n",
      "./anaconda3/pkgs/astropy-5.1-py39h7deecbd_0/lib/python3.9/site-packages/astropy/io/ascii/tests/data/fixed_width_2_line.txt\n",
      "./anaconda3/pkgs/ply-3.11-py39h06a4308_0/lib/python3.9/site-packages/ply-3.11-py3.9.egg-info/SOURCES.txt\n",
      "./anaconda3/pkgs/ipython-7.31.1-py39h06a4308_1/lib/python3.9/site-packages/IPython/testing/plugin/test_exampleip.txt\n",
      "./anaconda3/pkgs/ipython-7.31.1-py39h06a4308_1/lib/python3.9/site-packages/IPython/testing/plugin/test_example.txt\n",
      "./anaconda3/pkgs/astroid-2.11.7-py39h06a4308_0/lib/python3.9/site-packages/astroid-2.11.7.dist-info/CONTRIBUTORS.txt\n",
      "./anaconda3/pkgs/binaryornot-0.4.4-pyhd3eb1b0_1/info/test/binaryornot.egg-info/SOURCES.txt\n",
      "./anaconda3/pkgs/pydispatcher-2.0.5-py39h06a4308_2/lib/python3.9/site-packages/PyDispatcher-2.0.5-py3.9.egg-info/SOURCES.txt\n",
      "./anaconda3/pkgs/pytest-7.1.2-py39h06a4308_0/lib/python3.9/site-packages/pytest-7.1.2-py3.9.egg-info/SOURCES.txt\n"
     ]
    }
   ],
   "source": [
    "%%bash\n",
    "find . -name \"*.txt\" -exec grep -l \"hello\" {} \\;"
   ]
  },
  {
   "cell_type": "markdown",
   "id": "710099e4",
   "metadata": {
    "slideshow": {
     "slide_type": "subslide"
    }
   },
   "source": [
    "<p align='justify' style='margin: 10px 20px; line-height:1.5; font-family: \"Times New Roman\", Times, serif; font-size:16px; color: black'>\n",
    "  This will search for all \".txt\" files in the current directory and its subdirectories, and then use \"grep\" to search for the word \"hello\" within each file. The \"-l\" option tells \"grep\" to print the names of the files that contain a match, rather than the lines of text that match. The \"{}\" and \"\\;\" are used to tell \"find\" to pass each file name to \"grep\" as an argument, and the \"-exec\" option tells find to execute the \"grep\" command for each file.\n",
    "\n",
    "</p><br><br>\n",
    "<h4 style='color:red; font-weight:bold; text-align:center; font-family: \"Times New Roman\", Times, serif; font-size:18px;'>Using pipes and redirection to connect commands  </h4><br>\n",
    "<p align='justify' style='margin: 10px 20px; line-height:1.5; font-family: \"Times New Roman\", Times, serif; font-size:16px; color: black'>\n",
    "  In Unix-like operating systems, the \"|\" symbol is used to pipe the output of one command into another as input. This allows you to chain multiple commands together and perform more complex tasks.<br><br><br><strong style = \"color: purple\">For example, you can use the \"grep\" command to search for a particular pattern in a file, and then use the \"sort\" command to sort the output of \"grep\":</strong>\n",
    "\n",
    "</p>"
   ]
  },
  {
   "cell_type": "code",
   "execution_count": null,
   "id": "885e5c8e",
   "metadata": {
    "slideshow": {
     "slide_type": "subslide"
    }
   },
   "outputs": [],
   "source": [
    "%%bash\n",
    "grep pattern file.txt | sort"
   ]
  },
  {
   "cell_type": "markdown",
   "id": "a76acde0",
   "metadata": {
    "slideshow": {
     "slide_type": "subslide"
    }
   },
   "source": [
    "<h4 style='color:red; font-weight:bold; text-align:center; font-family: \"Times New Roman\", Times, serif; font-size:18px;'>Using pipes and redirection to connect commands  </h4><br>\n",
    "<p align='justify' style='margin: 10px 20px; line-height:1.5; font-family: \"Times New Roman\", Times, serif; font-size:16px; color: black'>\n",
    "  This will search \"file.txt\" for lines containing the pattern \"pattern\", and then sort the output alphabetically.<br><br><br>You can also use the \">\" symbol to redirect the output of a command to a file. For example, the following command will save the output of the \"ls\" command to a file called \"listing.txt\":\n",
    "\n",
    "</p>"
   ]
  },
  {
   "cell_type": "code",
   "execution_count": null,
   "id": "98f0e99a",
   "metadata": {
    "slideshow": {
     "slide_type": "subslide"
    }
   },
   "outputs": [],
   "source": [
    "%%bash\n",
    "ls > listing.txt"
   ]
  },
  {
   "cell_type": "markdown",
   "id": "e256a036",
   "metadata": {
    "slideshow": {
     "slide_type": "subslide"
    }
   },
   "source": [
    "<p align='justify' style='margin: 10px 20px; line-height:1.5; font-family: \"Times New Roman\", Times, serif; font-size:16px; color: black'>\n",
    "  If the file \"listing.txt\" already exists, the output of \"ls\" will overwrite its contents. If the file does not exist, it will be created.<br><br>You can also use the \">>\" symbol to append the output of a command to a file, rather than overwriting its contents. For example:\n",
    "\n",
    "</p>"
   ]
  },
  {
   "cell_type": "code",
   "execution_count": 7,
   "id": "3a442867",
   "metadata": {
    "slideshow": {
     "slide_type": "subslide"
    }
   },
   "outputs": [],
   "source": [
    "%%bash\n",
    "ls >> listing.txt"
   ]
  },
  {
   "cell_type": "markdown",
   "id": "0f653144",
   "metadata": {
    "slideshow": {
     "slide_type": "subslide"
    }
   },
   "source": [
    "<p align='justify' style='margin: 10px 20px; line-height:1.5; font-family: \"Times New Roman\", Times, serif; font-size:16px; color: purple'>\n",
    "  This will add the output of the \"ls\" command to the end of the \"listing.txt\" file, rather than replacing its contents.<br><br>Pipes and redirection are powerful tools that allow you to combine and manipulate the output of multiple commands in complex ways.\n",
    "\n",
    "</p>"
   ]
  },
  {
   "cell_type": "markdown",
   "id": "dde5fa57",
   "metadata": {
    "slideshow": {
     "slide_type": "subslide"
    }
   },
   "source": [
    "<h3 style='color:red; font-weight:bold; text-align:center; font-family: \"Times New Roman\", Times, serif; font-size:20px;'>Exercise 1: Basic Unix and Linux commands </h3><br>\n",
    "<p align='justify' style='margin: 10px 20px; line-height:1.5; font-family: \"Times New Roman\", Times, serif; font-size:16px; color: purple'>\n",
    "    \n",
    "    \n",
    "  <ul style='font-family: \"Times New Roman\", Times, serif; font-weight:light; font-size:16px;'>\n",
    "      <li>Q1. Can the \"pwd\" command be used to display the relative path of the current working directory, rather than the absolute path? If so, how?</li>\n",
    "      <li>Q2. Is it possible to use wildcards with the \"cd\" command to change to a directory that partially matches a specific pattern?</li>\n",
    "      <li>Q3. How can I use the ls command to view the contents of a specific directory, rather than the current working directory?</li>\n",
    "      <li>Q4. Is it possible to use the mkdir command to create a new directory with a specific set of permissions? If so, how do I specify the desired permissions?</li>\n",
    "      <li>Q5. How can I use the cp command to copy a file from one location to another, while preserving the original file's modification time and permissions?</li>\n",
    "      <li>Q6. Can the mkdir command be used to create a directory hierarchy, rather than just a single directory? If so, how?</li>\n",
    "      <li>Q7. Can the less command be used to search for a specific string of text within a file? If so, how do I specify the string that I want to search for?</li>\n",
    "      <li>Q8. Can the less command be used to navigate through a file, rather than just view it from start to finish? If so, how do I move forward and backward through the file?</li>\n",
    "      <li>Q9. Can the head command be used to display a specific number of lines from the middle or end of a file, rather than just the beginning? If so, how do I specify the line range that I want to view?</li>\n",
    "      <li>Q10. Can the grep command be used to search for text that matches a specific case-sensitivity? If so, how do I specify whether the search should be case-sensitive or case-insensitive?</li>\n",
    "    \n",
    "    \n",
    "  </ul>\n",
    "</p>"
   ]
  },
  {
   "cell_type": "markdown",
   "id": "c65423f2",
   "metadata": {
    "slideshow": {
     "slide_type": "slide"
    }
   },
   "source": [
    "<h2 style='color:red; font-weight:bold; text-align:center; font-family: \"Times New Roman\", Times, serif; font-size:22px;'>CHAPTER TWO: ADVANCED UNIX AND LINUX COMMANDS </h2><br>\n",
    "<img src=\"753913-1592866338975-16x9.jpg\" width=\"150\" height=\"250\" style=\"float: left; margin-right: 20px; margin-left: 20px;\">\n",
    "<p align='justify' style='margin: 10px 20px; line-height:1.5; font-family: \"Times New Roman\", Times, serif; font-size:16px; color: purple'>\n",
    "  Commands are ways or instructions through which you can instruct your system to do some action. Commands are executed in the command line as already explained in the previous lesson. In this section we will see some advanced shell commands and how we can use them\n",
    "\n",
    "</p><br><br>\n",
    "<p align='justify' style='margin: 10px 20px; line-height:1.5; font-family: \"Times New Roman\", Times, serif; font-size:16px; color: purple'>\n",
    "    <strong style = \"color: black\">Here are some advanced Unix and Linux commands that you may find useful:</strong>\n",
    "    \n",
    "  <ul style='font-family: \"Times New Roman\", Times, serif; font-weight:light; font-size:16px;'>\n",
    "      <li><strong style = \"color: purple\">grep: </strong> search for patterns in text and print matching lines</li>\n",
    "      <li><strong style = \"color: purple\">sed: </strong> edit files by replacing, inserting, or deleting text</li>\n",
    "      <li><strong style = \"color: purple\">awk: </strong> process text files and perform actions based on patterns</li>\n",
    "      <li><strong style = \"color: purple\">find: </strong> search for files in a directory hierarchy</li>\n",
    "      <li><strong style = \"color: purple\">tar: </strong> archive and compress files</li>\n",
    "      <li><strong style = \"color: purple\">rsync: </strong>synchronize files between two systems</li>\n",
    "      <li><strong style = \"color: purple\">ssh: </strong> remotely log in to and control another system</li>\n",
    "      <li><strong style = \"color: purple\">scp: </strong>securely copy files between systems</li>\n",
    "      <li><strong style = \"color: purple\"> cron:  </strong>schedule tasks to be performed automatically</li>\n",
    "      <li><strong style = \"color: purple\"> bash: </strong>the Bourne-Again Shell, a powerful command-line interpreter\n",
    "</li>\n",
    "    \n",
    "    \n",
    "  </ul>\n",
    "</p><br>\n",
    "<p align='justify' style='margin: 10px 20px; line-height:1.5; font-family: \"Times New Roman\", Times, serif; font-size:16px; color: purple'>\n",
    "  These are just a few examples, and there are many other advanced Unix and Linux commands available. It's a good idea to familiarize yourself with the manual pages (man pages) for these and other commands, as they contain detailed information on how to use them.  \n",
    "\n",
    "</p>"
   ]
  },
  {
   "cell_type": "markdown",
   "id": "8f1144f3",
   "metadata": {
    "slideshow": {
     "slide_type": "subslide"
    }
   },
   "source": [
    "<h3 style='color:red; font-weight:bold; text-align:center; font-family: \"Times New Roman\", Times, serif; font-size:20px;'>Managing processes with ps, top, and kill  </h3><br>\n",
    "<img src=\"process-management.png\" width=\"150\" height=\"250\" style=\"float: left; margin-right: 20px; margin-left: 20px;\">\n",
    "<p align='justify' style='margin: 10px 20px; line-height:1.5; font-family: \"Times New Roman\", Times, serif; font-size:16px; color: purple'>\n",
    "  The \"ps\" command is used to display information about processes that are currently running on the system. It is often used in conjunction with the \"grep\" command to search for specific processes by name. For example, the following command will display information about all processes with the name \"httpd\" (the Apache HTTP Server daemon):\n",
    "\n",
    "</p>"
   ]
  },
  {
   "cell_type": "code",
   "execution_count": 8,
   "id": "5175a0ae",
   "metadata": {
    "slideshow": {
     "slide_type": "subslide"
    }
   },
   "outputs": [
    {
     "name": "stdout",
     "output_type": "stream",
     "text": [
      "sark     2669842  0.0  0.0  17864  2412 ?        S    20:53   0:00 grep httpd\n"
     ]
    }
   ],
   "source": [
    "%%bash\n",
    "ps aux | grep httpd"
   ]
  },
  {
   "cell_type": "markdown",
   "id": "dc390a62",
   "metadata": {
    "slideshow": {
     "slide_type": "subslide"
    }
   },
   "source": [
    "<p align='justify' style='margin: 10px 20px; line-height:1.5; font-family: \"Times New Roman\", Times, serif; font-size:16px; color: black'>\n",
    "  The \"top\" command is an interactive tool that displays information about the running processes on a system, including the process ID, the user that owns the process, the CPU and memory usage of the process, and the command that was used to start the process. You can use the \"top\" command to monitor the resource usage of your system in real-time, or to identify processes that may be causing problems on your system.\n",
    "\n",
    "\n",
    "</p><br>\n",
    "<p align='justify' style='margin: 10px 20px; line-height:1.5; font-family: \"Times New Roman\", Times, serif; font-size:16px; color: black'>\n",
    "  The \"kill\" command is used to send a signal to a process to terminate it. By default, the \"kill\" command sends the \"SIGTERM\" signal to the process, which allows the process to clean up any resources it is using before it exits. However, you can also use the \"kill\" command to send other signals to a process, such as the \"SIGKILL\" signal, which forces the process to terminate immediately.\n",
    "\n",
    "\n",
    "</p><br>\n",
    "<p align='justify' style='margin: 10px 20px; line-height:1.5; font-family: \"Times New Roman\", Times, serif; font-size:16px; color: black'>\n",
    "  To use the \"kill\" command, you will need the process ID of the process you want to terminate. You can use the \"ps\" command to find the process ID of a process, or you can use the top command to find the process ID and other information about the process. Once you have the process ID, you can use the \"kill\" command to terminate the process like this: <br><br><br><strong>kill [process ID] </strong><br><br><br><strong style = \"color: purple\"> For example, to kill a process with the process ID 123, you would run the following command:</strong>\n",
    "\n",
    "\n",
    "</p>"
   ]
  },
  {
   "cell_type": "code",
   "execution_count": 10,
   "id": "394364aa",
   "metadata": {
    "slideshow": {
     "slide_type": "subslide"
    }
   },
   "outputs": [],
   "source": [
    "%%bash\n",
    "#kill 123"
   ]
  },
  {
   "cell_type": "markdown",
   "id": "ed7f4355",
   "metadata": {
    "slideshow": {
     "slide_type": "subslide"
    }
   },
   "source": [
    "<h3 style='color:red; font-weight:bold; text-align:center; font-family: \"Times New Roman\", Times, serif; font-size:20px;'>Working with users and groups with useradd, usermod, groupadd, and chgrp </h3><br>\n",
    "<img src=\"hqdefault (4).jpg\" width=\"150\" height=\"250\" style=\"float: left; margin-right: 20px; margin-left: 20px;\">\n",
    "<p align='justify' style='margin: 10px 20px; line-height:1.5; font-family: \"Times New Roman\", Times, serif; font-size:16px; color: purpl\"e'>\n",
    "  The \"useradd\", \"usermod\", \"groupadd\", and \"chgrp\" commands are used to manage users and groups.\n",
    "\n",
    "</p>\n",
    "<p align='justify' style='margin: 10px 20px; line-height:1.5; font-family: \"Times New Roman\", Times, serif; font-size:16px; color: black'>\n",
    "  \"useradd\" is used to create a new user account. It takes a number of options that allow you to specify the user's name, home directory, login shell, and other information. For example, the following command creates a new user with the username john:\n",
    "\n",
    "</p>"
   ]
  },
  {
   "cell_type": "code",
   "execution_count": 13,
   "id": "1abdf5b6",
   "metadata": {
    "slideshow": {
     "slide_type": "subslide"
    }
   },
   "outputs": [],
   "source": [
    "%%bash\n",
    "#useradd john"
   ]
  },
  {
   "cell_type": "markdown",
   "id": "4e7bb48c",
   "metadata": {
    "slideshow": {
     "slide_type": "subslide"
    }
   },
   "source": [
    "<p align='justify' style='margin: 10px 20px; line-height:1.5; font-family: \"Times New Roman\", Times, serif; font-size:16px; color: black'>\n",
    "  \"usermod\" is used to modify an existing user account. It also takes a number of options that allow you to change the user's name, home directory, login shell, and other information. For example, the following command changes the login shell for the user john to /bin/bash:\n",
    "\n",
    "</p>"
   ]
  },
  {
   "cell_type": "code",
   "execution_count": 14,
   "id": "761ec31a",
   "metadata": {
    "slideshow": {
     "slide_type": "subslide"
    }
   },
   "outputs": [],
   "source": [
    "%%bash\n",
    "#usermod -s /bin/bash john"
   ]
  },
  {
   "cell_type": "markdown",
   "id": "feb0a4e8",
   "metadata": {
    "slideshow": {
     "slide_type": "subslide"
    }
   },
   "source": [
    "<p align='justify' style='margin: 10px 20px; line-height:1.5; font-family: \"Times New Roman\", Times, serif; font-size:16px; color: black'>\n",
    "  \"groupadd\" is used to create a new group. It takes a group name as an argument. For example, the following command creates a new group with the name developers:\n",
    "\n",
    "</p>"
   ]
  },
  {
   "cell_type": "code",
   "execution_count": 15,
   "id": "c1c44ae7",
   "metadata": {
    "slideshow": {
     "slide_type": "subslide"
    }
   },
   "outputs": [],
   "source": [
    "%%bash\n",
    "#groupadd developers"
   ]
  },
  {
   "cell_type": "markdown",
   "id": "60700a02",
   "metadata": {
    "slideshow": {
     "slide_type": "subslide"
    }
   },
   "source": [
    "<p align='justify' style='margin: 10px 20px; line-height:1.5; font-family: \"Times New Roman\", Times, serif; font-size:16px; color: black'>\n",
    "  \"chgrp\" is used to change the group ownership of a file or directory. It takes a group name and a file or directory name as arguments. For example, the following command changes the group ownership of the file file.txt to the group developers:\n",
    "\n",
    "</p>"
   ]
  },
  {
   "cell_type": "code",
   "execution_count": 16,
   "id": "3efd3d7f",
   "metadata": {
    "slideshow": {
     "slide_type": "subslide"
    }
   },
   "outputs": [],
   "source": [
    "%%bash\n",
    "#chgrp developers file.txt"
   ]
  },
  {
   "cell_type": "markdown",
   "id": "e260c842",
   "metadata": {
    "slideshow": {
     "slide_type": "subslide"
    }
   },
   "source": [
    "<p align='justify' style='margin: 10px 20px; line-height:1.5; font-family: \"Times New Roman\", Times, serif; font-size:16px; color: purple'>\n",
    "  It's important to note that these commands must be run as the root user, or with sudo, in order to have the necessary privileges to modify user and group information.\n",
    "\n",
    "</p><br>\n",
    "<h3 style='color:red; font-weight:bold; text-align:center; font-family: \"Times New Roman\", Times, serif; font-size:20px;'>Customizing the shell with environment variables and aliases </h3><br>\n",
    "<img src=\"Linux-Environment-Variables.jpg\" width=\"150\" height=\"250\" style=\"float: left; margin-right: 20px; margin-left: 20px;\">\n",
    "<p align='justify' style='margin: 10px 20px; line-height:1.5; font-family: \"Times New Roman\", Times, serif; font-size:16px; color: purple'>\n",
    "  Environment variables are variables that can be used to store information that can be used by the shell or other programs. They are often used to store information such as the location of executables, the location of configuration files, or other information that may be needed by programs.\n",
    "</p><br><br>\n",
    "<p align='justify' style='margin: 10px 20px; line-height:1.5; font-family: \"Times New Roman\", Times, serif; font-size:16px; color: black'>\n",
    "  Aliases are short names that can be used in place of longer commands. They can be used to simplify commonly used commands, or to create custom commands that perform a series of actions.\n",
    "</p><br><br>\n",
    "<p align='justify' style='margin: 10px 20px; line-height:1.5; font-family: \"Times New Roman\", Times, serif; font-size:16px; color: purple'>\n",
    "  To set an environment variable in the current shell, you can use the export command. For example, to set the EDITOR variable to nano, you would use the following command:\n",
    "</p>"
   ]
  },
  {
   "cell_type": "code",
   "execution_count": 17,
   "id": "14daac05",
   "metadata": {
    "slideshow": {
     "slide_type": "subslide"
    }
   },
   "outputs": [],
   "source": [
    "%%bash\n",
    "#export EDITOR=nano"
   ]
  },
  {
   "cell_type": "markdown",
   "id": "3d6c1c62",
   "metadata": {
    "slideshow": {
     "slide_type": "subslide"
    }
   },
   "source": [
    "<p align='justify' style='margin: 10px 20px; line-height:1.5; font-family: \"Times New Roman\", Times, serif; font-size:16px; color: black'>\n",
    "  To set an alias, you can use the alias command. For example, to create an alias for the ls command that includes the -l and -a flags by default, you would use the following command:\n",
    "</p>"
   ]
  },
  {
   "cell_type": "code",
   "execution_count": 18,
   "id": "7c3e74ad",
   "metadata": {
    "slideshow": {
     "slide_type": "subslide"
    }
   },
   "outputs": [],
   "source": [
    "%%bash\n",
    "#alias ls='ls -la'"
   ]
  },
  {
   "cell_type": "markdown",
   "id": "f6a491e3",
   "metadata": {
    "slideshow": {
     "slide_type": "subslide"
    }
   },
   "source": [
    "<p align='justify' style='margin: 10px 20px; line-height:1.5; font-family: \"Times New Roman\", Times, serif; font-size:16px; color: black'>\n",
    "  To make these changes permanent, you can add them to your shell's configuration file. For the Bash shell, this is typically the .bashrc file in your home directory. For the Z shell, this is typically the .zshrc file in your home directory.\n",
    "</p><br>\n",
    "<p align='justify' style='margin: 10px 20px; line-height:1.5; font-family: \"Times New Roman\", Times, serif; font-size:16px; color: purple'>\n",
    "  You can also set environment variables and create aliases in the system-wide configuration files. On most systems, these are located in the /etc directory. However, it is generally best to set these variables and aliases in the user's configuration files, as system-wide changes may affect all users on the system.\n",
    "</p>\n",
    "\n",
    "<h3 style='color:red; font-weight:bold; text-align:center; font-family: \"Times New Roman\", Times, serif; font-size:20px;'> Using text editors like nano, vi and emacs</h3><br>\n",
    "<img src=\"best-command-line-text-editor-scaled.jpg\" width=\"150\" height=\"250\" style=\"float: left; margin-right: 20px; margin-left: 20px;\">\n",
    "<p align='justify' style='margin: 10px 20px; line-height:1.5; font-family: \"Times New Roman\", Times, serif; font-size:16px; color: black'>\n",
    "  Nano is a simple and easy-to-use text editor that is often included by default on Unix-like systems such as Linux and macOS. It is a good choice for users who are new to text editors or who need to make basic edits to text files. Nano has a straightforward interface and includes on-screen prompts and shortcuts to help users navigate and perform common tasks.\n",
    "</p><br>\n",
    "<p align='justify' style='margin: 10px 20px; line-height:1.5; font-family: \"Times New Roman\", Times, serif; font-size:16px; color: black'>\n",
    "  Vi and Emacs are more advanced text editors that are widely used by programmers and system administrators. Vi is a compact and efficient editor that is known for its speed and versatility. It is a modal editor, which means that it has different modes for inserting and editing text, as well as for issuing commands. Emacs is a more feature-rich editor that is known for its extensibility and customization options. It includes a wide range of features such as a built-in programming language, support for multiple buffers, and integration with a variety of tools and services. Like Vi, Emacs is a modal editor, but it has a more complex mode system and a larger set of commands.\n",
    "</p><br>\n",
    "<p align='justify' style='margin: 10px 20px; line-height:1.5; font-family: \"Times New Roman\", Times, serif; font-size:16px; color: purple'>\n",
    "  If you are new to text editors, you may want to start with Nano and then move on to Vi or Emacs once you are more comfortable with the basics. Both Vi and Emacs have a steep learning curve and can take some time to master, but they are powerful tools that are widely used by experienced programmers and system administrators.\n",
    "</p>"
   ]
  },
  {
   "cell_type": "markdown",
   "id": "5155e2d4",
   "metadata": {
    "slideshow": {
     "slide_type": "subslide"
    }
   },
   "source": [
    "<h3 style='color:red; font-weight:bold; text-align:center; font-family: \"Times New Roman\", Times, serif; font-size:20px;'> Using cron and at to schedule tasks</h3><br>\n",
    "<img src=\"crontab.png\" width=\"150\" height=\"250\" style=\"float: left; margin-right: 20px; margin-left: 20px;\">\n",
    "<p align='justify' style='margin: 10px 20px; line-height:1.5; font-family: \"Times New Roman\", Times, serif; font-size:16px; color: purple'>\n",
    "  Cron and at are two tools that can be used to schedule tasks to run automatically at a specified time or interval. Cron is a daemon that runs on Unix-like systems such as Linux and macOS. It allows users to schedule tasks to run automatically in the background at a specified time or interval. \n",
    "</p><br>\n",
    "<p align='justify' style='margin: 10px 20px; line-height:1.5; font-family: \"Times New Roman\", Times, serif; font-size:16px; color: black'>\n",
    "  To use cron, you will need to create a crontab file that specifies the tasks to be run and the schedule on which they should be run. Each line in the crontab file represents a separate task and consists of six fields: minute, hour, day of month, month, day of week, and the command to be run. For example, to run a task every day at midnight, you could use the following entry in your crontab file:\n",
    "</p>"
   ]
  },
  {
   "cell_type": "code",
   "execution_count": 19,
   "id": "91f239f2",
   "metadata": {
    "slideshow": {
     "slide_type": "subslide"
    }
   },
   "outputs": [],
   "source": [
    "%%bash\n",
    "#0 0 * * * /path/to/command"
   ]
  },
  {
   "cell_type": "markdown",
   "id": "1d463742",
   "metadata": {
    "slideshow": {
     "slide_type": "subslide"
    }
   },
   "source": [
    "<p align='justify' style='margin: 10px 20px; line-height:1.5; font-family: \"Times New Roman\", Times, serif; font-size:16px; color: black'>\n",
    "    <strong>At</strong> is a command-line utility that allows you to schedule a task to run once at a specific time in the future. To use at, you will need to specify the time and date at which you want the task to run, and then enter the commands to be run in an interactive shell. For example, to run a task at 3:00 PM on December 25th, you could use the following command: \n",
    "</p>"
   ]
  },
  {
   "cell_type": "code",
   "execution_count": 20,
   "id": "eaea3ec9",
   "metadata": {
    "slideshow": {
     "slide_type": "subslide"
    }
   },
   "outputs": [],
   "source": [
    "%%bash\n",
    "# at 3:00 PM Dec 25"
   ]
  },
  {
   "cell_type": "markdown",
   "id": "d08162cd",
   "metadata": {
    "slideshow": {
     "slide_type": "subslide"
    }
   },
   "source": [
    "<p align='justify' style='margin: 10px 20px; line-height:1.5; font-family: \"Times New Roman\", Times, serif; font-size:16px; color: purple'>\n",
    "    Both cron and at are useful tools for automating tasks on a Unix-like system. They can be used to perform a wide range of tasks, such as running backups, sending emails, or updating system software.\n",
    "</p><br>\n",
    "<h3 style='color:red; font-weight:bold; text-align:center; font-family: \"Times New Roman\", Times, serif; font-size:20px;'>Exercise 2: Advanced Unix and Linux commands </h3><br>\n",
    "<p align='justify' style='margin: 10px 20px; line-height:1.5; font-family: \"Times New Roman\", Times, serif; font-size:16px; color: purple'>\n",
    "    \n",
    "    \n",
    "  <ul style='font-family: \"Times New Roman\", Times, serif; font-weight:light; font-size:16px;'>\n",
    "      <li>Q1. How can you use the ps command to list all processes running on a system?</li>\n",
    "      <li>Q2. How can you use the top command to view and manage processes on a system?</li>\n",
    "      <li>Q3. What is the syntax for using the kill command to terminate a process?</li>\n",
    "      <li>Q4. How can you use the ps command to find the process ID (PID) of a specific process?</li>\n",
    "      <li>Q5. Can you use the kill command to terminate multiple processes at the same time? If so, how?</li>\n",
    "      <li>Q6. What is the syntax for using the usermod command to modify the properties of an existing user?</li>\n",
    "      <li>Q7. How can you use the groupadd command to create a new group on a system?</li>\n",
    "      <li>Q8. What is the syntax for using the chgrp command to change the group ownership of a file or directory?</li>\n",
    "      <li>Q9. Can you use the useradd command to add a user to multiple groups at the same time? If so, how?</li>\n",
    "      <li>Q10. How can you create and view aliases in the shell?</li>\n",
    "    \n",
    "    \n",
    "  </ul>\n",
    "</p>"
   ]
  },
  {
   "cell_type": "markdown",
   "id": "a198c793",
   "metadata": {
    "slideshow": {
     "slide_type": "slide"
    }
   },
   "source": [
    "<h2 style='color:red; font-weight:bold; text-align:center; font-family: \"Times New Roman\", Times, serif; font-size:22px;'> CHAPTER THREE: SHELL SCRIPTING</h2><br>\n",
    "<img src=\"Introduction-To-Shell-Scripting.jpg\" width=\"150\" height=\"250\" style=\"float: left; margin-right: 20px; margin-left: 20px;\">\n",
    "<p align='justify' style='margin: 10px 20px; line-height:1.5; font-family: \"Times New Roman\", Times, serif; font-size:16px; color: purple'>\n",
    "  Cron and at are two tools that can be used to schedule tasks to run automatically at a specified time or interval. Cron is a daemon that runs on Unix-like systems such as Linux and macOS. It allows users to schedule tasks to run automatically in the background at a specified time or interval. \n",
    "</p><br><br>\n",
    "<p align='justify' style='margin: 10px 20px; line-height:1.5; font-family: \"Times New Roman\", Times, serif; font-size:16px; color: black'>\n",
    "  Shell scripts can be used to automate a wide range of tasks, such as setting up a development environment, building and deploying software, running tests, and performing system maintenance. \n",
    "</p><br>\n",
    "<p align='justify' style='margin: 10px 20px; line-height:1.5; font-family: \"Times New Roman\", Times, serif; font-size:16px; color: black'>\n",
    "  To create a shell script, you can use a text editor such as vi, emacs, or nano. The first line of the script should specify which shell to use, using the \"#!\" syntax. For example, the first line of a bash script might look like this:<br><br><strong>#!/bin/bash</strong>\n",
    "\n",
    " \n",
    "</p><br>\n",
    "<p align='justify' style='margin: 10px 20px; line-height:1.5; font-family: \"Times New Roman\", Times, serif; font-size:16px; color: black'>\n",
    "  This tells the system that the script should be executed using the bash shell. After the first line, you can enter any shell commands you want to include in the script. For example, the following script prints \"Hello, world!\" to the terminal:\n",
    " \n",
    "</p><br><br>\n",
    "<p align='justify' style='margin: 10px 20px; line-height:1.5; font-family: \"Times New Roman\", Times, serif; font-size:16px; color: purple'>\n",
    "  NOTE: From here onwards, i will write the script, show the content of my script with explanations. make sure to write all the scripts in this tutorial and atleast try rewriting them without looking hat my script. Remember the command you learnt in the previous chapter to view the content of a file.\n",
    " \n",
    "</p>"
   ]
  },
  {
   "cell_type": "code",
   "execution_count": 21,
   "id": "8d480fde",
   "metadata": {
    "slideshow": {
     "slide_type": "subslide"
    }
   },
   "outputs": [
    {
     "name": "stdout",
     "output_type": "stream",
     "text": [
      "#!/bin/bash\n",
      "echo \"Hello, world!\"\n"
     ]
    }
   ],
   "source": [
    "%%bash\n",
    "cat script_1.sh"
   ]
  },
  {
   "cell_type": "markdown",
   "id": "9969d8ab",
   "metadata": {
    "slideshow": {
     "slide_type": "subslide"
    }
   },
   "source": [
    "<p align='justify' style='margin: 10px 20px; line-height:1.5; font-family: \"Times New Roman\", Times, serif; font-size:16px; color: purple'>\n",
    "  To run the script, make it executable using the chmod command and then run it like any other command:\n",
    " \n",
    "</p>"
   ]
  },
  {
   "cell_type": "code",
   "execution_count": 22,
   "id": "f3b7f451",
   "metadata": {
    "slideshow": {
     "slide_type": "subslide"
    }
   },
   "outputs": [],
   "source": [
    "%%bash\n",
    "chmod +x script_1.sh"
   ]
  },
  {
   "cell_type": "code",
   "execution_count": 23,
   "id": "7fb11270",
   "metadata": {
    "slideshow": {
     "slide_type": "subslide"
    }
   },
   "outputs": [
    {
     "name": "stdout",
     "output_type": "stream",
     "text": [
      "Hello, world!\n"
     ]
    }
   ],
   "source": [
    "%%bash\n",
    "./script_1.sh"
   ]
  },
  {
   "cell_type": "markdown",
   "id": "e6cc3362",
   "metadata": {
    "slideshow": {
     "slide_type": "subslide"
    }
   },
   "source": [
    "<p align='justify' style='margin: 10px 20px; line-height:1.5; font-family: \"Times New Roman\", Times, serif; font-size:16px; color: purple'>\n",
    "  Shell scripts can also include shell variables, control structures (such as if statements and for loops), and functions. You can use command line arguments to pass information to the script, and you can use standard input and output to read from and write to the terminal. \n",
    " \n",
    "</p><br>\n",
    "<h3 style='color:red; font-weight:bold; text-align:center; font-family: \"Times New Roman\", Times, serif; font-size:20px;'> Using variables, control flow, and loops in shell scripts</h3><br>\n",
    "<img src=\"Introduction-To-Shell-Scripting.jpg\" width=\"150\" height=\"250\" style=\"float: left; margin-right: 20px; margin-left: 20px;\"><br><br>\n",
    "<p align='justify' style='margin: 10px 20px; line-height:1.5; font-family: \"Times New Roman\", Times, serif; font-size:16px; color: black'>\n",
    "  You can use variables to store and manipulate data. To create a variable, you can use the assignment operator \"=\" and put the variable name on the left side and the value on the right side. For example:  \n",
    "</p>"
   ]
  },
  {
   "cell_type": "code",
   "execution_count": 24,
   "id": "5a188b2b",
   "metadata": {
    "slideshow": {
     "slide_type": "subslide"
    }
   },
   "outputs": [
    {
     "name": "stdout",
     "output_type": "stream",
     "text": [
      "# Declare a variable called MESSAGE and assign it a value\n",
      "MESSAGE=\"Hello, World!\"\n",
      "\n",
      "# Print the value of the MESSAGE variable\n",
      "echo $MESSAGE\n"
     ]
    }
   ],
   "source": [
    "%%bash\n",
    "cat variable_1.sh"
   ]
  },
  {
   "cell_type": "code",
   "execution_count": 28,
   "id": "9295a5be",
   "metadata": {
    "slideshow": {
     "slide_type": "subslide"
    }
   },
   "outputs": [
    {
     "name": "stdout",
     "output_type": "stream",
     "text": [
      "Hello, World!\n"
     ]
    }
   ],
   "source": [
    "%%bash\n",
    "bash variable_1.sh"
   ]
  },
  {
   "cell_type": "markdown",
   "id": "0d50419c",
   "metadata": {
    "slideshow": {
     "slide_type": "subslide"
    }
   },
   "source": [
    "<p align='justify' style='margin: 10px 20px; line-height:1.5; font-family: \"Times New Roman\", Times, serif; font-size:16px; color: black'>\n",
    "  You can also use control flow statements such as if, else, and elif to execute different blocks of code based on certain conditions. For example: \n",
    "</p>"
   ]
  },
  {
   "cell_type": "code",
   "execution_count": 25,
   "id": "c2ccac89",
   "metadata": {
    "slideshow": {
     "slide_type": "subslide"
    }
   },
   "outputs": [
    {
     "name": "stdout",
     "output_type": "stream",
     "text": [
      "# Declare a variable called NUMBER and assign it a value\n",
      "NUMBER=5\n",
      "\n",
      "# Check if NUMBER is greater than 3\n",
      "if [ $NUMBER -gt 3 ]\n",
      "then\n",
      "  # If NUMBER is greater than 3, print a message\n",
      "  echo \"NUMBER is greater than 3\"\n",
      "else\n",
      "  # If NUMBER is not greater than 3, print a different message\n",
      "  echo \"NUMBER is not greater than 3\"\n",
      "fi\n"
     ]
    }
   ],
   "source": [
    "%%bash\n",
    "cat controlflow_1.sh"
   ]
  },
  {
   "cell_type": "markdown",
   "id": "30abe86b",
   "metadata": {
    "slideshow": {
     "slide_type": "subslide"
    }
   },
   "source": [
    "<p align='justify' style='margin: 10px 20px; line-height:1.5; font-family: \"Times New Roman\", Times, serif; font-size:16px; color: black'>\n",
    "  You can use loops to execute a block of code multiple times. The for loop is used to iterate over a list of values, and the while loop is used to execute a block of code as long as a certain condition is true.<br><br><strong>For example:</strong>\n",
    "</p>"
   ]
  },
  {
   "cell_type": "code",
   "execution_count": 26,
   "id": "65981c18",
   "metadata": {
    "slideshow": {
     "slide_type": "subslide"
    }
   },
   "outputs": [
    {
     "name": "stdout",
     "output_type": "stream",
     "text": [
      "# Use a for loop to iterate over a list of numbers\n",
      "for NUMBER in 1 2 3 4 5\n",
      "do\n",
      "  # Print the current number\n",
      "  echo $NUMBER\n",
      "done\n",
      "\n",
      "# Use a while loop to print the numbers from 1 to 5\n",
      "COUNT=1\n",
      "while [ $COUNT -le 5 ]\n",
      "do\n",
      "  echo $COUNT\n",
      "  COUNT=$((COUNT+1))\n",
      "done\n"
     ]
    }
   ],
   "source": [
    "%%bash\n",
    "cat loops_1.sh"
   ]
  },
  {
   "cell_type": "code",
   "execution_count": 29,
   "id": "95a88330",
   "metadata": {
    "slideshow": {
     "slide_type": "subslide"
    }
   },
   "outputs": [],
   "source": [
    "%%bash\n",
    "#bash loops_1.sh"
   ]
  },
  {
   "cell_type": "markdown",
   "id": "ef005c58",
   "metadata": {
    "slideshow": {
     "slide_type": "subslide"
    }
   },
   "source": [
    "<p align='justify' style='margin: 10px 20px; line-height:1.5; font-family: \"Times New Roman\", Times, serif; font-size:16px; color: black'>\n",
    "  The \"until\" loop is a control structure in bash and other shells that allows you to execute a block of code repeatedly until a particular condition is met. <br><br><strong><br>The syntax for an until loop is as follows:</strong>\n",
    "</p>"
   ]
  },
  {
   "cell_type": "code",
   "execution_count": null,
   "id": "770e8412",
   "metadata": {
    "slideshow": {
     "slide_type": "subslide"
    }
   },
   "outputs": [],
   "source": [
    "%%bash\n",
    "until condition\n",
    "do\n",
    "    # code to be executed\n",
    "done"
   ]
  },
  {
   "cell_type": "markdown",
   "id": "1f89707a",
   "metadata": {
    "slideshow": {
     "slide_type": "subslide"
    }
   },
   "source": [
    "<p align='justify' style='margin: 10px 20px; line-height:1.5; font-family: \"Times New Roman\", Times, serif; font-size:16px; color: black'>\n",
    "  The condition is evaluated at the beginning of each iteration, and if it is false, the block of code is executed. Once the condition becomes true, the loop is exited.<br><br><br>The case statement is a control structure that allows you to perform different actions based on the value of a variable or expression. The syntax for a case statement is as follows:\n",
    "\n",
    "\n",
    "</p>"
   ]
  },
  {
   "cell_type": "code",
   "execution_count": null,
   "id": "139f5453",
   "metadata": {
    "slideshow": {
     "slide_type": "subslide"
    }
   },
   "outputs": [],
   "source": [
    "%%bash\n",
    "case expression in\n",
    "pattern1)\n",
    "    # code to be executed if expression matches pattern1\n",
    "    ;;\n",
    "pattern2)\n",
    "    # code to be executed if expression matches pattern2\n",
    "    ;;\n",
    "esac"
   ]
  },
  {
   "cell_type": "markdown",
   "id": "46da6aa1",
   "metadata": {
    "slideshow": {
     "slide_type": "subslide"
    }
   },
   "source": [
    "<p align='justify' style='margin: 10px 20px; line-height:1.5; font-family: \"Times New Roman\", Times, serif; font-size:16px; color: black'>\n",
    "  The \"in\" keyword is used to separate the expression being tested from the patterns that will be matched against it. The \";;\" characters are used to separate the different patterns, and the \"esac\" keyword marks the end of the \"case\" statement.<br><br><br>The \"case\" statement is often used in conjunction with the \";;&\" operator, which allows you to match multiple patterns in a single case statement. <br><br><br>For example:\n",
    "\n",
    "\n",
    "</p>"
   ]
  },
  {
   "cell_type": "code",
   "execution_count": null,
   "id": "48ea46d1",
   "metadata": {
    "slideshow": {
     "slide_type": "subslide"
    }
   },
   "outputs": [],
   "source": [
    "%%bash\n",
    "case expression in\n",
    "pattern1|pattern2)\n",
    "    # code to be executed if expression matches pattern1 or pattern2\n",
    "    ;;&\n",
    "pattern3)\n",
    "    # code to be executed if expression matches pattern3\n",
    "    ;;\n",
    "esac"
   ]
  },
  {
   "cell_type": "markdown",
   "id": "b601753e",
   "metadata": {
    "slideshow": {
     "slide_type": "subslide"
    }
   },
   "source": [
    "<p align='justify' style='margin: 10px 20px; line-height:1.5; font-family: \"Times New Roman\", Times, serif; font-size:16px; color: black'>\n",
    "  In this example, the code block following the \"pattern1|pattern2)\" line will be executed if \"expression\" matches either \"pattern1\" or \"pattern2\", and the code block following the \"pattern3)\" line will be executed if \"expression\" matches \"pattern3\".\n",
    "</p><br><br>\n",
    "<h3 style='color:red; font-weight:bold; text-align:center; font-family: \"Times New Roman\", Times, serif; font-size:20px;'>Exercise 3: Shell Scripting </h3><br>\n",
    "<p align='justify' style='margin: 10px 20px; line-height:1.5; font-family: \"Times New Roman\", Times, serif; font-size:16px; color: purple'>\n",
    "    \n",
    "    \n",
    "  <ul style='font-family: \"Times New Roman\", Times, serif; font-weight:light; font-size:16px;'>\n",
    "      <li>Q1.</li>\n",
    "      <li>Q2.</li>\n",
    "    \n",
    "    \n",
    "  </ul>\n",
    "</p>"
   ]
  },
  {
   "cell_type": "markdown",
   "id": "bffdd8a0",
   "metadata": {
    "slideshow": {
     "slide_type": "subslide"
    }
   },
   "source": [
    "<h3 style='color:red; font-weight:bold; text-align:center; font-family: \"Times New Roman\", Times, serif; font-size:20px;'>Using Tables in Shell Scripting</h3><br>\n",
    "<img src=\"Introduction-To-Shell-Scripting.jpg\" width=\"150\" height=\"250\" style=\"float: left; margin-right: 20px; margin-left: 20px;\"><br><br>\n",
    "<p align='justify' style='margin: 10px 20px; line-height:1.5; font-family: \"Times New Roman\", Times, serif; font-size:16px; color: black'>\n",
    "  Tables are often represented as arrays, which are indexed collections of data values. Here is an example of how you might create and use a table in a shell script: \n",
    "</p>"
   ]
  },
  {
   "cell_type": "code",
   "execution_count": 34,
   "id": "b7f62444",
   "metadata": {
    "slideshow": {
     "slide_type": "subslide"
    }
   },
   "outputs": [
    {
     "name": "stdout",
     "output_type": "stream",
     "text": [
      "# Create an array with three elements\n",
      "my_table=(apple banana cherry)\n",
      "\n",
      "# Access an element of the array by its index\n",
      "echo ${my_table[0]}  # prints \"apple\"\n",
      "echo ${my_table[1]}  # prints \"banana\"\n",
      "echo ${my_table[2]}  # prints \"cherry\"\n",
      "\n",
      "# Modify an element of the array\n",
      "my_table[1]=grapefruit\n",
      "echo ${my_table[1]}  # prints \"grapefruit\"\n",
      "\n",
      "# Add an element to the end of the array\n",
      "my_table[3]=kiwi\n",
      "echo ${my_table[3]}  # prints \"kiwi\"\n"
     ]
    }
   ],
   "source": [
    "%%bash\n",
    "cat tables.sh"
   ]
  },
  {
   "cell_type": "code",
   "execution_count": 35,
   "id": "b983d1e4",
   "metadata": {
    "slideshow": {
     "slide_type": "subslide"
    }
   },
   "outputs": [
    {
     "name": "stdout",
     "output_type": "stream",
     "text": [
      "apple\n",
      "banana\n",
      "cherry\n",
      "grapefruit\n",
      "kiwi\n"
     ]
    }
   ],
   "source": [
    "%%bash\n",
    "bash tables.sh"
   ]
  },
  {
   "cell_type": "markdown",
   "id": "95ce97e5",
   "metadata": {
    "slideshow": {
     "slide_type": "subslide"
    }
   },
   "source": [
    "<p align='justify' style='margin: 10px 20px; line-height:1.5; font-family: \"Times New Roman\", Times, serif; font-size:16px; color: black'>\n",
    "  You can also use loops to iterate over the elements of an array:\n",
    "</p>"
   ]
  },
  {
   "cell_type": "code",
   "execution_count": 36,
   "id": "183f3008",
   "metadata": {
    "slideshow": {
     "slide_type": "subslide"
    }
   },
   "outputs": [
    {
     "name": "stdout",
     "output_type": "stream",
     "text": [
      "# Iterate over the elements of the array and print each one\n",
      "for fruit in ${my_table[@]}; do\n",
      "  echo $fruit\n",
      "done\n"
     ]
    }
   ],
   "source": [
    "%%bash\n",
    "cat loop_tables.sh"
   ]
  },
  {
   "cell_type": "markdown",
   "id": "99239d7d",
   "metadata": {
    "slideshow": {
     "slide_type": "subslide"
    }
   },
   "source": [
    "<p align='justify' style='margin: 10px 20px; line-height:1.5; font-family: \"Times New Roman\", Times, serif; font-size:16px; color: black'>\n",
    "  In addition to arrays, you can also use associative arrays to create tables that use string keys instead of numeric indices. Here is an example of how you might use an associative array:\n",
    "</p>"
   ]
  },
  {
   "cell_type": "code",
   "execution_count": 37,
   "id": "76e9646a",
   "metadata": {
    "slideshow": {
     "slide_type": "subslide"
    }
   },
   "outputs": [
    {
     "name": "stdout",
     "output_type": "stream",
     "text": [
      "# Create an associative array with three elements\n",
      "declare -A my_table\n",
      "my_table[red]=apple\n",
      "my_table[yellow]=banana\n",
      "my_table[purple]=grape\n",
      "\n",
      "# Access an element of the array by its key\n",
      "echo ${my_table[red]}  # prints \"apple\"\n",
      "echo ${my_table[yellow]}  # prints \"banana\"\n",
      "echo ${my_table[purple]}  # prints \"grape\"\n",
      "\n",
      "# Modify an element of the array\n",
      "my_table[yellow]=lemon\n",
      "echo ${my_table[yellow]}  # prints \"lemon\"\n",
      "\n",
      "# Add an element to the array\n",
      "my_table[green]=kiwi\n",
      "echo ${my_table[green]}  # prints \"kiwi\"\n"
     ]
    }
   ],
   "source": [
    "%%bash \n",
    "cat associate_array.sh"
   ]
  },
  {
   "cell_type": "code",
   "execution_count": 38,
   "id": "83091bd4",
   "metadata": {
    "scrolled": true,
    "slideshow": {
     "slide_type": "subslide"
    }
   },
   "outputs": [
    {
     "name": "stdout",
     "output_type": "stream",
     "text": [
      "apple\n",
      "banana\n",
      "grape\n",
      "lemon\n",
      "kiwi\n"
     ]
    }
   ],
   "source": [
    "%%bash\n",
    "bash associate_array.sh"
   ]
  },
  {
   "cell_type": "markdown",
   "id": "37a89c17",
   "metadata": {
    "slideshow": {
     "slide_type": "subslide"
    }
   },
   "source": [
    "<p align='justify' style='margin: 10px 20px; line-height:1.5; font-family: \"Times New Roman\", Times, serif; font-size:16px; color: black'>\n",
    "  You can use loops to iterate over the keys or values of an associative array:\n",
    "</p>"
   ]
  },
  {
   "cell_type": "code",
   "execution_count": 40,
   "id": "d6a44061",
   "metadata": {
    "scrolled": true,
    "slideshow": {
     "slide_type": "subslide"
    }
   },
   "outputs": [
    {
     "name": "stdout",
     "output_type": "stream",
     "text": [
      "# Iterate over the keys and print each one\n",
      "for key in ${!my_table[@]}; do\n",
      "  echo $key\n",
      "done\n",
      "\n",
      "# Iterate over the values and print each one\n",
      "for value in ${my_table[@]}; do\n",
      "  echo $value\n",
      "done\n"
     ]
    }
   ],
   "source": [
    "%%bash\n",
    "cat loop_associate_array.sh"
   ]
  },
  {
   "cell_type": "markdown",
   "id": "83016aef",
   "metadata": {
    "slideshow": {
     "slide_type": "subslide"
    }
   },
   "source": [
    "<h3 style='color:red; font-weight:bold; text-align:center; font-family: \"Times New Roman\", Times, serif; font-size:20px;'>Using Tables in Shell Scripting</h3><br>\n",
    "<img src=\"abc-77.png\" width=\"150\" height=\"250\" style=\"float: left; margin-right: 20px; margin-left: 20px;\"><br><br>\n",
    "<p align='justify' style='margin: 10px 20px; line-height:1.5; font-family: \"Times New Roman\", Times, serif; font-size:16px; color: black'>\n",
    "  In shell scripts, you can define functions just like in any other programming language. The basic syntax for defining a function is \n",
    "</p>"
   ]
  },
  {
   "cell_type": "code",
   "execution_count": null,
   "id": "0ac6b6b9",
   "metadata": {
    "slideshow": {
     "slide_type": "subslide"
    }
   },
   "outputs": [],
   "source": [
    "function name {\n",
    "    commands\n",
    "}"
   ]
  },
  {
   "cell_type": "markdown",
   "id": "8bb7bd8a",
   "metadata": {
    "slideshow": {
     "slide_type": "subslide"
    }
   },
   "source": [
    "<p align='justify' style='margin: 10px 20px; line-height:1.5; font-family: \"Times New Roman\", Times, serif; font-size:16px; color: black'>\n",
    "  For example, the following script defines a function called greet that prints a greeting message\n",
    "</p>"
   ]
  },
  {
   "cell_type": "code",
   "execution_count": 30,
   "id": "620f10a9",
   "metadata": {
    "slideshow": {
     "slide_type": "subslide"
    }
   },
   "outputs": [
    {
     "name": "stdout",
     "output_type": "stream",
     "text": [
      "#!/bin/bash\n",
      "\n",
      "function greet {\n",
      "    echo \"Hello, $1!\"\n",
      "}\n",
      "\n",
      "greet \"Alice\"\n",
      "greet \"Bob\"\n"
     ]
    }
   ],
   "source": [
    "%%bash\n",
    "cat functions_1.sh"
   ]
  },
  {
   "cell_type": "code",
   "execution_count": 31,
   "id": "68426524",
   "metadata": {
    "slideshow": {
     "slide_type": "subslide"
    }
   },
   "outputs": [
    {
     "name": "stdout",
     "output_type": "stream",
     "text": [
      "Hello, Alice!\n",
      "Hello, Bob!\n"
     ]
    }
   ],
   "source": [
    "%%bash\n",
    "bash functions_1.sh"
   ]
  },
  {
   "cell_type": "markdown",
   "id": "c0e2bf89",
   "metadata": {
    "slideshow": {
     "slide_type": "subslide"
    }
   },
   "source": [
    "<p align='justify' style='margin: 10px 20px; line-height:1.5; font-family: \"Times New Roman\", Times, serif; font-size:16px; color: black'>\n",
    "  You can also define a function using the following syntax:\n",
    "</p>"
   ]
  },
  {
   "cell_type": "code",
   "execution_count": null,
   "id": "6f2dc520",
   "metadata": {
    "slideshow": {
     "slide_type": "subslide"
    }
   },
   "outputs": [],
   "source": [
    " name () {\n",
    "     commands\n",
    " }"
   ]
  },
  {
   "cell_type": "markdown",
   "id": "f211877d",
   "metadata": {
    "slideshow": {
     "slide_type": "subslide"
    }
   },
   "source": [
    "<p align='justify' style='margin: 10px 20px; line-height:1.5; font-family: \"Times New Roman\", Times, serif; font-size:16px; color: black'>\n",
    "  To call a function, simply use its name followed by any required arguments. Arguments passed to a function are referred to as \"$1\", \"$2\", etc. within the function. For example, in the greet function above, the argument passed to the function is referred to as \"$1\". <br><br><br>You can also return a value from a function by using the return statement. The value of the return statement will be the exit status of the function. For example:\n",
    "</p>"
   ]
  },
  {
   "cell_type": "code",
   "execution_count": 32,
   "id": "5afb1224",
   "metadata": {
    "slideshow": {
     "slide_type": "subslide"
    }
   },
   "outputs": [
    {
     "name": "stdout",
     "output_type": "stream",
     "text": [
      "#!/bin/bash\n",
      "\n",
      "function add {\n",
      "    local result=$(($1 + $2))\n",
      "    return $result\n",
      "}\n",
      "\n",
      "add 2 3\n",
      "echo \"The result is $?\"\n"
     ]
    }
   ],
   "source": [
    "%%bash\n",
    "cat return_function.sh"
   ]
  },
  {
   "cell_type": "code",
   "execution_count": 33,
   "id": "2d864496",
   "metadata": {
    "slideshow": {
     "slide_type": "subslide"
    }
   },
   "outputs": [
    {
     "name": "stdout",
     "output_type": "stream",
     "text": [
      "The result is 5\n"
     ]
    }
   ],
   "source": [
    "%%bash\n",
    "bash return_function.sh"
   ]
  },
  {
   "cell_type": "markdown",
   "id": "956ca784",
   "metadata": {
    "slideshow": {
     "slide_type": "subslide"
    }
   },
   "source": [
    "<p align='justify' style='margin: 10px 20px; line-height:1.5; font-family: \"Times New Roman\", Times, serif; font-size:16px; color: black'>\n",
    "  This script defines a function called add that calculates the sum of two numbers and returns the result. The exit status of the function is set to the value of the result. The echo statement at the end prints the exit status of the function, which is the value of the result.\n",
    "</p><br><br>\n",
    "<h3 style='color:red; font-weight:bold; text-align:center; font-family: \"Times New Roman\", Times, serif; font-size:20px;'>Exercise 4: Shell Scripting - Tables</h3><br>\n",
    "<p align='justify' style='margin: 10px 20px; line-height:1.5; font-family: \"Times New Roman\", Times, serif; font-size:16px; color: purple'>\n",
    "    \n",
    "    \n",
    "  <ul style='font-family: \"Times New Roman\", Times, serif; font-weight:light; font-size:16px;'>\n",
    "      <li>Q1.</li>\n",
    "      <li>Q2.</li>\n",
    "    \n",
    "    \n",
    "  </ul>\n",
    "</p>"
   ]
  },
  {
   "cell_type": "markdown",
   "id": "50ebb406",
   "metadata": {
    "slideshow": {
     "slide_type": "subslide"
    }
   },
   "source": [
    "<h3 style='color:red; font-weight:bold; text-align:center; font-family: \"Times New Roman\", Times, serif; font-size:20px;'>Manipulation of strings, substrings </h3><br>\n",
    "<img src=\"stringmanipulation.png\" width=\"150\" height=\"250\" style=\"float: left; margin-right: 20px; margin-left: 20px;\"><br><br>\n",
    "<p align='justify' style='margin: 10px 20px; line-height:1.5; font-family: \"Times New Roman\", Times, serif; font-size:16px; color: black'>\n",
    "  You can manipulate strings and substrings using a variety of built-in commands and operators. Here are a few examples: <br><br>Concatenation: You can use the echo command to concatenate strings, or you can use the \"+\" operator. For example:\n",
    "    \n",
    "</p>"
   ]
  },
  {
   "cell_type": "code",
   "execution_count": 41,
   "id": "085d1b67",
   "metadata": {},
   "outputs": [
    {
     "name": "stdout",
     "output_type": "stream",
     "text": [
      "string1=\"Hello\"\n",
      "string2=\"World\"\n",
      "string3=$string1\" \"$string2\n",
      "echo $string3  # Output: \"Hello World\"\n",
      "\n",
      "string4=\"Hello\"\n",
      "string5=\"World\"\n",
      "string6=$string4+$string5\n",
      "echo $string6  # Output: \"HelloWorld\"\n"
     ]
    }
   ],
   "source": [
    "%%bash\n",
    "cat concat_strings.sh"
   ]
  },
  {
   "cell_type": "code",
   "execution_count": 44,
   "id": "cd0b4ce8",
   "metadata": {
    "slideshow": {
     "slide_type": "subslide"
    }
   },
   "outputs": [
    {
     "name": "stdout",
     "output_type": "stream",
     "text": [
      "Hello World\n",
      "Hello+World\n"
     ]
    }
   ],
   "source": [
    "%%bash\n",
    "bash concat_strings.sh"
   ]
  },
  {
   "cell_type": "markdown",
   "id": "8ed687c1",
   "metadata": {
    "slideshow": {
     "slide_type": "subslide"
    }
   },
   "source": [
    "<p align='justify' style='margin: 10px 20px; line-height:1.5; font-family: \"Times New Roman\", Times, serif; font-size:16px; color: black'>\n",
    "  Indexing: You can access individual characters in a string using the ${string:position:length} syntax, where position is the index of the character (starting at 0) and length is the number of characters to extract. For example:\n",
    "    \n",
    "</p>"
   ]
  },
  {
   "cell_type": "code",
   "execution_count": 42,
   "id": "82ea8802",
   "metadata": {
    "scrolled": true,
    "slideshow": {
     "slide_type": "subslide"
    }
   },
   "outputs": [
    {
     "name": "stdout",
     "output_type": "stream",
     "text": [
      "string=\"Hello\"\n",
      "echo ${string:0:1}  # Output: \"H\"\n",
      "echo ${string:1:1}  # Output: \"e\"\n"
     ]
    }
   ],
   "source": [
    "%%bash\n",
    "cat index_string.sh"
   ]
  },
  {
   "cell_type": "code",
   "execution_count": 43,
   "id": "53f0254d",
   "metadata": {
    "slideshow": {
     "slide_type": "subslide"
    }
   },
   "outputs": [
    {
     "name": "stdout",
     "output_type": "stream",
     "text": [
      "H\n",
      "e\n"
     ]
    }
   ],
   "source": [
    "%%bash\n",
    "bash index_string.sh"
   ]
  },
  {
   "cell_type": "markdown",
   "id": "f023f893",
   "metadata": {
    "slideshow": {
     "slide_type": "subslide"
    }
   },
   "source": [
    "<p align='justify' style='margin: 10px 20px; line-height:1.5; font-family: \"Times New Roman\", Times, serif; font-size:16px; color: black'>\n",
    "  Slicing: You can extract a substring from a larger string using the ${string:position} syntax, where position is the index of the first character in the substring. <br><br>For example:\n",
    "    \n",
    "</p>"
   ]
  },
  {
   "cell_type": "code",
   "execution_count": 45,
   "id": "613edd86",
   "metadata": {
    "slideshow": {
     "slide_type": "subslide"
    }
   },
   "outputs": [
    {
     "name": "stdout",
     "output_type": "stream",
     "text": [
      "string=\"Hello World\"\n",
      "substring=${string:6}\n",
      "echo $substring  # Output: \"World\"\n"
     ]
    }
   ],
   "source": [
    "%%bash\n",
    "cat slice_string.sh"
   ]
  },
  {
   "cell_type": "code",
   "execution_count": 46,
   "id": "bd4b7bfb",
   "metadata": {
    "slideshow": {
     "slide_type": "subslide"
    }
   },
   "outputs": [
    {
     "name": "stdout",
     "output_type": "stream",
     "text": [
      "World\n"
     ]
    }
   ],
   "source": [
    "%%bash\n",
    "bash slice_string.sh"
   ]
  },
  {
   "cell_type": "markdown",
   "id": "35a23813",
   "metadata": {
    "slideshow": {
     "slide_type": "subslide"
    }
   },
   "source": [
    "<p align='justify' style='margin: 10px 20px; line-height:1.5; font-family: \"Times New Roman\", Times, serif; font-size:16px; color: black'>\n",
    "  Modification: You can modify a string using the sed command, which allows you to search for and replace specific patterns in a string. <br><br>For example:\n",
    "    \n",
    "</p>"
   ]
  },
  {
   "cell_type": "code",
   "execution_count": 47,
   "id": "a976f587",
   "metadata": {
    "scrolled": true,
    "slideshow": {
     "slide_type": "subslide"
    }
   },
   "outputs": [
    {
     "name": "stdout",
     "output_type": "stream",
     "text": [
      "string=\"Hello World\"\n",
      "modified_string=$(echo $string | sed 's/World/Universe/')\n",
      "echo $modified_string  # Output: \"Hello Universe\"\n"
     ]
    }
   ],
   "source": [
    "%%bash\n",
    "cat modify_string.sh"
   ]
  },
  {
   "cell_type": "code",
   "execution_count": 48,
   "id": "fdf93d74",
   "metadata": {
    "slideshow": {
     "slide_type": "subslide"
    }
   },
   "outputs": [
    {
     "name": "stdout",
     "output_type": "stream",
     "text": [
      "Hello Universe\n"
     ]
    }
   ],
   "source": [
    "%%bash\n",
    "bash modify_string.sh"
   ]
  },
  {
   "cell_type": "markdown",
   "id": "5fba2a1d",
   "metadata": {
    "slideshow": {
     "slide_type": "subslide"
    }
   },
   "source": [
    "<p align='justify' style='margin: 10px 20px; line-height:1.5; font-family: \"Times New Roman\", Times, serif; font-size:16px; color: purple'>\n",
    "  There are many other ways to manipulate strings in shell scripting, depending on your specific needs. For example, you can use the \"tr\" command to translate or delete characters from a string, or the \"awk\" command to extract and manipulate specific fields in a string.\n",
    "    \n",
    "</p><br><br>\n",
    "<h3 style='color:red; font-weight:bold; text-align:center; font-family: \"Times New Roman\", Times, serif; font-size:20px;'>Exercise 6: Shell Scripting - Manipulation of strings, substrings </h3><br>\n",
    "<p align='justify' style='margin: 10px 20px; line-height:1.5; font-family: \"Times New Roman\", Times, serif; font-size:16px; color: purple'>\n",
    "    \n",
    "    \n",
    "  <ul style='font-family: \"Times New Roman\", Times, serif; font-weight:light; font-size:16px;'>\n",
    "      <li>Q1.</li>\n",
    "      <li>Q2.</li>\n",
    "    \n",
    "    \n",
    "  </ul>\n",
    "</p>"
   ]
  },
  {
   "cell_type": "markdown",
   "id": "64b0af6f",
   "metadata": {
    "slideshow": {
     "slide_type": "subslide"
    }
   },
   "source": [
    "<h3 style='color:red; font-weight:bold; text-align:center; font-family: \"Times New Roman\", Times, serif; font-size:20px;'>Mathematical calculations in shell scripts</h3><br>\n",
    "<img src=\"shell-scripting-arithmetic-operations-1-1667306978.png\" width=\"150\" height=\"250\" style=\"float: left; margin-right: 20px; margin-left: 20px;\"><br><br>\n",
    "<p align='justify' style='margin: 10px 20px; line-height:1.5; font-family: \"Times New Roman\", Times, serif; font-size:16px; color: black'>\n",
    "  You can perform mathematical calculations using the expr command or the $(( ... )) construct.<br><br><br>Here is an example of using expr to perform arithmetic:\n",
    "    \n",
    "</p>"
   ]
  },
  {
   "cell_type": "code",
   "execution_count": 49,
   "id": "d8b70502",
   "metadata": {
    "scrolled": true,
    "slideshow": {
     "slide_type": "subslide"
    }
   },
   "outputs": [
    {
     "name": "stdout",
     "output_type": "stream",
     "text": [
      "# Calculate the result of adding 2 and 3\n",
      "result=$(expr 2 + 3)\n",
      "echo $result  # Outputs: 5\n",
      "\n",
      "# Calculate the result of multiplying 5 and 6\n",
      "result=$(expr 5 \\* 6)\n",
      "echo $result  # Outputs: 30\n"
     ]
    }
   ],
   "source": [
    "%%bash\n",
    "cat expr_arithmetic.sh"
   ]
  },
  {
   "cell_type": "code",
   "execution_count": 50,
   "id": "949a0a00",
   "metadata": {
    "scrolled": true,
    "slideshow": {
     "slide_type": "subslide"
    }
   },
   "outputs": [
    {
     "name": "stdout",
     "output_type": "stream",
     "text": [
      "5\n",
      "30\n"
     ]
    }
   ],
   "source": [
    "%%bash\n",
    "bash expr_arithmetic.sh"
   ]
  },
  {
   "cell_type": "markdown",
   "id": "226e085d",
   "metadata": {
    "slideshow": {
     "slide_type": "subslide"
    }
   },
   "source": [
    "<p align='justify' style='margin: 10px 20px; line-height:1.5; font-family: \"Times New Roman\", Times, serif; font-size:16px; color: black'>\n",
    "  The expr command can perform a variety of arithmetic operations, including addition (+), subtraction (-), multiplication (*), division (/), and modulus (%).<br><br>Here is an example of using the $(( ... )) construct to perform arithmetic:\n",
    "    \n",
    "</p>"
   ]
  },
  {
   "cell_type": "code",
   "execution_count": 51,
   "id": "826227f4",
   "metadata": {
    "slideshow": {
     "slide_type": "subslide"
    }
   },
   "outputs": [
    {
     "name": "stdout",
     "output_type": "stream",
     "text": [
      "# Calculate the result of adding 2 and 3\n",
      "result=$((2 + 3))\n",
      "echo $result  # Outputs: 5\n",
      "\n",
      "# Calculate the result of multiplying 5 and 6\n",
      "result=$((5 * 6))\n",
      "echo $result  # Outputs: 30\n"
     ]
    }
   ],
   "source": [
    "%%bash\n",
    "cat double_quote_arithmetic.sh"
   ]
  },
  {
   "cell_type": "code",
   "execution_count": 53,
   "id": "2da4ce03",
   "metadata": {
    "slideshow": {
     "slide_type": "subslide"
    }
   },
   "outputs": [
    {
     "name": "stdout",
     "output_type": "stream",
     "text": [
      "5\n",
      "30\n"
     ]
    }
   ],
   "source": [
    "%%bash\n",
    "bash double_quote_arithmetic.sh"
   ]
  },
  {
   "cell_type": "markdown",
   "id": "4fa0bd72",
   "metadata": {
    "slideshow": {
     "slide_type": "subslide"
    }
   },
   "source": [
    "<p align='justify' style='margin: 10px 20px; line-height:1.5; font-family: \"Times New Roman\", Times, serif; font-size:16px; color: black'>\n",
    "  The $(( ... )) construct can also be used to perform more advanced arithmetic, such as exponentiation (**) and bitwise operations (&, |, ^, etc.).\n",
    "    \n",
    "</p>"
   ]
  },
  {
   "cell_type": "code",
   "execution_count": 54,
   "id": "afd3fb63",
   "metadata": {
    "slideshow": {
     "slide_type": "subslide"
    }
   },
   "outputs": [
    {
     "name": "stdout",
     "output_type": "stream",
     "text": [
      "# Calculate the result of raising 2 to the power of 8\n",
      "result=$((2 ** 8))\n",
      "echo $result  # Outputs: 256\n",
      "\n",
      "# Calculate the result of performing a bitwise OR operation on 12 and 25\n",
      "result=$((12 | 25))\n",
      "echo $result  # Outputs: 29\n"
     ]
    }
   ],
   "source": [
    "%%bash\n",
    "cat bitwise_arithmetic.sh"
   ]
  },
  {
   "cell_type": "code",
   "execution_count": 55,
   "id": "f40bddfa",
   "metadata": {
    "scrolled": true,
    "slideshow": {
     "slide_type": "subslide"
    }
   },
   "outputs": [
    {
     "name": "stdout",
     "output_type": "stream",
     "text": [
      "256\n",
      "29\n"
     ]
    }
   ],
   "source": [
    "%%bash\n",
    "bash bitwise_arithmetic.sh"
   ]
  },
  {
   "cell_type": "markdown",
   "id": "868e41ab",
   "metadata": {
    "slideshow": {
     "slide_type": "subslide"
    }
   },
   "source": [
    "<p align='justify' style='margin: 10px 20px; line-height:1.5; font-family: \"Times New Roman\", Times, serif; font-size:16px; color: purple'>\n",
    "  Note that in both cases, the result of the arithmetic operation is stored in a shell variable and can be used in subsequent commands or operations in the script.\n",
    "    \n",
    "</p>"
   ]
  },
  {
   "cell_type": "markdown",
   "id": "c2e7b659",
   "metadata": {
    "slideshow": {
     "slide_type": "subslide"
    }
   },
   "source": [
    "<h3 style='color:red; font-weight:bold; text-align:center; font-family: \"Times New Roman\", Times, serif; font-size:20px;'>Debugging and error handling in shell scripts </h3><br>\n",
    "<img src=\"Debug-Bash-Scripts.webp\" width=\"150\" height=\"250\" style=\"float: left; margin-right: 20px; margin-left: 20px;\"><br>\n",
    "<p align='justify' style='margin: 10px 20px; line-height:1.5; font-family: \"Times New Roman\", Times, serif; font-size:16px; color: black'>\n",
    "  Debugging and error handling can be achieved in shell scripting through the use of various built-in commands and utilities.<br><br><br>One way to debug a shell script is to use the \"set -x\" command, which enables script tracing. This will print each command in the script to the console as it is executed, along with its arguments and any expansions. To turn off tracing, you can use the \"set +x\" command.\n",
    "    \n",
    "</p><br><br>\n",
    "<p align='justify' style='margin: 10px 20px; line-height:1.5; font-family: \"Times New Roman\", Times, serif; font-size:16px; color: black'>\n",
    "  Another useful debugging tool is the \"bash -x\" option, which allows you to run the script with tracing enabled from the command line. For example:\n",
    "    \n",
    "</p>"
   ]
  },
  {
   "cell_type": "code",
   "execution_count": null,
   "id": "8dfe6a9f",
   "metadata": {
    "slideshow": {
     "slide_type": "subslide"
    }
   },
   "outputs": [],
   "source": [
    "%%bash\n",
    "bash -x myscript.sh"
   ]
  },
  {
   "cell_type": "markdown",
   "id": "c7bff82b",
   "metadata": {
    "slideshow": {
     "slide_type": "subslide"
    }
   },
   "source": [
    "<p align='justify' style='margin: 10px 20px; line-height:1.5; font-family: \"Times New Roman\", Times, serif; font-size:16px; color: black'>\n",
    "  To handle errors in a shell script, you can use the set -e command, which causes the script to exit immediately if any command returns a non-zero exit status. This can be useful for ensuring that the script exits gracefully if an error occurs.<br><br>You can also use the || operator to execute a command only if the previous command failed. For example:\n",
    "    \n",
    "</p>"
   ]
  },
  {
   "cell_type": "code",
   "execution_count": null,
   "id": "0e5d6555",
   "metadata": {
    "slideshow": {
     "slide_type": "subslide"
    }
   },
   "outputs": [],
   "source": [
    "%%bash\n",
    "command1 || command2"
   ]
  },
  {
   "cell_type": "markdown",
   "id": "326fd49e",
   "metadata": {
    "slideshow": {
     "slide_type": "subslide"
    }
   },
   "source": [
    "<p align='justify' style='margin: 10px 20px; line-height:1.5; font-family: \"Times New Roman\", Times, serif; font-size:16px; color: black'>\n",
    "  This will execute command2 only if command1 returns a non-zero exit status.<br><br><br>Finally, you can use the trap command to catch signals and execute commands in response. This can be useful for cleaning up resources or taking other actions when the script is interrupted.<br><br><br>For example:\n",
    "    \n",
    "</p>"
   ]
  },
  {
   "cell_type": "code",
   "execution_count": null,
   "id": "ffa7239e",
   "metadata": {
    "slideshow": {
     "slide_type": "subslide"
    }
   },
   "outputs": [],
   "source": [
    "trap 'cleanup' INT\n",
    "    cleanup() {\n",
    "        # Clean up resources\n",
    "    }"
   ]
  },
  {
   "cell_type": "markdown",
   "id": "754084e4",
   "metadata": {
    "slideshow": {
     "slide_type": "subslide"
    }
   },
   "source": [
    "<p align='justify' style='margin: 10px 20px; line-height:1.5; font-family: \"Times New Roman\", Times, serif; font-size:16px; color: purple'>\n",
    "  This will execute the cleanup function if the script receives an INT signal (e.g., if the user presses CTRL+C).\n",
    "    \n",
    "</p><br>\n",
    "<h3 style='color:red; font-weight:bold; text-align:center; font-family: \"Times New Roman\", Times, serif; font-size:20px;'>Final Projects </h3><br>\n",
    "<p align='justify' style='margin: 10px 20px; line-height:1.5; font-family: \"Times New Roman\", Times, serif; font-size:16px; color: purple'>\n",
    "    \n",
    "    \n",
    "  <ul style='font-family: \"Times New Roman\", Times, serif; font-weight:light; font-size:16px;'>\n",
    "      <li>Q1. Create a script to automate the installation and configuration of a specific application or service on a Linux machine. For example, you could write a script to install and set up a LAMP stack (Linux, Apache, MySQL, PHP) on a fresh Ubuntu installation.\n",
    "</li><br>\n",
    "      <li>Q2. Write a script to automate the backup of important files and directories on a Linux machine. The script could be configured to run on a schedule (e.g. daily, weekly, monthly) and save the backups to a remote location, such as a networked storage device or a cloud service.</li><br>\n",
    "      <li>Q3. Create a script to monitor the performance and status of a Linux server. The script could run on a schedule and generate reports on things like CPU and memory usage, disk space, and system logs. The student could also add features to the script to automatically alert an administrator if certain thresholds are exceeded (e.g. if CPU usage exceeds a certain percentage).</li><br>\n",
    "      <li>Q4. Write a startup script for a custom service or application. For example, the student could create a script that launches a specific program or script when the Linux machine starts up. This could be useful for running a program or service that needs to be available at all times, such as a web server or a database.</li><br>\n",
    "      <li>Q5. Create a script to automate the deployment of a specific application or service on a cluster of Linux machines. The script could handle tasks such as installing dependencies, copying files, and configuring the service to run on multiple machines.\n",
    "</li>\n",
    "      \n",
    "    \n",
    "    \n",
    "  </ul>\n",
    "</p>"
   ]
  }
 ],
 "metadata": {
  "celltoolbar": "Slideshow",
  "kernelspec": {
   "display_name": "Python 3 (ipykernel)",
   "language": "python",
   "name": "python3"
  },
  "language_info": {
   "codemirror_mode": {
    "name": "ipython",
    "version": 3
   },
   "file_extension": ".py",
   "mimetype": "text/x-python",
   "name": "python",
   "nbconvert_exporter": "python",
   "pygments_lexer": "ipython3",
   "version": "3.10.6"
  },
  "toc": {
   "base_numbering": 1,
   "nav_menu": {},
   "number_sections": false,
   "sideBar": true,
   "skip_h1_title": false,
   "title_cell": "Table of Contents",
   "title_sidebar": "Contents",
   "toc_cell": false,
   "toc_position": {
    "height": "calc(100% - 180px)",
    "left": "10px",
    "top": "150px",
    "width": "294.195px"
   },
   "toc_section_display": true,
   "toc_window_display": false
  }
 },
 "nbformat": 4,
 "nbformat_minor": 5
}
