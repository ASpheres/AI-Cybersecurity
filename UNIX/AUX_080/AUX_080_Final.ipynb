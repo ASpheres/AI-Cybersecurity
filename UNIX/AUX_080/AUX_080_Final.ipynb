{
 "cells": [
  {
   "cell_type": "markdown",
   "id": "5266a530",
   "metadata": {
    "slideshow": {
     "slide_type": "slide"
    }
   },
   "source": [
    "<a href=\"https://asphere.fr/\">\n",
    "    <img src=\"logo2.png\" width=\"500\" height=\"400\" style=\"display: block; margin: 0 auto;\">\n",
    "</a>\n",
    "<h1 style=\"text-align: center; font-family: 'Times New Roman', Times,serif ; color: purple; margin-right: 25px; margin-left: 70px;\">UNIX ADMINISTRATION </h1>\n",
    "<h4 style=\"text-align: center; font-family: 'Times New Roman', Times,serif ; color: black; margin-right: 25px; margin-left: 70px;\">AUX_080</h4>\n",
    "<h5 style=\"text-align: center; font-family: 'Times New Roman', Times,serif ; color: black; margin-right: 25px; margin-left: 70px;\">DURATION: Five Days (35 Hrs)</h5>\n",
    "<h4 style=\"text-align: center; font-family: 'Times New Roman', Times,serif ; color: black; margin-right: 25px; margin-left: 70px;\">OBJECTIVES</h4>\n",
    "<a href=\"https://asphere.fr/\">\n",
    "    <img src=\"unixlinux.webp\" width=\"100\" height=\"100\" style=\"float: right; margin-right: 25px; margin-left: 70px;\">\n",
    "</a>\n",
    "<h5 style=\"text-align: center; font-family: 'Times New Roman', Times,serif ; color: purple; margin-right: 90px; margin-left: 225px;\">From command to advanced scripts, presentation and benefits of the shell language </h5>"
   ]
  },
  {
   "cell_type": "markdown",
   "id": "514c7f12",
   "metadata": {
    "slideshow": {
     "slide_type": "subslide"
    }
   },
   "source": [
    "<h3 style='color:red; font-weight:bold; text-align:center; font-family: \"Times New Roman\", Times, serif;'>OVERVIEW</h3>\n",
    "\n",
    "<p align='justify' style='margin: 10px 20px; line-height:1.5; font-family: \"Times New Roman\", Times, serif; font-size:16px;'>\n",
    "  Computers simplify repetitive tasks. it performs computations just as well as the way we use them. Computer-related problems can be solved more efficiently with the tools that we have available to us. In reality, most of us only use a fraction of these tools; we know enough magic formulas by heart to get by, and we blindly paste commands from the Internet when we get stuck. As a system administrator, that's not a good practice. Once you complete this course, you will understand the importance of Shell scripting and how you can make your day-to-day tasks less tedious and become more productive.\n",
    "\n",
    "</p><br>\n",
    "\n",
    "<p align='justify' style='margin: 10px 20px; line-height:1.5; font-family: \"Times New Roman\", Times, serif; font-size:16px;'>\n",
    "    <strong style = \"color: purple\">You will learn:</strong>\n",
    "    \n",
    "  <ul style='font-family: \"Times New Roman\", Times, serif; font-weight:light; font-size:16px;'>\n",
    "      <li><b>Introduction to the Unix and Linux operating system</b></li>\n",
    "      <li><b>Basic Unix and Linux commands </b></li>\n",
    "      <li><b>Advanced Unix and Linux commands </b></li>\n",
    "      <li><b>Shell scripting</b></li>\n",
    "    \n",
    "    \n",
    "  </ul>\n",
    "</p>\n"
   ]
  },
  {
   "cell_type": "markdown",
   "id": "64c5bfcd",
   "metadata": {
    "slideshow": {
     "slide_type": "slide"
    }
   },
   "source": [
    "<h2 style='color:red; font-weight:bold; text-align:center; font-family: \"Times New Roman\", Times, serif;'>INTRODUCTION TO UNIX AND LINUX OPERATING SYSTEM</h2><br>\n",
    "<p align='justify' style='margin: 10px 20px; line-height:1.5; font-family: \"Times New Roman\", Times, serif; font-size:16px;'>\n",
    "    <strong style = \"color: purple\">Introduction to the Unix and Linux operating system </strong>\n",
    "    \n",
    "  <ul style='font-family: \"Times New Roman\", Times, serif; font-weight:light; font-size:16px;'>\n",
    "      <li><b>Overview of the history and philosophy of Unix and Linux </b></li>\n",
    "      <li><b>Understanding the file system and directory structure</b></li>\n",
    "      <li><b>Setting up the command-line environment </b></li>\n",
    "    \n",
    "    \n",
    "  </ul>\n",
    "</p>\n",
    "<img src=\"Unix-Linux.png\" width=\"150\" height=\"250\" style=\"float: left; margin-right: 20px; margin-left: 20px;\">\n",
    "<p align='justify' style='margin: 10px 20px; line-height:1.5; font-family: \"Times New Roman\", Times, serif; font-size:16px;'>\n",
    "  Unix is a family of multitasking, multiuser computer operating systems that derive from the original AT&T Unix, developed in the 1970s at Bell Labs, a research and development subsidiary of AT&T. Unix systems are characterized by a modular design that is sometimes called the \"Unix philosophy,\" meaning that the operating system provides a set of simple tools that each perform a limited, well-defined function, with a unified filesystem as the main means of communication, and a shell scripting and command language to combine the tools to perform complex workflows.\n",
    "\n",
    "</p><br><br>\n",
    "<p align='justify' style='margin: 10px 20px; line-height:1.5; font-family: \"Times New Roman\", Times, serif; font-size:16px;'>\n",
    "    <strong style = \"color: purple\">Key features of Unix Systems include</strong>\n",
    "    \n",
    "  <ul style='font-family: \"Times New Roman\", Times, serif; font-weight:light; font-size:16px;'>\n",
    "      <li><b>Multitasking: </b> The ability to run multiple programs concurrently.</li><br>\n",
    "      <li><b>Multiuser: </b> The ability to support multiple users on a single machine, each with their own login and set of privileges.</li><br>\n",
    "      <li><b>Portability: </b> The use of a high-level programming language (C) and a standardized application binary interface (ABI) allows Unix programs to be easily ported to      different hardware platforms.</li><br>\n",
    "      <li><b>Robustness: </b> The use of a high-level programming language (C) and a standardized application binary interface (ABI) allows Unix programs to be easily ported to      different hardware platforms.</li>\n",
    "    \n",
    "    \n",
    "  </ul>\n",
    "</p><br>\n",
    "<p align='justify' style='margin: 10px 20px; line-height:1.5; font-family: \"Times New Roman\", Times, serif; font-size:16px; color: purple'>\n",
    "  There are many different versions of Unix available, including Linux, Solaris, and macOS, each with its own set of features and capabilities.\n",
    "\n",
    "</p>"
   ]
  },
  {
   "cell_type": "markdown",
   "id": "4fbc1f9b",
   "metadata": {
    "slideshow": {
     "slide_type": "subslide"
    }
   },
   "source": [
    "<h4 style='color:red; font-weight:bold; text-align:center; font-family: \"Times New Roman\", Times, serif; font-size:18px;'>History and Philosophy of Unix/Linux</h4>\n",
    "<img src=\"fpl-history-unix-linux-londo.jpg\" width=\"150\" height=\"250\" style=\"float: left; margin-right: 20px; margin-left: 20px;\">\n",
    "<p align='justify' style='margin: 10px 20px; line-height:1.5; font-family: \"Times New Roman\", Times, serif; font-size:16px; color: purple'>\n",
    "  In the late 1980s and early 1990s, Linux was developed as a free, open source operating system based on the Unix operating system. Linux was developed by Linus Torvalds, a Finnish computer science student, who released the source code for the operating system under the GNU General Public License (GPL). The GPL is a license that allows users to freely modify and distribute the software, as long as they make the source code available to others.\n",
    "\n",
    "</p><br>\n",
    "<p align='justify' style='margin: 10px 20px; line-height:1.5; font-family: \"Times New Roman\", Times, serif; font-size:16px; color: black'>\n",
    "  Richard Stallman is a software developer and activist who is known for his work in the free software movement. In the 1980s, Stallman founded the Free Software Foundation (FSF) and developed the GPL, which has become the most widely used open source license. Stallman's work has been influential in the development of the open source movement and the widespread adoption of open source software.\n",
    "</p><br>\n",
    "<p align='justify' style='margin: 10px 20px; line-height:1.5; font-family: \"Times New Roman\", Times, serif; font-size:16px; color: black'>\n",
    "  One of the key philosophies behind Unix was the idea of \"small, sharp tools.\" Rather than building complex, monolithic programs, Unix developers preferred to create simple, modular programs that could be combined and used in various ways to accomplish specific tasks. This approach made it easier to develop and maintain software, and it also made it easier for users to customize their systems to meet their specific needs.\n",
    "</p><br>\n",
    "<p align='justify' style='margin: 10px 20px; line-height:1.5; font-family: \"Times New Roman\", Times, serif; font-size:16px; color: black'>\n",
    "  Another important aspect of the Unix philosophy is the concept of \"everything is a file.\" In Unix, nearly everything in the system, including devices, processes, and even network connections, can be represented as a file. This makes it possible to use the same set of commands and utilities to manipulate a wide range of resources in the system.\n",
    "</p><br>\n",
    "<p align='justify' style='margin: 10px 20px; line-height:1.5; font-family: \"Times New Roman\", Times, serif; font-size:16px; color: purple'>\n",
    "  In summary, the history of Unix becoming open source involves the development of the Linux operating system and the work of Richard Stallman and the Free Software Foundation in promoting the use of open source licenses and software.  \n",
    "</p>"
   ]
  },
  {
   "cell_type": "markdown",
   "id": "13a5e8a5",
   "metadata": {
    "slideshow": {
     "slide_type": "subslide"
    }
   },
   "source": [
    "<h3 style='color:red; font-weight:bold; text-align:center; font-family: \"Times New Roman\", Times, serif; font-size:20px;'>Core Componenets of a UNIX System</h3><br>\n",
    "<img src=\"1_LEp6Tu9LKTF0m0DXvgNMvg.png\" width=\"150\" height=\"250\" style=\"float: right; margin-right: 170px; margin-left: 170px;\">\n",
    "<p align='justify' style='margin: 10px 20px; line-height:1.5; font-family: \"Times New Roman\", Times, serif; font-size:16px;'>\n",
    "    <strong style = \"color: purple\">The core components of a Unix system include:</strong>\n",
    "    \n",
    "  <ul style='font-family: \"Times New Roman\", Times, serif; font-weight:light; font-size:16px;'>\n",
    "      <li>The kernel</li>\n",
    "      <li>System libraries</li>\n",
    "      <li>System utilities</li>\n",
    "      <li>Shell</li>\n",
    "      <li>User programs</li>\n",
    "    \n",
    "    \n",
    "  </ul>\n",
    "</p>"
   ]
  },
  {
   "cell_type": "markdown",
   "id": "8ae7ac1a",
   "metadata": {
    "slideshow": {
     "slide_type": "subslide"
    }
   },
   "source": [
    "<h4 style='color:red; font-weight:bold; text-align:center; font-family: \"Times New Roman\", Times, serif; font-size:20px;'>The kernel </h4>\n",
    "<img src=\"images (5).jpeg\" width=\"150\" height=\"250\" style=\"float: left; margin-right: 20px; margin-left: 20px;\">\n",
    "<p align='justify' style='margin: 10px 20px; line-height:1.5; font-family: \"Times New Roman\", Times, serif; font-size:16px; color: purple'>\n",
    "  This is the central part of the operating system that manages the hardware resources of the system, such as memory, processors, and devices. It also provides the interface between the system and the programs that run on it. \n",
    "</p><br><br>\n",
    "\n",
    "<h5 style='color:red; font-weight:bold; text-align:center; font-family: \"Times New Roman\", Times, serif; font-size:16px;'>Stable and Unstable Kernel  </h5>\n",
    "<p align='justify' style='margin: 10px 20px; line-height:1.5; font-family: \"Times New Roman\", Times, serif; font-size:16px; color: black'>\n",
    "  The terms \"stable\" and \"unstable\" can be used to describe different versions of the Unix kernel based on the level of stability and reliability they offer. <strong>A stable kernel</strong> is a version of the kernel that has been thoroughly tested and is known to be reliable. Stable kernels are typically used in production environments, where a stable and reliable operating system is critical.<br><br> On the other hand, <strong>an unstable kernel</strong> is a version of the kernel that is still in development and has not yet been fully tested. These kernels may contain new features and improvements, but they may also have bugs and other issues that can cause the operating system to be unstable. Unstable kernels are typically used in testing and development environments, where the focus is on evaluating new features and improvements rather than on stability and reliability.\n",
    " \n",
    "</p>"
   ]
  },
  {
   "cell_type": "markdown",
   "id": "fae4afd0",
   "metadata": {
    "slideshow": {
     "slide_type": "subslide"
    }
   },
   "source": [
    "<h5 style='color:red; font-weight:bold; text-align:center; font-family: \"Times New Roman\", Times, serif; font-size:16px;'>Checking the Stability of the Kernel </h5><br>\n",
    "<p align='justify' style='margin: 10px 20px; line-height:1.5; font-family: \"Times New Roman\", Times, serif; font-size:16px;'>\n",
    "    <strong style = \"color: purple\">There are a few different ways you can check the stability of the Unix kernel</strong>\n",
    "    \n",
    "  <ul style='font-family: \"Times New Roman\", Times, serif; font-weight:light; font-size:16px;'>\n",
    "      <li><strong>Check the version number: </strong> Most Unix operating systems include version numbers that can be used to identify the stability of the kernel. For example, kernels with even-numbered version numbers, such as 2.6.32 or 4.4.0, are generally considered to be stable, while kernels with odd-numbered version numbers, such as 3.5.0 or 5.7.0, are generally considered to be unstable. However, this is not a hard and fast rule, and the stability of a kernel can depend on other factors as well.</li><br>\n",
    "      <li><strong>Check the documentation :</strong> Many Unix operating systems include documentation that describes the stability of the kernel. For example, the documentation might specify that the kernel is \"stable\" or \"unstable,\" or it might provide more detailed information about the stability of different features and components.</li><br>\n",
    "      <li><strong>Check the release notes: </strong>}Most Unix operating systems also include release notes that provide information about the changes and improvements made in each new version of the kernel. </li>\n",
    "    \n",
    "  </ul>\n",
    "</p><br>\n",
    "<p align='justify' style='margin: 10px 20px; line-height:1.5; font-family: \"Times New Roman\", Times, serif; font-size:16px; color: purple'>\n",
    "  These release notes can be a good source of information about the stability of the kernel, as they often include details about any known issues or bugs that may affect the stability of the system. \n",
    "</p>"
   ]
  },
  {
   "cell_type": "code",
   "execution_count": 2,
   "id": "bb06eb03",
   "metadata": {
    "slideshow": {
     "slide_type": "subslide"
    }
   },
   "outputs": [
    {
     "name": "stdout",
     "output_type": "stream",
     "text": [
      "5.15.0-60-generic\n"
     ]
    }
   ],
   "source": [
    "%%bash\n",
    "uname -r"
   ]
  },
  {
   "cell_type": "markdown",
   "id": "5e9eca06",
   "metadata": {
    "slideshow": {
     "slide_type": "subslide"
    }
   },
   "source": [
    "<p align='justify' style='margin: 10px 20px; line-height:1.5; font-family: \"Times New Roman\", Times, serif; font-size:16px; color: purple'>\n",
    "  You can check for available kernel updates by using the uname -r command to view the current kernel versionas demonstrated in the cell above, and then checking the system's package manager (e.g., apt, yum, pacman, etc. depending on your distribution) for updates.\n",
    "</p><br>\n",
    "<p align='justify' style='margin: 10px 20px; line-height:1.5; font-family: \"Times New Roman\", Times, serif; font-size:16px; color: black'>\n",
    "  It's also worth noting that the stability of a Unix kernel can change over time, as new versions are released and bugs are fixed. As a result, it's important to regularly check for updates and upgrade to the latest stable version of the kernel to ensure the best possible stability and reliability for your system.\n",
    "</p>"
   ]
  },
  {
   "cell_type": "markdown",
   "id": "fb809a09",
   "metadata": {
    "slideshow": {
     "slide_type": "subslide"
    }
   },
   "source": [
    "<h4 style='color:red; font-weight:bold; text-align:center; font-family: \"Times New Roman\", Times, serif; font-size:20px;'>System libraries</h4>\n",
    "<p align='justify' style='margin: 10px 20px; line-height:1.5; font-family: \"Times New Roman\", Times, serif; font-size:16px; color: black'>\n",
    "  These are collections of functions that provide services to programs, such as input/output (I/O) operations and communication with the kernel. \n",
    "</p><br>\n",
    "<h4 style='color:red; font-weight:bold; text-align:center; font-family: \"Times New Roman\", Times, serif; font-size:20px;'>System utilities</h4>\n",
    "<p align='justify' style='margin: 10px 20px; line-height:1.5; font-family: \"Times New Roman\", Times, serif; font-size:16px; color: black'>\n",
    "  These are programs that perform various tasks related to system maintenance, such as managing files and directories, controlling processes, and configuring the system. \n",
    "</p><br>\n",
    "<h4 style='color:red; font-weight:bold; text-align:center; font-family: \"Times New Roman\", Times, serif; font-size:20px;'>User programs</h4>\n",
    "<p align='justify' style='margin: 10px 20px; line-height:1.5; font-family: \"Times New Roman\", Times, serif; font-size:16px; color: black'>\n",
    "  These are the programs that users run on the system, such as text editors, web browsers, and games.\n",
    "</p>"
   ]
  },
  {
   "cell_type": "markdown",
   "id": "9df9cd0a",
   "metadata": {
    "slideshow": {
     "slide_type": "subslide"
    }
   },
   "source": [
    "<h4 style='color:red; font-weight:bold; text-align:center; font-family: \"Times New Roman\", Times, serif; font-size:20px;'>Shell</h4>\n",
    "<img src=\"hqdefault (3).jpg\" width=\"150\" height=\"250\" style=\"float: left; margin-right: 20px; margin-left: 20px;\">\n",
    "<p align='justify' style='margin: 10px 20px; line-height:1.5; font-family: \"Times New Roman\", Times, serif; font-size:16px; color: purple'>\n",
    "  This is a command-line interpreter that allows users to interact with the system by entering commands at the command prompt. There are several different shells available for Unix systems, such as the Bourne shell (sh), the C shell (csh), the Bourne-Again shell (bash) etc.We will see the different types of Shells in few slides below\n",
    "</p><br>\n",
    "<p align='justify' style='margin: 10px 20px; line-height:1.5; font-family: \"Times New Roman\", Times, serif; font-size:16px; color: black'>\n",
    "  In addition to these core components, a Unix system may also include other software packages, such as databases, web servers, and programming languages, to support a wide range of applications.\n",
    "</p><br>\n",
    "<h5 style='color:red; font-weight:bold; text-align:center; font-family: \"Times New Roman\", Times, serif; font-size:18px;'>Components and Flow of the Shell</h5><br>\n",
    "<p align='justify' style='margin: 10px 20px; line-height:1.5; font-family: \"Times New Roman\", Times, serif; font-size:16px; color: purple'>\n",
    "    <strong>Basic components and flow of the Unix shell:</strong>\n",
    "    \n",
    "  <ul style='font-family: \"Times New Roman\", Times, serif; font-weight:light; font-size:16px;'>\n",
    "      <li>The user types a command into the shell, which is interpreted by the shell interpreter.</li>\n",
    "      <li><b>The shell interpreter reads the command and any arguments and options passed to it.</b></li>\n",
    "      <li><b>The shell checks for any special characters or shell built-in commands, and if none are found, it searches the directories in the PATH environment variable for a program with the same name as the command.</b></li>\n",
    "      <li><b>If the program is found, the shell executes it, passing any arguments and options as command-line arguments to the program.</b></li>\n",
    "      <li><b>The program performs its designated task and sends any output back to the shell, which then displays the output to the user.</b></li>\n",
    "      <li><b>Once the program has completed its task, control is returned to the shell, and the user can enter another command.</b></li>\n",
    "    \n",
    "  </ul>\n",
    "</p><br>\n",
    "<p align='justify' style='margin: 10px 20px; line-height:1.5; font-family: \"Times New Roman\", Times, serif; font-size:16px; color: purple'>\n",
    "  Some common shell built-in commands include cd (change directory), echo (display text on the command line), exit (exit the shell), and history (display a list of previously entered commands).\n",
    "</p>"
   ]
  },
  {
   "cell_type": "markdown",
   "id": "0a1ae5c8",
   "metadata": {
    "slideshow": {
     "slide_type": "subslide"
    }
   },
   "source": [
    "<h5 style='color:red; font-weight:bold; text-align:center; font-family: \"Times New Roman\", Times, serif; font-size:18px;'>Types and differences of the shell </h5><br>\n",
    "<p align='justify' style='margin: 10px 20px; line-height:1.5; font-family: \"Times New Roman\", Times, serif; font-size:16px; color: purple'>\n",
    "    There are several different types of Unix shells, each with its own set of features and capabilities. Some of the most popular Unix shells include:<br><br>\n",
    "    \n",
    "  <ul style='font-family: \"Times New Roman\", Times, serif; font-weight:light; font-size:16px;'>\n",
    "      <li>SH - Bourne Shell</li>\n",
    "      <li>Bash (Bourne Again SHell)</li>\n",
    "      <li>C shell (Csh)</li>\n",
    "      <li>Korn shell (Ksh) </li>\n",
    "    \n",
    "    \n",
    "  </ul>\n",
    "</p><br>\n",
    "\n",
    "<p align='justify' style='margin: 10px 20px; line-height:1.5; font-family: \"Times New Roman\", Times, serif; font-size:16px; color: purple'>\n",
    "  Each of these shells has its own unique features and capabilities, and users may prefer one shell over another depending on their personal preferences and the tasks they need to perform. In general, Bash is a good choice for most users, as it is widely used and has a large community of developers and users. Detailed explanation in the cells below\n",
    "</p>"
   ]
  },
  {
   "cell_type": "markdown",
   "id": "92596035",
   "metadata": {
    "slideshow": {
     "slide_type": "subslide"
    }
   },
   "source": [
    "<p align='justify' style='margin: 10px 20px; line-height:1.5; font-family: \"Times New Roman\", Times, serif; font-size:16px; color: purple'>\n",
    "    \n",
    "    \n",
    "  <ul style='font-family: \"Times New Roman\", Times, serif; font-weight:light; font-size:16px;'>\n",
    "      <li><strong style = \"color: purple\">SH - Bourne Shell</strong><br><br>The standard shell is a command-line interface (CLI) that is provided with most Unix-based operating systems. It is the default shell that is used when a user logs in to the system, and it is responsible for interpreting and executing the commands that a user types into the command line.<br><br>The standard shell is usually a version of the Bourne shell (sh), which is a command-line interpreter that was developed in the 1970s and has been included with most Unix-based systems since that time. The Bourne shell is known for its simplicity and flexibility, and it is often used as the basis for other Unix shells such as Bash (Bourne Again SHell) and Korn shell (Ksh).</li><br><br>\n",
    "      <li><strong style = \"color: purple\">Bash (Bourne Again SHell)</strong><br><br>Bash (Bourne Again SHell) is a Unix shell and command language that is often used as the default shell for Unix-like operating systems, including Linux and macOS. It is named after Stephen Bourne, the author of the original Unix shell, and \"Bourne again\" is a reference to the fact that Bash is a reimplementation of the original Bourne shell.<br><br>Bash is a powerful and flexible command-line interface that allows users to execute commands, run scripts, and perform a wide range of other tasks. It provides many features that are useful for both interactive use and shell scripting, including command history, command line editing, and job control. Bash scripts are text files that contain a series of commands that are executed in sequence. They are often used to automate repetitive tasks or to create complex programs that would be difficult to write using individual commands. Bash scripts can be run from the command line by typing \"bash script.sh\", where \"script.sh\" is the name of the script file.<br><br></li>\n",
    "      \n",
    "    \n",
    "    \n",
    "  </ul>\n",
    "</p>"
   ]
  },
  {
   "cell_type": "markdown",
   "id": "988a3633",
   "metadata": {
    "slideshow": {
     "slide_type": "subslide"
    }
   },
   "source": [
    "<p align='justify' style='margin: 10px 20px; line-height:1.5; font-family: \"Times New Roman\", Times, serif; font-size:16px; color: purple'>\n",
    "    \n",
    "    \n",
    "  <ul style='font-family: \"Times New Roman\", Times, serif; font-weight:light; font-size:16px;'>\n",
    "      <li><strong style = \"color: purple\">C shell (Csh)</strong><br><br>The C shell (Csh) is a Unix shell that was developed at the University of California, Berkeley in the late 1970s. It is named for the C programming language, which it was designed to resemble in its syntax and control structures. Csh was one of the first shells to support command history and command line editing, features that are now common in most Unix shells. Csh is not as widely used as some other Unix shells, such as the Bourne shell (sh) or the Bash shell (bash), but it is still popular in some circles and is included with many Unix-like operating systems.<br><br>Like other Unix shells, Csh allows users to enter commands at a command prompt and execute them by pressing the Enter key. It also provides a wide range of built-in commands and features that make it easy to perform tasks such as running programs, moving and copying files, and managing system processes. Csh scripts are similar to Bash scripts, in that they are text files that contain a series of commands that are executed in sequence. They can be run from the command line by typing \"csh script.csh\", where \"script.csh\" is the name of the script file.</li><br><br>\n",
    "      <li><strong style = \"color: purple\">Korn shell (Ksh)</strong><br><br>The Korn shell (Ksh) is a Unix shell that was developed by David Korn at AT&T Bell Labs in the 1980s. It is named for its developer and is sometimes referred to as \"ksh\". Ksh is an enhanced version of the Bourne shell (sh), and it includes many features that were not present in the original Bourne shell, such as command line editing, command history, and arrays. Ksh is widely used on many Unix-like operating systems, including Linux, AIX, and Solaris. It is often used as the default shell for system administrators, as it provides a powerful and flexible command-line interface that is well suited to the needs of systems management.<br><br>Like other Unix shells, Ksh allows users to enter commands at a command prompt and execute them by pressing the Enter key. It also provides a wide range of built-in commands and features that make it easy to perform tasks such as running programs, moving and copying files, and managing system processes. Ksh scripts are similar to Bash and Csh scripts, in that they are text files that contain a series of commands that are executed in sequence. They can be run from the command line by typing \"ksh script.ksh\", where \"script.ksh\" is the name of the script file. </li>\n",
    "    \n",
    "    \n",
    "  </ul>\n",
    "</p>"
   ]
  },
  {
   "cell_type": "markdown",
   "id": "868bb91d",
   "metadata": {
    "slideshow": {
     "slide_type": "subslide"
    }
   },
   "source": [
    "<h3 style='color:red; font-weight:bold; text-align:center; font-family: \"Times New Roman\", Times, serif; font-size:20px;'>Understanding the file system and directory structure </h3>\n",
    "<img src=\"imgbin-directory-structure-computer-icons-mbox-file-system-system-folder-tree-yellow-icon-zrKDbZFXBzy6yEC6PZJ2gh59E.jpg\" width=\"150\" height=\"250\" style=\"float: left; margin-right: 20px; margin-left: 20px;\">\n",
    "<p align='justify' style='margin: 10px 20px; line-height:1.5; font-family: \"Times New Roman\", Times, serif; font-size:16px; color: purple'>\n",
    "  The file system of a computer is a hierarchical structure that is used to store, organize, and access files on a storage device, such as a hard drive or a flash drive. At the top of the file system hierarchy is the root directory, which is represented by a forward slash (/). All other directories in the file system are organized beneath the root directory in a tree-like structure.\n",
    "</p><br><br>\n",
    "<p align='justify' style='margin: 10px 20px; line-height:1.5; font-family: \"Times New Roman\", Times, serif; font-size:16px; color: black'>\n",
    "  In the file system, a directory is a container that holds files and other directories. A directory can contain any number of files and subdirectories, and each subdirectory can contain its own set of files and subdirectories. This hierarchical structure allows users to easily organize and access their files. On most Unix-like operating systems, including Linux and macOS, the file system is divided into two main branches: the root file system and the user file system. The root file system contains the operating system and system files, while the user file system contains the files and directories that belong to individual users.\n",
    "</p><br>\n",
    "<p align='justify' style='margin: 10px 20px; line-height:1.5; font-family: \"Times New Roman\", Times, serif; font-size:16px; color: black'>\n",
    "  Each user on a Unix-like system has a personal directory, called the home directory, that is used to store their personal files and settings. The home directory is typically located within the user file system and is usually represented by a tilde (~).\n",
    "</p><br>\n",
    "<p align='justify' style='margin: 10px 20px; line-height:1.5; font-family: \"Times New Roman\", Times, serif; font-size:16px; color: purple'>\n",
    "  Understanding the file system and directory structure is important for navigating and managing files on a computer. It can also be helpful when working with command-line tools and scripts, as many of these tools operate on files and directories within the file system.\n",
    "</p>"
   ]
  },
  {
   "cell_type": "markdown",
   "id": "c5462294",
   "metadata": {
    "slideshow": {
     "slide_type": "subslide"
    }
   },
   "source": [
    "<h3 style='color:red; font-weight:bold; text-align:center; font-family: \"Times New Roman\", Times, serif; font-size:20px;'>Setting up the command-line environment </h3><br>\n",
    "<p align='justify' style='margin: 10px 20px; line-height:1.5; font-family: \"Times New Roman\", Times, serif; font-size:16px; color: purple'>\n",
    "  To set up the command-line environment on a Unix-like operating system, such as Linux or macOS, you will need to install a command-line shell and a terminal emulator. A shell is a program that allows you to enter commands at a command prompt and execute them by pressing the Enter key. A terminal emulator is a program that provides a window in which you can use the shell. \n",
    "</p><br>\n",
    "<p align='justify' style='margin: 10px 20px; line-height:1.5; font-family: \"Times New Roman\", Times, serif; font-size:16px; color: black'>\n",
    "  To install a shell on a Unix-like operating system, you will typically need to use a package manager, such as apt (for Debian-based systems) or yum (for Red Hat-based systems). For example, to install the Bash shell on a Debian-based system, you can use the following command: \n",
    "</p>"
   ]
  },
  {
   "cell_type": "code",
   "execution_count": null,
   "id": "0656546a",
   "metadata": {
    "slideshow": {
     "slide_type": "subslide"
    }
   },
   "outputs": [],
   "source": [
    "%%bash\n",
    "sudo apt-get install bash"
   ]
  },
  {
   "cell_type": "markdown",
   "id": "06ed698c",
   "metadata": {
    "slideshow": {
     "slide_type": "subslide"
    }
   },
   "source": [
    "<p align='justify' style='margin: 10px 20px; line-height:1.5; font-family: \"Times New Roman\", Times, serif; font-size:16px; color: purple'>\n",
    "  In this course we will install a Linux Distribution on a Virtual Machine (Prefarably VMware Workstation Pro: It is paid and i beleive your school will provide the linces key. we can find other alternatives if you do not have the activation key of VMware Workstation Pro:\n",
    " \n",
    "</p><br>\n",
    "<h3 style='color:red; font-weight:bold; text-align:center; font-family: \"Times New Roman\", Times, serif; font-size:20px;'>Linux Distributions & Installation </h3><br>\n",
    "<p align='justify' style='margin: 10px 20px; line-height:1.5; font-family: \"Times New Roman\", Times, serif; font-size:16px; color: purple'>\n",
    "    <strong>Linux Distribution</strong>\n",
    "    <img src=\"Linux_distr_large.jpg\" width=\"150\" height=\"250\" style=\"float: right; margin-right: 170px; margin-left: 170px;\">\n",
    "    \n",
    "  <ul style='font-family: \"Times New Roman\", Times, serif; font-weight:light; font-size:16px;'>\n",
    "      <li><strong><a href=\"https://www.mandrakesoft.com/\">Mandrake</a></strong></li>\n",
    "      <li><strong><a href=\"https://www.redhat.com/en\">RedHat</a></strong></li>\n",
    "      <li><strong><a href=\"https://www.fedora-fr.org/\">Fedora</a></strong></li>\n",
    "      <li><strong><a href=\"https://www.centos.org/\">CentOS</a></strong></li>\n",
    "      <li><strong><a href=\"https://www.debian.org/\">Debian</a></strong></li>\n",
    "      <li><strong><a href=\"https://www.suse.com/\">SuSE/Novell</a></strong></li>\n",
    "      <li><strong><a href=\"https://www.kali.org/\">Kali</a></strong></li>\n",
    "      <li><strong><a href=\"https://distrowatch.com/\">More about Distributions Here</a></strong></li>\n",
    "      \n",
    "    \n",
    "    \n",
    "  </ul>\n",
    "</p>"
   ]
  },
  {
   "cell_type": "markdown",
   "id": "953d9cc4",
   "metadata": {
    "slideshow": {
     "slide_type": "subslide"
    }
   },
   "source": [
    "<h3 style='color:red; font-weight:bold; text-align:center; font-family: \"Times New Roman\", Times, serif; font-size:20px;'>Exercise 0: Introduction </h3><br>\n",
    "<p align='justify' style='margin: 10px 20px; line-height:1.5; font-family: \"Times New Roman\", Times, serif; font-size:16px; color: purple'>\n",
    "    \n",
    "    \n",
    "  <ul style='font-family: \"Times New Roman\", Times, serif; font-weight:light; font-size:16px;'>\n",
    "      <li>Q1. How do the principles of Unix and Linux continue to shape the direction of the open-source community today?</li>\n",
    "      <li>Q2. What are some of the challenges that Unix and Linux have faced over the years, and how have they been addressed?</li>\n",
    "      <li>Q3. Who developed Unix, and why?</li>\n",
    "      <li>Q4. What is the philosophy behind the design of Unix?</li>\n",
    "      <li>Q5. What is Linux, and how does it relate to Unix?</li>\n",
    "      <li>Q6. How do file permissions work in Unix and Linux, and how can they be used to control access to files and directories?</li>\n",
    "      <li>Q7. What is the root directory, and what is its significance in the file system hierarchy?</li>\n",
    "      <li>Q8. What is a file system, and why is it important in a computer operating system?</li>\n",
    "    \n",
    "    \n",
    "  </ul>\n",
    "</p>"
   ]
  },
  {
   "cell_type": "markdown",
   "id": "da4bf68d",
   "metadata": {
    "slideshow": {
     "slide_type": "slide"
    }
   },
   "source": [
    "<h2 style='color:red; font-weight:bold; text-align:center; font-family: \"Times New Roman\", Times, serif; font-size:22px;'>CHAPTER ONE: BASIC UNIX AND LINUX COMMANDS </h2><br>\n",
    "<img src=\"linux-commands-1024x512.jpg\" width=\"150\" height=\"250\" style=\"float: left; margin-right: 20px; margin-left: 20px;\">\n",
    "<p align='justify' style='margin: 10px 20px; line-height:1.5; font-family: \"Times New Roman\", Times, serif; font-size:16px; color: purple'>\n",
    "  Commands are ways or instructions through which you can instruct your system to do some action. Commands are executed in the command line. In this section we will see some basic shell commands and how we can use them\n",
    "\n",
    "</p><br><br>\n",
    "<p align='justify' style='margin: 10px 20px; line-height:1.5; font-family: \"Times New Roman\", Times, serif; font-size:16px; color: purple'>\n",
    "    <strong style = \"color: black\">Some Commands</strong>\n",
    "    \n",
    "  <ul style='font-family: \"Times New Roman\", Times, serif; font-weight:light; font-size:16px;'>\n",
    "      <li><strong style = \"color: purple\">date : </strong> Shows the current date</li>\n",
    "      <li><strong style = \"color: purple\">whoami: </strong> Account used</li>\n",
    "      <li><strong style = \"color: purple\">who: </strong> List of connected users to the system</li>\n",
    "      <li><strong style = \"color: purple\">cal: </strong> Calender</li>\n",
    "      <li><strong style = \"color: purple\">uname: </strong> OS & Kernel Version</li>\n",
    "      <li><strong style = \"color: purple\">id: </strong>Identity of user</li>\n",
    "      <li><strong style = \"color: purple\">su: </strong>Switch User</li>\n",
    "      <li><strong style = \"color: purple\">script -a => exit: </strong>save in file name typesscript</li>\n",
    "      <li><strong style = \"color: purple\"> file filename: </strong>save in file name typesscript</li>\n",
    "    \n",
    "    \n",
    "  </ul>\n",
    "</p><br>\n",
    "<p align='justify' style='margin: 10px 20px; line-height:1.5; font-family: \"Times New Roman\", Times, serif; font-size:16px; color: purple'>\n",
    "  Power on your newly installed Linux in your VM and start building your skills in Shell Commands, consider that as your gateway to the world of hacking. open your terminal and start practicing the commands. \n",
    "\n",
    "</p>"
   ]
  },
  {
   "cell_type": "code",
   "execution_count": 4,
   "id": "29c6b6f0",
   "metadata": {
    "slideshow": {
     "slide_type": "subslide"
    }
   },
   "outputs": [],
   "source": [
    "%%bash\n",
    "#ls"
   ]
  },
  {
   "cell_type": "markdown",
   "id": "d58aa314",
   "metadata": {
    "slideshow": {
     "slide_type": "subslide"
    }
   },
   "source": [
    "<p align='justify' style='margin: 10px 20px; line-height:1.5; font-family: \"Times New Roman\", Times, serif; font-size:16px; color: black'>\n",
    "  The \"ls\" command is a command-line utility for listing the files and directories in a directory. It is one of the most commonly used commands in Linux and Unix-like operating systems.<br><br>By default, ls lists the files and directories in the current working directory, but it can also be used to list the files and directories in a specified directory or directories. The output of ls can be customized with a variety of command-line options. type \"man\" command to see the options of \"ls\" command and how it can be used.\n",
    "\n",
    "</p>"
   ]
  },
  {
   "cell_type": "code",
   "execution_count": 6,
   "id": "2a85cec3",
   "metadata": {
    "slideshow": {
     "slide_type": "subslide"
    }
   },
   "outputs": [],
   "source": [
    "%%bash\n",
    "#man ls"
   ]
  },
  {
   "cell_type": "markdown",
   "id": "0418299d",
   "metadata": {
    "slideshow": {
     "slide_type": "subslide"
    }
   },
   "source": [
    "<h4 style='color:red; font-weight:bold; text-align:center; font-family: \"Times New Roman\", Times, serif; font-size:18px;'>Navigating the file system with cd, ls, and pwd </h4><br>\n",
    "<img src=\"LinuxPathTree.png\" width=\"150\" height=\"250\" style=\"float: left; margin-right: 20px; margin-left: 20px;\">\n",
    "<p align='justify' style='margin: 10px 20px; line-height:1.5; font-family: \"Times New Roman\", Times, serif; font-size:16px; color: black'>\n",
    "  In a Unix-like operating system, the cd (change directory) command is used to navigate the file system. The ls (list) command is used to list the files and directories in a directory as explained above. The pwd (print working directory) command is used to display the name of the current working directory.<br><br><br><strong style = \"color: purple\">Here are some examples of how these commands can be used:</strong>\n",
    "\n",
    "</p>"
   ]
  },
  {
   "cell_type": "code",
   "execution_count": 7,
   "id": "f88543dd",
   "metadata": {
    "slideshow": {
     "slide_type": "subslide"
    }
   },
   "outputs": [
    {
     "name": "stdout",
     "output_type": "stream",
     "text": [
      "/home/sark\n"
     ]
    }
   ],
   "source": [
    "%%bash\n",
    "pwd"
   ]
  },
  {
   "cell_type": "code",
   "execution_count": 8,
   "id": "e8129fa9",
   "metadata": {
    "slideshow": {
     "slide_type": "subslide"
    }
   },
   "outputs": [],
   "source": [
    "%%bash\n",
    "#ls"
   ]
  },
  {
   "cell_type": "code",
   "execution_count": 11,
   "id": "e13f8565",
   "metadata": {
    "slideshow": {
     "slide_type": "subslide"
    }
   },
   "outputs": [],
   "source": [
    "%%bash\n",
    "#cd /Documents\n",
    "#pwd\n",
    "#ls"
   ]
  },
  {
   "cell_type": "markdown",
   "id": "780a5ec0",
   "metadata": {
    "slideshow": {
     "slide_type": "subslide"
    }
   },
   "source": [
    "<p align='justify' style='margin: 10px 20px; line-height:1.5; font-family: \"Times New Roman\", Times, serif; font-size:16px; color: black'>\n",
    "  In the example above, the pwd command is used to display the current working directory, which is /home/user. The ls command is then used to list the contents of this directory, which include the documents, downloads, music, pictures, and videos directories. The cd command is then used to change the current working directory to documents, and the pwd and ls commands are used again to show the new working directory and its contents.\n",
    "\n",
    "</p><br>\n",
    "<p align='justify' style='margin: 10px 20px; line-height:1.5; font-family: \"Times New Roman\", Times, serif; font-size:16px; color: black'>\n",
    "  You can also use the cd command to move up one level in the directory hierarchy by using cd ..  For example, if the current working directory is /home/user/documents, you can use cd .. to change the current directory to /home/user.\n",
    "\n",
    "</p><br>\n",
    "<p align='justify' style='margin: 10px 20px; line-height:1.5; font-family: \"Times New Roman\", Times, serif; font-size:16px; color: purple'>\n",
    "  It's also possible to use cd with a path to navigate directly to a specific directory. For example, cd /home/user/documents will take you directly to the documents directory, regardless of your current working directory.\n",
    "\n",
    "</p>"
   ]
  },
  {
   "cell_type": "code",
   "execution_count": 12,
   "id": "3dcf8ca3",
   "metadata": {
    "slideshow": {
     "slide_type": "subslide"
    }
   },
   "outputs": [],
   "source": [
    "%%bash\n",
    "cd .."
   ]
  },
  {
   "cell_type": "markdown",
   "id": "d06e1c63",
   "metadata": {
    "slideshow": {
     "slide_type": "subslide"
    }
   },
   "source": [
    "<h4 style='color:red; font-weight:bold; text-align:center; font-family: \"Times New Roman\", Times, serif; font-size:18px;'>Creating and modifying files and directories with touch, mkdir, cp, and mv </h4><br>\n",
    "<p align='justify' style='margin: 10px 20px; line-height:1.5; font-family: \"Times New Roman\", Times, serif; font-size:16px; color: black'>\n",
    "  \"touch\" is a command that allows you to create a new, empty file or update the access and modification times of an existing file. To create a new file, you can use the following syntax:<br><br><b>touch [options] file</b><br><br><br><strong style = \"color: purple\">For example, to create a new file called \"myFile.txt,\" you would enter:</strong>\n",
    "\n",
    "</p>"
   ]
  },
  {
   "cell_type": "code",
   "execution_count": 14,
   "id": "5676d5cc",
   "metadata": {
    "slideshow": {
     "slide_type": "subslide"
    }
   },
   "outputs": [],
   "source": [
    "%%bash\n",
    "touch myFile.txt"
   ]
  },
  {
   "cell_type": "markdown",
   "id": "506701aa",
   "metadata": {
    "slideshow": {
     "slide_type": "subslide"
    }
   },
   "source": [
    "<p align='justify' style='margin: 10px 20px; line-height:1.5; font-family: \"Times New Roman\", Times, serif; font-size:16px; color: black'>\n",
    "  You can use the \"-a\" option to update the access time of a file, and the \"-m\" option to update the modification time.<br><br><b>\"mkdir\" </b>is a command that allows you to create a new directory. To create a new directory, you can use the following syntax:<br><br><br><strong>mkdir [options] directory</strong><br><br><br><strong style = \"color: purple\">For example, to create a new directory called \"mydir,\" you would enter:</strong>\n",
    "\n",
    "</p>"
   ]
  },
  {
   "cell_type": "code",
   "execution_count": 15,
   "id": "ba76d2c1",
   "metadata": {
    "slideshow": {
     "slide_type": "subslide"
    }
   },
   "outputs": [],
   "source": [
    "%%bash\n",
    "mkdir mydir"
   ]
  },
  {
   "cell_type": "markdown",
   "id": "619e0790",
   "metadata": {
    "slideshow": {
     "slide_type": "subslide"
    }
   },
   "source": [
    "<p align='justify' style='margin: 10px 20px; line-height:1.5; font-family: \"Times New Roman\", Times, serif; font-size:16px; color: black'>\n",
    "  \"cp\" is a command that allows you to copy files and directories. To copy a file, you can use the following syntax:<br><br><b>cp [options] source destination</b><br><br><br><strong style = \"color: purple\">For example, to copy a file called \"myFile.txt\" to a new file called \"myfile_copy.txt,\" you would enter:</strong>\n",
    "\n",
    "</p>"
   ]
  },
  {
   "cell_type": "code",
   "execution_count": 17,
   "id": "50ea4fd8",
   "metadata": {
    "slideshow": {
     "slide_type": "subslide"
    }
   },
   "outputs": [],
   "source": [
    "%%bash\n",
    "cp myFile.txt myfile_copy.txt"
   ]
  },
  {
   "cell_type": "markdown",
   "id": "9b955862",
   "metadata": {
    "slideshow": {
     "slide_type": "subslide"
    }
   },
   "source": [
    "<p align='justify' style='margin: 10px 20px; line-height:1.5; font-family: \"Times New Roman\", Times, serif; font-size:16px; color: black'>\n",
    "  To copy a directory and its contents, you can use the \"-R\" option, which stands for \"recursive.\" For example, to copy a directory called \"mydir\" to a new directory called \"mydir_copy,\" you would enter:\n",
    "\n",
    "</p>"
   ]
  },
  {
   "cell_type": "code",
   "execution_count": 19,
   "id": "85c34de3",
   "metadata": {
    "slideshow": {
     "slide_type": "subslide"
    }
   },
   "outputs": [],
   "source": [
    "%%bash\n",
    "cp -R mydir mydir_copy"
   ]
  },
  {
   "cell_type": "markdown",
   "id": "fa85926c",
   "metadata": {
    "slideshow": {
     "slide_type": "subslide"
    }
   },
   "source": [
    "<p align='justify' style='margin: 10px 20px; line-height:1.5; font-family: \"Times New Roman\", Times, serif; font-size:16px; color: black'>\n",
    "  \"mv\" is a command that allows you to move or rename files and directories. To move a file, you can use the following syntax:<br><br><b> mv [options] source destination\n",
    "</b><br><br><br><strong style = \"color: purple\">For example, to move a file called \"myfile.txt\" to a new location called \"./mydir,\" you would enter:</strong>\n",
    "\n",
    "</p>"
   ]
  },
  {
   "cell_type": "code",
   "execution_count": 20,
   "id": "ca6615c4",
   "metadata": {
    "slideshow": {
     "slide_type": "subslide"
    }
   },
   "outputs": [],
   "source": [
    "%%bash\n",
    "mv myFile.txt ./mydir"
   ]
  },
  {
   "cell_type": "markdown",
   "id": "eb958f24",
   "metadata": {
    "slideshow": {
     "slide_type": "subslide"
    }
   },
   "source": [
    "<p align='justify' style='margin: 10px 20px; line-height:1.5; font-family: \"Times New Roman\", Times, serif; font-size:16px; color: black'>\n",
    "  To rename a file, you can use the same syntax, but specify the same directory as the source and destination. For example, to rename \"myFile.txt\" to \"myfile_new.txt,\" you would enter:\n",
    "\n",
    "\n",
    "</p>"
   ]
  },
  {
   "cell_type": "code",
   "execution_count": 23,
   "id": "dc899b01",
   "metadata": {
    "slideshow": {
     "slide_type": "subslide"
    }
   },
   "outputs": [],
   "source": [
    "%%bash\n",
    "mv myFile.txt myfile_new.txt"
   ]
  },
  {
   "cell_type": "markdown",
   "id": "ea78ec37",
   "metadata": {
    "slideshow": {
     "slide_type": "subslide"
    }
   },
   "source": [
    "<p align='justify' style='margin: 10px 20px; line-height:1.5; font-family: \"Times New Roman\", Times, serif; font-size:16px; color: black'>\n",
    "  To move a directory and its contents, you can use the same syntax as for moving a file, but you may need to use the \"-R\" option if the directory contains files or subdirectories.\n",
    "\n",
    "</p><br><br>\n",
    "<h4 style='color:red; font-weight:bold; text-align:center; font-family: \"Times New Roman\", Times, serif; font-size:18px;'>Viewing and manipulating files with cat, less, and head</h4><br>\n",
    "<p align='justify' style='margin: 10px 20px; line-height:1.5; font-family: \"Times New Roman\", Times, serif; font-size:16px; color: black'>\n",
    "  \"cat\" is a Unix command that is used to concatenate (join) and display files. When used with a single file, it displays the contents of the file on the screen. When used with multiple files, it concatenates them and displays the resulting output.<br><br>less is a Unix command that allows you to view a file one page at a time. It is similar to more, but has the added ability to move both forward and backward within the file, as well as search for text. To view a file with less, you can use the following syntax:<br><br><br><strong>less filename</strong>\n",
    "\n",
    "\n",
    "</p><br><br>\n",
    "<p align='justify' style='margin: 10px 20px; line-height:1.5; font-family: \"Times New Roman\", Times, serif; font-size:16px; color: black'>\n",
    "  \"head\" is a Unix command that allows you to display the first few lines of a file. By default, it displays the first 10 lines of the file. You can specify a different number of lines by using the \"-n\" option, followed by the number of lines you want to display. For example, to display the first 5 lines of a file, you can use the following syntax: <br><br><br><strong>head -n 5 filename</strong>\n",
    "\n",
    "\n",
    "</p><br><br>\n",
    "<p align='justify' style='margin: 10px 20px; line-height:1.5; font-family: \"Times New Roman\", Times, serif; font-size:16px; color: purple'>\n",
    "  All of these commands are useful for quickly viewing the contents of a file, particularly when you only need to see the beginning or a specific part of the file. They are often used in combination with other Unix commands, such as \"grep\" and \"sed\", to filter and manipulate the output.\n",
    "\n",
    "\n",
    "</p>"
   ]
  },
  {
   "cell_type": "markdown",
   "id": "255e3e9f",
   "metadata": {
    "slideshow": {
     "slide_type": "subslide"
    }
   },
   "source": [
    "<h4 style='color:red; font-weight:bold; text-align:center; font-family: \"Times New Roman\", Times, serif; font-size:18px;'>Finding files with find and grep </h4><br>\n",
    "<p align='justify' style='margin: 10px 20px; line-height:1.5; font-family: \"Times New Roman\", Times, serif; font-size:16px; color: black'>\n",
    "  The \"find\" command is a Unix utility that allows you to search for files and directories based on various criteria, such as name, size, type, and access time. You can use the \"-name\" option to search for files based on their name, and the \"-type\" option to search for files based on their type (e.g., f for regular files or d for directories).<br><br><br><strong style = \"color: purple\">For example, to search for all files in the current directory and its subdirectories whose names end in .txt, you can use the following command:</strong>\n",
    "\n",
    "</p>"
   ]
  },
  {
   "cell_type": "code",
   "execution_count": 1,
   "id": "9854f617",
   "metadata": {
    "slideshow": {
     "slide_type": "subslide"
    }
   },
   "outputs": [],
   "source": [
    "%%bash\n",
    "#find . -name \"*.txt\""
   ]
  },
  {
   "cell_type": "markdown",
   "id": "59319850",
   "metadata": {
    "slideshow": {
     "slide_type": "subslide"
    }
   },
   "source": [
    "<p align='justify' style='margin: 10px 20px; line-height:1.5; font-family: \"Times New Roman\", Times, serif; font-size:16px; color: black'>\n",
    "  You can also use the \"grep\" command to search for text patterns within files. For example, to search for all files in the current directory and its subdirectories that contain the word \"HELLO\", you can use the following command:\n",
    "\n",
    "</p>"
   ]
  },
  {
   "cell_type": "code",
   "execution_count": 2,
   "id": "d7905daa",
   "metadata": {
    "slideshow": {
     "slide_type": "subslide"
    }
   },
   "outputs": [],
   "source": [
    "%%bash\n",
    "#grep -r \"HELLO\" ."
   ]
  },
  {
   "cell_type": "markdown",
   "id": "4e5476a5",
   "metadata": {
    "slideshow": {
     "slide_type": "subslide"
    }
   },
   "source": [
    "<p align='justify' style='margin: 10px 20px; line-height:1.5; font-family: \"Times New Roman\", Times, serif; font-size:16px; color: black'>\n",
    "  You can use the find and grep commands together to search for files that match specific criteria and contain specific text patterns. For example, to search for all .txt files in the current directory and its subdirectories that contain the word \"hello\", you can use the following command:\n",
    "\n",
    "</p>"
   ]
  },
  {
   "cell_type": "code",
   "execution_count": 3,
   "id": "212ca325",
   "metadata": {
    "scrolled": true,
    "slideshow": {
     "slide_type": "subslide"
    }
   },
   "outputs": [],
   "source": [
    "%%bash\n",
    "#find . -name \"*.txt\" -exec grep -l \"hello\" {} \\;"
   ]
  },
  {
   "cell_type": "markdown",
   "id": "710099e4",
   "metadata": {
    "slideshow": {
     "slide_type": "subslide"
    }
   },
   "source": [
    "<p align='justify' style='margin: 10px 20px; line-height:1.5; font-family: \"Times New Roman\", Times, serif; font-size:16px; color: black'>\n",
    "  This will search for all \".txt\" files in the current directory and its subdirectories, and then use \"grep\" to search for the word \"hello\" within each file. The \"-l\" option tells \"grep\" to print the names of the files that contain a match, rather than the lines of text that match. The \"{}\" and \"\\;\" are used to tell \"find\" to pass each file name to \"grep\" as an argument, and the \"-exec\" option tells find to execute the \"grep\" command for each file.\n",
    "\n",
    "</p><br><br>\n",
    "<h4 style='color:red; font-weight:bold; text-align:center; font-family: \"Times New Roman\", Times, serif; font-size:18px;'>Using pipes and redirection to connect commands  </h4><br>\n",
    "<p align='justify' style='margin: 10px 20px; line-height:1.5; font-family: \"Times New Roman\", Times, serif; font-size:16px; color: black'>\n",
    "  In Unix-like operating systems, the \"|\" symbol is used to pipe the output of one command into another as input. This allows you to chain multiple commands together and perform more complex tasks.<br><br><br><strong style = \"color: purple\">For example, you can use the \"grep\" command to search for a particular pattern in a file, and then use the \"sort\" command to sort the output of \"grep\":</strong>\n",
    "\n",
    "</p>"
   ]
  },
  {
   "cell_type": "code",
   "execution_count": null,
   "id": "885e5c8e",
   "metadata": {
    "slideshow": {
     "slide_type": "subslide"
    }
   },
   "outputs": [],
   "source": [
    "%%bash\n",
    "grep pattern file.txt | sort"
   ]
  },
  {
   "cell_type": "markdown",
   "id": "a76acde0",
   "metadata": {
    "slideshow": {
     "slide_type": "subslide"
    }
   },
   "source": [
    "<h4 style='color:red; font-weight:bold; text-align:center; font-family: \"Times New Roman\", Times, serif; font-size:18px;'>Using pipes and redirection to connect commands  </h4><br>\n",
    "<p align='justify' style='margin: 10px 20px; line-height:1.5; font-family: \"Times New Roman\", Times, serif; font-size:16px; color: black'>\n",
    "  This will search \"file.txt\" for lines containing the pattern \"pattern\", and then sort the output alphabetically.<br><br><br>You can also use the \">\" symbol to redirect the output of a command to a file. For example, the following command will save the output of the \"ls\" command to a file called \"listing.txt\":\n",
    "\n",
    "</p>"
   ]
  },
  {
   "cell_type": "code",
   "execution_count": null,
   "id": "98f0e99a",
   "metadata": {
    "slideshow": {
     "slide_type": "subslide"
    }
   },
   "outputs": [],
   "source": [
    "%%bash\n",
    "ls > listing.txt"
   ]
  },
  {
   "cell_type": "markdown",
   "id": "e256a036",
   "metadata": {
    "slideshow": {
     "slide_type": "subslide"
    }
   },
   "source": [
    "<p align='justify' style='margin: 10px 20px; line-height:1.5; font-family: \"Times New Roman\", Times, serif; font-size:16px; color: black'>\n",
    "  If the file \"listing.txt\" already exists, the output of \"ls\" will overwrite its contents. If the file does not exist, it will be created.<br><br>You can also use the \">>\" symbol to append the output of a command to a file, rather than overwriting its contents. For example:\n",
    "\n",
    "</p>"
   ]
  },
  {
   "cell_type": "code",
   "execution_count": 7,
   "id": "3a442867",
   "metadata": {
    "slideshow": {
     "slide_type": "subslide"
    }
   },
   "outputs": [],
   "source": [
    "%%bash\n",
    "ls >> listing.txt"
   ]
  },
  {
   "cell_type": "markdown",
   "id": "0f653144",
   "metadata": {
    "slideshow": {
     "slide_type": "subslide"
    }
   },
   "source": [
    "<p align='justify' style='margin: 10px 20px; line-height:1.5; font-family: \"Times New Roman\", Times, serif; font-size:16px; color: purple'>\n",
    "  This will add the output of the \"ls\" command to the end of the \"listing.txt\" file, rather than replacing its contents.<br><br>Pipes and redirection are powerful tools that allow you to combine and manipulate the output of multiple commands in complex ways.\n",
    "\n",
    "</p>"
   ]
  },
  {
   "cell_type": "markdown",
   "id": "dde5fa57",
   "metadata": {
    "slideshow": {
     "slide_type": "subslide"
    }
   },
   "source": [
    "<h3 style='color:red; font-weight:bold; text-align:center; font-family: \"Times New Roman\", Times, serif; font-size:20px;'>Exercise 1: Basic Unix and Linux commands </h3><br>\n",
    "<p align='justify' style='margin: 10px 20px; line-height:1.5; font-family: \"Times New Roman\", Times, serif; font-size:16px; color: purple'>\n",
    "    \n",
    "    \n",
    "  <ul style='font-family: \"Times New Roman\", Times, serif; font-weight:light; font-size:16px;'>\n",
    "      <li>Q1. Can the \"pwd\" command be used to display the relative path of the current working directory, rather than the absolute path? If so, how?</li>\n",
    "      <li>Q2. Is it possible to use wildcards with the \"cd\" command to change to a directory that partially matches a specific pattern?</li>\n",
    "      <li>Q3. How can I use the ls command to view the contents of a specific directory, rather than the current working directory?</li>\n",
    "      <li>Q4. Is it possible to use the mkdir command to create a new directory with a specific set of permissions? If so, how do I specify the desired permissions?</li>\n",
    "      <li>Q5. How can I use the cp command to copy a file from one location to another, while preserving the original file's modification time and permissions?</li>\n",
    "      <li>Q6. Can the mkdir command be used to create a directory hierarchy, rather than just a single directory? If so, how?</li>\n",
    "      <li>Q7. Can the less command be used to search for a specific string of text within a file? If so, how do I specify the string that I want to search for?</li>\n",
    "      <li>Q8. Can the less command be used to navigate through a file, rather than just view it from start to finish? If so, how do I move forward and backward through the file?</li>\n",
    "      <li>Q9. Can the head command be used to display a specific number of lines from the middle or end of a file, rather than just the beginning? If so, how do I specify the line range that I want to view?</li>\n",
    "      <li>Q10. Can the grep command be used to search for text that matches a specific case-sensitivity? If so, how do I specify whether the search should be case-sensitive or case-insensitive?</li>\n",
    "    \n",
    "    \n",
    "  </ul>\n",
    "</p>"
   ]
  },
  {
   "cell_type": "markdown",
   "id": "c65423f2",
   "metadata": {
    "slideshow": {
     "slide_type": "slide"
    }
   },
   "source": [
    "<h2 style='color:red; font-weight:bold; text-align:center; font-family: \"Times New Roman\", Times, serif; font-size:22px;'>CHAPTER TWO: ADVANCED UNIX AND LINUX COMMANDS </h2><br>\n",
    "<img src=\"753913-1592866338975-16x9.jpg\" width=\"150\" height=\"250\" style=\"float: left; margin-right: 20px; margin-left: 20px;\">\n",
    "<p align='justify' style='margin: 10px 20px; line-height:1.5; font-family: \"Times New Roman\", Times, serif; font-size:16px; color: purple'>\n",
    "  Commands are ways or instructions through which you can instruct your system to do some action. Commands are executed in the command line as already explained in the previous lesson. In this section we will see some advanced shell commands and how we can use them\n",
    "\n",
    "</p><br><br>\n",
    "<p align='justify' style='margin: 10px 20px; line-height:1.5; font-family: \"Times New Roman\", Times, serif; font-size:16px; color: purple'>\n",
    "    <strong style = \"color: black\">Here are some advanced Unix and Linux commands that you may find useful:</strong>\n",
    "    \n",
    "  <ul style='font-family: \"Times New Roman\", Times, serif; font-weight:light; font-size:16px;'>\n",
    "      <li><strong style = \"color: purple\">grep: </strong> search for patterns in text and print matching lines</li>\n",
    "      <li><strong style = \"color: purple\">sed: </strong> edit files by replacing, inserting, or deleting text</li>\n",
    "      <li><strong style = \"color: purple\">awk: </strong> process text files and perform actions based on patterns</li>\n",
    "      <li><strong style = \"color: purple\">find: </strong> search for files in a directory hierarchy</li>\n",
    "      <li><strong style = \"color: purple\">tar: </strong> archive and compress files</li>\n",
    "      <li><strong style = \"color: purple\">rsync: </strong>synchronize files between two systems</li>\n",
    "      <li><strong style = \"color: purple\">ssh: </strong> remotely log in to and control another system</li>\n",
    "      <li><strong style = \"color: purple\">scp: </strong>securely copy files between systems</li>\n",
    "      <li><strong style = \"color: purple\"> cron:  </strong>schedule tasks to be performed automatically</li>\n",
    "      <li><strong style = \"color: purple\"> bash: </strong>the Bourne-Again Shell, a powerful command-line interpreter\n",
    "</li>\n",
    "    \n",
    "    \n",
    "  </ul>\n",
    "</p><br>\n",
    "<p align='justify' style='margin: 10px 20px; line-height:1.5; font-family: \"Times New Roman\", Times, serif; font-size:16px; color: purple'>\n",
    "  These are just a few examples, and there are many other advanced Unix and Linux commands available. It's a good idea to familiarize yourself with the manual pages (man pages) for these and other commands, as they contain detailed information on how to use them.  \n",
    "\n",
    "</p>"
   ]
  },
  {
   "cell_type": "markdown",
   "id": "8f1144f3",
   "metadata": {
    "slideshow": {
     "slide_type": "subslide"
    }
   },
   "source": [
    "<h3 style='color:red; font-weight:bold; text-align:center; font-family: \"Times New Roman\", Times, serif; font-size:20px;'>Managing processes with ps, top, and kill  </h3><br>\n",
    "<img src=\"process-management.png\" width=\"150\" height=\"250\" style=\"float: left; margin-right: 20px; margin-left: 20px;\">\n",
    "<p align='justify' style='margin: 10px 20px; line-height:1.5; font-family: \"Times New Roman\", Times, serif; font-size:16px; color: purple'>\n",
    "  The \"ps\" command is used to display information about processes that are currently running on the system. It is often used in conjunction with the \"grep\" command to search for specific processes by name. For example, the following command will display information about all processes with the name \"httpd\" (the Apache HTTP Server daemon):\n",
    "\n",
    "</p>"
   ]
  },
  {
   "cell_type": "code",
   "execution_count": 8,
   "id": "5175a0ae",
   "metadata": {
    "slideshow": {
     "slide_type": "subslide"
    }
   },
   "outputs": [
    {
     "name": "stdout",
     "output_type": "stream",
     "text": [
      "sark     2669842  0.0  0.0  17864  2412 ?        S    20:53   0:00 grep httpd\n"
     ]
    }
   ],
   "source": [
    "%%bash\n",
    "ps aux | grep httpd"
   ]
  },
  {
   "cell_type": "markdown",
   "id": "dc390a62",
   "metadata": {
    "slideshow": {
     "slide_type": "subslide"
    }
   },
   "source": [
    "<p align='justify' style='margin: 10px 20px; line-height:1.5; font-family: \"Times New Roman\", Times, serif; font-size:16px; color: black'>\n",
    "  The \"top\" command is an interactive tool that displays information about the running processes on a system, including the process ID, the user that owns the process, the CPU and memory usage of the process, and the command that was used to start the process. You can use the \"top\" command to monitor the resource usage of your system in real-time, or to identify processes that may be causing problems on your system.\n",
    "\n",
    "\n",
    "</p><br>\n",
    "<p align='justify' style='margin: 10px 20px; line-height:1.5; font-family: \"Times New Roman\", Times, serif; font-size:16px; color: black'>\n",
    "  The \"kill\" command is used to send a signal to a process to terminate it. By default, the \"kill\" command sends the \"SIGTERM\" signal to the process, which allows the process to clean up any resources it is using before it exits. However, you can also use the \"kill\" command to send other signals to a process, such as the \"SIGKILL\" signal, which forces the process to terminate immediately.\n",
    "\n",
    "\n",
    "</p><br>\n",
    "<p align='justify' style='margin: 10px 20px; line-height:1.5; font-family: \"Times New Roman\", Times, serif; font-size:16px; color: black'>\n",
    "  To use the \"kill\" command, you will need the process ID of the process you want to terminate. You can use the \"ps\" command to find the process ID of a process, or you can use the top command to find the process ID and other information about the process. Once you have the process ID, you can use the \"kill\" command to terminate the process like this: <br><br><br><strong>kill [process ID] </strong><br><br><br><strong style = \"color: purple\"> For example, to kill a process with the process ID 123, you would run the following command:</strong>\n",
    "\n",
    "\n",
    "</p>"
   ]
  },
  {
   "cell_type": "code",
   "execution_count": 10,
   "id": "394364aa",
   "metadata": {
    "slideshow": {
     "slide_type": "subslide"
    }
   },
   "outputs": [],
   "source": [
    "%%bash\n",
    "#kill 123"
   ]
  },
  {
   "cell_type": "markdown",
   "id": "ed7f4355",
   "metadata": {
    "slideshow": {
     "slide_type": "subslide"
    }
   },
   "source": [
    "<h3 style='color:red; font-weight:bold; text-align:center; font-family: \"Times New Roman\", Times, serif; font-size:20px;'>Working with users and groups with useradd, usermod, groupadd, and chgrp </h3><br>\n",
    "<img src=\"hqdefault (4).jpg\" width=\"150\" height=\"250\" style=\"float: left; margin-right: 20px; margin-left: 20px;\">\n",
    "<p align='justify' style='margin: 10px 20px; line-height:1.5; font-family: \"Times New Roman\", Times, serif; font-size:16px; color: purpl\"e'>\n",
    "  The \"useradd\", \"usermod\", \"groupadd\", and \"chgrp\" commands are used to manage users and groups.\n",
    "\n",
    "</p>\n",
    "<p align='justify' style='margin: 10px 20px; line-height:1.5; font-family: \"Times New Roman\", Times, serif; font-size:16px; color: black'>\n",
    "  \"useradd\" is used to create a new user account. It takes a number of options that allow you to specify the user's name, home directory, login shell, and other information. For example, the following command creates a new user with the username john:\n",
    "\n",
    "</p>"
   ]
  },
  {
   "cell_type": "code",
   "execution_count": 13,
   "id": "1abdf5b6",
   "metadata": {
    "slideshow": {
     "slide_type": "subslide"
    }
   },
   "outputs": [],
   "source": [
    "%%bash\n",
    "#useradd john"
   ]
  },
  {
   "cell_type": "markdown",
   "id": "4e7bb48c",
   "metadata": {
    "slideshow": {
     "slide_type": "subslide"
    }
   },
   "source": [
    "<p align='justify' style='margin: 10px 20px; line-height:1.5; font-family: \"Times New Roman\", Times, serif; font-size:16px; color: black'>\n",
    "  \"usermod\" is used to modify an existing user account. It also takes a number of options that allow you to change the user's name, home directory, login shell, and other information. For example, the following command changes the login shell for the user john to /bin/bash:\n",
    "\n",
    "</p>"
   ]
  },
  {
   "cell_type": "code",
   "execution_count": 14,
   "id": "761ec31a",
   "metadata": {
    "slideshow": {
     "slide_type": "subslide"
    }
   },
   "outputs": [],
   "source": [
    "%%bash\n",
    "#usermod -s /bin/bash john"
   ]
  },
  {
   "cell_type": "markdown",
   "id": "feb0a4e8",
   "metadata": {
    "slideshow": {
     "slide_type": "subslide"
    }
   },
   "source": [
    "<p align='justify' style='margin: 10px 20px; line-height:1.5; font-family: \"Times New Roman\", Times, serif; font-size:16px; color: black'>\n",
    "  \"groupadd\" is used to create a new group. It takes a group name as an argument. For example, the following command creates a new group with the name developers:\n",
    "\n",
    "</p>"
   ]
  },
  {
   "cell_type": "code",
   "execution_count": 15,
   "id": "c1c44ae7",
   "metadata": {
    "slideshow": {
     "slide_type": "subslide"
    }
   },
   "outputs": [],
   "source": [
    "%%bash\n",
    "#groupadd developers"
   ]
  },
  {
   "cell_type": "markdown",
   "id": "60700a02",
   "metadata": {
    "slideshow": {
     "slide_type": "subslide"
    }
   },
   "source": [
    "<p align='justify' style='margin: 10px 20px; line-height:1.5; font-family: \"Times New Roman\", Times, serif; font-size:16px; color: black'>\n",
    "  \"chgrp\" is used to change the group ownership of a file or directory. It takes a group name and a file or directory name as arguments. For example, the following command changes the group ownership of the file file.txt to the group developers:\n",
    "\n",
    "</p>"
   ]
  },
  {
   "cell_type": "code",
   "execution_count": 16,
   "id": "3efd3d7f",
   "metadata": {
    "slideshow": {
     "slide_type": "subslide"
    }
   },
   "outputs": [],
   "source": [
    "%%bash\n",
    "#chgrp developers file.txt"
   ]
  },
  {
   "cell_type": "markdown",
   "id": "e260c842",
   "metadata": {
    "slideshow": {
     "slide_type": "subslide"
    }
   },
   "source": [
    "<p align='justify' style='margin: 10px 20px; line-height:1.5; font-family: \"Times New Roman\", Times, serif; font-size:16px; color: purple'>\n",
    "  It's important to note that these commands must be run as the root user, or with sudo, in order to have the necessary privileges to modify user and group information.\n",
    "\n",
    "</p><br>\n",
    "<h3 style='color:red; font-weight:bold; text-align:center; font-family: \"Times New Roman\", Times, serif; font-size:20px;'>Customizing the shell with environment variables and aliases </h3><br>\n",
    "<img src=\"Linux-Environment-Variables.jpg\" width=\"150\" height=\"250\" style=\"float: left; margin-right: 20px; margin-left: 20px;\">\n",
    "<p align='justify' style='margin: 10px 20px; line-height:1.5; font-family: \"Times New Roman\", Times, serif; font-size:16px; color: purple'>\n",
    "  Environment variables are variables that can be used to store information that can be used by the shell or other programs. They are often used to store information such as the location of executables, the location of configuration files, or other information that may be needed by programs.\n",
    "</p><br><br>\n",
    "<p align='justify' style='margin: 10px 20px; line-height:1.5; font-family: \"Times New Roman\", Times, serif; font-size:16px; color: black'>\n",
    "  Aliases are short names that can be used in place of longer commands. They can be used to simplify commonly used commands, or to create custom commands that perform a series of actions.\n",
    "</p><br><br>\n",
    "<p align='justify' style='margin: 10px 20px; line-height:1.5; font-family: \"Times New Roman\", Times, serif; font-size:16px; color: purple'>\n",
    "  To set an environment variable in the current shell, you can use the export command. For example, to set the EDITOR variable to nano, you would use the following command:\n",
    "</p>"
   ]
  },
  {
   "cell_type": "code",
   "execution_count": 17,
   "id": "14daac05",
   "metadata": {
    "slideshow": {
     "slide_type": "subslide"
    }
   },
   "outputs": [],
   "source": [
    "%%bash\n",
    "#export EDITOR=nano"
   ]
  },
  {
   "cell_type": "markdown",
   "id": "3d6c1c62",
   "metadata": {
    "slideshow": {
     "slide_type": "subslide"
    }
   },
   "source": [
    "<p align='justify' style='margin: 10px 20px; line-height:1.5; font-family: \"Times New Roman\", Times, serif; font-size:16px; color: black'>\n",
    "  To set an alias, you can use the alias command. For example, to create an alias for the ls command that includes the -l and -a flags by default, you would use the following command:\n",
    "</p>"
   ]
  },
  {
   "cell_type": "code",
   "execution_count": 18,
   "id": "7c3e74ad",
   "metadata": {
    "slideshow": {
     "slide_type": "subslide"
    }
   },
   "outputs": [],
   "source": [
    "%%bash\n",
    "#alias ls='ls -la'"
   ]
  },
  {
   "cell_type": "markdown",
   "id": "f6a491e3",
   "metadata": {
    "slideshow": {
     "slide_type": "subslide"
    }
   },
   "source": [
    "<p align='justify' style='margin: 10px 20px; line-height:1.5; font-family: \"Times New Roman\", Times, serif; font-size:16px; color: black'>\n",
    "  To make these changes permanent, you can add them to your shell's configuration file. For the Bash shell, this is typically the .bashrc file in your home directory. For the Z shell, this is typically the .zshrc file in your home directory.\n",
    "</p><br>\n",
    "<p align='justify' style='margin: 10px 20px; line-height:1.5; font-family: \"Times New Roman\", Times, serif; font-size:16px; color: purple'>\n",
    "  You can also set environment variables and create aliases in the system-wide configuration files. On most systems, these are located in the /etc directory. However, it is generally best to set these variables and aliases in the user's configuration files, as system-wide changes may affect all users on the system.\n",
    "</p>\n",
    "\n",
    "<h3 style='color:red; font-weight:bold; text-align:center; font-family: \"Times New Roman\", Times, serif; font-size:20px;'> Using text editors like nano, vi and emacs</h3><br>\n",
    "<img src=\"best-command-line-text-editor-scaled.jpg\" width=\"150\" height=\"250\" style=\"float: left; margin-right: 20px; margin-left: 20px;\">\n",
    "<p align='justify' style='margin: 10px 20px; line-height:1.5; font-family: \"Times New Roman\", Times, serif; font-size:16px; color: black'>\n",
    "  Nano is a simple and easy-to-use text editor that is often included by default on Unix-like systems such as Linux and macOS. It is a good choice for users who are new to text editors or who need to make basic edits to text files. Nano has a straightforward interface and includes on-screen prompts and shortcuts to help users navigate and perform common tasks.\n",
    "</p><br>\n",
    "<p align='justify' style='margin: 10px 20px; line-height:1.5; font-family: \"Times New Roman\", Times, serif; font-size:16px; color: black'>\n",
    "  Vi and Emacs are more advanced text editors that are widely used by programmers and system administrators. Vi is a compact and efficient editor that is known for its speed and versatility. It is a modal editor, which means that it has different modes for inserting and editing text, as well as for issuing commands. Emacs is a more feature-rich editor that is known for its extensibility and customization options. It includes a wide range of features such as a built-in programming language, support for multiple buffers, and integration with a variety of tools and services. Like Vi, Emacs is a modal editor, but it has a more complex mode system and a larger set of commands.\n",
    "</p><br>\n",
    "<p align='justify' style='margin: 10px 20px; line-height:1.5; font-family: \"Times New Roman\", Times, serif; font-size:16px; color: purple'>\n",
    "  If you are new to text editors, you may want to start with Nano and then move on to Vi or Emacs once you are more comfortable with the basics. Both Vi and Emacs have a steep learning curve and can take some time to master, but they are powerful tools that are widely used by experienced programmers and system administrators.\n",
    "</p>"
   ]
  },
  {
   "cell_type": "markdown",
   "id": "5155e2d4",
   "metadata": {
    "slideshow": {
     "slide_type": "subslide"
    }
   },
   "source": [
    "<h3 style='color:red; font-weight:bold; text-align:center; font-family: \"Times New Roman\", Times, serif; font-size:20px;'> Using cron and at to schedule tasks</h3><br>\n",
    "<img src=\"crontab.png\" width=\"150\" height=\"250\" style=\"float: left; margin-right: 20px; margin-left: 20px;\">\n",
    "<p align='justify' style='margin: 10px 20px; line-height:1.5; font-family: \"Times New Roman\", Times, serif; font-size:16px; color: purple'>\n",
    "  Cron and at are two tools that can be used to schedule tasks to run automatically at a specified time or interval. Cron is a daemon that runs on Unix-like systems such as Linux and macOS. It allows users to schedule tasks to run automatically in the background at a specified time or interval. \n",
    "</p><br>\n",
    "<p align='justify' style='margin: 10px 20px; line-height:1.5; font-family: \"Times New Roman\", Times, serif; font-size:16px; color: black'>\n",
    "  To use cron, you will need to create a crontab file that specifies the tasks to be run and the schedule on which they should be run. Each line in the crontab file represents a separate task and consists of six fields: minute, hour, day of month, month, day of week, and the command to be run. For example, to run a task every day at midnight, you could use the following entry in your crontab file:\n",
    "</p>"
   ]
  },
  {
   "cell_type": "code",
   "execution_count": 19,
   "id": "91f239f2",
   "metadata": {
    "slideshow": {
     "slide_type": "subslide"
    }
   },
   "outputs": [],
   "source": [
    "%%bash\n",
    "#0 0 * * * /path/to/command"
   ]
  },
  {
   "cell_type": "markdown",
   "id": "1d463742",
   "metadata": {
    "slideshow": {
     "slide_type": "subslide"
    }
   },
   "source": [
    "<p align='justify' style='margin: 10px 20px; line-height:1.5; font-family: \"Times New Roman\", Times, serif; font-size:16px; color: black'>\n",
    "    <strong>At</strong> is a command-line utility that allows you to schedule a task to run once at a specific time in the future. To use at, you will need to specify the time and date at which you want the task to run, and then enter the commands to be run in an interactive shell. For example, to run a task at 3:00 PM on December 25th, you could use the following command: \n",
    "</p>"
   ]
  },
  {
   "cell_type": "code",
   "execution_count": 20,
   "id": "eaea3ec9",
   "metadata": {
    "slideshow": {
     "slide_type": "subslide"
    }
   },
   "outputs": [],
   "source": [
    "%%bash\n",
    "# at 3:00 PM Dec 25"
   ]
  },
  {
   "cell_type": "markdown",
   "id": "d08162cd",
   "metadata": {
    "slideshow": {
     "slide_type": "subslide"
    }
   },
   "source": [
    "<p align='justify' style='margin: 10px 20px; line-height:1.5; font-family: \"Times New Roman\", Times, serif; font-size:16px; color: purple'>\n",
    "    Both cron and at are useful tools for automating tasks on a Unix-like system. They can be used to perform a wide range of tasks, such as running backups, sending emails, or updating system software.\n",
    "</p><br>\n",
    "<h3 style='color:red; font-weight:bold; text-align:center; font-family: \"Times New Roman\", Times, serif; font-size:20px;'>Exercise 2: Advanced Unix and Linux commands </h3><br>\n",
    "<p align='justify' style='margin: 10px 20px; line-height:1.5; font-family: \"Times New Roman\", Times, serif; font-size:16px; color: purple'>\n",
    "    \n",
    "    \n",
    "  <ul style='font-family: \"Times New Roman\", Times, serif; font-weight:light; font-size:16px;'>\n",
    "      <li>Q1. How can you use the ps command to list all processes running on a system?</li>\n",
    "      <li>Q2. How can you use the top command to view and manage processes on a system?</li>\n",
    "      <li>Q3. What is the syntax for using the kill command to terminate a process?</li>\n",
    "      <li>Q4. How can you use the ps command to find the process ID (PID) of a specific process?</li>\n",
    "      <li>Q5. Can you use the kill command to terminate multiple processes at the same time? If so, how?</li>\n",
    "      <li>Q6. What is the syntax for using the usermod command to modify the properties of an existing user?</li>\n",
    "      <li>Q7. How can you use the groupadd command to create a new group on a system?</li>\n",
    "      <li>Q8. What is the syntax for using the chgrp command to change the group ownership of a file or directory?</li>\n",
    "      <li>Q9. Can you use the useradd command to add a user to multiple groups at the same time? If so, how?</li>\n",
    "      <li>Q10. How can you create and view aliases in the shell?</li>\n",
    "    \n",
    "    \n",
    "  </ul>\n",
    "</p>"
   ]
  },
  {
   "cell_type": "markdown",
   "id": "a198c793",
   "metadata": {
    "slideshow": {
     "slide_type": "slide"
    }
   },
   "source": [
    "<h2 style='color:red; font-weight:bold; text-align:center; font-family: \"Times New Roman\", Times, serif; font-size:22px;'> CHAPTER THREE: SHELL SCRIPTING</h2><br>\n",
    "<img src=\"Introduction-To-Shell-Scripting.jpg\" width=\"150\" height=\"250\" style=\"float: left; margin-right: 20px; margin-left: 20px;\">\n",
    "<p align='justify' style='margin: 10px 20px; line-height:1.5; font-family: \"Times New Roman\", Times, serif; font-size:16px; color: purple'>\n",
    "  Cron and at are two tools that can be used to schedule tasks to run automatically at a specified time or interval. Cron is a daemon that runs on Unix-like systems such as Linux and macOS. It allows users to schedule tasks to run automatically in the background at a specified time or interval. \n",
    "</p><br><br>\n",
    "<p align='justify' style='margin: 10px 20px; line-height:1.5; font-family: \"Times New Roman\", Times, serif; font-size:16px; color: black'>\n",
    "  Shell scripts can be used to automate a wide range of tasks, such as setting up a development environment, building and deploying software, running tests, and performing system maintenance. \n",
    "</p><br>\n",
    "<p align='justify' style='margin: 10px 20px; line-height:1.5; font-family: \"Times New Roman\", Times, serif; font-size:16px; color: black'>\n",
    "  To create a shell script, you can use a text editor such as vi, emacs, or nano. The first line of the script should specify which shell to use, using the \"#!\" syntax. For example, the first line of a bash script might look like this:<br><br><strong>#!/bin/bash</strong>\n",
    "\n",
    " \n",
    "</p><br>\n",
    "<p align='justify' style='margin: 10px 20px; line-height:1.5; font-family: \"Times New Roman\", Times, serif; font-size:16px; color: black'>\n",
    "  This tells the system that the script should be executed using the bash shell. After the first line, you can enter any shell commands you want to include in the script. For example, the following script prints \"Hello, world!\" to the terminal:\n",
    " \n",
    "</p><br><br>\n",
    "<p align='justify' style='margin: 10px 20px; line-height:1.5; font-family: \"Times New Roman\", Times, serif; font-size:16px; color: purple'>\n",
    "  NOTE: From here onwards, i will write the script, show the content of my script with explanations. make sure to write all the scripts in this tutorial and atleast try rewriting them without looking hat my script. Remember the command you learnt in the previous chapter to view the content of a file.\n",
    " \n",
    "</p>"
   ]
  },
  {
   "cell_type": "code",
   "execution_count": 21,
   "id": "8d480fde",
   "metadata": {
    "slideshow": {
     "slide_type": "subslide"
    }
   },
   "outputs": [
    {
     "name": "stdout",
     "output_type": "stream",
     "text": [
      "#!/bin/bash\n",
      "echo \"Hello, world!\"\n"
     ]
    }
   ],
   "source": [
    "%%bash\n",
    "cat script_1.sh"
   ]
  },
  {
   "cell_type": "markdown",
   "id": "9969d8ab",
   "metadata": {
    "slideshow": {
     "slide_type": "subslide"
    }
   },
   "source": [
    "<p align='justify' style='margin: 10px 20px; line-height:1.5; font-family: \"Times New Roman\", Times, serif; font-size:16px; color: purple'>\n",
    "  To run the script, make it executable using the chmod command and then run it like any other command:\n",
    " \n",
    "</p>"
   ]
  },
  {
   "cell_type": "code",
   "execution_count": 22,
   "id": "f3b7f451",
   "metadata": {
    "slideshow": {
     "slide_type": "subslide"
    }
   },
   "outputs": [],
   "source": [
    "%%bash\n",
    "chmod +x script_1.sh"
   ]
  },
  {
   "cell_type": "code",
   "execution_count": 23,
   "id": "7fb11270",
   "metadata": {
    "slideshow": {
     "slide_type": "subslide"
    }
   },
   "outputs": [
    {
     "name": "stdout",
     "output_type": "stream",
     "text": [
      "Hello, world!\n"
     ]
    }
   ],
   "source": [
    "%%bash\n",
    "./script_1.sh"
   ]
  },
  {
   "cell_type": "markdown",
   "id": "e6cc3362",
   "metadata": {
    "slideshow": {
     "slide_type": "subslide"
    }
   },
   "source": [
    "<p align='justify' style='margin: 10px 20px; line-height:1.5; font-family: \"Times New Roman\", Times, serif; font-size:16px; color: purple'>\n",
    "  Shell scripts can also include shell variables, control structures (such as if statements and for loops), and functions. You can use command line arguments to pass information to the script, and you can use standard input and output to read from and write to the terminal. \n",
    " \n",
    "</p><br>\n",
    "<h3 style='color:red; font-weight:bold; text-align:center; font-family: \"Times New Roman\", Times, serif; font-size:20px;'> Using variables, control flow, and loops in shell scripts</h3><br>\n",
    "<img src=\"Introduction-To-Shell-Scripting.jpg\" width=\"150\" height=\"250\" style=\"float: left; margin-right: 20px; margin-left: 20px;\"><br><br>\n",
    "<p align='justify' style='margin: 10px 20px; line-height:1.5; font-family: \"Times New Roman\", Times, serif; font-size:16px; color: black'>\n",
    "  You can use variables to store and manipulate data. To create a variable, you can use the assignment operator \"=\" and put the variable name on the left side and the value on the right side. For example:  \n",
    "</p>"
   ]
  },
  {
   "cell_type": "code",
   "execution_count": 24,
   "id": "5a188b2b",
   "metadata": {
    "slideshow": {
     "slide_type": "subslide"
    }
   },
   "outputs": [
    {
     "name": "stdout",
     "output_type": "stream",
     "text": [
      "# Declare a variable called MESSAGE and assign it a value\n",
      "MESSAGE=\"Hello, World!\"\n",
      "\n",
      "# Print the value of the MESSAGE variable\n",
      "echo $MESSAGE\n"
     ]
    }
   ],
   "source": [
    "%%bash\n",
    "cat variable_1.sh"
   ]
  },
  {
   "cell_type": "code",
   "execution_count": 28,
   "id": "9295a5be",
   "metadata": {
    "slideshow": {
     "slide_type": "subslide"
    }
   },
   "outputs": [
    {
     "name": "stdout",
     "output_type": "stream",
     "text": [
      "Hello, World!\n"
     ]
    }
   ],
   "source": [
    "%%bash\n",
    "bash variable_1.sh"
   ]
  },
  {
   "cell_type": "markdown",
   "id": "0d50419c",
   "metadata": {
    "slideshow": {
     "slide_type": "subslide"
    }
   },
   "source": [
    "<p align='justify' style='margin: 10px 20px; line-height:1.5; font-family: \"Times New Roman\", Times, serif; font-size:16px; color: black'>\n",
    "  You can also use control flow statements such as if, else, and elif to execute different blocks of code based on certain conditions. For example: \n",
    "</p>"
   ]
  },
  {
   "cell_type": "code",
   "execution_count": 25,
   "id": "c2ccac89",
   "metadata": {
    "slideshow": {
     "slide_type": "subslide"
    }
   },
   "outputs": [
    {
     "name": "stdout",
     "output_type": "stream",
     "text": [
      "# Declare a variable called NUMBER and assign it a value\n",
      "NUMBER=5\n",
      "\n",
      "# Check if NUMBER is greater than 3\n",
      "if [ $NUMBER -gt 3 ]\n",
      "then\n",
      "  # If NUMBER is greater than 3, print a message\n",
      "  echo \"NUMBER is greater than 3\"\n",
      "else\n",
      "  # If NUMBER is not greater than 3, print a different message\n",
      "  echo \"NUMBER is not greater than 3\"\n",
      "fi\n"
     ]
    }
   ],
   "source": [
    "%%bash\n",
    "cat controlflow_1.sh"
   ]
  },
  {
   "cell_type": "markdown",
   "id": "30abe86b",
   "metadata": {
    "slideshow": {
     "slide_type": "subslide"
    }
   },
   "source": [
    "<p align='justify' style='margin: 10px 20px; line-height:1.5; font-family: \"Times New Roman\", Times, serif; font-size:16px; color: black'>\n",
    "  You can use loops to execute a block of code multiple times. The for loop is used to iterate over a list of values, and the while loop is used to execute a block of code as long as a certain condition is true.<br><br><strong>For example:</strong>\n",
    "</p>"
   ]
  },
  {
   "cell_type": "code",
   "execution_count": 26,
   "id": "65981c18",
   "metadata": {
    "slideshow": {
     "slide_type": "subslide"
    }
   },
   "outputs": [
    {
     "name": "stdout",
     "output_type": "stream",
     "text": [
      "# Use a for loop to iterate over a list of numbers\n",
      "for NUMBER in 1 2 3 4 5\n",
      "do\n",
      "  # Print the current number\n",
      "  echo $NUMBER\n",
      "done\n",
      "\n",
      "# Use a while loop to print the numbers from 1 to 5\n",
      "COUNT=1\n",
      "while [ $COUNT -le 5 ]\n",
      "do\n",
      "  echo $COUNT\n",
      "  COUNT=$((COUNT+1))\n",
      "done\n"
     ]
    }
   ],
   "source": [
    "%%bash\n",
    "cat loops_1.sh"
   ]
  },
  {
   "cell_type": "code",
   "execution_count": 29,
   "id": "95a88330",
   "metadata": {
    "slideshow": {
     "slide_type": "subslide"
    }
   },
   "outputs": [],
   "source": [
    "%%bash\n",
    "#bash loops_1.sh"
   ]
  },
  {
   "cell_type": "markdown",
   "id": "ef005c58",
   "metadata": {
    "slideshow": {
     "slide_type": "subslide"
    }
   },
   "source": [
    "<p align='justify' style='margin: 10px 20px; line-height:1.5; font-family: \"Times New Roman\", Times, serif; font-size:16px; color: black'>\n",
    "  The \"until\" loop is a control structure in bash and other shells that allows you to execute a block of code repeatedly until a particular condition is met. <br><br><strong><br>The syntax for an until loop is as follows:</strong>\n",
    "</p>"
   ]
  },
  {
   "cell_type": "code",
   "execution_count": null,
   "id": "770e8412",
   "metadata": {
    "slideshow": {
     "slide_type": "subslide"
    }
   },
   "outputs": [],
   "source": [
    "%%bash\n",
    "until condition\n",
    "do\n",
    "    # code to be executed\n",
    "done"
   ]
  },
  {
   "cell_type": "markdown",
   "id": "1f89707a",
   "metadata": {
    "slideshow": {
     "slide_type": "subslide"
    }
   },
   "source": [
    "<p align='justify' style='margin: 10px 20px; line-height:1.5; font-family: \"Times New Roman\", Times, serif; font-size:16px; color: black'>\n",
    "  The condition is evaluated at the beginning of each iteration, and if it is false, the block of code is executed. Once the condition becomes true, the loop is exited.<br><br><br>The case statement is a control structure that allows you to perform different actions based on the value of a variable or expression. The syntax for a case statement is as follows:\n",
    "\n",
    "\n",
    "</p>"
   ]
  },
  {
   "cell_type": "code",
   "execution_count": null,
   "id": "139f5453",
   "metadata": {
    "slideshow": {
     "slide_type": "subslide"
    }
   },
   "outputs": [],
   "source": [
    "%%bash\n",
    "case expression in\n",
    "pattern1)\n",
    "    # code to be executed if expression matches pattern1\n",
    "    ;;\n",
    "pattern2)\n",
    "    # code to be executed if expression matches pattern2\n",
    "    ;;\n",
    "esac"
   ]
  },
  {
   "cell_type": "markdown",
   "id": "46da6aa1",
   "metadata": {
    "slideshow": {
     "slide_type": "subslide"
    }
   },
   "source": [
    "<p align='justify' style='margin: 10px 20px; line-height:1.5; font-family: \"Times New Roman\", Times, serif; font-size:16px; color: black'>\n",
    "  The \"in\" keyword is used to separate the expression being tested from the patterns that will be matched against it. The \";;\" characters are used to separate the different patterns, and the \"esac\" keyword marks the end of the \"case\" statement.<br><br><br>The \"case\" statement is often used in conjunction with the \";;&\" operator, which allows you to match multiple patterns in a single case statement. <br><br><br>For example:\n",
    "\n",
    "\n",
    "</p>"
   ]
  },
  {
   "cell_type": "code",
   "execution_count": null,
   "id": "48ea46d1",
   "metadata": {
    "slideshow": {
     "slide_type": "subslide"
    }
   },
   "outputs": [],
   "source": [
    "%%bash\n",
    "case expression in\n",
    "pattern1|pattern2)\n",
    "    # code to be executed if expression matches pattern1 or pattern2\n",
    "    ;;&\n",
    "pattern3)\n",
    "    # code to be executed if expression matches pattern3\n",
    "    ;;\n",
    "esac"
   ]
  },
  {
   "cell_type": "markdown",
   "id": "b601753e",
   "metadata": {
    "slideshow": {
     "slide_type": "subslide"
    }
   },
   "source": [
    "<p align='justify' style='margin: 10px 20px; line-height:1.5; font-family: \"Times New Roman\", Times, serif; font-size:16px; color: black'>\n",
    "  In this example, the code block following the \"pattern1|pattern2)\" line will be executed if \"expression\" matches either \"pattern1\" or \"pattern2\", and the code block following the \"pattern3)\" line will be executed if \"expression\" matches \"pattern3\".\n",
    "</p><br><br>\n",
    "<h3 style='color:red; font-weight:bold; text-align:center; font-family: \"Times New Roman\", Times, serif; font-size:20px;'>Exercise 3: Shell Scripting </h3><br>\n",
    "<p align='justify' style='margin: 10px 20px; line-height:1.5; font-family: \"Times New Roman\", Times, serif; font-size:16px; color: purple'>\n",
    "    \n",
    "    \n",
    "  <ul style='font-family: \"Times New Roman\", Times, serif; font-weight:light; font-size:16px;'>\n",
    "      <li>Q1. Write a shell script that prompts the user for their name, and then prints a welcome message that includes their name.</li><br>\n",
    "      <li>Q2. Write a shell script that takes a command-line argument as input, and prints whether the argument is a file or a directory.</li><br>\n",
    "      <li>Q3. Write a shell script that uses a loop to print the first 10 even numbers.</li><br>\n",
    "      <li>Q4. Write a shell script that reads a file, and then prints the number of lines that contain a specific search string.</li><br>\n",
    "    \n",
    "    \n",
    "  </ul>\n",
    "</p>"
   ]
  },
  {
   "cell_type": "markdown",
   "id": "bffdd8a0",
   "metadata": {
    "slideshow": {
     "slide_type": "subslide"
    }
   },
   "source": [
    "<h3 style='color:red; font-weight:bold; text-align:center; font-family: \"Times New Roman\", Times, serif; font-size:20px;'>Using Tables in Shell Scripting</h3><br>\n",
    "<img src=\"Introduction-To-Shell-Scripting.jpg\" width=\"150\" height=\"250\" style=\"float: left; margin-right: 20px; margin-left: 20px;\"><br><br>\n",
    "<p align='justify' style='margin: 10px 20px; line-height:1.5; font-family: \"Times New Roman\", Times, serif; font-size:16px; color: black'>\n",
    "  Tables are often represented as arrays, which are indexed collections of data values. Here is an example of how you might create and use a table in a shell script: \n",
    "</p>"
   ]
  },
  {
   "cell_type": "code",
   "execution_count": 34,
   "id": "b7f62444",
   "metadata": {
    "slideshow": {
     "slide_type": "subslide"
    }
   },
   "outputs": [
    {
     "name": "stdout",
     "output_type": "stream",
     "text": [
      "# Create an array with three elements\n",
      "my_table=(apple banana cherry)\n",
      "\n",
      "# Access an element of the array by its index\n",
      "echo ${my_table[0]}  # prints \"apple\"\n",
      "echo ${my_table[1]}  # prints \"banana\"\n",
      "echo ${my_table[2]}  # prints \"cherry\"\n",
      "\n",
      "# Modify an element of the array\n",
      "my_table[1]=grapefruit\n",
      "echo ${my_table[1]}  # prints \"grapefruit\"\n",
      "\n",
      "# Add an element to the end of the array\n",
      "my_table[3]=kiwi\n",
      "echo ${my_table[3]}  # prints \"kiwi\"\n"
     ]
    }
   ],
   "source": [
    "%%bash\n",
    "cat tables.sh"
   ]
  },
  {
   "cell_type": "code",
   "execution_count": 35,
   "id": "b983d1e4",
   "metadata": {
    "slideshow": {
     "slide_type": "subslide"
    }
   },
   "outputs": [
    {
     "name": "stdout",
     "output_type": "stream",
     "text": [
      "apple\n",
      "banana\n",
      "cherry\n",
      "grapefruit\n",
      "kiwi\n"
     ]
    }
   ],
   "source": [
    "%%bash\n",
    "bash tables.sh"
   ]
  },
  {
   "cell_type": "markdown",
   "id": "95ce97e5",
   "metadata": {
    "slideshow": {
     "slide_type": "subslide"
    }
   },
   "source": [
    "<p align='justify' style='margin: 10px 20px; line-height:1.5; font-family: \"Times New Roman\", Times, serif; font-size:16px; color: black'>\n",
    "  You can also use loops to iterate over the elements of an array:\n",
    "</p>"
   ]
  },
  {
   "cell_type": "code",
   "execution_count": 36,
   "id": "183f3008",
   "metadata": {
    "slideshow": {
     "slide_type": "subslide"
    }
   },
   "outputs": [
    {
     "name": "stdout",
     "output_type": "stream",
     "text": [
      "# Iterate over the elements of the array and print each one\n",
      "for fruit in ${my_table[@]}; do\n",
      "  echo $fruit\n",
      "done\n"
     ]
    }
   ],
   "source": [
    "%%bash\n",
    "cat loop_tables.sh"
   ]
  },
  {
   "cell_type": "markdown",
   "id": "99239d7d",
   "metadata": {
    "slideshow": {
     "slide_type": "subslide"
    }
   },
   "source": [
    "<p align='justify' style='margin: 10px 20px; line-height:1.5; font-family: \"Times New Roman\", Times, serif; font-size:16px; color: black'>\n",
    "  In addition to arrays, you can also use associative arrays to create tables that use string keys instead of numeric indices. Here is an example of how you might use an associative array:\n",
    "</p>"
   ]
  },
  {
   "cell_type": "code",
   "execution_count": 37,
   "id": "76e9646a",
   "metadata": {
    "slideshow": {
     "slide_type": "subslide"
    }
   },
   "outputs": [
    {
     "name": "stdout",
     "output_type": "stream",
     "text": [
      "# Create an associative array with three elements\n",
      "declare -A my_table\n",
      "my_table[red]=apple\n",
      "my_table[yellow]=banana\n",
      "my_table[purple]=grape\n",
      "\n",
      "# Access an element of the array by its key\n",
      "echo ${my_table[red]}  # prints \"apple\"\n",
      "echo ${my_table[yellow]}  # prints \"banana\"\n",
      "echo ${my_table[purple]}  # prints \"grape\"\n",
      "\n",
      "# Modify an element of the array\n",
      "my_table[yellow]=lemon\n",
      "echo ${my_table[yellow]}  # prints \"lemon\"\n",
      "\n",
      "# Add an element to the array\n",
      "my_table[green]=kiwi\n",
      "echo ${my_table[green]}  # prints \"kiwi\"\n"
     ]
    }
   ],
   "source": [
    "%%bash \n",
    "cat associate_array.sh"
   ]
  },
  {
   "cell_type": "code",
   "execution_count": 38,
   "id": "83091bd4",
   "metadata": {
    "scrolled": true,
    "slideshow": {
     "slide_type": "subslide"
    }
   },
   "outputs": [
    {
     "name": "stdout",
     "output_type": "stream",
     "text": [
      "apple\n",
      "banana\n",
      "grape\n",
      "lemon\n",
      "kiwi\n"
     ]
    }
   ],
   "source": [
    "%%bash\n",
    "bash associate_array.sh"
   ]
  },
  {
   "cell_type": "markdown",
   "id": "37a89c17",
   "metadata": {
    "slideshow": {
     "slide_type": "subslide"
    }
   },
   "source": [
    "<p align='justify' style='margin: 10px 20px; line-height:1.5; font-family: \"Times New Roman\", Times, serif; font-size:16px; color: black'>\n",
    "  You can use loops to iterate over the keys or values of an associative array:\n",
    "</p>"
   ]
  },
  {
   "cell_type": "code",
   "execution_count": 40,
   "id": "d6a44061",
   "metadata": {
    "scrolled": true,
    "slideshow": {
     "slide_type": "subslide"
    }
   },
   "outputs": [
    {
     "name": "stdout",
     "output_type": "stream",
     "text": [
      "# Iterate over the keys and print each one\n",
      "for key in ${!my_table[@]}; do\n",
      "  echo $key\n",
      "done\n",
      "\n",
      "# Iterate over the values and print each one\n",
      "for value in ${my_table[@]}; do\n",
      "  echo $value\n",
      "done\n"
     ]
    }
   ],
   "source": [
    "%%bash\n",
    "cat loop_associate_array.sh"
   ]
  },
  {
   "cell_type": "markdown",
   "id": "83016aef",
   "metadata": {
    "slideshow": {
     "slide_type": "subslide"
    }
   },
   "source": [
    "<h3 style='color:red; font-weight:bold; text-align:center; font-family: \"Times New Roman\", Times, serif; font-size:20px;'>Using Functions in Shell Scripting</h3><br>\n",
    "<img src=\"abc-77.png\" width=\"150\" height=\"250\" style=\"float: left; margin-right: 20px; margin-left: 20px;\"><br><br>\n",
    "<p align='justify' style='margin: 10px 20px; line-height:1.5; font-family: \"Times New Roman\", Times, serif; font-size:16px; color: black'>\n",
    "  In shell scripts, you can define functions just like in any other programming language. The basic syntax for defining a function is \n",
    "</p>"
   ]
  },
  {
   "cell_type": "code",
   "execution_count": null,
   "id": "0ac6b6b9",
   "metadata": {
    "slideshow": {
     "slide_type": "subslide"
    }
   },
   "outputs": [],
   "source": [
    "function name {\n",
    "    commands\n",
    "}"
   ]
  },
  {
   "cell_type": "markdown",
   "id": "8bb7bd8a",
   "metadata": {
    "slideshow": {
     "slide_type": "subslide"
    }
   },
   "source": [
    "<p align='justify' style='margin: 10px 20px; line-height:1.5; font-family: \"Times New Roman\", Times, serif; font-size:16px; color: black'>\n",
    "  For example, the following script defines a function called greet that prints a greeting message\n",
    "</p>"
   ]
  },
  {
   "cell_type": "code",
   "execution_count": 30,
   "id": "620f10a9",
   "metadata": {
    "slideshow": {
     "slide_type": "subslide"
    }
   },
   "outputs": [
    {
     "name": "stdout",
     "output_type": "stream",
     "text": [
      "#!/bin/bash\n",
      "\n",
      "function greet {\n",
      "    echo \"Hello, $1!\"\n",
      "}\n",
      "\n",
      "greet \"Alice\"\n",
      "greet \"Bob\"\n"
     ]
    }
   ],
   "source": [
    "%%bash\n",
    "cat functions_1.sh"
   ]
  },
  {
   "cell_type": "code",
   "execution_count": 31,
   "id": "68426524",
   "metadata": {
    "slideshow": {
     "slide_type": "subslide"
    }
   },
   "outputs": [
    {
     "name": "stdout",
     "output_type": "stream",
     "text": [
      "Hello, Alice!\n",
      "Hello, Bob!\n"
     ]
    }
   ],
   "source": [
    "%%bash\n",
    "bash functions_1.sh"
   ]
  },
  {
   "cell_type": "markdown",
   "id": "c0e2bf89",
   "metadata": {
    "slideshow": {
     "slide_type": "subslide"
    }
   },
   "source": [
    "<p align='justify' style='margin: 10px 20px; line-height:1.5; font-family: \"Times New Roman\", Times, serif; font-size:16px; color: black'>\n",
    "  You can also define a function using the following syntax:\n",
    "</p>"
   ]
  },
  {
   "cell_type": "code",
   "execution_count": null,
   "id": "6f2dc520",
   "metadata": {
    "slideshow": {
     "slide_type": "subslide"
    }
   },
   "outputs": [],
   "source": [
    " name () {\n",
    "     commands\n",
    " }"
   ]
  },
  {
   "cell_type": "markdown",
   "id": "f211877d",
   "metadata": {
    "slideshow": {
     "slide_type": "subslide"
    }
   },
   "source": [
    "<p align='justify' style='margin: 10px 20px; line-height:1.5; font-family: \"Times New Roman\", Times, serif; font-size:16px; color: black'>\n",
    "  To call a function, simply use its name followed by any required arguments. Arguments passed to a function are referred to as \"$1\", \"$2\", etc. within the function. For example, in the greet function above, the argument passed to the function is referred to as \"$1\". <br><br><br>You can also return a value from a function by using the return statement. The value of the return statement will be the exit status of the function. For example:\n",
    "</p>"
   ]
  },
  {
   "cell_type": "code",
   "execution_count": 32,
   "id": "5afb1224",
   "metadata": {
    "slideshow": {
     "slide_type": "subslide"
    }
   },
   "outputs": [
    {
     "name": "stdout",
     "output_type": "stream",
     "text": [
      "#!/bin/bash\n",
      "\n",
      "function add {\n",
      "    local result=$(($1 + $2))\n",
      "    return $result\n",
      "}\n",
      "\n",
      "add 2 3\n",
      "echo \"The result is $?\"\n"
     ]
    }
   ],
   "source": [
    "%%bash\n",
    "cat return_function.sh"
   ]
  },
  {
   "cell_type": "code",
   "execution_count": 33,
   "id": "2d864496",
   "metadata": {
    "slideshow": {
     "slide_type": "subslide"
    }
   },
   "outputs": [
    {
     "name": "stdout",
     "output_type": "stream",
     "text": [
      "The result is 5\n"
     ]
    }
   ],
   "source": [
    "%%bash\n",
    "bash return_function.sh"
   ]
  },
  {
   "cell_type": "markdown",
   "id": "956ca784",
   "metadata": {
    "slideshow": {
     "slide_type": "subslide"
    }
   },
   "source": [
    "<p align='justify' style='margin: 10px 20px; line-height:1.5; font-family: \"Times New Roman\", Times, serif; font-size:16px; color: black'>\n",
    "  This script defines a function called add that calculates the sum of two numbers and returns the result. The exit status of the function is set to the value of the result. The echo statement at the end prints the exit status of the function, which is the value of the result.\n",
    "</p><br><br>\n",
    "<h3 style='color:red; font-weight:bold; text-align:center; font-family: \"Times New Roman\", Times, serif; font-size:20px;'>Exercise 4: Shell Scripting - Tables</h3><br>\n",
    "<p align='justify' style='margin: 10px 20px; line-height:1.5; font-family: \"Times New Roman\", Times, serif; font-size:16px; color: purple'>\n",
    "    \n",
    "    \n",
    "  <ul style='font-family: \"Times New Roman\", Times, serif; font-weight:light; font-size:16px;'>\n",
    "      <li>Q1. Write a shell script that declares an array of 5 names, and then prints each name on a separate line.</li><br>\n",
    "      <li>Q2. Write a shell script that defines a function that takes two arguments, and returns their sum. Then, call the function with some test arguments and print the result.</li><br>\n",
    "      <li>Q.3 Write a shell script that reads a CSV file of student grades, with each line containing a name and a score. The script should then calculate the average score, and print the names of the students who scored above the average.</li><br>\n",
    "      <li>Q4. Write a shell script that defines a function that takes a directory path as input, and then recursively counts the number of files in that directory and all its subdirectories. The function should return the total count. Then, call the function with a test directory path and print the result.</li>\n",
    "    \n",
    "    \n",
    "  </ul>\n",
    "</p>"
   ]
  },
  {
   "cell_type": "markdown",
   "id": "50ebb406",
   "metadata": {
    "slideshow": {
     "slide_type": "subslide"
    }
   },
   "source": [
    "<h3 style='color:red; font-weight:bold; text-align:center; font-family: \"Times New Roman\", Times, serif; font-size:20px;'>Manipulation of strings, substrings </h3><br>\n",
    "<img src=\"stringmanipulation.png\" width=\"150\" height=\"250\" style=\"float: left; margin-right: 20px; margin-left: 20px;\"><br><br>\n",
    "<p align='justify' style='margin: 10px 20px; line-height:1.5; font-family: \"Times New Roman\", Times, serif; font-size:16px; color: black'>\n",
    "  You can manipulate strings and substrings using a variety of built-in commands and operators. Here are a few examples: <br><br>Concatenation: You can use the echo command to concatenate strings, or you can use the \"+\" operator. For example:\n",
    "    \n",
    "</p>"
   ]
  },
  {
   "cell_type": "code",
   "execution_count": 41,
   "id": "085d1b67",
   "metadata": {},
   "outputs": [
    {
     "name": "stdout",
     "output_type": "stream",
     "text": [
      "string1=\"Hello\"\n",
      "string2=\"World\"\n",
      "string3=$string1\" \"$string2\n",
      "echo $string3  # Output: \"Hello World\"\n",
      "\n",
      "string4=\"Hello\"\n",
      "string5=\"World\"\n",
      "string6=$string4+$string5\n",
      "echo $string6  # Output: \"HelloWorld\"\n"
     ]
    }
   ],
   "source": [
    "%%bash\n",
    "cat concat_strings.sh"
   ]
  },
  {
   "cell_type": "code",
   "execution_count": 44,
   "id": "cd0b4ce8",
   "metadata": {
    "slideshow": {
     "slide_type": "subslide"
    }
   },
   "outputs": [
    {
     "name": "stdout",
     "output_type": "stream",
     "text": [
      "Hello World\n",
      "Hello+World\n"
     ]
    }
   ],
   "source": [
    "%%bash\n",
    "bash concat_strings.sh"
   ]
  },
  {
   "cell_type": "markdown",
   "id": "8ed687c1",
   "metadata": {
    "slideshow": {
     "slide_type": "subslide"
    }
   },
   "source": [
    "<p align='justify' style='margin: 10px 20px; line-height:1.5; font-family: \"Times New Roman\", Times, serif; font-size:16px; color: black'>\n",
    "  Indexing: You can access individual characters in a string using the ${string:position:length} syntax, where position is the index of the character (starting at 0) and length is the number of characters to extract. For example:\n",
    "    \n",
    "</p>"
   ]
  },
  {
   "cell_type": "code",
   "execution_count": 42,
   "id": "82ea8802",
   "metadata": {
    "scrolled": true,
    "slideshow": {
     "slide_type": "subslide"
    }
   },
   "outputs": [
    {
     "name": "stdout",
     "output_type": "stream",
     "text": [
      "string=\"Hello\"\n",
      "echo ${string:0:1}  # Output: \"H\"\n",
      "echo ${string:1:1}  # Output: \"e\"\n"
     ]
    }
   ],
   "source": [
    "%%bash\n",
    "cat index_string.sh"
   ]
  },
  {
   "cell_type": "code",
   "execution_count": 43,
   "id": "53f0254d",
   "metadata": {
    "slideshow": {
     "slide_type": "subslide"
    }
   },
   "outputs": [
    {
     "name": "stdout",
     "output_type": "stream",
     "text": [
      "H\n",
      "e\n"
     ]
    }
   ],
   "source": [
    "%%bash\n",
    "bash index_string.sh"
   ]
  },
  {
   "cell_type": "markdown",
   "id": "f023f893",
   "metadata": {
    "slideshow": {
     "slide_type": "subslide"
    }
   },
   "source": [
    "<p align='justify' style='margin: 10px 20px; line-height:1.5; font-family: \"Times New Roman\", Times, serif; font-size:16px; color: black'>\n",
    "  Slicing: You can extract a substring from a larger string using the ${string:position} syntax, where position is the index of the first character in the substring. <br><br>For example:\n",
    "    \n",
    "</p>"
   ]
  },
  {
   "cell_type": "code",
   "execution_count": 45,
   "id": "613edd86",
   "metadata": {
    "slideshow": {
     "slide_type": "subslide"
    }
   },
   "outputs": [
    {
     "name": "stdout",
     "output_type": "stream",
     "text": [
      "string=\"Hello World\"\n",
      "substring=${string:6}\n",
      "echo $substring  # Output: \"World\"\n"
     ]
    }
   ],
   "source": [
    "%%bash\n",
    "cat slice_string.sh"
   ]
  },
  {
   "cell_type": "code",
   "execution_count": 46,
   "id": "bd4b7bfb",
   "metadata": {
    "slideshow": {
     "slide_type": "subslide"
    }
   },
   "outputs": [
    {
     "name": "stdout",
     "output_type": "stream",
     "text": [
      "World\n"
     ]
    }
   ],
   "source": [
    "%%bash\n",
    "bash slice_string.sh"
   ]
  },
  {
   "cell_type": "markdown",
   "id": "35a23813",
   "metadata": {
    "slideshow": {
     "slide_type": "subslide"
    }
   },
   "source": [
    "<p align='justify' style='margin: 10px 20px; line-height:1.5; font-family: \"Times New Roman\", Times, serif; font-size:16px; color: black'>\n",
    "  Modification: You can modify a string using the sed command, which allows you to search for and replace specific patterns in a string. <br><br>For example:\n",
    "    \n",
    "</p>"
   ]
  },
  {
   "cell_type": "code",
   "execution_count": 47,
   "id": "a976f587",
   "metadata": {
    "scrolled": true,
    "slideshow": {
     "slide_type": "subslide"
    }
   },
   "outputs": [
    {
     "name": "stdout",
     "output_type": "stream",
     "text": [
      "string=\"Hello World\"\n",
      "modified_string=$(echo $string | sed 's/World/Universe/')\n",
      "echo $modified_string  # Output: \"Hello Universe\"\n"
     ]
    }
   ],
   "source": [
    "%%bash\n",
    "cat modify_string.sh"
   ]
  },
  {
   "cell_type": "code",
   "execution_count": 48,
   "id": "fdf93d74",
   "metadata": {
    "slideshow": {
     "slide_type": "subslide"
    }
   },
   "outputs": [
    {
     "name": "stdout",
     "output_type": "stream",
     "text": [
      "Hello Universe\n"
     ]
    }
   ],
   "source": [
    "%%bash\n",
    "bash modify_string.sh"
   ]
  },
  {
   "cell_type": "markdown",
   "id": "5fba2a1d",
   "metadata": {
    "slideshow": {
     "slide_type": "subslide"
    }
   },
   "source": [
    "<p align='justify' style='margin: 10px 20px; line-height:1.5; font-family: \"Times New Roman\", Times, serif; font-size:16px; color: purple'>\n",
    "  There are many other ways to manipulate strings in shell scripting, depending on your specific needs. For example, you can use the \"tr\" command to translate or delete characters from a string, or the \"awk\" command to extract and manipulate specific fields in a string.\n",
    "    \n",
    "</p><br><br>\n",
    "<h3 style='color:red; font-weight:bold; text-align:center; font-family: \"Times New Roman\", Times, serif; font-size:20px;'>Exercise 6: Shell Scripting - Manipulation of strings, substrings </h3><br>\n",
    "<p align='justify' style='margin: 10px 20px; line-height:1.5; font-family: \"Times New Roman\", Times, serif; font-size:16px; color: purple'>\n",
    "    \n",
    "    \n",
    "  <ul style='font-family: \"Times New Roman\", Times, serif; font-weight:light; font-size:16px;'>\n",
    "      <li>Q1. Write a shell script that prompts the user for their name, and then prints the length of their name.</li><br>\n",
    "      <li>Q2. Write a shell script that takes a filename as input, and then prints the extension of the file (i.e., the characters after the last dot).</li><br>\n",
    "      <li>Q3. Write a shell script that defines a function that takes a string as input, and then removes all the vowels from the string. The function should return the modified string. Then, call the function with some test strings and print the result.</li><br>\n",
    "      <li>Q4. Write a shell script that reads a text file, and then replaces all occurrences of a specified search string with a new string. The script should prompt the user for the search string and the replacement string, and then save the modified file to a new file with the same name but with \".new\" appended to the end.</li>\n",
    "    \n",
    "    \n",
    "  </ul>\n",
    "</p>"
   ]
  },
  {
   "cell_type": "markdown",
   "id": "64b0af6f",
   "metadata": {
    "slideshow": {
     "slide_type": "subslide"
    }
   },
   "source": [
    "<h3 style='color:red; font-weight:bold; text-align:center; font-family: \"Times New Roman\", Times, serif; font-size:20px;'>Mathematical calculations in shell scripts</h3><br>\n",
    "<img src=\"shell-scripting-arithmetic-operations-1-1667306978.png\" width=\"150\" height=\"250\" style=\"float: left; margin-right: 20px; margin-left: 20px;\"><br><br>\n",
    "<p align='justify' style='margin: 10px 20px; line-height:1.5; font-family: \"Times New Roman\", Times, serif; font-size:16px; color: black'>\n",
    "  You can perform mathematical calculations using the expr command or the $(( ... )) construct.<br><br><br>Here is an example of using expr to perform arithmetic:\n",
    "    \n",
    "</p>"
   ]
  },
  {
   "cell_type": "code",
   "execution_count": 49,
   "id": "d8b70502",
   "metadata": {
    "scrolled": true,
    "slideshow": {
     "slide_type": "subslide"
    }
   },
   "outputs": [
    {
     "name": "stdout",
     "output_type": "stream",
     "text": [
      "# Calculate the result of adding 2 and 3\n",
      "result=$(expr 2 + 3)\n",
      "echo $result  # Outputs: 5\n",
      "\n",
      "# Calculate the result of multiplying 5 and 6\n",
      "result=$(expr 5 \\* 6)\n",
      "echo $result  # Outputs: 30\n"
     ]
    }
   ],
   "source": [
    "%%bash\n",
    "cat expr_arithmetic.sh"
   ]
  },
  {
   "cell_type": "code",
   "execution_count": 50,
   "id": "949a0a00",
   "metadata": {
    "scrolled": true,
    "slideshow": {
     "slide_type": "subslide"
    }
   },
   "outputs": [
    {
     "name": "stdout",
     "output_type": "stream",
     "text": [
      "5\n",
      "30\n"
     ]
    }
   ],
   "source": [
    "%%bash\n",
    "bash expr_arithmetic.sh"
   ]
  },
  {
   "cell_type": "markdown",
   "id": "226e085d",
   "metadata": {
    "slideshow": {
     "slide_type": "subslide"
    }
   },
   "source": [
    "<p align='justify' style='margin: 10px 20px; line-height:1.5; font-family: \"Times New Roman\", Times, serif; font-size:16px; color: black'>\n",
    "  The expr command can perform a variety of arithmetic operations, including addition (+), subtraction (-), multiplication (*), division (/), and modulus (%).<br><br>Here is an example of using the $(( ... )) construct to perform arithmetic:\n",
    "    \n",
    "</p>"
   ]
  },
  {
   "cell_type": "code",
   "execution_count": 51,
   "id": "826227f4",
   "metadata": {
    "slideshow": {
     "slide_type": "subslide"
    }
   },
   "outputs": [
    {
     "name": "stdout",
     "output_type": "stream",
     "text": [
      "# Calculate the result of adding 2 and 3\n",
      "result=$((2 + 3))\n",
      "echo $result  # Outputs: 5\n",
      "\n",
      "# Calculate the result of multiplying 5 and 6\n",
      "result=$((5 * 6))\n",
      "echo $result  # Outputs: 30\n"
     ]
    }
   ],
   "source": [
    "%%bash\n",
    "cat double_quote_arithmetic.sh"
   ]
  },
  {
   "cell_type": "code",
   "execution_count": 53,
   "id": "2da4ce03",
   "metadata": {
    "slideshow": {
     "slide_type": "subslide"
    }
   },
   "outputs": [
    {
     "name": "stdout",
     "output_type": "stream",
     "text": [
      "5\n",
      "30\n"
     ]
    }
   ],
   "source": [
    "%%bash\n",
    "bash double_quote_arithmetic.sh"
   ]
  },
  {
   "cell_type": "markdown",
   "id": "4fa0bd72",
   "metadata": {
    "slideshow": {
     "slide_type": "subslide"
    }
   },
   "source": [
    "<p align='justify' style='margin: 10px 20px; line-height:1.5; font-family: \"Times New Roman\", Times, serif; font-size:16px; color: black'>\n",
    "  The $(( ... )) construct can also be used to perform more advanced arithmetic, such as exponentiation (**) and bitwise operations (&, |, ^, etc.).\n",
    "    \n",
    "</p>"
   ]
  },
  {
   "cell_type": "code",
   "execution_count": 54,
   "id": "afd3fb63",
   "metadata": {
    "slideshow": {
     "slide_type": "subslide"
    }
   },
   "outputs": [
    {
     "name": "stdout",
     "output_type": "stream",
     "text": [
      "# Calculate the result of raising 2 to the power of 8\n",
      "result=$((2 ** 8))\n",
      "echo $result  # Outputs: 256\n",
      "\n",
      "# Calculate the result of performing a bitwise OR operation on 12 and 25\n",
      "result=$((12 | 25))\n",
      "echo $result  # Outputs: 29\n"
     ]
    }
   ],
   "source": [
    "%%bash\n",
    "cat bitwise_arithmetic.sh"
   ]
  },
  {
   "cell_type": "code",
   "execution_count": 55,
   "id": "f40bddfa",
   "metadata": {
    "scrolled": true,
    "slideshow": {
     "slide_type": "subslide"
    }
   },
   "outputs": [
    {
     "name": "stdout",
     "output_type": "stream",
     "text": [
      "256\n",
      "29\n"
     ]
    }
   ],
   "source": [
    "%%bash\n",
    "bash bitwise_arithmetic.sh"
   ]
  },
  {
   "cell_type": "markdown",
   "id": "868e41ab",
   "metadata": {
    "slideshow": {
     "slide_type": "subslide"
    }
   },
   "source": [
    "<p align='justify' style='margin: 10px 20px; line-height:1.5; font-family: \"Times New Roman\", Times, serif; font-size:16px; color: purple'>\n",
    "  Note that in both cases, the result of the arithmetic operation is stored in a shell variable and can be used in subsequent commands or operations in the script.\n",
    "    \n",
    "</p>"
   ]
  },
  {
   "cell_type": "markdown",
   "id": "c2e7b659",
   "metadata": {
    "slideshow": {
     "slide_type": "subslide"
    }
   },
   "source": [
    "<h3 style='color:red; font-weight:bold; text-align:center; font-family: \"Times New Roman\", Times, serif; font-size:20px;'>Debugging and error handling in shell scripts </h3><br>\n",
    "<img src=\"Debug-Bash-Scripts.webp\" width=\"150\" height=\"250\" style=\"float: left; margin-right: 20px; margin-left: 20px;\"><br>\n",
    "<p align='justify' style='margin: 10px 20px; line-height:1.5; font-family: \"Times New Roman\", Times, serif; font-size:16px; color: black'>\n",
    "  Debugging and error handling can be achieved in shell scripting through the use of various built-in commands and utilities.<br><br><br>One way to debug a shell script is to use the \"set -x\" command, which enables script tracing. This will print each command in the script to the console as it is executed, along with its arguments and any expansions. To turn off tracing, you can use the \"set +x\" command.\n",
    "    \n",
    "</p><br><br>\n",
    "<p align='justify' style='margin: 10px 20px; line-height:1.5; font-family: \"Times New Roman\", Times, serif; font-size:16px; color: black'>\n",
    "  Another useful debugging tool is the \"bash -x\" option, which allows you to run the script with tracing enabled from the command line. For example:\n",
    "    \n",
    "</p>"
   ]
  },
  {
   "cell_type": "code",
   "execution_count": null,
   "id": "8dfe6a9f",
   "metadata": {
    "slideshow": {
     "slide_type": "subslide"
    }
   },
   "outputs": [],
   "source": [
    "%%bash\n",
    "bash -x myscript.sh"
   ]
  },
  {
   "cell_type": "markdown",
   "id": "c7bff82b",
   "metadata": {
    "slideshow": {
     "slide_type": "subslide"
    }
   },
   "source": [
    "<p align='justify' style='margin: 10px 20px; line-height:1.5; font-family: \"Times New Roman\", Times, serif; font-size:16px; color: black'>\n",
    "  To handle errors in a shell script, you can use the set -e command, which causes the script to exit immediately if any command returns a non-zero exit status. This can be useful for ensuring that the script exits gracefully if an error occurs.<br><br>You can also use the || operator to execute a command only if the previous command failed. For example:\n",
    "    \n",
    "</p>"
   ]
  },
  {
   "cell_type": "code",
   "execution_count": null,
   "id": "0e5d6555",
   "metadata": {
    "slideshow": {
     "slide_type": "subslide"
    }
   },
   "outputs": [],
   "source": [
    "%%bash\n",
    "command1 || command2"
   ]
  },
  {
   "cell_type": "markdown",
   "id": "326fd49e",
   "metadata": {
    "slideshow": {
     "slide_type": "subslide"
    }
   },
   "source": [
    "<p align='justify' style='margin: 10px 20px; line-height:1.5; font-family: \"Times New Roman\", Times, serif; font-size:16px; color: black'>\n",
    "  This will execute command2 only if command1 returns a non-zero exit status.<br><br><br>Finally, you can use the trap command to catch signals and execute commands in response. This can be useful for cleaning up resources or taking other actions when the script is interrupted.<br><br><br>For example:\n",
    "    \n",
    "</p>"
   ]
  },
  {
   "cell_type": "code",
   "execution_count": null,
   "id": "ffa7239e",
   "metadata": {
    "slideshow": {
     "slide_type": "subslide"
    }
   },
   "outputs": [],
   "source": [
    "trap 'cleanup' INT\n",
    "    cleanup() {\n",
    "        # Clean up resources\n",
    "    }"
   ]
  },
  {
   "cell_type": "markdown",
   "id": "754084e4",
   "metadata": {
    "slideshow": {
     "slide_type": "subslide"
    }
   },
   "source": [
    "<p align='justify' style='margin: 10px 20px; line-height:1.5; font-family: \"Times New Roman\", Times, serif; font-size:16px; color: purple'>\n",
    "  This will execute the cleanup function if the script receives an INT signal (e.g., if the user presses CTRL+C).\n",
    "    \n",
    "</p><br>\n",
    "<h3 style='color:red; font-weight:bold; text-align:center; font-family: \"Times New Roman\", Times, serif; font-size:20px;'>Final Projects </h3><br>\n",
    "<p align='justify' style='margin: 10px 20px; line-height:1.5; font-family: \"Times New Roman\", Times, serif; font-size:16px; color: purple'>\n",
    "    \n",
    "    \n",
    "  <ul style='font-family: \"Times New Roman\", Times, serif; font-weight:light; font-size:16px;'>\n",
    "      <li>Q1. Create a script to automate the installation and configuration of a specific application or service on a Linux machine. For example, you could write a script to install and set up a LAMP stack (Linux, Apache, MySQL, PHP) on a fresh Ubuntu installation.\n",
    "</li><br>\n",
    "      <li>Q2. Write a script to automate the backup of important files and directories on a Linux machine. The script could be configured to run on a schedule (e.g. daily, weekly, monthly) and save the backups to a remote location, such as a networked storage device or a cloud service.</li><br>\n",
    "      <li>Q3. Create a script to monitor the performance and status of a Linux server. The script could run on a schedule and generate reports on things like CPU and memory usage, disk space, and system logs. The student could also add features to the script to automatically alert an administrator if certain thresholds are exceeded (e.g. if CPU usage exceeds a certain percentage).</li><br>\n",
    "      <li>Q4. Write a startup script for a custom service or application. For example, the student could create a script that launches a specific program or script when the Linux machine starts up. This could be useful for running a program or service that needs to be available at all times, such as a web server or a database.</li><br>\n",
    "      <li>Q5. Create a script to automate the deployment of a specific application or service on a cluster of Linux machines. The script could handle tasks such as installing dependencies, copying files, and configuring the service to run on multiple machines.\n",
    "</li>\n",
    "      \n",
    "    \n",
    "    \n",
    "  </ul>\n",
    "</p>"
   ]
  }
 ],
 "metadata": {
  "celltoolbar": "Slideshow",
  "kernelspec": {
   "display_name": "Python 3 (ipykernel)",
   "language": "python",
   "name": "python3"
  },
  "language_info": {
   "codemirror_mode": {
    "name": "ipython",
    "version": 3
   },
   "file_extension": ".py",
   "mimetype": "text/x-python",
   "name": "python",
   "nbconvert_exporter": "python",
   "pygments_lexer": "ipython3",
   "version": "3.9.13"
  },
  "toc": {
   "base_numbering": 1,
   "nav_menu": {},
   "number_sections": false,
   "sideBar": true,
   "skip_h1_title": false,
   "title_cell": "Table of Contents",
   "title_sidebar": "Contents",
   "toc_cell": false,
   "toc_position": {
    "height": "calc(100% - 180px)",
    "left": "10px",
    "top": "150px",
    "width": "294.195px"
   },
   "toc_section_display": true,
   "toc_window_display": false
  }
 },
 "nbformat": 4,
 "nbformat_minor": 5
}
