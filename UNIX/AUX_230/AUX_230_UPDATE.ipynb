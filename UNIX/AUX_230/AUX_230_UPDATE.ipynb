{
 "cells": [
  {
   "cell_type": "markdown",
   "id": "e674e3ee",
   "metadata": {
    "slideshow": {
     "slide_type": "slide"
    }
   },
   "source": [
    "<a href=\"https://asphere.fr/\">\n",
    "    <img src=\"logo2.png\" width=\"500\" height=\"400\" style=\"display: block; margin: 0 auto;\">\n",
    "</a>\n",
    "<h1 style=\"text-align: center; font-family: 'Times New Roman', Times,serif ; color: purple; margin-right: 25px; margin-left: 70px;\"> Network Programming in C on Unix</h1>\n",
    "<h4 style=\"text-align: center; font-family: 'Times New Roman', Times,serif ; color: black; margin-right: 25px; margin-left: 70px;\">AUX_230</h4>\n",
    "<h5 style=\"text-align: center; font-family: 'Times New Roman', Times,serif ; color: black; margin-right: 25px; margin-left: 70px;\">DURATION: Three Days (21 Hrs)</h5>\n",
    "<h4 style=\"text-align: center; font-family: 'Times New Roman', Times,serif ; color: black; margin-right: 25px; margin-left: 70px;\">OBJECTIVES</h4>\n",
    "<a href=\"https://asphere.fr/\">\n",
    "    <img src=\"unixlinux.webp\" width=\"100\" height=\"100\" style=\"float: right; margin-right: 25px; margin-left: 70px;\">\n",
    "</a>\n",
    "<h5 style=\"text-align: center; font-family: 'Times New Roman', Times,serif ; color: purple; margin-right: 90px; margin-left: 225px;\">To deepen one's understanding through hands-on experience in writing high-level protocol scripts, the nuances of the mechanisms that govern most client/server dialogues will be explored.<br> Additionally, it will open up the possibility of incorporating some code-related security mechanisms.</h5>"
   ]
  },
  {
   "cell_type": "code",
   "execution_count": null,
   "id": "0d23f80b",
   "metadata": {},
   "outputs": [],
   "source": []
  },
  {
   "cell_type": "markdown",
   "id": "13526717",
   "metadata": {
    "slideshow": {
     "slide_type": "subslide"
    }
   },
   "source": [
    "<h3 style='color:red; font-weight:bold; text-align:center; font-family: \"Times New Roman\", Times, serif;'>OVERVIEW</h3>\n",
    "\n",
    "<p align='justify' style='margin: 10px 20px; line-height:1.5; font-family: \"Times New Roman\", Times, serif; font-size:16px; color: purple'>\n",
    "  This course is designed to provide advanced knowledge and practical skills in network programming using the C language on the Unix platform. The course is suitable for students who have a good understanding of the C language and are interested in developing expertise in network programming. The course begins with an introduction to the need to understand client/server dialogue in advanced network administration during diagnosis. Students will learn how to decompose the dialogue from within the code and implement all phases of the dialogue to establish and exchange data between client and server processes.The first part of the course covers the network exchange structure and protocols. Students will learn about sockets, which are the basic building blocks for network programming, and the main socket-oriented system calls on the transport layer. They will also learn about protocol design principles, byte order issues, IP addressing, socket types, and addressing and identification.\n",
    "</p><br>\n",
    "<p align='justify' style='margin: 10px 20px; line-height:1.5; font-family: \"Times New Roman\", Times, serif; font-size:16px; color: black'>\n",
    "  The second part of the course covers more advanced topics related to network programming, such as connection establishment, dialog, send/receive operations, socket closure, error handling, and the creation of a typical protocol exchange. Students will learn how to listen for incoming connections, handle partial reads/writes, and recover from errors.The third part of the course covers security mechanisms related to the code. Students will learn about authentication, encryption, and access control, and how to integrate security mechanisms in network programming. They will also learn about secure socket layer (SSL) and transport layer security (TLS).\n",
    "</p><br>\n",
    "<p align='justify' style='margin: 10px 20px; line-height:1.5; font-family: \"Times New Roman\", Times, serif; font-size:16px; color: purple'>\n",
    "  Throughout the course, students will have opportunities to apply their knowledge through practical exercises. They will learn how to implement stream sockets, test socket recognition, check netstat, create a typical protocol exchange, and integrate security mechanisms in network programming.\n",
    "</p>"
   ]
  },
  {
   "cell_type": "markdown",
   "id": "94802694",
   "metadata": {
    "slideshow": {
     "slide_type": "slide"
    }
   },
   "source": [
    "<h2 style='color:red; font-weight:bold; text-align:center; font-family: \"Times New Roman\", Times, serif;'>INTRODUCTION TO CLIENT/SERVER BEHAVIOR IN ADVANCED NETWORK ADMINISTRATION</h2><br>\n",
    "\n",
    "<p align='justify' style='margin: 10px 20px; line-height:1.5; font-family: \"Times New Roman\", Times, serif; font-size:16px; color: purple'>\n",
    "    <strong> Lesson One: </strong> Introduction to Client/Server Behavior in Advanced Network Administration\n",
    "    \n",
    "  <ul style='font-family: \"Times New Roman\", Times, serif; font-weight:light; font-size:16px; color: black'>\n",
    "      <li><b>Need to understand client/server dialogue in advanced network administration during diagnosis   </b></li>\n",
    "      <li><b> Decomposing the dialogue from within the code </b></li>\n",
    "      <li><b>Implementing all phases of the dialogue to establish and exchange data between client and server processes  </b></li>\n",
    "      <li><b>Common phases of client/server-oriented services  </b></li>\n",
    "      \n",
    "    \n",
    "    \n",
    "  </ul>\n",
    "</p><br>\n",
    "<img src=\"2023-02-06_01-38.png\" width=\"150\" height=\"250\" style=\"float: left; margin-right: 20px; margin-left: 20px;\">\n",
    "<p align='justify' style='margin: 10px 20px; line-height:1.5; font-family: \"Times New Roman\", Times, serif; font-size:16px; color: purple'>\n",
    "  The purpose of this module is to provide a deeper understanding of client/server behavior in advanced network administration. In this era of technology, computer networks play a critical role in almost all aspects of our daily lives. <br><br>Network administrators need to have a good understanding of the workings of the networks they manage, and one of the key components of network management is the client/server behavior.\n",
    "</p>"
   ]
  },
  {
   "cell_type": "markdown",
   "id": "fb0df388",
   "metadata": {
    "slideshow": {
     "slide_type": "subslide"
    }
   },
   "source": [
    "\n",
    "<img src=\"client_server1.png\" width=\"150\" height=\"250\" style=\"float: left; margin-right: 20px; margin-left: 20px;\"><p align='justify' style='margin: 10px 20px; line-height:1.5; font-family: \"Times New Roman\", Times, serif; font-size:16px; color: black'>\n",
    "  Client/server dialogue is a fundamental aspect of network communication, and understanding it is crucial for advanced network administration, particularly during network diagnosis. <br><br><br>In this section, we will delve deeper into client/server dialogue, discussing its different phases, common issues that arise during the process, and how to effectively diagnose and solve them.\n",
    "</p><br><br>\n",
    "<h4 style='color:red; font-weight:bold; text-align:center; font-family: \"Times New Roman\", Times, serif; font-size:18px;'>Phases of Client/Server Dialogue</h4><br>\n",
    "<p align='justify' style='margin: 10px 20px; line-height:1.5; font-family: \"Times New Roman\", Times, serif; font-size:16px; color: purple'>\n",
    "    <strong> Client/server dialogue is a process that involves several phases. These include: </strong> \n",
    "    \n",
    "  <ul style='font-family: \"Times New Roman\", Times, serif; font-weight:light; font-size:16px; color: black'>\n",
    "      <li><b>Connection establishment: </b><br><br>This is the first phase of communication, where the client initiates a connection to the server. During this phase, the client and server agree on the protocol and parameters for the communication.</li>\n",
    "      \n",
    "      \n",
    "      \n",
    "    \n",
    "    \n",
    "  </ul>\n",
    "</p>"
   ]
  },
  {
   "cell_type": "markdown",
   "id": "7f3aa7dd",
   "metadata": {
    "slideshow": {
     "slide_type": "subslide"
    }
   },
   "source": [
    "<p align='justify' style='margin: 10px 20px; line-height:1.5; font-family: \"Times New Roman\", Times, serif; font-size:16px; color: purple'>\n",
    "     \n",
    "    \n",
    "  <ul style='font-family: \"Times New Roman\", Times, serif; font-weight:light; font-size:16px; color: black'>\n",
    "      <li><b>Data transfer: </b><br><br>Once the connection is established, the client and server can begin exchanging data. This phase involves sending and receiving messages between the two parties.</li><br><br>\n",
    "      <li><b>Connection termination:  </b><br><br>When the communication is complete, the client and server terminate the connection. This phase involves a series of steps to ensure that all data has been successfully transferred and that the connection is closed properly.\n",
    "\n",
    "</li>\n",
    "      \n",
    "      \n",
    "      \n",
    "    \n",
    "    \n",
    "  </ul>\n",
    "</p><br><br>\n",
    "<h4 style='color:red; font-weight:bold; text-align:center; font-family: \"Times New Roman\", Times, serif; font-size:18px;'>Common Issues in Client/Server Dialogue</h4><br>\n",
    "<p align='justify' style='margin: 10px 20px; line-height:1.5; font-family: \"Times New Roman\", Times, serif; font-size:16px; color: purple'>\n",
    "     While client/server communication is essential to network communication, there are several common issues that can arise during the process. Some of these issues include:<br><br>\n",
    "    \n",
    "  <ul style='font-family: \"Times New Roman\", Times, serif; font-weight:light; font-size:16px; color: black'>\n",
    "      <li><b>Congestion:  </b><br><br>When there is too much traffic on the network, it can lead to congestion, causing the communication between the client and server to slow down or stop altogether.</li>\n",
    "      \n",
    "      \n",
    "      \n",
    "    \n",
    "    \n",
    "  </ul>\n",
    "</p>"
   ]
  },
  {
   "cell_type": "markdown",
   "id": "82374ab7",
   "metadata": {
    "slideshow": {
     "slide_type": "subslide"
    }
   },
   "source": [
    "<p align='justify' style='margin: 10px 20px; line-height:1.5; font-family: \"Times New Roman\", Times, serif; font-size:16px; color: purple'>\n",
    "     \n",
    "    \n",
    "  <ul style='font-family: \"Times New Roman\", Times, serif; font-weight:light; font-size:16px; color: black'>\n",
    "      <li><b>Packet loss:  </b><br><br>When packets are lost during the transfer process, it can result in incomplete data transmission or corrupted data.</li><br><br>\n",
    "      <li><b>Error handling:   </b><br><br> Errors can occur during the communication process, leading to lost or corrupt data.</li><br><br>\n",
    "      <li><b>Security:    </b><br><br> Security is an essential aspect of client/server dialogue, and without proper authentication and encryption, sensitive data can be compromised.</li>\n",
    "      \n",
    "      \n",
    "    \n",
    "    \n",
    "  </ul>\n",
    "</p>"
   ]
  },
  {
   "cell_type": "markdown",
   "id": "b3a1316b",
   "metadata": {
    "slideshow": {
     "slide_type": "subslide"
    }
   },
   "source": [
    "<h4 style='color:red; font-weight:bold; text-align:center; font-family: \"Times New Roman\", Times, serif; font-size:18px;'> Diagnosis and Troubleshooting</h4><br>\n",
    "<p align='justify' style='margin: 10px 20px; line-height:1.5; font-family: \"Times New Roman\", Times, serif; font-size:16px; color: purple'>\n",
    "     Diagnosing and troubleshooting issues in client/server dialogue can be a complex process, but there are several techniques that can help.<br><br>\n",
    "    \n",
    "  <ul style='font-family: \"Times New Roman\", Times, serif; font-weight:light; font-size:16px; color: black'>\n",
    "      <li><b>Packet sniffers:   </b><br><br>Packet sniffers are tools that capture and analyze network traffic, allowing you to identify issues such as packet loss, congestion, and error handling.</li><br><br>\n",
    "      <li><b>Error logging:   </b><br><br>Keeping a detailed log of errors that occur during the communication process can help you identify patterns and diagnose issues.</li><br><br>\n",
    "      <li><b>Network monitoring:    </b><br><br>Monitoring the network in real-time can help you identify issues as they occur, allowing you to diagnose and troubleshoot them more effectively.</li><br><br>\n",
    "      <li><b>Debugging tools: </b><br><br>Debugging tools can help you isolate and diagnose issues in your code, allowing you to identify and fix issues more quickly.</li>\n",
    "      \n",
    "      \n",
    "      \n",
    "    \n",
    "    \n",
    "  </ul>\n",
    "</p>"
   ]
  },
  {
   "cell_type": "markdown",
   "id": "ba4616a4",
   "metadata": {
    "slideshow": {
     "slide_type": "subslide"
    }
   },
   "source": [
    "<p align='justify' style='margin: 10px 20px; line-height:1.5; font-family: \"Times New Roman\", Times, serif; font-size:16px; color: purple'>\n",
    "     To help you better understand client/server dialogue, here are a few examples of how it can be used in different scenarios:<br><br>\n",
    "    \n",
    "  <ul style='font-family: \"Times New Roman\", Times, serif; font-weight:light; font-size:16px; color: black'>\n",
    "      <li><b>Email:   </b><br><br>Email clients use client/server dialogue to send and receive emails from a server.</li><br><br>\n",
    "      <li><b>Online gaming:   </b><br><br>Online games use client/server dialogue to communicate game data between players and the game server.</li><br><br>\n",
    "      <li><b>Video streaming:   </b><br><br>Video streaming services use client/server dialogue to deliver video content from the server to the client.\n",
    "\n",
    "</li>\n",
    "      \n",
    "      \n",
    "      \n",
    "      \n",
    "    \n",
    "    \n",
    "  </ul>\n",
    "</p>"
   ]
  },
  {
   "cell_type": "markdown",
   "id": "31ebc8e5",
   "metadata": {
    "slideshow": {
     "slide_type": "subslide"
    }
   },
   "source": [
    "<h3 style='color:red; font-weight:bold; text-align:center; font-family: \"Times New Roman\", Times, serif; font-size:20px;'> Decomposing the dialogue from within the code </h3><br>\n",
    "<p align='justify' style='margin: 10px 20px; line-height:1.5; font-family: \"Times New Roman\", Times, serif; font-size:16px; color: purple'>\n",
    "  Decomposing the client/server dialogue from within the code involves breaking down the communication process into its individual components and implementing each component in the code. This approach allows for greater control and flexibility over the communication process and enables more effective troubleshooting and debugging of issues.\n",
    "</p><br><br>\n",
    "<p align='justify' style='margin: 10px 20px; line-height:1.5; font-family: \"Times New Roman\", Times, serif; font-size:16px; color: purple'>\n",
    "     \n",
    "    \n",
    "  <ul style='font-family: \"Times New Roman\", Times, serif; font-weight:light; font-size:16px; color: black'>\n",
    "      <li><b> Implementing Connection Establishment   </b><br><br>The connection establishment phase is the first step in client/server dialogue. To implement this phase in the code, the client must initiate a connection request to the server. The server then accepts the request and establishes a connection with the client. This process can be implemented using socket programming, where the client and server each create a socket and use the socket functions to establish a connection.\n",
    "\n",
    "</li>\n",
    "    \n",
    "    \n",
    "  </ul>\n",
    "</p>"
   ]
  },
  {
   "cell_type": "markdown",
   "id": "fcc3adfc",
   "metadata": {
    "slideshow": {
     "slide_type": "subslide"
    }
   },
   "source": [
    "<p align='justify' style='margin: 10px 20px; line-height:1.5; font-family: \"Times New Roman\", Times, serif; font-size:16px; color: purple'>\n",
    "     \n",
    "    \n",
    "  <ul style='font-family: \"Times New Roman\", Times, serif; font-weight:light; font-size:16px; color: black'>\n",
    "      <li><b>  Implementing Data Transfer  </b><br><br>The data transfer phase involves sending and receiving messages between the client and server. To implement this phase in the code, the client and server must exchange data using the established connection. This can be achieved using socket programming, where the client and server use socket functions to send and receive messages.</li><br><br>\n",
    "      <li><b>Implementing Connection Termination  </b><br><br>The connection termination phase involves closing the connection between the client and server. This process can be implemented using socket programming, where the client and server each use the socket functions to terminate the connection. The process involves a series of steps to ensure that all data has been successfully transferred and that the connection is closed properly.</li>\n",
    "    \n",
    "    \n",
    "  </ul>\n",
    "</p><br>\n",
    "<h4 style='color:red; font-weight:bold; text-align:center; font-family: \"Times New Roman\", Times, serif; font-size:18px;'>Advantages of Decomposing the Dialogue from Within the Code</h4><br>\n",
    "<p align='justify' style='margin: 10px 20px; line-height:1.5; font-family: \"Times New Roman\", Times, serif; font-size:16px; color: purple'>\n",
    "     There are several advantages to decomposing the client/server dialogue from within the code. These include:\n",
    "    \n",
    "  <ul style='font-family: \"Times New Roman\", Times, serif; font-weight:light; font-size:16px; color: black'>\n",
    "      <li>Greater control and flexibility over the communication process.</li>\n",
    "      <li>More effective troubleshooting and debugging of issues.</li>\n",
    "      <li>Increased security through the implementation of custom security protocols.</li>\n",
    "      <li>Improved efficiency through the optimization of the communication process.\n",
    "\n",
    "</li>\n",
    "      \n",
    "    \n",
    "    \n",
    "  </ul>\n",
    "</p>"
   ]
  },
  {
   "cell_type": "markdown",
   "id": "579d4e42",
   "metadata": {
    "slideshow": {
     "slide_type": "subslide"
    }
   },
   "source": [
    "<h4 style='color:red; font-weight:bold; text-align:center; font-family: \"Times New Roman\", Times, serif; font-size:18px;'>Implementing all phases of the dialogue to establish and exchange data <br>between client and server processes </h4><br>\n",
    "<p align='justify' style='margin: 10px 20px; line-height:1.5; font-family: \"Times New Roman\", Times, serif; font-size:16px; color: purple'>\n",
    "    To establish and exchange data between client and server processes, all phases of the dialogue must be implemented in the code. This involves using socket programming to create and manage the socket connections, transfer data between the client and server, and close the connections properly.<br><br><b style = \"color: black\">Creating and Managing Socket Connections</b><br><br>To establish a socket connection between the client and server, the following steps can be followed:\n",
    "    \n",
    "  <ul style='font-family: \"Times New Roman\", Times, serif; font-weight:light; font-size:16px; color: black'>\n",
    "      <li>The client creates a socket using the socket() function.</li>\n",
    "      <li>The client sets the socket options using the setsockopt() function.</li>\n",
    "      <li>The client connects to the server using the connect() function.</li>\n",
    "      <li>The server listens for incoming connections using the listen() function.</li>\n",
    "      <li>The server accepts the connection request using the accept() function.</li>\n",
    "      <li>The server creates a new socket for the connection using the socket() function </li>\n",
    "      \n",
    "    \n",
    "    \n",
    "  </ul>\n",
    "</p>"
   ]
  },
  {
   "cell_type": "markdown",
   "id": "489505a4",
   "metadata": {
    "slideshow": {
     "slide_type": "subslide"
    }
   },
   "source": [
    "<p align='justify' style='margin: 10px 20px; line-height:1.5; font-family: \"Times New Roman\", Times, serif; font-size:16px; color: purple'>\n",
    "    <b style = \"color: black\">Transferring Data Between Client and Server</b><br><br>To transfer data between the client and server, the following steps can be followed:\n",
    "    \n",
    "  <ul style='font-family: \"Times New Roman\", Times, serif; font-weight:light; font-size:16px; color: black'>\n",
    "      <li>The client sends data to the server using the send() function.</li>\n",
    "      <li>The server receives the data from the client using the recv() function.</li>\n",
    "      <li>The server processes the data and sends a response to the client using the send() function.</li>\n",
    "      <li>The client receives the response from the server using the recv() function.</li>\n",
    "      <li>The client processes the response data.</li>\n",
    "      \n",
    "    \n",
    "    \n",
    "  </ul>\n",
    "</p><br><br>\n",
    "<p align='justify' style='margin: 10px 20px; line-height:1.5; font-family: \"Times New Roman\", Times, serif; font-size:16px; color: purple'>\n",
    "    <b style = \"color: black\"> Closing Socket Connections</b><br><br>To close the socket connections properly, the following steps can be followed:\n",
    "    \n",
    "  <ul style='font-family: \"Times New Roman\", Times, serif; font-weight:light; font-size:16px; color: black'>\n",
    "      <li>The client initiates the termination process using the shutdown() function.</li>\n",
    "      <li>The server receives the termination request from the client.</li>\n",
    "      <li>The server sends a termination acknowledgement to the client using the send() function.</li>\n",
    "      <li>The client receives the termination acknowledgement from the server using the recv() function.</li>\n",
    "      <li>The client closes the connection using the close() function.</li>\n",
    "      <li>The server closes the connection using the close() function.</li>\n",
    "      \n",
    "    \n",
    "    \n",
    "  </ul>\n",
    "</p><br>\n",
    "<p align='justify' style='margin: 10px 20px; line-height:1.5; font-family: \"Times New Roman\", Times, serif; font-size:16px; color: purple'>\n",
    "  Here is an example of how to implement all phases of the dialogue to establish and exchange data between client and server processes using socket programming:\n",
    "</p>"
   ]
  },
  {
   "cell_type": "code",
   "execution_count": null,
   "id": "8e917521",
   "metadata": {
    "slideshow": {
     "slide_type": "subslide"
    }
   },
   "outputs": [],
   "source": [
    "// Server code\n",
    "\n",
    "#include <stdio.h>\n",
    "#include <stdlib.h>\n",
    "#include <unistd.h>\n",
    "#include <string.h>\n",
    "#include <sys/socket.h>\n",
    "#include <arpa/inet.h>\n",
    "\n",
    "int main() {\n",
    "    // Create a socket for the server\n",
    "    int server_sockfd = socket(AF_INET, SOCK_STREAM, 0);\n",
    "\n",
    "    // Set up the server address and port\n",
    "    struct sockaddr_in server_addr;\n",
    "    memset(&server_addr, 0, sizeof(server_addr));\n",
    "    server_addr.sin_family = AF_INET;\n",
    "    server_addr.sin_port = htons(1234);\n",
    "    server_addr.sin_addr.s_addr = INADDR_ANY;\n",
    "\n",
    "    // Bind the server socket to the specified address and port\n",
    "    if (bind(server_sockfd, (struct sockaddr *)&server_addr, sizeof(server_addr)) < 0) {\n",
    "        perror(\"bind failed\");\n",
    "        exit(EXIT_FAILURE);\n",
    "    }\n",
    "\n",
    "    // Start listening for incoming connections\n",
    "    if (listen(server_sockfd, 5) < 0) {\n",
    "        perror(\"listen failed\");\n",
    "        exit(EXIT_FAILURE);\n",
    "    }\n",
    "\n",
    "    // Accept incoming connections and handle them\n",
    "    struct sockaddr_in client_addr;\n",
    "    socklen_t client_len = sizeof(client_addr);\n",
    "    int client_sockfd = accept(server_sockfd, (struct sockaddr *)&client_addr, &client_len);\n",
    "\n",
    "    // Receive data from the client and send a response\n",
    "    char buffer[1024];\n",
    "    memset(buffer, 0, sizeof(buffer));\n",
    "    int bytes_received = recv(client_sockfd, buffer, sizeof(buffer), 0);\n",
    "    printf(\"Received %d bytes from client: %s\\n\", bytes_received, buffer);\n",
    "\n",
    "    char response[] = \"Hello from server!\";\n",
    "    send(client_sockfd, response, strlen(response), 0);\n",
    "    printf(\"Sent response to client: %s\\n\", response);\n",
    "\n",
    "    // Clean up and close the sockets\n",
    "    close(client_sockfd);\n",
    "    close(server_sockfd);\n",
    "\n",
    "    return 0;\n",
    "}"
   ]
  },
  {
   "cell_type": "markdown",
   "id": "16667416",
   "metadata": {
    "slideshow": {
     "slide_type": "subslide"
    }
   },
   "source": [
    "<p align='justify' style='margin: 10px 20px; line-height:1.5; font-family: \"Times New Roman\", Times, serif; font-size:16px; color: purple'>\n",
    "  Here's an explanation of each part of the server code in detail:\n",
    "</p>"
   ]
  },
  {
   "cell_type": "code",
   "execution_count": null,
   "id": "9e4332d6",
   "metadata": {
    "slideshow": {
     "slide_type": "subslide"
    }
   },
   "outputs": [],
   "source": [
    "#include <stdio.h>\n",
    "#include <stdlib.h>\n",
    "#include <unistd.h>\n",
    "#include <string.h>\n",
    "#include <sys/socket.h>\n",
    "#include <arpa/inet.h>"
   ]
  },
  {
   "cell_type": "markdown",
   "id": "b86ae0c6",
   "metadata": {
    "slideshow": {
     "slide_type": "subslide"
    }
   },
   "source": [
    "<p align='justify' style='margin: 10px 20px; line-height:1.5; font-family: \"Times New Roman\", Times, serif; font-size:16px; color: purple'>\n",
    "  This part of the code includes the necessary header files needed for the server code to run successfully. These header files are used for performing various functions like input and output, string handling, socket programming, and other operating system services.\n",
    "\n",
    "</p>"
   ]
  },
  {
   "cell_type": "code",
   "execution_count": null,
   "id": "7772dc3f",
   "metadata": {
    "slideshow": {
     "slide_type": "subslide"
    }
   },
   "outputs": [],
   "source": [
    "int main() {"
   ]
  },
  {
   "cell_type": "markdown",
   "id": "394456fc",
   "metadata": {
    "slideshow": {
     "slide_type": "subslide"
    }
   },
   "source": [
    "<p align='justify' style='margin: 10px 20px; line-height:1.5; font-family: \"Times New Roman\", Times, serif; font-size:16px; color: purple'>\n",
    "  This part of the code defines the main function that is the entry point of the program.\n",
    "\n",
    "</p>"
   ]
  },
  {
   "cell_type": "code",
   "execution_count": null,
   "id": "54cfce6f",
   "metadata": {
    "slideshow": {
     "slide_type": "subslide"
    }
   },
   "outputs": [],
   "source": [
    "// Create a socket for the server\n",
    "int server_sockfd = socket(AF_INET, SOCK_STREAM, 0);"
   ]
  },
  {
   "cell_type": "markdown",
   "id": "cdd186a8",
   "metadata": {
    "slideshow": {
     "slide_type": "subslide"
    }
   },
   "source": [
    "<p align='justify' style='margin: 10px 20px; line-height:1.5; font-family: \"Times New Roman\", Times, serif; font-size:16px; color: purple'>\n",
    "  This part of the code creates a socket for the server using the socket() function. The AF_INET parameter specifies that this is an IPv4 socket, and the SOCK_STREAM parameter specifies that this is a TCP socket.\n",
    "\n",
    "</p>"
   ]
  },
  {
   "cell_type": "code",
   "execution_count": null,
   "id": "3d4e9f4f",
   "metadata": {
    "slideshow": {
     "slide_type": "subslide"
    }
   },
   "outputs": [],
   "source": [
    "// Set up the server address and port\n",
    "struct sockaddr_in server_addr;\n",
    "memset(&server_addr, 0, sizeof(server_addr));\n",
    "server_addr.sin_family = AF_INET;\n",
    "server_addr.sin_port = htons(1234);\n",
    "server_addr.sin_addr.s_addr = INADDR_ANY;"
   ]
  },
  {
   "cell_type": "markdown",
   "id": "738713fa",
   "metadata": {
    "slideshow": {
     "slide_type": "subslide"
    }
   },
   "source": [
    "<p align='justify' style='margin: 10px 20px; line-height:1.5; font-family: \"Times New Roman\", Times, serif; font-size:16px; color: purple'>\n",
    "  This part of the code sets up the server address and port. The memset() function is used to clear the server_addr struct to zero. The sin_family field is set to AF_INET, which specifies that this is an IPv4 address. The sin_port field is set to htons(1234), which specifies that the server will listen on port 1234. The sin_addr.s_addr field is set to INADDR_ANY, which means that the server will accept connections on any network interface.\n",
    "\n",
    "</p>"
   ]
  },
  {
   "cell_type": "code",
   "execution_count": null,
   "id": "dd751241",
   "metadata": {
    "slideshow": {
     "slide_type": "subslide"
    }
   },
   "outputs": [],
   "source": [
    "// Bind the server socket to the specified address and port\n",
    "if (bind(server_sockfd, (struct sockaddr *)&server_addr, sizeof(server_addr)) < 0) {\n",
    "    perror(\"bind failed\");\n",
    "    exit(EXIT_FAILURE);\n",
    "}"
   ]
  },
  {
   "cell_type": "markdown",
   "id": "54051ee1",
   "metadata": {
    "slideshow": {
     "slide_type": "subslide"
    }
   },
   "source": [
    "<p align='justify' style='margin: 10px 20px; line-height:1.5; font-family: \"Times New Roman\", Times, serif; font-size:16px; color: purple'>\n",
    "  This part of the code binds the server socket to the specified address and port using the bind() function. If the bind() function fails, the perror() function prints an error message to the console and the program exits.\n",
    "\n",
    "</p>"
   ]
  },
  {
   "cell_type": "code",
   "execution_count": null,
   "id": "f6ca9621",
   "metadata": {
    "slideshow": {
     "slide_type": "subslide"
    }
   },
   "outputs": [],
   "source": [
    "// Start listening for incoming connections\n",
    "if (listen(server_sockfd, 5) < 0) {\n",
    "    perror(\"listen failed\");\n",
    "    exit(EXIT_FAILURE);\n",
    "}"
   ]
  },
  {
   "cell_type": "markdown",
   "id": "5b0fe6fc",
   "metadata": {
    "slideshow": {
     "slide_type": "subslide"
    }
   },
   "source": [
    "<p align='justify' style='margin: 10px 20px; line-height:1.5; font-family: \"Times New Roman\", Times, serif; font-size:16px; color: purple'>\n",
    "  This part of the code starts listening for incoming connections using the listen() function. The 5 parameter specifies the maximum number of queued connections that can be waiting for the server to accept them. If the listen() function fails, the perror() function prints an error message to the console and the program exits.\n",
    "\n",
    "</p>"
   ]
  },
  {
   "cell_type": "code",
   "execution_count": null,
   "id": "9e5b4c59",
   "metadata": {
    "slideshow": {
     "slide_type": "subslide"
    }
   },
   "outputs": [],
   "source": [
    "// Accept incoming connections and handle them\n",
    "struct sockaddr_in client_addr;\n",
    "socklen_t client_len = sizeof(client_addr);\n",
    "int client_sockfd = accept(server_sockfd, (struct sockaddr *)&client_addr, &client_len);"
   ]
  },
  {
   "cell_type": "markdown",
   "id": "5a1464ce",
   "metadata": {
    "slideshow": {
     "slide_type": "subslide"
    }
   },
   "source": [
    "<p align='justify' style='margin: 10px 20px; line-height:1.5; font-family: \"Times New Roman\", Times, serif; font-size:16px; color: purple'>\n",
    "  This part of the code accepts incoming connections using the accept() function. When a client connects to the server, the accept() function blocks until the connection is established. The client_addr struct contains the client's address and port. The client_sockfd variable is a new socket descriptor that is used for communication with the client.\n",
    "\n",
    "</p>"
   ]
  },
  {
   "cell_type": "code",
   "execution_count": null,
   "id": "af74dbb3",
   "metadata": {
    "slideshow": {
     "slide_type": "subslide"
    }
   },
   "outputs": [],
   "source": [
    "    // Receive data from the client and send a response\n",
    "    char buffer[1024];\n",
    "    memset(buffer, 0, sizeof(buffer));\n",
    "    int bytes_received = recv(client_sockfd, buffer, sizeof(buffer), 0);\n",
    "    printf(\"Received %d bytes from client: %s\\n\", bytes_received, buffer);\n",
    "\n",
    "    char response[] = \"Hello from server!\";\n",
    "    send(client_sockfd, response, strlen(response), 0);\n",
    "    printf(\"Sent response to client: %s\\n\", response);\n"
   ]
  },
  {
   "cell_type": "markdown",
   "id": "6af0d523",
   "metadata": {
    "slideshow": {
     "slide_type": "subslide"
    }
   },
   "source": [
    "<p align='justify' style='margin: 10px 20px; line-height:1.5; font-family: \"Times New Roman\", Times, serif; font-size:16px; color: purple'>\n",
    "  The code above receives data from the client using the recv() function, which takes four arguments: the client socket file descriptor, a buffer to store the received data, the size of the buffer, and flags (in this case 0 for default behavior). If the recv() function returns a positive integer, that means data has been received successfully. The printf() function is used to print the received data.\n",
    "\n",
    "\n",
    "</p><br>\n",
    "<p align='justify' style='margin: 10px 20px; line-height:1.5; font-family: \"Times New Roman\", Times, serif; font-size:16px; color: purple'>\n",
    "  After receiving the data, the server code sends a response back to the client using the send() function, which takes four arguments: the client socket file descriptor, a buffer containing the data to send, the size of the buffer, and flags (in this case 0 for default behavior). The printf() function is used to print the response that was sent to the client.\n",
    "\n",
    "\n",
    "</p>"
   ]
  },
  {
   "cell_type": "code",
   "execution_count": null,
   "id": "04920e8c",
   "metadata": {
    "slideshow": {
     "slide_type": "subslide"
    }
   },
   "outputs": [],
   "source": [
    "    // Clean up and close the sockets\n",
    "    close(client_sockfd);\n",
    "    close(server_sockfd);\n",
    "\n",
    "    return 0;\n",
    "}"
   ]
  },
  {
   "cell_type": "markdown",
   "id": "b6888639",
   "metadata": {
    "slideshow": {
     "slide_type": "subslide"
    }
   },
   "source": [
    "<p align='justify' style='margin: 10px 20px; line-height:1.5; font-family: \"Times New Roman\", Times, serif; font-size:16px; color: purple'>\n",
    "   Finally, the code above cleans up and closes the sockets using the close() function, which takes one argument: the socket file descriptor. The program then returns 0 to indicate successful completion.\n",
    "\n",
    "\n",
    "</p><br><br>\n",
    "<p align='justify' style='margin: 10px 20px; line-height:1.5; font-family: \"Times New Roman\", Times, serif; font-size:16px; color: black'>\n",
    "   Here is a simple client code that can connect to the server code provided above:\n",
    "\n",
    "\n",
    "</p>"
   ]
  },
  {
   "cell_type": "code",
   "execution_count": null,
   "id": "37e56971",
   "metadata": {
    "slideshow": {
     "slide_type": "subslide"
    }
   },
   "outputs": [],
   "source": [
    "// Client code\n",
    "\n",
    "#include <stdio.h>\n",
    "#include <stdlib.h>\n",
    "#include <unistd.h>\n",
    "#include <string.h>\n",
    "#include <sys/socket.h>\n",
    "#include <arpa/inet.h>\n",
    "\n",
    "int main() {\n",
    "    // Create a socket for the client\n",
    "    int client_sockfd = socket(AF_INET, SOCK_STREAM, 0);\n",
    "\n",
    "    // Set up the server address and port\n",
    "    struct sockaddr_in server_addr;\n",
    "    memset(&server_addr, 0, sizeof(server_addr));\n",
    "    server_addr.sin_family = AF_INET;\n",
    "    server_addr.sin_port = htons(1234);\n",
    "    inet_pton(AF_INET, \"127.0.0.1\", &server_addr.sin_addr);\n",
    "\n",
    "    // Connect to the server\n",
    "    if (connect(client_sockfd, (struct sockaddr *)&server_addr, sizeof(server_addr)) < 0) {\n",
    "        perror(\"connect failed\");\n",
    "        exit(EXIT_FAILURE);\n",
    "    }\n",
    "\n",
    "    // Send data to the server and receive a response\n",
    "    char message[] = \"Hello from client!\";\n",
    "    send(client_sockfd, message, strlen(message), 0);\n",
    "\n",
    "    char buffer[1024];\n",
    "    memset(buffer, 0, sizeof(buffer));\n",
    "    int bytes_received = recv(client_sockfd, buffer, sizeof(buffer), 0);\n",
    "    printf(\"Received %d bytes from server: %s\\n\", bytes_received, buffer);\n",
    "\n",
    "    // Clean up and close the socket\n",
    "    close(client_sockfd);\n",
    "\n",
    "    return 0;\n",
    "}"
   ]
  },
  {
   "cell_type": "markdown",
   "id": "f67001da",
   "metadata": {
    "slideshow": {
     "slide_type": "subslide"
    }
   },
   "source": [
    "<p align='justify' style='margin: 10px 20px; line-height:1.5; font-family: \"Times New Roman\", Times, serif; font-size:16px; color: black'>\n",
    "   here's an explanation of the client code:\n",
    "\n",
    "\n",
    "</p>"
   ]
  },
  {
   "cell_type": "code",
   "execution_count": null,
   "id": "e4be7852",
   "metadata": {
    "slideshow": {
     "slide_type": "subslide"
    }
   },
   "outputs": [],
   "source": [
    "#include <stdio.h>\n",
    "#include <stdlib.h>\n",
    "#include <unistd.h>\n",
    "#include <string.h>\n",
    "#include <sys/socket.h>\n",
    "#include <arpa/inet.h>"
   ]
  },
  {
   "cell_type": "markdown",
   "id": "d09ab7eb",
   "metadata": {
    "slideshow": {
     "slide_type": "subslide"
    }
   },
   "source": [
    "<p align='justify' style='margin: 10px 20px; line-height:1.5; font-family: \"Times New Roman\", Times, serif; font-size:16px; color: purple'>\n",
    "   The code above includes the necessary header files for socket programming.\n",
    "\n",
    "\n",
    "</p>"
   ]
  },
  {
   "cell_type": "code",
   "execution_count": null,
   "id": "ca8596a3",
   "metadata": {
    "slideshow": {
     "slide_type": "subslide"
    }
   },
   "outputs": [],
   "source": [
    "int main() {\n",
    "    // Create a socket for the client\n",
    "    int client_sockfd = socket(AF_INET, SOCK_STREAM, 0);"
   ]
  },
  {
   "cell_type": "markdown",
   "id": "ece57742",
   "metadata": {
    "slideshow": {
     "slide_type": "subslide"
    }
   },
   "source": [
    "<p align='justify' style='margin: 10px 20px; line-height:1.5; font-family: \"Times New Roman\", Times, serif; font-size:16px; color: purple'>\n",
    "   The code above creates a socket for the client using the socket() function, which takes three arguments: the address family (in this case AF_INET for IPv4), the socket type (in this case SOCK_STREAM for TCP), and the protocol (in this case 0 for default behavior).\n",
    "\n",
    "\n",
    "</p>"
   ]
  },
  {
   "cell_type": "code",
   "execution_count": null,
   "id": "2879f818",
   "metadata": {
    "slideshow": {
     "slide_type": "subslide"
    }
   },
   "outputs": [],
   "source": [
    "    // Set up the server address and port\n",
    "    struct sockaddr_in server_addr;\n",
    "    memset(&server_addr, 0, sizeof(server_addr));\n",
    "    server_addr.sin_family = AF_INET;\n",
    "    server_addr.sin_port = htons(1234);\n",
    "    inet_pton(AF_INET, \"127.0.0.1\", &server_addr.sin_addr);"
   ]
  },
  {
   "cell_type": "markdown",
   "id": "7d716ae9",
   "metadata": {
    "slideshow": {
     "slide_type": "subslide"
    }
   },
   "source": [
    "<p align='justify' style='margin: 10px 20px; line-height:1.5; font-family: \"Times New Roman\", Times, serif; font-size:16px; color: purple'>\n",
    "   The code above sets up the server address and port. The struct sockaddr_in structure is used to specify the address and port, and the memset() function is used to zero out the structure. The server address family is set to AF_INET for IPv4, and the port number is set to 1234. The inet_pton() function is used to convert the server IP address from text to binary format.\n",
    "</p>"
   ]
  },
  {
   "cell_type": "code",
   "execution_count": null,
   "id": "8f04abed",
   "metadata": {
    "slideshow": {
     "slide_type": "subslide"
    }
   },
   "outputs": [],
   "source": [
    "    // Connect to the server\n",
    "    if (connect(client_sockfd, (struct sockaddr *)&server_addr, sizeof(server_addr)) < 0) {\n",
    "        perror(\"connect failed\");\n",
    "        exit(EXIT_FAILURE);\n",
    "    }"
   ]
  },
  {
   "cell_type": "markdown",
   "id": "2d2193a1",
   "metadata": {
    "slideshow": {
     "slide_type": "subslide"
    }
   },
   "source": [
    "<p align='justify' style='margin: 10px 20px; line-height:1.5; font-family: \"Times New Roman\", Times, serif; font-size:16px; color: purple'>\n",
    "   The code above connects the client to the server using the connect() function, which takes three arguments: the client socket file descriptor, a pointer to the struct sockaddr structure containing the server address and port, and the size of the sockaddr structure. If the connect() function returns a negative integer, that means the connection attempt failed. The perror() function is used to print an error message, and the exit() function is used to terminate the program.\n",
    "</p>"
   ]
  },
  {
   "cell_type": "code",
   "execution_count": null,
   "id": "e9ab85b5",
   "metadata": {
    "slideshow": {
     "slide_type": "subslide"
    }
   },
   "outputs": [],
   "source": [
    "    // Send data to the server and receive a response\n",
    "    char message[] = \"Hello from client!\";\n",
    "    send(client_sockfd, message, strlen(message), 0);\n",
    "\n",
    "    char buffer[1024];\n",
    "    memset(buffer, 0, sizeof(buffer));\n",
    "    int bytes_received = recv(client_sockfd, buffer, sizeof(buffer), 0);\n",
    "    printf(\"Received %d bytes from server: %s\\n\", bytes_received, buffer);"
   ]
  },
  {
   "cell_type": "markdown",
   "id": "33c0adbd",
   "metadata": {
    "slideshow": {
     "slide_type": "subslide"
    }
   },
   "source": [
    "<p align='justify' style='margin: 10px 20px; line-height:1.5; font-family: \"Times New Roman\", Times, serif; font-size:16px; color: purple'>\n",
    "   The code above sends data to the server using the send() function, which takes four arguments: the client socket file descriptor, a buffer containing the data to send, the size of the buffer, and flags (in this case 0 for default behavior). The printf() function is used to print the message that was sent to the server.<br><br>After sending the message, the client code receives a response from the server using the recv() function, which takes four arguments: the client socket file descriptor, a buffer to store the received data, the size of the buffer, and flags (in this case 0 for default behavior). If the recv() function returns a positive integer, that means data has been received successfully. The printf() function is used to print the received data.\n",
    "</p>"
   ]
  },
  {
   "cell_type": "code",
   "execution_count": null,
   "id": "17673c71",
   "metadata": {},
   "outputs": [],
   "source": [
    "    // Clean up and close the socket\n",
    "    close(client_sockfd);\n",
    "\n",
    "    return 0;\n",
    "}"
   ]
  },
  {
   "cell_type": "markdown",
   "id": "a99dbb4b",
   "metadata": {
    "slideshow": {
     "slide_type": "subslide"
    }
   },
   "source": [
    "<p align='justify' style='margin: 10px 20px; line-height:1.5; font-family: \"Times New Roman\", Times, serif; font-size:16px; color: purple'>\n",
    "   Finally, the code above cleans up and closes the socket using the close() function, which takes one parameter that is the socket file descriptor to be closed. This releases the socket resources and frees up memory that was allocated for the socket.\n",
    "</p>"
   ]
  },
  {
   "cell_type": "markdown",
   "id": "74072800",
   "metadata": {
    "slideshow": {
     "slide_type": "slide"
    }
   },
   "source": [
    "<h2 style='color:red; font-weight:bold; text-align:center; font-family: \"Times New Roman\", Times, serif;'>NETWORK EXCHANGE STRUCTURE (1)</h2><br>\n",
    "\n",
    "<p align='justify' style='margin: 10px 20px; line-height:1.5; font-family: \"Times New Roman\", Times, serif; font-size:16px; color: purple'>\n",
    "    Exchange between 2 \"remote\" processes (distance = protocol) \n",
    "    \n",
    "  <ul style='font-family: \"Times New Roman\", Times, serif; font-weight:light; font-size:16px; color: black'>\n",
    "      <li><b>Exchange between 2 \"remote\" processes (distance = protocol) </b></li>\n",
    "      <li><b>Sockets or openings on the transport layers </b></li>\n",
    "      <li><b>Main socket-oriented system calls on the transport layer  </b></li>\n",
    "      <li><b>Notion of protocol writing and directives  </b></li>\n",
    "      <li><b>Byte order (Big/Little Endian)  </b></li>\n",
    "      <li><b>IP Address, Service and Socket Address (Port Number)  </b></li>\n",
    "      <li><b>Socket concept  </b></li>\n",
    "      \n",
    "    \n",
    "    \n",
    "  </ul>\n",
    "</p><br>\n",
    "<img src=\"2023-02-06_01-38.png\" width=\"150\" height=\"250\" style=\"float: left; margin-right: 20px; margin-left: 20px;\">\n",
    "<p align='justify' style='margin: 10px 20px; line-height:1.5; font-family: \"Times New Roman\", Times, serif; font-size:16px; color: purple'>\n",
    "  In network communication, the exchange of information between two remote processes is carried out through various protocols. These protocols define a set of rules and procedures for the exchange of data over the network. In this section, <br><br>we will discuss the basics of network protocols and their role in client/server-oriented services.\n",
    "</p><br><br>\n",
    "<p align='justify' style='margin: 10px 20px; line-height:1.5; font-family: \"Times New Roman\", Times, serif; font-size:16px; color: black'>\n",
    "  A network protocol is a set of rules that governs the communication between two or more devices over a network. These rules define the format, timing, sequencing, and error control of the data transmitted over the network. The most common protocols used in network communication are the Transmission Control Protocol (TCP) and User Datagram Protocol (UDP).\n",
    "</p>"
   ]
  },
  {
   "cell_type": "markdown",
   "id": "28bfe2aa",
   "metadata": {
    "slideshow": {
     "slide_type": "subslide"
    }
   },
   "source": [
    "<p align='justify' style='margin: 10px 20px; line-height:1.5; font-family: \"Times New Roman\", Times, serif; font-size:16px; color: black'>\n",
    "  TCP is a connection-oriented protocol that provides reliable data transmission by establishing a connection between the sender and receiver before data transmission. It ensures that data is delivered in the correct order and that there are no missing or duplicated packets. TCP is widely used in client/server-oriented services that require a high degree of reliability, such as email, file transfer, and web browsing.\n",
    "</p><br>\n",
    "<p align='justify' style='margin: 10px 20px; line-height:1.5; font-family: \"Times New Roman\", Times, serif; font-size:16px; color: black'>\n",
    "  UDP, on the other hand, is a connectionless protocol that does not establish a connection before data transmission. It is a simple protocol that allows data to be transmitted quickly without any error checking. UDP is used in applications that require high-speed data transfer, such as online gaming, video streaming, and VoIP.\n",
    "</p><br>\n",
    "<p align='justify' style='margin: 10px 20px; line-height:1.5; font-family: \"Times New Roman\", Times, serif; font-size:16px; color: black'>\n",
    "  When implementing client/server-oriented services, it is important to choose the appropriate protocol based on the application requirements. For example, if reliability and error checking are critical, TCP would be the best choice. If speed and efficiency are more important, UDP would be more suitable.\n",
    "</p>"
   ]
  },
  {
   "cell_type": "markdown",
   "id": "34373606",
   "metadata": {
    "slideshow": {
     "slide_type": "subslide"
    }
   },
   "source": [
    "<p align='justify' style='margin: 10px 20px; line-height:1.5; font-family: \"Times New Roman\", Times, serif; font-size:16px; color: purple'>\n",
    "  In addition to the protocol, the network exchange structure also involves the use of sockets. A socket is a combination of an IP address and a port number that identifies a specific process on a network. Sockets are used to establish a connection between two processes over the network.\n",
    "\n",
    "</p><br>\n",
    "<p align='justify' style='margin: 10px 20px; line-height:1.5; font-family: \"Times New Roman\", Times, serif; font-size:16px; color: purple'>\n",
    "  The process of establishing a connection between a client and a server involves several steps. The client initiates a connection request to the server, which responds with an acknowledgment. Once the connection is established, the client and server can exchange data. When the communication is complete, the connection is terminated.\n",
    "\n",
    "</p><br>\n",
    "<p align='justify' style='margin: 10px 20px; line-height:1.5; font-family: \"Times New Roman\", Times, serif; font-size:16px; color: black'>\n",
    "  In summary, the network exchange structure involves the use of protocols and sockets to facilitate the exchange of data between two remote processes. The choice of protocol depends on the application requirements, while the use of sockets allows for the identification and connection of specific processes on the network.\n",
    "\n",
    "</p>"
   ]
  },
  {
   "cell_type": "markdown",
   "id": "836e6fbb",
   "metadata": {
    "slideshow": {
     "slide_type": "subslide"
    }
   },
   "source": [
    "<h3 style='color:red; font-weight:bold; text-align:center; font-family: \"Times New Roman\", Times, serif; font-size:20px;'>Sockets or openings on the transport layers </h3><br>\n",
    "<img src=\"maxresdefault (2).jpg\" width=\"150\" height=\"250\" style=\"float: left; margin-right: 20px; margin-left: 20px;\">\n",
    "<p align='justify' style='margin: 10px 20px; line-height:1.5; font-family: \"Times New Roman\", Times, serif; font-size:16px; color: purple'>\n",
    "  Sockets or openings on the transport layers are an essential component of client-server communication. They provide a mechanism for establishing a reliable and efficient connection between two processes across a network. <br><br>In essence, sockets are an abstraction of network interfaces and protocols, allowing applications to communicate with each other as if they were running on the same machine.\n",
    "\n",
    "\n",
    "</p><br>\n",
    "<p align='justify' style='margin: 10px 20px; line-height:1.5; font-family: \"Times New Roman\", Times, serif; font-size:16px; color: black'>\n",
    "  A socket is essentially an endpoint for communication that is identified by an IP address and a port number. The IP address identifies the host machine, while the port number identifies the specific process on that machine. When a client wants to connect to a server, it must know the IP address and port number of the server's socket.\n",
    "\n",
    "\n",
    "</p><br>\n",
    "<p align='justify' style='margin: 10px 20px; line-height:1.5; font-family: \"Times New Roman\", Times, serif; font-size:16px; color: black'>\n",
    "  There are two main types of sockets: stream sockets and datagram sockets. Stream sockets provide a reliable, ordered, and error-checked stream of data, similar to a phone call, while datagram sockets provide a connectionless, unreliable, and unordered service, similar to a postcard.\n",
    "\n",
    "\n",
    "</p>"
   ]
  },
  {
   "cell_type": "markdown",
   "id": "66e39cae",
   "metadata": {
    "slideshow": {
     "slide_type": "subslide"
    }
   },
   "source": [
    "<p align='justify' style='margin: 10px 20px; line-height:1.5; font-family: \"Times New Roman\", Times, serif; font-size:16px; color: purple'>\n",
    "    <b style = \"color: purple\">The socket API provides a set of functions for creating, binding, listening, accepting, connecting, sending, and receiving data through sockets. Some of the most common socket functions include:</b><br><br>\n",
    "  <ul style='font-family: \"Times New Roman\", Times, serif; font-weight:light; font-size:16px; color: black'>\n",
    "      <li>socket(): creates a new socket</li>\n",
    "      <li>bind(): binds a socket to a specific IP address and port number</li>\n",
    "      <li>listen(): puts a socket in a passive mode, waiting for incoming connections</li>\n",
    "      <li>accept(): accepts an incoming connection and returns a new socket for communication with the client</li>\n",
    "      <li>connect(): initiates a connection to a server socket</li>\n",
    "      <li>send(): sends data over a socket</li>\n",
    "      <li>recv(): receives data from a socket</li>\n",
    "      \n",
    "    \n",
    "    \n",
    "  </ul>\n",
    "</p><br>\n",
    "<p align='justify' style='margin: 10px 20px; line-height:1.5; font-family: \"Times New Roman\", Times, serif; font-size:16px; color: purple'>\n",
    "  Here is an example of creating a stream socket on the server side:\n",
    "\n",
    "\n",
    "</p>"
   ]
  },
  {
   "cell_type": "code",
   "execution_count": null,
   "id": "bbc0367b",
   "metadata": {
    "slideshow": {
     "slide_type": "subslide"
    }
   },
   "outputs": [],
   "source": [
    "int server_socket = socket(AF_INET, SOCK_STREAM, 0);"
   ]
  },
  {
   "cell_type": "markdown",
   "id": "b308430d",
   "metadata": {
    "slideshow": {
     "slide_type": "subslide"
    }
   },
   "source": [
    "<p align='justify' style='margin: 10px 20px; line-height:1.5; font-family: \"Times New Roman\", Times, serif; font-size:16px; color: purple'>\n",
    "  This creates a new stream socket using the IPv4 address family (AF_INET), the TCP transport protocol (SOCK_STREAM), and the default protocol (0).\n",
    "\n",
    "\n",
    "</p><br>\n",
    "<p align='justify' style='margin: 10px 20px; line-height:1.5; font-family: \"Times New Roman\", Times, serif; font-size:16px; color: black'>\n",
    "  Here is an example of binding the socket to a specific IP address and port number:\n",
    "\n",
    "\n",
    "</p>"
   ]
  },
  {
   "cell_type": "code",
   "execution_count": null,
   "id": "ce3cfc17",
   "metadata": {
    "slideshow": {
     "slide_type": "subslide"
    }
   },
   "outputs": [],
   "source": [
    "struct sockaddr_in server_address;\n",
    "server_address.sin_family = AF_INET;\n",
    "server_address.sin_addr.s_addr = INADDR_ANY;\n",
    "server_address.sin_port = htons(1234);\n",
    "\n",
    "if (bind(server_socket, (struct sockaddr*) &server_address, sizeof(server_address)) < 0) {\n",
    "    perror(\"bind failed\");\n",
    "    exit(EXIT_FAILURE);\n",
    "}"
   ]
  },
  {
   "cell_type": "markdown",
   "id": "44e85c0f",
   "metadata": {
    "slideshow": {
     "slide_type": "subslide"
    }
   },
   "source": [
    "<p align='justify' style='margin: 10px 20px; line-height:1.5; font-family: \"Times New Roman\", Times, serif; font-size:16px; color: black'>\n",
    "  This binds the socket to the IP address of the host machine and port number 1234. The INADDR_ANY constant allows the socket to accept connections from any IP address.\n",
    "\n",
    "\n",
    "</p><br>\n",
    "<h3 style='color:red; font-weight:bold; text-align:center; font-family: \"Times New Roman\", Times, serif; font-size:20px;'>Main socket-oriented system calls on the transport layer </h3><br>\n",
    "<p align='justify' style='margin: 10px 20px; line-height:1.5; font-family: \"Times New Roman\", Times, serif; font-size:16px; color: purple'>\n",
    "     \n",
    "    \n",
    "  <ul style='font-family: \"Times New Roman\", Times, serif; font-weight:light; font-size:16px; color: black'>\n",
    "      <li><b> socket() system call   </b><br><br>The socket() system call is used to create a new communication endpoint (i.e., a socket) that can be used to communicate with other processes over the network. It takes three arguments:\n",
    "\n",
    "</li>\n",
    "    \n",
    "    \n",
    "  </ul>\n",
    "</p>"
   ]
  },
  {
   "cell_type": "code",
   "execution_count": null,
   "id": "bb7d7721",
   "metadata": {
    "slideshow": {
     "slide_type": "subslide"
    }
   },
   "outputs": [],
   "source": [
    "int socket(int domain, int type, int protocol);"
   ]
  },
  {
   "cell_type": "markdown",
   "id": "3d054424",
   "metadata": {
    "slideshow": {
     "slide_type": "subslide"
    }
   },
   "source": [
    "<p align='justify' style='margin: 10px 20px; line-height:1.5; font-family: \"Times New Roman\", Times, serif; font-size:16px; color: purple'>\n",
    "   \n",
    "  <ul style='font-family: \"Times New Roman\", Times, serif; font-weight:light; font-size:16px; color: black'>\n",
    "      <li><b>domain: </b>The communication domain, which specifies the protocol family to be used for communication. Examples include AF_INET (IPv4), AF_INET6 (IPv6), AF_UNIX (Unix domain sockets), etc.</li><br>\n",
    "      <li><b>type: </b>The type of socket to be created, which specifies the communication semantics. Examples include SOCK_STREAM (TCP), SOCK_DGRAM (UDP), SOCK_RAW (raw sockets), etc.</li><br>\n",
    "      <li><b>protocol: </b>The protocol to be used for communication. Usually set to 0, which lets the operating system choose the default protocol for the specified domain and type.</li>\n",
    "      \n",
    "      \n",
    "    \n",
    "    \n",
    "  </ul>\n",
    "</p><br>\n",
    "<p align='justify' style='margin: 10px 20px; line-height:1.5; font-family: \"Times New Roman\", Times, serif; font-size:16px; color: purple'>\n",
    "  Here's an example of how to create a new TCP socket:\n",
    "\n",
    "\n",
    "</p>"
   ]
  },
  {
   "cell_type": "code",
   "execution_count": null,
   "id": "7fb92ee2",
   "metadata": {
    "slideshow": {
     "slide_type": "subslide"
    }
   },
   "outputs": [],
   "source": [
    "int sockfd = socket(AF_INET, SOCK_STREAM, 0);\n",
    "if (sockfd < 0) {\n",
    "    perror(\"socket\");\n",
    "    exit(EXIT_FAILURE);\n",
    "}"
   ]
  },
  {
   "cell_type": "markdown",
   "id": "f9fa365c",
   "metadata": {
    "slideshow": {
     "slide_type": "subslide"
    }
   },
   "source": [
    "<p align='justify' style='margin: 10px 20px; line-height:1.5; font-family: \"Times New Roman\", Times, serif; font-size:16px; color: purple'>\n",
    "  Once a socket has been created, it can be used to send and receive data over the network. But before that, it needs to be bound to a local address and port using the bind() system call, and then it needs to be connected to a remote address and port using the connect() system call (for TCP sockets) or it needs to listen for incoming connections using the listen() system call (for server sockets).\n",
    "\n",
    "\n",
    "</p><br><br>\n",
    "<p align='justify' style='margin: 10px 20px; line-height:1.5; font-family: \"Times New Roman\", Times, serif; font-size:16px; color: purple'>\n",
    "     \n",
    "    \n",
    "  <ul style='font-family: \"Times New Roman\", Times, serif; font-weight:light; font-size:16px; color: black'>\n",
    "      <li><b> bind() function   </b><br><br>The bind() function is used to assign a socket with a specific network address and port number. This function is typically used by a server to specify the address on which it will listen for incoming client connections.\n",
    "\n",
    "\n",
    "\n",
    "</li>\n",
    "    \n",
    "    \n",
    "  </ul>\n",
    "</p><br>\n",
    "<p align='justify' style='margin: 10px 20px; line-height:1.5; font-family: \"Times New Roman\", Times, serif; font-size:16px; color: purple'>\n",
    "  The prototype of bind() function is as follows:\n",
    "\n",
    "\n",
    "</p>"
   ]
  },
  {
   "cell_type": "code",
   "execution_count": null,
   "id": "0d6c0b89",
   "metadata": {
    "slideshow": {
     "slide_type": "subslide"
    }
   },
   "outputs": [],
   "source": [
    "int bind(int sockfd, const struct sockaddr *addr, socklen_t addrlen);"
   ]
  },
  {
   "cell_type": "markdown",
   "id": "f5498f96",
   "metadata": {
    "slideshow": {
     "slide_type": "subslide"
    }
   },
   "source": [
    "<p align='justify' style='margin: 10px 20px; line-height:1.5; font-family: \"Times New Roman\", Times, serif; font-size:16px; color: purple'>\n",
    "  where:\n",
    "\n",
    "\n",
    "</p>\n",
    "<p align='justify' style='margin: 10px 20px; line-height:1.5; font-family: \"Times New Roman\", Times, serif; font-size:16px; color: purple'>\n",
    "   \n",
    "  <ul style='font-family: \"Times New Roman\", Times, serif; font-weight:light; font-size:16px; color: black'>\n",
    "      <li><b>sockfd: </b>The socket descriptor of the socket to be bound.</li><br>\n",
    "      <li><b>addr: </b>A pointer to a sockaddr structure that specifies the network address and port number to be bound to the socket.</li><br>\n",
    "      <li><b>addrlen: </b>The length of the sockaddr structure pointed to by the addr argument.</li>\n",
    "      \n",
    "      \n",
    "    \n",
    "    \n",
    "  </ul>\n",
    "</p><br>\n",
    "<p align='justify' style='margin: 10px 20px; line-height:1.5; font-family: \"Times New Roman\", Times, serif; font-size:16px; color: purple'>\n",
    "  The sockaddr structure is a generic structure that can be cast to specific address structures depending on the address family being used. For example, for the IPv4 address family, sockaddr_in structure is used to represent the network address and port number.<br><br>Here is an example of using bind() to bind a socket to a specific network address and port number:\n",
    "\n",
    "\n",
    "</p>"
   ]
  },
  {
   "cell_type": "code",
   "execution_count": null,
   "id": "ecfbaa62",
   "metadata": {
    "slideshow": {
     "slide_type": "subslide"
    }
   },
   "outputs": [],
   "source": [
    "#include <stdio.h>\n",
    "#include <stdlib.h>\n",
    "#include <unistd.h>\n",
    "#include <string.h>\n",
    "#include <sys/socket.h>\n",
    "#include <arpa/inet.h>\n",
    "\n",
    "int main() {\n",
    "    // Create a socket for the server\n",
    "    int server_sockfd = socket(AF_INET, SOCK_STREAM, 0);\n",
    "\n",
    "    // Set up the server address and port\n",
    "    struct sockaddr_in server_addr;\n",
    "    memset(&server_addr, 0, sizeof(server_addr));\n",
    "    server_addr.sin_family = AF_INET;\n",
    "    server_addr.sin_port = htons(1234);\n",
    "    server_addr.sin_addr.s_addr = INADDR_ANY;\n",
    "\n",
    "    // Bind the server socket to the specified address and port\n",
    "    if (bind(server_sockfd, (struct sockaddr *)&server_addr, sizeof(server_addr)) < 0) {\n",
    "        perror(\"bind failed\");\n",
    "        exit(EXIT_FAILURE);\n",
    "    }\n",
    "\n",
    "    // ...\n",
    "}"
   ]
  },
  {
   "cell_type": "markdown",
   "id": "142095d8",
   "metadata": {
    "slideshow": {
     "slide_type": "subslide"
    }
   },
   "source": [
    "<p align='justify' style='margin: 10px 20px; line-height:1.5; font-family: \"Times New Roman\", Times, serif; font-size:16px; color: purple'>\n",
    "  In this example, we create a socket using socket() function and set up the server address and port in a sockaddr_in structure. Then, we bind the socket to the specified address and port using bind() function. If the bind() call fails, we print an error message and exit the program.<br><br>It is important to note that only one socket can be bound to a specific network address and port number at a time. If another socket tries to bind to the same address and port, it will fail with an error.\n",
    "\n",
    "\n",
    "</p><br>\n",
    "<p align='justify' style='margin: 10px 20px; line-height:1.5; font-family: \"Times New Roman\", Times, serif; font-size:16px; color: purple'>\n",
    "     \n",
    "    \n",
    "  <ul style='font-family: \"Times New Roman\", Times, serif; font-weight:light; font-size:16px; color: black'>\n",
    "      <li><b>listen() function   </b><br><br>The listen() function is used to put a socket in passive mode, where it waits for incoming connections from client sockets. It sets the maximum length of the queue of pending connections that are waiting to be accepted. Once the maximum length is reached, any further connection attempts will be refused until the pending connections are accepted by the server.\n",
    "\n",
    "\n",
    "\n",
    "</li>\n",
    "    \n",
    "    \n",
    "  </ul>\n",
    "</p><br>\n",
    "<p align='justify' style='margin: 10px 20px; line-height:1.5; font-family: \"Times New Roman\", Times, serif; font-size:16px; color: purple'>\n",
    "  The function takes two arguments: the socket file descriptor, and the maximum length of the queue of pending connections. The function returns 0 on success and -1 on failure, setting errno accordingly.<br><br>Here is an example of using listen() in a server program:\n",
    "\n",
    "\n",
    "</p>"
   ]
  },
  {
   "cell_type": "code",
   "execution_count": null,
   "id": "3d8d4d6c",
   "metadata": {
    "slideshow": {
     "slide_type": "subslide"
    }
   },
   "outputs": [],
   "source": [
    "// Create a socket for the server\n",
    "int server_sockfd = socket(AF_INET, SOCK_STREAM, 0);\n",
    "\n",
    "// Set up the server address and port\n",
    "struct sockaddr_in server_addr;\n",
    "memset(&server_addr, 0, sizeof(server_addr));\n",
    "server_addr.sin_family = AF_INET;\n",
    "server_addr.sin_port = htons(1234);\n",
    "server_addr.sin_addr.s_addr = INADDR_ANY;\n",
    "\n",
    "// Bind the server socket to the specified address and port\n",
    "if (bind(server_sockfd, (struct sockaddr *)&server_addr, sizeof(server_addr)) < 0) {\n",
    "    perror(\"bind failed\");\n",
    "    exit(EXIT_FAILURE);\n",
    "}\n",
    "\n",
    "// Start listening for incoming connections\n",
    "if (listen(server_sockfd, 5) < 0) {\n",
    "    perror(\"listen failed\");\n",
    "    exit(EXIT_FAILURE);\n",
    "}"
   ]
  },
  {
   "cell_type": "markdown",
   "id": "b15207fa",
   "metadata": {
    "slideshow": {
     "slide_type": "subslide"
    }
   },
   "source": [
    "<p align='justify' style='margin: 10px 20px; line-height:1.5; font-family: \"Times New Roman\", Times, serif; font-size:16px; color: purple'>\n",
    "  In this example, the listen() function is called with a maximum queue length of 5. This means that up to 5 connections can be waiting in the queue before the server begins accepting them.<br><br>It is important to note that the actual maximum queue length may be limited by the underlying operating system. In addition, it is generally a good idea to use a value that is appropriate for the expected load on the server, as setting the queue length too high can consume system resources unnecessarily, while setting it too low can cause connection requests to be dropped.\n",
    "\n",
    "\n",
    "</p><br><br>\n",
    "<p align='justify' style='margin: 10px 20px; line-height:1.5; font-family: \"Times New Roman\", Times, serif; font-size:16px; color: purple'>\n",
    "     \n",
    "    \n",
    "  <ul style='font-family: \"Times New Roman\", Times, serif; font-weight:light; font-size:16px; color: black'>\n",
    "      <li><b>accept() function   </b><br><br>The accept() function is a socket-oriented system call on the transport layer that is used by a server process to accept incoming client connections. It is called after the server has called listen() to set up a listening socket for incoming connections.\n",
    "\n",
    "\n",
    "\n",
    "</li>\n",
    "    \n",
    "    \n",
    "  </ul>\n",
    "</p>"
   ]
  },
  {
   "cell_type": "markdown",
   "id": "2ddb19e0",
   "metadata": {
    "slideshow": {
     "slide_type": "subslide"
    }
   },
   "source": [
    "<p align='justify' style='margin: 10px 20px; line-height:1.5; font-family: \"Times New Roman\", Times, serif; font-size:16px; color: purple'>\n",
    "  When a client tries to connect to the server, the server's accept() function is called, which blocks until a connection is established. When a connection is established, accept() returns a new socket descriptor that represents the connection to the client.<br><br>The server process then uses this new socket descriptor to communicate with the client process. The original socket descriptor created by socket() is used only for listening for incoming connections and is not used for data transfer.\n",
    "</p><br><br>\n",
    "<p align='justify' style='margin: 10px 20px; line-height:1.5; font-family: \"Times New Roman\", Times, serif; font-size:16px; color: black'>\n",
    "  Here's an example of how accept() can be used in a server program:\n",
    "</p>"
   ]
  },
  {
   "cell_type": "code",
   "execution_count": null,
   "id": "c512f11c",
   "metadata": {
    "slideshow": {
     "slide_type": "subslide"
    }
   },
   "outputs": [],
   "source": [
    "// Create a socket for the server\n",
    "int server_sockfd = socket(AF_INET, SOCK_STREAM, 0);\n",
    "\n",
    "// Set up the server address and port\n",
    "struct sockaddr_in server_addr;\n",
    "memset(&server_addr, 0, sizeof(server_addr));\n",
    "server_addr.sin_family = AF_INET;\n",
    "server_addr.sin_port = htons(1234);\n",
    "server_addr.sin_addr.s_addr = INADDR_ANY;\n",
    "\n",
    "// Bind the server socket to the specified address and port\n",
    "if (bind(server_sockfd, (struct sockaddr *)&server_addr, sizeof(server_addr)) < 0) {\n",
    "    perror(\"bind failed\");\n",
    "    exit(EXIT_FAILURE);\n",
    "}\n",
    "\n",
    "// Start listening for incoming connections\n",
    "if (listen(server_sockfd, 5) < 0) {\n",
    "    perror(\"listen failed\");\n",
    "    exit(EXIT_FAILURE);\n",
    "}\n",
    "\n",
    "// Accept incoming connections and handle them\n",
    "struct sockaddr_in client_addr;\n",
    "socklen_t client_len = sizeof(client_addr);\n",
    "int client_sockfd = accept(server_sockfd, (struct sockaddr *)&client_addr, &client_len);\n",
    "\n",
    "// Use the client socket descriptor to communicate with the client process"
   ]
  },
  {
   "cell_type": "markdown",
   "id": "f2ebdc8d",
   "metadata": {
    "slideshow": {
     "slide_type": "subslide"
    }
   },
   "source": [
    "<p align='justify' style='margin: 10px 20px; line-height:1.5; font-family: \"Times New Roman\", Times, serif; font-size:16px; color: purple'>\n",
    "  In this example, after the server calls listen(), it calls accept() to block until a client connects. When a client connects, accept() returns a new socket descriptor (client_sockfd), which is used to communicate with the client process.\n",
    "\n",
    "\n",
    "</p><br>\n",
    "<p align='justify' style='margin: 10px 20px; line-height:1.5; font-family: \"Times New Roman\", Times, serif; font-size:16px; color: purple'>\n",
    "     \n",
    "    \n",
    "  <ul style='font-family: \"Times New Roman\", Times, serif; font-weight:light; font-size:16px; color: black'>\n",
    "      <li><b>connect() function  </b><br><br>The connect() function is used to establish a connection to a remote socket on a network. This function is typically used by client programs to initiate a connection to a server.\n",
    "\n",
    "\n",
    "\n",
    "</li>\n",
    "    \n",
    "    \n",
    "  </ul>\n",
    "</p><br>\n",
    "<p align='justify' style='margin: 10px 20px; line-height:1.5; font-family: \"Times New Roman\", Times, serif; font-size:16px; color: purple'>\n",
    "   The connect() function takes three arguments:\n",
    "  <ul style='font-family: \"Times New Roman\", Times, serif; font-weight:light; font-size:16px; color: black'>\n",
    "      <li>The socket file descriptor that was created with the socket() function</li><br>\n",
    "      <li>A pointer to a sockaddr structure that contains the address of the server to connect to</li><br>\n",
    "      <li>The size of the sockaddr structure</li>\n",
    "      \n",
    "      \n",
    "    \n",
    "    \n",
    "  </ul>\n",
    "</p><br>\n",
    "<p align='justify' style='margin: 10px 20px; line-height:1.5; font-family: \"Times New Roman\", Times, serif; font-size:16px; color: purple'>\n",
    "  Here is an example of using connect() to connect to a server at IP address 192.168.1.100 on port 8080:\n",
    "\n",
    "\n",
    "</p>"
   ]
  },
  {
   "cell_type": "code",
   "execution_count": null,
   "id": "5556fd7c",
   "metadata": {
    "slideshow": {
     "slide_type": "subslide"
    }
   },
   "outputs": [],
   "source": [
    "#include <stdio.h>\n",
    "#include <stdlib.h>\n",
    "#include <unistd.h>\n",
    "#include <string.h>\n",
    "#include <sys/socket.h>\n",
    "#include <arpa/inet.h>\n",
    "\n",
    "int main() {\n",
    "    // Create a socket for the client\n",
    "    int client_sockfd = socket(AF_INET, SOCK_STREAM, 0);\n",
    "\n",
    "    // Set up the server address and port\n",
    "    struct sockaddr_in server_addr;\n",
    "    memset(&server_addr, 0, sizeof(server_addr));\n",
    "    server_addr.sin_family = AF_INET;\n",
    "    server_addr.sin_port = htons(8080);\n",
    "    inet_pton(AF_INET, \"192.168.1.100\", &server_addr.sin_addr);\n",
    "\n",
    "    // Connect to the server\n",
    "    if (connect(client_sockfd, (struct sockaddr *)&server_addr, sizeof(server_addr)) < 0) {\n",
    "        perror(\"connect failed\");\n",
    "        exit(EXIT_FAILURE);\n",
    "    }\n",
    "\n",
    "    // Send and receive data\n",
    "    // ...\n",
    "\n",
    "    // Close the socket\n",
    "    close(client_sockfd);\n",
    "\n",
    "    return 0;\n",
    "}"
   ]
  },
  {
   "cell_type": "markdown",
   "id": "6b90d4cf",
   "metadata": {
    "slideshow": {
     "slide_type": "subslide"
    }
   },
   "source": [
    "<p align='justify' style='margin: 10px 20px; line-height:1.5; font-family: \"Times New Roman\", Times, serif; font-size:16px; color: purple'>\n",
    "  Once the connection is established, the client can send and receive data using the send() and recv() functions. The connection can be closed with the close() function.\n",
    "\n",
    "\n",
    "</p><br>\n",
    "<p align='justify' style='margin: 10px 20px; line-height:1.5; font-family: \"Times New Roman\", Times, serif; font-size:16px; color: purple'>\n",
    "  This client code creates a socket for the client using the socket() system call with the parameters AF_INET and SOCK_STREAM, indicating that it is using the IP protocol and that it will establish a connection-oriented TCP stream.<br><br>Next, the code sets up the server address and port using a struct sockaddr_in structure, which represents the Internet address family (AF_INET) and the port number (htons(8080)). The inet_pton() function is then used to convert the server IP address from a string format to a network address structure.<br><br>The connect() system call is used to initiate a connection to the server using the socket and the server address information. If the connection fails, an error message is printed to the console.<br><br>After the connection is established, the code can then send and receive data from the server. Finally, the socket is closed using the close() system call.\n",
    "\n",
    "\n",
    "</p><br>\n",
    "<p align='justify' style='margin: 10px 20px; line-height:1.5; font-family: \"Times New Roman\", Times, serif; font-size:16px; color: black'>\n",
    "   here's an example of a server code that can communicate with the client code above\n",
    "\n",
    "\n",
    "</p>"
   ]
  },
  {
   "cell_type": "code",
   "execution_count": null,
   "id": "cdfc45c0",
   "metadata": {
    "slideshow": {
     "slide_type": "subslide"
    }
   },
   "outputs": [],
   "source": [
    "#include <stdio.h>\n",
    "#include <stdlib.h>\n",
    "#include <unistd.h>\n",
    "#include <string.h>\n",
    "#include <sys/socket.h>\n",
    "#include <arpa/inet.h>\n",
    "\n",
    "int main() {\n",
    "    // Create a socket for the server\n",
    "    int server_sockfd = socket(AF_INET, SOCK_STREAM, 0);\n",
    "\n",
    "    // Set up the server address and port\n",
    "    struct sockaddr_in server_addr;\n",
    "    memset(&server_addr, 0, sizeof(server_addr));\n",
    "    server_addr.sin_family = AF_INET;\n",
    "    server_addr.sin_port = htons(8080);\n",
    "    server_addr.sin_addr.s_addr = INADDR_ANY;\n",
    "\n",
    "    // Bind the server socket to the specified address and port\n",
    "    if (bind(server_sockfd, (struct sockaddr *)&server_addr, sizeof(server_addr)) < 0) {\n",
    "        perror(\"bind failed\");\n",
    "        exit(EXIT_FAILURE);\n",
    "    }\n",
    "\n",
    "    // Start listening for incoming connections\n",
    "    if (listen(server_sockfd, 5) < 0) {\n",
    "        perror(\"listen failed\");\n",
    "        exit(EXIT_FAILURE);\n",
    "    }\n",
    "\n",
    "    // Accept incoming connections and handle them\n",
    "    struct sockaddr_in client_addr;\n",
    "    socklen_t client_len = sizeof(client_addr);\n",
    "    int client_sockfd = accept(server_sockfd, (struct sockaddr *)&client_addr, &client_len);\n",
    "\n",
    "    // Send and receive data\n",
    "    // ...\n",
    "\n",
    "    // Clean up and close the sockets\n",
    "    close(client_sockfd);\n",
    "    close(server_sockfd);\n",
    "\n",
    "    return 0;\n",
    "}"
   ]
  },
  {
   "cell_type": "markdown",
   "id": "388b16d0",
   "metadata": {
    "slideshow": {
     "slide_type": "subslide"
    }
   },
   "source": [
    "<p align='justify' style='margin: 10px 20px; line-height:1.5; font-family: \"Times New Roman\", Times, serif; font-size:16px; color: purple'>\n",
    "   This server code sets up a socket for the server, binds it to the specified address and port, starts listening for incoming connections, and accepts incoming connections. Once the connection is established with the client, it can send and receive data as needed. Finally, it closes the sockets to clean up after itself.\n",
    "\n",
    "\n",
    "</p><br><br>\n",
    "<p align='justify' style='margin: 10px 20px; line-height:1.5; font-family: \"Times New Roman\", Times, serif; font-size:16px; color: black'>\n",
    "   Here's an example program that demonstrates a basic client/server interaction using the socket functions socket(), bind(), listen(), accept(), connect(), send(), and recv():<br><br>Server code:\n",
    "\n",
    "\n",
    "\n",
    "\n",
    "</p>"
   ]
  },
  {
   "cell_type": "code",
   "execution_count": null,
   "id": "fa67168f",
   "metadata": {
    "slideshow": {
     "slide_type": "subslide"
    }
   },
   "outputs": [],
   "source": [
    "#include <stdio.h>\n",
    "#include <stdlib.h>\n",
    "#include <unistd.h>\n",
    "#include <string.h>\n",
    "#include <sys/socket.h>\n",
    "#include <arpa/inet.h>\n",
    "\n",
    "int main() {\n",
    "    // Create a socket for the server\n",
    "    int server_sockfd = socket(AF_INET, SOCK_STREAM, 0);\n",
    "\n",
    "    // Set up the server address and port\n",
    "    struct sockaddr_in server_addr;\n",
    "    memset(&server_addr, 0, sizeof(server_addr));\n",
    "    server_addr.sin_family = AF_INET;\n",
    "    server_addr.sin_port = htons(1234);\n",
    "    server_addr.sin_addr.s_addr = INADDR_ANY;\n",
    "\n",
    "    // Bind the server socket to the specified address and port\n",
    "    if (bind(server_sockfd, (struct sockaddr *)&server_addr, sizeof(server_addr)) < 0) {\n",
    "        perror(\"bind failed\");\n",
    "        exit(EXIT_FAILURE);\n",
    "    }\n",
    "\n",
    "    // Start listening for incoming connections\n",
    "    if (listen(server_sockfd, 5) < 0) {\n",
    "        perror(\"listen failed\");\n",
    "        exit(EXIT_FAILURE);\n",
    "    }\n",
    "\n",
    "    // Accept incoming connections and handle them\n",
    "    struct sockaddr_in client_addr;\n",
    "    socklen_t client_len = sizeof(client_addr);\n",
    "    int client_sockfd = accept(server_sockfd, (struct sockaddr *)&client_addr, &client_len);\n",
    "\n",
    "    // Receive data from the client and send a response\n",
    "    char buffer[1024];\n",
    "    memset(buffer, 0, sizeof(buffer));\n",
    "    int bytes_received = recv(client_sockfd, buffer, sizeof(buffer), 0);\n",
    "    printf(\"Received %d bytes from client: %s\\n\", bytes_received, buffer);\n",
    "\n",
    "    char response[] = \"Hello from server!\";\n",
    "    send(client_sockfd, response, strlen(response), 0);\n",
    "    printf(\"Sent response to client: %s\\n\", response);\n",
    "\n",
    "    // Clean up and close the sockets\n",
    "    close(client_sockfd);\n",
    "    close(server_sockfd);\n",
    "\n",
    "    return 0;\n",
    "}"
   ]
  },
  {
   "cell_type": "markdown",
   "id": "db358a43",
   "metadata": {
    "slideshow": {
     "slide_type": "subslide"
    }
   },
   "source": [
    "<p align='justify' style='margin: 10px 20px; line-height:1.5; font-family: \"Times New Roman\", Times, serif; font-size:16px; color: black'>\n",
    "    <b>Client code:</b>\n",
    "\n",
    "\n",
    "\n",
    "\n",
    "</p>"
   ]
  },
  {
   "cell_type": "code",
   "execution_count": null,
   "id": "39d30666",
   "metadata": {
    "slideshow": {
     "slide_type": "subslide"
    }
   },
   "outputs": [],
   "source": [
    "#include <stdio.h>\n",
    "#include <stdlib.h>\n",
    "#include <unistd.h>\n",
    "#include <string.h>\n",
    "#include <sys/socket.h>\n",
    "#include <arpa/inet.h>\n",
    "\n",
    "int main() {\n",
    "    // Create a socket for the client\n",
    "    int client_sockfd = socket(AF_INET, SOCK_STREAM, 0);\n",
    "\n",
    "    // Set up the server address and port\n",
    "    struct sockaddr_in server_addr;\n",
    "    memset(&server_addr, 0, sizeof(server_addr));\n",
    "    server_addr.sin_family = AF_INET;\n",
    "    server_addr.sin_port = htons(1234);\n",
    "    inet_pton(AF_INET, \"127.0.0.1\", &server_addr.sin_addr);\n",
    "\n",
    "    // Connect to the server\n",
    "    if (connect(client_sockfd, (struct sockaddr *)&server_addr, sizeof(server_addr)) < 0) {\n",
    "        perror(\"connect failed\");\n",
    "        exit(EXIT_FAILURE);\n",
    "    }\n",
    "\n",
    "    // Send data to the server and receive a response\n",
    "    char message[] = \"Hello from client!\";\n",
    "    send(client_sockfd, message, strlen(message), 0);\n",
    "\n",
    "    char buffer[1024];\n",
    "    memset(buffer, 0, sizeof(buffer));\n",
    "    int bytes_received = recv(client_sockfd, buffer, sizeof(buffer), 0);\n",
    "    printf(\"Received %d bytes from server: %s\\n\", bytes_received, buffer);\n",
    "\n",
    "    // Clean up and close the socket\n",
    "    close(client_sockfd);\n",
    "\n",
    "    return 0;\n",
    "}"
   ]
  },
  {
   "cell_type": "markdown",
   "id": "bd620cbe",
   "metadata": {
    "slideshow": {
     "slide_type": "subslide"
    }
   },
   "source": [
    "<h3 style='color:red; font-weight:bold; text-align:center; font-family: \"Times New Roman\", Times, serif; font-size:20px;'>Notion of protocol writing and directives </h3><br>\n",
    "<h4 style='color:red; font-weight:bold; text-align:center; font-family: \"Times New Roman\", Times, serif; font-size:18px;'>Protocol design principles  </h4><br>\n",
    "<p align='justify' style='margin: 10px 20px; line-height:1.5; font-family: \"Times New Roman\", Times, serif; font-size:16px; color: purple'>\n",
    "   In the context of networking, a protocol is a set of rules and conventions that govern the communication between two or more devices on a network. Protocol design principles refer to the best practices and guidelines that should be followed when designing a new protocol.\n",
    "\n",
    "\n",
    "</p><br>\n",
    "<p align='justify' style='margin: 10px 20px; line-height:1.5; font-family: \"Times New Roman\", Times, serif; font-size:16px; color: purple'>\n",
    "   Here are some key principles to keep in mind when designing a protocol:\n",
    "  <ul style='font-family: \"Times New Roman\", Times, serif; font-weight:light; font-size:16px; color: black'>\n",
    "      <li>Simplicity: The protocol should be simple and easy to understand. It should be easy to implement and maintain, and should not require a lot of resources.</li><br>\n",
    "      <li>Flexibility: The protocol should be flexible enough to adapt to different network environments, devices, and applications.</li><br>\n",
    "      <li>Efficiency: The protocol should be efficient in terms of bandwidth usage and processing time. It should not waste network resources or add unnecessary overhead.</li><br>\n",
    "      <li>Robustness: The protocol should be robust enough to handle errors, failures, and other unexpected events. It should be able to recover from errors and continue functioning even if some packets are lost or corrupted.</li><br>\n",
    "      <li>Security: The protocol should be designed with security in mind, and should include mechanisms for authentication, encryption, and integrity checking.</li><br>\n",
    "      <li>Compatibility: The protocol should be compatible with existing protocols and standards, and should be able to interoperate with other devices and applications.</li><br>\n",
    "      <li>Extensibility: The protocol should be designed with extensibility in mind, so that new features and functionalities can be added in the future without breaking backward compatibility.</li>\n",
    "      \n",
    "      \n",
    "    \n",
    "    \n",
    "  </ul>\n",
    "</p>"
   ]
  },
  {
   "cell_type": "markdown",
   "id": "d090ceb8",
   "metadata": {
    "slideshow": {
     "slide_type": "subslide"
    }
   },
   "source": [
    "<p align='justify' style='margin: 10px 20px; line-height:1.5; font-family: \"Times New Roman\", Times, serif; font-size:16px; color: purple'>\n",
    "   When designing a new protocol, it's important to carefully consider these principles and how they apply to your specific use case. It's also important to document the protocol thoroughly, including the message format, data types, and message flow, so that others can understand and implement the protocol correctly.\n",
    "\n",
    "\n",
    "</p><br><br>\n",
    "<p align='justify' style='margin: 10px 20px; line-height:1.5; font-family: \"Times New Roman\", Times, serif; font-size:16px; color: purple'>\n",
    "   Directives, on the other hand, are instructions or guidelines that specify how a protocol should be implemented. For example, a directive might specify which fields are required in a message, or how a particular error should be handled. Directives are often specified in the protocol documentation, and can help ensure that different implementations of the protocol behave consistently.\n",
    "\n",
    "\n",
    "</p>"
   ]
  },
  {
   "cell_type": "markdown",
   "id": "c7c73bcd",
   "metadata": {
    "slideshow": {
     "slide_type": "subslide"
    }
   },
   "source": [
    "<h3 style='color:red; font-weight:bold; text-align:center; font-family: \"Times New Roman\", Times, serif; font-size:20px;'>Protocol implementation strategies </h3><br>\n",
    "<p align='justify' style='margin: 10px 20px; line-height:1.5; font-family: \"Times New Roman\", Times, serif; font-size:16px; color: purple'>\n",
    "   Protocol implementation strategies refer to the ways in which a protocol can be implemented in a software system. Protocol implementation strategies are important because they determine how efficiently a protocol can be implemented and how easy it is to maintain and update the protocol.\n",
    "\n",
    "\n",
    "</p><br>\n",
    "<p align='justify' style='margin: 10px 20px; line-height:1.5; font-family: \"Times New Roman\", Times, serif; font-size:16px; color: purple'>\n",
    "   There are several implementation strategies for protocols, including:\n",
    "  <ul style='font-family: \"Times New Roman\", Times, serif; font-weight:light; font-size:16px; color: black'>\n",
    "      <li><b>Library-based implementation: </b>This involves using a pre-existing library to implement the protocol. Libraries are collections of pre-written code that can be used to perform a specific task. Using a library for protocol implementation can save time and reduce the risk of errors. However, the downside is that libraries may not always provide the required level of customization.</li><br>\n",
    "      <li><b>Hand-coded implementation: </b>This involves writing the code for the protocol from scratch. Hand-coding is time-consuming, but it provides complete control over the implementation and allows for customization. This approach is useful when there are specific requirements that cannot be met using a library.</li><br>\n",
    "      <li><b>Code-generation-based implementation: </b> This involves generating code automatically from a protocol specification. The protocol specification is written in a formal language, and code generators create the implementation code. This approach can save time and reduce the risk of errors, but it requires expertise in the formal language and the code generators.</li>\n",
    "      \n",
    "      \n",
    "      \n",
    "    \n",
    "    \n",
    "  </ul>\n",
    "</p>"
   ]
  },
  {
   "cell_type": "markdown",
   "id": "a5a171b4",
   "metadata": {
    "slideshow": {
     "slide_type": "subslide"
    }
   },
   "source": [
    "<p align='justify' style='margin: 10px 20px; line-height:1.5; font-family: \"Times New Roman\", Times, serif; font-size:16px; color: purple'>\n",
    "   When implementing a protocol, it is important to follow certain design principles to ensure that the implementation is efficient, effective, and maintainable. Some of the key design principles for protocol implementation include:<br>\n",
    "  <ul style='font-family: \"Times New Roman\", Times, serif; font-weight:light; font-size:16px; color: black'>\n",
    "      <li><b>Modularity: </b>Protocols should be designed in a modular way, so that different parts of the protocol can be easily updated or replaced without affecting other parts.</li><br>\n",
    "      <li><b>Layering: </b>Protocols should be designed in a layered manner, so that each layer is responsible for a specific task. This allows for better organization and easier maintenance.</li><br>\n",
    "      <li><b>Encapsulation:  </b> Protocols should be designed so that each layer is encapsulated and only communicates with the layers above and below it. This reduces complexity and makes it easier to modify and update the protocol.</li><br>\n",
    "      <li><b>Flexibility:  </b> Protocols should be designed to be flexible, so that they can adapt to changing requirements and environments.</li><br>\n",
    "      <li><b>Scalability:  </b> Protocols should be designed to be scalable, so that they can handle a large number of users or devices..</li>\n",
    "      \n",
    "      \n",
    "      \n",
    "    \n",
    "    \n",
    "  </ul>\n",
    "</p><br><br>\n",
    "<p align='justify' style='margin: 10px 20px; line-height:1.5; font-family: \"Times New Roman\", Times, serif; font-size:16px; color: purple'>\n",
    "   The implementation strategy and design principles chosen for a protocol will depend on the specific requirements and constraints of the system in which it will be implemented. By following best practices for protocol implementation, developers can create efficient, effective, and maintainable protocols that meet the needs of the system and its users.\n",
    "\n",
    "\n",
    "</p>"
   ]
  },
  {
   "cell_type": "markdown",
   "id": "45c009fd",
   "metadata": {
    "slideshow": {
     "slide_type": "subslide"
    }
   },
   "source": [
    "<h3 style='color:red; font-weight:bold; text-align:center; font-family: \"Times New Roman\", Times, serif; font-size:20px;'>Byte order (Big/Little Endian) </h3><br>\n",
    "<p align='justify' style='margin: 10px 20px; line-height:1.5; font-family: \"Times New Roman\", Times, serif; font-size:16px; color: purple'>\n",
    "   Byte order refers to the order in which bytes of a multi-byte data type are arranged in memory. There are two common byte orders: big-endian and little-endian. In big-endian byte order, the most significant byte (MSB) of the data is stored at the lowest memory address, while in little-endian byte order, the least significant byte (LSB) of the data is stored at the lowest memory address.\n",
    "\n",
    "\n",
    "</p><br>\n",
    "<p align='justify' style='margin: 10px 20px; line-height:1.5; font-family: \"Times New Roman\", Times, serif; font-size:16px; color: black'>\n",
    "   For example, let's consider the 32-bit integer value 0x12345678. In big-endian byte order, this value would be stored in memory as follows:\n",
    "\n",
    "\n",
    "</p>"
   ]
  },
  {
   "cell_type": "code",
   "execution_count": null,
   "id": "0429492c",
   "metadata": {
    "slideshow": {
     "slide_type": "subslide"
    }
   },
   "outputs": [],
   "source": [
    "+------+------+------+------+\n",
    "| 0x12 | 0x34 | 0x56 | 0x78 |\n",
    "+------+------+------+------+"
   ]
  },
  {
   "cell_type": "markdown",
   "id": "be40387d",
   "metadata": {
    "slideshow": {
     "slide_type": "subslide"
    }
   },
   "source": [
    "<p align='justify' style='margin: 10px 20px; line-height:1.5; font-family: \"Times New Roman\", Times, serif; font-size:16px; color: black'>\n",
    "   In little-endian byte order, this same value would be stored in memory as follows:\n",
    "\n",
    "\n",
    "</p>"
   ]
  },
  {
   "cell_type": "code",
   "execution_count": null,
   "id": "414df76d",
   "metadata": {
    "slideshow": {
     "slide_type": "subslide"
    }
   },
   "outputs": [],
   "source": [
    "+------+------+------+------+\n",
    "| 0x78 | 0x56 | 0x34 | 0x12 |\n",
    "+------+------+------+------+"
   ]
  },
  {
   "cell_type": "markdown",
   "id": "fc368d82",
   "metadata": {
    "slideshow": {
     "slide_type": "subslide"
    }
   },
   "source": [
    "<p align='justify' style='margin: 10px 20px; line-height:1.5; font-family: \"Times New Roman\", Times, serif; font-size:16px; color: purple'>\n",
    "   The choice of byte order can affect the interoperability of systems that communicate with each other. For example, if a big-endian system sends data to a little-endian system, the data must be converted to the correct byte order to be interpreted correctly.\n",
    "\n",
    "\n",
    "</p><br>\n",
    "<p align='justify' style='margin: 10px 20px; line-height:1.5; font-family: \"Times New Roman\", Times, serif; font-size:16px; color: black'>\n",
    "   To handle byte order issues, network protocols often define a specific byte order for multi-byte data types, such as the network byte order (NBO) or the byte order used by a specific platform. The NBO is defined as big-endian byte order, and it is used in many network protocols, such as TCP/IP.\n",
    "\n",
    "\n",
    "</p><br>\n",
    "<p align='justify' style='margin: 10px 20px; line-height:1.5; font-family: \"Times New Roman\", Times, serif; font-size:16px; color: black'>\n",
    "   In C programming language, the functions htonl() and htons() can be used to convert values between host byte order and network byte order. The function htonl() converts a 32-bit integer value from host byte order to network byte order, while the function htons() converts a 16-bit integer value from host byte order to network byte order. The functions ntohl() and ntohs() can be used to convert values from network byte order to host byte order.\n",
    "\n",
    "\n",
    "</p><br>\n",
    "<p align='justify' style='margin: 10px 20px; line-height:1.5; font-family: \"Times New Roman\", Times, serif; font-size:16px; color: purple'>\n",
    "   Here is an example of using these functions to convert a 32-bit integer value from host byte order to network byte order:\n",
    "\n",
    "\n",
    "</p>"
   ]
  },
  {
   "cell_type": "code",
   "execution_count": null,
   "id": "c91777b0",
   "metadata": {
    "slideshow": {
     "slide_type": "subslide"
    }
   },
   "outputs": [],
   "source": [
    "#include <stdio.h>\n",
    "#include <arpa/inet.h>\n",
    "\n",
    "int main() {\n",
    "    uint32_t value = 0x12345678;\n",
    "    printf(\"Host byte order: 0x%x\\n\", value);\n",
    "    uint32_t network_order = htonl(value);\n",
    "    printf(\"Network byte order: 0x%x\\n\", network_order);\n",
    "    return 0;\n",
    "}"
   ]
  },
  {
   "cell_type": "markdown",
   "id": "4bedfa2d",
   "metadata": {
    "slideshow": {
     "slide_type": "subslide"
    }
   },
   "source": [
    "<p align='justify' style='margin: 10px 20px; line-height:1.5; font-family: \"Times New Roman\", Times, serif; font-size:16px; color: purple'>\n",
    "   The output of this program would be:\n",
    "\n",
    "\n",
    "</p>"
   ]
  },
  {
   "cell_type": "code",
   "execution_count": null,
   "id": "6a131949",
   "metadata": {
    "slideshow": {
     "slide_type": "subslide"
    }
   },
   "outputs": [],
   "source": [
    "Host byte order: 0x12345678\n",
    "Network byte order: 0x78563412"
   ]
  },
  {
   "cell_type": "markdown",
   "id": "1fa3c8e3",
   "metadata": {
    "slideshow": {
     "slide_type": "subslide"
    }
   },
   "source": [
    "<p align='justify' style='margin: 10px 20px; line-height:1.5; font-family: \"Times New Roman\", Times, serif; font-size:16px; color: purple'>\n",
    "   As you can see, the value has been converted from little-endian byte order (host byte order) to big-endian byte order (network byte order).\n",
    "\n",
    "</p><br><br>\n",
    "<p align='justify' style='margin: 10px 20px; line-height:1.5; font-family: \"Times New Roman\", Times, serif; font-size:16px; color: black'>\n",
    "   The code is a simple example of how to convert a 32-bit value from host byte order to network byte order using the htonl() function from the arpa/inet.h library.\n",
    "\n",
    "</p>"
   ]
  },
  {
   "cell_type": "code",
   "execution_count": null,
   "id": "3bc2b94a",
   "metadata": {
    "slideshow": {
     "slide_type": "subslide"
    }
   },
   "outputs": [],
   "source": [
    "#include <stdio.h>\n",
    "#include <arpa/inet.h>\n",
    "\n",
    "int main() {\n",
    "    uint32_t value = 0x12345678;\n",
    "    printf(\"Host byte order: 0x%x\\n\", value);\n",
    "    uint32_t network_order = htonl(value);\n",
    "    printf(\"Network byte order: 0x%x\\n\", network_order);\n",
    "    return 0;\n",
    "}"
   ]
  },
  {
   "cell_type": "markdown",
   "id": "4c0b60a5",
   "metadata": {
    "slideshow": {
     "slide_type": "subslide"
    }
   },
   "source": [
    "<p align='justify' style='margin: 10px 20px; line-height:1.5; font-family: \"Times New Roman\", Times, serif; font-size:16px; color: purple'>\n",
    "   The first line of the code includes the necessary standard libraries for the program.\n",
    "\n",
    "</p><br>\n",
    "<p align='justify' style='margin: 10px 20px; line-height:1.5; font-family: \"Times New Roman\", Times, serif; font-size:16px; color: black'>\n",
    "   In the main function, we declare a 32-bit unsigned integer variable named value and assign it the hexadecimal value 0x12345678.\n",
    "\n",
    "</p>"
   ]
  },
  {
   "cell_type": "code",
   "execution_count": null,
   "id": "101f70d9",
   "metadata": {
    "slideshow": {
     "slide_type": "subslide"
    }
   },
   "outputs": [],
   "source": [
    "uint32_t value = 0x12345678;"
   ]
  },
  {
   "cell_type": "markdown",
   "id": "bc283355",
   "metadata": {
    "slideshow": {
     "slide_type": "subslide"
    }
   },
   "source": [
    "<p align='justify' style='margin: 10px 20px; line-height:1.5; font-family: \"Times New Roman\", Times, serif; font-size:16px; color: purple'>\n",
    "   We then use the printf function to display the value of the variable in host byte order.\n",
    "\n",
    "</p>"
   ]
  },
  {
   "cell_type": "code",
   "execution_count": null,
   "id": "d0188410",
   "metadata": {
    "slideshow": {
     "slide_type": "subslide"
    }
   },
   "outputs": [],
   "source": [
    "printf(\"Host byte order: 0x%x\\n\", value);"
   ]
  },
  {
   "cell_type": "markdown",
   "id": "d70cde1a",
   "metadata": {
    "slideshow": {
     "slide_type": "subslide"
    }
   },
   "source": [
    "<p align='justify' style='margin: 10px 20px; line-height:1.5; font-family: \"Times New Roman\", Times, serif; font-size:16px; color: purple'>\n",
    "   Next, we use the htonl() function to convert the value from host byte order to network byte order and assign the result to a new variable named network_order.\n",
    "\n",
    "</p>"
   ]
  },
  {
   "cell_type": "code",
   "execution_count": null,
   "id": "285bc7a3",
   "metadata": {
    "slideshow": {
     "slide_type": "subslide"
    }
   },
   "outputs": [],
   "source": [
    "uint32_t network_order = htonl(value);"
   ]
  },
  {
   "cell_type": "markdown",
   "id": "2977d33e",
   "metadata": {
    "slideshow": {
     "slide_type": "subslide"
    }
   },
   "source": [
    "<p align='justify' style='margin: 10px 20px; line-height:1.5; font-family: \"Times New Roman\", Times, serif; font-size:16px; color: purple'>\n",
    "   Finally, we use the printf function again to display the value of the network_order variable in network byte order.\n",
    "\n",
    "</p>"
   ]
  },
  {
   "cell_type": "code",
   "execution_count": null,
   "id": "6e126437",
   "metadata": {
    "slideshow": {
     "slide_type": "subslide"
    }
   },
   "outputs": [],
   "source": [
    "printf(\"Network byte order: 0x%x\\n\", network_order);"
   ]
  },
  {
   "cell_type": "markdown",
   "id": "f2e2af55",
   "metadata": {
    "slideshow": {
     "slide_type": "subslide"
    }
   },
   "source": [
    "<p align='justify' style='margin: 10px 20px; line-height:1.5; font-family: \"Times New Roman\", Times, serif; font-size:16px; color: purple'>\n",
    "   The htonl() function takes a 32-bit value as an argument and returns the same value in network byte order, which is the byte order used for data transmission over a network. The function converts the value from host byte order to network byte order by swapping the order of the bytes in the value, if necessary.\n",
    "\n",
    "</p><br><br>\n",
    "<h3 style='color:red; font-weight:bold; text-align:center; font-family: \"Times New Roman\", Times, serif; font-size:20px;'>IP Address, Service and Socket Address (Port Number) </h3><br>\n",
    "<p align='justify' style='margin: 10px 20px; line-height:1.5; font-family: \"Times New Roman\", Times, serif; font-size:16px; color: purple'>\n",
    "   In network programming, an IP address is a unique numerical identifier assigned to each device connected to a network that uses the Internet Protocol for communication. IP addresses are essential for devices to identify and communicate with each other on a network.\n",
    "\n",
    "\n",
    "</p><br>\n",
    "<p align='justify' style='margin: 10px 20px; line-height:1.5; font-family: \"Times New Roman\", Times, serif; font-size:16px; color: black'>\n",
    "   A service is a process or program that runs on a device and provides a particular type of functionality to other devices on the network. In the context of network programming, a service typically refers to a server process that provides a particular type of network service, such as a web server or email server.\n",
    "\n",
    "\n",
    "</p><br>\n",
    "<p align='justify' style='margin: 10px 20px; line-height:1.5; font-family: \"Times New Roman\", Times, serif; font-size:16px; color: black'>\n",
    "   A socket address is a combination of an IP address and a port number that uniquely identifies a particular service on a particular device. The IP address specifies the device, while the port number specifies the particular service provided by that device.\n",
    "\n",
    "\n",
    "</p>"
   ]
  },
  {
   "cell_type": "markdown",
   "id": "8aec68a4",
   "metadata": {
    "slideshow": {
     "slide_type": "subslide"
    }
   },
   "source": [
    "<p align='justify' style='margin: 10px 20px; line-height:1.5; font-family: \"Times New Roman\", Times, serif; font-size:16px; color: purple'>\n",
    "   In network programming, it is common to use the combination of an IP address and a port number to establish a connection between a client and a server. The client connects to a specific IP address and port number on the server to establish a connection and exchange data.\n",
    "\n",
    "\n",
    "</p><br><br>\n",
    "<p align='justify' style='margin: 10px 20px; line-height:1.5; font-family: \"Times New Roman\", Times, serif; font-size:16px; color: black'>\n",
    "   For example, in the code below, the IP address \"192.168.1.100\" and port number \"8080\" are used to establish a connection with the server:\n",
    "\n",
    "\n",
    "</p>"
   ]
  },
  {
   "cell_type": "code",
   "execution_count": null,
   "id": "ad327376",
   "metadata": {
    "slideshow": {
     "slide_type": "subslide"
    }
   },
   "outputs": [],
   "source": [
    "struct sockaddr_in server_address;\n",
    "server_address.sin_family = AF_INET;\n",
    "server_address.sin_addr.s_addr = inet_addr(\"192.168.1.100\");\n",
    "server_address.sin_port = htons(8080);"
   ]
  },
  {
   "cell_type": "markdown",
   "id": "0a3c3921",
   "metadata": {
    "slideshow": {
     "slide_type": "subslide"
    }
   },
   "source": [
    "<p align='justify' style='margin: 10px 20px; line-height:1.5; font-family: \"Times New Roman\", Times, serif; font-size:16px; color: purple'>\n",
    "   In this code, the IP address is converted from a string representation to a network byte order representation using the inet_addr() function. The port number is converted to network byte order using the htons() function.\n",
    "\n",
    "\n",
    "</p><br><br>\n",
    "<h3 style='color:red; font-weight:bold; text-align:center; font-family: \"Times New Roman\", Times, serif; font-size:20px;'>Socket concept  </h3><br>\n",
    "<p align='justify' style='margin: 10px 20px; line-height:1.5; font-family: \"Times New Roman\", Times, serif; font-size:16px; color: purple'>\n",
    "   In network programming, a socket is a software endpoint that enables communication between two processes over a network. It is an abstraction layer that provides a way for processes to communicate with each other without being aware of the underlying network details. The creation of a socket involves the use of the socket() system call.\n",
    "\n",
    "\n",
    "</p><br>\n",
    "<p align='justify' style='margin: 10px 20px; line-height:1.5; font-family: \"Times New Roman\", Times, serif; font-size:16px; color: black'>\n",
    "   The socket() system call creates a new socket of a specific type, and returns a file descriptor that can be used to access the socket. The general syntax of the socket() function is as follows:\n",
    "\n",
    "\n",
    "</p>"
   ]
  },
  {
   "cell_type": "code",
   "execution_count": null,
   "id": "eb445ea4",
   "metadata": {
    "slideshow": {
     "slide_type": "subslide"
    }
   },
   "outputs": [],
   "source": [
    "int socket(int domain, int type, int protocol);"
   ]
  },
  {
   "cell_type": "markdown",
   "id": "788147c9",
   "metadata": {
    "slideshow": {
     "slide_type": "subslide"
    }
   },
   "source": [
    "<p align='justify' style='margin: 10px 20px; line-height:1.5; font-family: \"Times New Roman\", Times, serif; font-size:16px; color: purple'>\n",
    "   The socket() system call creates a new socket of a specific type, and returns a file descriptor that can be used to access the socket. The general syntax of the socket() function is as follows:\n",
    "\n",
    "\n",
    "</p><br>\n",
    "<p align='justify' style='margin: 10px 20px; line-height:1.5; font-family: \"Times New Roman\", Times, serif; font-size:16px; color: purple'>\n",
    "   \n",
    "  <ul style='font-family: \"Times New Roman\", Times, serif; font-weight:light; font-size:16px; color: black'>\n",
    "      <li>domain: specifies the communication domain to be used, such as AF_INET (IPv4) or AF_INET6 (IPv6).</li>\n",
    "      <li>type: specifies the type of socket to be created, such as SOCK_STREAM (for TCP) or SOCK_DGRAM (for UDP </li>\n",
    "      <li>protocol: specifies the protocol to be used, which is usually set to 0 to automatically choose the correct protocol based on the specified domain and type.\n",
    "</li><br>\n",
    "      \n",
    "      \n",
    "      \n",
    "    \n",
    "    \n",
    "  </ul>\n",
    "</p>\n",
    "<p align='justify' style='margin: 10px 20px; line-height:1.5; font-family: \"Times New Roman\", Times, serif; font-size:16px; color: purple'>\n",
    "   Here is an example of creating a new TCP socket using the socket() function:\n",
    "\n",
    "\n",
    "</p>"
   ]
  },
  {
   "cell_type": "code",
   "execution_count": null,
   "id": "90dea1dd",
   "metadata": {
    "slideshow": {
     "slide_type": "subslide"
    }
   },
   "outputs": [],
   "source": [
    "int sockfd = socket(AF_INET, SOCK_STREAM, 0);\n",
    "if (sockfd == -1) {\n",
    "    perror(\"socket creation failed\");\n",
    "    exit(EXIT_FAILURE);\n",
    "}"
   ]
  },
  {
   "cell_type": "markdown",
   "id": "4ef8d5c0",
   "metadata": {
    "slideshow": {
     "slide_type": "subslide"
    }
   },
   "source": [
    "<p align='justify' style='margin: 10px 20px; line-height:1.5; font-family: \"Times New Roman\", Times, serif; font-size:16px; color: purple'>\n",
    "   In this example, we are creating a new socket for the IPv4 address family (AF_INET) and using the TCP protocol (SOCK_STREAM). The socket() function returns a non-negative integer file descriptor on success, or -1 on failure. In the case of failure, we print an error message using the perror() function and exit the program with a non-zero status code.\n",
    "\n",
    "\n",
    "</p><br>\n",
    "<p align='justify' style='margin: 10px 20px; line-height:1.5; font-family: \"Times New Roman\", Times, serif; font-size:16px; color: purple'>\n",
    "   Once a socket has been created, it can be used for communication by calling other socket-related functions such as bind(), listen(), accept(), connect(), send(), and recv(). These functions are used to establish connections, send and receive data, and manage the communication between the two processes.\n",
    "\n",
    "\n",
    "</p><br><br>\n",
    "<h3 style='color:red; font-weight:bold; text-align:center; font-family: \"Times New Roman\", Times, serif; font-size:20px;'>External identification  </h3><br>\n",
    "<p align='justify' style='margin: 10px 20px; line-height:1.5; font-family: \"Times New Roman\", Times, serif; font-size:16px; color: black'>\n",
    "   External identification in socket programming refers to the process of identifying a socket from the outside world, such as other computers or devices on a network. This is achieved through the use of an address and port number, which together uniquely identify a socket on a network.\n",
    "\n",
    "\n",
    "\n",
    "</p>"
   ]
  },
  {
   "cell_type": "markdown",
   "id": "afb31648",
   "metadata": {
    "slideshow": {
     "slide_type": "subslide"
    }
   },
   "source": [
    "<p align='justify' style='margin: 10px 20px; line-height:1.5; font-family: \"Times New Roman\", Times, serif; font-size:16px; color: purple'>\n",
    "   In the Internet Protocol (IP) suite, an IP address is used to identify a device on a network, while a port number is used to identify a specific application or service running on that device. When a client initiates a connection to a server, it needs to know the IP address and port number of the server's socket in order to establish a connection.<br><br><br>The combination of an IP address and port number is known as a socket address. A socket address is used to identify a specific socket on a network and is represented by a struct in socket programming. In C, this struct is defined as struct sockaddr_in for IPv4 and struct sockaddr_in6 for IPv6.\n",
    "\n",
    "\n",
    "</p><br><br>\n",
    "<p align='justify' style='margin: 10px 20px; line-height:1.5; font-family: \"Times New Roman\", Times, serif; font-size:16px; color: black'>\n",
    "   Here is an example of a socket address structure for IPv4:\n",
    "\n",
    "\n",
    "\n",
    "</p>"
   ]
  },
  {
   "cell_type": "code",
   "execution_count": null,
   "id": "63f87a92",
   "metadata": {
    "slideshow": {
     "slide_type": "subslide"
    }
   },
   "outputs": [],
   "source": [
    "struct sockaddr_in {\n",
    "    short int sin_family;          // Address family, AF_INET\n",
    "    unsigned short int sin_port;   // Port number\n",
    "    struct in_addr sin_addr;       // Internet address\n",
    "    unsigned char sin_zero[8];     // Same size as struct sockaddr\n",
    "};"
   ]
  },
  {
   "cell_type": "markdown",
   "id": "4c29bfa9",
   "metadata": {
    "slideshow": {
     "slide_type": "subslide"
    }
   },
   "source": [
    "<p align='justify' style='margin: 10px 20px; line-height:1.5; font-family: \"Times New Roman\", Times, serif; font-size:16px; color: purple'>\n",
    "   And here is an example of a socket address structure for IPv6:\n",
    "\n",
    "\n",
    "\n",
    "</p>"
   ]
  },
  {
   "cell_type": "code",
   "execution_count": null,
   "id": "ac582375",
   "metadata": {
    "slideshow": {
     "slide_type": "subslide"
    }
   },
   "outputs": [],
   "source": [
    "struct sockaddr_in6 {\n",
    "    u_int16_t       sin6_family;   // AF_INET6\n",
    "    u_int16_t       sin6_port;     // Port number\n",
    "    u_int32_t       sin6_flowinfo; // IPv6 flow information\n",
    "    struct in6_addr sin6_addr;     // IPv6 address\n",
    "    u_int32_t       sin6_scope_id; // Scope ID\n",
    "};"
   ]
  },
  {
   "cell_type": "markdown",
   "id": "323400c4",
   "metadata": {
    "slideshow": {
     "slide_type": "subslide"
    }
   },
   "source": [
    "<p align='justify' style='margin: 10px 20px; line-height:1.5; font-family: \"Times New Roman\", Times, serif; font-size:16px; color: purple'>\n",
    "   When creating a socket, the socket() function is called with the appropriate address family, socket type, and protocol. The address family specifies whether the socket will use IPv4 or IPv6. The socket type specifies whether the socket is a stream socket (SOCK_STREAM) or a datagram socket (SOCK_DGRAM). The protocol parameter is usually set to 0, which allows the system to choose the appropriate protocol based on the specified address family and socket type.<br><br>Once a socket has been created, the bind() function is used to associate a socket address with the socket. This allows the socket to be identified on the network by other devices. The bind() function takes as arguments the socket file descriptor, a pointer to a sockaddr struct containing the socket address, and the size of the socket address.<br><br>In summary, external identification in socket programming involves the use of socket addresses, which consist of an IP address and port number, to uniquely identify sockets on a network. The socket address is specified using a struct, such as struct sockaddr_in or struct sockaddr_in6, and is associated with a socket using the bind() function.\n",
    "\n",
    "\n",
    "\n",
    "</p>"
   ]
  },
  {
   "cell_type": "code",
   "execution_count": null,
   "id": "761351c0",
   "metadata": {},
   "outputs": [],
   "source": []
  }
 ],
 "metadata": {
  "celltoolbar": "Slideshow",
  "kernelspec": {
   "display_name": "Python 3 (ipykernel)",
   "language": "python",
   "name": "python3"
  },
  "language_info": {
   "codemirror_mode": {
    "name": "ipython",
    "version": 3
   },
   "file_extension": ".py",
   "mimetype": "text/x-python",
   "name": "python",
   "nbconvert_exporter": "python",
   "pygments_lexer": "ipython3",
   "version": "3.9.13"
  },
  "toc": {
   "base_numbering": 1,
   "nav_menu": {},
   "number_sections": false,
   "sideBar": true,
   "skip_h1_title": false,
   "title_cell": "Table of Contents",
   "title_sidebar": "Contents",
   "toc_cell": false,
   "toc_position": {
    "height": "calc(100% - 180px)",
    "left": "10px",
    "top": "150px",
    "width": "218.55px"
   },
   "toc_section_display": true,
   "toc_window_display": false
  }
 },
 "nbformat": 4,
 "nbformat_minor": 5
}
