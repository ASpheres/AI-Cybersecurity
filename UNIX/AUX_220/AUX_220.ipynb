{
 "cells": [
  {
   "cell_type": "markdown",
   "id": "34f7293a",
   "metadata": {
    "slideshow": {
     "slide_type": "subslide"
    }
   },
   "source": [
    "<a href=\"https://asphere.fr/\">\n",
    "    <img src=\"logo2.png\" width=\"500\" height=\"400\" style=\"display: block; margin: 0 auto;\">\n",
    "</a>\n",
    "<h1 style=\"text-align: center; font-family: 'Times New Roman', Times,serif ; color: purple; margin-right: 25px; margin-left: 70px;\">UNUX ADMINISTRATION</h1>\n",
    "<h4 style=\"text-align: center; font-family: 'Times New Roman', Times,serif ; color: black; margin-right: 25px; margin-left: 70px;\">AUX_220</h4>\n",
    "<h5 style=\"text-align: center; font-family: 'Times New Roman', Times,serif ; color: black; margin-right: 25px; margin-left: 70px;\">DURATION: Three Days (21 Hrs)</h5>\n",
    "<h4 style=\"text-align: center; font-family: 'Times New Roman', Times,serif ; color: black; margin-right: 25px; margin-left: 70px;\">OBJECTIVES</h4>\n",
    "<a href=\"https://asphere.fr/\">\n",
    "    <img src=\"mqdefault.jpg\" width=\"100\" height=\"100\" style=\"float: right; margin-right: 25px; margin-left: 70px;\">\n",
    "</a>\n",
    "<h5 style=\"text-align: center; font-family: 'Times New Roman', Times,serif ; color: purple; margin-right: 90px; margin-left: 225px;\">To deepen the understanding of the mechanisms that govern most client/server dialogues, this module focuses on the experience of writing High-Level protocols and integrating security mechanisms related to code.</h5>"
   ]
  },
  {
   "cell_type": "markdown",
   "id": "9db78d78",
   "metadata": {
    "slideshow": {
     "slide_type": "subslide"
    }
   },
   "source": [
    "<h3 style='color:red; font-weight:bold; text-align:center; font-family: \"Times New Roman\", Times, serif; font-size:20px;'>OVERVIEW</h3>\n",
    "\n",
    "<p align='justify' style='margin: 10px 20px; line-height:1.5; font-family: \"Times New Roman\", Times, serif; font-size:16px;'>\n",
    "  This course is designed to provide an in-depth understanding of the inner workings of client/server communication in advanced system administration. It covers the different phases of protocol behavior on both the server and client side, and breaks down the dialogue within the code. The course will also cover the implementation of security mechanisms related to code. The course will introduce the available kernel mechanisms in operating systems, including low-level input/output operations, memory writing, and communication between processes. The course will also cover exercises on basic low-level operations such as fork(), pipe(), dup(), and communication between parent and child processes. Additionally, it will explore communication between multiple processes from different families using named pipes. The course will also include hands-on activities and practical exercises to apply the concepts learned, group discussion and presentation of exercises, and final assessment and course evaluation.<br><br> This course is designed to provide an in-depth understanding of the inner workings of client/server communication in advanced system administration. It covers the different phases of protocol behavior on both the server and client side, and breaks down the dialogue within the code. The course will also cover the implementation of security mechanisms related to code. The course will introduce the available kernel mechanisms in operating systems, including low-level input/output operations, memory writing, and communication between processes. The course will also cover exercises on basic low-level operations such as fork(), pipe(), dup(), and communication between parent and child processes. Additionally, it will explore communication between multiple processes from different families using named pipes. The course will also include hands-on activities and practical exercises to apply the concepts learned, group discussion and presentation of exercises, and final assessment and course evaluation.\n",
    "</p>"
   ]
  },
  {
   "cell_type": "markdown",
   "id": "e038eaa4",
   "metadata": {
    "slideshow": {
     "slide_type": "slide"
    }
   },
   "source": [
    "<h2 style='color:red; font-weight:bold; text-align:center; font-family: \"Times New Roman\", Times, serif; font-size:22px;'>INTRODUCTION TO CLIENT/SERVER COMMUNICATION</h2>\n",
    "\n",
    "<p align='justify' style='margin: 10px 20px; line-height:1.5; font-family: \"Times New Roman\", Times, serif; font-size:16px; color : purple'>\n",
    "    <strong> Lesson One: </strong> Introduction to Client/Server Communication\n",
    "    \n",
    "  <ul style='font-family: \"Times New Roman\", Times, serif; font-weight:light; font-size:16px;'>\n",
    "      <li><b>Introduction to client/server communication and the need to understand its inner workings in advanced system administration</b></li>\n",
    "      <li><b> Overview of kernel mechanisms available in operating systems</b></li>\n",
    "      \n",
    "      \n",
    "    \n",
    "    \n",
    "  </ul>\n",
    "</p><br>\n",
    "<h3 style='color:red; font-weight:bold; text-align:center; font-family: \"Times New Roman\", Times, serif; font-size:20px;'>Overview of client/server communication</h3><br>\n",
    "<img src=\"client_server.png\" width=\"150\" height=\"250\" style=\"float: left; margin-right: 20px; margin-left: 20px;\">\n",
    "\n",
    "<p align='justify' style='margin: 10px 20px; line-height:1.5; font-family: \"Times New Roman\", Times, serif; font-size:16px; color: purple'>\n",
    "  Client/server communication is a process that is used when two or more computers need to communicate with each other over a network. In this process, one computer (known as the client) sends a request for data or a service to another computer (known as the server), which then provides the requested data or service.\n",
    "\n",
    "</p><br><br>\n",
    "<p align='justify' style='margin: 10px 20px; line-height:1.5; font-family: \"Times New Roman\", Times, serif; font-size:16px; color: black'>\n",
    "   An example of client/server communication is when you use your web browser to visit a website. When you type the website's address into your web browser, your computer sends a request to the website's server asking for the website's contents. The server then sends the website's contents back to your computer, which displays it in your web browser.\n",
    "\n",
    "</p><br>\n",
    "<p align='justify' style='margin: 10px 20px; line-height:1.5; font-family: \"Times New Roman\", Times, serif; font-size:16px; color: black'>\n",
    "   Another example is when you use an email client to access your email. When you open your email client, your computer connects to the email server, and the server sends the emails to your computer for you to read and respond to.\n",
    "\n",
    "</p>"
   ]
  },
  {
   "cell_type": "markdown",
   "id": "7c11ab5c",
   "metadata": {
    "slideshow": {
     "slide_type": "subslide"
    }
   },
   "source": [
    "<p align='justify' style='margin: 10px 20px; line-height:1.5; font-family: \"Times New Roman\", Times, serif; font-size:16px; color: black'>\n",
    "   One of the most important aspects of client/server communication is the communication protocol. This is the set of rules that govern how data is transmitted between the client and the server. There are several different communication protocols that can be used, depending on the specific needs of the communication process.<br><br>For example, the Hypertext Transfer Protocol (HTTP) is a communication protocol that is used for transmitting data over the World Wide Web. Similarly, the Simple Mail Transfer Protocol (SMTP) is a communication protocol that is used for transmitting email messages over the internet.\n",
    "\n",
    "</p><br>\n",
    "<p align='justify' style='margin: 10px 20px; line-height:1.5; font-family: \"Times New Roman\", Times, serif; font-size:16px; color: purple'>\n",
    "   In addition to the communication protocol, other factors that can affect client/server communication include network congestion, bandwidth limitations, and security issues. These factors can cause delays or interruptions in the communication process and may require specific techniques or protocols to mitigate their effects.\n",
    "\n",
    "</p>"
   ]
  },
  {
   "cell_type": "markdown",
   "id": "af96a5d7",
   "metadata": {
    "slideshow": {
     "slide_type": "subslide"
    }
   },
   "source": [
    "<img src=\"D3P06IdUIAAFIuF.jpg\" width=\"150\" height=\"250\" style=\"float: right; margin-right: 70px; margin-left: 70px;\">\n",
    "<p align='justify' style='margin: 10px 20px; line-height:1.5; font-family: \"Times New Roman\", Times, serif; font-size:16px; color: black'>\n",
    "  There are two main types of client-server communication: connection-oriented and connectionless. In connection-oriented communication, a connection is established between the client and server before any data is exchanged. This type of communication is commonly used in services such as file transfer or remote login. In contrast, in connectionless communication, the client and server do not establish a connection before exchanging data. This type of communication is commonly used in services such as DNS or DHCP.\n",
    "</p><br>"
   ]
  },
  {
   "cell_type": "markdown",
   "id": "99d771d9",
   "metadata": {
    "slideshow": {
     "slide_type": "subslide"
    }
   },
   "source": [
    "<h4 style='color:red; font-weight:bold; text-align:center; font-family: \"Times New Roman\", Times, serif; font-size:18px;'>Importance of understanding inner workings in advanced system administration</h4>\n",
    "<p align='justify' style='margin: 10px 20px; line-height:1.5; font-family: \"Times New Roman\", Times, serif; font-size:16px; color: purple'>\n",
    "  Understanding the inner workings of client/server communication is crucial for advanced system administration for several reasons.\n",
    "\n",
    "</p><br>\n",
    "<p align='justify' style='margin: 10px 20px; line-height:1.5; font-family: \"Times New Roman\", Times, serif; font-size:16px; color: black'>\n",
    "  Firstly, it allows system administrators to diagnose and troubleshoot issues that may arise during the communication process. By understanding the communication protocol and other factors that can affect the communication process, system administrators can identify where issues may be occurring and take steps to resolve them. This can help ensure that the communication process is efficient and reliable.\n",
    "</p><br> \n",
    "<p align='justify' style='margin: 10px 20px; line-height:1.5; font-family: \"Times New Roman\", Times, serif; font-size:16px; color: black'>\n",
    "  Secondly, understanding the inner workings of client/server communication can help system administrators optimize the communication process. For example, they can identify areas where the communication process may be slowed down or inefficient and take steps to improve the process. This can help improve the overall performance of the system.\n",
    "</p><br>\n",
    "<p align='justify' style='margin: 10px 20px; line-height:1.5; font-family: \"Times New Roman\", Times, serif; font-size:16px; color: black'>\n",
    "  Thirdly, understanding the inner workings of client/server communication is essential for implementing security measures to protect the system from cyberattacks. System administrators need to be able to identify potential vulnerabilities in the communication process and take steps to mitigate them. By understanding how the communication process works, system administrators can implement security measures that are effective and efficient.\n",
    "</p><br>\n",
    "<p align='justify' style='margin: 10px 20px; line-height:1.5; font-family: \"Times New Roman\", Times, serif; font-size:16px; color: purple'>\n",
    "  Overall, understanding the inner workings of client/server communication is an essential skill for advanced system administration. It can help system administrators diagnose and troubleshoot issues, optimize the communication process, and implement effective security measures.\n",
    "</p>"
   ]
  },
  {
   "cell_type": "markdown",
   "id": "b0eafd42",
   "metadata": {
    "slideshow": {
     "slide_type": "subslide"
    }
   },
   "source": [
    "<h3 style='color:red; font-weight:bold; text-align:center; font-family: \"Times New Roman\", Times, serif; font-size:18px;'>Understanding the different phases of protocol behavior</h3>\n",
    "<p align='justify' style='margin: 10px 20px; line-height:1.5; font-family: \"Times New Roman\", Times, serif; font-size:16px; color: purple'>\n",
    "  Protocol behavior refers to the sequence of events that occur during a client-server communication. It includes three main phases:\n",
    "</p>\n",
    "<p align='justify' style='margin: 10px 20px; line-height:1.5; font-family: \"Times New Roman\", Times, serif; font-size:16px; color : purple'>\n",
    "    \n",
    "    \n",
    "  <ul style='font-family: \"Times New Roman\", Times, serif; font-weight:light; font-size:16px;'>\n",
    "      <li><strong>Connection initiation:</strong> This is the first phase of the communication process. The client sends a request to the server to establish a connection. The server responds with a message indicating whether the connection was successful or not. This phase is also known as the handshake phase.</li><br>\n",
    "      <li><strong> Data transfer: </strong>Once the connection is established, the client and server can start sending and receiving data. This phase includes the exchange of data between the client and server, such as the client sending a request and the server sending a response.</li><br>\n",
    "      <li><strong> Termination:  </strong>The final phase of the communication process is the termination of the connection. The client or the server can initiate the termination of the connection. This phase is also known as the disconnection phase.</li>\n",
    "  </ul>\n",
    "</p>"
   ]
  },
  {
   "cell_type": "markdown",
   "id": "a1151641",
   "metadata": {
    "slideshow": {
     "slide_type": "subslide"
    }
   },
   "source": [
    "<h4 style='color:red; font-weight:bold; text-align:center; font-family: \"Times New Roman\", Times, serif; font-size:18px;'>Connection initiation </h4>\n",
    "<img src=\"TWH.webp\" width=\"150\" height=\"250\" style=\"float: right; margin-right: 70px; margin-left: 70px;\">\n",
    "<p align='justify' style='margin: 10px 20px; line-height:1.5; font-family: \"Times New Roman\", Times, serif; font-size:16px; color: purple'>\n",
    "  The connection initiation phase, also known as the handshake phase, is the first step in the communication process between a client and a server. During this phase, the client sends a request to the server to establish a connection. The server then responds with a message indicating whether the connection was successful or not. <br><br><strong style = \"color:black\">The process of connection initiation typically involves the following steps:</strong>\n",
    "</p>\n",
    "<p align='justify' style='margin: 10px 20px; line-height:1.5; font-family: \"Times New Roman\", Times, serif; font-size:16px; color : purple'>\n",
    "    \n",
    "    \n",
    "  <ul style='font-family: \"Times New Roman\", Times, serif; font-weight:light; font-size:16px;'>\n",
    "      <li>The client sends a request to the server to establish a connection. This request typically includes information such as the client's IP address and port number.</li><br>\n",
    "      <li>The server receives the request and checks if it can fulfill the request. It may check if it is currently accepting connections and if the client has the necessary credentials or permissions.</li><br>\n",
    "      <li>If the request is valid, the server sends a response back to the client indicating that the connection has been established. This response typically includes information such as the server's IP address and port number.</li>\n",
    "  </ul>\n",
    "</p>"
   ]
  },
  {
   "cell_type": "markdown",
   "id": "585af125",
   "metadata": {
    "slideshow": {
     "slide_type": "subslide"
    }
   },
   "source": [
    "<p align='justify' style='margin: 10px 20px; line-height:1.5; font-family: \"Times New Roman\", Times, serif; font-size:16px; color : purple'>\n",
    "    <strong>Examples</strong>\n",
    "    \n",
    "  <ul style='font-family: \"Times New Roman\", Times, serif; font-weight:light; font-size:16px;'>\n",
    "      <li>When you open a website using a web browser, the browser sends a request to the server to establish a connection. The server responds with a message indicating that the connection has been established, and the browser can then request the necessary files to display the website.</li><br>\n",
    "      <li>When you use an email client like Outlook or Gmail, the email client sends a request to the server to establish a connection. The server responds with a message indicating that the connection has been established, and the email client can then request the necessary emails to display.</li><br>\n",
    "      \n",
    "  </ul>\n",
    "</p><br>\n",
    "<p align='justify' style='margin: 10px 20px; line-height:1.5; font-family: \"Times New Roman\", Times, serif; font-size:16px; color: purple'>\n",
    "  It's important to note that different protocols have different ways of establishing a connection, for example, the HTTP protocol uses a 3-way handshake, where the client sends the request, the server sends the response and then the client sends the acknowledgement.\n",
    "</p>\n",
    "<img src=\"3wayhandshake.jpeg\" width=\"150\" height=\"250\" style=\"float: center; margin-right: 300px; margin-left: 300px;\">\n",
    "<p align='justify' style='margin: 10px 20px; line-height:1.5; font-family: \"Times New Roman\", Times, serif; font-size:16px; color: black'>\n",
    "  Understanding the process of connection initiation is crucial for advanced system administration, as it allows administrators to understand the flow of data, identify potential issues, and troubleshoot problems more efficiently.\n",
    "</p>"
   ]
  },
  {
   "cell_type": "markdown",
   "id": "3d824faa",
   "metadata": {
    "slideshow": {
     "slide_type": "subslide"
    }
   },
   "source": [
    "<h4 style='color:red; font-weight:bold; text-align:center; font-family: \"Times New Roman\", Times, serif; font-size:18px;'>Data transfer </h4>\n",
    "<img src=\"data_transfer.jpeg\" width=\"150\" height=\"250\" style=\"float: right; margin-right: 70px; margin-left: 70px;\">\n",
    "<p align='justify' style='margin: 10px 20px; line-height:1.5; font-family: \"Times New Roman\", Times, serif; font-size:16px; color: purple'>\n",
    "  Once the connection is established in the connection initiation phase, the client and server can start sending and receiving data. This phase is known as the data transfer phase. The data transfer phase is where the client sends a request to the server and the server responds with the requested information.<br><br><strong style = \"color: black\">The process of data transfer typically involves the following steps:</strong>\n",
    "</p>\n",
    "<p align='justify' style='margin: 10px 20px; line-height:1.5; font-family: \"Times New Roman\", Times, serif; font-size:16px; color : purple'>\n",
    "    \n",
    "    \n",
    "  <ul style='font-family: \"Times New Roman\", Times, serif; font-weight:light; font-size:16px;'>\n",
    "      <li>The client sends a request to the server. This request typically includes information such as the type of request (e.g. GET, POST, PUT, etc.), the requested resource, and any additional parameters.</li><br>\n",
    "      <img src=\"http-method-put-post.jpg\" width=\"150\" height=\"250\" style=\"float: center; margin-right: 300px; margin-left: 300px;\"><br>\n",
    "      <li>The server receives the request and processes it. This may involve checking for the validity of the request and any necessary authentication or authorization.</li><br>\n",
    "      <li>The server then sends a response back to the client. This response typically includes information such as the status of the request (e.g. 200 OK, 404 Not Found, etc.), the requested information, and any additional parameters.</li><br>\n",
    "      <img src=\"google-404-error-page-1.png\" width=\"150\" height=\"250\" style=\"float: center; margin-right: 300px; margin-left: 300px;\">\n",
    "      <li>The client receives the response and processes it. This may involve displaying the requested information to the user or taking additional actions based on the response.</li>\n",
    "  </ul>\n",
    "</p>"
   ]
  },
  {
   "cell_type": "markdown",
   "id": "01b088a0",
   "metadata": {
    "slideshow": {
     "slide_type": "subslide"
    }
   },
   "source": [
    "<p align='justify' style='margin: 10px 20px; line-height:1.5; font-family: \"Times New Roman\", Times, serif; font-size:16px; color : purple'>\n",
    "    <strong>Examples</strong>\n",
    "    \n",
    "  <ul style='font-family: \"Times New Roman\", Times, serif; font-weight:light; font-size:16px;'>\n",
    "      <li>When you open a website using a web browser, the browser sends a request to the server for the HTML, CSS, and JavaScript files that make up the website. The server responds with the requested files, and the browser displays the website to the user.</li><br>\n",
    "      <li>When you use a file sharing application like Dropbox, the file sharing application sends a request to the server for the files you want to access or upload. The server responds with the requested files, and the file sharing application allows you to access or upload them.</li><br>\n",
    "      \n",
    "  </ul>\n",
    "</p>\n",
    "<p align='justify' style='margin: 10px 20px; line-height:1.5; font-family: \"Times New Roman\", Times, serif; font-size:16px; color: purple'>\n",
    "  It's important to note that the data transfer can be done using different protocols like HTTP, FTP, SMTP, etc. Each protocol has its way of handling the data transfer and its own set of rules for the data transfer.\n",
    "</p><br>\n",
    "<p align='justify' style='margin: 10px 20px; line-height:1.5; font-family: \"Times New Roman\", Times, serif; font-size:16px; color: black'>\n",
    "  Understanding the process of data transfer is crucial for advanced system administration, as it allows administrators to understand the flow of data, identify potential issues, and troubleshoot problems more efficiently.\n",
    "</p>"
   ]
  },
  {
   "cell_type": "markdown",
   "id": "540514cd",
   "metadata": {
    "slideshow": {
     "slide_type": "subslide"
    }
   },
   "source": [
    "<h4 style='color:red; font-weight:bold; text-align:center; font-family: \"Times New Roman\", Times, serif; font-size:18px;'>Termination </h4>\n",
    "<img src=\"TCP-close-diagram.png\" width=\"150\" height=\"250\" style=\"float: right; margin-right: 70px; margin-left: 70px;\">\n",
    "<p align='justify' style='margin: 10px 20px; line-height:1.5; font-family: \"Times New Roman\", Times, serif; font-size:16px; color: purple'>\n",
    "  The termination phase, also known as the disconnection phase, is the final step in the communication process between a client and a server. During this phase, the connection between the client and server is closed. The termination of the connection can be initiated by either the client or the server.\n",
    "</p><br>\n",
    "<p align='justify' style='margin: 10px 20px; line-height:1.5; font-family: \"Times New Roman\", Times, serif; font-size:16px; color : black'>\n",
    "    <strong>The process of termination typically involves the following steps:</strong><br>\n",
    "    \n",
    "  <ul style='font-family: \"Times New Roman\", Times, serif; font-weight:light; font-size:16px;'>\n",
    "      <li>The client or the server initiates the termination of the connection. This is typically done by sending a message to the other side indicating that the connection should be closed.</li><br>\n",
    "      <li>The other side receives the message and verifies that the connection should be closed.</li><br>\n",
    "      <li>Once the verification is done, both the client and the server close their respective ends of the connection.</li><br>\n",
    "      <li>The connection is now closed, and the client and server are disconnected.\n",
    "</li><br>\n",
    "  </ul>\n",
    "</p>"
   ]
  },
  {
   "cell_type": "markdown",
   "id": "2ad17bd4",
   "metadata": {
    "slideshow": {
     "slide_type": "subslide"
    }
   },
   "source": [
    "<p align='justify' style='margin: 10px 20px; line-height:1.5; font-family: \"Times New Roman\", Times, serif; font-size:16px; color : purple'>\n",
    "    <strong>Examples</strong>\n",
    "    \n",
    "  <ul style='font-family: \"Times New Roman\", Times, serif; font-weight:light; font-size:16px;'>\n",
    "      <li>When you close a website on your web browser, the browser sends a message to the server indicating that the connection should be closed. The server verifies that the connection should be closed and closes its end of the connection.</li><br>\n",
    "      <li>When you close an email client like Outlook or Gmail, the email client sends a message to the server indicating that the connection should be closed. The server verifies that the connection should be closed and closes its end of the connection.</li><br>\n",
    "      \n",
    "  </ul>\n",
    "</p>\n",
    "<p align='justify' style='margin: 10px 20px; line-height:1.5; font-family: \"Times New Roman\", Times, serif; font-size:16px; color: purple'>\n",
    "  It's important to note that different protocols have different ways of closing a connection, for example, the HTTP protocol uses a 2-way closing, where the client sends the request to close the connection and the server acknowledges it.\n",
    "</p><br>\n",
    "<p align='justify' style='margin: 10px 20px; line-height:1.5; font-family: \"Times New Roman\", Times, serif; font-size:16px; color: black'>\n",
    "  Understanding the process of termination is crucial for advanced system administration, as it allows administrators to understand the flow of data, identify potential issues, and troubleshoot problems more efficiently. It's necessary to close the connection properly to avoid any problem with the network and to free up the resources for the new connection.\n",
    "</p>"
   ]
  },
  {
   "cell_type": "markdown",
   "id": "f43f8b53",
   "metadata": {
    "slideshow": {
     "slide_type": "subslide"
    }
   },
   "source": [
    "<h3 style='color:red; font-weight:bold; text-align:center; font-family: \"Times New Roman\", Times, serif; font-size:20px;'>Decomposing the dialogue within the code</h3>\n",
    "<p align='justify' style='margin: 10px 20px; line-height:1.5; font-family: \"Times New Roman\", Times, serif; font-size:16px; color: purple'>\n",
    "  Decomposing the dialogue within the code refers to the process of breaking down the communication process between a client and a server into its individual components. This allows for a deeper understanding of the inner workings of the communication process and can aid in troubleshooting and optimization.\n",
    "</p><br><br>\n",
    "\n",
    "<h4 style='color:red; font-weight:bold; text-align:center; font-family: \"Times New Roman\", Times, serif; font-size:18px;'>Understanding the different layers of the code</h4>\n",
    "\n",
    "<p align='justify' style='margin: 10px 20px; line-height:1.5; font-family: \"Times New Roman\", Times, serif; font-size:16px; color: black'>\n",
    "  When decomposing the dialogue within the code, it is important to understand the different layers of code that make up the communication process. These layers include the user interface, application, and transport layers.\n",
    "</p><br>"
   ]
  },
  {
   "cell_type": "markdown",
   "id": "191acfd9",
   "metadata": {
    "slideshow": {
     "slide_type": "subslide"
    }
   },
   "source": [
    "<h5 style='color: purple; font-weight:bold; text-align:center; font-family: \"Times New Roman\", Times, serif; font-size:18px;'>The user interface layer</h5>\n",
    "<img src=\"Opera3.png\" width=\"150\" height=\"250\" style=\"float: left; margin-right: 20px; margin-left: 20px;\">\n",
    "<p align='justify' style='margin: 10px 20px; line-height:1.5; font-family: \"Times New Roman\", Times, serif; font-size:16px; color: purple'>\n",
    "  The user interface layer is a component of the application layer in client/server communication. It is responsible for presenting the user with an interface that they can use to interact with the application. The user interface layer is typically designed to be user-friendly and easy to use, so that users can interact with the application without needing to have a lot of technical knowledge.\n",
    "</p><br>\n",
    "<p align='justify' style='margin: 10px 20px; line-height:1.5; font-family: \"Times New Roman\", Times, serif; font-size:16px; color: black'>\n",
    "  An example of the user interface layer in action is when you use a web browser to access a website. The user interface layer in the web browser presents you with a graphical interface that you can use to navigate the website, read its contents, and interact with its features. This interface may include buttons, text boxes, drop-down menus, and other interactive elements that allow you to interact with the website's content.\n",
    "\n",
    "</p><br>\n",
    "<img src=\"1.jpg\" width=\"150\" height=\"250\" style=\"float: right; margin-right: 50px; margin-left: 170px;\"><br>\n",
    "<p align='justify' style='margin: 10px 20px; line-height:1.5; font-family: \"Times New Roman\", Times, serif; font-size:16px; color: black'>\n",
    "  Another example of the user interface layer is when you use a mobile app on your smartphone. The user interface layer in the app presents you with an interface that is specifically designed for use on a mobile device. This interface may include buttons, sliders, and other interactive elements that are optimized for touch-screen use.\n",
    "\n",
    "</p><br>\n",
    "<p align='justify' style='margin: 10px 20px; line-height:1.5; font-family: \"Times New Roman\", Times, serif; font-size:16px; color: purple'>\n",
    "  The user interface layer is an important component of client/server communication because it allows users to interact with the application in a meaningful way. By presenting users with a graphical interface that is easy to use and navigate, the user interface layer can help ensure that users are able to access the data and services that they need without needing to have a lot of technical knowledge.\n",
    "\n",
    "</p>"
   ]
  },
  {
   "cell_type": "markdown",
   "id": "1a4534bf",
   "metadata": {
    "slideshow": {
     "slide_type": "subslide"
    }
   },
   "source": [
    "<h5 style='color: purple; font-weight:bold; text-align:center; font-family: \"Times New Roman\", Times, serif; font-size:18px;'>The Application Layer</h5>\n",
    "<img src=\"application-layer.jpg\" width=\"150\" height=\"250\" style=\"float: left; margin-right: 20px; margin-left: 20px;\"><br>\n",
    "<p align='justify' style='margin: 10px 20px; line-height:1.5; font-family: \"Times New Roman\", Times, serif; font-size:16px; color: purple'>\n",
    "  The application layer is a key component of client/server communication that sits on top of the network and transport layers. It is responsible for managing the specific applications that are being used to facilitate communication between the client and server.\n",
    "\n",
    "</p><br>\n",
    "<p align='justify' style='margin: 10px 20px; line-height:1.5; font-family: \"Times New Roman\", Times, serif; font-size:16px; color: black'>\n",
    "  An example of the application layer in action is when you use an email client to access your email. The email client is an application that sits on top of the network and transport layers, and it is responsible for managing the specific email application that is being used to facilitate communication between the client and server.<br><br>Another example is when you use a web browser to access a website. The web browser is an application that sits on top of the network and transport layers, and it is responsible for managing the specific web application that is being used to facilitate communication between the client and server.\n",
    "\n",
    "</p>"
   ]
  },
  {
   "cell_type": "markdown",
   "id": "649edc96",
   "metadata": {
    "slideshow": {
     "slide_type": "subslide"
    }
   },
   "source": [
    "<p align='justify' style='margin: 10px 20px; line-height:1.5; font-family: \"Times New Roman\", Times, serif; font-size:16px; color: black'>\n",
    "  The application layer is an important component of client/server communication because it is responsible for managing the specific applications that are being used to facilitate communication between the client and server. This layer ensures that the specific needs of the application are met and that the data being transmitted between the client and server is formatted and structured correctly.<br><br>For example, the application layer is responsible for ensuring that email messages are transmitted in the correct format and that attachments are correctly attached to the email message. It is also responsible for ensuring that web pages are formatted correctly and that interactive elements, such as buttons and drop-down menus, are functional and easy to use.\n",
    "\n",
    "\n",
    "\n",
    "</p>"
   ]
  },
  {
   "cell_type": "markdown",
   "id": "5dd622af",
   "metadata": {
    "slideshow": {
     "slide_type": "subslide"
    }
   },
   "source": [
    "<h5 style='color: purple; font-weight:bold; text-align:center; font-family: \"Times New Roman\", Times, serif; font-size:18px;'>The transport layer </h5><br>\n",
    "<img src=\"ubin95wi7z (1).jpg\" width=\"150\" height=\"250\" style=\"float: left; margin-right: 20px; margin-left: 20px;\">\n",
    "<p align='justify' style='margin: 10px 20px; line-height:1.5; font-family: \"Times New Roman\", Times, serif; font-size:16px; color: purple'>\n",
    "  The transport layer is a component of the client/server communication process that is responsible for ensuring that data is transmitted reliably and efficiently between the client and server. This layer is responsible for managing the flow of data between the client and server, and for handling any errors or issues that may arise during transmission.\n",
    "\n",
    "\n",
    "\n",
    "</p><br>\n",
    "<p align='justify' style='margin: 10px 20px; line-height:1.5; font-family: \"Times New Roman\", Times, serif; font-size:16px; color: black'>\n",
    "  An example of the transport layer in action is when you send an email using an email client. When you click the \"Send\" button in the email client, the email is transmitted over the internet to the email server using a specific protocol called the Simple Mail Transfer Protocol (SMTP). The transport layer is responsible for ensuring that the email is transmitted reliably and efficiently, and for handling any errors or issues that may arise during transmission.\n",
    "\n",
    "\n",
    "\n",
    "</p><br>\n",
    "<p align='justify' style='margin: 10px 20px; line-height:1.5; font-family: \"Times New Roman\", Times, serif; font-size:16px; color: black'>\n",
    "  Another example of the transport layer in action is when you use a web browser to access a website. When you type the website address into your web browser, the browser sends a request to the website server using a specific protocol called the Hypertext Transfer Protocol (HTTP). The transport layer is responsible for ensuring that the request is transmitted reliably and efficiently, and for handling any errors or issues that may arise during transmission.\n",
    "\n",
    "\n",
    "\n",
    "</p><br>\n",
    "<p align='justify' style='margin: 10px 20px; line-height:1.5; font-family: \"Times New Roman\", Times, serif; font-size:16px; color: purple'>\n",
    "  The transport layer is an important component of client/server communication because it ensures that data is transmitted reliably and efficiently. It is responsible for managing the flow of data between the client and server, and for handling any errors or issues that may arise during transmission. This helps to ensure that the communication process is efficient and reliable, and that the data being transmitted is received correctly.\n",
    "\n",
    "</p>"
   ]
  },
  {
   "cell_type": "markdown",
   "id": "eac53ce8",
   "metadata": {
    "slideshow": {
     "slide_type": "subslide"
    }
   },
   "source": [
    "<h4 style='color:red; font-weight:bold; text-align:center; font-family: \"Times New Roman\", Times, serif; font-size:18px;'>Analyzing the communication flow</h4>\n",
    "<p align='justify' style='margin: 10px 20px; line-height:1.5; font-family: \"Times New Roman\", Times, serif; font-size:16px; color: purple'>\n",
    "  Analyzing the communication flow refers to the process of examining the flow of data between the client and server during the communication process. This includes identifying the different stages of the communication process, the data being exchanged, and any potential issues or bottlenecks.\n",
    "</p><br>\n",
    "\n",
    "<p align='justify' style='margin: 10px 20px; line-height:1.5; font-family: \"Times New Roman\", Times, serif; font-size:16px; color: black'>\n",
    "  When analyzing the communication flow, it is important to keep in mind the different phases of the communication process, such as connection initiation, data transfer, and termination. By understanding the different phases, you can better understand the flow of data and identify any potential issues.\n",
    "</p><br>\n",
    "<p align='justify' style='margin: 10px 20px; line-height:1.5; font-family: \"Times New Roman\", Times, serif; font-size:16px; color: black'>\n",
    "  One way to analyze the communication flow is to use packet sniffing tools that capture and analyze network traffic. These tools can provide detailed information about the packets being exchanged, such as their size, origin, and destination, as well as any errors or retransmissions.\n",
    "</p><br>\n",
    "<p align='justify' style='margin: 10px 20px; line-height:1.5; font-family: \"Times New Roman\", Times, serif; font-size:16px; color: black'>\n",
    "  Another way to analyze the communication flow is to use log files from the client and server. These log files can provide information about the communication process, such as the time of each request and response, the data being exchanged, and any errors or issues that occurred.\n",
    "</p>"
   ]
  },
  {
   "cell_type": "markdown",
   "id": "0c40f384",
   "metadata": {
    "slideshow": {
     "slide_type": "subslide"
    }
   },
   "source": [
    "<p align='justify' style='margin: 10px 20px; line-height:1.5; font-family: \"Times New Roman\", Times, serif; font-size:16px; color: purple'>\n",
    "  It's important to understand the different communication protocols used in the communication process. The most common protocols used in client/server communication include TCP and UDP. Understanding the features of each protocol and how they handle the flow of data can help identify any issues or bottlenecks.\n",
    "</p><br>\n",
    "<p align='justify' style='margin: 10px 20px; line-height:1.5; font-family: \"Times New Roman\", Times, serif; font-size:16px; color: black'>\n",
    "  It's also important to monitor the performance of the client and server during the communication process. This includes monitoring things such as CPU usage, memory usage, and network bandwidth. By monitoring these performance metrics, you can identify any potential issues and take steps to optimize the communication process.\n",
    "</p><br>\n",
    "<p align='justify' style='margin: 10px 20px; line-height:1.5; font-family: \"Times New Roman\", Times, serif; font-size:16px; color: purple'>\n",
    "  Analyzing the communication flow is an important step in understanding the inner workings of client/server communication and identifying potential issues. By using tools, log files, and performance monitoring, you can gain a detailed understanding of the communication process and take steps to optimize it.\n",
    "</p>"
   ]
  },
  {
   "cell_type": "markdown",
   "id": "79461b62",
   "metadata": {
    "slideshow": {
     "slide_type": "subslide"
    }
   },
   "source": [
    "<h4 style='color:red; font-weight:bold; text-align:center; font-family: \"Times New Roman\", Times, serif; font-size:18px;'>Identifying key components </h4>\n",
    "<p align='justify' style='margin: 10px 20px; line-height:1.5; font-family: \"Times New Roman\", Times, serif; font-size:16px; color: purple'>\n",
    "  Identifying key components refers to the process of identifying the different parts of the communication process that are important for the proper functioning of the system. These key components include both hardware and software components, and they play a critical role in the communication process.<br><br><strong style = \"color:black\">Some examples of key components in client/server communication include:</strong><br>\n",
    "</p>\n",
    "<p align='justify' style='margin: 10px 20px; line-height:1.5; font-family: \"Times New Roman\", Times, serif; font-size:16px; color : purple'>\n",
    "    \n",
    "    \n",
    "  <ul style='font-family: \"Times New Roman\", Times, serif; font-weight:light; font-size:16px;'>\n",
    "      <img src=\"_1577686558_iQJrlFa5Gm (1).jpg\" width=\"100\" height=\"200\" style=\"float: right; margin-right: 30px; margin-left: 30px;\">\n",
    "      <li><strong style = \"color:purple\">Network Interface Card (NIC): </strong>This is the hardware component that allows the computer to connect to a network. It is responsible for sending and receiving data over the network.</li><br>\n",
    "      <li><strong style = \"color:purple\">IP Address: </strong> This is a unique numerical label assigned to each device connected to a computer network that uses the Internet Protocol for communication.</li><br>\n",
    "      <li><strong style = \"color:purple\">TCP/IP Stack: </strong> This is a set of software protocols that are responsible for the communication process between the client and server. The most common protocols used in client/server communication include TCP and UDP.</li><br>\n",
    "      <li><strong style = \"color:purple\">Application layer: </strong> This is the layer of the communication process that is responsible for the application-level communication between the client and server. This includes protocols such as HTTP, FTP, and SMTP.</li><br>\n",
    "      <li><strong style = \"color:purple\">Firewall: </strong> This is a hardware or software component that is responsible for protecting the network from unauthorized access. It acts as a barrier between the internal network and the external network.</li><br>\n",
    "      <li><strong style = \"color:purple\">Router: </strong> This is a device that forwards data packets between computer networks. It is responsible for directing data packets to the correct destination.</li><br>\n",
    "      <li><strong style = \"color:purple\">Load balancer:  </strong> This is a device or software component that is responsible for distributing the load of incoming requests among multiple servers. This helps to ensure that the communication process is not impacted by a single server failure.</li>\n",
    "      \n",
    "  </ul>\n",
    "</p>"
   ]
  },
  {
   "cell_type": "markdown",
   "id": "73d28786",
   "metadata": {
    "slideshow": {
     "slide_type": "subslide"
    }
   },
   "source": [
    "<p align='justify' style='margin: 10px 20px; line-height:1.5; font-family: \"Times New Roman\", Times, serif; font-size:16px; color: purple'>\n",
    "  It's important to identify the key components of the communication process because they play a critical role in the proper functioning of the system. By identifying these key components, you can better understand the communication process and take steps to optimize it.\n",
    "</p><br>\n",
    "<p align='justify' style='margin: 10px 20px; line-height:1.5; font-family: \"Times New Roman\", Times, serif; font-size:16px; color: black'>\n",
    "  For example, if you notice that the network interface card is causing issues, you can replace it with a new one to improve the communication process. If you notice that the firewall is causing delays, you can adjust its settings to allow more traffic through. And if you notice that the load balancer is not distributing the load evenly, you can adjust its settings to optimize the communication process.\n",
    "</p><br>\n",
    "<p align='justify' style='margin: 10px 20px; line-height:1.5; font-family: \"Times New Roman\", Times, serif; font-size:16px; color: black'>\n",
    "  Overall, identifying key components is an important step in understanding the inner workings of client/server communication and optimizing the communication process. By identifying these key components, you can take steps to ensure that the communication process is functioning properly and take steps to optimize it.\n",
    "</p>"
   ]
  },
  {
   "cell_type": "markdown",
   "id": "c403c0c3",
   "metadata": {
    "slideshow": {
     "slide_type": "subslide"
    }
   },
   "source": [
    "<h3 style='color:red; font-weight:bold; text-align:center; font-family: \"Times New Roman\", Times, serif; font-size:20px;'>Implementing security mechanisms related to code</h3>\n",
    "<p align='justify' style='margin: 10px 20px; line-height:1.5; font-family: \"Times New Roman\", Times, serif; font-size:16px; color: purple'>\n",
    "  Implementing security mechanisms in code is crucial for protecting client/server communication and safeguarding against common types of security threats and vulnerabilities. In this tutorial, we will discuss the importance of security, ways to identify potential vulnerabilities, and methods for implementing effective security measures.\n",
    "</p><br>\n",
    "<p align='justify' style='margin: 10px 20px; line-height:1.5; font-family: \"Times New Roman\", Times, serif; font-size:16px; color: black'>\n",
    "  Security is vital for protecting sensitive information and maintaining the integrity of client/server communication. Without proper security measures in place, a system is vulnerable to attacks such as unauthorized access, data theft, and malicious code injection. These types of security breaches can have a significant impact on a system, including loss of data, decreased performance, and reputational damage.\n",
    "</p><br>\n",
    "<p align='justify' style='margin: 10px 20px; line-height:1.5; font-family: \"Times New Roman\", Times, serif; font-size:16px; color: black'>\n",
    "  In order to effectively implement security measures, it is important to first identify potential vulnerabilities in the system. This can be accomplished through a variety of methods, including penetration testing, code review, and threat modeling. Penetration testing involves simulating an attack on the system to identify vulnerabilities, while code review involves examining the code for potential security weaknesses. Threat modeling involves identifying potential threats to the system and determining the potential impact of each threat.\n",
    "</p><br>\n",
    "<p align='justify' style='margin: 10px 20px; line-height:1.5; font-family: \"Times New Roman\", Times, serif; font-size:16px; color: purple'>\n",
    "  Once potential vulnerabilities have been identified, it is important to implement effective security measures to protect the system. This can include input validation, authentication and authorization, and encryption. Input validation involves ensuring that data entered by the user is properly formatted and within acceptable boundaries. Authentication and authorization involve verifying the identity of users and determining their access level. Encryption involves converting data into a format that is unreadable by unauthorized users.\n",
    "</p>"
   ]
  },
  {
   "cell_type": "markdown",
   "id": "98586e5b",
   "metadata": {
    "slideshow": {
     "slide_type": "subslide"
    }
   },
   "source": [
    "<p align='justify' style='margin: 10px 20px; line-height:1.5; font-family: \"Times New Roman\", Times, serif; font-size:16px; color : purple'>\n",
    "    \n",
    "    \n",
    "  <ul style='font-family: \"Times New Roman\", Times, serif; font-weight:light; font-size:16px;'>\n",
    "      <li><strong style = \"color:purple\">Example 1: Input validation</strong><br><br>One effective method of protecting against malicious code injection is through input validation. This involves ensuring that user input is properly formatted and within acceptable boundaries. For example, in the following code, a user is prompted to enter their age, and the input is validated to ensure that it is a valid integer between 0 and 120:</li>\n",
    "      \n",
    "  </ul>\n",
    "</p>"
   ]
  },
  {
   "cell_type": "code",
   "execution_count": null,
   "id": "63968022",
   "metadata": {
    "slideshow": {
     "slide_type": "subslide"
    }
   },
   "outputs": [],
   "source": [
    "#include <stdio.h>\n",
    "#include <stdlib.h>\n",
    "\n",
    "int main() {\n",
    "  int age;\n",
    "  printf(\"Enter your age: \");\n",
    "  scanf(\"%d\", &age);\n",
    "\n",
    "  if (age < 0 || age > 120) {\n",
    "    printf(\"Invalid input. Please enter a valid age.\");\n",
    "    return 1;\n",
    "  }\n",
    "\n",
    "  printf(\"Thank you for entering your age.\");\n",
    "  return 0;\n",
    "}"
   ]
  },
  {
   "cell_type": "markdown",
   "id": "c3577247",
   "metadata": {
    "slideshow": {
     "slide_type": "subslide"
    }
   },
   "source": [
    "<p align='justify' style='margin: 10px 20px; line-height:1.5; font-family: \"Times New Roman\", Times, serif; font-size:16px; color: purple'>\n",
    "  This is a simple C program that prompts the user to enter their age and then checks to see if the input is valid.The program begins by including two standard libraries, \"stdio.h\" and \"stdlib.h\", which are required for input and output operations and for using the exit function. The program then declares a variable \"age\" of integer type, which will be used to store the user's age. The printf function is used to display the message \"Enter your age: \" to the user, prompting them to enter their age. The scanf function is then used to read the user's input and store it in the \"age\" variable. <br><br>Next, an if statement is used to check if the input age is valid. If the age is less than 0 or greater than 120, the program prints the message \"Invalid input. Please enter a valid age.\" using the printf function and returns 1 to indicate an error has occurred. If the input age is valid, the program proceeds to the next line, which prints the message \"Thank you for entering your age.\" using the printf function. Finally, the program returns 0 to indicate that it has executed successfully.\n",
    "\n",
    "\n",
    "</p>"
   ]
  },
  {
   "cell_type": "markdown",
   "id": "a80d6970",
   "metadata": {
    "slideshow": {
     "slide_type": "subslide"
    }
   },
   "source": [
    "<p align='justify' style='margin: 10px 20px; line-height:1.5; font-family: \"Times New Roman\", Times, serif; font-size:16px; color : purple'>\n",
    "    \n",
    "    \n",
    "  <ul style='font-family: \"Times New Roman\", Times, serif; font-weight:light; font-size:16px;'>\n",
    "      <li><strong style = \"color:purple\">Example 2: Authentication and Authorization</strong><br><br>Another important aspect of security is authentication and authorization. Authentication verifies the identity of a user, while authorization determines the level of access a user has to the system. In the following code, a user is prompted to enter their username and password, which are then verified against a database of valid credentials. If the credentials match, the user is granted access to the system:</li>\n",
    "      \n",
    "  </ul>\n",
    "</p>"
   ]
  },
  {
   "cell_type": "code",
   "execution_count": null,
   "id": "d4d3d63a",
   "metadata": {
    "slideshow": {
     "slide_type": "subslide"
    }
   },
   "outputs": [],
   "source": [
    "#include <stdio.h>\n",
    "#include <stdlib.h>\n",
    "#include <string.h>\n",
    "\n",
    "int main() {\n",
    "  char username[20];\n",
    "  char password[20];\n",
    "  printf(\"Enter your username: \");\n",
    "  scanf(\"%s\", username);\n",
    "  printf(\"Enter your password: \");\n",
    "  scanf(\"%s\", password);\n",
    "\n",
    "  if (strcmp(username, \"admin\") == 0 && strcmp(password, \"password\") == 0) {\n",
    "    printf(\"Access granted.\");\n",
    "    return 0;\n",
    "  } else {\n",
    "    printf(\"Access denied.\");\n",
    "    return 1;\n",
    "  }\n",
    "}"
   ]
  },
  {
   "cell_type": "markdown",
   "id": "a57e09c5",
   "metadata": {
    "slideshow": {
     "slide_type": "subslide"
    }
   },
   "source": [
    "<p align='justify' style='margin: 10px 20px; line-height:1.5; font-family: \"Times New Roman\", Times, serif; font-size:16px; color: purple'>\n",
    "  This is a simple C program that prompts the user to enter a username and password and then checks to see if they match a hardcoded set of credentials. The program begins by including three standard libraries, \"stdio.h\", \"stdlib.h\", and \"string.h\", which are required for input and output operations, for using the exit function, and for using the string comparison function. The program then declares two character arrays, \"username\" and \"password\", each with a length of 20 characters, which will be used to store the user's input.<br><br>The printf function is used to display the message \"Enter your username: \" to the user, prompting them to enter their username. The scanf function is then used to read the user's input and store it in the \"username\" array. Similarly, the program prompts the user to enter their password using the printf function and reads the input using the scanf function, storing it in the \"password\" array.<br><br> Next, an if statement is used to check if the input username and password match the hardcoded values of \"admin\" and \"password\". This is done using the strcmp function, which compares two strings and returns 0 if they are equal. If the input matches the hardcoded values, the program prints the message \"Access granted.\" using the printf function and returns 0 to indicate that it has executed successfully. If the input does not match the hardcoded values, the program prints the message \"Access denied.\" using the printf function and returns 1 to indicate an error has occurred.\n",
    "\n",
    "\n",
    "</p>"
   ]
  },
  {
   "cell_type": "markdown",
   "id": "cccc6649",
   "metadata": {
    "slideshow": {
     "slide_type": "subslide"
    }
   },
   "source": [
    "<p align='justify' style='margin: 10px 20px; line-height:1.5; font-family: \"Times New Roman\", Times, serif; font-size:16px; color : purple'>\n",
    "    \n",
    "    \n",
    "  <ul style='font-family: \"Times New Roman\", Times, serif; font-weight:light; font-size:16px;'>\n",
    "      <li><strong style = \"color:purple\">Example 3: Encryption</strong><br><br>Encryption is another effective method of protecting sensitive information. In the following code, a message is encrypted using the Advanced Encryption Standard (AES) algorithm with a 128-bit key. The key must be kept secret and should be generated randomly for each message. </li>\n",
    "      \n",
    "  </ul>\n",
    "</p>"
   ]
  },
  {
   "cell_type": "code",
   "execution_count": null,
   "id": "ded41fce",
   "metadata": {
    "slideshow": {
     "slide_type": "subslide"
    }
   },
   "outputs": [],
   "source": [
    "#include <stdio.h>\n",
    "#include <stdlib.h>\n",
    "#include <string.h>\n",
    "#include <openssl/evp.h>\n",
    "\n",
    "int main() {\n",
    "    unsigned char key[] = \"mysecretkey\";\n",
    "    unsigned char iv[] = \"0123456789012345\";\n",
    "    unsigned char plaintext[] = \"Hello, world!\";\n",
    "    unsigned char ciphertext[128];\n",
    "\n",
    "    EVP_CIPHER_CTX *ctx = EVP_CIPHER_CTX_new();\n",
    "    EVP_EncryptInit_ex(ctx, EVP_aes_128_cbc(), NULL, key, iv);\n",
    "    int len;\n",
    "    EVP_EncryptUpdate(ctx, ciphertext, &len, plaintext, strlen(plaintext));\n",
    "    int ciphertext_len = len;\n",
    "    EVP_EncryptFinal_ex(ctx, ciphertext + len, &len);\n",
    "    ciphertext_len += len;\n",
    "    EVP_CIPHER_CTX_free(ctx);\n",
    "\n",
    "    printf(\"Encrypted text: \");\n",
    "    for (int i = 0; i < ciphertext_len; i++) {\n",
    "        printf(\"%02x\", ciphertext[i]);\n",
    "    }\n",
    "    printf(\"\\n\");\n",
    "\n",
    "    return 0;\n",
    "}"
   ]
  },
  {
   "cell_type": "markdown",
   "id": "f74208a2",
   "metadata": {
    "slideshow": {
     "slide_type": "subslide"
    }
   },
   "source": [
    "<p align='justify' style='margin: 10px 20px; line-height:1.5; font-family: \"Times New Roman\", Times, serif; font-size:16px; color: purple'>\n",
    "  here's a step-by-step explanation of the code:\n",
    "</p>"
   ]
  },
  {
   "cell_type": "code",
   "execution_count": null,
   "id": "d1bf4b72",
   "metadata": {
    "slideshow": {
     "slide_type": "subslide"
    }
   },
   "outputs": [],
   "source": [
    "#include <stdio.h>\n",
    "#include <stdlib.h>\n",
    "#include <string.h>\n",
    "#include <openssl/evp.h>"
   ]
  },
  {
   "cell_type": "markdown",
   "id": "963b1fe6",
   "metadata": {
    "slideshow": {
     "slide_type": "subslide"
    }
   },
   "source": [
    "<p align='justify' style='margin: 10px 20px; line-height:1.5; font-family: \"Times New Roman\", Times, serif; font-size:16px; color: purple'>\n",
    "  These header files provide access to standard input/output functions, memory allocation functions, string manipulation functions, and the EVP (Envelope Encryption) library, respectively.\n",
    "\n",
    "</p>"
   ]
  },
  {
   "cell_type": "code",
   "execution_count": null,
   "id": "c13a8ac8",
   "metadata": {
    "slideshow": {
     "slide_type": "subslide"
    }
   },
   "outputs": [],
   "source": [
    "int main() {\n",
    "    // code goes here\n",
    "    return 0;\n",
    "}"
   ]
  },
  {
   "cell_type": "markdown",
   "id": "a6f40f74",
   "metadata": {
    "slideshow": {
     "slide_type": "subslide"
    }
   },
   "source": [
    "<p align='justify' style='margin: 10px 20px; line-height:1.5; font-family: \"Times New Roman\", Times, serif; font-size:16px; color: purple'>\n",
    "  This is the entry point of the program where the code execution begins and ends.\n",
    "\n",
    "</p>"
   ]
  },
  {
   "cell_type": "code",
   "execution_count": null,
   "id": "8f0e3fa1",
   "metadata": {
    "slideshow": {
     "slide_type": "subslide"
    }
   },
   "outputs": [],
   "source": [
    "unsigned char key[] = \"mysecretkey\";\n",
    "unsigned char iv[] = \"0123456789012345\";\n",
    "unsigned char plaintext[] = \"Hello, world!\";\n",
    "unsigned char ciphertext[128];"
   ]
  },
  {
   "cell_type": "markdown",
   "id": "4253ea04",
   "metadata": {
    "slideshow": {
     "slide_type": "subslide"
    }
   },
   "source": [
    "<p align='justify' style='margin: 10px 20px; line-height:1.5; font-family: \"Times New Roman\", Times, serif; font-size:16px; color: purple'>\n",
    "  Here, we define the key, initialization vector (IV), plaintext, and ciphertext. The key and IV are used to initialize the encryption algorithm, and the plaintext is the data that we want to encrypt. The ciphertext is the resulting encrypted data.\n",
    "\n",
    "</p>"
   ]
  },
  {
   "cell_type": "code",
   "execution_count": null,
   "id": "3638fb1a",
   "metadata": {
    "slideshow": {
     "slide_type": "subslide"
    }
   },
   "outputs": [],
   "source": [
    "EVP_CIPHER_CTX *ctx = EVP_CIPHER_CTX_new();\n",
    "EVP_EncryptInit_ex(ctx, EVP_aes_128_cbc(), NULL, key, iv);"
   ]
  },
  {
   "cell_type": "markdown",
   "id": "aefa816b",
   "metadata": {
    "slideshow": {
     "slide_type": "subslide"
    }
   },
   "source": [
    "<p align='justify' style='margin: 10px 20px; line-height:1.5; font-family: \"Times New Roman\", Times, serif; font-size:16px; color: purple'>\n",
    "  Here, we create an encryption context using the EVP_CIPHER_CTX_new() function and initialize it using the EVP_EncryptInit_ex() function with the encryption algorithm (AES-128 in CBC mode), the key and the IV.\n",
    "\n",
    "</p>"
   ]
  },
  {
   "cell_type": "code",
   "execution_count": null,
   "id": "01250f10",
   "metadata": {
    "slideshow": {
     "slide_type": "subslide"
    }
   },
   "outputs": [],
   "source": [
    "int len;\n",
    "EVP_EncryptUpdate(ctx, ciphertext, &len, plaintext, strlen(plaintext));\n",
    "int ciphertext_len = len;\n",
    "EVP_EncryptFinal_ex(ctx, ciphertext + len, &len);\n",
    "ciphertext_len += len;"
   ]
  },
  {
   "cell_type": "markdown",
   "id": "4502e4af",
   "metadata": {
    "slideshow": {
     "slide_type": "subslide"
    }
   },
   "source": [
    "<p align='justify' style='margin: 10px 20px; line-height:1.5; font-family: \"Times New Roman\", Times, serif; font-size:16px; color: purple'>\n",
    "  Here, we encrypt the plaintext using the EVP_EncryptUpdate() function to encrypt the plaintext in chunks and the EVP_EncryptFinal_ex() function to finalize the encryption process. The encrypted data is stored in the ciphertext variable.\n",
    "\n",
    "</p>"
   ]
  },
  {
   "cell_type": "code",
   "execution_count": null,
   "id": "ad14b10c",
   "metadata": {
    "slideshow": {
     "slide_type": "subslide"
    }
   },
   "outputs": [],
   "source": [
    "EVP_CIPHER_CTX_free(ctx);"
   ]
  },
  {
   "cell_type": "markdown",
   "id": "2eb612a2",
   "metadata": {
    "slideshow": {
     "slide_type": "subslide"
    }
   },
   "source": [
    "<p align='justify' style='margin: 10px 20px; line-height:1.5; font-family: \"Times New Roman\", Times, serif; font-size:16px; color: purple'>\n",
    "  Here, we free the encryption context using the EVP_CIPHER_CTX_free() function to release any resources used by the context.\n",
    "\n",
    "\n",
    "\n",
    "</p>"
   ]
  },
  {
   "cell_type": "code",
   "execution_count": null,
   "id": "354956a4",
   "metadata": {
    "slideshow": {
     "slide_type": "subslide"
    }
   },
   "outputs": [],
   "source": [
    "printf(\"Encrypted text: \");\n",
    "for (int i = 0; i < ciphertext_len; i++) {\n",
    "    printf(\"%02x\", ciphertext[i]);\n",
    "}\n",
    "printf(\"\\n\");"
   ]
  },
  {
   "cell_type": "markdown",
   "id": "d86b7916",
   "metadata": {
    "slideshow": {
     "slide_type": "subslide"
    }
   },
   "source": [
    "<p align='justify' style='margin: 10px 20px; line-height:1.5; font-family: \"Times New Roman\", Times, serif; font-size:16px; color: purple'>\n",
    "  Here, we print the encrypted data in hexadecimal format using a loop and the printf() function.\n",
    "\n",
    "</p>"
   ]
  },
  {
   "cell_type": "code",
   "execution_count": null,
   "id": "2e29ff57",
   "metadata": {
    "slideshow": {
     "slide_type": "subslide"
    }
   },
   "outputs": [],
   "source": [
    "return 0;\n"
   ]
  },
  {
   "cell_type": "markdown",
   "id": "d05210ed",
   "metadata": {
    "slideshow": {
     "slide_type": "subslide"
    }
   },
   "source": [
    "<p align='justify' style='margin: 10px 20px; line-height:1.5; font-family: \"Times New Roman\", Times, serif; font-size:16px; color: purple'>\n",
    "  Here, we print the encrypted data in hexadecimal format using a loop and the printf() function.<br><br>To compile this code use : gcc -o encryption encryption.c -lssl -lcrypto\n",
    "\n",
    "</p><br>\n",
    "<p align='justify' style='margin: 10px 20px; line-height:1.5; font-family: \"Times New Roman\", Times, serif; font-size:16px; color: red'>\n",
    "  The -lssl and -lcrypto flags are added when compiling the code to link the program with the OpenSSL library, which provides the implementation of the cryptographic algorithms used in the program.<br><br>The -lssl flag specifies that the linker should link with the OpenSSL SSL library, while the -lcrypto flag specifies that the linker should link with the OpenSSL crypto library. These libraries contain the implementation of the SSL and cryptographic functions used in the program, respectively.<br><br>Without these flags, the linker would not know where to find the implementation of the functions used in the program and would generate linker errors.\n",
    "\n",
    "</p><br>\n",
    "<p align='justify' style='margin: 10px 20px; line-height:1.5; font-family: \"Times New Roman\", Times, serif; font-size:16px; color: purple'>\n",
    "  To decrypt after encryption, you need to use the same encryption algorithm, key, and initialization vector (IV) that were used for encryption. Here's an example code that decrypts the ciphertext generated in the previous example:\n",
    "\n",
    "</p>"
   ]
  },
  {
   "cell_type": "code",
   "execution_count": null,
   "id": "9a6c4785",
   "metadata": {
    "slideshow": {
     "slide_type": "subslide"
    }
   },
   "outputs": [],
   "source": [
    "#include <stdio.h>\n",
    "#include <stdlib.h>\n",
    "#include <string.h>\n",
    "#include <openssl/evp.h>\n",
    "\n",
    "int main() {\n",
    "    unsigned char key[] = \"mysecretkey\";\n",
    "    unsigned char iv[] = \"0123456789012345\";\n",
    "    unsigned char ciphertext[] = \"d22ab2d34d934f4b4d0d3e62c6fb1f6c\";\n",
    "    unsigned char decryptedtext[128];\n",
    "\n",
    "    EVP_CIPHER_CTX *ctx = EVP_CIPHER_CTX_new();\n",
    "    EVP_DecryptInit_ex(ctx, EVP_aes_128_cbc(), NULL, key, iv);\n",
    "    int len;\n",
    "    EVP_DecryptUpdate(ctx, decryptedtext, &len, ciphertext, strlen(ciphertext)/2);\n",
    "    int plaintext_len = len;\n",
    "    EVP_DecryptFinal_ex(ctx, decryptedtext + len, &len);\n",
    "    plaintext_len += len;\n",
    "    EVP_CIPHER_CTX_free(ctx);\n",
    "\n",
    "    decryptedtext[plaintext_len] = '\\0';\n",
    "    printf(\"Decrypted text: %s\\n\", decryptedtext);\n",
    "\n",
    "    return 0;\n",
    "}"
   ]
  },
  {
   "cell_type": "markdown",
   "id": "207963a6",
   "metadata": {
    "slideshow": {
     "slide_type": "slide"
    }
   },
   "source": [
    "<h2 style='color:red; font-weight:bold; text-align:center; font-family: \"Times New Roman\", Times, serif; font-size:22px;'>OVERVIEW OF KERNEL MECHANISMS AVAILABLE <br>IN OPERATING SYSTEMS</h2>\n",
    "\n",
    "<p align='justify' style='margin: 10px 20px; line-height:1.5; font-family: \"Times New Roman\", Times, serif; font-size:16px; color : purple'>\n",
    "    \n",
    "    \n",
    "  <ul style='font-family: \"Times New Roman\", Times, serif; font-weight:light; font-size:16px;'>\n",
    "      <li><b>Overview </b></li>\n",
    "      <li><b>Structure of the origin of the exchange (1st part)</b></li>\n",
    "      <li><b>Input/output operations and descriptors</b></li>\n",
    "      <li><b>Memory writing</b></li>\n",
    "      <li><b>Simple pipe communication between 2 processes</b></li>\n",
    "      <li><b>Hands-on activities and practical exercises to apply the concepts learned</b></li>\n",
    "      \n",
    "      \n",
    "    \n",
    "    \n",
    "  </ul>\n",
    "</p><br>\n",
    "<img src=\"Kernel-Linux-5.9.webp\" width=\"150\" height=\"250\" style=\"float: left; margin-right: 20px; margin-left: 20px;\">\n",
    "<p align='justify' style='margin: 10px 20px; line-height:1.5; font-family: \"Times New Roman\", Times, serif; font-size:16px; color: purple'>\n",
    "  Kernel mechanisms are the low-level building blocks of an operating system that allow it to control and manage system resources such as CPU time, memory, I/O operations, and file systems. They are responsible for enforcing security policies, managing system-wide activities, and providing services to applications.\n",
    "\n",
    "</p><br>\n",
    "<p align='justify' style='margin: 10px 20px; line-height:1.5; font-family: \"Times New Roman\", Times, serif; font-size:16px; color: black'>\n",
    "  The purpose of kernel mechanisms is to provide a centralized and unified management of system resources, enforce security policies, and ensure that applications can share resources without interfering with each other. These mechanisms are necessary to create an abstract view of the underlying hardware and provide a stable, consistent, and predictable environment for applications.\n",
    "\n",
    "</p>"
   ]
  },
  {
   "cell_type": "markdown",
   "id": "57fabfef",
   "metadata": {
    "slideshow": {
     "slide_type": "subslide"
    }
   },
   "source": [
    "<h3 style='color:red; font-weight:bold; text-align:center; font-family: \"Times New Roman\", Times, serif; font-size:20px;'>Types of mechanisms available in operating systems</h3>\n",
    "<p align='justify' style='margin: 10px 20px; line-height:1.5; font-family: \"Times New Roman\", Times, serif; font-size:16px; color: purple'>\n",
    "  There are several different types of kernel mechanisms available in operating systems, including process management, memory management, and file system management. These mechanisms are used to control and manage different aspects of the operating system, and are responsible for ensuring that the system runs smoothly and securely. Let us look at them in details \n",
    "\n",
    "</p><br><br>\n",
    "<p align='justify' style='margin: 10px 20px; line-height:1.5; font-family: \"Times New Roman\", Times, serif; font-size:16px; color : purple'>\n",
    "    \n",
    "    \n",
    "  <ul style='font-family: \"Times New Roman\", Times, serif; font-weight:light; font-size:16px;'>\n",
    "      <li><b>Process Management:</b><br><br>The process management mechanism is responsible for creating, scheduling, and terminating processes. It also provides tools for inter-process communication, process synchronization, and process cooperation.</li><br>\n",
    "      <li><b>Memory Management:</b><br><br>The memory management mechanism is responsible for managing the allocation and deallocation of memory. It provides the necessary tools to make sure that memory resources are allocated and freed efficiently, without fragmentation and without memory leaks.</li>\n",
    "      \n",
    "      \n",
    "      \n",
    "    \n",
    "    \n",
    "  </ul>\n",
    "</p>"
   ]
  },
  {
   "cell_type": "markdown",
   "id": "b7999c8f",
   "metadata": {
    "slideshow": {
     "slide_type": "subslide"
    }
   },
   "source": [
    "<p align='justify' style='margin: 10px 20px; line-height:1.5; font-family: \"Times New Roman\", Times, serif; font-size:16px; color : purple'>\n",
    "    \n",
    "    \n",
    "  <ul style='font-family: \"Times New Roman\", Times, serif; font-weight:light; font-size:16px;'>\n",
    "      <li><b>File System Management: </b><br><br>The file system management mechanism is responsible for organizing and managing the file system, including file creation, deletion, and modification. It provides the necessary tools for accessing files and directories, and for managing the allocation of disk space.</li><br>\n",
    "      <li><b>Security:</b><br><br>The security mechanism is responsible for enforcing security policies and for protecting the system from malicious attacks. It provides the necessary tools for authentication, authorization, and encryption.</li><br>\n",
    "      <li><b>Networking:</b><br><br>The networking mechanism is responsible for managing the communication between computers. It provides the necessary tools for configuring and managing network interfaces, as well as for implementing various protocols such as TCP/IP, HTTP, FTP, and others.</li>\n",
    "      \n",
    "      \n",
    "      \n",
    "    \n",
    "    \n",
    "  </ul>\n",
    "</p>"
   ]
  },
  {
   "cell_type": "markdown",
   "id": "4c2eb00c",
   "metadata": {
    "slideshow": {
     "slide_type": "subslide"
    }
   },
   "source": [
    "<h3 style='color:red; font-weight:bold; text-align:center; font-family: \"Times New Roman\", Times, serif; font-size:20px;'>Structure of the origin of the exchange (1st part)</h3>\n",
    "<p align='justify' style='margin: 10px 20px; line-height:1.5; font-family: \"Times New Roman\", Times, serif; font-size:16px; color: purple'>\n",
    "  The structure of the origin of an exchange is a fundamental concept in understanding client/server communication in advanced system administration. In this section, we'll cover three key topics: understanding the different types of exchanges, analyzing the structure of a typical exchange, and identifying key components.\n",
    "</p><br>\n",
    "<p align='justify' style='margin: 10px 20px; line-height:1.5; font-family: \"Times New Roman\", Times, serif; font-size:16px; color: black'>\n",
    "  Exchanges refer to the communication between clients and servers, where a client requests data from a server and the server responds with the requested information. There are different types of exchanges, each with its own structure and purpose. Understanding the structure of exchanges is important for advanced system administration, as it helps to diagnose and resolve communication issues between clients and servers.\n",
    "</p><br>\n",
    "\n",
    "<p align='justify' style='margin: 10px 20px; line-height:1.5; font-family: \"Times New Roman\", Times, serif; font-size:16px; color: purple'>\n",
    "  In order to understand the structure of an exchange, it's important to become familiar with the different types of exchanges that can occur. There are several different types of exchanges, including request-response exchanges, broadcast exchanges, and peer-to-peer exchanges. Each type of exchange has its own unique set of characteristics, and it's important to understand these characteristics in order to be able to effectively communicate between a client and a server.\n",
    "</p>"
   ]
  },
  {
   "cell_type": "markdown",
   "id": "ec997296",
   "metadata": {},
   "source": [
    "<p align='justify' style='margin: 10px 20px; line-height:1.5; font-family: \"Times New Roman\", Times, serif; font-size:16px; color : purple'>\n",
    "    \n",
    "    \n",
    "  <ul style='font-family: \"Times New Roman\", Times, serif; font-weight:light; font-size:16px;'>\n",
    "      <li><b style = \"color: purple\">Request-Response exchanges: </b><br><br>The most common type of exchange is the Request-Response exchange, where a client sends a request to a server and the server sends back a response. This type of exchange is used in many applications, such as HTTP, DNS, and SMTP. In a Request-Response exchange, the client sends a request message that includes the desired information or action, and the server sends back a response message that includes the requested information or a status message indicating the success or failure of the requested action.</li><br>\n",
    "      <li><b style = \"color: purple\">Publish-Subscribe exchanges: </b><br><br>The Publish-Subscribe exchange is a type of exchange that allows multiple clients to subscribe to a particular topic or channel and receive messages when new data is published to that topic or channel. This type of exchange is used in many real-time systems, such as chat applications, social media platforms, and online gaming. In a Publish-Subscribe exchange, clients subscribe to a topic or channel and receive notifications when new data is published. The server acts as a broker, distributing messages to all subscribers.</li><br>\n",
    "      <li><b style = \"color: purple\">Streaming Exchange: </b><br><br>The Streaming exchange is a type of exchange where data is streamed from a server to a client in real-time. This type of exchange is used in many streaming applications, such as video and audio streaming, live events, and gaming. In a Streaming exchange, the server continuously streams data to the client, allowing the client to receive and process the data in real-time.</li>\n",
    "      \n",
    "      \n",
    "      \n",
    "    \n",
    "    \n",
    "  </ul>\n",
    "</p>"
   ]
  },
  {
   "cell_type": "markdown",
   "id": "784a07a9",
   "metadata": {},
   "source": [
    "<h4 style='color:red; font-weight:bold; text-align:center; font-family: \"Times New Roman\", Times, serif; font-size:18px;'>Analyzing the Structure of a Typical Exchange</h4>\n",
    "<p align='justify' style='margin: 10px 20px; line-height:1.5; font-family: \"Times New Roman\", Times, serif; font-size:16px; color: purple'>\n",
    "  In this section, you'll analyze the structure of a typical Request-Response exchange to understand the key components and their role in the communication process.\n",
    "</p><br>\n",
    "\n",
    "<h5 style='color:red; font-weight:bold; text-align:center; font-family: \"Times New Roman\", Times, serif; font-size:18px;'> Request Message</h5>\n",
    "<p align='justify' style='margin: 10px 20px; line-height:1.5; font-family: \"Times New Roman\", Times, serif; font-size:16px; color: purple'>\n",
    "  The Request message is sent by the client to the server and includes the desired information or action. The Request message typically includes the following components:\n",
    "</p>\n",
    "<p align='justify' style='margin: 10px 20px; line-height:1.5; font-family: \"Times New Roman\", Times, serif; font-size:16px; color : purple'>\n",
    "    \n",
    "    \n",
    "  <ul style='font-family: \"Times New Roman\", Times, serif; font-weight:light; font-size:16px;'>\n",
    "      <li><b style = \"color: purple\">Request Method: </b><br><br>The Request Method specifies the type of request being made, such as GET, POST, PUT, DELETE, etc.</li><br>\n",
    "      <li><b style = \"color: purple\">Request URI: </b><br><br>The Request URI specifies the location of the requested resource.</li><br>\n",
    "       <li><b style = \"color: purple\">Request Headers: </b><br><br>Request Headers contain additional information about the request, such as the type of content being requested and the preferred language.</li><br>\n",
    "      <li><b style = \"color: purple\">Request Body: </b><br><br>The Response Body contains the requested information or a message indicating the success or failure of the requested action.</li><br>\n",
    "      \n",
    "      \n",
    "      \n",
    "    \n",
    "    \n",
    "  </ul>\n",
    "</p>"
   ]
  },
  {
   "cell_type": "markdown",
   "id": "a53b0f08",
   "metadata": {},
   "source": [
    "<h5 style='color:red; font-weight:bold; text-align:center; font-family: \"Times New Roman\", Times, serif; font-size:18px;'>  Response Message</h5>\n",
    "<p align='justify' style='margin: 10px 20px; line-height:1.5; font-family: \"Times New Roman\", Times, serif; font-size:16px; color: purple'>\n",
    "  The Response message is sent by the server in response to the Request message and includes the requested information or a status message indicating the success or failure of the requested action. The Response message typically includes the following components:\n",
    "</p>\n",
    "\n",
    "<p align='justify' style='margin: 10px 20px; line-height:1.5; font-family: \"Times New Roman\", Times, serif; font-size:16px; color : purple'>\n",
    "    \n",
    "    \n",
    "  <ul style='font-family: \"Times New Roman\", Times, serif; font-weight:light; font-size:16px;'>\n",
    "      <li><b style = \"color: purple\">Status Code:  </b><br><br>The Status Code indicates the success or failure of the requested action, such as 200 OK, 404 Not Found, 500 Internal Server Error, etc.</li><br>\n",
    "      <li><b style = \"color: purple\">Response Headers: </b><br><br>Response Headers contain additional information about the response, such as the type of content being sent and the date and time of the response.</li><br>\n",
    "       <li><b style = \"color: purple\">Response Body: </b><br><br>RThe Response Body contains the requested information or a message indicating the success or failure of the requested action.</li>\n",
    "      \n",
    "      \n",
    "      \n",
    "    \n",
    "    \n",
    "  </ul>\n",
    "</p>"
   ]
  },
  {
   "cell_type": "markdown",
   "id": "593e6160",
   "metadata": {},
   "source": [
    "<h4 style='color:red; font-weight:bold; text-align:center; font-family: \"Times New Roman\", Times, serif; font-size:18px;'>Identifying Key Components</h4>\n",
    "<p align='justify' style='margin: 10px 20px; line-height:1.5; font-family: \"Times New Roman\", Times, serif; font-size:16px; color: purple'>\n",
    "  In this section, you'll identify the key components of a Request-Response exchange and their role in the communication process.\n",
    "</p>\n",
    "\n",
    "<p align='justify' style='margin: 10px 20px; line-height:1.5; font-family: \"Times New Roman\", Times, serif; font-size:16px; color : purple'>\n",
    "    \n",
    "    \n",
    "  <ul style='font-family: \"Times New Roman\", Times, serif; font-weight:light; font-size:16px;'>\n",
    "      <li><b style = \"color: purple\"> Request Method  </b><br><br>In computer networking, the request method is a key component of the structure of an exchange between a client and a server. The request method is used by the client to send a request to the server indicating the desired action to be performed. There are several commonly used request methods, including:\n",
    "      <ul><br>\n",
    "          <li><b>GET: </b>This method is used to retrieve information from the server. It is typically used to request the contents of a web page or image. The information returned is included in the response message sent back by the server.</li><br>\n",
    "          <li><b>POST:  </b>This method is used to send data to the server. It is commonly used to submit form data, such as a user registration form or a comment on a blog post. The data sent to the server is included in the body of the request message.</li><br>\n",
    "          <li><b>PUT: </b>This method is used to update information on the server. For example, you may use a PUT request to update the contents of a file on the server. The updated information is included in the request message sent by the client.</li><br>\n",
    "          <li><b>DELETE: </b>This method is used to delete information from the server. For example, you may use a DELETE request to delete a file from the server.</li><br>\n",
    "          <li><b>HEAD: </b> This method is similar to GET, but it only returns the headers of the response message, not the body. This method is often used to check the status of a resource on the server without retrieving the entire contents.</li><br>\n",
    "          <li><b>OPTIONS: </b> This method is used to retrieve information about the communication options available for a resource. For example, a client may use an OPTIONS request to determine the methods supported by a particular server.</li><br>\n",
    "          \n",
    "  </ul>\n",
    "      \n",
    "</li>\n",
    "      \n",
    "      \n",
    "      \n",
    "    \n",
    "    \n",
    "  </ul>\n",
    "</p>\n",
    "<p align='justify' style='margin: 10px 20px; line-height:1.5; font-family: \"Times New Roman\", Times, serif; font-size:16px; color: purple'>\n",
    "  In addition to these standard methods, there are also several other methods that may be supported by specific servers, including CONNECT, TRACE, and PATCH. Understanding the request method is important for advanced system administration, as it can impact the security and functionality of your system.\n",
    "</p>"
   ]
  },
  {
   "cell_type": "markdown",
   "id": "678d3123",
   "metadata": {
    "slideshow": {
     "slide_type": "subslide"
    }
   },
   "source": [
    "<h3 style='color:red; font-weight:bold; text-align:center; font-family: \"Times New Roman\", Times, serif; font-size:20px;'>Input/Output Operations and Descriptors</h3>\n",
    "<p align='justify' style='margin: 10px 20px; line-height:1.5; font-family: \"Times New Roman\", Times, serif; font-size:16px; color: purple'>\n",
    "  In communication between clients and servers, input/output operations play a crucial role in transmitting data between the two parties. Input operations are used to read data from a client and send it to the server, while output operations are used to send data from the server to the client. There are different types of input/output operations available, such as blocking and non-blocking operations, synchronous and asynchronous operations, and more. In this section, you'll learn about the different types of input/output operations and how they work in communication between clients and servers.\n",
    "</p><br><br>\n",
    "\n",
    "<p align='justify' style='margin: 10px 20px; line-height:1.5; font-family: \"Times New Roman\", Times, serif; font-size:16px; color : purple'>\n",
    "    \n",
    "    \n",
    "  <ul style='font-family: \"Times New Roman\", Times, serif; font-weight:light; font-size:16px;'>\n",
    "      <li><b style = \"color: purple\">Blocking and Non-Blocking Operations </b><br><br>Blocking operations are those in which a client or server must wait for a response before continuing its execution. For example, if a client sends a request to a server, it must wait for a response from the server before it can send another request. On the other hand, non-blocking operations are those in which a client or server can continue its execution without waiting for a response. Non-blocking operations are faster than blocking operations as they allow for multiple requests to be sent simultaneously.</li><br>\n",
    "      <li><b style = \"color: purple\">Synchronous and Asynchronous Operations </b><br><br>Synchronous operations are those in which a client and server communicate with each other in a sequential manner. This means that the client must wait for a response from the server before it can send another request. Asynchronous operations, on the other hand, are those in which a client and server can communicate with each other in a non-sequential manner. This means that the client can send multiple requests to the server without waiting for a response, and the server can send multiple responses to the client without waiting for a request.</li><br>\n",
    "       <li><b style = \"color: purple\">Input/Output Descriptors </b><br><br>Input/output descriptors are unique identifiers assigned to each input/output operation. They are used to keep track of the status of the operation, such as whether it has completed or is still in progress. Input/output descriptors are also used to control the flow of data between the client and server. For example, they can be used to set the maximum size of the data that can be transmitted in a single input/output operation.</li><br>\n",
    "    \n",
    "    \n",
    "  </ul>\n",
    "</p>\n",
    "<p align='justify' style='margin: 10px 20px; line-height:1.5; font-family: \"Times New Roman\", Times, serif; font-size:16px; color: purple'>\n",
    "  Understanding input/output operations and descriptors is important in communication between clients and servers as they play a crucial role in transmitting data between the two parties. In the next section, we'll delve into the different types of network protocols and how they work in communication between clients and servers.\n",
    "</p>"
   ]
  },
  {
   "cell_type": "markdown",
   "id": "11e558bb",
   "metadata": {},
   "source": [
    "<h3 style='color:red; font-weight:bold; text-align:center; font-family: \"Times New Roman\", Times, serif; font-size:20px;'>Memory Writing</h3>\n",
    "<p align='justify' style='margin: 10px 20px; line-height:1.5; font-family: \"Times New Roman\", Times, serif; font-size:16px; color: purple'>\n",
    "  Memory writing is an important aspect of communication between clients and servers. It refers to the process of storing data into a specific location in the computer's memory. There are two main types of memory writing: sequential memory writing and random memory writing.\n",
    "</p><br>\n",
    "<p align='justify' style='margin: 10px 20px; line-height:1.5; font-family: \"Times New Roman\", Times, serif; font-size:16px; color : purple'>\n",
    "    \n",
    "    \n",
    "  <ul style='font-family: \"Times New Roman\", Times, serif; font-weight:light; font-size:16px;'>\n",
    "      <li><b style = \"color: purple\">Sequential Memory Writing </b><br><br>Sequential memory writing is a process in which data is stored in a sequential manner, meaning that the next piece of data is stored in the next available memory location. This type of memory writing is commonly used in file systems, where data is stored in an orderly manner, making it easy to retrieve.</li><br>\n",
    "      <li><b style = \"color: purple\">Random Memory Writing </b><br><br>Random memory writing, on the other hand, refers to the process of storing data in a random order, meaning that the next piece of data can be stored in any available memory location. This type of memory writing is typically used in databases, where data is stored in a way that allows for efficient retrieval and manipulation.</li><br>\n",
    "    \n",
    "  </ul>\n",
    "</p>\n",
    "<p align='justify' style='margin: 10px 20px; line-height:1.5; font-family: \"Times New Roman\", Times, serif; font-size:16px; color: purple'>\n",
    "  It's important to understand the different types of memory writing and how they work because they play a key role in communication between clients and servers. By using the appropriate type of memory writing, data can be stored and retrieved efficiently, which can impact the overall performance of the system.<br><br><strong>Example</strong>\n",
    "</p>"
   ]
  },
  {
   "cell_type": "code",
   "execution_count": null,
   "id": "42fa1db4",
   "metadata": {},
   "outputs": [],
   "source": [
    "#include <stdio.h>\n",
    "\n",
    "int main() {\n",
    "  int i;\n",
    "  int array[5];\n",
    "  int *ptr;\n",
    "\n",
    "  ptr = &array[0];  // Point to the first element of the array.\n",
    "\n",
    "  for (i = 0; i < 5; i++) {\n",
    "    *ptr = i;  // Write the value of i to the memory location pointed to by ptr.\n",
    "    ptr++;  // Increment the pointer to point to the next memory location.\n",
    "  }\n",
    "\n",
    "  ptr = &array[0];  // Reset the pointer to point to the first element of the array.\n",
    "\n",
    "  for (i = 0; i < 5; i++) {\n",
    "    printf(\"array[%d] = %d\\n\", i, *ptr);  // Read the value stored in memory location pointed to by ptr.\n",
    "    ptr++;  // Increment the pointer to point to the next memory location.\n",
    "  }\n",
    "\n",
    "  return 0;\n",
    "}"
   ]
  },
  {
   "cell_type": "markdown",
   "id": "5e6a9440",
   "metadata": {},
   "source": [
    "<h3 style='color:red; font-weight:bold; text-align:center; font-family: \"Times New Roman\", Times, serif; font-size:20px;'>Simple pipe communication between 2 processes </h3>\n",
    "<p align='justify' style='margin: 10px 20px; line-height:1.5; font-family: \"Times New Roman\", Times, serif; font-size:16px; color: purple'>\n",
    "  Pipes are a mechanism for inter-process communication (IPC) between two or more processes. They provide a way for processes to communicate with each other, sending data from one process to another through a common channel. In this section, we will cover the basics of pipes and how they can be used in a Unix environment.\n",
    "</p><br>\n",
    "\n",
    "<p align='justify' style='margin: 10px 20px; line-height:1.5; font-family: \"Times New Roman\", Times, serif; font-size:16px; color: black'>\n",
    "  A pipe is created using the pipe() system call, which creates two file descriptors: one for reading and one for writing. The write end of the pipe is used to send data from one process to another, while the read end is used to receive data. The data sent through a pipe is typically buffered, meaning that it may be temporarily stored in memory before being transmitted to the receiving process.\n",
    "</p><br>\n",
    "<p align='justify' style='margin: 10px 20px; line-height:1.5; font-family: \"Times New Roman\", Times, serif; font-size:16px; color: black'>\n",
    "  There are two types of pipes: named pipes and unnamed pipes. Named pipes, also known as FIFOs (First In, First Out), are given a unique name in the file system and can be accessed by multiple processes. Unnamed pipes, on the other hand, are used for communication between processes that have a common ancestor.<br><br><strong>Examples of using Pipes below </strong>\n",
    "</p>"
   ]
  },
  {
   "cell_type": "code",
   "execution_count": null,
   "id": "319055f7",
   "metadata": {},
   "outputs": [],
   "source": [
    "#include <unistd.h>\n",
    "#include <stdio.h>\n",
    "#include <stdlib.h>\n",
    "\n",
    "int main(int argc, char *argv[]) {\n",
    "  int fd[2];\n",
    "  pid_t pid;\n",
    "  char buffer[100];\n",
    "\n",
    "  pipe(fd);\n",
    "  pid = fork();\n",
    "  if (pid == 0) {\n",
    "    // Child process\n",
    "    close(fd[0]);\n",
    "    write(fd[1], \"Hello, world!\", 13);\n",
    "    exit(0);\n",
    "  } else {\n",
    "    // Parent process\n",
    "    close(fd[1]);\n",
    "    read(fd[0], buffer, 13);\n",
    "    printf(\"Received message: %s\\n\", buffer);\n",
    "    wait(NULL);\n",
    "  }\n",
    "  return 0;\n",
    "}"
   ]
  },
  {
   "cell_type": "markdown",
   "id": "bb15e032",
   "metadata": {},
   "source": [
    "<p align='justify' style='margin: 10px 20px; line-height:1.5; font-family: \"Times New Roman\", Times, serif; font-size:16px; color: purple'>\n",
    "  In this example, the pipe() system call creates a pipe and returns two file descriptors: fd[0] for reading and fd[1] for writing. The parent process uses the fork() system call to create a child process. The child process writes the message \"Hello, world!\" to the pipe using the write() system call, and the parent process reads the message using the read() system call.\n",
    "</p>"
   ]
  },
  {
   "cell_type": "markdown",
   "id": "ffce0561",
   "metadata": {},
   "source": [
    "<h4 style='color:red; font-weight:bold; text-align:center; font-family: \"Times New Roman\", Times, serif; font-size:18px;'> Creating a Simple Pipe </h4>\n",
    "<p align='justify' style='margin: 10px 20px; line-height:1.5; font-family: \"Times New Roman\", Times, serif; font-size:16px; color: purple'>\n",
    "  we'll dive into the process of creating a simple pipe between two processes in a Unix environment. You'll learn about the system calls used to create a pipe, including pipe() and fork(), and how data is passed between the two processes through the pipe.\n",
    "</p><br>\n",
    "<p align='justify' style='margin: 10px 20px; line-height:1.5; font-family: \"Times New Roman\", Times, serif; font-size:16px; color: black'>\n",
    "  A pipe is a special type of file descriptor that allows two processes to communicate with each other. The pipe acts as a communication channel, allowing one process to write data to it and the other process to read the data. The data is transferred between the processes in a first-in, first-out (FIFO) manner. <br><br><b> Here is an example of how to create a simple pipe </b>\n",
    "</p>"
   ]
  },
  {
   "cell_type": "code",
   "execution_count": null,
   "id": "17bcabb4",
   "metadata": {},
   "outputs": [],
   "source": [
    "#include <stdio.h>\n",
    "#include <unistd.h>\n",
    "#include <sys/wait.h>\n",
    "\n",
    "int main()\n",
    "{\n",
    "    int fd[2];\n",
    "    int pid;\n",
    "    char buffer[20];\n",
    "    pipe(fd);\n",
    "    pid = fork();\n",
    "    if (pid == 0) {\n",
    "        // child process\n",
    "        close(fd[0]);\n",
    "        write(fd[1], \"Hello, world!\", 13);\n",
    "        close(fd[1]);\n",
    "    } else {\n",
    "        // parent process\n",
    "        close(fd[1]);\n",
    "        read(fd[0], buffer, 20);\n",
    "        printf(\"Received message: %s\\n\", buffer);\n",
    "        close(fd[0]);\n",
    "        wait(NULL);\n",
    "    }\n",
    "    return 0;\n",
    "}"
   ]
  },
  {
   "cell_type": "markdown",
   "id": "81360015",
   "metadata": {},
   "source": [
    "<p align='justify' style='margin: 10px 20px; line-height:1.5; font-family: \"Times New Roman\", Times, serif; font-size:16px; color: black'>\n",
    "  In the example above, the parent process creates a pipe using the pipe() function and forks a new process using the fork() function. The child process writes a message to the pipe using the write() function, and the parent process reads the message from the pipe using the read() function. The close() function is used to close the file descriptors that are no longer needed.\n",
    "</p><br>\n",
    "<p align='justify' style='margin: 10px 20px; line-height:1.5; font-family: \"Times New Roman\", Times, serif; font-size:16px; color: purple'>\n",
    "  With this example, you should have a basic understanding of how to create a simple pipe between two processes in a Unix environment. The next step is to experiment with different types of pipes and explore the different ways that they can be used to communicate between processes.\n",
    "</p>"
   ]
  },
  {
   "cell_type": "markdown",
   "id": "77eb211f",
   "metadata": {},
   "source": [
    "<h4 style='color:red; font-weight:bold; text-align:center; font-family: \"Times New Roman\", Times, serif; font-size:18px;'> Reading and Writing to a Pipe </h4>\n",
    "<p align='justify' style='margin: 10px 20px; line-height:1.5; font-family: \"Times New Roman\", Times, serif; font-size:16px; color: purple'>\n",
    "  When a pipe is created, two file descriptors are returned: one for reading from the pipe and one for writing to the pipe. To write data to a pipe, the write system call is used. The write system call takes three arguments: the file descriptor for the pipe, a pointer to the buffer that holds the data to be written, and the number of bytes to be written.\n",
    "</p><br>\n",
    "<p align='justify' style='margin: 10px 20px; line-height:1.5; font-family: \"Times New Roman\", Times, serif; font-size:16px; color: black'>\n",
    "  To read data from a pipe, the read system call is used. The read system call takes three arguments: the file descriptor for the pipe, a pointer to the buffer that will hold the data read from the pipe, and the number of bytes to be read. The read system call blocks until there is data available to be read or until the pipe is closed.\n",
    "</p><br>\n",
    "<p align='justify' style='margin: 10px 20px; line-height:1.5; font-family: \"Times New Roman\", Times, serif; font-size:16px; color: purple'>\n",
    "    <strong>Here's an example of reading and writing to a pipe</strong>\n",
    "</p>"
   ]
  },
  {
   "cell_type": "code",
   "execution_count": null,
   "id": "bd1be63a",
   "metadata": {},
   "outputs": [],
   "source": [
    "#include <unistd.h>\n",
    "#include <stdio.h>\n",
    "#include <string.h>\n",
    "\n",
    "int main() {\n",
    "    int pipefds[2];\n",
    "    pid_t pid;\n",
    "    char buf[100];\n",
    "    \n",
    "    // Creating the pipe\n",
    "    if (pipe(pipefds) == -1) {\n",
    "        printf(\"Error creating pipe\\n\");\n",
    "        return 1;\n",
    "    }\n",
    "    \n",
    "    pid = fork();\n",
    "    \n",
    "    if (pid == -1) {\n",
    "        printf(\"Error forking process\\n\");\n",
    "        return 1;\n",
    "    } else if (pid == 0) {\n",
    "        // Child process\n",
    "        close(pipefds[1]); // Close the write end of the pipe\n",
    "        read(pipefds[0], buf, 100);\n",
    "        printf(\"Child process received: %s\\n\", buf);\n",
    "    } else {\n",
    "        // Parent process\n",
    "        close(pipefds[0]); // Close the read end of the pipe\n",
    "        strcpy(buf, \"Hello from parent\");\n",
    "        write(pipefds[1], buf, strlen(buf) + 1);\n",
    "    }\n",
    "    \n",
    "    return 0;\n",
    "}"
   ]
  },
  {
   "cell_type": "markdown",
   "id": "73dfbf17",
   "metadata": {},
   "source": [
    "<p align='justify' style='margin: 10px 20px; line-height:1.5; font-family: \"Times New Roman\", Times, serif; font-size:16px; color: purple'>\n",
    "  In this example, we first create a pipe using the pipe system call. Then, we fork the process to create a child process. In the child process, we close the write end of the pipe and read data from the pipe using the read system call. In the parent process, we close the read end of the pipe and write data to the pipe using the write system call. When the child process reads data from the pipe, it blocks until data is available to be read. Once the data is written to the pipe by the parent process, it is read by the child process and printed to the screen.\n",
    "</p>"
   ]
  },
  {
   "cell_type": "markdown",
   "id": "00ff6750",
   "metadata": {},
   "source": [
    "<h4 style='color:red; font-weight:bold; text-align:center; font-family: \"Times New Roman\", Times, serif; font-size:18px;'> Using Pipes for Interprocess Communication</h4>\n",
    "<p align='justify' style='margin: 10px 20px; line-height:1.5; font-family: \"Times New Roman\", Times, serif; font-size:16px; color : purple'>\n",
    "    Pipes are an efficient and simple method for interprocess communication (IPC) in a Unix environment. In this section, we'll explore the various ways in which pipes can be used for IPC.\n",
    "\n",
    "  <ul style='font-family: \"Times New Roman\", Times, serif; font-weight:light; font-size:16px;'>\n",
    "      <li><b style = \"color: purple\">Data transfer between processes</b><br><br>Pipes can be used for transferring data from one process to another. For example, consider a parent process that wants to send data to a child process. The parent process can write data to the pipe, and the child process can read the data from the pipe. In this way, the two processes can communicate with each other through the pipe.\n",
    "\n",
    "</li><br><br>\n",
    "      <li><b style = \"color: purple\">Process synchronization: </b><br><br>Pipes can also be used for process synchronization. For example, consider two processes that need to work together to complete a task. The first process can write data to the pipe to indicate that it is ready to start, and the second process can read the data from the pipe and start working. In this way, the two processes can coordinate their actions and work together efficiently.</li><br><br><strong> Example: Using a Pipe for Interprocess Communication</strong><br><br> Let's consider a simple example of using a pipe for IPC. In this example, we'll create two processes - a parent process and a child process. The parent process will write a message to the pipe, and the child process will read the message from the pipe and print it to the screen.\n",
    "    \n",
    "  </ul>\n",
    "</p>"
   ]
  },
  {
   "cell_type": "code",
   "execution_count": null,
   "id": "3180730e",
   "metadata": {},
   "outputs": [],
   "source": [
    "#include <stdio.h>\n",
    "#include <unistd.h>\n",
    "#include <sys/wait.h>\n",
    "\n",
    "int main()\n",
    "{\n",
    "    int fd[2];\n",
    "    pid_t pid;\n",
    "    char buf[100];\n",
    "\n",
    "    if (pipe(fd) == -1) {\n",
    "        perror(\"pipe\");\n",
    "        return 1;\n",
    "    }\n",
    "\n",
    "    pid = fork();\n",
    "    if (pid == -1) {\n",
    "        perror(\"fork\");\n",
    "        return 1;\n",
    "    }\n",
    "\n",
    "    if (pid == 0) {\n",
    "        close(fd[1]);\n",
    "        read(fd[0], buf, sizeof(buf));\n",
    "        printf(\"Child process: %s\\n\", buf);\n",
    "    } else {\n",
    "        close(fd[0]);\n",
    "        write(fd[1], \"Hello from the parent process!\", sizeof(\"Hello from the parent process!\"));\n",
    "        wait(NULL);\n",
    "    }\n",
    "\n",
    "    return 0;\n",
    "}"
   ]
  },
  {
   "cell_type": "markdown",
   "id": "e47289ba",
   "metadata": {},
   "source": [
    "<p align='justify' style='margin: 10px 20px; line-height:1.5; font-family: \"Times New Roman\", Times, serif; font-size:16px; color: purple'>\n",
    "  In this example, we first create a pipe using the pipe system call. The pipe system call creates two file descriptors, one for reading from the pipe and one for writing to the pipe. We then create a child process using the fork system call.\n",
    "\n",
    "</p><br>\n",
    "<p align='justify' style='margin: 10px 20px; line-height:1.5; font-family: \"Times New Roman\", Times, serif; font-size:16px; color: black'>\n",
    "  If the process is the child process, it closes the write end of the pipe and reads the data from the pipe using the read system call. The child process then prints the message to the screen.\n",
    "\n",
    "</p><br>\n",
    "<p align='justify' style='margin: 10px 20px; line-height:1.5; font-family: \"Times New Roman\", Times, serif; font-size:16px; color: black'>\n",
    "  If the process is the parent process, it closes the read end of the pipe and writes a message to the pipe using the write system call. The parent process then waits for the child process to finish using the wait system call.\n",
    "\n",
    "</p><br>\n",
    "<p align='justify' style='margin: 10px 20px; line-height:1.5; font-family: \"Times New Roman\", Times, serif; font-size:16px; color: purple'>\n",
    "  In this way, the two processes can communicate with each other through the pipe, and the child process can receive the message from the parent process and print it to the screen.\n",
    "\n",
    "</p>"
   ]
  },
  {
   "cell_type": "markdown",
   "id": "6a7c17c4",
   "metadata": {},
   "source": [
    "<h4 style='color:red; font-weight:bold; text-align:center; font-family: \"Times New Roman\", Times, serif; font-size:18px;'> Limitations and Considerations for Pipes</h4>\n",
    "<p align='justify' style='margin: 10px 20px; line-height:1.5; font-family: \"Times New Roman\", Times, serif; font-size:16px; color : purple'>\n",
    "     When using pipes for interprocess communication in a Unix environment, there are several limitations and considerations to keep in mind. In this section, we'll discuss the buffer size of pipes, synchronization issues that may arise, and how to handle errors and exceptions.\n",
    "\n",
    "  <ul style='font-family: \"Times New Roman\", Times, serif; font-weight:light; font-size:16px;'>\n",
    "      <li><b style = \"color: purple\">Buffer Size:</b><br><br>One of the main limitations of pipes is their buffer size. Pipes have a finite buffer size and can hold only a limited amount of data. This means that if one process writes too much data to the pipe, the other process may not be able to read all the data. To avoid this, it's important to use synchronization mechanisms like semaphores to ensure that data is being written to the pipe and read from the pipe at a controlled rate.\n",
    "\n",
    "</li><br><br>\n",
    "      <li><b style = \"color: purple\">Synchronization:</b><br><br>Another consideration when using pipes for interprocess communication is synchronization. Pipes are unidirectional, which means that data can only flow in one direction. This can lead to synchronization issues if multiple processes are trying to write to the same pipe at the same time. To avoid this, it's important to use synchronization mechanisms like semaphores or mutexes to ensure that only one process is writing to the pipe at a time.\n",
    "\n",
    "</li><br><br>\n",
    "      <li><b style = \"color: purple\">Errors and Exceptions:</b><br><br>When using pipes, it's also important to handle errors and exceptions properly. For example, if the pipe is full and one process is trying to write to it, the write system call may fail with an error code indicating that the pipe is full. Similarly, if the pipe is empty and one process is trying to read from it, the read system call may fail with an error code indicating that the pipe is empty. To handle these situations, it's important to use error-handling mechanisms like try-catch blocks to catch exceptions and handle errors appropriately.\n",
    "\n",
    "</li>\n",
    "    \n",
    "  </ul>\n",
    "</p><br>\n",
    "<p align='justify' style='margin: 10px 20px; line-height:1.5; font-family: \"Times New Roman\", Times, serif; font-size:16px; color: purple'>\n",
    "  Pipes are a useful tool for interprocess communication in a Unix environment, but it's important to keep in mind the limitations and considerations discussed in this section to ensure that pipes are used correctly and effectively.\n",
    "\n",
    "</p>"
   ]
  },
  {
   "cell_type": "markdown",
   "id": "59daa7d0",
   "metadata": {},
   "source": [
    "<h3 style='color:red; font-weight:bold; text-align:center; font-family: \"Times New Roman\", Times, serif; font-size:20px;'>Hands-on Activities </h3>\n",
    "<p align='justify' style='margin: 10px 20px; line-height:1.5; font-family: \"Times New Roman\", Times, serif; font-size:16px; color: purple'>\n",
    "  You'll be able to apply what you learned in the previous chapters through practical exercises. You'll start with the basic low-level operations of fork(), pipe(), and dup(). These operations are fundamental to interprocess communication and will provide you with a solid foundation for more advanced topics. Through these hands-on activities, you'll understand how these operations work, their usage, and their respective functions. This will help you to understand the communication between processes better and enable you to write effective code for interprocess communication.<br><br><strong style = \"color: black\">Here's a guided hands-on activity<br><br><strong>Basic Low-Level Operations:</strong></strong><br><br> Write a program that uses the fork() system call to create a child process\n",
    "</p>"
   ]
  },
  {
   "cell_type": "code",
   "execution_count": null,
   "id": "aa84564e",
   "metadata": {},
   "outputs": [],
   "source": [
    "#include <unistd.h>\n",
    "#include <stdio.h>\n",
    "\n",
    "int main() {\n",
    "   int pid = fork();\n",
    "   if (pid == 0) {\n",
    "      printf(\"Child process, pid = %d\\n\", getpid());\n",
    "   } else {\n",
    "      printf(\"Parent process, pid = %d\\n\", getpid());\n",
    "   }\n",
    "   return 0;\n",
    "}"
   ]
  },
  {
   "cell_type": "markdown",
   "id": "5a3f0c37",
   "metadata": {},
   "source": [
    "<p align='justify' style='margin: 10px 20px; line-height:1.5; font-family: \"Times New Roman\", Times, serif; font-size:16px; color: purple'>\n",
    "  Q.2. Compile and run the program. What is the output? What is the difference between the output of the parent and child processes?<br><br><strong style = \"color: black\">Task 2: Using pipe()</strong><br><br> Write a program that creates a pipe and uses it to communicate between a parent and child process.\n",
    "</p>"
   ]
  },
  {
   "cell_type": "code",
   "execution_count": null,
   "id": "effe9095",
   "metadata": {},
   "outputs": [],
   "source": [
    "#include <unistd.h>\n",
    "#include <stdio.h>\n",
    "#include <string.h>\n",
    "\n",
    "#define BUFFER_SIZE 25\n",
    "#define READ_END 0\n",
    "#define WRITE_END 1\n",
    "\n",
    "int main() {\n",
    "   int fd[2];\n",
    "   char write_msg[BUFFER_SIZE] = \"Hello, Child!\";\n",
    "   char read_msg[BUFFER_SIZE];\n",
    "   pid_t pid;\n",
    "\n",
    "   if (pipe(fd) == -1) {\n",
    "      perror(\"pipe\");\n",
    "      return 1;\n",
    "   }\n",
    "\n",
    "   pid = fork();\n",
    "   if (pid == -1) {\n",
    "      perror(\"fork\");\n",
    "      return 1;\n",
    "   }\n",
    "\n",
    "   if (pid == 0) {\n",
    "      // Child process\n",
    "      close(fd[WRITE_END]);\n",
    "      read(fd[READ_END], read_msg, BUFFER_SIZE);\n",
    "      printf(\"Child process, received message: %s\\n\", read_msg);\n",
    "   } else {\n",
    "      // Parent process\n",
    "      close(fd[READ_END]);\n",
    "      write(fd[WRITE_END], write_msg, strlen(write_msg) + 1);\n",
    "      printf(\"Parent process, sent message: %s\\n\", write_msg);\n",
    "   }\n",
    "\n",
    "   return 0;\n",
    "}"
   ]
  },
  {
   "cell_type": "markdown",
   "id": "01fe3daa",
   "metadata": {},
   "source": [
    "<p align='justify' style='margin: 10px 20px; line-height:1.5; font-family: \"Times New Roman\", Times, serif; font-size:16px; color: purple'>\n",
    "  Compile and run the program. What is the output? What is the difference between the output of the parent and child processes?<br><br><strong style = \"color: black\">Task 3: Using dup()</strong><br><br> Write a program that creates a pipe and uses the dup() function to duplicate the write end of the pipe. This task will require you to use the dup() function to duplicate the write end of the pipe and use it to write data to the pipe. Here's the code to accomplish this task:\n",
    "</p>"
   ]
  },
  {
   "cell_type": "code",
   "execution_count": null,
   "id": "ab3b931f",
   "metadata": {},
   "outputs": [],
   "source": [
    "#include <stdio.h>\n",
    "#include <unistd.h>\n",
    "#include <string.h>\n",
    "\n",
    "int main()\n",
    "{\n",
    "    int pipe_fds[2];\n",
    "    int ret;\n",
    "    char buf[1024];\n",
    "\n",
    "    ret = pipe(pipe_fds);\n",
    "    if (ret == -1) {\n",
    "        perror(\"pipe\");\n",
    "        return 1;\n",
    "    }\n",
    "\n",
    "    int duplicate = dup(pipe_fds[1]);\n",
    "    if (duplicate == -1) {\n",
    "        perror(\"dup\");\n",
    "        return 1;\n",
    "    }\n",
    "\n",
    "    write(pipe_fds[1], \"Hello World\\n\", strlen(\"Hello World\\n\"));\n",
    "    write(duplicate, \"Goodbye World\\n\", strlen(\"Goodbye World\\n\"));\n",
    "\n",
    "    read(pipe_fds[0], buf, sizeof(buf));\n",
    "    printf(\"Read from pipe: %s\\n\", buf);\n",
    "\n",
    "    return 0;\n",
    "}"
   ]
  },
  {
   "cell_type": "markdown",
   "id": "a6750e01",
   "metadata": {},
   "source": [
    "<p align='justify' style='margin: 10px 20px; line-height:1.5; font-family: \"Times New Roman\", Times, serif; font-size:16px; color: purple'>\n",
    "  In the code above, we first create a pipe using the pipe() function. The pipe() function returns two file descriptors, pipe_fds[0] for reading and pipe_fds[1] for writing. Then, we use the dup() function to duplicate the write end of the pipe, which is represented by pipe_fds[1]. <br><br> Next, we use the write() function to write \"Hello World\\n\" and \"Goodbye World\\n\" to the pipe using both the original file descriptor pipe_fds[1] and the duplicated file descriptor duplicate.<br><br><strong style = \"color: black\">Parent/Child Monologue</strong><br><br><strong>Task 1:</strong> Write a program that creates a child process using fork(). The parent process should write a message to the child process using a pipe. The child process should read the message from the pipe and print it to the screen.\n",
    "</p>"
   ]
  },
  {
   "cell_type": "code",
   "execution_count": null,
   "id": "9d773bdc",
   "metadata": {},
   "outputs": [],
   "source": [
    "#include <stdio.h>\n",
    "#include <stdlib.h>\n",
    "#include <unistd.h>\n",
    "#include <sys/wait.h>\n",
    "#include <string.h>\n",
    "\n",
    "#define MESSAGE_SIZE 100\n",
    "\n",
    "int main(void) {\n",
    "    int fd[2];\n",
    "    pid_t pid;\n",
    "    char message[MESSAGE_SIZE];\n",
    "    \n",
    "    if (pipe(fd) == -1) {\n",
    "        perror(\"Pipe creation failed\");\n",
    "        exit(1);\n",
    "    }\n",
    "    \n",
    "    pid = fork();\n",
    "    if (pid == -1) {\n",
    "        perror(\"Fork failed\");\n",
    "        exit(1);\n",
    "    }\n",
    "    \n",
    "    if (pid == 0) {\n",
    "        /* Child process */\n",
    "        close(fd[1]);\n",
    "        read(fd[0], message, MESSAGE_SIZE);\n",
    "        printf(\"Child process received message: %s\\n\", message);\n",
    "        close(fd[0]);\n",
    "    } else {\n",
    "        /* Parent process */\n",
    "        close(fd[0]);\n",
    "        strcpy(message, \"Hello from parent process!\");\n",
    "        write(fd[1], message, strlen(message) + 1);\n",
    "        close(fd[1]);\n",
    "        wait(NULL);\n",
    "    }\n",
    "    \n",
    "    return 0;\n",
    "}"
   ]
  },
  {
   "cell_type": "markdown",
   "id": "5b04006f",
   "metadata": {},
   "source": [
    "<p align='justify' style='margin: 10px 20px; line-height:1.5; font-family: \"Times New Roman\", Times, serif; font-size:16px; color: purple'>\n",
    "  In this program, we use the pipe() function to create a pipe, and store the file descriptors of the read and write ends of the pipe in the fd array. We then use the fork() function to create a child process. In the child process, we close the write end of the pipe and use the read() function to read the message from the read end of the pipe. We then print the message to the screen. In the parent process, we close the read end of the pipe and use the write() function to write the message to the write end of the pipe. We then close the write end of the pipe and wait for the child process to finish. <br><br><strong style = \"color: black\"> Task 2</strong><br><br>Write a program that creates two child processes using fork(). The first child process should write a message to the second child process using a pipe. The second child process should read the message from the pipe and print it to the screen.\n",
    "</p>"
   ]
  },
  {
   "cell_type": "code",
   "execution_count": null,
   "id": "1de9ba3f",
   "metadata": {},
   "outputs": [],
   "source": [
    "#include <stdio.h>\n",
    "#include <unistd.h>\n",
    "#include <sys/wait.h>\n",
    "\n",
    "int main() {\n",
    "    int pipefd[2];\n",
    "    int ret = pipe(pipefd);\n",
    "    if (ret == -1) {\n",
    "        perror(\"pipe\");\n",
    "        return 1;\n",
    "    }\n",
    "\n",
    "    pid_t child_1 = fork();\n",
    "    if (child_1 == -1) {\n",
    "        perror(\"fork\");\n",
    "        return 1;\n",
    "    }\n",
    "\n",
    "    if (child_1 == 0) {\n",
    "        // First child process\n",
    "        char message[] = \"Hello, second child!\";\n",
    "        close(pipefd[0]); // Close the read end of the pipe\n",
    "        write(pipefd[1], message, sizeof(message));\n",
    "        close(pipefd[1]); // Close the write end of the pipe\n",
    "        return 0;\n",
    "    }\n",
    "\n",
    "    pid_t child_2 = fork();\n",
    "    if (child_2 == -1) {\n",
    "        perror(\"fork\");\n",
    "        return 1;\n",
    "    }\n",
    "\n",
    "    if (child_2 == 0) {\n",
    "        // Second child process\n",
    "        char message[100];\n",
    "        close(pipefd[1]); // Close the write end of the pipe\n",
    "        read(pipefd[0], message, sizeof(message));\n",
    "        printf(\"Second child received message: %s\\n\", message);\n",
    "        close(pipefd[0]); // Close the read end of the pipe\n",
    "        return 0;\n",
    "    }\n",
    "\n",
    "    // Parent process\n",
    "    close(pipefd[0]);\n",
    "    close(pipefd[1]);\n",
    "    wait(NULL);\n",
    "    wait(NULL);\n",
    "    return 0;\n",
    "}"
   ]
  },
  {
   "cell_type": "markdown",
   "id": "870e7847",
   "metadata": {},
   "source": [
    "<p align='justify' style='margin: 10px 20px; line-height:1.5; font-family: \"Times New Roman\", Times, serif; font-size:16px; color: purple'>\n",
    "  The program starts by creating a pipe using the pipe() function. The pipefd array is used to store the file descriptors for the read and write ends of the pipe. The first child process is created using the fork() function. In the first child process, the message \"Hello, second child!\" is written to the write end of the pipe. The second child process is created using the fork() function. In the second child process, the message is read from the read end of the pipe and printed to the screen. The parent process closes both the read and write ends of the pipe and waits for both child processes to finish.\n",
    "</p>"
   ]
  },
  {
   "cell_type": "markdown",
   "id": "217645e5",
   "metadata": {},
   "source": [
    "<h3 style='color:red; font-weight:bold; text-align:center; font-family: \"Times New Roman\", Times, serif; font-size:20px;'>Communication between multiple processes from different families using named pipes </h3>\n",
    "<img src=\"samuel-sianipar-scUBcasSvbE-unsplash.webp\" width=\"150\" height=\"250\" style=\"float: left; margin-right: 20px; margin-left: 20px;\">\n",
    "<p align='justify' style='margin: 10px 20px; line-height:1.5; font-family: \"Times New Roman\", Times, serif; font-size:16px; color: purple'>\n",
    "  Communication between multiple processes refers to the exchange of data between two or more separate processes, regardless of whether they belong to the same family or not. In the context of operating systems, inter-process communication (IPC) is used to facilitate this data exchange between processes. One of the ways to achieve IPC is through the use of named pipes.\n",
    "</p><br>\n",
    "<p align='justify' style='margin: 10px 20px; line-height:1.5; font-family: \"Times New Roman\", Times, serif; font-size:16px; color: black'>\n",
    "  Named pipes, also known as FIFO (First In First Out) pipes, provide a mechanism for inter-process communication between processes from different families. Unlike anonymous pipes, named pipes have a well-defined name in the file system, allowing them to be opened by any process that knows the name of the pipe. In this way, multiple processes can communicate with each other by reading and writing to the named pipe.<br><br><strong style = \"color:purple\">There are two main types of named pipes:</strong>\n",
    "</p><br><br>\n",
    "<p align='justify' style='margin: 10px 20px; line-height:1.5; font-family: \"Times New Roman\", Times, serif; font-size:16px; color : purple'>\n",
    "     \n",
    "  <ul style='font-family: \"Times New Roman\", Times, serif; font-weight:light; font-size:16px;'>\n",
    "      <li><b style = \"color: purple\">Stream-oriented named pipes: </b> These pipes operate in a full-duplex mode, allowing data to be transmitted in both directions simultaneously.\n",
    "\n",
    "</li>\n",
    "      <li><b style = \"color: purple\">Stream-oriented named pipes: </b>These pipes operate in a full-duplex mode, allowing data to be transmitted in both directions simultaneously.\n",
    "\n",
    "</li>\n",
    "    \n",
    "  </ul>\n",
    "</p>"
   ]
  },
  {
   "cell_type": "markdown",
   "id": "1178b429",
   "metadata": {},
   "source": [
    "<p align='justify' style='margin: 10px 20px; line-height:1.5; font-family: \"Times New Roman\", Times, serif; font-size:16px; color : purple'>\n",
    "    <b>The key components of a named pipe are:</b>\n",
    "  <ul style='font-family: \"Times New Roman\", Times, serif; font-weight:light; font-size:16px;'>\n",
    "      <li><b style = \"color: purple\">SPipe creation: </b> A process creates a named pipe using the mkfifo() system call, providing a unique name for the pipe in the file system.\n",
    "\n",
    "</li><br>\n",
    "      <li><b style = \"color: purple\">Pipe opening: </b>These pipes operate in a full-duplex mode, allowing data to be transmitted in both directions simultaneously.\n",
    "\n",
    "</li><br>\n",
    "      <li><b style = \"color: purple\">Reading and writing: </b>Processes can read and write data to the named pipe using the read() and write() system calls respectively.<br><br><strong>Here's a simple example to illustrate the concept of named pipes:</strong>\n",
    "\n",
    "</li>\n",
    "    \n",
    "  </ul>\n",
    "</p>"
   ]
  },
  {
   "cell_type": "code",
   "execution_count": null,
   "id": "d8e02ef3",
   "metadata": {},
   "outputs": [],
   "source": [
    "#include <stdio.h>\n",
    "#include <unistd.h>\n",
    "#include <sys/types.h>\n",
    "#include <sys/stat.h>\n",
    "#include <fcntl.h>\n",
    "\n",
    "int main()\n",
    "{\n",
    "    int fd;\n",
    "    char *myfifo = \"/tmp/myfifo\";\n",
    "\n",
    "    /* Create the named pipe */\n",
    "    mkfifo(myfifo, 0666);\n",
    "\n",
    "    /* Open the named pipe */\n",
    "    fd = open(myfifo, O_RDONLY);\n",
    "\n",
    "    /* Read data from the named pipe */\n",
    "    char buffer[100];\n",
    "    read(fd, buffer, 100);\n",
    "    printf(\"Received: %s\\n\", buffer);\n",
    "\n",
    "    /* Close the named pipe */\n",
    "    close(fd);\n",
    "\n",
    "    return 0;\n",
    "}"
   ]
  },
  {
   "cell_type": "markdown",
   "id": "27c07b44",
   "metadata": {},
   "source": [
    "<p align='justify' style='margin: 10px 20px; line-height:1.5; font-family: \"Times New Roman\", Times, serif; font-size:16px; color: black'>\n",
    "  In this example, the process creates a named pipe using the mkfifo() system call and provides a name for the pipe in the file system. Another process opens the named pipe using the open() system call and reads data from the named pipe using the read() system call.\n",
    "</p><br>\n",
    "<p align='justify' style='margin: 10px 20px; line-height:1.5; font-family: \"Times New Roman\", Times, serif; font-size:16px; color: purple'>\n",
    "  It's worth noting that named pipes are typically used for IPC between processes that are unrelated and may run on different machines. They are often used as a simple form of IPC for small amounts of data, such as in shell scripts. However, for more complex IPC, other mechanisms such as sockets or shared memory may be more appropriate.\n",
    "</p>"
   ]
  },
  {
   "cell_type": "markdown",
   "id": "448c6a08",
   "metadata": {},
   "source": [
    "<h3 style='color:red; font-weight:bold; text-align:center; font-family: \"Times New Roman\", Times, serif; font-size:20px;'>Dialog between 2 processes </h3>\n",
    "<p align='justify' style='margin: 10px 20px; line-height:1.5; font-family: \"Times New Roman\", Times, serif; font-size:16px; color: black'>\n",
    "  Inter-Process Communication (IPC) is the mechanism that allows multiple processes to communicate with each other. One form of IPC is the dialog between two processes, where two processes can exchange data or information with each other.\n",
    "</p><br><br>\n",
    "<p align='justify' style='margin: 10px 20px; line-height:1.5; font-family: \"Times New Roman\", Times, serif; font-size:16px; color : purple'>\n",
    "    There are two main types of dialog between two processes:\n",
    "  <ul style='font-family: \"Times New Roman\", Times, serif; font-weight:light; font-size:16px;'>\n",
    "      <li><b style = \"color: purple\">Stream-oriented dialog </b> <br><br>In this type of dialog, the data is transmitted in a continuous flow, much like a stream. An example of stream-oriented dialog is the communication between a process and a file.\n",
    "\n",
    "</li><br><br>\n",
    "      <li><b style = \"color: purple\">Message-oriented dialog </b> <br><br>In this type of dialog, the data is transmitted in the form of discrete messages. An example of message-oriented dialog is the communication between two processes using a message queue.\n",
    "\n",
    "</li>\n",
    "    \n",
    "  </ul>\n",
    "</p><br>\n",
    "<p align='justify' style='margin: 10px 20px; line-height:1.5; font-family: \"Times New Roman\", Times, serif; font-size:16px; color: purple'>\n",
    "  To facilitate dialog between two processes, the operating system provides various communication mechanisms such as pipes, sockets, and message queues. These communication mechanisms are used to transmit data between processes.\n",
    "</p>"
   ]
  },
  {
   "cell_type": "markdown",
   "id": "d0a3e3ac",
   "metadata": {},
   "source": [
    "<p align='justify' style='margin: 10px 20px; line-height:1.5; font-family: \"Times New Roman\", Times, serif; font-size:16px; color: black'>\n",
    "  Each communication mechanism has its own advantages and disadvantages. For example, pipes are simple and efficient, but they can only be used between processes that have a common parent. Sockets, on the other hand, are more flexible and can be used for communication between processes running on different machines.\n",
    "</p><br>\n",
    "<p align='justify' style='margin: 10px 20px; line-height:1.5; font-family: \"Times New Roman\", Times, serif; font-size:16px; color : purple'>\n",
    "    The key components of a dialog between two processes include the following:\n",
    "  <ul style='font-family: \"Times New Roman\", Times, serif; font-weight:light; font-size:16px;'>\n",
    "      <li><b style = \"color: purple\">Sender process: </b> <br><br> This process is responsible for sending data to the receiver process.\n",
    "\n",
    "</li><br><br>\n",
    "      <li><b style = \"color: purple\">Receiver process: </b> <br><br>This process is responsible for receiving data from the sender process.\n",
    "\n",
    "</li><br><br>\n",
    "      <li><b style = \"color: purple\">Communication mechanism:  </b> <br><br>This is the mechanism used for transmitting data between the sender and receiver processes.\n",
    "\n",
    "</li><br><br>\n",
    "      <li><b style = \"color: purple\">Protocol:   </b> <br><br>This is the set of rules and conventions used for transmitting data between the sender and receiver processes.\n",
    "\n",
    "</li>\n",
    "    \n",
    "  </ul>\n",
    "</p><br>\n",
    "<p align='justify' style='margin: 10px 20px; line-height:1.5; font-family: \"Times New Roman\", Times, serif; font-size:16px; color: purple'>\n",
    "  In order for the dialog between two processes to be effective, both the sender and receiver processes must use the same communication mechanism and follow the\n",
    "</p>"
   ]
  }
 ],
 "metadata": {
  "celltoolbar": "Slideshow",
  "kernelspec": {
   "display_name": "Python 3 (ipykernel)",
   "language": "python",
   "name": "python3"
  },
  "language_info": {
   "codemirror_mode": {
    "name": "ipython",
    "version": 3
   },
   "file_extension": ".py",
   "mimetype": "text/x-python",
   "name": "python",
   "nbconvert_exporter": "python",
   "pygments_lexer": "ipython3",
   "version": "3.9.13"
  },
  "toc": {
   "base_numbering": 1,
   "nav_menu": {},
   "number_sections": false,
   "sideBar": true,
   "skip_h1_title": false,
   "title_cell": "Table of Contents",
   "title_sidebar": "Contents",
   "toc_cell": false,
   "toc_position": {
    "height": "636.364px",
    "left": "24px",
    "top": "-2.144px",
    "width": "286.875px"
   },
   "toc_section_display": true,
   "toc_window_display": false
  }
 },
 "nbformat": 4,
 "nbformat_minor": 5
}
