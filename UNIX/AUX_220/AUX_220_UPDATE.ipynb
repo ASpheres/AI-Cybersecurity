{
 "cells": [
  {
   "cell_type": "markdown",
   "id": "7c42aecb",
   "metadata": {
    "slideshow": {
     "slide_type": "slide"
    }
   },
   "source": [
    "<a href=\"https://asphere.fr/\">\n",
    "    <img src=\"logo2.png\" width=\"500\" height=\"400\" style=\"display: block; margin: 0 auto;\">\n",
    "</a>\n",
    "<h1 style=\"text-align: center; font-family: 'Times New Roman', Times,serif ; color: purple; margin-right: 25px; margin-left: 70px;\">UNUX ADMINISTRATION</h1>\n",
    "<h4 style=\"text-align: center; font-family: 'Times New Roman', Times,serif ; color: black; margin-right: 25px; margin-left: 70px;\">AUX_220</h4>\n",
    "<h5 style=\"text-align: center; font-family: 'Times New Roman', Times,serif ; color: black; margin-right: 25px; margin-left: 70px;\">DURATION: Three Days (21 Hrs)</h5>\n",
    "<h4 style=\"text-align: center; font-family: 'Times New Roman', Times,serif ; color: black; margin-right: 25px; margin-left: 70px;\">OBJECTIVES</h4>\n",
    "<a href=\"https://asphere.fr/\">\n",
    "    <img src=\"/home/sark/LOGO_IPI_GIGS_VERTICAL_WEB-2021-22_V2.png\" width=\"100\" height=\"100\" style=\"float: right; margin-right: 25px; margin-left: 70px;\">\n",
    "</a>\n",
    "<h5 style=\"text-align: center; font-family: 'Times New Roman', Times,serif ; color: purple; margin-right: 90px; margin-left: 225px;\">To deepen the understanding of the mechanisms that govern most client/server dialogues, this module focuses on the experience of writing High-Level protocols and integrating security mechanisms related to code.</h5>"
   ]
  },
  {
   "cell_type": "markdown",
   "id": "14c527c5",
   "metadata": {
    "slideshow": {
     "slide_type": "slide"
    }
   },
   "source": [
    "<h2 style='color:red; font-weight:bold; text-align:center; font-family: \"Times New Roman\", Times, serif; font-size:22px;'>INTRODUCTION TO CLIENT/SERVER COMMUNICATION (2)</h2>\n",
    "\n",
    "<p align='justify' style='margin: 10px 20px; line-height:1.5; font-family: \"Times New Roman\", Times, serif; font-size:16px; color : purple'>\n",
    "    \n",
    "  <ul style='font-family: \"Times New Roman\", Times, serif; font-weight:light; font-size:16px;'>\n",
    "      <li><b>Introduction to Client/Server Communication</b></li>\n",
    "      <li><b>Understanding protocol behavior during diagnostics </b></li>\n",
    "      <li><b>Common phases of a protocol dialogue for client/server-oriented services </b></li>\n",
    "      \n",
    "      \n",
    "    \n",
    "    \n",
    "  </ul>\n",
    "</p><br>\n",
    "<img src=\"client_server.png\" width=\"150\" height=\"250\" style=\"float: left; margin-right: 20px; margin-left: 20px;\">\n",
    "\n",
    "<p align='justify' style='margin: 10px 20px; line-height:1.5; font-family: \"Times New Roman\", Times, serif; font-size:16px; color: purple'>\n",
    "  In modern computing environments, client/server communication is a fundamental aspect of many computer systems. Client/server communication is a model of communication between two computers in which one program, the client, requests a service or resource from another program, the server. \n",
    "\n",
    "</p><br>\n",
    "<p align='justify' style='margin: 10px 20px; line-height:1.5; font-family: \"Times New Roman\", Times, serif; font-size:16px; color: black'>\n",
    "  This communication can occur over a network, the internet, or through a local connection. Understanding client/server communication is crucial for advanced system administration, as it is often necessary to diagnose issues within the communication process.\n",
    "\n",
    "</p><br>\n",
    "<p align='justify' style='margin: 10px 20px; line-height:1.5; font-family: \"Times New Roman\", Times, serif; font-size:16px; color: black'>\n",
    "  To properly understand the client/server communication process, it is important to grasp each phase of the protocol behavior on both the server and client sides. These phases include the origin of the protocol dialogue, service establishment and listening, client process communication, the actual protocol dialogue, and the release of the dialogue. Although there is significant diversity in the nature of client/server-oriented services, the phases of communication are generally common.\n",
    "\n",
    "</p>"
   ]
  },
  {
   "cell_type": "markdown",
   "id": "e907041b",
   "metadata": {
    "slideshow": {
     "slide_type": "subslide"
    }
   },
   "source": [
    "<p align='justify' style='margin: 10px 20px; line-height:1.5; font-family: \"Times New Roman\", Times, serif; font-size:16px; color: purple'>\n",
    "  The origin of a protocol dialogue is closely linked to kernel mechanisms available in the operating system. These mechanisms help establish the initial communication between the client and server. Open() system calls are typically used to create a file descriptor, which can then be used for the exchange of data.\n",
    "\n",
    "</p><br>\n",
    "<p align='justify' style='margin: 10px 20px; line-height:1.5; font-family: \"Times New Roman\", Times, serif; font-size:16px; color: black'>\n",
    "  The service establishment and listening phase on the server-side involves creating a server and waiting for client connections. Once a connection request is received, the server must identify the client and authenticate it, if necessary. Once the server has authenticated the client, the protocol dialogue can begin.\n",
    "\n",
    "</p><br>\n",
    "<p align='justify' style='margin: 10px 20px; line-height:1.5; font-family: \"Times New Roman\", Times, serif; font-size:16px; color: black'>\n",
    "  During the actual protocol dialogue, the client and server exchange messages to accomplish their respective tasks. This can include exchanging data, receiving acknowledgments, and executing commands.\n",
    "\n",
    "</p><br>\n",
    "<p align='justify' style='margin: 10px 20px; line-height:1.5; font-family: \"Times New Roman\", Times, serif; font-size:16px; color: black'>\n",
    "  Finally, the release of the dialogue involves closing the connection between the client and server once the exchange of data is complete. This is an essential part of the client/server communication process, as it frees up resources and ensures security.\n",
    "\n",
    "</p><br>\n",
    "<p align='justify' style='margin: 10px 20px; line-height:1.5; font-family: \"Times New Roman\", Times, serif; font-size:16px; color: purple'>\n",
    "  The process involves several phases, including the origin of the protocol dialogue, service establishment and listening, client process communication, the actual protocol dialogue, and the release of the dialogue. Each phase is crucial to the overall process, and understanding them is essential for diagnosing issues within the communication process.\n",
    "\n",
    "</p>"
   ]
  },
  {
   "cell_type": "markdown",
   "id": "5fe8306d",
   "metadata": {
    "slideshow": {
     "slide_type": "subslide"
    }
   },
   "source": [
    "<h3 style='color:red; font-weight:bold; text-align:center; font-family: \"Times New Roman\", Times, serif; font-size:20px;'>Understanding protocol behavior during diagnostics</h3><br>\n",
    "<img src=\"images.jpeg\" width=\"150\" height=\"250\" style=\"float: left; margin-right: 20px; margin-left: 20px;\">\n",
    "<p align='justify' style='margin: 10px 20px; line-height:1.5; font-family: \"Times New Roman\", Times, serif; font-size:16px; color: purple'>\n",
    "  Protocol behavior refers to the set of rules and processes that govern the exchange of data between the client and server during client/server communication. Diagnosing protocol behavior issues involves examining each phase of the protocol behavior to determine if there are any problems with the communication process.\n",
    "\n",
    "</p><br><br>\n",
    "<p align='justify' style='margin: 10px 20px; line-height:1.5; font-family: \"Times New Roman\", Times, serif; font-size:16px; color: black'>\n",
    "  One of the most important aspects of understanding protocol behavior during diagnostics is to recognize each phase of the communication process. These phases include the origin of the protocol dialogue, service establishment and listening, client process communication, the actual protocol dialogue, and the release of the dialogue. Once each phase is understood, it is possible to determine which phase of the communication process is causing the issue.\n",
    "</p><br>\n",
    "<p align='justify' style='margin: 10px 20px; line-height:1.5; font-family: \"Times New Roman\", Times, serif; font-size:16px; color: black'>\n",
    "  One common issue with protocol behavior is the failure to establish a connection between the client and server. This can occur for a variety of reasons, such as the client not properly authenticating itself or the server not listening for connection requests.<br>Another issue with protocol behavior is data loss or corruption. This can occur when messages are not properly acknowledged, leading to a loss of data or corruption of data. It can also occur if there are issues with the data itself, such as incorrect formatting or encoding.<br><br>To diagnose protocol behavior issues, it is important to use diagnostic tools that can monitor the communication process and identify any issues. Some examples of diagnostic tools include network protocol analyzers, packet sniffers, and logging tools. These tools can provide insight into each phase of the communication process and help identify any issues.<br>\n",
    "</p><br>\n",
    "<p align='justify' style='margin: 10px 20px; line-height:1.5; font-family: \"Times New Roman\", Times, serif; font-size:16px; color: purple'>\n",
    "  Understanding protocol behavior during diagnostics is essential for diagnosing issues within the client/server communication process. It involves recognizing each phase of the communication process and identifying any issues that may occur within each phase. To diagnose issues, it is important to use diagnostic tools that can monitor the communication process and identify any issues.\n",
    "</p>"
   ]
  },
  {
   "cell_type": "markdown",
   "id": "157425d6",
   "metadata": {
    "slideshow": {
     "slide_type": "subslide"
    }
   },
   "source": [
    "<h3 style='color:red; font-weight:bold; text-align:center; font-family: \"Times New Roman\", Times, serif; font-size:20px;'>Importance of understanding each phase of protocol behavior on both server and client sides </h3><br>\n",
    "<img src=\"images.jpeg\" width=\"150\" height=\"250\" style=\"float: left; margin-right: 20px; margin-left: 20px;\">\n",
    "<p align='justify' style='margin: 10px 20px; line-height:1.5; font-family: \"Times New Roman\", Times, serif; font-size:16px; color: purple'>\n",
    "  Understanding each phase of the protocol behavior on both the server and client sides is crucial for advanced system administration. This understanding allows for proper diagnosis of issues within the communication process and can help identify areas for improvement to optimize communication performance.\n",
    "</p><br><br>\n",
    "<p align='justify' style='margin: 10px 20px; line-height:1.5; font-family: \"Times New Roman\", Times, serif; font-size:16px; color: black'>\n",
    "  Each phase of the protocol behavior on the server and client sides serves a specific purpose in the communication process. The origin of the protocol dialogue involves establishing the initial connection between the client and server. Service establishment and listening involves creating a server and waiting for client connections. Client process communication involves identifying and authenticating the client and exchanging messages. The actual protocol dialogue involves the exchange of data to accomplish tasks, and the release of the dialogue involves closing the connection once the exchange of data is complete.\n",
    "</p><br>\n",
    "<p align='justify' style='margin: 10px 20px; line-height:1.5; font-family: \"Times New Roman\", Times, serif; font-size:16px; color: black'>\n",
    "  Failure to properly understand each phase of the protocol behavior can result in issues such as failed connections, data loss or corruption, and compromised security. For example, failure to properly authenticate the client during the client process communication phase can result in unauthorized access and compromised security.\n",
    "</p><br>\n",
    "<p align='justify' style='margin: 10px 20px; line-height:1.5; font-family: \"Times New Roman\", Times, serif; font-size:16px; color: purple'>\n",
    "  Additionally, understanding each phase of the protocol behavior can help identify areas for improvement in the communication process. By analyzing each phase of the communication process, it is possible to determine which phase may be causing issues and implement improvements to optimize performance.\n",
    "</p>"
   ]
  },
  {
   "cell_type": "markdown",
   "id": "120de847",
   "metadata": {
    "slideshow": {
     "slide_type": "subslide"
    }
   },
   "source": [
    "<h3 style='color:red; font-weight:bold; text-align:center; font-family: \"Times New Roman\", Times, serif; font-size:20px;'>Common phases of a protocol dialogue for client/server-oriented services </h3><br>\n",
    "<img src=\"images.jpeg\" width=\"150\" height=\"250\" style=\"float: left; margin-right: 20px; margin-left: 20px;\">\n",
    "<p align='justify' style='margin: 10px 20px; line-height:1.5; font-family: \"Times New Roman\", Times, serif; font-size:16px; color: purple'>\n",
    "  Client/server-oriented services have a variety of different protocols that govern the communication process. However, there are several common phases of a protocol dialogue that are shared among most client/server-oriented services. Understanding these phases is essential for advanced system administration, as it allows for proper diagnosis of issues within the communication process and can help identify areas for improvement to optimize communication performance.\n",
    "</p><br>\n",
    "<p align='justify' style='margin: 10px 20px; line-height:1.5; font-family: \"Times New Roman\", Times, serif; font-size:16px; color: black'>\n",
    "  The first common phase of a protocol dialogue is the origin of the protocol dialogue. This involves establishing the initial connection between the client and server. The client sends a connection request to the server, which the server acknowledges, and then the connection is established. This phase sets up the communication channel for the rest of the protocol dialogue.\n",
    "\n",
    "</p><br>\n",
    "<p align='justify' style='margin: 10px 20px; line-height:1.5; font-family: \"Times New Roman\", Times, serif; font-size:16px; color: black'>\n",
    "  The second common phase is the service establishment and listening phase. The server creates a socket to listen for client connections and waits for incoming connections. Once a connection request is received, the server must authenticate the client and identify it, if necessary. This phase is crucial for ensuring that the server is prepared to receive client requests and that the connection is secure.\n",
    "\n",
    "</p>"
   ]
  },
  {
   "cell_type": "markdown",
   "id": "e9867e8e",
   "metadata": {
    "slideshow": {
     "slide_type": "subslide"
    }
   },
   "source": [
    "<p align='justify' style='margin: 10px 20px; line-height:1.5; font-family: \"Times New Roman\", Times, serif; font-size:16px; color: black'>\n",
    "  The third common phase is the client process communication phase. This involves exchanging messages between the client and server to accomplish their respective tasks. This can include exchanging data, receiving acknowledgments, and executing commands. This phase is important for ensuring that the client is authorized to access the server and that the exchange of data is secure.<br><br>The fourth common phase is the actual protocol dialogue. This involves the exchange of data between the client and server to accomplish tasks. This phase is the heart of the communication process and is crucial for achieving the intended result. The protocol used during this phase can vary depending on the service being offered, but the overall structure of the phase remains the same.\n",
    "</p><br>\n",
    "<p align='justify' style='margin: 10px 20px; line-height:1.5; font-family: \"Times New Roman\", Times, serif; font-size:16px; color: purple'>\n",
    "  The final common phase is the release of the dialogue. This involves closing the connection once the exchange of data is complete. This phase is essential for freeing up resources and ensuring that the communication process is secure.\n",
    "</p>"
   ]
  },
  {
   "cell_type": "markdown",
   "id": "8eddc613",
   "metadata": {
    "slideshow": {
     "slide_type": "slide"
    }
   },
   "source": [
    "<h2 style='color:red; font-weight:bold; text-align:center; font-family: \"Times New Roman\", Times, serif; font-size:22px;'>ORIGIN OF PROTOCOL DIALOGUE</h2>\n",
    "\n",
    "<p align='justify' style='margin: 10px 20px; line-height:1.5; font-family: \"Times New Roman\", Times, serif; font-size:16px; color : purple'>\n",
    "    \n",
    "  <ul style='font-family: \"Times New Roman\", Times, serif; font-weight:light; font-size:16px;'>\n",
    "      <li><b>Explanation of kernel mechanisms available in an operating system </b></li>\n",
    "      <li><b>How these mechanisms contribute to the origin of a protocol dialogue  </b></li>\n",
    "      <li><b>Detailed explanation of low-level opens, including fork(), pipe(), and dup()  </b></li>\n",
    "      <li><b>Parent/child or child/child monologue exercise </b></li>\n",
    "      \n",
    "      \n",
    "    \n",
    "    \n",
    "  </ul>\n",
    "</p><br>\n",
    "<img src=\"client_server.png\" width=\"150\" height=\"250\" style=\"float: left; margin-right: 20px; margin-left: 20px;\">\n",
    "<p align='justify' style='margin: 10px 20px; line-height:1.5; font-family: \"Times New Roman\", Times, serif; font-size:16px; color: purple'>\n",
    "  The origin of a protocol dialogue is the first phase of the client/server communication process. It involves establishing the initial connection between the client and server, which sets up the communication channel for the rest of the protocol dialogue.\n",
    "</p><br>\n",
    "<p align='justify' style='margin: 10px 20px; line-height:1.5; font-family: \"Times New Roman\", Times, serif; font-size:16px; color: black'>\n",
    "  The process of establishing a connection between the client and server varies depending on the protocol being used, but it typically involves the use of system calls such as socket(), which creates a communication endpoint called a socket. The socket is then bound to a specific IP address and port number on the server. Once the server is ready to receive connections, it enters a listening state and waits for incoming connections.\n",
    "</p><br>\n",
    "<p align='justify' style='margin: 10px 20px; line-height:1.5; font-family: \"Times New Roman\", Times, serif; font-size:16px; color: black'>\n",
    "  When the client initiates a connection to the server, it sends a connection request message to the server's IP address and port number. If the server is in a listening state and the connection request message is valid, the server responds with an acknowledgment message. Once the connection is established, the protocol dialogue can begin.<br>During the origin of the protocol dialogue phase, it is important to ensure that the connection is established securely and that the client is authorized to access the server. This may involve authentication and verification of the client's identity before the communication process can proceed. Without proper authentication, the server may be vulnerable to unauthorized access and data breaches.\n",
    "</p><br>\n",
    "<p align='justify' style='margin: 10px 20px; line-height:1.5; font-family: \"Times New Roman\", Times, serif; font-size:16px; color: purple'>\n",
    "   During the origin of the protocol dialogue phase, it is important to ensure that the connection is established securely and that the client is authorized to access the server. This may involve authentication and verification of the client's identity before the communication process can proceed. Without proper authentication, the server may be vulnerable to unauthorized access and data breaches.\n",
    "</p>"
   ]
  },
  {
   "cell_type": "markdown",
   "id": "8d715e04",
   "metadata": {
    "slideshow": {
     "slide_type": "subslide"
    }
   },
   "source": [
    "<h3 style='color:red; font-weight:bold; text-align:center; font-family: \"Times New Roman\", Times, serif; font-size:20px;'>kernel mechanisms available in an operating system </h3><br>\n",
    "<img src=\"images.jpeg\" width=\"150\" height=\"250\" style=\"float: left; margin-right: 20px; margin-left: 20px;\">\n",
    "<p align='justify' style='margin: 10px 20px; line-height:1.5; font-family: \"Times New Roman\", Times, serif; font-size:16px; color: purple'>\n",
    "  The kernel of an operating system provides various mechanisms for managing the hardware and software resources of a computer system. Understanding these mechanisms is crucial for advanced system administration and can help optimize system performance.\n",
    "\n",
    "</p><br><br><br>\n",
    "<p align='justify' style='margin: 10px 20px; line-height:1.5; font-family: \"Times New Roman\", Times, serif; font-size:16px; color : purple'>\n",
    "    \n",
    "  <ul style='font-family: \"Times New Roman\", Times, serif; font-weight:light; font-size:16px;'>\n",
    "      <li>Process management</li>\n",
    "      <li>Memory management</li>\n",
    "      <li>File system management</li>\n",
    "      <li>Device management</li>\n",
    "      <li>Networking</li>\n",
    "      <li>Security</li>\n",
    "      \n",
    "      \n",
    "    \n",
    "    \n",
    "  </ul>\n",
    "</p><br>\n",
    "<p align='justify' style='margin: 10px 20px; line-height:1.5; font-family: \"Times New Roman\", Times, serif; font-size:16px; color: purple'>\n",
    "  Understanding these kernel mechanisms is important for advanced system administration because it allows administrators to optimize system performance, troubleshoot issues, and implement custom configurations. For example, an administrator may use the memory management mechanisms to adjust memory allocation to improve system performance, or the security mechanisms to ensure that only authorized users have access to the system.\n",
    "\n",
    "</p>"
   ]
  },
  {
   "cell_type": "markdown",
   "id": "32fe0cf7",
   "metadata": {
    "slideshow": {
     "slide_type": "subslide"
    }
   },
   "source": [
    "<h4 style='color:red; font-weight:bold; text-align:center; font-family: \"Times New Roman\", Times, serif; font-size:18px;'>Process management </h4><br>\n",
    "<p align='justify' style='margin: 10px 20px; line-height:1.5; font-family: \"Times New Roman\", Times, serif; font-size:16px; color: purple'>\n",
    "  Process management is one of the most important kernel mechanisms in an operating system. It involves creating, scheduling, and terminating processes, as well as managing process synchronization and communication.\n",
    "\n",
    "</p><br>\n",
    "<p align='justify' style='margin: 10px 20px; line-height:1.5; font-family: \"Times New Roman\", Times, serif; font-size:16px; color: black'>\n",
    "  A process is an instance of a running program that has its own memory space and execution context. The kernel provides system calls and functions that allow applications to interact with the process management mechanism, such as fork(), exec(), wait(), and kill(). These system calls and functions can be used to create new processes, change their attributes, and communicate with them.\n",
    "\n",
    "</p><br>\n",
    "<p align='justify' style='margin: 10px 20px; line-height:1.5; font-family: \"Times New Roman\", Times, serif; font-size:16px; color : purple'>\n",
    "    Here are some of the key aspects of process management:\n",
    "  <ul style='font-family: \"Times New Roman\", Times, serif; font-weight:light; font-size:16px;'>\n",
    "      <li><b style = \"color: purple \">Process creation: </b> The kernel provides mechanisms for creating new processes, which involves allocating memory, copying the image of the program into the memory space, and initializing the process control block (PCB) that contains information about the process, such as its state, priority, and resources.</li>\n",
    "      \n",
    "      \n",
    "      \n",
    "    \n",
    "    \n",
    "  </ul>\n",
    "</p>"
   ]
  },
  {
   "cell_type": "markdown",
   "id": "0f23ba83",
   "metadata": {
    "slideshow": {
     "slide_type": "subslide"
    }
   },
   "source": [
    "<p align='justify' style='margin: 10px 20px; line-height:1.5; font-family: \"Times New Roman\", Times, serif; font-size:16px; color : purple'>\n",
    "    \n",
    "  <ul style='font-family: \"Times New Roman\", Times, serif; font-weight:light; font-size:16px;'>\n",
    "      <li><b style = \"color: purple \">Process scheduling: </b> The kernel provides mechanisms for scheduling processes, which involves deciding which processes should be executed next based on their priority, state, and other factors. The scheduler determines how much CPU time each process should receive and when it should be preempted.</li><br>\n",
    "      <li><b style = \"color: purple \">Process termination: </b> The kernel provides mechanisms for terminating processes, which involves releasing the resources that were allocated to the process, deallocating memory, and terminating any child processes that were created.</li><br>\n",
    "      <li><b style = \"color: purple \">Process synchronization: </b> The kernel provides mechanisms for synchronizing processes, which involves coordinating access to shared resources and preventing race conditions. The most common mechanisms for synchronization are semaphores, mutexes, and condition variables.</li><br>\n",
    "      <li><b style = \"color: purple \">Inter-process communication (IPC): </b> The kernel provides mechanisms for allowing processes to communicate with each other, which is essential for many types of applications. The most common mechanisms for IPC are pipes, message queues, shared memory, and sockets.</li><br>\n",
    "      \n",
    "      \n",
    "      \n",
    "    \n",
    "    \n",
    "  </ul>\n",
    "</p><br>\n",
    "<p align='justify' style='margin: 10px 20px; line-height:1.5; font-family: \"Times New Roman\", Times, serif; font-size:16px; color: purple'>\n",
    "  Process management mechanism is important for advanced system administration because it allows administrators to optimize system performance, troubleshoot issues related to process behavior, and implement custom configurations that can improve application performance. For example, an administrator may adjust process priorities to give more CPU time to critical applications or use IPC mechanisms to facilitate communication between different applications.\n",
    "\n",
    "</p>"
   ]
  },
  {
   "cell_type": "markdown",
   "id": "8600b82a",
   "metadata": {
    "slideshow": {
     "slide_type": "subslide"
    }
   },
   "source": [
    "<h4 style='color:red; font-weight:bold; text-align:center; font-family: \"Times New Roman\", Times, serif; font-size:18px;'>Memory management </h4><br>\n",
    "<p align='justify' style='margin: 10px 20px; line-height:1.5; font-family: \"Times New Roman\", Times, serif; font-size:16px; color: purple'>\n",
    "  Memory management is another crucial kernel mechanism in an operating system. It involves allocating, deallocating, and managing the use of memory resources by processes.\n",
    "\n",
    "</p><br>\n",
    "<p align='justify' style='margin: 10px 20px; line-height:1.5; font-family: \"Times New Roman\", Times, serif; font-size:16px; color: black'>\n",
    "  Memory management is important for ensuring that processes have access to the memory resources they need, and that the system uses memory efficiently. The kernel provides system calls and functions that allow applications to interact with the memory management mechanism, such as malloc(), free(), and mmap(). These system calls and functions can be used to allocate and deallocate memory, and to manage virtual memory.\n",
    "</p><br>\n",
    "<p align='justify' style='margin: 10px 20px; line-height:1.5; font-family: \"Times New Roman\", Times, serif; font-size:16px; color : purple'>\n",
    "    Here are some of the key aspects of memory management:\n",
    "  <ul style='font-family: \"Times New Roman\", Times, serif; font-weight:light; font-size:16px;'>\n",
    "      <li><b style = \"color: purple \">Memory allocation: </b> The kernel provides mechanisms for allocating memory to processes, which involves reserving a portion of memory for the process to use. The kernel also manages the allocation of virtual memory, which allows the system to use more memory than is physically available by mapping virtual addresses to physical addresses.</li>\n",
    "      \n",
    "      \n",
    "      \n",
    "    \n",
    "    \n",
    "  </ul>\n",
    "</p>"
   ]
  },
  {
   "cell_type": "markdown",
   "id": "06d3c2a0",
   "metadata": {
    "slideshow": {
     "slide_type": "subslide"
    }
   },
   "source": [
    "<p align='justify' style='margin: 10px 20px; line-height:1.5; font-family: \"Times New Roman\", Times, serif; font-size:16px; color : purple'>\n",
    "    \n",
    "  <ul style='font-family: \"Times New Roman\", Times, serif; font-weight:light; font-size:16px;'>\n",
    "      <li><b style = \"color: purple \">Memory deallocation:  </b>  The kernel provides mechanisms for deallocating memory, which involves freeing up the memory resources that were allocated to a process. This is important for preventing memory leaks, which can occur when a process fails to release memory after it is no longer needed.</li><br>\n",
    "      <li><b style = \"color: purple \">Virtual memory management:  </b> The kernel provides mechanisms for managing virtual memory, which allows the system to use more memory than is physically available. Virtual memory is divided into pages, which are mapped to physical memory by the kernel. The kernel also manages page replacement, which involves moving pages between physical memory and disk.</li><br>\n",
    "      <li><b style = \"color: purple \">Memory protection:  </b>  The kernel provides mechanisms for protecting memory, which involves ensuring that processes can only access memory resources that they have permission to access. This is important for preventing security vulnerabilities such as buffer overflows and heap exploits.</li><br>\n",
    "      <li><b style = \"color: purple \">Shared memory: </b>  The kernel provides mechanisms for allowing processes to share memory, which can improve performance and reduce resource usage. Shared memory involves allowing multiple processes to access the same physical memory resources.</li><br>\n",
    "      \n",
    "      \n",
    "      \n",
    "    \n",
    "    \n",
    "  </ul>\n",
    "</p><br>\n",
    "<p align='justify' style='margin: 10px 20px; line-height:1.5; font-family: \"Times New Roman\", Times, serif; font-size:16px; color: purple'>\n",
    "   Memory management is important for advanced system administration because it allows administrators to optimize system performance, troubleshoot issues related to memory usage, and implement custom configurations that can improve application performance. For example, an administrator may adjust the amount of memory allocated to a process to improve its performance, or use shared memory to allow multiple processes to share the same resources.\n",
    "\n",
    "</p>"
   ]
  },
  {
   "cell_type": "markdown",
   "id": "4ada160b",
   "metadata": {
    "slideshow": {
     "slide_type": "subslide"
    }
   },
   "source": [
    "<h4 style='color:red; font-weight:bold; text-align:center; font-family: \"Times New Roman\", Times, serif; font-size:18px;'>File system management </h4><br>\n",
    "<p align='justify' style='margin: 10px 20px; line-height:1.5; font-family: \"Times New Roman\", Times, serif; font-size:16px; color: purple'>\n",
    "  File system management is another important kernel mechanism in an operating system. It involves managing the organization and access of files and directories on a storage device.\n",
    "\n",
    "</p><br>\n",
    "<p align='justify' style='margin: 10px 20px; line-height:1.5; font-family: \"Times New Roman\", Times, serif; font-size:16px; color: black'>\n",
    "  The kernel provides system calls and functions that allow applications to interact with the file system management mechanism, such as open(), close(), read(), write(), and mkdir(). These system calls and functions can be used to create, modify, and delete files and directories, as well as to access their contents.\n",
    "\n",
    "</p><br>\n",
    "<p align='justify' style='margin: 10px 20px; line-height:1.5; font-family: \"Times New Roman\", Times, serif; font-size:16px; color : purple'>\n",
    "    Here are some of the key aspects of file system management:\n",
    "  <ul style='font-family: \"Times New Roman\", Times, serif; font-weight:light; font-size:16px;'>\n",
    "      <li><b style = \"color: purple \">File and directory organization: </b>  The kernel provides mechanisms for organizing files and directories on a storage device. The most common organization method is the hierarchical directory structure, which allows files and directories to be organized into a tree-like structure.\n",
    "\n",
    "</li><br>\n",
    "      \n",
    "      \n",
    "      \n",
    "      \n",
    "    \n",
    "    \n",
    "  </ul>\n",
    "</p>"
   ]
  },
  {
   "cell_type": "markdown",
   "id": "b96d3c89",
   "metadata": {
    "slideshow": {
     "slide_type": "subslide"
    }
   },
   "source": [
    "<p align='justify' style='margin: 10px 20px; line-height:1.5; font-family: \"Times New Roman\", Times, serif; font-size:16px; color : purple'>\n",
    "    \n",
    "  <ul style='font-family: \"Times New Roman\", Times, serif; font-weight:light; font-size:16px;'>\n",
    "      <li><b style = \"color: purple \">File and directory access:  </b>  The kernel provides mechanisms for accessing files and directories, which involves reading and writing data to and from them. The kernel also manages file permissions, which determine which users and groups have access to a file or directory.\n",
    "\n",
    "</li><br>\n",
    "      <li><b style = \"color: purple \">File and directory creation and deletion:  </b>  The kernel provides mechanisms for creating and deleting files and directories, which involves allocating and deallocating disk space and updating the directory structure.\n",
    "\n",
    "</li><br>\n",
    "      <li><b style = \"color: purple \">File system mounting and unmounting:  </b>  The kernel provides mechanisms for mounting and unmounting file systems, which involves attaching and detaching a storage device to the file system. This is important for accessing files and directories on external storage devices such as USB drives.\n",
    "\n",
    "</li><br>\n",
    "      <li><b style = \"color: purple \">File system maintenance:  </b>  The kernel provides mechanisms for maintaining file systems, which involves checking the integrity of the file system and repairing any errors that are found. The most common mechanism for file system maintenance is the file system check (fsck) utility. </li><br>\n",
    "      \n",
    "      \n",
    "      \n",
    "      \n",
    "    \n",
    "    \n",
    "  </ul>\n",
    "</p><br>\n",
    "<p align='justify' style='margin: 10px 20px; line-height:1.5; font-family: \"Times New Roman\", Times, serif; font-size:16px; color: purple'>\n",
    "   File system management is important for advanced system administration because it allows administrators to optimize storage usage, troubleshoot issues related to file access and permissions, and implement custom configurations that can improve file system performance. For example, an administrator may use file system quotas to limit the amount of storage space used by individual users, or implement file system-level encryption to protect sensitive data.\n",
    "\n",
    "</p>"
   ]
  },
  {
   "cell_type": "markdown",
   "id": "4eb820b2",
   "metadata": {
    "slideshow": {
     "slide_type": "subslide"
    }
   },
   "source": [
    "<h4 style='color:red; font-weight:bold; text-align:center; font-family: \"Times New Roman\", Times, serif; font-size:18px;'>Device management </h4><br>\n",
    "<p align='justify' style='margin: 10px 20px; line-height:1.5; font-family: \"Times New Roman\", Times, serif; font-size:16px; color: purple'>\n",
    "  Device management is another important kernel mechanism in an operating system. It involves managing the input/output (I/O) devices of a computer system, including drivers for communicating with hardware devices such as printers, network cards, and storage devices.\n",
    "\n",
    "</p><br>\n",
    "<p align='justify' style='margin: 10px 20px; line-height:1.5; font-family: \"Times New Roman\", Times, serif; font-size:16px; color: black'>\n",
    "  The kernel provides system calls and functions that allow applications to interact with the device management mechanism, such as open(), read(), write(), and ioctl(). These system calls and functions can be used to communicate with hardware devices and manage their I/O operations.\n",
    "\n",
    "</p><br>\n",
    "<p align='justify' style='margin: 10px 20px; line-height:1.5; font-family: \"Times New Roman\", Times, serif; font-size:16px; color : purple'>\n",
    "    Here are some of the key aspects of device management:\n",
    "  <ul style='font-family: \"Times New Roman\", Times, serif; font-weight:light; font-size:16px;'>\n",
    "      <li><b style = \"color: purple \">Device drivers:  </b>  The kernel provides device drivers for communicating with hardware devices. Device drivers are software programs that allow the operating system to communicate with a specific hardware device. Device drivers are responsible for translating I/O requests from the operating system into commands that the hardware device can understand. </li><br>\n",
    "      <li><b style = \"color: purple \">Device detection and configuration: </b>  The kernel provides mechanisms for detecting and configuring hardware devices. When a new hardware device is connected to the system, the kernel identifies it and loads the appropriate device driver. </li><br>\n",
    "      <li><b style = \"color: purple \">I/O operations: </b>  The kernel provides mechanisms for managing I/O operations, which involves transferring data between hardware devices and the system. The kernel also manages the buffering and caching of data to improve I/O performance. </li><br>\n",
    "      <li><b style = \"color: purple \">Interrupt handling: </b>   The kernel provides mechanisms for handling interrupts, which are signals sent by hardware devices to the operating system to indicate that a specific event has occurred, such as the completion of an I/O operation. </li><br>\n",
    "      <li><b style = \"color: purple \">Power management:  </b>   The kernel provides mechanisms for managing the power consumption of hardware devices, which is important for improving energy efficiency and extending battery life in mobile devices. </li>\n",
    "      \n",
    "      \n",
    "      \n",
    "      \n",
    "    \n",
    "    \n",
    "  </ul>\n",
    "</p><br>\n",
    "<p align='justify' style='margin: 10px 20px; line-height:1.5; font-family: \"Times New Roman\", Times, serif; font-size:16px; color: purple'>\n",
    "   Device management is important for advanced system administration because it allows administrators to optimize I/O performance, troubleshoot issues related to hardware devices, and implement custom configurations that can improve system performance. For example, an administrator may adjust I/O scheduling to prioritize certain devices over others or use power management mechanisms to reduce energy consumption in mobile devices.\n",
    "\n",
    "</p>"
   ]
  },
  {
   "cell_type": "markdown",
   "id": "7ddb2018",
   "metadata": {
    "slideshow": {
     "slide_type": "subslide"
    }
   },
   "source": [
    "<h4 style='color:red; font-weight:bold; text-align:center; font-family: \"Times New Roman\", Times, serif; font-size:18px;'>Networking: </h4><br>\n",
    "<p align='justify' style='margin: 10px 20px; line-height:1.5; font-family: \"Times New Roman\", Times, serif; font-size:16px; color: purple'>\n",
    "  Networking is another important kernel mechanism in an operating system. It involves managing the communication between computer systems over a network, including protocols for transmitting and receiving data over the network.\n",
    "\n",
    "</p><br>\n",
    "<p align='justify' style='margin: 10px 20px; line-height:1.5; font-family: \"Times New Roman\", Times, serif; font-size:16px; color: black'>\n",
    "  The kernel provides system calls and functions that allow applications to interact with the networking mechanism, such as socket(), bind(), connect(), and listen(). These system calls and functions can be used to create and manage network connections, as well as to send and receive data over the network.\n",
    "\n",
    "</p><br>"
   ]
  },
  {
   "cell_type": "markdown",
   "id": "66efcffb",
   "metadata": {
    "slideshow": {
     "slide_type": "subslide"
    }
   },
   "source": [
    "<p align='justify' style='margin: 10px 20px; line-height:1.5; font-family: \"Times New Roman\", Times, serif; font-size:16px; color : purple'>\n",
    "    Here are some of the key aspects of networking:\n",
    "  <ul style='font-family: \"Times New Roman\", Times, serif; font-weight:light; font-size:16px;'>\n",
    "      <li><b style = \"color: purple \">Network protocols: </b>  The kernel provides support for various network protocols, including the Internet Protocol (IP), Transmission Control Protocol (TCP), and User Datagram Protocol (UDP). These protocols define the rules and procedures for transmitting and receiving data over the network.\n",
    "\n",
    "</li><br>\n",
    "      <li><b style = \"color: purple \">Network devices:</b>  The kernel provides support for various network devices, including network adapters and wireless devices. The kernel also manages the configuration and setup of network devices, including assigning IP addresses and configuring network settings.</li><br>\n",
    "      <li><b style = \"color: purple \">Network security: </b>   The kernel provides mechanisms for securing network communication, including encryption and authentication. The most common mechanism for securing network communication is the Transport Layer Security (TLS) protocol.</li><br>\n",
    "      <li><b style = \"color: purple \">Network services: </b>   The kernel provides mechanisms for implementing network services, such as web servers, email servers, and file servers. These services allow clients to access resources and data over the network.</li><br>\n",
    "      <li><b style = \"color: purple \">Network performance: </b>   The kernel provides mechanisms for optimizing network performance, including packet filtering and traffic shaping. These mechanisms can improve network throughput and reduce latency.</li><br>\n",
    "      \n",
    "      \n",
    "      \n",
    "      \n",
    "    \n",
    "    \n",
    "  </ul>\n",
    "</p><br>\n",
    "<p align='justify' style='margin: 10px 20px; line-height:1.5; font-family: \"Times New Roman\", Times, serif; font-size:16px; color: purple'>\n",
    "   Networking is important for advanced system administration because it allows administrators to optimize network performance, troubleshoot issues related to network communication, and implement custom configurations that can improve system performance. For example, an administrator may use packet filtering mechanisms to block unwanted network traffic or implement network load balancing to distribute network traffic across multiple servers.\n",
    "\n",
    "</p>"
   ]
  },
  {
   "cell_type": "markdown",
   "id": "1c19f9fc",
   "metadata": {
    "slideshow": {
     "slide_type": "subslide"
    }
   },
   "source": [
    "<h4 style='color:red; font-weight:bold; text-align:center; font-family: \"Times New Roman\", Times, serif; font-size:18px;'>Security</h4><br>\n",
    "<p align='justify' style='margin: 10px 20px; line-height:1.5; font-family: \"Times New Roman\", Times, serif; font-size:16px; color: purple'>\n",
    "  Security is a crucial aspect of any operating system. The kernel provides various security mechanisms that protect the system from unauthorized access, data breaches, and other security threats.\n",
    "\n",
    "</p><br>\n",
    "<p align='justify' style='margin: 10px 20px; line-height:1.5; font-family: \"Times New Roman\", Times, serif; font-size:16px; color: black'>\n",
    "  The kernel provides system calls and functions that allow applications to interact with the security mechanisms, such as setuid(), setgid(), chmod(), and chown(). These system calls and functions can be used to manage file permissions, user and group ownership, and other security-related settings.\n",
    "\n",
    "</p><br>\n",
    "<p align='justify' style='margin: 10px 20px; line-height:1.5; font-family: \"Times New Roman\", Times, serif; font-size:16px; color : purple'>\n",
    "    Here are some of the key aspects of file system management:\n",
    "  <ul style='font-family: \"Times New Roman\", Times, serif; font-weight:light; font-size:16px;'>\n",
    "      <li><b style = \"color: purple \">User and group management: </b>  The kernel provides mechanisms for managing users and groups, including authentication and authorization. User accounts are used to control access to system resources and data, while groups are used to assign permissions and privileges to users.</li><br>\n",
    "      <li><b style = \"color: purple \">File and directory permissions: </b>  The kernel provides mechanisms for managing file and directory permissions, including read, write, and execute permissions for user, group, and other users. File and directory permissions are used to control access to system resources and data.</li><br>\n",
    "      <li><b style = \"color: purple \">Security policies:  </b>  The kernel provides mechanisms for enforcing security policies, including policies for password strength, password expiration, and user account lockout. These policies are used to prevent unauthorized access to the system and data breaches.</li><br>\n",
    "      \n",
    "      \n",
    "      \n",
    "      \n",
    "    \n",
    "    \n",
    "  </ul>\n",
    "</p>"
   ]
  },
  {
   "cell_type": "markdown",
   "id": "5fcba2fc",
   "metadata": {
    "slideshow": {
     "slide_type": "subslide"
    }
   },
   "source": [
    "<p align='justify' style='margin: 10px 20px; line-height:1.5; font-family: \"Times New Roman\", Times, serif; font-size:16px; color : purple'>\n",
    "    Here are some of the key aspects of file system management:\n",
    "  <ul style='font-family: \"Times New Roman\", Times, serif; font-weight:light; font-size:16px;'>\n",
    "      <li><b style = \"color: purple \">Encryption and decryption: </b>  The kernel provides mechanisms for encrypting and decrypting data, which is important for protecting sensitive data such as passwords, financial data, and personal information. The most common mechanism for encryption and decryption is the Advanced Encryption Standard (AES).</li><br>\n",
    "      <li><b style = \"color: purple \">Network security:  </b>  The kernel provides mechanisms for securing network communication, including encryption, authentication, and firewalls. These mechanisms are used to protect the system from network-based attacks such as denial-of-service (DoS) attacks and data breaches.</li><br>\n",
    "      \n",
    "      \n",
    "      \n",
    "      \n",
    "      \n",
    "    \n",
    "    \n",
    "  </ul>\n",
    "</p><br>\n",
    "<p align='justify' style='margin: 10px 20px; line-height:1.5; font-family: \"Times New Roman\", Times, serif; font-size:16px; color: purple'>\n",
    "  Security is important for advanced system administration because it allows administrators to implement security policies and procedures that protect the system and data from unauthorized access and other security threats. For example, an administrator may implement file permissions to restrict access to sensitive data or use encryption mechanisms to protect passwords and other confidential information.\n",
    "\n",
    "\n",
    "\n",
    "</p>"
   ]
  },
  {
   "cell_type": "markdown",
   "id": "7184cfdf",
   "metadata": {
    "slideshow": {
     "slide_type": "subslide"
    }
   },
   "source": [
    "<h3 style='color:red; font-weight:bold; text-align:center; font-family: \"Times New Roman\", Times, serif; font-size:18px;'>How these mechanisms contribute to the origin of a protocol dialogue </h3><br>\n",
    "<p align='justify' style='margin: 10px 20px; line-height:1.5; font-family: \"Times New Roman\", Times, serif; font-size:16px; color: purple'>\n",
    "  The mechanisms discussed in the previous topics, such as process management, memory management, file system management, device management, and networking, all contribute to the origin of a protocol dialogue in different ways.\n",
    "\n",
    "</p><br>\n",
    "<p align='justify' style='margin: 10px 20px; line-height:1.5; font-family: \"Times New Roman\", Times, serif; font-size:16px; color : purple'>\n",
    "    Here are some examples of how each mechanism contributes to the origin of a protocol dialogue:\n",
    "  <ul style='font-family: \"Times New Roman\", Times, serif; font-weight:light; font-size:16px;'>\n",
    "      <li><b style = \"color: purple \">Process management: </b>  The process management mechanism is responsible for creating and managing processes in the system. When a client or server process is started, it needs to establish a connection with the other party before communication can occur. The process management mechanism provides the system calls and functions necessary to create and manage the processes involved in the protocol dialogue.\n",
    "\n",
    "</li><br>\n",
    "      <li><b style = \"color: purple \">Memory management: </b>  The memory management mechanism is responsible for managing the system's memory resources. During a protocol dialogue, data is transferred between processes and between the system and the network. The memory management mechanism provides the necessary memory allocation and management functions to ensure that data can be transferred efficiently and without errors.\n",
    "\n",
    "</li><br>\n",
    "      <li><b style = \"color: purple \">File system management: </b>  The file system management mechanism is responsible for managing the files and directories in the system. During a protocol dialogue, files may need to be accessed and transferred between processes. The file system management mechanism provides the necessary file I/O functions to enable this.\n",
    "\n",
    "</li>\n",
    "      \n",
    "      \n",
    "      \n",
    "      \n",
    "    \n",
    "    \n",
    "  </ul>\n",
    "</p>"
   ]
  },
  {
   "cell_type": "markdown",
   "id": "391f1aa9",
   "metadata": {
    "slideshow": {
     "slide_type": "subslide"
    }
   },
   "source": [
    "<p align='justify' style='margin: 10px 20px; line-height:1.5; font-family: \"Times New Roman\", Times, serif; font-size:16px; color : purple'>\n",
    "    \n",
    "  <ul style='font-family: \"Times New Roman\", Times, serif; font-weight:light; font-size:16px;'>\n",
    "      <li><b style = \"color: purple \">Device management: </b>The process management mechanism is responsible for creating and managing processes in the system. When a client or server process is started, it needs to establish a connection with the other party before communication can occur. The process management mechanism provides the system calls and functions necessary to create and manage the processes involved in the protocol dialogue.\n",
    "\n",
    "</li><br>\n",
    "      <li><b style = \"color: purple \">Networking: </b>The networking mechanism is responsible for managing the communication between computer systems over a network. During a protocol dialogue, data is transmitted and received over the network. The networking mechanism provides the necessary network protocols and functions to enable this <br>\n",
    "      \n",
    "      \n",
    "      \n",
    "      \n",
    "      \n",
    "    \n",
    "    \n",
    "  </ul>\n",
    "</p><br>\n",
    "<p align='justify' style='margin: 10px 20px; line-height:1.5; font-family: \"Times New Roman\", Times, serif; font-size:16px; color: purple'>\n",
    "  The mechanisms discussed in the previous topics all contribute to the origin of a protocol dialogue by providing the necessary system calls, functions, and mechanisms to create, manage, and communicate between processes, manage memory resources, access and transfer files, manage I/O devices, and transmit and receive data over the network. Understanding how these mechanisms contribute to the origin of a protocol dialogue is important for advanced system administration because it allows administrators to troubleshoot issues related to protocol behavior and implement custom configurations that can improve protocol performance.\n",
    "\n",
    "\n",
    "\n",
    "</p>"
   ]
  },
  {
   "cell_type": "markdown",
   "id": "b64ce022",
   "metadata": {
    "slideshow": {
     "slide_type": "subslide"
    }
   },
   "source": [
    "<h3 style='color:red; font-weight:bold; text-align:center; font-family: \"Times New Roman\", Times, serif; font-size:20px;'>Detailed explanation of low-level opens, including fork(), pipe(), and dup() </h3><br>\n",
    "<img src=\"sharing-pipe.jpg\" width=\"150\" height=\"250\" style=\"float: left; margin-right: 20px; margin-left: 20px;\">\n",
    "<p align='justify' style='margin: 10px 20px; line-height:1.5; font-family: \"Times New Roman\", Times, serif; font-size:16px; color: purple'>\n",
    "  Low-level opens are a set of system calls that allow processes to create and manage file descriptors at a low level. These system calls provide a way for processes to create and manage I/O operations, such as reading and writing data to files and other types of input/output devices.\n",
    "\n",
    "\n",
    "</p><br><br><br>\n",
    "<p align='justify' style='margin: 10px 20px; line-height:1.5; font-family: \"Times New Roman\", Times, serif; font-size:16px; color : purple'>\n",
    "    Here are some of the low-level opens system calls:\n",
    "  <ul style='font-family: \"Times New Roman\", Times, serif; font-weight:light; font-size:16px;'>\n",
    "      <li><b style = \"color: purple \">fork(): </b>The fork() system call creates a new process by duplicating the calling process. The new process is called the child process, and the original process is called the parent process. The child process has its own memory space and runs independently of the parent process. The fork() system call returns the process ID (PID) of the child process to the parent process, and returns 0 to the child process.\n",
    "</li><br>\n",
    "      \n",
    "      \n",
    "      \n",
    "      \n",
    "      \n",
    "      \n",
    "    \n",
    "    \n",
    "  </ul>\n",
    "</p>"
   ]
  },
  {
   "cell_type": "markdown",
   "id": "3153be45",
   "metadata": {
    "slideshow": {
     "slide_type": "subslide"
    }
   },
   "source": [
    "<p align='justify' style='margin: 10px 20px; line-height:1.5; font-family: \"Times New Roman\", Times, serif; font-size:16px; color : purple'>\n",
    "    \n",
    "  <ul style='font-family: \"Times New Roman\", Times, serif; font-weight:light; font-size:16px;'>\n",
    "      <li><b style = \"color: purple \">pipe():  </b> The pipe() system call creates a unidirectional communication channel between two processes. The communication channel is implemented as a buffer in memory, which allows one process to write data to the buffer and the other process to read data from the buffer. The pipe() system call returns two file descriptors, one for the read end of the pipe and one for the write end of the pipe.</li><br>\n",
    "      <li><b style = \"color: purple \">dup():  </b> The dup() system call duplicates a file descriptor. This is useful when a process needs to open a file or device multiple times, or when it needs to redirect input or output to a different file or device. The dup() system call returns a new file descriptor that is a copy of the original file descriptor.</li><br>\n",
    "      \n",
    "      \n",
    "      \n",
    "      \n",
    "      \n",
    "      \n",
    "    \n",
    "    \n",
    "  </ul>\n",
    "</p>\n",
    "<p align='justify' style='margin: 10px 20px; line-height:1.5; font-family: \"Times New Roman\", Times, serif; font-size:16px; color: purple'>\n",
    "  Here's an example of how these system calls can be used together:\n",
    "\n",
    "\n",
    "</p>"
   ]
  },
  {
   "cell_type": "code",
   "execution_count": null,
   "id": "433de69c",
   "metadata": {
    "slideshow": {
     "slide_type": "subslide"
    }
   },
   "outputs": [],
   "source": [
    "#include <stdio.h>\n",
    "#include <string.h>\n",
    "#include <unistd.h>\n",
    "\n",
    "int main() {\n",
    "   int fd[2];\n",
    "   char buf[200];\n",
    "   pipe(fd);\n",
    "   if (fork() == 0) {\n",
    "      close(fd[0]); // close the read end of the pipe\n",
    "      int len = strlen(\"Hello, world!\\n\");\n",
    "      printf(\"Child process: writing %d bytes\\n\", len);\n",
    "      write(fd[1], \"Hello, world!\\n\", len);\n",
    "      close(fd[1]); // close the write end of the pipe\n",
    "   } else {\n",
    "      close(fd[1]); // close the write end of the pipe\n",
    "      int nbytes = read(fd[0], buf, sizeof(buf));\n",
    "      printf(\"Parent process: read %d bytes: %.*s\", nbytes, nbytes, buf);\n",
    "      close(fd[0]); // close the read end of the pipe\n",
    "   }\n",
    "   return 0;\n",
    "}"
   ]
  },
  {
   "cell_type": "markdown",
   "id": "3a5fa1bb",
   "metadata": {
    "slideshow": {
     "slide_type": "subslide"
    }
   },
   "source": [
    "<p align='justify' style='margin: 10px 20px; line-height:1.5; font-family: \"Times New Roman\", Times, serif; font-size:16px; color: purple'>\n",
    "  This code creates a pipe and forks a child process. The child process writes the string \"Hello, world!\\n\" to the write end of the pipe, and the parent process reads the string from the read end of the pipe and prints it to standard output.The code declares an array fd of two integers to store the file descriptors for the read and write ends of the pipe, and an array buf of 200 characters to store the string read from the pipe. The code calls the pipe system call to create a pipe, which returns two file descriptors: fd[0] for reading from the pipe and fd[1] for writing to the pipe. The code forks a child process using the fork system call. The child process inherits a copy of the parent process's memory, including the file descriptors for the pipe. In the child process, the code closes the read end of the pipe (fd[0]), writes the string \"Hello, world!\\n\" to the write end of the pipe (fd[1]), and then closes the write end of the pipe.<br><br>In the parent process, the code closes the write end of the pipe (fd[1]), reads the string from the read end of the pipe (fd[0]) using the read system call, and stores the number of bytes read in the variable nbytes. The code then prints a message to standard output that indicates how many bytes were read (nbytes), and prints the string that was read from the pipe using the printf function and the %.*s format specifier. The %.*s format specifier prints a specified number of characters from a string, where the number of characters is specified by the second argument to printf (nbytes). Finally, the code closes the read end of the pipe and returns 0 to indicate success.\n",
    "\n",
    "\n",
    "</p><br>\n",
    "<p align='justify' style='margin: 10px 20px; line-height:1.5; font-family: \"Times New Roman\", Times, serif; font-size:16px; color: black'>\n",
    "  Low-level opens are a set of system calls that allow processes to create and manage file descriptors at a low level. The fork(), pipe(), and dup() system calls are commonly used for managing I/O operations and inter-process communication. Understanding how these system calls work is important for advanced system administration because it allows administrators to troubleshoot issues related to protocol behavior and implement custom configurations that can improve protocol performance.<br><br><strong style = \"color: purple\">When the code is run, the output should be</strong>\n",
    "\n",
    "\n",
    "</p>"
   ]
  },
  {
   "cell_type": "code",
   "execution_count": null,
   "id": "3563de25",
   "metadata": {
    "slideshow": {
     "slide_type": "subslide"
    }
   },
   "outputs": [],
   "source": [
    "Child process: writing 14 bytes\n",
    "Parent process: read 14 bytes: Hello, world!\n",
    "Hello, world!"
   ]
  },
  {
   "cell_type": "markdown",
   "id": "f4e42b63",
   "metadata": {
    "slideshow": {
     "slide_type": "subslide"
    }
   },
   "source": [
    "<h4 style='color:red; font-weight:bold; text-align:center; font-family: \"Times New Roman\", Times, serif; font-size:18px;'>Parent/child or child/child monologue exercise </h4><br>\n",
    "<p align='justify' style='margin: 10px 20px; line-height:1.5; font-family: \"Times New Roman\", Times, serif; font-size:16px; color: purple'>\n",
    "   here's an example of a parent/child or child/child monologue exercise:\n",
    "\n",
    "\n",
    "</p>"
   ]
  },
  {
   "cell_type": "code",
   "execution_count": null,
   "id": "01b1a870",
   "metadata": {
    "slideshow": {
     "slide_type": "subslide"
    }
   },
   "outputs": [],
   "source": [
    "#include <stdio.h>\n",
    "#include <unistd.h>\n",
    "\n",
    "int main() {\n",
    "   int fd[2];\n",
    "   char buf[20];\n",
    "   pipe(fd);\n",
    "   if (fork() == 0) {\n",
    "      close(fd[0]); // close the read end of the pipe\n",
    "      write(fd[1], \"Hello from child!\\n\", 18);\n",
    "      close(fd[1]); // close the write end of the pipe\n",
    "   } else {\n",
    "      close(fd[1]); // close the write end of the pipe\n",
    "      read(fd[0], buf, sizeof(buf)); // read the message from the pipe\n",
    "      printf(\"%s\", buf);\n",
    "      close(fd[0]); // close the read end of the pipe\n",
    "   }\n",
    "   return 0;\n",
    "}"
   ]
  },
  {
   "cell_type": "markdown",
   "id": "0fbe0920",
   "metadata": {
    "slideshow": {
     "slide_type": "subslide"
    }
   },
   "source": [
    "<p align='justify' style='margin: 10px 20px; line-height:1.5; font-family: \"Times New Roman\", Times, serif; font-size:16px; color: purple'>\n",
    "   This program creates a pipe using the pipe() system call and forks a child process using the fork() system call. The child process writes a message to the write end of the pipe, and the parent process reads the message from the read end of the pipe and prints it to the screen using the printf() function. <br><br> In this example, the child process writes a message to the pipe, and the parent process reads the message from the pipe and prints it to the screen. This is an example of a parent/child monologue. If the child process were to read from the pipe instead of writing to it, it would be an example of a child/child monologue.\n",
    "\n",
    "\n",
    "</p>"
   ]
  },
  {
   "cell_type": "markdown",
   "id": "e7036f7a",
   "metadata": {
    "slideshow": {
     "slide_type": "slide"
    }
   },
   "source": [
    "<h3 style='color:red; font-weight:bold; text-align:center; font-family: \"Times New Roman\", Times, serif; font-size:20px;'>ADVANCED EXCHANGE TECHNIQUES</h3><br>\n",
    "<p align='justify' style='margin: 10px 20px; line-height:1.5; font-family: \"Times New Roman\", Times, serif; font-size:16px; color : purple'>\n",
    "    \n",
    "  <ul style='font-family: \"Times New Roman\", Times, serif; font-weight:light; font-size:16px;'>\n",
    "      <li>Named tubes and their role in protocol dialogue </li>\n",
    "      <li>Detailed exercise on named tubes </li>\n",
    "      \n",
    "      \n",
    "      \n",
    "    \n",
    "    \n",
    "  </ul>\n",
    "</p><br>\n",
    "<img src=\"sharing-pipe.jpg\" width=\"150\" height=\"250\" style=\"float: left; margin-right: 20px; margin-left: 20px;\">\n",
    "<p align='justify' style='margin: 10px 20px; line-height:1.5; font-family: \"Times New Roman\", Times, serif; font-size:16px; color: purple'>\n",
    "  In addition to the low-level opens discussed earlier, there are several advanced exchange techniques that can be used to improve the performance and reliability of protocol dialogues. These techniques are typically used in more complex client/server-oriented services, such as web servers, database servers, and messaging systems.\n",
    "\n",
    "\n",
    "</p><br><br>\n",
    "<p align='justify' style='margin: 10px 20px; line-height:1.5; font-family: \"Times New Roman\", Times, serif; font-size:16px; color : purple'>\n",
    "    Here are some of the advanced exchange techniques:\n",
    "  <ul style='font-family: \"Times New Roman\", Times, serif; font-weight:light; font-size:16px;'>\n",
    "      <li><b style = \"color: purple\">Multiplexing:</b>  Multiplexing is a technique that allows multiple I/O operations to be performed simultaneously using a single thread or process. This can be achieved using various I/O multiplexing mechanisms, such as select(), poll(), and epoll(). Multiplexing can significantly improve the performance of network I/O operations, especially when there are many clients connected to the server.</li>\n",
    "      \n",
    "      \n",
    "      \n",
    "    \n",
    "    \n",
    "  </ul>\n",
    "</p>"
   ]
  },
  {
   "cell_type": "markdown",
   "id": "ea0a77a0",
   "metadata": {
    "slideshow": {
     "slide_type": "subslide"
    }
   },
   "source": [
    "<h4 style='color:red; font-weight:bold; text-align:center; font-family: \"Times New Roman\", Times, serif; font-size:18px;'>Differences between select(), poll(), and epoll() </h4><br>\n",
    "<p align='justify' style='margin: 10px 20px; line-height:1.5; font-family: \"Times New Roman\", Times, serif; font-size:16px; color : purple'>\n",
    "    \n",
    "  <ul style='font-family: \"Times New Roman\", Times, serif; font-weight:light; font-size:16px;'>\n",
    "      <li><b style = \"color: purple\">select(): </b> The select() function uses file descriptors and allows the server to monitor multiple sockets for events (e.g. incoming data or connection requests). It blocks until any of the sockets is ready for an I/O operation, and then returns the set of ready sockets. It has a limitation on the maximum number of file descriptors it can handle.</li><br>\n",
    "      <li><b style = \"color: purple\">poll(): </b> The poll() function is similar to select() but uses a different data structure to store the file descriptors to monitor. It also blocks until any of the sockets is ready for an I/O operation, and then returns the set of ready sockets. Like select(), it has a limit on the maximum number of file descriptors it can handle.</li><br>\n",
    "      <li><b style = \"color: purple\">epoll(): </b> The epoll() function is a newer system call that is more scalable than select() or poll(). It uses a more efficient data structure to store the file descriptors to monitor and can handle a large number of file descriptors. It also allows for more fine-grained control over events and supports edge-triggered notifications.</li><br><br>examples of using poll()<br><br> To use telnet to connect to the server after running the code below, Open a terminal and type: telnet localhost 8080 (assuming the server is running on the same machine). Press Enter. You should see a message like: Trying 127.0.0.1...If the connection is successful, you should see a message like: Connected to localhost.Type a message (e.g. Hello) and press Enter. The message will be sent to the server.\n",
    "The server will echo the message back to the client. You should see the message you typed on the screen.\n",
    "Type another message and press Enter to send it to the server. The server will echo the message back to the client.\n",
    "      \n",
    "      \n",
    "      \n",
    "    \n",
    "    \n",
    "  </ul>\n",
    "</p><br>\n"
   ]
  },
  {
   "cell_type": "code",
   "execution_count": null,
   "id": "6da36b0c",
   "metadata": {
    "slideshow": {
     "slide_type": "subslide"
    }
   },
   "outputs": [],
   "source": [
    "#include <stdio.h>\n",
    "#include <stdlib.h>\n",
    "#include <string.h>\n",
    "#include <unistd.h>\n",
    "#include <sys/socket.h>\n",
    "#include <sys/poll.h>\n",
    "#include <netinet/in.h>\n",
    "#include <arpa/inet.h>\n",
    "\n",
    "#define MAX_CLIENTS 10\n",
    "\n",
    "int main() {\n",
    "    int sockfd, clientfds[MAX_CLIENTS], num_clients, i;\n",
    "    struct sockaddr_in servaddr, cliaddr;\n",
    "    socklen_t clilen = sizeof(cliaddr);\n",
    "    char buf[1024];\n",
    "    struct pollfd pollfds[MAX_CLIENTS + 1];\n",
    "\n",
    "    // create socket\n",
    "    sockfd = socket(AF_INET, SOCK_STREAM, 0);\n",
    "\n",
    "    // bind socket to address\n",
    "    memset(&servaddr, 0, sizeof(servaddr));\n",
    "    servaddr.sin_family = AF_INET;\n",
    "    servaddr.sin_addr.s_addr = htonl(INADDR_ANY);\n",
    "    servaddr.sin_port = htons(8080);\n",
    "    bind(sockfd, (struct sockaddr *)&servaddr, sizeof(servaddr));\n",
    "\n",
    "    // listen for incoming connections\n",
    "    listen(sockfd, 5);\n",
    "\n",
    "    // add server socket to pollfds\n",
    "    pollfds[0].fd = sockfd;\n",
    "    pollfds[0].events = POLLIN;\n",
    "    num_clients = 0;\n",
    "\n",
    "    while (1) {\n",
    "        // block until there's activity on one of the sockets\n",
    "        poll(pollfds, num_clients + 1, -1);\n",
    "\n",
    "        // check for activity on the server socket\n",
    "        if (pollfds[0].revents & POLLIN) {\n",
    "            // accept incoming connection\n",
    "            int newfd = accept(sockfd, (struct sockaddr *)&cliaddr, &clilen);\n",
    "\n",
    "            // add new client socket to pollfds\n",
    "            pollfds[num_clients + 1].fd = newfd;\n",
    "            pollfds[num_clients + 1].events = POLLIN;\n",
    "            clientfds[num_clients] = newfd;\n",
    "            num_clients++;\n",
    "            printf(\"New client connected from %s:%d (total: %d)\\n\",\n",
    "                   inet_ntoa(cliaddr.sin_addr), ntohs(cliaddr.sin_port), num_clients);\n",
    "        }\n",
    "\n",
    "        // check for activity on client sockets\n",
    "        for (i = 0; i < num_clients; i++) {\n",
    "            if (pollfds[i + 1].revents & POLLIN) {\n",
    "                // read data from client socket\n",
    "                int n = read(clientfds[i], buf, sizeof(buf));\n",
    "                if (n <= 0) {\n",
    "                    // client closed connection or there was an error\n",
    "                    close(clientfds[i]);\n",
    "                    pollfds[i + 1].fd = -1;\n",
    "                    clientfds[i] = -1;\n",
    "                    num_clients--;\n",
    "                } else {\n",
    "                    // echo data back to client\n",
    "                    write(clientfds[i], buf, n);\n",
    "                }\n",
    "            }\n",
    "        }\n",
    "    }\n",
    "\n",
    "    return 0;\n",
    "}"
   ]
  },
  {
   "cell_type": "markdown",
   "id": "da92fa18",
   "metadata": {
    "slideshow": {
     "slide_type": "subslide"
    }
   },
   "source": [
    "<p align='justify' style='margin: 10px 20px; line-height:1.5; font-family: \"Times New Roman\", Times, serif; font-size:16px; color: purple'>\n",
    "  This is a simple server program that uses the poll() system call to handle multiple client connections simultaneously. Here is an explanation of the code<br><br>The code includes several header files that define socket-related functions and structures. The code defines a maximum number of clients that the server can handle, and declares several variables that will be used to keep track of the clients and their sockets. The code creates a socket using the socket() system call, and binds it to a specific address using the bind() system call. The code listens for incoming connections using the listen() system call. The code initializes a pollfd structure for the server socket, and adds it to an array of pollfd structures that will be used to track all the sockets that the server is interested in. The code enters an infinite loop that waits for activity on any of the sockets using the poll() system call.<br><br> If there is activity on the server socket, the code accepts the incoming connection using the accept() system call, and adds the new client socket to the pollfd array and the clientfds array. If there is activity on a client socket, the code reads data from the socket using the read() system call, and either echoes the data back to the client using the write() system call, or closes the socket if there was an error. If a client socket is closed, the code removes it from the pollfd array and the clientfds array, and decrements the num_clients counter. The code continues to wait for activity on the sockets until the program is terminated.\n",
    "\n",
    "\n",
    "</p><br><br>\n",
    "<p align='justify' style='margin: 10px 20px; line-height:1.5; font-family: \"Times New Roman\", Times, serif; font-size:16px; color: black'>\n",
    "    <strong>Here's an example of using select() to monitor multiple file descriptors for I/O readiness:</strong>\n",
    "\n",
    "</p>"
   ]
  },
  {
   "cell_type": "code",
   "execution_count": null,
   "id": "fa75ccb6",
   "metadata": {
    "slideshow": {
     "slide_type": "subslide"
    }
   },
   "outputs": [],
   "source": [
    "#include <stdio.h>\n",
    "#include <stdlib.h>\n",
    "#include <string.h>\n",
    "#include <unistd.h>\n",
    "#include <sys/socket.h>\n",
    "#include <sys/select.h>\n",
    "#include <netinet/in.h>\n",
    "#include <arpa/inet.h>\n",
    "\n",
    "#define MAX_CLIENTS 10\n",
    "\n",
    "int main() {\n",
    "    int sockfd, clientfds[MAX_CLIENTS], num_clients, i, j;\n",
    "    struct sockaddr_in servaddr, cliaddr;\n",
    "    socklen_t clilen = sizeof(cliaddr);\n",
    "    char buf[1024];\n",
    "    fd_set readfds;\n",
    "\n",
    "    // create socket\n",
    "    sockfd = socket(AF_INET, SOCK_STREAM, 0);\n",
    "\n",
    "    // bind socket to address\n",
    "    memset(&servaddr, 0, sizeof(servaddr));\n",
    "    servaddr.sin_family = AF_INET;\n",
    "    servaddr.sin_addr.s_addr = htonl(INADDR_ANY);\n",
    "    servaddr.sin_port = htons(8080);\n",
    "    bind(sockfd, (struct sockaddr *)&servaddr, sizeof(servaddr));\n",
    "\n",
    "    // listen for incoming connections\n",
    "    listen(sockfd, 5);\n",
    "\n",
    "    // initialize clientfds array\n",
    "    for (i = 0; i < MAX_CLIENTS; i++) {\n",
    "        clientfds[i] = -1;\n",
    "    }\n",
    "    num_clients = 0;\n",
    "\n",
    "    while (1) {\n",
    "        // clear the readfds set and add the server socket to it\n",
    "        FD_ZERO(&readfds);\n",
    "        FD_SET(sockfd, &readfds);\n",
    "\n",
    "        // add client sockets to the readfds set\n",
    "        for (i = 0; i < num_clients; i++) {\n",
    "            if (clientfds[i] != -1) {\n",
    "                FD_SET(clientfds[i], &readfds);\n",
    "            }\n",
    "        }\n",
    "\n",
    "        // block until there's activity on one of the sockets\n",
    "        select(FD_SETSIZE, &readfds, NULL, NULL, NULL);\n",
    "\n",
    "        // check for activity on the server socket\n",
    "        if (FD_ISSET(sockfd, &readfds)) {\n",
    "            // accept incoming connection\n",
    "            int newfd = accept(sockfd, (struct sockaddr *)&cliaddr, &clilen);\n",
    "\n",
    "            // add new client socket to clientfds array\n",
    "            for (i = 0; i < MAX_CLIENTS; i++) {\n",
    "                if (clientfds[i] == -1) {\n",
    "                    clientfds[i] = newfd;\n",
    "                    num_clients++;\n",
    "                    printf(\"New client connected from %s:%d (total: %d)\\n\",\n",
    "                           inet_ntoa(cliaddr.sin_addr), ntohs(cliaddr.sin_port), num_clients);\n",
    "                    break;\n",
    "                }\n",
    "            }\n",
    "            if (i == MAX_CLIENTS) {\n",
    "                printf(\"Too many clients\\n\");\n",
    "                close(newfd);\n",
    "            }\n",
    "        }\n",
    "\n",
    "        // check for activity on client sockets\n",
    "        for (i = 0; i < num_clients; i++) {\n",
    "            if (clientfds[i] != -1 && FD_ISSET(clientfds[i], &readfds)) {\n",
    "                // read data from client socket\n",
    "                int n = read(clientfds[i], buf, sizeof(buf));\n",
    "                if (n <= 0) {\n",
    "                    // client closed connection or there was an error\n",
    "                    close(clientfds[i]);\n",
    "                    clientfds[i] = -1;\n",
    "                    num_clients--;\n",
    "                } else {\n",
    "                    // echo data back to client\n",
    "                    write(clientfds[i], buf, n);\n",
    "                }\n",
    "            }\n",
    "        }\n",
    "    }\n",
    "\n",
    "    return 0;\n",
    "}"
   ]
  },
  {
   "cell_type": "markdown",
   "id": "5e6904a3",
   "metadata": {
    "slideshow": {
     "slide_type": "subslide"
    }
   },
   "source": [
    "<p align='justify' style='margin: 10px 20px; line-height:1.5; font-family: \"Times New Roman\", Times, serif; font-size:16px; color: purple'>\n",
    "    This code is an example of a simple TCP server using the select() function to monitor multiple client sockets for incoming data.The server sets up a socket, binds it to an IP address and port, and listens for incoming connections using the listen() function. When a client connects, the server accepts the connection using the accept() function, assigns a new file descriptor to the client socket, and adds it to an array of client file descriptors. The server then uses the select() function to wait for data to arrive on any of the client sockets.<br><br>The server uses the fd_set data type to keep track of the sockets it is interested in, and the select() function blocks until there is data available on one of the sockets. The server then loops through its list of client file descriptors to determine which client socket has received data using the FD_ISSET() macro. If data is received, the server reads it from the socket using the read() function, and sends it back to the client using the write() function. The server can handle up to 10 simultaneous clients, as defined by the MAX_CLIENTS macro. When a new client connects, the server adds the client's socket file descriptor to the clientfds array. When a client disconnects or encounters an error, the server removes the client's socket file descriptor from the clientfds array and decrements the num_clients variable.\n",
    "\n",
    "\n",
    "\n",
    "</p>"
   ]
  },
  {
   "cell_type": "markdown",
   "id": "0e3baf98",
   "metadata": {},
   "source": [
    "<p align='justify' style='margin: 10px 20px; line-height:1.5; font-family: \"Times New Roman\", Times, serif; font-size:16px; color: black'>\n",
    "    <strong>Here's an example of using epoll() to monitor multiple file descriptors for I/O readiness:</strong>\n",
    "\n",
    "</p>"
   ]
  },
  {
   "cell_type": "code",
   "execution_count": null,
   "id": "4b75ef8b",
   "metadata": {},
   "outputs": [],
   "source": [
    "#include <stdio.h>\n",
    "#include <stdlib.h>\n",
    "#include <string.h>\n",
    "#include <unistd.h>\n",
    "#include <sys/socket.h>\n",
    "#include <sys/epoll.h>\n",
    "#include <netinet/in.h>\n",
    "#include <arpa/inet.h>\n",
    "\n",
    "#define MAX_EVENTS 10\n",
    "#define MAX_CLIENTS 10\n",
    "\n",
    "int main() {\n",
    "    int sockfd, clientfds[MAX_CLIENTS], num_clients, i;\n",
    "    struct sockaddr_in servaddr, cliaddr;\n",
    "    socklen_t clilen = sizeof(cliaddr);\n",
    "    char buf[1024];\n",
    "    int epfd, nfds;\n",
    "    struct epoll_event ev, events[MAX_EVENTS];\n",
    "\n",
    "    // create socket\n",
    "    sockfd = socket(AF_INET, SOCK_STREAM, 0);\n",
    "\n",
    "    // bind socket to address\n",
    "    memset(&servaddr, 0, sizeof(servaddr));\n",
    "    servaddr.sin_family = AF_INET;\n",
    "    servaddr.sin_addr.s_addr = htonl(INADDR_ANY);\n",
    "    servaddr.sin_port = htons(8080);\n",
    "    bind(sockfd, (struct sockaddr *)&servaddr, sizeof(servaddr));\n",
    "\n",
    "    // listen for incoming connections\n",
    "    listen(sockfd, 5);\n",
    "\n",
    "    // create epoll instance\n",
    "    epfd = epoll_create1(0);\n",
    "    if (epfd == -1) {\n",
    "        perror(\"epoll_create1\");\n",
    "        exit(EXIT_FAILURE);\n",
    "    }\n",
    "\n",
    "    // add server socket to epoll instance\n",
    "    ev.events = EPOLLIN;\n",
    "    ev.data.fd = sockfd;\n",
    "    if (epoll_ctl(epfd, EPOLL_CTL_ADD, sockfd, &ev) == -1) {\n",
    "        perror(\"epoll_ctl: sockfd\");\n",
    "        exit(EXIT_FAILURE);\n",
    "    }\n",
    "\n",
    "    num_clients = 0;\n",
    "\n",
    "    while (1) {\n",
    "        // wait for events on the epoll instance\n",
    "        nfds = epoll_wait(epfd, events, MAX_EVENTS, -1);\n",
    "        if (nfds == -1) {\n",
    "            perror(\"epoll_wait\");\n",
    "            exit(EXIT_FAILURE);\n",
    "        }\n",
    "\n",
    "        // handle events\n",
    "        for (i = 0; i < nfds; i++) {\n",
    "            // handle incoming connection on server socket\n",
    "            if (events[i].data.fd == sockfd) {\n",
    "                // accept incoming connection\n",
    "                int newfd = accept(sockfd, (struct sockaddr *)&cliaddr, &clilen);\n",
    "                if (newfd == -1) {\n",
    "                    perror(\"accept\");\n",
    "                } else {\n",
    "                    // add new client socket to epoll instance\n",
    "                    ev.events = EPOLLIN;\n",
    "                    ev.data.fd = newfd;\n",
    "                    if (epoll_ctl(epfd, EPOLL_CTL_ADD, newfd, &ev) == -1) {\n",
    "                        perror(\"epoll_ctl: newfd\");\n",
    "                        exit(EXIT_FAILURE);\n",
    "                    }\n",
    "                    clientfds[num_clients] = newfd;\n",
    "                    num_clients++;\n",
    "                    printf(\"New client connected from %s:%d (total: %d)\\n\",\n",
    "                           inet_ntoa(cliaddr.sin_addr), ntohs(cliaddr.sin_port), num_clients);\n",
    "                }\n",
    "            } else {  // handle data on client sockets\n",
    "                int clientfd = events[i].data.fd;\n",
    "                int n = read(clientfd, buf, sizeof(buf));\n",
    "                if (n <= 0) {\n",
    "                    // client closed connection or there was an error\n",
    "                    close(clientfd);\n",
    "                    epoll_ctl(epfd, EPOLL_CTL_DEL, clientfd, NULL);\n",
    "                    num_clients--;\n",
    "                } else {\n",
    "                    // echo data back to client\n",
    "                    write(clientfd, buf, n);\n",
    "                }\n",
    "            }\n",
    "        }\n",
    "    }\n",
    "\n",
    "    return 0;\n",
    "}\n"
   ]
  },
  {
   "cell_type": "markdown",
   "id": "8c80c5c3",
   "metadata": {
    "slideshow": {
     "slide_type": "subslide"
    }
   },
   "source": [
    "<p align='justify' style='margin: 10px 20px; line-height:1.5; font-family: \"Times New Roman\", Times, serif; font-size:16px; color: purple'>\n",
    "    This code demonstrates how to use the epoll system call in Linux for event-driven network programming. It sets up a server that listens for incoming connections from clients and can handle multiple connections simultaneously.The code starts by including necessary header files and defining constants such as the maximum number of events and clients that can be handled at once.\n",
    "\n",
    "</p>"
   ]
  },
  {
   "cell_type": "code",
   "execution_count": null,
   "id": "fac3ba1a",
   "metadata": {
    "slideshow": {
     "slide_type": "subslide"
    }
   },
   "outputs": [],
   "source": [
    "#include <stdio.h>\n",
    "#include <stdlib.h>\n",
    "#include <string.h>\n",
    "#include <unistd.h>\n",
    "#include <sys/socket.h>\n",
    "#include <sys/epoll.h>\n",
    "#include <netinet/in.h>\n",
    "#include <arpa/inet.h>\n",
    "\n",
    "#define MAX_EVENTS 10\n",
    "#define MAX_CLIENTS 10"
   ]
  },
  {
   "cell_type": "markdown",
   "id": "f110907c",
   "metadata": {
    "slideshow": {
     "slide_type": "subslide"
    }
   },
   "source": [
    "<p align='justify' style='margin: 10px 20px; line-height:1.5; font-family: \"Times New Roman\", Times, serif; font-size:16px; color: purple'>\n",
    "    The main() function starts by creating a socket, binding it to a port, and listening for incoming connections.\n",
    "\n",
    "</p>"
   ]
  },
  {
   "cell_type": "code",
   "execution_count": null,
   "id": "1b5dd615",
   "metadata": {
    "slideshow": {
     "slide_type": "subslide"
    }
   },
   "outputs": [],
   "source": [
    "int main() {\n",
    "    int sockfd, clientfds[MAX_CLIENTS], num_clients, i;\n",
    "    struct sockaddr_in servaddr, cliaddr;\n",
    "    socklen_t clilen = sizeof(cliaddr);\n",
    "    char buf[1024];\n",
    "    int epfd, nfds;\n",
    "    struct epoll_event ev, events[MAX_EVENTS];\n",
    "\n",
    "    // create socket\n",
    "    sockfd = socket(AF_INET, SOCK_STREAM, 0);\n",
    "\n",
    "    // bind socket to address\n",
    "    memset(&servaddr, 0, sizeof(servaddr));\n",
    "    servaddr.sin_family = AF_INET;\n",
    "    servaddr.sin_addr.s_addr = htonl(INADDR_ANY);\n",
    "    servaddr.sin_port = htons(8080);\n",
    "    bind(sockfd, (struct sockaddr *)&servaddr, sizeof(servaddr));\n",
    "\n",
    "    // listen for incoming connections\n",
    "    listen(sockfd, 5);"
   ]
  },
  {
   "cell_type": "markdown",
   "id": "fb1d662c",
   "metadata": {
    "slideshow": {
     "slide_type": "subslide"
    }
   },
   "source": [
    "<p align='justify' style='margin: 10px 20px; line-height:1.5; font-family: \"Times New Roman\", Times, serif; font-size:16px; color: purple'>\n",
    "    After setting up the server socket, the code creates an epoll instance using epoll_create1(). If this call fails, an error message is printed and the program exits.\n",
    "\n",
    "</p>"
   ]
  },
  {
   "cell_type": "code",
   "execution_count": null,
   "id": "eb4052ec",
   "metadata": {
    "slideshow": {
     "slide_type": "subslide"
    }
   },
   "outputs": [],
   "source": [
    "    // create epoll instance\n",
    "    epfd = epoll_create1(0);\n",
    "    if (epfd == -1) {\n",
    "        perror(\"epoll_create1\");\n",
    "        exit(EXIT_FAILURE);\n",
    "    }"
   ]
  },
  {
   "cell_type": "markdown",
   "id": "54b771dd",
   "metadata": {
    "slideshow": {
     "slide_type": "subslide"
    }
   },
   "source": [
    "<p align='justify' style='margin: 10px 20px; line-height:1.5; font-family: \"Times New Roman\", Times, serif; font-size:16px; color: purple'>\n",
    "    The server socket is added to the epoll instance using epoll_ctl(). If this call fails, an error message is printed and the program exits.\n",
    "\n",
    "</p>"
   ]
  },
  {
   "cell_type": "code",
   "execution_count": null,
   "id": "deb53b5f",
   "metadata": {
    "slideshow": {
     "slide_type": "subslide"
    }
   },
   "outputs": [],
   "source": [
    "    // add server socket to epoll instance\n",
    "    ev.events = EPOLLIN;\n",
    "    ev.data.fd = sockfd;\n",
    "    if (epoll_ctl(epfd, EPOLL_CTL_ADD, sockfd, &ev) == -1) {\n",
    "        perror(\"epoll_ctl: sockfd\");\n",
    "        exit(EXIT_FAILURE);\n",
    "    }"
   ]
  },
  {
   "cell_type": "markdown",
   "id": "86f6d034",
   "metadata": {
    "slideshow": {
     "slide_type": "subslide"
    }
   },
   "source": [
    "<p align='justify' style='margin: 10px 20px; line-height:1.5; font-family: \"Times New Roman\", Times, serif; font-size:16px; color: purple'>\n",
    "    The code then enters an infinite loop where it waits for events on the epoll instance using epoll_wait(). If this call fails, an error message is printed and the program exits.\n",
    "\n",
    "</p>"
   ]
  },
  {
   "cell_type": "code",
   "execution_count": null,
   "id": "e2969ba7",
   "metadata": {
    "slideshow": {
     "slide_type": "subslide"
    }
   },
   "outputs": [],
   "source": [
    "    num_clients = 0;\n",
    "\n",
    "    while (1) {\n",
    "        // wait for events on the epoll instance\n",
    "        nfds = epoll_wait(epfd, events, MAX_EVENTS, -1);\n",
    "        if (nfds == -1) {\n",
    "            perror(\"epoll_wait\");\n",
    "            exit(EXIT_FAILURE);\n",
    "        }\n"
   ]
  },
  {
   "cell_type": "markdown",
   "id": "589c9bf4",
   "metadata": {
    "slideshow": {
     "slide_type": "subslide"
    }
   },
   "source": [
    "<p align='justify' style='margin: 10px 20px; line-height:1.5; font-family: \"Times New Roman\", Times, serif; font-size:16px; color: purple'>\n",
    "    The code then handles the events returned by epoll_wait(). If the event is a new incoming connection on the server socket, it accepts the connection and adds the new client socket to the epoll instance using epoll_ctl(). If this call fails, an error message is printed and the program exits.\n",
    "\n",
    "</p>"
   ]
  },
  {
   "cell_type": "code",
   "execution_count": null,
   "id": "ce5b1533",
   "metadata": {
    "slideshow": {
     "slide_type": "subslide"
    }
   },
   "outputs": [],
   "source": [
    "        // handle events\n",
    "        for (i = 0; i < nfds; i++) {\n",
    "            // handle incoming connection on server socket\n",
    "            if (events[i].data.fd == sockfd) {\n",
    "                // accept incoming connection\n",
    "                int newfd = accept(sockfd, (struct sockaddr *)&cliaddr, &clilen);\n",
    "                if (newfd == -1) {\n",
    "                    perror(\"accept\");\n",
    "                } else {\n",
    "                    // add new client socket to epoll instance\n",
    "                   "
   ]
  },
  {
   "cell_type": "markdown",
   "id": "a6185a55",
   "metadata": {
    "slideshow": {
     "slide_type": "subslide"
    }
   },
   "source": [
    "<h4 style='color:red; font-weight:bold; text-align:center; font-family: \"Times New Roman\", Times, serif; font-size:18px;'>Non-blocking I/O </h4><br>\n",
    "<p align='justify' style='margin: 10px 20px; line-height:1.5; font-family: \"Times New Roman\", Times, serif; font-size:16px; color: purple'>\n",
    "    Non-blocking I/O is a technique that allows I/O operations to be performed without blocking the calling thread or process. This can be achieved using various non-blocking I/O mechanisms, such as fcntl() and the O_NONBLOCK flag. Non-blocking I/O can improve the responsiveness of the system and reduce the risk of I/O-related deadlocks.\n",
    "\n",
    "\n",
    "</p><br>\n",
    "<p align='justify' style='margin: 10px 20px; line-height:1.5; font-family: \"Times New Roman\", Times, serif; font-size:16px; color: black'>\n",
    "    The importance of non-blocking I/O is that it allows programs to perform I/O operations without blocking the execution of other tasks. This means that a program can perform I/O operations in the background while still executing other tasks, which can improve the overall performance and responsiveness of the system.<br><br>Non-blocking I/O can be especially useful in applications that require high concurrency, such as servers that need to handle multiple client connections simultaneously. In these cases, non-blocking I/O allows the server to handle many connections without blocking the main thread, which can lead to better throughput and reduced latency.<br><br>Additionally, non-blocking I/O can help prevent deadlocks in programs that perform I/O operations. In a program that uses blocking I/O, if an I/O operation blocks the main thread, it can cause the entire program to stall, potentially leading to a deadlock. Non-blocking I/O avoids this problem by allowing I/O operations to be performed asynchronously, without blocking the main thread.\n",
    "\n",
    "</p>"
   ]
  },
  {
   "cell_type": "code",
   "execution_count": null,
   "id": "64560764",
   "metadata": {
    "slideshow": {
     "slide_type": "subslide"
    }
   },
   "outputs": [],
   "source": [
    "#include <stdio.h>\n",
    "#include <stdlib.h>\n",
    "#include <string.h>\n",
    "#include <unistd.h>\n",
    "#include <fcntl.h>\n",
    "#include <errno.h>\n",
    "\n",
    "int main() {\n",
    "    char buf[1024];\n",
    "    int fd = open(\"example.txt\", O_RDONLY | O_NONBLOCK);\n",
    "    if (fd == -1) {\n",
    "        perror(\"open\");\n",
    "        exit(EXIT_FAILURE);\n",
    "    }\n",
    "    while (1) {\n",
    "        ssize_t n = read(fd, buf, sizeof(buf));\n",
    "        if (n == -1) {\n",
    "            if (errno == EAGAIN) {\n",
    "                // no data available yet, try again later\n",
    "                printf(\"No data available yet\\n\");\n",
    "                sleep(1);\n",
    "            } else {\n",
    "                perror(\"read\");\n",
    "                exit(EXIT_FAILURE);\n",
    "            }\n",
    "        } else if (n == 0) {\n",
    "            // end of file\n",
    "            printf(\"End of file\\n\");\n",
    "            break;\n",
    "        } else {\n",
    "            printf(\"Read %zd bytes: %.*s\", n, (int)n, buf);\n",
    "        }\n",
    "    }\n",
    "    close(fd);\n",
    "    return 0;\n",
    "}"
   ]
  },
  {
   "cell_type": "markdown",
   "id": "5da101a2",
   "metadata": {
    "slideshow": {
     "slide_type": "subslide"
    }
   },
   "source": [
    "<p align='justify' style='margin: 10px 20px; line-height:1.5; font-family: \"Times New Roman\", Times, serif; font-size:16px; color: purple'>\n",
    "    This code demonstrates the use of non-blocking I/O on a file descriptor. At the beginning of the code, the file \"example.txt\" is opened using the open() system call with the flags O_RDONLY and O_NONBLOCK specified. The former indicates that the file should be opened for reading only, while the latter specifies that non-blocking I/O should be used. <br><br>The program then enters an infinite loop where it attempts to read data from the file using the read() system call. If there is no data available to read at the moment, read() returns -1 and sets the errno value to EAGAIN. In this case, the program prints a message indicating that no data is available yet and waits for one second using the sleep() function before attempting to read again. If read() returns 0, it indicates that the end of the file has been reached, so the program prints a message and breaks out of the loop. Otherwise, if read() returns a positive value, it indicates the number of bytes that were read from the file, and the program prints a message showing the number of bytes read and the data itself.<br><br> Finally, the file descriptor is closed using the close() system call, and the program exits.\n",
    "\n",
    "</p>"
   ]
  },
  {
   "cell_type": "markdown",
   "id": "ef6c8b29",
   "metadata": {
    "slideshow": {
     "slide_type": "subslide"
    }
   },
   "source": [
    "<h4 style='color:red; font-weight:bold; text-align:center; font-family: \"Times New Roman\", Times, serif; font-size:18px;'>Asynchronous I/O</h4><br>\n",
    "<p align='justify' style='margin: 10px 20px; line-height:1.5; font-family: \"Times New Roman\", Times, serif; font-size:16px; color: purple'>\n",
    "    Asynchronous I/O is a technique that allows I/O operations to be performed in the background without blocking the calling thread or process. This is achieved by submitting an I/O operation to the operating system and then continuing with other tasks while the I/O operation is being performed in the background. Once the I/O operation is complete, a notification is sent to the application, which can then retrieve the data or perform additional processing.\n",
    "\n",
    "\n",
    "</p>"
   ]
  },
  {
   "cell_type": "markdown",
   "id": "a1b74dab",
   "metadata": {
    "slideshow": {
     "slide_type": "subslide"
    }
   },
   "source": [
    "<p align='justify' style='margin: 10px 20px; line-height:1.5; font-family: \"Times New Roman\", Times, serif; font-size:16px; color : purple'>\n",
    "    Asynchronous I/O can provide several benefits over synchronous I/O:\n",
    "  <ul style='font-family: \"Times New Roman\", Times, serif; font-weight:light; font-size:16px;'>\n",
    "      <li><b style = \"color: purple\">Improved responsiveness: </b>   Asynchronous I/O allows an application to continue processing while waiting for I/O operations to complete. This can improve the overall responsiveness of the system.</li><br>\n",
    "      <li><b style = \"color: purple\">Scalability: </b>   Asynchronous I/O can improve the scalability of the system, especially when dealing with I/O-intensive applications. By allowing multiple I/O operations to be performed in parallel, asynchronous I/O can help reduce the overall latency of the system.</li><br>\n",
    "      <li><b style = \"color: purple\">Resource utilization:</b>   Asynchronous I/O can help improve the utilization of system resources by allowing multiple I/O operations to be performed in parallel, without the need for multiple threads or processes.</li><br>\n",
    "      \n",
    "      \n",
    "      \n",
    "      \n",
    "    \n",
    "    \n",
    "  </ul>\n",
    "</p><br>"
   ]
  },
  {
   "cell_type": "code",
   "execution_count": null,
   "id": "088932f4",
   "metadata": {
    "slideshow": {
     "slide_type": "subslide"
    }
   },
   "outputs": [],
   "source": [
    "#include <stdio.h>\n",
    "#include <stdlib.h>\n",
    "#include <string.h>\n",
    "#include <unistd.h>\n",
    "#include <fcntl.h>\n",
    "#include <aio.h>\n",
    "#include <errno.h>\n",
    "\n",
    "#define BUF_SIZE 1024\n",
    "\n",
    "int main() {\n",
    "    int fd = open(\"example.txt\", O_RDONLY);\n",
    "    if (fd == -1) {\n",
    "        perror(\"open\");\n",
    "        exit(EXIT_FAILURE);\n",
    "    }\n",
    "\n",
    "    // allocate a buffer for the read operation\n",
    "    char *buf = malloc(BUF_SIZE);\n",
    "    if (buf == NULL) {\n",
    "        perror(\"malloc\");\n",
    "        exit(EXIT_FAILURE);\n",
    "    }\n",
    "\n",
    "    // prepare the asynchronous I/O request\n",
    "    struct aiocb cb;\n",
    "    memset(&cb, 0, sizeof(struct aiocb));\n",
    "    cb.aio_fildes = fd;\n",
    "    cb.aio_buf = buf;\n",
    "    cb.aio_nbytes = BUF_SIZE;\n",
    "\n",
    "    // issue the asynchronous read request\n",
    "    if (aio_read(&cb) == -1) {\n",
    "        perror(\"aio_read\");\n",
    "        exit(EXIT_FAILURE);\n",
    "    }\n",
    "\n",
    "    // wait for the read operation to complete\n",
    "    while (aio_error(&cb) == EINPROGRESS) {\n",
    "        printf(\"Waiting for read operation to complete...\\n\");\n",
    "        sleep(1);\n",
    "    }\n",
    "    if (aio_error(&cb) != 0) {\n",
    "        perror(\"aio_error\");\n",
    "        exit(EXIT_FAILURE);\n",
    "    }\n",
    "\n",
    "    // print the read data\n",
    "    ssize_t n = aio_return(&cb);\n",
    "    printf(\"Read %zd bytes: %.*s\", n, (int)n, buf);\n",
    "\n",
    "    // prepare the asynchronous write request\n",
    "    off_t offset = 0;\n",
    "    memset(&cb, 0, sizeof(struct aiocb));\n",
    "    cb.aio_fildes = fd;\n",
    "    cb.aio_buf = buf;\n",
    "    cb.aio_nbytes = n;\n",
    "    cb.aio_offset = offset;\n",
    "\n",
    "    // issue the asynchronous write request\n",
    "    if (aio_write(&cb) == -1) {\n",
    "        perror(\"aio_write\");\n",
    "        exit(EXIT_FAILURE);\n",
    "    }\n",
    "\n",
    "    // wait for the write operation to complete\n",
    "    while (aio_error(&cb) == EINPROGRESS) {\n",
    "        printf(\"Waiting for write operation to complete...\\n\");\n",
    "        sleep(1);\n",
    "    }\n",
    "    if (aio_error(&cb) != 0) {\n",
    "        perror(\"aio_error\");\n",
    "        exit(EXIT_FAILURE);\n",
    "    }\n",
    "\n",
    "    printf(\"Write operation completed\\n\");\n",
    "\n",
    "    // cleanup\n",
    "    free(buf);\n",
    "    close(fd);\n",
    "\n",
    "    return 0;\n",
    "}\n"
   ]
  },
  {
   "cell_type": "markdown",
   "id": "8bc02344",
   "metadata": {
    "slideshow": {
     "slide_type": "subslide"
    }
   },
   "source": [
    "<p align='justify' style='margin: 10px 20px; line-height:1.5; font-family: \"Times New Roman\", Times, serif; font-size:16px; color: purple'>\n",
    "    This code demonstrates how to perform asynchronous I/O operations using the aio_read and aio_write functions provided by the aio.h library in C. The program starts by opening a file \"example.txt\" in read-only mode using the open system call. If the file cannot be opened, an error message is printed and the program exits. Next, a buffer of size BUF_SIZE is allocated using the malloc function. If the allocation fails, an error message is printed and the program exits. The program then prepares an asynchronous I/O request using the aiocb structure, which contains information about the I/O operation to be performed. The aio_fildes field is set to the file descriptor returned by the open system call, the aio_buf field is set to the buffer allocated earlier, and the aio_nbytes field is set to the size of the buffer.The program issues the asynchronous read request using the aio_read function. If the request fails, an error message is printed and the program exits.<br><br>The program then waits for the read operation to complete using a loop that checks the status of the asynchronous I/O request using the aio_error function. While the request is still in progress, the program prints a message indicating that it is waiting for the read operation to complete and sleeps for one second. Once the read operation has completed, the program prints the read data using the printf function. The number of bytes read is obtained using the aio_return function. The program then prepares an asynchronous write request using the aiocb structure. The aio_fildes field is set to the same file descriptor returned by the open system call, the aio_buf field is set to the same buffer used for the read operation, the aio_nbytes field is set to the number of bytes read, and the aio_offset field is set to 0.<br><br>The program issues the asynchronous write request using the aio_write function. If the request fails, an error message is printed and the program exits. The program then waits for the write operation to complete using a loop that checks the status of the asynchronous I/O request using the aio_error function. While the request is still in progress, the program prints a message indicating that it is waiting for the write operation to complete and sleeps for one second. <br><br>Once the write operation has completed, the program prints a message indicating that the write operation is complete. Finally, the program frees the buffer allocated earlier using the free function, closes the file descriptor using the close system call, and exits.\n",
    "\n",
    "\n",
    "</p>"
   ]
  },
  {
   "cell_type": "markdown",
   "id": "6ebbc7ee",
   "metadata": {
    "slideshow": {
     "slide_type": "subslide"
    }
   },
   "source": [
    "<h4 style='color:red; font-weight:bold; text-align:center; font-family: \"Times New Roman\", Times, serif; font-size:18px;'>Memory-mapped files</h4><br>\n",
    "<p align='justify' style='margin: 10px 20px; line-height:1.5; font-family: \"Times New Roman\", Times, serif; font-size:16px; color: purple'>\n",
    "    Memory-mapped files is a technique that allows a file to be mapped into the memory space of a process, allowing the direct access to the file data from memory. The system call mmap() is used to map a file into the memory space of a process. Once a file is mapped to the memory, its data can be accessed as if it were part of the process's memory.\n",
    "\n",
    "\n",
    "</p><br>\n",
    "<p align='justify' style='margin: 10px 20px; line-height:1.5; font-family: \"Times New Roman\", Times, serif; font-size:16px; color: black'>\n",
    "    Memory-mapped files can be useful when dealing with large files because they improve the performance of I/O operations. Instead of reading and writing data to and from a file, the data can be accessed directly from memory. This technique can be particularly useful in scenarios where multiple processes need to access the same file simultaneously.\n",
    "\n",
    "\n",
    "</p><br>\n",
    "<p align='justify' style='margin: 10px 20px; line-height:1.5; font-family: \"Times New Roman\", Times, serif; font-size:16px; color: purple'>\n",
    "    The following is an example code that shows how to use the mmap() system call to map a file into the memory space of a process:\n",
    "\n",
    "\n",
    "</p>"
   ]
  },
  {
   "cell_type": "code",
   "execution_count": null,
   "id": "deca6ece",
   "metadata": {
    "slideshow": {
     "slide_type": "subslide"
    }
   },
   "outputs": [],
   "source": [
    "#include <stdio.h>\n",
    "#include <stdlib.h>\n",
    "#include <fcntl.h>\n",
    "#include <sys/mman.h>\n",
    "#include <unistd.h>\n",
    "\n",
    "#define FILE_LENGTH 0x100\n",
    "\n",
    "int main() {\n",
    "    int fd;\n",
    "    void *file_memory;\n",
    "\n",
    "    // open file for writing\n",
    "    fd = open(\"example.txt\", O_RDWR, S_IRUSR | S_IWUSR);\n",
    "    if (fd == -1) {\n",
    "        perror(\"open\");\n",
    "        exit(EXIT_FAILURE);\n",
    "    }\n",
    "\n",
    "    // set the size of the file\n",
    "    lseek(fd, FILE_LENGTH + 1, SEEK_SET);\n",
    "    write(fd, \"\", 1);\n",
    "\n",
    "    // map the file to memory\n",
    "    file_memory = mmap(0, FILE_LENGTH, PROT_WRITE, MAP_SHARED, fd, 0);\n",
    "    if (file_memory == MAP_FAILED) {\n",
    "        perror(\"mmap\");\n",
    "        exit(EXIT_FAILURE);\n",
    "    }\n",
    "\n",
    "    // write to the memory-mapped file\n",
    "    sprintf((char *)file_memory, \"Hello, World!\");\n",
    "\n",
    "    // unmap the memory\n",
    "    if (munmap(file_memory, FILE_LENGTH) == -1) {\n",
    "        perror(\"munmap\");\n",
    "        exit(EXIT_FAILURE);\n",
    "    }\n",
    "\n",
    "    // close the file\n",
    "    close(fd);\n",
    "\n",
    "    return 0;\n",
    "}"
   ]
  },
  {
   "cell_type": "markdown",
   "id": "94e196d3",
   "metadata": {
    "slideshow": {
     "slide_type": "subslide"
    }
   },
   "source": [
    "<p align='justify' style='margin: 10px 20px; line-height:1.5; font-family: \"Times New Roman\", Times, serif; font-size:16px; color: purple'>\n",
    "    This program demonstrates the usage of memory-mapped files in C. First, the necessary header files are included - stdio.h, stdlib.h, fcntl.h, sys/mman.h, and unistd.h. The macro FILE_LENGTH is defined with a hexadecimal value of 0x100, which represents the size of the file that will be created. The main function starts by declaring some variables - an integer fd for the file descriptor, and a void pointer file_memory to hold the mapped memory. Then, the file is opened for reading and writing using the open function with the O_RDWR flag and permissions set using S_IRUSR and S_IWUSR. If the file cannot be opened, the program prints an error message and exits. The size of the file is then set using the lseek function to move the file offset to FILE_LENGTH + 1 bytes from the beginning of the file, and then writing a single null byte to that position using the write function. This extends the file to FILE_LENGTH bytes in size.<br><br>Next, the file is mapped to memory using the mmap function. The first argument is the starting address for the mapping, which is set to 0 for the system to choose an appropriate address. The second argument is the length of the mapping, which is set to FILE_LENGTH. The third argument is the protection mode, which is set to PROT_WRITE to allow write access to the memory. The fourth argument is the sharing mode, which is set to MAP_SHARED to allow the mapping to be shared between multiple processes. The fifth argument is the file descriptor, which is the integer fd. The last argument is the offset in the file where the mapping should start, which is set to 0 to map the entire file. After the mapping is created, the memory can be treated as an array and accessed directly. In this program, the string \"Hello, World!\" is written to the mapped memory using the sprintf function. Finally, the memory is unmapped using the munmap function, and the file is closed using the close function.\n",
    "\n",
    "\n",
    "</p>"
   ]
  },
  {
   "cell_type": "markdown",
   "id": "462fbcb4",
   "metadata": {
    "slideshow": {
     "slide_type": "subslide"
    }
   },
   "source": [
    "<h4 style='color:red; font-weight:bold; text-align:center; font-family: \"Times New Roman\", Times, serif; font-size:18px;'>Remote Procedure Call (RPC)</h4><br>\n",
    "<p align='justify' style='margin: 10px 20px; line-height:1.5; font-family: \"Times New Roman\", Times, serif; font-size:16px; color: purple'>\n",
    "    Remote Procedure Call (RPC) is a communication protocol that enables a process running on one host to call a procedure on another host without the programmer being concerned with the details of the underlying network transport.\n",
    "\n",
    "\n",
    "\n",
    "</p><br>\n",
    "<p align='justify' style='margin: 10px 20px; line-height:1.5; font-family: \"Times New Roman\", Times, serif; font-size:16px; color: black'>\n",
    "    The RPC mechanism hides the complexities of the network communication from the programmer, allowing them to focus on the business logic of their application. In an RPC system, the client sends a request to the server, which processes the request and sends a response back to the client. The client then receives the response and continues executing its logic.\n",
    "\n",
    "</p><br>\n",
    "<p align='justify' style='margin: 10px 20px; line-height:1.5; font-family: \"Times New Roman\", Times, serif; font-size:16px; color: black'>\n",
    "    RPC works by packaging up procedure calls into messages and sending them across a network to a remote server, which then executes the requested procedure and sends the result back to the client. The client and server typically use a set of stubs, which act as proxies for the actual procedure calls. These stubs hide the details of the RPC protocol from the programmer and provide a simple interface for making remote procedure calls.\n",
    "\n",
    "</p><br>"
   ]
  },
  {
   "cell_type": "markdown",
   "id": "e46d3da7",
   "metadata": {
    "slideshow": {
     "slide_type": "subslide"
    }
   },
   "source": [
    "<p align='justify' style='margin: 10px 20px; line-height:1.5; font-family: \"Times New Roman\", Times, serif; font-size:16px; color : purple'>\n",
    "    \n",
    "  <ul style='font-family: \"Times New Roman\", Times, serif; font-weight:light; font-size:16px;'>\n",
    "      <li><b style = \"color: purple\">Remote Procedure Call (RPC): </b> Remote Procedure Call is a technique that allows procedures to be called on a remote system as if they were local. This can be achieved using various RPC mechanisms, such as SunRPC and CORBA. RPC can simplify the development of client/server-oriented services by providing a higher-level abstraction for inter-process communication.</li><br>\n",
    "      \n",
    "      \n",
    "      \n",
    "    \n",
    "    \n",
    "  </ul>\n",
    "</p><br>\n",
    "<p align='justify' style='margin: 10px 20px; line-height:1.5; font-family: \"Times New Roman\", Times, serif; font-size:16px; color: purple'>\n",
    "  By leveraging these techniques, administrators can optimize the system for specific workloads and improve the user experience for clients and users. However, it's important to note that these advanced exchange techniques require a solid understanding of the underlying system and may require specialized knowledge and expertise to implement and maintain.\n",
    "\n",
    "</p>"
   ]
  },
  {
   "cell_type": "markdown",
   "id": "ae3b3ff0",
   "metadata": {
    "slideshow": {
     "slide_type": "subslide"
    }
   },
   "source": [
    "<p align='justify' style='margin: 10px 20px; line-height:1.5; font-family: \"Times New Roman\", Times, serif; font-size:16px; color: purple'>\n",
    "    There are several popular RPC mechanisms available, including SunRPC (also known as ONC RPC), CORBA (Common Object Request Broker Architecture), and Microsoft's DCOM (Distributed Component Object Model). These mechanisms provide a range of features, including automatic marshalling and unmarshalling of data, support for multiple programming languages, and security features such as authentication and encryption.\n",
    "\n",
    "</p><br>\n",
    "<p align='justify' style='margin: 10px 20px; line-height:1.5; font-family: \"Times New Roman\", Times, serif; font-size:16px; color: purple'>\n",
    "    RPC has become a popular mechanism for developing distributed applications and services, such as web services, online gaming platforms, and cloud computing platforms. RPC provides a flexible and scalable way to distribute workloads across a network of machines, enabling efficient resource utilization and improved performance.\n",
    "\n",
    "</p>"
   ]
  },
  {
   "cell_type": "markdown",
   "id": "294bb030",
   "metadata": {
    "slideshow": {
     "slide_type": "subslide"
    }
   },
   "source": [
    "<h3 style='color:red; font-weight:bold; text-align:center; font-family: \"Times New Roman\", Times, serif; font-size:20px;'>Named tubes and their role in protocol dialogue  </h3><br>\n",
    "<p align='justify' style='margin: 10px 20px; line-height:1.5; font-family: \"Times New Roman\", Times, serif; font-size:16px; color: purple'>\n",
    "  Named tubes, also known as named pipes, are a type of inter-process communication mechanism that allows two or more processes to communicate with each other using a common file system object. Named tubes are similar to un-named tubes (created using the pipe() system call), but they have a name that can be used to access them like a regular file.\n",
    "\n",
    "</p><br>\n",
    "<p align='justify' style='margin: 10px 20px; line-height:1.5; font-family: \"Times New Roman\", Times, serif; font-size:16px; color: black'>\n",
    "  Named tubes can be used in protocol dialogues to facilitate communication between processes that may not have a direct network connection or to simplify communication between multiple processes. The process that creates the named tube is responsible for opening it and listening for incoming connections. The other processes that wish to communicate with the process that created the named tube can open it like a regular file and write or read data to/from it.\n",
    "\n",
    "</p><br>\n",
    "<p align='justify' style='margin: 10px 20px; line-height:1.5; font-family: \"Times New Roman\", Times, serif; font-size:16px; color : purple'>\n",
    "    Here are some examples of how named tubes can be used in a protocol dialogue:\n",
    "  <ul style='font-family: \"Times New Roman\", Times, serif; font-weight:light; font-size:16px;'>\n",
    "      <li><b style = \"color: purple\">IPC between two processes on the same system: </b>  In this scenario, two processes running on the same system need to communicate with each other, but they may not have a direct network connection. One process can create a named tube and listen for incoming connections, while the other process can open the named tube and write data to it. The first process can then read the data from the named tube and process it.</li>\n",
    "      \n",
    "      \n",
    "      \n",
    "    \n",
    "    \n",
    "  </ul>\n",
    "</p>"
   ]
  },
  {
   "cell_type": "markdown",
   "id": "b2170ea7",
   "metadata": {
    "slideshow": {
     "slide_type": "subslide"
    }
   },
   "source": [
    "<p align='justify' style='margin: 10px 20px; line-height:1.5; font-family: \"Times New Roman\", Times, serif; font-size:16px; color : purple'>\n",
    "    \n",
    "  <ul style='font-family: \"Times New Roman\", Times, serif; font-weight:light; font-size:16px;'>\n",
    "      <li><b style = \"color: purple\">Server-client communication: </b>   In this scenario, a server process needs to communicate with multiple client processes. The server process can create a named tube for each client and listen for incoming connections on each named tube. Each client process can then open its own named tube and write data to it. The server process can read the data from each named tube and process it.</li>\n",
    "      \n",
    "      \n",
    "      \n",
    "    \n",
    "    \n",
    "  </ul>\n",
    "</p><br>\n",
    "<p align='justify' style='margin: 10px 20px; line-height:1.5; font-family: \"Times New Roman\", Times, serif; font-size:16px; color: purple'>\n",
    "  This program is an implementation of a simple server using named pipes for interprocess communication. It creates a named pipe for receiving messages from clients and sends a response back to each client.<br><br>server.c\n",
    "\n",
    "</p>"
   ]
  },
  {
   "cell_type": "code",
   "execution_count": null,
   "id": "314b77a5",
   "metadata": {
    "slideshow": {
     "slide_type": "subslide"
    }
   },
   "outputs": [],
   "source": [
    "#include <stdio.h>\n",
    "#include <stdlib.h>\n",
    "#include <unistd.h>\n",
    "#include <fcntl.h>\n",
    "#include <sys/stat.h>\n",
    "#include <sys/types.h>\n",
    "\n",
    "#define PIPE_NAME \"/tmp/my_pipe\"\n",
    "\n",
    "int main() {\n",
    "    int fd;\n",
    "    char buffer[1024];\n",
    "\n",
    "    // create the named pipe\n",
    "    mkfifo(PIPE_NAME, 0666);\n",
    "\n",
    "    // open the named pipe for reading\n",
    "    fd = open(PIPE_NAME, O_RDONLY);\n",
    "    if (fd == -1) {\n",
    "        perror(\"open\");\n",
    "        exit(EXIT_FAILURE);\n",
    "    }\n",
    "\n",
    "    // read data from the named pipe\n",
    "    while (1) {\n",
    "        ssize_t n = read(fd, buffer, sizeof(buffer));\n",
    "        if (n == -1) {\n",
    "            perror(\"read\");\n",
    "            exit(EXIT_FAILURE);\n",
    "        } else if (n == 0) {\n",
    "            break;  // end of file\n",
    "        } else {\n",
    "            printf(\"Received message: %.*s\", (int)n, buffer);\n",
    "\n",
    "            // send response message\n",
    "            int fd2 = open(PIPE_NAME, O_WRONLY);\n",
    "            if (fd2 == -1) {\n",
    "                perror(\"open\");\n",
    "                exit(EXIT_FAILURE);\n",
    "            }\n",
    "\n",
    "            ssize_t m = write(fd2, \"Response from server\", sizeof(\"Response from server\"));\n",
    "            if (m == -1) {\n",
    "                perror(\"write\");\n",
    "                exit(EXIT_FAILURE);\n",
    "            }\n",
    "            close(fd2);\n",
    "        }\n",
    "    }\n",
    "\n",
    "    // close the named pipe\n",
    "    close(fd);\n",
    "    unlink(PIPE_NAME);\n",
    "\n",
    "    return 0;\n",
    "}"
   ]
  },
  {
   "cell_type": "markdown",
   "id": "7b5a551f",
   "metadata": {
    "slideshow": {
     "slide_type": "subslide"
    }
   },
   "source": [
    "<p align='justify' style='margin: 10px 20px; line-height:1.5; font-family: \"Times New Roman\", Times, serif; font-size:16px; color: purple'>\n",
    "  This program is an implementation of a simple server using named pipes for interprocess communication. It creates a named pipe for receiving messages from clients and sends a response back to each client.\n",
    "\n",
    "</p>"
   ]
  },
  {
   "cell_type": "code",
   "execution_count": null,
   "id": "5855c4f1",
   "metadata": {
    "slideshow": {
     "slide_type": "subslide"
    }
   },
   "outputs": [],
   "source": [
    "#include <stdio.h>\n",
    "#include <stdlib.h>\n",
    "#include <unistd.h>\n",
    "#include <fcntl.h>\n",
    "#include <sys/stat.h>\n",
    "#include <sys/types.h>\n",
    "\n",
    "#define PIPE_NAME \"/tmp/my_pipe\""
   ]
  },
  {
   "cell_type": "markdown",
   "id": "2cb6f0f0",
   "metadata": {
    "slideshow": {
     "slide_type": "subslide"
    }
   },
   "source": [
    "<p align='justify' style='margin: 10px 20px; line-height:1.5; font-family: \"Times New Roman\", Times, serif; font-size:16px; color: purple'>\n",
    "  The above code includes necessary header files and defines a constant PIPE_NAME which is the name of the named pipe used for communication between the server and clients.\n",
    "\n",
    "</p>"
   ]
  },
  {
   "cell_type": "code",
   "execution_count": null,
   "id": "1162397e",
   "metadata": {
    "slideshow": {
     "slide_type": "subslide"
    }
   },
   "outputs": [],
   "source": [
    "int main() {\n",
    "    int fd;\n",
    "    char buffer[1024];\n",
    "\n",
    "    // create the named pipe\n",
    "    mkfifo(PIPE_NAME, 0666);"
   ]
  },
  {
   "cell_type": "markdown",
   "id": "a1554ed8",
   "metadata": {
    "slideshow": {
     "slide_type": "subslide"
    }
   },
   "source": [
    "<p align='justify' style='margin: 10px 20px; line-height:1.5; font-family: \"Times New Roman\", Times, serif; font-size:16px; color: purple'>\n",
    "  In the main function, the program creates the named pipe using the mkfifo function. The 0666 parameter specifies the permissions for the named pipe, allowing read and write access to all users.\n",
    "\n",
    "</p>"
   ]
  },
  {
   "cell_type": "code",
   "execution_count": null,
   "id": "34f489f2",
   "metadata": {
    "slideshow": {
     "slide_type": "subslide"
    }
   },
   "outputs": [],
   "source": [
    "    // open the named pipe for reading\n",
    "    fd = open(PIPE_NAME, O_RDONLY);\n",
    "    if (fd == -1) {\n",
    "        perror(\"open\");\n",
    "        exit(EXIT_FAILURE);\n",
    "    }"
   ]
  },
  {
   "cell_type": "markdown",
   "id": "7c9f9990",
   "metadata": {
    "slideshow": {
     "slide_type": "subslide"
    }
   },
   "source": [
    "<p align='justify' style='margin: 10px 20px; line-height:1.5; font-family: \"Times New Roman\", Times, serif; font-size:16px; color: purple'>\n",
    "  Next, the program opens the named pipe for reading using the open function. If the function fails, it prints an error message using perror and exits.\n",
    "\n",
    "</p>"
   ]
  },
  {
   "cell_type": "code",
   "execution_count": null,
   "id": "0cea22ab",
   "metadata": {
    "slideshow": {
     "slide_type": "subslide"
    }
   },
   "outputs": [],
   "source": [
    "    // read data from the named pipe\n",
    "    while (1) {\n",
    "        ssize_t n = read(fd, buffer, sizeof(buffer));\n",
    "        if (n == -1) {\n",
    "            perror(\"read\");\n",
    "            exit(EXIT_FAILURE);\n",
    "        } else if (n == 0) {\n",
    "            break;  // end of file\n",
    "        } else {\n",
    "            printf(\"Received message: %.*s\", (int)n, buffer);"
   ]
  },
  {
   "cell_type": "markdown",
   "id": "6f2f5e30",
   "metadata": {
    "slideshow": {
     "slide_type": "subslide"
    }
   },
   "source": [
    "<p align='justify' style='margin: 10px 20px; line-height:1.5; font-family: \"Times New Roman\", Times, serif; font-size:16px; color: purple'>\n",
    "  The program enters an infinite loop and reads data from the named pipe using the read function. If the function fails, it prints an error message and exits. If the end of the file is reached, the loop is terminated. Otherwise, the received message is printed to the console.\n",
    "\n",
    "</p>"
   ]
  },
  {
   "cell_type": "code",
   "execution_count": null,
   "id": "e8c28909",
   "metadata": {
    "slideshow": {
     "slide_type": "subslide"
    }
   },
   "outputs": [],
   "source": [
    "            // send response message\n",
    "            int fd2 = open(PIPE_NAME, O_WRONLY);\n",
    "            if (fd2 == -1) {\n",
    "                perror(\"open\");\n",
    "                exit(EXIT_FAILURE);\n",
    "            }\n",
    "\n",
    "            ssize_t m = write(fd2, \"Response from server\", sizeof(\"Response from server\"));\n",
    "            if (m == -1) {\n",
    "                perror(\"write\");\n",
    "                exit(EXIT_FAILURE);\n",
    "            }\n",
    "            close(fd2);\n",
    "        }\n",
    "    }"
   ]
  },
  {
   "cell_type": "markdown",
   "id": "a3faffff",
   "metadata": {
    "slideshow": {
     "slide_type": "subslide"
    }
   },
   "source": [
    "<p align='justify' style='margin: 10px 20px; line-height:1.5; font-family: \"Times New Roman\", Times, serif; font-size:16px; color: purple'>\n",
    "  After receiving a message, the server opens the named pipe for writing using the open function. If the function fails, it prints an error message and exits. It then sends a response message to the client using the write function. If the function fails, it prints an error message and exits. Finally, the server closes the named pipe for writing.\n",
    "\n",
    "</p>"
   ]
  },
  {
   "cell_type": "code",
   "execution_count": null,
   "id": "7119a166",
   "metadata": {
    "slideshow": {
     "slide_type": "subslide"
    }
   },
   "outputs": [],
   "source": [
    "    // close the named pipe\n",
    "    close(fd);\n",
    "    unlink(PIPE_NAME);\n",
    "\n",
    "    return 0;\n",
    "}"
   ]
  },
  {
   "cell_type": "markdown",
   "id": "637461b3",
   "metadata": {
    "slideshow": {
     "slide_type": "subslide"
    }
   },
   "source": [
    "<p align='justify' style='margin: 10px 20px; line-height:1.5; font-family: \"Times New Roman\", Times, serif; font-size:16px; color: purple'>\n",
    "  After the loop is terminated, the program closes the named pipe for reading and removes the named pipe from the file system using the unlink function. The program then returns 0 to indicate successful termination.<br><br>client.c<br><br><strong style = \"color: black\">This code is a client program that uses a named pipe to communicate with a server program.</strong>\n",
    "\n",
    "</p>"
   ]
  },
  {
   "cell_type": "code",
   "execution_count": null,
   "id": "27cf2186",
   "metadata": {
    "slideshow": {
     "slide_type": "subslide"
    }
   },
   "outputs": [],
   "source": [
    "#include <stdio.h>\n",
    "#include <stdlib.h>\n",
    "#include <unistd.h>\n",
    "#include <fcntl.h>\n",
    "#include <sys/stat.h>\n",
    "#include <sys/types.h>\n",
    "\n",
    "#define PIPE_NAME \"/tmp/my_pipe\"\n",
    "\n",
    "int main() {\n",
    "    int fd;\n",
    "    char buffer[1024];\n",
    "\n",
    "    // open the named pipe for writing\n",
    "    fd = open(PIPE_NAME, O_WRONLY);\n",
    "    if (fd == -1) {\n",
    "        perror(\"open\");\n",
    "        exit(EXIT_FAILURE);\n",
    "    }\n",
    "\n",
    "    // send message to the named pipe\n",
    "    char message[] = \"Hello, server!\";\n",
    "    ssize_t n = write(fd, message, sizeof(message));\n",
    "    if (n == -1) {\n",
    "        perror(\"write\");\n",
    "        exit(EXIT_FAILURE);\n",
    "    }\n",
    "\n",
    "    close(fd);\n",
    "\n",
    "    // open the named pipe for reading\n",
    "    fd = open(PIPE_NAME, O_RDONLY);\n",
    "    if (fd == -1) {\n",
    "        perror(\"open\");\n",
    "        exit(EXIT_FAILURE);\n",
    "    }\n",
    "\n",
    "    // read response from the named pipe\n",
    "    ssize_t m = read(fd, buffer, sizeof(buffer));\n",
    "    if (m == -1) {\n",
    "        perror(\"read\");\n",
    "        exit(EXIT_FAILURE);\n",
    "    } else {\n",
    "        printf(\"Received response: %.*s\", (int)m, buffer);\n",
    "    }\n",
    "\n",
    "    // close the named pipe\n",
    "    close(fd);\n",
    "\n",
    "    return 0;\n",
    "}"
   ]
  },
  {
   "cell_type": "markdown",
   "id": "efae1e53",
   "metadata": {
    "slideshow": {
     "slide_type": "subslide"
    }
   },
   "source": [
    "<p align='justify' style='margin: 10px 20px; line-height:1.5; font-family: \"Times New Roman\", Times, serif; font-size:16px; color: purple'>\n",
    "   Here is a detailed explanation of the code:\n",
    "\n",
    "</p>"
   ]
  },
  {
   "cell_type": "code",
   "execution_count": null,
   "id": "f7f09ab8",
   "metadata": {},
   "outputs": [],
   "source": [
    "#include <stdio.h>\n",
    "#include <stdlib.h>\n",
    "#include <unistd.h>\n",
    "#include <fcntl.h>\n",
    "#include <sys/stat.h>\n",
    "#include <sys/types.h>\n",
    "\n",
    "#define PIPE_NAME \"/tmp/my_pipe\"\n",
    "\n",
    "int main() {\n",
    "    int fd;\n",
    "    char buffer[1024];\n",
    "\n",
    "    // open the named pipe for writing\n",
    "    fd = open(PIPE_NAME, O_WRONLY);\n",
    "    if (fd == -1) {\n",
    "        perror(\"open\");\n",
    "        exit(EXIT_FAILURE);\n",
    "    }"
   ]
  },
  {
   "cell_type": "markdown",
   "id": "d48c3540",
   "metadata": {
    "slideshow": {
     "slide_type": "subslide"
    }
   },
   "source": [
    "<p align='justify' style='margin: 10px 20px; line-height:1.5; font-family: \"Times New Roman\", Times, serif; font-size:16px; color: purple'>\n",
    "   The program starts by opening the named pipe for writing using the open() system call. If the open operation fails, an error message is printed and the program exits.\n",
    "\n",
    "</p>"
   ]
  },
  {
   "cell_type": "code",
   "execution_count": null,
   "id": "20573f81",
   "metadata": {
    "slideshow": {
     "slide_type": "subslide"
    }
   },
   "outputs": [],
   "source": [
    "    // send message to the named pipe\n",
    "    char message[] = \"Hello, server!\";\n",
    "    ssize_t n = write(fd, message, sizeof(message));\n",
    "    if (n == -1) {\n",
    "        perror(\"write\");\n",
    "        exit(EXIT_FAILURE);\n",
    "    }"
   ]
  },
  {
   "cell_type": "markdown",
   "id": "e584055b",
   "metadata": {
    "slideshow": {
     "slide_type": "subslide"
    }
   },
   "source": [
    "<p align='justify' style='margin: 10px 20px; line-height:1.5; font-family: \"Times New Roman\", Times, serif; font-size:16px; color: purple'>\n",
    "   The program then writes a message to the named pipe using the write() system call. If the write operation fails, an error message is printed and the program exits.\n",
    "\n",
    "</p>"
   ]
  },
  {
   "cell_type": "code",
   "execution_count": null,
   "id": "8ef925d0",
   "metadata": {
    "slideshow": {
     "slide_type": "subslide"
    }
   },
   "outputs": [],
   "source": [
    "    close(fd);\n",
    "\n",
    "    // open the named pipe for reading\n",
    "    fd = open(PIPE_NAME, O_RDONLY);\n",
    "    if (fd == -1) {\n",
    "        perror(\"open\");\n",
    "        exit(EXIT_FAILURE);\n",
    "    }"
   ]
  },
  {
   "cell_type": "markdown",
   "id": "7afc6f32",
   "metadata": {
    "slideshow": {
     "slide_type": "subslide"
    }
   },
   "source": [
    "<p align='justify' style='margin: 10px 20px; line-height:1.5; font-family: \"Times New Roman\", Times, serif; font-size:16px; color: purple'>\n",
    "   The program then closes the named pipe for writing and reopens it for reading. This is necessary because the server program may not be able to respond immediately, and the client needs to wait for a response.\n",
    "\n",
    "</p>"
   ]
  },
  {
   "cell_type": "code",
   "execution_count": null,
   "id": "2b85d543",
   "metadata": {
    "slideshow": {
     "slide_type": "subslide"
    }
   },
   "outputs": [],
   "source": [
    "    // read response from the named pipe\n",
    "    ssize_t m = read(fd, buffer, sizeof(buffer));\n",
    "    if (m == -1) {\n",
    "        perror(\"read\");\n",
    "        exit(EXIT_FAILURE);\n",
    "    } else {\n",
    "        printf(\"Received response: %.*s\", (int)m, buffer);\n",
    "    }"
   ]
  },
  {
   "cell_type": "markdown",
   "id": "a99f61ed",
   "metadata": {
    "slideshow": {
     "slide_type": "subslide"
    }
   },
   "source": [
    "<p align='justify' style='margin: 10px 20px; line-height:1.5; font-family: \"Times New Roman\", Times, serif; font-size:16px; color: purple'>\n",
    "   The program then reads a response from the named pipe using the read() system call. If the read operation fails, an error message is printed and the program exits. Otherwise, the response is printed to the console.\n",
    "\n",
    "</p>"
   ]
  },
  {
   "cell_type": "code",
   "execution_count": null,
   "id": "7c067da7",
   "metadata": {
    "slideshow": {
     "slide_type": "subslide"
    }
   },
   "outputs": [],
   "source": [
    "    // close the named pipe\n",
    "    close(fd);\n",
    "\n",
    "    return 0;\n",
    "}"
   ]
  },
  {
   "cell_type": "markdown",
   "id": "9ecb43ef",
   "metadata": {
    "slideshow": {
     "slide_type": "subslide"
    }
   },
   "source": [
    "<p align='justify' style='margin: 10px 20px; line-height:1.5; font-family: \"Times New Roman\", Times, serif; font-size:16px; color: purple'>\n",
    "   Finally, the program closes the named pipe and exits. Note that the server program should be running before the client program is executed.\n",
    "\n",
    "</p>"
   ]
  },
  {
   "cell_type": "code",
   "execution_count": null,
   "id": "e85c837d",
   "metadata": {},
   "outputs": [],
   "source": []
  },
  {
   "cell_type": "code",
   "execution_count": null,
   "id": "63028be9",
   "metadata": {},
   "outputs": [],
   "source": [
    "#include <stdio.h>\n",
    "#include <stdlib.h>\n",
    "#include <unistd.h>\n",
    "#include <fcntl.h>\n",
    "#include <sys/stat.h>\n",
    "#include <sys/types.h>\n",
    "#include <string.h>\n",
    "\n",
    "#define FIFO1 \"/tmp/fifo.1\"\n",
    "#define FIFO2 \"/tmp/fifo.2\"\n",
    "#define MAX_BUF 1024\n",
    "\n",
    "int main()\n",
    "{\n",
    "    char buf[MAX_BUF];\n",
    "    int fd1, fd2, n;\n",
    "    fd_set fds;\n",
    "\n",
    "    // create the first named pipe\n",
    "    mkfifo(FIFO1, 0666);\n",
    "\n",
    "    // create the second named pipe\n",
    "    mkfifo(FIFO2, 0666);\n",
    "\n",
    "    // open the first named pipe for reading\n",
    "    fd1 = open(FIFO1, O_RDONLY | O_NONBLOCK);\n",
    "    if (fd1 == -1) {\n",
    "        perror(\"open\");\n",
    "        exit(EXIT_FAILURE);\n",
    "    }\n",
    "\n",
    "    // open the second named pipe for reading\n",
    "    fd2 = open(FIFO2, O_RDONLY | O_NONBLOCK);\n",
    "    if (fd2 == -1) {\n",
    "        perror(\"open\");\n",
    "        exit(EXIT_FAILURE);\n",
    "    }\n",
    "\n",
    "    printf(\"Server started\\n\");\n",
    "\n",
    "    // wait for incoming messages from clients\n",
    "    while (1) {\n",
    "        // set up the file descriptor set for select()\n",
    "        FD_ZERO(&fds);\n",
    "        FD_SET(fd1, &fds);\n",
    "        FD_SET(fd2, &fds);\n",
    "\n",
    "        // use select() to wait for data on either pipe\n",
    "        int res = select(fd2 + 1, &fds, NULL, NULL, NULL);\n",
    "        if (res == -1) {\n",
    "            perror(\"select\");\n",
    "            exit(EXIT_FAILURE);\n",
    "        }\n",
    "\n",
    "        // read data from the first named pipe and broadcast it to all clients\n",
    "        if (FD_ISSET(fd1, &fds)) {\n",
    "            n = read(fd1, buf, MAX_BUF);\n",
    "            if (n > 0) {\n",
    "                printf(\"Received message from client 1: %.*s\\n\", n, buf);\n",
    "\n",
    "                // broadcast the message to all clients (except the sender)\n",
    "                if (write(fd2, buf, n) == -1) {\n",
    "                    perror(\"write\");\n",
    "                    exit(EXIT_FAILURE);\n",
    "                }\n",
    "            }\n",
    "        }\n",
    "\n",
    "        // read data from the second named pipe and broadcast it to all clients\n",
    "        if (FD_ISSET(fd2, &fds)) {\n",
    "            n = read(fd2, buf, MAX_BUF);\n",
    "            if (n > 0) {\n",
    "                printf(\"Received message from client 2: %.*s\\n\", n, buf);\n",
    "\n",
    "                // broadcast the message to all clients (except the sender)\n",
    "                if (write(fd1, buf, n) == -1) {\n",
    "                    perror(\"write\");\n",
    "                    exit(EXIT_FAILURE);\n",
    "                }\n",
    "            }\n",
    "        }\n",
    "    }\n",
    "\n",
    "    // close the named pipes\n",
    "    close(fd1);\n",
    "    close(fd2);\n",
    "    unlink(FIFO1);\n",
    "    unlink(FIFO2);\n",
    "\n",
    "    return 0;\n",
    "}\n"
   ]
  },
  {
   "cell_type": "code",
   "execution_count": null,
   "id": "b8d05fc0",
   "metadata": {},
   "outputs": [],
   "source": []
  },
  {
   "cell_type": "markdown",
   "id": "e7eec114",
   "metadata": {
    "slideshow": {
     "slide_type": "subslide"
    }
   },
   "source": [
    "<p align='justify' style='margin: 10px 20px; line-height:1.5; font-family: \"Times New Roman\", Times, serif; font-size:16px; color: purple'>\n",
    "  This program creates a named pipe using the mkfifo() system call and opens it for reading using the open() system call. The program then reads data from the named pipe using the read() system call and prints it to the screen using the printf() function.\n",
    "\n",
    "</p><br>\n",
    "<h4 style='color:purple; font-weight:bold; text-align:center; font-family: \"Times New Roman\", Times, serif; font-size:18px;'>Exercise on named tubes </h4><br>\n",
    "<p align='justify' style='margin: 10px 20px; line-height:1.5; font-family: \"Times New Roman\", Times, serif; font-size:16px; color: black'>\n",
    "  here's an example of a detailed exercise on named tubes:\n",
    "\n",
    "</p>"
   ]
  },
  {
   "cell_type": "code",
   "execution_count": null,
   "id": "b861a057",
   "metadata": {
    "slideshow": {
     "slide_type": "subslide"
    }
   },
   "outputs": [],
   "source": [
    "./client"
   ]
  },
  {
   "cell_type": "markdown",
   "id": "71db6796",
   "metadata": {
    "slideshow": {
     "slide_type": "subslide"
    }
   },
   "source": [
    "<p align='justify' style='margin: 10px 20px; line-height:1.5; font-family: \"Times New Roman\", Times, serif; font-size:16px; color: purple'>\n",
    "  In another terminal window, run a program that reads data from the named pipe, like the one in the previous example:\n",
    "\n",
    "</p>"
   ]
  },
  {
   "cell_type": "code",
   "execution_count": null,
   "id": "7d3bd033",
   "metadata": {
    "slideshow": {
     "slide_type": "subslide"
    }
   },
   "outputs": [],
   "source": [
    "#include <stdio.h>\n",
    "#include <stdlib.h>\n",
    "#include <unistd.h>\n",
    "#include <fcntl.h>\n",
    "#include <sys/stat.h>\n",
    "\n",
    "int main() {\n",
    "   int fd;\n",
    "   char buf[20];\n",
    "   fd = open(\"/tmp/myfifo\", O_RDONLY); // open the named pipe for reading\n",
    "   read(fd, buf, sizeof(buf)); // read data from the named pipe\n",
    "   printf(\"%s\", buf);\n",
    "   close(fd); // close the named pipe\n",
    "   return 0;\n",
    "}"
   ]
  },
  {
   "cell_type": "markdown",
   "id": "57681720",
   "metadata": {
    "slideshow": {
     "slide_type": "subslide"
    }
   },
   "source": [
    "<p align='justify' style='margin: 10px 20px; line-height:1.5; font-family: \"Times New Roman\", Times, serif; font-size:16px; color: purple'>\n",
    "  Compile and run the program in the second terminal window:\n",
    "\n",
    "</p>"
   ]
  },
  {
   "cell_type": "code",
   "execution_count": null,
   "id": "0f15774c",
   "metadata": {
    "slideshow": {
     "slide_type": "subslide"
    }
   },
   "outputs": [],
   "source": [
    "gcc -o server server.c\n",
    "./server"
   ]
  },
  {
   "cell_type": "markdown",
   "id": "c49a721b",
   "metadata": {
    "slideshow": {
     "slide_type": "subslide"
    }
   },
   "source": [
    "<p align='justify' style='margin: 10px 20px; line-height:1.5; font-family: \"Times New Roman\", Times, serif; font-size:16px; color: purple'>\n",
    "  The server program should read the message sent by the client program and print it to the screen\n",
    "\n",
    "</p>"
   ]
  },
  {
   "cell_type": "markdown",
   "id": "b2d6bea6",
   "metadata": {
    "slideshow": {
     "slide_type": "slide"
    }
   },
   "source": [
    "<h3 style='color:red; font-weight:bold; text-align:center; font-family: \"Times New Roman\", Times, serif; font-size:20px;'>CLIENT/SERVER COMMUNICATION PHASES</h3><br>\n",
    "<p align='justify' style='margin: 10px 20px; line-height:1.5; font-family: \"Times New Roman\", Times, serif; font-size:16px; color : purple'>\n",
    "     \n",
    "  <ul style='font-family: \"Times New Roman\", Times, serif; font-weight:light; font-size:16px;'>\n",
    "      <li>Service listening phase on the server-side  </li>\n",
    "      <li>Establishing contact with the client process  </li>\n",
    "      <li>Actual protocol dialogue and message exchange between client and server </li>\n",
    "      \n",
    "    \n",
    "    \n",
    "  </ul>\n",
    "</p><br>\n",
    "<img src=\"phase0.png\" width=\"150\" height=\"250\" style=\"float: left; margin-right: 20px; margin-left: 20px;\">\n",
    "<p align='justify' style='margin: 10px 20px; line-height:1.5; font-family: \"Times New Roman\", Times, serif; font-size:16px; color: purple'>\n",
    "  The service listening phase is a critical part of the connection establishment phase on the server-side of a client/server communication. During this phase, the server listens for incoming connection requests from clients and prepares to establish a connection with them.\n",
    "\n",
    "</p><br>\n",
    "<p align='justify' style='margin: 10px 20px; line-height:1.5; font-family: \"Times New Roman\", Times, serif; font-size:16px; color: black'>\n",
    "  In order to listen for incoming connection requests, the server typically binds a socket to a specific port number and IP address. The socket is a network communication endpoint that allows data to be sent and received between the server and clients. By binding the socket to a specific port number and IP address, the server can ensure that incoming connection requests are directed to the appropriate service.\n",
    "\n",
    "</p><br>\n",
    "<p align='justify' style='margin: 10px 20px; line-height:1.5; font-family: \"Times New Roman\", Times, serif; font-size:16px; color: black'>\n",
    "  Once the socket is bound, the server enters a loop that continuously listens for incoming connection requests. The specific mechanism for listening for incoming requests can vary depending on the protocol being used, but typically involves using a system call, such as listen() or accept(), to wait for incoming connections.\n",
    "\n",
    "</p>"
   ]
  },
  {
   "cell_type": "markdown",
   "id": "9e135f6c",
   "metadata": {
    "slideshow": {
     "slide_type": "subslide"
    }
   },
   "source": [
    "<p align='justify' style='margin: 10px 20px; line-height:1.5; font-family: \"Times New Roman\", Times, serif; font-size:16px; color: purple'>\n",
    "  When a client sends a connection request to the server, the server accepts the request using the accept() system call. The accept() system call returns a new socket that is used to communicate with the client. The original socket remains bound to the service and continues to listen for incoming connection requests from other clients.\n",
    "\n",
    "</p><br>\n",
    "<p align='justify' style='margin: 10px 20px; line-height:1.5; font-family: \"Times New Roman\", Times, serif; font-size:16px; color: black'>\n",
    "  Once the server has accepted a connection request, it can proceed with negotiating the parameters of the connection and exchanging data with the client. The specific protocol for negotiating parameters and exchanging data can vary depending on the requirements of the client and server, but typically involves sending and receiving messages using the sockets.\n",
    "\n",
    "</p>"
   ]
  },
  {
   "cell_type": "markdown",
   "id": "71faab12",
   "metadata": {
    "slideshow": {
     "slide_type": "subslide"
    }
   },
   "source": [
    "<h4 style='color:red; font-weight:bold; text-align:center; font-family: \"Times New Roman\", Times, serif; font-size:18px;'>Establishing contact with the client process</h4><br>\n",
    "<p align='justify' style='margin: 10px 20px; line-height:1.5; font-family: \"Times New Roman\", Times, serif; font-size:16px; color: purple'>\n",
    "  Establishing contact with the client process is a critical part of the connection establishment phase on the server-side of a client/server communication. Once the server has successfully bound a socket to a specific port number and IP address, and is listening for incoming connection requests, it must establish contact with the client process that sent the request.\n",
    "\n",
    "</p><br>\n",
    "<p align='justify' style='margin: 10px 20px; line-height:1.5; font-family: \"Times New Roman\", Times, serif; font-size:16px; color: black'>\n",
    "  To establish contact with the client process, the server typically uses the accept() system call. The accept() system call blocks the server process until a client process sends a connection request. Once a client process sends a connection request, the accept() system call creates a new socket for the server to communicate with that specific client process.\n",
    "\n",
    "</p><br>\n",
    "<p align='justify' style='margin: 10px 20px; line-height:1.5; font-family: \"Times New Roman\", Times, serif; font-size:16px; color: black'>\n",
    "  The new socket returned by the accept() system call is unique to the client process and is used to exchange data between the server and the client. This new socket is also bound to a different port number and IP address than the original socket used by the server to listen for incoming connection requests. This allows the server to handle multiple client processes simultaneously, each with its own unique socket.\n",
    "\n",
    "</p>"
   ]
  },
  {
   "cell_type": "markdown",
   "id": "5b31cf99",
   "metadata": {
    "slideshow": {
     "slide_type": "subslide"
    }
   },
   "source": [
    "<p align='justify' style='margin: 10px 20px; line-height:1.5; font-family: \"Times New Roman\", Times, serif; font-size:16px; color: purple'>\n",
    "  Once the server has established contact with the client process, it can proceed with negotiating the parameters of the connection and exchanging data with the client. The specific protocol for negotiating parameters and exchanging data can vary depending on the requirements of the client and server, but typically involves sending and receiving messages using the sockets.\n",
    "\n",
    "</p><br>\n",
    "<p align='justify' style='margin: 10px 20px; line-height:1.5; font-family: \"Times New Roman\", Times, serif; font-size:16px; color: purple'>\n",
    "  It's important for administrators to understand the process of establishing contact with the client process, as it is critical to establishing a connection with clients and exchanging data with them. Understanding how to use the accept() system call to create a new socket for each client process, and how to handle multiple client processes simultaneously, is essential for implementing custom configurations and troubleshooting issues related to protocol behavior.\n",
    "\n",
    "</p>"
   ]
  },
  {
   "cell_type": "markdown",
   "id": "180d9a57",
   "metadata": {
    "slideshow": {
     "slide_type": "subslide"
    }
   },
   "source": [
    "<h4 style='color:red; font-weight:bold; text-align:center; font-family: \"Times New Roman\", Times, serif; font-size:18px;'>Actual protocol dialogue and message exchange between client and server </h4><br>\n",
    "<p align='justify' style='margin: 10px 20px; line-height:1.5; font-family: \"Times New Roman\", Times, serif; font-size:16px; color: purple'>\n",
    "    The actual protocol dialogue and message exchange between the client and server is a critical part of the data transfer phase in a client/server communication. During this phase, the client and server exchange messages to transfer data between each other.\n",
    "\n",
    "\n",
    "</p><br>\n",
    "<p align='justify' style='margin: 10px 20px; line-height:1.5; font-family: \"Times New Roman\", Times, serif; font-size:16px; color: black'>\n",
    "    The specific protocol for exchanging messages and transferring data can vary depending on the requirements of the client and server. However, most protocols follow a common structure, consisting of a request message and a response message. The client sends a request message to the server, and the server responds with a response message.\n",
    "\n",
    "\n",
    "</p><br>\n",
    "<p align='justify' style='margin: 10px 20px; line-height:1.5; font-family: \"Times New Roman\", Times, serif; font-size:16px; color: black'>\n",
    "    The request and response messages can contain various parameters and data, depending on the requirements of the client and server. For example, a HTTP request message typically contains a method, URL, headers, and body, while a HTTP response message typically contains a status code, headers, and body. Similarly, a FTP request message typically contains commands, and a FTP response message typically contains replies.\n",
    "\n",
    "\n",
    "</p><br>\n",
    "<p align='justify' style='margin: 10px 20px; line-height:1.5; font-family: \"Times New Roman\", Times, serif; font-size:16px; color: black'>\n",
    "    The specific protocol for exchanging messages and transferring data can also be optimized using advanced techniques, such as multiplexing or non-blocking I/O. These techniques can improve the performance and reliability of the communication, especially for protocols that require high-speed data transfer.\n",
    "\n",
    "\n",
    "</p><br>"
   ]
  },
  {
   "cell_type": "markdown",
   "id": "bf88fc32",
   "metadata": {
    "slideshow": {
     "slide_type": "slide"
    }
   },
   "source": [
    "<h3 style='color:red; font-weight:bold; text-align:center; font-family: \"Times New Roman\", Times, serif; font-size:20px;'>EXCHANGE BY WRITING IN MASS MEMORY</h3><br>\n",
    "<p align='justify' style='margin: 10px 20px; line-height:1.5; font-family: \"Times New Roman\", Times, serif; font-size:16px; color : purple'>\n",
    "     Exchange by writing in mass memory\n",
    "  <ul style='font-family: \"Times New Roman\", Times, serif; font-weight:light; font-size:16px;'>\n",
    "      <li>Explanation of shared memory and its advantages for inter-process communication </li>\n",
    "      <li>Mechanisms for allocating and accessing shared memory </li>\n",
    "      <li>Techniques for synchronizing access to shared memory </li>\n",
    "      \n",
    "      \n",
    "      \n",
    "    \n",
    "    \n",
    "  </ul>\n",
    "</p><br>\n",
    "<img src=\"phase0.png\" width=\"150\" height=\"250\" style=\"float: left; margin-right: 20px; margin-left: 20px;\">\n",
    "<p align='justify' style='margin: 10px 20px; line-height:1.5; font-family: \"Times New Roman\", Times, serif; font-size:16px; color: purple'>\n",
    "  In computer systems, inter-process communication (IPC) is a technique used to enable communication between two or more processes running on the same or different computers. One of the most common methods of IPC is through shared memory, which allows two or more processes to access the same region of memory in order to share data.\n",
    "</p><br>\n",
    "<p align='justify' style='margin: 10px 20px; line-height:1.5; font-family: \"Times New Roman\", Times, serif; font-size:16px; color: black'>\n",
    "  In computer systems, inter-process communication (IPC) is a technique used to enable communication between two or more processes running on the same or different computers. One of the most common methods of IPC is through shared memory, which allows two or more processes to access the same region of memory in order to share data.\n",
    "</p><br>\n",
    "<p align='justify' style='margin: 10px 20px; line-height:1.5; font-family: \"Times New Roman\", Times, serif; font-size:16px; color: black'>\n",
    "  Shared memory is a mechanism by which two or more processes can communicate with each other by accessing the same region of memory. In this approach, a piece of memory is allocated to be shared by multiple processes, allowing them to read and write data to and from the same region of memory. The processes involved in shared memory communication can be on the same machine or distributed across a network.\n",
    "\n",
    "\n",
    "</p><br>\n",
    "<p align='justify' style='margin: 10px 20px; line-height:1.5; font-family: \"Times New Roman\", Times, serif; font-size:16px; color: black'>\n",
    "  The main advantage of using shared memory for inter-process communication is that it allows for high-speed data exchange between processes. This is because the data does not have to be transferred between processes through system calls or other slow mechanisms. Instead, the processes can simply read from or write to the shared memory region as needed.\n",
    "\n",
    "\n",
    "</p>"
   ]
  },
  {
   "cell_type": "markdown",
   "id": "bf6ffcda",
   "metadata": {
    "slideshow": {
     "slide_type": "subslide"
    }
   },
   "source": [
    "<p align='justify' style='margin: 10px 20px; line-height:1.5; font-family: \"Times New Roman\", Times, serif; font-size:16px; color: purple'>\n",
    "    Shared memory also simplifies the design of communication between processes. Since the processes can read and write to the same memory region, they can communicate directly without the need for a complex protocol or messaging system. This makes shared memory an ideal mechanism for implementing low-level inter-process communication in high-performance computing systems, where speed and efficiency are critical.\n",
    "\n",
    "\n",
    "</p><br>\n",
    "<p align='justify' style='margin: 10px 20px; line-height:1.5; font-family: \"Times New Roman\", Times, serif; font-size:16px; color: black'>\n",
    "    In addition to these advantages, shared memory can also reduce system overhead by reducing the number of system calls required for inter-process communication. This can lead to improved system performance and reduced resource utilization, making shared memory an attractive option for many applications.\n",
    "\n",
    "\n",
    "</p>"
   ]
  },
  {
   "cell_type": "markdown",
   "id": "675451ab",
   "metadata": {
    "slideshow": {
     "slide_type": "subslide"
    }
   },
   "source": [
    "<h4 style='color:red; font-weight:bold; text-align:center; font-family: \"Times New Roman\", Times, serif; font-size:18px;'>Mechanisms for allocating and accessing shared memory</h4><br>\n",
    "<p align='justify' style='margin: 10px 20px; line-height:1.5; font-family: \"Times New Roman\", Times, serif; font-size:16px; color: purple'>\n",
    "    Shared memory is a powerful inter-process communication (IPC) mechanism that enables multiple processes to access a common region of memory. In shared memory, a single memory segment is mapped into the address space of multiple processes, allowing them to read and write data to and from the same location in memory.\n",
    "\n",
    "\n",
    "\n",
    "\n",
    "</p><br>\n",
    "<p align='justify' style='margin: 10px 20px; line-height:1.5; font-family: \"Times New Roman\", Times, serif; font-size:16px; color : purple'>\n",
    "    The advantages of shared memory for inter-process communication include:\n",
    "  <ul style='font-family: \"Times New Roman\", Times, serif; font-weight:light; font-size:16px;'>\n",
    "      <li><b style = \"color: purple\">Efficiency:  </b>  Shared memory is a fast and efficient way for processes to communicate because it avoids the overhead of copying data between processes.</li><br>\n",
    "      <li><b style = \"color: purple\">Synchronization:  </b>  Shared memory is a fast and efficient way for processes to communicate because it avoids the overhead of copying data between processes.</li><br>\n",
    "      <li><b style = \"color: purple\">Flexibility:  </b>  Shared memory is a flexible IPC mechanism that can be used for a wide range of applications, from simple data sharing to more complex coordination and synchronization tasks.</li><br>\n",
    "      \n",
    "      \n",
    "      \n",
    "    \n",
    "    \n",
    "  </ul>\n",
    "</p>"
   ]
  },
  {
   "cell_type": "markdown",
   "id": "8fd94db4",
   "metadata": {
    "slideshow": {
     "slide_type": "subslide"
    }
   },
   "source": [
    "<p align='justify' style='margin: 10px 20px; line-height:1.5; font-family: \"Times New Roman\", Times, serif; font-size:16px; color : purple'>\n",
    "    Mechanisms for allocating and accessing shared memory vary depending on the operating system. Some common methods for allocating and accessing shared memory include:\n",
    "  <ul style='font-family: \"Times New Roman\", Times, serif; font-weight:light; font-size:16px;'>\n",
    "      <li><b style = \"color: purple\">System V IPC: </b>   System V IPC provides a set of functions for creating and managing shared memory segments. These functions include shmget(), which creates a new shared memory segment, shmat(), which attaches a shared memory segment to a process's address space, and shmdt(), which detaches a shared memory segment from a process's address space.</li><br>\n",
    "      <li><b style = \"color: purple\">POSIX Shared Memory:  </b>  POSIX provides a set of functions for creating and managing shared memory segments that are based on the mmap() system call. These functions include shm_open(), which creates a new shared memory object, mmap(), which maps a shared memory object to a process's address space, and munmap(), which unmaps a shared memory object from a process's address space.</li><br>\n",
    "      <li><b style = \"color: purple\">Memory Mapped Files:  </b>   Memory mapped files provide a way to map a file into a process's address space, allowing multiple processes to share the same data. This mechanism is similar to shared memory, but the data is stored in a file on disk rather than in memory.</li><br>\n",
    "      <li><b style = \"color: purple\">Virtual Memory: </b>  Virtual memory provides a way for processes to share memory indirectly by mapping the same physical memory to multiple virtual addresses. This mechanism is used to share code and data between processes, and to support demand paging.</li>\n",
    "      \n",
    "      \n",
    "      \n",
    "    \n",
    "    \n",
    "  </ul>\n",
    "</p>"
   ]
  },
  {
   "cell_type": "markdown",
   "id": "2873089e",
   "metadata": {
    "slideshow": {
     "slide_type": "subslide"
    }
   },
   "source": [
    "<h4 style='color:red; font-weight:bold; text-align:center; font-family: \"Times New Roman\", Times, serif; font-size:18px;'>Techniques for synchronizing access to shared memory</h4><br>\n",
    "<p align='justify' style='margin: 10px 20px; line-height:1.5; font-family: \"Times New Roman\", Times, serif; font-size:16px; color: purple'>\n",
    "    When multiple processes or threads have access to shared memory, it is important to ensure that they do not interfere with each other and cause unexpected behavior. Synchronization is the process of coordinating the access of multiple processes or threads to shared resources, in this case, shared memory. There are several techniques for synchronizing access to shared memory:\n",
    "\n",
    "</p><br><br>\n",
    "<p align='justify' style='margin: 10px 20px; line-height:1.5; font-family: \"Times New Roman\", Times, serif; font-size:16px; color : purple'>\n",
    "    \n",
    "  <ul style='font-family: \"Times New Roman\", Times, serif; font-weight:light; font-size:16px;'>\n",
    "      <li><b style = \"color: purple\">Semaphores:  </b> A semaphore is a synchronization mechanism that allows multiple processes or threads to access a shared resource or pool of resources. Semaphores provide a way to ensure that only one process or thread at a time can access a shared resource.</li><br>\n",
    "      <li><b style = \"color: purple\">Mutexes:  </b> A mutex is a mutual exclusion object that provides a way to ensure that only one process or thread at a time can access a shared resource. Mutexes are used to prevent multiple processes or threads from accessing shared memory at the same time.</li><br>\n",
    "      <li><b style = \"color: purple\">Spinlocks:  </b> A spinlock is a synchronization mechanism that allows a thread to repeatedly check if a lock is available before acquiring it. Spinlocks are useful in cases where the time required to acquire a lock is short.</li><br>\n",
    "      <li><b style = \"color: purple\">Barrier synchronization:  </b> A barrier is a synchronization mechanism that allows multiple processes or threads to synchronize at a particular point in a program. Barrier synchronization is useful when multiple processes or threads need to wait for each other to reach a certain point in their execution before continuing.</li><br>\n",
    "      <li><b style = \"color: purple\">Read-Write locks: </b> A read-write lock is a synchronization mechanism that allows multiple processes or threads to read from a shared resource simultaneously, but only one process or thread at a time can write to the resource. Read-write locks are useful when the shared resource is read frequently but written to infrequently.\n",
    "\n",
    "</li>\n",
    "\n",
    "  </ul>\n",
    "</p>"
   ]
  },
  {
   "cell_type": "code",
   "execution_count": null,
   "id": "640d6c5f",
   "metadata": {},
   "outputs": [],
   "source": []
  }
 ],
 "metadata": {
  "celltoolbar": "Slideshow",
  "kernelspec": {
   "display_name": "Python 3 (ipykernel)",
   "language": "python",
   "name": "python3"
  },
  "language_info": {
   "codemirror_mode": {
    "name": "ipython",
    "version": 3
   },
   "file_extension": ".py",
   "mimetype": "text/x-python",
   "name": "python",
   "nbconvert_exporter": "python",
   "pygments_lexer": "ipython3",
   "version": "3.9.13"
  },
  "toc": {
   "base_numbering": 1,
   "nav_menu": {},
   "number_sections": false,
   "sideBar": true,
   "skip_h1_title": false,
   "title_cell": "Table of Contents",
   "title_sidebar": "Contents",
   "toc_cell": false,
   "toc_position": {
    "height": "348.182px",
    "left": "31px",
    "top": "216px",
    "width": "216.179px"
   },
   "toc_section_display": true,
   "toc_window_display": false
  }
 },
 "nbformat": 4,
 "nbformat_minor": 5
}
