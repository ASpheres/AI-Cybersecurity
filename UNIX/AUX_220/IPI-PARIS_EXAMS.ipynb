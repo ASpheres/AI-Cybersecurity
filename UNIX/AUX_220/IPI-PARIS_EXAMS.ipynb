{
 "cells": [
  {
   "cell_type": "markdown",
   "id": "de15c510",
   "metadata": {
    "slideshow": {
     "slide_type": "slide"
    }
   },
   "source": [
    "<a href=\"https://asphere.fr/\">\n",
    "    <img src=\"logo2.png\" width=\"500\" height=\"400\" style=\"display: block; margin: 0 auto;\">\n",
    "</a><br><br><br>\n",
    "<h1 style=\"text-align: center; font-family: 'Times New Roman', Times,serif ; color: purple; margin-right: 25px; margin-left: 70px;\">IPI-PARIS AUX_220 EXAMS</h1><br><br>\n",
    "\n",
    "\n",
    "<h5 style=\"text-align: center; font-family: 'Times New Roman', Times,serif ; color: black; margin-right: 25px; margin-left: 70px;\">DURATION: Two Hours (2Hrs)</h5>\n",
    "<h4 style=\"text-align: center; font-family: 'Times New Roman', Times,serif ; color: black; margin-right: 25px; \n",
    "<a href=\"https://www.ipi-ecoles.com/\">\n",
    "    <img src=\"ipi.png\" width=\"100\" height=\"100\" style=\"float: right; margin-right: 25px; margin-left: 70px;\">\n",
    "</a>\n",
    "                                                                                                            <h5 style=\"text-align: center; font-family: 'Times New Roman', Times,serif ; color: purple; margin-right: 90px; margin-left: 225px;\">To deepen the understanding of the mechanisms that govern most client/server dialogues, this module focuses on the experience of writing High-Level protocols and integrating security mechanisms related to code.</h5>"
   ]
  },
  {
   "cell_type": "markdown",
   "id": "34b64f9f",
   "metadata": {
    "slideshow": {
     "slide_type": "subslide"
    }
   },
   "source": [
    "<h3 style='color:red; font-weight:bold; text-align:center; font-family: \"Times New Roman\", Times, serif;'>EXAMINATION</h3><br>\n",
    "<p align='justify' style='margin: 10px 20px; line-height:1.5; font-family: \"Times New Roman\", Times, serif; font-size:16px; color: purple'>\n",
    "  Answer Q.6, Q7 and any other two fom Q.1 to Q.5\n",
    "\n",
    "</p><br>\n",
    "<p align='justify' style='margin: 10px 20px; color : black; line-height:1.5; font-family: \"Times New Roman\", Times, serif; font-size:16px;'>\n",
    "    Q1. Please write a C program that demonstrates interprocess communication using pipes. The program should create a pipe, fork a child process, and use the pipe to send the message \"Hello, world!\\n\" from the child process to the parent process. \n",
    "</p><br>\n",
    "<p align='justify' style='margin: 10px 20px; color : black; line-height:1.5; font-family: \"Times New Roman\", Times, serif; font-size:16px;'>\n",
    "    Q2. Please write a C program that creates a TCP server that can handle multiple client connections simultaneously using the poll system call. The program should listen for incoming connections on port 8080 and echo back any data received from the clients. Your program should use the following functions: socket, bind, listen, accept, read, write, poll, and close. \n",
    "</p><br>\n",
    "<p align='justify' style='margin: 10px 20px; color : black; line-height:1.5; font-family: \"Times New Roman\", Times, serif; font-size:16px;'>\n",
    "    Q3. Please write a C program that creates a TCP server that can handle multiple client connections simultaneously using the epoll system call. The program should listen for incoming connections on port 8080 and echo back any data received from the clients. Your program should use the following functions: socket, bind, listen, accept, read, write, epoll_create1, epoll_ctl, epoll_wait, and close. Your program should handle any errors that might occur and include appropriate error checking. \n",
    "</p><br>\n",
    "<p align='justify' style='margin: 10px 20px; color : black; line-height:1.5; font-family: \"Times New Roman\", Times, serif; font-size:16px;'>\n",
    "    Q4. Please write a C program that demonstrates asynchronous I/O using the POSIX aio library. The program should read the contents of the file \"example.txt\" using asynchronous I/O, and then write the read data back to the file using asynchronous I/O. Your program should use the following functions: open, close, malloc, aio_read, aio_write, aio_return, aio_error, and free. Your program should handle any errors that might occur and include appropriate error checking. \n",
    "</p><br>\n",
    "<p align='justify' style='margin: 10px 20px; color : black; line-height:1.5; font-family: \"Times New Roman\", Times, serif; font-size:16px;'>\n",
    "    Q5. Please write a C program that demonstrates interprocess communication using a named pipe. The program should create a named pipe \"/tmp/my_pipe\", open it for reading, and then read data from it. For each message received, the program should print the message to the console and then send a response message \"Response from server\" back to the named pipe. Your program should use the following functions: mkfifo, open, read, write, close, and unlink. Your program should handle any errors that might occur and include appropriate error checking. \n",
    "</p><br>\n",
    "<p align='justify' style='margin: 10px 20px; color : black; line-height:1.5; font-family: \"Times New Roman\", Times, serif; font-size:16px;'>\n",
    "    Q6. Please write a C program that prompts the user for a username and password, and checks if they match a set of credentials stored either in a file called \"users.txt\" in the format \"username:password\", or hardcoded in the program itself. If the entered username and password match both credentials, the program should print \"Access granted.\" and return 0. Otherwise, it should print \"Access denied.\" and return 1. \n",
    "</p><br>\n",
    "<p align='justify' style='margin: 10px 20px; color : black; line-height:1.5; font-family: \"Times New Roman\", Times, serif; font-size:16px;'>\n",
    "    Q7. Please write a C program that encrypts a user-provided plaintext using AES-128 in CBC mode with a 128-bit key and a 128-bit initialization vector. Your program should prompt the user for the plaintext, key, and initialization vector, and output the resulting ciphertext in hexadecimal format. Your program should use the OpenSSL library functions EVP_CIPHER_CTX_new, EVP_EncryptInit_ex, EVP_EncryptUpdate, EVP_EncryptFinal_ex, and EVP_CIPHER_CTX_free to perform the encryption. Your program should handle any errors that might occur and include appropriate error checking. \n",
    "</p><br>\n"
   ]
  }
 ],
 "metadata": {
  "celltoolbar": "Slideshow",
  "kernelspec": {
   "display_name": "Python 3 (ipykernel)",
   "language": "python",
   "name": "python3"
  },
  "language_info": {
   "codemirror_mode": {
    "name": "ipython",
    "version": 3
   },
   "file_extension": ".py",
   "mimetype": "text/x-python",
   "name": "python",
   "nbconvert_exporter": "python",
   "pygments_lexer": "ipython3",
   "version": "3.9.13"
  },
  "toc": {
   "base_numbering": 1,
   "nav_menu": {},
   "number_sections": false,
   "sideBar": true,
   "skip_h1_title": false,
   "title_cell": "Table of Contents",
   "title_sidebar": "Contents",
   "toc_cell": false,
   "toc_position": {
    "height": "calc(100% - 180px)",
    "left": "10px",
    "top": "150px",
    "width": "248.352px"
   },
   "toc_section_display": true,
   "toc_window_display": false
  }
 },
 "nbformat": 4,
 "nbformat_minor": 5
}
