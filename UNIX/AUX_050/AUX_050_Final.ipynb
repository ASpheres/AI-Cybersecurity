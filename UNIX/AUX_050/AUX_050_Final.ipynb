{
 "cells": [
  {
   "cell_type": "markdown",
   "id": "30419659",
   "metadata": {
    "slideshow": {
     "slide_type": "slide"
    }
   },
   "source": [
    "<a href=\"https://asphere.fr/\">\n",
    "    <img src=\"logo2.png\" width=\"500\" height=\"400\" style=\"display: block; margin: 0 auto;\">\n",
    "</a>\n",
    "<h1 style=\"text-align: center; font-family: 'Times New Roman', Times,serif ; color: purple; margin-right: 25px; margin-left: 70px;\">UNIX ADMINISTRATION</h1>\n",
    "<h4 style=\"text-align: center; font-family: 'Times New Roman', Times,serif ; color: black; margin-right: 25px; margin-left: 70px;\">AUX_050</h4>\n",
    "<h5 style=\"text-align: center; font-family: 'Times New Roman', Times,serif ; color: black; margin-right: 25px; margin-left: 70px;\">DURATION: Three Days (21 Hrs)</h5>\n",
    "<h4 style=\"text-align: center; font-family: 'Times New Roman', Times,serif ; color: black; margin-right: 25px; margin-left: 70px;\">OBJECTIVES</h4>\n",
    "<a href=\"https://asphere.fr/\">\n",
    "    <img src=\"unixlinux.webp\" width=\"100\" height=\"100\" style=\"float: right; margin-right: 25px; margin-left: 70px;\">\n",
    "</a>\n",
    "<h5 style=\"text-align: center; font-family: 'Times New Roman', Times,serif ; color: purple; margin-right: 90px; margin-left: 225px;\">Build shell scripts to automate common Unix/Linux administrator tasks, Mastering loops, advanced functions, building interactive shell menus, background scripting</h5>"
   ]
  },
  {
   "cell_type": "markdown",
   "id": "e0859aca",
   "metadata": {
    "slideshow": {
     "slide_type": "subslide"
    }
   },
   "source": [
    "<h3 style='color:red; font-weight:bold; text-align:center; font-family: \"Times New Roman\", Times, serif;'>OVERVIEW</h3>\n",
    "\n",
    "<p align='justify' style='margin: 10px 20px; line-height:1.5; font-family: \"Times New Roman\", Times, serif; font-size:16px;'>\n",
    "  The Unix Administration Level 2 course, with a duration of 3 days or 21 hours, is designed for those who have a basic knowledge of Shell scripting and want to improve their skills to automate common tasks of an Unix/Linux system administrator. The teaching method is hands-on training, which means that students will be engaged in practical exercises throughout the course.<br>The course is focused on advanced Shell scripting techniques, including loops, functions, interactive menus, running scripts in the background, and other advanced features. The main objective is to enable students to build powerful and efficient scripts that can automate various tasks, such as managing users, starting services, monitoring file system load, and managing backups/restorations.<br>During the course, students will learn how to construct scripts that are easy to maintain, debug and modify, and how to integrate them into their daily tasks as a Unix/Linux system administrator. By the end of the course, students should be able to write complex scripts that automate tasks in a more efficient way, and save significant time and effort in their daily work.\n",
    "</p><br><br>\n",
    "\n",
    "<p align='justify' style='margin: 10px 20px; line-height:1.5; font-family: \"Times New Roman\", Times, serif; font-size:16px;color: purple'>\n",
    "  Overall, the Unix Administration Level 2 course is an ideal choice for those who want to take their Shell scripting skills to the next level and learn how to automate the common tasks of a Unix/Linux system administrator. \n",
    "</p>"
   ]
  },
  {
   "cell_type": "markdown",
   "id": "8c09a6bf",
   "metadata": {
    "slideshow": {
     "slide_type": "slide"
    }
   },
   "source": [
    "<h2 style='color:red; font-weight:bold; text-align:center; font-family: \"Times New Roman\", Times, serif;font-size:22px;'>INTRODUCTION TO SHELL SCRIPTING FOR AUTOMATION</h2><br>\n",
    "<p align='justify' style='margin: 10px 20px; line-height:1.5; font-family: \"Times New Roman\", Times, serif; font-size:16px;color: purple'>\n",
    "    <strong>Introduction to shell scripting for automation</strong>\n",
    "    \n",
    "  <ul style='font-family: \"Times New Roman\", Times, serif; font-weight:light; font-size:16px;'>\n",
    "      <li><b>Overview of shell scripting and its role in automation </b></li>\n",
    "      <li><b>Setting up a development environment for shell scripting\n",
    " </b></li>\n",
    "      \n",
    "    \n",
    "    \n",
    "  </ul>\n",
    "</p><br>\n",
    "<img src=\"Your-One-and-Only-Linux-Shell-Scripting-Tutorial.webp\" width=\"150\" height=\"250\" style=\"float: left; margin-right: 20px; margin-left: 20px;\">\n",
    "<p align='justify' style='margin: 10px 20px; line-height:1.5; font-family: \"Times New Roman\", Times, serif; font-size:16px; color: purple'>\n",
    "  Shell scripting is a powerful tool for automating tasks in the Unix/Linux operating system. It allows you to write scripts that can perform a series of commands, making it easy to automate repetitive or complex tasks. In order to get started with shell scripting, you will need a Unix/Linux system with a shell interpreter, such as <br><br>bash (the Bourne Again SHell) or zsh (the Z shell). You will also need a text editor to create and edit your scripts. Installation of a Unix/Linux system is explained in AUX_080, Please make sure you have finished AUX_080 before taking this course. \n",
    "\n",
    "</p><br>\n",
    "<p align='justify' style='margin: 10px 20px; line-height:1.5; font-family: \"Times New Roman\", Times, serif; font-size:16px; color: black'>\n",
    "  Before you begin writing shell scripts, it's helpful to understand some basic concepts of the shell. This includes understanding the different types of shell available, how to use shell variables and expansion, and the basic syntax and control structures of the shell, such as if statements and loops (Explained in AUX_080). Once you have a basic understanding of the shell, you can start writing simple shell scripts to automate tasks. This might involve writing scripts to automate system maintenance tasks, such as backups or updates, or scripts to automate user or network management tasks.\n",
    "\n",
    "</p><br>\n",
    "<p align='justify' style='margin: 10px 20px; line-height:1.5; font-family: \"Times New Roman\", Times, serif; font-size:16px; color: purple'>\n",
    "  As you become more familiar with shell scripting, you can explore more advanced techniques, such as debugging scripts, using advanced expansion and parameter manipulation, and building interactive shell menus. With these skills, you will be able to create more complex and powerful shell scripts to automate a wide range of tasks.\n",
    "\n",
    "</p>"
   ]
  },
  {
   "cell_type": "markdown",
   "id": "9bc0ad0e",
   "metadata": {
    "slideshow": {
     "slide_type": "subslide"
    }
   },
   "source": [
    "<h4 style='color:red; font-weight:bold; text-align:center; font-family: \"Times New Roman\", Times, serif;font-size:18px;'>Setting up a development environment for shell scripting </h4><br>\n",
    "<img src=\"bash-250px.jpg\" width=\"150\" height=\"250\" style=\"float: left; margin-right: 20px; margin-left: 20px;\">\n",
    "<p align='justify' style='margin: 10px 20px; line-height:1.5; font-family: \"Times New Roman\", Times, serif; font-size:16px; color: black'>\n",
    "  To set up a development environment for shell scripting, you will need to have a Unix/Linux system with a shell interpreter installed. The most common shell interpreters are bash (the Bourne Again SHell) and zsh (the Z shell). Most Unix/Linux systems come with one of these interpreters pre-installed, so you should already have access to a shell environment.\n",
    "  \n",
    "\n",
    "</p><br>\n",
    "<p align='justify' style='margin: 10px 20px; line-height:1.5; font-family: \"Times New Roman\", Times, serif; font-size:16px; color: black'>\n",
    "  In addition to a shell interpreter, you will need a text editor to create and edit your shell scripts. There are many text editors available for Unix/Linux systems, including popular options like vim, emacs, and nano. You can use any text editor that you are comfortable with, as long as it is capable of creating and editing plain text files.\n",
    "\n",
    "  \n",
    "\n",
    "</p><br>\n",
    "<p align='justify' style='margin: 10px 20px; line-height:1.5; font-family: \"Times New Roman\", Times, serif; font-size:16px; color: purple'>\n",
    "  Once you have a shell interpreter and a text editor set up, you can begin writing and testing your shell scripts. To run a shell script, you will need to make it executable using the chmod command and then run it using the name of the shell interpreter, followed by the name of the script file. For example, to run a bash script named \"myscript.sh\", you would enter the following command:\n",
    "\n",
    "  \n",
    "\n",
    "</p>"
   ]
  },
  {
   "cell_type": "code",
   "execution_count": 4,
   "id": "4a850bdf",
   "metadata": {
    "slideshow": {
     "slide_type": "subslide"
    }
   },
   "outputs": [],
   "source": [
    "%%bash\n",
    "chmod +x myscript.sh"
   ]
  },
  {
   "cell_type": "code",
   "execution_count": 5,
   "id": "b3fa0a18",
   "metadata": {
    "slideshow": {
     "slide_type": "subslide"
    }
   },
   "outputs": [
    {
     "name": "stdout",
     "output_type": "stream",
     "text": [
      "Just a try script\n"
     ]
    }
   ],
   "source": [
    "%%bash\n",
    "./myscript.sh"
   ]
  },
  {
   "cell_type": "markdown",
   "id": "232f3455",
   "metadata": {
    "slideshow": {
     "slide_type": "subslide"
    }
   },
   "source": [
    "<p align='justify' style='margin: 10px 20px; line-height:1.5; font-family: \"Times New Roman\", Times, serif; font-size:16px; color: black'>\n",
    "  You can also set the shebang at the beginning of your script to specify the shell interpreter that should be used to run the script. The shebang is a special line that begins with \"#!\" and is followed by the path to the shell interpreter. For example, to specify that a script should be run using bash, you would include the following shebang at the beginning of the script:<br><br><strong>#!/bin/bash</strong>\n",
    "\n",
    "  \n",
    "\n",
    "</p><br>\n",
    "<p align='justify' style='margin: 10px 20px; line-height:1.5; font-family: \"Times New Roman\", Times, serif; font-size:16px; color: purple'>\n",
    "  With a shell interpreter and text editor set up, you are ready to start writing and testing your shell scripts. You can use the command line and various shell utilities to debug and test your scripts as you develop them.\n",
    "\n",
    "  \n",
    "\n",
    "</p>"
   ]
  },
  {
   "cell_type": "markdown",
   "id": "5c6e553a",
   "metadata": {
    "slideshow": {
     "slide_type": "slide"
    }
   },
   "source": [
    "<h2 style='color:red; font-weight:bold; text-align:center; font-family: \"Times New Roman\", Times, serif;font-size:22px;'> WORKING WITH FILES AND DIRECTORIES </h2><br>\n",
    "<p align='justify' style='margin: 10px 20px; line-height:1.5; font-family: \"Times New Roman\", Times, serif; font-size:16px;color: purple'>\n",
    "    <strong>Introduction to shell scripting for automation</strong>\n",
    "    \n",
    "  <ul style='font-family: \"Times New Roman\", Times, serif; font-weight:light; font-size:16px;'>\n",
    "      <li><b>Working with files and directories  </b></li>\n",
    "      <li><b>Manipulating file permissions and ownership </b></li>\n",
    "      <li><b>Working with directories and symbolic links  </b></li>\n",
    "      \n",
    "    \n",
    "    \n",
    "  </ul>\n",
    "</p><br>\n",
    "<img src=\"download (4).png\" width=\"150\" height=\"250\" style=\"float: left; margin-right: 20px; margin-left: 20px;\">\n",
    "<p align='justify' style='margin: 10px 20px; line-height:1.5; font-family: \"Times New Roman\", Times, serif; font-size:16px; color: purple'><br>\n",
    "  In shell scripting, you can use various commands to work with files and directories. Here are some common ones:\n",
    "\n",
    "  \n",
    "\n",
    "</p><br>\n",
    "<p align='justify' style='margin: 10px 20px; line-height:1.5; font-family: \"Times New Roman\", Times, serif; font-size:16px;color: purple'>\n",
    "    \n",
    "    \n",
    "  <ul style='font-family: \"Times New Roman\", Times, serif; font-weight:light; font-size:16px;'>\n",
    "      <li><b>ls:  </b>Lists the files and directories in the current directory.</li>\n",
    "      <li><b>cd: </b>Changes the current working directory.</li>\n",
    "      <li><b>mkdir: </b> Makes a new directory.</li>\n",
    "      <li><b>rmdir: </b> Removes an empty directory.</li>\n",
    "      <li><b>touch:  </b> Creates an empty file or updates the timestamp of an existing file.</li>\n",
    "      <li><b>cp:  </b> Copies a file or directory.</li>\n",
    "      <li><b>mv:  </b> Moves a file or directory.</li>\n",
    "      <li><b>rm:  </b> Deletes a file.</li>\n",
    "      <li><b>cat:  </b>Displays the contents of a file.</li>\n",
    "      \n",
    "    \n",
    "    \n",
    "  </ul>\n",
    "</p><br><br>\n",
    "<p align='justify' style='margin: 10px 20px; line-height:1.5; font-family: \"Times New Roman\", Times, serif; font-size:16px; color: purple'>\n",
    "  For example, to list the files in the current directory, you can use the ls command:\n",
    "  \n",
    "\n",
    "</p>"
   ]
  },
  {
   "cell_type": "code",
   "execution_count": 28,
   "id": "dbf877bf",
   "metadata": {
    "scrolled": true,
    "slideshow": {
     "slide_type": "subslide"
    }
   },
   "outputs": [
    {
     "name": "stdout",
     "output_type": "stream",
     "text": [
      "arg_functions_all.sh\n",
      "arg_functions.sh\n",
      "date_formatting.sh\n",
      "expr_for_arithmetic.sh\n",
      "file.txt\n",
      "for_loop_array.sh\n",
      "for_loop_ex1.sh\n",
      "for_loop_ex2.sh\n",
      "for_loop_seq.sh\n",
      "function_return2.sh\n",
      "function_return.sh\n",
      "functions_ex1.sh\n",
      "goto.sh\n",
      "grep_error.sh\n",
      "input.txt\n",
      "log.txt\n",
      "mylib.sh\n",
      "myscript.sh\n",
      "nohup.out\n",
      "numbers.txt\n",
      "output.txt\n",
      "sed_manipulation.sh\n",
      "sedTextExample.txt\n",
      "select_menu_withSelelct.sh\n",
      "select_menu_withWhile.sh\n",
      "until_ex1.sh\n",
      "while_loop_ex1.sh\n"
     ]
    }
   ],
   "source": [
    "%%bash\n",
    "ls"
   ]
  },
  {
   "cell_type": "markdown",
   "id": "b05a7809",
   "metadata": {
    "slideshow": {
     "slide_type": "subslide"
    }
   },
   "source": [
    "<p align='justify' style='margin: 10px 20px; line-height:1.5; font-family: \"Times New Roman\", Times, serif; font-size:16px; color: black'>\n",
    "  To change the current working directory to /home/user/documents, you can use the cd command:<br><br><strong><i>cd /home/user/documents</strong><br><br>To create a new directory called mydir, you can use the mkdir command:\n",
    "  \n",
    "\n",
    "</p>"
   ]
  },
  {
   "cell_type": "code",
   "execution_count": 29,
   "id": "483f8584",
   "metadata": {
    "slideshow": {
     "slide_type": "subslide"
    }
   },
   "outputs": [],
   "source": [
    "%%bash \n",
    "mkdir mydir"
   ]
  },
  {
   "cell_type": "code",
   "execution_count": 32,
   "id": "e12bbd4b",
   "metadata": {
    "slideshow": {
     "slide_type": "subslide"
    }
   },
   "outputs": [
    {
     "name": "stdout",
     "output_type": "stream",
     "text": [
      "mydir\n"
     ]
    }
   ],
   "source": [
    "%%bash\n",
    "ls | grep mydir"
   ]
  },
  {
   "cell_type": "markdown",
   "id": "304c19a4",
   "metadata": {
    "slideshow": {
     "slide_type": "subslide"
    }
   },
   "source": [
    "<p align='justify' style='margin: 10px 20px; line-height:1.5; font-family: \"Times New Roman\", Times, serif; font-size:16px; color: black'>\n",
    "  To remove the directory mydir, you can use the rmdir command:\n",
    "  \n",
    "\n",
    "</p>"
   ]
  },
  {
   "cell_type": "code",
   "execution_count": 33,
   "id": "b85af78a",
   "metadata": {
    "slideshow": {
     "slide_type": "subslide"
    }
   },
   "outputs": [],
   "source": [
    "%%bash \n",
    "rmdir mydir"
   ]
  },
  {
   "cell_type": "code",
   "execution_count": 35,
   "id": "900b53ba",
   "metadata": {
    "slideshow": {
     "slide_type": "subslide"
    }
   },
   "outputs": [],
   "source": [
    "%%bash\n",
    "#ls | grep mydir"
   ]
  },
  {
   "cell_type": "markdown",
   "id": "382d91be",
   "metadata": {
    "slideshow": {
     "slide_type": "subslide"
    }
   },
   "source": [
    "<p align='justify' style='margin: 10px 20px; line-height:1.5; font-family: \"Times New Roman\", Times, serif; font-size:16px; color: black'>\n",
    "  To create a new empty file called myfile.txt, you can use the touch command:\n",
    "  \n",
    "\n",
    "</p>"
   ]
  },
  {
   "cell_type": "code",
   "execution_count": 36,
   "id": "801ca877",
   "metadata": {
    "slideshow": {
     "slide_type": "subslide"
    }
   },
   "outputs": [],
   "source": [
    "%%bash\n",
    "touch myfile.txt"
   ]
  },
  {
   "cell_type": "code",
   "execution_count": 37,
   "id": "6a25fc5e",
   "metadata": {
    "slideshow": {
     "slide_type": "subslide"
    }
   },
   "outputs": [
    {
     "name": "stdout",
     "output_type": "stream",
     "text": [
      "myfile.txt\n"
     ]
    }
   ],
   "source": [
    "%%bash \n",
    "ls | grep myfile.txt"
   ]
  },
  {
   "cell_type": "markdown",
   "id": "b55c2bf9",
   "metadata": {
    "slideshow": {
     "slide_type": "subslide"
    }
   },
   "source": [
    "<p align='justify' style='margin: 10px 20px; line-height:1.5; font-family: \"Times New Roman\", Times, serif; font-size:16px; color: black'>\n",
    "  To copy the file myfile.txt to a new file called myfile_copy.txt, you can use the cp command:\n",
    "  \n",
    "\n",
    "</p>"
   ]
  },
  {
   "cell_type": "code",
   "execution_count": 38,
   "id": "00e4a9f8",
   "metadata": {
    "slideshow": {
     "slide_type": "subslide"
    }
   },
   "outputs": [],
   "source": [
    "%%bash \n",
    "cp myfile.txt myfile_copy.txt"
   ]
  },
  {
   "cell_type": "code",
   "execution_count": 39,
   "id": "3904d788",
   "metadata": {
    "slideshow": {
     "slide_type": "subslide"
    }
   },
   "outputs": [
    {
     "name": "stdout",
     "output_type": "stream",
     "text": [
      "myfile_copy.txt\n"
     ]
    }
   ],
   "source": [
    "%%bash\n",
    "ls | grep myfile_copy.txt"
   ]
  },
  {
   "cell_type": "markdown",
   "id": "e22237cc",
   "metadata": {
    "slideshow": {
     "slide_type": "subslide"
    }
   },
   "source": [
    "<p align='justify' style='margin: 10px 20px; line-height:1.5; font-family: \"Times New Roman\", Times, serif; font-size:16px; color: black'>\n",
    "  To move the file myfile.txt to a new location called /home/user/documents/myfile.txt, you can use the mv command:<br><br><strong><i>mv myfile.txt /home/user/documents/myfile.txt</i></strong><br><br>To delete the file myfile.txt, you can use the rm command:\n",
    "\n",
    "  \n",
    "\n",
    "</p>"
   ]
  },
  {
   "cell_type": "code",
   "execution_count": 40,
   "id": "3611a8ef",
   "metadata": {
    "slideshow": {
     "slide_type": "subslide"
    }
   },
   "outputs": [],
   "source": [
    "%%bash\n",
    "rm myfile.txt"
   ]
  },
  {
   "cell_type": "markdown",
   "id": "e9ed3148",
   "metadata": {
    "slideshow": {
     "slide_type": "subslide"
    }
   },
   "source": [
    "<p align='justify' style='margin: 10px 20px; line-height:1.5; font-family: \"Times New Roman\", Times, serif; font-size:16px; color: black'>\n",
    "  To display the contents of the file myfile.txt, you can use the cat command:<br><br><strong><i>cat myfile.txt</i></strong><br><br>It is important to master this chapter to fill confident going forward \n",
    "\n",
    "  \n",
    "\n",
    "</p><br><br>\n",
    "<h4 style='color:red; font-weight:bold; text-align:center; font-family: \"Times New Roman\", Times, serif;font-size:18px;'> Reading and writing to files in shell scripting  </h4><br>\n",
    "<p align='justify' style='margin: 10px 20px; line-height:1.5; font-family: \"Times New Roman\", Times, serif; font-size:16px; color: black'>\n",
    "  There are several ways to read and write to files in shell scripting. Here are a few common ones:<br><br><br><b>echo: </b>This command can be used to write text to a file. For example, to write the text \"Hello, world!\" to a file called myfile.txt, you can use the following command:\n",
    "\n",
    "  \n",
    "\n",
    "</p>"
   ]
  },
  {
   "cell_type": "code",
   "execution_count": 41,
   "id": "10b3e37d",
   "metadata": {
    "slideshow": {
     "slide_type": "subslide"
    }
   },
   "outputs": [],
   "source": [
    "%%bash\n",
    "echo \"Hello, world!\" > myfile.txt"
   ]
  },
  {
   "cell_type": "markdown",
   "id": "8f057832",
   "metadata": {
    "slideshow": {
     "slide_type": "subslide"
    }
   },
   "source": [
    "<p align='justify' style='margin: 10px 20px; line-height:1.5; font-family: \"Times New Roman\", Times, serif; font-size:16px; color: black'>\n",
    "  This will overwrite any existing content in the file. To append text to the end of a file, you can use the >> operator instead of the > operator:\n",
    "\n",
    "  \n",
    "\n",
    "</p>"
   ]
  },
  {
   "cell_type": "code",
   "execution_count": 42,
   "id": "121cb246",
   "metadata": {
    "slideshow": {
     "slide_type": "subslide"
    }
   },
   "outputs": [],
   "source": [
    "%%bash\n",
    "echo \"Hello, again!\" >> myfile.txt"
   ]
  },
  {
   "cell_type": "markdown",
   "id": "c5155e7b",
   "metadata": {
    "slideshow": {
     "slide_type": "subslide"
    }
   },
   "source": [
    "<p align='justify' style='margin: 10px 20px; line-height:1.5; font-family: \"Times New Roman\", Times, serif; font-size:16px; color: black'>\n",
    "    <b>cat: </b>This command can be used to display the contents of a file. For example, to display the contents of myfile.txt, you can use the following command:\n",
    "\n",
    "  \n",
    "\n",
    "</p>"
   ]
  },
  {
   "cell_type": "code",
   "execution_count": 43,
   "id": "662739d6",
   "metadata": {
    "slideshow": {
     "slide_type": "subslide"
    }
   },
   "outputs": [
    {
     "name": "stdout",
     "output_type": "stream",
     "text": [
      "Hello, world!\n",
      "Hello, again!\n"
     ]
    }
   ],
   "source": [
    "%%bash\n",
    "cat myfile.txt"
   ]
  },
  {
   "cell_type": "markdown",
   "id": "2046d38e",
   "metadata": {
    "slideshow": {
     "slide_type": "subslide"
    }
   },
   "source": [
    "<p align='justify' style='margin: 10px 20px; line-height:1.5; font-family: \"Times New Roman\", Times, serif; font-size:16px; color: black'>\n",
    "    <b>read: </b>This shell builtin can be used to read a line of text from a file. For example, to read the first line of myfile.txt, you can use the following command:\n",
    "  \n",
    "\n",
    "</p>"
   ]
  },
  {
   "cell_type": "code",
   "execution_count": 44,
   "id": "9c0d85b3",
   "metadata": {
    "slideshow": {
     "slide_type": "subslide"
    }
   },
   "outputs": [
    {
     "name": "stdout",
     "output_type": "stream",
     "text": [
      "Hello, world!\n"
     ]
    }
   ],
   "source": [
    "%%bash\n",
    "read line < myfile.txt\n",
    "echo $line"
   ]
  },
  {
   "cell_type": "markdown",
   "id": "5868f946",
   "metadata": {
    "slideshow": {
     "slide_type": "subslide"
    }
   },
   "source": [
    "<p align='justify' style='margin: 10px 20px; line-height:1.5; font-family: \"Times New Roman\", Times, serif; font-size:16px; color: black'>\n",
    "    <b>while read loop: </b>This loop can be used to read all the lines of a file. For example, to read all the lines of myfile.txt and print them to the console, you can use the following command:\n",
    "  \n",
    "\n",
    "</p>"
   ]
  },
  {
   "cell_type": "code",
   "execution_count": 45,
   "id": "5a32eb81",
   "metadata": {
    "slideshow": {
     "slide_type": "subslide"
    }
   },
   "outputs": [
    {
     "name": "stdout",
     "output_type": "stream",
     "text": [
      "Hello, world!\n",
      "Hello, again!\n"
     ]
    }
   ],
   "source": [
    "%%bash\n",
    "while read line\n",
    "do\n",
    "    echo $line\n",
    "done < myfile.txt"
   ]
  },
  {
   "cell_type": "markdown",
   "id": "0f78d6b7",
   "metadata": {
    "slideshow": {
     "slide_type": "subslide"
    }
   },
   "source": [
    "<p align='justify' style='margin: 10px 20px; line-height:1.5; font-family: \"Times New Roman\", Times, serif; font-size:16px; color: black'>\n",
    "    <b>awk: </b>This command is a powerful text processing tool that can be used to read and manipulate text files. For example, to print the first field (delimited by spaces) of each line in myfile.txt, you can use the following command:\n",
    "  \n",
    "\n",
    "</p>"
   ]
  },
  {
   "cell_type": "code",
   "execution_count": 46,
   "id": "49d7e818",
   "metadata": {
    "slideshow": {
     "slide_type": "subslide"
    }
   },
   "outputs": [
    {
     "name": "stdout",
     "output_type": "stream",
     "text": [
      "Hello,\n",
      "Hello,\n"
     ]
    }
   ],
   "source": [
    "%%bash\n",
    "awk '{print $1}' myfile.txt"
   ]
  },
  {
   "cell_type": "markdown",
   "id": "a2911d10",
   "metadata": {
    "slideshow": {
     "slide_type": "subslide"
    }
   },
   "source": [
    "<p align='justify' style='margin: 10px 20px; line-height:1.5; font-family: \"Times New Roman\", Times, serif; font-size:16px; color: purple'>\n",
    "    These are just a few examples of the many ways to read and write to files in shell scripting. You can find more information about these and other methods in the documentation for your specific shell.\n",
    "  \n",
    "\n",
    "</p><br><br>\n",
    "<h4 style='color:red; font-weight:bold; text-align:center; font-family: \"Times New Roman\", Times, serif;font-size:18px;'> Manipulating file permissions and ownership in shell scripting  </h4><br>\n",
    "<p align='justify' style='margin: 10px 20px; line-height:1.5; font-family: \"Times New Roman\", Times, serif; font-size:16px; color: black'>\n",
    "  In shell scripting, you can use the chmod command to change file permissions and the chown command to change file ownership.\n",
    "\n",
    "  \n",
    "\n",
    "</p><br><br>\n",
    "<p align='justify' style='margin: 10px 20px; line-height:1.5; font-family: \"Times New Roman\", Times, serif; font-size:16px; color: black'>\n",
    "  To use chmod, you need to specify the permissions you want to set and the file or directory you want to modify. File permissions are represented by a set of three octal digits, each of which corresponds to the permissions for the owner, the group, and other users, respectively. Each of these digits is made up of three binary digits, which represent read, write, and execute permissions, respectively. For example, the octal digit 7 represents read, write, and execute permissions (rwx), while 6 represents read and write permissions (rw-) and 4 represents read permissions (r--).<br><br><strong style = \"color: purple\">Here are a few examples of how to use chmod:</strong><br><br><br>To give the owner of myfile.txt read, write, and execute permissions, and give everyone else read and execute permissions, you can use the following command:\n",
    "\n",
    "  \n",
    "\n",
    "</p>"
   ]
  },
  {
   "cell_type": "code",
   "execution_count": 47,
   "id": "c2379260",
   "metadata": {
    "slideshow": {
     "slide_type": "subslide"
    }
   },
   "outputs": [],
   "source": [
    "%%bash\n",
    "chmod 755 myfile.txt"
   ]
  },
  {
   "cell_type": "markdown",
   "id": "3865a373",
   "metadata": {
    "slideshow": {
     "slide_type": "subslide"
    }
   },
   "source": [
    "<p align='justify' style='margin: 10px 20px; line-height:1.5; font-family: \"Times New Roman\", Times, serif; font-size:16px; color: purple'>\n",
    "    To give the owner of myfile.txt read and write permissions, and give everyone else read permissions, you can use the following command\n",
    "  \n",
    "\n",
    "</p>"
   ]
  },
  {
   "cell_type": "code",
   "execution_count": 48,
   "id": "3c6c71de",
   "metadata": {
    "slideshow": {
     "slide_type": "subslide"
    }
   },
   "outputs": [],
   "source": [
    "%%bash\n",
    "chmod 644 myfile.txt"
   ]
  },
  {
   "cell_type": "markdown",
   "id": "5864e2ba",
   "metadata": {
    "slideshow": {
     "slide_type": "subslide"
    }
   },
   "source": [
    "<p align='justify' style='margin: 10px 20px; line-height:1.5; font-family: \"Times New Roman\", Times, serif; font-size:16px; color: purple'>\n",
    "    To give the owner of mydir read, write, and execute permissions, and give everyone else read and execute permissions, you can use the following command:\n",
    "\n",
    "</p>"
   ]
  },
  {
   "cell_type": "code",
   "execution_count": 51,
   "id": "4995f165",
   "metadata": {
    "slideshow": {
     "slide_type": "subslide"
    }
   },
   "outputs": [],
   "source": [
    "%%bash\n",
    "chmod 755 mydir"
   ]
  },
  {
   "cell_type": "markdown",
   "id": "619a1831",
   "metadata": {
    "slideshow": {
     "slide_type": "subslide"
    }
   },
   "source": [
    "<p align='justify' style='margin: 10px 20px; line-height:1.5; font-family: \"Times New Roman\", Times, serif; font-size:16px; color: black'>\n",
    "    To use chown, you need to specify the user and group you want to set as the owner, and the file or directory you want to modify. For example, to set the user user1 and the group group1 as the owner of myfile.txt, you can use the following command:<br><br><strong><i>chown user1:group1 myfile.txt</i></strong><br><br>To set only the user as the owner, you can omit the group name:<br><br><strong><i>chown user1 myfile.txt</i></strong>\n",
    "</p><br>\n",
    "<p align='justify' style='margin: 10px 20px; line-height:1.5; font-family: \"Times New Roman\", Times, serif; font-size:16px; color: purple'>\n",
    "    These are just a few examples of how to manipulate file permissions and ownership in shell scripting. You can find more information about these and other commands in the documentation for your specific shell.\n",
    "\n",
    "</p>"
   ]
  },
  {
   "cell_type": "markdown",
   "id": "0fc041bf",
   "metadata": {
    "slideshow": {
     "slide_type": "subslide"
    }
   },
   "source": [
    "<h4 style='color:red; font-weight:bold; text-align:center; font-family: \"Times New Roman\", Times, serif;font-size:18px;'> Working with directories and symbolic links in shell scripting  </h4><br>\n",
    "<p align='justify' style='margin: 10px 20px; line-height:1.5; font-family: \"Times New Roman\", Times, serif; font-size:16px; color: purple'>\n",
    "  In shell scripting, you can use various commands to work with directories and symbolic links. Here are a few common ones:\n",
    "\n",
    "  \n",
    "\n",
    "</p>\n",
    "<p align='justify' style='margin: 10px 20px; line-height:1.5; font-family: \"Times New Roman\", Times, serif; font-size:16px;color: purple'>\n",
    "    \n",
    "    \n",
    "  <ul style='font-family: \"Times New Roman\", Times, serif; font-weight:light; font-size:16px;'>\n",
    "      <li><b>cd:  </b>Lists the files and directories in the current directory.</li>\n",
    "      <li><b>pwd:  </b>Changes the current working directory.</li>\n",
    "      <li><b>mkdir: </b> Makes a new directory.</li>\n",
    "      <li><b>rmdir: </b> Removes an empty directory.</li>\n",
    "      <li><b>ln:  </b> Makes a symbolic link.</li>\n",
    "      <li><b>readlink: </b> Prints the target of a symbolic link.</li>\n",
    "      <li><b>unlink: </b>Removes a symbolic link.</li>\n",
    "      \n",
    "    \n",
    "    \n",
    "  </ul>\n",
    "</p><br>\n",
    "<p align='justify' style='margin: 10px 20px; line-height:1.5; font-family: \"Times New Roman\", Times, serif; font-size:16px; color: black'>\n",
    "  For example, to change the current working directory to /home/user/documents, you can use the cd command:<br><br><strong><i>cd /home/user/documents</i></strong><br><br>To print the current working directory, you can use the pwd command:<br><br><strong><i>pwd</i></strong><br><br>To create a new directory called mydir, you can use the mkdir command:<br><br><strong><i>mkdir mydir</i></strong><br><br>To remove the directory mydir, you can use the rmdir command:<br><br><strong><i>rmdir mydir</i></strong>\n",
    "  \n",
    "\n",
    "</p>"
   ]
  },
  {
   "cell_type": "markdown",
   "id": "cf157473",
   "metadata": {
    "slideshow": {
     "slide_type": "subslide"
    }
   },
   "source": [
    "<p align='justify' style='margin: 10px 20px; line-height:1.5; font-family: \"Times New Roman\", Times, serif; font-size:16px; color: black'>\n",
    "  To create a symbolic link called mylink that points to the file /path/to/target, you can use the ln command:<br><br><strong>ln -s /path/to/target mylink</strong><br><br>To print the target of the symbolic link mylink, you can use the readlink command:<br><br><strong> readlink mylink\n",
    "    </strong><br><br>To remove the symbolic link mylink, you can use the unlink command:<br><br><strong>unlink mylink</strong>\n",
    "\n",
    "  \n",
    "\n",
    "</p>"
   ]
  },
  {
   "cell_type": "markdown",
   "id": "d2cad452",
   "metadata": {
    "slideshow": {
     "slide_type": "slide"
    }
   },
   "source": [
    "<h2 style='color:red; font-weight:bold; text-align:center; font-family: \"Times New Roman\", Times, serif;font-size:22px;'> ADVANCED SHELL SCRIPTING CONCEPTS </h2><br>\n",
    "<p align='justify' style='margin: 10px 20px; line-height:1.5; font-family: \"Times New Roman\", Times, serif; font-size:16px;color: purple'>\n",
    "    <strong>Introduction to shell scripting for automation</strong>\n",
    "    \n",
    "  <ul style='font-family: \"Times New Roman\", Times, serif; font-weight:light; font-size:16px;'>\n",
    "      <li><b>Mastering loops (nested loops, loop control commands) </b></li>\n",
    "      <li><b>Building interactive shell menus </b></li>\n",
    "      <li><b>Running shell scripts in the background </b></li>\n",
    "      <li><b>Handling signals in shell scripts</b></li>\n",
    "      \n",
    "    \n",
    "    \n",
    "  </ul>\n",
    "</p><br>\n",
    "<img src=\"1_5rIrXIrQd74HtzeFes0g3g.png\" width=\"150\" height=\"250\" style=\"float: left; margin-right: 20px; margin-left: 20px;\">\n",
    "<p align='justify' style='margin: 10px 20px; line-height:1.5; font-family: \"Times New Roman\", Times, serif; font-size:16px; color: purple'><br>\n",
    "  There are many advanced concepts in shell scripting that can be useful for automating tasks and writing more sophisticated scripts. \n",
    "\n",
    "  \n",
    "\n",
    "</p><br><br>\n",
    "\n",
    "<h3 style='color:red; font-weight:bold; text-align:center; font-family: \"Times New Roman\", Times, serif;font-size:20px;'> Mastering loops (nested loops, loop control commands)</h3><br>\n",
    "<p align='justify' style='margin: 10px 20px; line-height:1.5; font-family: \"Times New Roman\", Times, serif; font-size:16px; color: black'>\n",
    "  Loops are a fundamental programming construct that allow you to repeat a block of code multiple times. In shell scripting, you can use for, while, and until loops to repeat a block of code multiple times. The syntax for each type of loop is slightly different, but they all follow a similar structure. \n",
    "\n",
    "</p><br><br>\n",
    "\n",
    "\n",
    "<h3 style='color:red; font-weight:bold; text-align:center; font-family: \"Times New Roman\", Times, serif;font-size:18px;'>For Loops</h3><br>\n",
    "<p align='justify' style='margin: 10px 20px; line-height:1.5; font-family: \"Times New Roman\", Times, serif; font-size:16px; color: black'>\n",
    "  In a shell script, a for loop is used to execute a set of commands multiple times, with the loop variable taking on a different value each time through the loop. Here is the basic syntax for a for loop in a shell script:\n",
    "</p>"
   ]
  },
  {
   "cell_type": "code",
   "execution_count": null,
   "id": "cc83f4d4",
   "metadata": {
    "slideshow": {
     "slide_type": "subslide"
    }
   },
   "outputs": [],
   "source": [
    "for variable in list; do\n",
    "        # code to be executed\n",
    "    done"
   ]
  },
  {
   "cell_type": "markdown",
   "id": "28e3c422",
   "metadata": {
    "slideshow": {
     "slide_type": "subslide"
    }
   },
   "source": [
    "<p align='justify' style='margin: 10px 20px; line-height:1.5; font-family: \"Times New Roman\", Times, serif; font-size:16px; color: black'>\n",
    "  The list can be a series of values or the output of a command. The commands inside the loop will be executed once for each value in the list.<br><br><br><strong style = \"color: purple\">Here is an example of a for loop that will print the numbers 1 through 5</strong>\n",
    "\n",
    "</p>"
   ]
  },
  {
   "cell_type": "code",
   "execution_count": 7,
   "id": "ff478921",
   "metadata": {
    "slideshow": {
     "slide_type": "subslide"
    }
   },
   "outputs": [
    {
     "name": "stdout",
     "output_type": "stream",
     "text": [
      "1\n",
      "2\n",
      "3\n",
      "4\n",
      "5\n"
     ]
    }
   ],
   "source": [
    "%%bash\n",
    "for number in 1 2 3 4 5; do\n",
    "    echo $number\n",
    "done"
   ]
  },
  {
   "cell_type": "markdown",
   "id": "76597a80",
   "metadata": {
    "slideshow": {
     "slide_type": "subslide"
    }
   },
   "source": [
    "<p align='justify' style='margin: 10px 20px; line-height:1.5; font-family: \"Times New Roman\", Times, serif; font-size:16px; color: black'>\n",
    "  You can also use a for loop to iterate over the output of a command. For example, the following loop will print the names of all the files in the current directory:\n",
    "\n",
    "</p>"
   ]
  },
  {
   "cell_type": "code",
   "execution_count": 13,
   "id": "6551c5a6",
   "metadata": {
    "slideshow": {
     "slide_type": "subslide"
    }
   },
   "outputs": [
    {
     "name": "stdout",
     "output_type": "stream",
     "text": [
      "file.txt\n",
      "for_loop_ex1.sh\n",
      "for_loop_ex2.sh\n",
      "myscript.sh\n"
     ]
    }
   ],
   "source": [
    "%%bash\n",
    "for file in $(ls)\n",
    "do\n",
    "   echo $file\n",
    "done"
   ]
  },
  {
   "cell_type": "markdown",
   "id": "c301666e",
   "metadata": {
    "slideshow": {
     "slide_type": "subslide"
    }
   },
   "source": [
    "<p align='justify' style='margin: 10px 20px; line-height:1.5; font-family: \"Times New Roman\", Times, serif; font-size:16px; color: black'>\n",
    "  You can also use a for loop to iterate over a range of numbers using the seq command. The following loop will print the numbers 1 through 10:\n",
    "\n",
    "</p>"
   ]
  },
  {
   "cell_type": "code",
   "execution_count": 14,
   "id": "b6e78fb0",
   "metadata": {
    "slideshow": {
     "slide_type": "subslide"
    }
   },
   "outputs": [
    {
     "name": "stdout",
     "output_type": "stream",
     "text": [
      "1\n",
      "2\n",
      "3\n",
      "4\n",
      "5\n",
      "6\n",
      "7\n",
      "8\n",
      "9\n",
      "10\n"
     ]
    }
   ],
   "source": [
    "%%bash\n",
    "for i in $(seq 1 10)\n",
    "do\n",
    "   echo $i\n",
    "done"
   ]
  },
  {
   "cell_type": "markdown",
   "id": "2049cf8c",
   "metadata": {
    "slideshow": {
     "slide_type": "subslide"
    }
   },
   "source": [
    "<p align='justify' style='margin: 10px 20px; line-height:1.5; font-family: \"Times New Roman\", Times, serif; font-size:16px; color: black'>\n",
    "  You can also use a for loop to iterate over the elements of an array. For example\n",
    "\n",
    "</p>"
   ]
  },
  {
   "cell_type": "code",
   "execution_count": 15,
   "id": "8e164cfe",
   "metadata": {
    "slideshow": {
     "slide_type": "subslide"
    }
   },
   "outputs": [
    {
     "name": "stdout",
     "output_type": "stream",
     "text": [
      "apple\n",
      "banana\n",
      "cherry\n"
     ]
    }
   ],
   "source": [
    "%%bash\n",
    "array=(apple banana cherry)\n",
    "for fruit in ${array[@]}\n",
    "do\n",
    "   echo $fruit\n",
    "done\n"
   ]
  },
  {
   "cell_type": "markdown",
   "id": "f703577d",
   "metadata": {
    "slideshow": {
     "slide_type": "subslide"
    }
   },
   "source": [
    "<p align='justify' style='margin: 10px 20px; line-height:1.5; font-family: \"Times New Roman\", Times, serif; font-size:16px; color: black'>\n",
    "  You can also use a for loop to iterate over the lines of a file\n",
    "\n",
    "</p>"
   ]
  },
  {
   "cell_type": "code",
   "execution_count": 10,
   "id": "bc626fd0",
   "metadata": {
    "slideshow": {
     "slide_type": "subslide"
    }
   },
   "outputs": [],
   "source": [
    "%%bash\n",
    "#for line in $(cat file.txt); do\n",
    "    #echo $line\n",
    "#done"
   ]
  },
  {
   "cell_type": "markdown",
   "id": "2294f642",
   "metadata": {
    "slideshow": {
     "slide_type": "subslide"
    }
   },
   "source": [
    "<h4 style='color:red; font-weight:bold; text-align:center; font-family: \"Times New Roman\", Times, serif;font-size:18px;'> While Loops</h4><br>\n",
    "<p align='justify' style='margin: 10px 20px; line-height:1.5; font-family: \"Times New Roman\", Times, serif; font-size:16px; color: black'>\n",
    "  while loops are used to execute a block of code repeatedly as long as a certain condition is true. Here is an example of a while loop in the Bash shell\n",
    "\n",
    "</p>"
   ]
  },
  {
   "cell_type": "code",
   "execution_count": 17,
   "id": "282410c6",
   "metadata": {
    "slideshow": {
     "slide_type": "subslide"
    }
   },
   "outputs": [
    {
     "name": "stdout",
     "output_type": "stream",
     "text": [
      "0\n",
      "1\n",
      "2\n",
      "3\n",
      "4\n",
      "5\n",
      "6\n",
      "7\n",
      "8\n",
      "9\n"
     ]
    }
   ],
   "source": [
    "%%bash\n",
    "counter=0\n",
    "\n",
    "while [ $counter -lt 10 ]\n",
    "do\n",
    "  echo $counter\n",
    "  ((counter++))\n",
    "done"
   ]
  },
  {
   "cell_type": "markdown",
   "id": "d662bff1",
   "metadata": {
    "slideshow": {
     "slide_type": "subslide"
    }
   },
   "source": [
    "<p align='justify' style='margin: 10px 20px; line-height:1.5; font-family: \"Times New Roman\", Times, serif; font-size:16px; color: purple'>\n",
    "  In this example, the while loop will run as long as the value of counter is less than 10. The code inside the loop will be executed repeatedly until the value of counter is no longer less than 10. Each time the loop runs, the value of counter is increased by 1 using the ((counter++)) statement.\n",
    "</p><br>\n",
    "<p align='justify' style='margin: 10px 20px; line-height:1.5; font-family: \"Times New Roman\", Times, serif; font-size:16px; color: black'>\n",
    "  The loop will terminate when the value of counter becomes equal to or greater than 10. At that point, the loop will exit and the script will continue with the next line of code after the loop\n",
    "</p><br>\n",
    "<p align='justify' style='margin: 10px 20px; line-height:1.5; font-family: \"Times New Roman\", Times, serif; font-size:16px; color: purple'>\n",
    "  Let us look at another example of while loop before that reads from a file \n",
    "</p>"
   ]
  },
  {
   "cell_type": "code",
   "execution_count": 19,
   "id": "0c95607d",
   "metadata": {
    "scrolled": true,
    "slideshow": {
     "slide_type": "subslide"
    }
   },
   "outputs": [
    {
     "name": "stdout",
     "output_type": "stream",
     "text": [
      "\n",
      "10\n",
      "20\n",
      "30\n",
      "50\n",
      "200\n",
      "2022\n",
      "2022333\n",
      "2333\n",
      "223222\n",
      "2333\n",
      "33\n",
      "4\n",
      "4233\n",
      "4\n",
      "545\n",
      "5\n",
      "5\n",
      "6566\n",
      "6\n",
      "65\n",
      "\n"
     ]
    }
   ],
   "source": [
    "%%bash\n",
    "#!/bin/bash\n",
    "\n",
    "input=\"numbers.txt\"\n",
    "\n",
    "while read line\n",
    "do\n",
    "  echo $line\n",
    "done < $input"
   ]
  },
  {
   "cell_type": "markdown",
   "id": "c18f425a",
   "metadata": {
    "slideshow": {
     "slide_type": "subslide"
    }
   },
   "source": [
    "<p align='justify' style='margin: 10px 20px; line-height:1.5; font-family: \"Times New Roman\", Times, serif; font-size:16px; color: purple'>\n",
    "  In this example, the while loop reads each line of a file called \"numbers.txt\" and prints it to the screen. The read command reads a line from the file specified by the $input variable and stores it in the \\$line variable. \n",
    "</p><br>\n",
    "<p align='justify' style='margin: 10px 20px; line-height:1.5; font-family: \"Times New Roman\", Times, serif; font-size:16px; color: black'>\n",
    "  The loop will run as long as there are more lines to read in the file. When there are no more lines, the loop will terminate. \n",
    "</p><br>\n",
    "\n",
    "<h4 style='color:red; font-weight:bold; text-align:center; font-family: \"Times New Roman\", Times, serif;font-size:18px;'> Until Loops</h4><br>\n",
    "<p align='justify' style='margin: 10px 20px; line-height:1.5; font-family: \"Times New Roman\", Times, serif; font-size:16px; color: purple'>\n",
    "  The until loop is used to execute a set of commands repeatedly until the specified condition is met. The syntax for an until loop is as follows:\n",
    "\n",
    "</p>"
   ]
  },
  {
   "cell_type": "code",
   "execution_count": null,
   "id": "ffa7cb0f",
   "metadata": {
    "slideshow": {
     "slide_type": "subslide"
    }
   },
   "outputs": [],
   "source": [
    "until [condition]\n",
    "do\n",
    "    [commands]\n",
    "done"
   ]
  },
  {
   "cell_type": "markdown",
   "id": "f2b17b7c",
   "metadata": {
    "slideshow": {
     "slide_type": "subslide"
    }
   },
   "source": [
    "<p align='justify' style='margin: 10px 20px; line-height:1.5; font-family: \"Times New Roman\", Times, serif; font-size:16px; color: purple'>\n",
    "  Here is an example of an until loop that counts down from 10 to 1:\n",
    "\n",
    "</p>"
   ]
  },
  {
   "cell_type": "code",
   "execution_count": 20,
   "id": "540e063f",
   "metadata": {
    "slideshow": {
     "slide_type": "subslide"
    }
   },
   "outputs": [
    {
     "name": "stdout",
     "output_type": "stream",
     "text": [
      "10\n",
      "9\n",
      "8\n",
      "7\n",
      "6\n",
      "5\n",
      "4\n",
      "3\n",
      "2\n",
      "1\n"
     ]
    }
   ],
   "source": [
    "%%bash\n",
    "# Initialize the counter variable\n",
    "counter=10\n",
    "\n",
    "until [ $counter -eq 0 ]\n",
    "do\n",
    "    echo $counter\n",
    "    counter=$((counter-1))\n",
    "done"
   ]
  },
  {
   "cell_type": "markdown",
   "id": "b7e1d51e",
   "metadata": {
    "slideshow": {
     "slide_type": "subslide"
    }
   },
   "source": [
    "<p align='justify' style='margin: 10px 20px; line-height:1.5; font-family: \"Times New Roman\", Times, serif; font-size:16px; color: black'>\n",
    "  The loop will continue to execute as long as the value of counter is greater than 0. On each iteration of the loop, the value of counter is printed to the screen and then decremented by 1 using the \\$((counter-1)) expression.\n",
    "\n",
    "</p><br><br>\n",
    "<p align='justify' style='margin: 10px 20px; line-height:1.5; font-family: \"Times New Roman\", Times, serif; font-size:16px; color: purple'>\n",
    "  Here is another example of an until loop that reads lines from a file and prints them to the screen until it reaches the end of the file:\n",
    "\n",
    "</p>"
   ]
  },
  {
   "cell_type": "code",
   "execution_count": 21,
   "id": "e15205dc",
   "metadata": {
    "slideshow": {
     "slide_type": "subslide"
    }
   },
   "outputs": [],
   "source": [
    "%%bash\n",
    "# Open the file\n",
    "exec 3< input.txt\n",
    "\n",
    "# Initialize the loop\n",
    "until [ \"$line\" = \"\" ]\n",
    "do\n",
    "    # Read a line from the file\n",
    "    read -u 3 line\n",
    "    # Print the line to the screen\n",
    "    echo $line\n",
    "done\n",
    "\n",
    "# Close the file\n",
    "exec 3<&-"
   ]
  },
  {
   "cell_type": "markdown",
   "id": "cadf8d39",
   "metadata": {
    "slideshow": {
     "slide_type": "subslide"
    }
   },
   "source": [
    "<p align='justify' style='margin: 10px 20px; line-height:1.5; font-family: \"Times New Roman\", Times, serif; font-size:16px; color: purple'>\n",
    "  In this example, the loop will continue to execute as long as the value of the line variable is not an empty string. On each iteration of the loop, a line is read from the file using the read command and then printed to the screen using the echo command. The loop will exit when it reaches the end of the file and read returns an empty string.\n",
    "\n",
    "</p><br>\n",
    "\n",
    "<h4 style='color:red; font-weight:bold; text-align:center; font-family: \"Times New Roman\", Times, serif;font-size:18px;'>Loop Control Commands</h4><br>\n",
    "<p align='justify' style='margin: 10px 20px; line-height:1.5; font-family: \"Times New Roman\", Times, serif; font-size:16px; color: black'>\n",
    "  In shell scripting, there are several loop control commands that you can use to control the flow of a loop. These control commands include break, continue, goto etc.\n",
    "\n",
    "</p><br>\n",
    "<h5 style='color:red; font-weight:bold; text-align:center; font-family: \"Times New Roman\", Times, serif;font-size:16px;'>Break Command</h5><br>\n",
    "<p align='justify' style='margin: 10px 20px; line-height:1.5; font-family: \"Times New Roman\", Times, serif; font-size:16px; color: black'>\n",
    "  The break command allows you to exit a loop early, before the loop condition is met. For example, The following loop will iterate through a list of numbers and print each number, unless the number is 4, in which case the loop will break and exit early.\n",
    "\n",
    "</p>"
   ]
  },
  {
   "cell_type": "code",
   "execution_count": 23,
   "id": "90b5bd93",
   "metadata": {
    "slideshow": {
     "slide_type": "subslide"
    }
   },
   "outputs": [
    {
     "name": "stdout",
     "output_type": "stream",
     "text": [
      "1\n",
      "2\n",
      "3\n"
     ]
    }
   ],
   "source": [
    "%%bash\n",
    "for num in 1 2 3 4 5 6; do\n",
    "  if [ $num -eq 4 ]; then\n",
    "    break\n",
    "  fi\n",
    "  echo $num\n",
    "done"
   ]
  },
  {
   "cell_type": "markdown",
   "id": "8feaed71",
   "metadata": {
    "slideshow": {
     "slide_type": "subslide"
    }
   },
   "source": [
    "<h5 style='color:red; font-weight:bold; text-align:center; font-family: \"Times New Roman\", Times, serif;font-size:16px;'>Continue Command</h5><br>\n",
    "<p align='justify' style='margin: 10px 20px; line-height:1.5; font-family: \"Times New Roman\", Times, serif; font-size:16px; color: black'>\n",
    "  The continue command allows you to skip the rest of the current iteration of a loop and move on to the next iteration. For example, the following loop will iterate through a list of numbers and print each number, unless the number is even, in which case the loop will skip the rest of the current iteration and move on to the next iteration.\n",
    "\n",
    "</p>"
   ]
  },
  {
   "cell_type": "code",
   "execution_count": 24,
   "id": "939c498e",
   "metadata": {
    "slideshow": {
     "slide_type": "subslide"
    }
   },
   "outputs": [
    {
     "name": "stdout",
     "output_type": "stream",
     "text": [
      "1\n",
      "3\n",
      "5\n"
     ]
    }
   ],
   "source": [
    "%%bash\n",
    "for num in 1 2 3 4 5 6; do\n",
    "  if [ $(($num % 2)) -eq 0 ]; then\n",
    "    continue\n",
    "  fi\n",
    "  echo $num\n",
    "done"
   ]
  },
  {
   "cell_type": "markdown",
   "id": "49e3af43",
   "metadata": {
    "slideshow": {
     "slide_type": "subslide"
    }
   },
   "source": [
    "<h3 style='color:red; font-weight:bold; text-align:center; font-family: \"Times New Roman\", Times, serif;font-size:20px;'>Building interactive shell menus </h3><br>\n",
    "<img src=\"maxresdefault (1).jpg\" width=\"150\" height=\"250\" style=\"float: left; margin-right: 20px; margin-left: 20px;\">\n",
    "<p align='justify' style='margin: 10px 20px; line-height:1.5; font-family: \"Times New Roman\", Times, serif; font-size:16px; color: purple'>\n",
    "  You can build interactive menus by using a combination of shell commands and programming constructs. Here are some examples of how you can create an interactive menu in a shell script with select and while loop\n",
    "\n",
    "</p><br><br>\n",
    "<p align='justify' style='margin: 10px 20px; line-height:1.5; font-family: \"Times New Roman\", Times, serif; font-size:16px; color: black'>\n",
    "  Using the select command: The select command allows you to create a menu of options that the user can choose from. It displays a numbered list of options and prompts the user to select one of them. Here's an example of how to use select to create a menu:\n",
    "\n",
    "</p>"
   ]
  },
  {
   "cell_type": "code",
   "execution_count": 29,
   "id": "cb40ba5f",
   "metadata": {
    "scrolled": true,
    "slideshow": {
     "slide_type": "subslide"
    }
   },
   "outputs": [
    {
     "name": "stdout",
     "output_type": "stream",
     "text": [
      "#!/bin/bash\n",
      "\n",
      "# Define an array of options\n",
      "options=(\"Option 1\" \"Option 2\" \"Option 3\" \"Quit\")\n",
      "\n",
      "# Display the menu\n",
      "echo \"Please select an option:\"\n",
      "select opt in \"${options[@]}\"\n",
      "do\n",
      "    case $opt in\n",
      "        \"Option 1\")\n",
      "            # Action for option 1\n",
      "            ;;\n",
      "        \"Option 2\")\n",
      "            # Action for option 2\n",
      "            ;;\n",
      "        \"Option 3\")\n",
      "            # Action for option 3\n",
      "            ;;\n",
      "        \"Quit\")\n",
      "            break\n",
      "            ;;\n",
      "        *) echo \"Invalid option\";;\n",
      "    esac\n",
      "done\n",
      "\n"
     ]
    }
   ],
   "source": [
    "%%bash\n",
    "cat select_menu_withSelelct.sh"
   ]
  },
  {
   "cell_type": "code",
   "execution_count": 31,
   "id": "ee1497f5",
   "metadata": {
    "slideshow": {
     "slide_type": "subslide"
    }
   },
   "outputs": [],
   "source": [
    "%%bash\n",
    "#bash select_menu_withSelelct.sh"
   ]
  },
  {
   "cell_type": "markdown",
   "id": "daa92732",
   "metadata": {
    "slideshow": {
     "slide_type": "subslide"
    }
   },
   "source": [
    "<p align='justify' style='margin: 10px 20px; line-height:1.5; font-family: \"Times New Roman\", Times, serif; font-size:16px; color: purple'>\n",
    "  Using a while loop and case statement: You can also use a while loop and a case statement to create an interactive menu. The while loop will continuously prompt the user to enter an option, and the case statement will execute the corresponding action based on the user's input. Here's an example of how to use a while loop and case statement to create a menu:\n",
    "\n",
    "</p>"
   ]
  },
  {
   "cell_type": "code",
   "execution_count": 8,
   "id": "30eedc3d",
   "metadata": {
    "scrolled": true,
    "slideshow": {
     "slide_type": "subslide"
    }
   },
   "outputs": [
    {
     "name": "stdout",
     "output_type": "stream",
     "text": [
      "#!/bin/bash\n",
      "while true\n",
      "do\n",
      "    # Display the menu\n",
      "    echo \"Please select an option:\"\n",
      "    echo \"1. Option 1\"\n",
      "    echo \"2. Option 2\"\n",
      "    echo \"3. Option 3\"\n",
      "    echo \"4. Quit\"\n",
      "\n",
      "    # Read the user's input\n",
      "    read -p \"Enter your selection: \" selection\n",
      "\n",
      "    # Execute the corresponding action\n",
      "    case $selection in\n",
      "        1)\n",
      "            # Action for option 1\n",
      "            ;;\n",
      "        2)\n",
      "            # Action for option 2\n",
      "            ;;\n",
      "        3)\n",
      "            # Action for option 3\n",
      "            ;;\n",
      "        4)\n",
      "            break\n",
      "            ;;\n",
      "        *) echo \"Invalid option\";;\n",
      "    esac\n",
      "done\n"
     ]
    }
   ],
   "source": [
    "%%bash\n",
    "cat select_menu_withWhile.sh"
   ]
  },
  {
   "cell_type": "code",
   "execution_count": 9,
   "id": "c3c9c4de",
   "metadata": {
    "slideshow": {
     "slide_type": "subslide"
    }
   },
   "outputs": [],
   "source": [
    "%%bash\n",
    "#bash select_menu_withWhile.sh"
   ]
  },
  {
   "cell_type": "markdown",
   "id": "8710a3dd",
   "metadata": {
    "slideshow": {
     "slide_type": "subslide"
    }
   },
   "source": [
    "<p align='justify' style='margin: 10px 20px; line-height:1.5; font-family: \"Times New Roman\", Times, serif; font-size:16px; color: purple'>\n",
    "  Both of these approaches allow you to create an interactive menu in a shell script, and you can customize the menu options and actions to suit your needs.\n",
    "\n",
    "</p><br>\n",
    "\n",
    "<h3 style='color:red; font-weight:bold; text-align:center; font-family: \"Times New Roman\", Times, serif;font-size:20px;'>Running shell scripts in the background </h3><br>\n",
    "<p align='justify' style='margin: 10px 20px; line-height:1.5; font-family: \"Times New Roman\", Times, serif; font-size:16px; color: black'>\n",
    "  To run a shell script in the background, you can use the nohup command followed by the script name and the & symbol. This will allow the script to run in the background even if you close the terminal window or log out of the system.<br><br><strong>For example:</strong>\n",
    "\n",
    "</p>"
   ]
  },
  {
   "cell_type": "code",
   "execution_count": 12,
   "id": "ab2c0d59",
   "metadata": {
    "slideshow": {
     "slide_type": "subslide"
    }
   },
   "outputs": [],
   "source": [
    "%%bash\n",
    "# execute this command in the terminal \n",
    "#nohup ./myscript.sh &"
   ]
  },
  {
   "cell_type": "markdown",
   "id": "481387a1",
   "metadata": {
    "slideshow": {
     "slide_type": "subslide"
    }
   },
   "source": [
    "<p align='justify' style='margin: 10px 20px; line-height:1.5; font-family: \"Times New Roman\", Times, serif; font-size:16px; color: purple'>\n",
    "  Alternatively, you can use the & symbol by itself to run the script in the background\n",
    "\n",
    "</p>"
   ]
  },
  {
   "cell_type": "code",
   "execution_count": 14,
   "id": "e9fe8dfa",
   "metadata": {
    "slideshow": {
     "slide_type": "subslide"
    }
   },
   "outputs": [],
   "source": [
    "%%bash\n",
    "# Run this command in the terminal \n",
    "#./myscript.sh &"
   ]
  },
  {
   "cell_type": "markdown",
   "id": "1da4f826",
   "metadata": {
    "slideshow": {
     "slide_type": "subslide"
    }
   },
   "source": [
    "<p align='justify' style='margin: 10px 20px; line-height:1.5; font-family: \"Times New Roman\", Times, serif; font-size:16px; color: purple'>\n",
    "  This will run the script in the background, but you will still be able to see any output or error messages that the script generates. To prevent this, you can redirect the output and error messages to a file using the > and 2> operators:\n",
    "\n",
    "</p>"
   ]
  },
  {
   "cell_type": "code",
   "execution_count": 15,
   "id": "adbfacef",
   "metadata": {
    "slideshow": {
     "slide_type": "subslide"
    }
   },
   "outputs": [],
   "source": [
    "%%bash\n",
    "# Run this command in the terminal \n",
    "#./myscript.sh > output.txt 2> error.txt &"
   ]
  },
  {
   "cell_type": "markdown",
   "id": "d25083be",
   "metadata": {
    "slideshow": {
     "slide_type": "subslide"
    }
   },
   "source": [
    "<p align='justify' style='margin: 10px 20px; line-height:1.5; font-family: \"Times New Roman\", Times, serif; font-size:16px; color: purple'>\n",
    "  This will run the script in the background and redirect the output and error messages to the output.txt and error.txt files, respectively.\n",
    "\n",
    "</p><br>\n",
    "<p align='justify' style='margin: 10px 20px; line-height:1.5; font-family: \"Times New Roman\", Times, serif; font-size:16px; color: black'>\n",
    "  You can use the jobs command to see a list of all the background jobs that are currently running. To bring a background job to the foreground, you can use the fg command followed by the job number.<br><br><strong> For example:</strong>\n",
    "\n",
    "</p>"
   ]
  },
  {
   "cell_type": "code",
   "execution_count": 17,
   "id": "1bdae018",
   "metadata": {
    "slideshow": {
     "slide_type": "subslide"
    }
   },
   "outputs": [],
   "source": [
    "%%bash\n",
    "# Run this command in the terminal \n",
    "#fg %1"
   ]
  },
  {
   "cell_type": "markdown",
   "id": "7b9dfc98",
   "metadata": {
    "slideshow": {
     "slide_type": "subslide"
    }
   },
   "source": [
    "<p align='justify' style='margin: 10px 20px; line-height:1.5; font-family: \"Times New Roman\", Times, serif; font-size:16px; color: purple'>\n",
    "  This will bring the first background job to the foreground.\n",
    "\n",
    "</p><br>\n",
    "<h3 style='color:red; font-weight:bold; text-align:center; font-family: \"Times New Roman\", Times, serif;font-size:20px;'>Handling signals in shell scripts</h3><br>\n",
    "<p align='justify' style='margin: 10px 20px; line-height:1.5; font-family: \"Times New Roman\", Times, serif; font-size:16px; color: purple'>\n",
    "  In a Unix-like operating system, a signal is a software interrupt delivered to a process. Signals are used by the operating system to communicate with processes and to interrupt or terminate them if necessary.\n",
    "\n",
    "</p><br><br>\n",
    "<p align='justify' style='margin: 10px 20px; line-height:1.5; font-family: \"Times New Roman\", Times, serif; font-size:16px; color: black'>\n",
    "  To handle signals in a shell script, you can use the trap command. The trap command allows you to specify a command or series of commands to be executed when a particular signal is received by the script. For example, the following script demonstrates how to use the trap command to handle the SIGINT signal (which is generated when the user presses CTRL+C):\n",
    "\n",
    "</p>"
   ]
  },
  {
   "cell_type": "code",
   "execution_count": null,
   "id": "ba85743c",
   "metadata": {
    "slideshow": {
     "slide_type": "subslide"
    }
   },
   "outputs": [],
   "source": [
    "%%bash\n",
    "#!/bin/bash\n",
    "\n",
    "# Set up a trap to catch the SIGINT signal (generated by pressing Ctrl+C)\n",
    "trap 'echo \"SIGINT signal received\"' SIGINT\n",
    "\n",
    "# Loop forever\n",
    "while true; do\n",
    "  sleep 1\n",
    "done"
   ]
  },
  {
   "cell_type": "markdown",
   "id": "6f382853",
   "metadata": {
    "slideshow": {
     "slide_type": "subslide"
    }
   },
   "source": [
    "<p align='justify' style='margin: 10px 20px; line-height:1.5; font-family: \"Times New Roman\", Times, serif; font-size:16px; color: purple'>\n",
    "  In this example, the script sets up a trap to catch the SIGINT signal and prints a message when the signal is received. The script then enters an infinite loop, sleeping for one second on each iteration. If you run this script and press CTRL+C, the script will print the message \"SIGINT signal received\" and then exit.\n",
    "\n",
    "</p><br><br>\n",
    "<p align='justify' style='margin: 10px 20px; line-height:1.5; font-family: \"Times New Roman\", Times, serif; font-size:16px; color: black'>\n",
    "  You can also use the trap command to specify a command or series of commands to be executed when the script exits, either normally or due to an error. <br><br><strong>For example:</strong>\n",
    "\n",
    "</p>"
   ]
  },
  {
   "cell_type": "code",
   "execution_count": null,
   "id": "b404513d",
   "metadata": {
    "slideshow": {
     "slide_type": "subslide"
    }
   },
   "outputs": [],
   "source": [
    "%%bash\n",
    "#!/bin/bash\n",
    "# Execute this script in the terminal\n",
    "# Set up a trap to execute a command when the script exits\n",
    "trap 'echo \"Exiting script\"' EXIT\n",
    "\n",
    "# Do some work\n",
    "echo \"Doing some work...\"\n",
    "\n",
    "# Exit the script\n",
    "exit 0"
   ]
  },
  {
   "cell_type": "markdown",
   "id": "55fada7e",
   "metadata": {
    "slideshow": {
     "slide_type": "subslide"
    }
   },
   "source": [
    "<p align='justify' style='margin: 10px 20px; line-height:1.5; font-family: \"Times New Roman\", Times, serif; font-size:16px; color: purple'>\n",
    "  In this example, the trap command specifies that the message \"Exiting script\" should be printed when the script exits. When the exit command is executed at the end of the script, the trap command is triggered and the message is printed.\n",
    "\n",
    "</p><br><br>\n",
    "<p align='justify' style='margin: 10px 20px; line-height:1.5; font-family: \"Times New Roman\", Times, serif; font-size:16px; color: black'>\n",
    "  You can find a complete list of the signals that can be trapped in a shell script by running the kill -l command.\n",
    "\n",
    "</p>"
   ]
  },
  {
   "cell_type": "markdown",
   "id": "2a8321d3",
   "metadata": {
    "slideshow": {
     "slide_type": "slide"
    }
   },
   "source": [
    "<h2 style='color:red; font-weight:bold; text-align:center; font-family: \"Times New Roman\", Times, serif;font-size:22px;'> FUNCTIONS AND LIBRARIES </h2><br>\n",
    "<p align='justify' style='margin: 10px 20px; line-height:1.5; font-family: \"Times New Roman\", Times, serif; font-size:16px;color: purple'>\n",
    "    <strong>Functions and Libraries</strong>\n",
    "    \n",
    "  <ul style='font-family: \"Times New Roman\", Times, serif; font-weight:light; font-size:16px;'>\n",
    "      <li><b>Defining and calling functions</b></li>\n",
    "      <li><b>Passing arguments to functions</b></li>\n",
    "      <li><b>Returning values from functions </b></li>\n",
    "      <li><b>Creating and using library files</b></li>\n",
    "      \n",
    "    \n",
    "    \n",
    "  </ul>\n",
    "</p><br>\n",
    "<img src=\"Function-in-Shell-Scripting.jpg\" width=\"150\" height=\"250\" style=\"float: left; margin-right: 20px; margin-left: 20px;\">\n",
    "<p align='justify' style='margin: 10px 20px; line-height:1.5; font-family: \"Times New Roman\", Times, serif; font-size:16px; color: purple'><br>\n",
    "  In shell scripting, functions are used to organize and reuse code, just like in other programming languages. A function is a block of code that can be called by name and can accept arguments. Functions can be defined in a shell script using the following syntax:\n",
    "\n",
    "  \n",
    "\n",
    "</p>"
   ]
  },
  {
   "cell_type": "code",
   "execution_count": null,
   "id": "0f82ca1e",
   "metadata": {
    "slideshow": {
     "slide_type": "subslide"
    }
   },
   "outputs": [],
   "source": [
    "function_name () {\n",
    "          commands\n",
    "        }"
   ]
  },
  {
   "cell_type": "markdown",
   "id": "a64002c5",
   "metadata": {
    "slideshow": {
     "slide_type": "subslide"
    }
   },
   "source": [
    "<p align='justify' style='margin: 10px 20px; line-height:1.5; font-family: \"Times New Roman\", Times, serif; font-size:16px; color: purple'><br>\n",
    "  Alternatively, the function can be defined using the function keyword:\n",
    "\n",
    "  \n",
    "\n",
    "</p>"
   ]
  },
  {
   "cell_type": "code",
   "execution_count": null,
   "id": "12224527",
   "metadata": {
    "slideshow": {
     "slide_type": "subslide"
    }
   },
   "outputs": [],
   "source": [
    "function function_name {\n",
    "          commands\n",
    "        }"
   ]
  },
  {
   "cell_type": "markdown",
   "id": "fe3aa6a2",
   "metadata": {
    "slideshow": {
     "slide_type": "subslide"
    }
   },
   "source": [
    "<p align='justify' style='margin: 10px 20px; line-height:1.5; font-family: \"Times New Roman\", Times, serif; font-size:16px; color: purple'><br>\n",
    "  Functions can be called using their name followed by parentheses and any arguments that are needed<br><br><br><strong style = \"color: black\">function_name arg1 arg2</strong>\n",
    "\n",
    "  \n",
    "\n",
    "</p><br><br>\n",
    "<p align='justify' style='margin: 10px 20px; line-height:1.5; font-family: \"Times New Roman\", Times, serif; font-size:16px; color: purple'>\n",
    "  In addition to functions, shell scripts can also use libraries of code that provide additional functionality. For example, the awk library is a powerful tool for text processing and can be used in shell scripts to perform tasks such as searching and replacing text, extracting data from files, and more. The sed library is another useful tool for text processing, and it can be used to perform tasks such as replacing text, deleting lines, and more.\n",
    "</p><br>\n",
    "<p align='justify' style='margin: 10px 20px; line-height:1.5; font-family: \"Times New Roman\", Times, serif; font-size:16px; color: black'>\n",
    "  Other libraries and tools that are commonly used in shell scripts include grep for searching text, perl for powerful text processing, and bc for performing basic arithmetic operations.\n",
    "</p><br>\n",
    "<p align='justify' style='margin: 10px 20px; line-height:1.5; font-family: \"Times New Roman\", Times, serif; font-size:16px; color: black'>\n",
    "  To use these libraries and tools in a shell script, you will need to include the appropriate command at the beginning of the script, followed by the appropriate options and arguments. For example, to use awk to search for a pattern in a file, you might use the following command:<br><br><strong>awk '/pattern/ {print $0}' input_file</strong>\n",
    "</p>"
   ]
  },
  {
   "cell_type": "markdown",
   "id": "7b9c1a99",
   "metadata": {
    "slideshow": {
     "slide_type": "subslide"
    }
   },
   "source": [
    "<p align='justify' style='margin: 10px 20px; line-height:1.5; font-family: \"Times New Roman\", Times, serif; font-size:16px; color: black'>\n",
    "  Remember to include the necessary shebang at the top of your shell script to specify the interpreter that should be used to run the script. For example, to run a script using the bash interpreter, you would use the following shebang: <br><br><strong>#!/bin/bash</strong>\n",
    "</p><br><br>\n",
    "<h5 style='color:red; font-weight:bold; text-align:center; font-family: \"Times New Roman\", Times, serif;font-size:16px;'>Examples of using Functions and Libraries in a Shell Script </h5><br>\n",
    "<p align='justify' style='margin: 10px 20px; line-height:1.5; font-family: \"Times New Roman\", Times, serif; font-size:16px; color: black'>\n",
    "  Here are some examples of using functions and libraries in a shell script. Defining and calling a function examples below. I will write the script using nano text editor or vi and i will show the content here and explained \n",
    "\n",
    "</p>"
   ]
  },
  {
   "cell_type": "code",
   "execution_count": 3,
   "id": "71f7c0b6",
   "metadata": {
    "slideshow": {
     "slide_type": "subslide"
    }
   },
   "outputs": [
    {
     "name": "stdout",
     "output_type": "stream",
     "text": [
      "\n",
      "\n",
      "# Define a function called \"greet\"\n",
      "greet() {\n",
      "  echo \"Hello, World\"\n",
      "}\n",
      "\n",
      "greet\n"
     ]
    }
   ],
   "source": [
    "%%bash \n",
    "cat functions_ex1.sh"
   ]
  },
  {
   "cell_type": "markdown",
   "id": "f9e1b74e",
   "metadata": {
    "slideshow": {
     "slide_type": "subslide"
    }
   },
   "source": [
    "<p align='justify' style='margin: 10px 20px; line-height:1.5; font-family: \"Times New Roman\", Times, serif; font-size:16px; color: black'>\n",
    "  The example above is self explanatory i think, all we are doing here is to define a function named \"greet\" and telling the function to print the message \"Hello World\" when it is called with the name of the function. let us run the function in the cell below. \n",
    "\n",
    "</p>"
   ]
  },
  {
   "cell_type": "code",
   "execution_count": 4,
   "id": "a84aeab8",
   "metadata": {
    "slideshow": {
     "slide_type": "subslide"
    }
   },
   "outputs": [
    {
     "name": "stdout",
     "output_type": "stream",
     "text": [
      "Hello, World\n"
     ]
    }
   ],
   "source": [
    "%%bash\n",
    "bash functions_ex1.sh"
   ]
  },
  {
   "cell_type": "markdown",
   "id": "0be9a46e",
   "metadata": {
    "slideshow": {
     "slide_type": "subslide"
    }
   },
   "source": [
    "<p align='justify' style='margin: 10px 20px; line-height:1.5; font-family: \"Times New Roman\", Times, serif; font-size:16px; color: purple'>\n",
    "  Using the \"expr\" command to perform arithmetic operations\n",
    "\n",
    "</p>"
   ]
  },
  {
   "cell_type": "code",
   "execution_count": 5,
   "id": "f6366eb4",
   "metadata": {
    "scrolled": false,
    "slideshow": {
     "slide_type": "subslide"
    }
   },
   "outputs": [
    {
     "name": "stdout",
     "output_type": "stream",
     "text": [
      "#!/bin/bash\n",
      "\n",
      "# Define two variables\n",
      "a=10\n",
      "b=5\n",
      "\n",
      "# Use the expr command to perform arithmetic operations\n",
      "c=$(expr $a + $b)\n",
      "echo \"a + b = $c\"\n",
      "\n",
      "d=$(expr $a - $b)\n",
      "echo \"a - b = $d\"\n",
      "\n",
      "e=$(expr $a \\* $b)\n",
      "echo \"a * b = $e\"\n",
      "\n",
      "f=$(expr $a / $b)\n",
      "echo \"a / b = $f\"\n"
     ]
    }
   ],
   "source": [
    "%%bash\n",
    "cat expr_for_arithmetic.sh"
   ]
  },
  {
   "cell_type": "code",
   "execution_count": 6,
   "id": "d1b661af",
   "metadata": {
    "slideshow": {
     "slide_type": "subslide"
    }
   },
   "outputs": [
    {
     "name": "stdout",
     "output_type": "stream",
     "text": [
      "a + b = 15\n",
      "a - b = 5\n",
      "a * b = 50\n",
      "a / b = 2\n"
     ]
    }
   ],
   "source": [
    "%%bash\n",
    "bash expr_for_arithmetic.sh"
   ]
  },
  {
   "cell_type": "markdown",
   "id": "4e3a3800",
   "metadata": {
    "slideshow": {
     "slide_type": "subslide"
    }
   },
   "source": [
    "<p align='justify' style='margin: 10px 20px; line-height:1.5; font-family: \"Times New Roman\", Times, serif; font-size:16px; color: purple'>\n",
    "  Using the date command to format the current date and time, the script will display the current date and time in the format \"YYYY-MM-DD HH:MM:SS\"\n",
    "\n",
    "\n",
    "</p>"
   ]
  },
  {
   "cell_type": "code",
   "execution_count": 7,
   "id": "83972dc7",
   "metadata": {
    "slideshow": {
     "slide_type": "subslide"
    }
   },
   "outputs": [
    {
     "name": "stdout",
     "output_type": "stream",
     "text": [
      "#!/bin/bash\n",
      "\n",
      "# Display the current date and time in the format \"YYYY-MM-DD HH:MM:SS\"\n",
      "date +\"%Y-%m-%d %H:%M:%S\"\n"
     ]
    }
   ],
   "source": [
    "%%bash\n",
    "cat date_formatting.sh"
   ]
  },
  {
   "cell_type": "code",
   "execution_count": 8,
   "id": "679b580d",
   "metadata": {
    "slideshow": {
     "slide_type": "subslide"
    }
   },
   "outputs": [
    {
     "name": "stdout",
     "output_type": "stream",
     "text": [
      "2022-12-20 05:23:19\n"
     ]
    }
   ],
   "source": [
    "%%bash\n",
    "bash date_formatting.sh"
   ]
  },
  {
   "cell_type": "markdown",
   "id": "7ce1b828",
   "metadata": {
    "slideshow": {
     "slide_type": "subslide"
    }
   },
   "source": [
    "<p align='justify' style='margin: 10px 20px; line-height:1.5; font-family: \"Times New Roman\", Times, serif; font-size:16px; color: purple'>\n",
    "  Using the sed command to perform text manipulation to replace all instances of \"hello\" with \"hi\" in a file called \"sedTextExample.txt\" and write the result to a new file called \"output.txt\"\n",
    "\n",
    "\n",
    "</p>"
   ]
  },
  {
   "cell_type": "code",
   "execution_count": 12,
   "id": "ccacfed2",
   "metadata": {
    "slideshow": {
     "slide_type": "subslide"
    }
   },
   "outputs": [
    {
     "name": "stdout",
     "output_type": "stream",
     "text": [
      "#!/bin/bash\n",
      "\n",
      "# Replace all instances of \"hello\" with \"hi\" in a file called \"sedTextExample.txt\" and write the result to a new file called \"output.txt\"\n",
      "sed 's/hello/hi/g' sedTextExample.txt > output.txt\n",
      "\n"
     ]
    }
   ],
   "source": [
    "%%bash\n",
    "cat sed_manipulation.sh"
   ]
  },
  {
   "cell_type": "code",
   "execution_count": 10,
   "id": "090aa0e8",
   "metadata": {
    "slideshow": {
     "slide_type": "subslide"
    }
   },
   "outputs": [],
   "source": [
    "%%bash\n",
    "bash sed_manipulation.sh"
   ]
  },
  {
   "cell_type": "code",
   "execution_count": 1,
   "id": "d0034eba",
   "metadata": {
    "slideshow": {
     "slide_type": "subslide"
    }
   },
   "outputs": [],
   "source": [
    "%%bash\n",
    "#cat output.txt"
   ]
  },
  {
   "cell_type": "markdown",
   "id": "a80f2a17",
   "metadata": {
    "slideshow": {
     "slide_type": "subslide"
    }
   },
   "source": [
    "<p align='justify' style='margin: 10px 20px; line-height:1.5; font-family: \"Times New Roman\", Times, serif; font-size:16px; color: purple'>\n",
    "  As we can see in the example above, the script has chnaged all \"hello\" to hi. you may be asking why the first \"Hello\" did not change, if you noticed it means you are really following the class, the script was asked to change \"hello\" (lowercase), not \"Hello\" (uppercase \"H\"). This is because it is case sensitive. \n",
    "\n",
    "\n",
    "</p><br><br>\n",
    "<p align='justify' style='margin: 10px 20px; line-height:1.5; font-family: \"Times New Roman\", Times, serif; font-size:16px; color: black'>\n",
    "  Using the grep command to search for a pattern in a file. In the example below, we will search for lines containing the word \"error\" in a file called \"log.txt\"\n",
    "\n",
    "\n",
    "</p>"
   ]
  },
  {
   "cell_type": "code",
   "execution_count": 13,
   "id": "62fcb861",
   "metadata": {
    "slideshow": {
     "slide_type": "subslide"
    }
   },
   "outputs": [
    {
     "name": "stdout",
     "output_type": "stream",
     "text": [
      "#!/bin/bash\n",
      "\n",
      "# Search for lines containing the word \"error\" in a file called \"log.txt\"\n",
      "grep \"error\" log.txt\n",
      "\n"
     ]
    }
   ],
   "source": [
    "%%bash \n",
    "cat grep_error.sh"
   ]
  },
  {
   "cell_type": "code",
   "execution_count": 2,
   "id": "e36ed779",
   "metadata": {
    "slideshow": {
     "slide_type": "subslide"
    }
   },
   "outputs": [],
   "source": [
    "%%bash\n",
    "#bash grep_error.sh"
   ]
  },
  {
   "cell_type": "markdown",
   "id": "73fe1aaa",
   "metadata": {
    "slideshow": {
     "slide_type": "subslide"
    }
   },
   "source": [
    "<p align='justify' style='margin: 10px 20px; line-height:1.5; font-family: \"Times New Roman\", Times, serif; font-size:16px; color: black'>\n",
    "  These are just a few examples of the many functions and libraries that are available for use in shell scripts. There are many more powerful tools and techniques that you can use to automate tasks and perform complex operations in shell scripts.\n",
    "\n",
    "\n",
    "</p><br><br>\n",
    "<h4 style='color:red; font-weight:bold; text-align:center; font-family: \"Times New Roman\", Times, serif;font-size:18px;'>Passing arguments to functions </h4><br>\n",
    "<p align='justify' style='margin: 10px 20px; line-height:1.5; font-family: \"Times New Roman\", Times, serif; font-size:16px; color: black'>\n",
    "  In a shell script, you can define a function and pass arguments to it in a similar way to how you pass arguments to a script. <br><br><br><strong style = \"color: purple\">Here's an example of a function that takes two arguments:</strong>\n",
    "\n",
    "</p>"
   ]
  },
  {
   "cell_type": "code",
   "execution_count": 2,
   "id": "c6ca43ce",
   "metadata": {
    "slideshow": {
     "slide_type": "subslide"
    }
   },
   "outputs": [
    {
     "name": "stdout",
     "output_type": "stream",
     "text": [
      "# Define a function that takes two arguments\n",
      "myfunc() {\n",
      "  # Print the first argument\n",
      "  echo \"First argument: $1\"\n",
      "\n",
      "  # Print the second argument\n",
      "  echo \"Second argument: $2\"\n",
      "}\n",
      "\n",
      "# Call the function and pass two arguments\n",
      "myfunc arg1 arg2\n"
     ]
    }
   ],
   "source": [
    "%%bash\n",
    "cat arg_functions.sh"
   ]
  },
  {
   "cell_type": "code",
   "execution_count": 3,
   "id": "fbb0b3b6",
   "metadata": {
    "slideshow": {
     "slide_type": "subslide"
    }
   },
   "outputs": [
    {
     "name": "stdout",
     "output_type": "stream",
     "text": [
      "First argument: arg1\n",
      "Second argument: arg2\n"
     ]
    }
   ],
   "source": [
    "%%bash \n",
    "bash arg_functions.sh"
   ]
  },
  {
   "cell_type": "markdown",
   "id": "d66a98f1",
   "metadata": {
    "slideshow": {
     "slide_type": "subslide"
    }
   },
   "source": [
    "<p align='justify' style='margin: 10px 20px; line-height:1.5; font-family: \"Times New Roman\", Times, serif; font-size:16px; color: purple'>\n",
    "  Inside the function, you can access the arguments using the \\$1, \\$2, etc. variables, just like in a script. You can also use the \\$# variable to get the total number of arguments passed to the function, and the shift command to move the argument position to the left.\n",
    "\n",
    "\n",
    "</p>"
   ]
  },
  {
   "cell_type": "code",
   "execution_count": 7,
   "id": "b03e558d",
   "metadata": {
    "scrolled": false,
    "slideshow": {
     "slide_type": "subslide"
    }
   },
   "outputs": [],
   "source": [
    "%%bash\n",
    "#cat arg_functions_all.sh"
   ]
  },
  {
   "cell_type": "code",
   "execution_count": 8,
   "id": "b91a1a43",
   "metadata": {
    "scrolled": true,
    "slideshow": {
     "slide_type": "subslide"
    }
   },
   "outputs": [
    {
     "name": "stdout",
     "output_type": "stream",
     "text": [
      "Total number of arguments: 2\n",
      "Processing argument: arg1\n",
      "Next argument: arg2\n"
     ]
    }
   ],
   "source": [
    "%%bash \n",
    "bash arg_functions_all.sh"
   ]
  },
  {
   "cell_type": "markdown",
   "id": "0b7cd875",
   "metadata": {
    "slideshow": {
     "slide_type": "subslide"
    }
   },
   "source": [
    "<h4 style='color:red; font-weight:bold; text-align:center; font-family: \"Times New Roman\", Times, serif;font-size:18px;'>Returning values from functions </h4><br>\n",
    "<p align='justify' style='margin: 10px 20px; line-height:1.5; font-family: \"Times New Roman\", Times, serif; font-size:16px; color: black'>\n",
    "  In shell scripting, you can use the return command to exit a function and specify a return value. The return value is an integer in the range 0 to 255, with 0 generally indicating success and non-zero values indicating an error or other condition.<br><br><br><strong style = \"color: purple\">Here's an example of a simple function that returns a value:</strong>\n",
    "\n",
    "</p>"
   ]
  },
  {
   "cell_type": "code",
   "execution_count": 3,
   "id": "9d81a42c",
   "metadata": {
    "scrolled": true,
    "slideshow": {
     "slide_type": "subslide"
    }
   },
   "outputs": [],
   "source": [
    "%%bash\n",
    "#cat function_return.sh"
   ]
  },
  {
   "cell_type": "markdown",
   "id": "4cc86ae0",
   "metadata": {
    "slideshow": {
     "slide_type": "subslide"
    }
   },
   "source": [
    "<h4 style='color:red; font-weight:bold; text-align:center; font-family: \"Times New Roman\", Times, serif;font-size:18px;'>Creating and using library files </h4><br>\n",
    "<p align='justify' style='margin: 10px 20px; line-height:1.5; font-family: \"Times New Roman\", Times, serif; font-size:16px; color: black'>\n",
    "  As already mentioned above, a library file is a script file that contains a collection of functions that can be used in other scripts. To use a library file in a script, you can use the \"source\" command followed by the name of the library file. For example, if you have a library file called \"mylib.sh\" that contains functions, you can use it in another script like this:\n",
    "\n",
    "</p>"
   ]
  },
  {
   "cell_type": "code",
   "execution_count": null,
   "id": "0ff2b223",
   "metadata": {
    "slideshow": {
     "slide_type": "subslide"
    }
   },
   "outputs": [],
   "source": [
    "#!/bin/bash\n",
    "# source the library file\n",
    "source mylib.sh\n",
    "# call a function from the library file\n",
    "myfunction"
   ]
  },
  {
   "cell_type": "markdown",
   "id": "bfc92b66",
   "metadata": {
    "slideshow": {
     "slide_type": "subslide"
    }
   },
   "source": [
    "<p align='justify' style='margin: 10px 20px; line-height:1.5; font-family: \"Times New Roman\", Times, serif; font-size:16px; color: purple'>\n",
    "  To create a library file, you can simply create a script file and define your functions in it. For example:\n",
    "\n",
    "</p>"
   ]
  },
  {
   "cell_type": "code",
   "execution_count": 4,
   "id": "5eeb8773",
   "metadata": {
    "slideshow": {
     "slide_type": "subslide"
    }
   },
   "outputs": [],
   "source": [
    "%%bash\n",
    "#cat mylib.sh"
   ]
  },
  {
   "cell_type": "markdown",
   "id": "14a54b08",
   "metadata": {
    "slideshow": {
     "slide_type": "subslide"
    }
   },
   "source": [
    "<p align='justify' style='margin: 10px 20px; line-height:1.5; font-family: \"Times New Roman\", Times, serif; font-size:16px; color: purple'>\n",
    "  Then, you can use the \"source\" command in your main script to include the functions from the library file.<br><br>It's a good idea to use library files to organize your code and make it easier to reuse functions across multiple scripts. You can also use library files to encapsulate code that is specific to a particular project or application.\n",
    "\n",
    "</p>"
   ]
  },
  {
   "cell_type": "markdown",
   "id": "3720b1c3",
   "metadata": {
    "slideshow": {
     "slide_type": "slide"
    }
   },
   "source": [
    "<h2 style='color:red; font-weight:bold; text-align:center; font-family: \"Times New Roman\", Times, serif;font-size:22px;'> AUTOMATING COMMON TASKS WITH SHELL SCRIPTS </h2><br>\n",
    "<p align='justify' style='margin: 10px 20px; line-height:1.5; font-family: \"Times New Roman\", Times, serif; font-size:16px;color: purple'>\n",
    "    <strong>Automating common tasks with shell scripts</strong>\n",
    "    \n",
    "  <ul style='font-family: \"Times New Roman\", Times, serif; font-weight:light; font-size:16px;'>\n",
    "      <li><b>Writing scripts to automate system maintenance tasks (e.g. backups, updates)</b></li>\n",
    "      <li><b>Writing scripts to automate user management tasks (e.g. creating and deleting user accounts)</b></li>\n",
    "      <li><b>Writing scripts to automate network management tasks (e.g. configuring network interfaces, monitoring network traffic)  </b></li>\n",
    "      \n",
    "      \n",
    "    \n",
    "    \n",
    "  </ul>\n",
    "</p><br>\n",
    "<img src=\"l-5.png\" width=\"150\" height=\"250\" style=\"float: left; margin-right: 20px; margin-left: 20px;\">\n",
    "<p align='justify' style='margin: 10px 20px; line-height:1.5; font-family: \"Times New Roman\", Times, serif; font-size:16px; color: purple'><br>\n",
    "  Shell scripts are a series of commands that can be executed in a shell, such as the Unix shell or the Windows Command Prompt. They are often used to automate common tasks, such as setting up a development environment, building and deploying software, or managing system configurations. \n",
    "</p><br><br>\n",
    "<h3 style='color:red; font-weight:bold; text-align:center; font-family: \"Times New Roman\", Times, serif;font-size:20px;'> Writing scripts to automate system maintenance tasks (e.g. backups, updates) </h3>\n",
    "<p align='justify' style='margin: 10px 20px; line-height:1.5; font-family: \"Times New Roman\", Times, serif; font-size:16px; color: purple'><br>\n",
    "  Here's an example of a simple shell script that performs a full system backup and saves it to a remote server:\n",
    "</p>"
   ]
  },
  {
   "cell_type": "code",
   "execution_count": 5,
   "id": "49aa6acc",
   "metadata": {
    "scrolled": false,
    "slideshow": {
     "slide_type": "subslide"
    }
   },
   "outputs": [],
   "source": [
    "%%bash\n",
    "#cat script_full_system_bkup.sh"
   ]
  },
  {
   "cell_type": "markdown",
   "id": "74822ad2",
   "metadata": {
    "slideshow": {
     "slide_type": "subslide"
    }
   },
   "source": [
    "<p align='justify' style='margin: 10px 20px; line-height:1.5; font-family: \"Times New Roman\", Times, serif; font-size:16px; color: purple'><br>\n",
    "  This script uses the tar command to create a compressed archive of the entire system, and the scp command to transfer the backup to a remote server. It then removes the local copy of the backup and prints a success message.\n",
    "</p><br>\n",
    "<p align='justify' style='margin: 10px 20px; line-height:1.5; font-family: \"Times New Roman\", Times, serif; font-size:16px; color: black'>\n",
    "  You can schedule this script to run automatically at regular intervals using a tool such as cron on Unix-like systems, or the Task Scheduler on Windows. This will allow you to automate the process of creating system backups without having to remember to run the script manually.\n",
    "</p><br>\n",
    "<p align='justify' style='margin: 10px 20px; line-height:1.5; font-family: \"Times New Roman\", Times, serif; font-size:16px; color: black'>\n",
    "  There are also many other tools and techniques you can use to automate system maintenance tasks, such as configuration management tools like Ansible, puppet, and chef. These tools allow you to define and manage the configuration of your systems in a declarative manner, making it easier to automate tasks such as software updates, package installations, and more.\n",
    "</p><br><br>\n",
    "<h3 style='color:red; font-weight:bold; text-align:center; font-family: \"Times New Roman\", Times, serif;font-size:20px;'> Updating all installed packages on a Debian-based system</h3>\n",
    "<p align='justify' style='margin: 10px 20px; line-height:1.5; font-family: \"Times New Roman\", Times, serif; font-size:16px; color: purple'><br>\n",
    "  Here's an example of a simple shell script that updates all installed packages on a Debian-based system\n",
    "</p>"
   ]
  },
  {
   "cell_type": "code",
   "execution_count": 53,
   "id": "9221e51d",
   "metadata": {
    "scrolled": true,
    "slideshow": {
     "slide_type": "subslide"
    }
   },
   "outputs": [
    {
     "name": "stdout",
     "output_type": "stream",
     "text": [
      "#!/bin/bash\n",
      "\n",
      "# Update all installed packages\n",
      "apt update\n",
      "apt upgrade -y\n",
      "\n",
      "# Print a success message\n",
      "echo \"System updates complete!\"\n"
     ]
    }
   ],
   "source": [
    "%%bash\n",
    "cat script_update_debian.sh"
   ]
  },
  {
   "cell_type": "markdown",
   "id": "3c3185e4",
   "metadata": {
    "slideshow": {
     "slide_type": "subslide"
    }
   },
   "source": [
    "<p align='justify' style='margin: 10px 20px; line-height:1.5; font-family: \"Times New Roman\", Times, serif; font-size:16px; color: purple'><br>\n",
    "  This script uses the apt command to update the package list and install any available updates. The -y flag automatically answers \"yes\" to any prompts, so the script can run without any user interaction.\n",
    "</p><br>\n",
    "<h3 style='color:red; font-weight:bold; text-align:center; font-family: \"Times New Roman\", Times, serif;font-size:20px;'> Rotating and compressing log files</h3>\n",
    "<p align='justify' style='margin: 10px 20px; line-height:1.5; font-family: \"Times New Roman\", Times, serif; font-size:16px; color: purple'><br>\n",
    "  Here's an example of a simple shell script that rotates and compress log files\n",
    "</p>"
   ]
  },
  {
   "cell_type": "code",
   "execution_count": 54,
   "id": "8d87bd15",
   "metadata": {
    "scrolled": true,
    "slideshow": {
     "slide_type": "subslide"
    }
   },
   "outputs": [
    {
     "name": "stdout",
     "output_type": "stream",
     "text": [
      "#!/bin/bash\n",
      "\n",
      "# Set the log directory and filename pattern\n",
      "LOG_DIR=\"/var/log\"\n",
      "LOG_PATTERN=\"*.log\"\n",
      "\n",
      "# Rotate and compress the log files\n",
      "for file in $LOG_DIR/$LOG_PATTERN; do\n",
      "  mv $file $file.old\n",
      "  gzip $file.old\n",
      "done\n",
      "\n",
      "# Print a success message\n",
      "echo \"Log rotation complete!\"\n"
     ]
    }
   ],
   "source": [
    "%%bash\n",
    "cat script_rotating_n_com_log.sh"
   ]
  },
  {
   "cell_type": "markdown",
   "id": "dc4abe2b",
   "metadata": {
    "slideshow": {
     "slide_type": "subslide"
    }
   },
   "source": [
    "<p align='justify' style='margin: 10px 20px; line-height:1.5; font-family: \"Times New Roman\", Times, serif; font-size:16px; color: purple'><br>\n",
    "  This script uses a for loop to iterate over all files in the /var/log directory that match the *.log pattern. It renames each file by appending \".old\" to the filename, and then compresses the \".old\" version of the file using gzip.\n",
    "</p><br>\n",
    "<p align='justify' style='margin: 10px 20px; line-height:1.5; font-family: \"Times New Roman\", Times, serif; font-size:16px; color: black'><br>\n",
    "  You can schedule these scripts to run automatically at regular intervals using a tool such as cron, or you can run them manually as needed.\n",
    "</p><br>\n",
    "<h3 style='color:red; font-weight:bold; text-align:center; font-family: \"Times New Roman\", Times, serif;font-size:20px;'>Writing scripts to automate user management tasks (e.g. creating and deleting user accounts)</h3>\n",
    "<p align='justify' style='margin: 10px 20px; line-height:1.5; font-family: \"Times New Roman\", Times, serif; font-size:16px; color: purple'><br>\n",
    "  User management refers to the process of creating, modifying, and deleting user accounts on a computer system. This can include tasks such as creating new user accounts, setting passwords, deleting old accounts, locking or unlocking accounts, and adding or removing users from groups.\n",
    "</p><br>\n",
    "<p align='justify' style='margin: 10px 20px; line-height:1.5; font-family: \"Times New Roman\", Times, serif; font-size:16px; color: black'>\n",
    "  Performing these tasks manually can be time-consuming and error-prone, especially if you have to manage a large number of users. To automate these tasks and make them more efficient, you can use scripts or tools that allow you to manage users from the command line or through a graphical user interface.\n",
    "</p>\n",
    "<p align='justify' style='margin: 10px 20px; line-height:1.5; font-family: \"Times New Roman\", Times, serif; font-size:16px; color: black'><br>\n",
    "  Here is a shell script that combines the above user management tasks into a single script. This script takes an action (create, delete, lock, unlock, add, or remove) and a username as arguments, and performs the corresponding action on the specified user.\n",
    "</p>"
   ]
  },
  {
   "cell_type": "code",
   "execution_count": 55,
   "id": "3553e7b0",
   "metadata": {
    "scrolled": true,
    "slideshow": {
     "slide_type": "subslide"
    }
   },
   "outputs": [
    {
     "name": "stdout",
     "output_type": "stream",
     "text": [
      "#!/bin/bash\n",
      "\n",
      "# Check if the script was called with the correct number of arguments\n",
      "if [ \"$#\" -ne 2 ]; then\n",
      "    echo \"Usage: $0 action username\"\n",
      "    exit 1\n",
      "fi\n",
      "\n",
      "# Perform the specified action on the user\n",
      "action=$1\n",
      "username=$2\n",
      "\n",
      "case $action in\n",
      "    create)\n",
      "        # Create the user and set their password\n",
      "        useradd $username\n",
      "        echo \"$username:password\" | chpasswd\n",
      "        ;;\n",
      "    delete)\n",
      "        # Delete the user\n",
      "        userdel $username\n",
      "        ;;\n",
      "    lock)\n",
      "        # Lock the user's account\n",
      "        usermod --lock $username\n",
      "        ;;\n",
      "    unlock)\n",
      "        # Unlock the user's account\n",
      "        usermod --unlock $username\n",
      "        ;;\n",
      "    add)\n",
      "        # Add the user to a group\n",
      "        echo \"Enter the group name:\"\n",
      "        read group\n",
      "        usermod -a -G $group $username\n",
      "        ;;\n",
      "    remove)\n",
      "        # Remove the user from a group\n",
      "        echo \"Enter the group name:\"\n",
      "        read group\n",
      "        gpasswd -d $username $group\n",
      "        ;;\n",
      "    *)\n",
      "        # Invalid action\n",
      "        echo \"Invalid action: $action\"\n",
      "        exit 1\n",
      "        ;;\n",
      "esac\n",
      "\n",
      "echo \"Action completed successfully.\"\n"
     ]
    }
   ],
   "source": [
    "%%bash\n",
    "cat user_manage_script_combine.sh"
   ]
  },
  {
   "cell_type": "markdown",
   "id": "6ecf2592",
   "metadata": {
    "slideshow": {
     "slide_type": "subslide"
    }
   },
   "source": [
    "<p align='justify' style='margin: 10px 20px; line-height:1.5; font-family: \"Times New Roman\", Times, serif; font-size:16px; color: black'><br>\n",
    "  To use this script, make it executable with the following command: <br><br><strong><i> chmod +x user_management.sh</i></strong><br><br><br>You can then run the script with the desired action and username as arguments, like this:<br><br><strong><i>./user_management.sh create newuser</i><br><i>./user_management.sh delete olduser</i><br><i>./user_management.sh lock lockeduser</i><br><i>./user_management.sh unlock unlockeduser</i><br><i>./user_management.sh add newmember</i><br><i>./user_management.sh remove oldmember</i></strong><br><br><strong style = \"color:purple\">Create a new user</strong>\n",
    "</p><br>\n",
    "<p align='justify' style='margin: 10px 20px; line-height:1.5; font-family: \"Times New Roman\", Times, serif; font-size:16px; color: black'>\n",
    "  This script uses the useradd command to create a new user with the specified username. It then sets the user's password using the chpasswd command, which takes a username and password in the format \"username:password\" and updates the user's password accordingly.\n",
    "</p>"
   ]
  },
  {
   "cell_type": "code",
   "execution_count": 6,
   "id": "df3f03cb",
   "metadata": {
    "scrolled": true,
    "slideshow": {
     "slide_type": "subslide"
    }
   },
   "outputs": [],
   "source": [
    "%%bash\n",
    "#cat script_new_user.sh"
   ]
  },
  {
   "cell_type": "markdown",
   "id": "3893d15e",
   "metadata": {
    "slideshow": {
     "slide_type": "subslide"
    }
   },
   "source": [
    "<p align='justify' style='margin: 10px 20px; line-height:1.5; font-family: \"Times New Roman\", Times, serif; font-size:16px; color: black'>\n",
    "    <strong style = \"color:purple\">Set a password for an existing user</strong><br><br><br>This script takes a username and a password as arguments, and uses the chpasswd command to set the password for the specified user.\n",
    "</p>"
   ]
  },
  {
   "cell_type": "code",
   "execution_count": 57,
   "id": "e6a00b87",
   "metadata": {
    "scrolled": false,
    "slideshow": {
     "slide_type": "subslide"
    }
   },
   "outputs": [
    {
     "name": "stdout",
     "output_type": "stream",
     "text": [
      "#!/bin/bash\n",
      "\n",
      "# Check if the script was called with the correct number of arguments\n",
      "if [ \"$#\" -ne 2 ]; then\n",
      "    echo \"Usage: $0 username password\"\n",
      "    exit 1\n",
      "fi\n",
      "\n",
      "# Set the password for the user\n",
      "username=$1\n",
      "password=$2\n",
      "echo \"$username:$password\" | chpasswd\n",
      "\n",
      "echo \"Password for user $username updated successfully.\"\n"
     ]
    }
   ],
   "source": [
    "%%bash\n",
    "cat passwd_existing_user.sh"
   ]
  },
  {
   "cell_type": "markdown",
   "id": "3888ef03",
   "metadata": {
    "slideshow": {
     "slide_type": "subslide"
    }
   },
   "source": [
    "<p align='justify' style='margin: 10px 20px; line-height:1.5; font-family: \"Times New Roman\", Times, serif; font-size:16px; color: black'>\n",
    "    <strong style = \"color:purple\">Delete a user</strong><br><br><br>This script uses the userdel command to delete the specified user.\n",
    "</p>"
   ]
  },
  {
   "cell_type": "code",
   "execution_count": 58,
   "id": "7b17db4d",
   "metadata": {
    "scrolled": true,
    "slideshow": {
     "slide_type": "subslide"
    }
   },
   "outputs": [
    {
     "name": "stdout",
     "output_type": "stream",
     "text": [
      "#!/bin/bash\n",
      "\n",
      "# Check if the script was called with the correct number of arguments\n",
      "if [ \"$#\" -ne 1 ]; then\n",
      "    echo \"Usage: $0 username\"\n",
      "    exit 1\n",
      "fi\n",
      "\n",
      "# Delete the user\n",
      "username=$1\n",
      "userdel $username\n",
      "\n",
      "echo \"User $username deleted successfully.\"\n"
     ]
    }
   ],
   "source": [
    "%%bash\n",
    "cat userdel.sh"
   ]
  },
  {
   "cell_type": "markdown",
   "id": "fc86e135",
   "metadata": {
    "slideshow": {
     "slide_type": "subslide"
    }
   },
   "source": [
    "<p align='justify' style='margin: 10px 20px; line-height:1.5; font-family: \"Times New Roman\", Times, serif; font-size:16px; color: black'>\n",
    "    <strong style = \"color:purple\">Lock a user account</strong><br><br><br>This script uses the usermod command with the --lock flag to lock the specified user's account.\n",
    "</p>"
   ]
  },
  {
   "cell_type": "code",
   "execution_count": 59,
   "id": "0832f657",
   "metadata": {
    "slideshow": {
     "slide_type": "subslide"
    }
   },
   "outputs": [
    {
     "name": "stdout",
     "output_type": "stream",
     "text": [
      "#!/bin/bash\n",
      "\n",
      "# Check if the script was called with the correct number of arguments\n",
      "if [ \"$#\" -ne 1 ]; then\n",
      "    echo \"Usage: $0 username\"\n",
      "    exit 1\n",
      "fi\n",
      "\n",
      "# Lock the user's account\n",
      "username=$1\n",
      "usermod --lock $username\n",
      "\n",
      "echo \"User $username's account locked successfully.\"\n"
     ]
    }
   ],
   "source": [
    "%%bash\n",
    "cat lock_user.sh"
   ]
  },
  {
   "cell_type": "markdown",
   "id": "0734eff6",
   "metadata": {
    "slideshow": {
     "slide_type": "subslide"
    }
   },
   "source": [
    "<p align='justify' style='margin: 10px 20px; line-height:1.5; font-family: \"Times New Roman\", Times, serif; font-size:16px; color: black'>\n",
    "    <strong style = \"color:purple\">Unlock a user account</strong><br><br><br>This script uses the usermod command with the --unlock flag to unlock the specified user's account.\n",
    "</p>"
   ]
  },
  {
   "cell_type": "code",
   "execution_count": 60,
   "id": "0d95dbd7",
   "metadata": {
    "scrolled": false,
    "slideshow": {
     "slide_type": "subslide"
    }
   },
   "outputs": [
    {
     "name": "stdout",
     "output_type": "stream",
     "text": [
      "#!/bin/bash\n",
      "\n",
      "# Check if the script was called with the correct number of arguments\n",
      "if [ \"$#\" -ne 1 ]; then\n",
      "    echo \"Usage: $0 username\"\n",
      "    exit 1\n",
      "fi\n",
      "\n",
      "# Unlock the user's account\n",
      "username=$1\n",
      "usermod --unlock $username\n",
      "\n",
      "echo \"User $username's account unlocked successfully.\"\n"
     ]
    }
   ],
   "source": [
    "%%bash\n",
    "cat unlock_user.sh"
   ]
  },
  {
   "cell_type": "markdown",
   "id": "aff625e3",
   "metadata": {
    "slideshow": {
     "slide_type": "subslide"
    }
   },
   "source": [
    "<p align='justify' style='margin: 10px 20px; line-height:1.5; font-family: \"Times New Roman\", Times, serif; font-size:16px; color: black'>\n",
    "    <strong style = \"color:purple\">Add a user to a group</strong>\n",
    "</p>"
   ]
  },
  {
   "cell_type": "code",
   "execution_count": 61,
   "id": "1773afad",
   "metadata": {
    "slideshow": {
     "slide_type": "subslide"
    }
   },
   "outputs": [
    {
     "name": "stdout",
     "output_type": "stream",
     "text": [
      "#!/bin/bash\n",
      "\n",
      "# Check if the script was called with the correct number of arguments\n",
      "if [ \"$#\" -ne 2 ]; then\n",
      "    echo \"Usage: $0 username group\"\n",
      "    exit 1\n",
      "fi\n",
      "\n",
      "# Add the user to the group\n",
      "username=$1\n",
      "group=$2\n",
      "usermod -a -G $group $username\n",
      "\n",
      "echo \"User $username\n"
     ]
    }
   ],
   "source": [
    "%%bash\n",
    "cat add_user_to_group"
   ]
  },
  {
   "cell_type": "markdown",
   "id": "0a827587",
   "metadata": {
    "slideshow": {
     "slide_type": "subslide"
    }
   },
   "source": [
    "<h3 style='color:red; font-weight:bold; text-align:center; font-family: \"Times New Roman\", Times, serif;font-size:20px;'>Writing scripts to automate network management tasks</h3>\n",
    "<p align='justify' style='margin: 10px 20px; line-height:1.5; font-family: \"Times New Roman\", Times, serif; font-size:16px; color: black'><br>\n",
    "  Shell scripts can be a useful way to automate network management tasks. Here are a few examples of tasks that you might want to automate using shell scripts:<br><br><br><strong style = \"color: purple\">Configuring network interfaces:</strong>\n",
    "</p>\n",
    "<p align='justify' style='margin: 10px 20px; line-height:1.5; font-family: \"Times New Roman\", Times, serif; font-size:16px; color: black'>\n",
    "  You can use shell scripts to automate the process of configuring network interfaces on your servers or networking devices. This can be useful for tasks such as setting static IP addresses, configuring VLANs, or changing the MTU of an interface.\n",
    "</p><br><br>\n",
    "<p align='justify' style='margin: 10px 20px; line-height:1.5; font-family: \"Times New Roman\", Times, serif; font-size:16px; color: black'>\n",
    "    <strong style = \"color:purple\">Monitoring network traffic:</strong><br><br>You can use shell scripts to monitor network traffic and alert you if certain thresholds are reached. For example, you might want to be notified if the bandwidth usage on a particular interface exceeds a certain level.\n",
    "</p><br><br>\n",
    "<p align='justify' style='margin: 10px 20px; line-height:1.5; font-family: \"Times New Roman\", Times, serif; font-size:16px; color: black'>\n",
    "    <strong style = \"color:purple\">Managing firewall rules: </strong><br><br>You can use shell scripts to automate the process of managing firewall rules on your servers or networking devices. This can be useful for tasks such as opening or closing ports, allowing or blocking specific IP addresses, or defining rules based on certain criteria.<br><br><br><strong style = \"color: purple\">Here is a simple example of a shell script that uses the ip command to configure a network interface:</strong>\n",
    "</p>"
   ]
  },
  {
   "cell_type": "code",
   "execution_count": 62,
   "id": "a173f542",
   "metadata": {
    "scrolled": true,
    "slideshow": {
     "slide_type": "subslide"
    }
   },
   "outputs": [
    {
     "name": "stdout",
     "output_type": "stream",
     "text": [
      "#!/bin/bash\n",
      "\n",
      "# Set the interface name\n",
      "INTERFACE=eth0\n",
      "\n",
      "# Set the IP address and netmask\n",
      "IPADDR=192.168.1.100\n",
      "NETMASK=255.255.255.0\n",
      "\n",
      "# Configure the interface\n",
      "ip addr add $IPADDR/$NETMASK dev $INTERFACE\n"
     ]
    }
   ],
   "source": [
    "%%bash\n",
    "cat network_management.sh"
   ]
  },
  {
   "cell_type": "markdown",
   "id": "8934a548",
   "metadata": {
    "slideshow": {
     "slide_type": "subslide"
    }
   },
   "source": [
    "<p align='justify' style='margin: 10px 20px; line-height:1.5; font-family: \"Times New Roman\", Times, serif; font-size:16px; color: black'><br>\n",
    "  This script sets the IP address and netmask for the eth0 interface, and then uses the ip command to configure the interface. You can then save this script and run it whenever you need to configure the eth0 interface.\n",
    "</p>"
   ]
  },
  {
   "cell_type": "markdown",
   "id": "7d718da7",
   "metadata": {
    "slideshow": {
     "slide_type": "subslide"
    }
   },
   "source": [
    "<h2 style='color:red; font-weight:bold; text-align:center; font-family: \"Times New Roman\", Times, serif;font-size:22px;'> SHELL SCRIPTING BEST PRACTICES FOR AUTOMATION </h2><br>\n",
    "<p align='justify' style='margin: 10px 20px; line-height:1.5; font-family: \"Times New Roman\", Times, serif; font-size:16px;color: purple'>\n",
    "    <strong>Shell scripting best practices for automation</strong>\n",
    "    \n",
    "  <ul style='font-family: \"Times New Roman\", Times, serif; font-weight:light; font-size:16px;'>\n",
    "      <li><b>Writing maintainable and reliable shell scripts</b></li>\n",
    "      <li><b>Testing and debugging shell scripts</b></li>\n",
    "      <li><b>Documenting and commenting shell scripts  </b></li>\n",
    "      \n",
    "      \n",
    "    \n",
    "    \n",
    "  </ul>\n",
    "</p><br>\n",
    "<img src=\"l-5.png\" width=\"150\" height=\"250\" style=\"float: left; margin-right: 20px; margin-left: 20px;\">\n",
    "<p align='justify' style='margin: 10px 20px; line-height:1.5; font-family: \"Times New Roman\", Times, serif; font-size:16px; color: purple'><br>\n",
    "  Good practices when writing shell scripts can help make your scripts more maintainable and reliable. <br><br>Some best practices include the follwing:\n",
    "</p><br><br>\n",
    "<p align='justify' style='margin: 10px 20px; line-height:1.5; font-family: \"Times New Roman\", Times, serif; font-size:16px;color: purple'>\n",
    "    <strong>Shell scripting best practices for automation</strong>\n",
    "    \n",
    "  <ul style='font-family: \"Times New Roman\", Times, serif; font-weight:light; font-size:16px;'>\n",
    "      <li>Use clear and descriptive names for variables, functions, and files: Using descriptive names for variables and functions makes it easier to understand the purpose of these elements when reading the script. This can be especially helpful when working on a team or when revisiting the script after a long period of time.</li><br>\n",
    "      <li>Use shell check to find and fix common shell script errors: Shell check is a tool that can analyze shell scripts and identify common mistakes and best practices. It can be a helpful resource for identifying and fixing problems in your scripts.</li><br>\n",
    "      <li>Use version control to track changes to your scripts and roll back if needed: Using version control allows you to track changes to your scripts over time and revert back to previous versions if needed. This can be especially useful when working on a team or when making significant changes to a script.</li><br>\n",
    "      <li>Use functions to break up large scripts into smaller, more modular pieces: Functions allow you to break up a large script into smaller, more manageable pieces. This can make your scripts easier to read and maintain, as well as easier to test and debug.</li><br>\n",
    "      <li>Avoid using global variables where possible: Global variables can make your scripts more difficult to maintain, as they can be accessed and modified from anywhere in the script. Instead, try to use local variables wherever possible.</li><br>\n",
    "      <li>Test your scripts on a variety of systems and shells to ensure compatibility: It's important to test your scripts on a variety of systems and shells to ensure that they work as expected. This can help you identify any compatibility issues that may arise. </li><br>\n",
    "      <li>Use set -e to exit immediately if any command returns a non-zero exit status: The -e option causes the script to exit immediately if any command returns a non-zero exit status. This can be helpful for detecting and handling errors in your scripts. </li><br>\n",
    "      <li>Use set -u to exit immediately if any undefined variables are encountered: The -u option causes the script to exit immediately if any undefined variables are encountered. This can help you catch mistakes and ensure that your scripts are reliable. </li><br>\n",
    "      <li>Use set -x to print each command before it is executed, which can be helpful for debugging: The -x option causes the script to print each command before it is executed. This can be helpful for debugging, as it allows you to see what commands are being run and in what order. </li><br><br><strong style = \"color: purple\">some examples of writing maintainable shell scripts:</strong>\n",
    "      \n",
    "      \n",
    "    \n",
    "    \n",
    "  </ul>\n",
    "</p>"
   ]
  },
  {
   "cell_type": "code",
   "execution_count": null,
   "id": "4f20de28",
   "metadata": {
    "slideshow": {
     "slide_type": "subslide"
    }
   },
   "outputs": [],
   "source": [
    "# Good example\n",
    "user_name=\"John\"\n",
    "\n",
    "# Bad example\n",
    "x=\"John\""
   ]
  },
  {
   "cell_type": "markdown",
   "id": "b7f8625f",
   "metadata": {
    "slideshow": {
     "slide_type": "subslide"
    }
   },
   "source": [
    "<p align='justify' style='margin: 10px 20px; line-height:1.5; font-family: \"Times New Roman\", Times, serif; font-size:16px; color: purple'><br>\n",
    "  Use shell check to find and fix common shell script errors:<br><br><strong style = \"color: black\">shellcheck my_script.sh</strong><br><br>Use version control to track changes to your scripts and roll back if needed:<br><br><strong style = \"color: black\">git init <br>git add my_script.sh<br>git commit -m \"Initial commit\"</strong><br><br>Use functions to break up large scripts into smaller, more modular pieces:<br><br><strong style = \"color: black\">Good example</strong>\n",
    "</p>"
   ]
  },
  {
   "cell_type": "code",
   "execution_count": null,
   "id": "5d42e207",
   "metadata": {
    "slideshow": {
     "slide_type": "subslide"
    }
   },
   "outputs": [],
   "source": [
    "#Define a function to perform a specific task\n",
    "do_something () {\n",
    "    # Code to perform the task goes here\n",
    "}\n",
    "\n",
    "# call the function\n",
    "do_something"
   ]
  },
  {
   "cell_type": "markdown",
   "id": "9762055d",
   "metadata": {
    "slideshow": {
     "slide_type": "subslide"
    }
   },
   "source": [
    "<p align='justify' style='margin: 10px 20px; line-height:1.5; font-family: \"Times New Roman\", Times, serif; font-size:16px; color: black'><br>\n",
    "    <strong>Bad Example</strong><br><br>All code is contained in the script<br>Code is difficult to read and maintain\n",
    "</p><br>\n",
    "<p align='justify' style='margin: 10px 20px; line-height:1.5; font-family: \"Times New Roman\", Times, serif; font-size:16px; color: purple'><br>\n",
    "    Avoid using global variables where possible:<br><br><strong style = \"color: black\">Good Example</strong>\n",
    "</p>"
   ]
  },
  {
   "cell_type": "code",
   "execution_count": null,
   "id": "a1024c3a",
   "metadata": {
    "slideshow": {
     "slide_type": "subslide"
    }
   },
   "outputs": [],
   "source": [
    "# Define a local variable within a function\n",
    "do_something () {\n",
    "    local variable=\"value\"\n",
    "}\n",
    "\n",
    "\n",
    "# Bad Example\n",
    "\n",
    "#Define a global variable\n",
    "variable=\"value\""
   ]
  },
  {
   "cell_type": "markdown",
   "id": "10e0ead9",
   "metadata": {
    "slideshow": {
     "slide_type": "subslide"
    }
   },
   "source": [
    "<p align='justify' style='margin: 10px 20px; line-height:1.5; font-family: \"Times New Roman\", Times, serif; font-size:16px; color: black'>\n",
    "    Global variables can be accessed and modified from anywhere in the script<br>This can make the script more difficult to maintain\n",
    "</p><br>\n",
    "<p align='justify' style='margin: 10px 20px; line-height:1.5; font-family: \"Times New Roman\", Times, serif; font-size:16px; color: purple'>\n",
    "    Test your scripts on a variety of systems and shells to ensure compatibility:\n",
    "</p>"
   ]
  },
  {
   "cell_type": "code",
   "execution_count": null,
   "id": "8f93e97a",
   "metadata": {
    "slideshow": {
     "slide_type": "subslide"
    }
   },
   "outputs": [],
   "source": [
    "# Test the script on different systems and shells\n",
    "bash my_script.sh\n",
    "zsh my_script.sh"
   ]
  },
  {
   "cell_type": "markdown",
   "id": "58ab6a68",
   "metadata": {
    "slideshow": {
     "slide_type": "subslide"
    }
   },
   "source": [
    "<p align='justify' style='margin: 10px 20px; line-height:1.5; font-family: \"Times New Roman\", Times, serif; font-size:16px; color: purple'>\n",
    "    Use set -e to exit immediately if any command returns a non-zero exit status:\n",
    "</p>"
   ]
  },
  {
   "cell_type": "code",
   "execution_count": null,
   "id": "25b7a800",
   "metadata": {
    "slideshow": {
     "slide_type": "subslide"
    }
   },
   "outputs": [],
   "source": [
    "# Good example\n",
    "set -e\n",
    "\n",
    "# Code that may return a non-zero exit status\n",
    "command || true\n",
    "\n",
    "# Bad example\n",
    "\n",
    "# Code that may return a non-zero exit status\n",
    "command || true\n",
    "# Without set -e, the script will continue even if the command returns a non-zero exit status"
   ]
  },
  {
   "cell_type": "markdown",
   "id": "99282fb8",
   "metadata": {
    "slideshow": {
     "slide_type": "subslide"
    }
   },
   "source": [
    "<p align='justify' style='margin: 10px 20px; line-height:1.5; font-family: \"Times New Roman\", Times, serif; font-size:16px; color: purple'>\n",
    "    Use set -u to exit immediately if any undefined variables are encountered:\n",
    "</p>"
   ]
  },
  {
   "cell_type": "code",
   "execution_count": null,
   "id": "173fa289",
   "metadata": {
    "slideshow": {
     "slide_type": "subslide"
    }
   },
   "outputs": [],
   "source": [
    "# Good example\n",
    "set -u\n",
    "\n",
    "# Code that uses a defined variable\n",
    "echo $defined_variable\n",
    "\n",
    "# Code that uses an undefined variable\n",
    "echo $undefined_variable\n",
    "\n",
    "# The script will exit with an error when it encounters the undefined variable\n",
    "\n",
    "# Bad example\n",
    "\n",
    "# Code that uses a defined variable\n",
    "echo $defined_variable\n",
    "\n",
    "# Code that uses an undefined variable\n",
    "echo $undefined_variable\n",
    "\n",
    "# Without set -u, the script will continue even if it encounters an undefined variab"
   ]
  },
  {
   "cell_type": "markdown",
   "id": "1cb2e54e",
   "metadata": {
    "slideshow": {
     "slide_type": "subslide"
    }
   },
   "source": [
    "<p align='justify' style='margin: 10px 20px; line-height:1.5; font-family: \"Times New Roman\", Times, serif; font-size:16px; color: purple'>\n",
    "    Use set -x to print each command before it is executed, which can be helpful for debugging: \n",
    "</p>"
   ]
  },
  {
   "cell_type": "code",
   "execution_count": null,
   "id": "5fcf5c31",
   "metadata": {
    "slideshow": {
     "slide_type": "subslide"
    }
   },
   "outputs": [],
   "source": [
    "# Good example\n",
    "set -x\n",
    "\n",
    "# Code that will be printed with each command\n",
    "command1\n",
    "command2\n",
    "\n",
    "# Bad example\n",
    "\n",
    "# Code that will not be printed\n",
    "command1\n",
    "command2\n",
    "\n",
    "# Without set -x, it can be difficult to see what commands are being run and in what order"
   ]
  },
  {
   "cell_type": "markdown",
   "id": "2fabcc7f",
   "metadata": {
    "slideshow": {
     "slide_type": "subslide"
    }
   },
   "source": [
    "<h3 style='color:red; font-weight:bold; text-align:center; font-family: \"Times New Roman\", Times, serif;font-size:20px;'>Testing and debugging shell scripts</h3>\n",
    "<p align='justify' style='margin: 10px 20px; line-height:1.5; font-family: \"Times New Roman\", Times, serif; font-size:16px; color: purple'><br>\n",
    "  Testing and debugging shell scripts is an important step in the development process. Some best practices for testing and debugging shell scripts include:\n",
    "</p><br>\n",
    "<p align='justify' style='margin: 10px 20px; line-height:1.5; font-family: \"Times New Roman\", Times, serif; font-size:16px;color: purple'>\n",
    "    \n",
    "    \n",
    "  <ul style='font-family: \"Times New Roman\", Times, serif; font-weight:light; font-size:16px;'>\n",
    "      <li>Use echo statements to print out the values of variables and expressions: Echo statements allow you to print out the values of variables and expressions, which can be helpful for verifying that your scripts are working as intended.</li><br>\n",
    "      <li>Use set -x to print each command before it is executed, which can be helpful for debugging: The -x option causes the script to print each command before it is executed. This can be helpful for debugging, as it allows you to see what commands are being run and in what order.\n",
    "</li><br>\n",
    "      <li>Use the \"set -e\" option to exit the script on error. This can help you identify and fix errors more quickly. </li><br>\n",
    "      <li>Use the \"trap\" command to handle signals and errors. This can help you gracefully handle unexpected events in your script.</li><br>\n",
    "      <li>Use the \"bash -n\" command to syntax check your script. This will identify any syntax errors in your script without actually running it.</li><br>\n",
    "      <li>Use the \"bash -v\" command to run your script in verbose mode. This will cause your script to print out each command as it is executed,</li><br>\n",
    "      \n",
    "      \n",
    "      \n",
    "    \n",
    "    \n",
    "  </ul>\n",
    "</p><br>\n",
    "<p align='justify' style='margin: 10px 20px; line-height:1.5; font-family: \"Times New Roman\", Times, serif; font-size:16px; color: purple'>\n",
    "  Some examples of testing and debugging shell scripts<br><br><strong>Use echo statements to print out the values of variables and expressions:</strong>\n",
    "\n",
    "</p>"
   ]
  },
  {
   "cell_type": "code",
   "execution_count": null,
   "id": "7c876792",
   "metadata": {
    "slideshow": {
     "slide_type": "subslide"
    }
   },
   "outputs": [],
   "source": [
    "# Print the value of a variable\n",
    "echo $variable\n",
    "\n",
    "# Print the result of an expression\n",
    "echo $((2 + 2))"
   ]
  },
  {
   "cell_type": "markdown",
   "id": "d7151b03",
   "metadata": {
    "slideshow": {
     "slide_type": "subslide"
    }
   },
   "source": [
    "<p align='justify' style='margin: 10px 20px; line-height:1.5; font-family: \"Times New Roman\", Times, serif; font-size:16px; color: purple'>\n",
    "  Use set -x to print each command before it is executed, which can be helpful for debugging\n",
    "\n",
    "</p>"
   ]
  },
  {
   "cell_type": "code",
   "execution_count": null,
   "id": "81a264da",
   "metadata": {
    "slideshow": {
     "slide_type": "subslide"
    }
   },
   "outputs": [],
   "source": [
    "#!/bin/bash\n",
    "set -x\n",
    "\n",
    "# Set a variable.\n",
    "foo=1\n",
    "\n",
    "# Print the value of the variable.\n",
    "echo $foo\n",
    "\n",
    "# Increment the variable.\n",
    "foo=$((foo + 1))\n",
    "\n",
    "# Print the value of the variable again.\n",
    "echo $foo"
   ]
  },
  {
   "cell_type": "markdown",
   "id": "5d221bf9",
   "metadata": {
    "slideshow": {
     "slide_type": "subslide"
    }
   },
   "source": [
    "<p align='justify' style='margin: 10px 20px; line-height:1.5; font-family: \"Times New Roman\", Times, serif; font-size:16px; color: purple'>\n",
    "  Use the \"set -e\" option to exit the script on error.\n",
    "\n",
    "</p>"
   ]
  },
  {
   "cell_type": "code",
   "execution_count": null,
   "id": "127c943c",
   "metadata": {
    "slideshow": {
     "slide_type": "subslide"
    }
   },
   "outputs": [],
   "source": [
    "# Enable \"exit on error\" mode\n",
    "set -e\n",
    "\n",
    "# Run some commands\n",
    "ls -l\n",
    "pwd\n",
    "\n",
    "# Disable \"exit on error\" mode\n",
    "set +e"
   ]
  },
  {
   "cell_type": "markdown",
   "id": "3cea25d7",
   "metadata": {
    "slideshow": {
     "slide_type": "subslide"
    }
   },
   "source": [
    "<p align='justify' style='margin: 10px 20px; line-height:1.5; font-family: \"Times New Roman\", Times, serif; font-size:16px; color: purple'>\n",
    "  Use the \"trap\" command to handle signals and errors. \n",
    "\n",
    "</p>"
   ]
  },
  {
   "cell_type": "code",
   "execution_count": null,
   "id": "209bde47",
   "metadata": {
    "slideshow": {
     "slide_type": "subslide"
    }
   },
   "outputs": [],
   "source": [
    "# Define the trap function\n",
    "trap 'echo \"Script interrupted, cleaning up and exiting.\"; rm -f tempfile; exit 1' INT TERM\n",
    "\n",
    "# Run some commands\n",
    "touch tempfile\n",
    "ls -l\n",
    "\n",
    "# Remove the tempfile\n",
    "rm -f tempfile       "
   ]
  },
  {
   "cell_type": "markdown",
   "id": "b05649e9",
   "metadata": {
    "slideshow": {
     "slide_type": "subslide"
    }
   },
   "source": [
    "<p align='justify' style='margin: 10px 20px; line-height:1.5; font-family: \"Times New Roman\", Times, serif; font-size:16px; color: purple'>\n",
    "  Use the \"bash -n\" command to syntax check your script.\n",
    "\n",
    "</p>"
   ]
  },
  {
   "cell_type": "code",
   "execution_count": null,
   "id": "80d95b4a",
   "metadata": {
    "slideshow": {
     "slide_type": "subslide"
    }
   },
   "outputs": [],
   "source": [
    "bash -n my_script.sh"
   ]
  },
  {
   "cell_type": "markdown",
   "id": "96d9605b",
   "metadata": {
    "slideshow": {
     "slide_type": "subslide"
    }
   },
   "source": [
    "<p align='justify' style='margin: 10px 20px; line-height:1.5; font-family: \"Times New Roman\", Times, serif; font-size:16px; color: purple'>\n",
    "  Use the \"bash -v\" command to run your script in verbose mode.\n",
    "\n",
    "</p><br>\n",
    "<h3 style='color:red; font-weight:bold; text-align:center; font-family: \"Times New Roman\", Times, serif;font-size:20px;'>Documenting and commenting shell scripts</h3>\n",
    "<p align='justify' style='margin: 10px 20px; line-height:1.5; font-family: \"Times New Roman\", Times, serif; font-size:16px; color: purple'><br>\n",
    "  Use comments to document any dependencies or requirements for your script. This could include specific software packages or libraries that need to be installed, or environment variables that need to be set<br><br><strong> For Example</strong>\n",
    "</p>"
   ]
  },
  {
   "cell_type": "code",
   "execution_count": null,
   "id": "d7396c62",
   "metadata": {
    "slideshow": {
     "slide_type": "subslide"
    }
   },
   "outputs": [],
   "source": [
    "# This script requires the MySQL client to be installed\n",
    "# It also requires the DATABASE_HOST, DATABASE_USER, and DATABASE_PASSWORD environment variables to be set"
   ]
  },
  {
   "cell_type": "markdown",
   "id": "a2aaf9ca",
   "metadata": {
    "slideshow": {
     "slide_type": "subslide"
    }
   },
   "source": [
    "<p align='justify' style='margin: 10px 20px; line-height:1.5; font-family: \"Times New Roman\", Times, serif; font-size:16px; color: purple'><br>\n",
    "  Use comments to document any command-line options or arguments that your script accepts. This will make it easier for others to understand how to use your script. <br><br><strong> For Example</strong>\n",
    "</p>"
   ]
  },
  {
   "cell_type": "code",
   "execution_count": null,
   "id": "a5b625f5",
   "metadata": {
    "slideshow": {
     "slide_type": "subslide"
    }
   },
   "outputs": [],
   "source": [
    "# This script accepts a single command-line argument: the name of the configuration file to use"
   ]
  },
  {
   "cell_type": "markdown",
   "id": "29414a4c",
   "metadata": {
    "slideshow": {
     "slide_type": "subslide"
    }
   },
   "source": [
    "<p align='justify' style='margin: 10px 20px; line-height:1.5; font-family: \"Times New Roman\", Times, serif; font-size:16px; color: purple'><br>\n",
    "   Use comments to document any changes or updates that you make to your script. This will help you keep track of the history of your script and will also make it easier for others to understand your code.  <br><br><strong> For Example</strong>\n",
    "</p>"
   ]
  },
  {
   "cell_type": "code",
   "execution_count": null,
   "id": "68b60a89",
   "metadata": {
    "slideshow": {
     "slide_type": "subslide"
    }
   },
   "outputs": [],
   "source": [
    "# Version "
   ]
  },
  {
   "cell_type": "markdown",
   "id": "d536897b",
   "metadata": {
    "slideshow": {
     "slide_type": "slide"
    }
   },
   "source": [
    "<h2 style='color:red; font-weight:bold; text-align:center; font-family: \"Times New Roman\", Times, serif;font-size:22px;'> ADVANCED SHELL SCRIPTING TECHNIQUES  </h2><br>\n",
    "<p align='justify' style='margin: 10px 20px; line-height:1.5; font-family: \"Times New Roman\", Times, serif; font-size:16px;color: purple'>\n",
    "    <strong>Advanced shell scripting techniques for automation</strong>\n",
    "    \n",
    "  <ul style='font-family: \"Times New Roman\", Times, serif; font-weight:light; font-size:16px;'>\n",
    "      <li><b>Advanced expansion and parameter manipulation</b></li>\n",
    "      <li><b>Advanced control structures (case, select)</b></li>\n",
    "      <li><b>Advanced command line processing (getopts, shift)</b></li>\n",
    "      <li><b>Advanced functions (recursion, local variables)</b></li>\n",
    "      \n",
    "      \n",
    "    \n",
    "    \n",
    "  </ul>\n",
    "</p><br>\n",
    "<img src=\"l-5.png\" width=\"150\" height=\"250\" style=\"float: left; margin-right: 20px; margin-left: 20px;\">\n",
    "<p align='justify' style='margin: 10px 20px; line-height:1.5; font-family: \"Times New Roman\", Times, serif; font-size:16px; color: purple'><br>\n",
    "  Advanced shell scripting techniques are techniques that can be used to automate tasks and processes using shell scripts, which are programs written in a shell language like bash or zsh as we already know. These techniques can help you write more efficient and flexible scripts that can be used to automate a wide range of tasks, from simple file management to complex system administration tasks.\n",
    "\n",
    "</p><br><br>\n",
    "<p align='justify' style='margin: 10px 20px; line-height:1.5; font-family: \"Times New Roman\", Times, serif; font-size:16px;color: purple'>\n",
    "    <strong>Some examples of advanced shell scripting techniques include:</strong>\n",
    "    \n",
    "  <ul style='font-family: \"Times New Roman\", Times, serif; font-weight:light; font-size:16px;'>\n",
    "      <li>Advanced expansion techniques, which allow you to manipulate variables and perform string manipulation in your scripts.\n",
    "</li>\n",
    "      <li>Advanced control structures, such as \"case\" and \"select\", which allow you to handle complex branching and decision-making in your scripts.</li>\n",
    "      <li>Advanced command line processing techniques, such as \"getopts\" and \"shift\", which allow you to parse and manipulate command-line arguments in your scripts.</li>\n",
    "      <li>Advanced functions, such as recursion and the use of local variables, which allow you to write more modular and reusable code in your scripts.</li>\n",
    "      \n",
    "      \n",
    "      \n",
    "    \n",
    "    \n",
    "  </ul>\n",
    "</p><br>\n",
    "<p align='justify' style='margin: 10px 20px; line-height:1.5; font-family: \"Times New Roman\", Times, serif; font-size:16px; color: purple'><br>\n",
    "   Overall, advanced shell scripting techniques can help you write more powerful and efficient scripts that can automate a wide range of tasks and processes, making your work more efficient and effective.<br><br><strong style = \"color: black\">we will look at the examples in details </strong>\n",
    "</p>"
   ]
  },
  {
   "cell_type": "markdown",
   "id": "7a48092a",
   "metadata": {
    "slideshow": {
     "slide_type": "subslide"
    }
   },
   "source": [
    "<h3 style='color:red; font-weight:bold; text-align:center; font-family: \"Times New Roman\", Times, serif;font-size:20px;'> Advanced expansion and parameter manipulation</h3><br>\n",
    "<p align='justify' style='margin: 10px 20px; line-height:1.5; font-family: \"Times New Roman\", Times, serif; font-size:16px; color: purple'>\n",
    "   Advanced expansion and parameter manipulation techniques allow you to manipulate variables and perform string manipulation in your shell scripts. These techniques are useful for extracting information from variables, replacing certain parts of a string with other values, and performing other types of string manipulation.<br><br><strong style = \"color: black\">Here are some examples of advanced expansion and parameter manipulation techniques</strong>\n",
    "</p><br><br>\n",
    "<h4 style='color:red; font-weight:bold; text-align:center; font-family: \"Times New Roman\", Times, serif;font-size:18px;'> Parameter expansion</h4><br>\n",
    "<p align='justify' style='margin: 10px 20px; line-height:1.5; font-family: \"Times New Roman\", Times, serif; font-size:16px; color: black'>\n",
    "   Extract a substring from a variable using the ${var:start:length} syntax. <br><br><strong>For example:</strong>\n",
    "</p>"
   ]
  },
  {
   "cell_type": "code",
   "execution_count": 64,
   "id": "c787b013",
   "metadata": {
    "slideshow": {
     "slide_type": "subslide"
    }
   },
   "outputs": [
    {
     "name": "stdout",
     "output_type": "stream",
     "text": [
      "string=\"hello\"\n",
      "echo ${string:0:2}  # prints \"he\"\n"
     ]
    }
   ],
   "source": [
    "%%bash\n",
    "cat parameter_expansion.sh"
   ]
  },
  {
   "cell_type": "code",
   "execution_count": 65,
   "id": "190389f6",
   "metadata": {
    "slideshow": {
     "slide_type": "subslide"
    }
   },
   "outputs": [
    {
     "name": "stdout",
     "output_type": "stream",
     "text": [
      "he\n"
     ]
    }
   ],
   "source": [
    "%%bash\n",
    "bash parameter_expansion.sh"
   ]
  },
  {
   "cell_type": "markdown",
   "id": "9322121d",
   "metadata": {
    "slideshow": {
     "slide_type": "subslide"
    }
   },
   "source": [
    "<p align='justify' style='margin: 10px 20px; line-height:1.5; font-family: \"Times New Roman\", Times, serif; font-size:16px; color: black'>\n",
    "   Replace a substring in a variable with another value using the ${var/pattern/replacement} syntax. <br><br><strong>For example:</strong>\n",
    "</p>"
   ]
  },
  {
   "cell_type": "code",
   "execution_count": 66,
   "id": "7e4224dd",
   "metadata": {
    "slideshow": {
     "slide_type": "subslide"
    }
   },
   "outputs": [
    {
     "name": "stdout",
     "output_type": "stream",
     "text": [
      "string=\"hello\"\n",
      "echo ${string/he/hi}  # prints \"hillo\"\n"
     ]
    }
   ],
   "source": [
    "%%bash\n",
    "cat string_parameter.sh"
   ]
  },
  {
   "cell_type": "code",
   "execution_count": 67,
   "id": "1be9491f",
   "metadata": {
    "slideshow": {
     "slide_type": "subslide"
    }
   },
   "outputs": [
    {
     "name": "stdout",
     "output_type": "stream",
     "text": [
      "hillo\n"
     ]
    }
   ],
   "source": [
    "%%bash\n",
    "bash string_parameter.sh"
   ]
  },
  {
   "cell_type": "markdown",
   "id": "570c825b",
   "metadata": {
    "slideshow": {
     "slide_type": "subslide"
    }
   },
   "source": [
    "<h4 style='color:red; font-weight:bold; text-align:center; font-family: \"Times New Roman\", Times, serif;font-size:18px;'> Command substitution </h4><br>\n",
    "<p align='justify' style='margin: 10px 20px; line-height:1.5; font-family: \"Times New Roman\", Times, serif; font-size:16px; color: black'>\n",
    "   Execute a command and store the output in a variable using the \\$(command) syntax. <br><br><strong>For example</strong>\n",
    "</p>"
   ]
  },
  {
   "cell_type": "code",
   "execution_count": 68,
   "id": "9ca5eb62",
   "metadata": {
    "slideshow": {
     "slide_type": "subslide"
    }
   },
   "outputs": [
    {
     "name": "stdout",
     "output_type": "stream",
     "text": [
      "current_date=$(date)\n",
      "echo $current_date  # prints the current date and time\n"
     ]
    }
   ],
   "source": [
    "%%bash\n",
    "cat command_sub.sh"
   ]
  },
  {
   "cell_type": "code",
   "execution_count": 69,
   "id": "e35040af",
   "metadata": {
    "slideshow": {
     "slide_type": "subslide"
    }
   },
   "outputs": [
    {
     "name": "stdout",
     "output_type": "stream",
     "text": [
      "mer. 21 déc. 2022 07:32:04 CET\n"
     ]
    }
   ],
   "source": [
    "%%bash\n",
    "bash command_sub.sh"
   ]
  },
  {
   "cell_type": "markdown",
   "id": "5655efaf",
   "metadata": {
    "slideshow": {
     "slide_type": "subslide"
    }
   },
   "source": [
    "<h4 style='color:red; font-weight:bold; text-align:center; font-family: \"Times New Roman\", Times, serif;font-size:18px;'> Arithmetic expansion  </h4><br>\n",
    "<p align='justify' style='margin: 10px 20px; line-height:1.5; font-family: \"Times New Roman\", Times, serif; font-size:16px; color: black'>\n",
    "   Perform arithmetic operations on variables using the $((expression)) syntax. <br><br><strong>For example:</strong>\n",
    "</p>"
   ]
  },
  {
   "cell_type": "code",
   "execution_count": 70,
   "id": "d1393a5d",
   "metadata": {
    "slideshow": {
     "slide_type": "subslide"
    }
   },
   "outputs": [
    {
     "name": "stdout",
     "output_type": "stream",
     "text": [
      "a=2\n",
      "b=3\n",
      "echo $((a + b))  # prints \"5\"\n"
     ]
    }
   ],
   "source": [
    "%%bash\n",
    "cat arithmeti_exp.sh"
   ]
  },
  {
   "cell_type": "code",
   "execution_count": 71,
   "id": "dcf155a3",
   "metadata": {
    "slideshow": {
     "slide_type": "subslide"
    }
   },
   "outputs": [
    {
     "name": "stdout",
     "output_type": "stream",
     "text": [
      "5\n"
     ]
    }
   ],
   "source": [
    "%%bash\n",
    "bash arithmeti_exp.sh"
   ]
  },
  {
   "cell_type": "markdown",
   "id": "0d05684e",
   "metadata": {
    "slideshow": {
     "slide_type": "subslide"
    }
   },
   "source": [
    "<h4 style='color:red; font-weight:bold; text-align:center; font-family: \"Times New Roman\", Times, serif;font-size:18px;'> Process substitution  </h4><br>\n",
    "<p align='justify' style='margin: 10px 20px; line-height:1.5; font-family: \"Times New Roman\", Times, serif; font-size:16px; color: black'>\n",
    "   Use the <(command) and >(command) syntax to pass the output of a command as an argument to another command. <br><br>For example</strong>\n",
    "</p>"
   ]
  },
  {
   "cell_type": "code",
   "execution_count": 72,
   "id": "a4b54be1",
   "metadata": {
    "slideshow": {
     "slide_type": "subslide"
    }
   },
   "outputs": [
    {
     "name": "stdout",
     "output_type": "stream",
     "text": [
      "sort <(ls)  # sorts the output of the \"ls\" command\n"
     ]
    }
   ],
   "source": [
    "%%bash\n",
    "cat process_sub.sh"
   ]
  },
  {
   "cell_type": "code",
   "execution_count": 79,
   "id": "dea2b20d",
   "metadata": {
    "slideshow": {
     "slide_type": "subslide"
    }
   },
   "outputs": [],
   "source": [
    "%%bash\n",
    "#bash process_sub.sh"
   ]
  },
  {
   "cell_type": "markdown",
   "id": "440127eb",
   "metadata": {
    "slideshow": {
     "slide_type": "subslide"
    }
   },
   "source": [
    "<p align='justify' style='margin: 10px 20px; line-height:1.5; font-family: \"Times New Roman\", Times, serif; font-size:16px; color: black'>\n",
    "   I hope these examples give you a better understanding of the advanced expansion and parameter manipulation techniques that are available in shell scripting. These techniques can be very powerful and can help you write more efficient and flexible scripts.\n",
    "</p><br>\n",
    "<h4 style='color:red; font-weight:bold; text-align:center; font-family: \"Times New Roman\", Times, serif;font-size:18px;'> Advanced control structures (case, select)   </h4><br>\n",
    "<p align='justify' style='margin: 10px 20px; line-height:1.5; font-family: \"Times New Roman\", Times, serif; font-size:16px; color: black'>\n",
    "   Advanced control structures are programming constructs that allow you to handle complex branching and decision-making in your shell scripts. They allow you to specify different actions to take based on the values of variables or the output of commands. <br><br><br><strong style = \"color: purple\">Two advanced control structures that are commonly used in shell scripts are \"case\" and \"select\".</strong>\n",
    "</p><br>\n",
    "<h5 style='color:red; font-weight:bold; text-align:center; font-family: \"Times New Roman\", Times, serif;font-size:16px;'> Case Control Structure </h5><br>\n",
    "<p align='justify' style='margin: 10px 20px; line-height:1.5; font-family: \"Times New Roman\", Times, serif; font-size:16px; color: black'>\n",
    "   The \"case\" control structure allows you to match a value against multiple patterns and execute different code blocks based on the pattern that matches. Here is an example of how to use \"case\":\n",
    "</p>"
   ]
  },
  {
   "cell_type": "code",
   "execution_count": 80,
   "id": "80bb8dac",
   "metadata": {
    "scrolled": true,
    "slideshow": {
     "slide_type": "subslide"
    }
   },
   "outputs": [
    {
     "name": "stdout",
     "output_type": "stream",
     "text": [
      "case $1 in\n",
      "  \"start\")\n",
      "    start_service\n",
      "    ;;\n",
      "  \"stop\")\n",
      "    stop_service\n",
      "    ;;\n",
      "  \"restart\")\n",
      "    stop_service\n",
      "    start_service\n",
      "    ;;\n",
      "  *)\n",
      "    echo \"Usage: my_script.sh [start|stop|restart]\"\n",
      "    exit 1\n",
      "    ;;\n",
      "esac\n"
     ]
    }
   ],
   "source": [
    "%%bash\n",
    "cat case_control_struct.sh"
   ]
  },
  {
   "cell_type": "code",
   "execution_count": 82,
   "id": "1f06384e",
   "metadata": {
    "slideshow": {
     "slide_type": "subslide"
    }
   },
   "outputs": [],
   "source": [
    "%%bash\n",
    "#bash case_control_struct.sh"
   ]
  },
  {
   "cell_type": "markdown",
   "id": "30148b0c",
   "metadata": {
    "slideshow": {
     "slide_type": "subslide"
    }
   },
   "source": [
    "<p align='justify' style='margin: 10px 20px; line-height:1.5; font-family: \"Times New Roman\", Times, serif; font-size:16px; color: black'>\n",
    "   In this example, the \"case\" control structure is used to match the value of the first command-line argument against the patterns \"start\", \"stop\", and \"restart\". If a match is found, the corresponding code block is executed. If no match is found, the \"*\" pattern is used to execute the default code block.\n",
    "</p><br>\n",
    "<h5 style='color:red; font-weight:bold; text-align:center; font-family: \"Times New Roman\", Times, serif;font-size:16px;'> Select Control Structure </h5><br>\n",
    "<p align='justify' style='margin: 10px 20px; line-height:1.5; font-family: \"Times New Roman\", Times, serif; font-size:16px; color: black'>\n",
    "   The \"select\" control structure allows you to create a menu of options for the user to choose from. It displays a list of options and prompts the user to enter their selection. Here is an example of how to use \"select\":\n",
    "</p>"
   ]
  },
  {
   "cell_type": "code",
   "execution_count": 83,
   "id": "3a6494db",
   "metadata": {
    "scrolled": false,
    "slideshow": {
     "slide_type": "subslide"
    }
   },
   "outputs": [
    {
     "name": "stdout",
     "output_type": "stream",
     "text": [
      "echo \"Choose an option:\"\n",
      "select option in \"Option 1\" \"Option 2\" \"Option 3\"\n",
      "do\n",
      "  case $option in\n",
      "    \"Option 1\")\n",
      "      do_something\n",
      "      break\n",
      "      ;;\n",
      "    \"Option 2\")\n",
      "      do_something_else\n",
      "      break\n",
      "      ;;\n",
      "    \"Option 3\")\n",
      "      do_something_else_again\n",
      "      break\n",
      "      ;;\n",
      "  esac\n",
      "done\n"
     ]
    }
   ],
   "source": [
    "%%bash\n",
    "cat select_control_struct.sh"
   ]
  },
  {
   "cell_type": "markdown",
   "id": "36461dc4",
   "metadata": {
    "slideshow": {
     "slide_type": "subslide"
    }
   },
   "source": [
    "<p align='justify' style='margin: 10px 20px; line-height:1.5; font-family: \"Times New Roman\", Times, serif; font-size:16px; color: black'>\n",
    "   In this example, the \"select\" control structure displays a list of options and prompts the user to enter their selection. The \"case\" control structure is then used to match the user's selection against the available options and execute the corresponding code block. The \"break\" statement is used to exit the \"select\" loop when the user has made their selection.\n",
    "</p><br>\n",
    "<h4 style='color:red; font-weight:bold; text-align:center; font-family: \"Times New Roman\", Times, serif;font-size:18px;'>Advanced command line processing (getopts, shift) </h4><br>\n",
    "<p align='justify' style='margin: 10px 20px; line-height:1.5; font-family: \"Times New Roman\", Times, serif; font-size:16px; color: black'>\n",
    "   Advanced command line processing techniques allow you to parse and manipulate command-line arguments in your shell scripts. These techniques are useful for handling complex command-line options and arguments, and can help you make your scripts more flexible and user-friendly.<br><br><br><strong style = \"color: purple\">Two advanced command line processing techniques that are commonly used in shell scripts are \"getopts\" and \"shift\".</strong>\n",
    "</p><br>\n",
    "<h5 style='color:red; font-weight:bold; text-align:center; font-family: \"Times New Roman\", Times, serif;font-size:16px;'> getopts</h5><br>\n",
    "<p align='justify' style='margin: 10px 20px; line-height:1.5; font-family: \"Times New Roman\", Times, serif; font-size:16px; color: black'>\n",
    "   The \"getopts\" command is used to parse command-line options in a shell script. It takes two arguments: a string of option characters and a variable name.\n",
    "</p>"
   ]
  },
  {
   "cell_type": "code",
   "execution_count": 84,
   "id": "0eed12b7",
   "metadata": {
    "scrolled": true,
    "slideshow": {
     "slide_type": "subslide"
    }
   },
   "outputs": [
    {
     "name": "stdout",
     "output_type": "stream",
     "text": [
      "# Parse the options\n",
      "while getopts \":abc:\" opt; do\n",
      "  case $opt in\n",
      "    a)\n",
      "      # Handle the -a option\n",
      "      ;;\n",
      "    b)\n",
      "      # Handle the -b option\n",
      "      ;;\n",
      "    c)\n",
      "      # Handle the -c option\n",
      "      ;;\n",
      "    \\?)\n",
      "      echo \"Invalid option: -$OPTARG\" >&2\n",
      "      exit 1\n",
      "      ;;\n",
      "    :)\n",
      "      echo \"Option -$OPTARG requires an argument.\" >&2\n",
      "      exit 1\n",
      "      ;;\n",
      "  esac\n",
      "done\n",
      "``\n"
     ]
    }
   ],
   "source": [
    "%%bash\n",
    "cat getopts.sh"
   ]
  },
  {
   "cell_type": "markdown",
   "id": "bcea3e34",
   "metadata": {
    "slideshow": {
     "slide_type": "subslide"
    }
   },
   "source": [
    "<p align='justify' style='margin: 10px 20px; line-height:1.5; font-family: \"Times New Roman\", Times, serif; font-size:16px; color: black'>\n",
    "   The string of option characters specifies the valid options that the script can accept. In this example, the string is \"-:abc:\", which means that the script can accept the options \"-a\", \"-b\", and \"-c\". The colon characters (\":\") indicate that these options may or may not have an associated argument. The variable name is used to store the value of the current option. In this example, the variable name is \"opt\". The \"getopts\" command is used in a \"while\" loop. The loop will continue to execute until all of the options have been processed.<br><br> Inside the loop, the \"case\" control structure is used to match the value of the \"opt\" variable against the different options that the script can accept. If a match is found, the corresponding code block is executed. The \"?\" and \":\" patterns are used to handle invalid options and missing option arguments, respectively. If an invalid option is encountered, the script prints an error message and exits with an error code. If an option argument is missing, the script also prints an error message and exits with an error code.\n",
    "</p><br><br>\n",
    "<h5 style='color:red; font-weight:bold; text-align:center; font-family: \"Times New Roman\", Times, serif;font-size:16px;'> shift</h5><br>\n",
    "<p align='justify' style='margin: 10px 20px; line-height:1.5; font-family: \"Times New Roman\", Times, serif; font-size:16px; color: black'>\n",
    "   The \"shift\" command is used to shift the positional parameters (arguments passed to a script) to the left by a specified number of positions. It takes a single argument: the number of positions to shift. If no argument is provided, it defaults to shifting by one position. Here is an example of how to use \"shift\":\n",
    "</p>"
   ]
  },
  {
   "cell_type": "code",
   "execution_count": 85,
   "id": "27961679",
   "metadata": {
    "slideshow": {
     "slide_type": "subslide"
    }
   },
   "outputs": [
    {
     "name": "stdout",
     "output_type": "stream",
     "text": [
      "# Shift the positional parameters to the left by one position\n",
      "shift\n",
      "\n",
      "# Access the new first positional parameter\n",
      "echo $1\n"
     ]
    }
   ],
   "source": [
    "%%bash\n",
    "cat shift.sh"
   ]
  },
  {
   "cell_type": "markdown",
   "id": "ea180d79",
   "metadata": {
    "slideshow": {
     "slide_type": "subslide"
    }
   },
   "source": [
    "<p align='justify' style='margin: 10px 20px; line-height:1.5; font-family: \"Times New Roman\", Times, serif; font-size:16px; color: black'>\n",
    "   In this example, the \"shift\" command is used to shift the positional parameters to the left by one position. This means that the second argument passed to the script becomes the first argument, the third argument becomes the second argument, and so on.<br><br>After the \"shift\" command is executed, the new first positional parameter can be accessed using the \"\\$1\" variable.\n",
    "</p><br><br>\n",
    "\n",
    "<p align='justify' style='margin: 10px 20px; line-height:1.5; font-family: \"Times New Roman\", Times, serif; font-size:16px; color: purple'>\n",
    "   The \"shift\" command can be useful for processing command-line arguments that have been parsed using the \"getopts\" command, as it allows you to easily access the remaining arguments after the options have been processed.\n",
    "</p>"
   ]
  }
 ],
 "metadata": {
  "celltoolbar": "Slideshow",
  "kernelspec": {
   "display_name": "Python 3 (ipykernel)",
   "language": "python",
   "name": "python3"
  },
  "language_info": {
   "codemirror_mode": {
    "name": "ipython",
    "version": 3
   },
   "file_extension": ".py",
   "mimetype": "text/x-python",
   "name": "python",
   "nbconvert_exporter": "python",
   "pygments_lexer": "ipython3",
   "version": "3.9.13"
  },
  "toc": {
   "base_numbering": 1,
   "nav_menu": {},
   "number_sections": false,
   "sideBar": true,
   "skip_h1_title": false,
   "title_cell": "Table of Contents",
   "title_sidebar": "Contents",
   "toc_cell": false,
   "toc_position": {
    "height": "calc(100% - 180px)",
    "left": "10px",
    "top": "150px",
    "width": "220px"
   },
   "toc_section_display": true,
   "toc_window_display": false
  }
 },
 "nbformat": 4,
 "nbformat_minor": 5
}
