{
 "cells": [
  {
   "cell_type": "markdown",
   "id": "ba8e194f",
   "metadata": {
    "slideshow": {
     "slide_type": "slide"
    }
   },
   "source": [
    "<a href=\"https://asphere.fr/\">\n",
    "    <img src=\"logo2.png\" width=\"500\" height=\"400\" style=\"display: block; margin: 0 auto;\">\n",
    "</a>\n",
    "<h1 style=\"text-align: center; font-family: 'Times New Roman', Times,serif ; color: purple; margin-right: 25px; margin-left: 70px;\">UNIX ADMIN EXERCISES</h1>\n",
    "<h4 style=\"text-align: center; font-family: 'Times New Roman', Times,serif ; color: black; margin-right: 25px; margin-left: 70px;\">AUX_050</h4>\n",
    "<h5 style=\"text-align: center; font-family: 'Times New Roman', Times,serif ; color: black; margin-right: 25px; margin-left: 70px;\">DURATION: Three Days (21 Hrs)</h5>\n",
    "<h4 style=\"text-align: center; font-family: 'Times New Roman', Times,serif ; color: black; margin-right: 25px; margin-left: 70px;\">OBJECTIVES</h4>\n",
    "<a href=\"https://asphere.fr/\">\n",
    "    <img src=\"unixlinux.webp\" width=\"100\" height=\"100\" style=\"float: right; margin-right: 25px; margin-left: 70px;\">\n",
    "</a>\n",
    "<h5 style=\"text-align: center; font-family: 'Times New Roman', Times,serif ; color: purple; margin-right: 90px; margin-left: 225px;\">Build shell scripts to automate common Unix/Linux administrator tasks, Mastering loops, advanced functions, building interactive shell menus, background scripting</h5>"
   ]
  },
  {
   "cell_type": "markdown",
   "id": "a98c313d",
   "metadata": {
    "slideshow": {
     "slide_type": "subslide"
    }
   },
   "source": [
    "<h3 style='color:red; font-weight:bold; text-align:center; font-family: \"Times New Roman\", Times, serif;'>EXERECISE : SHELL SCRIPTING FOR AUTOMATION</h3>\n",
    "<p align='justify' style='margin: 10px 20px; line-height:1.5; font-family: \"Times New Roman\", Times, serif; font-size:16px;'>\n",
    "    \n",
    "    \n",
    "  <ul style='font-family: \"Times New Roman\", Times, serif; font-weight:light; font-size:16px;'>\n",
    "      <li>Write a Shell script to automate the process of creating a new user account, which prompts the user for their name, username, password, and other required information.</li>\n",
    "      \n",
    "      \n",
    "    \n",
    "    \n",
    "  </ul>\n",
    "</p>"
   ]
  },
  {
   "cell_type": "code",
   "execution_count": null,
   "id": "c755d8e1",
   "metadata": {
    "slideshow": {
     "slide_type": "subslide"
    }
   },
   "outputs": [],
   "source": [
    "#!/bin/bash\n",
    "\n",
    "read -p \"Enter the user's full name: \" fullname\n",
    "read -p \"Enter the username: \" username\n",
    "read -s -p \"Enter the password: \" password\n",
    "echo\n",
    "read -p \"Enter the home directory: \" homedir\n",
    "read -p \"Enter the default shell: \" shell\n",
    "\n",
    "sudo useradd -m -c \"$fullname\" -s $shell -d $homedir $username\n",
    "echo \"$username:$password\" | sudo chpasswd"
   ]
  },
  {
   "cell_type": "markdown",
   "id": "5c01bef1",
   "metadata": {
    "slideshow": {
     "slide_type": "subslide"
    }
   },
   "source": [
    "<p align='justify' style='margin: 10px 20px; line-height:1.5; font-family: \"Times New Roman\", Times, serif; font-size:16px;'>\n",
    "    \n",
    "    \n",
    "  <ul style='font-family: \"Times New Roman\", Times, serif; font-weight:light; font-size:16px;'>\n",
    "      <li>Write a script to monitor the CPU usage of a specified process and send an alert when it exceeds a certain threshold.</li>\n",
    "      \n",
    "      \n",
    "    \n",
    "    \n",
    "  </ul>\n",
    "</p>"
   ]
  },
  {
   "cell_type": "code",
   "execution_count": null,
   "id": "ae05220b",
   "metadata": {
    "slideshow": {
     "slide_type": "subslide"
    }
   },
   "outputs": [],
   "source": [
    "#!/bin/bash\n",
    "\n",
    "while true\n",
    "do\n",
    "  if [ $(ps -p $1 -o %cpu | tail -n 1) -gt $2 ]\n",
    "  then\n",
    "    echo \"Process $1 is using more than $2% of the CPU.\"\n",
    "    # send alert email, pager message, or perform other actions as needed\n",
    "  fi\n",
    "  sleep 5\n",
    "done"
   ]
  },
  {
   "cell_type": "markdown",
   "id": "b4ccea8d",
   "metadata": {
    "slideshow": {
     "slide_type": "subslide"
    }
   },
   "source": [
    "<p align='justify' style='margin: 10px 20px; line-height:1.5; font-family: \"Times New Roman\", Times, serif; font-size:16px;'>\n",
    "    \n",
    "    \n",
    "  <ul style='font-family: \"Times New Roman\", Times, serif; font-weight:light; font-size:16px;'>\n",
    "      <li>Write a Shell script to automate the process of starting and stopping a service, which accepts input from the user to start or stop the service.</li>\n",
    "      \n",
    "      \n",
    "    \n",
    "    \n",
    "  </ul>\n",
    "</p>"
   ]
  },
  {
   "cell_type": "code",
   "execution_count": null,
   "id": "b3735e15",
   "metadata": {
    "slideshow": {
     "slide_type": "subslide"
    }
   },
   "outputs": [],
   "source": [
    "#!/bin/bash\n",
    "\n",
    "read -p \"Enter the name of the service to start/stop: \" service\n",
    "read -p \"Enter 'start' or 'stop' to proceed: \" action\n",
    "\n",
    "sudo systemctl $action $service"
   ]
  },
  {
   "cell_type": "markdown",
   "id": "bc4e7d25",
   "metadata": {
    "slideshow": {
     "slide_type": "subslide"
    }
   },
   "source": [
    "<p align='justify' style='margin: 10px 20px; line-height:1.5; font-family: \"Times New Roman\", Times, serif; font-size:16px;'>\n",
    "    \n",
    "    \n",
    "  <ul style='font-family: \"Times New Roman\", Times, serif; font-weight:light; font-size:16px;'>\n",
    "      <li>Write a script to backup a specified directory and all its contents, and restore it to a specified location.\n",
    "</li>\n",
    "      \n",
    "      \n",
    "    \n",
    "    \n",
    "  </ul>\n",
    "</p>"
   ]
  },
  {
   "cell_type": "code",
   "execution_count": null,
   "id": "ebc5c43e",
   "metadata": {
    "slideshow": {
     "slide_type": "subslide"
    }
   },
   "outputs": [],
   "source": [
    "#!/bin/bash\n",
    "\n",
    "# backup\n",
    "tar -czvf /path/to/backup.tar.gz /path/to/directory\n",
    "\n",
    "# restore\n",
    "tar -xzvf /path/to/backup.tar.gz -C /path/to/restore"
   ]
  },
  {
   "cell_type": "markdown",
   "id": "abe92da3",
   "metadata": {
    "slideshow": {
     "slide_type": "subslide"
    }
   },
   "source": [
    "<p align='justify' style='margin: 10px 20px; line-height:1.5; font-family: \"Times New Roman\", Times, serif; font-size:16px;'>\n",
    "    \n",
    "    \n",
    "  <ul style='font-family: \"Times New Roman\", Times, serif; font-weight:light; font-size:16px;'>\n",
    "      <li>Write a Shell script to monitor the disk usage of a specified file system, and send an alert when it exceeds a certain threshold.</li>\n",
    "      \n",
    "      \n",
    "    \n",
    "    \n",
    "  </ul>\n",
    "</p>"
   ]
  },
  {
   "cell_type": "code",
   "execution_count": null,
   "id": "31980b07",
   "metadata": {
    "slideshow": {
     "slide_type": "subslide"
    }
   },
   "outputs": [],
   "source": [
    "#!/bin/bash\n",
    "\n",
    "while true\n",
    "do\n",
    "  if [ $(df -h /dev/sda1 | tail -n 1 | awk '{print $5}' | cut -d'%' -f1) -gt $1 ]\n",
    "  then\n",
    "    echo \"Disk usage exceeds $1%.\"\n",
    "    # send alert email, pager message, or perform other actions as needed\n",
    "  fi\n",
    "  sleep 5\n",
    "done"
   ]
  },
  {
   "cell_type": "markdown",
   "id": "6750bfec",
   "metadata": {
    "slideshow": {
     "slide_type": "subslide"
    }
   },
   "source": [
    "<p align='justify' style='margin: 10px 20px; line-height:1.5; font-family: \"Times New Roman\", Times, serif; font-size:16px;'>\n",
    "    \n",
    "    \n",
    "  <ul style='font-family: \"Times New Roman\", Times, serif; font-weight:light; font-size:16px;'>\n",
    "      <li>Write a script to automate the process of creating a new directory, and setting permissions on it based on the user's input.</li>\n",
    "      \n",
    "      \n",
    "    \n",
    "    \n",
    "  </ul>\n",
    "</p>"
   ]
  },
  {
   "cell_type": "code",
   "execution_count": null,
   "id": "61066dc5",
   "metadata": {
    "slideshow": {
     "slide_type": "subslide"
    }
   },
   "outputs": [],
   "source": [
    "#!/bin/bash\n",
    "\n",
    "read -p \"Enter the name of the new directory: \" dirname\n",
    "read -p \"Enter the permissions (e.g. 755, 777): \" perms\n",
    "\n",
    "mkdir $dirname\n",
    "chmod $perms $dirname"
   ]
  },
  {
   "cell_type": "markdown",
   "id": "53644590",
   "metadata": {
    "slideshow": {
     "slide_type": "subslide"
    }
   },
   "source": [
    "<p align='justify' style='margin: 10px 20px; line-height:1.5; font-family: \"Times New Roman\", Times, serif; font-size:16px;'>\n",
    "    \n",
    "    \n",
    "  <ul style='font-family: \"Times New Roman\", Times, serif; font-weight:light; font-size:16px;'>\n",
    "      <li>Write a script to automate the process of updating a specified package or set of packages, and notifying the user of any errors or warnings.</li>\n",
    "      \n",
    "      \n",
    "    \n",
    "    \n",
    "  </ul>\n",
    "</p>"
   ]
  },
  {
   "cell_type": "code",
   "execution_count": null,
   "id": "1e5be341",
   "metadata": {
    "slideshow": {
     "slide_type": "subslide"
    }
   },
   "outputs": [],
   "source": [
    "#!/bin/bash\n",
    "\n",
    "read -p \"Enter the name of the package to update: \" package\n",
    "\n",
    "sudo apt-get update\n",
    "sudo apt-get install $package\n",
    "\n",
    "if [ $? -ne 0 ]\n",
    "then\n",
    "  echo \"Error: Failed to install package.\"\n",
    "  # send alert email, pager message, or perform other actions as needed\n",
    "else\n",
    "  echo \"Package $package updated successfully.\"\n",
    "fi"
   ]
  },
  {
   "cell_type": "markdown",
   "id": "eb9b2e39",
   "metadata": {
    "slideshow": {
     "slide_type": "subslide"
    }
   },
   "source": [
    "<p align='justify' style='margin: 10px 20px; line-height:1.5; font-family: \"Times New Roman\", Times, serif; font-size:16px;'>\n",
    "    \n",
    "    \n",
    "  <ul style='font-family: \"Times New Roman\", Times, serif; font-weight:light; font-size:16px;'>\n",
    "      <li>Write a Shell script to automate the process of checking the status of a specified service, and restarting it if it is not running.</li>\n",
    "      \n",
    "      \n",
    "    \n",
    "    \n",
    "  </ul>\n",
    "</p>"
   ]
  },
  {
   "cell_type": "code",
   "execution_count": null,
   "id": "5c492be2",
   "metadata": {
    "slideshow": {
     "slide_type": "subslide"
    }
   },
   "outputs": [],
   "source": [
    "#!/bin/bash\n",
    "\n",
    "read -p \"Enter the name of the service to check: \" service\n",
    "\n",
    "if systemctl is-active --quiet $service\n",
    "then\n",
    "  echo \"$service is running.\"\n",
    "else\n",
    "  echo \"$service is not running, restarting it now.\"\n",
    "  sudo systemctl start $service\n",
    "fi"
   ]
  },
  {
   "cell_type": "markdown",
   "id": "e8af0cca",
   "metadata": {
    "slideshow": {
     "slide_type": "subslide"
    }
   },
   "source": [
    "<p align='justify' style='margin: 10px 20px; line-height:1.5; font-family: \"Times New Roman\", Times, serif; font-size:16px;'>\n",
    "    \n",
    "    \n",
    "  <ul style='font-family: \"Times New Roman\", Times, serif; font-weight:light; font-size:16px;'>\n",
    "      <li>Write a script to automate the process of removing files older than a specified date from a specified directory, and sending a report to the user with the details of the deleted files.</li>\n",
    "      \n",
    "      \n",
    "    \n",
    "    \n",
    "  </ul>\n",
    "</p>"
   ]
  },
  {
   "cell_type": "code",
   "execution_count": null,
   "id": "c461152b",
   "metadata": {
    "slideshow": {
     "slide_type": "subslide"
    }
   },
   "outputs": [],
   "source": [
    "#!/bin/bash\n",
    "\n",
    "read -p \"Enter the path of the directory to clean up: \" dirpath\n",
    "read -p \"Enter the date in format YYYY-MM-DD: \" date\n",
    "\n",
    "find $dirpath -type f -not -newermt $date -print -delete > deleted_files.log\n",
    "echo \"The following files were deleted:\" > report.txt\n",
    "cat deleted_files.log >> report.txt\n",
    "mail -s \"Directory Cleanup Report\" user@example.com < report.txt"
   ]
  }
 ],
 "metadata": {
  "celltoolbar": "Slideshow",
  "kernelspec": {
   "display_name": "Python 3 (ipykernel)",
   "language": "python",
   "name": "python3"
  },
  "language_info": {
   "codemirror_mode": {
    "name": "ipython",
    "version": 3
   },
   "file_extension": ".py",
   "mimetype": "text/x-python",
   "name": "python",
   "nbconvert_exporter": "python",
   "pygments_lexer": "ipython3",
   "version": "3.9.13"
  }
 },
 "nbformat": 4,
 "nbformat_minor": 5
}
