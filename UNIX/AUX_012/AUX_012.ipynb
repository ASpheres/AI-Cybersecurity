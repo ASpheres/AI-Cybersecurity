{
 "cells": [
  {
   "cell_type": "markdown",
   "id": "2d11c840",
   "metadata": {
    "slideshow": {
     "slide_type": "subslide"
    }
   },
   "source": [
    "<a href=\"https://asphere.fr/\">\n",
    "    <img src=\"logo2.png\" width=\"500\" height=\"400\" style=\"display: block; margin: 0 auto;\">\n",
    "</a>\n",
    "<h1 style=\"text-align: center; font-family: 'Times New Roman', Times,serif ; color: purple; margin-right: 25px; margin-left: 70px;\">UNIX ADMIN</h1>\n",
    "<h4 style=\"text-align: center; font-family: 'Times New Roman', Times,serif ; color: black; margin-right: 25px; margin-left: 70px;\">AUX_012</h4>\n",
    "<h5 style=\"text-align: center; font-family: 'Times New Roman', Times,serif ; color: black; margin-right: 25px; margin-left: 70px;\">DURATION: Three Days (21 Hrs)</h5>\n",
    "<h4 style=\"text-align: center; font-family: 'Times New Roman', Times,serif ; color: black; margin-right: 25px; margin-left: 70px;\">OBJECTIVES</h4>\n",
    "<a href=\"https://asphere.fr/\">\n",
    "    <img src=\"unixlinux.webp\" width=\"100\" height=\"100\" style=\"float: right; margin-right: 25px; margin-left: 70px;\">\n",
    "</a>\n",
    "<h5 style=\"text-align: center; font-family: 'Times New Roman', Times,serif ; color: purple; margin-right: 90px; margin-left: 225px;\">Writing Shell scripts: awk, sed, egrep</h5>"
   ]
  },
  {
   "cell_type": "markdown",
   "id": "ac4830ba",
   "metadata": {
    "slideshow": {
     "slide_type": "subslide"
    }
   },
   "source": [
    "<h3 style='color:red; font-weight:bold; text-align:center; font-family: \"Times New Roman\", Times, serif;'>OVERVIEW</h3>\n",
    "\n",
    "<p align='justify' style='margin: 10px 20px; line-height:1.5; font-family: \"Times New Roman\", Times, serif; font-size:16px;'>\n",
    "  This course is designed \n",
    "</p>"
   ]
  },
  {
   "cell_type": "markdown",
   "id": "2e4ccc74",
   "metadata": {
    "slideshow": {
     "slide_type": "slide"
    }
   },
   "source": [
    "<h2 style='color:red; font-weight:bold; text-align:center; font-family: \"Times New Roman\", Times, serif;'>INTRODUCTION TO SIMPLE AND FUNDAMENTAL FILTERS <br>(more, grep, cut, wc)</h2>\n",
    "\n",
    "<p align='justify' style='margin: 10px 20px; line-height:1.5; font-family: \"Times New Roman\", Times, serif; font-size:16px;'>\n",
    "    <strong> Lesson One: </strong> Introduction to Simple and Fundamental Filters: more, grep, cut, wc\n",
    "    \n",
    "  <ul style='font-family: \"Times New Roman\", Times, serif; font-weight:light; font-size:16px;'>\n",
    "      <li><b>Introduction to Simple and Fundamental Filters: more, grep, cut, wc </b></li>\n",
    "      <li><b> Introduction to awk: presentation and syntax</b></li>\n",
    "      <li><b>Basic Structure and Operation of an awk Program (BEGIN, END)</b></li>\n",
    "      <li><b>Variables in awk</b></li>\n",
    "      <li><b>Operators in awk </b></li>\n",
    "      <li><b>Display Functions (print and printf) </b></li><br>\n",
    "    \n",
    "    \n",
    "  </ul>\n",
    "</p>\n",
    "<img src=\"grep-command-in-linux-useful-examples.jpg\" width=\"150\" height=\"250\" style=\"float: left; margin-right: 20px; margin-left: 20px;\">\n",
    "<p align='justify' style='margin: 10px 20px; line-height:1.5; font-family: \"Times New Roman\", Times, serif; font-size:16px;'>\n",
    "  Welcome to this lesson on simple and fundamental filters in Linux. In this lesson, we will be covering four common filters: more, grep, cut, and wc. These filters are commonly used to manipulate and extract information from text files in Linux. <br><br> First, we will start with the <strong>more</strong> filter. The more filter is used to view the contents of a file one page at a time. It allows you to scroll through the file using the spacebar or the enter key. <br><br><strong>The basic syntax for the more filter is:</strong><br> more [file name]\n",
    "\n",
    "</p><br>\n",
    "\n",
    "<p align='justify' style='margin: 10px 20px; line-height:1.5; font-family: \"Times New Roman\", Times, serif; font-size:16px; color : purple'>\n",
    "  Example of how the more command can be used \n",
    "\n",
    "</p>"
   ]
  },
  {
   "cell_type": "code",
   "execution_count": 16,
   "id": "b535558f",
   "metadata": {
    "slideshow": {
     "slide_type": "subslide"
    }
   },
   "outputs": [
    {
     "name": "stdout",
     "output_type": "stream",
     "text": [
      "::::::::::::::\n",
      "simple_filters.txt\n",
      "::::::::::::::\n",
      "#file.txt\n",
      "\n",
      "Name, Age, Gender, Occupation\n",
      "John, 30, Male, Engineer\n",
      "Sara, 25, Female, Doctor\n",
      "James, 35, Male, Lawyer\n",
      "Emily, 28, Female, Teacher\n",
      "David, 32, Male, Programmer\n",
      "Jessica, 27, Female, Designer\n"
     ]
    }
   ],
   "source": [
    "%%bash \n",
    "more simple_filters.txt"
   ]
  },
  {
   "cell_type": "markdown",
   "id": "3adec70c",
   "metadata": {
    "slideshow": {
     "slide_type": "subslide"
    }
   },
   "source": [
    "<p align='justify' style='margin: 10px 20px; line-height:1.5; font-family: \"Times New Roman\", Times, serif; font-size:16px; color : purple'>\n",
    "  To move forward one page, press the spacebar. To move backwards one page, press the b key. To exit the more filter, press the q key.\n",
    "\n",
    "</p><br>\n",
    "<p align='justify' style='margin: 10px 20px; line-height:1.5; font-family: \"Times New Roman\", Times, serif; font-size:16px;'>\n",
    "    Next, we will cover the <strong>grep filter</strong>. The grep filter is used to search for a specific pattern or string in a file. <br><br><strong>The basic syntax for the grep filter is:</strong><br><br> grep [pattern] [file name]\n",
    "\n",
    "</p><br>\n",
    "<p align='justify' style='margin: 10px 20px; line-height:1.5; font-family: \"Times New Roman\", Times, serif; font-size:16px; color : purple'>\n",
    "  For example, to search for the word \"John\" in a file called \"simple_filters.txt\", you would use the following command:\n",
    "\n",
    "</p>"
   ]
  },
  {
   "cell_type": "code",
   "execution_count": 10,
   "id": "d1d1b69d",
   "metadata": {
    "slideshow": {
     "slide_type": "subslide"
    }
   },
   "outputs": [
    {
     "name": "stdout",
     "output_type": "stream",
     "text": [
      "John, 30, Male, Engineer\n"
     ]
    }
   ],
   "source": [
    "%%bash\n",
    "grep John simple_filters.txt"
   ]
  },
  {
   "cell_type": "markdown",
   "id": "fbba6586",
   "metadata": {
    "slideshow": {
     "slide_type": "subslide"
    }
   },
   "source": [
    "<p align='justify' style='margin: 10px 20px; line-height:1.5; font-family: \"Times New Roman\", Times, serif; font-size:16px; color : purple'>\n",
    "  You can also use the -r option to search recursively in directories.\n",
    "\n",
    "</p><br>\n",
    "<p align='justify' style='margin: 10px 20px; line-height:1.5; font-family: \"Times New Roman\", Times, serif; font-size:16px; color : black'>\n",
    "    The <strong>cut filter</strong> is used to extract specific columns or fields from a file. <br><br>The basic syntax for the cut filter is:<br><br><strong>cut -f [field number] [file name]</strong>\n",
    "</p>"
   ]
  },
  {
   "cell_type": "code",
   "execution_count": 6,
   "id": "6ade2330",
   "metadata": {
    "slideshow": {
     "slide_type": "subslide"
    }
   },
   "outputs": [
    {
     "name": "stdout",
     "output_type": "stream",
     "text": [
      "#file.txt\n",
      "\n",
      "Name, Age, Gender, Occupation\n",
      "John, 30, Male, Engineer\n",
      "Sara, 25, Female, Doctor\n",
      "James, 35, Male, Lawyer\n",
      "Emily, 28, Female, Teacher\n",
      "David, 32, Male, Programmer\n",
      "Jessica, 27, Female, Designer\n"
     ]
    }
   ],
   "source": [
    "%%bash\n",
    "cut -f 2 simple_filters.txt"
   ]
  },
  {
   "cell_type": "markdown",
   "id": "a9a054d3",
   "metadata": {
    "slideshow": {
     "slide_type": "subslide"
    }
   },
   "source": [
    "<p align='justify' style='margin: 10px 20px; line-height:1.5; font-family: \"Times New Roman\", Times, serif; font-size:16px; color : black'>\n",
    "  Finally, we will cover the wc filter. The wc filter is used to count the number of lines, words, and characters in a file. <br><strong>The basic syntax for the wc filter is:</strong><br><br>wc [file name]\n",
    "\n",
    "\n",
    "</p><br>\n",
    "<p align='justify' style='margin: 10px 20px; line-height:1.5; font-family: \"Times New Roman\", Times, serif; font-size:16px; color : purple'>\n",
    "  For example, to count the number of lines, words, and characters in a file called \"file.txt\", you would use the following command:\n",
    "\n",
    "\n",
    "</p>"
   ]
  },
  {
   "cell_type": "code",
   "execution_count": 11,
   "id": "c912c447",
   "metadata": {
    "slideshow": {
     "slide_type": "subslide"
    }
   },
   "outputs": [
    {
     "name": "stdout",
     "output_type": "stream",
     "text": [
      "  9  29 200 simple_filters.txt\n"
     ]
    }
   ],
   "source": [
    "%%bash\n",
    "wc simple_filters.txt"
   ]
  },
  {
   "cell_type": "markdown",
   "id": "b735d493",
   "metadata": {
    "slideshow": {
     "slide_type": "subslide"
    }
   },
   "source": [
    "<p align='justify' style='margin: 10px 20px; line-height:1.5; font-family: \"Times New Roman\", Times, serif; font-size:16px; color : purple'>\n",
    "  To sum up, more, grep, cut, and wc are basic and fundamental filters in Linux, that allow you to view, search, extract and count the information in files.\n",
    "</p>"
   ]
  },
  {
   "cell_type": "markdown",
   "id": "c41204b3",
   "metadata": {
    "slideshow": {
     "slide_type": "subslide"
    }
   },
   "source": [
    "<h3 style='color:red; font-weight:bold; text-align:center; font-family: \"Times New Roman\", Times, serif;'>EXERECISE 0: Simple Filters (more, grep, cut, wc)</h3>\n",
    "<p align='justify' style='margin: 10px 20px; line-height:1.5; font-family: \"Times New Roman\", Times, serif; font-size:16px;'>\n",
    "    \n",
    "    \n",
    "  <ul style='font-family: \"Times New Roman\", Times, serif; font-weight:light; font-size:16px;'>\n",
    "      <li><b>Use the more filter to view a file called \"file.txt\"</b></li>\n",
    "      <li><b>Use the grep filter to search for a specific pattern in \"file.txt\"</b></li>\n",
    "      <li><b>Use the cut filter to extract a specific field from \"file.txt\"</b></li>\n",
    "      <li><b>Use the wc filter to count the number of lines, words, and characters in \"file.txt\"</b></li>\n",
    "      \n",
    "    \n",
    "    \n",
    "  </ul>\n",
    "</p>"
   ]
  },
  {
   "cell_type": "markdown",
   "id": "a5781ebb",
   "metadata": {
    "slideshow": {
     "slide_type": "slide"
    }
   },
   "source": [
    "<h2 style='color:red; font-weight:bold; text-align:center; font-family: \"Times New Roman\", Times, serif;'>INTRODUCTION TO AWK</h2>\n",
    "<img src=\"The-AWK-Programming-Language.svg.png\" width=\"150\" height=\"250\" style=\"float: left; margin-right: 20px; margin-left: 20px;\">\n",
    "<p align='justify' style='margin: 10px 20px; line-height:1.5; font-family: \"Times New Roman\", Times, serif; font-size:16px; color : black'>\n",
    "    First, let's start with a brief overview of what awk is. <strong> awk </strong> is a powerful tool for text processing in Linux. It is particularly useful for working with structured data, such as data in a CSV or tab-separated file. awk allows you to manipulate and extract information from text files by specifying a pattern to match and an action to take when a match is found. The main advantage of awk over other text processing tools is its built-in support for regular expressions, which makes it easy to search for and extract specific patterns in text.\n",
    "</p><br>\n",
    "<p align='justify' style='margin: 10px 20px; line-height:1.5; font-family: \"Times New Roman\", Times, serif; font-size:16px; color : purple'>\n",
    "  The basic syntax of an awk command is as follows:\n",
    "</p>\n",
    "<p align='justify' style='margin: 10px 20px; line-height:1.5; font-family: \"Times New Roman\", Times, serif; font-size:16px; color : black'>\n",
    "    <strong>awk 'pattern {action}' [file name]</strong>\n",
    "</p>\n",
    "<p align='justify' style='margin: 10px 20px; line-height:1.5; font-family: \"Times New Roman\", Times, serif; font-size:16px; color : purple'>\n",
    "  where the pattern is a regular expression that specifies the lines to match, and the action is a set of commands to be executed when a match is found. If no file name is provided, awk will process the standard input.\n",
    "</p>"
   ]
  },
  {
   "cell_type": "markdown",
   "id": "821336bd",
   "metadata": {
    "slideshow": {
     "slide_type": "subslide"
    }
   },
   "source": [
    "\n",
    "<p align='justify' style='margin: 10px 20px; line-height:1.5; font-family: \"Times New Roman\", Times, serif; font-size:16px; color : red'>\n",
    "    <strong>The structure of an awk program is also simple, it consists of:</strong>\n",
    "    \n",
    "  <ul style='font-family: \"Times New Roman\", Times, serif; font-weight:light; font-size:16px;'>\n",
    "      <li><b>BEGIN block: </b>executed before the input is processed.</li>\n",
    "      <li><b>main block: </b>executed for each line of input</li>\n",
    "      <li><b>END block: </b>  executed after all input is processed</li>    \n",
    "    \n",
    "  </ul>\n",
    "</p><br>\n",
    "<p align='justify' style='margin: 10px 20px; line-height:1.5; font-family: \"Times New Roman\", Times, serif; font-size:16px; color : purple'>\n",
    "  Here is a simple example of an awk command that prints the first field of each line in a file:\n",
    "</p>"
   ]
  },
  {
   "cell_type": "code",
   "execution_count": 16,
   "id": "fabec40d",
   "metadata": {
    "scrolled": true,
    "slideshow": {
     "slide_type": "subslide"
    }
   },
   "outputs": [
    {
     "name": "stdout",
     "output_type": "stream",
     "text": [
      "#file.txt\n",
      "\n",
      "Name,\n",
      "John,\n",
      "Sara,\n",
      "James,\n",
      "Emily,\n",
      "David,\n",
      "Jessica,\n"
     ]
    }
   ],
   "source": [
    "%%bash\n",
    "awk '{print $1}' simple_filters.txt"
   ]
  },
  {
   "cell_type": "markdown",
   "id": "dd3ff4bc",
   "metadata": {
    "slideshow": {
     "slide_type": "subslide"
    }
   },
   "source": [
    "<p align='justify' style='margin: 10px 20px; line-height:1.5; font-family: \"Times New Roman\", Times, serif; font-size:16px; color : purple'>\n",
    "  This command will print the first field of each line in the file \"simple_filters.txt\".\n",
    "</p><br>\n",
    "<p align='justify' style='margin: 10px 20px; line-height:1.5; font-family: \"Times New Roman\", Times, serif; font-size:16px; color : black'>\n",
    "    <strong>awk</strong> also provides a set of built-in variables that can be used to access various parts of the input. For example, $0 refers to the entire line, $1 refers to the first field, $2 refers to the second field, and so on. The NR variable is a special variable that keeps track of the current line number, it can be useful to keep track of the line number while processing the input.\n",
    "</p><br>\n",
    "\n",
    "<p align='justify' style='margin: 10px 20px; line-height:1.5; font-family: \"Times New Roman\", Times, serif; font-size:16px; color : purple'>\n",
    "  You can also use awk's built-in variables for controlling the flow of execution and conditional statements.<br><br> Here is an example of an awk command that prints the line number and the first field of each line where the first field is greater than 5:\n",
    "\n",
    "\n",
    "</p>"
   ]
  },
  {
   "cell_type": "code",
   "execution_count": 17,
   "id": "4fc58b92",
   "metadata": {
    "scrolled": false,
    "slideshow": {
     "slide_type": "subslide"
    }
   },
   "outputs": [
    {
     "name": "stdout",
     "output_type": "stream",
     "text": [
      "3 Name,\n",
      "4 John,\n",
      "5 Sara,\n",
      "6 James,\n",
      "7 Emily,\n",
      "8 David,\n",
      "9 Jessica,\n"
     ]
    }
   ],
   "source": [
    "%%bash\n",
    "awk '{if($1>5){print NR,$1}}' simple_filters.txt"
   ]
  },
  {
   "cell_type": "markdown",
   "id": "dd3209c3",
   "metadata": {
    "slideshow": {
     "slide_type": "subslide"
    }
   },
   "source": [
    "<h3 style='color:red; font-weight:bold; text-align:center; font-family: \"Times New Roman\", Times, serif;'>EXERECISE 1: Introduction to AWK</h3>\n",
    "<p align='justify' style='margin: 10px 20px; line-height:1.5; font-family: \"Times New Roman\", Times, serif; font-size:16px;'>\n",
    "    \n",
    "    \n",
    "  <ul style='font-family: \"Times New Roman\", Times, serif; font-weight:light; font-size:16px;'>\n",
    "      <li><b>Use awk to print the first field of each line in \"file.txt\"</b></li>\n",
    "      <li><b>Use awk to print the total number of lines in \"file.txt\"</b></li>\n",
    "      <li><b>Use awk to print the line number and the first field of each line where the first field is greater than 20</b></li>\n",
    "      <li><b>Use awk to print the average of the second field in \"file.txt\"</b></li>\n",
    "      \n",
    "    \n",
    "    \n",
    "  </ul>\n",
    "</p>"
   ]
  },
  {
   "cell_type": "markdown",
   "id": "9f24afde",
   "metadata": {
    "slideshow": {
     "slide_type": "slide"
    }
   },
   "source": [
    "<h2 style='color:red; font-weight:bold; text-align:center; font-family: \"Times New Roman\", Times, serif;'>BASIC STRUCTURE AND OPERATION OF AN AWK PROGRAM <br>(BEGIN, END) </h2> \n",
    "<img src=\"basic_awk_structure.png\" width=\"150\" height=\"250\" style=\"float: left; margin-right: 20px; margin-left: 20px;\">\n",
    "<p align='justify' style='margin: 10px 20px; line-height:1.5; font-family: \"Times New Roman\", Times, serif; font-size:16px; color : black'>\n",
    "    In this tutorial, we will be focusing on the BEGIN and END blocks in an awk program and how to use them effectively. <br><br> An <strong>awk program </strong> consists of three main blocks: the BEGIN block, the main block, and the END block. <br><br>The <strong>BEGIN</strong> block is executed before the input is processed, the main block is executed for each line of input, and the END block is executed after all input is processed.<br><br> The BEGIN block is useful for setting up initial conditions or performing initial calculations before the input is processed. For example, you can use the BEGIN block to initialize variables or to print a header for the output.\n",
    "\n",
    "\n",
    "</p><br>\n",
    "<p align='justify' style='margin: 10px 20px; line-height:1.5; font-family: \"Times New Roman\", Times, serif; font-size:16px; color : purple'>\n",
    "  Here is an example of an awk program that uses the BEGIN block to print a header before the input is processed:\n",
    "\n",
    "\n",
    "</p>"
   ]
  },
  {
   "cell_type": "code",
   "execution_count": 20,
   "id": "3d132737",
   "metadata": {
    "slideshow": {
     "slide_type": "subslide"
    }
   },
   "outputs": [
    {
     "name": "stdout",
     "output_type": "stream",
     "text": [
      "Name, Age, Gender, Occupation\n",
      "#file.txt   \n",
      "   \n",
      "Name, Age, Gender, Occupation\n",
      "John, 30, Male, Engineer\n",
      "Sara, 25, Female, Doctor\n",
      "James, 35, Male, Lawyer\n",
      "Emily, 28, Female, Teacher\n",
      "David, 32, Male, Programmer\n",
      "Jessica, 27, Female, Designer\n"
     ]
    }
   ],
   "source": [
    "%%bash\n",
    "awk 'BEGIN{print \"Name, Age, Gender, Occupation\"} {print $1, $2, $3, $4}' simple_filters.txt"
   ]
  },
  {
   "cell_type": "markdown",
   "id": "3a0026f2",
   "metadata": {
    "slideshow": {
     "slide_type": "subslide"
    }
   },
   "source": [
    "<p align='justify' style='margin: 10px 20px; line-height:1.5; font-family: \"Times New Roman\", Times, serif; font-size:16px; color : purple'>\n",
    "  This program will print the header \"Name, Age, Gender, Occupation\" before the input is processed, and then it will print the first, second, third and fourth field of each line in the file \"simple_filters.txt\"\n",
    "</p><br>\n",
    "<p align='justify' style='margin: 10px 20px; line-height:1.5; font-family: \"Times New Roman\", Times, serif; font-size:16px; color : black'>\n",
    "    The <strong>END</strong> block is useful for performing final calculations or cleanup tasks after the input has been processed. For example, you can use the END block to print a summary or a footer for the output.\n",
    "</p><br>\n",
    "<p align='justify' style='margin: 10px 20px; line-height:1.5; font-family: \"Times New Roman\", Times, serif; font-size:16px; color : purple'>\n",
    "  Here is an example of an awk program that uses the END block to calculate the average of the second field after the input is processed:\n",
    "\n",
    "\n",
    "</p>"
   ]
  },
  {
   "cell_type": "code",
   "execution_count": 23,
   "id": "bf4161f9",
   "metadata": {
    "slideshow": {
     "slide_type": "subslide"
    }
   },
   "outputs": [
    {
     "name": "stdout",
     "output_type": "stream",
     "text": [
      "average: 19,6667\n"
     ]
    }
   ],
   "source": [
    "%%bash\n",
    "awk '{sum+=$2; count++} END{print \"average: \" sum/count}' simple_filters.txt"
   ]
  },
  {
   "cell_type": "markdown",
   "id": "157c09c5",
   "metadata": {
    "slideshow": {
     "slide_type": "subslide"
    }
   },
   "source": [
    "<p align='justify' style='margin: 10px 20px; line-height:1.5; font-family: \"Times New Roman\", Times, serif; font-size:16px; color : purple'>\n",
    "  This program will calculate the sum of the second field of each line in the file \"file.txt\" and the number of lines in the file, then it will print the average of the second field after all the input is processed.\n",
    "\n",
    "\n",
    "</p>"
   ]
  },
  {
   "cell_type": "markdown",
   "id": "3042bc77",
   "metadata": {
    "slideshow": {
     "slide_type": "subslide"
    }
   },
   "source": [
    "<h3 style='color:red; font-weight:bold; text-align:center; font-family: \"Times New Roman\", Times, serif;'>EXERECISE 2: Basic Structure and Operation to AWK</h3>\n",
    "<p align='justify' style='margin: 10px 20px; line-height:1.5; font-family: \"Times New Roman\", Times, serif; font-size:16px;'>\n",
    "    \n",
    "    \n",
    "  <ul style='font-family: \"Times New Roman\", Times, serif; font-weight:light; font-size:16px;'>\n",
    "      <li><b>Use the BEGIN block to print a header before processing the input in \"file.txt\"</b></li>\n",
    "      <li><b>Use the END block to calculate the average of the third field after processing the input in \"file.txt\"</b></li>\n",
    "      <li><b>Use the BEGIN and END blocks together to print a header before processing the input, and then print a summary after processing the input in \"file.txt\"</b></li>\n",
    "      \n",
    "      \n",
    "    \n",
    "    \n",
    "  </ul>\n",
    "</p>"
   ]
  },
  {
   "cell_type": "markdown",
   "id": "030a143f",
   "metadata": {
    "slideshow": {
     "slide_type": "slide"
    }
   },
   "source": [
    "<h2 style='color:red; font-weight:bold; text-align:center; font-family: \"Times New Roman\", Times, serif;'>VARIABLES IN AWK </h2> \n",
    "<img src=\"awk_variables.jpeg\" width=\"150\" height=\"250\" style=\"float: left; margin-right: 20px; margin-left: 20px;\">\n",
    "<p align='justify' style='margin: 10px 20px; line-height:1.5; font-family: \"Times New Roman\", Times, serif; font-size:16px; color : black'>\n",
    "     In this tutorial, we will be covering the different types of variables in awk, how to use them, and how to manipulate them effectively.<br><br> In awk, there are two types of variables: scalar variables and array variables. Scalar variables are single values that can hold numbers or strings. Array variables are collections of values that can hold multiple numbers or strings.\n",
    "\n",
    "</p><br><br>\n",
    "<p align='justify' style='margin: 10px 20px; line-height:1.5; font-family: \"Times New Roman\", Times, serif; font-size:16px; color : purple'>\n",
    "  To declare a scalar variable in awk, you simply assign a value to a variable name. For example:\n",
    "\n",
    "</p>"
   ]
  },
  {
   "cell_type": "code",
   "execution_count": 26,
   "id": "a6d9a280",
   "metadata": {
    "slideshow": {
     "slide_type": "subslide"
    }
   },
   "outputs": [],
   "source": [
    "%%bash\n",
    "x=5"
   ]
  },
  {
   "cell_type": "markdown",
   "id": "1071548e",
   "metadata": {
    "slideshow": {
     "slide_type": "subslide"
    }
   },
   "source": [
    "<p align='justify' style='margin: 10px 20px; line-height:1.5; font-family: \"Times New Roman\", Times, serif; font-size:16px; color : black'>\n",
    "  This declares a scalar variable x and assigns the value 5 to it.\n",
    "\n",
    "</p><br>\n",
    "<p align='justify' style='margin: 10px 20px; line-height:1.5; font-family: \"Times New Roman\", Times, serif; font-size:16px; color : purple'>\n",
    "  To declare an array variable in awk, you use the array name followed by the index in square brackets. For example:\n",
    "\n",
    "</p>"
   ]
  },
  {
   "cell_type": "code",
   "execution_count": null,
   "id": "3be211b6",
   "metadata": {
    "slideshow": {
     "slide_type": "subslide"
    }
   },
   "outputs": [],
   "source": [
    "myArray[1] = \"hello\"\n",
    "myArray[2] = \"world\""
   ]
  },
  {
   "cell_type": "markdown",
   "id": "8a1dbce7",
   "metadata": {
    "slideshow": {
     "slide_type": "subslide"
    }
   },
   "source": [
    "<p align='justify' style='margin: 10px 20px; line-height:1.5; font-family: \"Times New Roman\", Times, serif; font-size:16px; color : purple'>\n",
    "  This declares an array variable myArray and assigns the values \"hello\" and \"world\" to the first and second elements respectively.\n",
    "\n",
    "</p><br>\n",
    "<p align='justify' style='margin: 10px 20px; line-height:1.5; font-family: \"Times New Roman\", Times, serif; font-size:16px; color : black'>\n",
    "    In <strong>awk</strong>, you can also use the built-in variables to access the input fields and other information. For example, \\$0 refers to the entire line, \\$1 refers to the first field, \\$2 refers to the second field, and so on.You can also use variables to control the flow of execution and conditional statements.\n",
    "\n",
    "</p><br>\n",
    "\n",
    "<p align='justify' style='margin: 10px 20px; line-height:1.5; font-family: \"Times New Roman\", Times, serif; font-size:16px; color : purple'>\n",
    "  Here is an example of an awk command that prints the line number and the first field of each line where the first field is greater than 5 and store the result in an array:\n",
    "\n",
    "\n",
    "\n",
    "</p>"
   ]
  },
  {
   "cell_type": "code",
   "execution_count": 29,
   "id": "e3f7daab",
   "metadata": {
    "slideshow": {
     "slide_type": "subslide"
    }
   },
   "outputs": [
    {
     "name": "stdout",
     "output_type": "stream",
     "text": [
      "3 Name,\n",
      "8 David,\n",
      "6 James,\n",
      "5 Sara,\n",
      "4 John,\n",
      "9 Jessica,\n",
      "7 Emily,\n"
     ]
    }
   ],
   "source": [
    "%%bash\n",
    "awk '{if($1>5){result[NR]=$1}} END{for(i in result) print i,result[i]}' simple_filters.txt"
   ]
  },
  {
   "cell_type": "markdown",
   "id": "02f4c42e",
   "metadata": {
    "slideshow": {
     "slide_type": "subslide"
    }
   },
   "source": [
    "<p align='justify' style='margin: 10px 20px; line-height:1.5; font-family: \"Times New Roman\", Times, serif; font-size:16px; color : purple'>\n",
    "  This command will print the line number and first field of each line where the first field is greater than 5 and store the result in an array called result.\n",
    "\n",
    "</p>"
   ]
  },
  {
   "cell_type": "markdown",
   "id": "2537b638",
   "metadata": {
    "slideshow": {
     "slide_type": "subslide"
    }
   },
   "source": [
    "<h3 style='color:red; font-weight:bold; text-align:center; font-family: \"Times New Roman\", Times, serif;'>EXERECISE 3: Variables in AWK</h3>\n",
    "<p align='justify' style='margin: 10px 20px; line-height:1.5; font-family: \"Times New Roman\", Times, serif; font-size:16px;'>\n",
    "    \n",
    "    \n",
    "  <ul style='font-family: \"Times New Roman\", Times, serif; font-weight:light; font-size:16px;'>\n",
    "      <li><b>Declare a scalar variable and assign the value of the second field of the first line in \"file.txt\" to it</b></li>\n",
    "      <li><b>Declare an array variable and store the values of the third field of all lines in \"file.txt\" in it</b></li>\n",
    "      <li><b>Use a variable to store the total number of lines in \"file.txt\" that have a value greater than 25 in the second field</b></li>\n",
    "      <li><b>Use a variable to store the average of the fourth field of all lines in \"file.txt\"</b></li>\n",
    "      \n",
    "      \n",
    "    \n",
    "    \n",
    "  </ul>\n",
    "</p>"
   ]
  },
  {
   "cell_type": "markdown",
   "id": "7f046f25",
   "metadata": {
    "slideshow": {
     "slide_type": "slide"
    }
   },
   "source": [
    "<h2 style='color:red; font-weight:bold; text-align:center; font-family: \"Times New Roman\", Times, serif;'>OPERATORS IN AWK </h2> \n",
    "<p align='justify' style='margin: 10px 20px; line-height:1.5; font-family: \"Times New Roman\", Times, serif; font-size:16px; color : black'>\n",
    "      In this tutorial, we will be covering the different types of operators available in awk and how to use them effectively.\n",
    "</p>\n",
    "<img src=\"awk_variables.jpeg\" width=\"150\" height=\"250\" style=\"float: left; margin-right: 20px; margin-left: 20px;\">\n",
    "<p align='justify' style='margin: 10px 20px; line-height:1.5; font-family: \"Times New Roman\", Times, serif; font-size:16px; color : purple'>\n",
    "    In awk, there are several types of operators that can be used for various purposes. These include:\n",
    "\n",
    "    \n",
    "  <ul style='font-family: \"Times New Roman\", Times, serif; font-weight:light; font-size:16px;'>\n",
    "      <li><b>Arithmetic operators: +, -, *, /, % (modulus)</b></li>\n",
    "      <li><b>Comparison operators: ==, !=, >, <, >=, <=</b></li>\n",
    "      <li><b>Logical operators: && (and), || (or), ! (not)</b></li>\n",
    "      <li><b>Regular expression operators: ~ (match), !~ (not match)</b></li>\n",
    "      \n",
    "      \n",
    "    \n",
    "    \n",
    "  </ul>\n",
    "</p><br>\n",
    "<p align='justify' style='margin: 10px 20px; line-height:1.5; font-family: \"Times New Roman\", Times, serif; font-size:16px; color : purple'>\n",
    "      Arithmetic operators are used to perform mathematical calculations. For example, the following command will print the result of 5 multiplied by 3:\n",
    "</p>"
   ]
  },
  {
   "cell_type": "code",
   "execution_count": 31,
   "id": "2c847370",
   "metadata": {
    "slideshow": {
     "slide_type": "subslide"
    }
   },
   "outputs": [
    {
     "name": "stdout",
     "output_type": "stream",
     "text": [
      "15\n"
     ]
    }
   ],
   "source": [
    "%%bash\n",
    "awk 'BEGIN {print 5 * 3}'"
   ]
  },
  {
   "cell_type": "markdown",
   "id": "12327612",
   "metadata": {
    "slideshow": {
     "slide_type": "subslide"
    }
   },
   "source": [
    "<p align='justify' style='margin: 10px 20px; line-height:1.5; font-family: \"Times New Roman\", Times, serif; font-size:16px; color : black'>\n",
    "    <strong>Comparison operators</strong> are used to compare values. For example, the following command will print \"5 is greater than 3\" because the comparison 5 > 3 is true:\n",
    "</p>"
   ]
  },
  {
   "cell_type": "code",
   "execution_count": 32,
   "id": "9a2d2696",
   "metadata": {
    "slideshow": {
     "slide_type": "subslide"
    }
   },
   "outputs": [
    {
     "name": "stdout",
     "output_type": "stream",
     "text": [
      "5 is greater than 3\n"
     ]
    }
   ],
   "source": [
    "%%bash\n",
    "awk 'BEGIN {if (5 > 3) print \"5 is greater than 3\"}'"
   ]
  },
  {
   "cell_type": "markdown",
   "id": "403288f2",
   "metadata": {
    "slideshow": {
     "slide_type": "subslide"
    }
   },
   "source": [
    "<p align='justify' style='margin: 10px 20px; line-height:1.5; font-family: \"Times New Roman\", Times, serif; font-size:16px; color : black'>\n",
    "    <strong>Logical operators</strong> are used to combine multiple conditions. For example, the following command will print \"5 is greater than 3 and 5 is less than 10\" because both conditions 5 > 3 && 5 < 10 are true:\n",
    "\n",
    "</p>"
   ]
  },
  {
   "cell_type": "code",
   "execution_count": 33,
   "id": "734cbdee",
   "metadata": {
    "slideshow": {
     "slide_type": "subslide"
    }
   },
   "outputs": [
    {
     "name": "stdout",
     "output_type": "stream",
     "text": [
      "5 is greater than 3 and 5 is less than 10\n"
     ]
    }
   ],
   "source": [
    "%%bash\n",
    "awk 'BEGIN {if (5 > 3 && 5 < 10) print \"5 is greater than 3 and 5 is less than 10\"}'"
   ]
  },
  {
   "cell_type": "markdown",
   "id": "46a78a57",
   "metadata": {
    "slideshow": {
     "slide_type": "subslide"
    }
   },
   "source": [
    "<p align='justify' style='margin: 10px 20px; line-height:1.5; font-family: \"Times New Roman\", Times, serif; font-size:16px; color : black'>\n",
    "    <strong>Regular expression operators </strong> are used to match or not match a specific pattern in the input. For example, the following command will print the lines that contain the word \"John\" in the first field:\n",
    "\n",
    "</p>"
   ]
  },
  {
   "cell_type": "code",
   "execution_count": 34,
   "id": "15f5687d",
   "metadata": {
    "slideshow": {
     "slide_type": "subslide"
    }
   },
   "outputs": [
    {
     "name": "stdout",
     "output_type": "stream",
     "text": [
      "John, 30, Male, Engineer\n"
     ]
    }
   ],
   "source": [
    "%%bash\n",
    "awk '{if ($1 ~ /John/) print}' simple_filters.txt"
   ]
  },
  {
   "cell_type": "markdown",
   "id": "b37fd05d",
   "metadata": {
    "slideshow": {
     "slide_type": "subslide"
    }
   },
   "source": [
    "<h3 style='color:red; font-weight:bold; text-align:center; font-family: \"Times New Roman\", Times, serif;'>EXERECISE 4: Operators in AWK</h3>\n",
    "<p align='justify' style='margin: 10px 20px; line-height:1.5; font-family: \"Times New Roman\", Times, serif; font-size:16px;'>\n",
    "    \n",
    "    \n",
    "  <ul style='font-family: \"Times New Roman\", Times, serif; font-weight:light; font-size:16px;'>\n",
    "      <li><b>Use arithmetic operators to calculate the square of the second field of each line in \"file.txt\" and print the result</b></li>\n",
    "      <li><b>Use comparison operators to print the lines in \"file.txt\" where the third field is greater than or equal to 50</b></li>\n",
    "      <li><b>Use logical operators to print the lines in \"file.txt\" where the fourth field is less than 20 or the fifth field is equal to \"female\"</b></li>\n",
    "      <li><b>Use regular expression operators to print the lines in \"file.txt\" that do not contain the word \"John\" in the first field</b></li>\n",
    "      \n",
    "      \n",
    "    \n",
    "    \n",
    "  </ul>\n",
    "</p>"
   ]
  },
  {
   "cell_type": "markdown",
   "id": "a8084703",
   "metadata": {
    "slideshow": {
     "slide_type": "slide"
    }
   },
   "source": [
    "<h2 style='color:red; font-weight:bold; text-align:center; font-family: \"Times New Roman\", Times, serif;'>DISPLAYING FUNCTIONS</h2> \n",
    "\n",
    "<img src=\"awk_variables.jpeg\" width=\"150\" height=\"250\" style=\"float: left; margin-right: 20px; margin-left: 20px;\">\n",
    "<p align='justify' style='margin: 10px 20px; line-height:1.5; font-family: \"Times New Roman\", Times, serif; font-size:16px; color : black'>\n",
    "      In this tutorial, we will be covering the print and printf functions in awk and how to use them effectively.<br><br>The <strong>print</strong> function in awk is used to output the contents of a variable or a string. <br><br>The basic syntax of the print function is as follows: <br> print [variable or string]\n",
    "\n",
    "</p><br>\n",
    "<p align='justify' style='margin: 10px 20px; line-height:1.5; font-family: \"Times New Roman\", Times, serif; font-size:16px; color : purple'>\n",
    "    For example, the following command will print the value of the first field of each line in \"simple_filter.txt\":\n",
    "\n",
    "</p>"
   ]
  },
  {
   "cell_type": "code",
   "execution_count": 37,
   "id": "0678e46a",
   "metadata": {
    "slideshow": {
     "slide_type": "subslide"
    }
   },
   "outputs": [
    {
     "name": "stdout",
     "output_type": "stream",
     "text": [
      "#file.txt\n",
      "\n",
      "Name,\n",
      "John,\n",
      "Sara,\n",
      "James,\n",
      "Emily,\n",
      "David,\n",
      "Jessica,\n"
     ]
    }
   ],
   "source": [
    "%%bash\n",
    "awk '{print $1}' simple_filters.txt"
   ]
  },
  {
   "cell_type": "markdown",
   "id": "586d5099",
   "metadata": {
    "slideshow": {
     "slide_type": "subslide"
    }
   },
   "source": [
    "<p align='justify' style='margin: 10px 20px; line-height:1.5; font-family: \"Times New Roman\", Times, serif; font-size:16px; color : black'>\n",
    "    The <strong>printf</strong> function in awk is similar to the print function, but it allows you to control the format of the output. The basic syntax of the printf function is as follows:<br><br>printf format, [variables or strings]\n",
    "\n",
    "\n",
    "</p><br>\n",
    "<p align='justify' style='margin: 10px 20px; line-height:1.5; font-family: \"Times New Roman\", Times, serif; font-size:16px; color : purple'>\n",
    "    The format is a string that specifies the format of the output, and the variables or strings are the values to be printed. For example, the following command will print the first and second fields of each line in \"file.txt\" in a tab-separated format:\n",
    "</p>"
   ]
  },
  {
   "cell_type": "code",
   "execution_count": 39,
   "id": "7bc46f74",
   "metadata": {
    "slideshow": {
     "slide_type": "subslide"
    }
   },
   "outputs": [
    {
     "name": "stdout",
     "output_type": "stream",
     "text": [
      "#file.txt\t\n",
      "\t\n",
      "Name,\tAge,\n",
      "John,\t30,\n",
      "Sara,\t25,\n",
      "James,\t35,\n",
      "Emily,\t28,\n",
      "David,\t32,\n",
      "Jessica,\t27,\n"
     ]
    }
   ],
   "source": [
    "%%bash\n",
    "awk '{printf \"%s\\t%s\\n\", $1, $2}' simple_filters.txt"
   ]
  },
  {
   "cell_type": "markdown",
   "id": "69a17410",
   "metadata": {
    "slideshow": {
     "slide_type": "subslide"
    }
   },
   "source": [
    "<h3 style='color:red; font-weight:bold; text-align:center; font-family: \"Times New Roman\", Times, serif;'>EXERECISE 5: Display Functions (print and printf)\n",
    "\n",
    "</h3>\n",
    "<p align='justify' style='margin: 10px 20px; line-height:1.5; font-family: \"Times New Roman\", Times, serif; font-size:16px;'>\n",
    "    \n",
    "    \n",
    "  <ul style='font-family: \"Times New Roman\", Times, serif; font-weight:light; font-size:16px;'>\n",
    "      <li><b>Use the print function to print the value of the third field of each line in \"file.txt\"</b></li>\n",
    "      <li><b>Use the printf function to print the first and second fields of each line in \"file.txt\" in a comma-separated format</b></li>\n",
    "      <li><b>Use the printf function to print the line number and the fourth field of each line in \"file.txt\" in a tab-separated format</b></li>\n",
    "      \n",
    "      \n",
    "      \n",
    "    \n",
    "    \n",
    "  </ul>\n",
    "</p>"
   ]
  },
  {
   "cell_type": "markdown",
   "id": "c05f003b",
   "metadata": {
    "slideshow": {
     "slide_type": "slide"
    }
   },
   "source": [
    "<h2 style='color:red; font-weight:bold; text-align:center; font-family: \"Times New Roman\", Times, serif;'>FUNCTIONS ON STRINGS OF CHARACTERS </h2>\n",
    "\n",
    "<p align='justify' style='margin: 10px 20px; line-height:1.5; font-family: \"Times New Roman\", Times, serif; font-size:16px;'>\n",
    "    <strong> Lesson One: </strong> Introduction to Simple and Fundamental Filters: more, grep, cut, wc\n",
    "    \n",
    "  <ul style='font-family: \"Times New Roman\", Times, serif; font-weight:light; font-size:16px;'>\n",
    "      <li><b>Functions on Strings of Characters </b></li>\n",
    "      <li><b> Predefined Functions for Numbers</b></li>\n",
    "      <li><b>User-Defined Functions </b></li>\n",
    "      <li><b> Control Structures in awk</b></li>\n",
    "      <li><b>Arrays in awk </b></li>\n",
    "      <li><b>awk Derivatives: gawk, nawk, mawk</b></li><br>\n",
    "    \n",
    "    \n",
    "  </ul>\n",
    "</p>\n",
    "<img src=\"grep-command-in-linux-useful-examples.jpg\" width=\"150\" height=\"250\" style=\"float: left; margin-right: 20px; margin-left: 20px;\">\n",
    "<p align='justify' style='margin: 10px 20px; line-height:1.5; font-family: \"Times New Roman\", Times, serif; font-size:16px;'>\n",
    "  Welcome to this tutorial on functions for manipulating strings in awk. <br><br>In this tutorial, we will be covering the different functions available in awk for manipulating strings and how to use them effectively.\n",
    "\n",
    "</p><br>\n",
    "<p align='justify' style='margin: 10px 20px; line-height:1.5; font-family: \"Times New Roman\", Times, serif; font-size:16px; color : purple'>\n",
    "    In awk, there are several built-in functions for manipulating strings.\n",
    "</p>"
   ]
  },
  {
   "cell_type": "markdown",
   "id": "d37504a0",
   "metadata": {
    "slideshow": {
     "slide_type": "subslide"
    }
   },
   "source": [
    "<p align='justify' style='margin: 10px 20px; line-height:1.5; font-family: \"Times New Roman\", Times, serif; font-size:16px; color : red'>\n",
    "    <strong>These include:</strong> \n",
    "    \n",
    "  <ul style='font-family: \"Times New Roman\", Times, serif; font-weight:light; font-size:16px;'>\n",
    "      <li><b>length(): </b>  returns the length of a string</li>\n",
    "      <li><b>index(): </b> returns the position of a substring within a string</li>\n",
    "      <li><b>split(): </b> splits a string into an array of substrings</li>\n",
    "      <li><b>gsub(): </b> globally replaces all occurrences of a substring within a string</li>\n",
    "      <li><b>substr(): </b> extracts a substring from a string</li>\n",
    "      <li><b>toupper(): </b> converts a string to uppercase</li>\n",
    "      <li><b>tolower():  </b> converts a string to lowercase</li>\n",
    "    \n",
    "    \n",
    "  </ul>\n",
    "</p><br>\n",
    "<p align='justify' style='margin: 10px 20px; line-height:1.5; font-family: \"Times New Roman\", Times, serif; font-size:16px; color : purple'>\n",
    "    The <strong>length()</strong> function returns the length of a string. For example, the following command will print the length of the first field of each line in \"simple_filter.txt\":\n",
    "</p>"
   ]
  },
  {
   "cell_type": "code",
   "execution_count": 40,
   "id": "16487d5f",
   "metadata": {
    "slideshow": {
     "slide_type": "subslide"
    }
   },
   "outputs": [
    {
     "name": "stdout",
     "output_type": "stream",
     "text": [
      "9\n",
      "0\n",
      "5\n",
      "5\n",
      "5\n",
      "6\n",
      "6\n",
      "6\n",
      "8\n"
     ]
    }
   ],
   "source": [
    "%%bash\n",
    "awk '{print length($1)}' simple_filters.txt"
   ]
  },
  {
   "cell_type": "markdown",
   "id": "e8024de6",
   "metadata": {
    "slideshow": {
     "slide_type": "subslide"
    }
   },
   "source": [
    "<p align='justify' style='margin: 10px 20px; line-height:1.5; font-family: \"Times New Roman\", Times, serif; font-size:16px; color : black'>\n",
    "    The <strong>index()</strong> function returns the position of a substring within a string. For example, the following command will print the position of the word \"John\" in the first field of each line in \"file.txt\":\n",
    "</p>"
   ]
  },
  {
   "cell_type": "code",
   "execution_count": 41,
   "id": "0e6753ef",
   "metadata": {
    "slideshow": {
     "slide_type": "subslide"
    }
   },
   "outputs": [
    {
     "name": "stdout",
     "output_type": "stream",
     "text": [
      "0\n",
      "0\n",
      "0\n",
      "1\n",
      "0\n",
      "0\n",
      "0\n",
      "0\n",
      "0\n"
     ]
    }
   ],
   "source": [
    "%%bash\n",
    "awk '{print index($1, \"John\")}' simple_filters.txt"
   ]
  },
  {
   "cell_type": "markdown",
   "id": "43941306",
   "metadata": {
    "slideshow": {
     "slide_type": "subslide"
    }
   },
   "source": [
    "<p align='justify' style='margin: 10px 20px; line-height:1.5; font-family: \"Times New Roman\", Times, serif; font-size:16px; color : black'>\n",
    "    The <strong>split()</strong> function splits a string into an array of substrings. For example, the following command will split the second field of each line in \"file.txt\" into an array called \"parts\" using the \",\" delimiter:\n",
    "</p>"
   ]
  },
  {
   "cell_type": "code",
   "execution_count": 42,
   "id": "ab904bf1",
   "metadata": {
    "slideshow": {
     "slide_type": "subslide"
    }
   },
   "outputs": [],
   "source": [
    "%%bash\n",
    "awk '{split($2, parts, \",\")}' simple_filters.txt"
   ]
  },
  {
   "cell_type": "markdown",
   "id": "4ccffa37",
   "metadata": {
    "slideshow": {
     "slide_type": "subslide"
    }
   },
   "source": [
    "<p align='justify' style='margin: 10px 20px; line-height:1.5; font-family: \"Times New Roman\", Times, serif; font-size:16px; color : black'>\n",
    "    The <strong>gsub()</strong> function globally replaces all occurrences of a substring within a string. For example, the following command will replace all occurrences of \"John\" in the first field of each line in \"file.txt\" with \"Bob\":\n",
    "\n",
    "</p>"
   ]
  },
  {
   "cell_type": "code",
   "execution_count": 43,
   "id": "a80cc66d",
   "metadata": {
    "slideshow": {
     "slide_type": "subslide"
    }
   },
   "outputs": [
    {
     "name": "stdout",
     "output_type": "stream",
     "text": [
      "#file.txt\n",
      "\n",
      "Name,\n",
      "Bob,\n",
      "Sara,\n",
      "James,\n",
      "Emily,\n",
      "David,\n",
      "Jessica,\n"
     ]
    }
   ],
   "source": [
    "%%bash\n",
    "awk '{gsub(/John/, \"Bob\", $1)} {print $1}' simple_filters.txt"
   ]
  },
  {
   "cell_type": "markdown",
   "id": "0ca24da3",
   "metadata": {
    "slideshow": {
     "slide_type": "subslide"
    }
   },
   "source": [
    "<p align='justify' style='margin: 10px 20px; line-height:1.5; font-family: \"Times New Roman\", Times, serif; font-size:16px; color : purple'>\n",
    "    This command uses a regular expression to match the substring \"John\" in the first field ($1), and replaces it with the string \"Bob\".\n",
    "\n",
    "</p><br>\n",
    "<p align='justify' style='margin: 10px 20px; line-height:1.5; font-family: \"Times New Roman\", Times, serif; font-size:16px; color : black'>\n",
    "    The substr() function is used to extract a substring from a string. It takes three arguments: the string to be modified, the starting position, and the length of the substring. For example, the following command will extract the first 4 characters of the second field of each line in \"simple_filter.txt\":\n",
    "\n",
    "</p>"
   ]
  },
  {
   "cell_type": "code",
   "execution_count": 44,
   "id": "1ba50448",
   "metadata": {
    "slideshow": {
     "slide_type": "subslide"
    }
   },
   "outputs": [
    {
     "name": "stdout",
     "output_type": "stream",
     "text": [
      "\n",
      "\n",
      "Age,\n",
      "30,\n",
      "25,\n",
      "35,\n",
      "28,\n",
      "32,\n",
      "27,\n"
     ]
    }
   ],
   "source": [
    "%%bash\n",
    "awk '{print substr($2, 1, 4)}' simple_filters.txt\n"
   ]
  },
  {
   "cell_type": "markdown",
   "id": "86f393c0",
   "metadata": {
    "slideshow": {
     "slide_type": "subslide"
    }
   },
   "source": [
    "<p align='justify' style='margin: 10px 20px; line-height:1.5; font-family: \"Times New Roman\", Times, serif; font-size:16px; color : black'>\n",
    "    The toupper() and tolower() functions are used to convert a string to uppercase or lowercase. For example, the following command will convert the first field of each line in \"file.txt\" to uppercase:\n",
    "\n",
    "</p>"
   ]
  },
  {
   "cell_type": "code",
   "execution_count": 45,
   "id": "e56b099e",
   "metadata": {
    "slideshow": {
     "slide_type": "subslide"
    }
   },
   "outputs": [
    {
     "name": "stdout",
     "output_type": "stream",
     "text": [
      "#FILE.TXT\n",
      "\n",
      "NAME,\n",
      "JOHN,\n",
      "SARA,\n",
      "JAMES,\n",
      "EMILY,\n",
      "DAVID,\n",
      "JESSICA,\n"
     ]
    }
   ],
   "source": [
    "%%bash\n",
    "awk '{print toupper($1)}' simple_filters.txt"
   ]
  },
  {
   "cell_type": "markdown",
   "id": "b19605df",
   "metadata": {
    "slideshow": {
     "slide_type": "subslide"
    }
   },
   "source": [
    "<p align='justify' style='margin: 10px 20px; line-height:1.5; font-family: \"Times New Roman\", Times, serif; font-size:16px; color : purple'>\n",
    "    and the following command will convert the second field of each line in \"file.txt\" to lowercase:\n",
    "\n",
    "</p>"
   ]
  },
  {
   "cell_type": "code",
   "execution_count": 47,
   "id": "eda9d02c",
   "metadata": {
    "slideshow": {
     "slide_type": "subslide"
    }
   },
   "outputs": [
    {
     "name": "stdout",
     "output_type": "stream",
     "text": [
      "\n",
      "\n",
      "age,\n",
      "30,\n",
      "25,\n",
      "35,\n",
      "28,\n",
      "32,\n",
      "27,\n"
     ]
    }
   ],
   "source": [
    "%%bash\n",
    "awk '{print tolower($2)}' simple_filters.txt"
   ]
  },
  {
   "cell_type": "markdown",
   "id": "81ee2e0c",
   "metadata": {
    "slideshow": {
     "slide_type": "subslide"
    }
   },
   "source": [
    "<h3 style='color:red; font-weight:bold; text-align:center; font-family: \"Times New Roman\", Times, serif;'>EXERECISE 6: Functions on Strings of Characters \n",
    "\n",
    "</h3>\n",
    "<p align='justify' style='margin: 10px 20px; line-height:1.5; font-family: \"Times New Roman\", Times, serif; font-size:16px;'>\n",
    "    \n",
    "    \n",
    "  <ul style='font-family: \"Times New Roman\", Times, serif; font-weight:light; font-size:16px;'>\n",
    "      <li><b>Use the length() function to print the length of the third field of each line in \"file.txt\"</b></li>\n",
    "      <li><b>Use the index() function to print the position of the word \"Mary\" in the second field of each line in \"file.txt\"</b></li>\n",
    "      <li><b>Use the split() function to split the fourth field of each line in \"file.txt\" into an array using the \":\" delimiter</b></li>\n",
    "      <li><b>Use the gsub() function to replace all occurrences of \"John\" in the fifth field of each line in \"file.txt\" with \"Bob\"</b></li>\n",
    "      \n",
    "      \n",
    "      \n",
    "    \n",
    "    \n",
    "  </ul>\n",
    "</p>"
   ]
  },
  {
   "cell_type": "markdown",
   "id": "1e7bc8e2",
   "metadata": {
    "slideshow": {
     "slide_type": "slide"
    }
   },
   "source": [
    "<h2 style='color:red; font-weight:bold; text-align:center; font-family: \"Times New Roman\", Times, serif;'>PRE DEFINED FUNCTIONS</h2>\n",
    "<img src=\"The-AWK-Programming-Language.svg.png\" width=\"150\" height=\"250\" style=\"float: left; margin-right: 20px; margin-left: 20px;\">\n",
    "<p align='justify' style='margin: 10px 20px; line-height:1.5; font-family: \"Times New Roman\", Times, serif; font-size:16px; color : black'>\n",
    "    Welcome to this tutorial on predefined functions for working with numbers in awk. In this tutorial, we will be covering the different built-in functions available in awk for working with numbers and how to use them effectively. <br><br> In awk, there are several built-in functions for working with numbers. \n",
    "</p>\n",
    "\n",
    "<p align='justify' style='margin: 10px 20px; line-height:1.5; font-family: \"Times New Roman\", Times, serif; font-size:16px; color : purple'>\n",
    "    <strong>These include:</strong>\n",
    "    \n",
    "  <ul style='font-family: \"Times New Roman\", Times, serif; font-weight:light; font-size:16px;'>\n",
    "      <li><b>The int() </b> function returns the integer value of a number by truncating the decimal</li>\n",
    "      <li><b>The float() </b> function converts a string to a floating point number.</li>\n",
    "      <li><b>sqrt(): </b> returns the square root of a number</li>\n",
    "      <li><b>exp(): </b> returns the value of e raised to a power</li>\n",
    "      <li><b>log(): </b> returns the natural logarithm of a number</li>\n",
    "      <li><b>log10(): </b> returns the base-10 logarithm of a number</li>\n",
    "      <li><b>sin(): </b> returns the sine of a number</li>\n",
    "      <li><b>cos(): </b> returns the cosine of a number</li>\n",
    "      <li><b>tan(): </b> returns the tangent of a number</li>\n",
    "      <li><b>atan2(): </b> returns the arctangent of two numbers</li>\n",
    "      <li><b>rand():  </b> returns a random number between 0 and 1</li>\n",
    "      \n",
    "  </ul>\n",
    "</p><br>\n",
    "<p align='justify' style='margin: 10px 20px; line-height:1.5; font-family: \"Times New Roman\", Times, serif; font-size:16px; color : purple'>\n",
    "    The <strong>int()</strong> function returns the integer value of a number by truncating the decimal. For example, the following command will print the integer value of the first field of each line in \"simple_maths.txt\":\n",
    "</p>"
   ]
  },
  {
   "cell_type": "code",
   "execution_count": 51,
   "id": "210bd1b8",
   "metadata": {
    "slideshow": {
     "slide_type": "subslide"
    }
   },
   "outputs": [
    {
     "name": "stdout",
     "output_type": "stream",
     "text": [
      "2\n",
      "1\n",
      "3\n",
      "1\n"
     ]
    }
   ],
   "source": [
    "%%bash\n",
    "awk '{print int($1)}' simple_maths.txt"
   ]
  },
  {
   "cell_type": "markdown",
   "id": "89932472",
   "metadata": {
    "slideshow": {
     "slide_type": "subslide"
    }
   },
   "source": [
    "<p align='justify' style='margin: 10px 20px; line-height:1.5; font-family: \"Times New Roman\", Times, serif; font-size:16px; color : black'>\n",
    "    The <strong>float()</strong> function converts a string to a floating point number. For example, the following command will convert the second field of each line in \"file.txt\" to a floating point number:\n",
    "</p>"
   ]
  },
  {
   "cell_type": "code",
   "execution_count": null,
   "id": "ebe20852",
   "metadata": {
    "slideshow": {
     "slide_type": "subslide"
    }
   },
   "outputs": [],
   "source": [
    "%%bash\n",
    "awk '{print float($2)}' simple_maths.txt"
   ]
  },
  {
   "cell_type": "markdown",
   "id": "5b468d5c",
   "metadata": {
    "slideshow": {
     "slide_type": "subslide"
    }
   },
   "source": [
    "<p align='justify' style='margin: 10px 20px; line-height:1.5; font-family: \"Times New Roman\", Times, serif; font-size:16px; color : black'>\n",
    "    The <strong>sqrt()</strong> function returns the square root of a number. For example, the following command will print the square root of the first field of each line in \"file.txt\":\n",
    "</p>"
   ]
  },
  {
   "cell_type": "code",
   "execution_count": 56,
   "id": "dcb7d778",
   "metadata": {
    "slideshow": {
     "slide_type": "subslide"
    }
   },
   "outputs": [
    {
     "name": "stdout",
     "output_type": "stream",
     "text": [
      "1,41421\n",
      "1\n",
      "1,73205\n",
      "1\n"
     ]
    }
   ],
   "source": [
    "%%bash\n",
    "awk '{print sqrt($1)}' simple_maths.txt"
   ]
  },
  {
   "cell_type": "markdown",
   "id": "32600016",
   "metadata": {
    "slideshow": {
     "slide_type": "subslide"
    }
   },
   "source": [
    "<p align='justify' style='margin: 10px 20px; line-height:1.5; font-family: \"Times New Roman\", Times, serif; font-size:16px; color : black'>\n",
    "    The <strong>exp()</strong> function returns the value of e raised to a power. For example, the following command will print the value of e raised to the power of the second field of each line in \"file.txt\":\n",
    "</p>"
   ]
  },
  {
   "cell_type": "code",
   "execution_count": 57,
   "id": "06a83af3",
   "metadata": {
    "slideshow": {
     "slide_type": "subslide"
    }
   },
   "outputs": [
    {
     "name": "stdout",
     "output_type": "stream",
     "text": [
      "20,0855\n",
      "0,135335\n",
      "0,0497871\n",
      "7,38906\n"
     ]
    }
   ],
   "source": [
    "%%bash\n",
    "awk '{print exp($2)}' simple_maths.txt\n"
   ]
  },
  {
   "cell_type": "markdown",
   "id": "89fd56b4",
   "metadata": {
    "slideshow": {
     "slide_type": "subslide"
    }
   },
   "source": [
    "<p align='justify' style='margin: 10px 20px; line-height:1.5; font-family: \"Times New Roman\", Times, serif; font-size:16px; color : black'>\n",
    "    The <strong>log()</strong> function returns the natural logarithm of a number. For example, the following command will print the natural logarithm of the third field of each line in \"file.txt\":\n",
    "</p>"
   ]
  },
  {
   "cell_type": "code",
   "execution_count": 58,
   "id": "12aa3180",
   "metadata": {
    "slideshow": {
     "slide_type": "subslide"
    }
   },
   "outputs": [
    {
     "name": "stdout",
     "output_type": "stream",
     "text": [
      "2,07944\n",
      "-inf\n",
      "1,09861\n",
      "1,09861\n"
     ]
    }
   ],
   "source": [
    "%%bash\n",
    "awk '{print log($3)}' simple_maths.txt"
   ]
  },
  {
   "cell_type": "markdown",
   "id": "078e1dea",
   "metadata": {
    "slideshow": {
     "slide_type": "subslide"
    }
   },
   "source": [
    "<p align='justify' style='margin: 10px 20px; line-height:1.5; font-family: \"Times New Roman\", Times, serif; font-size:16px; color : black'>\n",
    "    The <strong>log10()</strong> function returns the base-10 logarithm of a number. For example, the following command will print the base-10 logarithm of the third field of each line in \"file.txt\":\n",
    "\n",
    "</p>"
   ]
  },
  {
   "cell_type": "code",
   "execution_count": null,
   "id": "94d038c5",
   "metadata": {
    "slideshow": {
     "slide_type": "subslide"
    }
   },
   "outputs": [],
   "source": [
    "%%bash\n",
    "awk '{print log10($3)}' simple_maths.txt"
   ]
  },
  {
   "cell_type": "markdown",
   "id": "2ccfb611",
   "metadata": {
    "slideshow": {
     "slide_type": "subslide"
    }
   },
   "source": [
    "<p align='justify' style='margin: 10px 20px; line-height:1.5; font-family: \"Times New Roman\", Times, serif; font-size:16px; color : black'>\n",
    "    The <strong>sin()</strong>, <strong>cos()</strong>, and <strong>tan()</strong> functions return the sine, cosine, and tangent of a number respectively. These functions take a number as an argument and return a value between -1 and 1. For example, the following command will print the sine of the third field of each line in \"file.txt\":\n",
    "\n",
    "</p>"
   ]
  },
  {
   "cell_type": "code",
   "execution_count": 60,
   "id": "c18ddeb9",
   "metadata": {
    "slideshow": {
     "slide_type": "subslide"
    }
   },
   "outputs": [
    {
     "name": "stdout",
     "output_type": "stream",
     "text": [
      "0,989358\n",
      "0\n",
      "0,14112\n",
      "0,14112\n"
     ]
    }
   ],
   "source": [
    "%%bash\n",
    "awk '{print sin($3)}' simple_maths.txt"
   ]
  },
  {
   "cell_type": "markdown",
   "id": "43229469",
   "metadata": {
    "slideshow": {
     "slide_type": "subslide"
    }
   },
   "source": [
    "<p align='justify' style='margin: 10px 20px; line-height:1.5; font-family: \"Times New Roman\", Times, serif; font-size:16px; color : black'>\n",
    "    The <strong>atan2()</strong> function returns the arctangent of two numbers. It takes two arguments: the y-coordinate and the x-coordinate, and returns the angle in radians between the positive x-axis and the point given by the coordinates. For example, the following command will print the arctangent of the third and fourth fields of each line in \"file.txt\":\n",
    "\n",
    "</p>"
   ]
  },
  {
   "cell_type": "code",
   "execution_count": 61,
   "id": "192953f1",
   "metadata": {
    "slideshow": {
     "slide_type": "subslide"
    }
   },
   "outputs": [
    {
     "name": "stdout",
     "output_type": "stream",
     "text": [
      "0,0008\n",
      "3,14159\n",
      "3e-06\n",
      "0,643501\n"
     ]
    }
   ],
   "source": [
    "%%bash\n",
    "awk '{print atan2($3, $4)}' simple_maths.txt"
   ]
  },
  {
   "cell_type": "markdown",
   "id": "15d522ff",
   "metadata": {
    "slideshow": {
     "slide_type": "subslide"
    }
   },
   "source": [
    "<p align='justify' style='margin: 10px 20px; line-height:1.5; font-family: \"Times New Roman\", Times, serif; font-size:16px; color : black'>\n",
    "    The <strong>rand()</strong> function returns a random number between 0 and 1. For example, the following command will print a random number between 0 and 1:\n",
    "\n",
    "</p>"
   ]
  },
  {
   "cell_type": "code",
   "execution_count": 63,
   "id": "8a3c2af9",
   "metadata": {
    "slideshow": {
     "slide_type": "subslide"
    }
   },
   "outputs": [
    {
     "name": "stdout",
     "output_type": "stream",
     "text": [
      "0,564759\n",
      "0,383786\n",
      "0,252395\n",
      "0,723217\n"
     ]
    }
   ],
   "source": [
    "%%bash\n",
    "awk '{print rand()}' simple_maths.txt"
   ]
  },
  {
   "cell_type": "markdown",
   "id": "d1792974",
   "metadata": {
    "slideshow": {
     "slide_type": "subslide"
    }
   },
   "source": [
    "<h3 style='color:red; font-weight:bold; text-align:center; font-family: \"Times New Roman\", Times, serif;'>EXERECISE 7: Pre Defined Functions  \n",
    "\n",
    "</h3>\n",
    "<p align='justify' style='margin: 10px 20px; line-height:1.5; font-family: \"Times New Roman\", Times, serif; font-size:16px;'>\n",
    "    \n",
    "    \n",
    "  <ul style='font-family: \"Times New Roman\", Times, serif; font-weight:light; font-size:16px;'>\n",
    "      <li><b>Use the int() function to convert the third field of each line in \"file.txt\" to an integer</b></li>\n",
    "      <li><b>Use the float() function to convert the fourth field of each line in \"file.txt\" which is string to a floating point number</b></li>\n",
    "      <li><b>Use the sqrt() function to calculate the square root of the fourth field of each line in \"file.txt\"</b></li>\n",
    "      <li><b>Use the exp() function to calculate the value of e raised to the power of the fifth field of each line in \"file.txt\"</b></li>\n",
    "      <li><b>Use the sin() function to calculate the sine of the seventh field of each line in \"file.txt\"</b></li>\n",
    "      <li><b>Use the log10() function to calculate the base-10 logarithm of the sixth field of each line in \"file.txt\"</b></li>\n",
    "      \n",
    "     \n",
    "    \n",
    "  </ul>\n",
    "</p>"
   ]
  },
  {
   "cell_type": "markdown",
   "id": "d9b829bc",
   "metadata": {
    "slideshow": {
     "slide_type": "slide"
    }
   },
   "source": [
    "<h2 style='color:red; font-weight:bold; text-align:center; font-family: \"Times New Roman\", Times, serif;'>USER-DEFINED FUNCTIONS</h2>\n",
    "<img src=\"The-AWK-Programming-Language.svg.png\" width=\"150\" height=\"250\" style=\"float: left; margin-right: 20px; margin-left: 20px;\">\n",
    "<p align='justify' style='margin: 10px 20px; line-height:1.5; font-family: \"Times New Roman\", Times, serif; font-size:16px; color : black'>\n",
    "    Welcome to this tutorial on user-defined functions in awk. In this tutorial, we will be covering how to create and use user-defined functions in awk. <br><br> In awk, you can create your own functions to perform specific tasks. These functions can be called just like the built-in functions. The syntax for creating a user-defined function is as follows:\n",
    "\n",
    "\n",
    "</p><br>\n",
    "<p align = \"justify\" >\n",
    "\n",
    "    \n",
    "    function function_name(parameters) {\n",
    "        commands\n",
    "    }\n",
    "\n",
    "    \n",
    "</p><br>\n",
    "<p align='justify' style='margin: 10px 20px; line-height:1.5; font-family: \"Times New Roman\", Times, serif; font-size:16px; color : purple'>\n",
    "    For example, the following code defines a function called \"calculate_average\" that calculates the average of two numbers:\n",
    "</p>"
   ]
  },
  {
   "cell_type": "code",
   "execution_count": null,
   "id": "b8dd1a79",
   "metadata": {
    "slideshow": {
     "slide_type": "subslide"
    }
   },
   "outputs": [],
   "source": [
    "function calculate_average(x, y) {\n",
    "    return (x + y) / 2\n",
    "}"
   ]
  },
  {
   "cell_type": "markdown",
   "id": "d2664491",
   "metadata": {
    "slideshow": {
     "slide_type": "subslide"
    }
   },
   "source": [
    "<p align='justify' style='margin: 10px 20px; line-height:1.5; font-family: \"Times New Roman\", Times, serif; font-size:16px; color : black'>\n",
    "    Once a function is defined, it can be called using the function name followed by the arguments in parentheses. For example, the following code calls the \"calculate_average\" function and assigns the result to a variable \"avg\":\n",
    "</p>"
   ]
  },
  {
   "cell_type": "markdown",
   "id": "b623f09c",
   "metadata": {
    "slideshow": {
     "slide_type": "subslide"
    }
   },
   "source": [
    "<h3 style='color:red; font-weight:bold; text-align:center; font-family: \"Times New Roman\", Times, serif;'>Passing variables by reference vs by value</h3>\n",
    "</h3>\n",
    "<p align='justify' style='margin: 10px 20px; line-height:1.5; font-family: \"Times New Roman\", Times, serif; font-size:16px;'>\n",
    "    In awk, you can pass variables to functions by either reference or by value. When a variable is passed by reference, any changes made to the variable within the function will be reflected outside the function. When a variable is passed by value, any changes made to the variable within the function will not be reflected outside the function.<br><br>\n",
    "Here is an example of passing a variable by reference:\n",
    "    \n",
    "  \n",
    "</p>"
   ]
  },
  {
   "cell_type": "code",
   "execution_count": null,
   "id": "5579314c",
   "metadata": {
    "slideshow": {
     "slide_type": "subslide"
    }
   },
   "outputs": [],
   "source": [
    "function add_one(x) {\n",
    "    x = x + 1\n",
    "    return x\n",
    "}\n",
    "x = 5\n",
    "x = add_one(x)\n",
    "print x # prints 6"
   ]
  },
  {
   "cell_type": "markdown",
   "id": "ff16bc9a",
   "metadata": {
    "slideshow": {
     "slide_type": "subslide"
    }
   },
   "source": [
    "<p align='justify' style='margin: 10px 20px; line-height:1.5; font-family: \"Times New Roman\", Times, serif; font-size:16px; color: purple'>\n",
    "    Here is an example of passing a variable by value:\n",
    "  \n",
    "</p>"
   ]
  },
  {
   "cell_type": "code",
   "execution_count": null,
   "id": "731f7897",
   "metadata": {
    "slideshow": {
     "slide_type": "subslide"
    }
   },
   "outputs": [],
   "source": [
    "function add_one(x) {\n",
    "    x = x + 1\n",
    "    return x\n",
    "}\n",
    "x = 5\n",
    "y = add_one(x)\n",
    "print x # prints 5\n",
    "print y # prints 6"
   ]
  },
  {
   "cell_type": "markdown",
   "id": "9a6e3bfe",
   "metadata": {
    "slideshow": {
     "slide_type": "subslide"
    }
   },
   "source": [
    "<p align='justify' style='margin: 10px 20px; line-height:1.5; font-family: \"Times New Roman\", Times, serif; font-size:16px; color: purple'>\n",
    "    \n",
    "  \n",
    "</p><br>\n",
    "\n",
    "<p align='justify' style='margin: 10px 20px; line-height:1.5; font-family: \"Times New Roman\", Times, serif; font-size:16px; color: black'>\n",
    "    <strong>Scope of variables within a function </strong><br><br>\n",
    "    In awk, variables declared within a function are only accessible within the function. This is known as the scope of the variable. Variables that are declared outside of a function are accessible within the function, but any changes made to the variable within the function will not be reflected outside the function.\n",
    "<br><br>Here is an example of variable scope:\n",
    "  \n",
    "</p>\n"
   ]
  },
  {
   "cell_type": "code",
   "execution_count": null,
   "id": "fe1087f9",
   "metadata": {
    "slideshow": {
     "slide_type": "subslide"
    }
   },
   "outputs": [],
   "source": [
    "function test() {\n",
    "    x = 5\n",
    "}\n",
    "test()\n",
    "print x # variable x is not accessible and this will print an error"
   ]
  },
  {
   "cell_type": "markdown",
   "id": "d90a83cb",
   "metadata": {
    "slideshow": {
     "slide_type": "subslide"
    }
   },
   "source": [
    "<p align='justify' style='margin: 10px 20px; line-height:1.5; font-family: \"Times New Roman\", Times, serif; font-size:16px; color: purple'>\n",
    "    We will explore different ways to declare variables within a function and how the scope of these variables affects the function's outcome.\n",
    "  \n",
    "</p><br>\n",
    "\n",
    "<p align='justify' style='margin: 10px 20px; line-height:1.5; font-family: \"Times New Roman\", Times, serif; font-size:16px; color: black'>\n",
    "    For example, you can use the local keyword to explicitly declare a variable as local to the function, ensuring that any changes made to the variable within the function will not be reflected outside the function. <br><br>Here is an example:\n",
    "  \n",
    "</p>"
   ]
  },
  {
   "cell_type": "code",
   "execution_count": null,
   "id": "ab530d20",
   "metadata": {
    "slideshow": {
     "slide_type": "subslide"
    }
   },
   "outputs": [],
   "source": [
    "function test() {\n",
    "    local x = 5\n",
    "    x = x + 1\n",
    "}\n",
    "x = 10\n",
    "test()\n",
    "print x # prints 10"
   ]
  },
  {
   "cell_type": "markdown",
   "id": "9bfe02a6",
   "metadata": {
    "slideshow": {
     "slide_type": "subslide"
    }
   },
   "source": [
    "<p align='justify' style='margin: 10px 20px; line-height:1.5; font-family: \"Times New Roman\", Times, serif; font-size:16px; color: purple'>\n",
    "    Recursive function calls\n",
    "  \n",
    "</p><br>\n",
    "\n",
    "<p align='justify' style='margin: 10px 20px; line-height:1.5; font-family: \"Times New Roman\", Times, serif; font-size:16px; color: black'>\n",
    "    In awk, it is possible to call a function from within itself, this is known as a recursive function call. This can be useful for solving certain types of problems, such as calculating the factorial of a number. <br><br>Here is an example of a recursive function that calculates the factorial of a number:\n",
    "  \n",
    "</p>"
   ]
  },
  {
   "cell_type": "markdown",
   "id": "b50f6e05",
   "metadata": {
    "slideshow": {
     "slide_type": "subslide"
    }
   },
   "source": [
    "<h3 style='color:red; font-weight:bold; text-align:center; font-family: \"Times New Roman\", Times, serif;'>EXERECISE 8: User-Defined Functions  \n",
    "\n",
    "</h3>\n",
    "<p align='justify' style='margin: 10px 20px; line-height:1.5; font-family: \"Times New Roman\", Times, serif; font-size:16px;'>\n",
    "    \n",
    "    \n",
    "  <ul style='font-family: \"Times New Roman\", Times, serif; font-weight:light; font-size:16px;'>\n",
    "      <li><b>Create a user-defined function called \"calculate_sum\" that calculates the sum of two numbers</b></li>\n",
    "      <li><b>Create a user-defined function called \"calculate_product\" that calculates the product of two numbers</b></li>\n",
    "      <li><b>Create a user-defined function called \"is_even\" that takes a number as an argument and returns true if the number is even, false otherwise</b></li>\n",
    "      \n",
    "      \n",
    "     \n",
    "    \n",
    "  </ul>\n",
    "</p>"
   ]
  },
  {
   "cell_type": "markdown",
   "id": "72746fd5",
   "metadata": {
    "slideshow": {
     "slide_type": "slide"
    }
   },
   "source": [
    "<h2 style='color:red; font-weight:bold; text-align:center; font-family: \"Times New Roman\", Times, serif;'>CONTROL STRUCTURES IN AWK</h2>\n",
    "<img src=\"The-AWK-Programming-Language.svg.png\" width=\"150\" height=\"250\" style=\"float: left; margin-right: 20px; margin-left: 20px;\">\n",
    "<p align='justify' style='margin: 10px 20px; line-height:1.5; font-family: \"Times New Roman\", Times, serif; font-size:16px; color : black'>\n",
    "    Welcome to this tutorial on user-defined functions in awk. In this tutorial, we will be covering how to create and use user-defined functions in awk. <br><br> In awk, you can create your own functions to perform specific tasks. These functions can be called just like the built-in functions. The syntax for creating a user-defined function is as follows:\n",
    "\n",
    "\n",
    "</p><br>"
   ]
  },
  {
   "cell_type": "markdown",
   "id": "759c5d4f",
   "metadata": {
    "slideshow": {
     "slide_type": "slide"
    }
   },
   "source": [
    "<h2 style='color:red; font-weight:bold; text-align:center; font-family: \"Times New Roman\", Times, serif;'>ARRAYS IN AWK</h2>\n",
    "<img src=\"The-AWK-Programming-Language.svg.png\" width=\"150\" height=\"250\" style=\"float: left; margin-right: 20px; margin-left: 20px;\">\n",
    "<p align='justify' style='margin: 10px 20px; line-height:1.5; font-family: \"Times New Roman\", Times, serif; font-size:16px; color : black'>\n",
    "    An array in awk is a collection of values, similar to an array in other programming languages. Each value in the array is identified by an index, which is an integer. The first value in the array is identified by an index of 1, the second by an index of 2, and so on. In awk, arrays can be used to store and manipulate data, such as a list of numbers, a list of strings or even a list of records.\n",
    "\n",
    "</p><br>\n",
    "\n",
    "<h3 style='color:red; font-weight:bold; text-align:center; font-family: \"Times New Roman\", Times, serif;'>Declaring and initializing arrays</h3>\n",
    "</h3>\n",
    "<p align='justify' style='margin: 10px 20px; line-height:1.5; font-family: \"Times New Roman\", Times, serif; font-size:16px;'>\n",
    "    In awk, arrays can be declared and initialized in several ways: <br><br> Using the \"array name[index] = value\" \n",
    "    \n",
    "  \n",
    "</p>"
   ]
  },
  {
   "cell_type": "code",
   "execution_count": null,
   "id": "abdc4443",
   "metadata": {
    "slideshow": {
     "slide_type": "subslide"
    }
   },
   "outputs": [],
   "source": [
    "numbers[1] = 10\n",
    "numbers[2] = 20\n",
    "numbers[3] = 30"
   ]
  },
  {
   "cell_type": "markdown",
   "id": "a6beb307",
   "metadata": {
    "slideshow": {
     "slide_type": "subslide"
    }
   },
   "source": [
    "<p align='justify' style='margin: 10px 20px; line-height:1.5; font-family: \"Times New Roman\", Times, serif; font-size:16px; color : purple'>\n",
    "    Using the split function to convert a string into an array  \n",
    "</p>"
   ]
  },
  {
   "cell_type": "code",
   "execution_count": null,
   "id": "b7c1be33",
   "metadata": {
    "slideshow": {
     "slide_type": "subslide"
    }
   },
   "outputs": [],
   "source": [
    "str = \"hello world\"\n",
    "n = split(str, array, \" \")"
   ]
  },
  {
   "cell_type": "markdown",
   "id": "90ef47bd",
   "metadata": {
    "slideshow": {
     "slide_type": "subslide"
    }
   },
   "source": [
    "<p align='justify' style='margin: 10px 20px; line-height:1.5; font-family: \"Times New Roman\", Times, serif; font-size:16px; color : purple'>\n",
    "    This will create an array called array with two elements: \"hello\" and \"world\". \n",
    "</p><br>\n",
    "\n",
    "<h3 style='color:red; font-weight:bold; text-align:center; font-family: \"Times New Roman\", Times, serif;'>Accessing and modifying array elements</h3>\n",
    "</h3>\n",
    "\n",
    "<p align='justify' style='margin: 10px 20px; line-height:1.5; font-family: \"Times New Roman\", Times, serif; font-size:16px; color : black'>\n",
    "    Once an array is declared, elements can be accessed and modified using the array name followed by the index in square brackets.\n",
    "</p>"
   ]
  },
  {
   "cell_type": "code",
   "execution_count": null,
   "id": "0f4da575",
   "metadata": {
    "slideshow": {
     "slide_type": "subslide"
    }
   },
   "outputs": [],
   "source": [
    "numbers[1] = 100\n",
    "print numbers[1] # prints 100"
   ]
  },
  {
   "cell_type": "markdown",
   "id": "ee5b431e",
   "metadata": {
    "slideshow": {
     "slide_type": "subslide"
    }
   },
   "source": [
    "<p align='justify' style='margin: 10px 20px; line-height:1.5; font-family: \"Times New Roman\", Times, serif; font-size:16px; color : purple'>\n",
    "    Arrays can be looped through using for loops, while loops and do-while loops.\n",
    "</p>"
   ]
  },
  {
   "cell_type": "code",
   "execution_count": null,
   "id": "5a597f1f",
   "metadata": {
    "slideshow": {
     "slide_type": "subslide"
    }
   },
   "outputs": [],
   "source": [
    "for (i in numbers) {\n",
    "    print numbers[i]\n",
    "}"
   ]
  },
  {
   "cell_type": "markdown",
   "id": "75be0292",
   "metadata": {
    "slideshow": {
     "slide_type": "subslide"
    }
   },
   "source": [
    "<p align='justify' style='margin: 10px 20px; line-height:1.5; font-family: \"Times New Roman\", Times, serif; font-size:16px; color : purple'>\n",
    "    This will loop through all the elements in the array numbers and print them.\n",
    "</p>"
   ]
  },
  {
   "cell_type": "markdown",
   "id": "c335203c",
   "metadata": {
    "slideshow": {
     "slide_type": "subslide"
    }
   },
   "source": [
    "<h3 style='color:red; font-weight:bold; text-align:center; font-family: \"Times New Roman\", Times, serif;'>Built-in array functions</h3>\n",
    "</h3>\n",
    "\n",
    "<p align='justify' style='margin: 10px 20px; line-height:1.5; font-family: \"Times New Roman\", Times, serif; font-size:16px; color : black'>\n",
    "    Awk provides several built-in array functions that can be used to perform various operations on arrays. <br><br>These functions include:\n",
    "</p>\n",
    "\n",
    "<p align='justify' style='margin: 10px 20px; line-height:1.5; font-family: \"Times New Roman\", Times, serif; font-size:16px;'>\n",
    "    \n",
    "    \n",
    "  <ul style='font-family: \"Times New Roman\", Times, serif; font-weight:light; font-size:16px;'>\n",
    "      <li><b>length(array)</b> - returns the number of elements in the array</li>\n",
    "      \n",
    "      \n",
    "    \n",
    "  </ul>\n",
    "</p>"
   ]
  },
  {
   "cell_type": "code",
   "execution_count": null,
   "id": "2e370981",
   "metadata": {
    "slideshow": {
     "slide_type": "subslide"
    }
   },
   "outputs": [],
   "source": [
    "print length(numbers)"
   ]
  },
  {
   "cell_type": "markdown",
   "id": "5b91e3e8",
   "metadata": {
    "slideshow": {
     "slide_type": "subslide"
    }
   },
   "source": [
    "<p align='justify' style='margin: 10px 20px; line-height:1.5; font-family: \"Times New Roman\", Times, serif; font-size:16px;'>\n",
    "    \n",
    "    \n",
    "  <ul style='font-family: \"Times New Roman\", Times, serif; font-weight:light; font-size:16px;'>\n",
    "      <li><b>sort(array) </b> - sorts the elements of the array</li>\n",
    "      \n",
    "      \n",
    "    \n",
    "  </ul>\n",
    "</p>"
   ]
  },
  {
   "cell_type": "code",
   "execution_count": null,
   "id": "433091a5",
   "metadata": {
    "slideshow": {
     "slide_type": "subslide"
    }
   },
   "outputs": [],
   "source": [
    "sort(numbers)"
   ]
  },
  {
   "cell_type": "markdown",
   "id": "adc88bb2",
   "metadata": {
    "slideshow": {
     "slide_type": "subslide"
    }
   },
   "source": [
    "<p align='justify' style='margin: 10px 20px; line-height:1.5; font-family: \"Times New Roman\", Times, serif; font-size:16px;'>\n",
    "    \n",
    "    \n",
    "  <ul style='font-family: \"Times New Roman\", Times, serif; font-weight:light; font-size:16px;'>\n",
    "      <li><b>delete array[index]  </b> - deletes the element at the specified index</li>\n",
    "      \n",
    "      \n",
    "    \n",
    "  </ul>\n",
    "</p>"
   ]
  },
  {
   "cell_type": "code",
   "execution_count": null,
   "id": "ed9e018d",
   "metadata": {
    "slideshow": {
     "slide_type": "subslide"
    }
   },
   "outputs": [],
   "source": [
    "delete numbers[2]"
   ]
  },
  {
   "cell_type": "markdown",
   "id": "c7761736",
   "metadata": {
    "slideshow": {
     "slide_type": "subslide"
    }
   },
   "source": [
    "<h3 style='color:red; font-weight:bold; text-align:center; font-family: \"Times New Roman\", Times, serif;'>EXERECISE 10: Arrays in AWK  \n",
    "\n",
    "</h3>\n",
    "<p align='justify' style='margin: 10px 20px; line-height:1.5; font-family: \"Times New Roman\", Times, serif; font-size:16px;'>\n",
    "    \n",
    "    \n",
    "  <ul style='font-family: \"Times New Roman\", Times, serif; font-weight:light; font-size:16px;'>\n",
    "      <li><b>Creating a script that takes a list of numbers as an input and sorts them in ascending order using the sort function.</b></li>\n",
    "      <li><b>Creating a script that takes a string as an input and prints it in reverse order using a for loop and the length function.</b></li>\n",
    "      <li><b>Creating a script that takes a list of names as an input and prints them in alphabetical order using the sort function and a for loop.</b></li>\n",
    "      \n",
    "      \n",
    "     \n",
    "    \n",
    "  </ul>\n",
    "</p>"
   ]
  },
  {
   "cell_type": "markdown",
   "id": "33d6c13e",
   "metadata": {
    "slideshow": {
     "slide_type": "slide"
    }
   },
   "source": [
    "<h2 style='color:red; font-weight:bold; text-align:center; font-family: \"Times New Roman\", Times, serif;'>EXPLANATION OF THE DIFFERENCES BETWEEN GWAK, NAWK, AND MAWK</h2><br>\n",
    "\n",
    "<p align='justify' style='margin: 10px 20px; line-height:1.5; font-family: \"Times New Roman\", Times, serif; font-size:16px; color: purple'>\n",
    "    In this session, we will explore the differences between three popular implementations of awk: gawk, nawk, and mawk.\n",
    "  \n",
    "</p>\n",
    "\n",
    "<img src=\"The-AWK-Programming-Language.svg.png\" width=\"150\" height=\"250\" style=\"float: left; margin-right: 20px; margin-left: 20px;\">\n",
    "<p align='justify' style='margin: 10px 20px; line-height:1.5; font-family: \"Times New Roman\", Times, serif; font-size:16px; color : black'>\n",
    "    First, we will start with <strong>gawk</strong>, which stands for \"GNU awk\" and is the GNU implementation of awk. gawk was developed by the Free Software Foundation and is widely used in the Linux and Unix community. gawk includes additional features such as networking support, the ability to use dynamic shared libraries, and support for internationalization. gawk also supports all features of the POSIX standard for awk.\n",
    "\n",
    "</p><br>\n",
    "<p align='justify' style='margin: 10px 20px; line-height:1.5; font-family: \"Times New Roman\", Times, serif; font-size:16px; color : black'>\n",
    "    Next, we will discuss <strong>nawk</strong>, which is the original implementation of awk and is included in many Unix-like operating systems. nawk is often considered to be more lightweight than gawk, and it is known for its small footprint and minimalistic approach. nawk is also compliant with the POSIX standard for awk.\n",
    "\n",
    "</p>"
   ]
  },
  {
   "cell_type": "markdown",
   "id": "5e2b2722",
   "metadata": {
    "slideshow": {
     "slide_type": "subslide"
    }
   },
   "source": [
    "<p align='justify' style='margin: 10px 20px; line-height:1.5; font-family: \"Times New Roman\", Times, serif; font-size:16px;'>\n",
    "    Lastly, we will talk about <strong>mawk</strong>, which is another implementation of awk that is designed to be faster than other implementations, particularly when working with large input files. mawk is known for its speed and minimal memory usage, and it also supports the POSIX standard for awk.\n",
    "      \n",
    "</p><br>\n",
    "\n",
    "<h3 style='color:red; font-weight:bold; text-align:center; font-family: \"Times New Roman\", Times, serif;'>When to use gawk, nawk, and mawk:</h3><br>\n",
    "\n",
    "<p align='justify' style='margin: 10px 20px; line-height:1.5; font-family: \"Times New Roman\", Times, serif; font-size:16px; color: purple'>\n",
    "    When choosing between gawk, nawk, and mawk, it is important to consider the specific requirements of your project.\n",
    "  \n",
    "</p><br>\n",
    "<p align='justify' style='margin: 10px 20px; line-height:1.5; font-family: \"Times New Roman\", Times, serif; font-size:16px;'>\n",
    "    \n",
    "    \n",
    "  <ul style='font-family: \"Times New Roman\", Times, serif; font-weight:light; font-size:16px;'>\n",
    "      <li>If you need additional features such as networking support or the ability to use dynamic shared libraries, gawk would be a good choice.</li>\n",
    "      <li>If you are working with a limited environment such as embedded systems, nawk would be a good choice for its lightweight approach.</li>\n",
    "      <li>If you are working with large input files and need the fastest possible performance, mawk would be a good choice.</li>\n",
    "      \n",
    "      \n",
    "     \n",
    "    \n",
    "  </ul>\n",
    "</p>\n"
   ]
  },
  {
   "cell_type": "markdown",
   "id": "6c5a5d1f",
   "metadata": {
    "slideshow": {
     "slide_type": "subslide"
    }
   },
   "source": [
    "<h3 style='color:red; font-weight:bold; text-align:center; font-family: \"Times New Roman\", Times, serif;'>Examples of using gawk, nawk, and mawk:</h3><br>\n",
    "\n",
    "<p align='justify' style='margin: 10px 20px; line-height:1.5; font-family: \"Times New Roman\", Times, serif; font-size:16px; color: purple'>\n",
    "    In order to use gawk, nawk, and mawk, you will need to have them installed on your system. On most Linux and Unix-like systems, one or more of these implementations of awk will be pre-installed. You can check which version of awk is currently installed by running the command \"awk --version\" in your terminal.\n",
    "  \n",
    "</p><br>\n",
    "<p align='justify' style='margin: 10px 20px; line-height:1.5; font-family: \"Times New Roman\", Times, serif; font-size:16px; color: black'>\n",
    "    To use gawk, you can simply type \"gawk\" followed by your awk script or commands. For example:\n",
    "  \n",
    "</p>"
   ]
  },
  {
   "cell_type": "code",
   "execution_count": 5,
   "id": "2b78fe12",
   "metadata": {
    "scrolled": true,
    "slideshow": {
     "slide_type": "subslide"
    }
   },
   "outputs": [
    {
     "name": "stdout",
     "output_type": "stream",
     "text": [
      "#file.txt\n",
      "\n",
      "Name,\n",
      "John,\n",
      "Sara,\n",
      "James,\n",
      "Emily,\n",
      "David,\n",
      "Jessica,\n"
     ]
    }
   ],
   "source": [
    "%%bash\n",
    "gawk '{print $1}' simple_filters.txt"
   ]
  },
  {
   "cell_type": "markdown",
   "id": "aef8ce24",
   "metadata": {
    "slideshow": {
     "slide_type": "subslide"
    }
   },
   "source": [
    "<p align='justify' style='margin: 10px 20px; line-height:1.5; font-family: \"Times New Roman\", Times, serif; font-size:16px; color: purple'>\n",
    "    To use nawk, you can type \"nawk\" followed by your awk script or commands. For example:\n",
    "</p>"
   ]
  },
  {
   "cell_type": "code",
   "execution_count": 6,
   "id": "440f5ff9",
   "metadata": {
    "slideshow": {
     "slide_type": "subslide"
    }
   },
   "outputs": [
    {
     "name": "stdout",
     "output_type": "stream",
     "text": [
      "#file.txt\n",
      "\n",
      "Name,\n",
      "John,\n",
      "Sara,\n",
      "James,\n",
      "Emily,\n",
      "David,\n",
      "Jessica,\n"
     ]
    }
   ],
   "source": [
    "%%bash\n",
    "\n",
    "nawk '{print $1}' simple_filters.txt"
   ]
  },
  {
   "cell_type": "markdown",
   "id": "3e72f932",
   "metadata": {
    "slideshow": {
     "slide_type": "subslide"
    }
   },
   "source": [
    "<p align='justify' style='margin: 10px 20px; line-height:1.5; font-family: \"Times New Roman\", Times, serif; font-size:16px; color: purple'>\n",
    "    And to use mawk, you can type \"mawk\" followed by your awk script or commands. For example:\n",
    "</p>"
   ]
  },
  {
   "cell_type": "code",
   "execution_count": 7,
   "id": "6f2bec14",
   "metadata": {
    "slideshow": {
     "slide_type": "subslide"
    }
   },
   "outputs": [
    {
     "name": "stdout",
     "output_type": "stream",
     "text": [
      "#file.txt\n",
      "\n",
      "Name,\n",
      "John,\n",
      "Sara,\n",
      "James,\n",
      "Emily,\n",
      "David,\n",
      "Jessica,\n"
     ]
    }
   ],
   "source": [
    "%%bash\n",
    "mawk '{print $1}' simple_filters.txt"
   ]
  },
  {
   "cell_type": "markdown",
   "id": "38553316",
   "metadata": {
    "slideshow": {
     "slide_type": "subslide"
    }
   },
   "source": [
    "<p align='justify' style='margin: 10px 20px; line-height:1.5; font-family: \"Times New Roman\", Times, serif; font-size:16px; color: purple'>\n",
    "    It's also worth noting that on some systems, the default version of awk may be different than gawk, nawk, or mawk. In that case, you can use the full path of the binary to ensure you're using the correct version. For example:\n",
    "</p>"
   ]
  },
  {
   "cell_type": "code",
   "execution_count": null,
   "id": "8a5a5530",
   "metadata": {
    "slideshow": {
     "slide_type": "slide"
    }
   },
   "outputs": [],
   "source": [
    "/usr/local/bin/gawk '{print $1}' file.txt"
   ]
  },
  {
   "cell_type": "markdown",
   "id": "d2f5cfb2",
   "metadata": {
    "slideshow": {
     "slide_type": "subslide"
    }
   },
   "source": [
    "<p align='justify' style='margin: 10px 20px; line-height:1.5; font-family: \"Times New Roman\", Times, serif; font-size:16px; color: purple'>\n",
    "    You can also make use of the alias command to set gawk, nawk, mawk as default awk command.\n",
    "</p>"
   ]
  },
  {
   "cell_type": "code",
   "execution_count": null,
   "id": "ede375b5",
   "metadata": {
    "slideshow": {
     "slide_type": "subslide"
    }
   },
   "outputs": [],
   "source": [
    "alias awk=gawk"
   ]
  },
  {
   "cell_type": "markdown",
   "id": "bf003f89",
   "metadata": {
    "slideshow": {
     "slide_type": "subslide"
    }
   },
   "source": [
    "<p align='justify' style='margin: 10px 20px; line-height:1.5; font-family: \"Times New Roman\", Times, serif; font-size:16px; color: purple'>\n",
    "    Once you've set the alias, you can simply use the \"awk\" command to use gawk.\n",
    "</p>"
   ]
  },
  {
   "cell_type": "code",
   "execution_count": null,
   "id": "d6121da7",
   "metadata": {
    "slideshow": {
     "slide_type": "subslide"
    }
   },
   "outputs": [],
   "source": [
    "awk '{print $1}' file.txt"
   ]
  },
  {
   "cell_type": "markdown",
   "id": "c866c6ab",
   "metadata": {
    "slideshow": {
     "slide_type": "subslide"
    }
   },
   "source": [
    "<p align='justify' style='margin: 10px 20px; line-height:1.5; font-family: \"Times New Roman\", Times, serif; font-size:16px; color: black'>\n",
    "    It's important to note that the awk scripts or commands you use will be the same regardless of which implementation you're using, as they all support the POSIX standard for awk.<br><br>As you progress in your awk script development, you can use different features provided by these derivatives of awk and test their performance.\n",
    "</p>"
   ]
  },
  {
   "cell_type": "markdown",
   "id": "cbe4cd99",
   "metadata": {
    "slideshow": {
     "slide_type": "subslide"
    }
   },
   "source": [
    "<h3 style='color:red; font-weight:bold; text-align:center; font-family: \"Times New Roman\", Times, serif;'>EXERECISE 11: Explanation of the differences between gawk, nawk, and mawk  \n",
    "\n",
    "</h3>\n",
    "<p align='justify' style='margin: 10px 20px; line-height:1.5; font-family: \"Times New Roman\", Times, serif; font-size:16px;'>\n",
    "    \n",
    "    \n",
    "  <ul style='font-family: \"Times New Roman\", Times, serif; font-weight:light; font-size:16px;'>\n",
    "      <li><b>Comparing the performance of gawk, nawk, and mawk when working with a large input file</b></li>\n",
    "      <li><b>Using gawk's networking support to process data from a remote server</b></li>\n",
    "      <li><b>Using gawk's dynamic shared library support to call a custom function from a shared library.</b></li>\n",
    "      \n",
    "      \n",
    "     \n",
    "    \n",
    "  </ul>\n",
    "</p>"
   ]
  },
  {
   "cell_type": "markdown",
   "id": "f140cac5",
   "metadata": {
    "slideshow": {
     "slide_type": "slide"
    }
   },
   "source": [
    "<h2 style='color:red; font-weight:bold; text-align:center; font-family: \"Times New Roman\", Times, serif;'>INTRODUCTION TO SED</h2>\n",
    "\n",
    "<p align='justify' style='margin: 10px 20px; line-height:1.5; font-family: \"Times New Roman\", Times, serif; font-size:16px;'>\n",
    "    <strong> Lesson One: </strong> Introduction to Sed\n",
    "    \n",
    "  <ul style='font-family: \"Times New Roman\", Times, serif; font-weight:light; font-size:16px;'>\n",
    "      <li><b>Introduction to sed </b></li>\n",
    "      <li><b>  Principle of Operation for sed</b></li>\n",
    "      <li><b>Basic Usage of sed</b></li>\n",
    "      <li><b>Meta Characters in sed</b></li>\n",
    "      <li><b>Extensions in sed</b></li>\n",
    "      <li><b>Other egrep Filter </b></li><br>\n",
    "    \n",
    "    \n",
    "  </ul>\n",
    "</p><br>\n",
    "\n",
    "<p align='justify' style='margin: 10px 20px; line-height:1.5; font-family: \"Times New Roman\", Times, serif; font-size:16px; color : purple'>\n",
    "  This tutorial will cover the basic usage of sed and provide hands-on exercises that will give attendees the opportunity to practice what they have learned. The tutorial will also cover additional commands and options that can be used with sed and give examples of how to use them in real-world scenarios.\n",
    "\n",
    "</p><br>\n",
    "<img src=\"sed1.jpeg\" width=\"150\" height=\"250\" style=\"float: left; margin-right: 20px; margin-left: 20px;\">\n",
    "<p align='justify' style='margin: 10px 20px; line-height:1.5; font-family: \"Times New Roman\", Times, serif; font-size:16px;'>\n",
    "  Sed stands for \"stream editor\" and is a command-line tool that can be used to perform basic text transformations on an input stream (a file or input from a pipeline). <br><br> Sed reads the input stream, one line at a time, and applies a set of editing commands to each line. The transformed line is then written to the output stream. Sed is particularly useful for editing large files or for editing files on a remote server using ssh. <br><br>  It's a powerful tool for transforming text-based files like log files, configuration files, or scripts. Sed commands can be grouped together in a script file and applied to a file using the -f option. Sed can also be used to edit files in-place, by using the -i option. This makes Sed a powerful tool for batch processing of large number of files and automating repetitive text processing tasks.\n",
    "\n",
    "</p>"
   ]
  },
  {
   "cell_type": "markdown",
   "id": "318fec2d",
   "metadata": {
    "slideshow": {
     "slide_type": "subslide"
    }
   },
   "source": [
    "<h3 style='color:red; font-weight:bold; text-align:center; font-family: \"Times New Roman\", Times, serif;'>Basic syntax and structure of a sed command </h3>\n",
    "\n",
    "<p align='justify' style='margin: 10px 20px; line-height:1.5; font-family: \"Times New Roman\", Times, serif; font-size:16px; color : purple'>\n",
    "  Sed is commonly used to perform tasks such as search and replace, insertion, deletion, and substitution of text. In this tutorial, we will cover the basic syntax and structure of a sed command, including input file and command line options. We will also provide examples and use cases to help attendees understand how to apply the concepts in real-world scenarios.\n",
    "\n",
    "</p><br>\n",
    "\n",
    "<p align='justify' style='margin: 10px 20px; line-height:1.5; font-family: \"Times New Roman\", Times, serif; font-size:16px; color : purple'>\n",
    "  The basic syntax of a sed command is as follows:\n",
    "</p><br>\n",
    "\n",
    "<p align='justify' style='margin: 10px 20px; line-height:1.5; font-family: \"Times New Roman\", Times, serif; font-size:16px; color : black'>\n",
    "    <strong>Basic Syntax and Structure:</strong><br>sed [options] 'command' inputfile\n",
    "\n",
    "\n",
    "</p>"
   ]
  },
  {
   "cell_type": "markdown",
   "id": "43afc15e",
   "metadata": {
    "slideshow": {
     "slide_type": "subslide"
    }
   },
   "source": [
    "\n",
    "<p align='justify' style='margin: 10px 20px; line-height:1.5; font-family: \"Times New Roman\", Times, serif; font-size:16px; color : purple'>\n",
    "  The options are optional and can be used to modify the behavior of the command. The command is a regular expression that specifies the text transformation to be performed. The inputfile is the file on which the transformation will be performed. <br><br> <strong>[Commands]</strong>\n",
    "\n",
    "</p>\n",
    "<p align='justify' style='margin: 10px 20px; line-height:1.5; font-family: \"Times New Roman\", Times, serif; font-size:16px;'>\n",
    "    \n",
    "    \n",
    "  <ul style='font-family: \"Times New Roman\", Times, serif; font-weight:light; font-size:16px;'>\n",
    "      <li><b>s/old/new/ : </b> Substitute the first occurrence of \"old\" with \"new\" in each line.</li>\n",
    "      <li><b>s/old/new/g : </b> Substitute all occurrences of \"old\" with \"new\" in each line.</li>\n",
    "      <li><b>i\\text : </b> Insert \"text\" before each line.</li>\n",
    "      <li><b>a\\text : </b>  Append \"text\" after each line.</li>\n",
    "      <li><b>c\\text : </b>  Replace the current line with \"text\".</li>\n",
    "      <li><b>d : </b> Delete the current line</li><br>\n",
    "\n",
    "  </ul>\n",
    "</p><br>\n",
    "\n",
    "<p align='justify' style='margin: 10px 20px; line-height:1.5; font-family: \"Times New Roman\", Times, serif; font-size:16px; color : purple'>\n",
    "    <strong>[Command Line Options:]</strong>\n",
    "    \n",
    "  <ul style='font-family: \"Times New Roman\", Times, serif; font-weight:light; font-size:16px;'>\n",
    "      <li><b>-n : </b> Suppress automatic printing of pattern space.</li>\n",
    "      <li><b>-e : </b>  Allows multiple commands to be executed.</li>\n",
    "      <li><b>-f : </b> Read commands from a file.</li>\n",
    "      \n",
    "\n",
    "  </ul>\n",
    "</p>"
   ]
  },
  {
   "cell_type": "markdown",
   "id": "0542429a",
   "metadata": {
    "slideshow": {
     "slide_type": "subslide"
    }
   },
   "source": [
    "<h3 style='color:red; font-weight:bold; text-align:center; font-family: \"Times New Roman\", Times, serif;'>Examples and Use Cases:\n",
    "\n",
    " </h3>\n",
    "\n",
    "<p align='justify' style='margin: 10px 20px; line-height:1.5; font-family: \"Times New Roman\", Times, serif; font-size:16px; color : black'>\n",
    "    <strong>Search and Replace:</strong> To replace all occurrences of the word <b>\"old\"</b> with <b>\"new\"</b> in a file called inputfile.txt, the command would be:\n",
    "\n",
    "</p>"
   ]
  },
  {
   "cell_type": "code",
   "execution_count": 8,
   "id": "76b56a00",
   "metadata": {
    "scrolled": true,
    "slideshow": {
     "slide_type": "subslide"
    }
   },
   "outputs": [
    {
     "name": "stdout",
     "output_type": "stream",
     "text": [
      "# User information\n",
      "name=John\n",
      "age=30\n",
      "gender=male\n",
      "\n",
      "# System information\n",
      "os=Linux\n",
      "version=5.4.0-42-generic\n",
      "memory=8GB\n",
      "\n",
      "# Network information\n",
      "ip=192.168.1.100\n",
      "netmask=255.255.255.0\n",
      "gateway=192.168.1.1\n",
      "\n",
      "#Additional sentences\n",
      "The new version of the software had many bugs, but the new version is much more stable.\n",
      "I used to drive an new car, but now I drive a new one.\n",
      "The new way of doing things was inefficient, but the new method is much faster.\n",
      "\n"
     ]
    }
   ],
   "source": [
    "%%bash\n",
    "sed 's/old/new/g' inputfile.txt"
   ]
  },
  {
   "cell_type": "markdown",
   "id": "81c7648c",
   "metadata": {
    "slideshow": {
     "slide_type": "subslide"
    }
   },
   "source": [
    "<p align='justify' style='margin: 10px 20px; line-height:1.5; font-family: \"Times New Roman\", Times, serif; font-size:16px; color : purple'>\n",
    "    <b>Insertion:</b> To insert the text <b>\"Hello World!\"</b> at the beginning of each line in inputfile.txt, the command would be:\n",
    "\n",
    "</p>"
   ]
  },
  {
   "cell_type": "code",
   "execution_count": 9,
   "id": "35302808",
   "metadata": {
    "scrolled": true,
    "slideshow": {
     "slide_type": "subslide"
    }
   },
   "outputs": [
    {
     "name": "stdout",
     "output_type": "stream",
     "text": [
      "Hello World!\n",
      "# User information\n",
      "Hello World!\n",
      "name=John\n",
      "Hello World!\n",
      "age=30\n",
      "Hello World!\n",
      "gender=male\n",
      "Hello World!\n",
      "\n",
      "Hello World!\n",
      "# System information\n",
      "Hello World!\n",
      "os=Linux\n",
      "Hello World!\n",
      "version=5.4.0-42-generic\n",
      "Hello World!\n",
      "memory=8GB\n",
      "Hello World!\n",
      "\n",
      "Hello World!\n",
      "# Network information\n",
      "Hello World!\n",
      "ip=192.168.1.100\n",
      "Hello World!\n",
      "netmask=255.255.255.0\n",
      "Hello World!\n",
      "gateway=192.168.1.1\n",
      "Hello World!\n",
      "\n",
      "Hello World!\n",
      "#Additional sentences\n",
      "Hello World!\n",
      "The old version of the software had many bugs, but the new version is much more stable.\n",
      "Hello World!\n",
      "I used to drive an old car, but now I drive a new one.\n",
      "Hello World!\n",
      "The old way of doing things was inefficient, but the new method is much faster.\n",
      "Hello World!\n",
      "\n"
     ]
    }
   ],
   "source": [
    "%%bash\n",
    "sed 'i\\Hello World!' inputfile.txt"
   ]
  },
  {
   "cell_type": "markdown",
   "id": "3251fb10",
   "metadata": {
    "slideshow": {
     "slide_type": "subslide"
    }
   },
   "source": [
    "<p align='justify' style='margin: 10px 20px; line-height:1.5; font-family: \"Times New Roman\", Times, serif; font-size:16px; color : purple'>\n",
    "    <b>Deletion:</b> To delete all lines in inputfile.txt that contain the word <b>\"delete\"</b>, the command would be:\n",
    "\n",
    "</p>"
   ]
  },
  {
   "cell_type": "code",
   "execution_count": 10,
   "id": "59e1d850",
   "metadata": {
    "slideshow": {
     "slide_type": "subslide"
    }
   },
   "outputs": [
    {
     "name": "stdout",
     "output_type": "stream",
     "text": [
      "# User information\n",
      "name=John\n",
      "age=30\n",
      "gender=male\n",
      "\n",
      "# System information\n",
      "os=Linux\n",
      "version=5.4.0-42-generic\n",
      "memory=8GB\n",
      "\n",
      "# Network information\n",
      "ip=192.168.1.100\n",
      "netmask=255.255.255.0\n",
      "gateway=192.168.1.1\n",
      "\n",
      "#Additional sentences\n",
      "The old version of the software had many bugs, but the new version is much more stable.\n",
      "I used to drive an old car, but now I drive a new one.\n",
      "The old way of doing things was inefficient, but the new method is much faster.\n",
      "\n"
     ]
    }
   ],
   "source": [
    "%%bash\n",
    "sed '/delete/d' inputfile.txt"
   ]
  },
  {
   "cell_type": "markdown",
   "id": "e652a34d",
   "metadata": {
    "slideshow": {
     "slide_type": "subslide"
    }
   },
   "source": [
    "<p align='justify' style='margin: 10px 20px; line-height:1.5; font-family: \"Times New Roman\", Times, serif; font-size:16px; color : purple'>\n",
    "  Multiple commands: To perform multiple commands on inputfile.txt, the commands can be separated by semicolons and the -e option can be used:\n",
    "\n",
    "</p>"
   ]
  },
  {
   "cell_type": "code",
   "execution_count": 11,
   "id": "85004da3",
   "metadata": {
    "scrolled": true,
    "slideshow": {
     "slide_type": "subslide"
    }
   },
   "outputs": [
    {
     "name": "stdout",
     "output_type": "stream",
     "text": [
      "Hello World!\n",
      "# User information\n",
      "Hello World!\n",
      "name=John\n",
      "Hello World!\n",
      "age=30\n",
      "Hello World!\n",
      "gender=male\n",
      "Hello World!\n",
      "\n",
      "Hello World!\n",
      "# System information\n",
      "Hello World!\n",
      "os=Linux\n",
      "Hello World!\n",
      "version=5.4.0-42-generic\n",
      "Hello World!\n",
      "memory=8GB\n",
      "Hello World!\n",
      "\n",
      "Hello World!\n",
      "# Network information\n",
      "Hello World!\n",
      "ip=192.168.1.100\n",
      "Hello World!\n",
      "netmask=255.255.255.0\n",
      "Hello World!\n",
      "gateway=192.168.1.1\n",
      "Hello World!\n",
      "\n",
      "Hello World!\n",
      "#Additional sentences\n",
      "Hello World!\n",
      "The new version of the software had many bugs, but the new version is much more stable.\n",
      "Hello World!\n",
      "I used to drive an new car, but now I drive a new one.\n",
      "Hello World!\n",
      "The new way of doing things was inefficient, but the new method is much faster.\n",
      "Hello World!\n",
      "\n"
     ]
    }
   ],
   "source": [
    "%%bash\n",
    "sed -e 's/old/new/g' -e 'i\\Hello World!' inputfile.txt"
   ]
  },
  {
   "cell_type": "markdown",
   "id": "07ffdd2c",
   "metadata": {
    "slideshow": {
     "slide_type": "subslide"
    }
   },
   "source": [
    "<p align='justify' style='margin: 10px 20px; line-height:1.5; font-family: \"Times New Roman\", Times, serif; font-size:16px; color : purple'>\n",
    "  Read commands from a file: To read commands from a file called commands.txt and apply them to input.txt, the -f option can be used:\n",
    "\n",
    "</p>"
   ]
  },
  {
   "cell_type": "code",
   "execution_count": null,
   "id": "57674eb8",
   "metadata": {
    "slideshow": {
     "slide_type": "subslide"
    }
   },
   "outputs": [],
   "source": [
    "%%bash\n",
    "sed -f command.txt inputfile.txt"
   ]
  },
  {
   "cell_type": "markdown",
   "id": "0365e318",
   "metadata": {
    "slideshow": {
     "slide_type": "subslide"
    }
   },
   "source": [
    "<p align='justify' style='margin: 10px 20px; line-height:1.5; font-family: \"Times New Roman\", Times, serif; font-size:16px; color : purple'>\n",
    "    <strong>There are two main types of commands in sed:</strong>\n",
    "\n",
    "</p><br>\n",
    "\n",
    "<p align='justify' style='margin: 10px 20px; line-height:1.5; font-family: \"Times New Roman\", Times, serif; font-size:16px; color : black'>\n",
    "    <strong>Addressing commands:</strong> These commands specify which lines of the input file the following command should be applied to. For example, the command \"2d\" would delete the second line of the input file. <br><br> <strong>Transformation commands:</strong> These commands specify the transformation to be applied to the selected lines of the input file. For example, the command \"s/old/new/\" would replace the first occurrence of the word \"old\" with \"new\" on the selected lines.\n",
    "\n",
    "</p>\n",
    "\n"
   ]
  },
  {
   "cell_type": "markdown",
   "id": "69c81739",
   "metadata": {
    "slideshow": {
     "slide_type": "subslide"
    }
   },
   "source": [
    "<h3 style='color:red; font-weight:bold; text-align:center; font-family: \"Times New Roman\", Times, serif;'>Hands-on Exercises\n",
    "\n",
    " </h3>\n",
    "\n",
    "<p align='justify' style='margin: 10px 20px; line-height:1.5; font-family: \"Times New Roman\", Times, serif; font-size:16px; color : purple'>\n",
    "  In this section, we will provide a set of hands-on exercises to help attendees practice using sed commands and understand how they work.\n",
    "\n",
    "\n",
    "</p><br>\n",
    "<p align='justify' style='margin: 10px 20px; line-height:1.5; font-family: \"Times New Roman\", Times, serif; font-size:16px; color : black'>\n",
    "    <strong>Exercise 1: Using addressing commands</strong>\n",
    "</p><br>\n",
    "\n",
    "<p align='justify' style='margin: 10px 20px; line-height:1.5; font-family: \"Times New Roman\", Times, serif; font-size:16px; color : black'>\n",
    "    In this exercise, we will use addressing commands to select specific lines of an input file and apply a transformation command. <br><br><b>Step 1: Create a file called input1.txt and add the following text:</b> <br><br> This is line 1<br>This is line 2<br>This is line 3<br><br><strong>Step 2: Use the sed command to delete the second line of input.txt</strong>\n",
    "\n",
    "</p>\n"
   ]
  },
  {
   "cell_type": "code",
   "execution_count": 1,
   "id": "032ba6c6",
   "metadata": {
    "slideshow": {
     "slide_type": "subslide"
    }
   },
   "outputs": [
    {
     "name": "stdout",
     "output_type": "stream",
     "text": [
      "This is line 1\n",
      "This is line 3\n"
     ]
    }
   ],
   "source": [
    "%%bash\n",
    "sed '2d' input1.txt"
   ]
  },
  {
   "cell_type": "markdown",
   "id": "3341d333",
   "metadata": {
    "slideshow": {
     "slide_type": "subslide"
    }
   },
   "source": [
    "<p align='justify' style='margin: 10px 20px; line-height:1.5; font-family: \"Times New Roman\", Times, serif; font-size:16px; color: purple'>\n",
    "    As you can see, the second line has been deleted as we used the addressing command 2d\n",
    "  \n",
    "</p><br>\n",
    "<p align='justify' style='margin: 10px 20px; line-height:1.5; font-family: \"Times New Roman\", Times, serif; font-size:16px; color: black'>\n",
    "    <strong>Exercise 2: Using transformation commands</strong><br><br>In this exercise, we will use transformation commands to perform text replacement on specific lines of an input file.\n",
    "\n",
    "</p><br>\n",
    "<p align='justify' style='margin: 10px 20px; line-height:1.5; font-family: \"Times New Roman\", Times, serif; font-size:16px; color: black'>\n",
    "    <strong>Step 1: Create a file called input2.txt and add the following text:</strong><br><br>This is the old version of the file<br>This is the old version of the file<br>This is the old version of the file<br><br> <strong>Step 2: Use the sed command to replace all occurrences of the word \"old\" with \"new\" in input.txt </strong>\n",
    "\n",
    "\n",
    "</p>"
   ]
  },
  {
   "cell_type": "code",
   "execution_count": 4,
   "id": "c487c5e3",
   "metadata": {
    "slideshow": {
     "slide_type": "subslide"
    }
   },
   "outputs": [],
   "source": [
    "%%bash\n",
    "sed -i 's/old/new/g' input2.txt"
   ]
  },
  {
   "cell_type": "markdown",
   "id": "32af0112",
   "metadata": {
    "slideshow": {
     "slide_type": "subslide"
    }
   },
   "source": [
    "<p align='justify' style='margin: 10px 20px; line-height:1.5; font-family: \"Times New Roman\", Times, serif; font-size:16px; color: purple'>\n",
    "    As you can see, the sed command has replaced all occurrences of the word \"old\" with \"new\" in the input.txt file.\n",
    "  \n",
    "</p><br>\n",
    "<p align='justify' style='margin: 10px 20px; line-height:1.5; font-family: \"Times New Roman\", Times, serif; font-size:16px; color: black'>\n",
    "    <strong>Exercise 3: Using a combination of addressing and transformation commands</strong><br><br> In this exercise, we will use a combination of addressing and transformation commands to perform text replacement on specific lines of an input file. <br><br> <strong>Step 1: Create a file called input3.txt and add the following text:</strong>\n",
    "  \n",
    "</p>"
   ]
  },
  {
   "cell_type": "code",
   "execution_count": 3,
   "id": "06228586",
   "metadata": {
    "slideshow": {
     "slide_type": "subslide"
    }
   },
   "outputs": [
    {
     "name": "stdout",
     "output_type": "stream",
     "text": [
      "This is line 1\n",
      "This is sentence 2\n",
      "This is line 3\n",
      "\n"
     ]
    }
   ],
   "source": [
    "%%bash\n",
    "sed '2s/line/sentence/' input3.txt"
   ]
  },
  {
   "cell_type": "markdown",
   "id": "0529b40c",
   "metadata": {
    "slideshow": {
     "slide_type": "subslide"
    }
   },
   "source": [
    "<p align='justify' style='margin: 10px 20px; line-height:1.5; font-family: \"Times New Roman\", Times, serif; font-size:16px; color: black'>\n",
    "    As you can see, the sed command has replaced the first occurrence of the word \"line\" with \"sentence\" in the second line of the input.txt file.<br><br> This session provided an overview of how sed works and its underlying principles. By providing hands-on exercises, attendees should now have a good understanding of how to use addressing and transformation commands in sed to perform text transformations on an input file. They should be able to use sed commands to select specific lines of an input file and apply various text transformations to them. \n",
    "  \n",
    "</p>\n"
   ]
  },
  {
   "cell_type": "markdown",
   "id": "6c6c192b",
   "metadata": {},
   "source": [
    "<h3 style='color:red; font-weight:bold; text-align:center; font-family: \"Times New Roman\", Times, serif;'>EXERECISE 12: Introduction to Sed\n",
    "\n",
    "</h3>\n",
    "<p align='justify' style='margin: 10px 20px; line-height:1.5; font-family: \"Times New Roman\", Times, serif; font-size:16px;'>\n",
    "    \n",
    "    \n",
    "  <ul style='font-family: \"Times New Roman\", Times, serif; font-weight:light; font-size:16px;'>\n",
    "      <li><b>What is sed and what are its capabilities?</b></li>\n",
    "      <li><b>How is the basic syntax of a sed command structured?</b></li>\n",
    "      <li><b>Can you provide an example of a common use case for sed?</b></li>\n",
    "      <li><b>How does sed work and what are the underlying principles?</b></li>\n",
    "      <li><b>How can sed be used effectively for text processing tasks?</b></li>\n",
    "      <li><b>What are some key commands used in sed and how do they work?</b></li>\n",
    "      \n",
    "      \n",
    "     \n",
    "    \n",
    "  </ul>\n",
    "</p>"
   ]
  },
  {
   "cell_type": "markdown",
   "id": "551b8bb7",
   "metadata": {
    "slideshow": {
     "slide_type": "slide"
    }
   },
   "source": [
    "<h2 style='color:red; font-weight:bold; text-align:center; font-family: \"Times New Roman\", Times, serif;'>META CHARACTERS IN SED</h2> \n",
    "<p align='justify' style='margin: 10px 20px; line-height:1.5; font-family: \"Times New Roman\", Times, serif; font-size:16px; color : purple'>\n",
    "  In this session, we will cover the use of metacharacters in sed and provide hands-on exercises to help attendees understand how to use them in their text processing tasks.\n",
    "\n",
    "\n",
    "</p><br>\n",
    "<img src=\"sedmeta.jpeg\" width=\"150\" height=\"250\" style=\"float: left; margin-right: 20px; margin-left: 20px;\">\n",
    "<p align='justify' style='margin: 10px 20px; line-height:1.5; font-family: \"Times New Roman\", Times, serif; font-size:16px; color : black'>\n",
    "  Meta characters are special characters that have a special meaning when used in regular expressions. They are used to match specific types of characters, such as digits, whitespace, or any character. Sed supports the use of several metacharacters, including:\n",
    "\n",
    "</p><br>\n",
    "<p align='justify' style='margin: 10px 20px; line-height:1.5; font-family: \"Times New Roman\", Times, serif; font-size:16px; color : purple'>\n",
    "    \n",
    "    \n",
    "  <ul style='font-family: \"Times New Roman\", Times, serif; font-weight:light; font-size:16px;'>\n",
    "      <li><b>. :  </b> Matches any single character</li>\n",
    "      <li><b>* : </b>  Matches zero or more occurrences of the preceding character or expression</li>\n",
    "      <li><b>^ : </b> Matches the start of a line</li>\n",
    "      <li><b>$ :  </b> Matches the end of a line</li>\n",
    "      <li><b>[] : </b> Matches any one of the characters enclosed within the square brackets</li>\n",
    "      <li><b>[^] :  </b> Matches any one character not enclosed within the square brackets</li>\n",
    "      <li><b>\\ :  </b> Escapes the special meaning of the following character</li>\n",
    "      \n",
    "      \n",
    "\n",
    "  </ul>\n",
    "</p>"
   ]
  },
  {
   "cell_type": "markdown",
   "id": "0618bcfa",
   "metadata": {
    "slideshow": {
     "slide_type": "subslide"
    }
   },
   "source": [
    "<h3 style='color:red; font-weight:bold; text-align:center; font-family: \"Times New Roman\", Times, serif;'>Explanation of metacharacters in sed:</h3> <br>\n",
    "\n",
    "<p align='justify' style='margin: 10px 20px; line-height:1.5; font-family: \"Times New Roman\", Times, serif; font-size:16px; color : purple'>\n",
    "    \n",
    "    \n",
    "  <ul style='font-family: \"Times New Roman\", Times, serif; font-weight:light; font-size:16px;'>\n",
    "      <li>The <strong>\".\"</strong> metacharacter is used to match any single character, for example <b>.at</b> will match <b>\"cat\"</b>, <b>\"rat\"</b> or <b>\"bat\"</b></li>\n",
    "      <li> The <strong>\"*\"</strong> metacharacter is used to match zero or more occurrences of the preceding character or expression, for example <b>ca*t</b> will match <b>\"ct\"</b>, <b>\"cat\"</b> or <b>\"caaaat\"</b></li>\n",
    "      <li>The <strong>\"^\"</strong> metacharacter is used to match the start of a line, for example <b>^This</b> will match any line that starts with <b>\"This</b></li>\n",
    "      <li> The <b>\"\\$\" </b> metacharacter is used to match the end of a line, for example <b>end$</b> will match any line that ends with \"end\"</li>\n",
    "      <li>The <b>\"[]\"</b> metacharacter is used to match any one of the characters enclosed within the square brackets, for example <strong>[abc]at</strong> will match <b>\"cat\"</b>, <b>\"bat\"</b> or <b>\"rat\"</b></li>\n",
    "      <li>The <strong>[^]</strong> metacharacter is used to match any one character not enclosed within the square brackets, for example <strong>[^abc]at</strong> will match any <strong>\"at\"</strong> that is not followed by <strong>\"a\", \"b\" or \"c\"</strong></li>\n",
    "      <li>The <strong>\"\\\"</strong> metacharacter is used to escape the special meaning of the following character, for example <strong>\\$100</strong> will match the string <strong>\"\\$100\"</strong> and not the end of the line.</li>\n",
    "      \n",
    "      \n",
    "      \n",
    "\n",
    "  </ul>\n",
    "</p>"
   ]
  },
  {
   "cell_type": "markdown",
   "id": "e8a0f749",
   "metadata": {
    "slideshow": {
     "slide_type": "subslide"
    }
   },
   "source": [
    "<h3 style='color:red; font-weight:bold; text-align:center; font-family: \"Times New Roman\", Times, serif;'>Hands-on exercises:</h3> \n",
    "<p align='justify' style='margin: 10px 20px; line-height:1.5; font-family: \"Times New Roman\", Times, serif; font-size:16px; color : purple'>\n",
    "  In this section, we will provide a set of hands-on exercises to help attendees practice using metacharacters in sed.\n",
    "\n",
    "</p><br>\n",
    "<p align='justify' style='margin: 10px 20px; line-height:1.5; font-family: \"Times New Roman\", Times, serif; font-size:16px; color : black'>\n",
    "    <strong>Exercise 1: Using the . metacharacter</strong><br><br> In this exercise, we will use the . metacharacter to match any single character in a file called input.txt <br><br><strong> Step 1: Create a file called input.txt and add the following text:</strong><br><br> cat<br>\n",
    "bat<br>\n",
    "rat<br>\n",
    "\n",
    "\n",
    "\n",
    "\n",
    "</p><br>\n",
    "<p align='justify' style='margin: 10px 20px; line-height:1.5; font-family: \"Times New Roman\", Times, serif; font-size:16px; color : purple'>\n",
    "    Step 2: Use the sed command to match any line that ends with \"at\"\n",
    "</p>"
   ]
  },
  {
   "cell_type": "code",
   "execution_count": 5,
   "id": "2dd2d202",
   "metadata": {
    "scrolled": false,
    "slideshow": {
     "slide_type": "subslide"
    }
   },
   "outputs": [
    {
     "name": "stdout",
     "output_type": "stream",
     "text": [
      "cat\n",
      "bat\n",
      "rat\n"
     ]
    }
   ],
   "source": [
    "%%bash\n",
    "sed -n '/at$/p' input4.txt"
   ]
  },
  {
   "cell_type": "markdown",
   "id": "81f133dd",
   "metadata": {
    "slideshow": {
     "slide_type": "subslide"
    }
   },
   "source": [
    "<p align='justify' style='margin: 10px 20px; line-height:1.5; font-family: \"Times New Roman\", Times, serif; font-size:16px; color : purple'>\n",
    "    As you can see, the sed command has matched all lines that ends with \"at\"\n",
    "\n",
    "</p><br>\n",
    "<p align='justify' style='margin: 10px 20px; line-height:1.5; font-family: \"Times New Roman\", Times, serif; font-size:16px; color : black'>\n",
    "    <strong>Exercise 2: Using the * metacharacter </strong> <br><br> In this exercise, we will use the * metacharacter to match zero or more occurrences of the preceding character in a file called input.txt <br><br><strong> Step 1: Create a file called input5.txt </strong><br><br> cat\n",
    "<br>caat<br>\n",
    "caaaat\n",
    "\n",
    "</p>"
   ]
  },
  {
   "cell_type": "code",
   "execution_count": 6,
   "id": "a7b25b85",
   "metadata": {
    "slideshow": {
     "slide_type": "subslide"
    }
   },
   "outputs": [
    {
     "name": "stdout",
     "output_type": "stream",
     "text": [
      "cat\n",
      "caat\n",
      "caaaat\n"
     ]
    }
   ],
   "source": [
    "%%bash\n",
    "sed -n '/ca*t/p' input5.txt"
   ]
  },
  {
   "cell_type": "markdown",
   "id": "b71420bb",
   "metadata": {
    "slideshow": {
     "slide_type": "subslide"
    }
   },
   "source": [
    "<p align='justify' style='margin: 10px 20px; line-height:1.5; font-family: \"Times New Roman\", Times, serif; font-size:16px; color : purple'>\n",
    "    As you can see, the sed command has matched all lines that starts with \"ca\" and ends with \"t\" and also those lines that have multiple \"a\" between \"ca\" and \"t\"\n",
    "</p><br>\n",
    "<p align='justify' style='margin: 10px 20px; line-height:1.5; font-family: \"Times New Roman\", Times, serif; font-size:16px; color : black'>\n",
    "    <strong>Exercise 3: Using the ^ and \\$ metacharacters </strong> <br><br> In this exercise, we will use the ^ and $ metacharacters to match the start and end of a line in a file called input6.txt <br><br> <strong>Step 1: Create a file called input.txt and add the following text:</strong> <br><br>This is line 1<br>\n",
    "This is line 2<br>\n",
    "This is line 3 <br><br> <strong>Step 2: Use the sed command to match any line that starts with \"This\" and ends with \"1\"</strong>\n",
    "\n",
    "\n",
    "\n",
    "</p>"
   ]
  },
  {
   "cell_type": "code",
   "execution_count": 7,
   "id": "bb2108f2",
   "metadata": {
    "slideshow": {
     "slide_type": "subslide"
    }
   },
   "outputs": [
    {
     "name": "stdout",
     "output_type": "stream",
     "text": [
      "This is line 1\n"
     ]
    }
   ],
   "source": [
    "%%bash\n",
    "sed -n '/^This.*1$/p' input6.txt"
   ]
  },
  {
   "cell_type": "markdown",
   "id": "6e25f308",
   "metadata": {
    "slideshow": {
     "slide_type": "subslide"
    }
   },
   "source": [
    "<p align='justify' style='margin: 10px 20px; line-height:1.5; font-family: \"Times New Roman\", Times, serif; font-size:16px; color : purple'>\n",
    "    As you can see, the sed command has matched only the line that starts with \"This\" and ends with \"1\"\n",
    "\n",
    "\n",
    "\n",
    "</p><br>\n",
    "<p align='justify' style='margin: 10px 20px; line-height:1.5; font-family: \"Times New Roman\", Times, serif; font-size:16px; color : black'>\n",
    "    <strong>Exercise 4: Using the [] and [^] metacharacters</strong> <br><br> In this exercise, we will use the [] and [^] metacharacters to match any one of the characters enclosed within the square brackets and any one character not enclosed within the square brackets in a file called input7.txt <br><br> <strong>Step 1: Create a file called input.txt and add the following text:</strong> <br><br>cat\n",
    "<br>bat<br>\n",
    "rat<br><br> <strong> Step 2: Use the sed command to match any line that starts with \"c\" or \"b\" and ends with \"at\"</strong>\n",
    "\n",
    "</p>"
   ]
  },
  {
   "cell_type": "code",
   "execution_count": 9,
   "id": "be4f2a1d",
   "metadata": {
    "slideshow": {
     "slide_type": "subslide"
    }
   },
   "outputs": [],
   "source": [
    "%%bash\n",
    "sed -n '/[cb]at/p' input6.txt"
   ]
  },
  {
   "cell_type": "markdown",
   "id": "4029bf7b",
   "metadata": {
    "slideshow": {
     "slide_type": "subslide"
    }
   },
   "source": [
    "<p align='justify' style='margin: 10px 20px; line-height:1.5; font-family: \"Times New Roman\", Times, serif; font-size:16px; color : purple'>\n",
    "    As you can see, the sed command has matched only the line that starts with \"This\" and ends with \"1\"\n",
    "</p><br>\n",
    "<p align='justify' style='margin: 10px 20px; line-height:1.5; font-family: \"Times New Roman\", Times, serif; font-size:16px; color : black'>\n",
    "    <strong>Exercise 5: Using the \\ metacharacter</strong> <br><br>In this exercise, we will use the \\ metacharacter to escape the special meaning of the following character in a file called input.txt <br><br> <strong>Step 1: Create a file called input.txt and add the following text:</strong> <br><br> This line contains \\$100<br>\n",
    "<strong>This line contains 100$ <br><br> Step 2: Use the sed command to match any line that contains \"\\$100\"</strong>\n",
    "\n",
    "</p>"
   ]
  },
  {
   "cell_type": "code",
   "execution_count": 10,
   "id": "19a789f4",
   "metadata": {
    "slideshow": {
     "slide_type": "subslide"
    }
   },
   "outputs": [
    {
     "name": "stdout",
     "output_type": "stream",
     "text": [
      "This line contains $100\n"
     ]
    }
   ],
   "source": [
    "%%bash\n",
    "sed -n '/\\$100/p' input7.txt"
   ]
  },
  {
   "cell_type": "markdown",
   "id": "765c1c82",
   "metadata": {
    "slideshow": {
     "slide_type": "subslide"
    }
   },
   "source": [
    "<p align='justify' style='margin: 10px 20px; line-height:1.5; font-family: \"Times New Roman\", Times, serif; font-size:16px; color : purple'>\n",
    "    This session covered the use of metacharacters in sed and provided hands-on exercises to help attendees understand how to use them in their text processing tasks. By the end of this session, attendees should be able to use metacharacters in sed to match specific types of characters, such as digits, whitespace, or any character.\n",
    "</p><br><br>\n",
    "<h3 style='color:red; font-weight:bold; text-align:center; font-family: \"Times New Roman\", Times, serif;'>EXERECISE 13: Meta characters in Sed\n",
    "\n",
    "</h3>\n",
    "<p align='justify' style='margin: 10px 20px; line-height:1.5; font-family: \"Times New Roman\", Times, serif; font-size:16px;'>\n",
    "    \n",
    "    \n",
    "  <ul style='font-family: \"Times New Roman\", Times, serif; font-weight:light; font-size:16px;'>\n",
    "      <li><b>What are metacharacters and how are they used in sed?</b></li>\n",
    "      <li><b>How do you use the dot (.) metacharacter to match any character in sed?</b></li>\n",
    "      <li><b>What is the difference between the star (*) and plus (+) metacharacters in sed?</b></li>\n",
    "      <li><b>How do you use the question mark (?) metacharacter to match zero or one occurrences of a character in sed?</b></li>\n",
    "      <li><b>How do you use the square brackets ([]) metacharacter to match a range of characters in sed?</b></li>\n",
    "      <li><b>How do you use the square brackets ([]) metacharacter to match a range of characters in sed?</b></li>\n",
    "      \n",
    "      \n",
    "     \n",
    "    \n",
    "  </ul>\n",
    "</p>"
   ]
  },
  {
   "cell_type": "markdown",
   "id": "59150809",
   "metadata": {
    "slideshow": {
     "slide_type": "subslide"
    }
   },
   "source": [
    "<h2 style='color:red; font-weight:bold; text-align:center; font-family: \"Times New Roman\", Times, serif;'>EXTENTIONS IN SED</h2> \n",
    "<img src=\"og.jpeg\" width=\"150\" height=\"250\" style=\"float: left; margin-right: 20px; margin-left: 20px;\">\n",
    "<p align='justify' style='margin: 10px 20px; line-height:1.5; font-family: \"Times New Roman\", Times, serif; font-size:16px; color : black'>\n",
    "  sed is a powerful tool for text processing, but its capabilities can be extended even further through the use of extensions. These extensions are not part of the standard sed distribution, but they are widely available and can be easily installed.\n",
    "\n",
    "</p><br>\n",
    "<p align='justify' style='margin: 10px 20px; line-height:1.5; font-family: \"Times New Roman\", Times, serif; font-size:16px; color : purple'>\n",
    "    <strong>Some common sed extensions include:</strong>\n",
    "    \n",
    "  <ul style='font-family: \"Times New Roman\", Times, serif; font-weight:light; font-size:16px;'>\n",
    "      <li><strong>GNU sed:</strong> This extension provides additional features such as in-place editing, backups, and extended regular expressions</li><br>\n",
    "      <li><strong>sed-awk: </strong> This extension provides additional features such as in-place editing, backups, and extended regular expressions</li><br>\n",
    "      <li><strong>ssed-perl: </strong> This extension provides additional features such as Perl regular expressions and the ability to use Perl code within sed commands\n",
    "</li>\n",
    "      \n",
    "\n",
    "  </ul>\n",
    "</p>"
   ]
  },
  {
   "cell_type": "markdown",
   "id": "73bd661f",
   "metadata": {
    "slideshow": {
     "slide_type": "subslide"
    }
   },
   "source": [
    "<p align='justify' style='margin: 10px 20px; line-height:1.5; font-family: \"Times New Roman\", Times, serif; font-size:16px; color : purple'>\n",
    "    <strong>Example 1: Using the GNU sed extension</strong>\n",
    "\n",
    "</p>\n",
    "<p align='justify' style='margin: 10px 20px; line-height:1.5; font-family: \"Times New Roman\", Times, serif; font-size:16px; color : black'>\n",
    "  In this exercise, we will use the GNU sed extension to perform an in-place editing of a file called input8.txt<br><br> <strong>Step 1: Create a file called input.txt and add the following text:</strong><br>This is line 1<br>\n",
    "This is line 2<br>\n",
    "This is line 3 <br><br> <strong>Step 2: Use the sed command with the GNU sed extension to replace all occurrences of the word \"line\" with \"sentence\" in input.txt and create a backup file</strong>\n",
    "\n",
    "\n",
    "\n",
    "</p>\n"
   ]
  },
  {
   "cell_type": "code",
   "execution_count": 12,
   "id": "ed1f8697",
   "metadata": {
    "slideshow": {
     "slide_type": "subslide"
    }
   },
   "outputs": [],
   "source": [
    "%%bash\n",
    "sed -i.bak 's/line/sentence/g' input8.txt"
   ]
  },
  {
   "cell_type": "markdown",
   "id": "00721271",
   "metadata": {
    "slideshow": {
     "slide_type": "subslide"
    }
   },
   "source": [
    "<p align='justify' style='margin: 10px 20px; line-height:1.5; font-family: \"Times New Roman\", Times, serif; font-size:16px; color : black'>\n",
    "  As you can see, the sed command has replaced all occurrences of the word \"line\" with \"sentence\" in the input8.txt file. A backup file named input.txt.bak has also been created.\n",
    "</p><br>\n",
    "<p align='justify' style='margin: 10px 20px; line-height:1.5; font-family: \"Times New Roman\", Times, serif; font-size:16px; color : purple'>\n",
    "    <strong>Exercise 2: Using the sed-awk extension</strong><br><br> In this exercise, we will use the sed-awk extension to add a line number to each line of a file called input.txt\n",
    "\n",
    "</p><br>\n",
    "<p align='justify' style='margin: 10px 20px; line-height:1.5; font-family: \"Times New Roman\", Times, serif; font-size:16px; color : black'>\n",
    "    <strong>Step 1: Create a file called input.txt and add the following text:</strong><br>This is line 1<br>\n",
    "This is line 2<br>\n",
    "This is line 3 <br><br> <strong>Step 2: Use the sed command with the sed-awk extension to add a line number to each line of input.txt</strong>\n",
    "\n",
    "</p>"
   ]
  },
  {
   "cell_type": "code",
   "execution_count": null,
   "id": "bcb6bf8a",
   "metadata": {
    "slideshow": {
     "slide_type": "subslide"
    }
   },
   "outputs": [],
   "source": [
    "sed -f - input8.txt <<EOF\n",
    "{\n",
    "  i=1\n",
    "  :loop\n",
    "  {\n",
    "    print i \": \" $0\n",
    "    i++\n",
    "    n\n",
    "  }\n",
    "}\n",
    "EOF"
   ]
  },
  {
   "cell_type": "markdown",
   "id": "8a502e6a",
   "metadata": {
    "slideshow": {
     "slide_type": "subslide"
    }
   },
   "source": [
    "<p align='justify' style='margin: 10px 20px; line-height:1.5; font-family: \"Times New Roman\", Times, serif; font-size:16px; color : purple'>\n",
    "  As you can see, the sed command has added a line number to each line of the input.txt file using the sed-awk extension\n",
    "</p><br>\n",
    "<p align='justify' style='margin: 10px 20px; line-height:1.5; font-family: \"Times New Roman\", Times, serif; font-size:16px; color : black'>\n",
    "    <strong>Exercise 3: Using the sed-perl extension</strong><br><br> In this exercise, we will use the sed-perl extension to perform a text transformation using a Perl regular expression on a file called input.txt<br><br><strong> Step 1: Create a file called input.txt and add the following text:</strong><br><br>This is line 1\n",
    "<br>This is line 2<br>\n",
    "This is line 3\n",
    "\n",
    "</p><br>\n",
    "<p align='justify' style='margin: 10px 20px; line-height:1.5; font-family: \"Times New Roman\", Times, serif; font-size:16px; color : purple'>\n",
    "  Step 2: Use the sed command with the sed-perl extension to replace all occurrences of the word \"line\" with \"sentence\" in input.txt using a Perl regular expression\n",
    "</p>"
   ]
  },
  {
   "cell_type": "code",
   "execution_count": 15,
   "id": "dbdec566",
   "metadata": {
    "slideshow": {
     "slide_type": "subslide"
    }
   },
   "outputs": [
    {
     "name": "stdout",
     "output_type": "stream",
     "text": [
      "Here is an example of an until loop that counts down from 10 to 1:\n",
      "The loop will continue to execute as long as the value of counter is greater than 0. On each iteration of the loop, the value of counter is printed to the screen and then decremented by 1 using the $((counter-1)) expression.\n",
      "\n",
      "Here is another example of an until loop that reads sentences from a file and prints them to the screen until it reaches the end of the file:\n"
     ]
    }
   ],
   "source": [
    "%%bash\n",
    "sed -r 's/line/sentence/g' input.txt"
   ]
  },
  {
   "cell_type": "markdown",
   "id": "8b588ca0",
   "metadata": {
    "slideshow": {
     "slide_type": "subslide"
    }
   },
   "source": [
    "<p align='justify' style='margin: 10px 20px; line-height:1.5; font-family: \"Times New Roman\", Times, serif; font-size:16px; color : black'>\n",
    "  As you can see, the sed command has replaced all occurrences of the word \"line\" with \"sentence\" in the input.txt file using a Perl regular expression.\n",
    "</p><br>\n",
    "<p align='justify' style='margin: 10px 20px; line-height:1.5; font-family: \"Times New Roman\", Times, serif; font-size:16px; color : purple'>\n",
    "   This session covered the use of extensions in sed and provided hands-on exercises to help attendees understand how to use them in their text processing tasks. By the end of this session, attendees should be familiar with the additional features and capabilities provided by extensions such as GNU sed, sed-awk, and sed-perl and be able to use them to perform advanced text transformations.\n",
    "</p><br>\n",
    "<p align='justify' style='margin: 10px 20px; line-height:1.5; font-family: \"Times New Roman\", Times, serif; font-size:16px; color : purple'>\n",
    "    This session covered the use of metacharacters in sed and provided hands-on exercises to help attendees understand how to use them in their text processing tasks. By the end of this session, attendees should be able to use metacharacters in sed to match specific types of characters, such as digits, whitespace, or any character.\n",
    "</p><br><br>\n",
    "<h3 style='color:red; font-weight:bold; text-align:center; font-family: \"Times New Roman\", Times, serif;'>EXERECISE 14: Extensions in Sed\n",
    "\n",
    "</h3>\n",
    "<p align='justify' style='margin: 10px 20px; line-height:1.5; font-family: \"Times New Roman\", Times, serif; font-size:16px;'>\n",
    "    \n",
    "    \n",
    "  <ul style='font-family: \"Times New Roman\", Times, serif; font-weight:light; font-size:16px;'>\n",
    "      <li><b>What is the difference between the standard sed command and the GNU sed extension?</b></li>\n",
    "      <li><b>How can the sed-perl extension be used to improve the functionality of sed?</b></li>\n",
    "      <li><b>Can you provide an example of a use case where the sed-awk extension would be useful?</b></li>\n",
    "      <li><b>How do the sed-ed extension's commands differ from the standard sed commands?</b></li>\n",
    "      <li><b>How does the sed-awk extension differ from the standard awk command?</b></li>\n",
    "      \n",
    "      \n",
    "     \n",
    "    \n",
    "  </ul>\n",
    "</p>"
   ]
  },
  {
   "cell_type": "markdown",
   "id": "429f28e3",
   "metadata": {
    "slideshow": {
     "slide_type": "subslide"
    }
   },
   "source": [
    "<h2 style='color:red; font-weight:bold; text-align:center; font-family: \"Times New Roman\", Times, serif;'>EGREP AND OTHER SIMILAR FILTERS</h2> \n",
    "<img src=\"icona_comando_egrep.jpg\" width=\"150\" height=\"250\" style=\"float: left; margin-right: 20px; margin-left: 20px;\">\n",
    "<p align='justify' style='margin: 10px 20px; line-height:1.5; font-family: \"Times New Roman\", Times, serif; font-size:16px; color : black'>\n",
    "    <strong>egrep (extended grep)</strong> is a command-line tool used for searching for text patterns in a file or stream. It is similar to the standard grep command, but it provides additional features such as support for extended regular expressions and the ability to search for multiple patterns at once. <br><br> egrep uses regular expressions, which are a way to specify patterns of text using a combination of characters and special symbols. Regular expressions are a powerful tool for text processing and can be used to match specific patterns of text, such as words, numbers, or specific characters. <br><br> <strong>Here are some examples of how you might use egrep:</strong> <br><br> Search for a specific word in a file:\n",
    "\n",
    "\n",
    "\n",
    "\n",
    "</p>"
   ]
  },
  {
   "cell_type": "code",
   "execution_count": 19,
   "id": "337438fe",
   "metadata": {
    "slideshow": {
     "slide_type": "subslide"
    }
   },
   "outputs": [
    {
     "name": "stdout",
     "output_type": "stream",
     "text": [
      "egrep uses regular expressions, which are a way to specify patterns of text using a combination of characters and special symbols. Regular expressions are a powerful tool for text processing and can be used to match specific patterns of text, such as words, numbers, or specific characters.\n",
      "Search for a specific word in a file:\n"
     ]
    }
   ],
   "source": [
    "%%bash \n",
    "egrep \"word\" input10.txt"
   ]
  },
  {
   "cell_type": "markdown",
   "id": "d71d9b38",
   "metadata": {
    "slideshow": {
     "slide_type": "subslide"
    }
   },
   "source": [
    "<p align='justify' style='margin: 10px 20px; line-height:1.5; font-family: \"Times New Roman\", Times, serif; font-size:16px; color : purple'>\n",
    "   This command will search for the word \"word\" in the file input.txt and print all the lines that contain it.\n",
    "</p><br>\n",
    "<p align='justify' style='margin: 10px 20px; line-height:1.5; font-family: \"Times New Roman\", Times, serif; font-size:16px; color : black'>\n",
    "    <strong>Search for multiple patterns in a file:</strong>\n",
    "</p>"
   ]
  },
  {
   "cell_type": "code",
   "execution_count": null,
   "id": "7ca64b90",
   "metadata": {
    "slideshow": {
     "slide_type": "subslide"
    }
   },
   "outputs": [],
   "source": [
    "%%bash\n",
    "egrep \"word1|word2\" input10.txt"
   ]
  },
  {
   "cell_type": "markdown",
   "id": "75ce0577",
   "metadata": {
    "slideshow": {
     "slide_type": "subslide"
    }
   },
   "source": [
    "<p align='justify' style='margin: 10px 20px; line-height:1.5; font-family: \"Times New Roman\", Times, serif; font-size:16px; color : black'>\n",
    "   This command will search for the word \"word1\" or \"word2\" in the file input.txt and print all the lines that contain either of them.<br><br><strong>Search for a pattern using a regular expression:</strong>\n",
    "\n",
    "</p>"
   ]
  },
  {
   "cell_type": "code",
   "execution_count": null,
   "id": "3108aea9",
   "metadata": {
    "slideshow": {
     "slide_type": "subslide"
    }
   },
   "outputs": [],
   "source": [
    "%%bash\n",
    "egrep \"[0-9]+\" input.txt"
   ]
  },
  {
   "cell_type": "markdown",
   "id": "78609c4d",
   "metadata": {
    "slideshow": {
     "slide_type": "subslide"
    }
   },
   "source": [
    "<p align='justify' style='margin: 10px 20px; line-height:1.5; font-family: \"Times New Roman\", Times, serif; font-size:16px; color : purple'>\n",
    "    This command will search for any sequences of one or more digits in the file input.txt and print all the lines that contain them.<br><br> egrep is widely used in Unix-like systems, but also available on other platforms, it's a powerful tool to search for specific patterns, text or regular expressions in large files. With the ability to search for multiple patterns or using regular expressions, it can be a powerful tool to automate text processing tasks.\n",
    "\n",
    "</p>"
   ]
  },
  {
   "cell_type": "markdown",
   "id": "5755ea56",
   "metadata": {
    "slideshow": {
     "slide_type": "subslide"
    }
   },
   "source": [
    "<h2 style='color:red; font-weight:bold; text-align:center; font-family: \"Times New Roman\", Times, serif;'>FGREP</h2> \n",
    "<img src=\"icona_comando_fgrep.jpg\" width=\"150\" height=\"250\" style=\"float: left; margin-right: 20px; margin-left: 20px;\">\n",
    "<p align='justify' style='margin: 10px 20px; line-height:1.5; font-family: \"Times New Roman\", Times, serif; font-size:16px; color : black'>\n",
    "    <strong>fgrep (fast grep)</strong> is a command-line tool used for searching for fixed strings in a file or stream. It is similar to the egrep command, but it searches for fixed strings instead of regular expressions. This means that it is not able to use the special characters used in regular expressions to match patterns, but it can be faster than egrep for searching for large numbers of fixed strings. <br><br>fgrep works by searching for the exact string of characters you specify, rather than interpreting them as a regular expression. This makes fgrep faster than egrep for searching for large numbers of fixed strings.<br><br><strong> Here are some examples of how you might use fgrep:</strong> <br><br> Search for a specific word in a file:\n",
    "\n",
    "</p>"
   ]
  },
  {
   "cell_type": "code",
   "execution_count": null,
   "id": "9cb5a937",
   "metadata": {
    "slideshow": {
     "slide_type": "subslide"
    }
   },
   "outputs": [],
   "source": [
    "fgrep \"word\" input.txt"
   ]
  },
  {
   "cell_type": "markdown",
   "id": "b977d2c5",
   "metadata": {
    "slideshow": {
     "slide_type": "subslide"
    }
   },
   "source": [
    "<p align='justify' style='margin: 10px 20px; line-height:1.5; font-family: \"Times New Roman\", Times, serif; font-size:16px; color : black'>\n",
    "    This command will search for the word \"word\" in the file input.txt and print all the lines that contain it. <br><br> <strong>Search for multiple patterns in a file:</strong>\n",
    "\n",
    "</p>"
   ]
  },
  {
   "cell_type": "code",
   "execution_count": null,
   "id": "2edf1129",
   "metadata": {
    "slideshow": {
     "slide_type": "subslide"
    }
   },
   "outputs": [],
   "source": [
    "fgrep \"word1\" input.txt | fgrep \"word2\""
   ]
  },
  {
   "cell_type": "markdown",
   "id": "1f01d980",
   "metadata": {
    "slideshow": {
     "slide_type": "subslide"
    }
   },
   "source": [
    "<p align='justify' style='margin: 10px 20px; line-height:1.5; font-family: \"Times New Roman\", Times, serif; font-size:16px; color : black'>\n",
    "    This command will search for the word \"word1\" and \"word2\" in the file input.txt and print all the lines that contain both of them.<br><br><strong> Search for a pattern containing special characters:</strong>\n",
    "\n",
    "</p>"
   ]
  },
  {
   "cell_type": "code",
   "execution_count": null,
   "id": "49281ef1",
   "metadata": {
    "slideshow": {
     "slide_type": "subslide"
    }
   },
   "outputs": [],
   "source": [
    "fgrep \"^This\" input.txt"
   ]
  },
  {
   "cell_type": "markdown",
   "id": "4f4365f8",
   "metadata": {
    "slideshow": {
     "slide_type": "subslide"
    }
   },
   "source": [
    "<p align='justify' style='margin: 10px 20px; line-height:1.5; font-family: \"Times New Roman\", Times, serif; font-size:16px; color : black'>\n",
    "    This command will search for the word \"word1\" and \"word2\" in the file input.txt and print all the lines that contain both of them. <br><br><strong>Search for a pattern containing special characters:</strong>\n",
    "\n",
    "</p>"
   ]
  },
  {
   "cell_type": "code",
   "execution_count": null,
   "id": "2052ba70",
   "metadata": {},
   "outputs": [],
   "source": [
    "fgrep \"word1\" input.txt | fgrep \"word2\""
   ]
  },
  {
   "cell_type": "markdown",
   "id": "556eba6b",
   "metadata": {
    "slideshow": {
     "slide_type": "subslide"
    }
   },
   "source": [
    "<p align='justify' style='margin: 10px 20px; line-height:1.5; font-family: \"Times New Roman\", Times, serif; font-size:16px; color : purple'>\n",
    "    This command will search for the string \"^This\" in the file input.txt, unlike grep or egrep, the ^ will not be interpreted as a special character, it will be treated as a regular character. <br><br> <strong>fgrep</strong> is a faster alternative to egrep when you are searching for fixed strings, and it doesn't require the use of regular expressions, it's also less memory-intensive when searching for multiple fixed strings. It's a good tool to have in your toolbox if you need to search for fixed strings in a large amount of data.\n",
    "</p>"
   ]
  },
  {
   "cell_type": "markdown",
   "id": "a6313e9d",
   "metadata": {
    "slideshow": {
     "slide_type": "subslide"
    }
   },
   "source": [
    "<h2 style='color:red; font-weight:bold; text-align:center; font-family: \"Times New Roman\", Times, serif;'>GREP - F</h2> \n",
    "<img src=\"EEWMiVwJ.jpeg\" width=\"150\" height=\"250\" style=\"float: left; margin-right: 20px; margin-left: 20px;\">\n",
    "<p align='justify' style='margin: 10px 20px; line-height:1.5; font-family: \"Times New Roman\", Times, serif; font-size:16px; color : black'>\n",
    "    <strong>grep -F</strong> is a command-line tool used for searching for fixed strings in a file or stream. It is similar to the fgrep command and it also searches for fixed strings instead of regular expressions, but it's implemented as an option in the standard grep command. This means that it is not able to use the special characters used in regular expressions to match patterns, but it can be faster than egrep for searching for large numbers of fixed strings.<br><br> grep -F works by searching for the exact string of characters you specify, rather than interpreting them as a regular expression, it's useful for searching for fixed strings that contain characters that have special meaning in regular expressions.<br><br><br><strong>Here are some examples of how you might use grep -F:</strong>\n",
    "\n",
    "</p><br>\n",
    "<p align='justify' style='margin: 10px 20px; line-height:1.5; font-family: \"Times New Roman\", Times, serif; font-size:16px; color : purple'>\n",
    "    <strong>Search for a specific word in a file:</strong>\n",
    "</p>"
   ]
  },
  {
   "cell_type": "markdown",
   "id": "ee3befa5",
   "metadata": {
    "slideshow": {
     "slide_type": "subslide"
    }
   },
   "source": [
    "grep -F \"word\" input.txt"
   ]
  },
  {
   "cell_type": "markdown",
   "id": "e72334f2",
   "metadata": {
    "slideshow": {
     "slide_type": "subslide"
    }
   },
   "source": [
    "<p align='justify' style='margin: 10px 20px; line-height:1.5; font-family: \"Times New Roman\", Times, serif; font-size:16px; color : black'>\n",
    "    This command will search for the word \"word\" in the file input.txt and print all the lines that contain it. <br>\n",
    "\n",
    "</p><br>\n",
    "<p align='justify' style='margin: 10px 20px; line-height:1.5; font-family: \"Times New Roman\", Times, serif; font-size:16px; color : purple'>\n",
    "    <strong> Search for multiple patterns in a file:</strong>\n",
    "</p>"
   ]
  },
  {
   "cell_type": "code",
   "execution_count": null,
   "id": "645737e2",
   "metadata": {
    "slideshow": {
     "slide_type": "subslide"
    }
   },
   "outputs": [],
   "source": [
    "grep -F \"word1\" input.txt | grep -F \"word2\""
   ]
  },
  {
   "cell_type": "markdown",
   "id": "02bef30a",
   "metadata": {
    "slideshow": {
     "slide_type": "subslide"
    }
   },
   "source": [
    "<p align='justify' style='margin: 10px 20px; line-height:1.5; font-family: \"Times New Roman\", Times, serif; font-size:16px; color : black'>\n",
    "    This command will search for the word \"word1\" and \"word2\" in the file input.txt and print all the lines that contain both of them. <br><br><strong>Search for a pattern containing special characters:</strong>\n",
    "\n",
    "\n",
    "</p>"
   ]
  },
  {
   "cell_type": "code",
   "execution_count": null,
   "id": "f38a3fb4",
   "metadata": {
    "slideshow": {
     "slide_type": "subslide"
    }
   },
   "outputs": [],
   "source": [
    "grep -F \"^This\" input.txt"
   ]
  },
  {
   "cell_type": "markdown",
   "id": "d60d6267",
   "metadata": {
    "slideshow": {
     "slide_type": "subslide"
    }
   },
   "source": [
    "<p align='justify' style='margin: 10px 20px; line-height:1.5; font-family: \"Times New Roman\", Times, serif; font-size:16px; color : purple'>\n",
    "    This command will search for the string \"^This\" in the file input.txt, unlike egrep, the ^ will not be interpreted as a special character, it will be treated as a regular character. <br><br><strong> grep -F</strong> is a faster alternative to egrep when you are searching for fixed strings, it doesn't require the use of regular expressions, it's also less memory-intensive when searching for multiple fixed strings. It's a good tool to have in your toolbox if you need to search for fixed strings in a large amount of data, and it's included in the standard\n",
    "</p>"
   ]
  },
  {
   "cell_type": "markdown",
   "id": "91cf24b2",
   "metadata": {
    "slideshow": {
     "slide_type": "subslide"
    }
   },
   "source": [
    "<h2 style='color:red; font-weight:bold; text-align:center; font-family: \"Times New Roman\", Times, serif;'>GREP - E</h2> \n",
    "<img src=\"EEWMiVwJ.jpeg\" width=\"150\" height=\"250\" style=\"float: left; margin-right: 20px; margin-left: 20px;\">\n",
    "<p align='justify' style='margin: 10px 20px; line-height:1.5; font-family: \"Times New Roman\", Times, serif; font-size:16px; color : black'>\n",
    "    <strong>grep -E</strong> is a command-line tool used for searching for text patterns in a file or stream using extended regular expressions. It is similar to the standard grep command, but it provides additional features such as support for extended regular expressions <br><br> In contrast to regular expressions, which are limited in their capabilities, extended regular expressions allow for more powerful pattern matching and manipulation. This allows for more complex and specific searches. <br><br><br><strong> Here are some examples of how you might use grep -E:</strong> <br><br> Search for a specific word in a file:\n",
    "\n",
    "\n",
    "</p>"
   ]
  },
  {
   "cell_type": "code",
   "execution_count": null,
   "id": "fafb0682",
   "metadata": {
    "slideshow": {
     "slide_type": "subslide"
    }
   },
   "outputs": [],
   "source": [
    "grep -E \"word\" input.txt"
   ]
  },
  {
   "cell_type": "markdown",
   "id": "cbb14627",
   "metadata": {
    "slideshow": {
     "slide_type": "subslide"
    }
   },
   "source": [
    "<p align='justify' style='margin: 10px 20px; line-height:1.5; font-family: \"Times New Roman\", Times, serif; font-size:16px; color : black'>\n",
    "    This command will search for the word \"word\" in the file input.txt and print all the lines that contain it. <br><br> <strong>Search for multiple patterns in a file using alternation:</strong>\n",
    "</p>"
   ]
  },
  {
   "cell_type": "code",
   "execution_count": null,
   "id": "0549d3cb",
   "metadata": {
    "slideshow": {
     "slide_type": "subslide"
    }
   },
   "outputs": [],
   "source": [
    "grep -E \"word1|word2\" input.txt"
   ]
  },
  {
   "cell_type": "markdown",
   "id": "ee8f1e3f",
   "metadata": {
    "slideshow": {
     "slide_type": "subslide"
    }
   },
   "source": [
    "<p align='justify' style='margin: 10px 20px; line-height:1.5; font-family: \"Times New Roman\", Times, serif; font-size:16px; color : black'>\n",
    "    This command will search for the word \"word1\" or \"word2\" in the file input.txt and print all the lines that contain either of them. <br><br><strong> Search for a pattern using a regular expression with a repetition</strong>\n",
    "\n",
    "</p>"
   ]
  },
  {
   "cell_type": "code",
   "execution_count": null,
   "id": "d9e90472",
   "metadata": {
    "slideshow": {
     "slide_type": "subslide"
    }
   },
   "outputs": [],
   "source": [
    "grep -E \"^[a-z]{3,5}$\" input.txt"
   ]
  },
  {
   "cell_type": "markdown",
   "id": "6fd814cb",
   "metadata": {
    "slideshow": {
     "slide_type": "subslide"
    }
   },
   "source": [
    "<p align='justify' style='margin: 10px 20px; line-height:1.5; font-family: \"Times New Roman\", Times, serif; font-size:16px; color : purple'>\n",
    "    This command will search for lines that match the pattern of having from 3 to 5 lowercase letters at the start and the end of the line. <br><br> grep -E is a powerful tool for text processing, it allows for more complex and specific searches, it's widely used in Unix-like systems, but also available on other platforms, it's a good tool to have in your toolbox if you need to search for specific patterns, text or regular expressions in large files.\n",
    "</p>"
   ]
  },
  {
   "cell_type": "markdown",
   "id": "401463bb",
   "metadata": {
    "slideshow": {
     "slide_type": "subslide"
    }
   },
   "source": [
    "<h2 style='color:red; font-weight:bold; text-align:center; font-family: \"Times New Roman\", Times, serif;'>PCREGREP</h2> \n",
    "<img src=\"EEWMiVwJ.jpeg\" width=\"150\" height=\"250\" style=\"float: left; margin-right: 20px; margin-left: 20px;\">\n",
    "<p align='justify' style='margin: 10px 20px; line-height:1.5; font-family: \"Times New Roman\", Times, serif; font-size:16px; color : black'>\n",
    "    pcregrep (Perl-Compatible Regular Expressions grep) is a command-line tool used for searching for text patterns in a file or stream using regular expressions. It is similar to the standard grep command and the egrep command, but it uses the PCRE (Perl-Compatible Regular Expressions) library, which provides additional features such as support for advanced regular expression patterns and the ability to search for multiple patterns at once. <br><br> PCRE is a library that implements Perl-compatible regular expressions, it provides a set of additional features and options like support for lookahead and lookbehind, backreferences, etc... <br><br><strong> Here are some examples of how you might use pcregrep:</strong> <br><br> Search for a specific word in a file:\n",
    "</p>"
   ]
  },
  {
   "cell_type": "code",
   "execution_count": null,
   "id": "d4b51064",
   "metadata": {
    "slideshow": {
     "slide_type": "subslide"
    }
   },
   "outputs": [],
   "source": [
    "pcregrep \"word\" input.txt"
   ]
  },
  {
   "cell_type": "markdown",
   "id": "ef2f6c05",
   "metadata": {
    "slideshow": {
     "slide_type": "subslide"
    }
   },
   "source": [
    "<p align='justify' style='margin: 10px 20px; line-height:1.5; font-family: \"Times New Roman\", Times, serif; font-size:16px; color : purple'>\n",
    "    This command will search for the word \"word\" in the file input.txt and print all the lines that contain it.<br><br><strong>Search for multiple patterns in a file using alternation:</strong>\n",
    "</p>"
   ]
  },
  {
   "cell_type": "code",
   "execution_count": null,
   "id": "d008c453",
   "metadata": {
    "slideshow": {
     "slide_type": "subslide"
    }
   },
   "outputs": [],
   "source": [
    "pcregrep \"(word1|word2)\" input.txt"
   ]
  },
  {
   "cell_type": "markdown",
   "id": "876ddec4",
   "metadata": {
    "slideshow": {
     "slide_type": "subslide"
    }
   },
   "source": [
    "<p align='justify' style='margin: 10px 20px; line-height:1.5; font-family: \"Times New Roman\", Times, serif; font-size:16px; color : purple'>\n",
    "    This command will search for the word \"word1\" or \"word2\" in the file input.txt and print all the lines that contain either of them. <br><br><strong>Search for a pattern using a regular expression with lookahead</strong>\n",
    "\n",
    "</p>"
   ]
  },
  {
   "cell_type": "code",
   "execution_count": null,
   "id": "077ba408",
   "metadata": {
    "slideshow": {
     "slide_type": "subslide"
    }
   },
   "outputs": [],
   "source": [
    "pcregrep \"(?=.*[A-Z].*)(?=.*[0-9].*).{8,}\" input.txt"
   ]
  },
  {
   "cell_type": "markdown",
   "id": "b7d9209e",
   "metadata": {
    "slideshow": {
     "slide_type": "subslide"
    }
   },
   "source": [
    "<p align='justify' style='margin: 10px 20px; line-height:1.5; font-family: \"Times New Roman\", Times, serif; font-size:16px; color : black'>\n",
    "    This command will search for lines that match the pattern of having at least 8 characters, one uppercase letter, and one digit. <br><br> pcregrep is a powerful tool for text processing, it provides a set of additional features and options, it's widely used in Unix-like systems, but also available on other platforms, it's a good tool to have in your toolbox if you need to search for specific patterns, text or regular expressions in large files.\n",
    "\n",
    "</p>"
   ]
  },
  {
   "cell_type": "markdown",
   "id": "44c0363d",
   "metadata": {
    "slideshow": {
     "slide_type": "subslide"
    }
   },
   "source": [
    "<p align='justify' style='margin: 10px 20px; line-height:1.5; font-family: \"Times New Roman\", Times, serif; font-size:16px; color : purple'>\n",
    "    This session covered the use of metacharacters in sed and provided hands-on exercises to help attendees understand how to use them in their text processing tasks. By the end of this session, attendees should be able to use metacharacters in sed to match specific types of characters, such as digits, whitespace, or any character.\n",
    "</p><br><br>\n",
    "<h3 style='color:red; font-weight:bold; text-align:center; font-family: \"Times New Roman\", Times, serif;'>EXERECISE 15: egrep and other filters\n",
    "\n",
    "</h3>\n",
    "<p align='justify' style='margin: 10px 20px; line-height:1.5; font-family: \"Times New Roman\", Times, serif; font-size:16px;'>\n",
    "    \n",
    "    \n",
    "  <ul style='font-family: \"Times New Roman\", Times, serif; font-weight:light; font-size:16px;'>\n",
    "      <li><b>Use the fgrep command to search for a specific word in input.tx</b></li>\n",
    "      <li><b>Use the egrep command to search for a specific regular expression pattern in input.txt</b></li>\n",
    "      <li><b>Use the grep -E command to search for a specific regular expression pattern in input.txt</b></li>\n",
    "      <li><b> Use the grep -F command to search for a specific fixed strings in input.txt</b></li>\n",
    "      <li><b> Use the pcregrep command to search for a specific regular expression pattern in input.txt\n",
    "\n",
    "</b></li>\n",
    "      \n",
    "      \n",
    "     \n",
    "    \n",
    "  </ul>\n",
    "</p>"
   ]
  }
 ],
 "metadata": {
  "celltoolbar": "Slideshow",
  "kernelspec": {
   "display_name": "Python 3 (ipykernel)",
   "language": "python",
   "name": "python3"
  },
  "language_info": {
   "codemirror_mode": {
    "name": "ipython",
    "version": 3
   },
   "file_extension": ".py",
   "mimetype": "text/x-python",
   "name": "python",
   "nbconvert_exporter": "python",
   "pygments_lexer": "ipython3",
   "version": "3.9.13"
  },
  "toc": {
   "base_numbering": 1,
   "nav_menu": {},
   "number_sections": false,
   "sideBar": true,
   "skip_h1_title": false,
   "title_cell": "Table of Contents",
   "title_sidebar": "Contents",
   "toc_cell": false,
   "toc_position": {
    "height": "728px",
    "left": "1235.2px",
    "top": "111.141px",
    "width": "211.996px"
   },
   "toc_section_display": true,
   "toc_window_display": false
  }
 },
 "nbformat": 4,
 "nbformat_minor": 5
}
